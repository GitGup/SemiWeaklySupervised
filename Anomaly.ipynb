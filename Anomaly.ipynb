{
 "cells": [
  {
   "cell_type": "code",
   "execution_count": 28,
   "id": "3a51ad95-8898-4ff8-b34c-32b10200f15c",
   "metadata": {
    "tags": []
   },
   "outputs": [],
   "source": [
    "import numpy as np\n",
    "import matplotlib.pyplot as plt\n",
    "import pandas as pd\n",
    "import random\n",
    "import os\n",
    "\n",
    "import tensorflow as tf\n",
    "from keras.layers import Input, Dense, Dropout, BatchNormalization\n",
    "from keras.models import Model, Sequential\n",
    "from keras.models import model_from_json\n",
    "\n",
    "from sklearn.model_selection import train_test_split\n",
    "from sklearn.metrics import roc_auc_score\n",
    "from sklearn import metrics\n",
    "\n",
    "import wandb\n",
    "from wandb.keras import WandbCallback\n",
    "\n",
    "#custom packages\n",
    "from models import createSimpleModel\n",
    "from landscapes import *"
   ]
  },
  {
   "cell_type": "code",
   "execution_count": 29,
   "id": "5fa34132-ce9d-4c73-b9b8-9c0eb9d473e2",
   "metadata": {
    "tags": []
   },
   "outputs": [
    {
     "name": "stdout",
     "output_type": "stream",
     "text": [
      "[PhysicalDevice(name='/physical_device:GPU:0', device_type='GPU')]\n",
      "Num GPUs Available:  1\n"
     ]
    }
   ],
   "source": [
    "print(tf.config.list_physical_devices('GPU'))\n",
    "# Check if tensorflow is using GPU\n",
    "print(\"Num GPUs Available: \", len(tf.config.list_physical_devices('GPU')))"
   ]
  },
  {
   "cell_type": "markdown",
   "id": "9d1639fc-28b1-4530-ab19-4114c2f0db3c",
   "metadata": {},
   "source": [
    "Referencing: https://arxiv.org/pdf/2212.11285.pdf\n",
    "\n",
    "We start off by loading in 1,000,000 background dijet events and 100,000 signal dijet events. The signal comes from the process Z$\\rightarrow$ X($\\rightarrow$ $q\\bar{q}$) Y$\\rightarrow$($q\\bar{q}$) where Z is 3.5 TeV. X is 500 GeV and Y is 100 GeV. "
   ]
  },
  {
   "cell_type": "code",
   "execution_count": 3,
   "id": "d06476ca-fa7d-4b6a-a05d-3017e5f08798",
   "metadata": {
    "tags": []
   },
   "outputs": [
    {
     "data": {
      "text/html": [
       "<div>\n",
       "<style scoped>\n",
       "    .dataframe tbody tr th:only-of-type {\n",
       "        vertical-align: middle;\n",
       "    }\n",
       "\n",
       "    .dataframe tbody tr th {\n",
       "        vertical-align: top;\n",
       "    }\n",
       "\n",
       "    .dataframe thead th {\n",
       "        text-align: right;\n",
       "    }\n",
       "</style>\n",
       "<table border=\"1\" class=\"dataframe\">\n",
       "  <thead>\n",
       "    <tr style=\"text-align: right;\">\n",
       "      <th></th>\n",
       "      <th>0</th>\n",
       "      <th>1</th>\n",
       "      <th>2</th>\n",
       "      <th>3</th>\n",
       "      <th>4</th>\n",
       "      <th>5</th>\n",
       "      <th>6</th>\n",
       "      <th>7</th>\n",
       "      <th>8</th>\n",
       "      <th>9</th>\n",
       "      <th>...</th>\n",
       "      <th>2091</th>\n",
       "      <th>2092</th>\n",
       "      <th>2093</th>\n",
       "      <th>2094</th>\n",
       "      <th>2095</th>\n",
       "      <th>2096</th>\n",
       "      <th>2097</th>\n",
       "      <th>2098</th>\n",
       "      <th>2099</th>\n",
       "      <th>2100</th>\n",
       "    </tr>\n",
       "  </thead>\n",
       "  <tbody>\n",
       "    <tr>\n",
       "      <th>0</th>\n",
       "      <td>0.324101</td>\n",
       "      <td>-0.361158</td>\n",
       "      <td>2.737669</td>\n",
       "      <td>0.409859</td>\n",
       "      <td>-2.429939</td>\n",
       "      <td>0.729830</td>\n",
       "      <td>0.867922</td>\n",
       "      <td>-2.267777</td>\n",
       "      <td>-1.161310</td>\n",
       "      <td>0.383031</td>\n",
       "      <td>...</td>\n",
       "      <td>0.0</td>\n",
       "      <td>0.0</td>\n",
       "      <td>0.0</td>\n",
       "      <td>0.0</td>\n",
       "      <td>0.0</td>\n",
       "      <td>0.0</td>\n",
       "      <td>0.0</td>\n",
       "      <td>0.0</td>\n",
       "      <td>0.0</td>\n",
       "      <td>0.0</td>\n",
       "    </tr>\n",
       "    <tr>\n",
       "      <th>1</th>\n",
       "      <td>0.646304</td>\n",
       "      <td>-0.539460</td>\n",
       "      <td>-1.386258</td>\n",
       "      <td>0.471293</td>\n",
       "      <td>-1.636572</td>\n",
       "      <td>0.751657</td>\n",
       "      <td>0.453769</td>\n",
       "      <td>-1.099593</td>\n",
       "      <td>-0.393405</td>\n",
       "      <td>0.485929</td>\n",
       "      <td>...</td>\n",
       "      <td>0.0</td>\n",
       "      <td>0.0</td>\n",
       "      <td>0.0</td>\n",
       "      <td>0.0</td>\n",
       "      <td>0.0</td>\n",
       "      <td>0.0</td>\n",
       "      <td>0.0</td>\n",
       "      <td>0.0</td>\n",
       "      <td>0.0</td>\n",
       "      <td>0.0</td>\n",
       "    </tr>\n",
       "    <tr>\n",
       "      <th>2</th>\n",
       "      <td>0.325172</td>\n",
       "      <td>-0.833948</td>\n",
       "      <td>2.404844</td>\n",
       "      <td>1.295058</td>\n",
       "      <td>-2.089618</td>\n",
       "      <td>-1.873342</td>\n",
       "      <td>0.451272</td>\n",
       "      <td>-0.101877</td>\n",
       "      <td>2.217348</td>\n",
       "      <td>0.461293</td>\n",
       "      <td>...</td>\n",
       "      <td>0.0</td>\n",
       "      <td>0.0</td>\n",
       "      <td>0.0</td>\n",
       "      <td>0.0</td>\n",
       "      <td>0.0</td>\n",
       "      <td>0.0</td>\n",
       "      <td>0.0</td>\n",
       "      <td>0.0</td>\n",
       "      <td>0.0</td>\n",
       "      <td>0.0</td>\n",
       "    </tr>\n",
       "    <tr>\n",
       "      <th>3</th>\n",
       "      <td>0.290918</td>\n",
       "      <td>-2.200063</td>\n",
       "      <td>1.630132</td>\n",
       "      <td>0.565028</td>\n",
       "      <td>-1.714345</td>\n",
       "      <td>-2.617103</td>\n",
       "      <td>0.951042</td>\n",
       "      <td>-0.532720</td>\n",
       "      <td>2.941473</td>\n",
       "      <td>0.896248</td>\n",
       "      <td>...</td>\n",
       "      <td>0.0</td>\n",
       "      <td>0.0</td>\n",
       "      <td>0.0</td>\n",
       "      <td>0.0</td>\n",
       "      <td>0.0</td>\n",
       "      <td>0.0</td>\n",
       "      <td>0.0</td>\n",
       "      <td>0.0</td>\n",
       "      <td>0.0</td>\n",
       "      <td>0.0</td>\n",
       "    </tr>\n",
       "    <tr>\n",
       "      <th>4</th>\n",
       "      <td>0.526330</td>\n",
       "      <td>-2.349110</td>\n",
       "      <td>-1.745532</td>\n",
       "      <td>0.542491</td>\n",
       "      <td>-2.080352</td>\n",
       "      <td>-3.044045</td>\n",
       "      <td>0.390727</td>\n",
       "      <td>-1.278563</td>\n",
       "      <td>-2.131058</td>\n",
       "      <td>2.530358</td>\n",
       "      <td>...</td>\n",
       "      <td>0.0</td>\n",
       "      <td>0.0</td>\n",
       "      <td>0.0</td>\n",
       "      <td>0.0</td>\n",
       "      <td>0.0</td>\n",
       "      <td>0.0</td>\n",
       "      <td>0.0</td>\n",
       "      <td>0.0</td>\n",
       "      <td>0.0</td>\n",
       "      <td>1.0</td>\n",
       "    </tr>\n",
       "    <tr>\n",
       "      <th>...</th>\n",
       "      <td>...</td>\n",
       "      <td>...</td>\n",
       "      <td>...</td>\n",
       "      <td>...</td>\n",
       "      <td>...</td>\n",
       "      <td>...</td>\n",
       "      <td>...</td>\n",
       "      <td>...</td>\n",
       "      <td>...</td>\n",
       "      <td>...</td>\n",
       "      <td>...</td>\n",
       "      <td>...</td>\n",
       "      <td>...</td>\n",
       "      <td>...</td>\n",
       "      <td>...</td>\n",
       "      <td>...</td>\n",
       "      <td>...</td>\n",
       "      <td>...</td>\n",
       "      <td>...</td>\n",
       "      <td>...</td>\n",
       "      <td>...</td>\n",
       "    </tr>\n",
       "    <tr>\n",
       "      <th>1099995</th>\n",
       "      <td>0.372368</td>\n",
       "      <td>-1.283898</td>\n",
       "      <td>2.680089</td>\n",
       "      <td>0.511526</td>\n",
       "      <td>-0.216247</td>\n",
       "      <td>1.011824</td>\n",
       "      <td>0.440795</td>\n",
       "      <td>-1.860590</td>\n",
       "      <td>1.395164</td>\n",
       "      <td>1.483386</td>\n",
       "      <td>...</td>\n",
       "      <td>0.0</td>\n",
       "      <td>0.0</td>\n",
       "      <td>0.0</td>\n",
       "      <td>0.0</td>\n",
       "      <td>0.0</td>\n",
       "      <td>0.0</td>\n",
       "      <td>0.0</td>\n",
       "      <td>0.0</td>\n",
       "      <td>0.0</td>\n",
       "      <td>0.0</td>\n",
       "    </tr>\n",
       "    <tr>\n",
       "      <th>1099996</th>\n",
       "      <td>0.587996</td>\n",
       "      <td>-2.347485</td>\n",
       "      <td>0.104980</td>\n",
       "      <td>0.325682</td>\n",
       "      <td>-1.943584</td>\n",
       "      <td>-2.330028</td>\n",
       "      <td>0.700224</td>\n",
       "      <td>-2.161175</td>\n",
       "      <td>0.136797</td>\n",
       "      <td>0.550588</td>\n",
       "      <td>...</td>\n",
       "      <td>0.0</td>\n",
       "      <td>0.0</td>\n",
       "      <td>0.0</td>\n",
       "      <td>0.0</td>\n",
       "      <td>0.0</td>\n",
       "      <td>0.0</td>\n",
       "      <td>0.0</td>\n",
       "      <td>0.0</td>\n",
       "      <td>0.0</td>\n",
       "      <td>0.0</td>\n",
       "    </tr>\n",
       "    <tr>\n",
       "      <th>1099997</th>\n",
       "      <td>0.631419</td>\n",
       "      <td>-0.597308</td>\n",
       "      <td>-2.114541</td>\n",
       "      <td>3.165008</td>\n",
       "      <td>-0.968924</td>\n",
       "      <td>-0.729551</td>\n",
       "      <td>4.613834</td>\n",
       "      <td>-0.989630</td>\n",
       "      <td>-0.724770</td>\n",
       "      <td>3.701483</td>\n",
       "      <td>...</td>\n",
       "      <td>0.0</td>\n",
       "      <td>0.0</td>\n",
       "      <td>0.0</td>\n",
       "      <td>0.0</td>\n",
       "      <td>0.0</td>\n",
       "      <td>0.0</td>\n",
       "      <td>0.0</td>\n",
       "      <td>0.0</td>\n",
       "      <td>0.0</td>\n",
       "      <td>0.0</td>\n",
       "    </tr>\n",
       "    <tr>\n",
       "      <th>1099998</th>\n",
       "      <td>5.084272</td>\n",
       "      <td>-1.004487</td>\n",
       "      <td>1.772670</td>\n",
       "      <td>4.767743</td>\n",
       "      <td>-0.878143</td>\n",
       "      <td>1.713857</td>\n",
       "      <td>10.833469</td>\n",
       "      <td>-0.934815</td>\n",
       "      <td>1.795471</td>\n",
       "      <td>10.265807</td>\n",
       "      <td>...</td>\n",
       "      <td>0.0</td>\n",
       "      <td>0.0</td>\n",
       "      <td>0.0</td>\n",
       "      <td>0.0</td>\n",
       "      <td>0.0</td>\n",
       "      <td>0.0</td>\n",
       "      <td>0.0</td>\n",
       "      <td>0.0</td>\n",
       "      <td>0.0</td>\n",
       "      <td>0.0</td>\n",
       "    </tr>\n",
       "    <tr>\n",
       "      <th>1099999</th>\n",
       "      <td>0.402804</td>\n",
       "      <td>-1.502353</td>\n",
       "      <td>-0.956501</td>\n",
       "      <td>39.444363</td>\n",
       "      <td>-1.502638</td>\n",
       "      <td>-2.056680</td>\n",
       "      <td>62.993420</td>\n",
       "      <td>-1.489037</td>\n",
       "      <td>-2.057546</td>\n",
       "      <td>554.429016</td>\n",
       "      <td>...</td>\n",
       "      <td>0.0</td>\n",
       "      <td>0.0</td>\n",
       "      <td>0.0</td>\n",
       "      <td>0.0</td>\n",
       "      <td>0.0</td>\n",
       "      <td>0.0</td>\n",
       "      <td>0.0</td>\n",
       "      <td>0.0</td>\n",
       "      <td>0.0</td>\n",
       "      <td>0.0</td>\n",
       "    </tr>\n",
       "  </tbody>\n",
       "</table>\n",
       "<p>1100000 rows × 2101 columns</p>\n",
       "</div>"
      ],
      "text/plain": [
       "             0         1         2          3         4         5     \\\n",
       "0        0.324101 -0.361158  2.737669   0.409859 -2.429939  0.729830   \n",
       "1        0.646304 -0.539460 -1.386258   0.471293 -1.636572  0.751657   \n",
       "2        0.325172 -0.833948  2.404844   1.295058 -2.089618 -1.873342   \n",
       "3        0.290918 -2.200063  1.630132   0.565028 -1.714345 -2.617103   \n",
       "4        0.526330 -2.349110 -1.745532   0.542491 -2.080352 -3.044045   \n",
       "...           ...       ...       ...        ...       ...       ...   \n",
       "1099995  0.372368 -1.283898  2.680089   0.511526 -0.216247  1.011824   \n",
       "1099996  0.587996 -2.347485  0.104980   0.325682 -1.943584 -2.330028   \n",
       "1099997  0.631419 -0.597308 -2.114541   3.165008 -0.968924 -0.729551   \n",
       "1099998  5.084272 -1.004487  1.772670   4.767743 -0.878143  1.713857   \n",
       "1099999  0.402804 -1.502353 -0.956501  39.444363 -1.502638 -2.056680   \n",
       "\n",
       "              6         7         8           9     ...  2091  2092  2093  \\\n",
       "0         0.867922 -2.267777 -1.161310    0.383031  ...   0.0   0.0   0.0   \n",
       "1         0.453769 -1.099593 -0.393405    0.485929  ...   0.0   0.0   0.0   \n",
       "2         0.451272 -0.101877  2.217348    0.461293  ...   0.0   0.0   0.0   \n",
       "3         0.951042 -0.532720  2.941473    0.896248  ...   0.0   0.0   0.0   \n",
       "4         0.390727 -1.278563 -2.131058    2.530358  ...   0.0   0.0   0.0   \n",
       "...            ...       ...       ...         ...  ...   ...   ...   ...   \n",
       "1099995   0.440795 -1.860590  1.395164    1.483386  ...   0.0   0.0   0.0   \n",
       "1099996   0.700224 -2.161175  0.136797    0.550588  ...   0.0   0.0   0.0   \n",
       "1099997   4.613834 -0.989630 -0.724770    3.701483  ...   0.0   0.0   0.0   \n",
       "1099998  10.833469 -0.934815  1.795471   10.265807  ...   0.0   0.0   0.0   \n",
       "1099999  62.993420 -1.489037 -2.057546  554.429016  ...   0.0   0.0   0.0   \n",
       "\n",
       "         2094  2095  2096  2097  2098  2099  2100  \n",
       "0         0.0   0.0   0.0   0.0   0.0   0.0   0.0  \n",
       "1         0.0   0.0   0.0   0.0   0.0   0.0   0.0  \n",
       "2         0.0   0.0   0.0   0.0   0.0   0.0   0.0  \n",
       "3         0.0   0.0   0.0   0.0   0.0   0.0   0.0  \n",
       "4         0.0   0.0   0.0   0.0   0.0   0.0   1.0  \n",
       "...       ...   ...   ...   ...   ...   ...   ...  \n",
       "1099995   0.0   0.0   0.0   0.0   0.0   0.0   0.0  \n",
       "1099996   0.0   0.0   0.0   0.0   0.0   0.0   0.0  \n",
       "1099997   0.0   0.0   0.0   0.0   0.0   0.0   0.0  \n",
       "1099998   0.0   0.0   0.0   0.0   0.0   0.0   0.0  \n",
       "1099999   0.0   0.0   0.0   0.0   0.0   0.0   0.0  \n",
       "\n",
       "[1100000 rows x 2101 columns]"
      ]
     },
     "execution_count": 3,
     "metadata": {},
     "output_type": "execute_result"
    }
   ],
   "source": [
    "dir_path = \"/global/cfs/projectdirs/m3246/AnomalyDetection/LHCO/events_anomalydetection.h5\"\n",
    "df_test = pd.read_hdf(\"/global/cfs/projectdirs/m3246/AnomalyDetection/LHCO/events_anomalydetection.h5\")\n",
    "df_test"
   ]
  },
  {
   "cell_type": "code",
   "execution_count": 19,
   "id": "dbf36cb3-02cc-487b-85a7-4fbf5ee16d12",
   "metadata": {
    "tags": []
   },
   "outputs": [
    {
     "data": {
      "text/html": [
       "<div>\n",
       "<style scoped>\n",
       "    .dataframe tbody tr th:only-of-type {\n",
       "        vertical-align: middle;\n",
       "    }\n",
       "\n",
       "    .dataframe tbody tr th {\n",
       "        vertical-align: top;\n",
       "    }\n",
       "\n",
       "    .dataframe thead th {\n",
       "        text-align: right;\n",
       "    }\n",
       "</style>\n",
       "<table border=\"1\" class=\"dataframe\">\n",
       "  <thead>\n",
       "    <tr style=\"text-align: right;\">\n",
       "      <th></th>\n",
       "      <th>pxj1</th>\n",
       "      <th>pyj1</th>\n",
       "      <th>pzj1</th>\n",
       "      <th>mj1</th>\n",
       "      <th>tau1j1</th>\n",
       "      <th>tau2j1</th>\n",
       "      <th>tau3j1</th>\n",
       "      <th>pxj2</th>\n",
       "      <th>pyj2</th>\n",
       "      <th>pzj2</th>\n",
       "      <th>mj2</th>\n",
       "      <th>tau1j2</th>\n",
       "      <th>tau2j2</th>\n",
       "      <th>tau3j2</th>\n",
       "    </tr>\n",
       "  </thead>\n",
       "  <tbody>\n",
       "    <tr>\n",
       "      <th>0</th>\n",
       "      <td>-1467.239990</td>\n",
       "      <td>611.502014</td>\n",
       "      <td>511.101990</td>\n",
       "      <td>38.896000</td>\n",
       "      <td>8.290650</td>\n",
       "      <td>4.836080</td>\n",
       "      <td>4.260190</td>\n",
       "      <td>1403.579956</td>\n",
       "      <td>-674.551025</td>\n",
       "      <td>-451.670990</td>\n",
       "      <td>237.893997</td>\n",
       "      <td>79.815102</td>\n",
       "      <td>21.010300</td>\n",
       "      <td>16.757601</td>\n",
       "    </tr>\n",
       "    <tr>\n",
       "      <th>1</th>\n",
       "      <td>-1211.239990</td>\n",
       "      <td>347.315002</td>\n",
       "      <td>547.963013</td>\n",
       "      <td>389.532013</td>\n",
       "      <td>191.804001</td>\n",
       "      <td>99.562798</td>\n",
       "      <td>70.872200</td>\n",
       "      <td>619.341003</td>\n",
       "      <td>-62.177299</td>\n",
       "      <td>-1944.040039</td>\n",
       "      <td>22.999201</td>\n",
       "      <td>8.042180</td>\n",
       "      <td>6.335090</td>\n",
       "      <td>5.525370</td>\n",
       "    </tr>\n",
       "    <tr>\n",
       "      <th>2</th>\n",
       "      <td>-1229.619995</td>\n",
       "      <td>649.857971</td>\n",
       "      <td>8.089170</td>\n",
       "      <td>72.155502</td>\n",
       "      <td>47.168098</td>\n",
       "      <td>37.243198</td>\n",
       "      <td>33.658199</td>\n",
       "      <td>1196.250000</td>\n",
       "      <td>-647.896973</td>\n",
       "      <td>-1283.109985</td>\n",
       "      <td>78.230698</td>\n",
       "      <td>15.292900</td>\n",
       "      <td>13.944200</td>\n",
       "      <td>10.013500</td>\n",
       "    </tr>\n",
       "    <tr>\n",
       "      <th>3</th>\n",
       "      <td>-693.304016</td>\n",
       "      <td>-1046.729980</td>\n",
       "      <td>1716.910034</td>\n",
       "      <td>55.797798</td>\n",
       "      <td>24.788500</td>\n",
       "      <td>6.890140</td>\n",
       "      <td>5.813400</td>\n",
       "      <td>747.961975</td>\n",
       "      <td>994.250000</td>\n",
       "      <td>-412.966003</td>\n",
       "      <td>359.113007</td>\n",
       "      <td>175.209000</td>\n",
       "      <td>103.500999</td>\n",
       "      <td>84.447098</td>\n",
       "    </tr>\n",
       "    <tr>\n",
       "      <th>4</th>\n",
       "      <td>-1488.199951</td>\n",
       "      <td>-25.370100</td>\n",
       "      <td>-30.989700</td>\n",
       "      <td>84.891502</td>\n",
       "      <td>26.878799</td>\n",
       "      <td>15.517200</td>\n",
       "      <td>13.260400</td>\n",
       "      <td>1415.640015</td>\n",
       "      <td>20.905100</td>\n",
       "      <td>223.630997</td>\n",
       "      <td>77.506500</td>\n",
       "      <td>57.986000</td>\n",
       "      <td>34.147400</td>\n",
       "      <td>26.660601</td>\n",
       "    </tr>\n",
       "    <tr>\n",
       "      <th>...</th>\n",
       "      <td>...</td>\n",
       "      <td>...</td>\n",
       "      <td>...</td>\n",
       "      <td>...</td>\n",
       "      <td>...</td>\n",
       "      <td>...</td>\n",
       "      <td>...</td>\n",
       "      <td>...</td>\n",
       "      <td>...</td>\n",
       "      <td>...</td>\n",
       "      <td>...</td>\n",
       "      <td>...</td>\n",
       "      <td>...</td>\n",
       "      <td>...</td>\n",
       "    </tr>\n",
       "    <tr>\n",
       "      <th>999994</th>\n",
       "      <td>-646.442017</td>\n",
       "      <td>-1295.150024</td>\n",
       "      <td>1331.800049</td>\n",
       "      <td>37.011299</td>\n",
       "      <td>21.006800</td>\n",
       "      <td>12.873700</td>\n",
       "      <td>8.898860</td>\n",
       "      <td>274.566986</td>\n",
       "      <td>1019.390015</td>\n",
       "      <td>-504.290985</td>\n",
       "      <td>90.375000</td>\n",
       "      <td>61.218800</td>\n",
       "      <td>20.514500</td>\n",
       "      <td>15.854600</td>\n",
       "    </tr>\n",
       "    <tr>\n",
       "      <th>999995</th>\n",
       "      <td>-286.550995</td>\n",
       "      <td>-1310.829956</td>\n",
       "      <td>-1510.910034</td>\n",
       "      <td>147.516998</td>\n",
       "      <td>60.997799</td>\n",
       "      <td>41.356201</td>\n",
       "      <td>28.225700</td>\n",
       "      <td>252.884995</td>\n",
       "      <td>1085.420044</td>\n",
       "      <td>759.314026</td>\n",
       "      <td>58.769901</td>\n",
       "      <td>42.276402</td>\n",
       "      <td>8.637120</td>\n",
       "      <td>7.852020</td>\n",
       "    </tr>\n",
       "    <tr>\n",
       "      <th>999996</th>\n",
       "      <td>918.562988</td>\n",
       "      <td>951.195984</td>\n",
       "      <td>-1622.569946</td>\n",
       "      <td>32.242199</td>\n",
       "      <td>5.894110</td>\n",
       "      <td>5.004100</td>\n",
       "      <td>3.992740</td>\n",
       "      <td>-266.285004</td>\n",
       "      <td>-1284.189941</td>\n",
       "      <td>185.007996</td>\n",
       "      <td>136.389008</td>\n",
       "      <td>70.623901</td>\n",
       "      <td>49.508499</td>\n",
       "      <td>40.708599</td>\n",
       "    </tr>\n",
       "    <tr>\n",
       "      <th>999997</th>\n",
       "      <td>1447.219971</td>\n",
       "      <td>-547.710999</td>\n",
       "      <td>827.945007</td>\n",
       "      <td>396.112000</td>\n",
       "      <td>181.406998</td>\n",
       "      <td>152.207993</td>\n",
       "      <td>86.676804</td>\n",
       "      <td>-932.369995</td>\n",
       "      <td>165.005005</td>\n",
       "      <td>-2806.959961</td>\n",
       "      <td>56.471600</td>\n",
       "      <td>14.446400</td>\n",
       "      <td>10.258900</td>\n",
       "      <td>8.874700</td>\n",
       "    </tr>\n",
       "    <tr>\n",
       "      <th>999998</th>\n",
       "      <td>200.035995</td>\n",
       "      <td>-1252.869995</td>\n",
       "      <td>27.924900</td>\n",
       "      <td>363.790985</td>\n",
       "      <td>139.281998</td>\n",
       "      <td>31.751499</td>\n",
       "      <td>22.884300</td>\n",
       "      <td>-583.494995</td>\n",
       "      <td>1096.890015</td>\n",
       "      <td>-1194.410034</td>\n",
       "      <td>105.186996</td>\n",
       "      <td>36.687000</td>\n",
       "      <td>23.652201</td>\n",
       "      <td>19.462601</td>\n",
       "    </tr>\n",
       "  </tbody>\n",
       "</table>\n",
       "<p>999999 rows × 14 columns</p>\n",
       "</div>"
      ],
      "text/plain": [
       "               pxj1         pyj1         pzj1         mj1      tau1j1  \\\n",
       "0      -1467.239990   611.502014   511.101990   38.896000    8.290650   \n",
       "1      -1211.239990   347.315002   547.963013  389.532013  191.804001   \n",
       "2      -1229.619995   649.857971     8.089170   72.155502   47.168098   \n",
       "3       -693.304016 -1046.729980  1716.910034   55.797798   24.788500   \n",
       "4      -1488.199951   -25.370100   -30.989700   84.891502   26.878799   \n",
       "...             ...          ...          ...         ...         ...   \n",
       "999994  -646.442017 -1295.150024  1331.800049   37.011299   21.006800   \n",
       "999995  -286.550995 -1310.829956 -1510.910034  147.516998   60.997799   \n",
       "999996   918.562988   951.195984 -1622.569946   32.242199    5.894110   \n",
       "999997  1447.219971  -547.710999   827.945007  396.112000  181.406998   \n",
       "999998   200.035995 -1252.869995    27.924900  363.790985  139.281998   \n",
       "\n",
       "            tau2j1     tau3j1         pxj2         pyj2         pzj2  \\\n",
       "0         4.836080   4.260190  1403.579956  -674.551025  -451.670990   \n",
       "1        99.562798  70.872200   619.341003   -62.177299 -1944.040039   \n",
       "2        37.243198  33.658199  1196.250000  -647.896973 -1283.109985   \n",
       "3         6.890140   5.813400   747.961975   994.250000  -412.966003   \n",
       "4        15.517200  13.260400  1415.640015    20.905100   223.630997   \n",
       "...            ...        ...          ...          ...          ...   \n",
       "999994   12.873700   8.898860   274.566986  1019.390015  -504.290985   \n",
       "999995   41.356201  28.225700   252.884995  1085.420044   759.314026   \n",
       "999996    5.004100   3.992740  -266.285004 -1284.189941   185.007996   \n",
       "999997  152.207993  86.676804  -932.369995   165.005005 -2806.959961   \n",
       "999998   31.751499  22.884300  -583.494995  1096.890015 -1194.410034   \n",
       "\n",
       "               mj2      tau1j2      tau2j2     tau3j2  \n",
       "0       237.893997   79.815102   21.010300  16.757601  \n",
       "1        22.999201    8.042180    6.335090   5.525370  \n",
       "2        78.230698   15.292900   13.944200  10.013500  \n",
       "3       359.113007  175.209000  103.500999  84.447098  \n",
       "4        77.506500   57.986000   34.147400  26.660601  \n",
       "...            ...         ...         ...        ...  \n",
       "999994   90.375000   61.218800   20.514500  15.854600  \n",
       "999995   58.769901   42.276402    8.637120   7.852020  \n",
       "999996  136.389008   70.623901   49.508499  40.708599  \n",
       "999997   56.471600   14.446400   10.258900   8.874700  \n",
       "999998  105.186996   36.687000   23.652201  19.462601  \n",
       "\n",
       "[999999 rows x 14 columns]"
      ]
     },
     "execution_count": 19,
     "metadata": {},
     "output_type": "execute_result"
    }
   ],
   "source": [
    "df_QCD = pd.read_hdf(\"/global/cfs/projectdirs/m3246/AnomalyDetection/LHCO/events_anomalydetection_DelphesPythia8_v2_qcd_features.h5\")\n",
    "df_QCD"
   ]
  },
  {
   "cell_type": "code",
   "execution_count": 10,
   "id": "01c26fcc-24e2-401e-8f60-c71c168529d4",
   "metadata": {
    "tags": []
   },
   "outputs": [],
   "source": [
    "df = pd.read_hdf(\"/global/cfs/projectdirs/m3246/AnomalyDetection/LHCO/events_anomalydetection_DelphesPythia8_v2_Wprime_features.h5\")"
   ]
  },
  {
   "cell_type": "code",
   "execution_count": 16,
   "id": "874a6f00-dd55-49a1-a8b0-f80267d5ff3f",
   "metadata": {
    "tags": []
   },
   "outputs": [
    {
     "data": {
      "text/html": [
       "<div>\n",
       "<style scoped>\n",
       "    .dataframe tbody tr th:only-of-type {\n",
       "        vertical-align: middle;\n",
       "    }\n",
       "\n",
       "    .dataframe tbody tr th {\n",
       "        vertical-align: top;\n",
       "    }\n",
       "\n",
       "    .dataframe thead th {\n",
       "        text-align: right;\n",
       "    }\n",
       "</style>\n",
       "<table border=\"1\" class=\"dataframe\">\n",
       "  <thead>\n",
       "    <tr style=\"text-align: right;\">\n",
       "      <th></th>\n",
       "      <th>pxj1</th>\n",
       "      <th>pyj1</th>\n",
       "      <th>pzj1</th>\n",
       "      <th>mj1</th>\n",
       "      <th>tau1j1</th>\n",
       "      <th>tau2j1</th>\n",
       "      <th>tau3j1</th>\n",
       "      <th>pxj2</th>\n",
       "      <th>pyj2</th>\n",
       "      <th>pzj2</th>\n",
       "      <th>mj2</th>\n",
       "      <th>tau1j2</th>\n",
       "      <th>tau2j2</th>\n",
       "      <th>tau3j2</th>\n",
       "    </tr>\n",
       "  </thead>\n",
       "  <tbody>\n",
       "    <tr>\n",
       "      <th>0</th>\n",
       "      <td>-1698.670044</td>\n",
       "      <td>-884.039978</td>\n",
       "      <td>723.843018</td>\n",
       "      <td>105.035004</td>\n",
       "      <td>83.721703</td>\n",
       "      <td>46.282101</td>\n",
       "      <td>13.635700</td>\n",
       "      <td>1539.439941</td>\n",
       "      <td>372.238007</td>\n",
       "      <td>-295.865997</td>\n",
       "      <td>461.574005</td>\n",
       "      <td>431.343994</td>\n",
       "      <td>52.344799</td>\n",
       "      <td>37.284901</td>\n",
       "    </tr>\n",
       "    <tr>\n",
       "      <th>1</th>\n",
       "      <td>1246.660034</td>\n",
       "      <td>-1133.010010</td>\n",
       "      <td>-921.987000</td>\n",
       "      <td>159.865997</td>\n",
       "      <td>133.781998</td>\n",
       "      <td>58.968601</td>\n",
       "      <td>30.377399</td>\n",
       "      <td>-1218.489990</td>\n",
       "      <td>1108.380005</td>\n",
       "      <td>182.147003</td>\n",
       "      <td>514.883972</td>\n",
       "      <td>462.654999</td>\n",
       "      <td>138.789001</td>\n",
       "      <td>67.805801</td>\n",
       "    </tr>\n",
       "    <tr>\n",
       "      <th>2</th>\n",
       "      <td>420.975006</td>\n",
       "      <td>-1739.790039</td>\n",
       "      <td>281.553986</td>\n",
       "      <td>93.665901</td>\n",
       "      <td>77.925797</td>\n",
       "      <td>10.605900</td>\n",
       "      <td>6.916520</td>\n",
       "      <td>-510.779999</td>\n",
       "      <td>1484.069946</td>\n",
       "      <td>227.175995</td>\n",
       "      <td>475.316986</td>\n",
       "      <td>217.113998</td>\n",
       "      <td>29.424000</td>\n",
       "      <td>21.020300</td>\n",
       "    </tr>\n",
       "    <tr>\n",
       "      <th>3</th>\n",
       "      <td>161.048996</td>\n",
       "      <td>-1664.859985</td>\n",
       "      <td>-2005.099976</td>\n",
       "      <td>116.327003</td>\n",
       "      <td>61.819698</td>\n",
       "      <td>38.143600</td>\n",
       "      <td>18.414400</td>\n",
       "      <td>-188.942993</td>\n",
       "      <td>1556.900024</td>\n",
       "      <td>-561.664001</td>\n",
       "      <td>561.236023</td>\n",
       "      <td>348.181000</td>\n",
       "      <td>102.625000</td>\n",
       "      <td>53.422699</td>\n",
       "    </tr>\n",
       "    <tr>\n",
       "      <th>4</th>\n",
       "      <td>-564.754028</td>\n",
       "      <td>-1315.599976</td>\n",
       "      <td>-1087.410034</td>\n",
       "      <td>513.015991</td>\n",
       "      <td>276.446991</td>\n",
       "      <td>50.629799</td>\n",
       "      <td>35.460999</td>\n",
       "      <td>326.164001</td>\n",
       "      <td>1050.239990</td>\n",
       "      <td>1201.000000</td>\n",
       "      <td>108.752998</td>\n",
       "      <td>89.666603</td>\n",
       "      <td>40.928699</td>\n",
       "      <td>17.055799</td>\n",
       "    </tr>\n",
       "    <tr>\n",
       "      <th>...</th>\n",
       "      <td>...</td>\n",
       "      <td>...</td>\n",
       "      <td>...</td>\n",
       "      <td>...</td>\n",
       "      <td>...</td>\n",
       "      <td>...</td>\n",
       "      <td>...</td>\n",
       "      <td>...</td>\n",
       "      <td>...</td>\n",
       "      <td>...</td>\n",
       "      <td>...</td>\n",
       "      <td>...</td>\n",
       "      <td>...</td>\n",
       "      <td>...</td>\n",
       "    </tr>\n",
       "    <tr>\n",
       "      <th>99994</th>\n",
       "      <td>-206.662003</td>\n",
       "      <td>-1729.280029</td>\n",
       "      <td>357.635010</td>\n",
       "      <td>96.165001</td>\n",
       "      <td>58.014500</td>\n",
       "      <td>11.731300</td>\n",
       "      <td>6.174070</td>\n",
       "      <td>218.800003</td>\n",
       "      <td>1714.890015</td>\n",
       "      <td>-210.578995</td>\n",
       "      <td>472.475006</td>\n",
       "      <td>259.884003</td>\n",
       "      <td>40.806999</td>\n",
       "      <td>31.226000</td>\n",
       "    </tr>\n",
       "    <tr>\n",
       "      <th>99995</th>\n",
       "      <td>1069.660034</td>\n",
       "      <td>659.874023</td>\n",
       "      <td>218.751007</td>\n",
       "      <td>126.183998</td>\n",
       "      <td>122.486000</td>\n",
       "      <td>27.608700</td>\n",
       "      <td>17.924801</td>\n",
       "      <td>-956.169006</td>\n",
       "      <td>-297.311005</td>\n",
       "      <td>-2204.350098</td>\n",
       "      <td>108.890999</td>\n",
       "      <td>21.177200</td>\n",
       "      <td>10.582400</td>\n",
       "      <td>9.138590</td>\n",
       "    </tr>\n",
       "    <tr>\n",
       "      <th>99996</th>\n",
       "      <td>-1286.619995</td>\n",
       "      <td>-86.162598</td>\n",
       "      <td>-1366.270020</td>\n",
       "      <td>115.719002</td>\n",
       "      <td>109.853996</td>\n",
       "      <td>29.830200</td>\n",
       "      <td>22.489201</td>\n",
       "      <td>1145.729980</td>\n",
       "      <td>136.792007</td>\n",
       "      <td>1216.780029</td>\n",
       "      <td>489.053009</td>\n",
       "      <td>416.747009</td>\n",
       "      <td>84.599998</td>\n",
       "      <td>66.767502</td>\n",
       "    </tr>\n",
       "    <tr>\n",
       "      <th>99997</th>\n",
       "      <td>-149.330002</td>\n",
       "      <td>1781.459961</td>\n",
       "      <td>-58.690899</td>\n",
       "      <td>508.045013</td>\n",
       "      <td>495.290985</td>\n",
       "      <td>82.283600</td>\n",
       "      <td>43.567902</td>\n",
       "      <td>84.726601</td>\n",
       "      <td>-1378.569946</td>\n",
       "      <td>-1485.469971</td>\n",
       "      <td>91.104897</td>\n",
       "      <td>79.120102</td>\n",
       "      <td>46.537300</td>\n",
       "      <td>23.227301</td>\n",
       "    </tr>\n",
       "    <tr>\n",
       "      <th>99998</th>\n",
       "      <td>1584.699951</td>\n",
       "      <td>-731.156982</td>\n",
       "      <td>-196.348007</td>\n",
       "      <td>114.938004</td>\n",
       "      <td>83.769897</td>\n",
       "      <td>12.898200</td>\n",
       "      <td>9.031230</td>\n",
       "      <td>-1515.079956</td>\n",
       "      <td>783.245972</td>\n",
       "      <td>498.704010</td>\n",
       "      <td>553.737000</td>\n",
       "      <td>366.188995</td>\n",
       "      <td>192.139008</td>\n",
       "      <td>81.398201</td>\n",
       "    </tr>\n",
       "  </tbody>\n",
       "</table>\n",
       "<p>99999 rows × 14 columns</p>\n",
       "</div>"
      ],
      "text/plain": [
       "              pxj1         pyj1         pzj1         mj1      tau1j1  \\\n",
       "0     -1698.670044  -884.039978   723.843018  105.035004   83.721703   \n",
       "1      1246.660034 -1133.010010  -921.987000  159.865997  133.781998   \n",
       "2       420.975006 -1739.790039   281.553986   93.665901   77.925797   \n",
       "3       161.048996 -1664.859985 -2005.099976  116.327003   61.819698   \n",
       "4      -564.754028 -1315.599976 -1087.410034  513.015991  276.446991   \n",
       "...            ...          ...          ...         ...         ...   \n",
       "99994  -206.662003 -1729.280029   357.635010   96.165001   58.014500   \n",
       "99995  1069.660034   659.874023   218.751007  126.183998  122.486000   \n",
       "99996 -1286.619995   -86.162598 -1366.270020  115.719002  109.853996   \n",
       "99997  -149.330002  1781.459961   -58.690899  508.045013  495.290985   \n",
       "99998  1584.699951  -731.156982  -196.348007  114.938004   83.769897   \n",
       "\n",
       "          tau2j1     tau3j1         pxj2         pyj2         pzj2  \\\n",
       "0      46.282101  13.635700  1539.439941   372.238007  -295.865997   \n",
       "1      58.968601  30.377399 -1218.489990  1108.380005   182.147003   \n",
       "2      10.605900   6.916520  -510.779999  1484.069946   227.175995   \n",
       "3      38.143600  18.414400  -188.942993  1556.900024  -561.664001   \n",
       "4      50.629799  35.460999   326.164001  1050.239990  1201.000000   \n",
       "...          ...        ...          ...          ...          ...   \n",
       "99994  11.731300   6.174070   218.800003  1714.890015  -210.578995   \n",
       "99995  27.608700  17.924801  -956.169006  -297.311005 -2204.350098   \n",
       "99996  29.830200  22.489201  1145.729980   136.792007  1216.780029   \n",
       "99997  82.283600  43.567902    84.726601 -1378.569946 -1485.469971   \n",
       "99998  12.898200   9.031230 -1515.079956   783.245972   498.704010   \n",
       "\n",
       "              mj2      tau1j2      tau2j2     tau3j2  \n",
       "0      461.574005  431.343994   52.344799  37.284901  \n",
       "1      514.883972  462.654999  138.789001  67.805801  \n",
       "2      475.316986  217.113998   29.424000  21.020300  \n",
       "3      561.236023  348.181000  102.625000  53.422699  \n",
       "4      108.752998   89.666603   40.928699  17.055799  \n",
       "...           ...         ...         ...        ...  \n",
       "99994  472.475006  259.884003   40.806999  31.226000  \n",
       "99995  108.890999   21.177200   10.582400   9.138590  \n",
       "99996  489.053009  416.747009   84.599998  66.767502  \n",
       "99997   91.104897   79.120102   46.537300  23.227301  \n",
       "99998  553.737000  366.188995  192.139008  81.398201  \n",
       "\n",
       "[99999 rows x 14 columns]"
      ]
     },
     "execution_count": 16,
     "metadata": {},
     "output_type": "execute_result"
    }
   ],
   "source": [
    "df"
   ]
  },
  {
   "cell_type": "code",
   "execution_count": 65,
   "id": "1b3adbce-25f0-4389-a115-e694802d94cc",
   "metadata": {
    "tags": []
   },
   "outputs": [
    {
     "data": {
      "text/plain": [
       "Text(0.5, 1.0, 'Jet Mass Distributions')"
      ]
     },
     "execution_count": 65,
     "metadata": {},
     "output_type": "execute_result"
    },
    {
     "data": {
      "image/png": "[encoded data removed]",
      "text/plain": [
       "<Figure size 640x480 with 1 Axes>"
      ]
     },
     "metadata": {},
     "output_type": "display_data"
    }
   ],
   "source": [
    "plt.hist(df['mj1'],bins=np.linspace(0,600,20))\n",
    "plt.xlabel(\"Mass [GeV]\")\n",
    "plt.ylabel(\"Counts\")\n",
    "plt.title(\"Jet Mass Distributions\")"
   ]
  },
  {
   "cell_type": "code",
   "execution_count": 21,
   "id": "8a05f138-2339-4bcd-a26b-28e5d651fa09",
   "metadata": {
    "tags": []
   },
   "outputs": [],
   "source": [
    "def computemjj_pd(event):\n",
    "    px1 = event[[\"pxj1\"]].to_numpy()\n",
    "    py1 = event[[\"pyj1\"]].to_numpy()\n",
    "    pz1 = event[[\"pzj1\"]].to_numpy()\n",
    "    pE1 = np.sqrt(px1**2+py1**2+pz1**2+event[[\"mj1\"]].to_numpy()**2)\n",
    "    \n",
    "    px2 = event[[\"pxj2\"]].to_numpy()\n",
    "    py2 = event[[\"pyj2\"]].to_numpy()\n",
    "    pz2 = event[[\"pzj2\"]].to_numpy()\n",
    "    pE2 = np.sqrt(px2**2+py2**2+pz2**2+event[[\"mj2\"]].to_numpy()**2)\n",
    "    \n",
    "    m2 = (pE1+pE2)**2-(px1+px2)**2-(py1+py2)**2-(pz1+pz2)**2\n",
    "    return np.array(np.sqrt(m2)).flatten()"
   ]
  },
  {
   "cell_type": "code",
   "execution_count": 22,
   "id": "765a8d51-8ae3-4d23-8039-7359b72ca144",
   "metadata": {
    "tags": []
   },
   "outputs": [
    {
     "data": {
      "text/plain": [
       "array([3307.21938744, 3107.62060343, 3004.89527209, ..., 3021.08344341,\n",
       "       4283.54500244, 2784.05801619])"
      ]
     },
     "execution_count": 22,
     "metadata": {},
     "output_type": "execute_result"
    }
   ],
   "source": [
    "computemjj_pd(df_QCD)"
   ]
  },
  {
   "cell_type": "code",
   "execution_count": 5,
   "id": "06aeb139-6b06-4461-a1bb-5e431a896dc9",
   "metadata": {
    "tags": []
   },
   "outputs": [],
   "source": [
    "def computemjj_txt(event):\n",
    "    pT1 = np.array([float(event[2*i][0]) for i in range(int(len(event)/2))])\n",
    "    eta1 = np.array([float(event[2*i][1]) for i in range(int(len(event)/2))])\n",
    "    phi1 = np.array([float(event[2*i][2]) for i in range(int(len(event)/2))])\n",
    "    m1 = np.array([float(event[2*i][3]) for i in range(int(len(event)/2))])\n",
    "    px1 = pT1*np.cos(phi1)\n",
    "    py1 = pT1*np.sin(phi1)\n",
    "    pz1 = pT1*np.sinh(eta1)\n",
    "    pE1 = np.sqrt(px1**2+py1**2+pz1**2+m1**2)\n",
    "    \n",
    "    pT2 = np.array([float(event[2*i+1][0]) for i in range(int(len(event)/2))])\n",
    "    eta2 = np.array([float(event[2*i+1][1]) for i in range(int(len(event)/2))])\n",
    "    phi2 = np.array([float(event[2*i+1][2]) for i in range(int(len(event)/2))])\n",
    "    m2 = np.array([float(event[2*i+1][3]) for i in range(int(len(event)/2))])\n",
    "    px2 = pT2*np.cos(phi2)\n",
    "    py2 = pT2*np.sin(phi2)\n",
    "    pz2 = pT2*np.sinh(eta2)\n",
    "    pE2 = np.sqrt(px2**2+py2**2+pz2**2+m2**2)\n",
    "    \n",
    "    m2 = (pE1+pE2)**2-(px1+px2)**2-(py1+py2)**2-(pz1+pz2)**2\n",
    "    return np.array(np.sqrt(m2)).flatten()"
   ]
  },
  {
   "cell_type": "code",
   "execution_count": 4,
   "id": "67c5dc45-f8c3-4ac7-afab-dfea17f527bc",
   "metadata": {
    "tags": []
   },
   "outputs": [],
   "source": [
    "mj1_list = []\n",
    "mj2_list = []\n",
    "mass_range = [0,0.5,1,1.5,2,2.5,3,3.5,4,4.5,5,5.5,6]\n",
    "\n",
    "epsilon = 1e-4\n",
    "if (False):\n",
    "    lmass_vec = {}\n",
    "    x = {}\n",
    "    mjjs = {}\n",
    "\n",
    "    mu_m = 0.\n",
    "    mu_t = 0.\n",
    "    sd_m = 0.\n",
    "    sd_t = 0.\n",
    "\n",
    "    for m1 in mass_range:\n",
    "        for m2 in mass_range:\n",
    "\n",
    "            print(\"on ...\",m1,m2)\n",
    "\n",
    "            ltau1_m_m = []\n",
    "            ltau2_m_m = []\n",
    "            stau1_m_m = []\n",
    "            stau2_m_m = []\n",
    "            if (m1>0 and m2>0):\n",
    "                myfile = open(\"/global/cfs/projectdirs/m3246/AnomalyDetection/ILC/Delphes-3.5.0/LHCO_RnD_qq/LHCO_RnD_qq_\"+str(int(m1*100))+\"_\"+str(int(100*m2))+\".txt\")\n",
    "                jets_m_m = []\n",
    "                for line in myfile:\n",
    "                    jets_m_m+=[line.split(\"J\")[1].split(\"P\")[0].split()]\n",
    "                    pass\n",
    "                                    \n",
    "                ljet_m_m = [jets_m_m[2*n] for n in range(int(len(jets_m_m)/2))]\n",
    "                sjet_m_m = [jets_m_m[2*n+1] for n in range(int(len(jets_m_m)/2))]\n",
    "\n",
    "                lmass_m_m = np.array([float(ljet_m_m[i][3]) for i in range(len(ljet_m_m))])/1000.\n",
    "                smass_m_m = np.array([float(sjet_m_m[i][3]) for i in range(len(sjet_m_m))])/1000.\n",
    "\n",
    "                #check ordering of the leading and subleading jets\n",
    "                #if leading jet mm > subleading, continue\n",
    "                #if leading jet mm < subleading, swap\n",
    "                for i in range(int(len(lmass_m_m))):\n",
    "                    if lmass_m_m[i] > smass_m_m[i]:\n",
    "                        continue\n",
    "                    elif lmass_m_m[i] < smass_m_m[i]:\n",
    "                        lmass_m_m[i], smass_m_m[i] = smass_m_m[i], lmass_m_m[i]\n",
    "                \n",
    "                ltau1_m_m = np.array([float(ljet_m_m[i][5]) for i in range(len(ljet_m_m))])\n",
    "                ltau2_m_m = np.array([float(ljet_m_m[i][6]) for i in range(len(ljet_m_m))])\n",
    "\n",
    "                stau1_m_m = np.array([float(sjet_m_m[i][5]) for i in range(len(ljet_m_m))])\n",
    "                stau2_m_m = np.array([float(sjet_m_m[i][6]) for i in range(len(ljet_m_m))])\n",
    "\n",
    "                mjj = computemjj_txt(jets_m_m)/1000.\n",
    "                mjjs[m1,m2] = mjj\n",
    "                passcut = (mjj > 3.3) * (mjj < 3.7)\n",
    "                lmass_m_m = lmass_m_m[passcut]\n",
    "                smass_m_m = smass_m_m[passcut]\n",
    "                ltau1_m_m = ltau1_m_m[passcut]\n",
    "                ltau2_m_m = ltau2_m_m[passcut]\n",
    "                stau1_m_m = stau1_m_m[passcut]\n",
    "                stau2_m_m = stau2_m_m[passcut]\n",
    "                pass\n",
    "            elif m1==0 and m2==0:\n",
    "                df_QCD = pd.read_hdf(\"/global/cfs/projectdirs/m3246/AnomalyDetection/LHCO/events_anomalydetection_DelphesPythia8_v2_qcd_features.h5\")\n",
    "                lmass_m_m = np.array(df_QCD[[\"mj1\"]]).flatten()/1000.\n",
    "                smass_m_m = np.array(df_QCD[[\"mj2\"]]).flatten()/1000.\n",
    "                \n",
    "                #check jet ordering\n",
    "                for i in range(int(len(lmass_m_m))):\n",
    "                    if lmass_m_m[i] > smass_m_m[i]:\n",
    "                        continue\n",
    "                    elif lmass_m_m[i] < smass_m_m[i]:\n",
    "                        lmass_m_m[i], smass_m_m[i] = smass_m_m[i], lmass_m_m[i]\n",
    "                        \n",
    "                ltau1_m_m = np.array(df_QCD[[\"tau1j1\"]]).flatten()\n",
    "                ltau2_m_m = np.array(df_QCD[[\"tau2j1\"]]).flatten()\n",
    "                stau1_m_m = np.array(df_QCD[[\"tau1j2\"]]).flatten()\n",
    "                stau2_m_m = np.array(df_QCD[[\"tau2j2\"]]).flatten()\n",
    "                mjj = computemjj_pd(df_QCD)/1000.\n",
    "                mjjs[m1,m2] = mjj\n",
    "                passcut = (mjj > 3.3) * (mjj < 3.7)\n",
    "                lmass_m_m = lmass_m_m[passcut]\n",
    "                smass_m_m = smass_m_m[passcut]\n",
    "                ltau1_m_m = ltau1_m_m[passcut]\n",
    "                ltau2_m_m = ltau2_m_m[passcut]\n",
    "                stau1_m_m = stau1_m_m[passcut]\n",
    "                stau2_m_m = stau2_m_m[passcut]\n",
    "\n",
    "                mu_m = np.mean(lmass_m_m)\n",
    "                mu_t = np.mean(ltau2_m_m/(ltau1_m_m+0.0001))\n",
    "                sd_m = np.std(lmass_m_m)\n",
    "                sd_t = np.std(ltau2_m_m/(ltau1_m_m+0.0001))\n",
    "                pass\n",
    "            else:\n",
    "                continue\n",
    "\n",
    "            ms = np.stack([lmass_m_m,smass_m_m],axis=1)\n",
    "            ts = np.stack([ltau2_m_m/(ltau1_m_m+0.0001),stau2_m_m/(stau1_m_m+0.0001)],axis=1)\n",
    "            order1 = [np.argmin(ms[i]) for i in range(len(ms))]\n",
    "            order2 = [np.argmax(ms[i]) for i in range(len(ms))]\n",
    "            mJ1 = np.array([ms[i][order1[i]] for i in range(len(ms))])\n",
    "            mJ2 = np.array([ms[i][order2[i]] for i in range(len(ms))])\n",
    "            \n",
    "            #testing to see if jets sorted properly\n",
    "            mj1_list.append(mJ1)\n",
    "            mj2_list.append(mJ2)\n",
    "            \n",
    "            x[m1,m2] = np.stack([(mJ2 - mu_m)/sd_m,\n",
    "                                    ((mJ1 - mJ2) - mu_m)/sd_m,\n",
    "                                    ([ts[i][order2[i]] for i in range(len(ts))] - mu_t)/sd_t,\n",
    "                                    ([ts[i][order1[i]] for i in range(len(ts))] - mu_t)/sd_t],axis=1)\n",
    "            lmass_vec[m1,m2]=lmass_m_m\n",
    "            pass\n",
    "        pass\n",
    "\n",
    "    x_array = []\n",
    "    for m1 in mass_range:\n",
    "        for m2 in mass_range:\n",
    "            if (m1==0 and m2>0 or m2==0 and m1>0):\n",
    "                continue\n",
    "            x_array+=[x[m1,m2]]\n",
    "    #np.save(\"x_array_order42\", x_array)"
   ]
  },
  {
   "cell_type": "code",
   "execution_count": 165,
   "id": "e4f955c1-25f1-4039-aede-a7550d90d04d",
   "metadata": {
    "tags": []
   },
   "outputs": [
    {
     "name": "stdout",
     "output_type": "stream",
     "text": [
      "144\n"
     ]
    }
   ],
   "source": [
    "count = 0\n",
    "mass_pairs = []\n",
    "for m1 in mass_range[1:]:\n",
    "    for m2 in mass_range[1:]:\n",
    "        mass_pairs.append((m1, m2))\n",
    "                          \n",
    "        count+=1\n",
    "    \n",
    "print(count)"
   ]
  },
  {
   "cell_type": "code",
   "execution_count": 181,
   "id": "c97aeaad-5c67-4f40-b36b-788e56c7e991",
   "metadata": {
    "tags": []
   },
   "outputs": [
    {
     "name": "stdout",
     "output_type": "stream",
     "text": [
      "3 instances of mj1 > mj2\n"
     ]
    }
   ],
   "source": [
    "count = 0\n",
    "for i in range(len(mj1_list)):\n",
    "    if mj1_list[17][i] > mj2_list[12][i]:\n",
    "        #print(\"greater\")\n",
    "        count+=1\n",
    "print(f\"{count} instances of mj1 > mj2\")"
   ]
  },
  {
   "cell_type": "code",
   "execution_count": null,
   "id": "b5e63920-1ce8-4f2a-947b-391579a74975",
   "metadata": {},
   "outputs": [],
   "source": [
    "def load_data(filename, noise_dims):\n",
    "\n",
    "    mass_range = [0,0.5,1,1.5,2,2.5,3,3.5,4,4.5,5,5.5,6]\n",
    "    x = {}\n",
    "    x_array_read = np.load(filename,allow_pickle=True)\n",
    "    mycounter = -1\n",
    "    for m1 in mass_range:\n",
    "        for m2 in mass_range:\n",
    "            for qq in ['qq']:\n",
    "                if (m1==0 and m2>0 or m2==0 and m1>0):\n",
    "                    continue\n",
    "                mycounter+=1\n",
    "                x[m1,m2,qq, False] = x_array_read[mycounter]\n",
    "\n",
    "                if noise_dims:\n",
    "                    qq = \"qq\"\n",
    "                    for i in range(noise_dims):\n",
    "                        noise_feature = np.random.normal(0, 1, len(x[m1,m2,qq, False])).reshape(-1, 1)\n",
    "                        if i == 0:\n",
    "                            x[m1, m2, qq, True] = np.hstack((x[m1,m2, qq, False], noise_feature))\n",
    "                        if i > 0:\n",
    "                            x[m1, m2, qq, True] = np.hstack((x[m1,m2, qq, True], noise_feature))\n",
    "    \n",
    "    return x\n",
    "            \n",
    "x = load_data(\"x_array_order.npy\", noise_dims = 10)"
   ]
  },
  {
   "cell_type": "code",
   "execution_count": 5,
   "id": "df1480eb-a957-4b82-b0ed-c6efff0a7782",
   "metadata": {
    "tags": []
   },
   "outputs": [],
   "source": [
    "x = {}\n",
    "x_array_read = np.load(\"x_array_order.npy\",allow_pickle=True)\n",
    "mycounter = -1\n",
    "for m1 in mass_range:\n",
    "    for m2 in mass_range:\n",
    "        if (m1==0 and m2>0 or m2==0 and m1>0):\n",
    "            continue\n",
    "        mycounter+=1\n",
    "        x[m1,m2] = x_array_read[mycounter]"
   ]
  },
  {
   "cell_type": "code",
   "execution_count": 4,
   "id": "e3ec5031-27a4-4f9f-9ba6-e1812209c2c1",
   "metadata": {
    "tags": []
   },
   "outputs": [
    {
     "data": {
      "text/plain": [
       "(121352, 4)"
      ]
     },
     "execution_count": 4,
     "metadata": {},
     "output_type": "execute_result"
    }
   ],
   "source": [
    "np.shape(x[0,0])"
   ]
  },
  {
   "cell_type": "code",
   "execution_count": 5,
   "id": "1e8ec348-ec96-4f07-ab66-f62a207812b3",
   "metadata": {
    "tags": []
   },
   "outputs": [],
   "source": [
    "x_data = np.concatenate([x[0,0],x[1,1]])\n",
    "y_data = np.concatenate([np.zeros(len(x[0,0])),np.ones(len(x[1,1]))])\n",
    "X_train, X_val, Y_train, Y_val = train_test_split(x_data, y_data, test_size=0.5)"
   ]
  },
  {
   "cell_type": "code",
   "execution_count": 142,
   "id": "200ddac0-178f-4ba9-956a-26885cd49aa9",
   "metadata": {
    "tags": []
   },
   "outputs": [
    {
     "data": {
      "text/html": [
       "wandb version 0.16.0 is available!  To upgrade, please run:\n",
       " $ pip install wandb --upgrade"
      ],
      "text/plain": [
       "<IPython.core.display.HTML object>"
      ]
     },
     "metadata": {},
     "output_type": "display_data"
    },
    {
     "data": {
      "text/html": [
       "Tracking run with wandb version 0.15.12"
      ],
      "text/plain": [
       "<IPython.core.display.HTML object>"
      ]
     },
     "metadata": {},
     "output_type": "display_data"
    },
    {
     "data": {
      "text/html": [
       "Run data is saved locally in <code>/pscratch/sd/g/gupsingh/wandb/run-20231127_141223-xxg2tcyt</code>"
      ],
      "text/plain": [
       "<IPython.core.display.HTML object>"
      ]
     },
     "metadata": {},
     "output_type": "display_data"
    },
    {
     "data": {
      "text/html": [
       "Syncing run <strong><a href='https://wandb.ai/gup-singh/Anomaly/runs/xxg2tcyt' target=\"_blank\">spring-spaceship-63</a></strong> to <a href='https://wandb.ai/gup-singh/Anomaly' target=\"_blank\">Weights & Biases</a> (<a href='https://wandb.me/run' target=\"_blank\">docs</a>)<br/>"
      ],
      "text/plain": [
       "<IPython.core.display.HTML object>"
      ]
     },
     "metadata": {},
     "output_type": "display_data"
    },
    {
     "data": {
      "text/html": [
       " View project at <a href='https://wandb.ai/gup-singh/Anomaly' target=\"_blank\">https://wandb.ai/gup-singh/Anomaly</a>"
      ],
      "text/plain": [
       "<IPython.core.display.HTML object>"
      ]
     },
     "metadata": {},
     "output_type": "display_data"
    },
    {
     "data": {
      "text/html": [
       " View run at <a href='https://wandb.ai/gup-singh/Anomaly/runs/xxg2tcyt' target=\"_blank\">https://wandb.ai/gup-singh/Anomaly/runs/xxg2tcyt</a>"
      ],
      "text/plain": [
       "<IPython.core.display.HTML object>"
      ]
     },
     "metadata": {},
     "output_type": "display_data"
    }
   ],
   "source": [
    "pscratch_dir = \"/pscratch/sd/g/gupsingh\"\n",
    "os.environ[\"WANDB_DIR\"] = pscratch_dir\n",
    "\n",
    "wandb.init(\n",
    "    project=\"Anomaly\",\n",
    "    group=\"Dedicated_Fixed\",\n",
    "    entity='gup-singh',\n",
    "    mode = 'online',\n",
    "\n",
    "    config={\n",
    "        \"layer_1\": 512,\n",
    "        \"activation_1\": \"relu\",\n",
    "        \"layer_2\": 256,\n",
    "        \"activation_2\": \"relu\",\n",
    "        \"layer_3\": 128,\n",
    "        \"activation_3\": \"relu\",\n",
    "        \"output_layer\": 1,\n",
    "        \"output_activation\": \"sigmoid\",\n",
    "        \"optimizer\": \"adam\",\n",
    "        \"loss\": \"binary_crossentropy\",\n",
    "        \"metric\": \"accuracy\",\n",
    "        \"epoch\": 1000,\n",
    "        \"batch_size\": 1024,\n",
    "    },\n",
    "    dir=pscratch_dir\n",
    ")\n",
    "\n",
    "config = wandb.config"
   ]
  },
  {
   "cell_type": "code",
   "execution_count": 143,
   "id": "2e648787-8408-4c0f-be9a-31f0d1b2181d",
   "metadata": {},
   "outputs": [
    {
     "name": "stdout",
     "output_type": "stream",
     "text": [
      "Model: \"sequential_121\"\n",
      "_________________________________________________________________\n",
      " Layer (type)                Output Shape              Param #   \n",
      "=================================================================\n",
      " dense_793 (Dense)           (None, 512)               2560      \n",
      "                                                                 \n",
      " dense_794 (Dense)           (None, 256)               131328    \n",
      "                                                                 \n",
      " dense_795 (Dense)           (None, 128)               32896     \n",
      "                                                                 \n",
      " dense_796 (Dense)           (None, 1)                 129       \n",
      "                                                                 \n",
      "=================================================================\n",
      "Total params: 166,913\n",
      "Trainable params: 166,913\n",
      "Non-trainable params: 0\n",
      "_________________________________________________________________\n"
     ]
    }
   ],
   "source": [
    "model_dedicated = Sequential()\n",
    "model_dedicated.add(Dense(config.layer_1, input_dim=4, activation=config.activation_1))\n",
    "#model_dedicated.add(Dropout(config.dropout_rate_1))\n",
    "model_dedicated.add(Dense(config.layer_2, activation=config.activation_2))\n",
    "model_dedicated.add(Dense(config.layer_3, activation=config.activation_3))\n",
    "model_dedicated.add(Dense(config.output_layer, activation=config.output_activation))\n",
    "model_dedicated.compile(loss=config.loss, optimizer=config.optimizer, metrics=[config.metric])\n",
    "model_dedicated.summary()"
   ]
  },
  {
   "cell_type": "code",
   "execution_count": 144,
   "id": "bdc611b3-0463-48d2-8311-e6e814584556",
   "metadata": {
    "tags": []
   },
   "outputs": [],
   "source": [
    "es = tf.keras.callbacks.EarlyStopping(monitor='val_loss', patience=10)"
   ]
  },
  {
   "cell_type": "code",
   "execution_count": 145,
   "id": "c9768503-92f3-44f1-bcc4-c88daa729bb6",
   "metadata": {
    "collapsed": true,
    "jupyter": {
     "outputs_hidden": true
    },
    "tags": []
   },
   "outputs": [
    {
     "name": "stdout",
     "output_type": "stream",
     "text": [
      "Epoch 1/1000\n",
      "63/88 [====================>.........] - ETA: 0s - loss: 0.3180 - accuracy: 0.8799INFO:tensorflow:Assets written to: /pscratch/sd/g/gupsingh/wandb/run-20231127_141223-xxg2tcyt/files/model-best/assets\n"
     ]
    },
    {
     "name": "stderr",
     "output_type": "stream",
     "text": [
      "\u001b[34m\u001b[1mwandb\u001b[0m: Adding directory to artifact (/pscratch/sd/g/gupsingh/wandb/run-20231127_141223-xxg2tcyt/files/model-best)... Done. 0.0s\n"
     ]
    },
    {
     "name": "stdout",
     "output_type": "stream",
     "text": [
      "88/88 [==============================] - 1s 12ms/step - loss: 0.3036 - accuracy: 0.8853 - val_loss: 0.2607 - val_accuracy: 0.9031\n",
      "Epoch 2/1000\n",
      "64/88 [====================>.........] - ETA: 0s - loss: 0.2531 - accuracy: 0.9063INFO:tensorflow:Assets written to: /pscratch/sd/g/gupsingh/wandb/run-20231127_141223-xxg2tcyt/files/model-best/assets\n"
     ]
    },
    {
     "name": "stderr",
     "output_type": "stream",
     "text": [
      "\u001b[34m\u001b[1mwandb\u001b[0m: Adding directory to artifact (/pscratch/sd/g/gupsingh/wandb/run-20231127_141223-xxg2tcyt/files/model-best)... Done. 0.0s\n"
     ]
    },
    {
     "name": "stdout",
     "output_type": "stream",
     "text": [
      "88/88 [==============================] - 1s 11ms/step - loss: 0.2516 - accuracy: 0.9065 - val_loss: 0.2499 - val_accuracy: 0.9049\n",
      "Epoch 3/1000\n",
      "66/88 [=====================>........] - ETA: 0s - loss: 0.2363 - accuracy: 0.9108INFO:tensorflow:Assets written to: /pscratch/sd/g/gupsingh/wandb/run-20231127_141223-xxg2tcyt/files/model-best/assets\n"
     ]
    },
    {
     "name": "stderr",
     "output_type": "stream",
     "text": [
      "\u001b[34m\u001b[1mwandb\u001b[0m: Adding directory to artifact (/pscratch/sd/g/gupsingh/wandb/run-20231127_141223-xxg2tcyt/files/model-best)... Done. 0.0s\n"
     ]
    },
    {
     "name": "stdout",
     "output_type": "stream",
     "text": [
      "88/88 [==============================] - 1s 12ms/step - loss: 0.2348 - accuracy: 0.9113 - val_loss: 0.2252 - val_accuracy: 0.9155\n",
      "Epoch 4/1000\n",
      "84/88 [===========================>..] - ETA: 0s - loss: 0.2180 - accuracy: 0.9179INFO:tensorflow:Assets written to: /pscratch/sd/g/gupsingh/wandb/run-20231127_141223-xxg2tcyt/files/model-best/assets\n"
     ]
    },
    {
     "name": "stderr",
     "output_type": "stream",
     "text": [
      "\u001b[34m\u001b[1mwandb\u001b[0m: Adding directory to artifact (/pscratch/sd/g/gupsingh/wandb/run-20231127_141223-xxg2tcyt/files/model-best)... Done. 0.0s\n"
     ]
    },
    {
     "name": "stdout",
     "output_type": "stream",
     "text": [
      "88/88 [==============================] - 1s 12ms/step - loss: 0.2176 - accuracy: 0.9181 - val_loss: 0.2097 - val_accuracy: 0.9225\n",
      "Epoch 5/1000\n",
      "80/88 [==========================>...] - ETA: 0s - loss: 0.2073 - accuracy: 0.9211INFO:tensorflow:Assets written to: /pscratch/sd/g/gupsingh/wandb/run-20231127_141223-xxg2tcyt/files/model-best/assets\n"
     ]
    },
    {
     "name": "stderr",
     "output_type": "stream",
     "text": [
      "\u001b[34m\u001b[1mwandb\u001b[0m: Adding directory to artifact (/pscratch/sd/g/gupsingh/wandb/run-20231127_141223-xxg2tcyt/files/model-best)... Done. 0.0s\n"
     ]
    },
    {
     "name": "stdout",
     "output_type": "stream",
     "text": [
      "88/88 [==============================] - 1s 12ms/step - loss: 0.2065 - accuracy: 0.9216 - val_loss: 0.2044 - val_accuracy: 0.9248\n",
      "Epoch 6/1000\n",
      "85/88 [===========================>..] - ETA: 0s - loss: 0.2017 - accuracy: 0.9241INFO:tensorflow:Assets written to: /pscratch/sd/g/gupsingh/wandb/run-20231127_141223-xxg2tcyt/files/model-best/assets\n"
     ]
    },
    {
     "name": "stderr",
     "output_type": "stream",
     "text": [
      "\u001b[34m\u001b[1mwandb\u001b[0m: Adding directory to artifact (/pscratch/sd/g/gupsingh/wandb/run-20231127_141223-xxg2tcyt/files/model-best)... Done. 0.0s\n"
     ]
    },
    {
     "name": "stdout",
     "output_type": "stream",
     "text": [
      "88/88 [==============================] - 1s 11ms/step - loss: 0.2014 - accuracy: 0.9241 - val_loss: 0.2038 - val_accuracy: 0.9255\n",
      "Epoch 7/1000\n",
      "88/88 [==============================] - 0s 4ms/step - loss: 0.2013 - accuracy: 0.9242 - val_loss: 0.2068 - val_accuracy: 0.9226\n",
      "Epoch 8/1000\n",
      "61/88 [===================>..........] - ETA: 0s - loss: 0.1993 - accuracy: 0.9246INFO:tensorflow:Assets written to: /pscratch/sd/g/gupsingh/wandb/run-20231127_141223-xxg2tcyt/files/model-best/assets\n"
     ]
    },
    {
     "name": "stderr",
     "output_type": "stream",
     "text": [
      "\u001b[34m\u001b[1mwandb\u001b[0m: Adding directory to artifact (/pscratch/sd/g/gupsingh/wandb/run-20231127_141223-xxg2tcyt/files/model-best)... Done. 0.0s\n"
     ]
    },
    {
     "name": "stdout",
     "output_type": "stream",
     "text": [
      "88/88 [==============================] - 1s 11ms/step - loss: 0.1980 - accuracy: 0.9251 - val_loss: 0.1993 - val_accuracy: 0.9258\n",
      "Epoch 9/1000\n",
      "88/88 [==============================] - 0s 3ms/step - loss: 0.1968 - accuracy: 0.9258 - val_loss: 0.2035 - val_accuracy: 0.9242\n",
      "Epoch 10/1000\n",
      "88/88 [==============================] - 0s 3ms/step - loss: 0.1968 - accuracy: 0.9256 - val_loss: 0.2029 - val_accuracy: 0.9249\n",
      "Epoch 11/1000\n",
      "88/88 [==============================] - 0s 3ms/step - loss: 0.1969 - accuracy: 0.9257 - val_loss: 0.2013 - val_accuracy: 0.9257\n",
      "Epoch 12/1000\n",
      "88/88 [==============================] - 0s 3ms/step - loss: 0.1971 - accuracy: 0.9254 - val_loss: 0.2036 - val_accuracy: 0.9241\n",
      "Epoch 13/1000\n",
      "67/88 [=====================>........] - ETA: 0s - loss: 0.1971 - accuracy: 0.9253INFO:tensorflow:Assets written to: /pscratch/sd/g/gupsingh/wandb/run-20231127_141223-xxg2tcyt/files/model-best/assets\n"
     ]
    },
    {
     "name": "stderr",
     "output_type": "stream",
     "text": [
      "\u001b[34m\u001b[1mwandb\u001b[0m: Adding directory to artifact (/pscratch/sd/g/gupsingh/wandb/run-20231127_141223-xxg2tcyt/files/model-best)... Done. 0.0s\n"
     ]
    },
    {
     "name": "stdout",
     "output_type": "stream",
     "text": [
      "88/88 [==============================] - 1s 11ms/step - loss: 0.1981 - accuracy: 0.9246 - val_loss: 0.1992 - val_accuracy: 0.9258\n",
      "Epoch 14/1000\n",
      "88/88 [==============================] - 0s 3ms/step - loss: 0.1963 - accuracy: 0.9262 - val_loss: 0.2000 - val_accuracy: 0.9258\n",
      "Epoch 15/1000\n",
      "88/88 [==============================] - 0s 3ms/step - loss: 0.1965 - accuracy: 0.9262 - val_loss: 0.1994 - val_accuracy: 0.9262\n",
      "Epoch 16/1000\n",
      "88/88 [==============================] - 0s 3ms/step - loss: 0.1960 - accuracy: 0.9259 - val_loss: 0.2019 - val_accuracy: 0.9250\n",
      "Epoch 17/1000\n",
      "88/88 [==============================] - 0s 3ms/step - loss: 0.1972 - accuracy: 0.9254 - val_loss: 0.1992 - val_accuracy: 0.9262\n",
      "Epoch 18/1000\n",
      "88/88 [==============================] - 0s 3ms/step - loss: 0.1953 - accuracy: 0.9260 - val_loss: 0.2009 - val_accuracy: 0.9248\n",
      "Epoch 19/1000\n",
      "88/88 [==============================] - 0s 3ms/step - loss: 0.1966 - accuracy: 0.9252 - val_loss: 0.1996 - val_accuracy: 0.9262\n",
      "Epoch 20/1000\n",
      "67/88 [=====================>........] - ETA: 0s - loss: 0.1944 - accuracy: 0.9268INFO:tensorflow:Assets written to: /pscratch/sd/g/gupsingh/wandb/run-20231127_141223-xxg2tcyt/files/model-best/assets\n"
     ]
    },
    {
     "name": "stderr",
     "output_type": "stream",
     "text": [
      "\u001b[34m\u001b[1mwandb\u001b[0m: Adding directory to artifact (/pscratch/sd/g/gupsingh/wandb/run-20231127_141223-xxg2tcyt/files/model-best)... Done. 0.0s\n"
     ]
    },
    {
     "name": "stdout",
     "output_type": "stream",
     "text": [
      "88/88 [==============================] - 1s 10ms/step - loss: 0.1949 - accuracy: 0.9267 - val_loss: 0.1986 - val_accuracy: 0.9260\n",
      "Epoch 21/1000\n",
      "88/88 [==============================] - 0s 3ms/step - loss: 0.1957 - accuracy: 0.9266 - val_loss: 0.2000 - val_accuracy: 0.9252\n",
      "Epoch 22/1000\n",
      "62/88 [====================>.........] - ETA: 0s - loss: 0.1952 - accuracy: 0.9264INFO:tensorflow:Assets written to: /pscratch/sd/g/gupsingh/wandb/run-20231127_141223-xxg2tcyt/files/model-best/assets\n"
     ]
    },
    {
     "name": "stderr",
     "output_type": "stream",
     "text": [
      "\u001b[34m\u001b[1mwandb\u001b[0m: Adding directory to artifact (/pscratch/sd/g/gupsingh/wandb/run-20231127_141223-xxg2tcyt/files/model-best)... Done. 0.0s\n"
     ]
    },
    {
     "name": "stdout",
     "output_type": "stream",
     "text": [
      "88/88 [==============================] - 1s 11ms/step - loss: 0.1948 - accuracy: 0.9267 - val_loss: 0.1985 - val_accuracy: 0.9265\n",
      "Epoch 23/1000\n",
      "88/88 [==============================] - 0s 3ms/step - loss: 0.1939 - accuracy: 0.9268 - val_loss: 0.1988 - val_accuracy: 0.9261\n",
      "Epoch 24/1000\n",
      "60/88 [===================>..........] - ETA: 0s - loss: 0.1926 - accuracy: 0.9268INFO:tensorflow:Assets written to: /pscratch/sd/g/gupsingh/wandb/run-20231127_141223-xxg2tcyt/files/model-best/assets\n"
     ]
    },
    {
     "name": "stderr",
     "output_type": "stream",
     "text": [
      "\u001b[34m\u001b[1mwandb\u001b[0m: Adding directory to artifact (/pscratch/sd/g/gupsingh/wandb/run-20231127_141223-xxg2tcyt/files/model-best)... Done. 0.0s\n"
     ]
    },
    {
     "name": "stdout",
     "output_type": "stream",
     "text": [
      "88/88 [==============================] - 2s 21ms/step - loss: 0.1938 - accuracy: 0.9268 - val_loss: 0.1983 - val_accuracy: 0.9266\n",
      "Epoch 25/1000\n",
      "88/88 [==============================] - 0s 3ms/step - loss: 0.1946 - accuracy: 0.9264 - val_loss: 0.2032 - val_accuracy: 0.9245\n",
      "Epoch 26/1000\n",
      "88/88 [==============================] - 0s 3ms/step - loss: 0.1948 - accuracy: 0.9265 - val_loss: 0.1987 - val_accuracy: 0.9261\n",
      "Epoch 27/1000\n",
      "88/88 [==============================] - 0s 3ms/step - loss: 0.1943 - accuracy: 0.9266 - val_loss: 0.1986 - val_accuracy: 0.9265\n",
      "Epoch 28/1000\n",
      "61/88 [===================>..........] - ETA: 0s - loss: 0.1921 - accuracy: 0.9267INFO:tensorflow:Assets written to: /pscratch/sd/g/gupsingh/wandb/run-20231127_141223-xxg2tcyt/files/model-best/assets\n"
     ]
    },
    {
     "name": "stderr",
     "output_type": "stream",
     "text": [
      "\u001b[34m\u001b[1mwandb\u001b[0m: Adding directory to artifact (/pscratch/sd/g/gupsingh/wandb/run-20231127_141223-xxg2tcyt/files/model-best)... Done. 0.0s\n"
     ]
    },
    {
     "name": "stdout",
     "output_type": "stream",
     "text": [
      "88/88 [==============================] - 1s 11ms/step - loss: 0.1938 - accuracy: 0.9265 - val_loss: 0.1976 - val_accuracy: 0.9264\n",
      "Epoch 29/1000\n",
      "88/88 [==============================] - 0s 4ms/step - loss: 0.1943 - accuracy: 0.9268 - val_loss: 0.1991 - val_accuracy: 0.9258\n",
      "Epoch 30/1000\n",
      "88/88 [==============================] - 0s 3ms/step - loss: 0.1934 - accuracy: 0.9270 - val_loss: 0.1976 - val_accuracy: 0.9260\n",
      "Epoch 31/1000\n",
      "88/88 [==============================] - 0s 3ms/step - loss: 0.1940 - accuracy: 0.9268 - val_loss: 0.1990 - val_accuracy: 0.9259\n",
      "Epoch 32/1000\n",
      "88/88 [==============================] - 0s 4ms/step - loss: 0.1931 - accuracy: 0.9268 - val_loss: 0.2001 - val_accuracy: 0.9253\n",
      "Epoch 33/1000\n",
      "88/88 [==============================] - 0s 3ms/step - loss: 0.1944 - accuracy: 0.9267 - val_loss: 0.1988 - val_accuracy: 0.9264\n",
      "Epoch 34/1000\n",
      "88/88 [==============================] - 0s 3ms/step - loss: 0.1935 - accuracy: 0.9272 - val_loss: 0.1987 - val_accuracy: 0.9260\n",
      "Epoch 35/1000\n",
      "67/88 [=====================>........] - ETA: 0s - loss: 0.1936 - accuracy: 0.9270INFO:tensorflow:Assets written to: /pscratch/sd/g/gupsingh/wandb/run-20231127_141223-xxg2tcyt/files/model-best/assets\n"
     ]
    },
    {
     "name": "stderr",
     "output_type": "stream",
     "text": [
      "\u001b[34m\u001b[1mwandb\u001b[0m: Adding directory to artifact (/pscratch/sd/g/gupsingh/wandb/run-20231127_141223-xxg2tcyt/files/model-best)... Done. 0.0s\n"
     ]
    },
    {
     "name": "stdout",
     "output_type": "stream",
     "text": [
      "88/88 [==============================] - 1s 11ms/step - loss: 0.1928 - accuracy: 0.9272 - val_loss: 0.1976 - val_accuracy: 0.9266\n",
      "Epoch 36/1000\n",
      "88/88 [==============================] - 0s 3ms/step - loss: 0.1936 - accuracy: 0.9265 - val_loss: 0.2019 - val_accuracy: 0.9245\n",
      "Epoch 37/1000\n",
      "88/88 [==============================] - 0s 3ms/step - loss: 0.1929 - accuracy: 0.9271 - val_loss: 0.1982 - val_accuracy: 0.9262\n",
      "Epoch 38/1000\n",
      "88/88 [==============================] - 0s 3ms/step - loss: 0.1934 - accuracy: 0.9264 - val_loss: 0.1998 - val_accuracy: 0.9253\n",
      "Epoch 39/1000\n",
      "88/88 [==============================] - 0s 3ms/step - loss: 0.1933 - accuracy: 0.9272 - val_loss: 0.1980 - val_accuracy: 0.9266\n",
      "Epoch 40/1000\n",
      "88/88 [==============================] - 0s 3ms/step - loss: 0.1932 - accuracy: 0.9269 - val_loss: 0.2002 - val_accuracy: 0.9250\n",
      "Epoch 41/1000\n",
      "88/88 [==============================] - 0s 3ms/step - loss: 0.1933 - accuracy: 0.9267 - val_loss: 0.1991 - val_accuracy: 0.9258\n",
      "Epoch 42/1000\n",
      "88/88 [==============================] - 0s 3ms/step - loss: 0.1926 - accuracy: 0.9272 - val_loss: 0.1992 - val_accuracy: 0.9269\n",
      "Epoch 43/1000\n",
      "88/88 [==============================] - 0s 3ms/step - loss: 0.1926 - accuracy: 0.9275 - val_loss: 0.1989 - val_accuracy: 0.9266\n",
      "Epoch 44/1000\n",
      "88/88 [==============================] - 0s 3ms/step - loss: 0.1924 - accuracy: 0.9271 - val_loss: 0.1978 - val_accuracy: 0.9265\n",
      "Epoch 45/1000\n",
      "88/88 [==============================] - 0s 3ms/step - loss: 0.1920 - accuracy: 0.9278 - val_loss: 0.1986 - val_accuracy: 0.9261\n"
     ]
    }
   ],
   "source": [
    "myhistory = model_dedicated.fit(X_train, Y_train, epochs=config.epoch,\n",
    "                                validation_data=(X_val, Y_val),\n",
    "                                batch_size=config.batch_size, callbacks=[WandbCallback(), es])"
   ]
  },
  {
   "cell_type": "code",
   "execution_count": 146,
   "id": "358c8298-becc-4bf1-a03f-e9c3fe66543c",
   "metadata": {
    "tags": []
   },
   "outputs": [
    {
     "data": {
      "text/html": [
       "Waiting for W&B process to finish... <strong style=\"color:green\">(success).</strong>"
      ],
      "text/plain": [
       "<IPython.core.display.HTML object>"
      ]
     },
     "metadata": {},
     "output_type": "display_data"
    },
    {
     "name": "stderr",
     "output_type": "stream",
     "text": [
      "wandb: WARNING Source type is set to 'repo' but some required information is missing from the environment. A job will not be created from this run. See https://docs.wandb.ai/guides/launch/create-job\n"
     ]
    },
    {
     "data": {
      "text/html": [
       "<style>\n",
       "    table.wandb td:nth-child(1) { padding: 0 10px; text-align: left ; width: auto;} td:nth-child(2) {text-align: left ; width: 100%}\n",
       "    .wandb-row { display: flex; flex-direction: row; flex-wrap: wrap; justify-content: flex-start; width: 100% }\n",
       "    .wandb-col { display: flex; flex-direction: column; flex-basis: 100%; flex: 1; padding: 10px; }\n",
       "    </style>\n",
       "<div class=\"wandb-row\"><div class=\"wandb-col\"><h3>Run history:</h3><br/><table class=\"wandb\"><tr><td>accuracy</td><td>▁▄▅▆▇▇▇████▇████████████████████████████</td></tr><tr><td>epoch</td><td>▁▁▁▁▂▂▂▂▂▃▃▃▃▃▃▄▄▄▄▄▅▅▅▅▅▅▆▆▆▆▆▆▇▇▇▇▇███</td></tr><tr><td>loss</td><td>█▅▄▃▂▂▂▁▁▁▁▁▁▁▁▁▁▁▁▁▁▁▁▁▁▁▁▁▁▁▁▁▁▁▁▁▁▁▁▁</td></tr><tr><td>val_accuracy</td><td>▁▂▅▇▇█▇█▇█▇███▇███▇███▇████████████▇████</td></tr><tr><td>val_loss</td><td>█▇▄▂▂▂▂▁▂▁▂▁▁▁▁▁▁▁▁▁▁▁▂▁▁▁▁▁▁▁▁▁▁▁▁▁▁▁▁▁</td></tr></table><br/></div><div class=\"wandb-col\"><h3>Run summary:</h3><br/><table class=\"wandb\"><tr><td>accuracy</td><td>0.92785</td></tr><tr><td>best_epoch</td><td>34</td></tr><tr><td>best_val_loss</td><td>0.1976</td></tr><tr><td>epoch</td><td>44</td></tr><tr><td>loss</td><td>0.19201</td></tr><tr><td>val_accuracy</td><td>0.9261</td></tr><tr><td>val_loss</td><td>0.1986</td></tr></table><br/></div></div>"
      ],
      "text/plain": [
       "<IPython.core.display.HTML object>"
      ]
     },
     "metadata": {},
     "output_type": "display_data"
    },
    {
     "data": {
      "text/html": [
       " View run <strong style=\"color:#cdcd00\">spring-spaceship-63</strong> at: <a href='https://wandb.ai/gup-singh/Anomaly/runs/xxg2tcyt' target=\"_blank\">https://wandb.ai/gup-singh/Anomaly/runs/xxg2tcyt</a><br/>Synced 5 W&B file(s), 1 media file(s), 52 artifact file(s) and 1 other file(s)"
      ],
      "text/plain": [
       "<IPython.core.display.HTML object>"
      ]
     },
     "metadata": {},
     "output_type": "display_data"
    },
    {
     "data": {
      "text/html": [
       "Find logs at: <code>/pscratch/sd/g/gupsingh/wandb/run-20231127_141223-xxg2tcyt/logs</code>"
      ],
      "text/plain": [
       "<IPython.core.display.HTML object>"
      ]
     },
     "metadata": {},
     "output_type": "display_data"
    }
   ],
   "source": [
    "wandb.finish()"
   ]
  },
  {
   "cell_type": "code",
   "execution_count": 117,
   "id": "609ed7ed-d93a-4216-ab3b-7654236b4a9e",
   "metadata": {
    "tags": []
   },
   "outputs": [
    {
     "name": "stdout",
     "output_type": "stream",
     "text": [
      "2806/2806 [==============================] - 2s 754us/step\n",
      "AUC: 0.9696640331901925\n"
     ]
    }
   ],
   "source": [
    "y_val_pred = model_dedicated.predict(X_val)\n",
    "auc = roc_auc_score(Y_val, y_val_pred)\n",
    "\n",
    "print(\"AUC:\", auc)"
   ]
  },
  {
   "cell_type": "code",
   "execution_count": 7,
   "id": "e6c17a54-0ec4-4b07-9bbf-f5ac082d31a9",
   "metadata": {
    "tags": []
   },
   "outputs": [
    {
     "name": "stderr",
     "output_type": "stream",
     "text": [
      "2023-11-15 14:26:47.851303: I tensorflow/core/platform/cpu_feature_guard.cc:193] This TensorFlow binary is optimized with oneAPI Deep Neural Network Library (oneDNN) to use the following CPU instructions in performance-critical operations:  AVX2 FMA\n",
      "To enable them in other operations, rebuild TensorFlow with the appropriate compiler flags.\n",
      "2023-11-15 14:26:48.528032: I tensorflow/core/common_runtime/gpu/gpu_device.cc:1532] Created device /job:localhost/replica:0/task:0/device:GPU:0 with 12293 MB memory:  -> device: 0, name: NVIDIA A100-PCIE-40GB, pci bus id: 0000:c3:00.0, compute capability: 8.0\n"
     ]
    }
   ],
   "source": [
    "model_dedicated = Sequential()\n",
    "model_dedicated.add(Dense(128, input_dim=4, activation='relu'))\n",
    "model_dedicated.add(Dense(128, activation='relu'))\n",
    "model_dedicated.add(Dense(128, activation='relu'))\n",
    "model_dedicated.add(Dense(1, activation='sigmoid'))\n",
    "model_dedicated.compile(loss=\"binary_crossentropy\", optimizer='adam', metrics=['accuracy'])"
   ]
  },
  {
   "cell_type": "code",
   "execution_count": 9,
   "id": "9a30ed05-9c7a-4c6c-846b-e0e2435ba835",
   "metadata": {
    "collapsed": true,
    "jupyter": {
     "outputs_hidden": true
    },
    "tags": []
   },
   "outputs": [
    {
     "name": "stdout",
     "output_type": "stream",
     "text": [
      "Epoch 1/100\n",
      "193/193 [==============================] - 0s 2ms/step - loss: 0.1931 - accuracy: 0.9190 - val_loss: 0.1905 - val_accuracy: 0.9201\n",
      "Epoch 2/100\n",
      "193/193 [==============================] - 0s 2ms/step - loss: 0.1921 - accuracy: 0.9194 - val_loss: 0.1890 - val_accuracy: 0.9206\n",
      "Epoch 3/100\n",
      "193/193 [==============================] - 0s 2ms/step - loss: 0.1920 - accuracy: 0.9198 - val_loss: 0.1891 - val_accuracy: 0.9208\n",
      "Epoch 4/100\n",
      "193/193 [==============================] - 0s 2ms/step - loss: 0.1929 - accuracy: 0.9191 - val_loss: 0.1888 - val_accuracy: 0.9213\n",
      "Epoch 5/100\n",
      "193/193 [==============================] - 0s 2ms/step - loss: 0.1918 - accuracy: 0.9199 - val_loss: 0.1884 - val_accuracy: 0.9211\n",
      "Epoch 6/100\n",
      "193/193 [==============================] - 0s 2ms/step - loss: 0.1925 - accuracy: 0.9190 - val_loss: 0.1893 - val_accuracy: 0.9207\n",
      "Epoch 7/100\n",
      "193/193 [==============================] - 0s 2ms/step - loss: 0.1919 - accuracy: 0.9195 - val_loss: 0.1883 - val_accuracy: 0.9206\n",
      "Epoch 8/100\n",
      "193/193 [==============================] - 0s 2ms/step - loss: 0.1916 - accuracy: 0.9198 - val_loss: 0.1883 - val_accuracy: 0.9210\n",
      "Epoch 9/100\n",
      "193/193 [==============================] - 0s 2ms/step - loss: 0.1918 - accuracy: 0.9194 - val_loss: 0.1917 - val_accuracy: 0.9200\n",
      "Epoch 10/100\n",
      "193/193 [==============================] - 0s 2ms/step - loss: 0.1914 - accuracy: 0.9199 - val_loss: 0.1922 - val_accuracy: 0.9198\n",
      "Epoch 11/100\n",
      "193/193 [==============================] - 0s 2ms/step - loss: 0.1916 - accuracy: 0.9197 - val_loss: 0.1910 - val_accuracy: 0.9195\n",
      "Epoch 12/100\n",
      "193/193 [==============================] - 0s 2ms/step - loss: 0.1917 - accuracy: 0.9193 - val_loss: 0.1883 - val_accuracy: 0.9214\n",
      "Epoch 13/100\n",
      "193/193 [==============================] - 0s 2ms/step - loss: 0.1915 - accuracy: 0.9195 - val_loss: 0.1873 - val_accuracy: 0.9214\n",
      "Epoch 14/100\n",
      "193/193 [==============================] - 0s 2ms/step - loss: 0.1911 - accuracy: 0.9197 - val_loss: 0.1877 - val_accuracy: 0.9214\n",
      "Epoch 15/100\n",
      "193/193 [==============================] - 0s 2ms/step - loss: 0.1908 - accuracy: 0.9200 - val_loss: 0.1874 - val_accuracy: 0.9211\n",
      "Epoch 16/100\n",
      "193/193 [==============================] - 0s 2ms/step - loss: 0.1907 - accuracy: 0.9200 - val_loss: 0.1869 - val_accuracy: 0.9217\n",
      "Epoch 17/100\n",
      "193/193 [==============================] - 0s 2ms/step - loss: 0.1908 - accuracy: 0.9201 - val_loss: 0.1904 - val_accuracy: 0.9202\n",
      "Epoch 18/100\n",
      "193/193 [==============================] - 0s 2ms/step - loss: 0.1907 - accuracy: 0.9198 - val_loss: 0.1892 - val_accuracy: 0.9203\n",
      "Epoch 19/100\n",
      "193/193 [==============================] - 0s 2ms/step - loss: 0.1907 - accuracy: 0.9201 - val_loss: 0.1867 - val_accuracy: 0.9223\n",
      "Epoch 20/100\n",
      "193/193 [==============================] - 0s 2ms/step - loss: 0.1907 - accuracy: 0.9201 - val_loss: 0.1877 - val_accuracy: 0.9213\n",
      "Epoch 21/100\n",
      "193/193 [==============================] - 0s 2ms/step - loss: 0.1907 - accuracy: 0.9200 - val_loss: 0.1874 - val_accuracy: 0.9216\n",
      "Epoch 22/100\n",
      "193/193 [==============================] - 0s 2ms/step - loss: 0.1907 - accuracy: 0.9202 - val_loss: 0.1870 - val_accuracy: 0.9216\n",
      "Epoch 23/100\n",
      "193/193 [==============================] - 0s 2ms/step - loss: 0.1901 - accuracy: 0.9203 - val_loss: 0.1868 - val_accuracy: 0.9217\n",
      "Epoch 24/100\n",
      "193/193 [==============================] - 0s 2ms/step - loss: 0.1901 - accuracy: 0.9202 - val_loss: 0.1864 - val_accuracy: 0.9217\n",
      "Epoch 25/100\n",
      "193/193 [==============================] - 0s 2ms/step - loss: 0.1900 - accuracy: 0.9201 - val_loss: 0.1874 - val_accuracy: 0.9213\n",
      "Epoch 26/100\n",
      "193/193 [==============================] - 0s 2ms/step - loss: 0.1899 - accuracy: 0.9208 - val_loss: 0.1874 - val_accuracy: 0.9215\n",
      "Epoch 27/100\n",
      "193/193 [==============================] - 0s 2ms/step - loss: 0.1898 - accuracy: 0.9203 - val_loss: 0.1861 - val_accuracy: 0.9224\n",
      "Epoch 28/100\n",
      "193/193 [==============================] - 0s 2ms/step - loss: 0.1896 - accuracy: 0.9202 - val_loss: 0.1875 - val_accuracy: 0.9216\n",
      "Epoch 29/100\n",
      "193/193 [==============================] - 0s 2ms/step - loss: 0.1899 - accuracy: 0.9202 - val_loss: 0.1856 - val_accuracy: 0.9221\n",
      "Epoch 30/100\n",
      "193/193 [==============================] - 0s 2ms/step - loss: 0.1897 - accuracy: 0.9200 - val_loss: 0.1858 - val_accuracy: 0.9221\n",
      "Epoch 31/100\n",
      "193/193 [==============================] - 0s 2ms/step - loss: 0.1896 - accuracy: 0.9205 - val_loss: 0.1873 - val_accuracy: 0.9209\n",
      "Epoch 32/100\n",
      "193/193 [==============================] - 0s 2ms/step - loss: 0.1900 - accuracy: 0.9201 - val_loss: 0.1859 - val_accuracy: 0.9220\n",
      "Epoch 33/100\n",
      "193/193 [==============================] - 0s 2ms/step - loss: 0.1890 - accuracy: 0.9206 - val_loss: 0.1863 - val_accuracy: 0.9218\n",
      "Epoch 34/100\n",
      "193/193 [==============================] - 0s 2ms/step - loss: 0.1891 - accuracy: 0.9206 - val_loss: 0.1864 - val_accuracy: 0.9217\n",
      "Epoch 35/100\n",
      "193/193 [==============================] - 0s 2ms/step - loss: 0.1895 - accuracy: 0.9202 - val_loss: 0.1866 - val_accuracy: 0.9214\n",
      "Epoch 36/100\n",
      "193/193 [==============================] - 0s 2ms/step - loss: 0.1893 - accuracy: 0.9201 - val_loss: 0.1861 - val_accuracy: 0.9216\n",
      "Epoch 37/100\n",
      "193/193 [==============================] - 0s 2ms/step - loss: 0.1894 - accuracy: 0.9204 - val_loss: 0.1863 - val_accuracy: 0.9221\n",
      "Epoch 38/100\n",
      "193/193 [==============================] - 0s 2ms/step - loss: 0.1891 - accuracy: 0.9208 - val_loss: 0.1862 - val_accuracy: 0.9216\n",
      "Epoch 39/100\n",
      "193/193 [==============================] - 0s 2ms/step - loss: 0.1889 - accuracy: 0.9208 - val_loss: 0.1854 - val_accuracy: 0.9221\n",
      "Epoch 40/100\n",
      "193/193 [==============================] - 0s 2ms/step - loss: 0.1888 - accuracy: 0.9207 - val_loss: 0.1856 - val_accuracy: 0.9219\n",
      "Epoch 41/100\n",
      "193/193 [==============================] - 0s 2ms/step - loss: 0.1889 - accuracy: 0.9208 - val_loss: 0.1855 - val_accuracy: 0.9220\n",
      "Epoch 42/100\n",
      "193/193 [==============================] - 0s 2ms/step - loss: 0.1890 - accuracy: 0.9206 - val_loss: 0.1851 - val_accuracy: 0.9223\n",
      "Epoch 43/100\n",
      "193/193 [==============================] - 0s 2ms/step - loss: 0.1890 - accuracy: 0.9208 - val_loss: 0.1857 - val_accuracy: 0.9219\n",
      "Epoch 44/100\n",
      "193/193 [==============================] - 0s 2ms/step - loss: 0.1890 - accuracy: 0.9204 - val_loss: 0.1853 - val_accuracy: 0.9222\n",
      "Epoch 45/100\n",
      "193/193 [==============================] - 0s 2ms/step - loss: 0.1887 - accuracy: 0.9206 - val_loss: 0.1856 - val_accuracy: 0.9221\n",
      "Epoch 46/100\n",
      "193/193 [==============================] - 0s 2ms/step - loss: 0.1890 - accuracy: 0.9205 - val_loss: 0.1851 - val_accuracy: 0.9219\n",
      "Epoch 47/100\n",
      "193/193 [==============================] - 0s 2ms/step - loss: 0.1887 - accuracy: 0.9207 - val_loss: 0.1882 - val_accuracy: 0.9213\n",
      "Epoch 48/100\n",
      "193/193 [==============================] - 0s 2ms/step - loss: 0.1887 - accuracy: 0.9206 - val_loss: 0.1855 - val_accuracy: 0.9223\n",
      "Epoch 49/100\n",
      "193/193 [==============================] - 0s 2ms/step - loss: 0.1889 - accuracy: 0.9207 - val_loss: 0.1881 - val_accuracy: 0.9204\n",
      "Epoch 50/100\n",
      "193/193 [==============================] - 0s 2ms/step - loss: 0.1884 - accuracy: 0.9205 - val_loss: 0.1853 - val_accuracy: 0.9217\n",
      "Epoch 51/100\n",
      "193/193 [==============================] - 0s 2ms/step - loss: 0.1885 - accuracy: 0.9208 - val_loss: 0.1848 - val_accuracy: 0.9226\n",
      "Epoch 52/100\n",
      "193/193 [==============================] - 0s 2ms/step - loss: 0.1886 - accuracy: 0.9208 - val_loss: 0.1856 - val_accuracy: 0.9218\n",
      "Epoch 53/100\n",
      "193/193 [==============================] - 0s 2ms/step - loss: 0.1886 - accuracy: 0.9206 - val_loss: 0.1854 - val_accuracy: 0.9220\n",
      "Epoch 54/100\n",
      "193/193 [==============================] - 0s 2ms/step - loss: 0.1887 - accuracy: 0.9207 - val_loss: 0.1850 - val_accuracy: 0.9224\n",
      "Epoch 55/100\n",
      "193/193 [==============================] - 0s 2ms/step - loss: 0.1883 - accuracy: 0.9209 - val_loss: 0.1852 - val_accuracy: 0.9218\n",
      "Epoch 56/100\n",
      "193/193 [==============================] - 0s 2ms/step - loss: 0.1884 - accuracy: 0.9208 - val_loss: 0.1884 - val_accuracy: 0.9208\n",
      "Epoch 57/100\n",
      "193/193 [==============================] - 0s 2ms/step - loss: 0.1885 - accuracy: 0.9207 - val_loss: 0.1864 - val_accuracy: 0.9216\n",
      "Epoch 58/100\n",
      "193/193 [==============================] - 0s 2ms/step - loss: 0.1883 - accuracy: 0.9208 - val_loss: 0.1840 - val_accuracy: 0.9225\n",
      "Epoch 59/100\n",
      "193/193 [==============================] - 0s 2ms/step - loss: 0.1884 - accuracy: 0.9205 - val_loss: 0.1857 - val_accuracy: 0.9224\n",
      "Epoch 60/100\n",
      "193/193 [==============================] - 0s 2ms/step - loss: 0.1881 - accuracy: 0.9207 - val_loss: 0.1863 - val_accuracy: 0.9217\n",
      "Epoch 61/100\n",
      "193/193 [==============================] - 0s 2ms/step - loss: 0.1882 - accuracy: 0.9209 - val_loss: 0.1848 - val_accuracy: 0.9222\n",
      "Epoch 62/100\n",
      "193/193 [==============================] - 0s 2ms/step - loss: 0.1879 - accuracy: 0.9209 - val_loss: 0.1851 - val_accuracy: 0.9221\n",
      "Epoch 63/100\n",
      "193/193 [==============================] - 0s 2ms/step - loss: 0.1878 - accuracy: 0.9209 - val_loss: 0.1852 - val_accuracy: 0.9220\n",
      "Epoch 64/100\n",
      "193/193 [==============================] - 0s 2ms/step - loss: 0.1886 - accuracy: 0.9204 - val_loss: 0.1847 - val_accuracy: 0.9223\n",
      "Epoch 65/100\n",
      "193/193 [==============================] - 0s 2ms/step - loss: 0.1879 - accuracy: 0.9208 - val_loss: 0.1842 - val_accuracy: 0.9228\n",
      "Epoch 66/100\n",
      "193/193 [==============================] - 0s 2ms/step - loss: 0.1879 - accuracy: 0.9213 - val_loss: 0.1849 - val_accuracy: 0.9220\n",
      "Epoch 67/100\n",
      "193/193 [==============================] - 0s 2ms/step - loss: 0.1879 - accuracy: 0.9208 - val_loss: 0.1847 - val_accuracy: 0.9221\n",
      "Epoch 68/100\n",
      "193/193 [==============================] - 0s 2ms/step - loss: 0.1882 - accuracy: 0.9206 - val_loss: 0.1854 - val_accuracy: 0.9218\n",
      "Epoch 69/100\n",
      "193/193 [==============================] - 0s 2ms/step - loss: 0.1878 - accuracy: 0.9208 - val_loss: 0.1839 - val_accuracy: 0.9225\n",
      "Epoch 70/100\n",
      "193/193 [==============================] - 0s 2ms/step - loss: 0.1877 - accuracy: 0.9208 - val_loss: 0.1838 - val_accuracy: 0.9229\n",
      "Epoch 71/100\n",
      "193/193 [==============================] - 0s 2ms/step - loss: 0.1878 - accuracy: 0.9209 - val_loss: 0.1866 - val_accuracy: 0.9217\n",
      "Epoch 72/100\n",
      "193/193 [==============================] - 0s 2ms/step - loss: 0.1876 - accuracy: 0.9211 - val_loss: 0.1860 - val_accuracy: 0.9214\n",
      "Epoch 73/100\n",
      "193/193 [==============================] - 0s 2ms/step - loss: 0.1875 - accuracy: 0.9212 - val_loss: 0.1843 - val_accuracy: 0.9225\n",
      "Epoch 74/100\n",
      "193/193 [==============================] - 0s 2ms/step - loss: 0.1878 - accuracy: 0.9210 - val_loss: 0.1839 - val_accuracy: 0.9225\n",
      "Epoch 75/100\n",
      "193/193 [==============================] - 0s 2ms/step - loss: 0.1878 - accuracy: 0.9206 - val_loss: 0.1855 - val_accuracy: 0.9221\n",
      "Epoch 76/100\n",
      "193/193 [==============================] - 0s 2ms/step - loss: 0.1876 - accuracy: 0.9209 - val_loss: 0.1850 - val_accuracy: 0.9223\n",
      "Epoch 77/100\n",
      "193/193 [==============================] - 0s 2ms/step - loss: 0.1880 - accuracy: 0.9205 - val_loss: 0.1844 - val_accuracy: 0.9226\n",
      "Epoch 78/100\n",
      "193/193 [==============================] - 0s 2ms/step - loss: 0.1876 - accuracy: 0.9210 - val_loss: 0.1836 - val_accuracy: 0.9231\n",
      "Epoch 79/100\n",
      "193/193 [==============================] - 0s 2ms/step - loss: 0.1873 - accuracy: 0.9209 - val_loss: 0.1838 - val_accuracy: 0.9224\n",
      "Epoch 80/100\n",
      "193/193 [==============================] - 0s 2ms/step - loss: 0.1876 - accuracy: 0.9213 - val_loss: 0.1840 - val_accuracy: 0.9225\n",
      "Epoch 81/100\n",
      "193/193 [==============================] - 0s 2ms/step - loss: 0.1873 - accuracy: 0.9210 - val_loss: 0.1837 - val_accuracy: 0.9225\n",
      "Epoch 82/100\n",
      "193/193 [==============================] - 0s 2ms/step - loss: 0.1872 - accuracy: 0.9208 - val_loss: 0.1846 - val_accuracy: 0.9222\n",
      "Epoch 83/100\n",
      "193/193 [==============================] - 0s 2ms/step - loss: 0.1873 - accuracy: 0.9211 - val_loss: 0.1845 - val_accuracy: 0.9225\n",
      "Epoch 84/100\n",
      "193/193 [==============================] - 0s 2ms/step - loss: 0.1872 - accuracy: 0.9212 - val_loss: 0.1839 - val_accuracy: 0.9226\n",
      "Epoch 85/100\n",
      "193/193 [==============================] - 0s 2ms/step - loss: 0.1876 - accuracy: 0.9209 - val_loss: 0.1860 - val_accuracy: 0.9215\n",
      "Epoch 86/100\n",
      "193/193 [==============================] - 0s 2ms/step - loss: 0.1876 - accuracy: 0.9206 - val_loss: 0.1834 - val_accuracy: 0.9224\n",
      "Epoch 87/100\n",
      "193/193 [==============================] - 0s 2ms/step - loss: 0.1870 - accuracy: 0.9209 - val_loss: 0.1855 - val_accuracy: 0.9218\n",
      "Epoch 88/100\n",
      "193/193 [==============================] - 0s 2ms/step - loss: 0.1871 - accuracy: 0.9210 - val_loss: 0.1831 - val_accuracy: 0.9227\n",
      "Epoch 89/100\n",
      "193/193 [==============================] - 0s 2ms/step - loss: 0.1868 - accuracy: 0.9211 - val_loss: 0.1857 - val_accuracy: 0.9211\n",
      "Epoch 90/100\n",
      "193/193 [==============================] - 0s 2ms/step - loss: 0.1868 - accuracy: 0.9212 - val_loss: 0.1839 - val_accuracy: 0.9221\n",
      "Epoch 91/100\n",
      "193/193 [==============================] - 0s 2ms/step - loss: 0.1871 - accuracy: 0.9210 - val_loss: 0.1836 - val_accuracy: 0.9223\n",
      "Epoch 92/100\n",
      "193/193 [==============================] - 0s 2ms/step - loss: 0.1869 - accuracy: 0.9210 - val_loss: 0.1835 - val_accuracy: 0.9223\n",
      "Epoch 93/100\n",
      "193/193 [==============================] - 0s 2ms/step - loss: 0.1871 - accuracy: 0.9209 - val_loss: 0.1835 - val_accuracy: 0.9226\n",
      "Epoch 94/100\n",
      "193/193 [==============================] - 0s 2ms/step - loss: 0.1872 - accuracy: 0.9216 - val_loss: 0.1846 - val_accuracy: 0.9220\n",
      "Epoch 95/100\n",
      "193/193 [==============================] - 0s 2ms/step - loss: 0.1867 - accuracy: 0.9210 - val_loss: 0.1867 - val_accuracy: 0.9212\n",
      "Epoch 96/100\n",
      "193/193 [==============================] - 0s 2ms/step - loss: 0.1873 - accuracy: 0.9208 - val_loss: 0.1857 - val_accuracy: 0.9216\n",
      "Epoch 97/100\n",
      "193/193 [==============================] - 0s 2ms/step - loss: 0.1872 - accuracy: 0.9211 - val_loss: 0.1853 - val_accuracy: 0.9214\n",
      "Epoch 98/100\n",
      "193/193 [==============================] - 0s 2ms/step - loss: 0.1870 - accuracy: 0.9210 - val_loss: 0.1837 - val_accuracy: 0.9224\n",
      "Epoch 99/100\n",
      "193/193 [==============================] - 0s 2ms/step - loss: 0.1868 - accuracy: 0.9211 - val_loss: 0.1826 - val_accuracy: 0.9232\n",
      "Epoch 100/100\n",
      "193/193 [==============================] - 0s 2ms/step - loss: 0.1870 - accuracy: 0.9210 - val_loss: 0.1849 - val_accuracy: 0.9218\n"
     ]
    }
   ],
   "source": [
    "myhistory = model_dedicated.fit(X_train_100, Y_train_100, epochs=100,validation_data=(X_val_100, Y_val_100),batch_size=1024)"
   ]
  },
  {
   "cell_type": "code",
   "execution_count": 34,
   "id": "8e96bbc7-0e15-463b-b3bf-cf15e7b8a757",
   "metadata": {
    "tags": []
   },
   "outputs": [],
   "source": [
    "wandb.finish()"
   ]
  },
  {
   "cell_type": "code",
   "execution_count": 53,
   "id": "24e50b09-5c2f-40cc-9085-aedcf3e1e049",
   "metadata": {
    "tags": []
   },
   "outputs": [
    {
     "name": "stdout",
     "output_type": "stream",
     "text": [
      "INFO:tensorflow:Assets written to: model_100_BCE/assets\n"
     ]
    }
   ],
   "source": [
    "#model_dedicated.save(\"model_100_BCE\")"
   ]
  },
  {
   "cell_type": "code",
   "execution_count": 79,
   "id": "adbd33a5-5b59-44e4-9c12-916d06c4f78f",
   "metadata": {
    "collapsed": true,
    "jupyter": {
     "outputs_hidden": true
    },
    "tags": []
   },
   "outputs": [
    {
     "name": "stdout",
     "output_type": "stream",
     "text": [
      "Epoch 1/1000\n",
      "97/97 [==============================] - 1s 4ms/step - loss: 0.3718 - accuracy: 0.8337 - val_loss: 0.3105 - val_accuracy: 0.8645\n",
      "Epoch 2/1000\n",
      "97/97 [==============================] - 0s 3ms/step - loss: 0.3054 - accuracy: 0.8652 - val_loss: 0.2977 - val_accuracy: 0.8689\n",
      "Epoch 3/1000\n",
      "97/97 [==============================] - 0s 4ms/step - loss: 0.2968 - accuracy: 0.8679 - val_loss: 0.2928 - val_accuracy: 0.8708\n",
      "Epoch 4/1000\n",
      "97/97 [==============================] - 0s 3ms/step - loss: 0.2936 - accuracy: 0.8692 - val_loss: 0.2947 - val_accuracy: 0.8698\n",
      "Epoch 5/1000\n",
      "97/97 [==============================] - 0s 3ms/step - loss: 0.2939 - accuracy: 0.8695 - val_loss: 0.2888 - val_accuracy: 0.8726\n",
      "Epoch 6/1000\n",
      "97/97 [==============================] - 0s 3ms/step - loss: 0.2924 - accuracy: 0.8706 - val_loss: 0.2896 - val_accuracy: 0.8727\n",
      "Epoch 7/1000\n",
      "97/97 [==============================] - 0s 3ms/step - loss: 0.2922 - accuracy: 0.8703 - val_loss: 0.2978 - val_accuracy: 0.8688\n",
      "Epoch 8/1000\n",
      "97/97 [==============================] - 0s 3ms/step - loss: 0.2902 - accuracy: 0.8723 - val_loss: 0.2907 - val_accuracy: 0.8717\n",
      "Epoch 9/1000\n",
      "97/97 [==============================] - 0s 3ms/step - loss: 0.2895 - accuracy: 0.8724 - val_loss: 0.2866 - val_accuracy: 0.8754\n",
      "Epoch 10/1000\n",
      "97/97 [==============================] - 0s 3ms/step - loss: 0.2882 - accuracy: 0.8740 - val_loss: 0.2940 - val_accuracy: 0.8713\n",
      "Epoch 11/1000\n",
      "97/97 [==============================] - 0s 3ms/step - loss: 0.2863 - accuracy: 0.8746 - val_loss: 0.2832 - val_accuracy: 0.8770\n",
      "Epoch 12/1000\n",
      "97/97 [==============================] - 0s 3ms/step - loss: 0.2847 - accuracy: 0.8767 - val_loss: 0.2815 - val_accuracy: 0.8795\n",
      "Epoch 13/1000\n",
      "97/97 [==============================] - 0s 3ms/step - loss: 0.2836 - accuracy: 0.8765 - val_loss: 0.2832 - val_accuracy: 0.8771\n",
      "Epoch 14/1000\n",
      "97/97 [==============================] - 0s 3ms/step - loss: 0.2811 - accuracy: 0.8786 - val_loss: 0.2832 - val_accuracy: 0.8776\n",
      "Epoch 15/1000\n",
      "97/97 [==============================] - 0s 3ms/step - loss: 0.2814 - accuracy: 0.8767 - val_loss: 0.2815 - val_accuracy: 0.8787\n",
      "Epoch 16/1000\n",
      "97/97 [==============================] - 0s 3ms/step - loss: 0.2805 - accuracy: 0.8785 - val_loss: 0.2804 - val_accuracy: 0.8793\n",
      "Epoch 17/1000\n",
      "97/97 [==============================] - 0s 3ms/step - loss: 0.2786 - accuracy: 0.8800 - val_loss: 0.2766 - val_accuracy: 0.8807\n",
      "Epoch 18/1000\n",
      "97/97 [==============================] - 0s 3ms/step - loss: 0.2778 - accuracy: 0.8799 - val_loss: 0.2794 - val_accuracy: 0.8787\n",
      "Epoch 19/1000\n",
      "97/97 [==============================] - 0s 3ms/step - loss: 0.2766 - accuracy: 0.8802 - val_loss: 0.2820 - val_accuracy: 0.8784\n",
      "Epoch 20/1000\n",
      "97/97 [==============================] - 0s 4ms/step - loss: 0.2772 - accuracy: 0.8802 - val_loss: 0.2817 - val_accuracy: 0.8764\n",
      "Epoch 21/1000\n",
      "97/97 [==============================] - 0s 3ms/step - loss: 0.2773 - accuracy: 0.8801 - val_loss: 0.2815 - val_accuracy: 0.8780\n",
      "Epoch 22/1000\n",
      "97/97 [==============================] - 0s 3ms/step - loss: 0.2765 - accuracy: 0.8803 - val_loss: 0.2765 - val_accuracy: 0.8803\n",
      "Epoch 23/1000\n",
      "97/97 [==============================] - 0s 3ms/step - loss: 0.2769 - accuracy: 0.8799 - val_loss: 0.2758 - val_accuracy: 0.8809\n",
      "Epoch 24/1000\n",
      "97/97 [==============================] - 0s 3ms/step - loss: 0.2760 - accuracy: 0.8804 - val_loss: 0.2741 - val_accuracy: 0.8815\n",
      "Epoch 25/1000\n",
      "97/97 [==============================] - 0s 3ms/step - loss: 0.2748 - accuracy: 0.8812 - val_loss: 0.2757 - val_accuracy: 0.8810\n",
      "Epoch 26/1000\n",
      "97/97 [==============================] - 0s 3ms/step - loss: 0.2756 - accuracy: 0.8808 - val_loss: 0.2771 - val_accuracy: 0.8807\n",
      "Epoch 27/1000\n",
      "97/97 [==============================] - 0s 3ms/step - loss: 0.2749 - accuracy: 0.8808 - val_loss: 0.2762 - val_accuracy: 0.8806\n",
      "Epoch 28/1000\n",
      "97/97 [==============================] - 0s 3ms/step - loss: 0.2766 - accuracy: 0.8808 - val_loss: 0.2808 - val_accuracy: 0.8793\n",
      "Epoch 29/1000\n",
      "97/97 [==============================] - 0s 3ms/step - loss: 0.2753 - accuracy: 0.8814 - val_loss: 0.2738 - val_accuracy: 0.8819\n",
      "Epoch 30/1000\n",
      "97/97 [==============================] - 0s 3ms/step - loss: 0.2756 - accuracy: 0.8808 - val_loss: 0.2809 - val_accuracy: 0.8786\n",
      "Epoch 31/1000\n",
      "97/97 [==============================] - 0s 3ms/step - loss: 0.2742 - accuracy: 0.8813 - val_loss: 0.2769 - val_accuracy: 0.8809\n",
      "Epoch 32/1000\n",
      "97/97 [==============================] - 0s 3ms/step - loss: 0.2747 - accuracy: 0.8811 - val_loss: 0.2773 - val_accuracy: 0.8804\n",
      "Epoch 33/1000\n",
      "97/97 [==============================] - 0s 3ms/step - loss: 0.2757 - accuracy: 0.8807 - val_loss: 0.2751 - val_accuracy: 0.8812\n",
      "Epoch 34/1000\n",
      "97/97 [==============================] - 0s 3ms/step - loss: 0.2753 - accuracy: 0.8813 - val_loss: 0.2749 - val_accuracy: 0.8815\n",
      "99/99 [==============================] - 0s 684us/step\n",
      "Epoch 1/1000\n",
      "97/97 [==============================] - 1s 4ms/step - loss: 0.3221 - accuracy: 0.8634 - val_loss: 0.2658 - val_accuracy: 0.8911\n",
      "Epoch 2/1000\n",
      "97/97 [==============================] - 0s 3ms/step - loss: 0.2485 - accuracy: 0.8978 - val_loss: 0.2322 - val_accuracy: 0.9039\n",
      "Epoch 3/1000\n",
      "97/97 [==============================] - 0s 3ms/step - loss: 0.2203 - accuracy: 0.9082 - val_loss: 0.2134 - val_accuracy: 0.9112\n",
      "Epoch 4/1000\n",
      "97/97 [==============================] - 0s 3ms/step - loss: 0.2059 - accuracy: 0.9138 - val_loss: 0.2041 - val_accuracy: 0.9150\n",
      "Epoch 5/1000\n",
      "97/97 [==============================] - 0s 3ms/step - loss: 0.2026 - accuracy: 0.9155 - val_loss: 0.2000 - val_accuracy: 0.9158\n",
      "Epoch 6/1000\n",
      "97/97 [==============================] - 0s 3ms/step - loss: 0.2040 - accuracy: 0.9146 - val_loss: 0.2047 - val_accuracy: 0.9131\n",
      "Epoch 7/1000\n",
      "97/97 [==============================] - 0s 3ms/step - loss: 0.2001 - accuracy: 0.9162 - val_loss: 0.1998 - val_accuracy: 0.9170\n",
      "Epoch 8/1000\n",
      "97/97 [==============================] - 0s 3ms/step - loss: 0.2002 - accuracy: 0.9162 - val_loss: 0.1995 - val_accuracy: 0.9157\n",
      "Epoch 9/1000\n",
      "97/97 [==============================] - 0s 3ms/step - loss: 0.1992 - accuracy: 0.9164 - val_loss: 0.1993 - val_accuracy: 0.9166\n",
      "Epoch 10/1000\n",
      "97/97 [==============================] - 0s 3ms/step - loss: 0.2006 - accuracy: 0.9156 - val_loss: 0.2014 - val_accuracy: 0.9155\n",
      "Epoch 11/1000\n",
      "97/97 [==============================] - 0s 3ms/step - loss: 0.1994 - accuracy: 0.9168 - val_loss: 0.1994 - val_accuracy: 0.9162\n",
      "Epoch 12/1000\n",
      "97/97 [==============================] - 0s 3ms/step - loss: 0.1992 - accuracy: 0.9171 - val_loss: 0.2019 - val_accuracy: 0.9147\n",
      "Epoch 13/1000\n",
      "97/97 [==============================] - 0s 3ms/step - loss: 0.1987 - accuracy: 0.9169 - val_loss: 0.1985 - val_accuracy: 0.9171\n",
      "Epoch 14/1000\n",
      "97/97 [==============================] - 0s 3ms/step - loss: 0.1992 - accuracy: 0.9163 - val_loss: 0.1995 - val_accuracy: 0.9162\n",
      "Epoch 15/1000\n",
      "97/97 [==============================] - 0s 3ms/step - loss: 0.1995 - accuracy: 0.9162 - val_loss: 0.2024 - val_accuracy: 0.9152\n",
      "Epoch 16/1000\n",
      "97/97 [==============================] - 0s 3ms/step - loss: 0.1985 - accuracy: 0.9167 - val_loss: 0.1982 - val_accuracy: 0.9168\n",
      "Epoch 17/1000\n",
      "97/97 [==============================] - 0s 4ms/step - loss: 0.1974 - accuracy: 0.9173 - val_loss: 0.1976 - val_accuracy: 0.9170\n",
      "Epoch 18/1000\n",
      "97/97 [==============================] - 0s 3ms/step - loss: 0.1985 - accuracy: 0.9172 - val_loss: 0.1986 - val_accuracy: 0.9163\n",
      "Epoch 19/1000\n",
      "97/97 [==============================] - 0s 3ms/step - loss: 0.1974 - accuracy: 0.9178 - val_loss: 0.2003 - val_accuracy: 0.9159\n",
      "Epoch 20/1000\n",
      "97/97 [==============================] - 0s 3ms/step - loss: 0.1986 - accuracy: 0.9170 - val_loss: 0.1977 - val_accuracy: 0.9170\n",
      "Epoch 21/1000\n",
      "97/97 [==============================] - 0s 3ms/step - loss: 0.1974 - accuracy: 0.9175 - val_loss: 0.1980 - val_accuracy: 0.9170\n",
      "Epoch 22/1000\n",
      "97/97 [==============================] - 0s 3ms/step - loss: 0.1977 - accuracy: 0.9173 - val_loss: 0.1998 - val_accuracy: 0.9158\n",
      "99/99 [==============================] - 0s 661us/step\n",
      "Epoch 1/1000\n",
      "97/97 [==============================] - 1s 4ms/step - loss: 0.2110 - accuracy: 0.9188 - val_loss: 0.1409 - val_accuracy: 0.9456\n",
      "Epoch 2/1000\n",
      "97/97 [==============================] - 0s 3ms/step - loss: 0.1364 - accuracy: 0.9472 - val_loss: 0.1342 - val_accuracy: 0.9480\n",
      "Epoch 3/1000\n",
      "97/97 [==============================] - 0s 3ms/step - loss: 0.1332 - accuracy: 0.9480 - val_loss: 0.1312 - val_accuracy: 0.9494\n",
      "Epoch 4/1000\n",
      "97/97 [==============================] - 0s 3ms/step - loss: 0.1310 - accuracy: 0.9488 - val_loss: 0.1312 - val_accuracy: 0.9484\n",
      "Epoch 5/1000\n",
      "97/97 [==============================] - 0s 3ms/step - loss: 0.1304 - accuracy: 0.9491 - val_loss: 0.1296 - val_accuracy: 0.9497\n",
      "Epoch 6/1000\n",
      "97/97 [==============================] - 0s 3ms/step - loss: 0.1291 - accuracy: 0.9496 - val_loss: 0.1288 - val_accuracy: 0.9499\n",
      "Epoch 7/1000\n",
      "97/97 [==============================] - 0s 3ms/step - loss: 0.1289 - accuracy: 0.9490 - val_loss: 0.1296 - val_accuracy: 0.9493\n",
      "Epoch 8/1000\n",
      "97/97 [==============================] - 0s 3ms/step - loss: 0.1294 - accuracy: 0.9486 - val_loss: 0.1342 - val_accuracy: 0.9477\n",
      "Epoch 9/1000\n",
      "97/97 [==============================] - 0s 4ms/step - loss: 0.1285 - accuracy: 0.9492 - val_loss: 0.1290 - val_accuracy: 0.9493\n",
      "Epoch 10/1000\n",
      "97/97 [==============================] - 0s 3ms/step - loss: 0.1282 - accuracy: 0.9499 - val_loss: 0.1287 - val_accuracy: 0.9498\n",
      "Epoch 11/1000\n",
      "97/97 [==============================] - 0s 3ms/step - loss: 0.1275 - accuracy: 0.9495 - val_loss: 0.1280 - val_accuracy: 0.9499\n",
      "Epoch 12/1000\n",
      "97/97 [==============================] - 0s 3ms/step - loss: 0.1274 - accuracy: 0.9493 - val_loss: 0.1285 - val_accuracy: 0.9499\n",
      "Epoch 13/1000\n",
      "97/97 [==============================] - 0s 3ms/step - loss: 0.1276 - accuracy: 0.9496 - val_loss: 0.1306 - val_accuracy: 0.9486\n",
      "Epoch 14/1000\n",
      "97/97 [==============================] - 0s 3ms/step - loss: 0.1276 - accuracy: 0.9492 - val_loss: 0.1278 - val_accuracy: 0.9499\n",
      "Epoch 15/1000\n",
      "97/97 [==============================] - 0s 3ms/step - loss: 0.1273 - accuracy: 0.9493 - val_loss: 0.1286 - val_accuracy: 0.9494\n",
      "Epoch 16/1000\n",
      "97/97 [==============================] - 0s 3ms/step - loss: 0.1270 - accuracy: 0.9497 - val_loss: 0.1280 - val_accuracy: 0.9494\n",
      "Epoch 17/1000\n",
      "97/97 [==============================] - 0s 3ms/step - loss: 0.1275 - accuracy: 0.9496 - val_loss: 0.1287 - val_accuracy: 0.9497\n",
      "Epoch 18/1000\n",
      "97/97 [==============================] - 0s 3ms/step - loss: 0.1266 - accuracy: 0.9497 - val_loss: 0.1274 - val_accuracy: 0.9498\n",
      "Epoch 19/1000\n",
      "97/97 [==============================] - 0s 3ms/step - loss: 0.1258 - accuracy: 0.9501 - val_loss: 0.1270 - val_accuracy: 0.9502\n",
      "Epoch 20/1000\n",
      "97/97 [==============================] - 0s 3ms/step - loss: 0.1259 - accuracy: 0.9502 - val_loss: 0.1279 - val_accuracy: 0.9500\n",
      "Epoch 21/1000\n",
      "97/97 [==============================] - 0s 3ms/step - loss: 0.1256 - accuracy: 0.9501 - val_loss: 0.1273 - val_accuracy: 0.9498\n",
      "Epoch 22/1000\n",
      "97/97 [==============================] - 0s 3ms/step - loss: 0.1248 - accuracy: 0.9502 - val_loss: 0.1262 - val_accuracy: 0.9504\n",
      "Epoch 23/1000\n",
      "97/97 [==============================] - 0s 3ms/step - loss: 0.1247 - accuracy: 0.9501 - val_loss: 0.1259 - val_accuracy: 0.9507\n",
      "Epoch 24/1000\n",
      "97/97 [==============================] - 0s 3ms/step - loss: 0.1247 - accuracy: 0.9501 - val_loss: 0.1266 - val_accuracy: 0.9502\n",
      "Epoch 25/1000\n",
      "97/97 [==============================] - 0s 3ms/step - loss: 0.1241 - accuracy: 0.9503 - val_loss: 0.1271 - val_accuracy: 0.9502\n",
      "Epoch 26/1000\n",
      "97/97 [==============================] - 0s 4ms/step - loss: 0.1245 - accuracy: 0.9505 - val_loss: 0.1261 - val_accuracy: 0.9504\n",
      "Epoch 27/1000\n",
      "97/97 [==============================] - 0s 3ms/step - loss: 0.1242 - accuracy: 0.9497 - val_loss: 0.1265 - val_accuracy: 0.9506\n",
      "Epoch 28/1000\n",
      "97/97 [==============================] - 0s 3ms/step - loss: 0.1249 - accuracy: 0.9501 - val_loss: 0.1244 - val_accuracy: 0.9508\n",
      "Epoch 29/1000\n",
      "97/97 [==============================] - 0s 3ms/step - loss: 0.1234 - accuracy: 0.9509 - val_loss: 0.1264 - val_accuracy: 0.9499\n",
      "Epoch 30/1000\n",
      "97/97 [==============================] - 0s 3ms/step - loss: 0.1233 - accuracy: 0.9507 - val_loss: 0.1245 - val_accuracy: 0.9506\n",
      "Epoch 31/1000\n",
      "97/97 [==============================] - 0s 3ms/step - loss: 0.1228 - accuracy: 0.9505 - val_loss: 0.1245 - val_accuracy: 0.9510\n",
      "Epoch 32/1000\n",
      "97/97 [==============================] - 0s 3ms/step - loss: 0.1227 - accuracy: 0.9507 - val_loss: 0.1238 - val_accuracy: 0.9516\n",
      "Epoch 33/1000\n",
      "97/97 [==============================] - 0s 3ms/step - loss: 0.1224 - accuracy: 0.9512 - val_loss: 0.1239 - val_accuracy: 0.9508\n",
      "Epoch 34/1000\n",
      "97/97 [==============================] - 0s 3ms/step - loss: 0.1219 - accuracy: 0.9514 - val_loss: 0.1249 - val_accuracy: 0.9504\n",
      "Epoch 35/1000\n",
      "97/97 [==============================] - 0s 3ms/step - loss: 0.1226 - accuracy: 0.9513 - val_loss: 0.1268 - val_accuracy: 0.9498\n",
      "Epoch 36/1000\n",
      "97/97 [==============================] - 0s 3ms/step - loss: 0.1223 - accuracy: 0.9506 - val_loss: 0.1247 - val_accuracy: 0.9510\n",
      "Epoch 37/1000\n",
      "97/97 [==============================] - 0s 3ms/step - loss: 0.1226 - accuracy: 0.9509 - val_loss: 0.1298 - val_accuracy: 0.9488\n",
      "99/99 [==============================] - 0s 657us/step\n",
      "Epoch 1/1000\n",
      "96/96 [==============================] - 1s 4ms/step - loss: 0.1882 - accuracy: 0.9323 - val_loss: 0.1338 - val_accuracy: 0.9526\n",
      "Epoch 2/1000\n",
      "96/96 [==============================] - 0s 3ms/step - loss: 0.1281 - accuracy: 0.9537 - val_loss: 0.1290 - val_accuracy: 0.9531\n",
      "Epoch 3/1000\n",
      "96/96 [==============================] - 0s 3ms/step - loss: 0.1238 - accuracy: 0.9545 - val_loss: 0.1249 - val_accuracy: 0.9543\n",
      "Epoch 4/1000\n",
      "96/96 [==============================] - 0s 4ms/step - loss: 0.1218 - accuracy: 0.9547 - val_loss: 0.1238 - val_accuracy: 0.9546\n",
      "Epoch 5/1000\n",
      "96/96 [==============================] - 0s 3ms/step - loss: 0.1206 - accuracy: 0.9551 - val_loss: 0.1215 - val_accuracy: 0.9550\n",
      "Epoch 6/1000\n",
      "96/96 [==============================] - 0s 3ms/step - loss: 0.1190 - accuracy: 0.9556 - val_loss: 0.1211 - val_accuracy: 0.9552\n",
      "Epoch 7/1000\n",
      "96/96 [==============================] - 0s 3ms/step - loss: 0.1179 - accuracy: 0.9557 - val_loss: 0.1202 - val_accuracy: 0.9554\n",
      "Epoch 8/1000\n",
      "96/96 [==============================] - 0s 3ms/step - loss: 0.1149 - accuracy: 0.9567 - val_loss: 0.1169 - val_accuracy: 0.9564\n",
      "Epoch 9/1000\n",
      "96/96 [==============================] - 0s 3ms/step - loss: 0.1137 - accuracy: 0.9571 - val_loss: 0.1163 - val_accuracy: 0.9559\n",
      "Epoch 10/1000\n",
      "96/96 [==============================] - 0s 3ms/step - loss: 0.1132 - accuracy: 0.9570 - val_loss: 0.1162 - val_accuracy: 0.9562\n",
      "Epoch 11/1000\n",
      "96/96 [==============================] - 0s 3ms/step - loss: 0.1128 - accuracy: 0.9574 - val_loss: 0.1163 - val_accuracy: 0.9562\n",
      "Epoch 12/1000\n",
      "96/96 [==============================] - 0s 3ms/step - loss: 0.1119 - accuracy: 0.9577 - val_loss: 0.1147 - val_accuracy: 0.9567\n",
      "Epoch 13/1000\n",
      "96/96 [==============================] - 0s 3ms/step - loss: 0.1113 - accuracy: 0.9576 - val_loss: 0.1140 - val_accuracy: 0.9570\n",
      "Epoch 14/1000\n",
      "96/96 [==============================] - 0s 3ms/step - loss: 0.1115 - accuracy: 0.9576 - val_loss: 0.1152 - val_accuracy: 0.9565\n",
      "Epoch 15/1000\n",
      "96/96 [==============================] - 0s 3ms/step - loss: 0.1112 - accuracy: 0.9574 - val_loss: 0.1140 - val_accuracy: 0.9566\n",
      "Epoch 16/1000\n",
      "96/96 [==============================] - 0s 3ms/step - loss: 0.1108 - accuracy: 0.9579 - val_loss: 0.1137 - val_accuracy: 0.9570\n",
      "Epoch 17/1000\n",
      "96/96 [==============================] - 0s 3ms/step - loss: 0.1111 - accuracy: 0.9576 - val_loss: 0.1143 - val_accuracy: 0.9570\n",
      "Epoch 18/1000\n",
      "96/96 [==============================] - 0s 3ms/step - loss: 0.1108 - accuracy: 0.9573 - val_loss: 0.1133 - val_accuracy: 0.9570\n",
      "Epoch 19/1000\n",
      "96/96 [==============================] - 0s 3ms/step - loss: 0.1111 - accuracy: 0.9575 - val_loss: 0.1137 - val_accuracy: 0.9566\n",
      "Epoch 20/1000\n",
      "96/96 [==============================] - 0s 3ms/step - loss: 0.1107 - accuracy: 0.9575 - val_loss: 0.1128 - val_accuracy: 0.9573\n",
      "Epoch 21/1000\n",
      "96/96 [==============================] - 0s 4ms/step - loss: 0.1101 - accuracy: 0.9579 - val_loss: 0.1149 - val_accuracy: 0.9565\n",
      "Epoch 22/1000\n",
      "96/96 [==============================] - 0s 3ms/step - loss: 0.1108 - accuracy: 0.9580 - val_loss: 0.1155 - val_accuracy: 0.9568\n",
      "Epoch 23/1000\n",
      "96/96 [==============================] - 0s 3ms/step - loss: 0.1105 - accuracy: 0.9579 - val_loss: 0.1135 - val_accuracy: 0.9567\n",
      "Epoch 24/1000\n",
      "96/96 [==============================] - 0s 3ms/step - loss: 0.1098 - accuracy: 0.9578 - val_loss: 0.1139 - val_accuracy: 0.9566\n",
      "Epoch 25/1000\n",
      "96/96 [==============================] - 0s 3ms/step - loss: 0.1101 - accuracy: 0.9581 - val_loss: 0.1128 - val_accuracy: 0.9574\n",
      "98/98 [==============================] - 0s 669us/step\n",
      "Epoch 1/1000\n",
      "95/95 [==============================] - 1s 4ms/step - loss: 0.1900 - accuracy: 0.9342 - val_loss: 0.1396 - val_accuracy: 0.9476\n",
      "Epoch 2/1000\n",
      "95/95 [==============================] - 0s 3ms/step - loss: 0.1322 - accuracy: 0.9491 - val_loss: 0.1275 - val_accuracy: 0.9522\n",
      "Epoch 3/1000\n",
      "95/95 [==============================] - 0s 3ms/step - loss: 0.1267 - accuracy: 0.9514 - val_loss: 0.1278 - val_accuracy: 0.9522\n",
      "Epoch 4/1000\n",
      "95/95 [==============================] - 0s 3ms/step - loss: 0.1242 - accuracy: 0.9525 - val_loss: 0.1210 - val_accuracy: 0.9544\n",
      "Epoch 5/1000\n",
      "95/95 [==============================] - 0s 3ms/step - loss: 0.1218 - accuracy: 0.9538 - val_loss: 0.1206 - val_accuracy: 0.9540\n",
      "Epoch 6/1000\n",
      "95/95 [==============================] - 0s 3ms/step - loss: 0.1197 - accuracy: 0.9544 - val_loss: 0.1187 - val_accuracy: 0.9553\n",
      "Epoch 7/1000\n",
      "95/95 [==============================] - 0s 3ms/step - loss: 0.1191 - accuracy: 0.9547 - val_loss: 0.1175 - val_accuracy: 0.9558\n",
      "Epoch 8/1000\n",
      "95/95 [==============================] - 0s 3ms/step - loss: 0.1190 - accuracy: 0.9550 - val_loss: 0.1194 - val_accuracy: 0.9556\n",
      "Epoch 9/1000\n",
      "95/95 [==============================] - 0s 3ms/step - loss: 0.1188 - accuracy: 0.9550 - val_loss: 0.1193 - val_accuracy: 0.9551\n",
      "Epoch 10/1000\n",
      "95/95 [==============================] - 0s 3ms/step - loss: 0.1183 - accuracy: 0.9552 - val_loss: 0.1183 - val_accuracy: 0.9554\n",
      "Epoch 11/1000\n",
      "95/95 [==============================] - 0s 4ms/step - loss: 0.1177 - accuracy: 0.9554 - val_loss: 0.1181 - val_accuracy: 0.9554\n",
      "Epoch 12/1000\n",
      "95/95 [==============================] - 0s 3ms/step - loss: 0.1177 - accuracy: 0.9557 - val_loss: 0.1171 - val_accuracy: 0.9561\n",
      "Epoch 13/1000\n",
      "95/95 [==============================] - 0s 3ms/step - loss: 0.1178 - accuracy: 0.9557 - val_loss: 0.1207 - val_accuracy: 0.9547\n",
      "Epoch 14/1000\n",
      "95/95 [==============================] - 0s 3ms/step - loss: 0.1172 - accuracy: 0.9559 - val_loss: 0.1178 - val_accuracy: 0.9559\n",
      "Epoch 15/1000\n",
      "95/95 [==============================] - 0s 3ms/step - loss: 0.1166 - accuracy: 0.9560 - val_loss: 0.1172 - val_accuracy: 0.9560\n",
      "Epoch 16/1000\n",
      "95/95 [==============================] - 0s 3ms/step - loss: 0.1169 - accuracy: 0.9558 - val_loss: 0.1179 - val_accuracy: 0.9558\n",
      "Epoch 17/1000\n",
      "95/95 [==============================] - 0s 3ms/step - loss: 0.1173 - accuracy: 0.9556 - val_loss: 0.1185 - val_accuracy: 0.9556\n",
      "97/97 [==============================] - 0s 720us/step\n",
      "Epoch 1/1000\n",
      "92/92 [==============================] - 1s 4ms/step - loss: 0.1920 - accuracy: 0.9293 - val_loss: 0.1413 - val_accuracy: 0.9438\n",
      "Epoch 2/1000\n",
      "92/92 [==============================] - 0s 4ms/step - loss: 0.1344 - accuracy: 0.9462 - val_loss: 0.1324 - val_accuracy: 0.9478\n",
      "Epoch 3/1000\n",
      "92/92 [==============================] - 0s 3ms/step - loss: 0.1299 - accuracy: 0.9486 - val_loss: 0.1299 - val_accuracy: 0.9496\n",
      "Epoch 4/1000\n",
      "92/92 [==============================] - 0s 3ms/step - loss: 0.1278 - accuracy: 0.9497 - val_loss: 0.1285 - val_accuracy: 0.9503\n",
      "Epoch 5/1000\n",
      "92/92 [==============================] - 0s 3ms/step - loss: 0.1262 - accuracy: 0.9505 - val_loss: 0.1283 - val_accuracy: 0.9493\n",
      "Epoch 6/1000\n",
      "92/92 [==============================] - 0s 3ms/step - loss: 0.1263 - accuracy: 0.9506 - val_loss: 0.1281 - val_accuracy: 0.9502\n",
      "Epoch 7/1000\n",
      "92/92 [==============================] - 0s 3ms/step - loss: 0.1261 - accuracy: 0.9509 - val_loss: 0.1253 - val_accuracy: 0.9507\n",
      "Epoch 8/1000\n",
      "92/92 [==============================] - 0s 5ms/step - loss: 0.1245 - accuracy: 0.9510 - val_loss: 0.1266 - val_accuracy: 0.9513\n",
      "Epoch 9/1000\n",
      "92/92 [==============================] - 0s 3ms/step - loss: 0.1240 - accuracy: 0.9512 - val_loss: 0.1244 - val_accuracy: 0.9518\n",
      "Epoch 10/1000\n",
      "92/92 [==============================] - 0s 3ms/step - loss: 0.1226 - accuracy: 0.9521 - val_loss: 0.1243 - val_accuracy: 0.9521\n",
      "Epoch 11/1000\n",
      "92/92 [==============================] - 0s 3ms/step - loss: 0.1226 - accuracy: 0.9518 - val_loss: 0.1270 - val_accuracy: 0.9494\n",
      "Epoch 12/1000\n",
      "92/92 [==============================] - 0s 3ms/step - loss: 0.1229 - accuracy: 0.9519 - val_loss: 0.1261 - val_accuracy: 0.9515\n",
      "Epoch 13/1000\n",
      "92/92 [==============================] - 0s 3ms/step - loss: 0.1226 - accuracy: 0.9518 - val_loss: 0.1243 - val_accuracy: 0.9517\n",
      "Epoch 14/1000\n",
      "92/92 [==============================] - 0s 3ms/step - loss: 0.1226 - accuracy: 0.9524 - val_loss: 0.1245 - val_accuracy: 0.9517\n",
      "Epoch 15/1000\n",
      "92/92 [==============================] - 0s 3ms/step - loss: 0.1220 - accuracy: 0.9525 - val_loss: 0.1240 - val_accuracy: 0.9523\n",
      "Epoch 16/1000\n",
      "92/92 [==============================] - 0s 3ms/step - loss: 0.1222 - accuracy: 0.9519 - val_loss: 0.1241 - val_accuracy: 0.9516\n",
      "Epoch 17/1000\n",
      "92/92 [==============================] - 0s 3ms/step - loss: 0.1217 - accuracy: 0.9522 - val_loss: 0.1238 - val_accuracy: 0.9517\n",
      "Epoch 18/1000\n",
      "92/92 [==============================] - 0s 3ms/step - loss: 0.1223 - accuracy: 0.9522 - val_loss: 0.1262 - val_accuracy: 0.9507\n",
      "Epoch 19/1000\n",
      "92/92 [==============================] - 0s 3ms/step - loss: 0.1213 - accuracy: 0.9523 - val_loss: 0.1234 - val_accuracy: 0.9520\n",
      "Epoch 20/1000\n",
      "92/92 [==============================] - 0s 3ms/step - loss: 0.1209 - accuracy: 0.9526 - val_loss: 0.1256 - val_accuracy: 0.9508\n",
      "Epoch 21/1000\n",
      "92/92 [==============================] - 0s 3ms/step - loss: 0.1216 - accuracy: 0.9522 - val_loss: 0.1252 - val_accuracy: 0.9518\n",
      "Epoch 22/1000\n",
      "92/92 [==============================] - 0s 3ms/step - loss: 0.1215 - accuracy: 0.9523 - val_loss: 0.1242 - val_accuracy: 0.9519\n",
      "Epoch 23/1000\n",
      "92/92 [==============================] - 0s 3ms/step - loss: 0.1208 - accuracy: 0.9527 - val_loss: 0.1239 - val_accuracy: 0.9520\n",
      "Epoch 24/1000\n",
      "92/92 [==============================] - 0s 3ms/step - loss: 0.1210 - accuracy: 0.9522 - val_loss: 0.1238 - val_accuracy: 0.9520\n",
      "94/94 [==============================] - 0s 698us/step\n",
      "Epoch 1/1000\n",
      "86/86 [==============================] - 1s 4ms/step - loss: 0.1724 - accuracy: 0.9344 - val_loss: 0.1263 - val_accuracy: 0.9488\n",
      "Epoch 2/1000\n",
      "86/86 [==============================] - 0s 3ms/step - loss: 0.1231 - accuracy: 0.9508 - val_loss: 0.1235 - val_accuracy: 0.9506\n",
      "Epoch 3/1000\n",
      "86/86 [==============================] - 0s 3ms/step - loss: 0.1213 - accuracy: 0.9516 - val_loss: 0.1220 - val_accuracy: 0.9514\n",
      "Epoch 4/1000\n",
      "86/86 [==============================] - 0s 3ms/step - loss: 0.1196 - accuracy: 0.9522 - val_loss: 0.1213 - val_accuracy: 0.9516\n",
      "Epoch 5/1000\n",
      "86/86 [==============================] - 0s 3ms/step - loss: 0.1202 - accuracy: 0.9524 - val_loss: 0.1207 - val_accuracy: 0.9516\n",
      "Epoch 6/1000\n",
      "86/86 [==============================] - 0s 3ms/step - loss: 0.1190 - accuracy: 0.9525 - val_loss: 0.1221 - val_accuracy: 0.9514\n",
      "Epoch 7/1000\n",
      "86/86 [==============================] - 0s 3ms/step - loss: 0.1195 - accuracy: 0.9524 - val_loss: 0.1225 - val_accuracy: 0.9510\n",
      "Epoch 8/1000\n",
      "86/86 [==============================] - 0s 3ms/step - loss: 0.1191 - accuracy: 0.9525 - val_loss: 0.1207 - val_accuracy: 0.9517\n",
      "Epoch 9/1000\n",
      "86/86 [==============================] - 0s 4ms/step - loss: 0.1181 - accuracy: 0.9531 - val_loss: 0.1199 - val_accuracy: 0.9520\n",
      "Epoch 10/1000\n",
      "86/86 [==============================] - 0s 3ms/step - loss: 0.1179 - accuracy: 0.9532 - val_loss: 0.1220 - val_accuracy: 0.9520\n",
      "Epoch 11/1000\n",
      "86/86 [==============================] - 0s 3ms/step - loss: 0.1182 - accuracy: 0.9530 - val_loss: 0.1207 - val_accuracy: 0.9514\n",
      "Epoch 12/1000\n",
      "86/86 [==============================] - 0s 3ms/step - loss: 0.1175 - accuracy: 0.9531 - val_loss: 0.1201 - val_accuracy: 0.9519\n",
      "Epoch 13/1000\n",
      "86/86 [==============================] - 0s 3ms/step - loss: 0.1179 - accuracy: 0.9532 - val_loss: 0.1197 - val_accuracy: 0.9524\n",
      "Epoch 14/1000\n",
      "86/86 [==============================] - 0s 3ms/step - loss: 0.1176 - accuracy: 0.9532 - val_loss: 0.1197 - val_accuracy: 0.9526\n",
      "Epoch 15/1000\n",
      "86/86 [==============================] - 0s 3ms/step - loss: 0.1183 - accuracy: 0.9535 - val_loss: 0.1200 - val_accuracy: 0.9520\n",
      "Epoch 16/1000\n",
      "86/86 [==============================] - 0s 3ms/step - loss: 0.1175 - accuracy: 0.9532 - val_loss: 0.1211 - val_accuracy: 0.9516\n",
      "Epoch 17/1000\n",
      "86/86 [==============================] - 0s 4ms/step - loss: 0.1168 - accuracy: 0.9540 - val_loss: 0.1194 - val_accuracy: 0.9522\n",
      "Epoch 18/1000\n",
      "86/86 [==============================] - 0s 3ms/step - loss: 0.1170 - accuracy: 0.9535 - val_loss: 0.1199 - val_accuracy: 0.9523\n",
      "Epoch 19/1000\n",
      "86/86 [==============================] - 0s 3ms/step - loss: 0.1170 - accuracy: 0.9534 - val_loss: 0.1203 - val_accuracy: 0.9521\n",
      "Epoch 20/1000\n",
      "86/86 [==============================] - 0s 3ms/step - loss: 0.1166 - accuracy: 0.9535 - val_loss: 0.1200 - val_accuracy: 0.9528\n",
      "Epoch 21/1000\n",
      "86/86 [==============================] - 0s 3ms/step - loss: 0.1159 - accuracy: 0.9532 - val_loss: 0.1204 - val_accuracy: 0.9517\n",
      "Epoch 22/1000\n",
      "86/86 [==============================] - 0s 3ms/step - loss: 0.1167 - accuracy: 0.9537 - val_loss: 0.1198 - val_accuracy: 0.9522\n",
      "88/88 [==============================] - 0s 646us/step\n"
     ]
    }
   ],
   "source": [
    "preds_mm_list = []\n",
    "\n",
    "tuple_rates_dedicated_ordered_BCE = {}\n",
    "\n",
    "for i in mass_range[1:]:\n",
    "    for j in mass_range[1:]:\n",
    "        if (i == 0.5 and j == 0.5) or (i == 1 and j == 1) or (i == 2 and j == 2) or (i == 3 and j == 3) or (i == 4 and j == 4) or (i == 5 and j == 5) or (i == 6 and j == 6):\n",
    "            x_vals_mm = np.concatenate([x[0,0],x[i,j]])\n",
    "            y_vals_mm = np.concatenate([np.zeros(len(x[0,0])),np.ones(len(x[i,j]))])\n",
    "            X_train_mm, X_val_mm, Y_train_mm, Y_val_mm = train_test_split(x_vals_mm, y_vals_mm, test_size=0.5)\n",
    "\n",
    "            model = Sequential()\n",
    "            model.add(Dense(512, input_dim=4, activation='relu'))\n",
    "            model.add(Dense(256, activation='relu'))\n",
    "            model.add(Dense(128, activation='relu'))\n",
    "            model.add(Dense(1, activation='sigmoid'))\n",
    "            model.compile(loss='binary_crossentropy', optimizer='adam', metrics=['accuracy'])\n",
    "\n",
    "            myhistory = model.fit(X_train_mm, Y_train_mm, epochs=1000, validation_data=(X_val_mm, Y_val_mm),batch_size=1024, callbacks = [es])\n",
    "\n",
    "            preds_mm = model.predict(X_val_mm,batch_size=1000)\n",
    "            fpr_mm, tpr_mm, _ = metrics.roc_curve(Y_val_mm, preds_mm)\n",
    "\n",
    "            preds_mm_list.append(preds_mm)\n",
    "            tuple_rates_dedicated_ordered_BCE[tuple((i, j))] = [fpr_mm, tpr_mm]"
   ]
  },
  {
   "cell_type": "code",
   "execution_count": 77,
   "id": "3ecde36c-c325-4415-8e72-4d9cdf78a39d",
   "metadata": {
    "tags": []
   },
   "outputs": [
    {
     "data": {
      "text/plain": [
       "6"
      ]
     },
     "execution_count": 77,
     "metadata": {},
     "output_type": "execute_result"
    }
   ],
   "source": [
    "len(tuple_rates_dedicated_ordered_BCE)"
   ]
  },
  {
   "cell_type": "code",
   "execution_count": 80,
   "id": "85df688c-88a3-447b-8384-3e460519d8a0",
   "metadata": {
    "tags": []
   },
   "outputs": [],
   "source": [
    "np.save(\"tuple_rates_dedicated_ordered_BCE\", tuple_rates_dedicated_ordered_BCE)"
   ]
  },
  {
   "cell_type": "code",
   "execution_count": 55,
   "id": "73090093-a17b-434b-8395-aa10b46a6f95",
   "metadata": {
    "tags": []
   },
   "outputs": [],
   "source": [
    "model_all_BCE = tf.keras.models.load_model('model_all_BCE')"
   ]
  },
  {
   "cell_type": "code",
   "execution_count": 81,
   "id": "2024737d-bc20-44a5-958b-b8d68cd30074",
   "metadata": {
    "tags": []
   },
   "outputs": [
    {
     "data": {
      "text/plain": [
       "7"
      ]
     },
     "execution_count": 81,
     "metadata": {},
     "output_type": "execute_result"
    }
   ],
   "source": [
    "tuple_rates_dedicated = np.load(\"tuple_rates_dedicated_ordered_BCE.npy\", allow_pickle = True).item()\n",
    "len(tuple_rates_dedicated)"
   ]
  },
  {
   "cell_type": "code",
   "execution_count": 78,
   "id": "25dec7b7-131d-4102-967b-e65a4bae56a0",
   "metadata": {
    "tags": []
   },
   "outputs": [
    {
     "data": {
      "text/plain": [
       "dict_keys([(0.5, 0.5), (1, 1), (2, 2), (3, 3), (4, 4), (5, 5)])"
      ]
     },
     "execution_count": 78,
     "metadata": {},
     "output_type": "execute_result"
    }
   ],
   "source": [
    "tuple_rates_dedicated.keys()"
   ]
  },
  {
   "cell_type": "code",
   "execution_count": 64,
   "id": "9d1bf93a-9461-4541-b659-d8829c72c865",
   "metadata": {
    "tags": []
   },
   "outputs": [
    {
     "name": "stdout",
     "output_type": "stream",
     "text": [
      "183/183 [==============================] - 0s 690us/step\n"
     ]
    },
    {
     "name": "stderr",
     "output_type": "stream",
     "text": [
      "/tmp/ipykernel_1856354/1929924636.py:6: RuntimeWarning: divide by zero encountered in divide\n",
      "  plt.plot(tpr_all_BCE_50, 1/fpr_all_BCE_50, label = str(m))\n"
     ]
    },
    {
     "name": "stdout",
     "output_type": "stream",
     "text": [
      "183/183 [==============================] - 0s 653us/step\n"
     ]
    },
    {
     "name": "stderr",
     "output_type": "stream",
     "text": [
      "/tmp/ipykernel_1856354/1929924636.py:6: RuntimeWarning: divide by zero encountered in divide\n",
      "  plt.plot(tpr_all_BCE_50, 1/fpr_all_BCE_50, label = str(m))\n"
     ]
    },
    {
     "name": "stdout",
     "output_type": "stream",
     "text": [
      "183/183 [==============================] - 0s 664us/step\n"
     ]
    },
    {
     "name": "stderr",
     "output_type": "stream",
     "text": [
      "/tmp/ipykernel_1856354/1929924636.py:6: RuntimeWarning: divide by zero encountered in divide\n",
      "  plt.plot(tpr_all_BCE_50, 1/fpr_all_BCE_50, label = str(m))\n"
     ]
    },
    {
     "name": "stdout",
     "output_type": "stream",
     "text": [
      "183/183 [==============================] - 0s 670us/step\n"
     ]
    },
    {
     "name": "stderr",
     "output_type": "stream",
     "text": [
      "/tmp/ipykernel_1856354/1929924636.py:6: RuntimeWarning: divide by zero encountered in divide\n",
      "  plt.plot(tpr_all_BCE_50, 1/fpr_all_BCE_50, label = str(m))\n"
     ]
    },
    {
     "name": "stdout",
     "output_type": "stream",
     "text": [
      "183/183 [==============================] - 0s 667us/step\n"
     ]
    },
    {
     "name": "stderr",
     "output_type": "stream",
     "text": [
      "/tmp/ipykernel_1856354/1929924636.py:6: RuntimeWarning: divide by zero encountered in divide\n",
      "  plt.plot(tpr_all_BCE_50, 1/fpr_all_BCE_50, label = str(m))\n"
     ]
    },
    {
     "data": {
      "image/png": "[encoded data removed]",
      "text/plain": [
       "<Figure size 640x480 with 1 Axes>"
      ]
     },
     "metadata": {},
     "output_type": "display_data"
    }
   ],
   "source": [
    "for m in [2, 3, 4, 5.5, 6]:\n",
    "    something = x_vals_all[np.product(x_vals_all[:,4:6]==[4.5,6],axis=1)==1]\n",
    "    something[:,4:6]= np.c_[np.ones(len(something)) * m, np.ones(len(something)) * m]\n",
    "    preds_all_BCE_50 = model_all_BCE.predict(something,batch_size=1000)\n",
    "    fpr_all_BCE_50, tpr_all_BCE_50, _ = metrics.roc_curve(y_vals_all[np.product(x_vals_all[:,4:6]==[4.5,6],axis=1)==1], preds_all_BCE_50)\n",
    "    plt.plot(tpr_all_BCE_50, 1/fpr_all_BCE_50, label = str(m))\n",
    "    #plt.plot(tpr_all_BCE_50, fpr_all_BCE_50)\n",
    "    plt.legend()\n",
    "    plt.yscale(\"log\")"
   ]
  },
  {
   "cell_type": "code",
   "execution_count": 83,
   "id": "32461cd4-41f1-4c22-8e59-984455aaa890",
   "metadata": {
    "tags": []
   },
   "outputs": [
    {
     "data": {
      "text/plain": [
       "(182564, 2)"
      ]
     },
     "execution_count": 83,
     "metadata": {},
     "output_type": "execute_result"
    }
   ],
   "source": [
    "np.shape(np.c_[np.ones(len(something)) * 3, np.ones(len(something)) * 3])"
   ]
  },
  {
   "cell_type": "code",
   "execution_count": 84,
   "id": "8e6a9510-4059-4bfa-a37b-b37f856401bd",
   "metadata": {
    "tags": []
   },
   "outputs": [
    {
     "data": {
      "text/plain": [
       "(182564, 2)"
      ]
     },
     "execution_count": 84,
     "metadata": {},
     "output_type": "execute_result"
    }
   ],
   "source": [
    "np.shape(something[:,4:6])"
   ]
  },
  {
   "cell_type": "code",
   "execution_count": 66,
   "id": "5ff0ae6e-e8f3-4f2a-93d2-911bb1884ac0",
   "metadata": {
    "tags": []
   },
   "outputs": [
    {
     "name": "stdout",
     "output_type": "stream",
     "text": [
      "198/198 [==============================] - 0s 651us/step\n",
      "198/198 [==============================] - 0s 673us/step\n",
      "196/196 [==============================] - 0s 679us/step\n",
      "193/193 [==============================] - 0s 686us/step\n",
      "188/188 [==============================] - 0s 675us/step\n",
      "175/175 [==============================] - 0s 679us/step\n"
     ]
    }
   ],
   "source": [
    "preds_all_BCE_100 = model_all_BCE.predict(x_vals_all[np.product(x_vals_all[:,4:6]==[1,1],axis=1)==1],batch_size=1000)\n",
    "fpr_all_BCE_100, tpr_all_BCE_100, _ = metrics.roc_curve(y_vals_all[np.product(x_vals_all[:,4:6]==[1,1],axis=1)==1], preds_all_BCE_100)\n",
    "\n",
    "preds_all_BCE_200 = model_all_BCE.predict(x_vals_all[np.product(x_vals_all[:,4:6]==[2,2],axis=1)==1],batch_size=1000)\n",
    "fpr_all_BCE_200, tpr_all_BCE_200, _ = metrics.roc_curve(y_vals_all[np.product(x_vals_all[:,4:6]==[2,2],axis=1)==1], preds_all_BCE_200)\n",
    "\n",
    "preds_all_BCE_300 = model_all_BCE.predict(x_vals_all[np.product(x_vals_all[:,4:6]==[3,3],axis=1)==1],batch_size=1000)\n",
    "fpr_all_BCE_300, tpr_all_BCE_300, _ = metrics.roc_curve(y_vals_all[np.product(x_vals_all[:,4:6]==[3,3],axis=1)==1], preds_all_BCE_300)\n",
    "\n",
    "preds_all_BCE_400 = model_all_BCE.predict(x_vals_all[np.product(x_vals_all[:,4:6]==[4,4],axis=1)==1],batch_size=1000)\n",
    "fpr_all_BCE_400, tpr_all_BCE_400, _ = metrics.roc_curve(y_vals_all[np.product(x_vals_all[:,4:6]==[4,4],axis=1)==1], preds_all_BCE_400)\n",
    "\n",
    "preds_all_BCE_500 = model_all_BCE.predict(x_vals_all[np.product(x_vals_all[:,4:6]==[5,5],axis=1)==1],batch_size=1000)\n",
    "fpr_all_BCE_500, tpr_all_BCE_500, _ = metrics.roc_curve(y_vals_all[np.product(x_vals_all[:,4:6]==[5,5],axis=1)==1], preds_all_BCE_500)\n",
    "\n",
    "preds_all_BCE_600 = model_all_BCE.predict(x_vals_all[np.product(x_vals_all[:,4:6]==[6,6],axis=1)==1],batch_size=1000)\n",
    "fpr_all_BCE_600, tpr_all_BCE_600, _ = metrics.roc_curve(y_vals_all[np.product(x_vals_all[:,4:6]==[6,6],axis=1)==1], preds_all_BCE_600)"
   ]
  },
  {
   "cell_type": "code",
   "execution_count": 85,
   "id": "7f09e82f-bedb-4229-8a16-f31ec845eb6c",
   "metadata": {
    "tags": []
   },
   "outputs": [
    {
     "data": {
      "text/plain": [
       "Text(0.5, 1.0, '$(600,600)$ GeV Dedicated vs Parametrized BCE')"
      ]
     },
     "execution_count": 85,
     "metadata": {},
     "output_type": "execute_result"
    },
    {
     "data": {
      "image/png": "[encoded data removed]",
      "text/plain": [
       "<Figure size 640x480 with 1 Axes>"
      ]
     },
     "metadata": {},
     "output_type": "display_data"
    },
    {
     "data": {
      "image/png": "[encoded data removed]",
      "text/plain": [
       "<Figure size 640x480 with 1 Axes>"
      ]
     },
     "metadata": {},
     "output_type": "display_data"
    },
    {
     "data": {
      "image/png": "[encoded data removed]",
      "text/plain": [
       "<Figure size 640x480 with 1 Axes>"
      ]
     },
     "metadata": {},
     "output_type": "display_data"
    },
    {
     "data": {
      "image/png": "[encoded data removed]",
      "text/plain": [
       "<Figure size 640x480 with 1 Axes>"
      ]
     },
     "metadata": {},
     "output_type": "display_data"
    },
    {
     "data": {
      "image/png": "[encoded data removed]",
      "text/plain": [
       "<Figure size 640x480 with 1 Axes>"
      ]
     },
     "metadata": {},
     "output_type": "display_data"
    },
    {
     "data": {
      "image/png": "[encoded data removed]",
      "text/plain": [
       "<Figure size 640x480 with 1 Axes>"
      ]
     },
     "metadata": {},
     "output_type": "display_data"
    }
   ],
   "source": [
    "epsilon = 1e-6\n",
    "plt.figure()\n",
    "plt.plot(tuple_rates_dedicated[(1,1)][1], 1./(tuple_rates_dedicated[(1,1)][0] + epsilon), label = \"100, 100 GEV\")\n",
    "plt.plot(tpr_all_BCE_100, 1./(fpr_all_BCE_100 + epsilon),label=\"parameterized 100 100 GEV\", linestyle='dashed')\n",
    "plt.yscale(\"log\")\n",
    "plt.legend(frameon=False)\n",
    "plt.xlabel(\"TPR\")\n",
    "plt.ylabel(\"1/FPR\")\n",
    "plt.title(\"$(100,100)$ GeV Dedicated vs Parametrized BCE\")\n",
    "\n",
    "plt.figure()\n",
    "plt.plot(tuple_rates_dedicated[(2,2)][1], 1./(tuple_rates_dedicated[(2,2)][0] + epsilon), label = \"200, 200 GEV\")\n",
    "plt.plot(tpr_all_BCE_200, 1./(fpr_all_BCE_200 + epsilon),label=\"parameterized 200 200 GEV\", linestyle='dashed')\n",
    "plt.yscale(\"log\")\n",
    "plt.legend(frameon=False)\n",
    "plt.xlabel(\"TPR\")\n",
    "plt.ylabel(\"1/FPR\")\n",
    "plt.title(\"$(200,200)$ GeV Dedicated vs Parametrized BCE\")\n",
    "\n",
    "plt.figure()\n",
    "plt.plot(tuple_rates_dedicated[(3,3)][1], 1./(tuple_rates_dedicated[(3,3)][0] + epsilon), label = \"300, 300 GEV\")\n",
    "plt.plot(tpr_all_BCE_300, 1./(fpr_all_BCE_300 + epsilon),label=\"parameterized 300 300 GEV\", linestyle='dashed')\n",
    "plt.yscale(\"log\")\n",
    "plt.legend(frameon=False)\n",
    "plt.xlabel(\"TPR\")\n",
    "plt.ylabel(\"1/FPR\")\n",
    "plt.title(\"$(300,300)$ GeV Dedicated vs Parametrized BCE\")\n",
    "\n",
    "plt.figure()\n",
    "plt.plot(tuple_rates_dedicated[(4,4)][1], 1./(tuple_rates_dedicated[(4,4)][0] + epsilon), label = \"400, 400 GEV\")\n",
    "plt.plot(tpr_all_BCE_400, 1./(fpr_all_BCE_400 + epsilon),label=\"parameterized 400 400 GEV\", linestyle='dashed')\n",
    "plt.yscale(\"log\")\n",
    "plt.legend(frameon=False)\n",
    "plt.xlabel(\"TPR\")\n",
    "plt.ylabel(\"1/FPR\")\n",
    "plt.title(\"$(400,400)$ GeV Dedicated vs Parametrized BCE\")\n",
    "\n",
    "plt.figure()\n",
    "plt.plot(tuple_rates_dedicated[(5,5)][1], 1./(tuple_rates_dedicated[(5,5)][0] + epsilon), label = \"500, 500 GEV\")\n",
    "plt.plot(tpr_all_BCE_500, 1./(fpr_all_BCE_500 + epsilon),label=\"parameterized 500 500 GEV\", linestyle='dashed')\n",
    "plt.yscale(\"log\")\n",
    "plt.legend(frameon=False)\n",
    "plt.xlabel(\"TPR\")\n",
    "plt.ylabel(\"1/FPR\")\n",
    "plt.title(\"$(500,500)$ GeV Dedicated vs Parametrized BCE\")\n",
    "\n",
    "plt.figure()\n",
    "plt.plot(tuple_rates_dedicated[(6,6)][1], 1./(tuple_rates_dedicated[(6,6)][0] + epsilon), label = \"600, 600 GEV\")\n",
    "plt.plot(tpr_all_BCE_600, 1./(fpr_all_BCE_600 + epsilon),label=\"parameterized 600 600 GEV\", linestyle='dashed')\n",
    "plt.yscale(\"log\")\n",
    "plt.legend(frameon=False)\n",
    "plt.xlabel(\"TPR\")\n",
    "plt.ylabel(\"1/FPR\")\n",
    "plt.title(\"$(600,600)$ GeV Dedicated vs Parametrized BCE\")"
   ]
  },
  {
   "cell_type": "markdown",
   "id": "303cf48d-50d6-4203-bff5-dfd452387b24",
   "metadata": {},
   "source": [
    "Analysis of Models begins here"
   ]
  },
  {
   "cell_type": "code",
   "execution_count": 153,
   "id": "40b790d6-6abd-49d2-b7e3-0bcc38935d69",
   "metadata": {
    "tags": []
   },
   "outputs": [
    {
     "data": {
      "image/png": "[encoded data removed]",
      "text/plain": [
       "<Figure size 640x480 with 1 Axes>"
      ]
     },
     "metadata": {},
     "output_type": "display_data"
    }
   ],
   "source": [
    "# Plot the training and validation loss\n",
    "plt.plot(myhistory.history['loss'])\n",
    "plt.plot(myhistory.history['val_loss'])\n",
    "plt.title('Model Loss')\n",
    "plt.ylabel('Loss')\n",
    "plt.xlabel('Epoch')\n",
    "plt.legend(['training loss', 'Validation'], loc='upper right')\n",
    "plt.show()"
   ]
  },
  {
   "cell_type": "code",
   "execution_count": 89,
   "id": "49f7630e-2bf1-45dd-b7c8-9d75277d1cf4",
   "metadata": {
    "tags": []
   },
   "outputs": [
    {
     "name": "stdout",
     "output_type": "stream",
     "text": [
      "99/99 [==============================] - 0s 737us/step\n"
     ]
    }
   ],
   "source": [
    "preds_100 = model.predict(X_val_100,batch_size=1000)\n",
    "fpr_100, tpr_100, _ = metrics.roc_curve(Y_val_100, preds_100)"
   ]
  },
  {
   "cell_type": "code",
   "execution_count": 121,
   "id": "e98097d3-3c4b-49ad-9e79-1e0ae57a09ba",
   "metadata": {
    "tags": []
   },
   "outputs": [
    {
     "name": "stdout",
     "output_type": "stream",
     "text": [
      "425773/425773 [==============================] - 301s 707us/step\n",
      "AUC: 0.98044191324073\n"
     ]
    }
   ],
   "source": [
    "y_val_all_pred = model_all_BCE.predict(X_val_all)\n",
    "auc_all = roc_auc_score(Y_val_all, y_val_all_pred)\n",
    "\n",
    "print(\"AUC:\", auc_all)"
   ]
  },
  {
   "cell_type": "code",
   "execution_count": 129,
   "id": "2d8117ba-ac90-4a6c-97ce-5ead6112f884",
   "metadata": {
    "tags": []
   },
   "outputs": [
    {
     "name": "stdout",
     "output_type": "stream",
     "text": [
      "180/180 [==============================] - 0s 856us/step\n",
      "AUC: 0.97088308745336\n"
     ]
    }
   ],
   "source": [
    "preds_all_BCE_51 = model_all_BCE.predict(x_vals_all[np.product(x_vals_all[:,4:6]==[5,1],axis=1)==1],batch_size=1000)\n",
    "auc_all_51 = roc_auc_score(y_vals_all[np.product(x_vals_all[:,4:6]==[5,1],axis=1)==1], preds_all_BCE_51)\n",
    "\n",
    "print(\"AUC:\", auc_all_51)"
   ]
  },
  {
   "cell_type": "code",
   "execution_count": null,
   "id": "aed95ae2-7423-4e3f-8517-789a77c248c3",
   "metadata": {},
   "outputs": [],
   "source": [
    "y_val_all_pred = model_all_BCE.predict(X_val_all[:,4:6]==[5,1])\n",
    "auc_all = roc_auc_score(Y_val_all, y_val_all_pred)\n",
    "\n",
    "print(\"AUC:\", auc_all)"
   ]
  },
  {
   "cell_type": "code",
   "execution_count": 6,
   "id": "c06f2567-c949-47bd-a97f-a99468632c77",
   "metadata": {
    "collapsed": true,
    "jupyter": {
     "outputs_hidden": true
    },
    "tags": []
   },
   "outputs": [
    {
     "name": "stdout",
     "output_type": "stream",
     "text": [
      "0.5 0.5\n",
      "0.5 1\n",
      "0.5 1.5\n",
      "0.5 2\n",
      "0.5 2.5\n",
      "0.5 3\n",
      "0.5 3.5\n",
      "0.5 4\n",
      "0.5 4.5\n",
      "0.5 5\n",
      "0.5 5.5\n",
      "0.5 6\n",
      "1 0.5\n",
      "1 1\n",
      "1 1.5\n",
      "1 2\n",
      "1 2.5\n",
      "1 3\n",
      "1 3.5\n",
      "1 4\n",
      "1 4.5\n",
      "1 5\n",
      "1 5.5\n",
      "1 6\n",
      "1.5 0.5\n",
      "1.5 1\n",
      "1.5 1.5\n",
      "1.5 2\n",
      "1.5 2.5\n",
      "1.5 3\n",
      "1.5 3.5\n",
      "1.5 4\n",
      "1.5 4.5\n",
      "1.5 5\n",
      "1.5 5.5\n",
      "1.5 6\n",
      "2 0.5\n",
      "2 1\n",
      "2 1.5\n",
      "2 2\n",
      "2 2.5\n",
      "2 3\n",
      "2 3.5\n",
      "2 4\n",
      "2 4.5\n",
      "2 5\n",
      "2 5.5\n",
      "2 6\n",
      "2.5 0.5\n",
      "2.5 1\n",
      "2.5 1.5\n",
      "2.5 2\n",
      "2.5 2.5\n",
      "2.5 3\n",
      "2.5 3.5\n",
      "2.5 4\n",
      "2.5 4.5\n",
      "2.5 5\n",
      "2.5 5.5\n",
      "2.5 6\n",
      "3 0.5\n",
      "3 1\n",
      "3 1.5\n",
      "3 2\n",
      "3 2.5\n",
      "3 3\n",
      "3 3.5\n",
      "3 4\n",
      "3 4.5\n",
      "3 5\n",
      "3 5.5\n",
      "3 6\n",
      "3.5 0.5\n",
      "3.5 1\n",
      "3.5 1.5\n",
      "3.5 2\n",
      "3.5 2.5\n",
      "3.5 3\n",
      "3.5 3.5\n",
      "3.5 4\n",
      "3.5 4.5\n",
      "3.5 5\n",
      "3.5 5.5\n",
      "3.5 6\n",
      "4 0.5\n",
      "4 1\n",
      "4 1.5\n",
      "4 2\n",
      "4 2.5\n",
      "4 3\n",
      "4 3.5\n",
      "4 4\n",
      "4 4.5\n",
      "4 5\n",
      "4 5.5\n",
      "4 6\n",
      "4.5 0.5\n",
      "4.5 1\n",
      "4.5 1.5\n",
      "4.5 2\n",
      "4.5 2.5\n",
      "4.5 3\n",
      "4.5 3.5\n",
      "4.5 4\n",
      "4.5 4.5\n",
      "4.5 5\n",
      "4.5 5.5\n",
      "4.5 6\n",
      "5 0.5\n",
      "5 1\n",
      "5 1.5\n",
      "5 2\n",
      "5 2.5\n",
      "5 3\n",
      "5 3.5\n",
      "5 4\n",
      "5 4.5\n",
      "5 5\n",
      "5 5.5\n",
      "5 6\n",
      "5.5 0.5\n",
      "5.5 1\n",
      "5.5 1.5\n",
      "5.5 2\n",
      "5.5 2.5\n",
      "5.5 3\n",
      "5.5 3.5\n",
      "5.5 4\n",
      "5.5 4.5\n",
      "5.5 5\n",
      "5.5 5.5\n",
      "5.5 6\n",
      "6 0.5\n",
      "6 1\n",
      "6 1.5\n",
      "6 2\n",
      "6 2.5\n",
      "6 3\n",
      "6 3.5\n",
      "6 4\n",
      "6 4.5\n",
      "6 5\n",
      "6 5.5\n",
      "6 6\n"
     ]
    }
   ],
   "source": [
    "if (False):\n",
    "    x_vals_all = []\n",
    "    y_vals_all = []\n",
    "    for m1 in [0.5,1,1.5,2,2.5,3,3.5,4,4.5,5,5.5,6]:\n",
    "        for m2 in [0.5,1,1.5,2,2.5,3,3.5,4,4.5,5,5.5,6]:\n",
    "            #if m1 >= m2: \n",
    "            print(m1,m2)\n",
    "            x_aug_0 = np.append(np.append(x[0,0],m1*np.reshape(np.ones(len(x[0,0])),[len(x[0,0]),1]),1),m2*np.reshape(np.ones(len(x[0,0])),[len(x[0,0]),1]),1)\n",
    "            x_aug_m = np.append(np.append(x[m1,m2],m1*np.reshape(np.ones(len(x[m1,m2])),[len(x[m1,m2]),1]),1),m2*np.reshape(np.ones(len(x[m1,m2])),[len(x[m1,m2]),1]),1)\n",
    "            if (m1==0.5 and m2==0.5):\n",
    "                x_vals_all = np.concatenate([x_aug_0,x_aug_m])\n",
    "                y_vals_all = np.concatenate([np.zeros(len(x_aug_0)),np.ones(len(x_aug_m))])\n",
    "            else:\n",
    "                x_vals_all = np.concatenate([x_vals_all,x_aug_0,x_aug_m])\n",
    "                y_vals_all = np.concatenate([y_vals_all,np.zeros(len(x_aug_0)),np.ones(len(x_aug_m))])\n",
    "    # np.save(\"x_data_all_fixed\",x_vals_all)\n",
    "    # np.save(\"y_data_all_fixed\",y_vals_all)"
   ]
  },
  {
   "cell_type": "code",
   "execution_count": 5,
   "id": "281ce20a-e2a0-485f-a59b-3e0e5a9403ce",
   "metadata": {
    "tags": []
   },
   "outputs": [],
   "source": [
    "x_vals_all = np.load(\"x_vals_all_fixed.npy\")\n",
    "y_vals_all = np.load(\"y_vals_all_fixed.npy\")"
   ]
  },
  {
   "cell_type": "code",
   "execution_count": 12,
   "id": "89460881-3cc3-4514-b9d5-ae8d57efc10d",
   "metadata": {
    "tags": []
   },
   "outputs": [
    {
     "data": {
      "text/plain": [
       "array([[-1.51676489, -0.61369051, -1.38971753,  0.29771386,  0.5       ,\n",
       "         0.5       ],\n",
       "       [-1.36743797, -1.69854625,  0.49237383,  1.25083942,  0.5       ,\n",
       "         0.5       ],\n",
       "       [-0.91169568, -1.71429933,  1.16183703,  0.35002242,  0.5       ,\n",
       "         0.5       ],\n",
       "       ...,\n",
       "       [ 1.67050639, -1.47882044, -1.74284539, -0.42126164,  6.        ,\n",
       "         6.        ],\n",
       "       [ 1.35240368, -1.31499431, -1.59380349, -2.25775246,  6.        ,\n",
       "         6.        ],\n",
       "       [-0.43435266,  0.80463752, -0.30028819, -1.79951517,  6.        ,\n",
       "         6.        ]])"
      ]
     },
     "execution_count": 12,
     "metadata": {},
     "output_type": "execute_result"
    }
   ],
   "source": [
    "x_vals_all"
   ]
  },
  {
   "cell_type": "code",
   "execution_count": 13,
   "id": "c1de226e-7e84-477b-bc7d-b1da53ec7f6a",
   "metadata": {
    "tags": []
   },
   "outputs": [
    {
     "data": {
      "text/plain": [
       "array([0., 0., 0., ..., 1., 1., 1.])"
      ]
     },
     "execution_count": 13,
     "metadata": {},
     "output_type": "execute_result"
    }
   ],
   "source": [
    "y_vals_all"
   ]
  },
  {
   "cell_type": "code",
   "execution_count": 14,
   "id": "7340da99-e506-4919-80cb-f660f7fa193d",
   "metadata": {
    "tags": []
   },
   "outputs": [
    {
     "data": {
      "text/plain": [
       "(27249420, 6)"
      ]
     },
     "execution_count": 14,
     "metadata": {},
     "output_type": "execute_result"
    }
   ],
   "source": [
    "np.shape(x_vals_all)"
   ]
  },
  {
   "cell_type": "code",
   "execution_count": 21,
   "id": "1f1b1770-0ada-4345-8459-878cac65c16e",
   "metadata": {
    "tags": []
   },
   "outputs": [
    {
     "data": {
      "text/plain": [
       "(14563810, 6)"
      ]
     },
     "execution_count": 21,
     "metadata": {},
     "output_type": "execute_result"
    }
   ],
   "source": [
    "np.shape(x_vals_all)"
   ]
  },
  {
   "cell_type": "code",
   "execution_count": 27,
   "id": "cad55635-851c-46cc-bbfd-1182f16da2f9",
   "metadata": {
    "tags": []
   },
   "outputs": [],
   "source": [
    "X_train_all, X_val_all, Y_train_all, Y_val_all = train_test_split(x_vals_all, y_vals_all, test_size=0.5, random_state = 42)"
   ]
  },
  {
   "cell_type": "code",
   "execution_count": 23,
   "id": "3b90b76c-5956-4ced-b959-99234f8a24ec",
   "metadata": {
    "tags": []
   },
   "outputs": [
    {
     "data": {
      "text/plain": [
       "array([1., 0., 0., ..., 1., 0., 0.])"
      ]
     },
     "execution_count": 23,
     "metadata": {},
     "output_type": "execute_result"
    }
   ],
   "source": [
    "Y_val_all"
   ]
  },
  {
   "cell_type": "code",
   "execution_count": 16,
   "id": "4161bfbd-3f42-4218-92fb-3f2a1157956e",
   "metadata": {
    "tags": []
   },
   "outputs": [
    {
     "name": "stderr",
     "output_type": "stream",
     "text": [
      "Failed to detect the name of this notebook, you can set it manually with the WANDB_NOTEBOOK_NAME environment variable to enable code saving.\n"
     ]
    }
   ],
   "source": [
    "pscratch_dir = \"/pscratch/sd/g/gupsingh\"\n",
    "os.environ[\"WANDB_DIR\"] = pscratch_dir\n",
    "\n",
    "wandb.init(\n",
    "    project=\"Anomaly\",\n",
    "    group=\"Parametrized\",\n",
    "    entity='gup-singh',\n",
    "    mode = 'disabled',\n",
    "\n",
    "    config={\n",
    "        \"layer_1\": 128,\n",
    "        \"activation_1\": \"relu\",\n",
    "        \"layer_2\": 128,\n",
    "        \"activation_2\": \"relu\",\n",
    "        \"layer_3\": 128,\n",
    "        \"activation_3\": \"relu\",\n",
    "        \"output_layer\": 1,\n",
    "        \"output_activation\": \"sigmoid\",\n",
    "        \"optimizer\": \"adam\",\n",
    "        \"loss\": \"binary_crossentropy\",\n",
    "        \"metric\": \"accuracy\",\n",
    "        \"epoch\": 1000,\n",
    "        \"batch_size\": 1024\n",
    "    },\n",
    "    dir = pscratch_dir\n",
    ")\n",
    "\n",
    "config_parametrized = wandb.config"
   ]
  },
  {
   "cell_type": "code",
   "execution_count": 29,
   "id": "35d86d01-1faa-4814-9ecb-01d342fee59a",
   "metadata": {
    "collapsed": true,
    "jupyter": {
     "outputs_hidden": true
    },
    "tags": []
   },
   "outputs": [
    {
     "name": "stdout",
     "output_type": "stream",
     "text": [
      "Epoch 1/5000\n",
      "2662/2662 [==============================] - 13s 4ms/step - loss: 0.2881 - accuracy: 0.8866 - val_loss: 0.2432 - val_accuracy: 0.9073\n",
      "Epoch 2/5000\n",
      "2662/2662 [==============================] - 11s 4ms/step - loss: 0.2311 - accuracy: 0.9111 - val_loss: 0.2191 - val_accuracy: 0.9152\n",
      "Epoch 3/5000\n",
      "2662/2662 [==============================] - 10s 4ms/step - loss: 0.2124 - accuracy: 0.9173 - val_loss: 0.2063 - val_accuracy: 0.9196\n",
      "Epoch 4/5000\n",
      "2662/2662 [==============================] - 10s 4ms/step - loss: 0.2025 - accuracy: 0.9209 - val_loss: 0.1990 - val_accuracy: 0.9222\n",
      "Epoch 5/5000\n",
      "2662/2662 [==============================] - 10s 4ms/step - loss: 0.1965 - accuracy: 0.9232 - val_loss: 0.1940 - val_accuracy: 0.9243\n",
      "Epoch 6/5000\n",
      "2662/2662 [==============================] - 11s 4ms/step - loss: 0.1923 - accuracy: 0.9250 - val_loss: 0.1905 - val_accuracy: 0.9256\n",
      "Epoch 7/5000\n",
      "2662/2662 [==============================] - 11s 4ms/step - loss: 0.1891 - accuracy: 0.9262 - val_loss: 0.1876 - val_accuracy: 0.9269\n",
      "Epoch 8/5000\n",
      "2662/2662 [==============================] - 11s 4ms/step - loss: 0.1866 - accuracy: 0.9272 - val_loss: 0.1854 - val_accuracy: 0.9277\n",
      "Epoch 9/5000\n",
      "2662/2662 [==============================] - 11s 4ms/step - loss: 0.1846 - accuracy: 0.9280 - val_loss: 0.1835 - val_accuracy: 0.9283\n",
      "Epoch 10/5000\n",
      "2662/2662 [==============================] - 10s 4ms/step - loss: 0.1829 - accuracy: 0.9286 - val_loss: 0.1820 - val_accuracy: 0.9290\n",
      "Epoch 11/5000\n",
      "2662/2662 [==============================] - 11s 4ms/step - loss: 0.1815 - accuracy: 0.9291 - val_loss: 0.1806 - val_accuracy: 0.9295\n",
      "Epoch 12/5000\n",
      "2662/2662 [==============================] - 10s 4ms/step - loss: 0.1803 - accuracy: 0.9295 - val_loss: 0.1796 - val_accuracy: 0.9298\n",
      "Epoch 13/5000\n",
      "2662/2662 [==============================] - 10s 4ms/step - loss: 0.1792 - accuracy: 0.9299 - val_loss: 0.1786 - val_accuracy: 0.9302\n",
      "Epoch 14/5000\n",
      "2662/2662 [==============================] - 10s 4ms/step - loss: 0.1784 - accuracy: 0.9303 - val_loss: 0.1777 - val_accuracy: 0.9305\n",
      "Epoch 15/5000\n",
      "2662/2662 [==============================] - 10s 4ms/step - loss: 0.1776 - accuracy: 0.9306 - val_loss: 0.1770 - val_accuracy: 0.9308\n",
      "Epoch 16/5000\n",
      "2662/2662 [==============================] - 11s 4ms/step - loss: 0.1769 - accuracy: 0.9308 - val_loss: 0.1763 - val_accuracy: 0.9311\n",
      "Epoch 17/5000\n",
      "2662/2662 [==============================] - 10s 4ms/step - loss: 0.1763 - accuracy: 0.9310 - val_loss: 0.1757 - val_accuracy: 0.9313\n",
      "Epoch 18/5000\n",
      "2662/2662 [==============================] - 10s 4ms/step - loss: 0.1757 - accuracy: 0.9312 - val_loss: 0.1752 - val_accuracy: 0.9314\n",
      "Epoch 19/5000\n",
      "2662/2662 [==============================] - 10s 4ms/step - loss: 0.1752 - accuracy: 0.9314 - val_loss: 0.1747 - val_accuracy: 0.9316\n",
      "Epoch 20/5000\n",
      "2662/2662 [==============================] - 10s 4ms/step - loss: 0.1748 - accuracy: 0.9316 - val_loss: 0.1743 - val_accuracy: 0.9317\n",
      "Epoch 21/5000\n",
      "2662/2662 [==============================] - 10s 4ms/step - loss: 0.1744 - accuracy: 0.9317 - val_loss: 0.1740 - val_accuracy: 0.9319\n",
      "Epoch 22/5000\n",
      "2662/2662 [==============================] - 10s 4ms/step - loss: 0.1741 - accuracy: 0.9318 - val_loss: 0.1736 - val_accuracy: 0.9320\n",
      "Epoch 23/5000\n",
      "2662/2662 [==============================] - 10s 4ms/step - loss: 0.1737 - accuracy: 0.9319 - val_loss: 0.1732 - val_accuracy: 0.9321\n",
      "Epoch 24/5000\n",
      "2662/2662 [==============================] - 11s 4ms/step - loss: 0.1734 - accuracy: 0.9321 - val_loss: 0.1730 - val_accuracy: 0.9322\n",
      "Epoch 25/5000\n",
      "2662/2662 [==============================] - 11s 4ms/step - loss: 0.1731 - accuracy: 0.9321 - val_loss: 0.1727 - val_accuracy: 0.9323\n",
      "Epoch 26/5000\n",
      "2662/2662 [==============================] - 11s 4ms/step - loss: 0.1729 - accuracy: 0.9322 - val_loss: 0.1725 - val_accuracy: 0.9324\n",
      "Epoch 27/5000\n",
      "2662/2662 [==============================] - 11s 4ms/step - loss: 0.1727 - accuracy: 0.9323 - val_loss: 0.1722 - val_accuracy: 0.9324\n",
      "Epoch 28/5000\n",
      "2662/2662 [==============================] - 11s 4ms/step - loss: 0.1724 - accuracy: 0.9324 - val_loss: 0.1720 - val_accuracy: 0.9325\n",
      "Epoch 29/5000\n",
      "2662/2662 [==============================] - 11s 4ms/step - loss: 0.1722 - accuracy: 0.9324 - val_loss: 0.1718 - val_accuracy: 0.9326\n",
      "Epoch 30/5000\n",
      "2662/2662 [==============================] - 11s 4ms/step - loss: 0.1720 - accuracy: 0.9325 - val_loss: 0.1716 - val_accuracy: 0.9327\n",
      "Epoch 31/5000\n",
      "2662/2662 [==============================] - 11s 4ms/step - loss: 0.1718 - accuracy: 0.9326 - val_loss: 0.1716 - val_accuracy: 0.9327\n",
      "Epoch 32/5000\n",
      "2662/2662 [==============================] - 11s 4ms/step - loss: 0.1717 - accuracy: 0.9326 - val_loss: 0.1713 - val_accuracy: 0.9328\n",
      "Epoch 33/5000\n",
      "2662/2662 [==============================] - 12s 4ms/step - loss: 0.1715 - accuracy: 0.9327 - val_loss: 0.1711 - val_accuracy: 0.9328\n",
      "Epoch 34/5000\n",
      "2662/2662 [==============================] - 12s 5ms/step - loss: 0.1714 - accuracy: 0.9327 - val_loss: 0.1710 - val_accuracy: 0.9329\n",
      "Epoch 35/5000\n",
      "2662/2662 [==============================] - 12s 4ms/step - loss: 0.1712 - accuracy: 0.9328 - val_loss: 0.1709 - val_accuracy: 0.9330\n",
      "Epoch 36/5000\n",
      "2662/2662 [==============================] - 12s 4ms/step - loss: 0.1711 - accuracy: 0.9328 - val_loss: 0.1707 - val_accuracy: 0.9330\n",
      "Epoch 37/5000\n",
      "2662/2662 [==============================] - 12s 4ms/step - loss: 0.1710 - accuracy: 0.9329 - val_loss: 0.1705 - val_accuracy: 0.9330\n",
      "Epoch 38/5000\n",
      "2662/2662 [==============================] - 11s 4ms/step - loss: 0.1708 - accuracy: 0.9329 - val_loss: 0.1706 - val_accuracy: 0.9330\n",
      "Epoch 39/5000\n",
      "2662/2662 [==============================] - 11s 4ms/step - loss: 0.1707 - accuracy: 0.9329 - val_loss: 0.1704 - val_accuracy: 0.9331\n",
      "Epoch 40/5000\n",
      "2662/2662 [==============================] - 11s 4ms/step - loss: 0.1706 - accuracy: 0.9330 - val_loss: 0.1703 - val_accuracy: 0.9331\n",
      "Epoch 41/5000\n",
      "2662/2662 [==============================] - 11s 4ms/step - loss: 0.1705 - accuracy: 0.9330 - val_loss: 0.1701 - val_accuracy: 0.9332\n",
      "Epoch 42/5000\n",
      "2662/2662 [==============================] - 11s 4ms/step - loss: 0.1704 - accuracy: 0.9331 - val_loss: 0.1702 - val_accuracy: 0.9332\n",
      "Epoch 43/5000\n",
      "2662/2662 [==============================] - 11s 4ms/step - loss: 0.1703 - accuracy: 0.9331 - val_loss: 0.1699 - val_accuracy: 0.9333\n",
      "Epoch 44/5000\n",
      "2662/2662 [==============================] - 12s 4ms/step - loss: 0.1702 - accuracy: 0.9331 - val_loss: 0.1699 - val_accuracy: 0.9333\n",
      "Epoch 45/5000\n",
      "2662/2662 [==============================] - 10s 4ms/step - loss: 0.1702 - accuracy: 0.9332 - val_loss: 0.1698 - val_accuracy: 0.9333\n",
      "Epoch 46/5000\n",
      " 475/2662 [====>.........................] - ETA: 5s - loss: 0.1701 - accuracy: 0.9331"
     ]
    },
    {
     "ename": "KeyboardInterrupt",
     "evalue": "",
     "output_type": "error",
     "traceback": [
      "\u001b[0;31m---------------------------------------------------------------------------\u001b[0m",
      "\u001b[0;31mKeyboardInterrupt\u001b[0m                         Traceback (most recent call last)",
      "Cell \u001b[0;32mIn[29], line 12\u001b[0m\n\u001b[1;32m      9\u001b[0m opt \u001b[38;5;241m=\u001b[39m tf\u001b[38;5;241m.\u001b[39mkeras\u001b[38;5;241m.\u001b[39moptimizers\u001b[38;5;241m.\u001b[39mAdam(learning_rate\u001b[38;5;241m=\u001b[39m\u001b[38;5;241m0.00001\u001b[39m)\n\u001b[1;32m     10\u001b[0m model_all\u001b[38;5;241m.\u001b[39mcompile(loss\u001b[38;5;241m=\u001b[39m\u001b[38;5;124m'\u001b[39m\u001b[38;5;124mbinary_crossentropy\u001b[39m\u001b[38;5;124m'\u001b[39m, optimizer\u001b[38;5;241m=\u001b[39mopt, metrics\u001b[38;5;241m=\u001b[39m[\u001b[38;5;124m'\u001b[39m\u001b[38;5;124maccuracy\u001b[39m\u001b[38;5;124m'\u001b[39m])\n\u001b[0;32m---> 12\u001b[0m myhistory_all \u001b[38;5;241m=\u001b[39m \u001b[43mmodel_all\u001b[49m\u001b[38;5;241;43m.\u001b[39;49m\u001b[43mfit\u001b[49m\u001b[43m(\u001b[49m\u001b[43mX_train_all\u001b[49m\u001b[43m,\u001b[49m\u001b[43m \u001b[49m\u001b[43mY_train_all\u001b[49m\u001b[43m,\u001b[49m\u001b[43m \u001b[49m\u001b[43mepochs\u001b[49m\u001b[38;5;241;43m=\u001b[39;49m\u001b[38;5;241;43m5000\u001b[39;49m\u001b[43m,\u001b[49m\u001b[43mvalidation_data\u001b[49m\u001b[38;5;241;43m=\u001b[39;49m\u001b[43m(\u001b[49m\u001b[43mX_val_all\u001b[49m\u001b[43m,\u001b[49m\u001b[43m \u001b[49m\u001b[43mY_val_all\u001b[49m\u001b[43m)\u001b[49m\u001b[43m,\u001b[49m\u001b[43mbatch_size\u001b[49m\u001b[38;5;241;43m=\u001b[39;49m\u001b[38;5;241;43m5\u001b[39;49m\u001b[38;5;241;43m*\u001b[39;49m\u001b[38;5;241;43m1024\u001b[39;49m\u001b[43m,\u001b[49m\u001b[43mcallbacks\u001b[49m\u001b[38;5;241;43m=\u001b[39;49m\u001b[43m[\u001b[49m\u001b[43mes\u001b[49m\u001b[43m]\u001b[49m\u001b[43m)\u001b[49m\n",
      "File \u001b[0;32m~/.local/perlmutter/tensorflow2.9.0/lib/python3.9/site-packages/wandb/integration/keras/keras.py:174\u001b[0m, in \u001b[0;36mpatch_tf_keras.<locals>.new_v2\u001b[0;34m(*args, **kwargs)\u001b[0m\n\u001b[1;32m    172\u001b[0m     \u001b[38;5;28;01mfor\u001b[39;00m cbk \u001b[38;5;129;01min\u001b[39;00m cbks:\n\u001b[1;32m    173\u001b[0m         set_wandb_attrs(cbk, val_data)\n\u001b[0;32m--> 174\u001b[0m \u001b[38;5;28;01mreturn\u001b[39;00m \u001b[43mold_v2\u001b[49m\u001b[43m(\u001b[49m\u001b[38;5;241;43m*\u001b[39;49m\u001b[43margs\u001b[49m\u001b[43m,\u001b[49m\u001b[43m \u001b[49m\u001b[38;5;241;43m*\u001b[39;49m\u001b[38;5;241;43m*\u001b[39;49m\u001b[43mkwargs\u001b[49m\u001b[43m)\u001b[49m\n",
      "File \u001b[0;32m~/.local/perlmutter/tensorflow2.9.0/lib/python3.9/site-packages/wandb/integration/keras/keras.py:174\u001b[0m, in \u001b[0;36mpatch_tf_keras.<locals>.new_v2\u001b[0;34m(*args, **kwargs)\u001b[0m\n\u001b[1;32m    172\u001b[0m     \u001b[38;5;28;01mfor\u001b[39;00m cbk \u001b[38;5;129;01min\u001b[39;00m cbks:\n\u001b[1;32m    173\u001b[0m         set_wandb_attrs(cbk, val_data)\n\u001b[0;32m--> 174\u001b[0m \u001b[38;5;28;01mreturn\u001b[39;00m \u001b[43mold_v2\u001b[49m\u001b[43m(\u001b[49m\u001b[38;5;241;43m*\u001b[39;49m\u001b[43margs\u001b[49m\u001b[43m,\u001b[49m\u001b[43m \u001b[49m\u001b[38;5;241;43m*\u001b[39;49m\u001b[38;5;241;43m*\u001b[39;49m\u001b[43mkwargs\u001b[49m\u001b[43m)\u001b[49m\n",
      "File \u001b[0;32m~/.local/perlmutter/tensorflow2.9.0/lib/python3.9/site-packages/wandb/integration/keras/keras.py:174\u001b[0m, in \u001b[0;36mpatch_tf_keras.<locals>.new_v2\u001b[0;34m(*args, **kwargs)\u001b[0m\n\u001b[1;32m    172\u001b[0m     \u001b[38;5;28;01mfor\u001b[39;00m cbk \u001b[38;5;129;01min\u001b[39;00m cbks:\n\u001b[1;32m    173\u001b[0m         set_wandb_attrs(cbk, val_data)\n\u001b[0;32m--> 174\u001b[0m \u001b[38;5;28;01mreturn\u001b[39;00m \u001b[43mold_v2\u001b[49m\u001b[43m(\u001b[49m\u001b[38;5;241;43m*\u001b[39;49m\u001b[43margs\u001b[49m\u001b[43m,\u001b[49m\u001b[43m \u001b[49m\u001b[38;5;241;43m*\u001b[39;49m\u001b[38;5;241;43m*\u001b[39;49m\u001b[43mkwargs\u001b[49m\u001b[43m)\u001b[49m\n",
      "File \u001b[0;32m/global/common/software/nersc/pm-2022q4/sw/tensorflow/2.9.0/lib/python3.9/site-packages/keras/utils/traceback_utils.py:64\u001b[0m, in \u001b[0;36mfilter_traceback.<locals>.error_handler\u001b[0;34m(*args, **kwargs)\u001b[0m\n\u001b[1;32m     62\u001b[0m filtered_tb \u001b[38;5;241m=\u001b[39m \u001b[38;5;28;01mNone\u001b[39;00m\n\u001b[1;32m     63\u001b[0m \u001b[38;5;28;01mtry\u001b[39;00m:\n\u001b[0;32m---> 64\u001b[0m   \u001b[38;5;28;01mreturn\u001b[39;00m \u001b[43mfn\u001b[49m\u001b[43m(\u001b[49m\u001b[38;5;241;43m*\u001b[39;49m\u001b[43margs\u001b[49m\u001b[43m,\u001b[49m\u001b[43m \u001b[49m\u001b[38;5;241;43m*\u001b[39;49m\u001b[38;5;241;43m*\u001b[39;49m\u001b[43mkwargs\u001b[49m\u001b[43m)\u001b[49m\n\u001b[1;32m     65\u001b[0m \u001b[38;5;28;01mexcept\u001b[39;00m \u001b[38;5;167;01mException\u001b[39;00m \u001b[38;5;28;01mas\u001b[39;00m e:  \u001b[38;5;66;03m# pylint: disable=broad-except\u001b[39;00m\n\u001b[1;32m     66\u001b[0m   filtered_tb \u001b[38;5;241m=\u001b[39m _process_traceback_frames(e\u001b[38;5;241m.\u001b[39m__traceback__)\n",
      "File \u001b[0;32m/global/common/software/nersc/pm-2022q4/sw/tensorflow/2.9.0/lib/python3.9/site-packages/keras/engine/training.py:1409\u001b[0m, in \u001b[0;36mModel.fit\u001b[0;34m(self, x, y, batch_size, epochs, verbose, callbacks, validation_split, validation_data, shuffle, class_weight, sample_weight, initial_epoch, steps_per_epoch, validation_steps, validation_batch_size, validation_freq, max_queue_size, workers, use_multiprocessing)\u001b[0m\n\u001b[1;32m   1402\u001b[0m \u001b[38;5;28;01mwith\u001b[39;00m tf\u001b[38;5;241m.\u001b[39mprofiler\u001b[38;5;241m.\u001b[39mexperimental\u001b[38;5;241m.\u001b[39mTrace(\n\u001b[1;32m   1403\u001b[0m     \u001b[38;5;124m'\u001b[39m\u001b[38;5;124mtrain\u001b[39m\u001b[38;5;124m'\u001b[39m,\n\u001b[1;32m   1404\u001b[0m     epoch_num\u001b[38;5;241m=\u001b[39mepoch,\n\u001b[1;32m   1405\u001b[0m     step_num\u001b[38;5;241m=\u001b[39mstep,\n\u001b[1;32m   1406\u001b[0m     batch_size\u001b[38;5;241m=\u001b[39mbatch_size,\n\u001b[1;32m   1407\u001b[0m     _r\u001b[38;5;241m=\u001b[39m\u001b[38;5;241m1\u001b[39m):\n\u001b[1;32m   1408\u001b[0m   callbacks\u001b[38;5;241m.\u001b[39mon_train_batch_begin(step)\n\u001b[0;32m-> 1409\u001b[0m   tmp_logs \u001b[38;5;241m=\u001b[39m \u001b[38;5;28;43mself\u001b[39;49m\u001b[38;5;241;43m.\u001b[39;49m\u001b[43mtrain_function\u001b[49m\u001b[43m(\u001b[49m\u001b[43miterator\u001b[49m\u001b[43m)\u001b[49m\n\u001b[1;32m   1410\u001b[0m   \u001b[38;5;28;01mif\u001b[39;00m data_handler\u001b[38;5;241m.\u001b[39mshould_sync:\n\u001b[1;32m   1411\u001b[0m     context\u001b[38;5;241m.\u001b[39masync_wait()\n",
      "File \u001b[0;32m/global/common/software/nersc/pm-2022q4/sw/tensorflow/2.9.0/lib/python3.9/site-packages/tensorflow/python/util/traceback_utils.py:150\u001b[0m, in \u001b[0;36mfilter_traceback.<locals>.error_handler\u001b[0;34m(*args, **kwargs)\u001b[0m\n\u001b[1;32m    148\u001b[0m filtered_tb \u001b[38;5;241m=\u001b[39m \u001b[38;5;28;01mNone\u001b[39;00m\n\u001b[1;32m    149\u001b[0m \u001b[38;5;28;01mtry\u001b[39;00m:\n\u001b[0;32m--> 150\u001b[0m   \u001b[38;5;28;01mreturn\u001b[39;00m \u001b[43mfn\u001b[49m\u001b[43m(\u001b[49m\u001b[38;5;241;43m*\u001b[39;49m\u001b[43margs\u001b[49m\u001b[43m,\u001b[49m\u001b[43m \u001b[49m\u001b[38;5;241;43m*\u001b[39;49m\u001b[38;5;241;43m*\u001b[39;49m\u001b[43mkwargs\u001b[49m\u001b[43m)\u001b[49m\n\u001b[1;32m    151\u001b[0m \u001b[38;5;28;01mexcept\u001b[39;00m \u001b[38;5;167;01mException\u001b[39;00m \u001b[38;5;28;01mas\u001b[39;00m e:\n\u001b[1;32m    152\u001b[0m   filtered_tb \u001b[38;5;241m=\u001b[39m _process_traceback_frames(e\u001b[38;5;241m.\u001b[39m__traceback__)\n",
      "File \u001b[0;32m/global/common/software/nersc/pm-2022q4/sw/tensorflow/2.9.0/lib/python3.9/site-packages/tensorflow/python/eager/def_function.py:915\u001b[0m, in \u001b[0;36mFunction.__call__\u001b[0;34m(self, *args, **kwds)\u001b[0m\n\u001b[1;32m    912\u001b[0m compiler \u001b[38;5;241m=\u001b[39m \u001b[38;5;124m\"\u001b[39m\u001b[38;5;124mxla\u001b[39m\u001b[38;5;124m\"\u001b[39m \u001b[38;5;28;01mif\u001b[39;00m \u001b[38;5;28mself\u001b[39m\u001b[38;5;241m.\u001b[39m_jit_compile \u001b[38;5;28;01melse\u001b[39;00m \u001b[38;5;124m\"\u001b[39m\u001b[38;5;124mnonXla\u001b[39m\u001b[38;5;124m\"\u001b[39m\n\u001b[1;32m    914\u001b[0m \u001b[38;5;28;01mwith\u001b[39;00m OptionalXlaContext(\u001b[38;5;28mself\u001b[39m\u001b[38;5;241m.\u001b[39m_jit_compile):\n\u001b[0;32m--> 915\u001b[0m   result \u001b[38;5;241m=\u001b[39m \u001b[38;5;28;43mself\u001b[39;49m\u001b[38;5;241;43m.\u001b[39;49m\u001b[43m_call\u001b[49m\u001b[43m(\u001b[49m\u001b[38;5;241;43m*\u001b[39;49m\u001b[43margs\u001b[49m\u001b[43m,\u001b[49m\u001b[43m \u001b[49m\u001b[38;5;241;43m*\u001b[39;49m\u001b[38;5;241;43m*\u001b[39;49m\u001b[43mkwds\u001b[49m\u001b[43m)\u001b[49m\n\u001b[1;32m    917\u001b[0m new_tracing_count \u001b[38;5;241m=\u001b[39m \u001b[38;5;28mself\u001b[39m\u001b[38;5;241m.\u001b[39mexperimental_get_tracing_count()\n\u001b[1;32m    918\u001b[0m without_tracing \u001b[38;5;241m=\u001b[39m (tracing_count \u001b[38;5;241m==\u001b[39m new_tracing_count)\n",
      "File \u001b[0;32m/global/common/software/nersc/pm-2022q4/sw/tensorflow/2.9.0/lib/python3.9/site-packages/tensorflow/python/eager/def_function.py:947\u001b[0m, in \u001b[0;36mFunction._call\u001b[0;34m(self, *args, **kwds)\u001b[0m\n\u001b[1;32m    944\u001b[0m   \u001b[38;5;28mself\u001b[39m\u001b[38;5;241m.\u001b[39m_lock\u001b[38;5;241m.\u001b[39mrelease()\n\u001b[1;32m    945\u001b[0m   \u001b[38;5;66;03m# In this case we have created variables on the first call, so we run the\u001b[39;00m\n\u001b[1;32m    946\u001b[0m   \u001b[38;5;66;03m# defunned version which is guaranteed to never create variables.\u001b[39;00m\n\u001b[0;32m--> 947\u001b[0m   \u001b[38;5;28;01mreturn\u001b[39;00m \u001b[38;5;28;43mself\u001b[39;49m\u001b[38;5;241;43m.\u001b[39;49m\u001b[43m_stateless_fn\u001b[49m\u001b[43m(\u001b[49m\u001b[38;5;241;43m*\u001b[39;49m\u001b[43margs\u001b[49m\u001b[43m,\u001b[49m\u001b[43m \u001b[49m\u001b[38;5;241;43m*\u001b[39;49m\u001b[38;5;241;43m*\u001b[39;49m\u001b[43mkwds\u001b[49m\u001b[43m)\u001b[49m  \u001b[38;5;66;03m# pylint: disable=not-callable\u001b[39;00m\n\u001b[1;32m    948\u001b[0m \u001b[38;5;28;01melif\u001b[39;00m \u001b[38;5;28mself\u001b[39m\u001b[38;5;241m.\u001b[39m_stateful_fn \u001b[38;5;129;01mis\u001b[39;00m \u001b[38;5;129;01mnot\u001b[39;00m \u001b[38;5;28;01mNone\u001b[39;00m:\n\u001b[1;32m    949\u001b[0m   \u001b[38;5;66;03m# Release the lock early so that multiple threads can perform the call\u001b[39;00m\n\u001b[1;32m    950\u001b[0m   \u001b[38;5;66;03m# in parallel.\u001b[39;00m\n\u001b[1;32m    951\u001b[0m   \u001b[38;5;28mself\u001b[39m\u001b[38;5;241m.\u001b[39m_lock\u001b[38;5;241m.\u001b[39mrelease()\n",
      "File \u001b[0;32m/global/common/software/nersc/pm-2022q4/sw/tensorflow/2.9.0/lib/python3.9/site-packages/tensorflow/python/eager/function.py:2453\u001b[0m, in \u001b[0;36mFunction.__call__\u001b[0;34m(self, *args, **kwargs)\u001b[0m\n\u001b[1;32m   2450\u001b[0m \u001b[38;5;28;01mwith\u001b[39;00m \u001b[38;5;28mself\u001b[39m\u001b[38;5;241m.\u001b[39m_lock:\n\u001b[1;32m   2451\u001b[0m   (graph_function,\n\u001b[1;32m   2452\u001b[0m    filtered_flat_args) \u001b[38;5;241m=\u001b[39m \u001b[38;5;28mself\u001b[39m\u001b[38;5;241m.\u001b[39m_maybe_define_function(args, kwargs)\n\u001b[0;32m-> 2453\u001b[0m \u001b[38;5;28;01mreturn\u001b[39;00m \u001b[43mgraph_function\u001b[49m\u001b[38;5;241;43m.\u001b[39;49m\u001b[43m_call_flat\u001b[49m\u001b[43m(\u001b[49m\n\u001b[1;32m   2454\u001b[0m \u001b[43m    \u001b[49m\u001b[43mfiltered_flat_args\u001b[49m\u001b[43m,\u001b[49m\u001b[43m \u001b[49m\u001b[43mcaptured_inputs\u001b[49m\u001b[38;5;241;43m=\u001b[39;49m\u001b[43mgraph_function\u001b[49m\u001b[38;5;241;43m.\u001b[39;49m\u001b[43mcaptured_inputs\u001b[49m\u001b[43m)\u001b[49m\n",
      "File \u001b[0;32m/global/common/software/nersc/pm-2022q4/sw/tensorflow/2.9.0/lib/python3.9/site-packages/tensorflow/python/eager/function.py:1860\u001b[0m, in \u001b[0;36mConcreteFunction._call_flat\u001b[0;34m(self, args, captured_inputs, cancellation_manager)\u001b[0m\n\u001b[1;32m   1856\u001b[0m possible_gradient_type \u001b[38;5;241m=\u001b[39m gradients_util\u001b[38;5;241m.\u001b[39mPossibleTapeGradientTypes(args)\n\u001b[1;32m   1857\u001b[0m \u001b[38;5;28;01mif\u001b[39;00m (possible_gradient_type \u001b[38;5;241m==\u001b[39m gradients_util\u001b[38;5;241m.\u001b[39mPOSSIBLE_GRADIENT_TYPES_NONE\n\u001b[1;32m   1858\u001b[0m     \u001b[38;5;129;01mand\u001b[39;00m executing_eagerly):\n\u001b[1;32m   1859\u001b[0m   \u001b[38;5;66;03m# No tape is watching; skip to running the function.\u001b[39;00m\n\u001b[0;32m-> 1860\u001b[0m   \u001b[38;5;28;01mreturn\u001b[39;00m \u001b[38;5;28mself\u001b[39m\u001b[38;5;241m.\u001b[39m_build_call_outputs(\u001b[38;5;28;43mself\u001b[39;49m\u001b[38;5;241;43m.\u001b[39;49m\u001b[43m_inference_function\u001b[49m\u001b[38;5;241;43m.\u001b[39;49m\u001b[43mcall\u001b[49m\u001b[43m(\u001b[49m\n\u001b[1;32m   1861\u001b[0m \u001b[43m      \u001b[49m\u001b[43mctx\u001b[49m\u001b[43m,\u001b[49m\u001b[43m \u001b[49m\u001b[43margs\u001b[49m\u001b[43m,\u001b[49m\u001b[43m \u001b[49m\u001b[43mcancellation_manager\u001b[49m\u001b[38;5;241;43m=\u001b[39;49m\u001b[43mcancellation_manager\u001b[49m\u001b[43m)\u001b[49m)\n\u001b[1;32m   1862\u001b[0m forward_backward \u001b[38;5;241m=\u001b[39m \u001b[38;5;28mself\u001b[39m\u001b[38;5;241m.\u001b[39m_select_forward_and_backward_functions(\n\u001b[1;32m   1863\u001b[0m     args,\n\u001b[1;32m   1864\u001b[0m     possible_gradient_type,\n\u001b[1;32m   1865\u001b[0m     executing_eagerly)\n\u001b[1;32m   1866\u001b[0m forward_function, args_with_tangents \u001b[38;5;241m=\u001b[39m forward_backward\u001b[38;5;241m.\u001b[39mforward()\n",
      "File \u001b[0;32m/global/common/software/nersc/pm-2022q4/sw/tensorflow/2.9.0/lib/python3.9/site-packages/tensorflow/python/eager/function.py:497\u001b[0m, in \u001b[0;36m_EagerDefinedFunction.call\u001b[0;34m(self, ctx, args, cancellation_manager)\u001b[0m\n\u001b[1;32m    495\u001b[0m \u001b[38;5;28;01mwith\u001b[39;00m _InterpolateFunctionError(\u001b[38;5;28mself\u001b[39m):\n\u001b[1;32m    496\u001b[0m   \u001b[38;5;28;01mif\u001b[39;00m cancellation_manager \u001b[38;5;129;01mis\u001b[39;00m \u001b[38;5;28;01mNone\u001b[39;00m:\n\u001b[0;32m--> 497\u001b[0m     outputs \u001b[38;5;241m=\u001b[39m \u001b[43mexecute\u001b[49m\u001b[38;5;241;43m.\u001b[39;49m\u001b[43mexecute\u001b[49m\u001b[43m(\u001b[49m\n\u001b[1;32m    498\u001b[0m \u001b[43m        \u001b[49m\u001b[38;5;28;43mstr\u001b[39;49m\u001b[43m(\u001b[49m\u001b[38;5;28;43mself\u001b[39;49m\u001b[38;5;241;43m.\u001b[39;49m\u001b[43msignature\u001b[49m\u001b[38;5;241;43m.\u001b[39;49m\u001b[43mname\u001b[49m\u001b[43m)\u001b[49m\u001b[43m,\u001b[49m\n\u001b[1;32m    499\u001b[0m \u001b[43m        \u001b[49m\u001b[43mnum_outputs\u001b[49m\u001b[38;5;241;43m=\u001b[39;49m\u001b[38;5;28;43mself\u001b[39;49m\u001b[38;5;241;43m.\u001b[39;49m\u001b[43m_num_outputs\u001b[49m\u001b[43m,\u001b[49m\n\u001b[1;32m    500\u001b[0m \u001b[43m        \u001b[49m\u001b[43minputs\u001b[49m\u001b[38;5;241;43m=\u001b[39;49m\u001b[43margs\u001b[49m\u001b[43m,\u001b[49m\n\u001b[1;32m    501\u001b[0m \u001b[43m        \u001b[49m\u001b[43mattrs\u001b[49m\u001b[38;5;241;43m=\u001b[39;49m\u001b[43mattrs\u001b[49m\u001b[43m,\u001b[49m\n\u001b[1;32m    502\u001b[0m \u001b[43m        \u001b[49m\u001b[43mctx\u001b[49m\u001b[38;5;241;43m=\u001b[39;49m\u001b[43mctx\u001b[49m\u001b[43m)\u001b[49m\n\u001b[1;32m    503\u001b[0m   \u001b[38;5;28;01melse\u001b[39;00m:\n\u001b[1;32m    504\u001b[0m     outputs \u001b[38;5;241m=\u001b[39m execute\u001b[38;5;241m.\u001b[39mexecute_with_cancellation(\n\u001b[1;32m    505\u001b[0m         \u001b[38;5;28mstr\u001b[39m(\u001b[38;5;28mself\u001b[39m\u001b[38;5;241m.\u001b[39msignature\u001b[38;5;241m.\u001b[39mname),\n\u001b[1;32m    506\u001b[0m         num_outputs\u001b[38;5;241m=\u001b[39m\u001b[38;5;28mself\u001b[39m\u001b[38;5;241m.\u001b[39m_num_outputs,\n\u001b[0;32m   (...)\u001b[0m\n\u001b[1;32m    509\u001b[0m         ctx\u001b[38;5;241m=\u001b[39mctx,\n\u001b[1;32m    510\u001b[0m         cancellation_manager\u001b[38;5;241m=\u001b[39mcancellation_manager)\n",
      "File \u001b[0;32m/global/common/software/nersc/pm-2022q4/sw/tensorflow/2.9.0/lib/python3.9/site-packages/tensorflow/python/eager/execute.py:54\u001b[0m, in \u001b[0;36mquick_execute\u001b[0;34m(op_name, num_outputs, inputs, attrs, ctx, name)\u001b[0m\n\u001b[1;32m     52\u001b[0m \u001b[38;5;28;01mtry\u001b[39;00m:\n\u001b[1;32m     53\u001b[0m   ctx\u001b[38;5;241m.\u001b[39mensure_initialized()\n\u001b[0;32m---> 54\u001b[0m   tensors \u001b[38;5;241m=\u001b[39m \u001b[43mpywrap_tfe\u001b[49m\u001b[38;5;241;43m.\u001b[39;49m\u001b[43mTFE_Py_Execute\u001b[49m\u001b[43m(\u001b[49m\u001b[43mctx\u001b[49m\u001b[38;5;241;43m.\u001b[39;49m\u001b[43m_handle\u001b[49m\u001b[43m,\u001b[49m\u001b[43m \u001b[49m\u001b[43mdevice_name\u001b[49m\u001b[43m,\u001b[49m\u001b[43m \u001b[49m\u001b[43mop_name\u001b[49m\u001b[43m,\u001b[49m\n\u001b[1;32m     55\u001b[0m \u001b[43m                                      \u001b[49m\u001b[43minputs\u001b[49m\u001b[43m,\u001b[49m\u001b[43m \u001b[49m\u001b[43mattrs\u001b[49m\u001b[43m,\u001b[49m\u001b[43m \u001b[49m\u001b[43mnum_outputs\u001b[49m\u001b[43m)\u001b[49m\n\u001b[1;32m     56\u001b[0m \u001b[38;5;28;01mexcept\u001b[39;00m core\u001b[38;5;241m.\u001b[39m_NotOkStatusException \u001b[38;5;28;01mas\u001b[39;00m e:\n\u001b[1;32m     57\u001b[0m   \u001b[38;5;28;01mif\u001b[39;00m name \u001b[38;5;129;01mis\u001b[39;00m \u001b[38;5;129;01mnot\u001b[39;00m \u001b[38;5;28;01mNone\u001b[39;00m:\n",
      "\u001b[0;31mKeyboardInterrupt\u001b[0m: "
     ]
    }
   ],
   "source": [
    "model_all = Sequential()\n",
    "model_all.add(Dense(256, input_dim=6, activation='swish'))\n",
    "model_all.add(BatchNormalization())\n",
    "model_all.add(Dense(256, activation='swish'))\n",
    "model_all.add(BatchNormalization())\n",
    "model_all.add(Dense(256, activation='swish'))\n",
    "model_all.add(BatchNormalization())\n",
    "model_all.add(Dense(1, activation='sigmoid'))\n",
    "opt = tf.keras.optimizers.Adam(learning_rate=0.00001)\n",
    "model_all.compile(loss='binary_crossentropy', optimizer=opt, metrics=['accuracy'])\n",
    "\n",
    "myhistory_all = model_all.fit(X_train_all, Y_train_all, epochs=100,validation_data=(X_data_all, Y_data_all),batch_size=5*1024,callbacks=[es])"
   ]
  },
  {
   "cell_type": "code",
   "execution_count": 17,
   "id": "3c551220-c15c-4c03-992e-7b7b60527d70",
   "metadata": {},
   "outputs": [
    {
     "name": "stderr",
     "output_type": "stream",
     "text": [
      "2023-12-03 02:33:30.556731: I tensorflow/core/platform/cpu_feature_guard.cc:193] This TensorFlow binary is optimized with oneAPI Deep Neural Network Library (oneDNN) to use the following CPU instructions in performance-critical operations:  AVX2 FMA\n",
      "To enable them in other operations, rebuild TensorFlow with the appropriate compiler flags.\n",
      "2023-12-03 02:33:31.454976: I tensorflow/core/common_runtime/gpu/gpu_device.cc:1532] Created device /job:localhost/replica:0/task:0/device:GPU:0 with 18791 MB memory:  -> device: 0, name: NVIDIA A100-PCIE-40GB, pci bus id: 0000:c3:00.0, compute capability: 8.0\n"
     ]
    }
   ],
   "source": [
    "model_all = Sequential()\n",
    "model_all.add(Dense(config_parametrized.layer_1, input_dim=6, activation=config_parametrized.activation_1))\n",
    "model_all.add(Dense(config_parametrized.layer_2, activation=config_parametrized.activation_2))\n",
    "model_all.add(Dense(config_parametrized.layer_3, activation=config_parametrized.activation_3))\n",
    "model_all.add(Dense(config_parametrized.output_layer, activation=config_parametrized.output_activation))\n",
    "model_all.compile(loss=config_parametrized.loss, optimizer=config_parametrized.optimizer, metrics=['accuracy'])"
   ]
  },
  {
   "cell_type": "code",
   "execution_count": 28,
   "id": "e59671ff-071b-4cae-8bd7-85be13c98cc9",
   "metadata": {
    "tags": []
   },
   "outputs": [],
   "source": [
    "es = tf.keras.callbacks.EarlyStopping(monitor='val_loss', patience=5)"
   ]
  },
  {
   "cell_type": "code",
   "execution_count": 19,
   "id": "df155c53-9821-4645-ba10-8e71d923472b",
   "metadata": {
    "tags": []
   },
   "outputs": [
    {
     "name": "stderr",
     "output_type": "stream",
     "text": [
      "\u001b[34m\u001b[1mwandb\u001b[0m: \u001b[33mWARNING\u001b[0m The save_model argument by default saves the model in the HDF5 format that cannot save custom objects like subclassed models and custom layers. This behavior will be deprecated in a future release in favor of the SavedModel format. Meanwhile, the HDF5 model is saved as W&B files and the SavedModel as W&B Artifacts.\n"
     ]
    },
    {
     "name": "stdout",
     "output_type": "stream",
     "text": [
      "Epoch 1/1000\n",
      "  37/2662 [..............................] - ETA: 12s - loss: 0.4137 - accuracy: 0.7956  "
     ]
    },
    {
     "name": "stderr",
     "output_type": "stream",
     "text": [
      "2023-12-03 02:33:37.849259: I tensorflow/stream_executor/cuda/cuda_blas.cc:1786] TensorFloat-32 will be used for the matrix multiplication. This will only be logged once.\n"
     ]
    },
    {
     "name": "stdout",
     "output_type": "stream",
     "text": [
      "2662/2662 [==============================] - 23s 8ms/step - loss: 0.1946 - accuracy: 0.9233 - val_loss: 0.1750 - val_accuracy: 0.9315\n",
      "Epoch 2/1000\n",
      "2662/2662 [==============================] - 17s 6ms/step - loss: 0.1726 - accuracy: 0.9323 - val_loss: 0.1723 - val_accuracy: 0.9321\n",
      "Epoch 3/1000\n",
      "2662/2662 [==============================] - 17s 7ms/step - loss: 0.1703 - accuracy: 0.9330 - val_loss: 0.1704 - val_accuracy: 0.9329\n",
      "Epoch 4/1000\n",
      "2662/2662 [==============================] - 17s 6ms/step - loss: 0.1696 - accuracy: 0.9333 - val_loss: 0.1698 - val_accuracy: 0.9331\n",
      "Epoch 5/1000\n",
      "2662/2662 [==============================] - 18s 7ms/step - loss: 0.1691 - accuracy: 0.9335 - val_loss: 0.1705 - val_accuracy: 0.9329\n",
      "Epoch 6/1000\n",
      "2662/2662 [==============================] - 19s 7ms/step - loss: 0.1688 - accuracy: 0.9335 - val_loss: 0.1691 - val_accuracy: 0.9334\n",
      "Epoch 7/1000\n",
      "2662/2662 [==============================] - 21s 8ms/step - loss: 0.1685 - accuracy: 0.9337 - val_loss: 0.1698 - val_accuracy: 0.9331\n",
      "Epoch 8/1000\n",
      "2662/2662 [==============================] - 21s 8ms/step - loss: 0.1684 - accuracy: 0.9337 - val_loss: 0.1682 - val_accuracy: 0.9338\n",
      "Epoch 9/1000\n",
      "2662/2662 [==============================] - 20s 7ms/step - loss: 0.1681 - accuracy: 0.9338 - val_loss: 0.1682 - val_accuracy: 0.9338\n",
      "Epoch 10/1000\n",
      "2662/2662 [==============================] - 20s 7ms/step - loss: 0.1680 - accuracy: 0.9339 - val_loss: 0.1691 - val_accuracy: 0.9334\n",
      "Epoch 11/1000\n",
      "2662/2662 [==============================] - 21s 8ms/step - loss: 0.1678 - accuracy: 0.9339 - val_loss: 0.1683 - val_accuracy: 0.9337\n",
      "Epoch 12/1000\n",
      "2662/2662 [==============================] - 22s 8ms/step - loss: 0.1677 - accuracy: 0.9340 - val_loss: 0.1678 - val_accuracy: 0.9339\n",
      "Epoch 13/1000\n",
      "2662/2662 [==============================] - 20s 8ms/step - loss: 0.1677 - accuracy: 0.9340 - val_loss: 0.1679 - val_accuracy: 0.9339\n",
      "Epoch 14/1000\n",
      "2662/2662 [==============================] - 20s 8ms/step - loss: 0.1676 - accuracy: 0.9340 - val_loss: 0.1678 - val_accuracy: 0.9340\n",
      "Epoch 15/1000\n",
      "2662/2662 [==============================] - 20s 7ms/step - loss: 0.1675 - accuracy: 0.9341 - val_loss: 0.1682 - val_accuracy: 0.9338\n",
      "Epoch 16/1000\n",
      "2662/2662 [==============================] - 19s 7ms/step - loss: 0.1675 - accuracy: 0.9341 - val_loss: 0.1676 - val_accuracy: 0.9340\n",
      "Epoch 17/1000\n",
      "2662/2662 [==============================] - 20s 7ms/step - loss: 0.1674 - accuracy: 0.9341 - val_loss: 0.1675 - val_accuracy: 0.9341\n",
      "Epoch 18/1000\n",
      "2662/2662 [==============================] - 21s 8ms/step - loss: 0.1673 - accuracy: 0.9341 - val_loss: 0.1685 - val_accuracy: 0.9337\n",
      "Epoch 19/1000\n",
      "2662/2662 [==============================] - 22s 8ms/step - loss: 0.1673 - accuracy: 0.9341 - val_loss: 0.1675 - val_accuracy: 0.9340\n",
      "Epoch 20/1000\n",
      "2662/2662 [==============================] - 21s 8ms/step - loss: 0.1672 - accuracy: 0.9342 - val_loss: 0.1674 - val_accuracy: 0.9341\n",
      "Epoch 21/1000\n",
      "2662/2662 [==============================] - 20s 8ms/step - loss: 0.1672 - accuracy: 0.9342 - val_loss: 0.1674 - val_accuracy: 0.9341\n",
      "Epoch 22/1000\n",
      "2662/2662 [==============================] - 21s 8ms/step - loss: 0.1671 - accuracy: 0.9342 - val_loss: 0.1677 - val_accuracy: 0.9340\n",
      "Epoch 23/1000\n",
      "2662/2662 [==============================] - 20s 8ms/step - loss: 0.1671 - accuracy: 0.9342 - val_loss: 0.1680 - val_accuracy: 0.9339\n",
      "Epoch 24/1000\n",
      "2662/2662 [==============================] - 20s 7ms/step - loss: 0.1670 - accuracy: 0.9343 - val_loss: 0.1676 - val_accuracy: 0.9341\n",
      "Epoch 25/1000\n",
      "2662/2662 [==============================] - 19s 7ms/step - loss: 0.1670 - accuracy: 0.9342 - val_loss: 0.1675 - val_accuracy: 0.9340\n"
     ]
    }
   ],
   "source": [
    "with tf.device('/GPU:0'):\n",
    "    myhistory_all = model_all.fit(X_train_all, Y_train_all, epochs=config_parametrized.epoch,validation_data=(X_val_all, Y_val_all),batch_size=config_parametrized.batch_size*5, callbacks = [WandbCallback(), es])"
   ]
  },
  {
   "cell_type": "code",
   "execution_count": 29,
   "id": "a1c0821b-afa5-4e8c-8836-9af5710f2e24",
   "metadata": {
    "tags": []
   },
   "outputs": [
    {
     "data": {
      "text/html": [
       "Waiting for W&B process to finish... <strong style=\"color:green\">(success).</strong>"
      ],
      "text/plain": [
       "<IPython.core.display.HTML object>"
      ]
     },
     "metadata": {},
     "output_type": "display_data"
    },
    {
     "name": "stderr",
     "output_type": "stream",
     "text": [
      "wandb: WARNING Source type is set to 'repo' but some required information is missing from the environment. A job will not be created from this run. See https://docs.wandb.ai/guides/launch/create-job\n"
     ]
    },
    {
     "data": {
      "text/html": [
       "<style>\n",
       "    table.wandb td:nth-child(1) { padding: 0 10px; text-align: left ; width: auto;} td:nth-child(2) {text-align: left ; width: 100%}\n",
       "    .wandb-row { display: flex; flex-direction: row; flex-wrap: wrap; justify-content: flex-start; width: 100% }\n",
       "    .wandb-col { display: flex; flex-direction: column; flex-basis: 100%; flex: 1; padding: 10px; }\n",
       "    </style>\n",
       "<div class=\"wandb-row\"><div class=\"wandb-col\"><h3>Run history:</h3><br/><table class=\"wandb\"><tr><td>accuracy</td><td>▁▇▇▇███████████████████████████</td></tr><tr><td>epoch</td><td>▁▁▁▂▂▂▂▃▃▃▃▄▄▄▄▅▅▅▅▅▆▆▆▆▇▇▇▇███</td></tr><tr><td>loss</td><td>█▂▂▂▂▁▁▁▁▁▁▁▁▁▁▁▁▁▁▁▁▁▁▁▁▁▁▁▁▁▁</td></tr><tr><td>val_accuracy</td><td>▁▄▄▄▅▆▆▇▇▇▇█▇▇▇█▇█▇▇▇████▇███▇█</td></tr><tr><td>val_loss</td><td>█▅▄▅▄▃▃▂▂▂▂▁▂▂▂▁▂▁▂▂▂▁▁▁▁▂▁▁▁▂▁</td></tr></table><br/></div><div class=\"wandb-col\"><h3>Run summary:</h3><br/><table class=\"wandb\"><tr><td>accuracy</td><td>0.9362</td></tr><tr><td>best_epoch</td><td>26</td></tr><tr><td>best_val_loss</td><td>0.16208</td></tr><tr><td>epoch</td><td>30</td></tr><tr><td>loss</td><td>0.1622</td></tr><tr><td>val_accuracy</td><td>0.93596</td></tr><tr><td>val_loss</td><td>0.16251</td></tr></table><br/></div></div>"
      ],
      "text/plain": [
       "<IPython.core.display.HTML object>"
      ]
     },
     "metadata": {},
     "output_type": "display_data"
    },
    {
     "data": {
      "text/html": [
       " View run <strong style=\"color:#cdcd00\">fancy-fog-69</strong> at: <a href='https://wandb.ai/gup-singh/Anomaly/runs/pigf1tn7' target=\"_blank\">https://wandb.ai/gup-singh/Anomaly/runs/pigf1tn7</a><br/>Synced 5 W&B file(s), 1 media file(s), 52 artifact file(s) and 1 other file(s)"
      ],
      "text/plain": [
       "<IPython.core.display.HTML object>"
      ]
     },
     "metadata": {},
     "output_type": "display_data"
    },
    {
     "data": {
      "text/html": [
       "Find logs at: <code>/pscratch/sd/g/gupsingh/wandb/run-20231202_161912-pigf1tn7/logs</code>"
      ],
      "text/plain": [
       "<IPython.core.display.HTML object>"
      ]
     },
     "metadata": {},
     "output_type": "display_data"
    }
   ],
   "source": [
    "wandb.finish()"
   ]
  },
  {
   "cell_type": "code",
   "execution_count": 21,
   "id": "e3d75fda-1aa3-4175-bf5e-8ea4af80a0b1",
   "metadata": {
    "tags": []
   },
   "outputs": [
    {
     "data": {
      "image/png": "[encoded data removed]",
      "text/plain": [
       "<Figure size 640x480 with 1 Axes>"
      ]
     },
     "metadata": {},
     "output_type": "display_data"
    }
   ],
   "source": [
    "plt.plot(myhistory_all.history['loss'])\n",
    "plt.plot(myhistory_all.history['val_loss'])\n",
    "plt.title('Model Loss All')\n",
    "plt.ylabel('Loss')\n",
    "plt.xlabel('Epoch')\n",
    "plt.legend(['loss', 'Validation'], loc='upper right')\n",
    "plt.show()"
   ]
  },
  {
   "cell_type": "code",
   "execution_count": 129,
   "id": "669e8b25-00b9-4ed0-9cf1-edc4d2fa55a4",
   "metadata": {
    "tags": []
   },
   "outputs": [
    {
     "name": "stdout",
     "output_type": "stream",
     "text": [
      "100/100 [==============================] - 0s 690us/step\n"
     ]
    }
   ],
   "source": [
    "preds_all_BCE = model_all.predict(X_val_all[np.product(X_val_all[:,4:6]==[1,1],axis=1)==1],batch_size=1000)\n",
    "fpr_all_BCE, tpr_all_BCE, _ = metrics.roc_curve(Y_val_all[np.product(X_val_all[:,4:6]==[1,1],axis=1)==1], preds_all_BCE)"
   ]
  },
  {
   "cell_type": "code",
   "execution_count": 130,
   "id": "c1d9db22-5533-4494-86bc-7435882eeb9e",
   "metadata": {
    "tags": []
   },
   "outputs": [
    {
     "name": "stdout",
     "output_type": "stream",
     "text": [
      "99/99 [==============================] - 0s 675us/step\n"
     ]
    }
   ],
   "source": [
    "preds_100_BCE = model_dedicated.predict(X_val_100,batch_size=1000)\n",
    "fpr_100_BCE, tpr_100_BCE, _ = metrics.roc_curve(Y_val_100, preds_100_BCE)"
   ]
  },
  {
   "cell_type": "code",
   "execution_count": 131,
   "id": "a7fe39c1-8e79-476b-a8cc-68515b41c2ba",
   "metadata": {
    "tags": []
   },
   "outputs": [
    {
     "name": "stderr",
     "output_type": "stream",
     "text": [
      "/tmp/ipykernel_808700/2993218434.py:2: RuntimeWarning: divide by zero encountered in divide\n",
      "  plt.plot(tpr_100_BCE,1./(fpr_100_BCE),label=\"dedicated_100\")\n",
      "/tmp/ipykernel_808700/2993218434.py:3: RuntimeWarning: divide by zero encountered in divide\n",
      "  plt.plot(tpr_all_BCE,1./(fpr_all_BCE),label=\"parameterized_100\")\n"
     ]
    },
    {
     "data": {
      "text/plain": [
       "Text(0.5, 1.0, '$(m_B,m_C) = (100,100)$ GeV Dedicated BCE vs Parametrized BCE (Optimized)')"
      ]
     },
     "execution_count": 131,
     "metadata": {},
     "output_type": "execute_result"
    },
    {
     "data": {
      "image/png": "[encoded data removed]",
      "text/plain": [
       "<Figure size 640x480 with 1 Axes>"
      ]
     },
     "metadata": {},
     "output_type": "display_data"
    }
   ],
   "source": [
    "epsilon = 1e-6\n",
    "plt.plot(tpr_100_BCE,1./(fpr_100_BCE),label=\"dedicated_100\")\n",
    "plt.plot(tpr_all_BCE,1./(fpr_all_BCE),label=\"parameterized_100\")\n",
    "\n",
    "plt.yscale(\"log\")\n",
    "plt.legend(frameon=False)\n",
    "plt.xlabel(\"TPR\")\n",
    "plt.ylabel(\"1/FPR\")\n",
    "plt.title(\"$(m_B,m_C) = (100,100)$ GeV Dedicated BCE vs Parametrized BCE (Optimized)\")"
   ]
  },
  {
   "cell_type": "code",
   "execution_count": 93,
   "id": "9461ad60-fe52-4dfd-bf18-586a8e5a8c36",
   "metadata": {
    "collapsed": true,
    "jupyter": {
     "outputs_hidden": true
    },
    "tags": []
   },
   "outputs": [
    {
     "name": "stdout",
     "output_type": "stream",
     "text": [
      "0.5 0.5 0.54886675 9.1187\n",
      "0.5 1 1.178339 9.041979\n",
      "0.5 1.5 1.7308723 9.9712\n",
      "0.5 2 0.65783334 12.198997\n",
      "0.5 2.5 0.522094 2.493953\n",
      "0.5 3 0.5387169 3.0016263\n",
      "0.5 3.5 0.5234309 3.4909031\n",
      "0.5 4 0.52216065 4.001814\n",
      "0.5 4.5 0.5345104 4.51066\n",
      "0.5 5 0.5427123 4.992942\n",
      "0.5 5.5 0.5428319 5.498277\n",
      "0.5 6 0.53163356 5.998263\n",
      "1 0.5 1.1933674 9.145726\n",
      "1 1 1.0703924 8.500084\n",
      "1 1.5 1.132519 9.325226\n",
      "1 2 1.0354787 2.0043766\n",
      "1 2.5 1.0316507 2.5240946\n",
      "1 3 1.0704712 3.0058718\n",
      "1 3.5 1.0580518 3.4873185\n",
      "1 4 1.0528803 3.9906034\n",
      "1 4.5 1.0393144 4.5107846\n",
      "1 5 1.0346998 5.0036116\n",
      "1 5.5 1.0566307 5.5142756\n",
      "1 6 1.0626242 6.0140896\n",
      "1.5 0.5 1.7387886 10.043673\n",
      "1.5 1 1.117349 9.313453\n",
      "1.5 1.5 1.5716422 8.922293\n",
      "1.5 2 1.5382792 2.0096004\n",
      "1.5 2.5 1.5484798 2.5378559\n",
      "1.5 3 1.5439345 3.0212643\n",
      "1.5 3.5 1.5301502 3.5112069\n",
      "1.5 4 1.5580177 4.0056057\n",
      "1.5 4.5 1.5548168 4.5293093\n",
      "1.5 5 1.5739219 5.0092616\n",
      "1.5 5.5 1.5660185 5.5184603\n",
      "1.5 6 1.557921 6.019687\n",
      "2 0.5 0.653705 12.106312\n",
      "2 1 1.0576507 2.006056\n",
      "2 1.5 1.5467144 2.0206738\n",
      "2 2 2.0586207 1.9846276\n",
      "2 2.5 2.0352075 2.5235796\n",
      "2 3 2.0328906 3.01965\n",
      "2 3.5 2.0540128 3.5308237\n",
      "2 4 2.0662074 3.9758081\n",
      "2 4.5 2.0761962 4.522068\n",
      "2 5 2.0668526 5.0216637\n",
      "2 5.5 2.0631466 5.52225\n",
      "2 6 2.082587 6.0322256\n",
      "2.5 0.5 0.5189382 2.4997091\n",
      "2.5 1 1.0334209 2.5056126\n",
      "2.5 1.5 1.5352407 2.529056\n",
      "2.5 2 2.0408442 2.5026252\n",
      "2.5 2.5 2.5662696 2.4842236\n",
      "2.5 3 2.5445254 3.0224075\n",
      "2.5 3.5 2.5452769 3.5194201\n",
      "2.5 4 2.5650837 4.014393\n",
      "2.5 4.5 2.543101 4.5393076\n",
      "2.5 5 2.550049 5.042111\n",
      "2.5 5.5 2.5688865 5.5464306\n",
      "2.5 6 2.5715606 6.048552\n",
      "3 0.5 0.5151333 3.0050447\n",
      "3 1 1.039025 3.0099058\n",
      "3 1.5 1.5562433 3.0223396\n",
      "3 2 2.049459 3.0357997\n",
      "3 2.5 2.558177 3.017043\n",
      "3 3 3.0917919 2.991567\n",
      "3 3.5 3.0556822 3.5247128\n",
      "3 4 3.0723758 3.9866166\n",
      "3 4.5 3.0915082 4.551196\n",
      "3 5 3.069013 5.0315332\n",
      "3 5.5 3.0809352 5.5356903\n",
      "3 6 3.089809 6.037912\n",
      "3.5 0.5 0.5104961 3.48236\n",
      "3.5 1 1.0338713 3.493005\n",
      "3.5 1.5 1.5680463 3.4944172\n",
      "3.5 2 2.053687 3.5297022\n",
      "3.5 2.5 2.543893 3.5143096\n",
      "3.5 3 3.056306 3.4968731\n",
      "3.5 3.5 3.570931 3.4808362\n",
      "3.5 4 3.5659378 4.015792\n",
      "3.5 4.5 3.5366957 4.530798\n",
      "3.5 5 3.5534291 5.030549\n",
      "3.5 5.5 3.5983346 5.526085\n",
      "3.5 6 3.5651634 6.0427604\n",
      "4 0.5 0.51389205 3.9913068\n",
      "4 1 1.0562227 4.005877\n",
      "4 1.5 1.5592299 4.0163474\n",
      "4 2 2.05459 4.003784\n",
      "4 2.5 2.5706916 4.018258\n",
      "4 3 3.0656276 4.013933\n",
      "4 3.5 3.5295036 4.0032444\n",
      "4 4 4.0626283 3.992403\n",
      "4 4.5 4.1009245 4.518013\n",
      "4 5 4.072928 5.023927\n",
      "4 5.5 4.065473 5.534296\n",
      "4 6 4.086201 6.0386314\n",
      "4.5 0.5 0.5102821 4.5044317\n",
      "4.5 1 1.0596026 4.5005584\n",
      "4.5 1.5 1.5493829 4.515256\n",
      "4.5 2 2.0541475 4.538821\n",
      "4.5 2.5 2.5515378 4.559518\n",
      "4.5 3 3.0788715 4.531438\n",
      "4.5 3.5 3.6019137 4.52328\n",
      "4.5 4 4.08064 4.508122\n",
      "4.5 4.5 4.582942 4.505922\n",
      "4.5 5 4.5993605 5.0051217\n",
      "4.5 5.5 4.6007485 5.5337706\n",
      "4.5 6 4.6084733 6.047649\n",
      "5 0.5 0.5015836 5.006785\n",
      "5 1 1.058667 5.0218835\n",
      "5 1.5 1.5656884 5.0202303\n",
      "5 2 2.0519445 5.0320096\n",
      "5 2.5 2.5523832 5.0267534\n",
      "5 3 3.0698912 5.0514097\n",
      "5 3.5 3.5633407 5.01499\n",
      "5 4 4.081095 5.016299\n",
      "5 4.5 4.596376 4.9914465\n",
      "5 5 5.0722036 5.0128036\n",
      "5 5.5 5.0958233 5.481476\n",
      "5 6 5.111398 6.016793\n",
      "5.5 0.5 0.2294059 5.4994617\n",
      "5.5 1 1.0709813 5.529131\n",
      "5.5 1.5 1.5531529 5.5295005\n",
      "5.5 2 2.069451 5.534505\n",
      "5.5 2.5 2.5704875 5.535683\n",
      "5.5 3 3.077164 5.528361\n",
      "5.5 3.5 3.561266 5.5393195\n",
      "5.5 4 4.102705 5.528805\n",
      "5.5 4.5 4.5882483 5.515371\n",
      "5.5 5 5.1053495 5.48943\n",
      "5.5 5.5 5.54662 5.536221\n",
      "5.5 6 5.6184397 5.97014\n",
      "6 0.5 0.19844559 6.0047936\n",
      "6 1 1.0678483 6.0283756\n",
      "6 1.5 1.5608798 6.0299053\n",
      "6 2 2.0815814 6.025141\n",
      "6 2.5 2.5777135 6.0405464\n",
      "6 3 3.0761678 6.053257\n",
      "6 3.5 3.5853045 6.0368786\n",
      "6 4 4.098252 6.066344\n",
      "6 4.5 4.5892053 6.0387764\n",
      "6 5 5.1228337 6.0124693\n",
      "6 5.5 5.6011214 5.994912\n",
      "6 6 6.061766 6.069758\n"
     ]
    }
   ],
   "source": [
    "xx = []\n",
    "mm = []\n",
    "for m1 in mass_range[1:]:\n",
    "        for m2 in mass_range[1:]:\n",
    "\n",
    "            #freeze layers\n",
    "            for l in model_all.layers:\n",
    "                l.trainable=False\n",
    "\n",
    "            #create simple models\n",
    "            model3 = createSimpleModel(1)\n",
    "            model32 = createSimpleModel(4)\n",
    "\n",
    "            #combine everything\n",
    "            inputs = tf.keras.Input(shape=(4,))\n",
    "            inputs2 = tf.keras.layers.concatenate([inputs,model3(tf.ones_like(inputs)[:,0]),model32(tf.ones_like(inputs)[:,0])])\n",
    "            hidden_layer_1 = model_all(inputs2)\n",
    "            model_all2 = Model(inputs = inputs, outputs = hidden_layer_1)\n",
    "            model_all2.compile(loss=tf.keras.losses.BinaryCrossentropy(), optimizer=tf.keras.optimizers.Adam(learning_rate = 0.01))\n",
    "\n",
    "            x_data_ = np.concatenate([x[0,0],x[m1,m2]])\n",
    "            y_data_ = np.concatenate([np.zeros(len(x[0,0])),np.ones(len(x[m1,m2]))])\n",
    "            X_train_, X_val_, Y_train_, Y_val_ = train_test_split(x_data_, y_data_, test_size=0.5)\n",
    "            myhistory_hack_ = model_all2.fit(X_train_[:,0:4], Y_train_, epochs=20,validation_data=(X_val_[:,0:4], Y_val_),batch_size=1024, verbose = 0)\n",
    "            print(m1,m2,np.array(model_all2.trainable_weights).flatten()[0],np.array(model_all2.trainable_weights).flatten()[1])\n",
    "            xx += [[np.array(model_all2.trainable_weights).flatten()[0],np.array(model_all2.trainable_weights).flatten()[1]]]\n",
    "            mm += [[m1,m2]]"
   ]
  },
  {
   "cell_type": "code",
   "execution_count": null,
   "id": "d851c2e0-f3ab-4aae-801f-947c64985f56",
   "metadata": {},
   "outputs": [],
   "source": [
    "len(x[m1,m2])"
   ]
  },
  {
   "cell_type": "code",
   "execution_count": 94,
   "id": "43403e1a-5362-4f51-bafb-6c950afa689a",
   "metadata": {
    "tags": []
   },
   "outputs": [
    {
     "name": "stdout",
     "output_type": "stream",
     "text": [
      "[0.5 0.5] [0.54886675 9.1187    ]\n",
      "[0.5 1. ] [1.178339 9.041979]\n",
      "[0.5 1.5] [1.7308723 9.9712   ]\n",
      "[0.5 2. ] [ 0.65783334 12.198997  ]\n",
      "[1.  0.5] [1.1933674 9.145726 ]\n",
      "[1. 1.] [1.0703924 8.500084 ]\n",
      "[1.  1.5] [1.132519 9.325226]\n",
      "[1.5 0.5] [ 1.7387886 10.043673 ]\n",
      "[1.5 1. ] [1.117349 9.313453]\n",
      "[1.5 1.5] [1.5716422 8.922293 ]\n",
      "[2.  0.5] [ 0.653705 12.106312]\n",
      "[5.5 0.5] [0.2294059 5.4994617]\n",
      "[6.  0.5] [0.19844559 6.0047936 ]\n",
      "found both: 0.9097222222222222\n",
      "found one: 0.0763888888888889\n",
      "found none: 0.013888888888888888\n"
     ]
    }
   ],
   "source": [
    "xx = np.array(xx)\n",
    "mm = np.array(mm)\n",
    "\n",
    "found_both = 0.\n",
    "found_one = 0.\n",
    "found_none = 0.\n",
    "for i in range(len(mm)):\n",
    "    diff1 = abs(mm[i][0]-xx[i][0])\n",
    "    diff2 = abs(mm[i][1]-xx[i][0])\n",
    "    diff3 = abs(mm[i][0]-xx[i][1])\n",
    "    diff4 = abs(mm[i][1]-xx[i][1])\n",
    "    diffs = [diff1,diff2,diff3,diff4]\n",
    "    if (diff1 < 0.2 and diff4 < 0.2) or (diff2 < 0.2 and diff3 < 0.2):\n",
    "        #print(mm[i],xx[i])\n",
    "        found_both+=1\n",
    "    elif (min(diffs) < 0.2):\n",
    "        print(mm[i],xx[i])\n",
    "        found_one+=1\n",
    "        pass\n",
    "    else:\n",
    "        print(mm[i],xx[i])\n",
    "        found_none+=1\n",
    "        pass\n",
    "\n",
    "print(\"found both:\",found_both/(found_both+found_one+found_none))\n",
    "print(\"found one:\",found_one/(found_both+found_one+found_none))\n",
    "print(\"found none:\",found_none/(found_both+found_one+found_none))"
   ]
  },
  {
   "cell_type": "code",
   "execution_count": 30,
   "id": "1ef6cc8a-635e-4959-8d6c-0f5503d094be",
   "metadata": {},
   "outputs": [
    {
     "name": "stderr",
     "output_type": "stream",
     "text": [
      "2023-12-23 18:40:54.115039: I tensorflow/core/platform/cpu_feature_guard.cc:193] This TensorFlow binary is optimized with oneAPI Deep Neural Network Library (oneDNN) to use the following CPU instructions in performance-critical operations:  AVX2 FMA\n",
      "To enable them in other operations, rebuild TensorFlow with the appropriate compiler flags.\n",
      "2023-12-23 18:40:54.927181: I tensorflow/core/common_runtime/gpu/gpu_device.cc:1532] Created device /job:localhost/replica:0/task:0/device:GPU:0 with 38219 MB memory:  -> device: 0, name: NVIDIA A100-PCIE-40GB, pci bus id: 0000:c3:00.0, compute capability: 8.0\n"
     ]
    }
   ],
   "source": [
    "model_all = tf.keras.models.load_model(\"model_all_BCE\")\n",
    "#model_all_MSE = tf.keras.models.load_model(\"model_all_MSE\")"
   ]
  },
  {
   "cell_type": "code",
   "execution_count": 53,
   "id": "5244fe1c-522f-49c3-9058-c2c9ed2bc8e9",
   "metadata": {
    "tags": []
   },
   "outputs": [
    {
     "name": "stdout",
     "output_type": "stream",
     "text": [
      "3.241 3.649 0.001\n",
      "30338 91014 30 0.0009888588568791614\n",
      "3 3 3.1579924 3.1172059\n",
      "3.241 3.649 0.0012742749857031334\n",
      "30338 91014 38 0.0012525545520469378\n",
      "3 3 3.1826441 3.087931\n",
      "3.241 3.649 0.001623776739188721\n",
      "30338 91014 49 0.0016151361329026304\n",
      "3 3 3.1388724 3.8904655\n",
      "3.241 3.649 0.00206913808111479\n",
      "30338 91014 62 0.002043641637550267\n",
      "3 3 3.154447 3.0509462\n",
      "3.241 3.649 0.0026366508987303583\n",
      "30338 91014 79 0.002603994989781792\n",
      "3 3 3.1705275 3.0789962\n",
      "3.241 3.649 0.003359818286283781\n",
      "30338 91014 101 0.003329158151493177\n",
      "3 3 3.1876981 3.0938199\n",
      "3.241 3.649 0.004281332398719396\n",
      "30338 91014 129 0.004252093084580394\n",
      "3 3 3.1321526 3.831782\n",
      "3.241 3.649 0.00545559478116852\n",
      "30338 91014 165 0.005438723712835388\n",
      "3 3 3.1570003 3.0416594\n",
      "3.241 3.649 0.0069519279617756054\n",
      "30338 91014 210 0.00692201199815413\n",
      "3 3 3.1844287 3.087246\n",
      "3.241 3.649 0.008858667904100823\n",
      "30338 91014 268 0.008833805788120508\n",
      "3 3 3.1365278 3.029059\n",
      "3.241 3.649 0.011288378916846888\n",
      "30338 91014 342 0.011272990968422441\n",
      "3 3 3.1480544 3.0427306\n",
      "3.241 3.649 0.01438449888287663\n",
      "30338 91014 436 0.014371415386643813\n",
      "3 3 3.1372876 3.0349562\n",
      "3.241 3.649 0.018329807108324356\n",
      "30338 91014 556 0.01832685081416046\n",
      "3 3 3.1080706 3.006989\n",
      "3.241 3.649 0.023357214690901212\n",
      "30338 91014 708 0.02333706902234821\n",
      "3 3 3.109382 3.0109477\n",
      "3.241 3.649 0.029763514416313176\n",
      "30338 91014 902 0.02973168963016679\n",
      "3 3 3.099201 2.9598236\n",
      "3.241 3.649 0.0379269019073225\n",
      "30338 91014 1150 0.03790625618036786\n",
      "3 3 3.1200893 3.0266035\n",
      "3.241 3.649 0.04832930238571752\n",
      "30338 91014 1466 0.048322236139495024\n",
      "3 3 3.110797 2.9605124\n",
      "3.241 3.649 0.06158482110660261\n",
      "30338 91014 1868 0.06157294482167579\n",
      "3 3 3.1009846 2.9983542\n",
      "3.241 3.649 0.07847599703514611\n",
      "30338 91014 2380 0.07844946931241348\n",
      "3 3 3.0767894 3.0103476\n",
      "3.241 3.649 0.1\n",
      "30338 91014 3033 0.09997363043048323\n",
      "3 3 3.077031 3.0000985\n"
     ]
    }
   ],
   "source": [
    "sig_list = []\n",
    "weight_list1 = []\n",
    "weight_list2 = []\n",
    "weight_list3 = []\n",
    "\n",
    "max_sic1 = []\n",
    "max_sic2 = []\n",
    "\n",
    "epsilon = 1e-4\n",
    "\n",
    "# w1 = round(random.uniform(0.5, 6.0),3)\n",
    "# w2 = round(random.uniform(0.5, 6.0),3)\n",
    "\n",
    "w1 = 3.241\n",
    "w2 = 3.649\n",
    "\n",
    "for sigfrac in np.logspace(-3,-1,20):\n",
    "    #sigfrac = 0.07\n",
    "    print(w1, w2, sigfrac)\n",
    "\n",
    "    for l in model_all.layers:\n",
    "        l.trainable=False\n",
    "\n",
    "    inputs_hold = tf.keras.Input(shape=(1,))\n",
    "    simple_model = Dense(1,use_bias = False,activation='relu',kernel_initializer=tf.keras.initializers.Constant(w1))(inputs_hold)\n",
    "    model3 = Model(inputs = inputs_hold, outputs = simple_model)\n",
    "\n",
    "    inputs_hold2 = tf.keras.Input(shape=(1,))\n",
    "    simple_model2 = Dense(1,use_bias = False,activation='relu',kernel_initializer=tf.keras.initializers.Constant(w2))(inputs_hold2)\n",
    "    model32 = Model(inputs = inputs_hold2, outputs = simple_model2)\n",
    "\n",
    "    inputs_hold3 = tf.keras.Input(shape=(1,))\n",
    "    simple_model3 = tf.exp(Dense(1,use_bias = False,activation='linear',kernel_initializer=tf.keras.initializers.Constant(-1))(inputs_hold3))\n",
    "    model33 = Model(inputs = inputs_hold3, outputs = simple_model3)\n",
    "\n",
    "    inputs = tf.keras.Input(shape=(4,))\n",
    "    inputs2 = tf.keras.layers.concatenate([inputs,model3(tf.ones_like(inputs)[:,0]),model32(tf.ones_like(inputs)[:,0])])\n",
    "    hidden_layer_1 = model_all(inputs2)\n",
    "    LLR = hidden_layer_1 / (1.-hidden_layer_1 + 0.0001)\n",
    "    #LLR_xs = 1.+sigfrac*LLR - sigfrac\n",
    "    LLR_xs = 1. + model33(tf.ones_like(inputs)[:,0])*LLR\n",
    "    ws = LLR_xs / (1.+LLR_xs)\n",
    "    model_all2 = Model(inputs = inputs, outputs = ws)\n",
    "    model_all2.compile(loss='binary_crossentropy', optimizer=tf.keras.optimizers.Adam(learning_rate = 0.01))\n",
    "\n",
    "    m1 = 3\n",
    "    m2 = 3\n",
    "\n",
    "    test_background = int(1/2 * len(x[0,0]))\n",
    "    train_reference = int(1/4 *len(x[0,0]))\n",
    "    train_data = int(1/4 * len(x[0,0]))\n",
    "    test_signal = int(1/2*len(x[m1,m2]))\n",
    "\n",
    "    N = int(1/4 *len(x[0,0]))\n",
    "    x_data_ = np.concatenate([x[0,0][test_background:],x[m1,m2][test_signal:test_signal+int(sig_frac*N)]])\n",
    "    y_data_ = np.concatenate([np.zeros(train_reference),np.ones(train_data),np.ones(len(x[m1,m2][test_signal:test_signal+int(sig_frac*N)]))])\n",
    "\n",
    "    print(N,len(x[0,0])-N,len(x[m1,m2][0:int(sig_frac*N)]),len(x[m1,m2][0:int(sig_frac*N)])/N)\n",
    "\n",
    "    X_train_, X_val_, Y_train_, Y_val_ = train_test_split(x_data_, y_data_, test_size=0.5, random_state = 42)\n",
    "\n",
    "    myhistory_hack_ = model_all2.fit(X_train_[:,0:4], Y_train_, epochs=20,validation_data=(X_val_[:,0:4], Y_val_),batch_size=1024, verbose = 0)\n",
    "    print(m1,m2,model_all2.trainable_weights[0].numpy()[0][0],model_all2.trainable_weights[1].numpy()[0][0])\n",
    "    sig_list+=[sigfrac]\n",
    "    weight_list1+=[model_all2.trainable_weights[0].numpy()[0][0]]\n",
    "    weight_list2+=[model_all2.trainable_weights[1].numpy()[0][0]]\n",
    "    weight_list3+=[np.exp(model_all2.trainable_weights[2].numpy()[0][0])]\n",
    "    # scores = model_all2.predict(np.concatenate([x[0,0][0:test_background],x[m1,m2][0:test_signal]]),batch_size=1024)\n",
    "    # y = np.concatenate([np.zeros(test_background),np.ones(test_signal)])\n",
    "    # fpr, tpr, _ = metrics.roc_curve(y, scores)\n",
    "\n",
    "    #weakly supervised\n",
    "    # model_cwola = Sequential()\n",
    "    # model_cwola.add(Dense(128, input_dim=4, activation='relu'))\n",
    "    # model_cwola.add(Dense(128, activation='relu'))\n",
    "    # model_cwola.add(Dense(128, activation='relu'))\n",
    "    # model_cwola.add(Dense(1, activation='sigmoid'))\n",
    "    # model_cwola.compile(loss='binary_crossentropy', optimizer='adam', metrics=['accuracy'])\n",
    "    # myhistory_cwola = model_cwola.fit(X_train_[:,0:4], Y_train_, epochs=10,validation_data=(X_val_[:,0:4], Y_val_),batch_size=1024, verbose = 0)\n",
    "\n",
    "    # scores2 = model_cwola.predict(np.concatenate([x[0,0][0:test_background],x[m1,m2][0:test_signal]]),batch_size=1024)\n",
    "    # y2 = np.concatenate([np.zeros(test_background),np.ones(test_signal)])\n",
    "    # fpr2, tpr2, _ = metrics.roc_curve(y2, scores2)\n",
    "    # plt.plot(tpr,tpr/np.sqrt(fpr))\n",
    "    # plt.plot(tpr2,tpr2/np.sqrt(fpr2))\n",
    "\n",
    "    # msic1.append([np.max(tpr/np.sqrt(fpr+0.0001))])\n",
    "    # msic2.append([np.max(tpr2/np.sqrt(fpr2+0.0001))])\n",
    "\n",
    "\n",
    "    #fully supervised\n",
    "#     model3_full = createSimpleModel(w1)\n",
    "#     model32_full = createSimpleModel(w2)\n",
    "\n",
    "#     inputs = tf.keras.Input(shape=(4,))\n",
    "#     inputs2_full = tf.keras.layers.concatenate([inputs,model3_full(tf.ones_like(inputs)[:,0]),model32_full(tf.ones_like(inputs)[:,0])])\n",
    "#     hidden_layer_1_full = model_all(inputs2_full)\n",
    "#     model_all2_full = Model(inputs = inputs, outputs = hidden_layer_1_full)\n",
    "#     model_all2_full.compile(loss=tf.keras.losses.BinaryCrossentropy(), optimizer=tf.keras.optimizers.Adam(learning_rate = 0.01))\n",
    "\n",
    "#     x_data_full = np.concatenate([x[0,0],x[m1,m2]])\n",
    "#     y_data_full = np.concatenate([np.zeros(len(x[0,0])),np.ones(len(x[m1,m2]))])\n",
    "#     X_train_full, X_val_full, Y_train_full, Y_val_full = train_test_split(x_data_full, y_data_full, test_size=0.5)\n",
    "#     myhistory_hack_ = model_all2_full.fit(X_train_full[:,0:4], Y_train_full, epochs=20,validation_data=(X_val_full[:,0:4], Y_val_full),batch_size=1024, verbose = 0)\n",
    "\n",
    "#     scores_full = model_all2_full.predict(np.concatenate([x[0,0][0:test_background],x[m1,m2][0:random_test_signal_length]]),batch_size=1024)\n",
    "#     y_full = np.concatenate([np.zeros(test_background),np.ones(random_test_signal_length)])\n",
    "#     fpr_full, tpr_full, _ = metrics.roc_curve(y_full, scores_full)\n",
    "\n",
    "#     msic3.append([np.max(tpr_full/np.sqrt(fpr_full+0.0001))])"
   ]
  },
  {
   "cell_type": "code",
   "execution_count": 1,
   "id": "58d79693-c6ab-4664-85ee-4d75daa6877a",
   "metadata": {
    "tags": []
   },
   "outputs": [],
   "source": [
    "plt.plot(sig_list, weight_list3, marker = \"x\", label='Semi Weakly', color='blue')\n",
    "plt.plot(sig_list, sig_list, marker = \"\", label='S/B', color='black')\n",
    "plt.xlabel('S/B')\n",
    "plt.ylabel(r'Fitted S/B')\n",
    "plt.yscale(\"log\")\n",
    "plt.xscale(\"log\")\n",
    "plt.legend()\n",
    "plt.show()"
   ]
  },
  {
   "cell_type": "code",
   "execution_count": 41,
   "id": "5133e4f6-2866-425e-b2e7-eca110712439",
   "metadata": {
    "collapsed": true,
    "jupyter": {
     "outputs_hidden": true
    },
    "tags": []
   },
   "outputs": [
    {
     "name": "stdout",
     "output_type": "stream",
     "text": [
      "3.241 3.649 0.001\n",
      "30338 91014 30 0.0009888588568791614\n",
      "3 3 3.1192825 2.9902208\n",
      "96/96 [==============================] - 0s 770us/step\n",
      "96/96 [==============================] - 0s 641us/step\n",
      "69/69 [==============================] - 0s 723us/step\n",
      "3.241 3.649 0.0012742749857031334\n",
      "30338 91014 38 0.0012525545520469378\n",
      "3 3 3.1106145 3.0138872\n",
      "96/96 [==============================] - 0s 704us/step\n",
      "96/96 [==============================] - 0s 641us/step\n",
      "88/88 [==============================] - 0s 678us/step\n",
      "3.241 3.649 0.001623776739188721\n",
      "30338 91014 49 0.0016151361329026304\n",
      "3 3 3.078006 2.9729447\n",
      "96/96 [==============================] - 0s 799us/step\n",
      "96/96 [==============================] - 0s 668us/step\n",
      "95/95 [==============================] - 0s 685us/step\n",
      "3.241 3.649 0.00206913808111479\n",
      "30338 91014 62 0.002043641637550267\n",
      "3 3 3.0807834 2.9750807\n",
      "96/96 [==============================] - 0s 802us/step\n",
      "96/96 [==============================] - 0s 695us/step\n",
      "89/89 [==============================] - 0s 766us/step\n",
      "3.241 3.649 0.0026366508987303583\n",
      "30338 91014 79 0.002603994989781792\n",
      "3 3 3.1383238 2.9480364\n",
      "96/96 [==============================] - 0s 796us/step\n",
      "96/96 [==============================] - 0s 619us/step\n",
      "77/77 [==============================] - 0s 746us/step\n",
      "3.241 3.649 0.003359818286283781\n",
      "30338 91014 101 0.003329158151493177\n",
      "3 3 3.1465135 3.0562773\n",
      "96/96 [==============================] - 0s 823us/step\n",
      "96/96 [==============================] - 0s 679us/step\n",
      "84/84 [==============================] - 0s 753us/step\n",
      "3.241 3.649 0.004281332398719396\n",
      "30338 91014 129 0.004252093084580394\n",
      "3 3 3.0576751 2.9848797\n",
      "96/96 [==============================] - 0s 801us/step\n",
      "96/96 [==============================] - 0s 666us/step\n",
      "82/82 [==============================] - 0s 712us/step\n",
      "3.241 3.649 0.00545559478116852\n",
      "30338 91014 165 0.005438723712835388\n",
      "3 3 2.8165703 4.0879664\n",
      "96/96 [==============================] - 0s 773us/step\n",
      "96/96 [==============================] - 0s 635us/step\n",
      "95/95 [==============================] - 0s 673us/step\n",
      "3.241 3.649 0.0069519279617756054\n",
      "30338 91014 210 0.00692201199815413\n",
      "3 3 3.1209445 3.0287132\n",
      "96/96 [==============================] - 0s 781us/step\n",
      "96/96 [==============================] - 0s 605us/step\n",
      "71/71 [==============================] - 0s 694us/step\n",
      "3.241 3.649 0.008858667904100823\n",
      "30338 91014 268 0.008833805788120508\n",
      "3 3 3.122801 3.022628\n",
      "96/96 [==============================] - 0s 770us/step\n",
      "96/96 [==============================] - 0s 612us/step\n",
      "63/63 [==============================] - 0s 706us/step\n",
      "3.241 3.649 0.011288378916846888\n",
      "30338 91014 342 0.011272990968422441\n",
      "3 3 3.1518493 3.029189\n",
      "96/96 [==============================] - 0s 821us/step\n",
      "96/96 [==============================] - 0s 642us/step\n",
      "77/77 [==============================] - 0s 742us/step\n",
      "3.241 3.649 0.01438449888287663\n",
      "30338 91014 436 0.014371415386643813\n",
      "3 3 3.1255229 3.0242548\n",
      "96/96 [==============================] - 0s 800us/step\n",
      "96/96 [==============================] - 0s 654us/step\n",
      "74/74 [==============================] - 0s 750us/step\n",
      "3.241 3.649 0.018329807108324356\n",
      "30338 91014 556 0.01832685081416046\n",
      "3 3 3.11628 3.021455\n",
      "96/96 [==============================] - 0s 771us/step\n",
      "96/96 [==============================] - 0s 687us/step\n",
      "93/93 [==============================] - 0s 722us/step\n",
      "3.241 3.649 0.023357214690901212\n",
      "30338 91014 708 0.02333706902234821\n",
      "3 3 3.1083198 3.02447\n",
      "96/96 [==============================] - 0s 822us/step\n",
      "96/96 [==============================] - 0s 675us/step\n",
      "78/78 [==============================] - 0s 746us/step\n",
      "3.241 3.649 0.029763514416313176\n",
      "30338 91014 902 0.02973168963016679\n",
      "3 3 3.132708 3.0119195\n",
      "96/96 [==============================] - 0s 782us/step\n",
      "96/96 [==============================] - 0s 642us/step\n",
      "85/85 [==============================] - 0s 695us/step\n",
      "3.241 3.649 0.0379269019073225\n",
      "30338 91014 1150 0.03790625618036786\n",
      "3 3 3.1313574 3.0405319\n",
      "96/96 [==============================] - 0s 791us/step\n",
      "96/96 [==============================] - 0s 632us/step\n",
      "85/85 [==============================] - 0s 763us/step\n",
      "3.241 3.649 0.04832930238571752\n",
      "30338 91014 1466 0.048322236139495024\n",
      "3 3 3.1150186 2.977938\n",
      "96/96 [==============================] - 0s 811us/step\n",
      "96/96 [==============================] - 0s 672us/step\n",
      "92/92 [==============================] - 0s 696us/step\n",
      "3.241 3.649 0.06158482110660261\n",
      "30338 91014 1868 0.06157294482167579\n",
      "3 3 3.0816267 2.9643927\n",
      "96/96 [==============================] - 0s 800us/step\n",
      "96/96 [==============================] - 0s 654us/step\n",
      "82/82 [==============================] - 0s 688us/step\n",
      "3.241 3.649 0.07847599703514611\n",
      "30338 91014 2380 0.07844946931241348\n",
      "3 3 3.0634081 2.9699693\n",
      "96/96 [==============================] - 0s 809us/step\n",
      "96/96 [==============================] - 0s 638us/step\n",
      "95/95 [==============================] - 0s 763us/step\n",
      "3.241 3.649 0.1\n",
      "30338 91014 3033 0.09997363043048323\n",
      "3 3 3.0779684 2.999841\n",
      "96/96 [==============================] - 0s 832us/step\n",
      "96/96 [==============================] - 0s 690us/step\n",
      "93/93 [==============================] - 0s 731us/step\n"
     ]
    }
   ],
   "source": [
    "from models import createSimpleModel\n",
    "\n",
    "msic1_runs = []\n",
    "msic2_runs = []\n",
    "msic3_runs = []\n",
    "weight_list3_runs = []\n",
    "initial_weights_list_runs = []\n",
    "\n",
    "num_runs = 5\n",
    "feature_dims = 4\n",
    "\n",
    "for _ in range(num_runs):\n",
    "    \n",
    "    sig_list = []\n",
    "    weight_list1 = []\n",
    "    weight_list2 = []\n",
    "    weight_list3 = []\n",
    "    \n",
    "    msic1 = []\n",
    "    msic2 = []\n",
    "    msic3 = []\n",
    "\n",
    "    epsilon = 1e-4\n",
    "\n",
    "    # w1 = round(random.uniform(0.5, 6.0),3)\n",
    "    # w2 = round(random.uniform(0.5, 6.0),3)\n",
    "\n",
    "    w1 = 3.241\n",
    "    w2 = 3.649\n",
    "    \n",
    "    initial_weights_list_runs.append((w1, w2))\n",
    "\n",
    "    for sigfrac in np.logspace(-3,-1,20):\n",
    "        print(w1, w2, sigfrac)\n",
    "        #sigfrac = 0.05\n",
    "\n",
    "        for l in model_all.layers:\n",
    "            l.trainable=False\n",
    "\n",
    "        inputs_hold = tf.keras.Input(shape=(1,))\n",
    "        simple_model = Dense(1,use_bias = False,activation='relu',kernel_initializer=tf.keras.initializers.Constant(w1))(inputs_hold)\n",
    "        model3 = Model(inputs = inputs_hold, outputs = simple_model)\n",
    "\n",
    "        inputs_hold2 = tf.keras.Input(shape=(1,))\n",
    "        simple_model2 = Dense(1,use_bias = False,activation='relu',kernel_initializer=tf.keras.initializers.Constant(w2))(inputs_hold2)\n",
    "        model32 = Model(inputs = inputs_hold2, outputs = simple_model2)\n",
    "\n",
    "        inputs_hold3 = tf.keras.Input(shape=(1,))\n",
    "        simple_model3 = tf.exp(Dense(1,use_bias = False,activation='linear',kernel_initializer=tf.keras.initializers.Constant(-1))(inputs_hold3))\n",
    "        model33 = Model(inputs = inputs_hold3, outputs = simple_model3)\n",
    "\n",
    "        inputs = tf.keras.Input(shape=(feature_dims,))\n",
    "        inputs2 = tf.keras.layers.concatenate([inputs,model3(tf.ones_like(inputs)[:,0]),model32(tf.ones_like(inputs)[:,0])])\n",
    "        \n",
    "        #physics prior\n",
    "        hidden_layer_1 = model_all(inputs2)\n",
    "        LLR = hidden_layer_1 / (1.-hidden_layer_1 + epsilon)\n",
    "        \n",
    "        #LLR_xs = 1.+sigfrac*LLR - sigfrac\n",
    "        LLR_xs = 1.+ model33(tf.ones_like(inputs)[:,0])*LLR\n",
    "        ws = LLR_xs / (1.+LLR_xs)\n",
    "        \n",
    "        model_all2 = Model(inputs = inputs, outputs = ws)\n",
    "        model_all2.compile(loss='binary_crossentropy', optimizer=tf.keras.optimizers.Adam(learning_rate = 0.01))\n",
    "\n",
    "        m1 = 3\n",
    "        m2 = 3\n",
    "\n",
    "        test_background = int(1/2 * len(x[0,0]))\n",
    "        train_reference = int(1/4 *len(x[0,0]))\n",
    "        train_data = int(1/4 * len(x[0,0]))\n",
    "        test_signal = int(1/2*len(x[m1,m2]))\n",
    "        \n",
    "        #randomize signal events\n",
    "        random_test_signal_length = random.randint(0, test_signal - 1)\n",
    "        N = int(1/4 * (len(x[0,0])))\n",
    "        signal = x[m1, m2][random_test_signal_length:random_test_signal_length + int(sigfrac*N)]\n",
    "\n",
    "        #N = train_reference\n",
    "        x_data_ = np.concatenate([x[0,0][test_background:],signal])\n",
    "        y_data_ = np.concatenate([np.zeros(train_reference),np.ones(train_data),np.ones(len(signal))])\n",
    "\n",
    "        X_train_, X_val_, Y_train_, Y_val_ = train_test_split(x_data_, y_data_, test_size=0.5, random_state = 42)\n",
    "\n",
    "        myhistory_hack_ = model_all2.fit(X_train_[:,0:feature_dims], Y_train_, epochs=100,validation_data=(X_val_[:,0:feature_dims], Y_val_),batch_size=1024, verbose = 0)\n",
    "        print(m1,m2,model_all2.trainable_weights[0].numpy()[0][0],model_all2.trainable_weights[1].numpy()[0][0])\n",
    "        sig_list+=[sigfrac]\n",
    "        weight_list1+=[model_all2.trainable_weights[0].numpy()[0][0]]\n",
    "        weight_list2+=[model_all2.trainable_weights[1].numpy()[0][0]]\n",
    "        weight_list3+=[np.exp(model_all2.trainable_weights[2].numpy()[0][0])]\n",
    "        scores = model_all2.predict(np.concatenate([x[0,0][0:test_background],x[m1,m2][0:test_signal]]),batch_size=1024)\n",
    "        y = np.concatenate([np.zeros(test_background),np.ones(test_signal)])\n",
    "        fpr, tpr, _ = metrics.roc_curve(y, scores)\n",
    "        \n",
    "        #weakly supervised\n",
    "        model_cwola = Sequential()\n",
    "        model_cwola.add(Dense(128, input_dim=feature_dims, activation='relu'))\n",
    "        model_cwola.add(Dense(128, activation='relu'))\n",
    "        model_cwola.add(Dense(128, activation='relu'))\n",
    "        model_cwola.add(Dense(1, activation='sigmoid'))\n",
    "        model_cwola.compile(loss='binary_crossentropy', optimizer='adam', metrics=['accuracy'])\n",
    "        myhistory_cwola = model_cwola.fit(X_train_[:,0:feature_dims], Y_train_, epochs=10,validation_data=(X_val_[:,0:feature_dims], Y_val_),batch_size=1024, verbose = 0)\n",
    "\n",
    "        scores2 = model_cwola.predict(np.concatenate([x[0,0][0:test_background],x[m1,m2][0:test_signal]]),batch_size=1024)\n",
    "        y2 = np.concatenate([np.zeros(test_background),np.ones(test_signal)])\n",
    "        fpr2, tpr2, _ = metrics.roc_curve(y2, scores2)\n",
    "        \n",
    "        #fully supervised\n",
    "        model3_full = createSimpleModel(m1)\n",
    "        model32_full = createSimpleModel(m2)\n",
    "\n",
    "        inputs = tf.keras.Input(shape=(feature_dims,))\n",
    "        inputs2_full = tf.keras.layers.concatenate([inputs,model3_full(tf.ones_like(inputs)[:,0]),model32_full(tf.ones_like(inputs)[:,0])])\n",
    "        hidden_layer_1_full = model_all(inputs2_full)\n",
    "        model_all2_full = Model(inputs = inputs, outputs = hidden_layer_1_full)\n",
    "        model_all2_full.compile(loss=tf.keras.losses.BinaryCrossentropy(), optimizer=tf.keras.optimizers.Adam(learning_rate = 0.01))\n",
    "\n",
    "        x_data_full = np.concatenate([x[0,0],x[m1,m2]])\n",
    "        y_data_full = np.concatenate([np.zeros(len(x[0,0])),np.ones(len(x[m1,m2]))])\n",
    "        X_train_full, X_val_full, Y_train_full, Y_val_full = train_test_split(x_data_full, y_data_full, test_size=0.5)\n",
    "        myhistory_hack_ = model_all2_full.fit(X_train_full[:,0:feature_dims], Y_train_full, epochs=20,validation_data=(X_val_full[:,0:feature_dims], Y_val_full),batch_size=1024, verbose = 0)\n",
    "\n",
    "        scores_full = model_all2_full.predict(np.concatenate([x[0,0][0:test_background],x[m1,m2][0:random_test_signal_length]]),batch_size=1024)\n",
    "        y_full = np.concatenate([np.zeros(test_background),np.ones(random_test_signal_length)])\n",
    "        fpr_full, tpr_full, _ = metrics.roc_curve(y_full, scores_full)\n",
    "        \n",
    "        # plt.plot(tpr,tpr/np.sqrt(fpr))\n",
    "        # plt.plot(tpr2,tpr2/np.sqrt(fpr2))\n",
    "\n",
    "        msic1.append([np.max(tpr/np.sqrt(fpr+0.0001))])\n",
    "        msic2.append([np.max(tpr2/np.sqrt(fpr2+0.0001))])\n",
    "        msic3.append([np.max(tpr_full/np.sqrt(fpr_full+0.0001))])\n",
    "\n",
    "    msic1_runs.append(msic1)\n",
    "    msic2_runs.append(msic2)\n",
    "    msic3_runs.append(msic3)\n",
    "    weight_list3_runs.append(weight_list3)"
   ]
  },
  {
   "cell_type": "code",
   "execution_count": 81,
   "id": "86a8660b-27fd-463f-b434-4c57e94280df",
   "metadata": {
    "tags": []
   },
   "outputs": [
    {
     "data": {
      "text/plain": [
       "('FS', 3, 3, 3.241, 3.649)"
      ]
     },
     "execution_count": 81,
     "metadata": {},
     "output_type": "execute_result"
    }
   ],
   "source": [
    "(\"FS\",m1, m2, w1, w2)"
   ]
  },
  {
   "cell_type": "code",
   "execution_count": 84,
   "id": "d7cf9e05-b318-416f-8413-564d57bd8353",
   "metadata": {
    "tags": []
   },
   "outputs": [],
   "source": [
    "np.save(\"4Features3Param33Perturb_WEIGHTLIST\",ww_runs)"
   ]
  },
  {
   "cell_type": "code",
   "execution_count": 82,
   "id": "910d0a25-104b-48ed-a7c0-10ae90692782",
   "metadata": {
    "tags": []
   },
   "outputs": [],
   "source": [
    "max_sics = {}\n",
    "max_sics[(\"SWS\", 3, m1, m2, w1, w2)] = msic1_runs\n",
    "max_sics[(\"WS\", 3, m1, m2, w1, w2)] = msic2_runs\n",
    "max_sics[(\"FS\", 3, m1, m2, w1, w2)] = msic3_runs"
   ]
  },
  {
   "cell_type": "code",
   "execution_count": 83,
   "id": "8dbe4096-dcc1-4d66-bebc-713ae676c26d",
   "metadata": {
    "tags": []
   },
   "outputs": [],
   "source": [
    "import pickle\n",
    "with open('max_sics_33_3param.pkl', 'wb') as f:\n",
    "    pickle.dump(max_sics, f)"
   ]
  },
  {
   "cell_type": "code",
   "execution_count": 66,
   "id": "ec15f328-8e6e-4285-ab9c-586fe0630c9a",
   "metadata": {
    "tags": []
   },
   "outputs": [],
   "source": [
    "with open('max_sics_33.pkl', 'rb') as f:\n",
    "    loaded_max_sics = pickle.load(f)\n",
    "\n",
    "loaded_array = loaded_max_sics[(\"SWS\", 3, 3, 3.241, 3.649)]"
   ]
  },
  {
   "cell_type": "code",
   "execution_count": 78,
   "id": "7f29951e-5eb7-456c-834a-9f15a0124b03",
   "metadata": {},
   "outputs": [
    {
     "data": {
      "text/plain": [
       "Text(0, 0.5, 'Avg Max SIC')"
      ]
     },
     "execution_count": 78,
     "metadata": {},
     "output_type": "execute_result"
    },
    {
     "data": {
      "image/png": "[encoded data removed]",
      "text/plain": [
       "<Figure size 640x480 with 1 Axes>"
      ]
     },
     "metadata": {},
     "output_type": "display_data"
    }
   ],
   "source": [
    "avgmsic1 = np.median(msic1_runs, axis = 0)\n",
    "avgmsic2 = np.median(msic2_runs, axis = 0)\n",
    "avgmsic3 = np.median(msic3_runs, axis = 0)\n",
    "\n",
    "# avgsic1 = np.mean(sic1_list_runs, axis = 0)\n",
    "# avgsic2 = np.mean(sic2_list_runs, axis = 0)\n",
    "\n",
    "plt.plot(sig_list,avgmsic1,label=\"Weakly, Semisupervised\")\n",
    "plt.plot(sig_list,avgmsic2,label=\"Weakly Supervised\")\n",
    "plt.plot(sig_list,avgmsic3,label=\"Fully Supervised\")\n",
    "plt.title(f\"CWOLA vs Semi Weakly ({num_runs} Runs)\")\n",
    "plt.legend()\n",
    "plt.xscale(\"log\")\n",
    "plt.xlabel(\"Signal region S/B\")\n",
    "plt.ylabel(\"Avg Max SIC\")"
   ]
  },
  {
   "cell_type": "code",
   "execution_count": 36,
   "id": "67741e5e-a0b4-4935-b5d2-41866c03a5fb",
   "metadata": {
    "tags": []
   },
   "outputs": [
    {
     "data": {
      "text/plain": [
       "(0.0, 700.0)"
      ]
     },
     "execution_count": 36,
     "metadata": {},
     "output_type": "execute_result"
    },
    {
     "data": {
      "image/png": "[encoded data removed]",
      "text/plain": [
       "<Figure size 640x480 with 1 Axes>"
      ]
     },
     "metadata": {},
     "output_type": "display_data"
    }
   ],
   "source": [
    "plt.plot(sig_list,np.array(weight_list1)*100, label = f\"w1 {w1}\")\n",
    "plt.plot(sig_list,np.array(weight_list2)*100, label = f\"w2 {w2}\")\n",
    "plt.xscale(\"log\")\n",
    "plt.xlabel(\"S/B\")\n",
    "plt.ylabel(\"Fitted masses [GeV]\")\n",
    "plt.title(\"Trainable Weights vs Signal Fractions BCE\")\n",
    "plt.axhline(m2 * 100,ls=\":\",color='orange', label = m2)\n",
    "plt.axhline(m1 * 100,ls=\":\",color='blue', label = m1)\n",
    "plt.legend()\n",
    "plt.ylim([0,700])"
   ]
  },
  {
   "cell_type": "code",
   "execution_count": 79,
   "id": "f7d8a37b-464b-4e72-af94-e65bd06713c5",
   "metadata": {
    "tags": []
   },
   "outputs": [
    {
     "data": {
      "image/png": "[encoded data removed]",
      "text/plain": [
       "<Figure size 640x480 with 1 Axes>"
      ]
     },
     "metadata": {},
     "output_type": "display_data"
    }
   ],
   "source": [
    "sig_space = np.logspace(-3, -1, 20)\n",
    "signal_fraction_values = sig_space\n",
    "\n",
    "maxsic1 = [i[0] for i in avgmsic1]\n",
    "msicstds1 = np.std(msic1_runs, axis = 0)\n",
    "maxsicstd1 = np.array([i[0] for i in msicstds1])\n",
    "\n",
    "maxsic2 = [i[0] for i in avgmsic2]\n",
    "msicstds2 = np.std(msic2_runs, axis = 0)\n",
    "maxsicstd2 = np.array([i[0] for i in msicstds2])\n",
    "\n",
    "maxsic3 = [i[0] for i in avgmsic3]\n",
    "msicstds3 = np.std(msic3_runs, axis = 0)\n",
    "maxsicstd3 = np.array([i[0] for i in msicstds3])\n",
    "\n",
    "plt.plot(signal_fraction_values, maxsic1, marker = \"x\", label='Semi Weakly', color='orange')\n",
    "plt.plot(signal_fraction_values, maxsic2, marker = \"x\", label='Weakly', color='blue')\n",
    "plt.plot(signal_fraction_values, maxsic3, marker = \"x\", label='Fully Supervised', color='green', alpha = 0.3)\n",
    "\n",
    "plt.fill_between(signal_fraction_values, maxsic1 - maxsicstd1, maxsic1 + maxsicstd1, color='orange', alpha=0.3, hatch = \"//\")\n",
    "plt.fill_between(signal_fraction_values, maxsic2 - maxsicstd2, maxsic2 + maxsicstd2, color='blue', alpha=0.3, hatch = \"//\")\n",
    "plt.fill_between(signal_fraction_values, maxsic3 - maxsicstd3, maxsic3 + maxsicstd3, color='green', alpha=0.3, hatch = \"//\")\n",
    "\n",
    "plt.xlabel('S/B')\n",
    "plt.ylabel('Maximum Significance Improvement')\n",
    "plt.title(f'4 Features 3 Params m1: {m1} m2: {m2} | w1: {w1} w2: {w2}')\n",
    "plt.xscale(\"log\")\n",
    "plt.legend(frameon= False)\n",
    "plt.savefig('plot.png', dpi=450, bbox_inches='tight')\n",
    "plt.show()"
   ]
  },
  {
   "cell_type": "code",
   "execution_count": 80,
   "id": "954e48a5-ca02-42d5-9575-44d1f636b190",
   "metadata": {
    "tags": []
   },
   "outputs": [
    {
     "data": {
      "image/png": "[encoded data removed]",
      "text/plain": [
       "<Figure size 640x480 with 1 Axes>"
      ]
     },
     "metadata": {},
     "output_type": "display_data"
    }
   ],
   "source": [
    "signal_fraction_values = np.logspace(-3, -1, 20)\n",
    "avgww = np.median(ww_runs, axis = 0)\n",
    "\n",
    "fittedw = avgww\n",
    "fittedwstd = np.std(ww_runs, axis = 0)\n",
    "\n",
    "plt.plot(signal_fraction_values, fittedw, marker = \"x\", label='Semi Weakly', color='blue')\n",
    "plt.plot(xx, xx, marker = \"\", label='S/B', color='black')\n",
    "\n",
    "plt.fill_between(signal_fraction_values, fittedw - fittedwstd, fittedw + fittedwstd, color='blue', alpha=0.3, hatch = \"//\")\n",
    "\n",
    "plt.xlabel('S/B')\n",
    "\n",
    "plt.ylabel(r'Fitted S/B$')\n",
    "plt.title(f'6 Features 3 Parameters Fittedm1: {m1} m2: {m2} | w1: {w1} w2: {w2}')\n",
    "plt.yscale(\"log\")\n",
    "plt.xscale(\"log\")\n",
    "plt.legend()\n",
    "plt.show()"
   ]
  },
  {
   "cell_type": "code",
   "execution_count": 116,
   "id": "18b9b5e5-47a2-4559-8ffa-09fd9238a986",
   "metadata": {},
   "outputs": [
    {
     "name": "stdout",
     "output_type": "stream",
     "text": [
      "Total elapsed time: 0.001 seconds\n"
     ]
    }
   ],
   "source": [
    "import time\n",
    "start_time = time.time()\n",
    "\n",
    "def create_loss_landscape_4Features(model, m1, m2):\n",
    "    \n",
    "    Nfeatures = 4\n",
    "    #check if loss dictionary exists, if it does load it, if not create empty one\n",
    "    dir_path = os.getcwd()\n",
    "    file_name = f\"z_allm1m2_{Nfeatures}FeaturesHD.npy\"\n",
    "    file_path = os.path.join(dir_path, file_name)\n",
    "    \n",
    "    if os.path.exists(file_path):\n",
    "        z = np.load(file_name, allow_pickle = True).item()\n",
    "    else:\n",
    "        print(\"Dictionary doesn't exist, creating one...\")\n",
    "        z = {}\n",
    "    \n",
    "    losses_list = []\n",
    "\n",
    "    epsilon = 1e-6\n",
    "    sig_space = np.logspace(-3, -1, 20)\n",
    "    \n",
    "    #if we want a specific sigfrac\n",
    "    #sig_space = [sig_space[15]]\n",
    "    \n",
    "    start = 0.5\n",
    "    end = 6\n",
    "    step = 0.25\n",
    "\n",
    "    weight_list = np.arange(start, end + step, step)\n",
    "    \n",
    "    for sig in sig_space:\n",
    "            \n",
    "        print(\"Signal Fraction: \", sig)\n",
    "        for w1 in weight_list:\n",
    "            for w2 in weight_list:\n",
    "                \n",
    "                #print(w1, w2)\n",
    "                sigfrac = sig\n",
    "                \n",
    "                for l in model.layers:\n",
    "                    l.trainable=False\n",
    "\n",
    "                inputs_hold = tf.keras.Input(shape=(1,))\n",
    "                simple_model = Dense(1,use_bias = False,activation='relu',kernel_initializer=tf.keras.initializers.Constant(w1))(inputs_hold)\n",
    "                model3 = Model(inputs = inputs_hold, outputs = simple_model)\n",
    "\n",
    "                inputs_hold2 = tf.keras.Input(shape=(1,))\n",
    "                simple_model2 = Dense(1,use_bias = False,activation='relu',kernel_initializer=tf.keras.initializers.Constant(w2))(inputs_hold2)\n",
    "                model32 = Model(inputs = inputs_hold2, outputs = simple_model2)\n",
    "\n",
    "                inputs_hold3 = tf.keras.Input(shape=(1,))\n",
    "                simple_model3 = tf.exp(Dense(1,use_bias = False,activation='linear',kernel_initializer=tf.keras.initializers.Constant(-1))(inputs_hold3))\n",
    "                model33 = Model(inputs = inputs_hold3, outputs = simple_model3)\n",
    "\n",
    "                inputs = tf.keras.Input(shape=(Nfeatures,))\n",
    "                inputs2 = tf.keras.layers.concatenate([inputs,model3(tf.ones_like(inputs)[:,0]),model32(tf.ones_like(inputs)[:,0])])\n",
    "                hidden_layer_1 = model(inputs2)\n",
    "                LLR = hidden_layer_1 / (1.-hidden_layer_1 + epsilon)\n",
    "                LLR_xs = 1.+sigfrac*LLR - sigfrac\n",
    "                #LLR_xs = 1.+model33(tf.ones_like(inputs)[:,0])*LLR\n",
    "                ws = LLR_xs / (1.+LLR_xs+0.0001)\n",
    "                model_all2 = Model(inputs = inputs, outputs = ws)\n",
    "                model_all2.compile(loss='binary_crossentropy', optimizer=tf.keras.optimizers.Adam(learning_rate = 0.01))\n",
    "\n",
    "                m1 = m1\n",
    "                m2 = m2\n",
    "                \n",
    "                key = (sig,m1,m2)\n",
    "                if key in z:\n",
    "                    break\n",
    "\n",
    "                test_background = int(1/2 *len(x[0,0]))\n",
    "                train_background = int(1/4 * len(x[0,0]))\n",
    "                train_data = int(1/4 * len(x[0,0]))\n",
    "                train_reference = int(1/4 * len(x[0,0]))\n",
    "                #signal\n",
    "                test_signal_length = int(1/2*len(x[m1,m2]))\n",
    "                sig_frac = sigfrac\n",
    "\n",
    "                #randomize signal events\n",
    "                #random_test_signal_length = random.randint(0, test_signal_length - 1)\n",
    "                N = int(1/4 * (len(x[0,0])))\n",
    "                signal = x[m1, m2][test_signal_length:test_signal_length + int(sigfrac*N)]\n",
    "\n",
    "                x_data_ = np.concatenate([x[0,0][test_background:],signal])\n",
    "                y_data_ = np.concatenate([np.zeros(train_reference),np.ones(train_data),np.ones(len(signal))])\n",
    "\n",
    "                X_train_, X_val_, Y_train_, Y_val_ = train_test_split(x_data_, y_data_, test_size=0.5, random_state = 42)\n",
    "\n",
    "                with tf.device('/GPU:0'):\n",
    "                    loss = model_all2.evaluate(X_val_, Y_val_, verbose = 0)\n",
    "                losses_list.append(loss)\n",
    "                \n",
    "        end_time = time.time()\n",
    "        elapsed_time = round(end_time - start_time, 3)\n",
    "        print(f\"Time taken: {elapsed_time} seconds\")\n",
    "        if key in z:\n",
    "            print(\"Landscape for m1 = {} \".format(m1) + \"and \" + \"m2 = {} \".format(m2) +\" already exists for \" + \"{}\".format(sigfrac) + \" signal fraction\")\n",
    "        else:\n",
    "            z[sigfrac, m1, m2] = losses_list\n",
    "            losses_list = []\n",
    "            np.save(file_name, z)\n",
    "end_time_total = time.time()\n",
    "\n",
    "elapsed_time_total = round(end_time_total - start_time, 3)\n",
    "print(f\"Total elapsed time: {elapsed_time_total} seconds\")"
   ]
  },
  {
   "cell_type": "code",
   "execution_count": 118,
   "id": "29ecbfc0-8f2c-4b68-a9c7-e843dee51fa3",
   "metadata": {
    "tags": []
   },
   "outputs": [
    {
     "name": "stdout",
     "output_type": "stream",
     "text": [
      "Signal Fraction:  0.001\n",
      "Time taken: 4241.111 seconds\n",
      "Landscape for m1 = 3 and m2 = 3  already exists for 0.001 signal fraction\n",
      "Signal Fraction:  0.0012742749857031334\n",
      "Time taken: 4242.613 seconds\n",
      "Landscape for m1 = 3 and m2 = 3  already exists for 0.0012742749857031334 signal fraction\n",
      "Signal Fraction:  0.001623776739188721\n",
      "Time taken: 4244.133 seconds\n",
      "Landscape for m1 = 3 and m2 = 3  already exists for 0.001623776739188721 signal fraction\n",
      "Signal Fraction:  0.00206913808111479\n",
      "Time taken: 4245.665 seconds\n",
      "Landscape for m1 = 3 and m2 = 3  already exists for 0.00206913808111479 signal fraction\n",
      "Signal Fraction:  0.0026366508987303583\n",
      "Time taken: 4247.195 seconds\n",
      "Landscape for m1 = 3 and m2 = 3  already exists for 0.0026366508987303583 signal fraction\n",
      "Signal Fraction:  0.003359818286283781\n",
      "Time taken: 4248.722 seconds\n",
      "Landscape for m1 = 3 and m2 = 3  already exists for 0.003359818286283781 signal fraction\n",
      "Signal Fraction:  0.004281332398719396\n",
      "Time taken: 4250.248 seconds\n",
      "Landscape for m1 = 3 and m2 = 3  already exists for 0.004281332398719396 signal fraction\n",
      "Signal Fraction:  0.00545559478116852\n",
      "Time taken: 4251.769 seconds\n",
      "Landscape for m1 = 3 and m2 = 3  already exists for 0.00545559478116852 signal fraction\n",
      "Signal Fraction:  0.0069519279617756054\n",
      "Time taken: 4253.294 seconds\n",
      "Landscape for m1 = 3 and m2 = 3  already exists for 0.0069519279617756054 signal fraction\n",
      "Signal Fraction:  0.008858667904100823\n",
      "Time taken: 4262.863 seconds\n",
      "Landscape for m1 = 3 and m2 = 3  already exists for 0.008858667904100823 signal fraction\n",
      "Signal Fraction:  0.011288378916846888\n",
      "Time taken: 4264.399 seconds\n",
      "Landscape for m1 = 3 and m2 = 3  already exists for 0.011288378916846888 signal fraction\n",
      "Signal Fraction:  0.01438449888287663\n",
      "Time taken: 4265.936 seconds\n",
      "Landscape for m1 = 3 and m2 = 3  already exists for 0.01438449888287663 signal fraction\n",
      "Signal Fraction:  0.018329807108324356\n",
      "Time taken: 4267.459 seconds\n",
      "Landscape for m1 = 3 and m2 = 3  already exists for 0.018329807108324356 signal fraction\n",
      "Signal Fraction:  0.023357214690901212\n",
      "Time taken: 4268.965 seconds\n",
      "Landscape for m1 = 3 and m2 = 3  already exists for 0.023357214690901212 signal fraction\n",
      "Signal Fraction:  0.029763514416313176\n",
      "Time taken: 4270.475 seconds\n",
      "Landscape for m1 = 3 and m2 = 3  already exists for 0.029763514416313176 signal fraction\n",
      "Signal Fraction:  0.0379269019073225\n",
      "Time taken: 4271.98 seconds\n",
      "Landscape for m1 = 3 and m2 = 3  already exists for 0.0379269019073225 signal fraction\n",
      "Signal Fraction:  0.04832930238571752\n",
      "Time taken: 4273.493 seconds\n",
      "Landscape for m1 = 3 and m2 = 3  already exists for 0.04832930238571752 signal fraction\n",
      "Signal Fraction:  0.06158482110660261\n",
      "Time taken: 4275.0 seconds\n",
      "Landscape for m1 = 3 and m2 = 3  already exists for 0.06158482110660261 signal fraction\n",
      "Signal Fraction:  0.07847599703514611\n",
      "Time taken: 4904.485 seconds\n",
      "Signal Fraction:  0.1\n",
      "Time taken: 5524.168 seconds\n"
     ]
    }
   ],
   "source": [
    "create_loss_landscape_4Features(model_all, 3, 3)"
   ]
  },
  {
   "cell_type": "code",
   "execution_count": null,
   "id": "0828d1ac-7a19-4b7e-8bbe-604687f42745",
   "metadata": {},
   "outputs": [],
   "source": []
  }
 ],
 "metadata": {
  "kernelspec": {
   "display_name": "tensorflow-2.9.0",
   "language": "python",
   "name": "tensorflow-2.9.0"
  },
  "language_info": {
   "codemirror_mode": {
    "name": "ipython",
    "version": 3
   },
   "file_extension": ".py",
   "mimetype": "text/x-python",
   "name": "python",
   "nbconvert_exporter": "python",
   "pygments_lexer": "ipython3",
   "version": "3.9.15"
  }
 },
 "nbformat": 4,
 "nbformat_minor": 5
}
