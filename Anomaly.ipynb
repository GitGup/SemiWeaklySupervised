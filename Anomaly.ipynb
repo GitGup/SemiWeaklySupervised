{
 "cells": [
  {
   "cell_type": "code",
   "execution_count": 16,
   "id": "3a51ad95-8898-4ff8-b34c-32b10200f15c",
   "metadata": {
    "tags": []
   },
   "outputs": [],
   "source": [
    "import numpy as np\n",
    "import matplotlib.pyplot as plt\n",
    "import pandas as pd"
   ]
  },
  {
   "cell_type": "markdown",
   "id": "9d1639fc-28b1-4530-ab19-4114c2f0db3c",
   "metadata": {},
   "source": [
    "Referencing: https://arxiv.org/pdf/2212.11285.pdf\n",
    "\n",
    "We start off by loading in 1,000,000 background dijet events and 100,000 signal dijet events. The signal comes from the process Z$\\rightarrow$ X($\\rightarrow$ $q\\bar{q}$) Y$\\rightarrow$($q\\bar{q}$) where Z is 3.5 TeV. X is 500 GeV and Y is 100 GeV. "
   ]
  },
  {
   "cell_type": "code",
   "execution_count": 17,
   "id": "dbf36cb3-02cc-487b-85a7-4fbf5ee16d12",
   "metadata": {
    "tags": []
   },
   "outputs": [],
   "source": [
    "df_QCD = pd.read_hdf(\"/global/cfs/projectdirs/m3246/AnomalyDetection/LHCO/events_anomalydetection_DelphesPythia8_v2_qcd_features.h5\")"
   ]
  },
  {
   "cell_type": "code",
   "execution_count": 18,
   "id": "a9cf47ae-311d-4c6e-b8c8-7208364ed33d",
   "metadata": {
    "tags": []
   },
   "outputs": [
    {
     "data": {
      "text/html": [
       "<div>\n",
       "<style scoped>\n",
       "    .dataframe tbody tr th:only-of-type {\n",
       "        vertical-align: middle;\n",
       "    }\n",
       "\n",
       "    .dataframe tbody tr th {\n",
       "        vertical-align: top;\n",
       "    }\n",
       "\n",
       "    .dataframe thead th {\n",
       "        text-align: right;\n",
       "    }\n",
       "</style>\n",
       "<table border=\"1\" class=\"dataframe\">\n",
       "  <thead>\n",
       "    <tr style=\"text-align: right;\">\n",
       "      <th></th>\n",
       "      <th>pxj1</th>\n",
       "      <th>pyj1</th>\n",
       "      <th>pzj1</th>\n",
       "      <th>mj1</th>\n",
       "      <th>tau1j1</th>\n",
       "      <th>tau2j1</th>\n",
       "      <th>tau3j1</th>\n",
       "      <th>pxj2</th>\n",
       "      <th>pyj2</th>\n",
       "      <th>pzj2</th>\n",
       "      <th>mj2</th>\n",
       "      <th>tau1j2</th>\n",
       "      <th>tau2j2</th>\n",
       "      <th>tau3j2</th>\n",
       "    </tr>\n",
       "  </thead>\n",
       "  <tbody>\n",
       "    <tr>\n",
       "      <th>0</th>\n",
       "      <td>-1467.239990</td>\n",
       "      <td>611.502014</td>\n",
       "      <td>511.101990</td>\n",
       "      <td>38.896000</td>\n",
       "      <td>8.290650</td>\n",
       "      <td>4.836080</td>\n",
       "      <td>4.260190</td>\n",
       "      <td>1403.579956</td>\n",
       "      <td>-674.551025</td>\n",
       "      <td>-451.670990</td>\n",
       "      <td>237.893997</td>\n",
       "      <td>79.815102</td>\n",
       "      <td>21.010300</td>\n",
       "      <td>16.757601</td>\n",
       "    </tr>\n",
       "    <tr>\n",
       "      <th>1</th>\n",
       "      <td>-1211.239990</td>\n",
       "      <td>347.315002</td>\n",
       "      <td>547.963013</td>\n",
       "      <td>389.532013</td>\n",
       "      <td>191.804001</td>\n",
       "      <td>99.562798</td>\n",
       "      <td>70.872200</td>\n",
       "      <td>619.341003</td>\n",
       "      <td>-62.177299</td>\n",
       "      <td>-1944.040039</td>\n",
       "      <td>22.999201</td>\n",
       "      <td>8.042180</td>\n",
       "      <td>6.335090</td>\n",
       "      <td>5.525370</td>\n",
       "    </tr>\n",
       "    <tr>\n",
       "      <th>2</th>\n",
       "      <td>-1229.619995</td>\n",
       "      <td>649.857971</td>\n",
       "      <td>8.089170</td>\n",
       "      <td>72.155502</td>\n",
       "      <td>47.168098</td>\n",
       "      <td>37.243198</td>\n",
       "      <td>33.658199</td>\n",
       "      <td>1196.250000</td>\n",
       "      <td>-647.896973</td>\n",
       "      <td>-1283.109985</td>\n",
       "      <td>78.230698</td>\n",
       "      <td>15.292900</td>\n",
       "      <td>13.944200</td>\n",
       "      <td>10.013500</td>\n",
       "    </tr>\n",
       "    <tr>\n",
       "      <th>3</th>\n",
       "      <td>-693.304016</td>\n",
       "      <td>-1046.729980</td>\n",
       "      <td>1716.910034</td>\n",
       "      <td>55.797798</td>\n",
       "      <td>24.788500</td>\n",
       "      <td>6.890140</td>\n",
       "      <td>5.813400</td>\n",
       "      <td>747.961975</td>\n",
       "      <td>994.250000</td>\n",
       "      <td>-412.966003</td>\n",
       "      <td>359.113007</td>\n",
       "      <td>175.209000</td>\n",
       "      <td>103.500999</td>\n",
       "      <td>84.447098</td>\n",
       "    </tr>\n",
       "    <tr>\n",
       "      <th>4</th>\n",
       "      <td>-1488.199951</td>\n",
       "      <td>-25.370100</td>\n",
       "      <td>-30.989700</td>\n",
       "      <td>84.891502</td>\n",
       "      <td>26.878799</td>\n",
       "      <td>15.517200</td>\n",
       "      <td>13.260400</td>\n",
       "      <td>1415.640015</td>\n",
       "      <td>20.905100</td>\n",
       "      <td>223.630997</td>\n",
       "      <td>77.506500</td>\n",
       "      <td>57.986000</td>\n",
       "      <td>34.147400</td>\n",
       "      <td>26.660601</td>\n",
       "    </tr>\n",
       "    <tr>\n",
       "      <th>...</th>\n",
       "      <td>...</td>\n",
       "      <td>...</td>\n",
       "      <td>...</td>\n",
       "      <td>...</td>\n",
       "      <td>...</td>\n",
       "      <td>...</td>\n",
       "      <td>...</td>\n",
       "      <td>...</td>\n",
       "      <td>...</td>\n",
       "      <td>...</td>\n",
       "      <td>...</td>\n",
       "      <td>...</td>\n",
       "      <td>...</td>\n",
       "      <td>...</td>\n",
       "    </tr>\n",
       "    <tr>\n",
       "      <th>999994</th>\n",
       "      <td>-646.442017</td>\n",
       "      <td>-1295.150024</td>\n",
       "      <td>1331.800049</td>\n",
       "      <td>37.011299</td>\n",
       "      <td>21.006800</td>\n",
       "      <td>12.873700</td>\n",
       "      <td>8.898860</td>\n",
       "      <td>274.566986</td>\n",
       "      <td>1019.390015</td>\n",
       "      <td>-504.290985</td>\n",
       "      <td>90.375000</td>\n",
       "      <td>61.218800</td>\n",
       "      <td>20.514500</td>\n",
       "      <td>15.854600</td>\n",
       "    </tr>\n",
       "    <tr>\n",
       "      <th>999995</th>\n",
       "      <td>-286.550995</td>\n",
       "      <td>-1310.829956</td>\n",
       "      <td>-1510.910034</td>\n",
       "      <td>147.516998</td>\n",
       "      <td>60.997799</td>\n",
       "      <td>41.356201</td>\n",
       "      <td>28.225700</td>\n",
       "      <td>252.884995</td>\n",
       "      <td>1085.420044</td>\n",
       "      <td>759.314026</td>\n",
       "      <td>58.769901</td>\n",
       "      <td>42.276402</td>\n",
       "      <td>8.637120</td>\n",
       "      <td>7.852020</td>\n",
       "    </tr>\n",
       "    <tr>\n",
       "      <th>999996</th>\n",
       "      <td>918.562988</td>\n",
       "      <td>951.195984</td>\n",
       "      <td>-1622.569946</td>\n",
       "      <td>32.242199</td>\n",
       "      <td>5.894110</td>\n",
       "      <td>5.004100</td>\n",
       "      <td>3.992740</td>\n",
       "      <td>-266.285004</td>\n",
       "      <td>-1284.189941</td>\n",
       "      <td>185.007996</td>\n",
       "      <td>136.389008</td>\n",
       "      <td>70.623901</td>\n",
       "      <td>49.508499</td>\n",
       "      <td>40.708599</td>\n",
       "    </tr>\n",
       "    <tr>\n",
       "      <th>999997</th>\n",
       "      <td>1447.219971</td>\n",
       "      <td>-547.710999</td>\n",
       "      <td>827.945007</td>\n",
       "      <td>396.112000</td>\n",
       "      <td>181.406998</td>\n",
       "      <td>152.207993</td>\n",
       "      <td>86.676804</td>\n",
       "      <td>-932.369995</td>\n",
       "      <td>165.005005</td>\n",
       "      <td>-2806.959961</td>\n",
       "      <td>56.471600</td>\n",
       "      <td>14.446400</td>\n",
       "      <td>10.258900</td>\n",
       "      <td>8.874700</td>\n",
       "    </tr>\n",
       "    <tr>\n",
       "      <th>999998</th>\n",
       "      <td>200.035995</td>\n",
       "      <td>-1252.869995</td>\n",
       "      <td>27.924900</td>\n",
       "      <td>363.790985</td>\n",
       "      <td>139.281998</td>\n",
       "      <td>31.751499</td>\n",
       "      <td>22.884300</td>\n",
       "      <td>-583.494995</td>\n",
       "      <td>1096.890015</td>\n",
       "      <td>-1194.410034</td>\n",
       "      <td>105.186996</td>\n",
       "      <td>36.687000</td>\n",
       "      <td>23.652201</td>\n",
       "      <td>19.462601</td>\n",
       "    </tr>\n",
       "  </tbody>\n",
       "</table>\n",
       "<p>999999 rows × 14 columns</p>\n",
       "</div>"
      ],
      "text/plain": [
       "               pxj1         pyj1         pzj1         mj1      tau1j1  \\\n",
       "0      -1467.239990   611.502014   511.101990   38.896000    8.290650   \n",
       "1      -1211.239990   347.315002   547.963013  389.532013  191.804001   \n",
       "2      -1229.619995   649.857971     8.089170   72.155502   47.168098   \n",
       "3       -693.304016 -1046.729980  1716.910034   55.797798   24.788500   \n",
       "4      -1488.199951   -25.370100   -30.989700   84.891502   26.878799   \n",
       "...             ...          ...          ...         ...         ...   \n",
       "999994  -646.442017 -1295.150024  1331.800049   37.011299   21.006800   \n",
       "999995  -286.550995 -1310.829956 -1510.910034  147.516998   60.997799   \n",
       "999996   918.562988   951.195984 -1622.569946   32.242199    5.894110   \n",
       "999997  1447.219971  -547.710999   827.945007  396.112000  181.406998   \n",
       "999998   200.035995 -1252.869995    27.924900  363.790985  139.281998   \n",
       "\n",
       "            tau2j1     tau3j1         pxj2         pyj2         pzj2  \\\n",
       "0         4.836080   4.260190  1403.579956  -674.551025  -451.670990   \n",
       "1        99.562798  70.872200   619.341003   -62.177299 -1944.040039   \n",
       "2        37.243198  33.658199  1196.250000  -647.896973 -1283.109985   \n",
       "3         6.890140   5.813400   747.961975   994.250000  -412.966003   \n",
       "4        15.517200  13.260400  1415.640015    20.905100   223.630997   \n",
       "...            ...        ...          ...          ...          ...   \n",
       "999994   12.873700   8.898860   274.566986  1019.390015  -504.290985   \n",
       "999995   41.356201  28.225700   252.884995  1085.420044   759.314026   \n",
       "999996    5.004100   3.992740  -266.285004 -1284.189941   185.007996   \n",
       "999997  152.207993  86.676804  -932.369995   165.005005 -2806.959961   \n",
       "999998   31.751499  22.884300  -583.494995  1096.890015 -1194.410034   \n",
       "\n",
       "               mj2      tau1j2      tau2j2     tau3j2  \n",
       "0       237.893997   79.815102   21.010300  16.757601  \n",
       "1        22.999201    8.042180    6.335090   5.525370  \n",
       "2        78.230698   15.292900   13.944200  10.013500  \n",
       "3       359.113007  175.209000  103.500999  84.447098  \n",
       "4        77.506500   57.986000   34.147400  26.660601  \n",
       "...            ...         ...         ...        ...  \n",
       "999994   90.375000   61.218800   20.514500  15.854600  \n",
       "999995   58.769901   42.276402    8.637120   7.852020  \n",
       "999996  136.389008   70.623901   49.508499  40.708599  \n",
       "999997   56.471600   14.446400   10.258900   8.874700  \n",
       "999998  105.186996   36.687000   23.652201  19.462601  \n",
       "\n",
       "[999999 rows x 14 columns]"
      ]
     },
     "execution_count": 18,
     "metadata": {},
     "output_type": "execute_result"
    }
   ],
   "source": [
    "df_QCD"
   ]
  },
  {
   "cell_type": "code",
   "execution_count": 19,
   "id": "01c26fcc-24e2-401e-8f60-c71c168529d4",
   "metadata": {
    "tags": []
   },
   "outputs": [],
   "source": [
    "df = pd.read_hdf(\"/global/cfs/projectdirs/m3246/AnomalyDetection/LHCO/events_anomalydetection_DelphesPythia8_v2_Wprime_features.h5\")"
   ]
  },
  {
   "cell_type": "code",
   "execution_count": 20,
   "id": "874a6f00-dd55-49a1-a8b0-f80267d5ff3f",
   "metadata": {
    "tags": []
   },
   "outputs": [
    {
     "data": {
      "text/html": [
       "<div>\n",
       "<style scoped>\n",
       "    .dataframe tbody tr th:only-of-type {\n",
       "        vertical-align: middle;\n",
       "    }\n",
       "\n",
       "    .dataframe tbody tr th {\n",
       "        vertical-align: top;\n",
       "    }\n",
       "\n",
       "    .dataframe thead th {\n",
       "        text-align: right;\n",
       "    }\n",
       "</style>\n",
       "<table border=\"1\" class=\"dataframe\">\n",
       "  <thead>\n",
       "    <tr style=\"text-align: right;\">\n",
       "      <th></th>\n",
       "      <th>pxj1</th>\n",
       "      <th>pyj1</th>\n",
       "      <th>pzj1</th>\n",
       "      <th>mj1</th>\n",
       "      <th>tau1j1</th>\n",
       "      <th>tau2j1</th>\n",
       "      <th>tau3j1</th>\n",
       "      <th>pxj2</th>\n",
       "      <th>pyj2</th>\n",
       "      <th>pzj2</th>\n",
       "      <th>mj2</th>\n",
       "      <th>tau1j2</th>\n",
       "      <th>tau2j2</th>\n",
       "      <th>tau3j2</th>\n",
       "    </tr>\n",
       "  </thead>\n",
       "  <tbody>\n",
       "    <tr>\n",
       "      <th>0</th>\n",
       "      <td>-1698.670044</td>\n",
       "      <td>-884.039978</td>\n",
       "      <td>723.843018</td>\n",
       "      <td>105.035004</td>\n",
       "      <td>83.721703</td>\n",
       "      <td>46.282101</td>\n",
       "      <td>13.635700</td>\n",
       "      <td>1539.439941</td>\n",
       "      <td>372.238007</td>\n",
       "      <td>-295.865997</td>\n",
       "      <td>461.574005</td>\n",
       "      <td>431.343994</td>\n",
       "      <td>52.344799</td>\n",
       "      <td>37.284901</td>\n",
       "    </tr>\n",
       "    <tr>\n",
       "      <th>1</th>\n",
       "      <td>1246.660034</td>\n",
       "      <td>-1133.010010</td>\n",
       "      <td>-921.987000</td>\n",
       "      <td>159.865997</td>\n",
       "      <td>133.781998</td>\n",
       "      <td>58.968601</td>\n",
       "      <td>30.377399</td>\n",
       "      <td>-1218.489990</td>\n",
       "      <td>1108.380005</td>\n",
       "      <td>182.147003</td>\n",
       "      <td>514.883972</td>\n",
       "      <td>462.654999</td>\n",
       "      <td>138.789001</td>\n",
       "      <td>67.805801</td>\n",
       "    </tr>\n",
       "    <tr>\n",
       "      <th>2</th>\n",
       "      <td>420.975006</td>\n",
       "      <td>-1739.790039</td>\n",
       "      <td>281.553986</td>\n",
       "      <td>93.665901</td>\n",
       "      <td>77.925797</td>\n",
       "      <td>10.605900</td>\n",
       "      <td>6.916520</td>\n",
       "      <td>-510.779999</td>\n",
       "      <td>1484.069946</td>\n",
       "      <td>227.175995</td>\n",
       "      <td>475.316986</td>\n",
       "      <td>217.113998</td>\n",
       "      <td>29.424000</td>\n",
       "      <td>21.020300</td>\n",
       "    </tr>\n",
       "    <tr>\n",
       "      <th>3</th>\n",
       "      <td>161.048996</td>\n",
       "      <td>-1664.859985</td>\n",
       "      <td>-2005.099976</td>\n",
       "      <td>116.327003</td>\n",
       "      <td>61.819698</td>\n",
       "      <td>38.143600</td>\n",
       "      <td>18.414400</td>\n",
       "      <td>-188.942993</td>\n",
       "      <td>1556.900024</td>\n",
       "      <td>-561.664001</td>\n",
       "      <td>561.236023</td>\n",
       "      <td>348.181000</td>\n",
       "      <td>102.625000</td>\n",
       "      <td>53.422699</td>\n",
       "    </tr>\n",
       "    <tr>\n",
       "      <th>4</th>\n",
       "      <td>-564.754028</td>\n",
       "      <td>-1315.599976</td>\n",
       "      <td>-1087.410034</td>\n",
       "      <td>513.015991</td>\n",
       "      <td>276.446991</td>\n",
       "      <td>50.629799</td>\n",
       "      <td>35.460999</td>\n",
       "      <td>326.164001</td>\n",
       "      <td>1050.239990</td>\n",
       "      <td>1201.000000</td>\n",
       "      <td>108.752998</td>\n",
       "      <td>89.666603</td>\n",
       "      <td>40.928699</td>\n",
       "      <td>17.055799</td>\n",
       "    </tr>\n",
       "    <tr>\n",
       "      <th>...</th>\n",
       "      <td>...</td>\n",
       "      <td>...</td>\n",
       "      <td>...</td>\n",
       "      <td>...</td>\n",
       "      <td>...</td>\n",
       "      <td>...</td>\n",
       "      <td>...</td>\n",
       "      <td>...</td>\n",
       "      <td>...</td>\n",
       "      <td>...</td>\n",
       "      <td>...</td>\n",
       "      <td>...</td>\n",
       "      <td>...</td>\n",
       "      <td>...</td>\n",
       "    </tr>\n",
       "    <tr>\n",
       "      <th>99994</th>\n",
       "      <td>-206.662003</td>\n",
       "      <td>-1729.280029</td>\n",
       "      <td>357.635010</td>\n",
       "      <td>96.165001</td>\n",
       "      <td>58.014500</td>\n",
       "      <td>11.731300</td>\n",
       "      <td>6.174070</td>\n",
       "      <td>218.800003</td>\n",
       "      <td>1714.890015</td>\n",
       "      <td>-210.578995</td>\n",
       "      <td>472.475006</td>\n",
       "      <td>259.884003</td>\n",
       "      <td>40.806999</td>\n",
       "      <td>31.226000</td>\n",
       "    </tr>\n",
       "    <tr>\n",
       "      <th>99995</th>\n",
       "      <td>1069.660034</td>\n",
       "      <td>659.874023</td>\n",
       "      <td>218.751007</td>\n",
       "      <td>126.183998</td>\n",
       "      <td>122.486000</td>\n",
       "      <td>27.608700</td>\n",
       "      <td>17.924801</td>\n",
       "      <td>-956.169006</td>\n",
       "      <td>-297.311005</td>\n",
       "      <td>-2204.350098</td>\n",
       "      <td>108.890999</td>\n",
       "      <td>21.177200</td>\n",
       "      <td>10.582400</td>\n",
       "      <td>9.138590</td>\n",
       "    </tr>\n",
       "    <tr>\n",
       "      <th>99996</th>\n",
       "      <td>-1286.619995</td>\n",
       "      <td>-86.162598</td>\n",
       "      <td>-1366.270020</td>\n",
       "      <td>115.719002</td>\n",
       "      <td>109.853996</td>\n",
       "      <td>29.830200</td>\n",
       "      <td>22.489201</td>\n",
       "      <td>1145.729980</td>\n",
       "      <td>136.792007</td>\n",
       "      <td>1216.780029</td>\n",
       "      <td>489.053009</td>\n",
       "      <td>416.747009</td>\n",
       "      <td>84.599998</td>\n",
       "      <td>66.767502</td>\n",
       "    </tr>\n",
       "    <tr>\n",
       "      <th>99997</th>\n",
       "      <td>-149.330002</td>\n",
       "      <td>1781.459961</td>\n",
       "      <td>-58.690899</td>\n",
       "      <td>508.045013</td>\n",
       "      <td>495.290985</td>\n",
       "      <td>82.283600</td>\n",
       "      <td>43.567902</td>\n",
       "      <td>84.726601</td>\n",
       "      <td>-1378.569946</td>\n",
       "      <td>-1485.469971</td>\n",
       "      <td>91.104897</td>\n",
       "      <td>79.120102</td>\n",
       "      <td>46.537300</td>\n",
       "      <td>23.227301</td>\n",
       "    </tr>\n",
       "    <tr>\n",
       "      <th>99998</th>\n",
       "      <td>1584.699951</td>\n",
       "      <td>-731.156982</td>\n",
       "      <td>-196.348007</td>\n",
       "      <td>114.938004</td>\n",
       "      <td>83.769897</td>\n",
       "      <td>12.898200</td>\n",
       "      <td>9.031230</td>\n",
       "      <td>-1515.079956</td>\n",
       "      <td>783.245972</td>\n",
       "      <td>498.704010</td>\n",
       "      <td>553.737000</td>\n",
       "      <td>366.188995</td>\n",
       "      <td>192.139008</td>\n",
       "      <td>81.398201</td>\n",
       "    </tr>\n",
       "  </tbody>\n",
       "</table>\n",
       "<p>99999 rows × 14 columns</p>\n",
       "</div>"
      ],
      "text/plain": [
       "              pxj1         pyj1         pzj1         mj1      tau1j1  \\\n",
       "0     -1698.670044  -884.039978   723.843018  105.035004   83.721703   \n",
       "1      1246.660034 -1133.010010  -921.987000  159.865997  133.781998   \n",
       "2       420.975006 -1739.790039   281.553986   93.665901   77.925797   \n",
       "3       161.048996 -1664.859985 -2005.099976  116.327003   61.819698   \n",
       "4      -564.754028 -1315.599976 -1087.410034  513.015991  276.446991   \n",
       "...            ...          ...          ...         ...         ...   \n",
       "99994  -206.662003 -1729.280029   357.635010   96.165001   58.014500   \n",
       "99995  1069.660034   659.874023   218.751007  126.183998  122.486000   \n",
       "99996 -1286.619995   -86.162598 -1366.270020  115.719002  109.853996   \n",
       "99997  -149.330002  1781.459961   -58.690899  508.045013  495.290985   \n",
       "99998  1584.699951  -731.156982  -196.348007  114.938004   83.769897   \n",
       "\n",
       "          tau2j1     tau3j1         pxj2         pyj2         pzj2  \\\n",
       "0      46.282101  13.635700  1539.439941   372.238007  -295.865997   \n",
       "1      58.968601  30.377399 -1218.489990  1108.380005   182.147003   \n",
       "2      10.605900   6.916520  -510.779999  1484.069946   227.175995   \n",
       "3      38.143600  18.414400  -188.942993  1556.900024  -561.664001   \n",
       "4      50.629799  35.460999   326.164001  1050.239990  1201.000000   \n",
       "...          ...        ...          ...          ...          ...   \n",
       "99994  11.731300   6.174070   218.800003  1714.890015  -210.578995   \n",
       "99995  27.608700  17.924801  -956.169006  -297.311005 -2204.350098   \n",
       "99996  29.830200  22.489201  1145.729980   136.792007  1216.780029   \n",
       "99997  82.283600  43.567902    84.726601 -1378.569946 -1485.469971   \n",
       "99998  12.898200   9.031230 -1515.079956   783.245972   498.704010   \n",
       "\n",
       "              mj2      tau1j2      tau2j2     tau3j2  \n",
       "0      461.574005  431.343994   52.344799  37.284901  \n",
       "1      514.883972  462.654999  138.789001  67.805801  \n",
       "2      475.316986  217.113998   29.424000  21.020300  \n",
       "3      561.236023  348.181000  102.625000  53.422699  \n",
       "4      108.752998   89.666603   40.928699  17.055799  \n",
       "...           ...         ...         ...        ...  \n",
       "99994  472.475006  259.884003   40.806999  31.226000  \n",
       "99995  108.890999   21.177200   10.582400   9.138590  \n",
       "99996  489.053009  416.747009   84.599998  66.767502  \n",
       "99997   91.104897   79.120102   46.537300  23.227301  \n",
       "99998  553.737000  366.188995  192.139008  81.398201  \n",
       "\n",
       "[99999 rows x 14 columns]"
      ]
     },
     "execution_count": 20,
     "metadata": {},
     "output_type": "execute_result"
    }
   ],
   "source": [
    "df"
   ]
  },
  {
   "cell_type": "code",
   "execution_count": 101,
   "id": "1b3adbce-25f0-4389-a115-e694802d94cc",
   "metadata": {
    "tags": []
   },
   "outputs": [
    {
     "data": {
      "text/plain": [
       "Text(0.5, 1.0, 'Jet Mass Distributions')"
      ]
     },
     "execution_count": 101,
     "metadata": {},
     "output_type": "execute_result"
    },
    {
     "data": {
      "image/png": "[encoded data removed]",
      "text/plain": [
       "<Figure size 640x480 with 1 Axes>"
      ]
     },
     "metadata": {},
     "output_type": "display_data"
    }
   ],
   "source": [
    "plt.hist(df['mj1'],bins=np.linspace(0,600,20))\n",
    "plt.xlabel(\"Mass [GeV]\")\n",
    "plt.ylabel(\"Counts\")\n",
    "plt.title(\"Jet Mass Distributions\")"
   ]
  },
  {
   "cell_type": "code",
   "execution_count": 89,
   "id": "472adaa6-938f-4e12-ae2e-cdbe211d0815",
   "metadata": {
    "tags": []
   },
   "outputs": [
    {
     "name": "stdout",
     "output_type": "stream",
     "text": [
      "0 0 J 1788.55 -0.300279 -2.51608 130.279 0 0.0289343 0.0153102 0.0126833 0.010346 0.00825964  P 4.64413 -0.377384 3.00207  P 2.47947 -0.425799 3.02334  P 2.68613 -0.39458 -2.608  P 5.84707 -0.404504 -2.54133  P 24.9416 -0.408844 -2.52053  P 6.58412 -0.387347 -2.54543  P 13.1517 -0.350432 -2.59254  P 13.7381 -0.300859 -2.52212  P 4.55674 -0.286343 -2.52545  P 517.142 -0.286492 -2.50205 \n",
      "\n",
      "0 1 J 1643.32 -0.173344 0.717105 95.8961 0 0.0424313 0.0221081 0.0140335 0.0108518 0.00877299  P 1.75001 -0.530883 0.585762  P 2.74298 -0.297844 0.694373  P 5.4756 -0.195946 0.630677  P 7.35714 -0.200437 0.647468  P 9.16487 -0.119969 0.704896  P 5.77878 -0.125155 0.709119  P 6.37682 -0.141306 0.773328  P 8.23397 -0.155549 0.732862  P 29.6409 -0.186092 0.763671  P 2.24246 -0.170876 0.729569  P 245.519 -0.180535 0.735561 \n",
      "\n"
     ]
    }
   ],
   "source": [
    "file = open(\"/global/cfs/projectdirs/m3246/AnomalyDetection/ILC/Delphes-3.5.0/LHCO_RnD_qq/LHCO_RnD_qq.txt\")\n",
    "\n",
    "jets = []\n",
    "count = 0\n",
    "for line in file:\n",
    "    if count == 2:\n",
    "        break\n",
    "    print(line)\n",
    "    jets += [line.split(\"J\")[1].split(\"P\")[0].split()]\n",
    "    count+=1"
   ]
  },
  {
   "cell_type": "code",
   "execution_count": 110,
   "id": "d84ddc16-9bdb-4964-882d-f8db41e4f5c5",
   "metadata": {
    "tags": []
   },
   "outputs": [
    {
     "data": {
      "text/plain": [
       "[['1788.55',\n",
       "  '-0.300279',\n",
       "  '-2.51608',\n",
       "  '130.279',\n",
       "  '0',\n",
       "  '0.0289343',\n",
       "  '0.0153102',\n",
       "  '0.0126833',\n",
       "  '0.010346',\n",
       "  '0.00825964'],\n",
       " ['1643.32',\n",
       "  '-0.173344',\n",
       "  '0.717105',\n",
       "  '95.8961',\n",
       "  '0',\n",
       "  '0.0424313',\n",
       "  '0.0221081',\n",
       "  '0.0140335',\n",
       "  '0.0108518',\n",
       "  '0.00877299']]"
      ]
     },
     "execution_count": 110,
     "metadata": {},
     "output_type": "execute_result"
    }
   ],
   "source": [
    "ljet"
   ]
  },
  {
   "cell_type": "code",
   "execution_count": 117,
   "id": "74e751ad-3731-4908-a40e-3d53afa0d19a",
   "metadata": {
    "tags": []
   },
   "outputs": [],
   "source": [
    "ljet = [jets[2*n] for n in range(int(len(jets)/2))]\n",
    "sjet = [jets[2*n+1] for n in range(int(len(jets)/2))]"
   ]
  },
  {
   "cell_type": "code",
   "execution_count": 116,
   "id": "ec57e185-b108-4d49-8a6e-9d602a0b1a1a",
   "metadata": {
    "tags": []
   },
   "outputs": [
    {
     "data": {
      "text/plain": [
       "[['1788.55',\n",
       "  '-0.300279',\n",
       "  '-2.51608',\n",
       "  '130.279',\n",
       "  '0',\n",
       "  '0.0289343',\n",
       "  '0.0153102',\n",
       "  '0.0126833',\n",
       "  '0.010346',\n",
       "  '0.00825964']]"
      ]
     },
     "execution_count": 116,
     "metadata": {},
     "output_type": "execute_result"
    }
   ],
   "source": [
    "ljet"
   ]
  },
  {
   "cell_type": "code",
   "execution_count": 98,
   "id": "a256173c-6db9-488e-917a-f5e89ae59167",
   "metadata": {
    "tags": []
   },
   "outputs": [],
   "source": [
    "def computemjj_pd(event):\n",
    "    px1 = event[[\"pxj1\"]].to_numpy()\n",
    "    py1 = event[[\"pyj1\"]].to_numpy()\n",
    "    pz1 = event[[\"pzj1\"]].to_numpy()\n",
    "    pE1 = np.sqrt(px1**2+py1**2+pz1**2+event[[\"mj1\"]].to_numpy()**2)\n",
    "    \n",
    "    px2 = event[[\"pxj2\"]].to_numpy()\n",
    "    py2 = event[[\"pyj2\"]].to_numpy()\n",
    "    pz2 = event[[\"pzj2\"]].to_numpy()\n",
    "    pE2 = np.sqrt(px1**2+py1**2+pz1**2+event[[\"mj2\"]].to_numpy()**2)\n",
    "    \n",
    "    m2 = (pE1+pE2)**2-(px1+px2)**2-(py1+py2)**2-(pz1+pz2)**2\n",
    "    return np.array(np.sqrt(m2)).flatten()"
   ]
  },
  {
   "cell_type": "code",
   "execution_count": 99,
   "id": "fd77cfaa-083f-472c-b291-3050fb718da3",
   "metadata": {
    "tags": []
   },
   "outputs": [],
   "source": [
    "def computemjj_txt(event):\n",
    "    pT1 = np.array([float(event[2*i][0]) for i in range(int(len(event)/2))])\n",
    "    eta1 = np.array([float(event[2*i][1]) for i in range(int(len(event)/2))])\n",
    "    phi1 = np.array([float(event[2*i][2]) for i in range(int(len(event)/2))])\n",
    "    m1 = np.array([float(event[2*i][3]) for i in range(int(len(event)/2))])\n",
    "    px1 = pT1*np.cos(phi1)\n",
    "    py1 = pT1*np.sin(phi1)\n",
    "    pz1 = pT1*np.sinh(eta1)\n",
    "    pE1 = np.sqrt(px1**2+py1**2+pz1**2+m1**2)\n",
    "    \n",
    "    pT2 = np.array([float(event[2*i+1][0]) for i in range(int(len(event)/2))])\n",
    "    eta2 = np.array([float(event[2*i+1][1]) for i in range(int(len(event)/2))])\n",
    "    phi2 = np.array([float(event[2*i+1][2]) for i in range(int(len(event)/2))])\n",
    "    m2 = np.array([float(event[2*i+1][3]) for i in range(int(len(event)/2))])\n",
    "    px2 = pT2*np.cos(phi2)\n",
    "    py2 = pT2*np.sin(phi2)\n",
    "    pz2 = pT2*np.sinh(eta2)\n",
    "    pE2 = np.sqrt(px2**2+py2**2+pz2**2+m2**2)\n",
    "    \n",
    "    m2 = (pE1+pE2)**2-(px1+px2)**2-(py1+py2)**2-(pz1+pz2)**2\n",
    "    return np.array(np.sqrt(m2)).flatten()"
   ]
  },
  {
   "cell_type": "code",
   "execution_count": 125,
   "id": "d6ae4f16-8096-43cf-8e19-9983f63bc64f",
   "metadata": {
    "tags": []
   },
   "outputs": [
    {
     "data": {
      "text/plain": [
       "3674.182176987098"
      ]
     },
     "execution_count": 125,
     "metadata": {},
     "output_type": "execute_result"
    }
   ],
   "source": [
    "m = 100\n",
    "file = open(\"/global/cfs/projectdirs/m3246/AnomalyDetection/ILC/Delphes-3.5.0/LHCO_RnD_qq/LHCO_RnD_qq_\"+str(m)+\"_\"+str(m)+\".txt\")\n",
    "jets_m_m = []\n",
    "for line in file:\n",
    "    jets_m_m+=[line.split(\"J\")[1].split(\"P\")[0].split()]\n",
    "    pass\n",
    "computemjj_txt(jets_m_m)[0]"
   ]
  },
  {
   "cell_type": "code",
   "execution_count": 24,
   "id": "b973cdf7-fd7f-453a-a3e8-d5c93560f393",
   "metadata": {
    "tags": []
   },
   "outputs": [
    {
     "data": {
      "text/plain": [
       "['1912.12',\n",
       " '-0.261053',\n",
       " '-2.52335',\n",
       " '156.234',\n",
       " '0',\n",
       " '0.0501834',\n",
       " '0.0275165',\n",
       " '0.0193505',\n",
       " '0.0160559',\n",
       " '0.0129042']"
      ]
     },
     "execution_count": 24,
     "metadata": {},
     "output_type": "execute_result"
    }
   ],
   "source": [
    "jets_m_m[0]"
   ]
  },
  {
   "cell_type": "code",
   "execution_count": null,
   "id": "67c5dc45-f8c3-4ac7-afab-dfea17f527bc",
   "metadata": {},
   "outputs": [],
   "source": [
    "# if (True):\n",
    "#     lmass_vec = {}\n",
    "#     x = {}\n",
    "#     mjjs = {}\n",
    "\n",
    "#     mu_m = 0.\n",
    "#     mu_t = 0.\n",
    "#     sd_m = 0.\n",
    "#     sd_t = 0.\n",
    "\n",
    "#     for m1 in [0,1,1.5,2,2.5,3,3.5,4,4.5,5,5.5,6]:\n",
    "#         for m2 in [0,1,1.5,2,2.5,3,3.5,4,4.5,5,5.5,6]:\n",
    "\n",
    "#             print(\"on ...\",m1,m2)\n",
    "\n",
    "#             ltau1_m_m = []\n",
    "#             ltau2_m_m = []\n",
    "#             stau1_m_m = []\n",
    "#             stau2_m_m = []\n",
    "#             if (m1>0 and m2>0):\n",
    "#                 myfile = open(\"/global/cfs/projectdirs/m3246/AnomalyDetection/ILC/Delphes-3.5.0/LHCO_RnD_qq/LHCO_RnD_qq_\"+str(int(m1*100))+\"_\"+str(int(100*m2))+\".txt\")\n",
    "#                 jets_m_m = []\n",
    "#                 for line in myfile:\n",
    "#                     jets_m_m+=[line.split(\"J\")[1].split(\"P\")[0].split()]\n",
    "#                     pass\n",
    "#                 ljet_m_m = [jets_m_m[2*n] for n in range(int(len(jets_m_m)/2))]\n",
    "#                 sjet_m_m = [jets_m_m[2*n+1] for n in range(int(len(jets_m_m)/2))]\n",
    "\n",
    "#                 lmass_m_m = np.array([float(ljet_m_m[i][3]) for i in range(len(ljet_m_m))])/1000.\n",
    "#                 smass_m_m = np.array([float(sjet_m_m[i][3]) for i in range(len(sjet_m_m))])/1000.\n",
    "\n",
    "#                 ltau1_m_m = np.array([float(ljet_m_m[i][5]) for i in range(len(ljet_m_m))])\n",
    "#                 ltau2_m_m = np.array([float(ljet_m_m[i][6]) for i in range(len(ljet_m_m))])\n",
    "\n",
    "#                 stau1_m_m = np.array([float(sjet_m_m[i][5]) for i in range(len(ljet_m_m))])\n",
    "#                 stau2_m_m = np.array([float(sjet_m_m[i][6]) for i in range(len(ljet_m_m))])\n",
    "\n",
    "#                 mjj = computemjj_txt(jets_m_m)/1000.\n",
    "#                 mjjs[m1,m2] = mjj\n",
    "#                 passcut = (mjj > 3.3) * (mjj < 3.7)\n",
    "#                 lmass_m_m = lmass_m_m[passcut]\n",
    "#                 smass_m_m = smass_m_m[passcut]\n",
    "#                 ltau1_m_m = ltau1_m_m[passcut]\n",
    "#                 ltau2_m_m = ltau2_m_m[passcut]\n",
    "#                 stau1_m_m = stau1_m_m[passcut]\n",
    "#                 stau2_m_m = stau2_m_m[passcut]\n",
    "#                 pass\n",
    "#             elif m1==0 and m2==0:\n",
    "#                 df_QCD = pd.read_hdf(\"/global/cfs/projectdirs/m3246/AnomalyDetection/LHCO/events_anomalydetection_DelphesPythia8_v2_qcd_features.h5\")\n",
    "#                 lmass_m_m = np.array(df_QCD[[\"mj1\"]]).flatten()/1000.\n",
    "#                 smass_m_m = np.array(df_QCD[[\"mj2\"]]).flatten()/1000.\n",
    "#                 ltau1_m_m = np.array(df_QCD[[\"tau1j1\"]]).flatten()\n",
    "#                 ltau2_m_m = np.array(df_QCD[[\"tau2j1\"]]).flatten()\n",
    "#                 stau1_m_m = np.array(df_QCD[[\"tau1j2\"]]).flatten()\n",
    "#                 stau2_m_m = np.array(df_QCD[[\"tau2j2\"]]).flatten()\n",
    "#                 mjj = computemjj_pd(df_QCD)/1000.\n",
    "#                 mjjs[m1,m2] = mjj\n",
    "#                 passcut = (mjj > 3.3) * (mjj < 3.7)\n",
    "#                 lmass_m_m = lmass_m_m[passcut]\n",
    "#                 smass_m_m = smass_m_m[passcut]\n",
    "#                 ltau1_m_m = ltau1_m_m[passcut]\n",
    "#                 ltau2_m_m = ltau2_m_m[passcut]\n",
    "#                 stau1_m_m = stau1_m_m[passcut]\n",
    "#                 stau2_m_m = stau2_m_m[passcut]\n",
    "\n",
    "#                 mu_m = np.mean(lmass_m_m)\n",
    "#                 mu_t = np.mean(ltau2_m_m/(ltau1_m_m+0.0001))\n",
    "#                 sd_m = np.std(lmass_m_m)\n",
    "#                 sd_t = np.std(ltau2_m_m/(ltau1_m_m+0.0001))\n",
    "#                 pass\n",
    "#             else:\n",
    "#                 continue\n",
    "\n",
    "#             ms = np.stack([lmass_m_m,smass_m_m],axis=1)\n",
    "#             ts = np.stack([ltau2_m_m/(ltau1_m_m+0.0001),stau2_m_m/(stau1_m_m+0.001)],axis=1)\n",
    "#             order1 = [np.argmax(ms[i]) for i in range(len(ms))]\n",
    "#             order2 = [np.argmin(ms[i]) for i in range(len(ms))]\n",
    "#             mJ1 = np.array([ms[i][order1[i]] for i in range(len(ms))])\n",
    "#             mJ2 = np.array([ms[i][order2[i]] for i in range(len(ms))])\n",
    "#             x[m1,m2] = np.stack([(mJ2 - mu_m)/sd_m,\n",
    "#                                     ((mJ1 - mJ2) - mu_m)/sd_m,\n",
    "#                                     ([ts[i][order2[i]] for i in range(len(ts))] - mu_t)/sd_t,\n",
    "#                                     ([ts[i][order1[i]] for i in range(len(ts))] - mu_t)/sd_t],axis=1)\n",
    "#             lmass_vec[m1,m2]=lmass_m_m\n",
    "#             pass\n",
    "#         pass\n",
    "    \n",
    "#     # plt.hist(mjjs[0,0],np.linspace(1,10,100))\n",
    "#     # for m in [0,1,1.5,2,2.5,3,3.5,4,4.5,5,5.5,6]:\n",
    "#     #     plt.hist(mjjs[m,m],np.linspace(1,10,100))\n",
    "#     # plt.yscale(\"log\")\n",
    "    \n",
    "#     #plt.hist(lmass/1000.,bins=np.linspace(0,700,20)/1000.,density=True,alpha=0.5)\n",
    "#     #for m in [1,1.5,2,2.5,3,3.5,4,4.5,5,5.5,6]:\n",
    "#         #plt.hist(lmass_vec[m,m],bins=np.linspace(0,700,20)/1000.,density=True,histtype=\"step\",lw=3,color=\"black\",alpha=m/6.)\n",
    "    \n",
    "#     x_array = []\n",
    "#     for m1 in [0,1,1.5,2,2.5,3,3.5,4,4.5,5,5.5,6]:\n",
    "#         for m2 in [0,1,1.5,2,2.5,3,3.5,4,4.5,5,5.5,6]:\n",
    "#             if (m1==0 and m2>0 or m2==0 and m1>0):\n",
    "#                 continue\n",
    "#             x_array+=[x[m1,m2]]\n",
    "#     np.save(\"x_array\", x_array)"
   ]
  },
  {
   "cell_type": "code",
   "execution_count": 35,
   "id": "9e4d3043-90b8-492d-8c1a-1b45ec3a8c44",
   "metadata": {},
   "outputs": [],
   "source": [
    "#reads in data \n",
    "x = {}\n",
    "x_array_read = np.load(\"x_array.npy\",allow_pickle=True)\n",
    "mycounter = -1\n",
    "for m1 in [0,1,1.5,2,2.5,3,3.5,4,4.5,5,5.5,6]:\n",
    "    for m2 in [0,1,1.5,2,2.5,3,3.5,4,4.5,5,5.5,6]:\n",
    "        if (m1==0 and m2>0 or m2==0 and m1>0):\n",
    "            continue\n",
    "        mycounter+=1\n",
    "        x[m1,m2] = x_array_read[mycounter]"
   ]
  },
  {
   "cell_type": "code",
   "execution_count": 36,
   "id": "551d44d0-4788-4576-80f2-965a1f62757d",
   "metadata": {
    "tags": []
   },
   "outputs": [],
   "source": [
    "from keras.layers import Input, Dense\n",
    "from keras.models import Model, Sequential\n",
    "from keras.models import model_from_json\n",
    "\n",
    "from sklearn.model_selection import train_test_split\n",
    "from sklearn.metrics import roc_curve, auc"
   ]
  },
  {
   "cell_type": "code",
   "execution_count": 37,
   "id": "8695136e-87e9-46ff-8c38-24504ca2a192",
   "metadata": {
    "tags": []
   },
   "outputs": [],
   "source": [
    "x_vals_100 = np.concatenate([x[1,1],x[0,0]])\n",
    "y_vals_100 = np.concatenate([np.ones(len(x[1,1])),np.zeros(len(x[0,0]))])\n",
    "X_train_100, X_val_100, Y_train_100, Y_val_100 = train_test_split(x_vals_100, y_vals_100, test_size=0.5)"
   ]
  },
  {
   "cell_type": "code",
   "execution_count": 138,
   "id": "1f81ff2e-813c-4e15-a1fa-1396b04df509",
   "metadata": {
    "tags": []
   },
   "outputs": [
    {
     "data": {
      "text/plain": [
       "197239"
      ]
     },
     "execution_count": 138,
     "metadata": {},
     "output_type": "execute_result"
    }
   ],
   "source": [
    "len(y_vals_100)"
   ]
  },
  {
   "cell_type": "code",
   "execution_count": 38,
   "id": "0478d494-eefb-4dcd-be50-9f59ab684804",
   "metadata": {
    "tags": []
   },
   "outputs": [],
   "source": [
    "model_100 = Sequential()\n",
    "model_100.add(Dense(128, input_dim=4, activation='relu'))\n",
    "model_100.add(Dense(128, activation='relu'))\n",
    "model_100.add(Dense(128, activation='relu'))\n",
    "model_100.add(Dense(1, activation='sigmoid'))\n",
    "model_100.compile(loss='binary_crossentropy', optimizer='adam', metrics=['accuracy'])"
   ]
  },
  {
   "cell_type": "code",
   "execution_count": 39,
   "id": "7c399f0a-5bb7-4c18-9c84-749d8d498ed8",
   "metadata": {
    "tags": []
   },
   "outputs": [
    {
     "name": "stdout",
     "output_type": "stream",
     "text": [
      "Epoch 1/20\n",
      "193/193 [==============================] - 2s 8ms/step - loss: 0.2751 - accuracy: 0.8899 - val_loss: 0.2003 - val_accuracy: 0.9191\n",
      "Epoch 2/20\n",
      "193/193 [==============================] - 1s 8ms/step - loss: 0.1843 - accuracy: 0.9267 - val_loss: 0.1798 - val_accuracy: 0.9283\n",
      "Epoch 3/20\n",
      "193/193 [==============================] - 1s 8ms/step - loss: 0.1796 - accuracy: 0.9280 - val_loss: 0.1806 - val_accuracy: 0.9272\n",
      "Epoch 4/20\n",
      "193/193 [==============================] - 2s 8ms/step - loss: 0.1783 - accuracy: 0.9286 - val_loss: 0.1793 - val_accuracy: 0.9276\n",
      "Epoch 5/20\n",
      "193/193 [==============================] - 2s 8ms/step - loss: 0.1775 - accuracy: 0.9285 - val_loss: 0.1773 - val_accuracy: 0.9285\n",
      "Epoch 6/20\n",
      "193/193 [==============================] - 2s 8ms/step - loss: 0.1767 - accuracy: 0.9290 - val_loss: 0.1766 - val_accuracy: 0.9280\n",
      "Epoch 7/20\n",
      "193/193 [==============================] - 2s 8ms/step - loss: 0.1771 - accuracy: 0.9287 - val_loss: 0.1765 - val_accuracy: 0.9282\n",
      "Epoch 8/20\n",
      "193/193 [==============================] - 1s 8ms/step - loss: 0.1765 - accuracy: 0.9285 - val_loss: 0.1806 - val_accuracy: 0.9269\n",
      "Epoch 9/20\n",
      "193/193 [==============================] - 2s 8ms/step - loss: 0.1762 - accuracy: 0.9290 - val_loss: 0.1799 - val_accuracy: 0.9271\n",
      "Epoch 10/20\n",
      "193/193 [==============================] - 2s 8ms/step - loss: 0.1764 - accuracy: 0.9288 - val_loss: 0.1760 - val_accuracy: 0.9282\n",
      "Epoch 11/20\n",
      "193/193 [==============================] - 2s 8ms/step - loss: 0.1760 - accuracy: 0.9289 - val_loss: 0.1757 - val_accuracy: 0.9281\n",
      "Epoch 12/20\n",
      "193/193 [==============================] - 2s 8ms/step - loss: 0.1756 - accuracy: 0.9292 - val_loss: 0.1767 - val_accuracy: 0.9280\n",
      "Epoch 13/20\n",
      "193/193 [==============================] - 2s 8ms/step - loss: 0.1752 - accuracy: 0.9291 - val_loss: 0.1754 - val_accuracy: 0.9291\n",
      "Epoch 14/20\n",
      "193/193 [==============================] - 2s 8ms/step - loss: 0.1755 - accuracy: 0.9293 - val_loss: 0.1760 - val_accuracy: 0.9285\n",
      "Epoch 15/20\n",
      "193/193 [==============================] - 2s 8ms/step - loss: 0.1750 - accuracy: 0.9292 - val_loss: 0.1779 - val_accuracy: 0.9274\n",
      "Epoch 16/20\n",
      "193/193 [==============================] - 2s 8ms/step - loss: 0.1749 - accuracy: 0.9293 - val_loss: 0.1749 - val_accuracy: 0.9290\n",
      "Epoch 17/20\n",
      "193/193 [==============================] - 2s 8ms/step - loss: 0.1746 - accuracy: 0.9293 - val_loss: 0.1756 - val_accuracy: 0.9289\n",
      "Epoch 18/20\n",
      "193/193 [==============================] - 2s 8ms/step - loss: 0.1748 - accuracy: 0.9295 - val_loss: 0.1748 - val_accuracy: 0.9289\n",
      "Epoch 19/20\n",
      "193/193 [==============================] - 2s 8ms/step - loss: 0.1749 - accuracy: 0.9293 - val_loss: 0.1748 - val_accuracy: 0.9287\n",
      "Epoch 20/20\n",
      "193/193 [==============================] - 2s 8ms/step - loss: 0.1747 - accuracy: 0.9294 - val_loss: 0.1743 - val_accuracy: 0.9295\n"
     ]
    }
   ],
   "source": [
    "myhistory = model_100.fit(x_vals_100, y_vals_100, epochs=20,validation_data=(X_val_100, Y_val_100),batch_size=1024)"
   ]
  },
  {
   "cell_type": "markdown",
   "id": "303cf48d-50d6-4203-bff5-dfd452387b24",
   "metadata": {},
   "source": [
    "Analysis of Models begins here"
   ]
  },
  {
   "cell_type": "code",
   "execution_count": 154,
   "id": "40b790d6-6abd-49d2-b7e3-0bcc38935d69",
   "metadata": {
    "tags": []
   },
   "outputs": [
    {
     "data": {
      "image/png": "[encoded data removed]",
      "text/plain": [
       "<Figure size 640x480 with 1 Axes>"
      ]
     },
     "metadata": {},
     "output_type": "display_data"
    }
   ],
   "source": [
    "# Plot the training and validation loss\n",
    "plt.plot(myhistory.history['loss'])\n",
    "plt.plot(myhistory.history['val_loss'])\n",
    "plt.title('Model Loss')\n",
    "plt.ylabel('Loss')\n",
    "plt.xlabel('Epoch')\n",
    "plt.legend(['training loss', 'Validation'], loc='upper right')\n",
    "plt.show()"
   ]
  },
  {
   "cell_type": "code",
   "execution_count": 139,
   "id": "d3c279b2-be21-4c88-bd77-19d5ae36b24f",
   "metadata": {
    "tags": []
   },
   "outputs": [
    {
     "name": "stdout",
     "output_type": "stream",
     "text": [
      "99/99 [==============================] - 0s 3ms/step\n"
     ]
    }
   ],
   "source": [
    "preds_100 = model_100.predict(X_val_100,batch_size=1000)\n",
    "fpr_100, tpr_100, _ = roc_curve(Y_val_100, preds_100)"
   ]
  },
  {
   "cell_type": "code",
   "execution_count": 140,
   "id": "408a0cfc-8966-4c2d-a69d-9e8a346e1d72",
   "metadata": {
    "tags": []
   },
   "outputs": [
    {
     "data": {
      "image/png": "[encoded data removed]",
      "text/plain": [
       "<Figure size 640x480 with 1 Axes>"
      ]
     },
     "metadata": {},
     "output_type": "display_data"
    }
   ],
   "source": [
    "plt.plot(1-tpr_100, 1-fpr_100)\n",
    "plt.xlabel('False Positive Rate')\n",
    "plt.ylabel('True Positive Rate')\n",
    "plt.title('ROC Curve')\n",
    "plt.show()"
   ]
  },
  {
   "cell_type": "code",
   "execution_count": 149,
   "id": "81d22988-934c-4262-b84b-30ed9dcd8ea0",
   "metadata": {},
   "outputs": [
    {
     "name": "stdout",
     "output_type": "stream",
     "text": [
      "Accuracy of Model: 92.95%\n"
     ]
    }
   ],
   "source": [
    "def pred_accuracy(y_test, predictions):\n",
    "\n",
    "    predictions_list = []\n",
    "    for pred in predictions:\n",
    "        #arbitrary cutoff of 0.5\n",
    "        if float(pred) > 0.5:\n",
    "            predictions_list.append(int(1))\n",
    "        elif float(pred) < 0.5:\n",
    "            predictions_list.append(int(0))\n",
    "            \n",
    "    accuracy = np.mean(predictions_list == y_test)\n",
    "    return accuracy\n",
    "\n",
    "accuracy_model = pred_accuracy(Y_val_100, list(preds_100))\n",
    "print(\"Accuracy of Model: {:.2%}\".format(accuracy_model))"
   ]
  },
  {
   "cell_type": "code",
   "execution_count": null,
   "id": "ea7eb5af-10c5-42c1-a451-cfafd23f8428",
   "metadata": {},
   "outputs": [],
   "source": []
  },
  {
   "cell_type": "code",
   "execution_count": null,
   "id": "c06f2567-c949-47bd-a97f-a99468632c77",
   "metadata": {},
   "outputs": [],
   "source": [
    "# if (True):\n",
    "#     x_vals_all = []\n",
    "#     y_vals_all = []\n",
    "#     for m1 in [1,1.5,2,2.5,3,3.5,4,4.5,5,5.5,6]:\n",
    "#         for m2 in [1,1.5,2,2.5,3,3.5,4,4.5,5,5.5,6]:\n",
    "#             print(m1,m2)\n",
    "#             x_aug_0 = np.append(np.append(x[0,0],m1*np.reshape(np.ones(len(x[0,0])),[len(x[0,0]),1]),1),m2*np.reshape(np.ones(len(x[0,0])),[len(x[0,0]),1]),1)\n",
    "#             x_aug_m = np.append(np.append(x[m1,m2],m1*np.reshape(np.ones(len(x[m1,m2])),[len(x[m1,m2]),1]),1),m2*np.reshape(np.ones(len(x[m1,m2])),[len(x[m1,m2]),1]),1)\n",
    "#             if (m1==1 and m2==1):\n",
    "#                 x_vals_all = np.concatenate([x_aug_0,x_aug_m])\n",
    "#                 y_vals_all = np.concatenate([np.ones(len(x_aug_0)),np.zeros(len(x_aug_m))])\n",
    "#             else:\n",
    "#                 x_vals_all = np.concatenate([x_vals_all,x_aug_0,x_aug_m])\n",
    "#                 y_vals_all = np.concatenate([y_vals_all,np.ones(len(x_aug_0)),np.zeros(len(x_aug_m))])\n",
    "\n",
    "#     np.save(\"x_vals_all\",x_vals_all)\n",
    "#     np.save(\"y_vals_all\",y_vals_all)"
   ]
  },
  {
   "cell_type": "code",
   "execution_count": 150,
   "id": "281ce20a-e2a0-485f-a59b-3e0e5a9403ce",
   "metadata": {
    "tags": []
   },
   "outputs": [],
   "source": [
    "x_vals_all = np.load(\"x_vals_all.npy\")\n",
    "y_vals_all = np.load(\"y_vals_all.npy\")"
   ]
  },
  {
   "cell_type": "code",
   "execution_count": 151,
   "id": "cad55635-851c-46cc-bbfd-1182f16da2f9",
   "metadata": {
    "tags": []
   },
   "outputs": [],
   "source": [
    "X_train_all, X_val_all, Y_train_all, Y_val_all = train_test_split(x_vals_all, y_vals_all, test_size=0.5)"
   ]
  },
  {
   "cell_type": "code",
   "execution_count": 168,
   "id": "5b5d5d3f-0523-4911-a7d3-d5abaaaa0f3d",
   "metadata": {
    "tags": []
   },
   "outputs": [
    {
     "data": {
      "text/plain": [
       "11492429"
      ]
     },
     "execution_count": 168,
     "metadata": {},
     "output_type": "execute_result"
    }
   ],
   "source": [
    "len(X_train_all)"
   ]
  },
  {
   "cell_type": "code",
   "execution_count": 152,
   "id": "f68541d3-0734-4e4a-ab49-3ad591f31744",
   "metadata": {
    "tags": []
   },
   "outputs": [],
   "source": [
    "model_all = Sequential()\n",
    "model_all.add(Dense(128, input_dim=6, activation='relu'))\n",
    "model_all.add(Dense(128, activation='relu'))\n",
    "model_all.add(Dense(128, activation='relu'))\n",
    "model_all.add(Dense(1, activation='sigmoid'))\n",
    "model_all.compile(loss='binary_crossentropy', optimizer='adam', metrics=['accuracy'])"
   ]
  },
  {
   "cell_type": "code",
   "execution_count": 153,
   "id": "d310961a-6cea-4058-9e5b-3cc3e472a4cb",
   "metadata": {
    "tags": []
   },
   "outputs": [
    {
     "name": "stdout",
     "output_type": "stream",
     "text": [
      "Epoch 1/20\n",
      "4490/4490 [==============================] - 37s 8ms/step - loss: 0.1642 - accuracy: 0.9357 - val_loss: 0.1519 - val_accuracy: 0.9406\n",
      "Epoch 2/20\n",
      "4490/4490 [==============================] - 36s 8ms/step - loss: 0.1518 - accuracy: 0.9406 - val_loss: 0.1515 - val_accuracy: 0.9407\n",
      "Epoch 3/20\n",
      "4490/4490 [==============================] - 36s 8ms/step - loss: 0.1510 - accuracy: 0.9410 - val_loss: 0.1501 - val_accuracy: 0.9413\n",
      "Epoch 4/20\n",
      "4490/4490 [==============================] - 34s 8ms/step - loss: 0.1506 - accuracy: 0.9411 - val_loss: 0.1500 - val_accuracy: 0.9413\n",
      "Epoch 5/20\n",
      "4490/4490 [==============================] - 34s 8ms/step - loss: 0.1504 - accuracy: 0.9412 - val_loss: 0.1505 - val_accuracy: 0.9411\n",
      "Epoch 6/20\n",
      "4490/4490 [==============================] - 35s 8ms/step - loss: 0.1502 - accuracy: 0.9413 - val_loss: 0.1504 - val_accuracy: 0.9411\n",
      "Epoch 7/20\n",
      "4490/4490 [==============================] - 30s 7ms/step - loss: 0.1500 - accuracy: 0.9413 - val_loss: 0.1512 - val_accuracy: 0.9408\n",
      "Epoch 8/20\n",
      "4490/4490 [==============================] - 27s 6ms/step - loss: 0.1499 - accuracy: 0.9414 - val_loss: 0.1500 - val_accuracy: 0.9413\n",
      "Epoch 9/20\n",
      "4490/4490 [==============================] - 35s 8ms/step - loss: 0.1498 - accuracy: 0.9414 - val_loss: 0.1499 - val_accuracy: 0.9414\n",
      "Epoch 10/20\n",
      "4490/4490 [==============================] - 35s 8ms/step - loss: 0.1497 - accuracy: 0.9414 - val_loss: 0.1500 - val_accuracy: 0.9413\n",
      "Epoch 11/20\n",
      "4490/4490 [==============================] - 35s 8ms/step - loss: 0.1496 - accuracy: 0.9414 - val_loss: 0.1497 - val_accuracy: 0.9414\n",
      "Epoch 12/20\n",
      "4490/4490 [==============================] - 34s 8ms/step - loss: 0.1495 - accuracy: 0.9415 - val_loss: 0.1499 - val_accuracy: 0.9413\n",
      "Epoch 13/20\n",
      "4490/4490 [==============================] - 35s 8ms/step - loss: 0.1495 - accuracy: 0.9415 - val_loss: 0.1493 - val_accuracy: 0.9416\n",
      "Epoch 14/20\n",
      "4490/4490 [==============================] - 35s 8ms/step - loss: 0.1494 - accuracy: 0.9416 - val_loss: 0.1496 - val_accuracy: 0.9415\n",
      "Epoch 15/20\n",
      "4490/4490 [==============================] - 35s 8ms/step - loss: 0.1494 - accuracy: 0.9416 - val_loss: 0.1493 - val_accuracy: 0.9416\n",
      "Epoch 16/20\n",
      "4490/4490 [==============================] - 35s 8ms/step - loss: 0.1493 - accuracy: 0.9416 - val_loss: 0.1502 - val_accuracy: 0.9413\n",
      "Epoch 17/20\n",
      "4490/4490 [==============================] - 35s 8ms/step - loss: 0.1492 - accuracy: 0.9416 - val_loss: 0.1498 - val_accuracy: 0.9413\n",
      "Epoch 18/20\n",
      "4490/4490 [==============================] - 35s 8ms/step - loss: 0.1492 - accuracy: 0.9416 - val_loss: 0.1490 - val_accuracy: 0.9417\n",
      "Epoch 19/20\n",
      "4490/4490 [==============================] - 35s 8ms/step - loss: 0.1491 - accuracy: 0.9416 - val_loss: 0.1489 - val_accuracy: 0.9418\n",
      "Epoch 20/20\n",
      "4490/4490 [==============================] - 35s 8ms/step - loss: 0.1491 - accuracy: 0.9417 - val_loss: 0.1491 - val_accuracy: 0.9416\n"
     ]
    }
   ],
   "source": [
    "myhistory_all = model_all.fit(x_vals_all, y_vals_all, epochs=20,validation_data=(X_val_all, Y_val_all),batch_size=1024*5)"
   ]
  },
  {
   "cell_type": "code",
   "execution_count": 156,
   "id": "e3d75fda-1aa3-4175-bf5e-8ea4af80a0b1",
   "metadata": {
    "tags": []
   },
   "outputs": [
    {
     "data": {
      "image/png": "[encoded data removed]",
      "text/plain": [
       "<Figure size 640x480 with 1 Axes>"
      ]
     },
     "metadata": {},
     "output_type": "display_data"
    }
   ],
   "source": [
    "# Plot the training and validation loss\n",
    "plt.plot(myhistory_all.history['loss'])\n",
    "plt.plot(myhistory_all.history['val_loss'])\n",
    "plt.title('Model Loss All')\n",
    "plt.ylabel('Loss')\n",
    "plt.xlabel('Epoch')\n",
    "plt.legend(['loss', 'Validation'], loc='upper right')\n",
    "plt.show()"
   ]
  },
  {
   "cell_type": "code",
   "execution_count": 157,
   "id": "18f227d8-c1bf-40ad-9bc2-93dadc7e9421",
   "metadata": {
    "tags": []
   },
   "outputs": [
    {
     "name": "stdout",
     "output_type": "stream",
     "text": [
      "99/99 [==============================] - 0s 3ms/step\n"
     ]
    }
   ],
   "source": [
    "preds_all = model_all.predict(X_val_all[np.product(X_val_all[:,4:6]==[1.,1.],axis=1)==1],batch_size=1000)"
   ]
  },
  {
   "cell_type": "code",
   "execution_count": 158,
   "id": "669e8b25-00b9-4ed0-9cf1-edc4d2fa55a4",
   "metadata": {
    "tags": []
   },
   "outputs": [],
   "source": [
    "fpr_all, tpr_all, _ = roc_curve(Y_val_all[np.product(X_val_all[:,4:6]==[1.,1.],axis=1)==1], preds_all)"
   ]
  },
  {
   "cell_type": "code",
   "execution_count": 159,
   "id": "f1cb0aa1-9961-4d08-b350-e90d446c85b8",
   "metadata": {
    "tags": []
   },
   "outputs": [
    {
     "name": "stderr",
     "output_type": "stream",
     "text": [
      "/tmp/ipykernel_11109/3810979806.py:1: RuntimeWarning: divide by zero encountered in divide\n",
      "  plt.plot(tpr_100,1./fpr_100,label=\"dedicated\")\n",
      "/tmp/ipykernel_11109/3810979806.py:2: RuntimeWarning: divide by zero encountered in divide\n",
      "  plt.plot(tpr_all,1./fpr_all,label=\"parameterized\")\n"
     ]
    },
    {
     "data": {
      "text/plain": [
       "Text(0.5, 1.0, '$(m_B,m_C) = (100,100)$ GeV')"
      ]
     },
     "execution_count": 159,
     "metadata": {},
     "output_type": "execute_result"
    },
    {
     "data": {
      "image/png": "[encoded data removed]",
      "text/plain": [
       "<Figure size 640x480 with 1 Axes>"
      ]
     },
     "metadata": {},
     "output_type": "display_data"
    }
   ],
   "source": [
    "plt.plot(tpr_100,1./fpr_100,label=\"dedicated\")\n",
    "plt.plot(tpr_all,1./fpr_all,label=\"parameterized\")\n",
    "plt.yscale(\"log\")\n",
    "plt.legend(frameon=False)\n",
    "plt.xlabel(\"TPR\")\n",
    "plt.ylabel(\"1/FPR\")\n",
    "plt.title(\"$(m_B,m_C) = (100,100)$ GeV\")"
   ]
  },
  {
   "cell_type": "code",
   "execution_count": null,
   "id": "0febc038-671d-4a30-b251-2175078206d8",
   "metadata": {},
   "outputs": [],
   "source": []
  }
 ],
 "metadata": {
  "kernelspec": {
   "display_name": "tensorflow-2.9.0",
   "language": "python",
   "name": "tensorflow-2.9.0"
  },
  "language_info": {
   "codemirror_mode": {
    "name": "ipython",
    "version": 3
   },
   "file_extension": ".py",
   "mimetype": "text/x-python",
   "name": "python",
   "nbconvert_exporter": "python",
   "pygments_lexer": "ipython3",
   "version": "3.9.15"
  }
 },
 "nbformat": 4,
 "nbformat_minor": 5
}
