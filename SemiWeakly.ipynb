{
 "cells": [
  {
   "cell_type": "code",
   "execution_count": 17,
   "id": "84b6b372-c1fc-4bfc-bd57-cb869b56af0f",
   "metadata": {
    "tags": []
   },
   "outputs": [],
   "source": [
    "import numpy as np\n",
    "import tensorflow as tf\n",
    "import matplotlib.pyplot as plt\n",
    "\n",
    "from keras.layers import Input, Dense, Dropout, BatchNormalization\n",
    "from keras.models import Model, Sequential\n",
    "\n",
    "from sklearn.model_selection import train_test_split\n",
    "from sklearn import metrics"
   ]
  },
  {
   "cell_type": "code",
   "execution_count": 11,
   "id": "649e940b-e9ff-4522-ae65-3b44946b38f2",
   "metadata": {
    "tags": []
   },
   "outputs": [],
   "source": [
    "mass_range = [0,0.5,1,1.5,2,2.5,3,3.5,4,4.5,5,5.5,6]\n",
    "\n",
    "x = {}\n",
    "x_array_read = np.load(\"x_array.npy\",allow_pickle=True)\n",
    "mycounter = -1\n",
    "for m1 in mass_range:\n",
    "    for m2 in mass_range:\n",
    "        if (m1==0 and m2>0 or m2==0 and m1>0):\n",
    "            continue\n",
    "        mycounter+=1\n",
    "        x[m1,m2] = x_array_read[mycounter]"
   ]
  },
  {
   "cell_type": "code",
   "execution_count": null,
   "id": "1453c9ad-d296-4886-838e-bc087e209669",
   "metadata": {},
   "outputs": [],
   "source": [
    "# x_vals_all = np.load(\"x_vals_all.npy\")\n",
    "# y_vals_all = np.load(\"y_vals_all.npy\")"
   ]
  },
  {
   "cell_type": "code",
   "execution_count": 13,
   "id": "7aa4bae0-9bda-4d9b-abc3-bf77bae185f3",
   "metadata": {
    "tags": []
   },
   "outputs": [],
   "source": [
    "es = tf.keras.callbacks.EarlyStopping(monitor='loss', patience=10)"
   ]
  },
  {
   "cell_type": "code",
   "execution_count": 2,
   "id": "61b945de-3cce-4bc0-a517-afcb467a5cee",
   "metadata": {
    "tags": []
   },
   "outputs": [
    {
     "name": "stderr",
     "output_type": "stream",
     "text": [
      "2023-10-23 12:42:36.595913: I tensorflow/core/platform/cpu_feature_guard.cc:193] This TensorFlow binary is optimized with oneAPI Deep Neural Network Library (oneDNN) to use the following CPU instructions in performance-critical operations:  AVX2 FMA\n",
      "To enable them in other operations, rebuild TensorFlow with the appropriate compiler flags.\n",
      "2023-10-23 12:42:37.265324: I tensorflow/core/common_runtime/gpu/gpu_device.cc:1532] Created device /job:localhost/replica:0/task:0/device:GPU:0 with 778 MB memory:  -> device: 0, name: NVIDIA A100-PCIE-40GB, pci bus id: 0000:c3:00.0, compute capability: 8.0\n"
     ]
    }
   ],
   "source": [
    "model_all_BCE = tf.keras.models.load_model(\"model_all_BCE_3_4096\")\n",
    "model_all_MSE = tf.keras.models.load_model(\"model_all_MSE_3_4096\")"
   ]
  },
  {
   "cell_type": "code",
   "execution_count": 3,
   "id": "9e39e348-2b2b-4234-acf1-49912b7b3b60",
   "metadata": {
    "tags": []
   },
   "outputs": [],
   "source": [
    "def createSimpleModel(weight):\n",
    "    input_layer = tf.keras.Input(shape=(1,))\n",
    "    simple_model = Dense(1,use_bias = False,activation=\"relu\",\n",
    "                         kernel_initializer=tf.keras.initializers.Constant(weight))(input_layer)\n",
    "    model = Model(inputs=input_layer, outputs=simple_model)\n",
    "    return model"
   ]
  },
  {
   "cell_type": "markdown",
   "id": "af7ea809-3fcf-489f-b5aa-246be0cdc50b",
   "metadata": {},
   "source": [
    "4 Features 2 Parameter Semi Weakly Supervised Model"
   ]
  },
  {
   "cell_type": "code",
   "execution_count": 33,
   "id": "9059fbb5-4a5a-46f2-b1bd-93cdd273fcc4",
   "metadata": {
    "tags": []
   },
   "outputs": [
    {
     "name": "stdout",
     "output_type": "stream",
     "text": [
      "Signal Fraction:  0.001\n",
      "30232 90698 30 0.0009923260121725325\n",
      "Epoch 1/20\n",
      "30/30 [==============================] - 1s 12ms/step - loss: 0.2500 - val_loss: 0.2500\n",
      "Epoch 2/20\n",
      "30/30 [==============================] - 0s 8ms/step - loss: 0.2500 - val_loss: 0.2500\n",
      "Epoch 3/20\n",
      "30/30 [==============================] - 0s 7ms/step - loss: 0.2500 - val_loss: 0.2500\n",
      "Epoch 4/20\n",
      "30/30 [==============================] - 0s 6ms/step - loss: 0.2500 - val_loss: 0.2500\n",
      "Epoch 5/20\n",
      "30/30 [==============================] - 0s 6ms/step - loss: 0.2500 - val_loss: 0.2500\n",
      "Epoch 6/20\n",
      "30/30 [==============================] - 0s 6ms/step - loss: 0.2500 - val_loss: 0.2500\n",
      "Epoch 7/20\n",
      "30/30 [==============================] - 0s 6ms/step - loss: 0.2500 - val_loss: 0.2500\n",
      "Epoch 8/20\n",
      "30/30 [==============================] - 0s 6ms/step - loss: 0.2500 - val_loss: 0.2500\n",
      "Epoch 9/20\n",
      "30/30 [==============================] - 0s 6ms/step - loss: 0.2500 - val_loss: 0.2500\n",
      "Epoch 10/20\n",
      "30/30 [==============================] - 0s 6ms/step - loss: 0.2500 - val_loss: 0.2500\n",
      "Epoch 11/20\n",
      "30/30 [==============================] - 0s 6ms/step - loss: 0.2500 - val_loss: 0.2500\n",
      "Epoch 12/20\n",
      "30/30 [==============================] - 0s 6ms/step - loss: 0.2500 - val_loss: 0.2500\n",
      "Epoch 13/20\n",
      "30/30 [==============================] - 0s 6ms/step - loss: 0.2500 - val_loss: 0.2500\n",
      "Epoch 14/20\n",
      "30/30 [==============================] - 0s 6ms/step - loss: 0.2500 - val_loss: 0.2500\n",
      "Epoch 15/20\n",
      "30/30 [==============================] - 0s 6ms/step - loss: 0.2500 - val_loss: 0.2500\n",
      "Epoch 16/20\n",
      "30/30 [==============================] - 0s 6ms/step - loss: 0.2500 - val_loss: 0.2500\n",
      "Epoch 17/20\n",
      "30/30 [==============================] - 0s 6ms/step - loss: 0.2500 - val_loss: 0.2500\n",
      "Epoch 18/20\n",
      "30/30 [==============================] - 0s 6ms/step - loss: 0.2500 - val_loss: 0.2500\n",
      "Epoch 19/20\n",
      "30/30 [==============================] - 0s 7ms/step - loss: 0.2500 - val_loss: 0.2500\n",
      "Epoch 20/20\n",
      "30/30 [==============================] - 0s 7ms/step - loss: 0.2500 - val_loss: 0.2500\n",
      "4.5 6 2.3956597 2.9587343\n",
      "60/60 [==============================] - 0s 1ms/step\n",
      "Signal Fraction:  0.0012742749857031334\n",
      "30232 90698 38 0.0012569462820852077\n",
      "Epoch 1/20\n",
      "30/30 [==============================] - 1s 13ms/step - loss: 0.2500 - val_loss: 0.2500\n",
      "Epoch 2/20\n",
      "30/30 [==============================] - 0s 6ms/step - loss: 0.2500 - val_loss: 0.2500\n",
      "Epoch 3/20\n",
      "30/30 [==============================] - 0s 6ms/step - loss: 0.2500 - val_loss: 0.2500\n",
      "Epoch 4/20\n",
      "30/30 [==============================] - 0s 6ms/step - loss: 0.2500 - val_loss: 0.2500\n",
      "Epoch 5/20\n",
      "30/30 [==============================] - 0s 6ms/step - loss: 0.2500 - val_loss: 0.2500\n",
      "Epoch 6/20\n",
      "30/30 [==============================] - 0s 6ms/step - loss: 0.2500 - val_loss: 0.2500\n",
      "Epoch 7/20\n",
      "30/30 [==============================] - 0s 7ms/step - loss: 0.2500 - val_loss: 0.2500\n",
      "Epoch 8/20\n",
      "30/30 [==============================] - 0s 6ms/step - loss: 0.2500 - val_loss: 0.2500\n",
      "Epoch 9/20\n",
      "30/30 [==============================] - 0s 6ms/step - loss: 0.2500 - val_loss: 0.2500\n",
      "Epoch 10/20\n",
      "30/30 [==============================] - 0s 6ms/step - loss: 0.2500 - val_loss: 0.2500\n",
      "Epoch 11/20\n",
      "30/30 [==============================] - 0s 6ms/step - loss: 0.2500 - val_loss: 0.2500\n",
      "Epoch 12/20\n",
      "30/30 [==============================] - 0s 6ms/step - loss: 0.2500 - val_loss: 0.2500\n",
      "Epoch 13/20\n",
      "30/30 [==============================] - 0s 6ms/step - loss: 0.2500 - val_loss: 0.2500\n",
      "Epoch 14/20\n",
      "30/30 [==============================] - 0s 6ms/step - loss: 0.2500 - val_loss: 0.2500\n",
      "Epoch 15/20\n",
      "30/30 [==============================] - 0s 7ms/step - loss: 0.2500 - val_loss: 0.2500\n",
      "Epoch 16/20\n",
      "30/30 [==============================] - 0s 6ms/step - loss: 0.2500 - val_loss: 0.2500\n",
      "Epoch 17/20\n",
      "30/30 [==============================] - 0s 6ms/step - loss: 0.2500 - val_loss: 0.2500\n",
      "Epoch 18/20\n",
      "30/30 [==============================] - 0s 6ms/step - loss: 0.2500 - val_loss: 0.2500\n",
      "Epoch 19/20\n",
      "30/30 [==============================] - 0s 6ms/step - loss: 0.2500 - val_loss: 0.2500\n",
      "Epoch 20/20\n",
      "20/30 [===================>..........] - ETA: 0s - loss: 0.2500"
     ]
    },
    {
     "ename": "KeyboardInterrupt",
     "evalue": "",
     "output_type": "error",
     "traceback": [
      "\u001b[0;31m---------------------------------------------------------------------------\u001b[0m",
      "\u001b[0;31mKeyboardInterrupt\u001b[0m                         Traceback (most recent call last)",
      "Cell \u001b[0;32mIn[33], line 55\u001b[0m\n\u001b[1;32m     51\u001b[0m \u001b[38;5;28mprint\u001b[39m(train_reference,\u001b[38;5;28mlen\u001b[39m(x[\u001b[38;5;241m0\u001b[39m,\u001b[38;5;241m0\u001b[39m])\u001b[38;5;241m-\u001b[39mtrain_reference,\u001b[38;5;28mlen\u001b[39m(x[m1,m2][\u001b[38;5;241m0\u001b[39m:\u001b[38;5;28mint\u001b[39m(sigfrac\u001b[38;5;241m*\u001b[39mtrain_reference)]),\u001b[38;5;28mlen\u001b[39m(x[m1,m2][\u001b[38;5;241m0\u001b[39m:\u001b[38;5;28mint\u001b[39m(sigfrac\u001b[38;5;241m*\u001b[39mtrain_reference)])\u001b[38;5;241m/\u001b[39mtrain_reference)\n\u001b[1;32m     53\u001b[0m X_train_, X_val_, Y_train_, Y_val_ \u001b[38;5;241m=\u001b[39m train_test_split(x_vals_, y_vals_, test_size\u001b[38;5;241m=\u001b[39m\u001b[38;5;241m0.5\u001b[39m)\n\u001b[0;32m---> 55\u001b[0m myhistory_hack_ \u001b[38;5;241m=\u001b[39m \u001b[43mmodel_all2\u001b[49m\u001b[38;5;241;43m.\u001b[39;49m\u001b[43mfit\u001b[49m\u001b[43m(\u001b[49m\u001b[43mX_train_\u001b[49m\u001b[43m[\u001b[49m\u001b[43m:\u001b[49m\u001b[43m,\u001b[49m\u001b[38;5;241;43m0\u001b[39;49m\u001b[43m:\u001b[49m\u001b[38;5;241;43m4\u001b[39;49m\u001b[43m]\u001b[49m\u001b[43m,\u001b[49m\u001b[43m \u001b[49m\u001b[43mY_train_\u001b[49m\u001b[43m,\u001b[49m\u001b[43m \u001b[49m\u001b[43mepochs\u001b[49m\u001b[38;5;241;43m=\u001b[39;49m\u001b[38;5;241;43m20\u001b[39;49m\u001b[43m,\u001b[49m\u001b[43mvalidation_data\u001b[49m\u001b[38;5;241;43m=\u001b[39;49m\u001b[43m(\u001b[49m\u001b[43mX_val_\u001b[49m\u001b[43m[\u001b[49m\u001b[43m:\u001b[49m\u001b[43m,\u001b[49m\u001b[38;5;241;43m0\u001b[39;49m\u001b[43m:\u001b[49m\u001b[38;5;241;43m4\u001b[39;49m\u001b[43m]\u001b[49m\u001b[43m,\u001b[49m\u001b[43m \u001b[49m\u001b[43mY_val_\u001b[49m\u001b[43m)\u001b[49m\u001b[43m,\u001b[49m\u001b[43mbatch_size\u001b[49m\u001b[38;5;241;43m=\u001b[39;49m\u001b[38;5;241;43m1024\u001b[39;49m\u001b[43m)\u001b[49m\n\u001b[1;32m     57\u001b[0m sig_list\u001b[38;5;241m+\u001b[39m\u001b[38;5;241m=\u001b[39m[sigfrac]\n\u001b[1;32m     58\u001b[0m w1_list\u001b[38;5;241m+\u001b[39m\u001b[38;5;241m=\u001b[39m[model_all2\u001b[38;5;241m.\u001b[39mtrainable_weights[\u001b[38;5;241m0\u001b[39m]\u001b[38;5;241m.\u001b[39mnumpy()[\u001b[38;5;241m0\u001b[39m][\u001b[38;5;241m0\u001b[39m]]\n",
      "File \u001b[0;32m/global/common/software/nersc/pm-2022q4/sw/tensorflow/2.9.0/lib/python3.9/site-packages/keras/utils/traceback_utils.py:64\u001b[0m, in \u001b[0;36mfilter_traceback.<locals>.error_handler\u001b[0;34m(*args, **kwargs)\u001b[0m\n\u001b[1;32m     62\u001b[0m filtered_tb \u001b[38;5;241m=\u001b[39m \u001b[38;5;28;01mNone\u001b[39;00m\n\u001b[1;32m     63\u001b[0m \u001b[38;5;28;01mtry\u001b[39;00m:\n\u001b[0;32m---> 64\u001b[0m   \u001b[38;5;28;01mreturn\u001b[39;00m \u001b[43mfn\u001b[49m\u001b[43m(\u001b[49m\u001b[38;5;241;43m*\u001b[39;49m\u001b[43margs\u001b[49m\u001b[43m,\u001b[49m\u001b[43m \u001b[49m\u001b[38;5;241;43m*\u001b[39;49m\u001b[38;5;241;43m*\u001b[39;49m\u001b[43mkwargs\u001b[49m\u001b[43m)\u001b[49m\n\u001b[1;32m     65\u001b[0m \u001b[38;5;28;01mexcept\u001b[39;00m \u001b[38;5;167;01mException\u001b[39;00m \u001b[38;5;28;01mas\u001b[39;00m e:  \u001b[38;5;66;03m# pylint: disable=broad-except\u001b[39;00m\n\u001b[1;32m     66\u001b[0m   filtered_tb \u001b[38;5;241m=\u001b[39m _process_traceback_frames(e\u001b[38;5;241m.\u001b[39m__traceback__)\n",
      "File \u001b[0;32m/global/common/software/nersc/pm-2022q4/sw/tensorflow/2.9.0/lib/python3.9/site-packages/keras/engine/training.py:1445\u001b[0m, in \u001b[0;36mModel.fit\u001b[0;34m(self, x, y, batch_size, epochs, verbose, callbacks, validation_split, validation_data, shuffle, class_weight, sample_weight, initial_epoch, steps_per_epoch, validation_steps, validation_batch_size, validation_freq, max_queue_size, workers, use_multiprocessing)\u001b[0m\n\u001b[1;32m   1431\u001b[0m \u001b[38;5;28;01mif\u001b[39;00m \u001b[38;5;28mgetattr\u001b[39m(\u001b[38;5;28mself\u001b[39m, \u001b[38;5;124m'\u001b[39m\u001b[38;5;124m_eval_data_handler\u001b[39m\u001b[38;5;124m'\u001b[39m, \u001b[38;5;28;01mNone\u001b[39;00m) \u001b[38;5;129;01mis\u001b[39;00m \u001b[38;5;28;01mNone\u001b[39;00m:\n\u001b[1;32m   1432\u001b[0m   \u001b[38;5;28mself\u001b[39m\u001b[38;5;241m.\u001b[39m_eval_data_handler \u001b[38;5;241m=\u001b[39m data_adapter\u001b[38;5;241m.\u001b[39mget_data_handler(\n\u001b[1;32m   1433\u001b[0m       x\u001b[38;5;241m=\u001b[39mval_x,\n\u001b[1;32m   1434\u001b[0m       y\u001b[38;5;241m=\u001b[39mval_y,\n\u001b[0;32m   (...)\u001b[0m\n\u001b[1;32m   1443\u001b[0m       model\u001b[38;5;241m=\u001b[39m\u001b[38;5;28mself\u001b[39m,\n\u001b[1;32m   1444\u001b[0m       steps_per_execution\u001b[38;5;241m=\u001b[39m\u001b[38;5;28mself\u001b[39m\u001b[38;5;241m.\u001b[39m_steps_per_execution)\n\u001b[0;32m-> 1445\u001b[0m val_logs \u001b[38;5;241m=\u001b[39m \u001b[38;5;28;43mself\u001b[39;49m\u001b[38;5;241;43m.\u001b[39;49m\u001b[43mevaluate\u001b[49m\u001b[43m(\u001b[49m\n\u001b[1;32m   1446\u001b[0m \u001b[43m    \u001b[49m\u001b[43mx\u001b[49m\u001b[38;5;241;43m=\u001b[39;49m\u001b[43mval_x\u001b[49m\u001b[43m,\u001b[49m\n\u001b[1;32m   1447\u001b[0m \u001b[43m    \u001b[49m\u001b[43my\u001b[49m\u001b[38;5;241;43m=\u001b[39;49m\u001b[43mval_y\u001b[49m\u001b[43m,\u001b[49m\n\u001b[1;32m   1448\u001b[0m \u001b[43m    \u001b[49m\u001b[43msample_weight\u001b[49m\u001b[38;5;241;43m=\u001b[39;49m\u001b[43mval_sample_weight\u001b[49m\u001b[43m,\u001b[49m\n\u001b[1;32m   1449\u001b[0m \u001b[43m    \u001b[49m\u001b[43mbatch_size\u001b[49m\u001b[38;5;241;43m=\u001b[39;49m\u001b[43mvalidation_batch_size\u001b[49m\u001b[43m \u001b[49m\u001b[38;5;129;43;01mor\u001b[39;49;00m\u001b[43m \u001b[49m\u001b[43mbatch_size\u001b[49m\u001b[43m,\u001b[49m\n\u001b[1;32m   1450\u001b[0m \u001b[43m    \u001b[49m\u001b[43msteps\u001b[49m\u001b[38;5;241;43m=\u001b[39;49m\u001b[43mvalidation_steps\u001b[49m\u001b[43m,\u001b[49m\n\u001b[1;32m   1451\u001b[0m \u001b[43m    \u001b[49m\u001b[43mcallbacks\u001b[49m\u001b[38;5;241;43m=\u001b[39;49m\u001b[43mcallbacks\u001b[49m\u001b[43m,\u001b[49m\n\u001b[1;32m   1452\u001b[0m \u001b[43m    \u001b[49m\u001b[43mmax_queue_size\u001b[49m\u001b[38;5;241;43m=\u001b[39;49m\u001b[43mmax_queue_size\u001b[49m\u001b[43m,\u001b[49m\n\u001b[1;32m   1453\u001b[0m \u001b[43m    \u001b[49m\u001b[43mworkers\u001b[49m\u001b[38;5;241;43m=\u001b[39;49m\u001b[43mworkers\u001b[49m\u001b[43m,\u001b[49m\n\u001b[1;32m   1454\u001b[0m \u001b[43m    \u001b[49m\u001b[43muse_multiprocessing\u001b[49m\u001b[38;5;241;43m=\u001b[39;49m\u001b[43muse_multiprocessing\u001b[49m\u001b[43m,\u001b[49m\n\u001b[1;32m   1455\u001b[0m \u001b[43m    \u001b[49m\u001b[43mreturn_dict\u001b[49m\u001b[38;5;241;43m=\u001b[39;49m\u001b[38;5;28;43;01mTrue\u001b[39;49;00m\u001b[43m,\u001b[49m\n\u001b[1;32m   1456\u001b[0m \u001b[43m    \u001b[49m\u001b[43m_use_cached_eval_dataset\u001b[49m\u001b[38;5;241;43m=\u001b[39;49m\u001b[38;5;28;43;01mTrue\u001b[39;49;00m\u001b[43m)\u001b[49m\n\u001b[1;32m   1457\u001b[0m val_logs \u001b[38;5;241m=\u001b[39m {\u001b[38;5;124m'\u001b[39m\u001b[38;5;124mval_\u001b[39m\u001b[38;5;124m'\u001b[39m \u001b[38;5;241m+\u001b[39m name: val \u001b[38;5;28;01mfor\u001b[39;00m name, val \u001b[38;5;129;01min\u001b[39;00m val_logs\u001b[38;5;241m.\u001b[39mitems()}\n\u001b[1;32m   1458\u001b[0m epoch_logs\u001b[38;5;241m.\u001b[39mupdate(val_logs)\n",
      "File \u001b[0;32m/global/common/software/nersc/pm-2022q4/sw/tensorflow/2.9.0/lib/python3.9/site-packages/keras/utils/traceback_utils.py:64\u001b[0m, in \u001b[0;36mfilter_traceback.<locals>.error_handler\u001b[0;34m(*args, **kwargs)\u001b[0m\n\u001b[1;32m     62\u001b[0m filtered_tb \u001b[38;5;241m=\u001b[39m \u001b[38;5;28;01mNone\u001b[39;00m\n\u001b[1;32m     63\u001b[0m \u001b[38;5;28;01mtry\u001b[39;00m:\n\u001b[0;32m---> 64\u001b[0m   \u001b[38;5;28;01mreturn\u001b[39;00m \u001b[43mfn\u001b[49m\u001b[43m(\u001b[49m\u001b[38;5;241;43m*\u001b[39;49m\u001b[43margs\u001b[49m\u001b[43m,\u001b[49m\u001b[43m \u001b[49m\u001b[38;5;241;43m*\u001b[39;49m\u001b[38;5;241;43m*\u001b[39;49m\u001b[43mkwargs\u001b[49m\u001b[43m)\u001b[49m\n\u001b[1;32m     65\u001b[0m \u001b[38;5;28;01mexcept\u001b[39;00m \u001b[38;5;167;01mException\u001b[39;00m \u001b[38;5;28;01mas\u001b[39;00m e:  \u001b[38;5;66;03m# pylint: disable=broad-except\u001b[39;00m\n\u001b[1;32m     66\u001b[0m   filtered_tb \u001b[38;5;241m=\u001b[39m _process_traceback_frames(e\u001b[38;5;241m.\u001b[39m__traceback__)\n",
      "\u001b[0;31mKeyboardInterrupt\u001b[0m: "
     ]
    }
   ],
   "source": [
    "sig_list = []\n",
    "w1_list = []\n",
    "w2_list = []\n",
    "w3_list = []\n",
    "\n",
    "max_SIC1 = []\n",
    "max_SIC2 = []\n",
    "\n",
    "test_list = []\n",
    "\n",
    "epsilon = 1e-6\n",
    "\n",
    "sig_space = np.logspace(-3, -1, 20)\n",
    "for sigfrac in sig_space:\n",
    "    print(\"Signal Fraction: \", sigfrac)\n",
    "    for l in model_all_MSE.layers:\n",
    "        l.trainable=False\n",
    "\n",
    "    model3 = createSimpleModel(2)\n",
    "    model32 = createSimpleModel(3)\n",
    "\n",
    "    inputs_hold3 = tf.keras.Input(shape=(1,))\n",
    "    simple_model3 = tf.exp(Dense(1,use_bias = False,activation='linear',kernel_initializer=tf.keras.initializers.Constant(-1))(inputs_hold3))\n",
    "    model33 = Model(inputs = inputs_hold3, outputs = simple_model3)\n",
    "\n",
    "    inputs = tf.keras.Input(shape=(4,))\n",
    "    inputs2 = tf.keras.layers.concatenate([inputs,model3(tf.ones_like(inputs)[:,0]),model32(tf.ones_like(inputs)[:,0])])\n",
    "    hidden_layer_1 = model_all_MSE(inputs2)\n",
    "    LLR = hidden_layer_1 / (1.-hidden_layer_1 + epsilon)\n",
    "    LLR_xs = 1 + sigfrac*LLR\n",
    "    #LLR_xs = 1. + model33(tf.ones_like(inputs)[:,0]) * LLR\n",
    "    ws = LLR_xs / (1.+ LLR_xs)\n",
    "    model_all2 = Model(inputs = inputs, outputs = ws)\n",
    "    model_all2.compile(loss=tf.keras.losses.MeanSquaredError(), optimizer=tf.keras.optimizers.Adam(learning_rate = 0.01))\n",
    "\n",
    "    m1 = 4.5\n",
    "    m2 = 6\n",
    "\n",
    "    test_background = int(1/2 *len(x[0,0]))\n",
    "    train_background = int(1/4 * len(x[0,0]))\n",
    "    train_data = int(1/4 * len(x[0,0]))\n",
    "    train_reference = int(1/4 * len(x[0,0]))\n",
    "    #signal\n",
    "    test_signal_length = int(1/2*len(x[m1,m2]))\n",
    "    N = int(1/4 * (len(x[0,0])))\n",
    "    signal = x[m1, m2][test_signal_length:test_signal_length + int(sigfrac*N)]\n",
    "\n",
    "    x_vals_ = np.concatenate([x[0,0][test_background:],signal])\n",
    "    #[reference (1), data_background (0), signal(0)]\n",
    "    y_vals_ = np.concatenate([np.zeros(train_reference),np.ones(train_data + 1),np.ones(len(signal))])\n",
    "    print(train_reference,len(x[0,0])-train_reference,len(x[m1,m2][0:int(sigfrac*train_reference)]),len(x[m1,m2][0:int(sigfrac*train_reference)])/train_reference)\n",
    "\n",
    "    X_train_, X_val_, Y_train_, Y_val_ = train_test_split(x_vals_, y_vals_, test_size=0.5)\n",
    "\n",
    "    myhistory_hack_ = model_all2.fit(X_train_[:,0:4], Y_train_, epochs=20,validation_data=(X_val_[:,0:4], Y_val_),batch_size=1024)\n",
    "\n",
    "    sig_list+=[sigfrac]\n",
    "    w1_list+=[model_all2.trainable_weights[0].numpy()[0][0]]\n",
    "    w2_list+=[model_all2.trainable_weights[1].numpy()[0][0]]\n",
    "    #w3_list+=[np.exp(model_all2.trainable_weights[2].numpy()[0][0])]\n",
    "\n",
    "    print(m1, m2,model_all2.trainable_weights[0].numpy()[0][0],model_all2.trainable_weights[1].numpy()[0][0])\n",
    "\n",
    "    scores = model_all2.predict(np.concatenate([x[0,0][0:train_background],x[m1,m2][0:test_signal_length]]),batch_size=1024)\n",
    "    y = np.concatenate([np.zeros(train_background),np.ones(test_signal_length)])\n",
    "    fpr, tpr, _ = metrics.roc_curve(y, scores)\n",
    "    \n",
    "    #CWOLA\n",
    "#     model_cwola = Sequential()\n",
    "#     model_cwola.add(Dense(128, input_dim=4, activation='relu'))\n",
    "#     model_cwola.add(Dense(128, activation='relu'))\n",
    "#     model_cwola.add(Dense(128, activation='relu'))\n",
    "#     model_cwola.add(Dense(1, activation='sigmoid'))\n",
    "#     model_cwola.compile(loss='binary_crossentropy', optimizer='adam', metrics=['accuracy'])\n",
    "#     myhistory_cwola = model_cwola.fit(X_train_[:,0:4], Y_train_, epochs=10,validation_data=(X_val_[:,0:4], Y_val_),batch_size=1024)\n",
    "    \n",
    "#     scores2 = model_cwola.predict(np.concatenate([x[0,0][0:test_background],x[m1,m2][0:test_signal_length]]),batch_size=1024)\n",
    "#     y2 = np.concatenate([np.zeros(test_background),np.ones(test_signal_length)])\n",
    "#     fpr2, tpr2, _ = metrics.roc_curve(y2, scores2)\n",
    "#     plt.plot(tpr,tpr/np.sqrt(fpr + epsilon))\n",
    "#     plt.plot(tpr2,tpr2/np.sqrt(fpr2 + epsilon))\n",
    "    \n",
    "#     max_SIC1+=[np.max(tpr/np.sqrt(fpr+epsilon))]\n",
    "#     max_SIC2+=[np.max(tpr2/np.sqrt(fpr2+epsilon))]"
   ]
  },
  {
   "cell_type": "code",
   "execution_count": 32,
   "id": "8185494f-da19-4158-876d-3e9c56ecae87",
   "metadata": {
    "tags": []
   },
   "outputs": [
    {
     "data": {
      "text/plain": [
       "(0.0, 700.0)"
      ]
     },
     "execution_count": 32,
     "metadata": {},
     "output_type": "execute_result"
    },
    {
     "data": {
      "image/png": "[encoded data removed]",
      "text/plain": [
       "<Figure size 640x480 with 1 Axes>"
      ]
     },
     "metadata": {},
     "output_type": "display_data"
    }
   ],
   "source": [
    "plt.plot(sig_list,np.array(w1_list)*100)\n",
    "plt.plot(sig_list,np.array(w2_list)*100)\n",
    "plt.xscale(\"log\")\n",
    "plt.xlabel(\"S/B\")\n",
    "plt.ylabel(\"Fitted masses [GeV]\")\n",
    "plt.title(\"Trainable Weights vs Signal Fractions MSE (3 params)\")\n",
    "plt.axhline(m2 * 100,ls=\":\",color='orange')\n",
    "plt.axhline(m1 * 100,ls=\":\",color='blue')\n",
    "#plt.legend()\n",
    "plt.ylim([0,700])"
   ]
  },
  {
   "cell_type": "code",
   "execution_count": 19,
   "id": "7e7ba6c3-ac44-4e81-a9f6-251434e2c8b0",
   "metadata": {
    "tags": []
   },
   "outputs": [
    {
     "data": {
      "text/plain": [
       "Text(0.5, 1.0, 'S/B vs Fitted S/B')"
      ]
     },
     "execution_count": 19,
     "metadata": {},
     "output_type": "execute_result"
    },
    {
     "data": {
      "image/png": "[encoded data removed]",
      "text/plain": [
       "<Figure size 640x480 with 1 Axes>"
      ]
     },
     "metadata": {},
     "output_type": "display_data"
    }
   ],
   "source": [
    "plt.plot(sig_list,np.array(w3_list))\n",
    "plt.xscale(\"log\")\n",
    "plt.yscale(\"log\")\n",
    "plt.plot(sig_list,sig_list,ls=\":\",color=\"black\")\n",
    "plt.xlabel(\"S/B\")\n",
    "plt.ylabel(\"Fitted S/B\")\n",
    "plt.title(\"S/B vs Fitted S/B\")"
   ]
  },
  {
   "cell_type": "code",
   "execution_count": null,
   "id": "bc8245bd-5303-4a9e-90ad-c80189156882",
   "metadata": {},
   "outputs": [],
   "source": [
    "sig_list = []\n",
    "w1_list = []\n",
    "w2_list = []\n",
    "w3_list = []\n",
    "\n",
    "max_SIC1 = []\n",
    "max_SIC2 = []\n",
    "\n",
    "test_list = []\n",
    "\n",
    "epsilon = 1e-6\n",
    "\n",
    "sig_space = np.logspace(-3, -1, 20)\n",
    "print(sigfrac)\n",
    "#for sigfrac in sig_space:\n",
    "    #print(\"Signal Fraction: \", sigfrac)\n",
    "for l in model_all_MSE.layers:\n",
    "    l.trainable=False\n",
    "\n",
    "model3 = createSimpleModel(3)\n",
    "model32 = createSimpleModel(5)\n",
    "\n",
    "inputs_hold3 = tf.keras.Input(shape=(1,))\n",
    "simple_model3 = tf.exp(Dense(1,use_bias = False,activation='linear',kernel_initializer=tf.keras.initializers.Constant(-1))(inputs_hold3))\n",
    "model33 = Model(inputs = inputs_hold3, outputs = simple_model3)\n",
    "\n",
    "inputs = tf.keras.Input(shape=(4,))\n",
    "inputs2 = tf.keras.layers.concatenate([inputs,model3(tf.ones_like(inputs)[:,0]),model32(tf.ones_like(inputs)[:,0])])\n",
    "hidden_layer_1 = model_all_MSE(inputs2)\n",
    "LLR = hidden_layer_1 / (1.-hidden_layer_1 + epsilon)\n",
    "#LLR_xs = 1 + sigfrac*LLR - sigfrac\n",
    "LLR_xs = 1. + model33(tf.ones_like(inputs)[:,0]) * LLR\n",
    "ws = LLR_xs / (1.+ LLR_xs)\n",
    "model_all2 = Model(inputs = inputs, outputs = ws)\n",
    "model_all2.compile(loss=tf.keras.losses.MeanSquaredError(), optimizer=tf.keras.optimizers.Adam(learning_rate = 0.01))\n",
    "\n",
    "m1 = 4.5\n",
    "m2 = 6\n",
    "\n",
    "test_background = int(1/2 *len(x[0,0]))\n",
    "train_background = int(1/4 * len(x[0,0]))\n",
    "train_data = int(1/4 * len(x[0,0]))\n",
    "train_reference = int(1/4 * len(x[0,0]))\n",
    "#signal\n",
    "test_signal_length = int(1/2*len(x[m1,m2]))\n",
    "N = int(1/4 * (len(x[0,0])))\n",
    "signal = x[m1, m2][test_signal_length:test_signal_length + int(sigfrac*N)]\n",
    "\n",
    "x_vals_ = np.concatenate([x[0,0][test_background:],signal])\n",
    "#[reference (1), data_background (0), signal(0)]\n",
    "y_vals_ = np.concatenate([np.zeros(train_reference),np.ones(train_data + 1),np.ones(len(signal))])\n",
    "print(train_reference,len(x[0,0])-train_reference,len(x[m1,m2][0:int(sigfrac*train_reference)]),len(x[m1,m2][0:int(sigfrac*train_reference)])/train_reference)\n",
    "\n",
    "X_train_, X_val_, Y_train_, Y_val_ = train_test_split(x_vals_, y_vals_, test_size=0.5)\n",
    "\n",
    "myhistory_hack_ = model_all2.fit(X_train_[:,0:4], Y_train_, epochs=20,validation_data=(X_val_[:,0:4], Y_val_),batch_size=1024)\n",
    "\n",
    "sig_list+=[sigfrac]\n",
    "w1_list+=[model_all2.trainable_weights[0].numpy()[0][0]]\n",
    "w2_list+=[model_all2.trainable_weights[1].numpy()[0][0]]\n",
    "w3_list+=[np.exp(model_all2.trainable_weights[2].numpy()[0][0])]\n",
    "\n",
    "print(m1, m2,model_all2.trainable_weights[0].numpy()[0][0],model_all2.trainable_weights[1].numpy()[0][0])\n",
    "\n",
    "scores = model_all2.predict(np.concatenate([x[0,0][0:train_background],x[m1,m2][0:test_signal_length]]),batch_size=1024)\n",
    "y = np.concatenate([np.zeros(train_background),np.ones(test_signal_length)])\n",
    "fpr, tpr, _ = metrics.roc_curve(y, scores)\n",
    "    \n",
    "    #CWOLA\n",
    "#     model_cwola = Sequential()\n",
    "#     model_cwola.add(Dense(128, input_dim=4, activation='relu'))\n",
    "#     model_cwola.add(Dense(128, activation='relu'))\n",
    "#     model_cwola.add(Dense(128, activation='relu'))\n",
    "#     model_cwola.add(Dense(1, activation='sigmoid'))\n",
    "#     model_cwola.compile(loss='binary_crossentropy', optimizer='adam', metrics=['accuracy'])\n",
    "#     myhistory_cwola = model_cwola.fit(X_train_[:,0:4], Y_train_, epochs=10,validation_data=(X_val_[:,0:4], Y_val_),batch_size=1024)\n",
    "    \n",
    "#     scores2 = model_cwola.predict(np.concatenate([x[0,0][0:test_background],x[m1,m2][0:test_signal_length]]),batch_size=1024)\n",
    "#     y2 = np.concatenate([np.zeros(test_background),np.ones(test_signal_length)])\n",
    "#     fpr2, tpr2, _ = metrics.roc_curve(y2, scores2)\n",
    "#     plt.plot(tpr,tpr/np.sqrt(fpr + epsilon))\n",
    "#     plt.plot(tpr2,tpr2/np.sqrt(fpr2 + epsilon))\n",
    "    \n",
    "#     max_SIC1+=[np.max(tpr/np.sqrt(fpr+epsilon))]\n",
    "#     max_SIC2+=[np.max(tpr2/np.sqrt(fpr2+epsilon))]"
   ]
  },
  {
   "cell_type": "code",
   "execution_count": null,
   "id": "59389ccc-9524-4d46-989c-4b7ae7fe735f",
   "metadata": {},
   "outputs": [],
   "source": [
    "plt.plot(sig_list,np.array(w1_list)*100)\n",
    "plt.plot(sig_list,np.array(w2_list)*100)\n",
    "plt.xscale(\"log\")\n",
    "plt.xlabel(\"S/B\")\n",
    "plt.ylabel(\"Fitted masses [GeV]\")\n",
    "plt.title(\"Trainable Weights vs Signal Fractions MSE (3 params)\")\n",
    "plt.axhline(m2 * 100,ls=\":\",color='orange')\n",
    "plt.axhline(m1 * 100,ls=\":\",color='blue')\n",
    "#plt.legend()\n",
    "plt.ylim([0,700])"
   ]
  },
  {
   "cell_type": "code",
   "execution_count": null,
   "id": "5aaf7a4f-4c06-4da7-a696-740ae3b32477",
   "metadata": {},
   "outputs": [],
   "source": [
    "plt.plot(sig_list,np.array(w3_list))\n",
    "plt.xscale(\"log\")\n",
    "plt.yscale(\"log\")\n",
    "plt.plot(sig_list,sig_list,ls=\":\",color=\"black\")\n",
    "plt.xlabel(\"S/B\")\n",
    "plt.ylabel(\"Fitted S/B\")\n",
    "plt.title(\"S/B vs Fitted S/B\")"
   ]
  },
  {
   "cell_type": "code",
   "execution_count": null,
   "id": "d741031c-4b43-4563-b46e-469eb61d8959",
   "metadata": {},
   "outputs": [],
   "source": [
    "plt.plot(sig_list,max_SIC1,label=\"Weakly, Semisupervised\")\n",
    "plt.plot(sig_list,max_SIC2,label=\"Weakly Supervised\")\n",
    "plt.title(\"CWOLA vs Semi Weakly (Trainable mu)\")\n",
    "plt.legend()\n",
    "plt.xscale(\"log\")\n",
    "plt.xlabel(\"Signal region S/B\")\n",
    "plt.ylabel(\"max SIC\")"
   ]
  }
 ],
 "metadata": {
  "kernelspec": {
   "display_name": "tensorflow-2.9.0",
   "language": "python",
   "name": "tensorflow-2.9.0"
  },
  "language_info": {
   "codemirror_mode": {
    "name": "ipython",
    "version": 3
   },
   "file_extension": ".py",
   "mimetype": "text/x-python",
   "name": "python",
   "nbconvert_exporter": "python",
   "pygments_lexer": "ipython3",
   "version": "3.9.15"
  }
 },
 "nbformat": 4,
 "nbformat_minor": 5
}
