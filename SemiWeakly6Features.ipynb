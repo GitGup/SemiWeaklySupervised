{
 "cells": [
  {
   "cell_type": "code",
   "execution_count": 4,
   "id": "ffffb324-ca98-4d22-96d1-a1485b89d69e",
   "metadata": {
    "tags": []
   },
   "outputs": [],
   "source": [
    "import numpy as np\n",
    "import matplotlib.pyplot as plt\n",
    "import pandas as pd\n",
    "import tensorflow as tf\n",
    "import random\n",
    "import os\n",
    "\n",
    "#tensorflow keras imports\n",
    "from sklearn.model_selection import train_test_split\n",
    "from sklearn import metrics\n",
    "\n",
    "from tensorflow.keras.layers import Input, Dense, BatchNormalization\n",
    "from tensorflow.keras.models import Model, Sequential\n",
    "from tensorflow.keras.models import model_from_json\n",
    "from tensorflow.keras.callbacks import EarlyStopping"
   ]
  },
  {
   "cell_type": "code",
   "execution_count": 5,
   "id": "c86e145d-b2fa-4e32-91e4-8b7a368aacab",
   "metadata": {
    "tags": []
   },
   "outputs": [
    {
     "name": "stdout",
     "output_type": "stream",
     "text": [
      "[PhysicalDevice(name='/physical_device:GPU:0', device_type='GPU'), PhysicalDevice(name='/physical_device:GPU:1', device_type='GPU'), PhysicalDevice(name='/physical_device:GPU:2', device_type='GPU'), PhysicalDevice(name='/physical_device:GPU:3', device_type='GPU')]\n",
      "Num GPUs Available:  4\n"
     ]
    }
   ],
   "source": [
    "print(tf.config.list_physical_devices('GPU'))\n",
    "# Check if tensorflow is using GPU\n",
    "print(\"Num GPUs Available: \", len(tf.config.list_physical_devices('GPU')))"
   ]
  },
  {
   "cell_type": "code",
   "execution_count": 3,
   "id": "e0ac30dd-0f3f-4dff-a4b2-38129508630b",
   "metadata": {
    "tags": []
   },
   "outputs": [],
   "source": [
    "def computemjj_pd(event):\n",
    "    px1 = event[[\"pxj1\"]].to_numpy()\n",
    "    py1 = event[[\"pyj1\"]].to_numpy()\n",
    "    pz1 = event[[\"pzj1\"]].to_numpy()\n",
    "    pE1 = np.sqrt(px1**2+py1**2+pz1**2+event[[\"mj1\"]].to_numpy()**2)\n",
    "    \n",
    "    px2 = event[[\"pxj2\"]].to_numpy()\n",
    "    py2 = event[[\"pyj2\"]].to_numpy()\n",
    "    pz2 = event[[\"pzj2\"]].to_numpy()\n",
    "    pE2 = np.sqrt(px2**2+py2**2+pz2**2+event[[\"mj2\"]].to_numpy()**2)\n",
    "    \n",
    "    m2 = (pE1+pE2)**2-(px1+px2)**2-(py1+py2)**2-(pz1+pz2)**2\n",
    "    return np.array(np.sqrt(m2)).flatten()"
   ]
  },
  {
   "cell_type": "code",
   "execution_count": 4,
   "id": "5ebabd60-9af8-424e-99c0-abb88c79b9b6",
   "metadata": {
    "tags": []
   },
   "outputs": [],
   "source": [
    "def computemjj_txt(event):\n",
    "    pT1 = np.array([float(event[2*i][0]) for i in range(int(len(event)/2))])\n",
    "    eta1 = np.array([float(event[2*i][1]) for i in range(int(len(event)/2))])\n",
    "    phi1 = np.array([float(event[2*i][2]) for i in range(int(len(event)/2))])\n",
    "    m1 = np.array([float(event[2*i][3]) for i in range(int(len(event)/2))])\n",
    "    px1 = pT1*np.cos(phi1)\n",
    "    py1 = pT1*np.sin(phi1)\n",
    "    pz1 = pT1*np.sinh(eta1)\n",
    "    pE1 = np.sqrt(px1**2+py1**2+pz1**2+m1**2)\n",
    "    \n",
    "    pT2 = np.array([float(event[2*i+1][0]) for i in range(int(len(event)/2))])\n",
    "    eta2 = np.array([float(event[2*i+1][1]) for i in range(int(len(event)/2))])\n",
    "    phi2 = np.array([float(event[2*i+1][2]) for i in range(int(len(event)/2))])\n",
    "    m2 = np.array([float(event[2*i+1][3]) for i in range(int(len(event)/2))])\n",
    "    px2 = pT2*np.cos(phi2)\n",
    "    py2 = pT2*np.sin(phi2)\n",
    "    pz2 = pT2*np.sinh(eta2)\n",
    "    pE2 = np.sqrt(px2**2+py2**2+pz2**2+m2**2)\n",
    "    \n",
    "    m2 = (pE1+pE2)**2-(px1+px2)**2-(py1+py2)**2-(pz1+pz2)**2\n",
    "    return np.array(np.sqrt(m2)).flatten()"
   ]
  },
  {
   "cell_type": "code",
   "execution_count": 41,
   "id": "d40e20ee-a221-40ed-b2f5-56cfde7e4283",
   "metadata": {
    "collapsed": true,
    "jupyter": {
     "outputs_hidden": true
    },
    "tags": []
   },
   "outputs": [
    {
     "name": "stdout",
     "output_type": "stream",
     "text": [
      "on ... 0 0 qq\n",
      "on ... 0 0 qqq\n",
      "on ... 0 0.5 qq\n",
      "on ... 0 0.5 qqq\n",
      "on ... 0 1 qq\n",
      "on ... 0 1 qqq\n",
      "on ... 0 1.5 qq\n",
      "on ... 0 1.5 qqq\n",
      "on ... 0 2 qq\n",
      "on ... 0 2 qqq\n",
      "on ... 0 2.5 qq\n",
      "on ... 0 2.5 qqq\n",
      "on ... 0 3 qq\n",
      "on ... 0 3 qqq\n",
      "on ... 0 3.5 qq\n",
      "on ... 0 3.5 qqq\n",
      "on ... 0 4 qq\n",
      "on ... 0 4 qqq\n",
      "on ... 0 4.5 qq\n",
      "on ... 0 4.5 qqq\n",
      "on ... 0 5 qq\n",
      "on ... 0 5 qqq\n",
      "on ... 0 5.5 qq\n",
      "on ... 0 5.5 qqq\n",
      "on ... 0 6 qq\n",
      "on ... 0 6 qqq\n",
      "on ... 0.5 0 qq\n",
      "on ... 0.5 0 qqq\n",
      "on ... 0.5 0.5 qq\n",
      "on ... 0.5 0.5 qqq\n",
      "on ... 0.5 1 qq\n",
      "on ... 0.5 1 qqq\n",
      "on ... 0.5 1.5 qq\n",
      "on ... 0.5 1.5 qqq\n",
      "on ... 0.5 2 qq\n",
      "on ... 0.5 2 qqq\n",
      "on ... 0.5 2.5 qq\n",
      "on ... 0.5 2.5 qqq\n",
      "on ... 0.5 3 qq\n",
      "on ... 0.5 3 qqq\n",
      "on ... 0.5 3.5 qq\n",
      "on ... 0.5 3.5 qqq\n",
      "on ... 0.5 4 qq\n",
      "on ... 0.5 4 qqq\n",
      "on ... 0.5 4.5 qq\n",
      "on ... 0.5 4.5 qqq\n",
      "on ... 0.5 5 qq\n",
      "on ... 0.5 5 qqq\n",
      "on ... 0.5 5.5 qq\n",
      "on ... 0.5 5.5 qqq\n",
      "on ... 0.5 6 qq\n",
      "on ... 0.5 6 qqq\n",
      "on ... 1 0 qq\n",
      "on ... 1 0 qqq\n",
      "on ... 1 0.5 qq\n",
      "on ... 1 0.5 qqq\n",
      "on ... 1 1 qq\n",
      "on ... 1 1 qqq\n",
      "on ... 1 1.5 qq\n",
      "on ... 1 1.5 qqq\n",
      "on ... 1 2 qq\n",
      "on ... 1 2 qqq\n",
      "on ... 1 2.5 qq\n",
      "on ... 1 2.5 qqq\n",
      "on ... 1 3 qq\n",
      "on ... 1 3 qqq\n",
      "on ... 1 3.5 qq\n",
      "on ... 1 3.5 qqq\n",
      "on ... 1 4 qq\n",
      "on ... 1 4 qqq\n",
      "on ... 1 4.5 qq\n",
      "on ... 1 4.5 qqq\n",
      "on ... 1 5 qq\n",
      "on ... 1 5 qqq\n",
      "on ... 1 5.5 qq\n",
      "on ... 1 5.5 qqq\n",
      "on ... 1 6 qq\n",
      "on ... 1 6 qqq\n",
      "on ... 1.5 0 qq\n",
      "on ... 1.5 0 qqq\n",
      "on ... 1.5 0.5 qq\n",
      "on ... 1.5 0.5 qqq\n",
      "on ... 1.5 1 qq\n",
      "on ... 1.5 1 qqq\n",
      "on ... 1.5 1.5 qq\n",
      "on ... 1.5 1.5 qqq\n",
      "on ... 1.5 2 qq\n",
      "on ... 1.5 2 qqq\n",
      "on ... 1.5 2.5 qq\n",
      "on ... 1.5 2.5 qqq\n",
      "on ... 1.5 3 qq\n",
      "on ... 1.5 3 qqq\n",
      "on ... 1.5 3.5 qq\n",
      "on ... 1.5 3.5 qqq\n",
      "on ... 1.5 4 qq\n",
      "on ... 1.5 4 qqq\n",
      "on ... 1.5 4.5 qq\n",
      "on ... 1.5 4.5 qqq\n",
      "on ... 1.5 5 qq\n",
      "on ... 1.5 5 qqq\n",
      "on ... 1.5 5.5 qq\n",
      "on ... 1.5 5.5 qqq\n",
      "on ... 1.5 6 qq\n",
      "on ... 1.5 6 qqq\n",
      "on ... 2 0 qq\n",
      "on ... 2 0 qqq\n",
      "on ... 2 0.5 qq\n",
      "on ... 2 0.5 qqq\n",
      "on ... 2 1 qq\n",
      "on ... 2 1 qqq\n",
      "on ... 2 1.5 qq\n",
      "on ... 2 1.5 qqq\n",
      "on ... 2 2 qq\n",
      "on ... 2 2 qqq\n",
      "on ... 2 2.5 qq\n",
      "on ... 2 2.5 qqq\n",
      "on ... 2 3 qq\n",
      "on ... 2 3 qqq\n",
      "on ... 2 3.5 qq\n",
      "on ... 2 3.5 qqq\n",
      "on ... 2 4 qq\n",
      "on ... 2 4 qqq\n",
      "on ... 2 4.5 qq\n",
      "on ... 2 4.5 qqq\n",
      "on ... 2 5 qq\n",
      "on ... 2 5 qqq\n",
      "on ... 2 5.5 qq\n",
      "on ... 2 5.5 qqq\n",
      "on ... 2 6 qq\n",
      "on ... 2 6 qqq\n",
      "on ... 2.5 0 qq\n",
      "on ... 2.5 0 qqq\n",
      "on ... 2.5 0.5 qq\n",
      "on ... 2.5 0.5 qqq\n",
      "on ... 2.5 1 qq\n",
      "on ... 2.5 1 qqq\n",
      "on ... 2.5 1.5 qq\n",
      "on ... 2.5 1.5 qqq\n",
      "on ... 2.5 2 qq\n",
      "on ... 2.5 2 qqq\n",
      "on ... 2.5 2.5 qq\n",
      "on ... 2.5 2.5 qqq\n",
      "on ... 2.5 3 qq\n",
      "on ... 2.5 3 qqq\n",
      "on ... 2.5 3.5 qq\n",
      "on ... 2.5 3.5 qqq\n",
      "on ... 2.5 4 qq\n",
      "on ... 2.5 4 qqq\n",
      "on ... 2.5 4.5 qq\n",
      "on ... 2.5 4.5 qqq\n",
      "on ... 2.5 5 qq\n",
      "on ... 2.5 5 qqq\n",
      "on ... 2.5 5.5 qq\n",
      "on ... 2.5 5.5 qqq\n",
      "on ... 2.5 6 qq\n",
      "on ... 2.5 6 qqq\n",
      "on ... 3 0 qq\n",
      "on ... 3 0 qqq\n",
      "on ... 3 0.5 qq\n",
      "on ... 3 0.5 qqq\n",
      "on ... 3 1 qq\n",
      "on ... 3 1 qqq\n",
      "on ... 3 1.5 qq\n",
      "on ... 3 1.5 qqq\n",
      "on ... 3 2 qq\n",
      "on ... 3 2 qqq\n",
      "on ... 3 2.5 qq\n",
      "on ... 3 2.5 qqq\n",
      "on ... 3 3 qq\n",
      "on ... 3 3 qqq\n",
      "on ... 3 3.5 qq\n",
      "on ... 3 3.5 qqq\n",
      "on ... 3 4 qq\n",
      "on ... 3 4 qqq\n",
      "on ... 3 4.5 qq\n",
      "on ... 3 4.5 qqq\n",
      "on ... 3 5 qq\n",
      "on ... 3 5 qqq\n",
      "on ... 3 5.5 qq\n",
      "on ... 3 5.5 qqq\n",
      "on ... 3 6 qq\n",
      "on ... 3 6 qqq\n",
      "on ... 3.5 0 qq\n",
      "on ... 3.5 0 qqq\n",
      "on ... 3.5 0.5 qq\n",
      "on ... 3.5 0.5 qqq\n",
      "on ... 3.5 1 qq\n",
      "on ... 3.5 1 qqq\n",
      "on ... 3.5 1.5 qq\n",
      "on ... 3.5 1.5 qqq\n",
      "on ... 3.5 2 qq\n",
      "on ... 3.5 2 qqq\n",
      "on ... 3.5 2.5 qq\n",
      "on ... 3.5 2.5 qqq\n",
      "on ... 3.5 3 qq\n",
      "on ... 3.5 3 qqq\n",
      "on ... 3.5 3.5 qq\n",
      "on ... 3.5 3.5 qqq\n",
      "on ... 3.5 4 qq\n",
      "on ... 3.5 4 qqq\n",
      "on ... 3.5 4.5 qq\n",
      "on ... 3.5 4.5 qqq\n",
      "on ... 3.5 5 qq\n",
      "on ... 3.5 5 qqq\n",
      "on ... 3.5 5.5 qq\n",
      "on ... 3.5 5.5 qqq\n",
      "on ... 3.5 6 qq\n",
      "on ... 3.5 6 qqq\n",
      "on ... 4 0 qq\n",
      "on ... 4 0 qqq\n",
      "on ... 4 0.5 qq\n",
      "on ... 4 0.5 qqq\n",
      "on ... 4 1 qq\n",
      "on ... 4 1 qqq\n",
      "on ... 4 1.5 qq\n",
      "on ... 4 1.5 qqq\n",
      "on ... 4 2 qq\n",
      "on ... 4 2 qqq\n",
      "on ... 4 2.5 qq\n",
      "on ... 4 2.5 qqq\n",
      "on ... 4 3 qq\n",
      "on ... 4 3 qqq\n",
      "on ... 4 3.5 qq\n",
      "on ... 4 3.5 qqq\n",
      "on ... 4 4 qq\n",
      "on ... 4 4 qqq\n",
      "on ... 4 4.5 qq\n",
      "on ... 4 4.5 qqq\n",
      "on ... 4 5 qq\n",
      "on ... 4 5 qqq\n",
      "on ... 4 5.5 qq\n",
      "on ... 4 5.5 qqq\n",
      "on ... 4 6 qq\n",
      "on ... 4 6 qqq\n",
      "on ... 4.5 0 qq\n",
      "on ... 4.5 0 qqq\n",
      "on ... 4.5 0.5 qq\n",
      "on ... 4.5 0.5 qqq\n",
      "on ... 4.5 1 qq\n",
      "on ... 4.5 1 qqq\n",
      "on ... 4.5 1.5 qq\n",
      "on ... 4.5 1.5 qqq\n",
      "on ... 4.5 2 qq\n",
      "on ... 4.5 2 qqq\n",
      "on ... 4.5 2.5 qq\n",
      "on ... 4.5 2.5 qqq\n",
      "on ... 4.5 3 qq\n",
      "on ... 4.5 3 qqq\n",
      "on ... 4.5 3.5 qq\n",
      "on ... 4.5 3.5 qqq\n",
      "on ... 4.5 4 qq\n",
      "on ... 4.5 4 qqq\n",
      "on ... 4.5 4.5 qq\n",
      "on ... 4.5 4.5 qqq\n",
      "on ... 4.5 5 qq\n",
      "on ... 4.5 5 qqq\n",
      "on ... 4.5 5.5 qq\n",
      "on ... 4.5 5.5 qqq\n",
      "on ... 4.5 6 qq\n",
      "on ... 4.5 6 qqq\n",
      "on ... 5 0 qq\n",
      "on ... 5 0 qqq\n",
      "on ... 5 0.5 qq\n",
      "on ... 5 0.5 qqq\n",
      "on ... 5 1 qq\n",
      "on ... 5 1 qqq\n",
      "on ... 5 1.5 qq\n",
      "on ... 5 1.5 qqq\n",
      "on ... 5 2 qq\n",
      "on ... 5 2 qqq\n",
      "on ... 5 2.5 qq\n",
      "on ... 5 2.5 qqq\n",
      "on ... 5 3 qq\n",
      "on ... 5 3 qqq\n",
      "on ... 5 3.5 qq\n",
      "on ... 5 3.5 qqq\n",
      "on ... 5 4 qq\n",
      "on ... 5 4 qqq\n",
      "on ... 5 4.5 qq\n",
      "on ... 5 4.5 qqq\n",
      "on ... 5 5 qq\n",
      "on ... 5 5 qqq\n",
      "on ... 5 5.5 qq\n",
      "on ... 5 5.5 qqq\n",
      "on ... 5 6 qq\n",
      "on ... 5 6 qqq\n",
      "on ... 5.5 0 qq\n",
      "on ... 5.5 0 qqq\n",
      "on ... 5.5 0.5 qq\n",
      "on ... 5.5 0.5 qqq\n",
      "on ... 5.5 1 qq\n",
      "on ... 5.5 1 qqq\n",
      "on ... 5.5 1.5 qq\n",
      "on ... 5.5 1.5 qqq\n",
      "on ... 5.5 2 qq\n",
      "on ... 5.5 2 qqq\n",
      "on ... 5.5 2.5 qq\n",
      "on ... 5.5 2.5 qqq\n",
      "on ... 5.5 3 qq\n",
      "on ... 5.5 3 qqq\n",
      "on ... 5.5 3.5 qq\n",
      "on ... 5.5 3.5 qqq\n",
      "on ... 5.5 4 qq\n",
      "on ... 5.5 4 qqq\n",
      "on ... 5.5 4.5 qq\n",
      "on ... 5.5 4.5 qqq\n",
      "on ... 5.5 5 qq\n",
      "on ... 5.5 5 qqq\n",
      "on ... 5.5 5.5 qq\n",
      "on ... 5.5 5.5 qqq\n",
      "on ... 5.5 6 qq\n",
      "on ... 5.5 6 qqq\n",
      "on ... 6 0 qq\n",
      "on ... 6 0 qqq\n",
      "on ... 6 0.5 qq\n",
      "on ... 6 0.5 qqq\n",
      "on ... 6 1 qq\n",
      "on ... 6 1 qqq\n",
      "on ... 6 1.5 qq\n",
      "on ... 6 1.5 qqq\n",
      "on ... 6 2 qq\n",
      "on ... 6 2 qqq\n",
      "on ... 6 2.5 qq\n",
      "on ... 6 2.5 qqq\n",
      "on ... 6 3 qq\n",
      "on ... 6 3 qqq\n",
      "on ... 6 3.5 qq\n",
      "on ... 6 3.5 qqq\n",
      "on ... 6 4 qq\n",
      "on ... 6 4 qqq\n",
      "on ... 6 4.5 qq\n",
      "on ... 6 4.5 qqq\n",
      "on ... 6 5 qq\n",
      "on ... 6 5 qqq\n",
      "on ... 6 5.5 qq\n",
      "on ... 6 5.5 qqq\n",
      "on ... 6 6 qq\n",
      "on ... 6 6 qqq\n"
     ]
    }
   ],
   "source": [
    "if (False):\n",
    "    lmass_vec = {}\n",
    "    x = {}\n",
    "    mjjs = {}\n",
    "\n",
    "    mu_m = 0.\n",
    "    mu_t = 0.\n",
    "    mu_t2 = 0.\n",
    "    sd_m = 0.\n",
    "    sd_t = 0.\n",
    "    sd_t2 = 0.\n",
    "    \n",
    "    mj1_list = []\n",
    "    mj2_list = []\n",
    "\n",
    "    for m1 in [0,0.5,1,1.5,2,2.5,3,3.5,4,4.5,5,5.5,6]:\n",
    "        for m2 in [0,0.5,1,1.5,2,2.5,3,3.5,4,4.5,5,5.5,6]:\n",
    "            for qq in ['qq','qqq']:\n",
    "\n",
    "                print(\"on ...\",m1,m2,qq)\n",
    "\n",
    "                ltau1_m_m = []\n",
    "                ltau2_m_m = []\n",
    "                ltau3_m_m = []\n",
    "                stau1_m_m = []\n",
    "                stau2_m_m = []\n",
    "                stau3_m_m = []\n",
    "                if (m1>0 and m2>0):\n",
    "                    myfile = open(\"/global/cfs/projectdirs/m3246/AnomalyDetection/ILC/Delphes-3.5.0/LHCO_RnD_qq/LHCO_RnD_qq_\"+str(int(m1*100))+\"_\"+str(int(100*m2))+\".txt\")\n",
    "                    if (qq=='qqq'):\n",
    "                        myfile = open(\"/global/cfs/projectdirs/m3246/AnomalyDetection/ILC/Delphes-3.5.0/LHCO_RnD_qqq/LHCO_RnD_qqq2_\"+str(int(m1*100))+\"_\"+str(int(100*m2))+\".txt\")\n",
    "                    jets_m_m = []\n",
    "                    for line in myfile:\n",
    "                        jets_m_m+=[line.split(\"J\")[1].split(\"P\")[0].split()]\n",
    "                        pass\n",
    "                    ljet_m_m = [jets_m_m[2*n] for n in range(int(len(jets_m_m)/2))]\n",
    "                    sjet_m_m = [jets_m_m[2*n+1] for n in range(int(len(jets_m_m)/2))]\n",
    "\n",
    "                    lmass_m_m = np.array([float(ljet_m_m[i][3]) for i in range(len(ljet_m_m))])/1000.\n",
    "                    smass_m_m = np.array([float(sjet_m_m[i][3]) for i in range(len(sjet_m_m))])/1000.\n",
    "                    \n",
    "                    #check ordering of the leading and subleading jets\n",
    "                    #if leading jet mm > subleading, continue\n",
    "                    #if leading jet mm < subleading, swap\n",
    "                    for i in range(int(len(lmass_m_m))):\n",
    "                        if lmass_m_m[i] > smass_m_m[i]:\n",
    "                            continue\n",
    "                        elif lmass_m_m[i] < smass_m_m[i]:\n",
    "                            lmass_m_m[i], smass_m_m[i] = smass_m_m[i], lmass_m_m[i]\n",
    "\n",
    "                    ltau1_m_m = np.array([float(ljet_m_m[i][5]) for i in range(len(ljet_m_m))])\n",
    "                    ltau2_m_m = np.array([float(ljet_m_m[i][6]) for i in range(len(ljet_m_m))])\n",
    "                    ltau3_m_m = np.array([float(ljet_m_m[i][7]) for i in range(len(ljet_m_m))])\n",
    "\n",
    "                    stau1_m_m = np.array([float(sjet_m_m[i][5]) for i in range(len(ljet_m_m))])\n",
    "                    stau2_m_m = np.array([float(sjet_m_m[i][6]) for i in range(len(ljet_m_m))])\n",
    "                    stau3_m_m = np.array([float(sjet_m_m[i][7]) for i in range(len(ljet_m_m))])\n",
    "\n",
    "                    mjj = computemjj_txt(jets_m_m)/1000.\n",
    "                    mjjs[m1,m2] = mjj\n",
    "                    passcut = (mjj > 3.3) * (mjj < 3.7)\n",
    "                    lmass_m_m = lmass_m_m[passcut]\n",
    "                    smass_m_m = smass_m_m[passcut]\n",
    "                    ltau1_m_m = ltau1_m_m[passcut]\n",
    "                    ltau2_m_m = ltau2_m_m[passcut]\n",
    "                    ltau3_m_m = ltau3_m_m[passcut]\n",
    "                    stau1_m_m = stau1_m_m[passcut]\n",
    "                    stau2_m_m = stau2_m_m[passcut]\n",
    "                    stau3_m_m = stau3_m_m[passcut]\n",
    "                    pass\n",
    "                elif m1==0 and m2==0:\n",
    "                    df_QCD = pd.read_hdf(\"/global/cfs/projectdirs/m3246/AnomalyDetection/LHCO/events_anomalydetection_DelphesPythia8_v2_qcd_features.h5\")\n",
    "                    lmass_m_m = np.array(df_QCD[[\"mj1\"]]).flatten()/1000.\n",
    "                    smass_m_m = np.array(df_QCD[[\"mj2\"]]).flatten()/1000.\n",
    "                    \n",
    "                    #check jet ordering\n",
    "                    for i in range(int(len(lmass_m_m))):\n",
    "                        if lmass_m_m[i] > smass_m_m[i]:\n",
    "                            continue\n",
    "                        elif lmass_m_m[i] < smass_m_m[i]:\n",
    "                            lmass_m_m[i], smass_m_m[i] = smass_m_m[i], lmass_m_m[i]\n",
    "                        \n",
    "                    ltau1_m_m = np.array(df_QCD[[\"tau1j1\"]]).flatten()\n",
    "                    ltau2_m_m = np.array(df_QCD[[\"tau2j1\"]]).flatten()\n",
    "                    ltau3_m_m = np.array(df_QCD[[\"tau3j1\"]]).flatten()\n",
    "                    stau1_m_m = np.array(df_QCD[[\"tau1j2\"]]).flatten()\n",
    "                    stau2_m_m = np.array(df_QCD[[\"tau2j2\"]]).flatten()\n",
    "                    stau3_m_m = np.array(df_QCD[[\"tau3j2\"]]).flatten()\n",
    "                    mjj = computemjj_pd(df_QCD)/1000.\n",
    "                    mjjs[m1,m2] = mjj\n",
    "                    passcut = (mjj > 3.3) * (mjj < 3.7)\n",
    "                    lmass_m_m = lmass_m_m[passcut]\n",
    "                    smass_m_m = smass_m_m[passcut]\n",
    "                    ltau1_m_m = ltau1_m_m[passcut]\n",
    "                    ltau2_m_m = ltau2_m_m[passcut]\n",
    "                    ltau3_m_m = ltau3_m_m[passcut]\n",
    "                    stau1_m_m = stau1_m_m[passcut]\n",
    "                    stau2_m_m = stau2_m_m[passcut]\n",
    "                    stau3_m_m = stau3_m_m[passcut]\n",
    "\n",
    "                    mu_m = np.mean(lmass_m_m)\n",
    "                    mu_t = np.mean(ltau2_m_m/(ltau1_m_m+0.0001))\n",
    "                    mu_t2 = np.mean(ltau3_m_m/(ltau2_m_m+0.0001))\n",
    "                    sd_m = np.std(lmass_m_m)\n",
    "                    sd_t = np.std(ltau2_m_m/(ltau1_m_m+0.0001))\n",
    "                    sd_t2 = np.std(ltau3_m_m/(ltau2_m_m+0.0001))\n",
    "                    pass\n",
    "                else:\n",
    "                    continue\n",
    "\n",
    "                ms = np.stack([lmass_m_m,smass_m_m],axis=1)\n",
    "                ts = np.stack([ltau2_m_m/(ltau1_m_m+0.0001),stau2_m_m/(stau1_m_m+0.001)],axis=1)\n",
    "                ts2 = np.stack([ltau3_m_m/(ltau2_m_m+0.0001),stau3_m_m/(stau2_m_m+0.001)],axis=1)\n",
    "                order1 = [np.argmax(ms[i]) for i in range(len(ms))]\n",
    "                order2 = [np.argmin(ms[i]) for i in range(len(ms))]\n",
    "                mJ1 = np.array([ms[i][order1[i]] for i in range(len(ms))])\n",
    "                mJ2 = np.array([ms[i][order2[i]] for i in range(len(ms))])\n",
    "                \n",
    "                mj1_list.append(mJ1)\n",
    "                mj2_list.append(mJ2)\n",
    "                x[m1,m2,qq] = np.stack([(mJ2 - mu_m)/sd_m,\n",
    "                                        ((mJ1 - mJ2) - mu_m)/sd_m,\n",
    "                                        ([ts[i][order2[i]] for i in range(len(ts))] - mu_t)/sd_t,\n",
    "                                        ([ts[i][order1[i]] for i in range(len(ts))] - mu_t)/sd_t,\n",
    "                                        ([ts2[i][order2[i]] for i in range(len(ts2))] - mu_t2)/sd_t2,\n",
    "                                        ([ts2[i][order1[i]] for i in range(len(ts2))] - mu_t2)/sd_t2],axis=1)\n",
    "                lmass_vec[m1,m2]=lmass_m_m\n",
    "                pass\n",
    "            pass\n",
    "        pass\n",
    "    \n",
    "    x_array = []\n",
    "    for m1 in [0,0.5,1,1.5,2,2.5,3,3.5,4,4.5,5,5.5,6]:\n",
    "        for m2 in [0,0.5,1,1.5,2,2.5,3,3.5,4,4.5,5,5.5,6]:\n",
    "            for qq in ['qq','qqq']:\n",
    "                if (m1==0 and m2>0 or m2==0 and m1>0):\n",
    "                    continue\n",
    "                x_array+=[x[m1,m2,qq]]"
   ]
  },
  {
   "cell_type": "code",
   "execution_count": 3,
   "id": "424495c4-adab-4bf6-bc5e-3ae7e5542682",
   "metadata": {
    "tags": []
   },
   "outputs": [],
   "source": [
    "#np.save(\"x_array_qqq\",x_array)"
   ]
  },
  {
   "cell_type": "code",
   "execution_count": 30,
   "id": "7f2d76f0-7e4d-4082-9255-82346777a276",
   "metadata": {
    "tags": []
   },
   "outputs": [],
   "source": [
    "mass_range = [0,0.5,1,1.5,2,2.5,3,3.5,4,4.5,5,5.5,6]"
   ]
  },
  {
   "cell_type": "code",
   "execution_count": 6,
   "id": "fb3d21c1-0277-406b-a510-170ed04aa6e4",
   "metadata": {
    "tags": []
   },
   "outputs": [],
   "source": [
    "qq = \"qq\"\n",
    "def load_data(filename, noise_dims):\n",
    "\n",
    "    mass_range = [0,0.5,1,1.5,2,2.5,3,3.5,4,4.5,5,5.5,6]\n",
    "    x = {}\n",
    "    x_array_read = np.load(filename,allow_pickle=True)\n",
    "    mycounter = -1\n",
    "    for m1 in mass_range:\n",
    "        for m2 in mass_range:\n",
    "            for qqq in ['qq','qqq']:\n",
    "                if (m1==0 and m2>0 or m2==0 and m1>0):\n",
    "                    continue\n",
    "                mycounter+=1\n",
    "                x[m1,m2,qqq, False] = x_array_read[mycounter]\n",
    "\n",
    "                if noise_dims:\n",
    "                    qq = \"qq\"\n",
    "                    for i in range(noise_dims):\n",
    "                        noise_feature = np.random.normal(0, 1, len(x[m1,m2,qq, False])).reshape(-1, 1)\n",
    "                        if i == 0:\n",
    "                            x[m1, m2, qq, True] = np.hstack((x[m1,m2, qq, False], noise_feature))\n",
    "                        if i > 0:\n",
    "                            x[m1, m2, qq, True] = np.hstack((x[m1,m2, qq, True], noise_feature))\n",
    "    \n",
    "    return x\n",
    "            \n",
    "x = load_data(\"x_array_qqq.npy\", noise_dims = 0)"
   ]
  },
  {
   "cell_type": "code",
   "execution_count": 28,
   "id": "34020fcb-67cb-4898-b1b1-3baf41e83e00",
   "metadata": {
    "tags": []
   },
   "outputs": [
    {
     "data": {
      "text/plain": [
       "(121352, 16)"
      ]
     },
     "execution_count": 28,
     "metadata": {},
     "output_type": "execute_result"
    }
   ],
   "source": [
    "np.shape(x[0,0, qq, True])"
   ]
  },
  {
   "cell_type": "code",
   "execution_count": 6,
   "id": "7e092035-c977-46f5-a214-d3b0cd5ccd77",
   "metadata": {
    "tags": []
   },
   "outputs": [
    {
     "data": {
      "text/plain": [
       "(121352, 6)"
      ]
     },
     "execution_count": 6,
     "metadata": {},
     "output_type": "execute_result"
    }
   ],
   "source": [
    "np.shape(x[0,0, qq, False])"
   ]
  },
  {
   "cell_type": "code",
   "execution_count": 13,
   "id": "7833b6c3-ef98-41f1-8b77-d236321dc8d3",
   "metadata": {
    "tags": []
   },
   "outputs": [
    {
     "data": {
      "text/plain": [
       "(121352, 6)"
      ]
     },
     "execution_count": 13,
     "metadata": {},
     "output_type": "execute_result"
    }
   ],
   "source": [
    "np.shape(x[0,0, qqq, False])"
   ]
  },
  {
   "cell_type": "code",
   "execution_count": 31,
   "id": "4a1744d4-d3f9-464a-af14-4df9f8b125ca",
   "metadata": {
    "collapsed": true,
    "jupyter": {
     "outputs_hidden": true
    },
    "tags": []
   },
   "outputs": [
    {
     "name": "stdout",
     "output_type": "stream",
     "text": [
      "0.5 0.5\n",
      "0.5 1\n",
      "0.5 1.5\n",
      "0.5 2\n",
      "0.5 2.5\n",
      "0.5 3\n",
      "0.5 3.5\n",
      "0.5 4\n",
      "0.5 4.5\n",
      "0.5 5\n",
      "0.5 5.5\n",
      "0.5 6\n",
      "1 0.5\n",
      "1 1\n",
      "1 1.5\n",
      "1 2\n",
      "1 2.5\n",
      "1 3\n",
      "1 3.5\n",
      "1 4\n",
      "1 4.5\n",
      "1 5\n",
      "1 5.5\n",
      "1 6\n",
      "1.5 0.5\n",
      "1.5 1\n",
      "1.5 1.5\n",
      "1.5 2\n",
      "1.5 2.5\n",
      "1.5 3\n",
      "1.5 3.5\n",
      "1.5 4\n",
      "1.5 4.5\n",
      "1.5 5\n",
      "1.5 5.5\n",
      "1.5 6\n",
      "2 0.5\n",
      "2 1\n",
      "2 1.5\n",
      "2 2\n",
      "2 2.5\n",
      "2 3\n",
      "2 3.5\n",
      "2 4\n",
      "2 4.5\n",
      "2 5\n",
      "2 5.5\n",
      "2 6\n",
      "2.5 0.5\n",
      "2.5 1\n",
      "2.5 1.5\n",
      "2.5 2\n",
      "2.5 2.5\n",
      "2.5 3\n",
      "2.5 3.5\n",
      "2.5 4\n",
      "2.5 4.5\n",
      "2.5 5\n",
      "2.5 5.5\n",
      "2.5 6\n",
      "3 0.5\n",
      "3 1\n",
      "3 1.5\n",
      "3 2\n",
      "3 2.5\n",
      "3 3\n",
      "3 3.5\n",
      "3 4\n",
      "3 4.5\n",
      "3 5\n",
      "3 5.5\n",
      "3 6\n",
      "3.5 0.5\n",
      "3.5 1\n",
      "3.5 1.5\n",
      "3.5 2\n",
      "3.5 2.5\n",
      "3.5 3\n",
      "3.5 3.5\n",
      "3.5 4\n",
      "3.5 4.5\n",
      "3.5 5\n",
      "3.5 5.5\n",
      "3.5 6\n",
      "4 0.5\n",
      "4 1\n",
      "4 1.5\n",
      "4 2\n",
      "4 2.5\n",
      "4 3\n",
      "4 3.5\n",
      "4 4\n",
      "4 4.5\n",
      "4 5\n",
      "4 5.5\n",
      "4 6\n",
      "4.5 0.5\n",
      "4.5 1\n",
      "4.5 1.5\n",
      "4.5 2\n",
      "4.5 2.5\n",
      "4.5 3\n",
      "4.5 3.5\n",
      "4.5 4\n",
      "4.5 4.5\n",
      "4.5 5\n",
      "4.5 5.5\n",
      "4.5 6\n",
      "5 0.5\n",
      "5 1\n",
      "5 1.5\n",
      "5 2\n",
      "5 2.5\n",
      "5 3\n",
      "5 3.5\n",
      "5 4\n",
      "5 4.5\n",
      "5 5\n",
      "5 5.5\n",
      "5 6\n",
      "5.5 0.5\n",
      "5.5 1\n",
      "5.5 1.5\n",
      "5.5 2\n",
      "5.5 2.5\n",
      "5.5 3\n",
      "5.5 3.5\n",
      "5.5 4\n",
      "5.5 4.5\n",
      "5.5 5\n",
      "5.5 5.5\n",
      "5.5 6\n",
      "6 0.5\n",
      "6 1\n",
      "6 1.5\n",
      "6 2\n",
      "6 2.5\n",
      "6 3\n",
      "6 3.5\n",
      "6 4\n",
      "6 4.5\n",
      "6 5\n",
      "6 5.5\n",
      "6 6\n"
     ]
    }
   ],
   "source": [
    "x_data_qq = []\n",
    "y_data_qq = []\n",
    "\n",
    "noise = False\n",
    "for m1 in mass_range[1:]:\n",
    "    for m2 in mass_range[1:]:\n",
    "        for qq in ['qq']:\n",
    "            print(m1,m2)\n",
    "            x_aug_0 = np.append(np.append(x[0,0,qq, noise],m1*np.reshape(np.ones(len(x[0,0,qq, noise])),[len(x[0,0,qq, noise]),1]),1),m2*np.reshape(np.ones(len(x[0,0,qq, noise])),[len(x[0,0,qq, noise]),1]),1)\n",
    "            x_aug_m = np.append(np.append(x[m1,m2,qq, noise],m1*np.reshape(np.ones(len(x[m1,m2,qq, noise])),[len(x[m1,m2,qq, noise]),1]),1),m2*np.reshape(np.ones(len(x[m1,m2,qq, noise])),[len(x[m1,m2,qq, noise]),1]),1)\n",
    "            if (m1==0.5 and m2==0.5):\n",
    "                x_data_qq = np.concatenate([x_aug_0,x_aug_m])\n",
    "                y_data_qq = np.concatenate([np.zeros(len(x_aug_0)),np.ones(len(x_aug_m))])\n",
    "            else:\n",
    "                x_data_qq = np.concatenate([x_data_qq,x_aug_0,x_aug_m])\n",
    "                y_data_qq = np.concatenate([y_data_qq,np.zeros(len(x_aug_0)),np.ones(len(x_aug_m))])"
   ]
  },
  {
   "cell_type": "code",
   "execution_count": 32,
   "id": "498c3cdd-d24b-4362-8c06-3d52fd96f728",
   "metadata": {
    "tags": []
   },
   "outputs": [],
   "source": [
    "# np.save(\"x_parametrized_data_qq\", x_data_qq)\n",
    "# np.save(\"y_parametrized_data_qq\", y_data_qq)"
   ]
  },
  {
   "cell_type": "code",
   "execution_count": 13,
   "id": "dba07f7e-0dd6-4c21-916c-a2b736ebeb6c",
   "metadata": {
    "tags": []
   },
   "outputs": [],
   "source": [
    "x_data_qq = np.load(\"x_parametrized_data_qq.npy\")\n",
    "y_data_qq = np.load(\"y_parametrized_data_qq.npy\")"
   ]
  },
  {
   "cell_type": "code",
   "execution_count": 39,
   "id": "9f0927fe-d904-4a13-b73a-45fe52dc9835",
   "metadata": {
    "tags": []
   },
   "outputs": [
    {
     "data": {
      "text/plain": [
       "(27249420, 18)"
      ]
     },
     "execution_count": 39,
     "metadata": {},
     "output_type": "execute_result"
    }
   ],
   "source": [
    "np.shape(x_data_qq)"
   ]
  },
  {
   "cell_type": "code",
   "execution_count": 12,
   "id": "152a6620-8abb-4494-a27c-08a1782c50c9",
   "metadata": {
    "tags": []
   },
   "outputs": [],
   "source": [
    "X_train_qq, X_val_qq, Y_train_qq, Y_val_qq = train_test_split(x_data_qq, y_data_qq, test_size=0.5, random_state = 42)"
   ]
  },
  {
   "cell_type": "code",
   "execution_count": 15,
   "id": "f620f46c-8a23-4fb5-aeac-7b112796fa50",
   "metadata": {
    "tags": []
   },
   "outputs": [
    {
     "data": {
      "text/plain": [
       "array([[-1.48810434, -1.16227514,  0.60044972, ...,  0.20710892,\n",
       "         2.        ,  1.        ],\n",
       "       [-1.53912995, -0.79811617,  0.77186551, ...,  0.3935544 ,\n",
       "         4.        ,  4.5       ],\n",
       "       [-1.11840745, -0.47890791, -1.41957678, ...,  0.07912354,\n",
       "         1.        ,  3.        ],\n",
       "       ...,\n",
       "       [-1.10571607, -1.24210061,  1.24483233, ..., -0.59226963,\n",
       "         5.5       ,  1.5       ],\n",
       "       [-0.36430182, -1.17494904, -0.70482558, ..., -0.11373078,\n",
       "         3.5       ,  6.        ],\n",
       "       [-0.55182417, -1.71658386, -0.56739691, ...,  0.82031277,\n",
       "         5.5       ,  1.        ]])"
      ]
     },
     "execution_count": 15,
     "metadata": {},
     "output_type": "execute_result"
    }
   ],
   "source": [
    "X_train_qq"
   ]
  },
  {
   "cell_type": "code",
   "execution_count": 17,
   "id": "15516f49-3e3f-47e2-b7ef-0fee80adbdcc",
   "metadata": {
    "tags": []
   },
   "outputs": [],
   "source": [
    "# x_vals_qqq = np.load(\"/global/cfs/projectdirs/m3246/AnomalyDetection/LHCO/x_vals_qqq.npy\")\n",
    "# y_vals_qqq = np.load(\"/global/cfs/projectdirs/m3246/AnomalyDetection/LHCO/y_vals_qqq.npy\")\n",
    "# x_vals_qqq"
   ]
  },
  {
   "cell_type": "code",
   "execution_count": 283,
   "id": "3017eca6-f629-4a86-a0a5-f040ea845681",
   "metadata": {
    "tags": []
   },
   "outputs": [],
   "source": [
    "x_data_qqq = np.load(\"x_data_qqq.npy\")\n",
    "y_data_qqq = np.load(\"y_data_qqq.npy\")"
   ]
  },
  {
   "cell_type": "code",
   "execution_count": 383,
   "id": "7d414d68-a7a6-4dd4-b83c-1c15885b1431",
   "metadata": {
    "tags": []
   },
   "outputs": [
    {
     "data": {
      "text/plain": [
       "(27249420, 8)"
      ]
     },
     "execution_count": 383,
     "metadata": {},
     "output_type": "execute_result"
    }
   ],
   "source": [
    "np.shape(x_data_qq)"
   ]
  },
  {
   "cell_type": "code",
   "execution_count": 13,
   "id": "fb0ef976-8d4d-44e4-9d70-1e2d7687e98a",
   "metadata": {},
   "outputs": [
    {
     "name": "stderr",
     "output_type": "stream",
     "text": [
      "Failed to detect the name of this notebook, you can set it manually with the WANDB_NOTEBOOK_NAME environment variable to enable code saving.\n",
      "\u001b[34m\u001b[1mwandb\u001b[0m: Currently logged in as: \u001b[33mgup-singh\u001b[0m. Use \u001b[1m`wandb login --relogin`\u001b[0m to force relogin\n"
     ]
    },
    {
     "data": {
      "text/html": [
       "Tracking run with wandb version 0.16.2"
      ],
      "text/plain": [
       "<IPython.core.display.HTML object>"
      ]
     },
     "metadata": {},
     "output_type": "display_data"
    },
    {
     "data": {
      "text/html": [
       "Run data is saved locally in <code>/pscratch/sd/g/gupsingh/wandb/run-20240125_132012-twb26i88</code>"
      ],
      "text/plain": [
       "<IPython.core.display.HTML object>"
      ]
     },
     "metadata": {},
     "output_type": "display_data"
    },
    {
     "data": {
      "text/html": [
       "Syncing run <strong><a href='https://wandb.ai/gup-singh/SemiWeakly/runs/twb26i88' target=\"_blank\">lyric-puddle-4</a></strong> to <a href='https://wandb.ai/gup-singh/SemiWeakly' target=\"_blank\">Weights & Biases</a> (<a href='https://wandb.me/run' target=\"_blank\">docs</a>)<br/>"
      ],
      "text/plain": [
       "<IPython.core.display.HTML object>"
      ]
     },
     "metadata": {},
     "output_type": "display_data"
    },
    {
     "data": {
      "text/html": [
       " View project at <a href='https://wandb.ai/gup-singh/SemiWeakly' target=\"_blank\">https://wandb.ai/gup-singh/SemiWeakly</a>"
      ],
      "text/plain": [
       "<IPython.core.display.HTML object>"
      ]
     },
     "metadata": {},
     "output_type": "display_data"
    },
    {
     "data": {
      "text/html": [
       " View run at <a href='https://wandb.ai/gup-singh/SemiWeakly/runs/twb26i88' target=\"_blank\">https://wandb.ai/gup-singh/SemiWeakly/runs/twb26i88</a>"
      ],
      "text/plain": [
       "<IPython.core.display.HTML object>"
      ]
     },
     "metadata": {},
     "output_type": "display_data"
    }
   ],
   "source": [
    "import wandb\n",
    "from wandb.keras import WandbCallback\n",
    "\n",
    "pscratch_dir = \"/pscratch/sd/g/gupsingh\"\n",
    "os.environ[\"WANDB_DIR\"] = pscratch_dir\n",
    "\n",
    "wandb.init(\n",
    "    project=\"SemiWeakly\",\n",
    "    group=\"Parametrized\",\n",
    "    entity='gup-singh',\n",
    "    mode = 'online',\n",
    "\n",
    "    config={\n",
    "        \"layer_1\": 256,\n",
    "        \"activation_1\": \"swish\",\n",
    "        \"layer_2\": 256,\n",
    "        \"activation_2\": \"swish\",\n",
    "        \"layer_3\": 256,\n",
    "        \"activation_3\": \"swish\",\n",
    "        \"output_layer\": 1,\n",
    "        \"output_activation\": \"sigmoid\",\n",
    "        \"optimizer\": \"adam\",\n",
    "        \"learning_rate\": 0.00001,\n",
    "        \"dropout_rate\": 0.5,\n",
    "        \"loss\": \"binary_crossentropy\",\n",
    "        \"metric\": \"accuracy\",\n",
    "        \"epoch\": 5000,\n",
    "        \"batch_size\": 5*1024\n",
    "    },\n",
    "    dir = pscratch_dir\n",
    ")\n",
    "\n",
    "config_parametrized = wandb.config"
   ]
  },
  {
   "cell_type": "code",
   "execution_count": 14,
   "id": "b26ee42d-5804-4c7a-a0ed-914179f477c4",
   "metadata": {
    "collapsed": true,
    "jupyter": {
     "outputs_hidden": true
    },
    "tags": []
   },
   "outputs": [
    {
     "name": "stderr",
     "output_type": "stream",
     "text": [
      "2024-01-25 13:20:17.487387: I tensorflow/core/platform/cpu_feature_guard.cc:193] This TensorFlow binary is optimized with oneAPI Deep Neural Network Library (oneDNN) to use the following CPU instructions in performance-critical operations:  AVX2 FMA\n",
      "To enable them in other operations, rebuild TensorFlow with the appropriate compiler flags.\n",
      "2024-01-25 13:20:19.454296: I tensorflow/core/common_runtime/gpu/gpu_device.cc:1532] Created device /job:localhost/replica:0/task:0/device:GPU:0 with 78933 MB memory:  -> device: 0, name: NVIDIA A100-SXM4-80GB, pci bus id: 0000:03:00.0, compute capability: 8.0\n",
      "2024-01-25 13:20:19.455851: I tensorflow/core/common_runtime/gpu/gpu_device.cc:1532] Created device /job:localhost/replica:0/task:0/device:GPU:1 with 78933 MB memory:  -> device: 1, name: NVIDIA A100-SXM4-80GB, pci bus id: 0000:41:00.0, compute capability: 8.0\n",
      "2024-01-25 13:20:19.457184: I tensorflow/core/common_runtime/gpu/gpu_device.cc:1532] Created device /job:localhost/replica:0/task:0/device:GPU:2 with 78933 MB memory:  -> device: 2, name: NVIDIA A100-SXM4-80GB, pci bus id: 0000:82:00.0, compute capability: 8.0\n",
      "2024-01-25 13:20:19.458627: I tensorflow/core/common_runtime/gpu/gpu_device.cc:1532] Created device /job:localhost/replica:0/task:0/device:GPU:3 with 78933 MB memory:  -> device: 3, name: NVIDIA A100-SXM4-80GB, pci bus id: 0000:c1:00.0, compute capability: 8.0\n",
      "\u001b[34m\u001b[1mwandb\u001b[0m: \u001b[33mWARNING\u001b[0m The save_model argument by default saves the model in the HDF5 format that cannot save custom objects like subclassed models and custom layers. This behavior will be deprecated in a future release in favor of the SavedModel format. Meanwhile, the HDF5 model is saved as W&B files and the SavedModel as W&B Artifacts.\n"
     ]
    },
    {
     "name": "stdout",
     "output_type": "stream",
     "text": [
      "Epoch 1/5000\n",
      "  20/2662 [..............................] - ETA: 7s - loss: 0.3387 - accuracy: 0.8662     "
     ]
    },
    {
     "name": "stderr",
     "output_type": "stream",
     "text": [
      "2024-01-25 13:20:21.846935: I tensorflow/stream_executor/cuda/cuda_blas.cc:1786] TensorFloat-32 will be used for the matrix multiplication. This will only be logged once.\n"
     ]
    },
    {
     "name": "stdout",
     "output_type": "stream",
     "text": [
      "2646/2662 [============================>.] - ETA: 0s - loss: 0.1477 - accuracy: 0.9427INFO:tensorflow:Assets written to: /pscratch/sd/g/gupsingh/wandb/run-20240125_132012-twb26i88/files/model-best/assets\n"
     ]
    },
    {
     "name": "stderr",
     "output_type": "stream",
     "text": [
      "\u001b[34m\u001b[1mwandb\u001b[0m: Adding directory to artifact (/pscratch/sd/g/gupsingh/wandb/run-20240125_132012-twb26i88/files/model-best)... Done. 0.0s\n"
     ]
    },
    {
     "name": "stdout",
     "output_type": "stream",
     "text": [
      "2662/2662 [==============================] - 13s 4ms/step - loss: 0.1476 - accuracy: 0.9427 - val_loss: 0.1367 - val_accuracy: 0.9469\n",
      "Epoch 2/5000\n",
      "2660/2662 [============================>.] - ETA: 0s - loss: 0.1356 - accuracy: 0.9473INFO:tensorflow:Assets written to: /pscratch/sd/g/gupsingh/wandb/run-20240125_132012-twb26i88/files/model-best/assets\n"
     ]
    },
    {
     "name": "stderr",
     "output_type": "stream",
     "text": [
      "\u001b[34m\u001b[1mwandb\u001b[0m: Adding directory to artifact (/pscratch/sd/g/gupsingh/wandb/run-20240125_132012-twb26i88/files/model-best)... Done. 0.0s\n"
     ]
    },
    {
     "name": "stdout",
     "output_type": "stream",
     "text": [
      "2662/2662 [==============================] - 10s 4ms/step - loss: 0.1356 - accuracy: 0.9473 - val_loss: 0.1348 - val_accuracy: 0.9476\n",
      "Epoch 3/5000\n",
      "2646/2662 [============================>.] - ETA: 0s - loss: 0.1343 - accuracy: 0.9478INFO:tensorflow:Assets written to: /pscratch/sd/g/gupsingh/wandb/run-20240125_132012-twb26i88/files/model-best/assets\n"
     ]
    },
    {
     "name": "stderr",
     "output_type": "stream",
     "text": [
      "\u001b[34m\u001b[1mwandb\u001b[0m: Adding directory to artifact (/pscratch/sd/g/gupsingh/wandb/run-20240125_132012-twb26i88/files/model-best)... Done. 0.3s\n"
     ]
    },
    {
     "name": "stdout",
     "output_type": "stream",
     "text": [
      "2662/2662 [==============================] - 10s 4ms/step - loss: 0.1343 - accuracy: 0.9478 - val_loss: 0.1338 - val_accuracy: 0.9480\n",
      "Epoch 4/5000\n",
      "2656/2662 [============================>.] - ETA: 0s - loss: 0.1337 - accuracy: 0.9480INFO:tensorflow:Assets written to: /pscratch/sd/g/gupsingh/wandb/run-20240125_132012-twb26i88/files/model-best/assets\n"
     ]
    },
    {
     "name": "stderr",
     "output_type": "stream",
     "text": [
      "\u001b[34m\u001b[1mwandb\u001b[0m: Adding directory to artifact (/pscratch/sd/g/gupsingh/wandb/run-20240125_132012-twb26i88/files/model-best)... Done. 0.1s\n"
     ]
    },
    {
     "name": "stdout",
     "output_type": "stream",
     "text": [
      "2662/2662 [==============================] - 10s 4ms/step - loss: 0.1337 - accuracy: 0.9480 - val_loss: 0.1336 - val_accuracy: 0.9482\n",
      "Epoch 5/5000\n",
      "2643/2662 [============================>.] - ETA: 0s - loss: 0.1332 - accuracy: 0.9482INFO:tensorflow:Assets written to: /pscratch/sd/g/gupsingh/wandb/run-20240125_132012-twb26i88/files/model-best/assets\n"
     ]
    },
    {
     "name": "stderr",
     "output_type": "stream",
     "text": [
      "\u001b[34m\u001b[1mwandb\u001b[0m: Adding directory to artifact (/pscratch/sd/g/gupsingh/wandb/run-20240125_132012-twb26i88/files/model-best)... Done. 0.2s\n"
     ]
    },
    {
     "name": "stdout",
     "output_type": "stream",
     "text": [
      "2662/2662 [==============================] - 11s 4ms/step - loss: 0.1332 - accuracy: 0.9482 - val_loss: 0.1333 - val_accuracy: 0.9482\n",
      "Epoch 6/5000\n",
      "2643/2662 [============================>.] - ETA: 0s - loss: 0.1327 - accuracy: 0.9484INFO:tensorflow:Assets written to: /pscratch/sd/g/gupsingh/wandb/run-20240125_132012-twb26i88/files/model-best/assets\n"
     ]
    },
    {
     "name": "stderr",
     "output_type": "stream",
     "text": [
      "\u001b[34m\u001b[1mwandb\u001b[0m: Adding directory to artifact (/pscratch/sd/g/gupsingh/wandb/run-20240125_132012-twb26i88/files/model-best)... Done. 0.0s\n"
     ]
    },
    {
     "name": "stdout",
     "output_type": "stream",
     "text": [
      "2662/2662 [==============================] - 10s 4ms/step - loss: 0.1327 - accuracy: 0.9484 - val_loss: 0.1328 - val_accuracy: 0.9485\n",
      "Epoch 7/5000\n",
      "2661/2662 [============================>.] - ETA: 0s - loss: 0.1324 - accuracy: 0.9485INFO:tensorflow:Assets written to: /pscratch/sd/g/gupsingh/wandb/run-20240125_132012-twb26i88/files/model-best/assets\n"
     ]
    },
    {
     "name": "stderr",
     "output_type": "stream",
     "text": [
      "\u001b[34m\u001b[1mwandb\u001b[0m: Adding directory to artifact (/pscratch/sd/g/gupsingh/wandb/run-20240125_132012-twb26i88/files/model-best)... Done. 0.1s\n"
     ]
    },
    {
     "name": "stdout",
     "output_type": "stream",
     "text": [
      "2662/2662 [==============================] - 11s 4ms/step - loss: 0.1324 - accuracy: 0.9485 - val_loss: 0.1325 - val_accuracy: 0.9485\n",
      "Epoch 8/5000\n",
      "2645/2662 [============================>.] - ETA: 0s - loss: 0.1321 - accuracy: 0.9486INFO:tensorflow:Assets written to: /pscratch/sd/g/gupsingh/wandb/run-20240125_132012-twb26i88/files/model-best/assets\n"
     ]
    },
    {
     "name": "stderr",
     "output_type": "stream",
     "text": [
      "\u001b[34m\u001b[1mwandb\u001b[0m: Adding directory to artifact (/pscratch/sd/g/gupsingh/wandb/run-20240125_132012-twb26i88/files/model-best)... Done. 0.0s\n"
     ]
    },
    {
     "name": "stdout",
     "output_type": "stream",
     "text": [
      "2662/2662 [==============================] - 11s 4ms/step - loss: 0.1321 - accuracy: 0.9486 - val_loss: 0.1321 - val_accuracy: 0.9486\n",
      "Epoch 9/5000\n",
      "2662/2662 [==============================] - 9s 3ms/step - loss: 0.1318 - accuracy: 0.9487 - val_loss: 0.1331 - val_accuracy: 0.9482\n",
      "Epoch 10/5000\n",
      "2651/2662 [============================>.] - ETA: 0s - loss: 0.1315 - accuracy: 0.9488INFO:tensorflow:Assets written to: /pscratch/sd/g/gupsingh/wandb/run-20240125_132012-twb26i88/files/model-best/assets\n"
     ]
    },
    {
     "name": "stderr",
     "output_type": "stream",
     "text": [
      "\u001b[34m\u001b[1mwandb\u001b[0m: Adding directory to artifact (/pscratch/sd/g/gupsingh/wandb/run-20240125_132012-twb26i88/files/model-best)... Done. 0.0s\n"
     ]
    },
    {
     "name": "stdout",
     "output_type": "stream",
     "text": [
      "2662/2662 [==============================] - 10s 4ms/step - loss: 0.1315 - accuracy: 0.9488 - val_loss: 0.1318 - val_accuracy: 0.9487\n",
      "Epoch 11/5000\n",
      "2658/2662 [============================>.] - ETA: 0s - loss: 0.1313 - accuracy: 0.9489INFO:tensorflow:Assets written to: /pscratch/sd/g/gupsingh/wandb/run-20240125_132012-twb26i88/files/model-best/assets\n"
     ]
    },
    {
     "name": "stderr",
     "output_type": "stream",
     "text": [
      "\u001b[34m\u001b[1mwandb\u001b[0m: Adding directory to artifact (/pscratch/sd/g/gupsingh/wandb/run-20240125_132012-twb26i88/files/model-best)... Done. 0.4s\n"
     ]
    },
    {
     "name": "stdout",
     "output_type": "stream",
     "text": [
      "2662/2662 [==============================] - 11s 4ms/step - loss: 0.1313 - accuracy: 0.9489 - val_loss: 0.1311 - val_accuracy: 0.9490\n",
      "Epoch 12/5000\n",
      "2662/2662 [==============================] - 9s 3ms/step - loss: 0.1310 - accuracy: 0.9490 - val_loss: 0.1316 - val_accuracy: 0.9488\n",
      "Epoch 13/5000\n",
      "2662/2662 [==============================] - 9s 3ms/step - loss: 0.1307 - accuracy: 0.9491 - val_loss: 0.1317 - val_accuracy: 0.9488\n",
      "Epoch 14/5000\n",
      "2650/2662 [============================>.] - ETA: 0s - loss: 0.1304 - accuracy: 0.9492INFO:tensorflow:Assets written to: /pscratch/sd/g/gupsingh/wandb/run-20240125_132012-twb26i88/files/model-best/assets\n"
     ]
    },
    {
     "name": "stderr",
     "output_type": "stream",
     "text": [
      "\u001b[34m\u001b[1mwandb\u001b[0m: Adding directory to artifact (/pscratch/sd/g/gupsingh/wandb/run-20240125_132012-twb26i88/files/model-best)... Done. 0.0s\n"
     ]
    },
    {
     "name": "stdout",
     "output_type": "stream",
     "text": [
      "2662/2662 [==============================] - 10s 4ms/step - loss: 0.1304 - accuracy: 0.9492 - val_loss: 0.1307 - val_accuracy: 0.9492\n",
      "Epoch 15/5000\n",
      "2660/2662 [============================>.] - ETA: 0s - loss: 0.1301 - accuracy: 0.9493INFO:tensorflow:Assets written to: /pscratch/sd/g/gupsingh/wandb/run-20240125_132012-twb26i88/files/model-best/assets\n"
     ]
    },
    {
     "name": "stderr",
     "output_type": "stream",
     "text": [
      "\u001b[34m\u001b[1mwandb\u001b[0m: Adding directory to artifact (/pscratch/sd/g/gupsingh/wandb/run-20240125_132012-twb26i88/files/model-best)... Done. 0.0s\n"
     ]
    },
    {
     "name": "stdout",
     "output_type": "stream",
     "text": [
      "2662/2662 [==============================] - 10s 4ms/step - loss: 0.1301 - accuracy: 0.9493 - val_loss: 0.1304 - val_accuracy: 0.9493\n",
      "Epoch 16/5000\n",
      "2643/2662 [============================>.] - ETA: 0s - loss: 0.1298 - accuracy: 0.9495INFO:tensorflow:Assets written to: /pscratch/sd/g/gupsingh/wandb/run-20240125_132012-twb26i88/files/model-best/assets\n"
     ]
    },
    {
     "name": "stderr",
     "output_type": "stream",
     "text": [
      "\u001b[34m\u001b[1mwandb\u001b[0m: Adding directory to artifact (/pscratch/sd/g/gupsingh/wandb/run-20240125_132012-twb26i88/files/model-best)... Done. 0.2s\n"
     ]
    },
    {
     "name": "stdout",
     "output_type": "stream",
     "text": [
      "2662/2662 [==============================] - 11s 4ms/step - loss: 0.1298 - accuracy: 0.9495 - val_loss: 0.1297 - val_accuracy: 0.9496\n",
      "Epoch 17/5000\n",
      "2662/2662 [==============================] - 9s 3ms/step - loss: 0.1295 - accuracy: 0.9496 - val_loss: 0.1302 - val_accuracy: 0.9494\n",
      "Epoch 18/5000\n",
      "2650/2662 [============================>.] - ETA: 0s - loss: 0.1292 - accuracy: 0.9497INFO:tensorflow:Assets written to: /pscratch/sd/g/gupsingh/wandb/run-20240125_132012-twb26i88/files/model-best/assets\n"
     ]
    },
    {
     "name": "stderr",
     "output_type": "stream",
     "text": [
      "\u001b[34m\u001b[1mwandb\u001b[0m: Adding directory to artifact (/pscratch/sd/g/gupsingh/wandb/run-20240125_132012-twb26i88/files/model-best)... Done. 0.1s\n"
     ]
    },
    {
     "name": "stdout",
     "output_type": "stream",
     "text": [
      "2662/2662 [==============================] - 11s 4ms/step - loss: 0.1292 - accuracy: 0.9497 - val_loss: 0.1297 - val_accuracy: 0.9495\n",
      "Epoch 19/5000\n",
      "2662/2662 [==============================] - ETA: 0s - loss: 0.1289 - accuracy: 0.9498INFO:tensorflow:Assets written to: /pscratch/sd/g/gupsingh/wandb/run-20240125_132012-twb26i88/files/model-best/assets\n"
     ]
    },
    {
     "name": "stderr",
     "output_type": "stream",
     "text": [
      "\u001b[34m\u001b[1mwandb\u001b[0m: Adding directory to artifact (/pscratch/sd/g/gupsingh/wandb/run-20240125_132012-twb26i88/files/model-best)... Done. 0.0s\n"
     ]
    },
    {
     "name": "stdout",
     "output_type": "stream",
     "text": [
      "2662/2662 [==============================] - 11s 4ms/step - loss: 0.1289 - accuracy: 0.9498 - val_loss: 0.1295 - val_accuracy: 0.9496\n",
      "Epoch 20/5000\n",
      "2661/2662 [============================>.] - ETA: 0s - loss: 0.1286 - accuracy: 0.9500INFO:tensorflow:Assets written to: /pscratch/sd/g/gupsingh/wandb/run-20240125_132012-twb26i88/files/model-best/assets\n"
     ]
    },
    {
     "name": "stderr",
     "output_type": "stream",
     "text": [
      "\u001b[34m\u001b[1mwandb\u001b[0m: Adding directory to artifact (/pscratch/sd/g/gupsingh/wandb/run-20240125_132012-twb26i88/files/model-best)... Done. 0.2s\n"
     ]
    },
    {
     "name": "stdout",
     "output_type": "stream",
     "text": [
      "2662/2662 [==============================] - 10s 4ms/step - loss: 0.1286 - accuracy: 0.9500 - val_loss: 0.1290 - val_accuracy: 0.9498\n",
      "Epoch 21/5000\n",
      "2662/2662 [==============================] - 9s 3ms/step - loss: 0.1283 - accuracy: 0.9501 - val_loss: 0.1292 - val_accuracy: 0.9497\n",
      "Epoch 22/5000\n",
      "2655/2662 [============================>.] - ETA: 0s - loss: 0.1279 - accuracy: 0.9502INFO:tensorflow:Assets written to: /pscratch/sd/g/gupsingh/wandb/run-20240125_132012-twb26i88/files/model-best/assets\n"
     ]
    },
    {
     "name": "stderr",
     "output_type": "stream",
     "text": [
      "\u001b[34m\u001b[1mwandb\u001b[0m: Adding directory to artifact (/pscratch/sd/g/gupsingh/wandb/run-20240125_132012-twb26i88/files/model-best)... Done. 0.0s\n"
     ]
    },
    {
     "name": "stdout",
     "output_type": "stream",
     "text": [
      "2662/2662 [==============================] - 10s 4ms/step - loss: 0.1279 - accuracy: 0.9502 - val_loss: 0.1284 - val_accuracy: 0.9500\n",
      "Epoch 23/5000\n",
      "2642/2662 [============================>.] - ETA: 0s - loss: 0.1276 - accuracy: 0.9503INFO:tensorflow:Assets written to: /pscratch/sd/g/gupsingh/wandb/run-20240125_132012-twb26i88/files/model-best/assets\n"
     ]
    },
    {
     "name": "stderr",
     "output_type": "stream",
     "text": [
      "\u001b[34m\u001b[1mwandb\u001b[0m: Adding directory to artifact (/pscratch/sd/g/gupsingh/wandb/run-20240125_132012-twb26i88/files/model-best)... Done. 0.0s\n"
     ]
    },
    {
     "name": "stdout",
     "output_type": "stream",
     "text": [
      "2662/2662 [==============================] - 11s 4ms/step - loss: 0.1276 - accuracy: 0.9503 - val_loss: 0.1281 - val_accuracy: 0.9502\n",
      "Epoch 24/5000\n",
      "2646/2662 [============================>.] - ETA: 0s - loss: 0.1272 - accuracy: 0.9504INFO:tensorflow:Assets written to: /pscratch/sd/g/gupsingh/wandb/run-20240125_132012-twb26i88/files/model-best/assets\n"
     ]
    },
    {
     "name": "stderr",
     "output_type": "stream",
     "text": [
      "\u001b[34m\u001b[1mwandb\u001b[0m: Adding directory to artifact (/pscratch/sd/g/gupsingh/wandb/run-20240125_132012-twb26i88/files/model-best)... Done. 0.0s\n"
     ]
    },
    {
     "name": "stdout",
     "output_type": "stream",
     "text": [
      "2662/2662 [==============================] - 10s 4ms/step - loss: 0.1272 - accuracy: 0.9504 - val_loss: 0.1279 - val_accuracy: 0.9503\n",
      "Epoch 25/5000\n",
      "2661/2662 [============================>.] - ETA: 0s - loss: 0.1269 - accuracy: 0.9506INFO:tensorflow:Assets written to: /pscratch/sd/g/gupsingh/wandb/run-20240125_132012-twb26i88/files/model-best/assets\n"
     ]
    },
    {
     "name": "stderr",
     "output_type": "stream",
     "text": [
      "\u001b[34m\u001b[1mwandb\u001b[0m: Adding directory to artifact (/pscratch/sd/g/gupsingh/wandb/run-20240125_132012-twb26i88/files/model-best)... Done. 0.0s\n"
     ]
    },
    {
     "name": "stdout",
     "output_type": "stream",
     "text": [
      "2662/2662 [==============================] - 10s 4ms/step - loss: 0.1269 - accuracy: 0.9506 - val_loss: 0.1275 - val_accuracy: 0.9504\n",
      "Epoch 26/5000\n",
      "2662/2662 [==============================] - 9s 3ms/step - loss: 0.1265 - accuracy: 0.9507 - val_loss: 0.1276 - val_accuracy: 0.9504\n",
      "Epoch 27/5000\n",
      "2650/2662 [============================>.] - ETA: 0s - loss: 0.1261 - accuracy: 0.9509INFO:tensorflow:Assets written to: /pscratch/sd/g/gupsingh/wandb/run-20240125_132012-twb26i88/files/model-best/assets\n"
     ]
    },
    {
     "name": "stderr",
     "output_type": "stream",
     "text": [
      "\u001b[34m\u001b[1mwandb\u001b[0m: Adding directory to artifact (/pscratch/sd/g/gupsingh/wandb/run-20240125_132012-twb26i88/files/model-best)... Done. 0.0s\n"
     ]
    },
    {
     "name": "stdout",
     "output_type": "stream",
     "text": [
      "2662/2662 [==============================] - 10s 4ms/step - loss: 0.1261 - accuracy: 0.9509 - val_loss: 0.1266 - val_accuracy: 0.9508\n",
      "Epoch 28/5000\n",
      "2662/2662 [==============================] - 9s 3ms/step - loss: 0.1258 - accuracy: 0.9510 - val_loss: 0.1267 - val_accuracy: 0.9507\n",
      "Epoch 29/5000\n",
      "2658/2662 [============================>.] - ETA: 0s - loss: 0.1254 - accuracy: 0.9512INFO:tensorflow:Assets written to: /pscratch/sd/g/gupsingh/wandb/run-20240125_132012-twb26i88/files/model-best/assets\n"
     ]
    },
    {
     "name": "stderr",
     "output_type": "stream",
     "text": [
      "\u001b[34m\u001b[1mwandb\u001b[0m: Adding directory to artifact (/pscratch/sd/g/gupsingh/wandb/run-20240125_132012-twb26i88/files/model-best)... Done. 0.0s\n"
     ]
    },
    {
     "name": "stdout",
     "output_type": "stream",
     "text": [
      "2662/2662 [==============================] - 11s 4ms/step - loss: 0.1254 - accuracy: 0.9512 - val_loss: 0.1260 - val_accuracy: 0.9511\n",
      "Epoch 30/5000\n",
      "2662/2662 [==============================] - 9s 4ms/step - loss: 0.1250 - accuracy: 0.9513 - val_loss: 0.1263 - val_accuracy: 0.9509\n",
      "Epoch 31/5000\n",
      "2643/2662 [============================>.] - ETA: 0s - loss: 0.1247 - accuracy: 0.9514INFO:tensorflow:Assets written to: /pscratch/sd/g/gupsingh/wandb/run-20240125_132012-twb26i88/files/model-best/assets\n"
     ]
    },
    {
     "name": "stderr",
     "output_type": "stream",
     "text": [
      "\u001b[34m\u001b[1mwandb\u001b[0m: Adding directory to artifact (/pscratch/sd/g/gupsingh/wandb/run-20240125_132012-twb26i88/files/model-best)... Done. 0.0s\n"
     ]
    },
    {
     "name": "stdout",
     "output_type": "stream",
     "text": [
      "2662/2662 [==============================] - 10s 4ms/step - loss: 0.1247 - accuracy: 0.9514 - val_loss: 0.1256 - val_accuracy: 0.9512\n",
      "Epoch 32/5000\n",
      "2652/2662 [============================>.] - ETA: 0s - loss: 0.1243 - accuracy: 0.9516INFO:tensorflow:Assets written to: /pscratch/sd/g/gupsingh/wandb/run-20240125_132012-twb26i88/files/model-best/assets\n"
     ]
    },
    {
     "name": "stderr",
     "output_type": "stream",
     "text": [
      "\u001b[34m\u001b[1mwandb\u001b[0m: Adding directory to artifact (/pscratch/sd/g/gupsingh/wandb/run-20240125_132012-twb26i88/files/model-best)... Done. 0.0s\n"
     ]
    },
    {
     "name": "stdout",
     "output_type": "stream",
     "text": [
      "2662/2662 [==============================] - 11s 4ms/step - loss: 0.1243 - accuracy: 0.9516 - val_loss: 0.1252 - val_accuracy: 0.9514\n",
      "Epoch 33/5000\n",
      "2653/2662 [============================>.] - ETA: 0s - loss: 0.1239 - accuracy: 0.9518INFO:tensorflow:Assets written to: /pscratch/sd/g/gupsingh/wandb/run-20240125_132012-twb26i88/files/model-best/assets\n"
     ]
    },
    {
     "name": "stderr",
     "output_type": "stream",
     "text": [
      "\u001b[34m\u001b[1mwandb\u001b[0m: Adding directory to artifact (/pscratch/sd/g/gupsingh/wandb/run-20240125_132012-twb26i88/files/model-best)... Done. 0.0s\n"
     ]
    },
    {
     "name": "stdout",
     "output_type": "stream",
     "text": [
      "2662/2662 [==============================] - 10s 4ms/step - loss: 0.1239 - accuracy: 0.9518 - val_loss: 0.1249 - val_accuracy: 0.9515\n",
      "Epoch 34/5000\n",
      "2651/2662 [============================>.] - ETA: 0s - loss: 0.1235 - accuracy: 0.9520INFO:tensorflow:Assets written to: /pscratch/sd/g/gupsingh/wandb/run-20240125_132012-twb26i88/files/model-best/assets\n"
     ]
    },
    {
     "name": "stderr",
     "output_type": "stream",
     "text": [
      "\u001b[34m\u001b[1mwandb\u001b[0m: Adding directory to artifact (/pscratch/sd/g/gupsingh/wandb/run-20240125_132012-twb26i88/files/model-best)... Done. 0.0s\n"
     ]
    },
    {
     "name": "stdout",
     "output_type": "stream",
     "text": [
      "2662/2662 [==============================] - 10s 4ms/step - loss: 0.1235 - accuracy: 0.9520 - val_loss: 0.1248 - val_accuracy: 0.9515\n",
      "Epoch 35/5000\n",
      "2647/2662 [============================>.] - ETA: 0s - loss: 0.1231 - accuracy: 0.9521INFO:tensorflow:Assets written to: /pscratch/sd/g/gupsingh/wandb/run-20240125_132012-twb26i88/files/model-best/assets\n"
     ]
    },
    {
     "name": "stderr",
     "output_type": "stream",
     "text": [
      "\u001b[34m\u001b[1mwandb\u001b[0m: Adding directory to artifact (/pscratch/sd/g/gupsingh/wandb/run-20240125_132012-twb26i88/files/model-best)... Done. 0.0s\n"
     ]
    },
    {
     "name": "stdout",
     "output_type": "stream",
     "text": [
      "2662/2662 [==============================] - 11s 4ms/step - loss: 0.1231 - accuracy: 0.9521 - val_loss: 0.1240 - val_accuracy: 0.9518\n",
      "Epoch 36/5000\n",
      "2646/2662 [============================>.] - ETA: 0s - loss: 0.1228 - accuracy: 0.9522INFO:tensorflow:Assets written to: /pscratch/sd/g/gupsingh/wandb/run-20240125_132012-twb26i88/files/model-best/assets\n"
     ]
    },
    {
     "name": "stderr",
     "output_type": "stream",
     "text": [
      "\u001b[34m\u001b[1mwandb\u001b[0m: Adding directory to artifact (/pscratch/sd/g/gupsingh/wandb/run-20240125_132012-twb26i88/files/model-best)... Done. 0.0s\n"
     ]
    },
    {
     "name": "stdout",
     "output_type": "stream",
     "text": [
      "2662/2662 [==============================] - 10s 4ms/step - loss: 0.1228 - accuracy: 0.9522 - val_loss: 0.1236 - val_accuracy: 0.9520\n",
      "Epoch 37/5000\n",
      "2662/2662 [==============================] - 9s 3ms/step - loss: 0.1224 - accuracy: 0.9524 - val_loss: 0.1239 - val_accuracy: 0.9519\n",
      "Epoch 38/5000\n",
      "2662/2662 [==============================] - 9s 3ms/step - loss: 0.1220 - accuracy: 0.9526 - val_loss: 0.1241 - val_accuracy: 0.9517\n",
      "Epoch 39/5000\n",
      "2654/2662 [============================>.] - ETA: 0s - loss: 0.1216 - accuracy: 0.9527INFO:tensorflow:Assets written to: /pscratch/sd/g/gupsingh/wandb/run-20240125_132012-twb26i88/files/model-best/assets\n"
     ]
    },
    {
     "name": "stderr",
     "output_type": "stream",
     "text": [
      "\u001b[34m\u001b[1mwandb\u001b[0m: Adding directory to artifact (/pscratch/sd/g/gupsingh/wandb/run-20240125_132012-twb26i88/files/model-best)... Done. 0.0s\n"
     ]
    },
    {
     "name": "stdout",
     "output_type": "stream",
     "text": [
      "2662/2662 [==============================] - 10s 4ms/step - loss: 0.1216 - accuracy: 0.9527 - val_loss: 0.1228 - val_accuracy: 0.9524\n",
      "Epoch 40/5000\n",
      "2647/2662 [============================>.] - ETA: 0s - loss: 0.1213 - accuracy: 0.9529INFO:tensorflow:Assets written to: /pscratch/sd/g/gupsingh/wandb/run-20240125_132012-twb26i88/files/model-best/assets\n"
     ]
    },
    {
     "name": "stderr",
     "output_type": "stream",
     "text": [
      "\u001b[34m\u001b[1mwandb\u001b[0m: Adding directory to artifact (/pscratch/sd/g/gupsingh/wandb/run-20240125_132012-twb26i88/files/model-best)... Done. 0.0s\n"
     ]
    },
    {
     "name": "stdout",
     "output_type": "stream",
     "text": [
      "2662/2662 [==============================] - 10s 4ms/step - loss: 0.1212 - accuracy: 0.9529 - val_loss: 0.1224 - val_accuracy: 0.9525\n",
      "Epoch 41/5000\n",
      "2662/2662 [==============================] - 9s 3ms/step - loss: 0.1209 - accuracy: 0.9530 - val_loss: 0.1226 - val_accuracy: 0.9525\n",
      "Epoch 42/5000\n",
      "2657/2662 [============================>.] - ETA: 0s - loss: 0.1206 - accuracy: 0.9532INFO:tensorflow:Assets written to: /pscratch/sd/g/gupsingh/wandb/run-20240125_132012-twb26i88/files/model-best/assets\n"
     ]
    },
    {
     "name": "stderr",
     "output_type": "stream",
     "text": [
      "\u001b[34m\u001b[1mwandb\u001b[0m: Adding directory to artifact (/pscratch/sd/g/gupsingh/wandb/run-20240125_132012-twb26i88/files/model-best)... Done. 0.0s\n"
     ]
    },
    {
     "name": "stdout",
     "output_type": "stream",
     "text": [
      "2662/2662 [==============================] - 10s 4ms/step - loss: 0.1206 - accuracy: 0.9532 - val_loss: 0.1222 - val_accuracy: 0.9527\n",
      "Epoch 43/5000\n",
      "2661/2662 [============================>.] - ETA: 0s - loss: 0.1202 - accuracy: 0.9533INFO:tensorflow:Assets written to: /pscratch/sd/g/gupsingh/wandb/run-20240125_132012-twb26i88/files/model-best/assets\n"
     ]
    },
    {
     "name": "stderr",
     "output_type": "stream",
     "text": [
      "\u001b[34m\u001b[1mwandb\u001b[0m: Adding directory to artifact (/pscratch/sd/g/gupsingh/wandb/run-20240125_132012-twb26i88/files/model-best)... Done. 0.0s\n"
     ]
    },
    {
     "name": "stdout",
     "output_type": "stream",
     "text": [
      "2662/2662 [==============================] - 11s 4ms/step - loss: 0.1202 - accuracy: 0.9533 - val_loss: 0.1211 - val_accuracy: 0.9530\n",
      "Epoch 44/5000\n",
      "2646/2662 [============================>.] - ETA: 0s - loss: 0.1198 - accuracy: 0.9535INFO:tensorflow:Assets written to: /pscratch/sd/g/gupsingh/wandb/run-20240125_132012-twb26i88/files/model-best/assets\n"
     ]
    },
    {
     "name": "stderr",
     "output_type": "stream",
     "text": [
      "\u001b[34m\u001b[1mwandb\u001b[0m: Adding directory to artifact (/pscratch/sd/g/gupsingh/wandb/run-20240125_132012-twb26i88/files/model-best)... Done. 0.0s\n"
     ]
    },
    {
     "name": "stdout",
     "output_type": "stream",
     "text": [
      "2662/2662 [==============================] - 10s 4ms/step - loss: 0.1198 - accuracy: 0.9535 - val_loss: 0.1207 - val_accuracy: 0.9533\n",
      "Epoch 45/5000\n",
      "2643/2662 [============================>.] - ETA: 0s - loss: 0.1194 - accuracy: 0.9537INFO:tensorflow:Assets written to: /pscratch/sd/g/gupsingh/wandb/run-20240125_132012-twb26i88/files/model-best/assets\n"
     ]
    },
    {
     "name": "stderr",
     "output_type": "stream",
     "text": [
      "\u001b[34m\u001b[1mwandb\u001b[0m: Adding directory to artifact (/pscratch/sd/g/gupsingh/wandb/run-20240125_132012-twb26i88/files/model-best)... Done. 0.0s\n"
     ]
    },
    {
     "name": "stdout",
     "output_type": "stream",
     "text": [
      "2662/2662 [==============================] - 11s 4ms/step - loss: 0.1194 - accuracy: 0.9537 - val_loss: 0.1206 - val_accuracy: 0.9533\n",
      "Epoch 46/5000\n",
      "2651/2662 [============================>.] - ETA: 0s - loss: 0.1190 - accuracy: 0.9538INFO:tensorflow:Assets written to: /pscratch/sd/g/gupsingh/wandb/run-20240125_132012-twb26i88/files/model-best/assets\n"
     ]
    },
    {
     "name": "stderr",
     "output_type": "stream",
     "text": [
      "\u001b[34m\u001b[1mwandb\u001b[0m: Adding directory to artifact (/pscratch/sd/g/gupsingh/wandb/run-20240125_132012-twb26i88/files/model-best)... Done. 0.0s\n"
     ]
    },
    {
     "name": "stdout",
     "output_type": "stream",
     "text": [
      "2662/2662 [==============================] - 10s 4ms/step - loss: 0.1190 - accuracy: 0.9538 - val_loss: 0.1204 - val_accuracy: 0.9534\n",
      "Epoch 47/5000\n",
      "2662/2662 [==============================] - 9s 3ms/step - loss: 0.1186 - accuracy: 0.9540 - val_loss: 0.1206 - val_accuracy: 0.9534\n",
      "Epoch 48/5000\n",
      "2660/2662 [============================>.] - ETA: 0s - loss: 0.1183 - accuracy: 0.9542INFO:tensorflow:Assets written to: /pscratch/sd/g/gupsingh/wandb/run-20240125_132012-twb26i88/files/model-best/assets\n"
     ]
    },
    {
     "name": "stderr",
     "output_type": "stream",
     "text": [
      "\u001b[34m\u001b[1mwandb\u001b[0m: Adding directory to artifact (/pscratch/sd/g/gupsingh/wandb/run-20240125_132012-twb26i88/files/model-best)... Done. 0.0s\n"
     ]
    },
    {
     "name": "stdout",
     "output_type": "stream",
     "text": [
      "2662/2662 [==============================] - 10s 4ms/step - loss: 0.1183 - accuracy: 0.9542 - val_loss: 0.1201 - val_accuracy: 0.9536\n",
      "Epoch 49/5000\n",
      "2662/2662 [==============================] - ETA: 0s - loss: 0.1179 - accuracy: 0.9543INFO:tensorflow:Assets written to: /pscratch/sd/g/gupsingh/wandb/run-20240125_132012-twb26i88/files/model-best/assets\n"
     ]
    },
    {
     "name": "stderr",
     "output_type": "stream",
     "text": [
      "\u001b[34m\u001b[1mwandb\u001b[0m: Adding directory to artifact (/pscratch/sd/g/gupsingh/wandb/run-20240125_132012-twb26i88/files/model-best)... Done. 0.0s\n"
     ]
    },
    {
     "name": "stdout",
     "output_type": "stream",
     "text": [
      "2662/2662 [==============================] - 10s 4ms/step - loss: 0.1179 - accuracy: 0.9543 - val_loss: 0.1197 - val_accuracy: 0.9538\n",
      "Epoch 50/5000\n",
      "2646/2662 [============================>.] - ETA: 0s - loss: 0.1175 - accuracy: 0.9545INFO:tensorflow:Assets written to: /pscratch/sd/g/gupsingh/wandb/run-20240125_132012-twb26i88/files/model-best/assets\n"
     ]
    },
    {
     "name": "stderr",
     "output_type": "stream",
     "text": [
      "\u001b[34m\u001b[1mwandb\u001b[0m: Adding directory to artifact (/pscratch/sd/g/gupsingh/wandb/run-20240125_132012-twb26i88/files/model-best)... Done. 0.0s\n"
     ]
    },
    {
     "name": "stdout",
     "output_type": "stream",
     "text": [
      "2662/2662 [==============================] - 10s 4ms/step - loss: 0.1175 - accuracy: 0.9545 - val_loss: 0.1188 - val_accuracy: 0.9542\n",
      "Epoch 51/5000\n",
      "2650/2662 [============================>.] - ETA: 0s - loss: 0.1172 - accuracy: 0.9546INFO:tensorflow:Assets written to: /pscratch/sd/g/gupsingh/wandb/run-20240125_132012-twb26i88/files/model-best/assets\n"
     ]
    },
    {
     "name": "stderr",
     "output_type": "stream",
     "text": [
      "\u001b[34m\u001b[1mwandb\u001b[0m: Adding directory to artifact (/pscratch/sd/g/gupsingh/wandb/run-20240125_132012-twb26i88/files/model-best)... Done. 0.0s\n"
     ]
    },
    {
     "name": "stdout",
     "output_type": "stream",
     "text": [
      "2662/2662 [==============================] - 10s 4ms/step - loss: 0.1172 - accuracy: 0.9546 - val_loss: 0.1187 - val_accuracy: 0.9542\n",
      "Epoch 52/5000\n",
      "2662/2662 [==============================] - 9s 3ms/step - loss: 0.1167 - accuracy: 0.9548 - val_loss: 0.1188 - val_accuracy: 0.9541\n",
      "Epoch 53/5000\n",
      "2649/2662 [============================>.] - ETA: 0s - loss: 0.1163 - accuracy: 0.9550INFO:tensorflow:Assets written to: /pscratch/sd/g/gupsingh/wandb/run-20240125_132012-twb26i88/files/model-best/assets\n"
     ]
    },
    {
     "name": "stderr",
     "output_type": "stream",
     "text": [
      "\u001b[34m\u001b[1mwandb\u001b[0m: Adding directory to artifact (/pscratch/sd/g/gupsingh/wandb/run-20240125_132012-twb26i88/files/model-best)... Done. 0.0s\n"
     ]
    },
    {
     "name": "stdout",
     "output_type": "stream",
     "text": [
      "2662/2662 [==============================] - 10s 4ms/step - loss: 0.1163 - accuracy: 0.9550 - val_loss: 0.1183 - val_accuracy: 0.9545\n",
      "Epoch 54/5000\n",
      "2655/2662 [============================>.] - ETA: 0s - loss: 0.1160 - accuracy: 0.9551INFO:tensorflow:Assets written to: /pscratch/sd/g/gupsingh/wandb/run-20240125_132012-twb26i88/files/model-best/assets\n"
     ]
    },
    {
     "name": "stderr",
     "output_type": "stream",
     "text": [
      "\u001b[34m\u001b[1mwandb\u001b[0m: Adding directory to artifact (/pscratch/sd/g/gupsingh/wandb/run-20240125_132012-twb26i88/files/model-best)... Done. 0.0s\n"
     ]
    },
    {
     "name": "stdout",
     "output_type": "stream",
     "text": [
      "2662/2662 [==============================] - 10s 4ms/step - loss: 0.1160 - accuracy: 0.9551 - val_loss: 0.1177 - val_accuracy: 0.9547\n",
      "Epoch 55/5000\n",
      "2652/2662 [============================>.] - ETA: 0s - loss: 0.1156 - accuracy: 0.9553INFO:tensorflow:Assets written to: /pscratch/sd/g/gupsingh/wandb/run-20240125_132012-twb26i88/files/model-best/assets\n"
     ]
    },
    {
     "name": "stderr",
     "output_type": "stream",
     "text": [
      "\u001b[34m\u001b[1mwandb\u001b[0m: Adding directory to artifact (/pscratch/sd/g/gupsingh/wandb/run-20240125_132012-twb26i88/files/model-best)... Done. 0.0s\n"
     ]
    },
    {
     "name": "stdout",
     "output_type": "stream",
     "text": [
      "2662/2662 [==============================] - 10s 4ms/step - loss: 0.1156 - accuracy: 0.9553 - val_loss: 0.1170 - val_accuracy: 0.9549\n",
      "Epoch 56/5000\n",
      "2645/2662 [============================>.] - ETA: 0s - loss: 0.1152 - accuracy: 0.9555INFO:tensorflow:Assets written to: /pscratch/sd/g/gupsingh/wandb/run-20240125_132012-twb26i88/files/model-best/assets\n"
     ]
    },
    {
     "name": "stderr",
     "output_type": "stream",
     "text": [
      "\u001b[34m\u001b[1mwandb\u001b[0m: Adding directory to artifact (/pscratch/sd/g/gupsingh/wandb/run-20240125_132012-twb26i88/files/model-best)... Done. 0.0s\n"
     ]
    },
    {
     "name": "stdout",
     "output_type": "stream",
     "text": [
      "2662/2662 [==============================] - 10s 4ms/step - loss: 0.1152 - accuracy: 0.9555 - val_loss: 0.1167 - val_accuracy: 0.9551\n",
      "Epoch 57/5000\n",
      "2662/2662 [==============================] - ETA: 0s - loss: 0.1149 - accuracy: 0.9556INFO:tensorflow:Assets written to: /pscratch/sd/g/gupsingh/wandb/run-20240125_132012-twb26i88/files/model-best/assets\n"
     ]
    },
    {
     "name": "stderr",
     "output_type": "stream",
     "text": [
      "\u001b[34m\u001b[1mwandb\u001b[0m: Adding directory to artifact (/pscratch/sd/g/gupsingh/wandb/run-20240125_132012-twb26i88/files/model-best)... Done. 0.0s\n"
     ]
    },
    {
     "name": "stdout",
     "output_type": "stream",
     "text": [
      "2662/2662 [==============================] - 10s 4ms/step - loss: 0.1149 - accuracy: 0.9556 - val_loss: 0.1166 - val_accuracy: 0.9550\n",
      "Epoch 58/5000\n",
      "2651/2662 [============================>.] - ETA: 0s - loss: 0.1145 - accuracy: 0.9558INFO:tensorflow:Assets written to: /pscratch/sd/g/gupsingh/wandb/run-20240125_132012-twb26i88/files/model-best/assets\n"
     ]
    },
    {
     "name": "stderr",
     "output_type": "stream",
     "text": [
      "\u001b[34m\u001b[1mwandb\u001b[0m: Adding directory to artifact (/pscratch/sd/g/gupsingh/wandb/run-20240125_132012-twb26i88/files/model-best)... Done. 0.1s\n"
     ]
    },
    {
     "name": "stdout",
     "output_type": "stream",
     "text": [
      "2662/2662 [==============================] - 10s 4ms/step - loss: 0.1145 - accuracy: 0.9558 - val_loss: 0.1159 - val_accuracy: 0.9554\n",
      "Epoch 59/5000\n",
      "2662/2662 [==============================] - 9s 3ms/step - loss: 0.1142 - accuracy: 0.9559 - val_loss: 0.1174 - val_accuracy: 0.9546\n",
      "Epoch 60/5000\n",
      "2656/2662 [============================>.] - ETA: 0s - loss: 0.1139 - accuracy: 0.9560INFO:tensorflow:Assets written to: /pscratch/sd/g/gupsingh/wandb/run-20240125_132012-twb26i88/files/model-best/assets\n"
     ]
    },
    {
     "name": "stderr",
     "output_type": "stream",
     "text": [
      "\u001b[34m\u001b[1mwandb\u001b[0m: Adding directory to artifact (/pscratch/sd/g/gupsingh/wandb/run-20240125_132012-twb26i88/files/model-best)... Done. 0.2s\n"
     ]
    },
    {
     "name": "stdout",
     "output_type": "stream",
     "text": [
      "2662/2662 [==============================] - 11s 4ms/step - loss: 0.1139 - accuracy: 0.9560 - val_loss: 0.1156 - val_accuracy: 0.9555\n",
      "Epoch 61/5000\n",
      "2655/2662 [============================>.] - ETA: 0s - loss: 0.1136 - accuracy: 0.9562INFO:tensorflow:Assets written to: /pscratch/sd/g/gupsingh/wandb/run-20240125_132012-twb26i88/files/model-best/assets\n"
     ]
    },
    {
     "name": "stderr",
     "output_type": "stream",
     "text": [
      "\u001b[34m\u001b[1mwandb\u001b[0m: Adding directory to artifact (/pscratch/sd/g/gupsingh/wandb/run-20240125_132012-twb26i88/files/model-best)... Done. 0.0s\n"
     ]
    },
    {
     "name": "stdout",
     "output_type": "stream",
     "text": [
      "2662/2662 [==============================] - 10s 4ms/step - loss: 0.1136 - accuracy: 0.9562 - val_loss: 0.1155 - val_accuracy: 0.9556\n",
      "Epoch 62/5000\n",
      "2662/2662 [==============================] - 9s 3ms/step - loss: 0.1133 - accuracy: 0.9563 - val_loss: 0.1161 - val_accuracy: 0.9558\n",
      "Epoch 63/5000\n",
      "2655/2662 [============================>.] - ETA: 0s - loss: 0.1129 - accuracy: 0.9565INFO:tensorflow:Assets written to: /pscratch/sd/g/gupsingh/wandb/run-20240125_132012-twb26i88/files/model-best/assets\n"
     ]
    },
    {
     "name": "stderr",
     "output_type": "stream",
     "text": [
      "\u001b[34m\u001b[1mwandb\u001b[0m: Adding directory to artifact (/pscratch/sd/g/gupsingh/wandb/run-20240125_132012-twb26i88/files/model-best)... Done. 0.0s\n"
     ]
    },
    {
     "name": "stdout",
     "output_type": "stream",
     "text": [
      "2662/2662 [==============================] - 10s 4ms/step - loss: 0.1129 - accuracy: 0.9565 - val_loss: 0.1146 - val_accuracy: 0.9560\n",
      "Epoch 64/5000\n",
      "2661/2662 [============================>.] - ETA: 0s - loss: 0.1126 - accuracy: 0.9566INFO:tensorflow:Assets written to: /pscratch/sd/g/gupsingh/wandb/run-20240125_132012-twb26i88/files/model-best/assets\n"
     ]
    },
    {
     "name": "stderr",
     "output_type": "stream",
     "text": [
      "\u001b[34m\u001b[1mwandb\u001b[0m: Adding directory to artifact (/pscratch/sd/g/gupsingh/wandb/run-20240125_132012-twb26i88/files/model-best)... Done. 0.0s\n"
     ]
    },
    {
     "name": "stdout",
     "output_type": "stream",
     "text": [
      "2662/2662 [==============================] - 10s 4ms/step - loss: 0.1126 - accuracy: 0.9566 - val_loss: 0.1144 - val_accuracy: 0.9561\n",
      "Epoch 65/5000\n",
      "2661/2662 [============================>.] - ETA: 0s - loss: 0.1123 - accuracy: 0.9567INFO:tensorflow:Assets written to: /pscratch/sd/g/gupsingh/wandb/run-20240125_132012-twb26i88/files/model-best/assets\n"
     ]
    },
    {
     "name": "stderr",
     "output_type": "stream",
     "text": [
      "\u001b[34m\u001b[1mwandb\u001b[0m: Adding directory to artifact (/pscratch/sd/g/gupsingh/wandb/run-20240125_132012-twb26i88/files/model-best)... Done. 0.0s\n"
     ]
    },
    {
     "name": "stdout",
     "output_type": "stream",
     "text": [
      "2662/2662 [==============================] - 10s 4ms/step - loss: 0.1123 - accuracy: 0.9567 - val_loss: 0.1140 - val_accuracy: 0.9562\n",
      "Epoch 66/5000\n",
      "2649/2662 [============================>.] - ETA: 0s - loss: 0.1120 - accuracy: 0.9569INFO:tensorflow:Assets written to: /pscratch/sd/g/gupsingh/wandb/run-20240125_132012-twb26i88/files/model-best/assets\n"
     ]
    },
    {
     "name": "stderr",
     "output_type": "stream",
     "text": [
      "\u001b[34m\u001b[1mwandb\u001b[0m: Adding directory to artifact (/pscratch/sd/g/gupsingh/wandb/run-20240125_132012-twb26i88/files/model-best)... Done. 0.1s\n"
     ]
    },
    {
     "name": "stdout",
     "output_type": "stream",
     "text": [
      "2662/2662 [==============================] - 10s 4ms/step - loss: 0.1120 - accuracy: 0.9569 - val_loss: 0.1139 - val_accuracy: 0.9563\n",
      "Epoch 67/5000\n",
      "2657/2662 [============================>.] - ETA: 0s - loss: 0.1117 - accuracy: 0.9570INFO:tensorflow:Assets written to: /pscratch/sd/g/gupsingh/wandb/run-20240125_132012-twb26i88/files/model-best/assets\n"
     ]
    },
    {
     "name": "stderr",
     "output_type": "stream",
     "text": [
      "\u001b[34m\u001b[1mwandb\u001b[0m: Adding directory to artifact (/pscratch/sd/g/gupsingh/wandb/run-20240125_132012-twb26i88/files/model-best)... Done. 0.1s\n"
     ]
    },
    {
     "name": "stdout",
     "output_type": "stream",
     "text": [
      "2662/2662 [==============================] - 10s 4ms/step - loss: 0.1117 - accuracy: 0.9570 - val_loss: 0.1134 - val_accuracy: 0.9565\n",
      "Epoch 68/5000\n",
      "2662/2662 [==============================] - 9s 3ms/step - loss: 0.1115 - accuracy: 0.9571 - val_loss: 0.1140 - val_accuracy: 0.9564\n",
      "Epoch 69/5000\n",
      "2662/2662 [==============================] - 9s 3ms/step - loss: 0.1111 - accuracy: 0.9573 - val_loss: 0.1140 - val_accuracy: 0.9564\n",
      "Epoch 70/5000\n",
      "2656/2662 [============================>.] - ETA: 0s - loss: 0.1109 - accuracy: 0.9574INFO:tensorflow:Assets written to: /pscratch/sd/g/gupsingh/wandb/run-20240125_132012-twb26i88/files/model-best/assets\n"
     ]
    },
    {
     "name": "stderr",
     "output_type": "stream",
     "text": [
      "\u001b[34m\u001b[1mwandb\u001b[0m: Adding directory to artifact (/pscratch/sd/g/gupsingh/wandb/run-20240125_132012-twb26i88/files/model-best)... Done. 0.0s\n"
     ]
    },
    {
     "name": "stdout",
     "output_type": "stream",
     "text": [
      "2662/2662 [==============================] - 10s 4ms/step - loss: 0.1109 - accuracy: 0.9574 - val_loss: 0.1131 - val_accuracy: 0.9566\n",
      "Epoch 71/5000\n",
      "2652/2662 [============================>.] - ETA: 0s - loss: 0.1106 - accuracy: 0.9575INFO:tensorflow:Assets written to: /pscratch/sd/g/gupsingh/wandb/run-20240125_132012-twb26i88/files/model-best/assets\n"
     ]
    },
    {
     "name": "stderr",
     "output_type": "stream",
     "text": [
      "\u001b[34m\u001b[1mwandb\u001b[0m: Adding directory to artifact (/pscratch/sd/g/gupsingh/wandb/run-20240125_132012-twb26i88/files/model-best)... Done. 0.1s\n"
     ]
    },
    {
     "name": "stdout",
     "output_type": "stream",
     "text": [
      "2662/2662 [==============================] - 11s 4ms/step - loss: 0.1106 - accuracy: 0.9575 - val_loss: 0.1130 - val_accuracy: 0.9568\n",
      "Epoch 72/5000\n",
      "2661/2662 [============================>.] - ETA: 0s - loss: 0.1103 - accuracy: 0.9576INFO:tensorflow:Assets written to: /pscratch/sd/g/gupsingh/wandb/run-20240125_132012-twb26i88/files/model-best/assets\n"
     ]
    },
    {
     "name": "stderr",
     "output_type": "stream",
     "text": [
      "\u001b[34m\u001b[1mwandb\u001b[0m: Adding directory to artifact (/pscratch/sd/g/gupsingh/wandb/run-20240125_132012-twb26i88/files/model-best)... Done. 0.1s\n"
     ]
    },
    {
     "name": "stdout",
     "output_type": "stream",
     "text": [
      "2662/2662 [==============================] - 10s 4ms/step - loss: 0.1104 - accuracy: 0.9576 - val_loss: 0.1125 - val_accuracy: 0.9569\n",
      "Epoch 73/5000\n",
      "2658/2662 [============================>.] - ETA: 0s - loss: 0.1101 - accuracy: 0.9577INFO:tensorflow:Assets written to: /pscratch/sd/g/gupsingh/wandb/run-20240125_132012-twb26i88/files/model-best/assets\n"
     ]
    },
    {
     "name": "stderr",
     "output_type": "stream",
     "text": [
      "\u001b[34m\u001b[1mwandb\u001b[0m: Adding directory to artifact (/pscratch/sd/g/gupsingh/wandb/run-20240125_132012-twb26i88/files/model-best)... Done. 0.0s\n"
     ]
    },
    {
     "name": "stdout",
     "output_type": "stream",
     "text": [
      "2662/2662 [==============================] - 10s 4ms/step - loss: 0.1101 - accuracy: 0.9578 - val_loss: 0.1120 - val_accuracy: 0.9573\n",
      "Epoch 74/5000\n",
      "2662/2662 [==============================] - 9s 3ms/step - loss: 0.1097 - accuracy: 0.9579 - val_loss: 0.1120 - val_accuracy: 0.9572\n",
      "Epoch 75/5000\n",
      "1077/2662 [===========>..................] - ETA: 3s - loss: 0.1093 - accuracy: 0.9582"
     ]
    },
    {
     "ename": "KeyboardInterrupt",
     "evalue": "",
     "output_type": "error",
     "traceback": [
      "\u001b[0;31m---------------------------------------------------------------------------\u001b[0m",
      "\u001b[0;31mKeyboardInterrupt\u001b[0m                         Traceback (most recent call last)",
      "Cell \u001b[0;32mIn[14], line 19\u001b[0m\n\u001b[1;32m     16\u001b[0m model_qq\u001b[38;5;241m.\u001b[39mcompile(loss\u001b[38;5;241m=\u001b[39mconfig_parametrized\u001b[38;5;241m.\u001b[39mloss, optimizer\u001b[38;5;241m=\u001b[39mconfig_parametrized\u001b[38;5;241m.\u001b[39moptimizer, metrics\u001b[38;5;241m=\u001b[39m[config_parametrized\u001b[38;5;241m.\u001b[39mmetric])\n\u001b[1;32m     18\u001b[0m \u001b[38;5;28;01mwith\u001b[39;00m tf\u001b[38;5;241m.\u001b[39mdevice(\u001b[38;5;124m'\u001b[39m\u001b[38;5;124m/GPU:0\u001b[39m\u001b[38;5;124m'\u001b[39m):\n\u001b[0;32m---> 19\u001b[0m     myhistory_qq \u001b[38;5;241m=\u001b[39m \u001b[43mmodel_qq\u001b[49m\u001b[38;5;241;43m.\u001b[39;49m\u001b[43mfit\u001b[49m\u001b[43m(\u001b[49m\u001b[43mX_train_qq\u001b[49m\u001b[43m,\u001b[49m\u001b[43m \u001b[49m\u001b[43mY_train_qq\u001b[49m\u001b[43m,\u001b[49m\u001b[43m \u001b[49m\u001b[43mepochs\u001b[49m\u001b[38;5;241;43m=\u001b[39;49m\u001b[43mconfig_parametrized\u001b[49m\u001b[38;5;241;43m.\u001b[39;49m\u001b[43mepoch\u001b[49m\u001b[43m,\u001b[49m\u001b[43mvalidation_data\u001b[49m\u001b[38;5;241;43m=\u001b[39;49m\u001b[43m(\u001b[49m\u001b[43mX_val_qq\u001b[49m\u001b[43m,\u001b[49m\u001b[43m \u001b[49m\u001b[43mY_val_qq\u001b[49m\u001b[43m)\u001b[49m\u001b[43m,\u001b[49m\u001b[43mbatch_size\u001b[49m\u001b[38;5;241;43m=\u001b[39;49m\u001b[43mconfig_parametrized\u001b[49m\u001b[38;5;241;43m.\u001b[39;49m\u001b[43mbatch_size\u001b[49m\u001b[43m,\u001b[49m\u001b[43mcallbacks\u001b[49m\u001b[38;5;241;43m=\u001b[39;49m\u001b[43m[\u001b[49m\u001b[43mes\u001b[49m\u001b[43m,\u001b[49m\u001b[43m \u001b[49m\u001b[43mWandbCallback\u001b[49m\u001b[43m(\u001b[49m\u001b[43m)\u001b[49m\u001b[43m]\u001b[49m\u001b[43m)\u001b[49m\n",
      "File \u001b[0;32m~/.local/perlmutter/tensorflow2.9.0/lib/python3.9/site-packages/wandb/integration/keras/keras.py:174\u001b[0m, in \u001b[0;36mpatch_tf_keras.<locals>.new_v2\u001b[0;34m(*args, **kwargs)\u001b[0m\n\u001b[1;32m    172\u001b[0m     \u001b[38;5;28;01mfor\u001b[39;00m cbk \u001b[38;5;129;01min\u001b[39;00m cbks:\n\u001b[1;32m    173\u001b[0m         set_wandb_attrs(cbk, val_data)\n\u001b[0;32m--> 174\u001b[0m \u001b[38;5;28;01mreturn\u001b[39;00m \u001b[43mold_v2\u001b[49m\u001b[43m(\u001b[49m\u001b[38;5;241;43m*\u001b[39;49m\u001b[43margs\u001b[49m\u001b[43m,\u001b[49m\u001b[43m \u001b[49m\u001b[38;5;241;43m*\u001b[39;49m\u001b[38;5;241;43m*\u001b[39;49m\u001b[43mkwargs\u001b[49m\u001b[43m)\u001b[49m\n",
      "File \u001b[0;32m~/.local/perlmutter/tensorflow2.9.0/lib/python3.9/site-packages/wandb/integration/keras/keras.py:174\u001b[0m, in \u001b[0;36mpatch_tf_keras.<locals>.new_v2\u001b[0;34m(*args, **kwargs)\u001b[0m\n\u001b[1;32m    172\u001b[0m     \u001b[38;5;28;01mfor\u001b[39;00m cbk \u001b[38;5;129;01min\u001b[39;00m cbks:\n\u001b[1;32m    173\u001b[0m         set_wandb_attrs(cbk, val_data)\n\u001b[0;32m--> 174\u001b[0m \u001b[38;5;28;01mreturn\u001b[39;00m \u001b[43mold_v2\u001b[49m\u001b[43m(\u001b[49m\u001b[38;5;241;43m*\u001b[39;49m\u001b[43margs\u001b[49m\u001b[43m,\u001b[49m\u001b[43m \u001b[49m\u001b[38;5;241;43m*\u001b[39;49m\u001b[38;5;241;43m*\u001b[39;49m\u001b[43mkwargs\u001b[49m\u001b[43m)\u001b[49m\n",
      "File \u001b[0;32m~/.local/perlmutter/tensorflow2.9.0/lib/python3.9/site-packages/wandb/integration/keras/keras.py:174\u001b[0m, in \u001b[0;36mpatch_tf_keras.<locals>.new_v2\u001b[0;34m(*args, **kwargs)\u001b[0m\n\u001b[1;32m    172\u001b[0m     \u001b[38;5;28;01mfor\u001b[39;00m cbk \u001b[38;5;129;01min\u001b[39;00m cbks:\n\u001b[1;32m    173\u001b[0m         set_wandb_attrs(cbk, val_data)\n\u001b[0;32m--> 174\u001b[0m \u001b[38;5;28;01mreturn\u001b[39;00m \u001b[43mold_v2\u001b[49m\u001b[43m(\u001b[49m\u001b[38;5;241;43m*\u001b[39;49m\u001b[43margs\u001b[49m\u001b[43m,\u001b[49m\u001b[43m \u001b[49m\u001b[38;5;241;43m*\u001b[39;49m\u001b[38;5;241;43m*\u001b[39;49m\u001b[43mkwargs\u001b[49m\u001b[43m)\u001b[49m\n",
      "File \u001b[0;32m/global/common/software/nersc/pm-2022q4/sw/tensorflow/2.9.0/lib/python3.9/site-packages/keras/utils/traceback_utils.py:64\u001b[0m, in \u001b[0;36mfilter_traceback.<locals>.error_handler\u001b[0;34m(*args, **kwargs)\u001b[0m\n\u001b[1;32m     62\u001b[0m filtered_tb \u001b[38;5;241m=\u001b[39m \u001b[38;5;28;01mNone\u001b[39;00m\n\u001b[1;32m     63\u001b[0m \u001b[38;5;28;01mtry\u001b[39;00m:\n\u001b[0;32m---> 64\u001b[0m   \u001b[38;5;28;01mreturn\u001b[39;00m \u001b[43mfn\u001b[49m\u001b[43m(\u001b[49m\u001b[38;5;241;43m*\u001b[39;49m\u001b[43margs\u001b[49m\u001b[43m,\u001b[49m\u001b[43m \u001b[49m\u001b[38;5;241;43m*\u001b[39;49m\u001b[38;5;241;43m*\u001b[39;49m\u001b[43mkwargs\u001b[49m\u001b[43m)\u001b[49m\n\u001b[1;32m     65\u001b[0m \u001b[38;5;28;01mexcept\u001b[39;00m \u001b[38;5;167;01mException\u001b[39;00m \u001b[38;5;28;01mas\u001b[39;00m e:  \u001b[38;5;66;03m# pylint: disable=broad-except\u001b[39;00m\n\u001b[1;32m     66\u001b[0m   filtered_tb \u001b[38;5;241m=\u001b[39m _process_traceback_frames(e\u001b[38;5;241m.\u001b[39m__traceback__)\n",
      "File \u001b[0;32m/global/common/software/nersc/pm-2022q4/sw/tensorflow/2.9.0/lib/python3.9/site-packages/keras/engine/training.py:1409\u001b[0m, in \u001b[0;36mModel.fit\u001b[0;34m(self, x, y, batch_size, epochs, verbose, callbacks, validation_split, validation_data, shuffle, class_weight, sample_weight, initial_epoch, steps_per_epoch, validation_steps, validation_batch_size, validation_freq, max_queue_size, workers, use_multiprocessing)\u001b[0m\n\u001b[1;32m   1402\u001b[0m \u001b[38;5;28;01mwith\u001b[39;00m tf\u001b[38;5;241m.\u001b[39mprofiler\u001b[38;5;241m.\u001b[39mexperimental\u001b[38;5;241m.\u001b[39mTrace(\n\u001b[1;32m   1403\u001b[0m     \u001b[38;5;124m'\u001b[39m\u001b[38;5;124mtrain\u001b[39m\u001b[38;5;124m'\u001b[39m,\n\u001b[1;32m   1404\u001b[0m     epoch_num\u001b[38;5;241m=\u001b[39mepoch,\n\u001b[1;32m   1405\u001b[0m     step_num\u001b[38;5;241m=\u001b[39mstep,\n\u001b[1;32m   1406\u001b[0m     batch_size\u001b[38;5;241m=\u001b[39mbatch_size,\n\u001b[1;32m   1407\u001b[0m     _r\u001b[38;5;241m=\u001b[39m\u001b[38;5;241m1\u001b[39m):\n\u001b[1;32m   1408\u001b[0m   callbacks\u001b[38;5;241m.\u001b[39mon_train_batch_begin(step)\n\u001b[0;32m-> 1409\u001b[0m   tmp_logs \u001b[38;5;241m=\u001b[39m \u001b[38;5;28;43mself\u001b[39;49m\u001b[38;5;241;43m.\u001b[39;49m\u001b[43mtrain_function\u001b[49m\u001b[43m(\u001b[49m\u001b[43miterator\u001b[49m\u001b[43m)\u001b[49m\n\u001b[1;32m   1410\u001b[0m   \u001b[38;5;28;01mif\u001b[39;00m data_handler\u001b[38;5;241m.\u001b[39mshould_sync:\n\u001b[1;32m   1411\u001b[0m     context\u001b[38;5;241m.\u001b[39masync_wait()\n",
      "File \u001b[0;32m/global/common/software/nersc/pm-2022q4/sw/tensorflow/2.9.0/lib/python3.9/site-packages/tensorflow/python/util/traceback_utils.py:150\u001b[0m, in \u001b[0;36mfilter_traceback.<locals>.error_handler\u001b[0;34m(*args, **kwargs)\u001b[0m\n\u001b[1;32m    148\u001b[0m filtered_tb \u001b[38;5;241m=\u001b[39m \u001b[38;5;28;01mNone\u001b[39;00m\n\u001b[1;32m    149\u001b[0m \u001b[38;5;28;01mtry\u001b[39;00m:\n\u001b[0;32m--> 150\u001b[0m   \u001b[38;5;28;01mreturn\u001b[39;00m \u001b[43mfn\u001b[49m\u001b[43m(\u001b[49m\u001b[38;5;241;43m*\u001b[39;49m\u001b[43margs\u001b[49m\u001b[43m,\u001b[49m\u001b[43m \u001b[49m\u001b[38;5;241;43m*\u001b[39;49m\u001b[38;5;241;43m*\u001b[39;49m\u001b[43mkwargs\u001b[49m\u001b[43m)\u001b[49m\n\u001b[1;32m    151\u001b[0m \u001b[38;5;28;01mexcept\u001b[39;00m \u001b[38;5;167;01mException\u001b[39;00m \u001b[38;5;28;01mas\u001b[39;00m e:\n\u001b[1;32m    152\u001b[0m   filtered_tb \u001b[38;5;241m=\u001b[39m _process_traceback_frames(e\u001b[38;5;241m.\u001b[39m__traceback__)\n",
      "File \u001b[0;32m/global/common/software/nersc/pm-2022q4/sw/tensorflow/2.9.0/lib/python3.9/site-packages/tensorflow/python/eager/def_function.py:915\u001b[0m, in \u001b[0;36mFunction.__call__\u001b[0;34m(self, *args, **kwds)\u001b[0m\n\u001b[1;32m    912\u001b[0m compiler \u001b[38;5;241m=\u001b[39m \u001b[38;5;124m\"\u001b[39m\u001b[38;5;124mxla\u001b[39m\u001b[38;5;124m\"\u001b[39m \u001b[38;5;28;01mif\u001b[39;00m \u001b[38;5;28mself\u001b[39m\u001b[38;5;241m.\u001b[39m_jit_compile \u001b[38;5;28;01melse\u001b[39;00m \u001b[38;5;124m\"\u001b[39m\u001b[38;5;124mnonXla\u001b[39m\u001b[38;5;124m\"\u001b[39m\n\u001b[1;32m    914\u001b[0m \u001b[38;5;28;01mwith\u001b[39;00m OptionalXlaContext(\u001b[38;5;28mself\u001b[39m\u001b[38;5;241m.\u001b[39m_jit_compile):\n\u001b[0;32m--> 915\u001b[0m   result \u001b[38;5;241m=\u001b[39m \u001b[38;5;28;43mself\u001b[39;49m\u001b[38;5;241;43m.\u001b[39;49m\u001b[43m_call\u001b[49m\u001b[43m(\u001b[49m\u001b[38;5;241;43m*\u001b[39;49m\u001b[43margs\u001b[49m\u001b[43m,\u001b[49m\u001b[43m \u001b[49m\u001b[38;5;241;43m*\u001b[39;49m\u001b[38;5;241;43m*\u001b[39;49m\u001b[43mkwds\u001b[49m\u001b[43m)\u001b[49m\n\u001b[1;32m    917\u001b[0m new_tracing_count \u001b[38;5;241m=\u001b[39m \u001b[38;5;28mself\u001b[39m\u001b[38;5;241m.\u001b[39mexperimental_get_tracing_count()\n\u001b[1;32m    918\u001b[0m without_tracing \u001b[38;5;241m=\u001b[39m (tracing_count \u001b[38;5;241m==\u001b[39m new_tracing_count)\n",
      "File \u001b[0;32m/global/common/software/nersc/pm-2022q4/sw/tensorflow/2.9.0/lib/python3.9/site-packages/tensorflow/python/eager/def_function.py:947\u001b[0m, in \u001b[0;36mFunction._call\u001b[0;34m(self, *args, **kwds)\u001b[0m\n\u001b[1;32m    944\u001b[0m   \u001b[38;5;28mself\u001b[39m\u001b[38;5;241m.\u001b[39m_lock\u001b[38;5;241m.\u001b[39mrelease()\n\u001b[1;32m    945\u001b[0m   \u001b[38;5;66;03m# In this case we have created variables on the first call, so we run the\u001b[39;00m\n\u001b[1;32m    946\u001b[0m   \u001b[38;5;66;03m# defunned version which is guaranteed to never create variables.\u001b[39;00m\n\u001b[0;32m--> 947\u001b[0m   \u001b[38;5;28;01mreturn\u001b[39;00m \u001b[38;5;28;43mself\u001b[39;49m\u001b[38;5;241;43m.\u001b[39;49m\u001b[43m_stateless_fn\u001b[49m\u001b[43m(\u001b[49m\u001b[38;5;241;43m*\u001b[39;49m\u001b[43margs\u001b[49m\u001b[43m,\u001b[49m\u001b[43m \u001b[49m\u001b[38;5;241;43m*\u001b[39;49m\u001b[38;5;241;43m*\u001b[39;49m\u001b[43mkwds\u001b[49m\u001b[43m)\u001b[49m  \u001b[38;5;66;03m# pylint: disable=not-callable\u001b[39;00m\n\u001b[1;32m    948\u001b[0m \u001b[38;5;28;01melif\u001b[39;00m \u001b[38;5;28mself\u001b[39m\u001b[38;5;241m.\u001b[39m_stateful_fn \u001b[38;5;129;01mis\u001b[39;00m \u001b[38;5;129;01mnot\u001b[39;00m \u001b[38;5;28;01mNone\u001b[39;00m:\n\u001b[1;32m    949\u001b[0m   \u001b[38;5;66;03m# Release the lock early so that multiple threads can perform the call\u001b[39;00m\n\u001b[1;32m    950\u001b[0m   \u001b[38;5;66;03m# in parallel.\u001b[39;00m\n\u001b[1;32m    951\u001b[0m   \u001b[38;5;28mself\u001b[39m\u001b[38;5;241m.\u001b[39m_lock\u001b[38;5;241m.\u001b[39mrelease()\n",
      "File \u001b[0;32m/global/common/software/nersc/pm-2022q4/sw/tensorflow/2.9.0/lib/python3.9/site-packages/tensorflow/python/eager/function.py:2453\u001b[0m, in \u001b[0;36mFunction.__call__\u001b[0;34m(self, *args, **kwargs)\u001b[0m\n\u001b[1;32m   2450\u001b[0m \u001b[38;5;28;01mwith\u001b[39;00m \u001b[38;5;28mself\u001b[39m\u001b[38;5;241m.\u001b[39m_lock:\n\u001b[1;32m   2451\u001b[0m   (graph_function,\n\u001b[1;32m   2452\u001b[0m    filtered_flat_args) \u001b[38;5;241m=\u001b[39m \u001b[38;5;28mself\u001b[39m\u001b[38;5;241m.\u001b[39m_maybe_define_function(args, kwargs)\n\u001b[0;32m-> 2453\u001b[0m \u001b[38;5;28;01mreturn\u001b[39;00m \u001b[43mgraph_function\u001b[49m\u001b[38;5;241;43m.\u001b[39;49m\u001b[43m_call_flat\u001b[49m\u001b[43m(\u001b[49m\n\u001b[1;32m   2454\u001b[0m \u001b[43m    \u001b[49m\u001b[43mfiltered_flat_args\u001b[49m\u001b[43m,\u001b[49m\u001b[43m \u001b[49m\u001b[43mcaptured_inputs\u001b[49m\u001b[38;5;241;43m=\u001b[39;49m\u001b[43mgraph_function\u001b[49m\u001b[38;5;241;43m.\u001b[39;49m\u001b[43mcaptured_inputs\u001b[49m\u001b[43m)\u001b[49m\n",
      "File \u001b[0;32m/global/common/software/nersc/pm-2022q4/sw/tensorflow/2.9.0/lib/python3.9/site-packages/tensorflow/python/eager/function.py:1860\u001b[0m, in \u001b[0;36mConcreteFunction._call_flat\u001b[0;34m(self, args, captured_inputs, cancellation_manager)\u001b[0m\n\u001b[1;32m   1856\u001b[0m possible_gradient_type \u001b[38;5;241m=\u001b[39m gradients_util\u001b[38;5;241m.\u001b[39mPossibleTapeGradientTypes(args)\n\u001b[1;32m   1857\u001b[0m \u001b[38;5;28;01mif\u001b[39;00m (possible_gradient_type \u001b[38;5;241m==\u001b[39m gradients_util\u001b[38;5;241m.\u001b[39mPOSSIBLE_GRADIENT_TYPES_NONE\n\u001b[1;32m   1858\u001b[0m     \u001b[38;5;129;01mand\u001b[39;00m executing_eagerly):\n\u001b[1;32m   1859\u001b[0m   \u001b[38;5;66;03m# No tape is watching; skip to running the function.\u001b[39;00m\n\u001b[0;32m-> 1860\u001b[0m   \u001b[38;5;28;01mreturn\u001b[39;00m \u001b[38;5;28mself\u001b[39m\u001b[38;5;241m.\u001b[39m_build_call_outputs(\u001b[38;5;28;43mself\u001b[39;49m\u001b[38;5;241;43m.\u001b[39;49m\u001b[43m_inference_function\u001b[49m\u001b[38;5;241;43m.\u001b[39;49m\u001b[43mcall\u001b[49m(\n\u001b[1;32m   1861\u001b[0m       ctx, args, cancellation_manager\u001b[38;5;241m=\u001b[39mcancellation_manager))\n\u001b[1;32m   1862\u001b[0m forward_backward \u001b[38;5;241m=\u001b[39m \u001b[38;5;28mself\u001b[39m\u001b[38;5;241m.\u001b[39m_select_forward_and_backward_functions(\n\u001b[1;32m   1863\u001b[0m     args,\n\u001b[1;32m   1864\u001b[0m     possible_gradient_type,\n\u001b[1;32m   1865\u001b[0m     executing_eagerly)\n\u001b[1;32m   1866\u001b[0m forward_function, args_with_tangents \u001b[38;5;241m=\u001b[39m forward_backward\u001b[38;5;241m.\u001b[39mforward()\n",
      "\u001b[0;31mKeyboardInterrupt\u001b[0m: "
     ]
    }
   ],
   "source": [
    "from tensorflow.keras.layers import Dropout\n",
    "es = tf.keras.callbacks.EarlyStopping(monitor='val_loss', patience=5)\n",
    "\n",
    "model_qq = Sequential()\n",
    "model_qq.add(Dense(config_parametrized.layer_1, input_dim=8, activation=config_parametrized.activation_1))\n",
    "model_qq.add(BatchNormalization())\n",
    "#model_qq.add(Dropout(config_parametrized.dropout_rate))\n",
    "model_qq.add(Dense(config_parametrized.layer_2, activation=config_parametrized.activation_2))\n",
    "model_qq.add(BatchNormalization())\n",
    "#model_qq.add(Dropout(config_parametrized.dropout_rate))\n",
    "model_qq.add(Dense(config_parametrized.layer_3, activation=config_parametrized.activation_3))\n",
    "model_qq.add(BatchNormalization())\n",
    "#model_qq.add(Dropout(config_parametrized.dropout_rate))\n",
    "model_qq.add(Dense(config_parametrized.output_layer, activation=config_parametrized.output_activation))\n",
    "opt = tf.keras.optimizers.Adam(learning_rate=config_parametrized.learning_rate)\n",
    "model_qq.compile(loss=config_parametrized.loss, optimizer=config_parametrized.optimizer, metrics=[config_parametrized.metric])\n",
    "\n",
    "with tf.device('/GPU:0'):\n",
    "    myhistory_qq = model_qq.fit(X_train_qq, Y_train_qq, epochs=config_parametrized.epoch,validation_data=(X_val_qq, Y_val_qq),batch_size=config_parametrized.batch_size,callbacks=[es, WandbCallback()])"
   ]
  },
  {
   "cell_type": "code",
   "execution_count": 20,
   "id": "d6ff9dc3-e510-4b29-972c-ce7e630a8757",
   "metadata": {
    "collapsed": true,
    "jupyter": {
     "outputs_hidden": true
    },
    "tags": []
   },
   "outputs": [
    {
     "name": "stdout",
     "output_type": "stream",
     "text": [
      "Epoch 1/5000\n",
      "2662/2662 [==============================] - 15s 5ms/step - loss: 0.2540 - accuracy: 0.9013 - val_loss: 0.2041 - val_accuracy: 0.9237\n",
      "Epoch 2/5000\n",
      "2662/2662 [==============================] - 13s 5ms/step - loss: 0.1931 - accuracy: 0.9269 - val_loss: 0.1832 - val_accuracy: 0.9301\n",
      "Epoch 3/5000\n",
      "2662/2662 [==============================] - 13s 5ms/step - loss: 0.1772 - accuracy: 0.9318 - val_loss: 0.1717 - val_accuracy: 0.9336\n",
      "Epoch 4/5000\n",
      "2662/2662 [==============================] - 13s 5ms/step - loss: 0.1686 - accuracy: 0.9346 - val_loss: 0.1654 - val_accuracy: 0.9358\n",
      "Epoch 5/5000\n",
      "2662/2662 [==============================] - 13s 5ms/step - loss: 0.1634 - accuracy: 0.9366 - val_loss: 0.1611 - val_accuracy: 0.9376\n",
      "Epoch 6/5000\n",
      "2662/2662 [==============================] - 12s 5ms/step - loss: 0.1595 - accuracy: 0.9381 - val_loss: 0.1578 - val_accuracy: 0.9390\n",
      "Epoch 7/5000\n",
      "2662/2662 [==============================] - 12s 5ms/step - loss: 0.1565 - accuracy: 0.9394 - val_loss: 0.1549 - val_accuracy: 0.9401\n",
      "Epoch 8/5000\n",
      "2662/2662 [==============================] - 12s 5ms/step - loss: 0.1540 - accuracy: 0.9404 - val_loss: 0.1527 - val_accuracy: 0.9410\n",
      "Epoch 9/5000\n",
      "2662/2662 [==============================] - 12s 5ms/step - loss: 0.1520 - accuracy: 0.9412 - val_loss: 0.1507 - val_accuracy: 0.9417\n",
      "Epoch 10/5000\n",
      "2662/2662 [==============================] - 12s 5ms/step - loss: 0.1503 - accuracy: 0.9418 - val_loss: 0.1492 - val_accuracy: 0.9424\n",
      "Epoch 11/5000\n",
      "2662/2662 [==============================] - 13s 5ms/step - loss: 0.1488 - accuracy: 0.9425 - val_loss: 0.1478 - val_accuracy: 0.9429\n",
      "Epoch 12/5000\n",
      "2662/2662 [==============================] - 12s 5ms/step - loss: 0.1475 - accuracy: 0.9429 - val_loss: 0.1467 - val_accuracy: 0.9434\n",
      "Epoch 13/5000\n",
      "2662/2662 [==============================] - 12s 5ms/step - loss: 0.1464 - accuracy: 0.9434 - val_loss: 0.1456 - val_accuracy: 0.9437\n",
      "Epoch 14/5000\n",
      "2662/2662 [==============================] - 12s 5ms/step - loss: 0.1455 - accuracy: 0.9437 - val_loss: 0.1447 - val_accuracy: 0.9441\n",
      "Epoch 15/5000\n",
      "2662/2662 [==============================] - 12s 5ms/step - loss: 0.1446 - accuracy: 0.9440 - val_loss: 0.1439 - val_accuracy: 0.9444\n",
      "Epoch 16/5000\n",
      "2662/2662 [==============================] - 12s 5ms/step - loss: 0.1439 - accuracy: 0.9443 - val_loss: 0.1433 - val_accuracy: 0.9447\n",
      "Epoch 17/5000\n",
      "2662/2662 [==============================] - 12s 5ms/step - loss: 0.1432 - accuracy: 0.9446 - val_loss: 0.1426 - val_accuracy: 0.9449\n",
      "Epoch 18/5000\n",
      "2662/2662 [==============================] - 12s 4ms/step - loss: 0.1426 - accuracy: 0.9448 - val_loss: 0.1420 - val_accuracy: 0.9451\n",
      "Epoch 19/5000\n",
      "2662/2662 [==============================] - 12s 5ms/step - loss: 0.1421 - accuracy: 0.9450 - val_loss: 0.1414 - val_accuracy: 0.9453\n",
      "Epoch 20/5000\n",
      "2662/2662 [==============================] - 12s 5ms/step - loss: 0.1416 - accuracy: 0.9452 - val_loss: 0.1410 - val_accuracy: 0.9455\n",
      "Epoch 21/5000\n",
      "2662/2662 [==============================] - 12s 5ms/step - loss: 0.1412 - accuracy: 0.9453 - val_loss: 0.1406 - val_accuracy: 0.9456\n",
      "Epoch 22/5000\n",
      "2662/2662 [==============================] - 12s 5ms/step - loss: 0.1407 - accuracy: 0.9455 - val_loss: 0.1402 - val_accuracy: 0.9457\n",
      "Epoch 23/5000\n",
      "2662/2662 [==============================] - 12s 5ms/step - loss: 0.1404 - accuracy: 0.9456 - val_loss: 0.1398 - val_accuracy: 0.9459\n",
      "Epoch 24/5000\n",
      "2662/2662 [==============================] - 12s 5ms/step - loss: 0.1400 - accuracy: 0.9458 - val_loss: 0.1395 - val_accuracy: 0.9460\n",
      "Epoch 25/5000\n",
      "2662/2662 [==============================] - 12s 5ms/step - loss: 0.1397 - accuracy: 0.9459 - val_loss: 0.1392 - val_accuracy: 0.9461\n",
      "Epoch 26/5000\n",
      "2662/2662 [==============================] - 12s 5ms/step - loss: 0.1394 - accuracy: 0.9460 - val_loss: 0.1390 - val_accuracy: 0.9462\n",
      "Epoch 27/5000\n",
      "2662/2662 [==============================] - 12s 5ms/step - loss: 0.1391 - accuracy: 0.9461 - val_loss: 0.1388 - val_accuracy: 0.9463\n",
      "Epoch 28/5000\n",
      "2662/2662 [==============================] - 12s 5ms/step - loss: 0.1389 - accuracy: 0.9462 - val_loss: 0.1384 - val_accuracy: 0.9464\n",
      "Epoch 29/5000\n",
      "2662/2662 [==============================] - 12s 5ms/step - loss: 0.1386 - accuracy: 0.9463 - val_loss: 0.1381 - val_accuracy: 0.9465\n",
      "Epoch 30/5000\n",
      "2662/2662 [==============================] - 12s 5ms/step - loss: 0.1384 - accuracy: 0.9463 - val_loss: 0.1380 - val_accuracy: 0.9466\n",
      "Epoch 31/5000\n",
      "2662/2662 [==============================] - 12s 5ms/step - loss: 0.1382 - accuracy: 0.9464 - val_loss: 0.1378 - val_accuracy: 0.9467\n",
      "Epoch 32/5000\n",
      "2662/2662 [==============================] - 12s 5ms/step - loss: 0.1380 - accuracy: 0.9465 - val_loss: 0.1375 - val_accuracy: 0.9467\n",
      "Epoch 33/5000\n",
      "2662/2662 [==============================] - 12s 5ms/step - loss: 0.1378 - accuracy: 0.9466 - val_loss: 0.1374 - val_accuracy: 0.9468\n",
      "Epoch 34/5000\n",
      "2662/2662 [==============================] - 12s 5ms/step - loss: 0.1376 - accuracy: 0.9467 - val_loss: 0.1373 - val_accuracy: 0.9468\n",
      "Epoch 35/5000\n",
      "2662/2662 [==============================] - 12s 5ms/step - loss: 0.1374 - accuracy: 0.9467 - val_loss: 0.1370 - val_accuracy: 0.9470\n",
      "Epoch 36/5000\n",
      "2662/2662 [==============================] - 12s 5ms/step - loss: 0.1372 - accuracy: 0.9468 - val_loss: 0.1368 - val_accuracy: 0.9470\n",
      "Epoch 37/5000\n",
      "2662/2662 [==============================] - 12s 5ms/step - loss: 0.1371 - accuracy: 0.9468 - val_loss: 0.1367 - val_accuracy: 0.9470\n",
      "Epoch 38/5000\n",
      "2662/2662 [==============================] - 12s 5ms/step - loss: 0.1370 - accuracy: 0.9469 - val_loss: 0.1366 - val_accuracy: 0.9471\n",
      "Epoch 39/5000\n",
      "2662/2662 [==============================] - 12s 5ms/step - loss: 0.1368 - accuracy: 0.9470 - val_loss: 0.1364 - val_accuracy: 0.9472\n",
      "Epoch 40/5000\n",
      "2662/2662 [==============================] - 12s 5ms/step - loss: 0.1367 - accuracy: 0.9470 - val_loss: 0.1362 - val_accuracy: 0.9472\n",
      "Epoch 41/5000\n",
      "2662/2662 [==============================] - 12s 5ms/step - loss: 0.1365 - accuracy: 0.9471 - val_loss: 0.1361 - val_accuracy: 0.9473\n",
      "Epoch 42/5000\n",
      "2662/2662 [==============================] - 12s 5ms/step - loss: 0.1364 - accuracy: 0.9471 - val_loss: 0.1360 - val_accuracy: 0.9473\n",
      "Epoch 43/5000\n",
      "2662/2662 [==============================] - 12s 5ms/step - loss: 0.1363 - accuracy: 0.9472 - val_loss: 0.1358 - val_accuracy: 0.9474\n",
      "Epoch 44/5000\n",
      "2662/2662 [==============================] - 12s 5ms/step - loss: 0.1362 - accuracy: 0.9472 - val_loss: 0.1357 - val_accuracy: 0.9474\n",
      "Epoch 45/5000\n",
      "2662/2662 [==============================] - 12s 5ms/step - loss: 0.1360 - accuracy: 0.9473 - val_loss: 0.1357 - val_accuracy: 0.9474\n",
      "Epoch 46/5000\n",
      "2662/2662 [==============================] - 12s 5ms/step - loss: 0.1359 - accuracy: 0.9473 - val_loss: 0.1355 - val_accuracy: 0.9475\n",
      "Epoch 47/5000\n",
      "2662/2662 [==============================] - 12s 5ms/step - loss: 0.1359 - accuracy: 0.9473 - val_loss: 0.1354 - val_accuracy: 0.9475\n",
      "Epoch 48/5000\n",
      "2662/2662 [==============================] - 12s 5ms/step - loss: 0.1358 - accuracy: 0.9474 - val_loss: 0.1353 - val_accuracy: 0.9476\n",
      "Epoch 49/5000\n",
      "2662/2662 [==============================] - 12s 5ms/step - loss: 0.1357 - accuracy: 0.9474 - val_loss: 0.1352 - val_accuracy: 0.9476\n",
      "Epoch 50/5000\n",
      "2662/2662 [==============================] - 12s 5ms/step - loss: 0.1356 - accuracy: 0.9475 - val_loss: 0.1352 - val_accuracy: 0.9476\n",
      "Epoch 51/5000\n",
      "2662/2662 [==============================] - 12s 5ms/step - loss: 0.1355 - accuracy: 0.9475 - val_loss: 0.1351 - val_accuracy: 0.9477\n",
      "Epoch 52/5000\n",
      "2662/2662 [==============================] - 12s 5ms/step - loss: 0.1354 - accuracy: 0.9475 - val_loss: 0.1350 - val_accuracy: 0.9477\n",
      "Epoch 53/5000\n",
      "2662/2662 [==============================] - 12s 5ms/step - loss: 0.1353 - accuracy: 0.9475 - val_loss: 0.1350 - val_accuracy: 0.9477\n",
      "Epoch 54/5000\n",
      "2662/2662 [==============================] - 12s 5ms/step - loss: 0.1353 - accuracy: 0.9476 - val_loss: 0.1348 - val_accuracy: 0.9478\n",
      "Epoch 55/5000\n",
      "2662/2662 [==============================] - 12s 4ms/step - loss: 0.1352 - accuracy: 0.9476 - val_loss: 0.1348 - val_accuracy: 0.9478\n",
      "Epoch 56/5000\n",
      "2662/2662 [==============================] - 12s 4ms/step - loss: 0.1351 - accuracy: 0.9476 - val_loss: 0.1348 - val_accuracy: 0.9478\n",
      "Epoch 57/5000\n",
      "2662/2662 [==============================] - 12s 5ms/step - loss: 0.1350 - accuracy: 0.9477 - val_loss: 0.1346 - val_accuracy: 0.9478\n",
      "Epoch 58/5000\n",
      "2662/2662 [==============================] - 12s 5ms/step - loss: 0.1349 - accuracy: 0.9477 - val_loss: 0.1346 - val_accuracy: 0.9479\n",
      "Epoch 59/5000\n",
      "2662/2662 [==============================] - 12s 5ms/step - loss: 0.1349 - accuracy: 0.9477 - val_loss: 0.1345 - val_accuracy: 0.9479\n",
      "Epoch 60/5000\n",
      "2662/2662 [==============================] - 12s 4ms/step - loss: 0.1348 - accuracy: 0.9477 - val_loss: 0.1345 - val_accuracy: 0.9479\n",
      "Epoch 61/5000\n",
      "2662/2662 [==============================] - 12s 5ms/step - loss: 0.1348 - accuracy: 0.9477 - val_loss: 0.1344 - val_accuracy: 0.9479\n",
      "Epoch 62/5000\n",
      "2662/2662 [==============================] - 12s 5ms/step - loss: 0.1347 - accuracy: 0.9478 - val_loss: 0.1343 - val_accuracy: 0.9479\n",
      "Epoch 63/5000\n",
      "2662/2662 [==============================] - 12s 5ms/step - loss: 0.1347 - accuracy: 0.9478 - val_loss: 0.1343 - val_accuracy: 0.9480\n",
      "Epoch 64/5000\n",
      "2662/2662 [==============================] - 12s 5ms/step - loss: 0.1346 - accuracy: 0.9478 - val_loss: 0.1343 - val_accuracy: 0.9479\n",
      "Epoch 65/5000\n",
      "2662/2662 [==============================] - 12s 5ms/step - loss: 0.1345 - accuracy: 0.9479 - val_loss: 0.1342 - val_accuracy: 0.9480\n",
      "Epoch 66/5000\n",
      "2662/2662 [==============================] - 12s 5ms/step - loss: 0.1345 - accuracy: 0.9479 - val_loss: 0.1341 - val_accuracy: 0.9480\n",
      "Epoch 67/5000\n",
      "2662/2662 [==============================] - 12s 5ms/step - loss: 0.1344 - accuracy: 0.9479 - val_loss: 0.1341 - val_accuracy: 0.9480\n",
      "Epoch 68/5000\n",
      "2662/2662 [==============================] - 12s 5ms/step - loss: 0.1344 - accuracy: 0.9479 - val_loss: 0.1340 - val_accuracy: 0.9480\n",
      "Epoch 69/5000\n",
      "2662/2662 [==============================] - 12s 5ms/step - loss: 0.1343 - accuracy: 0.9479 - val_loss: 0.1339 - val_accuracy: 0.9481\n",
      "Epoch 70/5000\n",
      "2662/2662 [==============================] - 12s 5ms/step - loss: 0.1343 - accuracy: 0.9479 - val_loss: 0.1339 - val_accuracy: 0.9481\n",
      "Epoch 71/5000\n",
      "2662/2662 [==============================] - 12s 5ms/step - loss: 0.1342 - accuracy: 0.9479 - val_loss: 0.1339 - val_accuracy: 0.9481\n",
      "Epoch 72/5000\n",
      "2662/2662 [==============================] - 12s 5ms/step - loss: 0.1342 - accuracy: 0.9479 - val_loss: 0.1339 - val_accuracy: 0.9481\n",
      "Epoch 73/5000\n",
      "2662/2662 [==============================] - 13s 5ms/step - loss: 0.1342 - accuracy: 0.9480 - val_loss: 0.1338 - val_accuracy: 0.9481\n",
      "Epoch 74/5000\n",
      "2662/2662 [==============================] - 13s 5ms/step - loss: 0.1341 - accuracy: 0.9480 - val_loss: 0.1339 - val_accuracy: 0.9481\n",
      "Epoch 75/5000\n",
      "2662/2662 [==============================] - 12s 5ms/step - loss: 0.1340 - accuracy: 0.9480 - val_loss: 0.1337 - val_accuracy: 0.9482\n",
      "Epoch 76/5000\n",
      "2662/2662 [==============================] - 12s 5ms/step - loss: 0.1340 - accuracy: 0.9480 - val_loss: 0.1336 - val_accuracy: 0.9482\n",
      "Epoch 77/5000\n",
      "2662/2662 [==============================] - 12s 5ms/step - loss: 0.1340 - accuracy: 0.9481 - val_loss: 0.1337 - val_accuracy: 0.9481\n",
      "Epoch 78/5000\n",
      "2662/2662 [==============================] - 12s 5ms/step - loss: 0.1339 - accuracy: 0.9481 - val_loss: 0.1336 - val_accuracy: 0.9482\n",
      "Epoch 79/5000\n",
      "2662/2662 [==============================] - 12s 5ms/step - loss: 0.1339 - accuracy: 0.9481 - val_loss: 0.1336 - val_accuracy: 0.9482\n",
      "Epoch 80/5000\n",
      "2662/2662 [==============================] - 12s 5ms/step - loss: 0.1339 - accuracy: 0.9481 - val_loss: 0.1335 - val_accuracy: 0.9482\n",
      "Epoch 81/5000\n",
      "2662/2662 [==============================] - 12s 4ms/step - loss: 0.1338 - accuracy: 0.9481 - val_loss: 0.1335 - val_accuracy: 0.9483\n",
      "Epoch 82/5000\n",
      "2662/2662 [==============================] - 12s 5ms/step - loss: 0.1338 - accuracy: 0.9481 - val_loss: 0.1335 - val_accuracy: 0.9483\n",
      "Epoch 83/5000\n",
      "2662/2662 [==============================] - 13s 5ms/step - loss: 0.1338 - accuracy: 0.9481 - val_loss: 0.1334 - val_accuracy: 0.9483\n",
      "Epoch 84/5000\n",
      "2662/2662 [==============================] - 13s 5ms/step - loss: 0.1337 - accuracy: 0.9481 - val_loss: 0.1333 - val_accuracy: 0.9483\n",
      "Epoch 85/5000\n",
      "2662/2662 [==============================] - 12s 5ms/step - loss: 0.1337 - accuracy: 0.9481 - val_loss: 0.1334 - val_accuracy: 0.9483\n",
      "Epoch 86/5000\n",
      "2662/2662 [==============================] - 12s 5ms/step - loss: 0.1337 - accuracy: 0.9481 - val_loss: 0.1333 - val_accuracy: 0.9483\n",
      "Epoch 87/5000\n",
      "2662/2662 [==============================] - 12s 5ms/step - loss: 0.1336 - accuracy: 0.9482 - val_loss: 0.1333 - val_accuracy: 0.9483\n",
      "Epoch 88/5000\n",
      "2662/2662 [==============================] - 12s 5ms/step - loss: 0.1336 - accuracy: 0.9482 - val_loss: 0.1332 - val_accuracy: 0.9483\n",
      "Epoch 89/5000\n",
      "2662/2662 [==============================] - 12s 5ms/step - loss: 0.1336 - accuracy: 0.9482 - val_loss: 0.1332 - val_accuracy: 0.9483\n",
      "Epoch 90/5000\n",
      "2662/2662 [==============================] - 12s 5ms/step - loss: 0.1335 - accuracy: 0.9482 - val_loss: 0.1333 - val_accuracy: 0.9483\n",
      "Epoch 91/5000\n",
      "2662/2662 [==============================] - 12s 5ms/step - loss: 0.1335 - accuracy: 0.9482 - val_loss: 0.1332 - val_accuracy: 0.9483\n",
      "Epoch 92/5000\n",
      "2662/2662 [==============================] - 12s 5ms/step - loss: 0.1335 - accuracy: 0.9482 - val_loss: 0.1332 - val_accuracy: 0.9484\n",
      "Epoch 93/5000\n",
      "2662/2662 [==============================] - 12s 5ms/step - loss: 0.1334 - accuracy: 0.9482 - val_loss: 0.1331 - val_accuracy: 0.9484\n",
      "Epoch 94/5000\n",
      "2662/2662 [==============================] - 12s 5ms/step - loss: 0.1334 - accuracy: 0.9482 - val_loss: 0.1331 - val_accuracy: 0.9484\n",
      "Epoch 95/5000\n",
      "2662/2662 [==============================] - 12s 5ms/step - loss: 0.1334 - accuracy: 0.9482 - val_loss: 0.1331 - val_accuracy: 0.9484\n",
      "Epoch 96/5000\n",
      "2662/2662 [==============================] - 12s 5ms/step - loss: 0.1333 - accuracy: 0.9483 - val_loss: 0.1330 - val_accuracy: 0.9484\n",
      "Epoch 97/5000\n",
      "2662/2662 [==============================] - 12s 5ms/step - loss: 0.1333 - accuracy: 0.9483 - val_loss: 0.1330 - val_accuracy: 0.9484\n",
      "Epoch 98/5000\n",
      "2662/2662 [==============================] - 12s 5ms/step - loss: 0.1333 - accuracy: 0.9483 - val_loss: 0.1330 - val_accuracy: 0.9484\n",
      "Epoch 99/5000\n",
      "2662/2662 [==============================] - 12s 5ms/step - loss: 0.1333 - accuracy: 0.9483 - val_loss: 0.1330 - val_accuracy: 0.9484\n",
      "Epoch 100/5000\n",
      "2662/2662 [==============================] - 12s 5ms/step - loss: 0.1333 - accuracy: 0.9483 - val_loss: 0.1329 - val_accuracy: 0.9484\n",
      "Epoch 101/5000\n",
      "2662/2662 [==============================] - 12s 5ms/step - loss: 0.1332 - accuracy: 0.9483 - val_loss: 0.1330 - val_accuracy: 0.9484\n",
      "Epoch 102/5000\n",
      "2662/2662 [==============================] - 12s 5ms/step - loss: 0.1332 - accuracy: 0.9483 - val_loss: 0.1329 - val_accuracy: 0.9485\n",
      "Epoch 103/5000\n",
      "2662/2662 [==============================] - 12s 4ms/step - loss: 0.1332 - accuracy: 0.9483 - val_loss: 0.1329 - val_accuracy: 0.9484\n",
      "Epoch 104/5000\n",
      "2662/2662 [==============================] - 12s 5ms/step - loss: 0.1332 - accuracy: 0.9483 - val_loss: 0.1329 - val_accuracy: 0.9484\n",
      "Epoch 105/5000\n",
      "2662/2662 [==============================] - 12s 5ms/step - loss: 0.1332 - accuracy: 0.9483 - val_loss: 0.1328 - val_accuracy: 0.9484\n",
      "Epoch 106/5000\n",
      "2662/2662 [==============================] - 12s 5ms/step - loss: 0.1331 - accuracy: 0.9483 - val_loss: 0.1328 - val_accuracy: 0.9485\n",
      "Epoch 107/5000\n",
      "2662/2662 [==============================] - 12s 5ms/step - loss: 0.1331 - accuracy: 0.9484 - val_loss: 0.1328 - val_accuracy: 0.9485\n",
      "Epoch 108/5000\n",
      "2662/2662 [==============================] - 12s 5ms/step - loss: 0.1331 - accuracy: 0.9483 - val_loss: 0.1328 - val_accuracy: 0.9485\n",
      "Epoch 109/5000\n",
      "2662/2662 [==============================] - 13s 5ms/step - loss: 0.1330 - accuracy: 0.9484 - val_loss: 0.1328 - val_accuracy: 0.9485\n",
      "Epoch 110/5000\n",
      "2662/2662 [==============================] - 12s 5ms/step - loss: 0.1330 - accuracy: 0.9484 - val_loss: 0.1327 - val_accuracy: 0.9485\n",
      "Epoch 111/5000\n",
      "2662/2662 [==============================] - 12s 5ms/step - loss: 0.1330 - accuracy: 0.9484 - val_loss: 0.1327 - val_accuracy: 0.9485\n",
      "Epoch 112/5000\n",
      "2662/2662 [==============================] - 12s 5ms/step - loss: 0.1330 - accuracy: 0.9484 - val_loss: 0.1327 - val_accuracy: 0.9485\n",
      "Epoch 113/5000\n",
      "2662/2662 [==============================] - 12s 5ms/step - loss: 0.1330 - accuracy: 0.9484 - val_loss: 0.1326 - val_accuracy: 0.9485\n",
      "Epoch 114/5000\n",
      "2662/2662 [==============================] - 12s 5ms/step - loss: 0.1330 - accuracy: 0.9484 - val_loss: 0.1327 - val_accuracy: 0.9485\n",
      "Epoch 115/5000\n",
      "2662/2662 [==============================] - 12s 5ms/step - loss: 0.1329 - accuracy: 0.9484 - val_loss: 0.1327 - val_accuracy: 0.9485\n",
      "Epoch 116/5000\n",
      "2662/2662 [==============================] - 12s 5ms/step - loss: 0.1329 - accuracy: 0.9484 - val_loss: 0.1326 - val_accuracy: 0.9486\n",
      "Epoch 117/5000\n",
      "2662/2662 [==============================] - 12s 5ms/step - loss: 0.1329 - accuracy: 0.9484 - val_loss: 0.1326 - val_accuracy: 0.9485\n",
      "Epoch 118/5000\n",
      "2662/2662 [==============================] - 12s 5ms/step - loss: 0.1329 - accuracy: 0.9484 - val_loss: 0.1326 - val_accuracy: 0.9485\n",
      "Epoch 119/5000\n",
      "2662/2662 [==============================] - 12s 5ms/step - loss: 0.1329 - accuracy: 0.9484 - val_loss: 0.1325 - val_accuracy: 0.9486\n",
      "Epoch 120/5000\n",
      "2662/2662 [==============================] - 12s 5ms/step - loss: 0.1329 - accuracy: 0.9484 - val_loss: 0.1326 - val_accuracy: 0.9485\n",
      "Epoch 121/5000\n",
      "2662/2662 [==============================] - 13s 5ms/step - loss: 0.1328 - accuracy: 0.9484 - val_loss: 0.1325 - val_accuracy: 0.9486\n",
      "Epoch 122/5000\n",
      "2662/2662 [==============================] - 13s 5ms/step - loss: 0.1328 - accuracy: 0.9484 - val_loss: 0.1325 - val_accuracy: 0.9486\n",
      "Epoch 123/5000\n",
      "2662/2662 [==============================] - 13s 5ms/step - loss: 0.1328 - accuracy: 0.9485 - val_loss: 0.1326 - val_accuracy: 0.9486\n",
      "Epoch 124/5000\n",
      "2662/2662 [==============================] - 13s 5ms/step - loss: 0.1328 - accuracy: 0.9485 - val_loss: 0.1325 - val_accuracy: 0.9486\n",
      "Epoch 125/5000\n",
      "2662/2662 [==============================] - 12s 5ms/step - loss: 0.1328 - accuracy: 0.9485 - val_loss: 0.1325 - val_accuracy: 0.9486\n",
      "Epoch 126/5000\n",
      "2662/2662 [==============================] - 12s 5ms/step - loss: 0.1328 - accuracy: 0.9485 - val_loss: 0.1324 - val_accuracy: 0.9486\n",
      "Epoch 127/5000\n",
      "2662/2662 [==============================] - 12s 5ms/step - loss: 0.1327 - accuracy: 0.9485 - val_loss: 0.1325 - val_accuracy: 0.9486\n",
      "Epoch 128/5000\n",
      "2662/2662 [==============================] - 12s 5ms/step - loss: 0.1327 - accuracy: 0.9485 - val_loss: 0.1325 - val_accuracy: 0.9486\n",
      "Epoch 129/5000\n",
      "2662/2662 [==============================] - 12s 5ms/step - loss: 0.1327 - accuracy: 0.9485 - val_loss: 0.1324 - val_accuracy: 0.9486\n",
      "Epoch 130/5000\n",
      "2662/2662 [==============================] - 12s 5ms/step - loss: 0.1327 - accuracy: 0.9485 - val_loss: 0.1324 - val_accuracy: 0.9486\n",
      "Epoch 131/5000\n",
      "2662/2662 [==============================] - 12s 5ms/step - loss: 0.1327 - accuracy: 0.9485 - val_loss: 0.1326 - val_accuracy: 0.9486\n",
      "Epoch 132/5000\n",
      "2662/2662 [==============================] - 12s 5ms/step - loss: 0.1326 - accuracy: 0.9485 - val_loss: 0.1325 - val_accuracy: 0.9486\n",
      "Epoch 133/5000\n",
      "2662/2662 [==============================] - 12s 5ms/step - loss: 0.1326 - accuracy: 0.9485 - val_loss: 0.1325 - val_accuracy: 0.9486\n",
      "Epoch 134/5000\n",
      "2662/2662 [==============================] - 12s 5ms/step - loss: 0.1326 - accuracy: 0.9485 - val_loss: 0.1323 - val_accuracy: 0.9486\n",
      "Epoch 135/5000\n",
      "2662/2662 [==============================] - 12s 5ms/step - loss: 0.1326 - accuracy: 0.9485 - val_loss: 0.1323 - val_accuracy: 0.9487\n",
      "Epoch 136/5000\n",
      "2662/2662 [==============================] - 12s 5ms/step - loss: 0.1326 - accuracy: 0.9485 - val_loss: 0.1323 - val_accuracy: 0.9487\n",
      "Epoch 137/5000\n",
      "2662/2662 [==============================] - 12s 5ms/step - loss: 0.1326 - accuracy: 0.9485 - val_loss: 0.1323 - val_accuracy: 0.9487\n",
      "Epoch 138/5000\n",
      "2662/2662 [==============================] - 12s 5ms/step - loss: 0.1325 - accuracy: 0.9486 - val_loss: 0.1322 - val_accuracy: 0.9487\n",
      "Epoch 139/5000\n",
      "2662/2662 [==============================] - 12s 5ms/step - loss: 0.1325 - accuracy: 0.9486 - val_loss: 0.1324 - val_accuracy: 0.9486\n",
      "Epoch 140/5000\n",
      "2662/2662 [==============================] - 12s 5ms/step - loss: 0.1325 - accuracy: 0.9485 - val_loss: 0.1323 - val_accuracy: 0.9487\n",
      "Epoch 141/5000\n",
      "2662/2662 [==============================] - 12s 5ms/step - loss: 0.1325 - accuracy: 0.9486 - val_loss: 0.1323 - val_accuracy: 0.9487\n",
      "Epoch 142/5000\n",
      "2662/2662 [==============================] - 12s 5ms/step - loss: 0.1325 - accuracy: 0.9485 - val_loss: 0.1323 - val_accuracy: 0.9487\n",
      "Epoch 143/5000\n",
      "2662/2662 [==============================] - 13s 5ms/step - loss: 0.1325 - accuracy: 0.9486 - val_loss: 0.1323 - val_accuracy: 0.9487\n"
     ]
    }
   ],
   "source": [
    "from tensorflow.keras.layers import Dropout\n",
    "es = tf.keras.callbacks.EarlyStopping(monitor='val_loss', patience=5)\n",
    "\n",
    "model_qq = Sequential()\n",
    "model_qq.add(Dense(256, input_dim=8, activation='swish'))\n",
    "model_qq.add(BatchNormalization())\n",
    "model_qq.add(Dense(256, activation='swish'))\n",
    "model_qq.add(BatchNormalization())\n",
    "model_qq.add(Dense(256, activation='swish'))\n",
    "model_qq.add(BatchNormalization())\n",
    "model_qq.add(Dense(1, activation='sigmoid'))\n",
    "model_qq.compile(loss='binary_crossentropy', optimizer=tf.keras.optimizers.Adam(learning_rate=0.00001), metrics=['accuracy'])\n",
    "\n",
    "with tf.device('/GPU:2'):\n",
    "    myhistory_qq = model_qq.fit(X_train_qq, Y_train_qq, epochs=5000,validation_data=(X_val_qq, Y_val_qq),batch_size=5*1024,callbacks=[es])"
   ]
  },
  {
   "cell_type": "code",
   "execution_count": 15,
   "id": "2250877b-4d83-49d4-a835-8e9f1014a390",
   "metadata": {
    "tags": []
   },
   "outputs": [
    {
     "name": "stderr",
     "output_type": "stream",
     "text": [
      "wandb: WARNING Source type is set to 'repo' but some required information is missing from the environment. A job will not be created from this run. See https://docs.wandb.ai/guides/launch/create-job\n"
     ]
    },
    {
     "data": {
      "application/vnd.jupyter.widget-view+json": {
       "model_id": "e3ce62c8b166463981b4399f87d79ad0",
       "version_major": 2,
       "version_minor": 0
      },
      "text/plain": [
       "VBox(children=(Label(value='106.594 MB of 106.594 MB uploaded (0.914 MB deduped)\\r'), FloatProgress(value=1.0,…"
      ]
     },
     "metadata": {},
     "output_type": "display_data"
    },
    {
     "data": {
      "text/html": [
       "<style>\n",
       "    table.wandb td:nth-child(1) { padding: 0 10px; text-align: left ; width: auto;} td:nth-child(2) {text-align: left ; width: 100%}\n",
       "    .wandb-row { display: flex; flex-direction: row; flex-wrap: wrap; justify-content: flex-start; width: 100% }\n",
       "    .wandb-col { display: flex; flex-direction: column; flex-basis: 100%; flex: 1; padding: 10px; }\n",
       "    </style>\n",
       "<div class=\"wandb-row\"><div class=\"wandb-col\"><h3>Run history:</h3><br/><table class=\"wandb\"><tr><td>accuracy</td><td>▁▃▃▄▄▄▄▄▄▄▄▄▄▅▅▅▅▅▅▅▆▆▆▆▆▆▆▆▇▇▇▇▇▇▇█████</td></tr><tr><td>epoch</td><td>▁▁▁▁▂▂▂▂▂▃▃▃▃▃▃▄▄▄▄▄▅▅▅▅▅▅▆▆▆▆▆▇▇▇▇▇▇███</td></tr><tr><td>loss</td><td>█▆▅▅▅▅▅▅▅▅▅▄▄▄▄▄▄▄▄▃▃▃▃▃▃▃▃▂▂▂▂▂▂▂▂▁▁▁▁▁</td></tr><tr><td>val_accuracy</td><td>▁▂▂▂▂▂▂▃▃▃▃▃▃▃▄▄▄▄▄▄▄▅▅▅▅▅▆▆▆▆▇▆▇▇▇▇▇███</td></tr><tr><td>val_loss</td><td>█▇▇▇▇▇▇▆▆▆▆▆▆▅▅▅▅▅▅▄▄▄▄▃▃▃▃▃▃▂▂▃▂▂▂▂▂▁▁▁</td></tr></table><br/></div><div class=\"wandb-col\"><h3>Run summary:</h3><br/><table class=\"wandb\"><tr><td>accuracy</td><td>0.95789</td></tr><tr><td>best_epoch</td><td>72</td></tr><tr><td>best_val_loss</td><td>0.11198</td></tr><tr><td>epoch</td><td>73</td></tr><tr><td>loss</td><td>0.1097</td></tr><tr><td>val_accuracy</td><td>0.95723</td></tr><tr><td>val_loss</td><td>0.11203</td></tr></table><br/></div></div>"
      ],
      "text/plain": [
       "<IPython.core.display.HTML object>"
      ]
     },
     "metadata": {},
     "output_type": "display_data"
    },
    {
     "data": {
      "text/html": [
       " View run <strong style=\"color:#cdcd00\">lyric-puddle-4</strong> at: <a href='https://wandb.ai/gup-singh/SemiWeakly/runs/twb26i88' target=\"_blank\">https://wandb.ai/gup-singh/SemiWeakly/runs/twb26i88</a><br/>Synced 5 W&B file(s), 1 media file(s), 224 artifact file(s) and 1 other file(s)"
      ],
      "text/plain": [
       "<IPython.core.display.HTML object>"
      ]
     },
     "metadata": {},
     "output_type": "display_data"
    },
    {
     "data": {
      "text/html": [
       "Find logs at: <code>/pscratch/sd/g/gupsingh/wandb/run-20240125_132012-twb26i88/logs</code>"
      ],
      "text/plain": [
       "<IPython.core.display.HTML object>"
      ]
     },
     "metadata": {},
     "output_type": "display_data"
    }
   ],
   "source": [
    "wandb.finish()"
   ]
  },
  {
   "cell_type": "code",
   "execution_count": 27,
   "id": "283e7f81-772b-4ad6-a46f-7448a6713f3c",
   "metadata": {
    "tags": []
   },
   "outputs": [
    {
     "name": "stdout",
     "output_type": "stream",
     "text": [
      "INFO:tensorflow:Assets written to: model_qq_opt2/assets\n"
     ]
    }
   ],
   "source": [
    "model_qq.save('model_qq_opt2')"
   ]
  },
  {
   "cell_type": "code",
   "execution_count": 7,
   "id": "0f7b0b5d-6303-4de9-bd4e-bf5ce4070257",
   "metadata": {
    "tags": []
   },
   "outputs": [
    {
     "name": "stderr",
     "output_type": "stream",
     "text": [
      "2024-01-25 20:50:28.795339: I tensorflow/core/platform/cpu_feature_guard.cc:193] This TensorFlow binary is optimized with oneAPI Deep Neural Network Library (oneDNN) to use the following CPU instructions in performance-critical operations:  AVX2 FMA\n",
      "To enable them in other operations, rebuild TensorFlow with the appropriate compiler flags.\n",
      "2024-01-25 20:50:31.114947: I tensorflow/core/common_runtime/gpu/gpu_device.cc:1532] Created device /job:localhost/replica:0/task:0/device:GPU:0 with 78933 MB memory:  -> device: 0, name: NVIDIA A100-SXM4-80GB, pci bus id: 0000:03:00.0, compute capability: 8.0\n",
      "2024-01-25 20:50:31.121078: I tensorflow/core/common_runtime/gpu/gpu_device.cc:1532] Created device /job:localhost/replica:0/task:0/device:GPU:1 with 78933 MB memory:  -> device: 1, name: NVIDIA A100-SXM4-80GB, pci bus id: 0000:41:00.0, compute capability: 8.0\n",
      "2024-01-25 20:50:31.122558: I tensorflow/core/common_runtime/gpu/gpu_device.cc:1532] Created device /job:localhost/replica:0/task:0/device:GPU:2 with 78933 MB memory:  -> device: 2, name: NVIDIA A100-SXM4-80GB, pci bus id: 0000:82:00.0, compute capability: 8.0\n",
      "2024-01-25 20:50:31.124055: I tensorflow/core/common_runtime/gpu/gpu_device.cc:1532] Created device /job:localhost/replica:0/task:0/device:GPU:3 with 78933 MB memory:  -> device: 3, name: NVIDIA A100-SXM4-80GB, pci bus id: 0000:c1:00.0, compute capability: 8.0\n"
     ]
    }
   ],
   "source": [
    "model_qq = tf.keras.models.load_model(\"model_qq_opt2\")\n",
    "#model_qq = tf.keras.models.load_model(\"model_qq_noisy10\")"
   ]
  },
  {
   "cell_type": "code",
   "execution_count": 25,
   "id": "96b6ed12-c552-4c88-8651-d55b9a96e2ab",
   "metadata": {
    "collapsed": true,
    "jupyter": {
     "outputs_hidden": true
    },
    "tags": []
   },
   "outputs": [
    {
     "name": "stdout",
     "output_type": "stream",
     "text": [
      "3.241 3.1\n",
      "0.001\n",
      "3 3 2.9828181 3.0921423\n",
      "96/96 [==============================] - 0s 876us/step\n",
      "96/96 [==============================] - 0s 628us/step\n",
      "0.0012742749857031334\n",
      "3 3 2.9353027 3.0495534\n",
      "96/96 [==============================] - 0s 851us/step\n",
      "96/96 [==============================] - 0s 627us/step\n",
      "0.001623776739188721\n",
      "3 3 2.9660115 3.0666082\n",
      "96/96 [==============================] - 0s 836us/step\n",
      "96/96 [==============================] - 0s 604us/step\n",
      "0.00206913808111479\n",
      "3 3 2.9898567 3.0703793\n",
      "96/96 [==============================] - 0s 881us/step\n",
      "96/96 [==============================] - 0s 623us/step\n",
      "0.0026366508987303583\n",
      "3 3 2.9436612 3.0608268\n",
      "96/96 [==============================] - 0s 820us/step\n",
      "96/96 [==============================] - 0s 601us/step\n",
      "0.003359818286283781\n",
      "3 3 3.0179915 3.083809\n",
      "96/96 [==============================] - 0s 865us/step\n",
      "96/96 [==============================] - 0s 604us/step\n",
      "0.004281332398719396\n",
      "3 3 2.960026 3.0700154\n",
      "96/96 [==============================] - 0s 834us/step\n",
      "96/96 [==============================] - 0s 607us/step\n",
      "0.00545559478116852\n",
      "3 3 2.9853954 3.0804555\n",
      "96/96 [==============================] - 0s 857us/step\n",
      "96/96 [==============================] - 0s 672us/step\n",
      "0.0069519279617756054\n",
      "3 3 2.9994874 3.0819347\n",
      "96/96 [==============================] - 0s 878us/step\n",
      "96/96 [==============================] - 0s 635us/step\n",
      "0.008858667904100823\n",
      "3 3 3.01304 3.0734324\n",
      "96/96 [==============================] - 0s 844us/step\n",
      "96/96 [==============================] - 0s 624us/step\n",
      "0.011288378916846888\n",
      "3 3 3.0026104 3.0565631\n",
      "96/96 [==============================] - 1s 908us/step\n",
      "96/96 [==============================] - 0s 646us/step\n",
      "0.01438449888287663\n",
      "3 3 3.0283537 3.0670068\n",
      "96/96 [==============================] - 0s 912us/step\n",
      "96/96 [==============================] - 0s 629us/step\n",
      "0.018329807108324356\n",
      "3 3 2.992775 3.0382576\n",
      "96/96 [==============================] - 0s 898us/step\n",
      "96/96 [==============================] - 0s 628us/step\n",
      "0.023357214690901212\n",
      "3 3 3.0049574 3.0334601\n",
      "96/96 [==============================] - 0s 873us/step\n",
      "96/96 [==============================] - 0s 587us/step\n",
      "0.029763514416313176\n",
      "3 3 3.009875 3.0390863\n",
      "96/96 [==============================] - 0s 868us/step\n",
      "96/96 [==============================] - 0s 625us/step\n",
      "0.0379269019073225\n",
      "3 3 3.014622 3.0349746\n",
      "96/96 [==============================] - 0s 902us/step\n",
      "96/96 [==============================] - 0s 619us/step\n",
      "0.04832930238571752\n",
      "3 3 3.00116 3.0168276\n",
      "96/96 [==============================] - 0s 854us/step\n",
      "96/96 [==============================] - 0s 608us/step\n",
      "0.06158482110660261\n",
      "3 3 2.9982548 3.0230508\n",
      "96/96 [==============================] - 0s 891us/step\n",
      "96/96 [==============================] - 0s 588us/step\n",
      "0.07847599703514611\n",
      "3 3 2.98462 2.9985263\n",
      "96/96 [==============================] - 0s 883us/step\n",
      "96/96 [==============================] - 0s 623us/step\n",
      "0.1\n",
      "3 3 3.005024 3.0191011\n",
      "96/96 [==============================] - 0s 845us/step\n",
      "96/96 [==============================] - 0s 613us/step\n"
     ]
    },
    {
     "data": {
      "image/png": "[encoded data removed]",
      "text/plain": [
       "<Figure size 640x480 with 1 Axes>"
      ]
     },
     "metadata": {},
     "output_type": "display_data"
    }
   ],
   "source": [
    "from sklearn.metrics import roc_auc_score\n",
    "from sklearn import metrics\n",
    "import matplotlib.pyplot as plt\n",
    "\n",
    "qq = 'qq'\n",
    "noise = False\n",
    "\n",
    "feature_dims = np.shape(x[0,0,qq, noise])[1]\n",
    "\n",
    "sig_list = []\n",
    "weight_list1 = []\n",
    "weight_list2 = []\n",
    "weight_list3 = []\n",
    "\n",
    "msic1 = []\n",
    "msic2 = []\n",
    "\n",
    "# w1 = round(random.uniform(0.5, 6.0),3)\n",
    "# w2 = round(random.uniform(0.5, 6.0),3)\n",
    "# w1 = 1.367\n",
    "# w2 = 2.991\n",
    "\n",
    "w1 = 3.241\n",
    "w2 = 3.1\n",
    "print(w1, w2)\n",
    "\n",
    "for sigfrac in np.logspace(-3,-1,20):\n",
    "    print(sigfrac)\n",
    "    #sigfrac = 0.07\n",
    "    \n",
    "    # w1 = 2\n",
    "    # w2 = 5\n",
    "    \n",
    "    for l in model_qq.layers:\n",
    "        l.trainable=False\n",
    "\n",
    "    inputs_hold = tf.keras.Input(shape=(1,))\n",
    "    simple_model = Dense(1,use_bias = False,activation='relu',kernel_initializer=tf.keras.initializers.Constant(w1))(inputs_hold)\n",
    "    model3 = Model(inputs = inputs_hold, outputs = simple_model)\n",
    "\n",
    "    inputs_hold2 = tf.keras.Input(shape=(1,))\n",
    "    simple_model2 = Dense(1,use_bias = False,activation='relu',kernel_initializer=tf.keras.initializers.Constant(w2))(inputs_hold2)\n",
    "    model32 = Model(inputs = inputs_hold2, outputs = simple_model2)\n",
    "\n",
    "    inputs_hold3 = tf.keras.Input(shape=(1,))\n",
    "    simple_model3 = tf.exp(Dense(1,use_bias = False,activation='linear',kernel_initializer=tf.keras.initializers.Constant(-1))(inputs_hold3))\n",
    "    model33 = Model(inputs = inputs_hold3, outputs = simple_model3)\n",
    "\n",
    "    inputs = tf.keras.Input(shape=(feature_dims,))\n",
    "    inputs2 = tf.keras.layers.concatenate([inputs,model3(tf.ones_like(inputs)[:,0]),model32(tf.ones_like(inputs)[:,0])])\n",
    "    hidden_layer_1 = model_qq(inputs2)\n",
    "    LLR = hidden_layer_1 / (1.-hidden_layer_1)\n",
    "    #LLR_xs = 1.+sigfrac*LLR - sigfrac\n",
    "    LLR_xs = 1 + model33(tf.ones_like(inputs)[:,0])*LLR\n",
    "    ws = LLR_xs / (1.+LLR_xs+0.0001)\n",
    "    model_all2 = Model(inputs = inputs, outputs = ws)\n",
    "    model_all2.compile(loss='binary_crossentropy', optimizer=tf.keras.optimizers.Adam(learning_rate = 0.01))\n",
    "\n",
    "    m1 = 3\n",
    "    m2 = 3\n",
    "\n",
    "    test_background = int(1/2 *len(x[0,0, qq, noise]))\n",
    "    train_background = int(1/4 * len(x[0,0,qq, noise]))\n",
    "    train_data = int(1/4 * len(x[0,0,qq, noise]))\n",
    "    train_reference = int(1/4 * len(x[0,0,qq, noise]))\n",
    "    #signal\n",
    "    test_signal_length = int(1/2*len(x[m1,m2,qq, noise]))\n",
    "\n",
    "    N = int(1/4 * len(x[0,0,qq, noise]))\n",
    "    signal = x[m1,m2,qq, noise][test_signal_length:test_signal_length+int(sigfrac*N)]\n",
    "\n",
    "    x_data_ = np.concatenate([x[0,0,qq, noise][test_background:],signal])\n",
    "    y_data_ = np.concatenate([np.zeros(train_reference),np.ones(train_data),np.ones(len(signal))])\n",
    "    \n",
    "    X_train_, X_val_, Y_train_, Y_val_ = train_test_split(x_data_, y_data_, test_size=0.5, random_state = 42)\n",
    "\n",
    "    with tf.device('/GPU:0'):\n",
    "        myhistory_hack_ = model_all2.fit(X_train_[:,0:feature_dims], Y_train_, epochs=20,validation_data=(X_val_[:,0:feature_dims], Y_val_),batch_size=1024, verbose = 0)\n",
    "    print(m1,m2,model_all2.trainable_weights[0].numpy()[0][0],model_all2.trainable_weights[1].numpy()[0][0])\n",
    "    sig_list+=[sigfrac]\n",
    "    weight_list1+=[model_all2.trainable_weights[0].numpy()[0][0]]\n",
    "    weight_list2+=[model_all2.trainable_weights[1].numpy()[0][0]]\n",
    "    weight_list3+=[np.exp(model_all2.trainable_weights[2].numpy()[0][0])]\n",
    "    scores = model_all2.predict(np.concatenate([x[0,0,qq, noise][0:test_background],x[m1,m2,qq, noise][0:test_signal_length]]),batch_size=1024)\n",
    "    y = np.concatenate([np.zeros(test_background),np.ones(test_signal_length)])\n",
    "    fpr, tpr, _ = metrics.roc_curve(y, scores)    \n",
    "\n",
    "    model_cwola = Sequential()\n",
    "    model_cwola.add(Dense(128, input_dim=feature_dims, activation='relu'))\n",
    "    model_cwola.add(Dense(128, activation='relu'))\n",
    "    model_cwola.add(Dense(128, activation='relu'))\n",
    "    model_cwola.add(Dense(1, activation='sigmoid'))\n",
    "    model_cwola.compile(loss='binary_crossentropy', optimizer='adam', metrics=['accuracy'])\n",
    "    myhistory_cwola = model_cwola.fit(X_train_[:,0:feature_dims], Y_train_, epochs=10,validation_data=(X_val_[:,0:feature_dims], Y_val_),batch_size=1024, verbose = 0)\n",
    "\n",
    "    scores2 = model_cwola.predict(np.concatenate([x[0,0,qq, noise][0:test_background],x[m1,m2,qq, noise][0:test_signal_length]]),batch_size=1024)\n",
    "    y2 = np.concatenate([np.zeros(test_background),np.ones(test_signal_length)])\n",
    "    fpr2, tpr2, _ = metrics.roc_curve(y2, scores2)\n",
    "    plt.plot(tpr,tpr/np.sqrt(fpr+0.0001))\n",
    "    plt.plot(tpr2,tpr2/np.sqrt(fpr2+0.0001))\n",
    "\n",
    "    msic1+=[np.max(tpr/np.sqrt(fpr+0.0001))]\n",
    "    msic2+=[np.max(tpr2/np.sqrt(fpr2+0.0001))]"
   ]
  },
  {
   "cell_type": "code",
   "execution_count": 212,
   "id": "eec4507b-c156-485c-b88e-b84c617b6615",
   "metadata": {
    "tags": []
   },
   "outputs": [
    {
     "data": {
      "text/plain": [
       "(0.0, 700.0)"
      ]
     },
     "execution_count": 212,
     "metadata": {},
     "output_type": "execute_result"
    },
    {
     "data": {
      "image/png": "[encoded data removed]",
      "text/plain": [
       "<Figure size 640x480 with 1 Axes>"
      ]
     },
     "metadata": {},
     "output_type": "display_data"
    }
   ],
   "source": [
    "plt.plot(sig_list,np.array(weight_list1)*100, label = f\"w1 {w1}\")\n",
    "plt.plot(sig_list,np.array(weight_list2)*100, label = f\"w2 {w2}\")\n",
    "plt.xscale(\"log\")\n",
    "plt.xlabel(\"S/B\")\n",
    "plt.ylabel(\"Fitted masses [GeV]\")\n",
    "plt.title(\"Trainable Weights vs S/B 6 Features 3 Parameters\")\n",
    "plt.axhline(m2 * 100,ls=\":\",color='orange', label = m2)\n",
    "plt.axhline(m1 * 100,ls=\":\",color='blue', label = m1)\n",
    "plt.legend()\n",
    "plt.ylim([0,700])"
   ]
  },
  {
   "cell_type": "code",
   "execution_count": 214,
   "id": "5dacd1f8-a269-4ce3-bec2-f015c1dd3fc9",
   "metadata": {
    "tags": []
   },
   "outputs": [
    {
     "data": {
      "text/plain": [
       "Text(0, 0.5, 'Fitted S/B')"
      ]
     },
     "execution_count": 214,
     "metadata": {},
     "output_type": "execute_result"
    },
    {
     "data": {
      "image/png": "[encoded data removed]",
      "text/plain": [
       "<Figure size 640x480 with 1 Axes>"
      ]
     },
     "metadata": {},
     "output_type": "display_data"
    }
   ],
   "source": [
    "plt.plot(sig_list,ww,label=\"Weakly\")\n",
    "plt.plot(sig_list,sig_list,ls=\":\",color=\"black\")\n",
    "\n",
    "plt.title(\"Fitted S/B\")\n",
    "plt.legend()\n",
    "plt.yscale(\"log\")\n",
    "plt.xscale(\"log\")\n",
    "plt.xlabel(\"sigfrac\")\n",
    "plt.ylabel(\"Fitted S/B\")"
   ]
  },
  {
   "cell_type": "code",
   "execution_count": 213,
   "id": "c74b49b7-2b84-47d5-aac5-657e6c1ccefe",
   "metadata": {
    "tags": []
   },
   "outputs": [
    {
     "data": {
      "text/plain": [
       "Text(0, 0.5, 'Max SIC')"
      ]
     },
     "execution_count": 213,
     "metadata": {},
     "output_type": "execute_result"
    },
    {
     "data": {
      "image/png": "[encoded data removed]",
      "text/plain": [
       "<Figure size 640x480 with 1 Axes>"
      ]
     },
     "metadata": {},
     "output_type": "display_data"
    }
   ],
   "source": [
    "plt.plot(sig_list,msic1,label=\"Weakly, Semisupervised\")\n",
    "plt.plot(sig_list,msic2,label=\"Weakly Supervised\")\n",
    "plt.title(f\"CWOLA vs Semi Weakly 6 Features m1: {m1} m2: {m2} | w1: {w1} w2: {w2}\")\n",
    "plt.legend()\n",
    "plt.xscale(\"log\")\n",
    "plt.xlabel(\"S/B\")\n",
    "plt.ylabel(\"Max SIC\")"
   ]
  },
  {
   "cell_type": "code",
   "execution_count": 455,
   "id": "258763df-3272-450f-bc1d-5b797e5953e0",
   "metadata": {
    "tags": []
   },
   "outputs": [
    {
     "data": {
      "text/plain": [
       "Text(0, 0.5, 'Max SIC')"
      ]
     },
     "execution_count": 455,
     "metadata": {},
     "output_type": "execute_result"
    },
    {
     "data": {
      "image/png": "[encoded data removed]",
      "text/plain": [
       "<Figure size 640x480 with 1 Axes>"
      ]
     },
     "metadata": {},
     "output_type": "display_data"
    }
   ],
   "source": [
    "plt.plot(sig_list,msic1,label=\"Weakly, Semisupervised\")\n",
    "plt.plot(sig_list,msic2,label=\"Weakly Supervised\")\n",
    "plt.title(f\"6 Features m1: {m1} m2: {m2} | w1: {w1} w2: {w2} 1 Noise Dim\")\n",
    "plt.legend()\n",
    "plt.xscale(\"log\")\n",
    "plt.xlabel(\"S/B\")\n",
    "plt.ylabel(\"Max SIC\")"
   ]
  },
  {
   "cell_type": "code",
   "execution_count": 39,
   "id": "9c4a5073-113b-4f23-8bd6-8d556bfc5554",
   "metadata": {
    "tags": []
   },
   "outputs": [
    {
     "data": {
      "text/plain": [
       "Text(0, 0.5, 'Max SIC')"
      ]
     },
     "execution_count": 39,
     "metadata": {},
     "output_type": "execute_result"
    },
    {
     "data": {
      "image/png": "[encoded data removed]",
      "text/plain": [
       "<Figure size 640x480 with 1 Axes>"
      ]
     },
     "metadata": {},
     "output_type": "display_data"
    }
   ],
   "source": [
    "plt.plot(sig_list,msic1,label=\"Weakly, Semisupervised\")\n",
    "plt.plot(sig_list,msic2,label=\"Weakly Supervised\")\n",
    "plt.title(f\"6 Features m1: {m1} m2: {m2} | w1: {w1} w2: {w2} 10 Noise Dims\")\n",
    "plt.legend()\n",
    "plt.xscale(\"log\")\n",
    "plt.xlabel(\"S/B\")\n",
    "plt.ylabel(\"Max SIC\")"
   ]
  },
  {
   "cell_type": "code",
   "execution_count": 58,
   "id": "c4ee62da-4746-4838-88ac-6812e91e10c5",
   "metadata": {
    "tags": []
   },
   "outputs": [],
   "source": [
    "#dedicated training on single mass pair\n",
    "def train_supervised(feature_dims, m1, m2):\n",
    "    x_data_full = np.concatenate([x[0,0, qq, noise],x[m1,m2, qq, noise]])\n",
    "    y_data_full = np.concatenate([np.zeros(len(x[0,0, qq, noise])),np.ones(len(x[m1,m2, qq, noise]))])\n",
    "    X_train_full, X_val_full, Y_train_full, Y_val_full = train_test_split(x_data_full, y_data_full, test_size=0.5, random_state = 42)\n",
    "\n",
    "    model_dedicated = Sequential()\n",
    "    model_dedicated.add(Dense(128, input_dim=feature_dims, activation='relu'))\n",
    "    model_dedicated.add(Dense(128, activation='relu'))\n",
    "    model_dedicated.add(Dense(128, activation='relu'))\n",
    "    model_dedicated.add(Dense(1, activation='sigmoid'))\n",
    "    model_dedicated.compile(loss=\"binary_crossentropy\", optimizer='adam', metrics=['accuracy'])\n",
    "\n",
    "    history_fullySupervised = model_dedicated.fit(X_train_full, Y_train_full, epochs=100,validation_data=(X_val_full, Y_val_full),batch_size=1024, verbose = 0)\n",
    "    return model_dedicated\n",
    "\n",
    "#CWOLA comparison\n",
    "def compileCWOLA(feature_dims, m1, m2):\n",
    "    model_cwola = Sequential()\n",
    "    model_cwola.add(Dense(128, input_dim=feature_dims, activation='relu'))\n",
    "    model_cwola.add(Dense(128, activation='relu'))\n",
    "    model_cwola.add(Dense(128, activation='relu'))\n",
    "    model_cwola.add(Dense(1, activation='sigmoid'))\n",
    "    model_cwola.compile(loss='binary_crossentropy', optimizer='adam', metrics=['accuracy'])\n",
    "    return model_cwola\n",
    "\n",
    "#SemiWeak Model\n",
    "def compileSemiWeakly(feature_dims, params, m1, m2, w1, w2):\n",
    "    \n",
    "    inputs_hold = tf.keras.Input(shape=(1,))\n",
    "    simple_model = Dense(1,use_bias = False,activation='relu',kernel_initializer=tf.keras.initializers.Constant(w1))(inputs_hold)\n",
    "    model3 = Model(inputs = inputs_hold, outputs = simple_model)\n",
    "\n",
    "    inputs_hold2 = tf.keras.Input(shape=(1,))\n",
    "    simple_model2 = Dense(1,use_bias = False,activation='relu',kernel_initializer=tf.keras.initializers.Constant(w2))(inputs_hold2)\n",
    "    model32 = Model(inputs = inputs_hold2, outputs = simple_model2)\n",
    "\n",
    "    inputs_hold3 = tf.keras.Input(shape=(1,))\n",
    "    simple_model3 = tf.exp(Dense(1,use_bias = False,activation='linear',kernel_initializer=tf.keras.initializers.Constant(-1))(inputs_hold3))\n",
    "    model33 = Model(inputs = inputs_hold3, outputs = simple_model3)\n",
    "\n",
    "    inputs = tf.keras.Input(shape=(feature_dims,))\n",
    "    inputs2 = tf.keras.layers.concatenate([inputs,model3(tf.ones_like(inputs)[:,0]),model32(tf.ones_like(inputs)[:,0])])\n",
    "\n",
    "    #physics prior\n",
    "    hidden_layer_1 = model_qq(inputs2)\n",
    "    LLR = hidden_layer_1 / (1.-hidden_layer_1 + epsilon)\n",
    "\n",
    "    if params == 2:\n",
    "        LLR_xs = 1.+sigfrac*LLR - sigfrac\n",
    "    elif params == 3:\n",
    "        LLR_xs = 1.+ model33(tf.ones_like(inputs)[:,0])*LLR\n",
    "    else:\n",
    "        print(\"Choose 2 or 3 parameters\")\n",
    "    ws = LLR_xs / (1.+LLR_xs)\n",
    "\n",
    "    SemiWeakModel = Model(inputs = inputs, outputs = ws)\n",
    "    SemiWeakModel.compile(loss='binary_crossentropy', optimizer=tf.keras.optimizers.Adam(learning_rate = 0.01))\n",
    "    return SemiWeakModel"
   ]
  },
  {
   "cell_type": "code",
   "execution_count": 24,
   "id": "26ef26d6-6a48-4eb9-b005-9f30c06435b5",
   "metadata": {
    "tags": []
   },
   "outputs": [],
   "source": [
    "weight_list = [(2.842, 3.906),\n",
    " (2.813, 5.284),\n",
    " (2.209, 4.506),\n",
    " (3.628, 1.441),\n",
    " (5.289, 2.127)]"
   ]
  },
  {
   "cell_type": "code",
   "execution_count": 10,
   "id": "aa6c0c4c-b08e-406a-bca8-f1c0e2d04cf7",
   "metadata": {
    "tags": []
   },
   "outputs": [],
   "source": [
    "# from models import createSimpleModel\n",
    "# qq = \"qq\"\n",
    "\n",
    "# msic1_runs = []\n",
    "# msic2_runs = []\n",
    "# msic3_runs = []\n",
    "# msic4_runs = []\n",
    "# weight_list3_runs = []\n",
    "# initial_weights_list_runs = []\n",
    "\n",
    "# num_runs = 5\n",
    "# noise = False\n",
    "# feature_dims = np.shape(x[0,0,qq, noise])[1]\n",
    "\n",
    "# epsilon = 1e-4\n",
    "\n",
    "# count = 0\n",
    "\n",
    "# m1 = 2\n",
    "# m2 = 5\n",
    "\n",
    "# model_full = train_supervised(feature_dims, m1, m2)\n",
    "# for _ in range(num_runs):\n",
    "    \n",
    "#     w1, w2 = weight_list[count][0], weight_list[count][1]\n",
    "    \n",
    "#     count+=1\n",
    "    \n",
    "#     sig_list = []\n",
    "#     weight_list1 = []\n",
    "#     weight_list2 = []\n",
    "#     weight_list3 = []\n",
    "    \n",
    "#     msic1 = []\n",
    "#     msic2 = []\n",
    "#     msic3 = []\n",
    "#     msic4 = []\n",
    "\n",
    "#     # w1 = round(random.uniform(0.5, 6.0),3)\n",
    "#     # w2 = round(random.uniform(0.5, 6.0),3)\n",
    "    \n",
    "# #     w1 = 3.241\n",
    "# #     w2 = 3.649\n",
    "    \n",
    "#     initial_weights_list_runs.append((w1, w2))\n",
    "\n",
    "#     for sigfrac in np.logspace(-3,-1,20):\n",
    "#         print(w1, w2, sigfrac)\n",
    "#         #sigfrac = 0.05\n",
    "\n",
    "#         for l in model_qq.layers:\n",
    "#             l.trainable=False\n",
    "\n",
    "#         inputs_hold = tf.keras.Input(shape=(1,))\n",
    "#         simple_model = Dense(1,use_bias = False,activation='relu',kernel_initializer=tf.keras.initializers.Constant(w1))(inputs_hold)\n",
    "#         model3 = Model(inputs = inputs_hold, outputs = simple_model)\n",
    "\n",
    "#         inputs_hold2 = tf.keras.Input(shape=(1,))\n",
    "#         simple_model2 = Dense(1,use_bias = False,activation='relu',kernel_initializer=tf.keras.initializers.Constant(w2))(inputs_hold2)\n",
    "#         model32 = Model(inputs = inputs_hold2, outputs = simple_model2)\n",
    "\n",
    "#         inputs_hold3 = tf.keras.Input(shape=(1,))\n",
    "#         simple_model3 = tf.exp(Dense(1,use_bias = False,activation='linear',kernel_initializer=tf.keras.initializers.Constant(-1))(inputs_hold3))\n",
    "#         model33 = Model(inputs = inputs_hold3, outputs = simple_model3)\n",
    "\n",
    "#         inputs = tf.keras.Input(shape=(feature_dims,))\n",
    "#         inputs2 = tf.keras.layers.concatenate([inputs,model3(tf.ones_like(inputs)[:,0]),model32(tf.ones_like(inputs)[:,0])])\n",
    "        \n",
    "#         #physics prior\n",
    "#         hidden_layer_1 = model_qq(inputs2)\n",
    "#         LLR = hidden_layer_1 / (1.-hidden_layer_1 + epsilon)\n",
    "        \n",
    "#         #LLR_xs = 1.+sigfrac*LLR - sigfrac\n",
    "#         LLR_xs = 1.+ model33(tf.ones_like(inputs)[:,0])*LLR\n",
    "#         ws = LLR_xs / (1.+LLR_xs)\n",
    "        \n",
    "#         model_all2 = Model(inputs = inputs, outputs = ws)\n",
    "#         model_all2.compile(loss='binary_crossentropy', optimizer=tf.keras.optimizers.Adam(learning_rate = 0.01))\n",
    "\n",
    "#         m1 = m1\n",
    "#         m2 = m2\n",
    "\n",
    "#         test_background = int(1/2 * len(x[0,0, qq, noise]))\n",
    "#         train_reference = int(1/4 *len(x[0,0, qq, noise]))\n",
    "#         train_data = int(1/4 * len(x[0,0, qq, noise]))\n",
    "#         test_signal = int(1/2*len(x[m1,m2, qq, noise]))\n",
    "    \n",
    "#         #randomized signal\n",
    "#         random_test_signal_length = random.randint(0, test_signal - 1)\n",
    "#         N = int(1/4 * (len(x[0,0, qq, noise])))\n",
    "#         signal = x[m1, m2, qq, noise][random_test_signal_length:random_test_signal_length + int(sigfrac*N)]\n",
    "        \n",
    "#         #fixed signal portion\n",
    "#         # N = int(1/4 * (len(x[0,0, qq, noise])))\n",
    "#         # signal = x[m1, m2, qq, noise][test_signal:test_signal + int(sigfrac*N)]\n",
    "\n",
    "#         x_data_ = np.concatenate([x[0,0, qq, noise][test_background:],signal])\n",
    "#         y_data_ = np.concatenate([np.zeros(train_reference),np.ones(train_data),np.ones(len(signal))])\n",
    "\n",
    "#         X_train_, X_val_, Y_train_, Y_val_ = train_test_split(x_data_, y_data_, test_size=0.5, random_state = 42)\n",
    "\n",
    "#         myhistory_hack_ = model_all2.fit(X_train_[:,0:feature_dims], Y_train_, epochs=100,validation_data=(X_val_[:,0:feature_dims], Y_val_),batch_size=1024, verbose = 0)\n",
    "#         print(m1,m2,model_all2.trainable_weights[0].numpy()[0][0],model_all2.trainable_weights[1].numpy()[0][0])\n",
    "#         sig_list+=[sigfrac]\n",
    "#         weight_list1+=[model_all2.trainable_weights[0].numpy()[0][0]]\n",
    "#         weight_list2+=[model_all2.trainable_weights[1].numpy()[0][0]]\n",
    "#         weight_list3+=[np.exp(model_all2.trainable_weights[2].numpy()[0][0])]\n",
    "#         scores = model_all2.predict(np.concatenate([x[0,0, qq, noise][0:test_background],x[m1,m2, qq, noise][0:test_signal]]),batch_size=1024)\n",
    "#         y = np.concatenate([np.zeros(test_background),np.ones(test_signal)])\n",
    "#         fpr, tpr, _ = metrics.roc_curve(y, scores)\n",
    "        \n",
    "#         #weakly supervised\n",
    "#         model_cwola = Sequential()\n",
    "#         model_cwola.add(Dense(128, input_dim=feature_dims, activation='relu'))\n",
    "#         model_cwola.add(Dense(128, activation='relu'))\n",
    "#         model_cwola.add(Dense(128, activation='relu'))\n",
    "#         model_cwola.add(Dense(1, activation='sigmoid'))\n",
    "#         model_cwola.compile(loss='binary_crossentropy', optimizer='adam', metrics=['accuracy'])\n",
    "#         myhistory_cwola = model_cwola.fit(X_train_[:,0:feature_dims], Y_train_, epochs=10,validation_data=(X_val_[:,0:feature_dims], Y_val_),batch_size=1024, verbose = 0)\n",
    "\n",
    "#         scores2 = model_cwola.predict(np.concatenate([x[0,0, qq, noise][0:test_background],x[m1,m2, qq, noise][0:test_signal]]),batch_size=1024)\n",
    "#         y2 = np.concatenate([np.zeros(test_background),np.ones(test_signal)])\n",
    "#         fpr2, tpr2, _ = metrics.roc_curve(y2, scores2)\n",
    "        \n",
    "#         #fully supervised\n",
    "#         scores_full = model_full.predict(np.concatenate([x[0,0, qq, noise][0:test_background],x[m1,m2, qq, noise][0:test_signal]]),batch_size=1024)\n",
    "#         y_full = np.concatenate([np.zeros(test_background),np.ones(test_signal)])\n",
    "#         fpr_full, tpr_full, _ = metrics.roc_curve(y_full, scores_full)\n",
    "        \n",
    "#         #parametrized for comparison\n",
    "#         scores_full2 = model_qq.predict(x_data_qq[np.product(x_data_qq[:,6:8]==[m1,m2],axis=1)==1],batch_size=1000)\n",
    "#         fpr_full2, tpr_full2, _ = metrics.roc_curve(y_data_qq[np.product(x_data_qq[:,6:8]==[m1,m2],axis=1)==1], scores_full2)\n",
    "        \n",
    "#         msic1.append([np.max(tpr/np.sqrt(fpr+0.0001))])\n",
    "#         msic2.append([np.max(tpr2/np.sqrt(fpr2+0.0001))])\n",
    "#         msic3.append([np.max(tpr_full/np.sqrt(fpr_full+0.0001))])\n",
    "#         msic4.append([np.max(tpr_full2/np.sqrt(fpr_full2+0.0001))])\n",
    "\n",
    "#     msic1_runs.append(msic1)\n",
    "#     msic2_runs.append(msic2)\n",
    "#     msic3_runs.append(msic3)\n",
    "#     msic4_runs.append(msic4)\n",
    "#     weight_list3_runs.append(weight_list3)"
   ]
  },
  {
   "cell_type": "code",
   "execution_count": 17,
   "id": "6c7a23ad-1f03-42e4-9477-ceb5a7b690d2",
   "metadata": {
    "collapsed": true,
    "jupyter": {
     "outputs_hidden": true
    },
    "tags": []
   },
   "outputs": [
    {
     "name": "stdout",
     "output_type": "stream",
     "text": [
      "Signal Fraction :  0.001\n",
      "0.847 1.712\n",
      "2 5 1.2243588 1.6416783\n",
      "95/95 [==============================] - 0s 906us/step\n",
      "95/95 [==============================] - 0s 622us/step\n",
      "95/95 [==============================] - 0s 626us/step\n",
      "193/193 [==============================] - 0s 770us/step\n",
      "2 5 1.2058846 1.6649032\n",
      "95/95 [==============================] - 0s 906us/step\n",
      "95/95 [==============================] - 0s 615us/step\n",
      "95/95 [==============================] - 0s 628us/step\n",
      "193/193 [==============================] - 0s 780us/step\n",
      "2 5 1.2175756 1.6523058\n",
      "95/95 [==============================] - 0s 880us/step\n",
      "95/95 [==============================] - 0s 619us/step\n",
      "95/95 [==============================] - 0s 591us/step\n",
      "193/193 [==============================] - 0s 750us/step\n",
      "2 5 1.218694 1.66376\n",
      "95/95 [==============================] - 0s 918us/step\n",
      "95/95 [==============================] - 0s 625us/step\n",
      "95/95 [==============================] - 0s 618us/step\n",
      "193/193 [==============================] - 0s 774us/step\n",
      "2 5 1.2084136 1.6552875\n",
      "95/95 [==============================] - 0s 897us/step\n",
      "95/95 [==============================] - 0s 603us/step\n",
      "95/95 [==============================] - 0s 605us/step\n",
      "193/193 [==============================] - 0s 770us/step\n",
      "Signal Fraction :  0.0016681005372000592\n",
      "4.73 2.808\n",
      "2 5 4.769973 2.4214709\n",
      "95/95 [==============================] - 0s 912us/step\n",
      "95/95 [==============================] - 0s 634us/step\n",
      "95/95 [==============================] - 0s 638us/step\n",
      "193/193 [==============================] - 0s 765us/step\n",
      "2 5 4.763645 2.4444199\n",
      "95/95 [==============================] - 0s 876us/step\n",
      "95/95 [==============================] - 0s 601us/step\n",
      "95/95 [==============================] - 0s 603us/step\n",
      "193/193 [==============================] - 0s 752us/step\n",
      "2 5 4.7944193 2.4212596\n",
      "95/95 [==============================] - 0s 950us/step\n",
      "95/95 [==============================] - 0s 586us/step\n",
      "95/95 [==============================] - 0s 616us/step\n",
      "193/193 [==============================] - 0s 776us/step\n",
      "2 5 4.775754 2.4200053\n",
      "95/95 [==============================] - 0s 887us/step\n",
      "95/95 [==============================] - 0s 622us/step\n",
      "95/95 [==============================] - 0s 632us/step\n",
      "193/193 [==============================] - 0s 781us/step\n",
      "2 5 4.7426023 2.4192796\n",
      "95/95 [==============================] - 0s 887us/step\n",
      "95/95 [==============================] - 0s 610us/step\n",
      "95/95 [==============================] - 0s 626us/step\n",
      "193/193 [==============================] - 0s 747us/step\n",
      "Signal Fraction :  0.0027825594022071257\n",
      "2.293 2.078\n",
      "2 5 2.7143195 1.6232251\n",
      "95/95 [==============================] - 0s 932us/step\n",
      "95/95 [==============================] - 0s 647us/step\n",
      "95/95 [==============================] - 0s 645us/step\n",
      "193/193 [==============================] - 0s 757us/step\n",
      "2 5 2.7147152 1.6279421\n",
      "95/95 [==============================] - 0s 914us/step\n",
      "95/95 [==============================] - 0s 633us/step\n",
      "95/95 [==============================] - 0s 652us/step\n",
      "193/193 [==============================] - 0s 794us/step\n",
      "2 5 2.6941257 1.6297762\n",
      "95/95 [==============================] - 0s 890us/step\n",
      "95/95 [==============================] - 0s 620us/step\n",
      "95/95 [==============================] - 0s 622us/step\n",
      "193/193 [==============================] - 0s 724us/step\n",
      "2 5 2.475594 2.4971232\n",
      "95/95 [==============================] - 0s 914us/step\n",
      "95/95 [==============================] - 0s 619us/step\n",
      "95/95 [==============================] - 0s 629us/step\n",
      "193/193 [==============================] - 0s 752us/step\n",
      "2 5 2.7136464 1.6282039\n",
      "95/95 [==============================] - 0s 896us/step\n",
      "95/95 [==============================] - 0s 613us/step\n",
      "95/95 [==============================] - 0s 603us/step\n",
      "193/193 [==============================] - 0s 783us/step\n",
      "Signal Fraction :  0.004641588833612777\n",
      "2.615 4.779\n",
      "2 5 2.0331378 4.977547\n",
      "95/95 [==============================] - 0s 911us/step\n",
      "95/95 [==============================] - 0s 639us/step\n",
      "95/95 [==============================] - 0s 636us/step\n",
      "193/193 [==============================] - 0s 764us/step\n",
      "2 5 2.037639 4.9782953\n",
      "95/95 [==============================] - 0s 942us/step\n",
      "95/95 [==============================] - 0s 609us/step\n",
      "95/95 [==============================] - 0s 601us/step\n",
      "193/193 [==============================] - 0s 783us/step\n",
      "2 5 2.0243251 4.897747\n",
      "95/95 [==============================] - 0s 898us/step\n",
      "95/95 [==============================] - 0s 617us/step\n",
      "95/95 [==============================] - 0s 606us/step\n",
      "193/193 [==============================] - 0s 758us/step\n",
      "2 5 2.0316167 4.9422584\n",
      "95/95 [==============================] - 0s 883us/step\n",
      "95/95 [==============================] - 0s 636us/step\n",
      "95/95 [==============================] - 0s 616us/step\n",
      "193/193 [==============================] - 0s 777us/step\n",
      "2 5 2.000852 4.9577084\n",
      "95/95 [==============================] - 0s 876us/step\n",
      "95/95 [==============================] - 0s 600us/step\n",
      "95/95 [==============================] - 0s 596us/step\n",
      "193/193 [==============================] - 0s 743us/step\n",
      "Signal Fraction :  0.007742636826811269\n",
      "4.768 1.88\n",
      "2 5 4.9866734 2.0277147\n",
      "95/95 [==============================] - 0s 959us/step\n",
      "95/95 [==============================] - 0s 590us/step\n",
      "95/95 [==============================] - 0s 617us/step\n",
      "193/193 [==============================] - 0s 773us/step\n",
      "2 5 4.9784775 1.9981707\n",
      "95/95 [==============================] - 0s 861us/step\n",
      "95/95 [==============================] - 0s 609us/step\n",
      "95/95 [==============================] - 0s 612us/step\n",
      "193/193 [==============================] - 0s 740us/step\n",
      "2 5 4.96611 2.0440218\n",
      "95/95 [==============================] - 0s 938us/step\n",
      "95/95 [==============================] - 0s 620us/step\n",
      "95/95 [==============================] - 0s 635us/step\n",
      "193/193 [==============================] - 0s 806us/step\n",
      "2 5 4.950031 1.9883735\n",
      "95/95 [==============================] - 0s 912us/step\n",
      "95/95 [==============================] - 0s 612us/step\n",
      "95/95 [==============================] - 0s 645us/step\n",
      "193/193 [==============================] - 0s 809us/step\n",
      "2 5 4.9567924 2.0190594\n",
      "95/95 [==============================] - 0s 872us/step\n",
      "95/95 [==============================] - 0s 616us/step\n",
      "95/95 [==============================] - 0s 613us/step\n",
      "193/193 [==============================] - 0s 774us/step\n",
      "Signal Fraction :  0.01291549665014884\n",
      "0.749 3.246\n",
      "2 5 2.0043259 4.9667153\n",
      "95/95 [==============================] - 0s 931us/step\n",
      "95/95 [==============================] - 0s 639us/step\n",
      "95/95 [==============================] - 0s 623us/step\n",
      "193/193 [==============================] - 0s 771us/step\n",
      "2 5 2.031008 5.005156\n",
      "95/95 [==============================] - 0s 931us/step\n",
      "95/95 [==============================] - 0s 609us/step\n",
      "95/95 [==============================] - 0s 624us/step\n",
      "193/193 [==============================] - 0s 781us/step\n",
      "2 5 2.0594923 5.007362\n",
      "95/95 [==============================] - 0s 922us/step\n",
      "95/95 [==============================] - 0s 621us/step\n",
      "95/95 [==============================] - 0s 631us/step\n",
      "193/193 [==============================] - 0s 787us/step\n",
      "2 5 2.0332797 4.969961\n",
      "95/95 [==============================] - 0s 919us/step\n",
      "95/95 [==============================] - 0s 655us/step\n",
      "95/95 [==============================] - 0s 625us/step\n",
      "193/193 [==============================] - 0s 825us/step\n",
      "2 5 2.0398643 4.980429\n",
      "95/95 [==============================] - 0s 892us/step\n",
      "95/95 [==============================] - 0s 615us/step\n",
      "95/95 [==============================] - 0s 629us/step\n",
      "193/193 [==============================] - 0s 803us/step\n",
      "Signal Fraction :  0.021544346900318832\n",
      "1.404 3.577\n",
      "2 5 2.0360308 5.017357\n",
      "95/95 [==============================] - 0s 942us/step\n",
      "95/95 [==============================] - 0s 614us/step\n",
      "95/95 [==============================] - 0s 632us/step\n",
      "193/193 [==============================] - 0s 793us/step\n",
      "2 5 2.007901 4.9596806\n",
      "95/95 [==============================] - 0s 896us/step\n",
      "95/95 [==============================] - 0s 612us/step\n",
      "95/95 [==============================] - 0s 606us/step\n",
      "193/193 [==============================] - 0s 756us/step\n",
      "2 5 2.0301752 5.018174\n",
      "95/95 [==============================] - 0s 876us/step\n",
      "95/95 [==============================] - 0s 619us/step\n",
      "95/95 [==============================] - 0s 649us/step\n",
      "193/193 [==============================] - 0s 756us/step\n",
      "2 5 2.0097408 4.98711\n",
      "95/95 [==============================] - 0s 888us/step\n",
      "95/95 [==============================] - 0s 598us/step\n",
      "95/95 [==============================] - 0s 626us/step\n",
      "193/193 [==============================] - 0s 788us/step\n",
      "2 5 2.0516906 4.977376\n",
      "95/95 [==============================] - 0s 952us/step\n",
      "95/95 [==============================] - 0s 616us/step\n",
      "95/95 [==============================] - 0s 636us/step\n",
      "193/193 [==============================] - 0s 788us/step\n",
      "Signal Fraction :  0.03593813663804626\n",
      "4.128 0.759\n",
      "2 5 4.948348 1.9924866\n",
      "95/95 [==============================] - 0s 861us/step\n",
      "95/95 [==============================] - 0s 609us/step\n",
      "95/95 [==============================] - 0s 596us/step\n",
      "193/193 [==============================] - 0s 761us/step\n",
      "2 5 4.9718847 2.0142958\n",
      "95/95 [==============================] - 0s 919us/step\n",
      "95/95 [==============================] - 0s 634us/step\n",
      "95/95 [==============================] - 0s 621us/step\n",
      "193/193 [==============================] - 0s 807us/step\n",
      "2 5 4.9820814 2.0305037\n",
      "95/95 [==============================] - 0s 882us/step\n",
      "95/95 [==============================] - 0s 603us/step\n",
      "95/95 [==============================] - 0s 605us/step\n",
      "193/193 [==============================] - 0s 750us/step\n",
      "2 5 4.9547586 1.9971386\n",
      "95/95 [==============================] - 0s 894us/step\n",
      "95/95 [==============================] - 0s 598us/step\n",
      "95/95 [==============================] - 0s 599us/step\n",
      "193/193 [==============================] - 0s 747us/step\n",
      "2 5 4.9481745 2.0001235\n",
      "95/95 [==============================] - 0s 944us/step\n",
      "95/95 [==============================] - 0s 587us/step\n",
      "95/95 [==============================] - 0s 610us/step\n",
      "193/193 [==============================] - 0s 740us/step\n",
      "Signal Fraction :  0.05994842503189409\n",
      "2.162 4.059\n",
      "2 5 2.021506 4.965467\n",
      "95/95 [==============================] - 0s 903us/step\n",
      "95/95 [==============================] - 0s 627us/step\n",
      "95/95 [==============================] - 0s 637us/step\n",
      "193/193 [==============================] - 0s 763us/step\n",
      "2 5 2.0157583 4.959441\n",
      "95/95 [==============================] - 0s 920us/step\n",
      "95/95 [==============================] - 0s 624us/step\n",
      "95/95 [==============================] - 0s 629us/step\n",
      "193/193 [==============================] - 0s 722us/step\n",
      "2 5 1.9821758 4.9763646\n",
      "95/95 [==============================] - 0s 926us/step\n",
      "95/95 [==============================] - 0s 625us/step\n",
      "95/95 [==============================] - 0s 613us/step\n",
      "193/193 [==============================] - 0s 731us/step\n",
      "2 5 1.9935051 4.9800997\n",
      "95/95 [==============================] - 0s 878us/step\n",
      "95/95 [==============================] - 0s 587us/step\n",
      "95/95 [==============================] - 0s 595us/step\n",
      "193/193 [==============================] - 0s 750us/step\n",
      "2 5 2.0198007 4.989161\n",
      "95/95 [==============================] - 0s 890us/step\n",
      "95/95 [==============================] - 0s 616us/step\n",
      "95/95 [==============================] - 0s 608us/step\n",
      "193/193 [==============================] - 0s 797us/step\n",
      "Signal Fraction :  0.1\n",
      "2.02 3.838\n",
      "2 5 2.018149 4.994175\n",
      "95/95 [==============================] - 0s 844us/step\n",
      "95/95 [==============================] - 0s 622us/step\n",
      "95/95 [==============================] - 0s 596us/step\n",
      "193/193 [==============================] - 0s 737us/step\n",
      "2 5 1.9986231 4.990426\n",
      "95/95 [==============================] - 0s 859us/step\n",
      "95/95 [==============================] - 0s 592us/step\n",
      "95/95 [==============================] - 0s 612us/step\n",
      "193/193 [==============================] - 0s 767us/step\n",
      "2 5 2.0045686 5.0162315\n",
      "95/95 [==============================] - 0s 897us/step\n",
      "95/95 [==============================] - 0s 620us/step\n",
      "95/95 [==============================] - 0s 631us/step\n",
      "193/193 [==============================] - 0s 785us/step\n",
      "2 5 2.0026667 5.0135074\n",
      "95/95 [==============================] - 0s 925us/step\n",
      "95/95 [==============================] - 0s 626us/step\n",
      "95/95 [==============================] - 0s 621us/step\n",
      "193/193 [==============================] - 0s 803us/step\n",
      "2 5 2.0060954 4.977191\n",
      "95/95 [==============================] - 0s 924us/step\n",
      "95/95 [==============================] - 0s 625us/step\n",
      "95/95 [==============================] - 0s 639us/step\n",
      "193/193 [==============================] - 0s 782us/step\n"
     ]
    }
   ],
   "source": [
    "qq = \"qq\"\n",
    "\n",
    "epsilon = 1e-4\n",
    "k_runs = 5\n",
    "noise = False\n",
    "feature_dims = 6\n",
    "params = 3\n",
    "\n",
    "m1 = 2\n",
    "m2 = 5\n",
    "\n",
    "model_full = train_supervised(feature_dims, m1, m2)\n",
    "\n",
    "#Loop over signal injection amounts M\n",
    "#For a given signal injection amount, inject events according to N ~ Poission(M)\n",
    "#For a given N injected events, initialize the network with w ~ Uniform.  Do this k times.\n",
    "\n",
    "msic1_runs = []\n",
    "msic2_runs = []\n",
    "msic3_runs = []\n",
    "msic4_runs = []\n",
    "\n",
    "weight_list1_runs = []\n",
    "weight_list2_runs = []\n",
    "weight_list3_runs = []\n",
    "initial_weights = []\n",
    "\n",
    "for sigfrac in np.logspace(-3,-1,10):\n",
    "        \n",
    "    w1 = round(random.uniform(0.5, 6.0),3)\n",
    "    w2 = round(random.uniform(0.5, 6.0),3)\n",
    "    \n",
    "    initial_weights.append((w1, w2))\n",
    "    \n",
    "    print(w1, w2)\n",
    "    \n",
    "    msic1 = []\n",
    "    msic2 = []\n",
    "    msic3 = []\n",
    "    msic4 = []\n",
    "    \n",
    "    weight_list1 = []\n",
    "    weight_list2 = []\n",
    "    weight_list3 = []\n",
    "\n",
    "    print(f\"Ensembling {k_runs} for Signal Fraction : {sigfrac}\")\n",
    "    for _ in range(k_runs):\n",
    "        \n",
    "        model_semiweak = compileSemiWeakly(feature_dims, params, m1, m2, w1, w2)\n",
    "\n",
    "        test_background = int(1/2 * len(x[0,0, qq, noise]))\n",
    "        train_reference = int(1/4 *len(x[0,0, qq, noise]))\n",
    "        train_data = int(1/4 * len(x[0,0, qq, noise]))\n",
    "        test_signal = int(1/2*len(x[m1,m2, qq, noise]))\n",
    "\n",
    "        #randomized signal\n",
    "        random_test_signal_length = random.randint(0, test_signal - 1)\n",
    "        N = int(1/4 * (len(x[0,0, qq, noise])))\n",
    "        signal = x[m1, m2, qq, noise][random_test_signal_length:random_test_signal_length + int(sigfrac*N)]\n",
    "        \n",
    "        #fixed signal portion\n",
    "        # N = int(1/4 * (len(x[0,0, qq, noise])))\n",
    "        # signal = x[m1, m2, qq, noise][test_signal:test_signal + int(sigfrac*N)]\n",
    "\n",
    "        x_data_ = np.concatenate([x[0,0, qq, noise][test_background:],signal])\n",
    "        y_data_ = np.concatenate([np.zeros(train_reference),np.ones(train_data),np.ones(len(signal))])\n",
    "\n",
    "        X_train_, X_val_, Y_train_, Y_val_ = train_test_split(x_data_, y_data_, test_size=0.5, random_state = 42)\n",
    "\n",
    "        history_semiweak = model_semiweak.fit(X_train_[:,0:feature_dims], Y_train_, epochs=100,\n",
    "                                               validation_data=(X_val_[:,0:feature_dims], Y_val_),batch_size=1024, verbose = 0)\n",
    "        \n",
    "        print(m1,m2,model_semiweak.trainable_weights[0].numpy()[0][0],\n",
    "              model_semiweak.trainable_weights[1].numpy()[0][0])\n",
    "        \n",
    "        weight_list1+=[model_semiweak.trainable_weights[0].numpy()[0][0]]\n",
    "        weight_list2+=[model_semiweak.trainable_weights[1].numpy()[0][0]]\n",
    "        weight_list3+=[np.exp(model_semiweak.trainable_weights[2].numpy()[0][0])]\n",
    "        scores = model_semiweak.predict(np.concatenate([x[0,0, qq, noise][0:test_background],x[m1,m2, qq, noise][0:test_signal]]),batch_size=1024)\n",
    "        y = np.concatenate([np.zeros(test_background),np.ones(test_signal)])\n",
    "        fpr, tpr, _ = metrics.roc_curve(y, scores)\n",
    "        \n",
    "        #weakly supervised\n",
    "        model_cwola = compileCWOLA(feature_dims, m1, m2)\n",
    "        myhistory_cwola = model_cwola.fit(X_train_[:,0:feature_dims], Y_train_, epochs=10,validation_data=(X_val_[:,0:feature_dims], Y_val_),batch_size=1024, verbose = 0)\n",
    "\n",
    "        scores2 = model_cwola.predict(np.concatenate([x[0,0, qq, noise][0:test_background],x[m1,m2, qq, noise][0:test_signal]]),batch_size=1024)\n",
    "        y2 = np.concatenate([np.zeros(test_background),np.ones(test_signal)])\n",
    "        fpr2, tpr2, _ = metrics.roc_curve(y2, scores2)\n",
    "        \n",
    "        #fully supervised\n",
    "        scores_full = model_full.predict(np.concatenate([x[0,0, qq, noise][0:test_background],x[m1,m2, qq, noise][0:test_signal]]),batch_size=1024)\n",
    "        y_full = np.concatenate([np.zeros(test_background),np.ones(test_signal)])\n",
    "        fpr_full, tpr_full, _ = metrics.roc_curve(y_full, scores_full)\n",
    "        \n",
    "        #parametrized classifer\n",
    "        scores_full2 = model_qq.predict(x_data_qq[np.product(x_data_qq[:,6:8]==[m1,m2],axis=1)==1],batch_size=1000)\n",
    "        fpr_full2, tpr_full2, _ = metrics.roc_curve(y_data_qq[np.product(x_data_qq[:,6:8]==[m1,m2],axis=1)==1], scores_full2)\n",
    "        \n",
    "        msic1.append(np.max(tpr/np.sqrt(fpr+epsilon)))\n",
    "        msic2.append(np.max(tpr2/np.sqrt(fpr2+epsilon)))\n",
    "        msic3.append(np.max(tpr_full/np.sqrt(fpr_full+epsilon)))\n",
    "        msic4.append(np.max(tpr_full2/np.sqrt(fpr_full2+epsilon)))\n",
    "        \n",
    "    msic1_runs.append(np.mean(msic1))\n",
    "    msic2_runs.append(np.mean(msic2))\n",
    "    msic3_runs.append(np.mean(msic3))\n",
    "    msic4_runs.append(np.mean(msic4))\n",
    "    \n",
    "    weight_list1_runs.append(weight_list1)\n",
    "    weight_list2_runs.append(weight_list2)\n",
    "    weight_list3_runs.append(weight_list3)"
   ]
  },
  {
   "cell_type": "code",
   "execution_count": 56,
   "id": "ce1d1784-96eb-48a7-aca6-f1587dd6f304",
   "metadata": {
    "tags": []
   },
   "outputs": [
    {
     "data": {
      "image/png": "[encoded data removed]",
      "text/plain": [
       "<Figure size 640x480 with 1 Axes>"
      ]
     },
     "metadata": {},
     "output_type": "display_data"
    }
   ],
   "source": [
    "plt.hist(x[m1, m2, qq, noise][random_test_signal_length:random_test_signal_length + int(sigfrac*N)][:,5], bins = 50);"
   ]
  },
  {
   "cell_type": "code",
   "execution_count": 49,
   "id": "3c3a63aa-742a-46e7-b1d4-6b19477147c2",
   "metadata": {
    "tags": []
   },
   "outputs": [
    {
     "data": {
      "text/plain": [
       "3033"
      ]
     },
     "execution_count": 49,
     "metadata": {},
     "output_type": "execute_result"
    }
   ],
   "source": [
    "len(x[m1, m2, qq, noise][random_test_signal_length:random_test_signal_length + int(sigfrac*N)][:,0])"
   ]
  },
  {
   "cell_type": "code",
   "execution_count": 20,
   "id": "991d9cee-a832-4092-8c4f-e559b5d02ead",
   "metadata": {
    "tags": []
   },
   "outputs": [
    {
     "data": {
      "text/plain": [
       "Text(0, 0.5, 'Max SIC')"
      ]
     },
     "execution_count": 20,
     "metadata": {},
     "output_type": "execute_result"
    },
    {
     "data": {
      "image/png": "[encoded data removed]",
      "text/plain": [
       "<Figure size 640x480 with 1 Axes>"
      ]
     },
     "metadata": {},
     "output_type": "display_data"
    }
   ],
   "source": [
    "sig_list = np.logspace(-3, -1, 10)\n",
    "plt.plot(sig_list,avgmsic1,label=\"Weakly, Semisupervised\")\n",
    "plt.plot(sig_list,avgmsic2,label=\"Weakly Supervised\")\n",
    "plt.plot(sig_list,avgmsic3,label=\"Fully Supervised\")\n",
    "#plt.plot(sig_list,avgmsic4,label=\"Parametrized\")\n",
    "\n",
    "plt.title(f\"6 Features m1: {m1} m2: {m2}\")\n",
    "plt.legend()\n",
    "plt.xscale(\"log\")\n",
    "plt.xlabel(\"S/B\")\n",
    "plt.ylabel(\"Max SIC\")"
   ]
  },
  {
   "cell_type": "code",
   "execution_count": 21,
   "id": "025f111f-5728-4224-a444-7dd223bd8d39",
   "metadata": {
    "tags": []
   },
   "outputs": [],
   "source": [
    "max_sics = {}\n",
    "max_sics[(\"SWS\", feature_dims, len(model_semiweak.trainable_weights), m1, m2)] = avgmsic1\n",
    "max_sics[(\"WS\", feature_dims, len(model_semiweak.trainable_weights), m1, m2)] = avgmsic2\n",
    "max_sics[(\"FS\", feature_dims, len(model_semiweak.trainable_weights), m1, m2)] = avgmsic3\n",
    "max_sics[(\"FP\", feature_dims, len(model_semiweak.trainable_weights), m1, m2)] = avgmsic4\n",
    "\n",
    "import pickle\n",
    "with open('max_sics25loopstructure.pkl', 'wb') as f:\n",
    "    pickle.dump(max_sics, f)"
   ]
  },
  {
   "cell_type": "code",
   "execution_count": 24,
   "id": "ea511d1a-9d09-4ac0-bc4f-971e2cd14d69",
   "metadata": {
    "tags": []
   },
   "outputs": [],
   "source": [
    "np.save(\"25flatFS.npy\", weight_list3_runs)"
   ]
  },
  {
   "cell_type": "code",
   "execution_count": 223,
   "id": "fa9ce191-ddda-4b9e-b583-b77046a3a3fe",
   "metadata": {},
   "outputs": [
    {
     "name": "stdout",
     "output_type": "stream",
     "text": [
      "Total elapsed time: 0.001 seconds\n"
     ]
    }
   ],
   "source": [
    "import time\n",
    "\n",
    "#3pronged decay\n",
    "qq = \"qq\"\n",
    "start_time = time.time()\n",
    "\n",
    "def create_loss_landscape_6Features(feature_dims, parameters, m1, m2):\n",
    "    \n",
    "    #check if loss dictionary exists, if it does load it, if not create empty one\n",
    "    dir_path = os.getcwd()\n",
    "    file_name = f\"z_allm1m2_{feature_dims}morefps33.5.npy\"\n",
    "    file_path = os.path.join(dir_path, file_name)\n",
    "    \n",
    "    if os.path.exists(file_path):\n",
    "        z = np.load(file_name, allow_pickle = True).item()\n",
    "    else:\n",
    "        print(\"Dictionary doesn't exist, creating one...\")\n",
    "        z = {}\n",
    "    #varying sigfrac, fixed mass pair\n",
    "    \n",
    "    losses_list = []\n",
    "\n",
    "    epsilon = 1e-4\n",
    "    sig_space = np.logspace(-3, -1, 20)\n",
    "    \n",
    "    #if we want a specific sigfrac\n",
    "    #sig_space = [0.1]\n",
    "    \n",
    "    start = 0.5\n",
    "    end = 6\n",
    "    step = 0.25\n",
    "\n",
    "    weight_list = np.arange(start, end + step, step)\n",
    "    \n",
    "    for sig in sig_space:\n",
    "        print(\"Signal Fraction: \", sig)\n",
    "        count = 0\n",
    "        for w1 in weight_list:\n",
    "            for w2 in weight_list:\n",
    "                if count % 1000 == 0:\n",
    "                    print(f\"reached {w1} {w2}\")\n",
    "                count+=1\n",
    "                #print(w1, w2)\n",
    "                sigfrac = sig\n",
    "\n",
    "                model_semiweak = compileSemiWeakly(feature_dims, parameters, m1, m2, w1, w2)\n",
    "\n",
    "                m1 = m1\n",
    "                m2 = m2\n",
    "                \n",
    "                #if computed this mass pair, break\n",
    "                \n",
    "                key = (sigfrac,m1,m2)\n",
    "                if key in z:\n",
    "                    break\n",
    "\n",
    "                test_background = int(1/2 *len(x[0,0, qq]))\n",
    "                train_background = int(1/4 * len(x[0,0,qq]))\n",
    "                train_data = int(1/4 * len(x[0,0,qq]))\n",
    "                train_reference = int(1/4 * len(x[0,0,qq]))\n",
    "                #signal\n",
    "                test_signal_length = int(1/2*len(x[m1,m2,qq]))\n",
    "                sig_frac = sigfrac\n",
    "\n",
    "                #randomize signal events\n",
    "                random_test_signal_length = random.randint(0, test_signal_length - 1)\n",
    "                N = int(1/4 * (len(x[0,0,qq])))\n",
    "                signal = x[m1, m2,qq][random_test_signal_length:random_test_signal_length + int(sigfrac*N)]\n",
    "\n",
    "                x_data_ = np.concatenate([x[0,0,qq][test_background:],signal])\n",
    "                y_data_ = np.concatenate([np.zeros(train_reference),np.ones(train_data),np.ones(len(signal))])\n",
    "\n",
    "                X_train_, X_val_, Y_train_, Y_val_ = train_test_split(x_data_, y_data_, test_size=0.5, random_state = 42)\n",
    "                \n",
    "                with tf.device('/GPU:0'):\n",
    "                    loss = model_semiweak.evaluate(X_val_, Y_val_, verbose = 0)\n",
    "                losses_list.append(loss)\n",
    "                \n",
    "        end_time = time.time()\n",
    "        elapsed_time = round(end_time - start_time, 3)\n",
    "        print(f\"Time taken: {elapsed_time} seconds\")\n",
    "        if key in z:\n",
    "            print(\"Landscape for m1 = {} \".format(m1) + \"and \" + \"m2 = {} \".format(m2) +\" already exists for \" + \"{}\".format(sigfrac) + \" signal fraction\")\n",
    "        else:\n",
    "            z[sigfrac, m1, m2] = losses_list\n",
    "            losses_list = []\n",
    "            np.save(file_name, z)\n",
    "end_time_total = time.time()\n",
    "\n",
    "elapsed_time_total = round(end_time_total - start_time, 3)\n",
    "print(f\"Total elapsed time: {elapsed_time_total} seconds\")"
   ]
  },
  {
   "cell_type": "code",
   "execution_count": null,
   "id": "59c66522-c256-4cb6-8b73-836d4ac84456",
   "metadata": {
    "tags": []
   },
   "outputs": [
    {
     "name": "stdout",
     "output_type": "stream",
     "text": [
      "Signal Fraction:  0.001\n",
      "Time taken: 29769.496 seconds\n",
      "Signal Fraction:  0.0012742749857031334\n",
      "Time taken: 30525.919 seconds\n",
      "Signal Fraction:  0.001623776739188721\n",
      "Time taken: 31285.205 seconds\n",
      "Signal Fraction:  0.00206913808111479\n",
      "Time taken: 32070.743 seconds\n",
      "Signal Fraction:  0.0026366508987303583\n",
      "Time taken: 32950.64 seconds\n",
      "Signal Fraction:  0.003359818286283781\n",
      "Time taken: 33757.107 seconds\n",
      "Signal Fraction:  0.004281332398719396\n",
      "Time taken: 34478.88 seconds\n",
      "Signal Fraction:  0.00545559478116852\n",
      "Time taken: 35191.248 seconds\n",
      "Signal Fraction:  0.0069519279617756054\n",
      "Time taken: 35904.252 seconds\n",
      "Signal Fraction:  0.008858667904100823\n",
      "Time taken: 36614.143 seconds\n",
      "Signal Fraction:  0.011288378916846888\n",
      "Time taken: 37497.193 seconds\n",
      "Signal Fraction:  0.01438449888287663\n"
     ]
    }
   ],
   "source": [
    "create_loss_landscape_6Features(model_qq, 2, 5)"
   ]
  },
  {
   "cell_type": "code",
   "execution_count": 23,
   "id": "187ab6ad-ddcc-47e6-abab-654ef6dfdd32",
   "metadata": {
    "tags": []
   },
   "outputs": [
    {
     "data": {
      "text/plain": [
       "dict_keys([(0.0379269019073225, 3, 4.5), (0.001, 3, 4.5), (0.0012742749857031334, 3, 4.5), (0.001623776739188721, 3, 4.5), (0.00206913808111479, 3, 4.5), (0.0026366508987303583, 3, 4.5), (0.003359818286283781, 3, 4.5), (0.004281332398719396, 3, 4.5), (0.00545559478116852, 3, 4.5), (0.0069519279617756054, 3, 4.5), (0.008858667904100823, 3, 4.5), (0.011288378916846888, 3, 4.5), (0.01438449888287663, 3, 4.5), (0.018329807108324356, 3, 4.5), (0.023357214690901212, 3, 4.5), (0.029763514416313176, 3, 4.5), (0.04832930238571752, 3, 4.5), (0.06158482110660261, 3, 4.5), (0.07847599703514611, 3, 4.5), (0.1, 3, 4.5)])"
      ]
     },
     "execution_count": 23,
     "metadata": {},
     "output_type": "execute_result"
    }
   ],
   "source": [
    "z_allm1m2_HD = np.load(\"z_allm1m2_6FeaturesHD.npy\", allow_pickle = True).item()\n",
    "z_allm1m2_HD.keys()"
   ]
  },
  {
   "cell_type": "code",
   "execution_count": 31,
   "id": "870f5207-209d-4d2d-a601-c98495afb56d",
   "metadata": {
    "tags": []
   },
   "outputs": [],
   "source": [
    "from IPython.display import display, clear_output\n",
    "from PIL import Image, ImageSequence\n",
    "def create_gif_nofit(m1, m2, z):\n",
    "    \n",
    "    output_directory = '2dhist_images'\n",
    "    os.makedirs(output_directory, exist_ok=True)\n",
    "    \n",
    "    sig_space = np.logspace(-3, -1 , 20)\n",
    "    \n",
    "    frames = []\n",
    "    for sb in sig_space:\n",
    "    \n",
    "        loss_landscape_nofit(sb, m1, m2, z)\n",
    "\n",
    "        image_path = os.path.join(output_directory, f'hist_{sb}.png')\n",
    "        plt.savefig(image_path)\n",
    "        plt.close()\n",
    "        clear_output(wait=True)\n",
    "\n",
    "        # Append the image to the frames list\n",
    "        frames.append(Image.open(image_path))\n",
    "\n",
    "    # Create the final GIF that combines all frames\n",
    "    output_gif_filename = f'sigspace{m1}{m2}fixed.gif'\n",
    "    frames[0].save(output_gif_filename, save_all=True, append_images=frames[1:], duration=400, loop=0)"
   ]
  },
  {
   "cell_type": "code",
   "execution_count": 16,
   "id": "d87872b3-79cc-4137-bb41-1ea97af8025b",
   "metadata": {
    "tags": []
   },
   "outputs": [],
   "source": [
    "X_train_qqq, X_val_qqq, Y_train_qqq, Y_val_qqq = train_test_split(x_data_qqq, y_data_qqq, test_size=0.5)"
   ]
  },
  {
   "cell_type": "code",
   "execution_count": 20,
   "id": "15f914a2-778a-4619-a7d8-2554fe7e553b",
   "metadata": {
    "tags": []
   },
   "outputs": [],
   "source": [
    "es = tf.keras.callbacks.EarlyStopping(monitor='val_loss', patience=5)"
   ]
  },
  {
   "cell_type": "code",
   "execution_count": 7,
   "id": "99d09263-275f-4a23-aecd-f37a37111f6e",
   "metadata": {
    "tags": []
   },
   "outputs": [
    {
     "name": "stderr",
     "output_type": "stream",
     "text": [
      "2024-01-09 21:32:41.982684: I tensorflow/core/platform/cpu_feature_guard.cc:193] This TensorFlow binary is optimized with oneAPI Deep Neural Network Library (oneDNN) to use the following CPU instructions in performance-critical operations:  AVX2 FMA\n",
      "To enable them in other operations, rebuild TensorFlow with the appropriate compiler flags.\n",
      "2024-01-09 21:32:43.758591: I tensorflow/core/common_runtime/gpu/gpu_device.cc:1532] Created device /job:localhost/replica:0/task:0/device:GPU:0 with 13379 MB memory:  -> device: 0, name: NVIDIA A100-PCIE-40GB, pci bus id: 0000:c3:00.0, compute capability: 8.0\n"
     ]
    }
   ],
   "source": [
    "model_qq = tf.keras.models.load_model(\"model_qq_v2\")\n",
    "model_qqq = tf.keras.models.load_model(\"model_qqq\")"
   ]
  },
  {
   "cell_type": "code",
   "execution_count": 202,
   "id": "01a735d5-ddbc-47fe-b53a-90433f3427d5",
   "metadata": {
    "tags": []
   },
   "outputs": [
    {
     "name": "stdout",
     "output_type": "stream",
     "text": [
      "0.001 2.876 4.013\n"
     ]
    },
    {
     "ename": "KeyboardInterrupt",
     "evalue": "",
     "output_type": "error",
     "traceback": [
      "\u001b[0;31m---------------------------------------------------------------------------\u001b[0m",
      "\u001b[0;31mKeyboardInterrupt\u001b[0m                         Traceback (most recent call last)",
      "Cell \u001b[0;32mIn[202], line 108\u001b[0m\n\u001b[1;32m    102\u001b[0m \u001b[38;5;66;03m#noise?\u001b[39;00m\n\u001b[1;32m    103\u001b[0m \u001b[38;5;66;03m# samples = np.shape(x_data_mixed)[0]\u001b[39;00m\n\u001b[1;32m    104\u001b[0m \u001b[38;5;66;03m# random_samples = np.random.normal(0, 1, samples)\u001b[39;00m\n\u001b[1;32m    106\u001b[0m X_train_, X_val_, Y_train_, Y_val_ \u001b[38;5;241m=\u001b[39m train_test_split(x_data_mixed, y_data_mixed, test_size\u001b[38;5;241m=\u001b[39m\u001b[38;5;241m0.5\u001b[39m, random_state \u001b[38;5;241m=\u001b[39m \u001b[38;5;241m42\u001b[39m)\n\u001b[0;32m--> 108\u001b[0m myhistory_hack_ \u001b[38;5;241m=\u001b[39m \u001b[43mmodel_all2\u001b[49m\u001b[38;5;241;43m.\u001b[39;49m\u001b[43mfit\u001b[49m\u001b[43m(\u001b[49m\u001b[43mX_train_\u001b[49m\u001b[43m[\u001b[49m\u001b[43m:\u001b[49m\u001b[43m,\u001b[49m\u001b[38;5;241;43m0\u001b[39;49m\u001b[43m:\u001b[49m\u001b[38;5;241;43m6\u001b[39;49m\u001b[43m]\u001b[49m\u001b[43m,\u001b[49m\u001b[43m \u001b[49m\u001b[43mY_train_\u001b[49m\u001b[43m,\u001b[49m\u001b[43m \u001b[49m\u001b[43mepochs\u001b[49m\u001b[38;5;241;43m=\u001b[39;49m\u001b[38;5;241;43m20\u001b[39;49m\u001b[43m,\u001b[49m\u001b[43mvalidation_data\u001b[49m\u001b[38;5;241;43m=\u001b[39;49m\u001b[43m(\u001b[49m\u001b[43mX_val_\u001b[49m\u001b[43m[\u001b[49m\u001b[43m:\u001b[49m\u001b[43m,\u001b[49m\u001b[38;5;241;43m0\u001b[39;49m\u001b[43m:\u001b[49m\u001b[38;5;241;43m6\u001b[39;49m\u001b[43m]\u001b[49m\u001b[43m,\u001b[49m\u001b[43m \u001b[49m\u001b[43mY_val_\u001b[49m\u001b[43m)\u001b[49m\u001b[43m,\u001b[49m\u001b[43mbatch_size\u001b[49m\u001b[38;5;241;43m=\u001b[39;49m\u001b[38;5;241;43m1024\u001b[39;49m\u001b[43m,\u001b[49m\u001b[43m \u001b[49m\u001b[43mverbose\u001b[49m\u001b[43m \u001b[49m\u001b[38;5;241;43m=\u001b[39;49m\u001b[43m \u001b[49m\u001b[38;5;241;43m0\u001b[39;49m\u001b[43m)\u001b[49m\n\u001b[1;32m    109\u001b[0m \u001b[38;5;28mprint\u001b[39m(m1,m2,model_all2\u001b[38;5;241m.\u001b[39mtrainable_weights[\u001b[38;5;241m0\u001b[39m]\u001b[38;5;241m.\u001b[39mnumpy()[\u001b[38;5;241m0\u001b[39m][\u001b[38;5;241m0\u001b[39m],model_all2\u001b[38;5;241m.\u001b[39mtrainable_weights[\u001b[38;5;241m1\u001b[39m]\u001b[38;5;241m.\u001b[39mnumpy()[\u001b[38;5;241m0\u001b[39m][\u001b[38;5;241m0\u001b[39m])\n\u001b[1;32m    111\u001b[0m sig_list\u001b[38;5;241m+\u001b[39m\u001b[38;5;241m=\u001b[39m[sigfrac]\n",
      "File \u001b[0;32m/global/common/software/nersc/pm-2022q4/sw/tensorflow/2.9.0/lib/python3.9/site-packages/keras/utils/traceback_utils.py:64\u001b[0m, in \u001b[0;36mfilter_traceback.<locals>.error_handler\u001b[0;34m(*args, **kwargs)\u001b[0m\n\u001b[1;32m     62\u001b[0m filtered_tb \u001b[38;5;241m=\u001b[39m \u001b[38;5;28;01mNone\u001b[39;00m\n\u001b[1;32m     63\u001b[0m \u001b[38;5;28;01mtry\u001b[39;00m:\n\u001b[0;32m---> 64\u001b[0m   \u001b[38;5;28;01mreturn\u001b[39;00m \u001b[43mfn\u001b[49m\u001b[43m(\u001b[49m\u001b[38;5;241;43m*\u001b[39;49m\u001b[43margs\u001b[49m\u001b[43m,\u001b[49m\u001b[43m \u001b[49m\u001b[38;5;241;43m*\u001b[39;49m\u001b[38;5;241;43m*\u001b[39;49m\u001b[43mkwargs\u001b[49m\u001b[43m)\u001b[49m\n\u001b[1;32m     65\u001b[0m \u001b[38;5;28;01mexcept\u001b[39;00m \u001b[38;5;167;01mException\u001b[39;00m \u001b[38;5;28;01mas\u001b[39;00m e:  \u001b[38;5;66;03m# pylint: disable=broad-except\u001b[39;00m\n\u001b[1;32m     66\u001b[0m   filtered_tb \u001b[38;5;241m=\u001b[39m _process_traceback_frames(e\u001b[38;5;241m.\u001b[39m__traceback__)\n",
      "File \u001b[0;32m/global/common/software/nersc/pm-2022q4/sw/tensorflow/2.9.0/lib/python3.9/site-packages/keras/engine/training.py:1445\u001b[0m, in \u001b[0;36mModel.fit\u001b[0;34m(self, x, y, batch_size, epochs, verbose, callbacks, validation_split, validation_data, shuffle, class_weight, sample_weight, initial_epoch, steps_per_epoch, validation_steps, validation_batch_size, validation_freq, max_queue_size, workers, use_multiprocessing)\u001b[0m\n\u001b[1;32m   1431\u001b[0m \u001b[38;5;28;01mif\u001b[39;00m \u001b[38;5;28mgetattr\u001b[39m(\u001b[38;5;28mself\u001b[39m, \u001b[38;5;124m'\u001b[39m\u001b[38;5;124m_eval_data_handler\u001b[39m\u001b[38;5;124m'\u001b[39m, \u001b[38;5;28;01mNone\u001b[39;00m) \u001b[38;5;129;01mis\u001b[39;00m \u001b[38;5;28;01mNone\u001b[39;00m:\n\u001b[1;32m   1432\u001b[0m   \u001b[38;5;28mself\u001b[39m\u001b[38;5;241m.\u001b[39m_eval_data_handler \u001b[38;5;241m=\u001b[39m data_adapter\u001b[38;5;241m.\u001b[39mget_data_handler(\n\u001b[1;32m   1433\u001b[0m       x\u001b[38;5;241m=\u001b[39mval_x,\n\u001b[1;32m   1434\u001b[0m       y\u001b[38;5;241m=\u001b[39mval_y,\n\u001b[0;32m   (...)\u001b[0m\n\u001b[1;32m   1443\u001b[0m       model\u001b[38;5;241m=\u001b[39m\u001b[38;5;28mself\u001b[39m,\n\u001b[1;32m   1444\u001b[0m       steps_per_execution\u001b[38;5;241m=\u001b[39m\u001b[38;5;28mself\u001b[39m\u001b[38;5;241m.\u001b[39m_steps_per_execution)\n\u001b[0;32m-> 1445\u001b[0m val_logs \u001b[38;5;241m=\u001b[39m \u001b[38;5;28;43mself\u001b[39;49m\u001b[38;5;241;43m.\u001b[39;49m\u001b[43mevaluate\u001b[49m\u001b[43m(\u001b[49m\n\u001b[1;32m   1446\u001b[0m \u001b[43m    \u001b[49m\u001b[43mx\u001b[49m\u001b[38;5;241;43m=\u001b[39;49m\u001b[43mval_x\u001b[49m\u001b[43m,\u001b[49m\n\u001b[1;32m   1447\u001b[0m \u001b[43m    \u001b[49m\u001b[43my\u001b[49m\u001b[38;5;241;43m=\u001b[39;49m\u001b[43mval_y\u001b[49m\u001b[43m,\u001b[49m\n\u001b[1;32m   1448\u001b[0m \u001b[43m    \u001b[49m\u001b[43msample_weight\u001b[49m\u001b[38;5;241;43m=\u001b[39;49m\u001b[43mval_sample_weight\u001b[49m\u001b[43m,\u001b[49m\n\u001b[1;32m   1449\u001b[0m \u001b[43m    \u001b[49m\u001b[43mbatch_size\u001b[49m\u001b[38;5;241;43m=\u001b[39;49m\u001b[43mvalidation_batch_size\u001b[49m\u001b[43m \u001b[49m\u001b[38;5;129;43;01mor\u001b[39;49;00m\u001b[43m \u001b[49m\u001b[43mbatch_size\u001b[49m\u001b[43m,\u001b[49m\n\u001b[1;32m   1450\u001b[0m \u001b[43m    \u001b[49m\u001b[43msteps\u001b[49m\u001b[38;5;241;43m=\u001b[39;49m\u001b[43mvalidation_steps\u001b[49m\u001b[43m,\u001b[49m\n\u001b[1;32m   1451\u001b[0m \u001b[43m    \u001b[49m\u001b[43mcallbacks\u001b[49m\u001b[38;5;241;43m=\u001b[39;49m\u001b[43mcallbacks\u001b[49m\u001b[43m,\u001b[49m\n\u001b[1;32m   1452\u001b[0m \u001b[43m    \u001b[49m\u001b[43mmax_queue_size\u001b[49m\u001b[38;5;241;43m=\u001b[39;49m\u001b[43mmax_queue_size\u001b[49m\u001b[43m,\u001b[49m\n\u001b[1;32m   1453\u001b[0m \u001b[43m    \u001b[49m\u001b[43mworkers\u001b[49m\u001b[38;5;241;43m=\u001b[39;49m\u001b[43mworkers\u001b[49m\u001b[43m,\u001b[49m\n\u001b[1;32m   1454\u001b[0m \u001b[43m    \u001b[49m\u001b[43muse_multiprocessing\u001b[49m\u001b[38;5;241;43m=\u001b[39;49m\u001b[43muse_multiprocessing\u001b[49m\u001b[43m,\u001b[49m\n\u001b[1;32m   1455\u001b[0m \u001b[43m    \u001b[49m\u001b[43mreturn_dict\u001b[49m\u001b[38;5;241;43m=\u001b[39;49m\u001b[38;5;28;43;01mTrue\u001b[39;49;00m\u001b[43m,\u001b[49m\n\u001b[1;32m   1456\u001b[0m \u001b[43m    \u001b[49m\u001b[43m_use_cached_eval_dataset\u001b[49m\u001b[38;5;241;43m=\u001b[39;49m\u001b[38;5;28;43;01mTrue\u001b[39;49;00m\u001b[43m)\u001b[49m\n\u001b[1;32m   1457\u001b[0m val_logs \u001b[38;5;241m=\u001b[39m {\u001b[38;5;124m'\u001b[39m\u001b[38;5;124mval_\u001b[39m\u001b[38;5;124m'\u001b[39m \u001b[38;5;241m+\u001b[39m name: val \u001b[38;5;28;01mfor\u001b[39;00m name, val \u001b[38;5;129;01min\u001b[39;00m val_logs\u001b[38;5;241m.\u001b[39mitems()}\n\u001b[1;32m   1458\u001b[0m epoch_logs\u001b[38;5;241m.\u001b[39mupdate(val_logs)\n",
      "File \u001b[0;32m/global/common/software/nersc/pm-2022q4/sw/tensorflow/2.9.0/lib/python3.9/site-packages/keras/utils/traceback_utils.py:64\u001b[0m, in \u001b[0;36mfilter_traceback.<locals>.error_handler\u001b[0;34m(*args, **kwargs)\u001b[0m\n\u001b[1;32m     62\u001b[0m filtered_tb \u001b[38;5;241m=\u001b[39m \u001b[38;5;28;01mNone\u001b[39;00m\n\u001b[1;32m     63\u001b[0m \u001b[38;5;28;01mtry\u001b[39;00m:\n\u001b[0;32m---> 64\u001b[0m   \u001b[38;5;28;01mreturn\u001b[39;00m \u001b[43mfn\u001b[49m\u001b[43m(\u001b[49m\u001b[38;5;241;43m*\u001b[39;49m\u001b[43margs\u001b[49m\u001b[43m,\u001b[49m\u001b[43m \u001b[49m\u001b[38;5;241;43m*\u001b[39;49m\u001b[38;5;241;43m*\u001b[39;49m\u001b[43mkwargs\u001b[49m\u001b[43m)\u001b[49m\n\u001b[1;32m     65\u001b[0m \u001b[38;5;28;01mexcept\u001b[39;00m \u001b[38;5;167;01mException\u001b[39;00m \u001b[38;5;28;01mas\u001b[39;00m e:  \u001b[38;5;66;03m# pylint: disable=broad-except\u001b[39;00m\n\u001b[1;32m     66\u001b[0m   filtered_tb \u001b[38;5;241m=\u001b[39m _process_traceback_frames(e\u001b[38;5;241m.\u001b[39m__traceback__)\n",
      "File \u001b[0;32m/global/common/software/nersc/pm-2022q4/sw/tensorflow/2.9.0/lib/python3.9/site-packages/keras/engine/training.py:1756\u001b[0m, in \u001b[0;36mModel.evaluate\u001b[0;34m(self, x, y, batch_size, verbose, sample_weight, steps, callbacks, max_queue_size, workers, use_multiprocessing, return_dict, **kwargs)\u001b[0m\n\u001b[1;32m   1754\u001b[0m \u001b[38;5;28;01mwith\u001b[39;00m tf\u001b[38;5;241m.\u001b[39mprofiler\u001b[38;5;241m.\u001b[39mexperimental\u001b[38;5;241m.\u001b[39mTrace(\u001b[38;5;124m'\u001b[39m\u001b[38;5;124mtest\u001b[39m\u001b[38;5;124m'\u001b[39m, step_num\u001b[38;5;241m=\u001b[39mstep, _r\u001b[38;5;241m=\u001b[39m\u001b[38;5;241m1\u001b[39m):\n\u001b[1;32m   1755\u001b[0m   callbacks\u001b[38;5;241m.\u001b[39mon_test_batch_begin(step)\n\u001b[0;32m-> 1756\u001b[0m   tmp_logs \u001b[38;5;241m=\u001b[39m \u001b[38;5;28;43mself\u001b[39;49m\u001b[38;5;241;43m.\u001b[39;49m\u001b[43mtest_function\u001b[49m\u001b[43m(\u001b[49m\u001b[43miterator\u001b[49m\u001b[43m)\u001b[49m\n\u001b[1;32m   1757\u001b[0m   \u001b[38;5;28;01mif\u001b[39;00m data_handler\u001b[38;5;241m.\u001b[39mshould_sync:\n\u001b[1;32m   1758\u001b[0m     context\u001b[38;5;241m.\u001b[39masync_wait()\n",
      "File \u001b[0;32m/global/common/software/nersc/pm-2022q4/sw/tensorflow/2.9.0/lib/python3.9/site-packages/tensorflow/python/util/traceback_utils.py:150\u001b[0m, in \u001b[0;36mfilter_traceback.<locals>.error_handler\u001b[0;34m(*args, **kwargs)\u001b[0m\n\u001b[1;32m    148\u001b[0m filtered_tb \u001b[38;5;241m=\u001b[39m \u001b[38;5;28;01mNone\u001b[39;00m\n\u001b[1;32m    149\u001b[0m \u001b[38;5;28;01mtry\u001b[39;00m:\n\u001b[0;32m--> 150\u001b[0m   \u001b[38;5;28;01mreturn\u001b[39;00m \u001b[43mfn\u001b[49m\u001b[43m(\u001b[49m\u001b[38;5;241;43m*\u001b[39;49m\u001b[43margs\u001b[49m\u001b[43m,\u001b[49m\u001b[43m \u001b[49m\u001b[38;5;241;43m*\u001b[39;49m\u001b[38;5;241;43m*\u001b[39;49m\u001b[43mkwargs\u001b[49m\u001b[43m)\u001b[49m\n\u001b[1;32m    151\u001b[0m \u001b[38;5;28;01mexcept\u001b[39;00m \u001b[38;5;167;01mException\u001b[39;00m \u001b[38;5;28;01mas\u001b[39;00m e:\n\u001b[1;32m    152\u001b[0m   filtered_tb \u001b[38;5;241m=\u001b[39m _process_traceback_frames(e\u001b[38;5;241m.\u001b[39m__traceback__)\n",
      "File \u001b[0;32m/global/common/software/nersc/pm-2022q4/sw/tensorflow/2.9.0/lib/python3.9/site-packages/tensorflow/python/eager/def_function.py:915\u001b[0m, in \u001b[0;36mFunction.__call__\u001b[0;34m(self, *args, **kwds)\u001b[0m\n\u001b[1;32m    912\u001b[0m compiler \u001b[38;5;241m=\u001b[39m \u001b[38;5;124m\"\u001b[39m\u001b[38;5;124mxla\u001b[39m\u001b[38;5;124m\"\u001b[39m \u001b[38;5;28;01mif\u001b[39;00m \u001b[38;5;28mself\u001b[39m\u001b[38;5;241m.\u001b[39m_jit_compile \u001b[38;5;28;01melse\u001b[39;00m \u001b[38;5;124m\"\u001b[39m\u001b[38;5;124mnonXla\u001b[39m\u001b[38;5;124m\"\u001b[39m\n\u001b[1;32m    914\u001b[0m \u001b[38;5;28;01mwith\u001b[39;00m OptionalXlaContext(\u001b[38;5;28mself\u001b[39m\u001b[38;5;241m.\u001b[39m_jit_compile):\n\u001b[0;32m--> 915\u001b[0m   result \u001b[38;5;241m=\u001b[39m \u001b[38;5;28;43mself\u001b[39;49m\u001b[38;5;241;43m.\u001b[39;49m\u001b[43m_call\u001b[49m\u001b[43m(\u001b[49m\u001b[38;5;241;43m*\u001b[39;49m\u001b[43margs\u001b[49m\u001b[43m,\u001b[49m\u001b[43m \u001b[49m\u001b[38;5;241;43m*\u001b[39;49m\u001b[38;5;241;43m*\u001b[39;49m\u001b[43mkwds\u001b[49m\u001b[43m)\u001b[49m\n\u001b[1;32m    917\u001b[0m new_tracing_count \u001b[38;5;241m=\u001b[39m \u001b[38;5;28mself\u001b[39m\u001b[38;5;241m.\u001b[39mexperimental_get_tracing_count()\n\u001b[1;32m    918\u001b[0m without_tracing \u001b[38;5;241m=\u001b[39m (tracing_count \u001b[38;5;241m==\u001b[39m new_tracing_count)\n",
      "File \u001b[0;32m/global/common/software/nersc/pm-2022q4/sw/tensorflow/2.9.0/lib/python3.9/site-packages/tensorflow/python/eager/def_function.py:954\u001b[0m, in \u001b[0;36mFunction._call\u001b[0;34m(self, *args, **kwds)\u001b[0m\n\u001b[1;32m    951\u001b[0m \u001b[38;5;28mself\u001b[39m\u001b[38;5;241m.\u001b[39m_lock\u001b[38;5;241m.\u001b[39mrelease()\n\u001b[1;32m    952\u001b[0m \u001b[38;5;66;03m# In this case we have not created variables on the first call. So we can\u001b[39;00m\n\u001b[1;32m    953\u001b[0m \u001b[38;5;66;03m# run the first trace but we should fail if variables are created.\u001b[39;00m\n\u001b[0;32m--> 954\u001b[0m results \u001b[38;5;241m=\u001b[39m \u001b[38;5;28;43mself\u001b[39;49m\u001b[38;5;241;43m.\u001b[39;49m\u001b[43m_stateful_fn\u001b[49m\u001b[43m(\u001b[49m\u001b[38;5;241;43m*\u001b[39;49m\u001b[43margs\u001b[49m\u001b[43m,\u001b[49m\u001b[43m \u001b[49m\u001b[38;5;241;43m*\u001b[39;49m\u001b[38;5;241;43m*\u001b[39;49m\u001b[43mkwds\u001b[49m\u001b[43m)\u001b[49m\n\u001b[1;32m    955\u001b[0m \u001b[38;5;28;01mif\u001b[39;00m \u001b[38;5;28mself\u001b[39m\u001b[38;5;241m.\u001b[39m_created_variables \u001b[38;5;129;01mand\u001b[39;00m \u001b[38;5;129;01mnot\u001b[39;00m ALLOW_DYNAMIC_VARIABLE_CREATION:\n\u001b[1;32m    956\u001b[0m   \u001b[38;5;28;01mraise\u001b[39;00m \u001b[38;5;167;01mValueError\u001b[39;00m(\u001b[38;5;124m\"\u001b[39m\u001b[38;5;124mCreating variables on a non-first call to a function\u001b[39m\u001b[38;5;124m\"\u001b[39m\n\u001b[1;32m    957\u001b[0m                    \u001b[38;5;124m\"\u001b[39m\u001b[38;5;124m decorated with tf.function.\u001b[39m\u001b[38;5;124m\"\u001b[39m)\n",
      "File \u001b[0;32m/global/common/software/nersc/pm-2022q4/sw/tensorflow/2.9.0/lib/python3.9/site-packages/tensorflow/python/eager/function.py:2453\u001b[0m, in \u001b[0;36mFunction.__call__\u001b[0;34m(self, *args, **kwargs)\u001b[0m\n\u001b[1;32m   2450\u001b[0m \u001b[38;5;28;01mwith\u001b[39;00m \u001b[38;5;28mself\u001b[39m\u001b[38;5;241m.\u001b[39m_lock:\n\u001b[1;32m   2451\u001b[0m   (graph_function,\n\u001b[1;32m   2452\u001b[0m    filtered_flat_args) \u001b[38;5;241m=\u001b[39m \u001b[38;5;28mself\u001b[39m\u001b[38;5;241m.\u001b[39m_maybe_define_function(args, kwargs)\n\u001b[0;32m-> 2453\u001b[0m \u001b[38;5;28;01mreturn\u001b[39;00m \u001b[43mgraph_function\u001b[49m\u001b[38;5;241;43m.\u001b[39;49m\u001b[43m_call_flat\u001b[49m\u001b[43m(\u001b[49m\n\u001b[1;32m   2454\u001b[0m \u001b[43m    \u001b[49m\u001b[43mfiltered_flat_args\u001b[49m\u001b[43m,\u001b[49m\u001b[43m \u001b[49m\u001b[43mcaptured_inputs\u001b[49m\u001b[38;5;241;43m=\u001b[39;49m\u001b[43mgraph_function\u001b[49m\u001b[38;5;241;43m.\u001b[39;49m\u001b[43mcaptured_inputs\u001b[49m\u001b[43m)\u001b[49m\n",
      "File \u001b[0;32m/global/common/software/nersc/pm-2022q4/sw/tensorflow/2.9.0/lib/python3.9/site-packages/tensorflow/python/eager/function.py:1860\u001b[0m, in \u001b[0;36mConcreteFunction._call_flat\u001b[0;34m(self, args, captured_inputs, cancellation_manager)\u001b[0m\n\u001b[1;32m   1856\u001b[0m possible_gradient_type \u001b[38;5;241m=\u001b[39m gradients_util\u001b[38;5;241m.\u001b[39mPossibleTapeGradientTypes(args)\n\u001b[1;32m   1857\u001b[0m \u001b[38;5;28;01mif\u001b[39;00m (possible_gradient_type \u001b[38;5;241m==\u001b[39m gradients_util\u001b[38;5;241m.\u001b[39mPOSSIBLE_GRADIENT_TYPES_NONE\n\u001b[1;32m   1858\u001b[0m     \u001b[38;5;129;01mand\u001b[39;00m executing_eagerly):\n\u001b[1;32m   1859\u001b[0m   \u001b[38;5;66;03m# No tape is watching; skip to running the function.\u001b[39;00m\n\u001b[0;32m-> 1860\u001b[0m   \u001b[38;5;28;01mreturn\u001b[39;00m \u001b[38;5;28mself\u001b[39m\u001b[38;5;241m.\u001b[39m_build_call_outputs(\u001b[38;5;28;43mself\u001b[39;49m\u001b[38;5;241;43m.\u001b[39;49m\u001b[43m_inference_function\u001b[49m\u001b[38;5;241;43m.\u001b[39;49m\u001b[43mcall\u001b[49m\u001b[43m(\u001b[49m\n\u001b[1;32m   1861\u001b[0m \u001b[43m      \u001b[49m\u001b[43mctx\u001b[49m\u001b[43m,\u001b[49m\u001b[43m \u001b[49m\u001b[43margs\u001b[49m\u001b[43m,\u001b[49m\u001b[43m \u001b[49m\u001b[43mcancellation_manager\u001b[49m\u001b[38;5;241;43m=\u001b[39;49m\u001b[43mcancellation_manager\u001b[49m\u001b[43m)\u001b[49m)\n\u001b[1;32m   1862\u001b[0m forward_backward \u001b[38;5;241m=\u001b[39m \u001b[38;5;28mself\u001b[39m\u001b[38;5;241m.\u001b[39m_select_forward_and_backward_functions(\n\u001b[1;32m   1863\u001b[0m     args,\n\u001b[1;32m   1864\u001b[0m     possible_gradient_type,\n\u001b[1;32m   1865\u001b[0m     executing_eagerly)\n\u001b[1;32m   1866\u001b[0m forward_function, args_with_tangents \u001b[38;5;241m=\u001b[39m forward_backward\u001b[38;5;241m.\u001b[39mforward()\n",
      "File \u001b[0;32m/global/common/software/nersc/pm-2022q4/sw/tensorflow/2.9.0/lib/python3.9/site-packages/tensorflow/python/eager/function.py:497\u001b[0m, in \u001b[0;36m_EagerDefinedFunction.call\u001b[0;34m(self, ctx, args, cancellation_manager)\u001b[0m\n\u001b[1;32m    495\u001b[0m \u001b[38;5;28;01mwith\u001b[39;00m _InterpolateFunctionError(\u001b[38;5;28mself\u001b[39m):\n\u001b[1;32m    496\u001b[0m   \u001b[38;5;28;01mif\u001b[39;00m cancellation_manager \u001b[38;5;129;01mis\u001b[39;00m \u001b[38;5;28;01mNone\u001b[39;00m:\n\u001b[0;32m--> 497\u001b[0m     outputs \u001b[38;5;241m=\u001b[39m \u001b[43mexecute\u001b[49m\u001b[38;5;241;43m.\u001b[39;49m\u001b[43mexecute\u001b[49m\u001b[43m(\u001b[49m\n\u001b[1;32m    498\u001b[0m \u001b[43m        \u001b[49m\u001b[38;5;28;43mstr\u001b[39;49m\u001b[43m(\u001b[49m\u001b[38;5;28;43mself\u001b[39;49m\u001b[38;5;241;43m.\u001b[39;49m\u001b[43msignature\u001b[49m\u001b[38;5;241;43m.\u001b[39;49m\u001b[43mname\u001b[49m\u001b[43m)\u001b[49m\u001b[43m,\u001b[49m\n\u001b[1;32m    499\u001b[0m \u001b[43m        \u001b[49m\u001b[43mnum_outputs\u001b[49m\u001b[38;5;241;43m=\u001b[39;49m\u001b[38;5;28;43mself\u001b[39;49m\u001b[38;5;241;43m.\u001b[39;49m\u001b[43m_num_outputs\u001b[49m\u001b[43m,\u001b[49m\n\u001b[1;32m    500\u001b[0m \u001b[43m        \u001b[49m\u001b[43minputs\u001b[49m\u001b[38;5;241;43m=\u001b[39;49m\u001b[43margs\u001b[49m\u001b[43m,\u001b[49m\n\u001b[1;32m    501\u001b[0m \u001b[43m        \u001b[49m\u001b[43mattrs\u001b[49m\u001b[38;5;241;43m=\u001b[39;49m\u001b[43mattrs\u001b[49m\u001b[43m,\u001b[49m\n\u001b[1;32m    502\u001b[0m \u001b[43m        \u001b[49m\u001b[43mctx\u001b[49m\u001b[38;5;241;43m=\u001b[39;49m\u001b[43mctx\u001b[49m\u001b[43m)\u001b[49m\n\u001b[1;32m    503\u001b[0m   \u001b[38;5;28;01melse\u001b[39;00m:\n\u001b[1;32m    504\u001b[0m     outputs \u001b[38;5;241m=\u001b[39m execute\u001b[38;5;241m.\u001b[39mexecute_with_cancellation(\n\u001b[1;32m    505\u001b[0m         \u001b[38;5;28mstr\u001b[39m(\u001b[38;5;28mself\u001b[39m\u001b[38;5;241m.\u001b[39msignature\u001b[38;5;241m.\u001b[39mname),\n\u001b[1;32m    506\u001b[0m         num_outputs\u001b[38;5;241m=\u001b[39m\u001b[38;5;28mself\u001b[39m\u001b[38;5;241m.\u001b[39m_num_outputs,\n\u001b[0;32m   (...)\u001b[0m\n\u001b[1;32m    509\u001b[0m         ctx\u001b[38;5;241m=\u001b[39mctx,\n\u001b[1;32m    510\u001b[0m         cancellation_manager\u001b[38;5;241m=\u001b[39mcancellation_manager)\n",
      "File \u001b[0;32m/global/common/software/nersc/pm-2022q4/sw/tensorflow/2.9.0/lib/python3.9/site-packages/tensorflow/python/eager/execute.py:54\u001b[0m, in \u001b[0;36mquick_execute\u001b[0;34m(op_name, num_outputs, inputs, attrs, ctx, name)\u001b[0m\n\u001b[1;32m     52\u001b[0m \u001b[38;5;28;01mtry\u001b[39;00m:\n\u001b[1;32m     53\u001b[0m   ctx\u001b[38;5;241m.\u001b[39mensure_initialized()\n\u001b[0;32m---> 54\u001b[0m   tensors \u001b[38;5;241m=\u001b[39m \u001b[43mpywrap_tfe\u001b[49m\u001b[38;5;241;43m.\u001b[39;49m\u001b[43mTFE_Py_Execute\u001b[49m\u001b[43m(\u001b[49m\u001b[43mctx\u001b[49m\u001b[38;5;241;43m.\u001b[39;49m\u001b[43m_handle\u001b[49m\u001b[43m,\u001b[49m\u001b[43m \u001b[49m\u001b[43mdevice_name\u001b[49m\u001b[43m,\u001b[49m\u001b[43m \u001b[49m\u001b[43mop_name\u001b[49m\u001b[43m,\u001b[49m\n\u001b[1;32m     55\u001b[0m \u001b[43m                                      \u001b[49m\u001b[43minputs\u001b[49m\u001b[43m,\u001b[49m\u001b[43m \u001b[49m\u001b[43mattrs\u001b[49m\u001b[43m,\u001b[49m\u001b[43m \u001b[49m\u001b[43mnum_outputs\u001b[49m\u001b[43m)\u001b[49m\n\u001b[1;32m     56\u001b[0m \u001b[38;5;28;01mexcept\u001b[39;00m core\u001b[38;5;241m.\u001b[39m_NotOkStatusException \u001b[38;5;28;01mas\u001b[39;00m e:\n\u001b[1;32m     57\u001b[0m   \u001b[38;5;28;01mif\u001b[39;00m name \u001b[38;5;129;01mis\u001b[39;00m \u001b[38;5;129;01mnot\u001b[39;00m \u001b[38;5;28;01mNone\u001b[39;00m:\n",
      "\u001b[0;31mKeyboardInterrupt\u001b[0m: "
     ]
    }
   ],
   "source": [
    "from models import createSimpleModel\n",
    "\n",
    "decay = \"qqq\"\n",
    "qq = \"qq\"\n",
    "\n",
    "sigmoid = lambda x: 1. / (1. + np.exp(-x))\n",
    "\n",
    "msic1_runs = []\n",
    "msic2_runs = []\n",
    "msic3_runs = []\n",
    "weight_list3_runs = []\n",
    "weight_list4_runs = []\n",
    "initial_weights_list_runs = []\n",
    "\n",
    "num_runs = 1\n",
    "\n",
    "for _ in range(num_runs):\n",
    "\n",
    "    sig_list = []\n",
    "    \n",
    "    msic1 = []\n",
    "    msic2 = []\n",
    "    msic3 = []\n",
    "    weight_list1 = []\n",
    "    weight_list2 = []\n",
    "    weight_list3 = []\n",
    "    weight_list4 = []\n",
    "\n",
    "    sigspace = np.logspace(-3, -1, 20)\n",
    "\n",
    "    w1 = round(random.uniform(0.5, 6.0),3)\n",
    "    w2 = round(random.uniform(0.5, 6.0),3)\n",
    "    initial_weights_list_runs.append((w1, w2))\n",
    "\n",
    "    #print(w1, w2)\n",
    "    for sigfrac in sigspace:\n",
    "\n",
    "        #freeze both two pronged and three pronged prior models\n",
    "        for l in model_qq.layers:\n",
    "            l.trainable=False\n",
    "\n",
    "        for l in model_qqq.layers:\n",
    "            l.trainable=False\n",
    "\n",
    "        #sigfrac = 0.1\n",
    "        print(sigfrac, w1, w2)\n",
    "\n",
    "        #w1, w2 = 3.241, 3.649 \n",
    "\n",
    "        inputs_hold = tf.keras.Input(shape=(1,))\n",
    "        simple_model = Dense(1,use_bias = False,activation='relu',kernel_initializer=tf.keras.initializers.Constant(w1))(inputs_hold)\n",
    "        model3 = Model(inputs = inputs_hold, outputs = simple_model)\n",
    "\n",
    "        inputs_hold2 = tf.keras.Input(shape=(1,))\n",
    "        simple_model2 = Dense(1,use_bias = False,activation='relu',kernel_initializer=tf.keras.initializers.Constant(w2))(inputs_hold2)\n",
    "        model32 = Model(inputs = inputs_hold2, outputs = simple_model2)\n",
    "\n",
    "        inputs_hold3 = tf.keras.Input(shape=(1,))\n",
    "        simple_model3 = tf.exp(Dense(1,use_bias = False,activation='linear',kernel_initializer=tf.keras.initializers.Constant(-1))(inputs_hold3))\n",
    "        model33 = Model(inputs = inputs_hold3, outputs = simple_model3)\n",
    "\n",
    "        inputs_hold4 = tf.keras.Input(shape=(1,))\n",
    "        simple_model4 = Dense(1,use_bias = False,activation='sigmoid',kernel_initializer=tf.keras.initializers.Constant(1.))(inputs_hold4)\n",
    "        model34 = Model(inputs = inputs_hold4, outputs = simple_model4)\n",
    "\n",
    "        inputs = tf.keras.Input(shape=(6,))\n",
    "        inputs2 = tf.keras.layers.concatenate([inputs,model3(tf.ones_like(inputs)[:,0]),model32(tf.ones_like(inputs)[:,0])])\n",
    "        hidden_layer_1 = model_qq(inputs2)\n",
    "        hidden_layer_13 = model_qqq(inputs2)\n",
    "        LLR2 = hidden_layer_1 / (1.-hidden_layer_1+0.0001)\n",
    "        LLR3 = hidden_layer_13 / (1.-hidden_layer_13+0.0001)\n",
    "        #LLR_xs = 1.+ sigfrac*LLR3 - sigfrac\n",
    "        LLR_xs_fixed = 1 + model33(tf.ones_like(inputs)[:,0])*model34(tf.ones_like(inputs)[:,0]) * LLR3 + (1-model34(tf.ones_like(inputs)[:,0]))*LLR2*model33(tf.ones_like(inputs)[:,0])\n",
    "        ws = LLR_xs_fixed / (1.+LLR_xs_fixed+0.0001)\n",
    "        model_all2 = Model(inputs = inputs, outputs = ws)\n",
    "        model_all2.compile(loss='binary_crossentropy', optimizer=tf.keras.optimizers.Adam(learning_rate = 0.01))\n",
    "\n",
    "        m1 = 1\n",
    "        m2 = 5.5\n",
    "\n",
    "        test_background = int(1/2 * len(x[0,0, decay]))\n",
    "        train_reference = int(1/4 *len(x[0,0, decay]))\n",
    "        train_data = int(1/4 * len(x[0,0, decay]))\n",
    "        test_signal = int(1/2*len(x[m1,m2, decay]))\n",
    "        sig_frac = sigfrac\n",
    "\n",
    "        #randomize signal events\n",
    "        # random_test_signal_length = random.randint(0, test_signal - 1)\n",
    "        N = int(1/4 * (len(x[0,0, decay])))\n",
    "        # signal = x[m1, m2, decay][random_test_signal_length:random_test_signal_length + int(sigfrac*N)]\n",
    "\n",
    "        #mix both samples\n",
    "        signal_mixed = np.concatenate([x[m1, m2, decay][int(test_signal/2):int(test_signal/2) + int(sigfrac*(N/2))], x[m1, m2, qq][int(test_signal/2):int(test_signal/2) + int(sigfrac*(N/2))]])\n",
    "        background_mixed = np.concatenate([x[0,0,decay][:int(test_background/2)], x[0,0,qq][:int(test_background/2)]])\n",
    "        \n",
    "        # x_data_ = np.concatenate([x[0,0,decay][test_background:],signal])\n",
    "        # y_data_ = np.concatenate([np.zeros(train_reference),np.ones(train_data),np.ones(len(signal))])\n",
    "        \n",
    "        x_data_mixed = np.concatenate([background_mixed,signal_mixed])\n",
    "        y_data_mixed = np.concatenate([np.zeros(train_reference),np.ones(train_data),np.ones(len(signal_mixed))])\n",
    "        \n",
    "        #noise?\n",
    "        # samples = np.shape(x_data_mixed)[0]\n",
    "        # random_samples = np.random.normal(0, 1, samples)\n",
    "\n",
    "        X_train_, X_val_, Y_train_, Y_val_ = train_test_split(x_data_mixed, y_data_mixed, test_size=0.5, random_state = 42)\n",
    "\n",
    "        myhistory_hack_ = model_all2.fit(X_train_[:,0:6], Y_train_, epochs=20,validation_data=(X_val_[:,0:6], Y_val_),batch_size=1024, verbose = 0)\n",
    "        print(m1,m2,model_all2.trainable_weights[0].numpy()[0][0],model_all2.trainable_weights[1].numpy()[0][0])\n",
    "\n",
    "        sig_list+=[sigfrac]\n",
    "        weight_list1+=[model_all2.trainable_weights[0].numpy()[0][0]]\n",
    "        weight_list2+=[model_all2.trainable_weights[1].numpy()[0][0]]\n",
    "        weight_list3+=[np.exp(model_all2.trainable_weights[2].numpy()[0][0])]\n",
    "        weight_list4+=[sigmoid(model_all2.trainable_weights[3].numpy()[0][0])]\n",
    "\n",
    "        #scores = model_all2.predict(np.concatenate([x[0,0, decay][0:test_background],x[m1,m2, decay][0:test_signal]]),batch_size=1024, verbose = 0)\n",
    "        #scores_mixed = model_all2.predict(x[0,0,decay][0:int(test_background/2)], signal_mixed,batch_size=1024, verbose = 0)\n",
    "        #y = np.concatenate([np.zeros(test_background),np.ones(test_signal)])\n",
    "        #fpr, tpr, _ = metrics.roc_curve(y, scores)\n",
    "        \n",
    "        #weakly supervised\n",
    "        # model_cwola = Sequential()\n",
    "        # model_cwola.add(Dense(128, input_dim=6, activation='relu'))\n",
    "        # model_cwola.add(Dense(128, activation='relu'))\n",
    "        # model_cwola.add(Dense(128, activation='relu'))\n",
    "        # model_cwola.add(Dense(1, activation='sigmoid'))\n",
    "        # model_cwola.compile(loss='binary_crossentropy', optimizer='adam', metrics=['accuracy'])\n",
    "        # myhistory_cwola = model_cwola.fit(X_train_[:,0:6], Y_train_, epochs=10,validation_data=(X_val_[:,0:6], Y_val_),batch_size=1024, verbose = 0)\n",
    "\n",
    "        #scores2 = model_cwola.predict(np.concatenate([x[0,0, decay][0:test_background],x[m1,m2, decay][0:test_signal]]),batch_size=1024)\n",
    "        #scores2_mixed = model_cwola.predict([background_mixed,signal_mixed],batch_size=1024)\n",
    "        #y2 = np.concatenate([np.zeros(test_background),np.ones(test_signal)])\n",
    "        #fpr2, tpr2, _ = metrics.roc_curve(y2, scores2)\n",
    "        \n",
    "#         #fully supervised\n",
    "        scores_full = model_dedicated.predict(np.concatenate([x[0,0, qq, noise][0:test_background],x[m1,m2, qq, noise][0:test_signal]]),batch_size=1024)\n",
    "        y_full = np.concatenate([np.zeros(test_background),np.ones(test_signal)])\n",
    "        fpr_full, tpr_full, _ = metrics.roc_curve(y_full, scores_full)\n",
    "        \n",
    "#         msic1.append([np.max(tpr/np.sqrt(fpr+0.0001))])\n",
    "#         msic2.append([np.max(tpr2/np.sqrt(fpr2+0.0001))])\n",
    "#         msic3.append([np.max(tpr_full/np.sqrt(fpr_full+0.0001))])\n",
    "        \n",
    "    msic1_runs.append(msic1)\n",
    "    msic2_runs.append(msic2)\n",
    "    #msic3_runs.append(msic3)\n",
    "    weight_list3_runs.append(weight_list3)\n",
    "    weight_list4_runs.append(weight_list4)"
   ]
  },
  {
   "cell_type": "code",
   "execution_count": 137,
   "id": "878050a8-5ce1-4ee0-83bc-f90e97ee24f7",
   "metadata": {
    "tags": []
   },
   "outputs": [
    {
     "data": {
      "text/plain": [
       "[(3.067, 3.45), (1.705, 4.476), (3.225, 5.053), (5.711, 3.199), (3.922, 2.867)]"
      ]
     },
     "execution_count": 137,
     "metadata": {},
     "output_type": "execute_result"
    }
   ],
   "source": [
    "initial_weights_list_runs"
   ]
  },
  {
   "cell_type": "code",
   "execution_count": 84,
   "id": "f7317ce3-b48c-419d-8157-3693337dfc69",
   "metadata": {
    "tags": []
   },
   "outputs": [
    {
     "data": {
      "text/plain": [
       "(30338, 6)"
      ]
     },
     "execution_count": 84,
     "metadata": {},
     "output_type": "execute_result"
    }
   ],
   "source": [
    "np.shape(x[0,0,qq][:int(test_background/2)])"
   ]
  },
  {
   "cell_type": "code",
   "execution_count": 30,
   "id": "470d2930-bf9b-4ed5-b58d-0d51bb50d2e9",
   "metadata": {
    "tags": []
   },
   "outputs": [
    {
     "data": {
      "text/plain": [
       "array([[-1.11881922, -1.66852576,  1.57244427,  1.20983769, -0.13939007,\n",
       "         0.85941707],\n",
       "       [-1.12420602, -1.26681214,  0.82536103,  0.1229807 ,  0.30860917,\n",
       "         0.13311748],\n",
       "       [-1.14769921, -0.50415523,  1.43958292,  0.62034086,  0.19901901,\n",
       "        -1.04425623],\n",
       "       ...,\n",
       "       [-0.96736856, -1.48238533,  1.25622683, -0.47599974, -0.32423304,\n",
       "         0.86060971],\n",
       "       [-1.3598598 , -1.72354998,  1.79953958,  1.20194427,  0.44119858,\n",
       "         0.28992835],\n",
       "       [-1.42887276, -1.6890858 ,  0.89151195,  0.58091326,  1.22563292,\n",
       "         0.4144562 ]])"
      ]
     },
     "execution_count": 30,
     "metadata": {},
     "output_type": "execute_result"
    }
   ],
   "source": [
    "x[0,0,qqq][int(test_background/2):]"
   ]
  },
  {
   "cell_type": "code",
   "execution_count": 110,
   "id": "e933c983-9cc6-4265-b777-2d455a3896e6",
   "metadata": {
    "tags": []
   },
   "outputs": [
    {
     "data": {
      "text/plain": [
       "array([[ True,  True,  True,  True,  True,  True],\n",
       "       [ True,  True,  True,  True,  True,  True],\n",
       "       [ True,  True,  True,  True,  True,  True],\n",
       "       ...,\n",
       "       [ True,  True,  True,  True,  True,  True],\n",
       "       [ True,  True,  True,  True,  True,  True],\n",
       "       [ True,  True,  True,  True,  True,  True]])"
      ]
     },
     "execution_count": 110,
     "metadata": {},
     "output_type": "execute_result"
    }
   ],
   "source": [
    "x[0,0,qq][int(test_background/2):] == x[0,0,qqq][int(test_background/2):]"
   ]
  },
  {
   "cell_type": "code",
   "execution_count": 35,
   "id": "82eda49e-0d9b-47cb-bd9e-75b5cf79f6c1",
   "metadata": {
    "tags": []
   },
   "outputs": [
    {
     "data": {
      "text/plain": [
       "True"
      ]
     },
     "execution_count": 35,
     "metadata": {},
     "output_type": "execute_result"
    }
   ],
   "source": [
    "np.array_equal(x[0,0,qq][int(test_background/2):], x[0,0,qqq][int(test_background/2):])"
   ]
  },
  {
   "cell_type": "code",
   "execution_count": 26,
   "id": "b2aa8766-086b-45c6-b795-f9aed2db9ba7",
   "metadata": {
    "tags": []
   },
   "outputs": [
    {
     "data": {
      "text/plain": [
       "True"
      ]
     },
     "execution_count": 26,
     "metadata": {},
     "output_type": "execute_result"
    }
   ],
   "source": [
    "int(test_background/2) + int(test_background/2) == test_background"
   ]
  },
  {
   "cell_type": "code",
   "execution_count": 196,
   "id": "bcc050ee-0b94-4484-b64c-e7da93548938",
   "metadata": {
    "tags": []
   },
   "outputs": [],
   "source": [
    "np.save(\"3ProngWeight_List3_Runs33_randomized\", weight_list3_runs)\n",
    "np.save(\"3ProngWeight_List4_Runs33_randomized\", weight_list4_runs)"
   ]
  },
  {
   "cell_type": "code",
   "execution_count": 202,
   "id": "fde99a3c-1839-4bdd-8a5a-1f0c83b9ffb4",
   "metadata": {
    "tags": []
   },
   "outputs": [
    {
     "data": {
      "text/plain": [
       "Text(0, 0.5, 'Avg Max SIC')"
      ]
     },
     "execution_count": 202,
     "metadata": {},
     "output_type": "execute_result"
    },
    {
     "data": {
      "image/png": "[encoded data removed]",
      "text/plain": [
       "<Figure size 640x480 with 1 Axes>"
      ]
     },
     "metadata": {},
     "output_type": "display_data"
    }
   ],
   "source": [
    "avgmsic1 = np.median(msic1_runs, axis = 0)\n",
    "avgmsic2 = np.median(msic2_runs, axis = 0)\n",
    "avgmsic3 = np.median(msic3_runs, axis = 0)\n",
    "\n",
    "plt.plot(sig_list,avgmsic1,label=\"Weakly, Semisupervised\")\n",
    "plt.plot(sig_list,avgmsic2,label=\"Weakly Supervised\")\n",
    "plt.plot(sig_list,avgmsic3,label=\"Fully Supervised\")\n",
    "plt.title(f\"CWOLA vs Semi Weakly 3 Pronged ({num_runs} Runs)\")\n",
    "plt.legend()\n",
    "plt.xscale(\"log\")\n",
    "plt.xlabel(\"Signal region S/B\")\n",
    "plt.ylabel(\"Avg Max SIC\")"
   ]
  },
  {
   "cell_type": "code",
   "execution_count": 107,
   "id": "9f3cba07-9ab6-41c5-a89c-b81976e2dbb0",
   "metadata": {
    "tags": []
   },
   "outputs": [
    {
     "data": {
      "text/plain": [
       "[(3.564, 1.382)]"
      ]
     },
     "execution_count": 107,
     "metadata": {},
     "output_type": "execute_result"
    }
   ],
   "source": [
    "initial_weights_list_runs"
   ]
  },
  {
   "cell_type": "code",
   "execution_count": 159,
   "id": "7cb9f7ab-142c-4f52-a8da-c2ba46efa8a6",
   "metadata": {
    "tags": []
   },
   "outputs": [],
   "source": [
    "avgww = np.median(weight_list3_runs, axis = 0)\n",
    "avgww2 = np.median(weight_list4_runs, axis = 0)\n",
    "\n",
    "plt.plot(sig_list,weight_list3,label=r\"$\\mu$\")\n",
    "plt.plot(sig_list,weight_list4,label=r\"$\\alpha$\")\n",
    "plt.plot(sig_list,sig_list,ls=\":\",color=\"black\")\n",
    "\n",
    "plt.title(f\"CWOLA vs Semi Weakly ({num_runs} Runs)\")\n",
    "plt.legend()\n",
    "plt.yscale(\"log\")\n",
    "plt.xscale(\"log\")\n",
    "plt.xlabel(\"Signal region S/B\")\n",
    "plt.ylabel(\"Avg Max SIC\")"
   ]
  },
  {
   "cell_type": "code",
   "execution_count": 142,
   "id": "077f5998-eb64-4af8-9097-d94687dced0d",
   "metadata": {
    "tags": []
   },
   "outputs": [
    {
     "data": {
      "image/png": "[encoded data removed]",
      "text/plain": [
       "<Figure size 640x480 with 1 Axes>"
      ]
     },
     "metadata": {},
     "output_type": "display_data"
    }
   ],
   "source": [
    "plt.plot(sig_list,weight_list3,label=r\"$\\mu$\")\n",
    "plt.plot(sig_list,weight_list4,label=r\"$\\alpha$\")\n",
    "plt.plot(sig_list,sig_list,ls=\":\",color=\"black\")\n",
    "plt.plot(sig_list, [weight_list4[19]]*20, ls = \":\", color = \"black\")\n",
    "plt.title(\"50% Data Portioning\")\n",
    "plt.xscale(\"log\")\n",
    "plt.yscale(\"log\")\n",
    "plt.legend()\n",
    "plt.show()"
   ]
  },
  {
   "cell_type": "code",
   "execution_count": 161,
   "id": "a8b57070-c053-4411-a488-7286d28c3c11",
   "metadata": {
    "tags": []
   },
   "outputs": [
    {
     "data": {
      "text/plain": [
       "[0.7949729094565375,\n",
       " 0.7967428042435447,\n",
       " 0.7633858522721106,\n",
       " 0.7183202970246372,\n",
       " 0.7286010241365904,\n",
       " 0.8059874435095145,\n",
       " 0.7859716109884602,\n",
       " 0.7620331165145308,\n",
       " 0.7544795437582383,\n",
       " 0.7142845860567203,\n",
       " 0.7264332030386054,\n",
       " 0.7649021788557809,\n",
       " 0.7848433666572873,\n",
       " 0.7418548081439902,\n",
       " 0.7345575889763402,\n",
       " 0.7782074477116568,\n",
       " 0.8123507782533296,\n",
       " 0.8373520277157607,\n",
       " 0.8798965231515105,\n",
       " 0.8941288071840675]"
      ]
     },
     "execution_count": 161,
     "metadata": {},
     "output_type": "execute_result"
    }
   ],
   "source": [
    "weight_list4"
   ]
  },
  {
   "cell_type": "code",
   "execution_count": 205,
   "id": "bd93a607-d39e-4f43-a1aa-13c503fd25ad",
   "metadata": {
    "tags": []
   },
   "outputs": [
    {
     "data": {
      "text/plain": [
       "(0.0, 700.0)"
      ]
     },
     "execution_count": 205,
     "metadata": {},
     "output_type": "execute_result"
    },
    {
     "data": {
      "image/png": "[encoded data removed]",
      "text/plain": [
       "<Figure size 640x480 with 1 Axes>"
      ]
     },
     "metadata": {},
     "output_type": "display_data"
    }
   ],
   "source": [
    "plt.plot(sig_list,np.array(weight_list1)*100, label = f\"w1 {w1}\")\n",
    "plt.plot(sig_list,np.array(weight_list2)*100, label = f\"w2 {w2}\")\n",
    "plt.xscale(\"log\")\n",
    "plt.xlabel(\"S/B\")\n",
    "plt.ylabel(\"Fitted masses [GeV]\")\n",
    "plt.title(\"Trainable Weights vs Signal Fractions BCE\")\n",
    "plt.axhline(m2 * 100,ls=\":\",color='orange', label = m2)\n",
    "plt.axhline(m1 * 100,ls=\":\",color='blue', label = m1)\n",
    "plt.legend()\n",
    "plt.ylim([0,700])"
   ]
  },
  {
   "cell_type": "code",
   "execution_count": 199,
   "id": "701c8793-14a0-4d71-b2e1-22debfa20f2b",
   "metadata": {
    "tags": []
   },
   "outputs": [],
   "source": [
    "max_sics = {}\n",
    "max_sics[(\"SWS\", 6, 4, m1, m2)] = msic1_runs\n",
    "max_sics[(\"WS\", 6, 4, m1, m2)] = msic2_runs\n",
    "max_sics[(\"FS\", 6, 4, m1, m2)] = msic3_runs\n",
    "\n",
    "import pickle\n",
    "with open('max_sics_3prong33randomized.pkl', 'wb') as f:\n",
    "    pickle.dump(max_sics, f)"
   ]
  },
  {
   "cell_type": "code",
   "execution_count": 21,
   "id": "c563449d-4b9b-497f-88e4-3a35c06c7ca8",
   "metadata": {
    "tags": []
   },
   "outputs": [
    {
     "name": "stdout",
     "output_type": "stream",
     "text": [
      "Epoch 1/500\n",
      "2692/2692 [==============================] - 11s 4ms/step - loss: 0.1674 - accuracy: 0.9340 - val_loss: 0.1564 - val_accuracy: 0.9386\n",
      "Epoch 2/500\n",
      "2692/2692 [==============================] - 9s 4ms/step - loss: 0.1542 - accuracy: 0.9391 - val_loss: 0.1539 - val_accuracy: 0.9393\n",
      "Epoch 3/500\n",
      "2692/2692 [==============================] - 9s 3ms/step - loss: 0.1530 - accuracy: 0.9396 - val_loss: 0.1529 - val_accuracy: 0.9396\n",
      "Epoch 4/500\n",
      "2692/2692 [==============================] - 10s 4ms/step - loss: 0.1523 - accuracy: 0.9398 - val_loss: 0.1525 - val_accuracy: 0.9399\n",
      "Epoch 5/500\n",
      "2692/2692 [==============================] - 10s 4ms/step - loss: 0.1518 - accuracy: 0.9400 - val_loss: 0.1517 - val_accuracy: 0.9400\n",
      "Epoch 6/500\n",
      "2692/2692 [==============================] - 10s 4ms/step - loss: 0.1514 - accuracy: 0.9402 - val_loss: 0.1511 - val_accuracy: 0.9404\n",
      "Epoch 7/500\n",
      "2692/2692 [==============================] - 9s 4ms/step - loss: 0.1511 - accuracy: 0.9403 - val_loss: 0.1517 - val_accuracy: 0.9400\n",
      "Epoch 8/500\n",
      "2692/2692 [==============================] - 10s 4ms/step - loss: 0.1508 - accuracy: 0.9404 - val_loss: 0.1518 - val_accuracy: 0.9402\n",
      "Epoch 9/500\n",
      "2692/2692 [==============================] - 10s 4ms/step - loss: 0.1505 - accuracy: 0.9405 - val_loss: 0.1501 - val_accuracy: 0.9407\n",
      "Epoch 10/500\n",
      "2692/2692 [==============================] - 10s 4ms/step - loss: 0.1502 - accuracy: 0.9406 - val_loss: 0.1504 - val_accuracy: 0.9406\n",
      "Epoch 11/500\n",
      "2692/2692 [==============================] - 10s 4ms/step - loss: 0.1500 - accuracy: 0.9407 - val_loss: 0.1503 - val_accuracy: 0.9406\n",
      "Epoch 12/500\n",
      "2692/2692 [==============================] - 9s 4ms/step - loss: 0.1497 - accuracy: 0.9408 - val_loss: 0.1503 - val_accuracy: 0.9406\n",
      "Epoch 13/500\n",
      "2692/2692 [==============================] - 9s 4ms/step - loss: 0.1495 - accuracy: 0.9409 - val_loss: 0.1502 - val_accuracy: 0.9407\n",
      "Epoch 14/500\n",
      "2692/2692 [==============================] - 9s 3ms/step - loss: 0.1492 - accuracy: 0.9410 - val_loss: 0.1498 - val_accuracy: 0.9409\n",
      "Epoch 15/500\n",
      "2692/2692 [==============================] - 10s 4ms/step - loss: 0.1490 - accuracy: 0.9411 - val_loss: 0.1497 - val_accuracy: 0.9409\n",
      "Epoch 16/500\n",
      "2692/2692 [==============================] - 10s 4ms/step - loss: 0.1487 - accuracy: 0.9412 - val_loss: 0.1495 - val_accuracy: 0.9409\n",
      "Epoch 17/500\n",
      "2692/2692 [==============================] - 10s 4ms/step - loss: 0.1484 - accuracy: 0.9413 - val_loss: 0.1489 - val_accuracy: 0.9412\n",
      "Epoch 18/500\n",
      "2692/2692 [==============================] - 10s 4ms/step - loss: 0.1481 - accuracy: 0.9414 - val_loss: 0.1485 - val_accuracy: 0.9414\n",
      "Epoch 19/500\n",
      "2692/2692 [==============================] - 10s 4ms/step - loss: 0.1478 - accuracy: 0.9415 - val_loss: 0.1481 - val_accuracy: 0.9415\n",
      "Epoch 20/500\n",
      "2692/2692 [==============================] - 9s 3ms/step - loss: 0.1476 - accuracy: 0.9417 - val_loss: 0.1481 - val_accuracy: 0.9415\n",
      "Epoch 21/500\n",
      "2692/2692 [==============================] - 10s 4ms/step - loss: 0.1473 - accuracy: 0.9418 - val_loss: 0.1478 - val_accuracy: 0.9416\n",
      "Epoch 22/500\n",
      "2692/2692 [==============================] - 10s 4ms/step - loss: 0.1470 - accuracy: 0.9419 - val_loss: 0.1475 - val_accuracy: 0.9418\n",
      "Epoch 23/500\n",
      "2692/2692 [==============================] - 10s 4ms/step - loss: 0.1466 - accuracy: 0.9420 - val_loss: 0.1473 - val_accuracy: 0.9418\n",
      "Epoch 24/500\n",
      "2692/2692 [==============================] - 10s 4ms/step - loss: 0.1463 - accuracy: 0.9421 - val_loss: 0.1468 - val_accuracy: 0.9420\n",
      "Epoch 25/500\n",
      "2692/2692 [==============================] - 10s 4ms/step - loss: 0.1460 - accuracy: 0.9422 - val_loss: 0.1466 - val_accuracy: 0.9421\n",
      "Epoch 26/500\n",
      "2692/2692 [==============================] - 10s 4ms/step - loss: 0.1457 - accuracy: 0.9424 - val_loss: 0.1468 - val_accuracy: 0.9420\n",
      "Epoch 27/500\n",
      "2692/2692 [==============================] - 10s 4ms/step - loss: 0.1453 - accuracy: 0.9425 - val_loss: 0.1460 - val_accuracy: 0.9423\n",
      "Epoch 28/500\n",
      "2692/2692 [==============================] - 10s 4ms/step - loss: 0.1449 - accuracy: 0.9427 - val_loss: 0.1465 - val_accuracy: 0.9421\n",
      "Epoch 29/500\n",
      "2692/2692 [==============================] - 10s 4ms/step - loss: 0.1445 - accuracy: 0.9428 - val_loss: 0.1454 - val_accuracy: 0.9426\n",
      "Epoch 30/500\n",
      " 637/2692 [======>.......................] - ETA: 5s - loss: 0.1438 - accuracy: 0.9432"
     ]
    },
    {
     "ename": "KeyboardInterrupt",
     "evalue": "",
     "output_type": "error",
     "traceback": [
      "\u001b[0;31m---------------------------------------------------------------------------\u001b[0m",
      "\u001b[0;31mKeyboardInterrupt\u001b[0m                         Traceback (most recent call last)",
      "Cell \u001b[0;32mIn[21], line 13\u001b[0m\n\u001b[1;32m     10\u001b[0m model_qqq\u001b[38;5;241m.\u001b[39madd(Dense(\u001b[38;5;241m1\u001b[39m, activation\u001b[38;5;241m=\u001b[39m\u001b[38;5;124m'\u001b[39m\u001b[38;5;124msigmoid\u001b[39m\u001b[38;5;124m'\u001b[39m))\n\u001b[1;32m     11\u001b[0m model_qqq\u001b[38;5;241m.\u001b[39mcompile(loss\u001b[38;5;241m=\u001b[39m\u001b[38;5;124m'\u001b[39m\u001b[38;5;124mbinary_crossentropy\u001b[39m\u001b[38;5;124m'\u001b[39m, optimizer\u001b[38;5;241m=\u001b[39m\u001b[38;5;124m'\u001b[39m\u001b[38;5;124madam\u001b[39m\u001b[38;5;124m'\u001b[39m, metrics\u001b[38;5;241m=\u001b[39m[\u001b[38;5;124m'\u001b[39m\u001b[38;5;124maccuracy\u001b[39m\u001b[38;5;124m'\u001b[39m])\n\u001b[0;32m---> 13\u001b[0m myhistory_qqq \u001b[38;5;241m=\u001b[39m \u001b[43mmodel_qqq\u001b[49m\u001b[38;5;241;43m.\u001b[39;49m\u001b[43mfit\u001b[49m\u001b[43m(\u001b[49m\u001b[43mX_train_qqq\u001b[49m\u001b[43m,\u001b[49m\u001b[43m \u001b[49m\u001b[43mY_train_qqq\u001b[49m\u001b[43m,\u001b[49m\u001b[43m \u001b[49m\u001b[43mepochs\u001b[49m\u001b[38;5;241;43m=\u001b[39;49m\u001b[38;5;241;43m500\u001b[39;49m\u001b[43m,\u001b[49m\u001b[43mvalidation_data\u001b[49m\u001b[38;5;241;43m=\u001b[39;49m\u001b[43m(\u001b[49m\u001b[43mX_val_qqq\u001b[49m\u001b[43m,\u001b[49m\u001b[43m \u001b[49m\u001b[43mY_val_qqq\u001b[49m\u001b[43m)\u001b[49m\u001b[43m,\u001b[49m\u001b[43mbatch_size\u001b[49m\u001b[38;5;241;43m=\u001b[39;49m\u001b[38;5;241;43m5\u001b[39;49m\u001b[38;5;241;43m*\u001b[39;49m\u001b[38;5;241;43m1024\u001b[39;49m\u001b[43m,\u001b[49m\u001b[43mcallbacks\u001b[49m\u001b[38;5;241;43m=\u001b[39;49m\u001b[43m[\u001b[49m\u001b[43mes\u001b[49m\u001b[43m]\u001b[49m\u001b[43m)\u001b[49m\n\u001b[1;32m     15\u001b[0m plt\u001b[38;5;241m.\u001b[39mplot(myhistory_qqq\u001b[38;5;241m.\u001b[39mhistory[\u001b[38;5;124m'\u001b[39m\u001b[38;5;124mval_loss\u001b[39m\u001b[38;5;124m'\u001b[39m][\u001b[38;5;241m1\u001b[39m:])\n\u001b[1;32m     16\u001b[0m plt\u001b[38;5;241m.\u001b[39mplot(myhistory_qqq\u001b[38;5;241m.\u001b[39mhistory[\u001b[38;5;124m'\u001b[39m\u001b[38;5;124mloss\u001b[39m\u001b[38;5;124m'\u001b[39m][\u001b[38;5;241m1\u001b[39m:])\n",
      "File \u001b[0;32m/global/common/software/nersc/pm-2022q4/sw/tensorflow/2.9.0/lib/python3.9/site-packages/keras/utils/traceback_utils.py:64\u001b[0m, in \u001b[0;36mfilter_traceback.<locals>.error_handler\u001b[0;34m(*args, **kwargs)\u001b[0m\n\u001b[1;32m     62\u001b[0m filtered_tb \u001b[38;5;241m=\u001b[39m \u001b[38;5;28;01mNone\u001b[39;00m\n\u001b[1;32m     63\u001b[0m \u001b[38;5;28;01mtry\u001b[39;00m:\n\u001b[0;32m---> 64\u001b[0m   \u001b[38;5;28;01mreturn\u001b[39;00m \u001b[43mfn\u001b[49m\u001b[43m(\u001b[49m\u001b[38;5;241;43m*\u001b[39;49m\u001b[43margs\u001b[49m\u001b[43m,\u001b[49m\u001b[43m \u001b[49m\u001b[38;5;241;43m*\u001b[39;49m\u001b[38;5;241;43m*\u001b[39;49m\u001b[43mkwargs\u001b[49m\u001b[43m)\u001b[49m\n\u001b[1;32m     65\u001b[0m \u001b[38;5;28;01mexcept\u001b[39;00m \u001b[38;5;167;01mException\u001b[39;00m \u001b[38;5;28;01mas\u001b[39;00m e:  \u001b[38;5;66;03m# pylint: disable=broad-except\u001b[39;00m\n\u001b[1;32m     66\u001b[0m   filtered_tb \u001b[38;5;241m=\u001b[39m _process_traceback_frames(e\u001b[38;5;241m.\u001b[39m__traceback__)\n",
      "File \u001b[0;32m/global/common/software/nersc/pm-2022q4/sw/tensorflow/2.9.0/lib/python3.9/site-packages/keras/engine/training.py:1401\u001b[0m, in \u001b[0;36mModel.fit\u001b[0;34m(self, x, y, batch_size, epochs, verbose, callbacks, validation_split, validation_data, shuffle, class_weight, sample_weight, initial_epoch, steps_per_epoch, validation_steps, validation_batch_size, validation_freq, max_queue_size, workers, use_multiprocessing)\u001b[0m\n\u001b[1;32m   1399\u001b[0m \u001b[38;5;28;01mwith\u001b[39;00m data_handler\u001b[38;5;241m.\u001b[39mcatch_stop_iteration():\n\u001b[1;32m   1400\u001b[0m   data_handler\u001b[38;5;241m.\u001b[39m_initial_step \u001b[38;5;241m=\u001b[39m \u001b[38;5;28mself\u001b[39m\u001b[38;5;241m.\u001b[39m_maybe_load_initial_step_from_ckpt()  \u001b[38;5;66;03m# pylint: disable=protected-access\u001b[39;00m\n\u001b[0;32m-> 1401\u001b[0m   \u001b[38;5;28;01mfor\u001b[39;00m step \u001b[38;5;129;01min\u001b[39;00m data_handler\u001b[38;5;241m.\u001b[39msteps():\n\u001b[1;32m   1402\u001b[0m     \u001b[38;5;28;01mwith\u001b[39;00m tf\u001b[38;5;241m.\u001b[39mprofiler\u001b[38;5;241m.\u001b[39mexperimental\u001b[38;5;241m.\u001b[39mTrace(\n\u001b[1;32m   1403\u001b[0m         \u001b[38;5;124m'\u001b[39m\u001b[38;5;124mtrain\u001b[39m\u001b[38;5;124m'\u001b[39m,\n\u001b[1;32m   1404\u001b[0m         epoch_num\u001b[38;5;241m=\u001b[39mepoch,\n\u001b[1;32m   1405\u001b[0m         step_num\u001b[38;5;241m=\u001b[39mstep,\n\u001b[1;32m   1406\u001b[0m         batch_size\u001b[38;5;241m=\u001b[39mbatch_size,\n\u001b[1;32m   1407\u001b[0m         _r\u001b[38;5;241m=\u001b[39m\u001b[38;5;241m1\u001b[39m):\n\u001b[1;32m   1408\u001b[0m       callbacks\u001b[38;5;241m.\u001b[39mon_train_batch_begin(step)\n",
      "File \u001b[0;32m/global/common/software/nersc/pm-2022q4/sw/tensorflow/2.9.0/lib/python3.9/site-packages/keras/engine/data_adapter.py:1248\u001b[0m, in \u001b[0;36mDataHandler.steps\u001b[0;34m(self)\u001b[0m\n\u001b[1;32m   1246\u001b[0m \u001b[38;5;28;01mif\u001b[39;00m \u001b[38;5;28mself\u001b[39m\u001b[38;5;241m.\u001b[39m_insufficient_data:  \u001b[38;5;66;03m# Set by `catch_stop_iteration`.\u001b[39;00m\n\u001b[1;32m   1247\u001b[0m   \u001b[38;5;28;01mbreak\u001b[39;00m\n\u001b[0;32m-> 1248\u001b[0m original_spe \u001b[38;5;241m=\u001b[39m \u001b[38;5;28;43mself\u001b[39;49m\u001b[38;5;241;43m.\u001b[39;49m\u001b[43m_steps_per_execution\u001b[49m\u001b[38;5;241;43m.\u001b[39;49m\u001b[43mnumpy\u001b[49m\u001b[43m(\u001b[49m\u001b[43m)\u001b[49m\u001b[38;5;241m.\u001b[39mitem()\n\u001b[1;32m   1249\u001b[0m can_run_full_execution \u001b[38;5;241m=\u001b[39m (\n\u001b[1;32m   1250\u001b[0m     original_spe \u001b[38;5;241m==\u001b[39m \u001b[38;5;241m1\u001b[39m \u001b[38;5;129;01mor\u001b[39;00m\n\u001b[1;32m   1251\u001b[0m     \u001b[38;5;28mself\u001b[39m\u001b[38;5;241m.\u001b[39m_inferred_steps \u001b[38;5;129;01mis\u001b[39;00m \u001b[38;5;28;01mNone\u001b[39;00m \u001b[38;5;129;01mor\u001b[39;00m\n\u001b[1;32m   1252\u001b[0m     \u001b[38;5;28mself\u001b[39m\u001b[38;5;241m.\u001b[39m_inferred_steps \u001b[38;5;241m-\u001b[39m \u001b[38;5;28mself\u001b[39m\u001b[38;5;241m.\u001b[39m_current_step \u001b[38;5;241m>\u001b[39m\u001b[38;5;241m=\u001b[39m\n\u001b[1;32m   1253\u001b[0m     original_spe)\n\u001b[1;32m   1255\u001b[0m \u001b[38;5;28;01mif\u001b[39;00m can_run_full_execution:\n",
      "File \u001b[0;32m/global/common/software/nersc/pm-2022q4/sw/tensorflow/2.9.0/lib/python3.9/site-packages/tensorflow/python/ops/resource_variable_ops.py:637\u001b[0m, in \u001b[0;36mBaseResourceVariable.numpy\u001b[0;34m(self)\u001b[0m\n\u001b[1;32m    635\u001b[0m \u001b[38;5;28;01mdef\u001b[39;00m \u001b[38;5;21mnumpy\u001b[39m(\u001b[38;5;28mself\u001b[39m):\n\u001b[1;32m    636\u001b[0m   \u001b[38;5;28;01mif\u001b[39;00m context\u001b[38;5;241m.\u001b[39mexecuting_eagerly():\n\u001b[0;32m--> 637\u001b[0m     \u001b[38;5;28;01mreturn\u001b[39;00m \u001b[38;5;28;43mself\u001b[39;49m\u001b[38;5;241;43m.\u001b[39;49m\u001b[43mread_value\u001b[49m\u001b[43m(\u001b[49m\u001b[43m)\u001b[49m\u001b[38;5;241;43m.\u001b[39;49m\u001b[43mnumpy\u001b[49m\u001b[43m(\u001b[49m\u001b[43m)\u001b[49m\n\u001b[1;32m    638\u001b[0m   \u001b[38;5;28;01mraise\u001b[39;00m \u001b[38;5;167;01mNotImplementedError\u001b[39;00m(\n\u001b[1;32m    639\u001b[0m       \u001b[38;5;124m\"\u001b[39m\u001b[38;5;124mnumpy() is only available when eager execution is enabled.\u001b[39m\u001b[38;5;124m\"\u001b[39m)\n",
      "File \u001b[0;32m/global/common/software/nersc/pm-2022q4/sw/tensorflow/2.9.0/lib/python3.9/site-packages/tensorflow/python/framework/ops.py:1159\u001b[0m, in \u001b[0;36m_EagerTensorBase.numpy\u001b[0;34m(self)\u001b[0m\n\u001b[1;32m   1136\u001b[0m \u001b[38;5;124;03m\"\"\"Copy of the contents of this Tensor into a NumPy array or scalar.\u001b[39;00m\n\u001b[1;32m   1137\u001b[0m \n\u001b[1;32m   1138\u001b[0m \u001b[38;5;124;03mUnlike NumPy arrays, Tensors are immutable, so this method has to copy\u001b[39;00m\n\u001b[0;32m   (...)\u001b[0m\n\u001b[1;32m   1156\u001b[0m \u001b[38;5;124;03m    NumPy dtype.\u001b[39;00m\n\u001b[1;32m   1157\u001b[0m \u001b[38;5;124;03m\"\"\"\u001b[39;00m\n\u001b[1;32m   1158\u001b[0m \u001b[38;5;66;03m# TODO(slebedev): Consider avoiding a copy for non-CPU or remote tensors.\u001b[39;00m\n\u001b[0;32m-> 1159\u001b[0m maybe_arr \u001b[38;5;241m=\u001b[39m \u001b[38;5;28;43mself\u001b[39;49m\u001b[38;5;241;43m.\u001b[39;49m\u001b[43m_numpy\u001b[49m\u001b[43m(\u001b[49m\u001b[43m)\u001b[49m  \u001b[38;5;66;03m# pylint: disable=protected-access\u001b[39;00m\n\u001b[1;32m   1160\u001b[0m \u001b[38;5;28;01mreturn\u001b[39;00m maybe_arr\u001b[38;5;241m.\u001b[39mcopy() \u001b[38;5;28;01mif\u001b[39;00m \u001b[38;5;28misinstance\u001b[39m(maybe_arr, np\u001b[38;5;241m.\u001b[39mndarray) \u001b[38;5;28;01melse\u001b[39;00m maybe_arr\n",
      "File \u001b[0;32m/global/common/software/nersc/pm-2022q4/sw/tensorflow/2.9.0/lib/python3.9/site-packages/tensorflow/python/framework/ops.py:1125\u001b[0m, in \u001b[0;36m_EagerTensorBase._numpy\u001b[0;34m(self)\u001b[0m\n\u001b[1;32m   1123\u001b[0m \u001b[38;5;28;01mdef\u001b[39;00m \u001b[38;5;21m_numpy\u001b[39m(\u001b[38;5;28mself\u001b[39m):\n\u001b[1;32m   1124\u001b[0m   \u001b[38;5;28;01mtry\u001b[39;00m:\n\u001b[0;32m-> 1125\u001b[0m     \u001b[38;5;28;01mreturn\u001b[39;00m \u001b[38;5;28;43mself\u001b[39;49m\u001b[38;5;241;43m.\u001b[39;49m\u001b[43m_numpy_internal\u001b[49m\u001b[43m(\u001b[49m\u001b[43m)\u001b[49m\n\u001b[1;32m   1126\u001b[0m   \u001b[38;5;28;01mexcept\u001b[39;00m core\u001b[38;5;241m.\u001b[39m_NotOkStatusException \u001b[38;5;28;01mas\u001b[39;00m e:  \u001b[38;5;66;03m# pylint: disable=protected-access\u001b[39;00m\n\u001b[1;32m   1127\u001b[0m     \u001b[38;5;28;01mraise\u001b[39;00m core\u001b[38;5;241m.\u001b[39m_status_to_exception(e) \u001b[38;5;28;01mfrom\u001b[39;00m \u001b[38;5;28mNone\u001b[39m\n",
      "\u001b[0;31mKeyboardInterrupt\u001b[0m: "
     ]
    }
   ],
   "source": [
    "if (True):\n",
    "    \n",
    "    model_qqq = Sequential()\n",
    "    model_qqq.add(Dense(256, input_dim=8, activation='swish'))\n",
    "    model_qqq.add(BatchNormalization())\n",
    "    model_qqq.add(Dense(256, activation='swish'))\n",
    "    model_qqq.add(BatchNormalization())\n",
    "    model_qqq.add(Dense(256, activation='swish'))\n",
    "    model_qqq.add(BatchNormalization())\n",
    "    model_qqq.add(Dense(1, activation='sigmoid'))\n",
    "    model_qqq.compile(loss='binary_crossentropy', optimizer='adam', metrics=['accuracy'])\n",
    "    \n",
    "    myhistory_qqq = model_qqq.fit(X_train_qqq, Y_train_qqq, epochs=500,validation_data=(X_val_qqq, Y_val_qqq),batch_size=5*1024,callbacks=[es])\n",
    "    \n",
    "    plt.plot(myhistory_qqq.history['val_loss'][1:])\n",
    "    plt.plot(myhistory_qqq.history['loss'][1:])\n",
    "    \n",
    "    model_qqq.save('model_qqq')"
   ]
  },
  {
   "cell_type": "code",
   "execution_count": 23,
   "id": "fc5189d3-e92d-4367-b8a1-98fdec46a7dc",
   "metadata": {
    "tags": []
   },
   "outputs": [
    {
     "name": "stdout",
     "output_type": "stream",
     "text": [
      "Epoch 1/5000\n",
      "2692/2692 [==============================] - 13s 4ms/step - loss: 0.2904 - accuracy: 0.8848 - val_loss: 0.2361 - val_accuracy: 0.9107\n",
      "Epoch 2/5000\n",
      "2692/2692 [==============================] - 10s 4ms/step - loss: 0.2222 - accuracy: 0.9152 - val_loss: 0.2095 - val_accuracy: 0.9189\n",
      "Epoch 3/5000\n",
      "2692/2692 [==============================] - 10s 4ms/step - loss: 0.2026 - accuracy: 0.9209 - val_loss: 0.1963 - val_accuracy: 0.9230\n",
      "Epoch 4/5000\n",
      "2692/2692 [==============================] - 10s 4ms/step - loss: 0.1926 - accuracy: 0.9242 - val_loss: 0.1890 - val_accuracy: 0.9256\n",
      "Epoch 5/5000\n",
      "2692/2692 [==============================] - 10s 4ms/step - loss: 0.1866 - accuracy: 0.9265 - val_loss: 0.1841 - val_accuracy: 0.9274\n",
      "Epoch 6/5000\n",
      "2692/2692 [==============================] - 10s 4ms/step - loss: 0.1824 - accuracy: 0.9281 - val_loss: 0.1803 - val_accuracy: 0.9291\n",
      "Epoch 7/5000\n",
      "2692/2692 [==============================] - 10s 4ms/step - loss: 0.1792 - accuracy: 0.9294 - val_loss: 0.1775 - val_accuracy: 0.9301\n",
      "Epoch 8/5000\n",
      "2692/2692 [==============================] - 9s 4ms/step - loss: 0.1765 - accuracy: 0.9305 - val_loss: 0.1751 - val_accuracy: 0.9310\n",
      "Epoch 9/5000\n",
      "2692/2692 [==============================] - 10s 4ms/step - loss: 0.1743 - accuracy: 0.9313 - val_loss: 0.1731 - val_accuracy: 0.9319\n",
      "Epoch 10/5000\n",
      "2692/2692 [==============================] - 10s 4ms/step - loss: 0.1724 - accuracy: 0.9321 - val_loss: 0.1713 - val_accuracy: 0.9326\n",
      "Epoch 11/5000\n",
      "2692/2692 [==============================] - 10s 4ms/step - loss: 0.1708 - accuracy: 0.9327 - val_loss: 0.1697 - val_accuracy: 0.9331\n",
      "Epoch 12/5000\n",
      "2692/2692 [==============================] - 9s 3ms/step - loss: 0.1693 - accuracy: 0.9333 - val_loss: 0.1683 - val_accuracy: 0.9337\n",
      "Epoch 13/5000\n",
      "2692/2692 [==============================] - 9s 3ms/step - loss: 0.1680 - accuracy: 0.9338 - val_loss: 0.1672 - val_accuracy: 0.9342\n",
      "Epoch 14/5000\n",
      "2692/2692 [==============================] - 10s 4ms/step - loss: 0.1669 - accuracy: 0.9342 - val_loss: 0.1661 - val_accuracy: 0.9346\n",
      "Epoch 15/5000\n",
      "2692/2692 [==============================] - 10s 4ms/step - loss: 0.1659 - accuracy: 0.9346 - val_loss: 0.1652 - val_accuracy: 0.9350\n",
      "Epoch 16/5000\n",
      "2692/2692 [==============================] - 10s 4ms/step - loss: 0.1650 - accuracy: 0.9350 - val_loss: 0.1643 - val_accuracy: 0.9354\n",
      "Epoch 17/5000\n",
      "2692/2692 [==============================] - 10s 4ms/step - loss: 0.1642 - accuracy: 0.9353 - val_loss: 0.1636 - val_accuracy: 0.9356\n",
      "Epoch 18/5000\n",
      "2692/2692 [==============================] - 9s 4ms/step - loss: 0.1635 - accuracy: 0.9356 - val_loss: 0.1628 - val_accuracy: 0.9359\n",
      "Epoch 19/5000\n",
      "2692/2692 [==============================] - 9s 4ms/step - loss: 0.1628 - accuracy: 0.9359 - val_loss: 0.1622 - val_accuracy: 0.9362\n",
      "Epoch 20/5000\n",
      "2692/2692 [==============================] - 10s 4ms/step - loss: 0.1622 - accuracy: 0.9361 - val_loss: 0.1616 - val_accuracy: 0.9364\n",
      "Epoch 21/5000\n",
      "2692/2692 [==============================] - 10s 4ms/step - loss: 0.1617 - accuracy: 0.9363 - val_loss: 0.1611 - val_accuracy: 0.9366\n",
      "Epoch 22/5000\n",
      "2692/2692 [==============================] - 9s 4ms/step - loss: 0.1612 - accuracy: 0.9365 - val_loss: 0.1606 - val_accuracy: 0.9368\n",
      "Epoch 23/5000\n",
      "2692/2692 [==============================] - 10s 4ms/step - loss: 0.1607 - accuracy: 0.9367 - val_loss: 0.1602 - val_accuracy: 0.9370\n",
      "Epoch 24/5000\n",
      "2692/2692 [==============================] - 9s 3ms/step - loss: 0.1603 - accuracy: 0.9369 - val_loss: 0.1598 - val_accuracy: 0.9371\n",
      "Epoch 25/5000\n",
      "2692/2692 [==============================] - 10s 4ms/step - loss: 0.1599 - accuracy: 0.9370 - val_loss: 0.1593 - val_accuracy: 0.9373\n",
      "Epoch 26/5000\n",
      "2692/2692 [==============================] - 9s 3ms/step - loss: 0.1595 - accuracy: 0.9372 - val_loss: 0.1590 - val_accuracy: 0.9375\n",
      "Epoch 27/5000\n",
      "2692/2692 [==============================] - 10s 4ms/step - loss: 0.1592 - accuracy: 0.9373 - val_loss: 0.1587 - val_accuracy: 0.9375\n",
      "Epoch 28/5000\n",
      "2692/2692 [==============================] - 9s 4ms/step - loss: 0.1589 - accuracy: 0.9374 - val_loss: 0.1584 - val_accuracy: 0.9376\n",
      "Epoch 29/5000\n",
      "2692/2692 [==============================] - 9s 3ms/step - loss: 0.1585 - accuracy: 0.9375 - val_loss: 0.1580 - val_accuracy: 0.9378\n",
      "Epoch 30/5000\n",
      "2692/2692 [==============================] - 10s 4ms/step - loss: 0.1583 - accuracy: 0.9377 - val_loss: 0.1577 - val_accuracy: 0.9379\n",
      "Epoch 31/5000\n",
      "2692/2692 [==============================] - 9s 3ms/step - loss: 0.1580 - accuracy: 0.9378 - val_loss: 0.1576 - val_accuracy: 0.9380\n",
      "Epoch 32/5000\n",
      "2692/2692 [==============================] - 9s 3ms/step - loss: 0.1577 - accuracy: 0.9379 - val_loss: 0.1573 - val_accuracy: 0.9381\n",
      "Epoch 33/5000\n",
      "2692/2692 [==============================] - 9s 4ms/step - loss: 0.1575 - accuracy: 0.9380 - val_loss: 0.1570 - val_accuracy: 0.9382\n",
      "Epoch 34/5000\n",
      "2692/2692 [==============================] - 9s 4ms/step - loss: 0.1573 - accuracy: 0.9380 - val_loss: 0.1568 - val_accuracy: 0.9383\n",
      "Epoch 35/5000\n",
      "2692/2692 [==============================] - 10s 4ms/step - loss: 0.1570 - accuracy: 0.9381 - val_loss: 0.1567 - val_accuracy: 0.9383\n",
      "Epoch 36/5000\n",
      "2692/2692 [==============================] - 10s 4ms/step - loss: 0.1568 - accuracy: 0.9382 - val_loss: 0.1563 - val_accuracy: 0.9384\n",
      "Epoch 37/5000\n",
      "2692/2692 [==============================] - 10s 4ms/step - loss: 0.1566 - accuracy: 0.9383 - val_loss: 0.1562 - val_accuracy: 0.9385\n",
      "Epoch 38/5000\n",
      "2692/2692 [==============================] - 9s 3ms/step - loss: 0.1565 - accuracy: 0.9384 - val_loss: 0.1560 - val_accuracy: 0.9386\n",
      "Epoch 39/5000\n",
      "2692/2692 [==============================] - 9s 4ms/step - loss: 0.1563 - accuracy: 0.9384 - val_loss: 0.1558 - val_accuracy: 0.9387\n",
      "Epoch 40/5000\n",
      "2692/2692 [==============================] - 10s 4ms/step - loss: 0.1561 - accuracy: 0.9385 - val_loss: 0.1557 - val_accuracy: 0.9387\n",
      "Epoch 41/5000\n",
      "2692/2692 [==============================] - 9s 4ms/step - loss: 0.1560 - accuracy: 0.9385 - val_loss: 0.1554 - val_accuracy: 0.9388\n",
      "Epoch 42/5000\n",
      "2692/2692 [==============================] - 10s 4ms/step - loss: 0.1558 - accuracy: 0.9386 - val_loss: 0.1554 - val_accuracy: 0.9388\n",
      "Epoch 43/5000\n",
      "2692/2692 [==============================] - 10s 4ms/step - loss: 0.1557 - accuracy: 0.9386 - val_loss: 0.1552 - val_accuracy: 0.9389\n",
      "Epoch 44/5000\n",
      "2692/2692 [==============================] - 10s 4ms/step - loss: 0.1555 - accuracy: 0.9387 - val_loss: 0.1551 - val_accuracy: 0.9389\n",
      "Epoch 45/5000\n",
      "2692/2692 [==============================] - 9s 3ms/step - loss: 0.1554 - accuracy: 0.9388 - val_loss: 0.1551 - val_accuracy: 0.9389\n",
      "Epoch 46/5000\n",
      "2503/2692 [==========================>...] - ETA: 0s - loss: 0.1553 - accuracy: 0.9388"
     ]
    },
    {
     "ename": "KeyboardInterrupt",
     "evalue": "",
     "output_type": "error",
     "traceback": [
      "\u001b[0;31m---------------------------------------------------------------------------\u001b[0m",
      "\u001b[0;31mKeyboardInterrupt\u001b[0m                         Traceback (most recent call last)",
      "Cell \u001b[0;32mIn[23], line 14\u001b[0m\n\u001b[1;32m     11\u001b[0m opt \u001b[38;5;241m=\u001b[39m tf\u001b[38;5;241m.\u001b[39mkeras\u001b[38;5;241m.\u001b[39moptimizers\u001b[38;5;241m.\u001b[39mAdam(learning_rate\u001b[38;5;241m=\u001b[39m\u001b[38;5;241m0.00001\u001b[39m)\n\u001b[1;32m     12\u001b[0m model_qqq\u001b[38;5;241m.\u001b[39mcompile(loss\u001b[38;5;241m=\u001b[39m\u001b[38;5;124m'\u001b[39m\u001b[38;5;124mbinary_crossentropy\u001b[39m\u001b[38;5;124m'\u001b[39m, optimizer\u001b[38;5;241m=\u001b[39mopt, metrics\u001b[38;5;241m=\u001b[39m[\u001b[38;5;124m'\u001b[39m\u001b[38;5;124maccuracy\u001b[39m\u001b[38;5;124m'\u001b[39m])\n\u001b[0;32m---> 14\u001b[0m myhistory_qqq \u001b[38;5;241m=\u001b[39m \u001b[43mmodel_qqq\u001b[49m\u001b[38;5;241;43m.\u001b[39;49m\u001b[43mfit\u001b[49m\u001b[43m(\u001b[49m\u001b[43mX_train_qqq\u001b[49m\u001b[43m,\u001b[49m\u001b[43m \u001b[49m\u001b[43mY_train_qqq\u001b[49m\u001b[43m,\u001b[49m\u001b[43m \u001b[49m\u001b[43mepochs\u001b[49m\u001b[38;5;241;43m=\u001b[39;49m\u001b[38;5;241;43m5000\u001b[39;49m\u001b[43m,\u001b[49m\u001b[43mvalidation_data\u001b[49m\u001b[38;5;241;43m=\u001b[39;49m\u001b[43m(\u001b[49m\u001b[43mX_val_qqq\u001b[49m\u001b[43m,\u001b[49m\u001b[43m \u001b[49m\u001b[43mY_val_qqq\u001b[49m\u001b[43m)\u001b[49m\u001b[43m,\u001b[49m\u001b[43mbatch_size\u001b[49m\u001b[38;5;241;43m=\u001b[39;49m\u001b[38;5;241;43m5\u001b[39;49m\u001b[38;5;241;43m*\u001b[39;49m\u001b[38;5;241;43m1024\u001b[39;49m\u001b[43m,\u001b[49m\u001b[43mcallbacks\u001b[49m\u001b[38;5;241;43m=\u001b[39;49m\u001b[43m[\u001b[49m\u001b[43mes\u001b[49m\u001b[43m]\u001b[49m\u001b[43m)\u001b[49m\n",
      "File \u001b[0;32m/global/common/software/nersc/pm-2022q4/sw/tensorflow/2.9.0/lib/python3.9/site-packages/keras/utils/traceback_utils.py:64\u001b[0m, in \u001b[0;36mfilter_traceback.<locals>.error_handler\u001b[0;34m(*args, **kwargs)\u001b[0m\n\u001b[1;32m     62\u001b[0m filtered_tb \u001b[38;5;241m=\u001b[39m \u001b[38;5;28;01mNone\u001b[39;00m\n\u001b[1;32m     63\u001b[0m \u001b[38;5;28;01mtry\u001b[39;00m:\n\u001b[0;32m---> 64\u001b[0m   \u001b[38;5;28;01mreturn\u001b[39;00m \u001b[43mfn\u001b[49m\u001b[43m(\u001b[49m\u001b[38;5;241;43m*\u001b[39;49m\u001b[43margs\u001b[49m\u001b[43m,\u001b[49m\u001b[43m \u001b[49m\u001b[38;5;241;43m*\u001b[39;49m\u001b[38;5;241;43m*\u001b[39;49m\u001b[43mkwargs\u001b[49m\u001b[43m)\u001b[49m\n\u001b[1;32m     65\u001b[0m \u001b[38;5;28;01mexcept\u001b[39;00m \u001b[38;5;167;01mException\u001b[39;00m \u001b[38;5;28;01mas\u001b[39;00m e:  \u001b[38;5;66;03m# pylint: disable=broad-except\u001b[39;00m\n\u001b[1;32m     66\u001b[0m   filtered_tb \u001b[38;5;241m=\u001b[39m _process_traceback_frames(e\u001b[38;5;241m.\u001b[39m__traceback__)\n",
      "File \u001b[0;32m/global/common/software/nersc/pm-2022q4/sw/tensorflow/2.9.0/lib/python3.9/site-packages/keras/engine/training.py:1408\u001b[0m, in \u001b[0;36mModel.fit\u001b[0;34m(self, x, y, batch_size, epochs, verbose, callbacks, validation_split, validation_data, shuffle, class_weight, sample_weight, initial_epoch, steps_per_epoch, validation_steps, validation_batch_size, validation_freq, max_queue_size, workers, use_multiprocessing)\u001b[0m\n\u001b[1;32m   1401\u001b[0m \u001b[38;5;28;01mfor\u001b[39;00m step \u001b[38;5;129;01min\u001b[39;00m data_handler\u001b[38;5;241m.\u001b[39msteps():\n\u001b[1;32m   1402\u001b[0m   \u001b[38;5;28;01mwith\u001b[39;00m tf\u001b[38;5;241m.\u001b[39mprofiler\u001b[38;5;241m.\u001b[39mexperimental\u001b[38;5;241m.\u001b[39mTrace(\n\u001b[1;32m   1403\u001b[0m       \u001b[38;5;124m'\u001b[39m\u001b[38;5;124mtrain\u001b[39m\u001b[38;5;124m'\u001b[39m,\n\u001b[1;32m   1404\u001b[0m       epoch_num\u001b[38;5;241m=\u001b[39mepoch,\n\u001b[1;32m   1405\u001b[0m       step_num\u001b[38;5;241m=\u001b[39mstep,\n\u001b[1;32m   1406\u001b[0m       batch_size\u001b[38;5;241m=\u001b[39mbatch_size,\n\u001b[1;32m   1407\u001b[0m       _r\u001b[38;5;241m=\u001b[39m\u001b[38;5;241m1\u001b[39m):\n\u001b[0;32m-> 1408\u001b[0m     \u001b[43mcallbacks\u001b[49m\u001b[38;5;241;43m.\u001b[39;49m\u001b[43mon_train_batch_begin\u001b[49m\u001b[43m(\u001b[49m\u001b[43mstep\u001b[49m\u001b[43m)\u001b[49m\n\u001b[1;32m   1409\u001b[0m     tmp_logs \u001b[38;5;241m=\u001b[39m \u001b[38;5;28mself\u001b[39m\u001b[38;5;241m.\u001b[39mtrain_function(iterator)\n\u001b[1;32m   1410\u001b[0m     \u001b[38;5;28;01mif\u001b[39;00m data_handler\u001b[38;5;241m.\u001b[39mshould_sync:\n",
      "File \u001b[0;32m/global/common/software/nersc/pm-2022q4/sw/tensorflow/2.9.0/lib/python3.9/site-packages/keras/callbacks.py:428\u001b[0m, in \u001b[0;36mCallbackList.on_train_batch_begin\u001b[0;34m(self, batch, logs)\u001b[0m\n\u001b[1;32m    419\u001b[0m \u001b[38;5;124;03m\"\"\"Calls the `on_train_batch_begin` methods of its callbacks.\u001b[39;00m\n\u001b[1;32m    420\u001b[0m \n\u001b[1;32m    421\u001b[0m \u001b[38;5;124;03mArgs:\u001b[39;00m\n\u001b[0;32m   (...)\u001b[0m\n\u001b[1;32m    425\u001b[0m \u001b[38;5;124;03m      `{'loss': 0.2, 'accuracy': 0.7}`.\u001b[39;00m\n\u001b[1;32m    426\u001b[0m \u001b[38;5;124;03m\"\"\"\u001b[39;00m\n\u001b[1;32m    427\u001b[0m \u001b[38;5;28;01mif\u001b[39;00m \u001b[38;5;28mself\u001b[39m\u001b[38;5;241m.\u001b[39m_should_call_train_batch_hooks:\n\u001b[0;32m--> 428\u001b[0m   \u001b[38;5;28;43mself\u001b[39;49m\u001b[38;5;241;43m.\u001b[39;49m\u001b[43m_call_batch_hook\u001b[49m\u001b[43m(\u001b[49m\u001b[43mModeKeys\u001b[49m\u001b[38;5;241;43m.\u001b[39;49m\u001b[43mTRAIN\u001b[49m\u001b[43m,\u001b[49m\u001b[43m \u001b[49m\u001b[38;5;124;43m'\u001b[39;49m\u001b[38;5;124;43mbegin\u001b[39;49m\u001b[38;5;124;43m'\u001b[39;49m\u001b[43m,\u001b[49m\u001b[43m \u001b[49m\u001b[43mbatch\u001b[49m\u001b[43m,\u001b[49m\u001b[43m \u001b[49m\u001b[43mlogs\u001b[49m\u001b[38;5;241;43m=\u001b[39;49m\u001b[43mlogs\u001b[49m\u001b[43m)\u001b[49m\n",
      "File \u001b[0;32m/global/common/software/nersc/pm-2022q4/sw/tensorflow/2.9.0/lib/python3.9/site-packages/keras/callbacks.py:295\u001b[0m, in \u001b[0;36mCallbackList._call_batch_hook\u001b[0;34m(self, mode, hook, batch, logs)\u001b[0m\n\u001b[1;32m    292\u001b[0m   \u001b[38;5;28;01mreturn\u001b[39;00m\n\u001b[1;32m    294\u001b[0m \u001b[38;5;28;01mif\u001b[39;00m hook \u001b[38;5;241m==\u001b[39m \u001b[38;5;124m'\u001b[39m\u001b[38;5;124mbegin\u001b[39m\u001b[38;5;124m'\u001b[39m:\n\u001b[0;32m--> 295\u001b[0m   \u001b[38;5;28;43mself\u001b[39;49m\u001b[38;5;241;43m.\u001b[39;49m\u001b[43m_call_batch_begin_hook\u001b[49m\u001b[43m(\u001b[49m\u001b[43mmode\u001b[49m\u001b[43m,\u001b[49m\u001b[43m \u001b[49m\u001b[43mbatch\u001b[49m\u001b[43m,\u001b[49m\u001b[43m \u001b[49m\u001b[43mlogs\u001b[49m\u001b[43m)\u001b[49m\n\u001b[1;32m    296\u001b[0m \u001b[38;5;28;01melif\u001b[39;00m hook \u001b[38;5;241m==\u001b[39m \u001b[38;5;124m'\u001b[39m\u001b[38;5;124mend\u001b[39m\u001b[38;5;124m'\u001b[39m:\n\u001b[1;32m    297\u001b[0m   \u001b[38;5;28mself\u001b[39m\u001b[38;5;241m.\u001b[39m_call_batch_end_hook(mode, batch, logs)\n",
      "File \u001b[0;32m/global/common/software/nersc/pm-2022q4/sw/tensorflow/2.9.0/lib/python3.9/site-packages/keras/callbacks.py:305\u001b[0m, in \u001b[0;36mCallbackList._call_batch_begin_hook\u001b[0;34m(self, mode, batch, logs)\u001b[0m\n\u001b[1;32m    303\u001b[0m \u001b[38;5;124;03m\"\"\"Helper function for `on_*_batch_begin` methods.\"\"\"\u001b[39;00m\n\u001b[1;32m    304\u001b[0m hook_name \u001b[38;5;241m=\u001b[39m \u001b[38;5;124m'\u001b[39m\u001b[38;5;124mon_\u001b[39m\u001b[38;5;132;01m{mode}\u001b[39;00m\u001b[38;5;124m_batch_begin\u001b[39m\u001b[38;5;124m'\u001b[39m\u001b[38;5;241m.\u001b[39mformat(mode\u001b[38;5;241m=\u001b[39mmode)\n\u001b[0;32m--> 305\u001b[0m \u001b[38;5;28;43mself\u001b[39;49m\u001b[38;5;241;43m.\u001b[39;49m\u001b[43m_call_batch_hook_helper\u001b[49m\u001b[43m(\u001b[49m\u001b[43mhook_name\u001b[49m\u001b[43m,\u001b[49m\u001b[43m \u001b[49m\u001b[43mbatch\u001b[49m\u001b[43m,\u001b[49m\u001b[43m \u001b[49m\u001b[43mlogs\u001b[49m\u001b[43m)\u001b[49m\n\u001b[1;32m    307\u001b[0m \u001b[38;5;28;01mif\u001b[39;00m \u001b[38;5;28mself\u001b[39m\u001b[38;5;241m.\u001b[39m_check_timing:\n\u001b[1;32m    308\u001b[0m   \u001b[38;5;28mself\u001b[39m\u001b[38;5;241m.\u001b[39m_batch_start_time \u001b[38;5;241m=\u001b[39m time\u001b[38;5;241m.\u001b[39mtime()\n",
      "File \u001b[0;32m/global/common/software/nersc/pm-2022q4/sw/tensorflow/2.9.0/lib/python3.9/site-packages/keras/callbacks.py:350\u001b[0m, in \u001b[0;36mCallbackList._call_batch_hook_helper\u001b[0;34m(self, hook_name, batch, logs)\u001b[0m\n\u001b[1;32m    348\u001b[0m \u001b[38;5;28;01mdef\u001b[39;00m \u001b[38;5;21m_call_batch_hook_helper\u001b[39m(\u001b[38;5;28mself\u001b[39m, hook_name, batch, logs):\n\u001b[1;32m    349\u001b[0m   \u001b[38;5;124;03m\"\"\"Helper function for `on_*_batch_*` methods.\"\"\"\u001b[39;00m\n\u001b[0;32m--> 350\u001b[0m   \u001b[38;5;28;01mif\u001b[39;00m \u001b[38;5;28;43mself\u001b[39;49m\u001b[38;5;241;43m.\u001b[39;49m\u001b[43m_check_timing\u001b[49m:\n\u001b[1;32m    351\u001b[0m     start_time \u001b[38;5;241m=\u001b[39m time\u001b[38;5;241m.\u001b[39mtime()\n\u001b[1;32m    353\u001b[0m   logs \u001b[38;5;241m=\u001b[39m \u001b[38;5;28mself\u001b[39m\u001b[38;5;241m.\u001b[39m_process_logs(logs, is_batch_hook\u001b[38;5;241m=\u001b[39m\u001b[38;5;28;01mTrue\u001b[39;00m)\n",
      "\u001b[0;31mKeyboardInterrupt\u001b[0m: "
     ]
    }
   ],
   "source": [
    "es = tf.keras.callbacks.EarlyStopping(monitor='val_loss', patience=5)\n",
    "\n",
    "model_qqq = Sequential()\n",
    "model_qqq.add(Dense(256, input_dim=8, activation='swish'))\n",
    "model_qqq.add(BatchNormalization())\n",
    "model_qqq.add(Dense(256, activation='swish'))\n",
    "model_qqq.add(BatchNormalization())\n",
    "model_qqq.add(Dense(256, activation='swish'))\n",
    "model_qqq.add(BatchNormalization())\n",
    "model_qqq.add(Dense(1, activation='sigmoid'))\n",
    "opt = tf.keras.optimizers.Adam(learning_rate=0.00001)\n",
    "model_qqq.compile(loss='binary_crossentropy', optimizer=opt, metrics=['accuracy'])\n",
    "\n",
    "myhistory_qqq = model_qqq.fit(X_train_qqq, Y_train_qqq, epochs=5000,validation_data=(X_val_qqq, Y_val_qqq),batch_size=5*1024,callbacks=[es])"
   ]
  },
  {
   "cell_type": "code",
   "execution_count": 56,
   "id": "32c267b5-81fd-4130-947d-37ae03185d6f",
   "metadata": {
    "tags": []
   },
   "outputs": [
    {
     "name": "stdout",
     "output_type": "stream",
     "text": [
      "INFO:tensorflow:Assets written to: model_qqq/assets\n"
     ]
    }
   ],
   "source": [
    "#model_qqq.save('model_qqq')"
   ]
  },
  {
   "cell_type": "code",
   "execution_count": null,
   "id": "bb495cf8-fb39-4497-8b68-72ddc9f6f8ac",
   "metadata": {},
   "outputs": [],
   "source": []
  }
 ],
 "metadata": {
  "kernelspec": {
   "display_name": "tensorflow-2.9.0",
   "language": "python",
   "name": "tensorflow-2.9.0"
  },
  "language_info": {
   "codemirror_mode": {
    "name": "ipython",
    "version": 3
   },
   "file_extension": ".py",
   "mimetype": "text/x-python",
   "name": "python",
   "nbconvert_exporter": "python",
   "pygments_lexer": "ipython3",
   "version": "3.9.15"
  }
 },
 "nbformat": 4,
 "nbformat_minor": 5
}
