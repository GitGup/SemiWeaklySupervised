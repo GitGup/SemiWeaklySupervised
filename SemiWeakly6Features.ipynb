{
 "cells": [
  {
   "cell_type": "code",
   "execution_count": 3,
   "id": "ffffb324-ca98-4d22-96d1-a1485b89d69e",
   "metadata": {
    "tags": []
   },
   "outputs": [],
   "source": [
    "import numpy as np\n",
    "import matplotlib.pyplot as plt\n",
    "import pandas as pd\n",
    "import tensorflow as tf\n",
    "import random\n",
    "import os\n",
    "\n",
    "#tensorflow keras imports\n",
    "from sklearn.model_selection import train_test_split\n",
    "from sklearn import metrics\n",
    "\n",
    "from tensorflow.keras.layers import Input, Dense, BatchNormalization\n",
    "from tensorflow.keras.models import Model, Sequential\n",
    "from tensorflow.keras.models import model_from_json\n",
    "from tensorflow.keras.callbacks import EarlyStopping"
   ]
  },
  {
   "cell_type": "code",
   "execution_count": 4,
   "id": "c86e145d-b2fa-4e32-91e4-8b7a368aacab",
   "metadata": {
    "tags": []
   },
   "outputs": [
    {
     "name": "stdout",
     "output_type": "stream",
     "text": [
      "[PhysicalDevice(name='/physical_device:GPU:0', device_type='GPU')]\n",
      "Num GPUs Available:  1\n"
     ]
    }
   ],
   "source": [
    "print(tf.config.list_physical_devices('GPU'))\n",
    "# Check if tensorflow is using GPU\n",
    "print(\"Num GPUs Available: \", len(tf.config.list_physical_devices('GPU')))"
   ]
  },
  {
   "cell_type": "code",
   "execution_count": 1,
   "id": "d40e20ee-a221-40ed-b2f5-56cfde7e4283",
   "metadata": {
    "collapsed": true,
    "jupyter": {
     "outputs_hidden": true
    },
    "tags": []
   },
   "outputs": [
    {
     "name": "stdout",
     "output_type": "stream",
     "text": [
      "on ... 0 0 qq\n",
      "on ... 0 0 qqq\n",
      "on ... 0 0.5 qq\n",
      "on ... 0 0.5 qqq\n",
      "on ... 0 1 qq\n",
      "on ... 0 1 qqq\n",
      "on ... 0 1.5 qq\n",
      "on ... 0 1.5 qqq\n",
      "on ... 0 2 qq\n",
      "on ... 0 2 qqq\n",
      "on ... 0 2.5 qq\n",
      "on ... 0 2.5 qqq\n",
      "on ... 0 3 qq\n",
      "on ... 0 3 qqq\n",
      "on ... 0 3.5 qq\n",
      "on ... 0 3.5 qqq\n",
      "on ... 0 4 qq\n",
      "on ... 0 4 qqq\n",
      "on ... 0 4.5 qq\n",
      "on ... 0 4.5 qqq\n",
      "on ... 0 5 qq\n",
      "on ... 0 5 qqq\n",
      "on ... 0 5.5 qq\n",
      "on ... 0 5.5 qqq\n",
      "on ... 0 6 qq\n",
      "on ... 0 6 qqq\n",
      "on ... 0.5 0 qq\n",
      "on ... 0.5 0 qqq\n",
      "on ... 0.5 0.5 qq\n",
      "on ... 0.5 0.5 qqq\n",
      "on ... 0.5 1 qq\n",
      "on ... 0.5 1 qqq\n",
      "on ... 0.5 1.5 qq\n",
      "on ... 0.5 1.5 qqq\n",
      "on ... 0.5 2 qq\n",
      "on ... 0.5 2 qqq\n",
      "on ... 0.5 2.5 qq\n",
      "on ... 0.5 2.5 qqq\n",
      "on ... 0.5 3 qq\n",
      "on ... 0.5 3 qqq\n",
      "on ... 0.5 3.5 qq\n",
      "on ... 0.5 3.5 qqq\n",
      "on ... 0.5 4 qq\n",
      "on ... 0.5 4 qqq\n",
      "on ... 0.5 4.5 qq\n",
      "on ... 0.5 4.5 qqq\n",
      "on ... 0.5 5 qq\n",
      "on ... 0.5 5 qqq\n",
      "on ... 0.5 5.5 qq\n",
      "on ... 0.5 5.5 qqq\n",
      "on ... 0.5 6 qq\n",
      "on ... 0.5 6 qqq\n",
      "on ... 1 0 qq\n",
      "on ... 1 0 qqq\n",
      "on ... 1 0.5 qq\n",
      "on ... 1 0.5 qqq\n",
      "on ... 1 1 qq\n",
      "on ... 1 1 qqq\n",
      "on ... 1 1.5 qq\n",
      "on ... 1 1.5 qqq\n",
      "on ... 1 2 qq\n",
      "on ... 1 2 qqq\n",
      "on ... 1 2.5 qq\n",
      "on ... 1 2.5 qqq\n",
      "on ... 1 3 qq\n",
      "on ... 1 3 qqq\n",
      "on ... 1 3.5 qq\n",
      "on ... 1 3.5 qqq\n",
      "on ... 1 4 qq\n",
      "on ... 1 4 qqq\n",
      "on ... 1 4.5 qq\n",
      "on ... 1 4.5 qqq\n",
      "on ... 1 5 qq\n",
      "on ... 1 5 qqq\n",
      "on ... 1 5.5 qq\n",
      "on ... 1 5.5 qqq\n",
      "on ... 1 6 qq\n",
      "on ... 1 6 qqq\n",
      "on ... 1.5 0 qq\n",
      "on ... 1.5 0 qqq\n",
      "on ... 1.5 0.5 qq\n",
      "on ... 1.5 0.5 qqq\n",
      "on ... 1.5 1 qq\n",
      "on ... 1.5 1 qqq\n",
      "on ... 1.5 1.5 qq\n",
      "on ... 1.5 1.5 qqq\n",
      "on ... 1.5 2 qq\n",
      "on ... 1.5 2 qqq\n",
      "on ... 1.5 2.5 qq\n",
      "on ... 1.5 2.5 qqq\n",
      "on ... 1.5 3 qq\n",
      "on ... 1.5 3 qqq\n",
      "on ... 1.5 3.5 qq\n",
      "on ... 1.5 3.5 qqq\n",
      "on ... 1.5 4 qq\n",
      "on ... 1.5 4 qqq\n",
      "on ... 1.5 4.5 qq\n",
      "on ... 1.5 4.5 qqq\n",
      "on ... 1.5 5 qq\n",
      "on ... 1.5 5 qqq\n",
      "on ... 1.5 5.5 qq\n",
      "on ... 1.5 5.5 qqq\n",
      "on ... 1.5 6 qq\n",
      "on ... 1.5 6 qqq\n",
      "on ... 2 0 qq\n",
      "on ... 2 0 qqq\n",
      "on ... 2 0.5 qq\n",
      "on ... 2 0.5 qqq\n",
      "on ... 2 1 qq\n",
      "on ... 2 1 qqq\n",
      "on ... 2 1.5 qq\n",
      "on ... 2 1.5 qqq\n",
      "on ... 2 2 qq\n",
      "on ... 2 2 qqq\n",
      "on ... 2 2.5 qq\n",
      "on ... 2 2.5 qqq\n",
      "on ... 2 3 qq\n",
      "on ... 2 3 qqq\n",
      "on ... 2 3.5 qq\n",
      "on ... 2 3.5 qqq\n",
      "on ... 2 4 qq\n",
      "on ... 2 4 qqq\n",
      "on ... 2 4.5 qq\n",
      "on ... 2 4.5 qqq\n",
      "on ... 2 5 qq\n",
      "on ... 2 5 qqq\n",
      "on ... 2 5.5 qq\n",
      "on ... 2 5.5 qqq\n",
      "on ... 2 6 qq\n",
      "on ... 2 6 qqq\n",
      "on ... 2.5 0 qq\n",
      "on ... 2.5 0 qqq\n",
      "on ... 2.5 0.5 qq\n",
      "on ... 2.5 0.5 qqq\n",
      "on ... 2.5 1 qq\n",
      "on ... 2.5 1 qqq\n",
      "on ... 2.5 1.5 qq\n",
      "on ... 2.5 1.5 qqq\n",
      "on ... 2.5 2 qq\n",
      "on ... 2.5 2 qqq\n",
      "on ... 2.5 2.5 qq\n",
      "on ... 2.5 2.5 qqq\n",
      "on ... 2.5 3 qq\n",
      "on ... 2.5 3 qqq\n",
      "on ... 2.5 3.5 qq\n",
      "on ... 2.5 3.5 qqq\n",
      "on ... 2.5 4 qq\n",
      "on ... 2.5 4 qqq\n",
      "on ... 2.5 4.5 qq\n",
      "on ... 2.5 4.5 qqq\n",
      "on ... 2.5 5 qq\n",
      "on ... 2.5 5 qqq\n",
      "on ... 2.5 5.5 qq\n",
      "on ... 2.5 5.5 qqq\n",
      "on ... 2.5 6 qq\n",
      "on ... 2.5 6 qqq\n",
      "on ... 3 0 qq\n",
      "on ... 3 0 qqq\n",
      "on ... 3 0.5 qq\n",
      "on ... 3 0.5 qqq\n",
      "on ... 3 1 qq\n",
      "on ... 3 1 qqq\n",
      "on ... 3 1.5 qq\n",
      "on ... 3 1.5 qqq\n",
      "on ... 3 2 qq\n",
      "on ... 3 2 qqq\n",
      "on ... 3 2.5 qq\n",
      "on ... 3 2.5 qqq\n",
      "on ... 3 3 qq\n",
      "on ... 3 3 qqq\n",
      "on ... 3 3.5 qq\n",
      "on ... 3 3.5 qqq\n",
      "on ... 3 4 qq\n",
      "on ... 3 4 qqq\n",
      "on ... 3 4.5 qq\n",
      "on ... 3 4.5 qqq\n",
      "on ... 3 5 qq\n",
      "on ... 3 5 qqq\n",
      "on ... 3 5.5 qq\n",
      "on ... 3 5.5 qqq\n",
      "on ... 3 6 qq\n",
      "on ... 3 6 qqq\n",
      "on ... 3.5 0 qq\n",
      "on ... 3.5 0 qqq\n",
      "on ... 3.5 0.5 qq\n",
      "on ... 3.5 0.5 qqq\n",
      "on ... 3.5 1 qq\n",
      "on ... 3.5 1 qqq\n",
      "on ... 3.5 1.5 qq\n",
      "on ... 3.5 1.5 qqq\n",
      "on ... 3.5 2 qq\n",
      "on ... 3.5 2 qqq\n",
      "on ... 3.5 2.5 qq\n",
      "on ... 3.5 2.5 qqq\n",
      "on ... 3.5 3 qq\n",
      "on ... 3.5 3 qqq\n",
      "on ... 3.5 3.5 qq\n",
      "on ... 3.5 3.5 qqq\n",
      "on ... 3.5 4 qq\n",
      "on ... 3.5 4 qqq\n",
      "on ... 3.5 4.5 qq\n",
      "on ... 3.5 4.5 qqq\n",
      "on ... 3.5 5 qq\n",
      "on ... 3.5 5 qqq\n",
      "on ... 3.5 5.5 qq\n",
      "on ... 3.5 5.5 qqq\n",
      "on ... 3.5 6 qq\n",
      "on ... 3.5 6 qqq\n",
      "on ... 4 0 qq\n",
      "on ... 4 0 qqq\n",
      "on ... 4 0.5 qq\n",
      "on ... 4 0.5 qqq\n",
      "on ... 4 1 qq\n",
      "on ... 4 1 qqq\n",
      "on ... 4 1.5 qq\n",
      "on ... 4 1.5 qqq\n",
      "on ... 4 2 qq\n",
      "on ... 4 2 qqq\n",
      "on ... 4 2.5 qq\n",
      "on ... 4 2.5 qqq\n",
      "on ... 4 3 qq\n",
      "on ... 4 3 qqq\n",
      "on ... 4 3.5 qq\n",
      "on ... 4 3.5 qqq\n",
      "on ... 4 4 qq\n",
      "on ... 4 4 qqq\n",
      "on ... 4 4.5 qq\n",
      "on ... 4 4.5 qqq\n",
      "on ... 4 5 qq\n",
      "on ... 4 5 qqq\n",
      "on ... 4 5.5 qq\n",
      "on ... 4 5.5 qqq\n",
      "on ... 4 6 qq\n",
      "on ... 4 6 qqq\n",
      "on ... 4.5 0 qq\n",
      "on ... 4.5 0 qqq\n",
      "on ... 4.5 0.5 qq\n",
      "on ... 4.5 0.5 qqq\n",
      "on ... 4.5 1 qq\n",
      "on ... 4.5 1 qqq\n",
      "on ... 4.5 1.5 qq\n",
      "on ... 4.5 1.5 qqq\n",
      "on ... 4.5 2 qq\n",
      "on ... 4.5 2 qqq\n",
      "on ... 4.5 2.5 qq\n",
      "on ... 4.5 2.5 qqq\n",
      "on ... 4.5 3 qq\n",
      "on ... 4.5 3 qqq\n",
      "on ... 4.5 3.5 qq\n",
      "on ... 4.5 3.5 qqq\n",
      "on ... 4.5 4 qq\n",
      "on ... 4.5 4 qqq\n",
      "on ... 4.5 4.5 qq\n",
      "on ... 4.5 4.5 qqq\n",
      "on ... 4.5 5 qq\n",
      "on ... 4.5 5 qqq\n",
      "on ... 4.5 5.5 qq\n",
      "on ... 4.5 5.5 qqq\n",
      "on ... 4.5 6 qq\n",
      "on ... 4.5 6 qqq\n",
      "on ... 5 0 qq\n",
      "on ... 5 0 qqq\n",
      "on ... 5 0.5 qq\n",
      "on ... 5 0.5 qqq\n",
      "on ... 5 1 qq\n",
      "on ... 5 1 qqq\n",
      "on ... 5 1.5 qq\n",
      "on ... 5 1.5 qqq\n",
      "on ... 5 2 qq\n",
      "on ... 5 2 qqq\n",
      "on ... 5 2.5 qq\n",
      "on ... 5 2.5 qqq\n",
      "on ... 5 3 qq\n",
      "on ... 5 3 qqq\n",
      "on ... 5 3.5 qq\n",
      "on ... 5 3.5 qqq\n",
      "on ... 5 4 qq\n",
      "on ... 5 4 qqq\n",
      "on ... 5 4.5 qq\n",
      "on ... 5 4.5 qqq\n",
      "on ... 5 5 qq\n",
      "on ... 5 5 qqq\n",
      "on ... 5 5.5 qq\n",
      "on ... 5 5.5 qqq\n",
      "on ... 5 6 qq\n",
      "on ... 5 6 qqq\n",
      "on ... 5.5 0 qq\n",
      "on ... 5.5 0 qqq\n",
      "on ... 5.5 0.5 qq\n",
      "on ... 5.5 0.5 qqq\n",
      "on ... 5.5 1 qq\n",
      "on ... 5.5 1 qqq\n",
      "on ... 5.5 1.5 qq\n",
      "on ... 5.5 1.5 qqq\n",
      "on ... 5.5 2 qq\n",
      "on ... 5.5 2 qqq\n",
      "on ... 5.5 2.5 qq\n",
      "on ... 5.5 2.5 qqq\n",
      "on ... 5.5 3 qq\n",
      "on ... 5.5 3 qqq\n",
      "on ... 5.5 3.5 qq\n",
      "on ... 5.5 3.5 qqq\n",
      "on ... 5.5 4 qq\n",
      "on ... 5.5 4 qqq\n",
      "on ... 5.5 4.5 qq\n",
      "on ... 5.5 4.5 qqq\n",
      "on ... 5.5 5 qq\n",
      "on ... 5.5 5 qqq\n",
      "on ... 5.5 5.5 qq\n",
      "on ... 5.5 5.5 qqq\n",
      "on ... 5.5 6 qq\n",
      "on ... 5.5 6 qqq\n",
      "on ... 6 0 qq\n",
      "on ... 6 0 qqq\n",
      "on ... 6 0.5 qq\n",
      "on ... 6 0.5 qqq\n",
      "on ... 6 1 qq\n",
      "on ... 6 1 qqq\n",
      "on ... 6 1.5 qq\n",
      "on ... 6 1.5 qqq\n",
      "on ... 6 2 qq\n",
      "on ... 6 2 qqq\n",
      "on ... 6 2.5 qq\n",
      "on ... 6 2.5 qqq\n",
      "on ... 6 3 qq\n",
      "on ... 6 3 qqq\n",
      "on ... 6 3.5 qq\n",
      "on ... 6 3.5 qqq\n",
      "on ... 6 4 qq\n",
      "on ... 6 4 qqq\n",
      "on ... 6 4.5 qq\n",
      "on ... 6 4.5 qqq\n",
      "on ... 6 5 qq\n",
      "on ... 6 5 qqq\n",
      "on ... 6 5.5 qq\n",
      "on ... 6 5.5 qqq\n",
      "on ... 6 6 qq\n",
      "on ... 6 6 qqq\n"
     ]
    }
   ],
   "source": [
    "from utils import *\n",
    "import pickle\n",
    "\n",
    "mass_range = [0,0.5,1,1.5,2,2.5,3,3.5,4,4.5,5,5.5,6]\n",
    "if (False):\n",
    "    lmass_vec = {}\n",
    "    x = {}\n",
    "    mjjs = {}\n",
    "\n",
    "    mu_m = 0.\n",
    "    mu_t = 0.\n",
    "    mu_t2 = 0.\n",
    "    sd_m = 0.\n",
    "    sd_t = 0.\n",
    "    sd_t2 = 0.\n",
    "    \n",
    "    mj1_list = []\n",
    "    mj2_list = []\n",
    "\n",
    "    for m1 in mass_range:\n",
    "        for m2 in mass_range:\n",
    "            for qq in ['qq','qqq']:\n",
    "\n",
    "                print(\"on ...\",m1,m2,qq)\n",
    "\n",
    "                ltau1_m_m = []\n",
    "                ltau2_m_m = []\n",
    "                ltau3_m_m = []\n",
    "                stau1_m_m = []\n",
    "                stau2_m_m = []\n",
    "                stau3_m_m = []\n",
    "                if (m1>0 and m2>0):\n",
    "                    myfile = open(\"/global/cfs/projectdirs/m3246/AnomalyDetection/ILC/Delphes-3.5.0/LHCO_RnD_qq_fixed/LHCO_RnD_qq_\"+str(int(m1*100))+\"_\"+str(int(100*m2))+\".txt\")\n",
    "                    if (qq=='qqq'):\n",
    "                        myfile = open(\"/global/cfs/projectdirs/m3246/AnomalyDetection/ILC/Delphes-3.5.0/LHCO_RnD_qqq_fixed/LHCO_RnD_qqq2_\"+str(int(m1*100))+\"_\"+str(int(100*m2))+\".txt\")\n",
    "                    jets_m_m = []\n",
    "                    for line in myfile:\n",
    "                        jets_m_m+=[line.split(\"J\")[1].split(\"P\")[0].split()]\n",
    "                        pass\n",
    "                    ljet_m_m = [jets_m_m[2*n] for n in range(int(len(jets_m_m)/2))]\n",
    "                    sjet_m_m = [jets_m_m[2*n+1] for n in range(int(len(jets_m_m)/2))]\n",
    "\n",
    "                    lmass_m_m = np.array([float(ljet_m_m[i][3]) for i in range(len(ljet_m_m))])/1000.\n",
    "                    smass_m_m = np.array([float(sjet_m_m[i][3]) for i in range(len(sjet_m_m))])/1000.\n",
    "                    \n",
    "                    #check ordering of the leading and subleading jets\n",
    "                    #if leading jet mm > subleading, continue\n",
    "                    #if leading jet mm < subleading, swap\n",
    "                    for i in range(int(len(lmass_m_m))):\n",
    "                        if lmass_m_m[i] > smass_m_m[i]:\n",
    "                            continue\n",
    "                        elif lmass_m_m[i] < smass_m_m[i]:\n",
    "                            lmass_m_m[i], smass_m_m[i] = smass_m_m[i], lmass_m_m[i]\n",
    "\n",
    "                    ltau1_m_m = np.array([float(ljet_m_m[i][5]) for i in range(len(ljet_m_m))])\n",
    "                    ltau2_m_m = np.array([float(ljet_m_m[i][6]) for i in range(len(ljet_m_m))])\n",
    "                    ltau3_m_m = np.array([float(ljet_m_m[i][7]) for i in range(len(ljet_m_m))])\n",
    "\n",
    "                    stau1_m_m = np.array([float(sjet_m_m[i][5]) for i in range(len(ljet_m_m))])\n",
    "                    stau2_m_m = np.array([float(sjet_m_m[i][6]) for i in range(len(ljet_m_m))])\n",
    "                    stau3_m_m = np.array([float(sjet_m_m[i][7]) for i in range(len(ljet_m_m))])\n",
    "\n",
    "                    mjj = computemjj_txt(jets_m_m)/1000.\n",
    "                    mjjs[m1,m2] = mjj\n",
    "                    passcut = (mjj > 3.3) * (mjj < 3.7)\n",
    "                    lmass_m_m = lmass_m_m[passcut]\n",
    "                    smass_m_m = smass_m_m[passcut]\n",
    "                    ltau1_m_m = ltau1_m_m[passcut]\n",
    "                    ltau2_m_m = ltau2_m_m[passcut]\n",
    "                    ltau3_m_m = ltau3_m_m[passcut]\n",
    "                    stau1_m_m = stau1_m_m[passcut]\n",
    "                    stau2_m_m = stau2_m_m[passcut]\n",
    "                    stau3_m_m = stau3_m_m[passcut]\n",
    "                    pass\n",
    "                elif m1==0 and m2==0:\n",
    "                    df_QCD = pd.read_hdf(\"/global/cfs/projectdirs/m3246/AnomalyDetection/LHCO/events_anomalydetection_DelphesPythia8_v2_qcd_features.h5\")\n",
    "                    lmass_m_m = np.array(df_QCD[[\"mj1\"]]).flatten()/1000.\n",
    "                    smass_m_m = np.array(df_QCD[[\"mj2\"]]).flatten()/1000.\n",
    "                    \n",
    "                    #check jet ordering\n",
    "                    for i in range(int(len(lmass_m_m))):\n",
    "                        if lmass_m_m[i] > smass_m_m[i]:\n",
    "                            continue\n",
    "                        elif lmass_m_m[i] < smass_m_m[i]:\n",
    "                            lmass_m_m[i], smass_m_m[i] = smass_m_m[i], lmass_m_m[i]\n",
    "                        \n",
    "                    ltau1_m_m = np.array(df_QCD[[\"tau1j1\"]]).flatten()\n",
    "                    ltau2_m_m = np.array(df_QCD[[\"tau2j1\"]]).flatten()\n",
    "                    ltau3_m_m = np.array(df_QCD[[\"tau3j1\"]]).flatten()\n",
    "                    stau1_m_m = np.array(df_QCD[[\"tau1j2\"]]).flatten()\n",
    "                    stau2_m_m = np.array(df_QCD[[\"tau2j2\"]]).flatten()\n",
    "                    stau3_m_m = np.array(df_QCD[[\"tau3j2\"]]).flatten()\n",
    "                    mjj = computemjj_pd(df_QCD)/1000.\n",
    "                    mjjs[m1,m2] = mjj\n",
    "                    passcut = (mjj > 3.3) * (mjj < 3.7)\n",
    "                    lmass_m_m = lmass_m_m[passcut]\n",
    "                    smass_m_m = smass_m_m[passcut]\n",
    "                    ltau1_m_m = ltau1_m_m[passcut]\n",
    "                    ltau2_m_m = ltau2_m_m[passcut]\n",
    "                    ltau3_m_m = ltau3_m_m[passcut]\n",
    "                    stau1_m_m = stau1_m_m[passcut]\n",
    "                    stau2_m_m = stau2_m_m[passcut]\n",
    "                    stau3_m_m = stau3_m_m[passcut]\n",
    "\n",
    "                    mu_m = np.mean(lmass_m_m)\n",
    "                    mu_t = np.mean(ltau2_m_m/(ltau1_m_m+0.0001))\n",
    "                    mu_t2 = np.mean(ltau3_m_m/(ltau2_m_m+0.0001))\n",
    "                    sd_m = np.std(lmass_m_m)\n",
    "                    sd_t = np.std(ltau2_m_m/(ltau1_m_m+0.0001))\n",
    "                    sd_t2 = np.std(ltau3_m_m/(ltau2_m_m+0.0001))\n",
    "                    pass\n",
    "                else:\n",
    "                    continue\n",
    "\n",
    "                ms = np.stack([lmass_m_m,smass_m_m],axis=1)\n",
    "                ts = np.stack([ltau2_m_m/(ltau1_m_m+0.0001),stau2_m_m/(stau1_m_m+0.001)],axis=1)\n",
    "                ts2 = np.stack([ltau3_m_m/(ltau2_m_m+0.0001),stau3_m_m/(stau2_m_m+0.001)],axis=1)\n",
    "                order1 = [np.argmax(ms[i]) for i in range(len(ms))]\n",
    "                order2 = [np.argmin(ms[i]) for i in range(len(ms))]\n",
    "                mJ1 = np.array([ms[i][order1[i]] for i in range(len(ms))])\n",
    "                mJ2 = np.array([ms[i][order2[i]] for i in range(len(ms))])\n",
    "                \n",
    "                mj1_list.append(mJ1)\n",
    "                mj2_list.append(mJ2)\n",
    "                x[m1,m2,qq] = np.stack([(mJ2 - mu_m)/sd_m,\n",
    "                                        ((mJ1 - mJ2) - mu_m)/sd_m,\n",
    "                                        (np.array([ts[i][order2[i]] for i in range(len(ts))]) - mu_t)/sd_t,\n",
    "                                        (np.array([ts[i][order1[i]] for i in range(len(ts))]) - mu_t)/sd_t,\n",
    "                                        (np.array([ts2[i][order2[i]] for i in range(len(ts2))]) - mu_t2)/sd_t2,\n",
    "                                        (np.array([ts2[i][order1[i]] for i in range(len(ts2))]) - mu_t2)/sd_t2],axis=1)\n",
    "                lmass_vec[m1,m2]=lmass_m_m\n",
    "                pass\n",
    "            pass\n",
    "        pass\n",
    "    \n",
    "    x_array = []\n",
    "    for m1 in mass_range:\n",
    "        for m2 in mass_range:\n",
    "            for qq in ['qq','qqq']:\n",
    "                if (m1==0 and m2>0 or m2==0 and m1>0):\n",
    "                    continue\n",
    "                x_array+=[x[m1,m2,qq]]\n",
    "    # with open(\"/pscratch/sd/g/gupsingh/x_array_fixed.pkl\", \"wb\") as f:\n",
    "    #     pickle.dump(x_array, f)"
   ]
  },
  {
   "cell_type": "code",
   "execution_count": 13,
   "id": "eabb548f-0169-455d-870f-ab7d2903732c",
   "metadata": {},
   "outputs": [],
   "source": [
    "import pickle\n",
    "qq = \"qq\"\n",
    "mass_range = [0,0.5,1,1.5,2,2.5,3,3.5,4,4.5,5,5.5,6]\n",
    "x = {}\n",
    "with open(\"/pscratch/sd/g/gupsingh/x_array_fixed.pkl\", \"rb\") as f:\n",
    "    x_array_read = pickle.load(f)\n",
    "mycounter = -1\n",
    "for m1 in [0,0.5,1,1.5,2,2.5,3,3.5,4,4.5,5,5.5,6]:\n",
    "    for m2 in [0,0.5,1,1.5,2,2.5,3,3.5,4,4.5,5,5.5,6]:\n",
    "        for qq in ['qq','qqq']:\n",
    "            if (m1==0 and m2>0 or m2==0 and m1>0):\n",
    "                continue\n",
    "            mycounter+=1\n",
    "            x[m1,m2,qq, False] = x_array_read[mycounter]"
   ]
  },
  {
   "cell_type": "code",
   "execution_count": 15,
   "id": "473a0713-d7d7-427f-8595-b5e0cba10394",
   "metadata": {
    "tags": []
   },
   "outputs": [],
   "source": [
    "qq = \"qq\""
   ]
  },
  {
   "cell_type": "code",
   "execution_count": 7,
   "id": "51dfdc92-2f53-4cbd-b144-4fc405bf7f3b",
   "metadata": {
    "tags": []
   },
   "outputs": [
    {
     "data": {
      "text/plain": [
       "array([[-1.17673766, -1.56447832, -0.76455058, -1.08964067, -0.17336297,\n",
       "         0.200626  ],\n",
       "       [-1.36719485, -1.07154293, -0.91929118,  0.49800794, -1.29983736,\n",
       "        -0.19974761],\n",
       "       [-1.1053607 , -1.65199309, -0.67742992, -0.68213629, -1.17820181,\n",
       "         0.3466491 ],\n",
       "       ...,\n",
       "       [-1.06977967, -1.6739351 , -1.74680612,  0.18046861, -3.17549976,\n",
       "        -0.44647016],\n",
       "       [-1.17702702, -1.73369464, -1.58980572,  0.1677468 , -2.92104951,\n",
       "        -0.13177881],\n",
       "       [-1.10853637, -1.64543869,  0.33738727, -0.08532435,  0.2606052 ,\n",
       "        -3.2668104 ]])"
      ]
     },
     "execution_count": 7,
     "metadata": {},
     "output_type": "execute_result"
    }
   ],
   "source": [
    "x[1,1, qq, False]"
   ]
  },
  {
   "cell_type": "code",
   "execution_count": 18,
   "id": "f745005e-b633-4254-ad28-02bf5e5032ae",
   "metadata": {
    "tags": []
   },
   "outputs": [
    {
     "data": {
      "text/plain": [
       "(76373, 6)"
      ]
     },
     "execution_count": 18,
     "metadata": {},
     "output_type": "execute_result"
    }
   ],
   "source": [
    "np.shape(x_array[0])"
   ]
  },
  {
   "cell_type": "code",
   "execution_count": 5,
   "id": "e5fd85f2-75f2-42c2-8487-3520378f536a",
   "metadata": {
    "tags": []
   },
   "outputs": [
    {
     "data": {
      "text/plain": [
       "(76373, 6)"
      ]
     },
     "execution_count": 5,
     "metadata": {},
     "output_type": "execute_result"
    }
   ],
   "source": [
    "test = np.load(\"W_q_100_100_high_level_features.npy\", allow_pickle = True)\n",
    "np.shape(test)"
   ]
  },
  {
   "cell_type": "code",
   "execution_count": 6,
   "id": "5bf1d963-d962-4da6-a3ed-5cfd1f160afb",
   "metadata": {
    "tags": []
   },
   "outputs": [
    {
     "data": {
      "text/plain": [
       "array([[0.150308  , 0.52540458, 0.78506277, 0.104488  , 0.28992314,\n",
       "        0.69563436],\n",
       "       [0.111077  , 0.40405614, 0.60229282, 0.104146  , 0.5344167 ,\n",
       "        0.77031775],\n",
       "       [0.139942  , 0.45214252, 0.51136438, 0.106988  , 0.27537547,\n",
       "        0.6197377 ],\n",
       "       ...,\n",
       "       [0.118241  , 0.27804457, 0.61225863, 0.0993454 , 0.39046139,\n",
       "        0.53739188],\n",
       "       [0.101323  , 0.54995058, 0.77340149, 0.0967434 , 0.4528955 ,\n",
       "        0.64811971],\n",
       "       [0.105356  , 0.21591626, 0.76569951, 0.089513  , 0.15151533,\n",
       "        0.75239603]])"
      ]
     },
     "execution_count": 6,
     "metadata": {},
     "output_type": "execute_result"
    }
   ],
   "source": [
    "test"
   ]
  },
  {
   "cell_type": "code",
   "execution_count": 5,
   "id": "fb3d21c1-0277-406b-a510-170ed04aa6e4",
   "metadata": {
    "tags": []
   },
   "outputs": [],
   "source": [
    "qq = \"qq\"\n",
    "qqq = \"qqq\"\n",
    "mass_range = [0,0.5,1,1.5,2,2.5,3,3.5,4,4.5,5,5.5,6]\n",
    "def load_data(filename, noise_dims):\n",
    "\n",
    "    x = {}\n",
    "    x_array_read = np.load(filename,allow_pickle=True)\n",
    "    mycounter = -1\n",
    "    for m1 in mass_range:\n",
    "        for m2 in mass_range:\n",
    "            for q in ['qq','qqq']:\n",
    "                if (m1==0 and m2>0 or m2==0 and m1>0):\n",
    "                    continue\n",
    "                mycounter+=1\n",
    "                x[m1,m2,q, False] = x_array_read[mycounter]\n",
    "\n",
    "                if noise_dims and qq == \"qq\":\n",
    "                    for i in range(noise_dims):\n",
    "                        noise_feature = np.random.normal(0, 1, len(x[m1,m2,qq, False])).reshape(-1, 1)\n",
    "                        if i == 0:\n",
    "                            x[m1, m2, qq, True] = np.hstack((x[m1,m2, qq, False], noise_feature))\n",
    "                        if i > 0:\n",
    "                            x[m1, m2, qq, True] = np.hstack((x[m1,m2, qq, True], noise_feature))\n",
    "    \n",
    "    return x\n",
    "            \n",
    "x = load_data(\"/pscratch/sd/g/gupsingh/x_array_fixed.pkl\", noise_dims = 0)"
   ]
  },
  {
   "cell_type": "code",
   "execution_count": 6,
   "id": "a346b980-4e1c-495b-a8e3-63b924526b4c",
   "metadata": {
    "tags": []
   },
   "outputs": [
    {
     "data": {
      "text/plain": [
       "'qq'"
      ]
     },
     "execution_count": 6,
     "metadata": {},
     "output_type": "execute_result"
    }
   ],
   "source": [
    "qq"
   ]
  },
  {
   "cell_type": "code",
   "execution_count": 7,
   "id": "00f43733-3ab9-459d-ac40-40015a5f7494",
   "metadata": {
    "tags": []
   },
   "outputs": [],
   "source": [
    "qqq = \"qqq\""
   ]
  },
  {
   "cell_type": "code",
   "execution_count": 8,
   "id": "4ff5d9dd-a622-4056-84f9-b9ab002eaa10",
   "metadata": {
    "tags": []
   },
   "outputs": [
    {
     "data": {
      "text/plain": [
       "array([[-1.1467854 , -1.47770924, -0.06188168, -1.25308806,  0.34378257,\n",
       "        -0.18466159],\n",
       "       [-1.1487145 , -1.69706728, -0.68294717,  0.03500569, -1.06319069,\n",
       "         0.43469069],\n",
       "       [-1.13268386, -1.55028145, -1.34432782, -0.39714657, -0.953696  ,\n",
       "        -1.60115472],\n",
       "       ...,\n",
       "       [-1.17579285, -1.62957953, -0.78923019, -1.31430044, -1.73511428,\n",
       "        -0.82381764],\n",
       "       [-1.19046974, -1.71033063, -0.4539729 ,  0.11360652, -0.80338618,\n",
       "         0.44749405],\n",
       "       [-1.23125368, -1.64679808, -1.99324816, -1.64119963, -0.33379286,\n",
       "         0.3691295 ]])"
      ]
     },
     "execution_count": 8,
     "metadata": {},
     "output_type": "execute_result"
    }
   ],
   "source": [
    "x[1, 1, qq, False]"
   ]
  },
  {
   "cell_type": "code",
   "execution_count": 28,
   "id": "34020fcb-67cb-4898-b1b1-3baf41e83e00",
   "metadata": {
    "tags": []
   },
   "outputs": [
    {
     "data": {
      "text/plain": [
       "(121352, 16)"
      ]
     },
     "execution_count": 28,
     "metadata": {},
     "output_type": "execute_result"
    }
   ],
   "source": [
    "np.shape(x[0,0, qq, True])"
   ]
  },
  {
   "cell_type": "code",
   "execution_count": 4,
   "id": "7e092035-c977-46f5-a214-d3b0cd5ccd77",
   "metadata": {
    "tags": []
   },
   "outputs": [
    {
     "data": {
      "text/plain": [
       "(121352, 6)"
      ]
     },
     "execution_count": 4,
     "metadata": {},
     "output_type": "execute_result"
    }
   ],
   "source": [
    "np.shape(x[0,0, qq, False])"
   ]
  },
  {
   "cell_type": "code",
   "execution_count": 44,
   "id": "7833b6c3-ef98-41f1-8b77-d236321dc8d3",
   "metadata": {
    "tags": []
   },
   "outputs": [
    {
     "data": {
      "text/plain": [
       "(121352, 6)"
      ]
     },
     "execution_count": 44,
     "metadata": {},
     "output_type": "execute_result"
    }
   ],
   "source": [
    "np.shape(x[0,0, qqq, False])"
   ]
  },
  {
   "cell_type": "code",
   "execution_count": 24,
   "id": "4a1744d4-d3f9-464a-af14-4df9f8b125ca",
   "metadata": {
    "collapsed": true,
    "jupyter": {
     "outputs_hidden": true
    },
    "tags": []
   },
   "outputs": [
    {
     "name": "stdout",
     "output_type": "stream",
     "text": [
      "0.5 0.5\n",
      "0.5 1\n",
      "0.5 1.5\n",
      "0.5 2\n",
      "0.5 2.5\n",
      "0.5 3\n",
      "0.5 3.5\n",
      "0.5 4\n",
      "0.5 4.5\n",
      "0.5 5\n",
      "0.5 5.5\n",
      "0.5 6\n",
      "1 0.5\n",
      "1 1\n",
      "1 1.5\n",
      "1 2\n",
      "1 2.5\n",
      "1 3\n",
      "1 3.5\n",
      "1 4\n",
      "1 4.5\n",
      "1 5\n",
      "1 5.5\n",
      "1 6\n",
      "1.5 0.5\n",
      "1.5 1\n",
      "1.5 1.5\n",
      "1.5 2\n",
      "1.5 2.5\n",
      "1.5 3\n",
      "1.5 3.5\n",
      "1.5 4\n",
      "1.5 4.5\n",
      "1.5 5\n",
      "1.5 5.5\n",
      "1.5 6\n",
      "2 0.5\n",
      "2 1\n",
      "2 1.5\n",
      "2 2\n",
      "2 2.5\n",
      "2 3\n",
      "2 3.5\n",
      "2 4\n",
      "2 4.5\n",
      "2 5\n",
      "2 5.5\n",
      "2 6\n",
      "2.5 0.5\n",
      "2.5 1\n",
      "2.5 1.5\n",
      "2.5 2\n",
      "2.5 2.5\n",
      "2.5 3\n",
      "2.5 3.5\n",
      "2.5 4\n",
      "2.5 4.5\n",
      "2.5 5\n",
      "2.5 5.5\n",
      "2.5 6\n",
      "3 0.5\n",
      "3 1\n",
      "3 1.5\n",
      "3 2\n",
      "3 2.5\n",
      "3 3\n",
      "3 3.5\n",
      "3 4\n",
      "3 4.5\n",
      "3 5\n",
      "3 5.5\n",
      "3 6\n",
      "3.5 0.5\n",
      "3.5 1\n",
      "3.5 1.5\n",
      "3.5 2\n",
      "3.5 2.5\n",
      "3.5 3\n",
      "3.5 3.5\n",
      "3.5 4\n",
      "3.5 4.5\n",
      "3.5 5\n",
      "3.5 5.5\n",
      "3.5 6\n",
      "4 0.5\n",
      "4 1\n",
      "4 1.5\n",
      "4 2\n",
      "4 2.5\n",
      "4 3\n",
      "4 3.5\n",
      "4 4\n",
      "4 4.5\n",
      "4 5\n",
      "4 5.5\n",
      "4 6\n",
      "4.5 0.5\n",
      "4.5 1\n",
      "4.5 1.5\n",
      "4.5 2\n",
      "4.5 2.5\n",
      "4.5 3\n",
      "4.5 3.5\n",
      "4.5 4\n",
      "4.5 4.5\n",
      "4.5 5\n",
      "4.5 5.5\n",
      "4.5 6\n",
      "5 0.5\n",
      "5 1\n",
      "5 1.5\n",
      "5 2\n",
      "5 2.5\n",
      "5 3\n",
      "5 3.5\n",
      "5 4\n",
      "5 4.5\n",
      "5 5\n",
      "5 5.5\n",
      "5 6\n",
      "5.5 0.5\n",
      "5.5 1\n",
      "5.5 1.5\n",
      "5.5 2\n",
      "5.5 2.5\n",
      "5.5 3\n",
      "5.5 3.5\n",
      "5.5 4\n",
      "5.5 4.5\n",
      "5.5 5\n",
      "5.5 5.5\n",
      "5.5 6\n",
      "6 0.5\n",
      "6 1\n",
      "6 1.5\n",
      "6 2\n",
      "6 2.5\n",
      "6 3\n",
      "6 3.5\n",
      "6 4\n",
      "6 4.5\n",
      "6 5\n",
      "6 5.5\n",
      "6 6\n"
     ]
    }
   ],
   "source": [
    "x_data_qq = []\n",
    "y_data_qq = []\n",
    "qq = \"qq\"\n",
    "mass_range = [0,0.5,1,1.5,2,2.5,3,3.5,4,4.5,5,5.5,6]\n",
    "noise = False\n",
    "for m1 in mass_range[1:]:\n",
    "    for m2 in mass_range[1:]:\n",
    "        for qq in ['qq']:\n",
    "            print(m1,m2)\n",
    "            x_aug_0 = np.append(np.append(x[0,0,qq, noise],m1*np.reshape(np.ones(len(x[0,0,qq, noise])),[len(x[0,0,qq, noise]),1]),1),m2*np.reshape(np.ones(len(x[0,0,qq, noise])),[len(x[0,0,qq, noise]),1]),1)\n",
    "            x_aug_m = np.append(np.append(x[m1,m2,qq, noise],m1*np.reshape(np.ones(len(x[m1,m2,qq, noise])),[len(x[m1,m2,qq, noise]),1]),1),m2*np.reshape(np.ones(len(x[m1,m2,qq, noise])),[len(x[m1,m2,qq, noise]),1]),1)\n",
    "            if (m1==0.5 and m2==0.5):\n",
    "                x_data_qq = np.concatenate([x_aug_0,x_aug_m])\n",
    "                y_data_qq = np.concatenate([np.zeros(len(x_aug_0)),np.ones(len(x_aug_m))])\n",
    "            else:\n",
    "                x_data_qq = np.concatenate([x_data_qq,x_aug_0,x_aug_m])\n",
    "                y_data_qq = np.concatenate([y_data_qq,np.zeros(len(x_aug_0)),np.ones(len(x_aug_m))])"
   ]
  },
  {
   "cell_type": "code",
   "execution_count": 11,
   "id": "b6767038-2377-47a2-ad0c-f8f7a9b098cb",
   "metadata": {
    "collapsed": true,
    "jupyter": {
     "outputs_hidden": true
    },
    "tags": []
   },
   "outputs": [
    {
     "name": "stdout",
     "output_type": "stream",
     "text": [
      "0.5 0.5\n",
      "0.5 1\n",
      "0.5 1.5\n",
      "0.5 2\n",
      "0.5 2.5\n",
      "0.5 3\n",
      "0.5 3.5\n",
      "0.5 4\n",
      "0.5 4.5\n",
      "0.5 5\n",
      "0.5 5.5\n",
      "0.5 6\n",
      "1 0.5\n",
      "1 1\n",
      "1 1.5\n",
      "1 2\n",
      "1 2.5\n",
      "1 3\n",
      "1 3.5\n",
      "1 4\n",
      "1 4.5\n",
      "1 5\n",
      "1 5.5\n",
      "1 6\n",
      "1.5 0.5\n",
      "1.5 1\n",
      "1.5 1.5\n",
      "1.5 2\n",
      "1.5 2.5\n",
      "1.5 3\n",
      "1.5 3.5\n",
      "1.5 4\n",
      "1.5 4.5\n",
      "1.5 5\n",
      "1.5 5.5\n",
      "1.5 6\n",
      "2 0.5\n",
      "2 1\n",
      "2 1.5\n",
      "2 2\n",
      "2 2.5\n",
      "2 3\n",
      "2 3.5\n",
      "2 4\n",
      "2 4.5\n",
      "2 5\n",
      "2 5.5\n",
      "2 6\n",
      "2.5 0.5\n",
      "2.5 1\n",
      "2.5 1.5\n",
      "2.5 2\n",
      "2.5 2.5\n",
      "2.5 3\n",
      "2.5 3.5\n",
      "2.5 4\n",
      "2.5 4.5\n",
      "2.5 5\n",
      "2.5 5.5\n",
      "2.5 6\n",
      "3 0.5\n",
      "3 1\n",
      "3 1.5\n",
      "3 2\n",
      "3 2.5\n",
      "3 3\n",
      "3 3.5\n",
      "3 4\n",
      "3 4.5\n",
      "3 5\n",
      "3 5.5\n",
      "3 6\n",
      "3.5 0.5\n",
      "3.5 1\n",
      "3.5 1.5\n",
      "3.5 2\n",
      "3.5 2.5\n",
      "3.5 3\n",
      "3.5 3.5\n",
      "3.5 4\n",
      "3.5 4.5\n",
      "3.5 5\n",
      "3.5 5.5\n",
      "3.5 6\n",
      "4 0.5\n",
      "4 1\n",
      "4 1.5\n",
      "4 2\n",
      "4 2.5\n",
      "4 3\n",
      "4 3.5\n",
      "4 4\n",
      "4 4.5\n",
      "4 5\n",
      "4 5.5\n",
      "4 6\n",
      "4.5 0.5\n",
      "4.5 1\n",
      "4.5 1.5\n",
      "4.5 2\n",
      "4.5 2.5\n",
      "4.5 3\n",
      "4.5 3.5\n",
      "4.5 4\n",
      "4.5 4.5\n",
      "4.5 5\n",
      "4.5 5.5\n",
      "4.5 6\n",
      "5 0.5\n",
      "5 1\n",
      "5 1.5\n",
      "5 2\n",
      "5 2.5\n",
      "5 3\n",
      "5 3.5\n",
      "5 4\n",
      "5 4.5\n",
      "5 5\n",
      "5 5.5\n",
      "5 6\n",
      "5.5 0.5\n",
      "5.5 1\n",
      "5.5 1.5\n",
      "5.5 2\n",
      "5.5 2.5\n",
      "5.5 3\n",
      "5.5 3.5\n",
      "5.5 4\n",
      "5.5 4.5\n",
      "5.5 5\n",
      "5.5 5.5\n",
      "5.5 6\n",
      "6 0.5\n",
      "6 1\n",
      "6 1.5\n",
      "6 2\n",
      "6 2.5\n",
      "6 3\n",
      "6 3.5\n",
      "6 4\n",
      "6 4.5\n",
      "6 5\n",
      "6 5.5\n",
      "6 6\n"
     ]
    }
   ],
   "source": [
    "x_data_qqq = []\n",
    "y_data_qqq = []\n",
    "mass_range = [0,0.5,1,1.5,2,2.5,3,3.5,4,4.5,5,5.5,6]\n",
    "noise = False\n",
    "for m1 in mass_range[1:]:\n",
    "    for m2 in mass_range[1:]:\n",
    "        for qq in ['qqq']:\n",
    "            qq = \"qqq\"\n",
    "            print(m1,m2)\n",
    "            x_aug_0 = np.append(np.append(x[0,0,qq, noise],m1*np.reshape(np.ones(len(x[0,0,qq, noise])),[len(x[0,0,qq, noise]),1]),1),m2*np.reshape(np.ones(len(x[0,0,qq, noise])),[len(x[0,0,qq, noise]),1]),1)\n",
    "            x_aug_m = np.append(np.append(x[m1,m2,qq, noise],m1*np.reshape(np.ones(len(x[m1,m2,qq, noise])),[len(x[m1,m2,qq, noise]),1]),1),m2*np.reshape(np.ones(len(x[m1,m2,qq, noise])),[len(x[m1,m2,qq, noise]),1]),1)\n",
    "            if (m1==0.5 and m2==0.5):\n",
    "                x_data_qqq = np.concatenate([x_aug_0,x_aug_m])\n",
    "                y_data_qqq = np.concatenate([np.zeros(len(x_aug_0)),np.ones(len(x_aug_m))])\n",
    "            else:\n",
    "                x_data_qqq = np.concatenate([x_data_qqq,x_aug_0,x_aug_m])\n",
    "                y_data_qqq = np.concatenate([y_data_qqq,np.zeros(len(x_aug_0)),np.ones(len(x_aug_m))])"
   ]
  },
  {
   "cell_type": "code",
   "execution_count": 29,
   "id": "498c3cdd-d24b-4362-8c06-3d52fd96f728",
   "metadata": {
    "tags": []
   },
   "outputs": [],
   "source": [
    "# np.save(\"/pscratch/sd/g/gupsingh/x_parametrized_data_qq_fixed\", x_data_qq)\n",
    "# np.save(\"/pscratch/sd/g/gupsingh/y_parametrized_data_qq_fixed\", y_data_qq)"
   ]
  },
  {
   "cell_type": "code",
   "execution_count": 9,
   "id": "ce117b67-e856-4863-aab4-29028b02b021",
   "metadata": {
    "tags": []
   },
   "outputs": [],
   "source": [
    "# np.save(\"/pscratch/sd/g/gupsingh/x_parametrized_data_qqq_fixed\", x_data_qqq)\n",
    "# np.save(\"/pscratch/sd/g/gupsingh/y_parametrized_data_qqq_fixed\", y_data_qqq)"
   ]
  },
  {
   "cell_type": "code",
   "execution_count": 39,
   "id": "4f92dce1-60f8-46be-8b38-4f24e621285b",
   "metadata": {
    "tags": []
   },
   "outputs": [],
   "source": [
    "x_data_qq = np.load(\"/pscratch/sd/g/gupsingh/x_parametrized_data_qq_fixed.npy\")\n",
    "y_data_qq = np.load(\"/pscratch/sd/g/gupsingh/y_parametrized_data_qq_fixed.npy\")"
   ]
  },
  {
   "cell_type": "code",
   "execution_count": 9,
   "id": "dba07f7e-0dd6-4c21-916c-a2b736ebeb6c",
   "metadata": {
    "tags": []
   },
   "outputs": [],
   "source": [
    "x_data_qq = np.load(\"data/x_parametrized_data_qq.npy\")\n",
    "y_data_qq = np.load(\"data/y_parametrized_data_qq.npy\")"
   ]
  },
  {
   "cell_type": "code",
   "execution_count": 40,
   "id": "152a6620-8abb-4494-a27c-08a1782c50c9",
   "metadata": {
    "tags": []
   },
   "outputs": [],
   "source": [
    "X_train_qq, X_val_qq, Y_train_qq, Y_val_qq = train_test_split(x_data_qq, y_data_qq, test_size=0.5, random_state = 42)"
   ]
  },
  {
   "cell_type": "code",
   "execution_count": 41,
   "id": "f620f46c-8a23-4fb5-aeac-7b112796fa50",
   "metadata": {
    "tags": []
   },
   "outputs": [
    {
     "data": {
      "text/plain": [
       "array([[-1.29067761, -1.49584945,  1.523089  , ..., -0.33863646,\n",
       "         3.        ,  4.5       ],\n",
       "       [-0.9812558 , -0.0741258 , -1.56602011, ...,  0.2154482 ,\n",
       "         1.        ,  4.        ],\n",
       "       [-1.5053652 , -1.46572857,  2.1232833 , ...,  1.16977851,\n",
       "         2.        ,  5.5       ],\n",
       "       ...,\n",
       "       [-1.33821732,  0.60248958, -0.35903133, ..., -0.80362504,\n",
       "         5.5       ,  1.5       ],\n",
       "       [-1.1929567 , -0.94234964, -0.89993095, ...,  0.49589514,\n",
       "         3.5       ,  6.        ],\n",
       "       [-1.21768687, -0.23171448, -0.45549635, ...,  0.50476543,\n",
       "         5.5       ,  1.        ]])"
      ]
     },
     "execution_count": 41,
     "metadata": {},
     "output_type": "execute_result"
    }
   ],
   "source": [
    "X_train_qq"
   ]
  },
  {
   "cell_type": "code",
   "execution_count": 12,
   "id": "a556f55d-a155-455c-ba9e-1ead6ed9871f",
   "metadata": {
    "tags": []
   },
   "outputs": [],
   "source": [
    "X_train_qqq, X_val_qqq, Y_train_qqq, Y_val_qqq = train_test_split(x_data_qqq, y_data_qqq, test_size=0.5, random_state = 42)"
   ]
  },
  {
   "cell_type": "code",
   "execution_count": 19,
   "id": "d38d75be-73cd-4d00-ab34-929140d42f29",
   "metadata": {
    "tags": []
   },
   "outputs": [
    {
     "data": {
      "text/plain": [
       "array([[-1.01357652, -1.73295289,  1.20862549, ...,  1.01502877,\n",
       "         2.        ,  1.5       ],\n",
       "       [-0.82867141,  1.29552367, -0.08583506, ..., -2.22494426,\n",
       "         3.5       ,  3.5       ],\n",
       "       [-1.13499651,  1.07107216, -0.36806473, ...,  0.89796848,\n",
       "         1.        ,  6.        ],\n",
       "       ...,\n",
       "       [-1.45647626, -1.72667151,  1.86582934, ...,  1.60819248,\n",
       "         5.5       ,  0.5       ],\n",
       "       [-1.22105544,  1.56863124,  1.07320472, ...,  1.3650016 ,\n",
       "         3.5       ,  5.5       ],\n",
       "       [ 0.94213325, -1.13824551, -1.30352825, ..., -2.13668104,\n",
       "         5.        ,  6.        ]])"
      ]
     },
     "execution_count": 19,
     "metadata": {},
     "output_type": "execute_result"
    }
   ],
   "source": [
    "X_train_qqq"
   ]
  },
  {
   "cell_type": "code",
   "execution_count": 11,
   "id": "3017eca6-f629-4a86-a0a5-f040ea845681",
   "metadata": {
    "tags": []
   },
   "outputs": [],
   "source": [
    "# x_data_qqq = np.load(\"x_data_qqq.npy\")\n",
    "# y_data_qqq = np.load(\"y_data_qqq.npy\")"
   ]
  },
  {
   "cell_type": "code",
   "execution_count": 383,
   "id": "7d414d68-a7a6-4dd4-b83c-1c15885b1431",
   "metadata": {
    "tags": []
   },
   "outputs": [
    {
     "data": {
      "text/plain": [
       "(27249420, 8)"
      ]
     },
     "execution_count": 383,
     "metadata": {},
     "output_type": "execute_result"
    }
   ],
   "source": [
    "np.shape(x_data_qq)"
   ]
  },
  {
   "cell_type": "code",
   "execution_count": 20,
   "id": "caaf14a4-0cd1-4109-a03c-7517e76bca8e",
   "metadata": {
    "collapsed": true,
    "jupyter": {
     "outputs_hidden": true
    },
    "tags": []
   },
   "outputs": [
    {
     "data": {
      "text/html": [
       "Tracking run with wandb version 0.16.3"
      ],
      "text/plain": [
       "<IPython.core.display.HTML object>"
      ]
     },
     "metadata": {},
     "output_type": "display_data"
    },
    {
     "data": {
      "text/html": [
       "Run data is saved locally in <code>/pscratch/sd/g/gupsingh/wandb/run-20240215_004354-twnpiqhm</code>"
      ],
      "text/plain": [
       "<IPython.core.display.HTML object>"
      ]
     },
     "metadata": {},
     "output_type": "display_data"
    },
    {
     "data": {
      "text/html": [
       "Syncing run <strong><a href='https://wandb.ai/gup-singh/SemiWeakly/runs/twnpiqhm' target=\"_blank\">breathless-flower-61</a></strong> to <a href='https://wandb.ai/gup-singh/SemiWeakly' target=\"_blank\">Weights & Biases</a> (<a href='https://wandb.me/run' target=\"_blank\">docs</a>)<br/>"
      ],
      "text/plain": [
       "<IPython.core.display.HTML object>"
      ]
     },
     "metadata": {},
     "output_type": "display_data"
    },
    {
     "data": {
      "text/html": [
       " View project at <a href='https://wandb.ai/gup-singh/SemiWeakly' target=\"_blank\">https://wandb.ai/gup-singh/SemiWeakly</a>"
      ],
      "text/plain": [
       "<IPython.core.display.HTML object>"
      ]
     },
     "metadata": {},
     "output_type": "display_data"
    },
    {
     "data": {
      "text/html": [
       " View run at <a href='https://wandb.ai/gup-singh/SemiWeakly/runs/twnpiqhm' target=\"_blank\">https://wandb.ai/gup-singh/SemiWeakly/runs/twnpiqhm</a>"
      ],
      "text/plain": [
       "<IPython.core.display.HTML object>"
      ]
     },
     "metadata": {},
     "output_type": "display_data"
    },
    {
     "name": "stdout",
     "output_type": "stream",
     "text": [
      "Epoch 1/5000\n",
      "13441/13456 [============================>.] - ETA: 0s - loss: 0.1775 - accuracy: 0.9302"
     ]
    },
    {
     "name": "stderr",
     "output_type": "stream",
     "text": [
      "/global/homes/g/gupsingh/.conda/envs/research/lib/python3.11/site-packages/keras/src/engine/training.py:3103: UserWarning: You are saving your model as an HDF5 file via `model.save()`. This file format is considered legacy. We recommend using instead the native Keras format, e.g. `model.save('my_model.keras')`.\n",
      "  saving_api.save_model(\n"
     ]
    },
    {
     "name": "stdout",
     "output_type": "stream",
     "text": [
      "INFO:tensorflow:Assets written to: /pscratch/sd/g/gupsingh/wandb/run-20240215_004354-twnpiqhm/files/model-best/assets\n"
     ]
    },
    {
     "name": "stderr",
     "output_type": "stream",
     "text": [
      "INFO:tensorflow:Assets written to: /pscratch/sd/g/gupsingh/wandb/run-20240215_004354-twnpiqhm/files/model-best/assets\n",
      "\u001b[34m\u001b[1mwandb\u001b[0m: Adding directory to artifact (/pscratch/sd/g/gupsingh/wandb/run-20240215_004354-twnpiqhm/files/model-best)... Done. 0.2s\n"
     ]
    },
    {
     "name": "stdout",
     "output_type": "stream",
     "text": [
      "13456/13456 [==============================] - 57s 4ms/step - loss: 0.1774 - accuracy: 0.9302 - val_loss: 0.1587 - val_accuracy: 0.9375\n",
      "Epoch 2/5000\n",
      "13452/13456 [============================>.] - ETA: 0s - loss: 0.1592 - accuracy: 0.9372"
     ]
    },
    {
     "name": "stderr",
     "output_type": "stream",
     "text": [
      "/global/homes/g/gupsingh/.conda/envs/research/lib/python3.11/site-packages/keras/src/engine/training.py:3103: UserWarning: You are saving your model as an HDF5 file via `model.save()`. This file format is considered legacy. We recommend using instead the native Keras format, e.g. `model.save('my_model.keras')`.\n",
      "  saving_api.save_model(\n"
     ]
    },
    {
     "name": "stdout",
     "output_type": "stream",
     "text": [
      "INFO:tensorflow:Assets written to: /pscratch/sd/g/gupsingh/wandb/run-20240215_004354-twnpiqhm/files/model-best/assets\n"
     ]
    },
    {
     "name": "stderr",
     "output_type": "stream",
     "text": [
      "INFO:tensorflow:Assets written to: /pscratch/sd/g/gupsingh/wandb/run-20240215_004354-twnpiqhm/files/model-best/assets\n",
      "\u001b[34m\u001b[1mwandb\u001b[0m: Adding directory to artifact (/pscratch/sd/g/gupsingh/wandb/run-20240215_004354-twnpiqhm/files/model-best)... Done. 0.0s\n"
     ]
    },
    {
     "name": "stdout",
     "output_type": "stream",
     "text": [
      "13456/13456 [==============================] - 54s 4ms/step - loss: 0.1592 - accuracy: 0.9372 - val_loss: 0.1556 - val_accuracy: 0.9388\n",
      "Epoch 3/5000\n",
      "13449/13456 [============================>.] - ETA: 0s - loss: 0.1571 - accuracy: 0.9380"
     ]
    },
    {
     "name": "stderr",
     "output_type": "stream",
     "text": [
      "/global/homes/g/gupsingh/.conda/envs/research/lib/python3.11/site-packages/keras/src/engine/training.py:3103: UserWarning: You are saving your model as an HDF5 file via `model.save()`. This file format is considered legacy. We recommend using instead the native Keras format, e.g. `model.save('my_model.keras')`.\n",
      "  saving_api.save_model(\n"
     ]
    },
    {
     "name": "stdout",
     "output_type": "stream",
     "text": [
      "INFO:tensorflow:Assets written to: /pscratch/sd/g/gupsingh/wandb/run-20240215_004354-twnpiqhm/files/model-best/assets\n"
     ]
    },
    {
     "name": "stderr",
     "output_type": "stream",
     "text": [
      "INFO:tensorflow:Assets written to: /pscratch/sd/g/gupsingh/wandb/run-20240215_004354-twnpiqhm/files/model-best/assets\n",
      "\u001b[34m\u001b[1mwandb\u001b[0m: Adding directory to artifact (/pscratch/sd/g/gupsingh/wandb/run-20240215_004354-twnpiqhm/files/model-best)... Done. 0.0s\n"
     ]
    },
    {
     "name": "stdout",
     "output_type": "stream",
     "text": [
      "13456/13456 [==============================] - 54s 4ms/step - loss: 0.1571 - accuracy: 0.9380 - val_loss: 0.1543 - val_accuracy: 0.9392\n",
      "Epoch 4/5000\n",
      "13449/13456 [============================>.] - ETA: 0s - loss: 0.1560 - accuracy: 0.9385"
     ]
    },
    {
     "name": "stderr",
     "output_type": "stream",
     "text": [
      "/global/homes/g/gupsingh/.conda/envs/research/lib/python3.11/site-packages/keras/src/engine/training.py:3103: UserWarning: You are saving your model as an HDF5 file via `model.save()`. This file format is considered legacy. We recommend using instead the native Keras format, e.g. `model.save('my_model.keras')`.\n",
      "  saving_api.save_model(\n"
     ]
    },
    {
     "name": "stdout",
     "output_type": "stream",
     "text": [
      "INFO:tensorflow:Assets written to: /pscratch/sd/g/gupsingh/wandb/run-20240215_004354-twnpiqhm/files/model-best/assets\n"
     ]
    },
    {
     "name": "stderr",
     "output_type": "stream",
     "text": [
      "INFO:tensorflow:Assets written to: /pscratch/sd/g/gupsingh/wandb/run-20240215_004354-twnpiqhm/files/model-best/assets\n",
      "\u001b[34m\u001b[1mwandb\u001b[0m: Adding directory to artifact (/pscratch/sd/g/gupsingh/wandb/run-20240215_004354-twnpiqhm/files/model-best)... Done. 0.1s\n"
     ]
    },
    {
     "name": "stdout",
     "output_type": "stream",
     "text": [
      "13456/13456 [==============================] - 55s 4ms/step - loss: 0.1560 - accuracy: 0.9385 - val_loss: 0.1542 - val_accuracy: 0.9391\n",
      "Epoch 5/5000\n",
      "13449/13456 [============================>.] - ETA: 0s - loss: 0.1552 - accuracy: 0.9387"
     ]
    },
    {
     "name": "stderr",
     "output_type": "stream",
     "text": [
      "/global/homes/g/gupsingh/.conda/envs/research/lib/python3.11/site-packages/keras/src/engine/training.py:3103: UserWarning: You are saving your model as an HDF5 file via `model.save()`. This file format is considered legacy. We recommend using instead the native Keras format, e.g. `model.save('my_model.keras')`.\n",
      "  saving_api.save_model(\n"
     ]
    },
    {
     "name": "stdout",
     "output_type": "stream",
     "text": [
      "INFO:tensorflow:Assets written to: /pscratch/sd/g/gupsingh/wandb/run-20240215_004354-twnpiqhm/files/model-best/assets\n"
     ]
    },
    {
     "name": "stderr",
     "output_type": "stream",
     "text": [
      "INFO:tensorflow:Assets written to: /pscratch/sd/g/gupsingh/wandb/run-20240215_004354-twnpiqhm/files/model-best/assets\n",
      "\u001b[34m\u001b[1mwandb\u001b[0m: Adding directory to artifact (/pscratch/sd/g/gupsingh/wandb/run-20240215_004354-twnpiqhm/files/model-best)... Done. 0.5s\n"
     ]
    },
    {
     "name": "stdout",
     "output_type": "stream",
     "text": [
      "13456/13456 [==============================] - 54s 4ms/step - loss: 0.1552 - accuracy: 0.9388 - val_loss: 0.1531 - val_accuracy: 0.9396\n",
      "Epoch 6/5000\n",
      "13441/13456 [============================>.] - ETA: 0s - loss: 0.1547 - accuracy: 0.9389"
     ]
    },
    {
     "name": "stderr",
     "output_type": "stream",
     "text": [
      "/global/homes/g/gupsingh/.conda/envs/research/lib/python3.11/site-packages/keras/src/engine/training.py:3103: UserWarning: You are saving your model as an HDF5 file via `model.save()`. This file format is considered legacy. We recommend using instead the native Keras format, e.g. `model.save('my_model.keras')`.\n",
      "  saving_api.save_model(\n"
     ]
    },
    {
     "name": "stdout",
     "output_type": "stream",
     "text": [
      "INFO:tensorflow:Assets written to: /pscratch/sd/g/gupsingh/wandb/run-20240215_004354-twnpiqhm/files/model-best/assets\n"
     ]
    },
    {
     "name": "stderr",
     "output_type": "stream",
     "text": [
      "INFO:tensorflow:Assets written to: /pscratch/sd/g/gupsingh/wandb/run-20240215_004354-twnpiqhm/files/model-best/assets\n",
      "\u001b[34m\u001b[1mwandb\u001b[0m: Adding directory to artifact (/pscratch/sd/g/gupsingh/wandb/run-20240215_004354-twnpiqhm/files/model-best)... Done. 0.2s\n"
     ]
    },
    {
     "name": "stdout",
     "output_type": "stream",
     "text": [
      "13456/13456 [==============================] - 54s 4ms/step - loss: 0.1547 - accuracy: 0.9389 - val_loss: 0.1528 - val_accuracy: 0.9398\n",
      "Epoch 7/5000\n",
      "13446/13456 [============================>.] - ETA: 0s - loss: 0.1543 - accuracy: 0.9391"
     ]
    },
    {
     "name": "stderr",
     "output_type": "stream",
     "text": [
      "/global/homes/g/gupsingh/.conda/envs/research/lib/python3.11/site-packages/keras/src/engine/training.py:3103: UserWarning: You are saving your model as an HDF5 file via `model.save()`. This file format is considered legacy. We recommend using instead the native Keras format, e.g. `model.save('my_model.keras')`.\n",
      "  saving_api.save_model(\n"
     ]
    },
    {
     "name": "stdout",
     "output_type": "stream",
     "text": [
      "INFO:tensorflow:Assets written to: /pscratch/sd/g/gupsingh/wandb/run-20240215_004354-twnpiqhm/files/model-best/assets\n"
     ]
    },
    {
     "name": "stderr",
     "output_type": "stream",
     "text": [
      "INFO:tensorflow:Assets written to: /pscratch/sd/g/gupsingh/wandb/run-20240215_004354-twnpiqhm/files/model-best/assets\n",
      "\u001b[34m\u001b[1mwandb\u001b[0m: Adding directory to artifact (/pscratch/sd/g/gupsingh/wandb/run-20240215_004354-twnpiqhm/files/model-best)... Done. 0.2s\n"
     ]
    },
    {
     "name": "stdout",
     "output_type": "stream",
     "text": [
      "13456/13456 [==============================] - 54s 4ms/step - loss: 0.1543 - accuracy: 0.9391 - val_loss: 0.1525 - val_accuracy: 0.9398\n",
      "Epoch 8/5000\n",
      "13453/13456 [============================>.] - ETA: 0s - loss: 0.1540 - accuracy: 0.9392"
     ]
    },
    {
     "name": "stderr",
     "output_type": "stream",
     "text": [
      "/global/homes/g/gupsingh/.conda/envs/research/lib/python3.11/site-packages/keras/src/engine/training.py:3103: UserWarning: You are saving your model as an HDF5 file via `model.save()`. This file format is considered legacy. We recommend using instead the native Keras format, e.g. `model.save('my_model.keras')`.\n",
      "  saving_api.save_model(\n"
     ]
    },
    {
     "name": "stdout",
     "output_type": "stream",
     "text": [
      "INFO:tensorflow:Assets written to: /pscratch/sd/g/gupsingh/wandb/run-20240215_004354-twnpiqhm/files/model-best/assets\n"
     ]
    },
    {
     "name": "stderr",
     "output_type": "stream",
     "text": [
      "INFO:tensorflow:Assets written to: /pscratch/sd/g/gupsingh/wandb/run-20240215_004354-twnpiqhm/files/model-best/assets\n",
      "\u001b[34m\u001b[1mwandb\u001b[0m: Adding directory to artifact (/pscratch/sd/g/gupsingh/wandb/run-20240215_004354-twnpiqhm/files/model-best)... Done. 0.0s\n"
     ]
    },
    {
     "name": "stdout",
     "output_type": "stream",
     "text": [
      "13456/13456 [==============================] - 54s 4ms/step - loss: 0.1540 - accuracy: 0.9392 - val_loss: 0.1520 - val_accuracy: 0.9401\n",
      "Epoch 9/5000\n",
      "13443/13456 [============================>.] - ETA: 0s - loss: 0.1537 - accuracy: 0.9393"
     ]
    },
    {
     "name": "stderr",
     "output_type": "stream",
     "text": [
      "/global/homes/g/gupsingh/.conda/envs/research/lib/python3.11/site-packages/keras/src/engine/training.py:3103: UserWarning: You are saving your model as an HDF5 file via `model.save()`. This file format is considered legacy. We recommend using instead the native Keras format, e.g. `model.save('my_model.keras')`.\n",
      "  saving_api.save_model(\n"
     ]
    },
    {
     "name": "stdout",
     "output_type": "stream",
     "text": [
      "INFO:tensorflow:Assets written to: /pscratch/sd/g/gupsingh/wandb/run-20240215_004354-twnpiqhm/files/model-best/assets\n"
     ]
    },
    {
     "name": "stderr",
     "output_type": "stream",
     "text": [
      "INFO:tensorflow:Assets written to: /pscratch/sd/g/gupsingh/wandb/run-20240215_004354-twnpiqhm/files/model-best/assets\n",
      "\u001b[34m\u001b[1mwandb\u001b[0m: Adding directory to artifact (/pscratch/sd/g/gupsingh/wandb/run-20240215_004354-twnpiqhm/files/model-best)... Done. 0.1s\n"
     ]
    },
    {
     "name": "stdout",
     "output_type": "stream",
     "text": [
      "13456/13456 [==============================] - 54s 4ms/step - loss: 0.1537 - accuracy: 0.9393 - val_loss: 0.1520 - val_accuracy: 0.9401\n",
      "Epoch 10/5000\n",
      "13442/13456 [============================>.] - ETA: 0s - loss: 0.1535 - accuracy: 0.9395"
     ]
    },
    {
     "name": "stderr",
     "output_type": "stream",
     "text": [
      "/global/homes/g/gupsingh/.conda/envs/research/lib/python3.11/site-packages/keras/src/engine/training.py:3103: UserWarning: You are saving your model as an HDF5 file via `model.save()`. This file format is considered legacy. We recommend using instead the native Keras format, e.g. `model.save('my_model.keras')`.\n",
      "  saving_api.save_model(\n"
     ]
    },
    {
     "name": "stdout",
     "output_type": "stream",
     "text": [
      "INFO:tensorflow:Assets written to: /pscratch/sd/g/gupsingh/wandb/run-20240215_004354-twnpiqhm/files/model-best/assets\n"
     ]
    },
    {
     "name": "stderr",
     "output_type": "stream",
     "text": [
      "INFO:tensorflow:Assets written to: /pscratch/sd/g/gupsingh/wandb/run-20240215_004354-twnpiqhm/files/model-best/assets\n",
      "\u001b[34m\u001b[1mwandb\u001b[0m: Adding directory to artifact (/pscratch/sd/g/gupsingh/wandb/run-20240215_004354-twnpiqhm/files/model-best)... Done. 0.1s\n"
     ]
    },
    {
     "name": "stdout",
     "output_type": "stream",
     "text": [
      "13456/13456 [==============================] - 54s 4ms/step - loss: 0.1535 - accuracy: 0.9395 - val_loss: 0.1519 - val_accuracy: 0.9401\n",
      "Epoch 11/5000\n",
      "13444/13456 [============================>.] - ETA: 0s - loss: 0.1533 - accuracy: 0.9395"
     ]
    },
    {
     "name": "stderr",
     "output_type": "stream",
     "text": [
      "/global/homes/g/gupsingh/.conda/envs/research/lib/python3.11/site-packages/keras/src/engine/training.py:3103: UserWarning: You are saving your model as an HDF5 file via `model.save()`. This file format is considered legacy. We recommend using instead the native Keras format, e.g. `model.save('my_model.keras')`.\n",
      "  saving_api.save_model(\n"
     ]
    },
    {
     "name": "stdout",
     "output_type": "stream",
     "text": [
      "INFO:tensorflow:Assets written to: /pscratch/sd/g/gupsingh/wandb/run-20240215_004354-twnpiqhm/files/model-best/assets\n"
     ]
    },
    {
     "name": "stderr",
     "output_type": "stream",
     "text": [
      "INFO:tensorflow:Assets written to: /pscratch/sd/g/gupsingh/wandb/run-20240215_004354-twnpiqhm/files/model-best/assets\n",
      "\u001b[34m\u001b[1mwandb\u001b[0m: Adding directory to artifact (/pscratch/sd/g/gupsingh/wandb/run-20240215_004354-twnpiqhm/files/model-best)... Done. 0.2s\n"
     ]
    },
    {
     "name": "stdout",
     "output_type": "stream",
     "text": [
      "13456/13456 [==============================] - 54s 4ms/step - loss: 0.1533 - accuracy: 0.9395 - val_loss: 0.1519 - val_accuracy: 0.9401\n",
      "Epoch 12/5000\n",
      "13442/13456 [============================>.] - ETA: 0s - loss: 0.1531 - accuracy: 0.9396"
     ]
    },
    {
     "name": "stderr",
     "output_type": "stream",
     "text": [
      "/global/homes/g/gupsingh/.conda/envs/research/lib/python3.11/site-packages/keras/src/engine/training.py:3103: UserWarning: You are saving your model as an HDF5 file via `model.save()`. This file format is considered legacy. We recommend using instead the native Keras format, e.g. `model.save('my_model.keras')`.\n",
      "  saving_api.save_model(\n"
     ]
    },
    {
     "name": "stdout",
     "output_type": "stream",
     "text": [
      "INFO:tensorflow:Assets written to: /pscratch/sd/g/gupsingh/wandb/run-20240215_004354-twnpiqhm/files/model-best/assets\n"
     ]
    },
    {
     "name": "stderr",
     "output_type": "stream",
     "text": [
      "INFO:tensorflow:Assets written to: /pscratch/sd/g/gupsingh/wandb/run-20240215_004354-twnpiqhm/files/model-best/assets\n",
      "\u001b[34m\u001b[1mwandb\u001b[0m: Adding directory to artifact (/pscratch/sd/g/gupsingh/wandb/run-20240215_004354-twnpiqhm/files/model-best)... Done. 0.1s\n"
     ]
    },
    {
     "name": "stdout",
     "output_type": "stream",
     "text": [
      "13456/13456 [==============================] - 54s 4ms/step - loss: 0.1531 - accuracy: 0.9396 - val_loss: 0.1517 - val_accuracy: 0.9402\n",
      "Epoch 13/5000\n",
      "13444/13456 [============================>.] - ETA: 0s - loss: 0.1530 - accuracy: 0.9396"
     ]
    },
    {
     "name": "stderr",
     "output_type": "stream",
     "text": [
      "/global/homes/g/gupsingh/.conda/envs/research/lib/python3.11/site-packages/keras/src/engine/training.py:3103: UserWarning: You are saving your model as an HDF5 file via `model.save()`. This file format is considered legacy. We recommend using instead the native Keras format, e.g. `model.save('my_model.keras')`.\n",
      "  saving_api.save_model(\n"
     ]
    },
    {
     "name": "stdout",
     "output_type": "stream",
     "text": [
      "INFO:tensorflow:Assets written to: /pscratch/sd/g/gupsingh/wandb/run-20240215_004354-twnpiqhm/files/model-best/assets\n"
     ]
    },
    {
     "name": "stderr",
     "output_type": "stream",
     "text": [
      "INFO:tensorflow:Assets written to: /pscratch/sd/g/gupsingh/wandb/run-20240215_004354-twnpiqhm/files/model-best/assets\n",
      "\u001b[34m\u001b[1mwandb\u001b[0m: Adding directory to artifact (/pscratch/sd/g/gupsingh/wandb/run-20240215_004354-twnpiqhm/files/model-best)... Done. 0.0s\n"
     ]
    },
    {
     "name": "stdout",
     "output_type": "stream",
     "text": [
      "13456/13456 [==============================] - 54s 4ms/step - loss: 0.1530 - accuracy: 0.9396 - val_loss: 0.1516 - val_accuracy: 0.9402\n",
      "Epoch 14/5000\n",
      "13456/13456 [==============================] - ETA: 0s - loss: 0.1528 - accuracy: 0.9397"
     ]
    },
    {
     "name": "stderr",
     "output_type": "stream",
     "text": [
      "/global/homes/g/gupsingh/.conda/envs/research/lib/python3.11/site-packages/keras/src/engine/training.py:3103: UserWarning: You are saving your model as an HDF5 file via `model.save()`. This file format is considered legacy. We recommend using instead the native Keras format, e.g. `model.save('my_model.keras')`.\n",
      "  saving_api.save_model(\n"
     ]
    },
    {
     "name": "stdout",
     "output_type": "stream",
     "text": [
      "INFO:tensorflow:Assets written to: /pscratch/sd/g/gupsingh/wandb/run-20240215_004354-twnpiqhm/files/model-best/assets\n"
     ]
    },
    {
     "name": "stderr",
     "output_type": "stream",
     "text": [
      "INFO:tensorflow:Assets written to: /pscratch/sd/g/gupsingh/wandb/run-20240215_004354-twnpiqhm/files/model-best/assets\n",
      "\u001b[34m\u001b[1mwandb\u001b[0m: Adding directory to artifact (/pscratch/sd/g/gupsingh/wandb/run-20240215_004354-twnpiqhm/files/model-best)... Done. 0.2s\n"
     ]
    },
    {
     "name": "stdout",
     "output_type": "stream",
     "text": [
      "13456/13456 [==============================] - 55s 4ms/step - loss: 0.1528 - accuracy: 0.9397 - val_loss: 0.1513 - val_accuracy: 0.9404\n",
      "Epoch 15/5000\n",
      "13456/13456 [==============================] - 53s 4ms/step - loss: 0.1527 - accuracy: 0.9397 - val_loss: 0.1516 - val_accuracy: 0.9402\n",
      "Epoch 16/5000\n",
      "13442/13456 [============================>.] - ETA: 0s - loss: 0.1526 - accuracy: 0.9398"
     ]
    },
    {
     "name": "stderr",
     "output_type": "stream",
     "text": [
      "/global/homes/g/gupsingh/.conda/envs/research/lib/python3.11/site-packages/keras/src/engine/training.py:3103: UserWarning: You are saving your model as an HDF5 file via `model.save()`. This file format is considered legacy. We recommend using instead the native Keras format, e.g. `model.save('my_model.keras')`.\n",
      "  saving_api.save_model(\n"
     ]
    },
    {
     "name": "stdout",
     "output_type": "stream",
     "text": [
      "INFO:tensorflow:Assets written to: /pscratch/sd/g/gupsingh/wandb/run-20240215_004354-twnpiqhm/files/model-best/assets\n"
     ]
    },
    {
     "name": "stderr",
     "output_type": "stream",
     "text": [
      "INFO:tensorflow:Assets written to: /pscratch/sd/g/gupsingh/wandb/run-20240215_004354-twnpiqhm/files/model-best/assets\n",
      "\u001b[34m\u001b[1mwandb\u001b[0m: Adding directory to artifact (/pscratch/sd/g/gupsingh/wandb/run-20240215_004354-twnpiqhm/files/model-best)... Done. 0.4s\n"
     ]
    },
    {
     "name": "stdout",
     "output_type": "stream",
     "text": [
      "13456/13456 [==============================] - 54s 4ms/step - loss: 0.1525 - accuracy: 0.9398 - val_loss: 0.1512 - val_accuracy: 0.9403\n",
      "Epoch 17/5000\n",
      "13452/13456 [============================>.] - ETA: 0s - loss: 0.1524 - accuracy: 0.9398"
     ]
    },
    {
     "name": "stderr",
     "output_type": "stream",
     "text": [
      "/global/homes/g/gupsingh/.conda/envs/research/lib/python3.11/site-packages/keras/src/engine/training.py:3103: UserWarning: You are saving your model as an HDF5 file via `model.save()`. This file format is considered legacy. We recommend using instead the native Keras format, e.g. `model.save('my_model.keras')`.\n",
      "  saving_api.save_model(\n"
     ]
    },
    {
     "name": "stdout",
     "output_type": "stream",
     "text": [
      "INFO:tensorflow:Assets written to: /pscratch/sd/g/gupsingh/wandb/run-20240215_004354-twnpiqhm/files/model-best/assets\n"
     ]
    },
    {
     "name": "stderr",
     "output_type": "stream",
     "text": [
      "INFO:tensorflow:Assets written to: /pscratch/sd/g/gupsingh/wandb/run-20240215_004354-twnpiqhm/files/model-best/assets\n",
      "\u001b[34m\u001b[1mwandb\u001b[0m: Adding directory to artifact (/pscratch/sd/g/gupsingh/wandb/run-20240215_004354-twnpiqhm/files/model-best)... Done. 0.0s\n"
     ]
    },
    {
     "name": "stdout",
     "output_type": "stream",
     "text": [
      "13456/13456 [==============================] - 54s 4ms/step - loss: 0.1524 - accuracy: 0.9398 - val_loss: 0.1511 - val_accuracy: 0.9404\n",
      "Epoch 18/5000\n",
      "13456/13456 [==============================] - 53s 4ms/step - loss: 0.1523 - accuracy: 0.9398 - val_loss: 0.1512 - val_accuracy: 0.9403\n",
      "Epoch 19/5000\n",
      "13455/13456 [============================>.] - ETA: 0s - loss: 0.1522 - accuracy: 0.9399"
     ]
    },
    {
     "name": "stderr",
     "output_type": "stream",
     "text": [
      "/global/homes/g/gupsingh/.conda/envs/research/lib/python3.11/site-packages/keras/src/engine/training.py:3103: UserWarning: You are saving your model as an HDF5 file via `model.save()`. This file format is considered legacy. We recommend using instead the native Keras format, e.g. `model.save('my_model.keras')`.\n",
      "  saving_api.save_model(\n"
     ]
    },
    {
     "name": "stdout",
     "output_type": "stream",
     "text": [
      "INFO:tensorflow:Assets written to: /pscratch/sd/g/gupsingh/wandb/run-20240215_004354-twnpiqhm/files/model-best/assets\n"
     ]
    },
    {
     "name": "stderr",
     "output_type": "stream",
     "text": [
      "INFO:tensorflow:Assets written to: /pscratch/sd/g/gupsingh/wandb/run-20240215_004354-twnpiqhm/files/model-best/assets\n",
      "\u001b[34m\u001b[1mwandb\u001b[0m: Adding directory to artifact (/pscratch/sd/g/gupsingh/wandb/run-20240215_004354-twnpiqhm/files/model-best)... Done. 0.1s\n"
     ]
    },
    {
     "name": "stdout",
     "output_type": "stream",
     "text": [
      "13456/13456 [==============================] - 56s 4ms/step - loss: 0.1522 - accuracy: 0.9399 - val_loss: 0.1511 - val_accuracy: 0.9405\n",
      "Epoch 20/5000\n",
      "13453/13456 [============================>.] - ETA: 0s - loss: 0.1521 - accuracy: 0.9400"
     ]
    },
    {
     "name": "stderr",
     "output_type": "stream",
     "text": [
      "/global/homes/g/gupsingh/.conda/envs/research/lib/python3.11/site-packages/keras/src/engine/training.py:3103: UserWarning: You are saving your model as an HDF5 file via `model.save()`. This file format is considered legacy. We recommend using instead the native Keras format, e.g. `model.save('my_model.keras')`.\n",
      "  saving_api.save_model(\n"
     ]
    },
    {
     "name": "stdout",
     "output_type": "stream",
     "text": [
      "INFO:tensorflow:Assets written to: /pscratch/sd/g/gupsingh/wandb/run-20240215_004354-twnpiqhm/files/model-best/assets\n"
     ]
    },
    {
     "name": "stderr",
     "output_type": "stream",
     "text": [
      "INFO:tensorflow:Assets written to: /pscratch/sd/g/gupsingh/wandb/run-20240215_004354-twnpiqhm/files/model-best/assets\n",
      "\u001b[34m\u001b[1mwandb\u001b[0m: Adding directory to artifact (/pscratch/sd/g/gupsingh/wandb/run-20240215_004354-twnpiqhm/files/model-best)... Done. 0.1s\n"
     ]
    },
    {
     "name": "stdout",
     "output_type": "stream",
     "text": [
      "13456/13456 [==============================] - 53s 4ms/step - loss: 0.1521 - accuracy: 0.9400 - val_loss: 0.1510 - val_accuracy: 0.9405\n",
      "Epoch 21/5000\n",
      "13456/13456 [==============================] - 52s 4ms/step - loss: 0.1520 - accuracy: 0.9400 - val_loss: 0.1510 - val_accuracy: 0.9405\n",
      "Epoch 22/5000\n",
      "13455/13456 [============================>.] - ETA: 0s - loss: 0.1520 - accuracy: 0.9400"
     ]
    },
    {
     "name": "stderr",
     "output_type": "stream",
     "text": [
      "/global/homes/g/gupsingh/.conda/envs/research/lib/python3.11/site-packages/keras/src/engine/training.py:3103: UserWarning: You are saving your model as an HDF5 file via `model.save()`. This file format is considered legacy. We recommend using instead the native Keras format, e.g. `model.save('my_model.keras')`.\n",
      "  saving_api.save_model(\n"
     ]
    },
    {
     "name": "stdout",
     "output_type": "stream",
     "text": [
      "INFO:tensorflow:Assets written to: /pscratch/sd/g/gupsingh/wandb/run-20240215_004354-twnpiqhm/files/model-best/assets\n"
     ]
    },
    {
     "name": "stderr",
     "output_type": "stream",
     "text": [
      "INFO:tensorflow:Assets written to: /pscratch/sd/g/gupsingh/wandb/run-20240215_004354-twnpiqhm/files/model-best/assets\n",
      "\u001b[34m\u001b[1mwandb\u001b[0m: Adding directory to artifact (/pscratch/sd/g/gupsingh/wandb/run-20240215_004354-twnpiqhm/files/model-best)... Done. 0.4s\n"
     ]
    },
    {
     "name": "stdout",
     "output_type": "stream",
     "text": [
      "13456/13456 [==============================] - 54s 4ms/step - loss: 0.1520 - accuracy: 0.9400 - val_loss: 0.1508 - val_accuracy: 0.9406\n",
      "Epoch 23/5000\n",
      "13456/13456 [==============================] - 52s 4ms/step - loss: 0.1519 - accuracy: 0.9400 - val_loss: 0.1511 - val_accuracy: 0.9404\n",
      "Epoch 24/5000\n",
      "13456/13456 [==============================] - 52s 4ms/step - loss: 0.1518 - accuracy: 0.9401 - val_loss: 0.1510 - val_accuracy: 0.9404\n",
      "Epoch 25/5000\n",
      "13456/13456 [==============================] - 52s 4ms/step - loss: 0.1517 - accuracy: 0.9401 - val_loss: 0.1508 - val_accuracy: 0.9405\n",
      "Epoch 26/5000\n",
      "13456/13456 [==============================] - 53s 4ms/step - loss: 0.1517 - accuracy: 0.9401 - val_loss: 0.1510 - val_accuracy: 0.9404\n",
      "Epoch 27/5000\n",
      "13456/13456 [==============================] - 53s 4ms/step - loss: 0.1516 - accuracy: 0.9402 - val_loss: 0.1511 - val_accuracy: 0.9404\n"
     ]
    },
    {
     "name": "stderr",
     "output_type": "stream",
     "text": [
      "wandb: WARNING Source type is set to 'repo' but some required information is missing from the environment. A job will not be created from this run. See https://docs.wandb.ai/guides/launch/create-job\n"
     ]
    },
    {
     "data": {
      "text/html": [
       "W&B sync reduced upload amount by 2.0%             "
      ],
      "text/plain": [
       "<IPython.core.display.HTML object>"
      ]
     },
     "metadata": {},
     "output_type": "display_data"
    },
    {
     "data": {
      "text/html": [
       "<style>\n",
       "    table.wandb td:nth-child(1) { padding: 0 10px; text-align: left ; width: auto;} td:nth-child(2) {text-align: left ; width: 100%}\n",
       "    .wandb-row { display: flex; flex-direction: row; flex-wrap: wrap; justify-content: flex-start; width: 100% }\n",
       "    .wandb-col { display: flex; flex-direction: column; flex-basis: 100%; flex: 1; padding: 10px; }\n",
       "    </style>\n",
       "<div class=\"wandb-row\"><div class=\"wandb-col\"><h3>Run history:</h3><br/><table class=\"wandb\"><tr><td>accuracy</td><td>▁▆▇▇▇▇▇▇▇▇█████████████████</td></tr><tr><td>epoch</td><td>▁▁▂▂▂▂▃▃▃▃▄▄▄▅▅▅▅▆▆▆▆▇▇▇▇██</td></tr><tr><td>loss</td><td>█▃▂▂▂▂▂▂▂▂▁▁▁▁▁▁▁▁▁▁▁▁▁▁▁▁▁</td></tr><tr><td>val_accuracy</td><td>▁▄▅▅▆▆▆▇▇▇▇▇▇█▇▇█▇█████████</td></tr><tr><td>val_loss</td><td>█▅▄▄▃▃▃▂▂▂▂▂▂▁▂▁▁▁▁▁▁▁▁▁▁▁▁</td></tr></table><br/></div><div class=\"wandb-col\"><h3>Run summary:</h3><br/><table class=\"wandb\"><tr><td>accuracy</td><td>0.94019</td></tr><tr><td>best_epoch</td><td>21</td></tr><tr><td>best_val_loss</td><td>0.15077</td></tr><tr><td>epoch</td><td>26</td></tr><tr><td>loss</td><td>0.15159</td></tr><tr><td>val_accuracy</td><td>0.94042</td></tr><tr><td>val_loss</td><td>0.15106</td></tr></table><br/></div></div>"
      ],
      "text/plain": [
       "<IPython.core.display.HTML object>"
      ]
     },
     "metadata": {},
     "output_type": "display_data"
    },
    {
     "data": {
      "text/html": [
       " View run <strong style=\"color:#cdcd00\">breathless-flower-61</strong> at: <a href='https://wandb.ai/gup-singh/SemiWeakly/runs/twnpiqhm' target=\"_blank\">https://wandb.ai/gup-singh/SemiWeakly/runs/twnpiqhm</a><br/>Synced 5 W&B file(s), 1 media file(s), 95 artifact file(s) and 1 other file(s)"
      ],
      "text/plain": [
       "<IPython.core.display.HTML object>"
      ]
     },
     "metadata": {},
     "output_type": "display_data"
    },
    {
     "data": {
      "text/html": [
       "Find logs at: <code>/pscratch/sd/g/gupsingh/wandb/run-20240215_004354-twnpiqhm/logs</code>"
      ],
      "text/plain": [
       "<IPython.core.display.HTML object>"
      ]
     },
     "metadata": {},
     "output_type": "display_data"
    },
    {
     "name": "stdout",
     "output_type": "stream",
     "text": [
      "INFO:tensorflow:Assets written to: /pscratch/sd/g/gupsingh/breathless-flower-61qqq/assets\n"
     ]
    },
    {
     "name": "stderr",
     "output_type": "stream",
     "text": [
      "INFO:tensorflow:Assets written to: /pscratch/sd/g/gupsingh/breathless-flower-61qqq/assets\n"
     ]
    }
   ],
   "source": [
    "import wandb\n",
    "from tensorflow.keras.models import Sequential\n",
    "from tensorflow.keras.layers import Dense, BatchNormalization\n",
    "from wandb.keras import WandbCallback\n",
    "\n",
    "\n",
    "pscratch_dir = \"/pscratch/sd/g/gupsingh/\"\n",
    "os.environ[\"WANDB_DIR\"] = pscratch_dir\n",
    "\n",
    "config = {\n",
    "    \"layer_1_neurons\": 256,\n",
    "    \"layer_2_neurons\": 128,\n",
    "    \"layer_3_neurons\": 64,\n",
    "    \"output_neurons\": 1,\n",
    "    \"activation\": \"relu\",\n",
    "    \"output_activation\": \"sigmoid\",\n",
    "    \"optimizer\": \"adam\",\n",
    "    \"learning_rate\": 0.0001,\n",
    "    \"loss\": \"binary_crossentropy\",\n",
    "    \"epochs\": 5000,\n",
    "    \"batch_size\": 1024\n",
    "}\n",
    "\n",
    "wandb.init(project=\"SemiWeakly\", \n",
    "           group=\"Parametrized\", \n",
    "           entity='gup-singh',\n",
    "           mode = 'online',\n",
    "           config=config)\n",
    "\n",
    "config = wandb.config\n",
    "run_name = wandb.run.name\n",
    "\n",
    "es = tf.keras.callbacks.EarlyStopping(monitor='val_loss', patience=5)\n",
    "\n",
    "def train_parametrized(X_train, Y_train, X_val, Y_val, config, return_history=False):\n",
    "    model_parametrized = Sequential()\n",
    "    model_parametrized.add(Dense(config[\"layer_1_neurons\"], input_dim=np.shape(X_train)[1], activation=config[\"activation\"]))\n",
    "    model_parametrized.add(BatchNormalization())\n",
    "    model_parametrized.add(Dense(config[\"layer_2_neurons\"], activation=config[\"activation\"]))\n",
    "    model_parametrized.add(BatchNormalization())\n",
    "    model_parametrized.add(Dense(config[\"layer_3_neurons\"], activation=config[\"activation\"]))\n",
    "    model_parametrized.add(BatchNormalization())\n",
    "    model_parametrized.add(Dense(config.output_neurons, activation=config[\"output_activation\"]))\n",
    "    model_parametrized.compile(loss=config[\"loss\"], optimizer=tf.keras.optimizers.Adam(learning_rate=config[\"learning_rate\"]), metrics=['accuracy'])\n",
    "\n",
    "    with tf.device('/GPU:0'):\n",
    "        history_parametrized = model_parametrized.fit(X_train, Y_train, epochs=config.epochs, validation_data=(X_val, Y_val), batch_size=config.batch_size, callbacks=[es, WandbCallback()])\n",
    "        \n",
    "    if return_history:\n",
    "        return model_parametrized, history_parametrized\n",
    "    else:\n",
    "        return model_parametrized\n",
    "\n",
    "model_parametrized, history_parametrized = train_parametrized(X_train_qqq, Y_train_qqq, X_val_qqq, Y_val_qqq, config, return_history=True)\n",
    "\n",
    "wandb.finish()\n",
    "\n",
    "model_parametrized.save(pscratch_dir + run_name + qq)\n",
    "#model_parametrized.save(pscratch_dir+\"normal\")"
   ]
  },
  {
   "cell_type": "code",
   "execution_count": null,
   "id": "93cc65bf-55f2-4c03-b79e-5306e8c7c1e8",
   "metadata": {},
   "outputs": [],
   "source": [
    "num_epochs = len(history_parametrized[\"loss\"])\n",
    "val_accuracy = model_parametrized['val_accuracy']\n",
    "send_slack_message(f\"Notebook Parametrized Training Finished - Epochs: {num_epochs} - Validation Accuracy: {val_accuracy}\")"
   ]
  },
  {
   "cell_type": "code",
   "execution_count": 22,
   "id": "1cc1d496-8476-4e96-a552-30d59b680973",
   "metadata": {},
   "outputs": [
    {
     "data": {
      "image/png": "[encoded data removed]",
      "text/plain": [
       "<Figure size 640x480 with 1 Axes>"
      ]
     },
     "metadata": {},
     "output_type": "display_data"
    },
    {
     "name": "stderr",
     "output_type": "stream",
     "text": [
      "/global/homes/g/gupsingh/.conda/envs/research/lib/python3.11/site-packages/slack_sdk/web/internal_utils.py:417: UserWarning: client.files_upload() may cause some issues like timeouts for relatively large files. Our latest recommendation is to use client.files_upload_v2(), which is mostly compatible and much stabler, instead.\n",
      "  warnings.warn(message)\n"
     ]
    },
    {
     "name": "stdout",
     "output_type": "stream",
     "text": [
      "Plot sent successfully: None\n"
     ]
    }
   ],
   "source": [
    "#Diagonistic Plot\n",
    "plt.figure()\n",
    "plt.plot(history_parametrized.history['loss'], label='Training Loss')\n",
    "plt.plot(history_parametrized.history['val_loss'], label='Validation Loss')\n",
    "plt.xlabel('Epoch')\n",
    "plt.ylabel('Loss')\n",
    "plt.title('Training and Validation Loss')\n",
    "img_path = \"plots/parametrized_trainingloss.png\"\n",
    "plt.savefig(img_path)\n",
    "plt.legend()\n",
    "plt.show()\n",
    "\n",
    "from utils import send_slack_plot\n",
    "send_slack_plot(img_path)"
   ]
  },
  {
   "cell_type": "code",
   "execution_count": 42,
   "id": "0c520b8c-0a1b-4e13-a1f8-10b75478abbd",
   "metadata": {
    "tags": []
   },
   "outputs": [
    {
     "name": "stdout",
     "output_type": "stream",
     "text": [
      "Epoch 1/5000\n"
     ]
    },
    {
     "name": "stderr",
     "output_type": "stream",
     "text": [
      "2024-02-15 14:15:41.134753: I external/local_xla/xla/service/service.cc:168] XLA service 0x7f8aaffd7de0 initialized for platform CUDA (this does not guarantee that XLA will be used). Devices:\n",
      "2024-02-15 14:15:41.134774: I external/local_xla/xla/service/service.cc:176]   StreamExecutor device (0): NVIDIA A100-SXM4-80GB, Compute Capability 8.0\n",
      "2024-02-15 14:15:41.145433: I tensorflow/compiler/mlir/tensorflow/utils/dump_mlir_util.cc:269] disabling MLIR crash reproducer, set env var `MLIR_CRASH_REPRODUCER_DIRECTORY` to enable.\n",
      "2024-02-15 14:15:41.463640: I external/local_xla/xla/stream_executor/cuda/cuda_dnn.cc:454] Loaded cuDNN version 8800\n",
      "WARNING: All log messages before absl::InitializeLog() is called are written to STDERR\n",
      "I0000 00:00:1708035341.552828  970767 device_compiler.h:186] Compiled cluster using XLA!  This line is logged at most once for the lifetime of the process.\n"
     ]
    },
    {
     "name": "stdout",
     "output_type": "stream",
     "text": [
      "2662/2662 [==============================] - 16s 4ms/step - loss: 0.2517 - accuracy: 0.9015 - val_loss: 0.2033 - val_accuracy: 0.9239\n",
      "Epoch 2/5000\n",
      "2662/2662 [==============================] - 11s 4ms/step - loss: 0.1927 - accuracy: 0.9272 - val_loss: 0.1829 - val_accuracy: 0.9301\n",
      "Epoch 3/5000\n",
      "2662/2662 [==============================] - 11s 4ms/step - loss: 0.1773 - accuracy: 0.9318 - val_loss: 0.1718 - val_accuracy: 0.9336\n",
      "Epoch 4/5000\n",
      "2662/2662 [==============================] - 11s 4ms/step - loss: 0.1685 - accuracy: 0.9347 - val_loss: 0.1650 - val_accuracy: 0.9360\n",
      "Epoch 5/5000\n",
      "2662/2662 [==============================] - 11s 4ms/step - loss: 0.1629 - accuracy: 0.9369 - val_loss: 0.1603 - val_accuracy: 0.9379\n",
      "Epoch 6/5000\n",
      "2662/2662 [==============================] - 11s 4ms/step - loss: 0.1587 - accuracy: 0.9386 - val_loss: 0.1566 - val_accuracy: 0.9394\n",
      "Epoch 7/5000\n",
      "2662/2662 [==============================] - 11s 4ms/step - loss: 0.1556 - accuracy: 0.9398 - val_loss: 0.1541 - val_accuracy: 0.9404\n",
      "Epoch 8/5000\n",
      "2662/2662 [==============================] - 11s 4ms/step - loss: 0.1532 - accuracy: 0.9408 - val_loss: 0.1518 - val_accuracy: 0.9414\n",
      "Epoch 9/5000\n",
      "2662/2662 [==============================] - 11s 4ms/step - loss: 0.1513 - accuracy: 0.9416 - val_loss: 0.1501 - val_accuracy: 0.9420\n",
      "Epoch 10/5000\n",
      "2662/2662 [==============================] - 11s 4ms/step - loss: 0.1498 - accuracy: 0.9422 - val_loss: 0.1488 - val_accuracy: 0.9425\n",
      "Epoch 11/5000\n",
      "2662/2662 [==============================] - 11s 4ms/step - loss: 0.1485 - accuracy: 0.9427 - val_loss: 0.1476 - val_accuracy: 0.9429\n",
      "Epoch 12/5000\n",
      "2662/2662 [==============================] - 11s 4ms/step - loss: 0.1474 - accuracy: 0.9431 - val_loss: 0.1464 - val_accuracy: 0.9434\n",
      "Epoch 13/5000\n",
      "2662/2662 [==============================] - 11s 4ms/step - loss: 0.1464 - accuracy: 0.9435 - val_loss: 0.1457 - val_accuracy: 0.9437\n",
      "Epoch 14/5000\n",
      "2662/2662 [==============================] - 11s 4ms/step - loss: 0.1455 - accuracy: 0.9438 - val_loss: 0.1448 - val_accuracy: 0.9440\n",
      "Epoch 15/5000\n",
      "2662/2662 [==============================] - 11s 4ms/step - loss: 0.1448 - accuracy: 0.9441 - val_loss: 0.1441 - val_accuracy: 0.9443\n",
      "Epoch 16/5000\n",
      "2662/2662 [==============================] - 11s 4ms/step - loss: 0.1441 - accuracy: 0.9444 - val_loss: 0.1434 - val_accuracy: 0.9445\n",
      "Epoch 17/5000\n",
      "2662/2662 [==============================] - 11s 4ms/step - loss: 0.1435 - accuracy: 0.9446 - val_loss: 0.1428 - val_accuracy: 0.9447\n",
      "Epoch 18/5000\n",
      "2662/2662 [==============================] - 11s 4ms/step - loss: 0.1429 - accuracy: 0.9448 - val_loss: 0.1423 - val_accuracy: 0.9450\n",
      "Epoch 19/5000\n",
      "2662/2662 [==============================] - 11s 4ms/step - loss: 0.1424 - accuracy: 0.9450 - val_loss: 0.1418 - val_accuracy: 0.9451\n",
      "Epoch 20/5000\n",
      "2662/2662 [==============================] - 11s 4ms/step - loss: 0.1419 - accuracy: 0.9452 - val_loss: 0.1413 - val_accuracy: 0.9454\n",
      "Epoch 21/5000\n",
      "2662/2662 [==============================] - 11s 4ms/step - loss: 0.1415 - accuracy: 0.9453 - val_loss: 0.1409 - val_accuracy: 0.9455\n",
      "Epoch 22/5000\n",
      "2662/2662 [==============================] - 11s 4ms/step - loss: 0.1411 - accuracy: 0.9455 - val_loss: 0.1405 - val_accuracy: 0.9456\n",
      "Epoch 23/5000\n",
      "2662/2662 [==============================] - 11s 4ms/step - loss: 0.1408 - accuracy: 0.9456 - val_loss: 0.1402 - val_accuracy: 0.9458\n",
      "Epoch 24/5000\n",
      " 358/2662 [===>..........................] - ETA: 6s - loss: 0.1404 - accuracy: 0.9456"
     ]
    },
    {
     "ename": "KeyboardInterrupt",
     "evalue": "",
     "output_type": "error",
     "traceback": [
      "\u001b[0;31m---------------------------------------------------------------------------\u001b[0m",
      "\u001b[0;31mKeyboardInterrupt\u001b[0m                         Traceback (most recent call last)",
      "Cell \u001b[0;32mIn[42], line 14\u001b[0m\n\u001b[1;32m     11\u001b[0m opt \u001b[38;5;241m=\u001b[39m tf\u001b[38;5;241m.\u001b[39mkeras\u001b[38;5;241m.\u001b[39moptimizers\u001b[38;5;241m.\u001b[39mAdam(learning_rate\u001b[38;5;241m=\u001b[39m\u001b[38;5;241m0.00001\u001b[39m)\n\u001b[1;32m     12\u001b[0m model_qq\u001b[38;5;241m.\u001b[39mcompile(loss\u001b[38;5;241m=\u001b[39m\u001b[38;5;124m'\u001b[39m\u001b[38;5;124mbinary_crossentropy\u001b[39m\u001b[38;5;124m'\u001b[39m, optimizer\u001b[38;5;241m=\u001b[39mopt, metrics\u001b[38;5;241m=\u001b[39m[\u001b[38;5;124m'\u001b[39m\u001b[38;5;124maccuracy\u001b[39m\u001b[38;5;124m'\u001b[39m])\n\u001b[0;32m---> 14\u001b[0m myhistory_qq \u001b[38;5;241m=\u001b[39m \u001b[43mmodel_qq\u001b[49m\u001b[38;5;241;43m.\u001b[39;49m\u001b[43mfit\u001b[49m\u001b[43m(\u001b[49m\u001b[43mX_train_qq\u001b[49m\u001b[43m,\u001b[49m\u001b[43m \u001b[49m\u001b[43mY_train_qq\u001b[49m\u001b[43m,\u001b[49m\u001b[43m \u001b[49m\u001b[43mepochs\u001b[49m\u001b[38;5;241;43m=\u001b[39;49m\u001b[38;5;241;43m5000\u001b[39;49m\u001b[43m,\u001b[49m\u001b[43mvalidation_data\u001b[49m\u001b[38;5;241;43m=\u001b[39;49m\u001b[43m(\u001b[49m\u001b[43mX_val_qq\u001b[49m\u001b[43m,\u001b[49m\u001b[43m \u001b[49m\u001b[43mY_val_qq\u001b[49m\u001b[43m)\u001b[49m\u001b[43m,\u001b[49m\u001b[43mbatch_size\u001b[49m\u001b[38;5;241;43m=\u001b[39;49m\u001b[38;5;241;43m5\u001b[39;49m\u001b[38;5;241;43m*\u001b[39;49m\u001b[38;5;241;43m1024\u001b[39;49m\u001b[43m,\u001b[49m\u001b[43mcallbacks\u001b[49m\u001b[38;5;241;43m=\u001b[39;49m\u001b[43m[\u001b[49m\u001b[43mes\u001b[49m\u001b[43m]\u001b[49m\u001b[43m)\u001b[49m\n",
      "File \u001b[0;32m~/.conda/envs/research/lib/python3.11/site-packages/keras/src/utils/traceback_utils.py:65\u001b[0m, in \u001b[0;36mfilter_traceback.<locals>.error_handler\u001b[0;34m(*args, **kwargs)\u001b[0m\n\u001b[1;32m     63\u001b[0m filtered_tb \u001b[38;5;241m=\u001b[39m \u001b[38;5;28;01mNone\u001b[39;00m\n\u001b[1;32m     64\u001b[0m \u001b[38;5;28;01mtry\u001b[39;00m:\n\u001b[0;32m---> 65\u001b[0m     \u001b[38;5;28;01mreturn\u001b[39;00m \u001b[43mfn\u001b[49m\u001b[43m(\u001b[49m\u001b[38;5;241;43m*\u001b[39;49m\u001b[43margs\u001b[49m\u001b[43m,\u001b[49m\u001b[43m \u001b[49m\u001b[38;5;241;43m*\u001b[39;49m\u001b[38;5;241;43m*\u001b[39;49m\u001b[43mkwargs\u001b[49m\u001b[43m)\u001b[49m\n\u001b[1;32m     66\u001b[0m \u001b[38;5;28;01mexcept\u001b[39;00m \u001b[38;5;167;01mException\u001b[39;00m \u001b[38;5;28;01mas\u001b[39;00m e:\n\u001b[1;32m     67\u001b[0m     filtered_tb \u001b[38;5;241m=\u001b[39m _process_traceback_frames(e\u001b[38;5;241m.\u001b[39m__traceback__)\n",
      "File \u001b[0;32m~/.conda/envs/research/lib/python3.11/site-packages/keras/src/engine/training.py:1807\u001b[0m, in \u001b[0;36mModel.fit\u001b[0;34m(self, x, y, batch_size, epochs, verbose, callbacks, validation_split, validation_data, shuffle, class_weight, sample_weight, initial_epoch, steps_per_epoch, validation_steps, validation_batch_size, validation_freq, max_queue_size, workers, use_multiprocessing)\u001b[0m\n\u001b[1;32m   1799\u001b[0m \u001b[38;5;28;01mwith\u001b[39;00m tf\u001b[38;5;241m.\u001b[39mprofiler\u001b[38;5;241m.\u001b[39mexperimental\u001b[38;5;241m.\u001b[39mTrace(\n\u001b[1;32m   1800\u001b[0m     \u001b[38;5;124m\"\u001b[39m\u001b[38;5;124mtrain\u001b[39m\u001b[38;5;124m\"\u001b[39m,\n\u001b[1;32m   1801\u001b[0m     epoch_num\u001b[38;5;241m=\u001b[39mepoch,\n\u001b[0;32m   (...)\u001b[0m\n\u001b[1;32m   1804\u001b[0m     _r\u001b[38;5;241m=\u001b[39m\u001b[38;5;241m1\u001b[39m,\n\u001b[1;32m   1805\u001b[0m ):\n\u001b[1;32m   1806\u001b[0m     callbacks\u001b[38;5;241m.\u001b[39mon_train_batch_begin(step)\n\u001b[0;32m-> 1807\u001b[0m     tmp_logs \u001b[38;5;241m=\u001b[39m \u001b[38;5;28;43mself\u001b[39;49m\u001b[38;5;241;43m.\u001b[39;49m\u001b[43mtrain_function\u001b[49m\u001b[43m(\u001b[49m\u001b[43miterator\u001b[49m\u001b[43m)\u001b[49m\n\u001b[1;32m   1808\u001b[0m     \u001b[38;5;28;01mif\u001b[39;00m data_handler\u001b[38;5;241m.\u001b[39mshould_sync:\n\u001b[1;32m   1809\u001b[0m         context\u001b[38;5;241m.\u001b[39masync_wait()\n",
      "File \u001b[0;32m~/.conda/envs/research/lib/python3.11/site-packages/tensorflow/python/util/traceback_utils.py:150\u001b[0m, in \u001b[0;36mfilter_traceback.<locals>.error_handler\u001b[0;34m(*args, **kwargs)\u001b[0m\n\u001b[1;32m    148\u001b[0m filtered_tb \u001b[38;5;241m=\u001b[39m \u001b[38;5;28;01mNone\u001b[39;00m\n\u001b[1;32m    149\u001b[0m \u001b[38;5;28;01mtry\u001b[39;00m:\n\u001b[0;32m--> 150\u001b[0m   \u001b[38;5;28;01mreturn\u001b[39;00m \u001b[43mfn\u001b[49m\u001b[43m(\u001b[49m\u001b[38;5;241;43m*\u001b[39;49m\u001b[43margs\u001b[49m\u001b[43m,\u001b[49m\u001b[43m \u001b[49m\u001b[38;5;241;43m*\u001b[39;49m\u001b[38;5;241;43m*\u001b[39;49m\u001b[43mkwargs\u001b[49m\u001b[43m)\u001b[49m\n\u001b[1;32m    151\u001b[0m \u001b[38;5;28;01mexcept\u001b[39;00m \u001b[38;5;167;01mException\u001b[39;00m \u001b[38;5;28;01mas\u001b[39;00m e:\n\u001b[1;32m    152\u001b[0m   filtered_tb \u001b[38;5;241m=\u001b[39m _process_traceback_frames(e\u001b[38;5;241m.\u001b[39m__traceback__)\n",
      "File \u001b[0;32m~/.conda/envs/research/lib/python3.11/site-packages/tensorflow/python/eager/polymorphic_function/polymorphic_function.py:832\u001b[0m, in \u001b[0;36mFunction.__call__\u001b[0;34m(self, *args, **kwds)\u001b[0m\n\u001b[1;32m    829\u001b[0m compiler \u001b[38;5;241m=\u001b[39m \u001b[38;5;124m\"\u001b[39m\u001b[38;5;124mxla\u001b[39m\u001b[38;5;124m\"\u001b[39m \u001b[38;5;28;01mif\u001b[39;00m \u001b[38;5;28mself\u001b[39m\u001b[38;5;241m.\u001b[39m_jit_compile \u001b[38;5;28;01melse\u001b[39;00m \u001b[38;5;124m\"\u001b[39m\u001b[38;5;124mnonXla\u001b[39m\u001b[38;5;124m\"\u001b[39m\n\u001b[1;32m    831\u001b[0m \u001b[38;5;28;01mwith\u001b[39;00m OptionalXlaContext(\u001b[38;5;28mself\u001b[39m\u001b[38;5;241m.\u001b[39m_jit_compile):\n\u001b[0;32m--> 832\u001b[0m   result \u001b[38;5;241m=\u001b[39m \u001b[38;5;28;43mself\u001b[39;49m\u001b[38;5;241;43m.\u001b[39;49m\u001b[43m_call\u001b[49m\u001b[43m(\u001b[49m\u001b[38;5;241;43m*\u001b[39;49m\u001b[43margs\u001b[49m\u001b[43m,\u001b[49m\u001b[43m \u001b[49m\u001b[38;5;241;43m*\u001b[39;49m\u001b[38;5;241;43m*\u001b[39;49m\u001b[43mkwds\u001b[49m\u001b[43m)\u001b[49m\n\u001b[1;32m    834\u001b[0m new_tracing_count \u001b[38;5;241m=\u001b[39m \u001b[38;5;28mself\u001b[39m\u001b[38;5;241m.\u001b[39mexperimental_get_tracing_count()\n\u001b[1;32m    835\u001b[0m without_tracing \u001b[38;5;241m=\u001b[39m (tracing_count \u001b[38;5;241m==\u001b[39m new_tracing_count)\n",
      "File \u001b[0;32m~/.conda/envs/research/lib/python3.11/site-packages/tensorflow/python/eager/polymorphic_function/polymorphic_function.py:868\u001b[0m, in \u001b[0;36mFunction._call\u001b[0;34m(self, *args, **kwds)\u001b[0m\n\u001b[1;32m    865\u001b[0m   \u001b[38;5;28mself\u001b[39m\u001b[38;5;241m.\u001b[39m_lock\u001b[38;5;241m.\u001b[39mrelease()\n\u001b[1;32m    866\u001b[0m   \u001b[38;5;66;03m# In this case we have created variables on the first call, so we run the\u001b[39;00m\n\u001b[1;32m    867\u001b[0m   \u001b[38;5;66;03m# defunned version which is guaranteed to never create variables.\u001b[39;00m\n\u001b[0;32m--> 868\u001b[0m   \u001b[38;5;28;01mreturn\u001b[39;00m \u001b[43mtracing_compilation\u001b[49m\u001b[38;5;241;43m.\u001b[39;49m\u001b[43mcall_function\u001b[49m\u001b[43m(\u001b[49m\n\u001b[1;32m    869\u001b[0m \u001b[43m      \u001b[49m\u001b[43margs\u001b[49m\u001b[43m,\u001b[49m\u001b[43m \u001b[49m\u001b[43mkwds\u001b[49m\u001b[43m,\u001b[49m\u001b[43m \u001b[49m\u001b[38;5;28;43mself\u001b[39;49m\u001b[38;5;241;43m.\u001b[39;49m\u001b[43m_no_variable_creation_config\u001b[49m\n\u001b[1;32m    870\u001b[0m \u001b[43m  \u001b[49m\u001b[43m)\u001b[49m\n\u001b[1;32m    871\u001b[0m \u001b[38;5;28;01melif\u001b[39;00m \u001b[38;5;28mself\u001b[39m\u001b[38;5;241m.\u001b[39m_variable_creation_config \u001b[38;5;129;01mis\u001b[39;00m \u001b[38;5;129;01mnot\u001b[39;00m \u001b[38;5;28;01mNone\u001b[39;00m:\n\u001b[1;32m    872\u001b[0m   \u001b[38;5;66;03m# Release the lock early so that multiple threads can perform the call\u001b[39;00m\n\u001b[1;32m    873\u001b[0m   \u001b[38;5;66;03m# in parallel.\u001b[39;00m\n\u001b[1;32m    874\u001b[0m   \u001b[38;5;28mself\u001b[39m\u001b[38;5;241m.\u001b[39m_lock\u001b[38;5;241m.\u001b[39mrelease()\n",
      "File \u001b[0;32m~/.conda/envs/research/lib/python3.11/site-packages/tensorflow/python/eager/polymorphic_function/tracing_compilation.py:139\u001b[0m, in \u001b[0;36mcall_function\u001b[0;34m(args, kwargs, tracing_options)\u001b[0m\n\u001b[1;32m    137\u001b[0m bound_args \u001b[38;5;241m=\u001b[39m function\u001b[38;5;241m.\u001b[39mfunction_type\u001b[38;5;241m.\u001b[39mbind(\u001b[38;5;241m*\u001b[39margs, \u001b[38;5;241m*\u001b[39m\u001b[38;5;241m*\u001b[39mkwargs)\n\u001b[1;32m    138\u001b[0m flat_inputs \u001b[38;5;241m=\u001b[39m function\u001b[38;5;241m.\u001b[39mfunction_type\u001b[38;5;241m.\u001b[39munpack_inputs(bound_args)\n\u001b[0;32m--> 139\u001b[0m \u001b[38;5;28;01mreturn\u001b[39;00m \u001b[43mfunction\u001b[49m\u001b[38;5;241;43m.\u001b[39;49m\u001b[43m_call_flat\u001b[49m\u001b[43m(\u001b[49m\u001b[43m  \u001b[49m\u001b[38;5;66;43;03m# pylint: disable=protected-access\u001b[39;49;00m\n\u001b[1;32m    140\u001b[0m \u001b[43m    \u001b[49m\u001b[43mflat_inputs\u001b[49m\u001b[43m,\u001b[49m\u001b[43m \u001b[49m\u001b[43mcaptured_inputs\u001b[49m\u001b[38;5;241;43m=\u001b[39;49m\u001b[43mfunction\u001b[49m\u001b[38;5;241;43m.\u001b[39;49m\u001b[43mcaptured_inputs\u001b[49m\n\u001b[1;32m    141\u001b[0m \u001b[43m\u001b[49m\u001b[43m)\u001b[49m\n",
      "File \u001b[0;32m~/.conda/envs/research/lib/python3.11/site-packages/tensorflow/python/eager/polymorphic_function/concrete_function.py:1323\u001b[0m, in \u001b[0;36mConcreteFunction._call_flat\u001b[0;34m(self, tensor_inputs, captured_inputs)\u001b[0m\n\u001b[1;32m   1319\u001b[0m possible_gradient_type \u001b[38;5;241m=\u001b[39m gradients_util\u001b[38;5;241m.\u001b[39mPossibleTapeGradientTypes(args)\n\u001b[1;32m   1320\u001b[0m \u001b[38;5;28;01mif\u001b[39;00m (possible_gradient_type \u001b[38;5;241m==\u001b[39m gradients_util\u001b[38;5;241m.\u001b[39mPOSSIBLE_GRADIENT_TYPES_NONE\n\u001b[1;32m   1321\u001b[0m     \u001b[38;5;129;01mand\u001b[39;00m executing_eagerly):\n\u001b[1;32m   1322\u001b[0m   \u001b[38;5;66;03m# No tape is watching; skip to running the function.\u001b[39;00m\n\u001b[0;32m-> 1323\u001b[0m   \u001b[38;5;28;01mreturn\u001b[39;00m \u001b[38;5;28;43mself\u001b[39;49m\u001b[38;5;241;43m.\u001b[39;49m\u001b[43m_inference_function\u001b[49m\u001b[38;5;241;43m.\u001b[39;49m\u001b[43mcall_preflattened\u001b[49m\u001b[43m(\u001b[49m\u001b[43margs\u001b[49m\u001b[43m)\u001b[49m\n\u001b[1;32m   1324\u001b[0m forward_backward \u001b[38;5;241m=\u001b[39m \u001b[38;5;28mself\u001b[39m\u001b[38;5;241m.\u001b[39m_select_forward_and_backward_functions(\n\u001b[1;32m   1325\u001b[0m     args,\n\u001b[1;32m   1326\u001b[0m     possible_gradient_type,\n\u001b[1;32m   1327\u001b[0m     executing_eagerly)\n\u001b[1;32m   1328\u001b[0m forward_function, args_with_tangents \u001b[38;5;241m=\u001b[39m forward_backward\u001b[38;5;241m.\u001b[39mforward()\n",
      "File \u001b[0;32m~/.conda/envs/research/lib/python3.11/site-packages/tensorflow/python/eager/polymorphic_function/atomic_function.py:216\u001b[0m, in \u001b[0;36mAtomicFunction.call_preflattened\u001b[0;34m(self, args)\u001b[0m\n\u001b[1;32m    214\u001b[0m \u001b[38;5;28;01mdef\u001b[39;00m \u001b[38;5;21mcall_preflattened\u001b[39m(\u001b[38;5;28mself\u001b[39m, args: Sequence[core\u001b[38;5;241m.\u001b[39mTensor]) \u001b[38;5;241m-\u001b[39m\u001b[38;5;241m>\u001b[39m Any:\n\u001b[1;32m    215\u001b[0m \u001b[38;5;250m  \u001b[39m\u001b[38;5;124;03m\"\"\"Calls with flattened tensor inputs and returns the structured output.\"\"\"\u001b[39;00m\n\u001b[0;32m--> 216\u001b[0m   flat_outputs \u001b[38;5;241m=\u001b[39m \u001b[38;5;28;43mself\u001b[39;49m\u001b[38;5;241;43m.\u001b[39;49m\u001b[43mcall_flat\u001b[49m\u001b[43m(\u001b[49m\u001b[38;5;241;43m*\u001b[39;49m\u001b[43margs\u001b[49m\u001b[43m)\u001b[49m\n\u001b[1;32m    217\u001b[0m   \u001b[38;5;28;01mreturn\u001b[39;00m \u001b[38;5;28mself\u001b[39m\u001b[38;5;241m.\u001b[39mfunction_type\u001b[38;5;241m.\u001b[39mpack_output(flat_outputs)\n",
      "File \u001b[0;32m~/.conda/envs/research/lib/python3.11/site-packages/tensorflow/python/eager/polymorphic_function/atomic_function.py:251\u001b[0m, in \u001b[0;36mAtomicFunction.call_flat\u001b[0;34m(self, *args)\u001b[0m\n\u001b[1;32m    249\u001b[0m \u001b[38;5;28;01mwith\u001b[39;00m record\u001b[38;5;241m.\u001b[39mstop_recording():\n\u001b[1;32m    250\u001b[0m   \u001b[38;5;28;01mif\u001b[39;00m \u001b[38;5;28mself\u001b[39m\u001b[38;5;241m.\u001b[39m_bound_context\u001b[38;5;241m.\u001b[39mexecuting_eagerly():\n\u001b[0;32m--> 251\u001b[0m     outputs \u001b[38;5;241m=\u001b[39m \u001b[38;5;28;43mself\u001b[39;49m\u001b[38;5;241;43m.\u001b[39;49m\u001b[43m_bound_context\u001b[49m\u001b[38;5;241;43m.\u001b[39;49m\u001b[43mcall_function\u001b[49m\u001b[43m(\u001b[49m\n\u001b[1;32m    252\u001b[0m \u001b[43m        \u001b[49m\u001b[38;5;28;43mself\u001b[39;49m\u001b[38;5;241;43m.\u001b[39;49m\u001b[43mname\u001b[49m\u001b[43m,\u001b[49m\n\u001b[1;32m    253\u001b[0m \u001b[43m        \u001b[49m\u001b[38;5;28;43mlist\u001b[39;49m\u001b[43m(\u001b[49m\u001b[43margs\u001b[49m\u001b[43m)\u001b[49m\u001b[43m,\u001b[49m\n\u001b[1;32m    254\u001b[0m \u001b[43m        \u001b[49m\u001b[38;5;28;43mlen\u001b[39;49m\u001b[43m(\u001b[49m\u001b[38;5;28;43mself\u001b[39;49m\u001b[38;5;241;43m.\u001b[39;49m\u001b[43mfunction_type\u001b[49m\u001b[38;5;241;43m.\u001b[39;49m\u001b[43mflat_outputs\u001b[49m\u001b[43m)\u001b[49m\u001b[43m,\u001b[49m\n\u001b[1;32m    255\u001b[0m \u001b[43m    \u001b[49m\u001b[43m)\u001b[49m\n\u001b[1;32m    256\u001b[0m   \u001b[38;5;28;01melse\u001b[39;00m:\n\u001b[1;32m    257\u001b[0m     outputs \u001b[38;5;241m=\u001b[39m make_call_op_in_graph(\n\u001b[1;32m    258\u001b[0m         \u001b[38;5;28mself\u001b[39m,\n\u001b[1;32m    259\u001b[0m         \u001b[38;5;28mlist\u001b[39m(args),\n\u001b[1;32m    260\u001b[0m         \u001b[38;5;28mself\u001b[39m\u001b[38;5;241m.\u001b[39m_bound_context\u001b[38;5;241m.\u001b[39mfunction_call_options\u001b[38;5;241m.\u001b[39mas_attrs(),\n\u001b[1;32m    261\u001b[0m     )\n",
      "File \u001b[0;32m~/.conda/envs/research/lib/python3.11/site-packages/tensorflow/python/eager/context.py:1486\u001b[0m, in \u001b[0;36mContext.call_function\u001b[0;34m(self, name, tensor_inputs, num_outputs)\u001b[0m\n\u001b[1;32m   1484\u001b[0m cancellation_context \u001b[38;5;241m=\u001b[39m cancellation\u001b[38;5;241m.\u001b[39mcontext()\n\u001b[1;32m   1485\u001b[0m \u001b[38;5;28;01mif\u001b[39;00m cancellation_context \u001b[38;5;129;01mis\u001b[39;00m \u001b[38;5;28;01mNone\u001b[39;00m:\n\u001b[0;32m-> 1486\u001b[0m   outputs \u001b[38;5;241m=\u001b[39m \u001b[43mexecute\u001b[49m\u001b[38;5;241;43m.\u001b[39;49m\u001b[43mexecute\u001b[49m\u001b[43m(\u001b[49m\n\u001b[1;32m   1487\u001b[0m \u001b[43m      \u001b[49m\u001b[43mname\u001b[49m\u001b[38;5;241;43m.\u001b[39;49m\u001b[43mdecode\u001b[49m\u001b[43m(\u001b[49m\u001b[38;5;124;43m\"\u001b[39;49m\u001b[38;5;124;43mutf-8\u001b[39;49m\u001b[38;5;124;43m\"\u001b[39;49m\u001b[43m)\u001b[49m\u001b[43m,\u001b[49m\n\u001b[1;32m   1488\u001b[0m \u001b[43m      \u001b[49m\u001b[43mnum_outputs\u001b[49m\u001b[38;5;241;43m=\u001b[39;49m\u001b[43mnum_outputs\u001b[49m\u001b[43m,\u001b[49m\n\u001b[1;32m   1489\u001b[0m \u001b[43m      \u001b[49m\u001b[43minputs\u001b[49m\u001b[38;5;241;43m=\u001b[39;49m\u001b[43mtensor_inputs\u001b[49m\u001b[43m,\u001b[49m\n\u001b[1;32m   1490\u001b[0m \u001b[43m      \u001b[49m\u001b[43mattrs\u001b[49m\u001b[38;5;241;43m=\u001b[39;49m\u001b[43mattrs\u001b[49m\u001b[43m,\u001b[49m\n\u001b[1;32m   1491\u001b[0m \u001b[43m      \u001b[49m\u001b[43mctx\u001b[49m\u001b[38;5;241;43m=\u001b[39;49m\u001b[38;5;28;43mself\u001b[39;49m\u001b[43m,\u001b[49m\n\u001b[1;32m   1492\u001b[0m \u001b[43m  \u001b[49m\u001b[43m)\u001b[49m\n\u001b[1;32m   1493\u001b[0m \u001b[38;5;28;01melse\u001b[39;00m:\n\u001b[1;32m   1494\u001b[0m   outputs \u001b[38;5;241m=\u001b[39m execute\u001b[38;5;241m.\u001b[39mexecute_with_cancellation(\n\u001b[1;32m   1495\u001b[0m       name\u001b[38;5;241m.\u001b[39mdecode(\u001b[38;5;124m\"\u001b[39m\u001b[38;5;124mutf-8\u001b[39m\u001b[38;5;124m\"\u001b[39m),\n\u001b[1;32m   1496\u001b[0m       num_outputs\u001b[38;5;241m=\u001b[39mnum_outputs,\n\u001b[0;32m   (...)\u001b[0m\n\u001b[1;32m   1500\u001b[0m       cancellation_manager\u001b[38;5;241m=\u001b[39mcancellation_context,\n\u001b[1;32m   1501\u001b[0m   )\n",
      "File \u001b[0;32m~/.conda/envs/research/lib/python3.11/site-packages/tensorflow/python/eager/execute.py:53\u001b[0m, in \u001b[0;36mquick_execute\u001b[0;34m(op_name, num_outputs, inputs, attrs, ctx, name)\u001b[0m\n\u001b[1;32m     51\u001b[0m \u001b[38;5;28;01mtry\u001b[39;00m:\n\u001b[1;32m     52\u001b[0m   ctx\u001b[38;5;241m.\u001b[39mensure_initialized()\n\u001b[0;32m---> 53\u001b[0m   tensors \u001b[38;5;241m=\u001b[39m \u001b[43mpywrap_tfe\u001b[49m\u001b[38;5;241;43m.\u001b[39;49m\u001b[43mTFE_Py_Execute\u001b[49m\u001b[43m(\u001b[49m\u001b[43mctx\u001b[49m\u001b[38;5;241;43m.\u001b[39;49m\u001b[43m_handle\u001b[49m\u001b[43m,\u001b[49m\u001b[43m \u001b[49m\u001b[43mdevice_name\u001b[49m\u001b[43m,\u001b[49m\u001b[43m \u001b[49m\u001b[43mop_name\u001b[49m\u001b[43m,\u001b[49m\n\u001b[1;32m     54\u001b[0m \u001b[43m                                      \u001b[49m\u001b[43minputs\u001b[49m\u001b[43m,\u001b[49m\u001b[43m \u001b[49m\u001b[43mattrs\u001b[49m\u001b[43m,\u001b[49m\u001b[43m \u001b[49m\u001b[43mnum_outputs\u001b[49m\u001b[43m)\u001b[49m\n\u001b[1;32m     55\u001b[0m \u001b[38;5;28;01mexcept\u001b[39;00m core\u001b[38;5;241m.\u001b[39m_NotOkStatusException \u001b[38;5;28;01mas\u001b[39;00m e:\n\u001b[1;32m     56\u001b[0m   \u001b[38;5;28;01mif\u001b[39;00m name \u001b[38;5;129;01mis\u001b[39;00m \u001b[38;5;129;01mnot\u001b[39;00m \u001b[38;5;28;01mNone\u001b[39;00m:\n",
      "\u001b[0;31mKeyboardInterrupt\u001b[0m: "
     ]
    }
   ],
   "source": [
    "es = tf.keras.callbacks.EarlyStopping(monitor='val_loss', patience=5)\n",
    "\n",
    "model_qq = Sequential()\n",
    "model_qq.add(Dense(256, input_dim=8, activation='swish'))\n",
    "model_qq.add(BatchNormalization())\n",
    "model_qq.add(Dense(256, activation='swish'))\n",
    "model_qq.add(BatchNormalization())\n",
    "model_qq.add(Dense(256, activation='swish'))\n",
    "model_qq.add(BatchNormalization())\n",
    "model_qq.add(Dense(1, activation='sigmoid'))\n",
    "opt = tf.keras.optimizers.Adam(learning_rate=0.00001)\n",
    "model_qq.compile(loss='binary_crossentropy', optimizer=opt, metrics=['accuracy'])\n",
    "\n",
    "myhistory_qq = model_qq.fit(X_train_qq, Y_train_qq, epochs=5000,validation_data=(X_val_qq, Y_val_qq),batch_size=5*1024,callbacks=[es])"
   ]
  },
  {
   "cell_type": "code",
   "execution_count": 57,
   "id": "a2c5b246-03e0-4cd8-a498-49cf32b8d037",
   "metadata": {
    "tags": []
   },
   "outputs": [
    {
     "name": "stdout",
     "output_type": "stream",
     "text": [
      "Epoch 1/1000\n",
      "2662/2662 [==============================] - 9s 3ms/step - loss: 0.1617 - accuracy: 0.9368 - val_loss: 0.1434 - val_accuracy: 0.9443\n",
      "Epoch 2/1000\n",
      "2662/2662 [==============================] - 7s 3ms/step - loss: 0.1387 - accuracy: 0.9463 - val_loss: 0.1382 - val_accuracy: 0.9466\n",
      "Epoch 3/1000\n",
      "2662/2662 [==============================] - 7s 3ms/step - loss: 0.1362 - accuracy: 0.9472 - val_loss: 0.1359 - val_accuracy: 0.9473\n",
      "Epoch 4/1000\n",
      "2662/2662 [==============================] - 7s 3ms/step - loss: 0.1351 - accuracy: 0.9475 - val_loss: 0.1344 - val_accuracy: 0.9479\n",
      "Epoch 5/1000\n",
      "2662/2662 [==============================] - 7s 3ms/step - loss: 0.1344 - accuracy: 0.9478 - val_loss: 0.1357 - val_accuracy: 0.9473\n",
      "Epoch 6/1000\n",
      "2662/2662 [==============================] - 7s 3ms/step - loss: 0.1339 - accuracy: 0.9480 - val_loss: 0.1364 - val_accuracy: 0.9468\n",
      "Epoch 7/1000\n",
      "2662/2662 [==============================] - 7s 3ms/step - loss: 0.1335 - accuracy: 0.9481 - val_loss: 0.1341 - val_accuracy: 0.9479\n",
      "Epoch 8/1000\n",
      "2662/2662 [==============================] - 7s 3ms/step - loss: 0.1332 - accuracy: 0.9482 - val_loss: 0.1333 - val_accuracy: 0.9483\n",
      "Epoch 9/1000\n",
      "2662/2662 [==============================] - 7s 3ms/step - loss: 0.1331 - accuracy: 0.9483 - val_loss: 0.1343 - val_accuracy: 0.9478\n",
      "Epoch 10/1000\n",
      "2662/2662 [==============================] - 7s 3ms/step - loss: 0.1328 - accuracy: 0.9484 - val_loss: 0.1341 - val_accuracy: 0.9479\n",
      "Epoch 11/1000\n",
      "2662/2662 [==============================] - 7s 3ms/step - loss: 0.1327 - accuracy: 0.9484 - val_loss: 0.1328 - val_accuracy: 0.9484\n",
      "Epoch 12/1000\n",
      "2662/2662 [==============================] - 7s 3ms/step - loss: 0.1325 - accuracy: 0.9485 - val_loss: 0.1330 - val_accuracy: 0.9483\n",
      "Epoch 13/1000\n",
      "2662/2662 [==============================] - 7s 3ms/step - loss: 0.1323 - accuracy: 0.9486 - val_loss: 0.1325 - val_accuracy: 0.9485\n",
      "Epoch 14/1000\n",
      "2662/2662 [==============================] - 7s 3ms/step - loss: 0.1322 - accuracy: 0.9486 - val_loss: 0.1320 - val_accuracy: 0.9487\n",
      "Epoch 15/1000\n",
      "2662/2662 [==============================] - 7s 3ms/step - loss: 0.1320 - accuracy: 0.9487 - val_loss: 0.1324 - val_accuracy: 0.9486\n",
      "Epoch 16/1000\n",
      "2662/2662 [==============================] - 7s 3ms/step - loss: 0.1319 - accuracy: 0.9488 - val_loss: 0.1318 - val_accuracy: 0.9488\n",
      "Epoch 17/1000\n",
      "2662/2662 [==============================] - 7s 3ms/step - loss: 0.1318 - accuracy: 0.9488 - val_loss: 0.1329 - val_accuracy: 0.9484\n",
      "Epoch 18/1000\n",
      "2662/2662 [==============================] - 7s 3ms/step - loss: 0.1316 - accuracy: 0.9489 - val_loss: 0.1320 - val_accuracy: 0.9487\n",
      "Epoch 19/1000\n",
      "2662/2662 [==============================] - 7s 3ms/step - loss: 0.1315 - accuracy: 0.9489 - val_loss: 0.1335 - val_accuracy: 0.9481\n",
      "Epoch 20/1000\n",
      "2662/2662 [==============================] - 7s 3ms/step - loss: 0.1313 - accuracy: 0.9489 - val_loss: 0.1320 - val_accuracy: 0.9486\n",
      "Epoch 21/1000\n",
      "2662/2662 [==============================] - 7s 3ms/step - loss: 0.1312 - accuracy: 0.9490 - val_loss: 0.1321 - val_accuracy: 0.9486\n"
     ]
    }
   ],
   "source": [
    "es = tf.keras.callbacks.EarlyStopping(monitor='val_loss', patience=5)\n",
    "model_normal = Sequential()\n",
    "model_normal.add(Dense(128, input_dim=8, activation='relu'))\n",
    "model_normal.add(Dense(128, activation='relu'))\n",
    "model_normal.add(Dense(128, activation='relu'))\n",
    "model_normal.add(Dense(1, activation='sigmoid'))\n",
    "model_normal.compile(loss='binary_crossentropy', optimizer='adam', metrics=['accuracy'])\n",
    "history_normal = model_normal.fit(X_train_qq, Y_train_qq, epochs = 1000, validation_data=(X_val_qq, Y_val_qq), batch_size=5*1024, callbacks = [es])"
   ]
  },
  {
   "cell_type": "code",
   "execution_count": 29,
   "id": "01bdec79-df48-47bd-8e4f-da67fd7ddade",
   "metadata": {
    "tags": []
   },
   "outputs": [
    {
     "name": "stderr",
     "output_type": "stream",
     "text": [
      "wandb: WARNING Source type is set to 'repo' but some required information is missing from the environment. A job will not be created from this run. See https://docs.wandb.ai/guides/launch/create-job\n"
     ]
    },
    {
     "data": {
      "text/html": [
       "<style>\n",
       "    table.wandb td:nth-child(1) { padding: 0 10px; text-align: left ; width: auto;} td:nth-child(2) {text-align: left ; width: 100%}\n",
       "    .wandb-row { display: flex; flex-direction: row; flex-wrap: wrap; justify-content: flex-start; width: 100% }\n",
       "    .wandb-col { display: flex; flex-direction: column; flex-basis: 100%; flex: 1; padding: 10px; }\n",
       "    </style>\n",
       "<div class=\"wandb-row\"><div class=\"wandb-col\"><h3>Run history:</h3><br/><table class=\"wandb\"><tr><td>accuracy</td><td>▁▅▆▆▆▇▇▇▇▇▇▇▇▇██████████████████████████</td></tr><tr><td>epoch</td><td>▁▁▁▂▂▂▂▂▂▃▃▃▃▃▃▄▄▄▄▄▅▅▅▅▅▅▆▆▆▆▆▆▇▇▇▇▇▇██</td></tr><tr><td>loss</td><td>█▄▃▃▃▂▂▂▂▂▂▂▂▂▂▁▁▁▁▁▁▁▁▁▁▁▁▁▁▁▁▁▁▁▁▁▁▁▁▁</td></tr><tr><td>val_accuracy</td><td>▁▃▄▅▅▆▆▆▆▇▇▇▇▇▇▇▇▇▇▇████████████████████</td></tr><tr><td>val_loss</td><td>█▆▅▄▄▃▃▃▃▂▂▂▂▂▂▂▂▂▂▂▁▁▁▁▁▁▁▁▁▁▁▁▁▁▁▁▁▁▁▁</td></tr></table><br/></div><div class=\"wandb-col\"><h3>Run summary:</h3><br/><table class=\"wandb\"><tr><td>accuracy</td><td>0.94709</td></tr><tr><td>best_epoch</td><td>41</td></tr><tr><td>best_val_loss</td><td>0.13607</td></tr><tr><td>epoch</td><td>41</td></tr><tr><td>loss</td><td>0.1365</td></tr><tr><td>val_accuracy</td><td>0.94731</td></tr><tr><td>val_loss</td><td>0.13607</td></tr></table><br/></div></div>"
      ],
      "text/plain": [
       "<IPython.core.display.HTML object>"
      ]
     },
     "metadata": {},
     "output_type": "display_data"
    },
    {
     "data": {
      "text/html": [
       " View run <strong style=\"color:#cdcd00\">vital-dream-35</strong> at: <a href='https://wandb.ai/gup-singh/SemiWeakly/runs/ka9ia66s' target=\"_blank\">https://wandb.ai/gup-singh/SemiWeakly/runs/ka9ia66s</a><br/>Synced 5 W&B file(s), 1 media file(s), 210 artifact file(s) and 1 other file(s)"
      ],
      "text/plain": [
       "<IPython.core.display.HTML object>"
      ]
     },
     "metadata": {},
     "output_type": "display_data"
    },
    {
     "data": {
      "text/html": [
       "Find logs at: <code>/pscratch/sd/g/gupsingh/wandb/run-20240202_112845-ka9ia66s/logs</code>"
      ],
      "text/plain": [
       "<IPython.core.display.HTML object>"
      ]
     },
     "metadata": {},
     "output_type": "display_data"
    }
   ],
   "source": [
    "wandb.finish()"
   ]
  },
  {
   "cell_type": "code",
   "execution_count": 15,
   "id": "d557c9c9-944f-44bc-ada2-325d4a2cc217",
   "metadata": {
    "tags": []
   },
   "outputs": [
    {
     "name": "stdout",
     "output_type": "stream",
     "text": [
      "INFO:tensorflow:Assets written to: /pscratch/sd/g/gupsingh/model_fixed/assets\n"
     ]
    },
    {
     "name": "stderr",
     "output_type": "stream",
     "text": [
      "INFO:tensorflow:Assets written to: /pscratch/sd/g/gupsingh/model_fixed/assets\n"
     ]
    }
   ],
   "source": [
    "model_qq.save(pscratch_dir + \"model_fixed\")"
   ]
  },
  {
   "cell_type": "code",
   "execution_count": 52,
   "id": "50b84936-5fd4-4308-b645-9d030f31aad0",
   "metadata": {
    "tags": []
   },
   "outputs": [
    {
     "name": "stdout",
     "output_type": "stream",
     "text": [
      "INFO:tensorflow:Assets written to: pscratch/sd/g/gupsingh/model_fixed_early/assets\n"
     ]
    },
    {
     "name": "stderr",
     "output_type": "stream",
     "text": [
      "INFO:tensorflow:Assets written to: pscratch/sd/g/gupsingh/model_fixed_early/assets\n"
     ]
    }
   ],
   "source": [
    "model_qq.save(\"pscratch/sd/g/gupsingh/model_fixed_early\")"
   ]
  },
  {
   "cell_type": "code",
   "execution_count": 65,
   "id": "0f7b0b5d-6303-4de9-bd4e-bf5ce4070257",
   "metadata": {
    "tags": []
   },
   "outputs": [],
   "source": [
    "#model_qq = tf.keras.models.load_model(\"model_qq_v2\")\n",
    "#model_qq = tf.keras.models.load_model(\"model_qq_opt2\")\n",
    "#model_qq = tf.keras.models.load_model(\"/pscratch/sd/g/gupsingh/neat-tree-47\")\n",
    "model_qq = tf.keras.models.load_model(\"/pscratch/sd/g/gupsingh/model_fixed\")\n",
    "#model_qq = tf.keras.models.load_model(\"model_qq_noisy10\")"
   ]
  },
  {
   "cell_type": "code",
   "execution_count": 60,
   "id": "f42e8932-8b92-49f4-8084-a6af418ad9d7",
   "metadata": {
    "collapsed": true,
    "jupyter": {
     "outputs_hidden": true
    },
    "tags": []
   },
   "outputs": [
    {
     "name": "stdout",
     "output_type": "stream",
     "text": [
      "1.14297616481781 1.6546475887298584 0.1\n",
      "3 3 2.9988813 2.9879384\n",
      "1.14297616481781 1.6546475887298584 0.05994842503189409\n",
      "3 3 3.0035374 3.0181944\n",
      "1.14297616481781 1.6546475887298584 0.03593813663804626\n",
      "3 3 2.803316 3.1395664\n",
      "1.14297616481781 1.6546475887298584 0.021544346900318832\n",
      "3 3 1.4312212 3.1002276\n",
      "1.14297616481781 1.6546475887298584 0.01291549665014884\n",
      "3 3 0.9289973 1.7886382\n",
      "1.14297616481781 1.6546475887298584 0.007742636826811269\n"
     ]
    },
    {
     "ename": "KeyboardInterrupt",
     "evalue": "",
     "output_type": "error",
     "traceback": [
      "\u001b[0;31m---------------------------------------------------------------------------\u001b[0m",
      "\u001b[0;31mKeyboardInterrupt\u001b[0m                         Traceback (most recent call last)",
      "Cell \u001b[0;32mIn[60], line 71\u001b[0m\n\u001b[1;32m     67\u001b[0m y_data_ \u001b[38;5;241m=\u001b[39m np\u001b[38;5;241m.\u001b[39mconcatenate([np\u001b[38;5;241m.\u001b[39mzeros(train_reference),np\u001b[38;5;241m.\u001b[39mones(train_data),np\u001b[38;5;241m.\u001b[39mones(\u001b[38;5;28mlen\u001b[39m(signal))])\n\u001b[1;32m     69\u001b[0m X_train_, X_val_, Y_train_, Y_val_ \u001b[38;5;241m=\u001b[39m train_test_split(x_data_, y_data_, test_size\u001b[38;5;241m=\u001b[39m\u001b[38;5;241m0.5\u001b[39m, random_state \u001b[38;5;241m=\u001b[39m \u001b[38;5;241m42\u001b[39m)\n\u001b[0;32m---> 71\u001b[0m myhistory_hack_ \u001b[38;5;241m=\u001b[39m \u001b[43mmodel_semiweak\u001b[49m\u001b[38;5;241;43m.\u001b[39;49m\u001b[43mfit\u001b[49m\u001b[43m(\u001b[49m\u001b[43mX_train_\u001b[49m\u001b[43m[\u001b[49m\u001b[43m:\u001b[49m\u001b[43m,\u001b[49m\u001b[38;5;241;43m0\u001b[39;49m\u001b[43m:\u001b[49m\u001b[38;5;241;43m6\u001b[39;49m\u001b[43m]\u001b[49m\u001b[43m,\u001b[49m\u001b[43m \u001b[49m\u001b[43mY_train_\u001b[49m\u001b[43m,\u001b[49m\u001b[43m \u001b[49m\u001b[43mepochs\u001b[49m\u001b[38;5;241;43m=\u001b[39;49m\u001b[38;5;241;43m20\u001b[39;49m\u001b[43m,\u001b[49m\u001b[43mvalidation_data\u001b[49m\u001b[38;5;241;43m=\u001b[39;49m\u001b[43m(\u001b[49m\u001b[43mX_val_\u001b[49m\u001b[43m[\u001b[49m\u001b[43m:\u001b[49m\u001b[43m,\u001b[49m\u001b[38;5;241;43m0\u001b[39;49m\u001b[43m:\u001b[49m\u001b[38;5;241;43m6\u001b[39;49m\u001b[43m]\u001b[49m\u001b[43m,\u001b[49m\u001b[43m \u001b[49m\u001b[43mY_val_\u001b[49m\u001b[43m)\u001b[49m\u001b[43m,\u001b[49m\u001b[43mbatch_size\u001b[49m\u001b[38;5;241;43m=\u001b[39;49m\u001b[38;5;241;43m1024\u001b[39;49m\u001b[43m,\u001b[49m\u001b[43m \u001b[49m\u001b[43mverbose\u001b[49m\u001b[43m \u001b[49m\u001b[38;5;241;43m=\u001b[39;49m\u001b[43m \u001b[49m\u001b[38;5;241;43m0\u001b[39;49m\u001b[43m)\u001b[49m\n\u001b[1;32m     72\u001b[0m \u001b[38;5;28mprint\u001b[39m(m1,m2,model_semiweak\u001b[38;5;241m.\u001b[39mtrainable_weights[\u001b[38;5;241m0\u001b[39m]\u001b[38;5;241m.\u001b[39mnumpy()[\u001b[38;5;241m0\u001b[39m][\u001b[38;5;241m0\u001b[39m],model_semiweak\u001b[38;5;241m.\u001b[39mtrainable_weights[\u001b[38;5;241m1\u001b[39m]\u001b[38;5;241m.\u001b[39mnumpy()[\u001b[38;5;241m0\u001b[39m][\u001b[38;5;241m0\u001b[39m])\n\u001b[1;32m     73\u001b[0m weight_list1\u001b[38;5;241m+\u001b[39m\u001b[38;5;241m=\u001b[39m[model_semiweak\u001b[38;5;241m.\u001b[39mtrainable_weights[\u001b[38;5;241m0\u001b[39m]\u001b[38;5;241m.\u001b[39mnumpy()[\u001b[38;5;241m0\u001b[39m][\u001b[38;5;241m0\u001b[39m]]\n",
      "File \u001b[0;32m~/.conda/envs/research/lib/python3.11/site-packages/keras/src/utils/traceback_utils.py:65\u001b[0m, in \u001b[0;36mfilter_traceback.<locals>.error_handler\u001b[0;34m(*args, **kwargs)\u001b[0m\n\u001b[1;32m     63\u001b[0m filtered_tb \u001b[38;5;241m=\u001b[39m \u001b[38;5;28;01mNone\u001b[39;00m\n\u001b[1;32m     64\u001b[0m \u001b[38;5;28;01mtry\u001b[39;00m:\n\u001b[0;32m---> 65\u001b[0m     \u001b[38;5;28;01mreturn\u001b[39;00m \u001b[43mfn\u001b[49m\u001b[43m(\u001b[49m\u001b[38;5;241;43m*\u001b[39;49m\u001b[43margs\u001b[49m\u001b[43m,\u001b[49m\u001b[43m \u001b[49m\u001b[38;5;241;43m*\u001b[39;49m\u001b[38;5;241;43m*\u001b[39;49m\u001b[43mkwargs\u001b[49m\u001b[43m)\u001b[49m\n\u001b[1;32m     66\u001b[0m \u001b[38;5;28;01mexcept\u001b[39;00m \u001b[38;5;167;01mException\u001b[39;00m \u001b[38;5;28;01mas\u001b[39;00m e:\n\u001b[1;32m     67\u001b[0m     filtered_tb \u001b[38;5;241m=\u001b[39m _process_traceback_frames(e\u001b[38;5;241m.\u001b[39m__traceback__)\n",
      "File \u001b[0;32m~/.conda/envs/research/lib/python3.11/site-packages/keras/src/engine/training.py:1807\u001b[0m, in \u001b[0;36mModel.fit\u001b[0;34m(self, x, y, batch_size, epochs, verbose, callbacks, validation_split, validation_data, shuffle, class_weight, sample_weight, initial_epoch, steps_per_epoch, validation_steps, validation_batch_size, validation_freq, max_queue_size, workers, use_multiprocessing)\u001b[0m\n\u001b[1;32m   1799\u001b[0m \u001b[38;5;28;01mwith\u001b[39;00m tf\u001b[38;5;241m.\u001b[39mprofiler\u001b[38;5;241m.\u001b[39mexperimental\u001b[38;5;241m.\u001b[39mTrace(\n\u001b[1;32m   1800\u001b[0m     \u001b[38;5;124m\"\u001b[39m\u001b[38;5;124mtrain\u001b[39m\u001b[38;5;124m\"\u001b[39m,\n\u001b[1;32m   1801\u001b[0m     epoch_num\u001b[38;5;241m=\u001b[39mepoch,\n\u001b[0;32m   (...)\u001b[0m\n\u001b[1;32m   1804\u001b[0m     _r\u001b[38;5;241m=\u001b[39m\u001b[38;5;241m1\u001b[39m,\n\u001b[1;32m   1805\u001b[0m ):\n\u001b[1;32m   1806\u001b[0m     callbacks\u001b[38;5;241m.\u001b[39mon_train_batch_begin(step)\n\u001b[0;32m-> 1807\u001b[0m     tmp_logs \u001b[38;5;241m=\u001b[39m \u001b[38;5;28;43mself\u001b[39;49m\u001b[38;5;241;43m.\u001b[39;49m\u001b[43mtrain_function\u001b[49m\u001b[43m(\u001b[49m\u001b[43miterator\u001b[49m\u001b[43m)\u001b[49m\n\u001b[1;32m   1808\u001b[0m     \u001b[38;5;28;01mif\u001b[39;00m data_handler\u001b[38;5;241m.\u001b[39mshould_sync:\n\u001b[1;32m   1809\u001b[0m         context\u001b[38;5;241m.\u001b[39masync_wait()\n",
      "File \u001b[0;32m~/.conda/envs/research/lib/python3.11/site-packages/tensorflow/python/util/traceback_utils.py:150\u001b[0m, in \u001b[0;36mfilter_traceback.<locals>.error_handler\u001b[0;34m(*args, **kwargs)\u001b[0m\n\u001b[1;32m    148\u001b[0m filtered_tb \u001b[38;5;241m=\u001b[39m \u001b[38;5;28;01mNone\u001b[39;00m\n\u001b[1;32m    149\u001b[0m \u001b[38;5;28;01mtry\u001b[39;00m:\n\u001b[0;32m--> 150\u001b[0m   \u001b[38;5;28;01mreturn\u001b[39;00m \u001b[43mfn\u001b[49m\u001b[43m(\u001b[49m\u001b[38;5;241;43m*\u001b[39;49m\u001b[43margs\u001b[49m\u001b[43m,\u001b[49m\u001b[43m \u001b[49m\u001b[38;5;241;43m*\u001b[39;49m\u001b[38;5;241;43m*\u001b[39;49m\u001b[43mkwargs\u001b[49m\u001b[43m)\u001b[49m\n\u001b[1;32m    151\u001b[0m \u001b[38;5;28;01mexcept\u001b[39;00m \u001b[38;5;167;01mException\u001b[39;00m \u001b[38;5;28;01mas\u001b[39;00m e:\n\u001b[1;32m    152\u001b[0m   filtered_tb \u001b[38;5;241m=\u001b[39m _process_traceback_frames(e\u001b[38;5;241m.\u001b[39m__traceback__)\n",
      "File \u001b[0;32m~/.conda/envs/research/lib/python3.11/site-packages/tensorflow/python/eager/polymorphic_function/polymorphic_function.py:832\u001b[0m, in \u001b[0;36mFunction.__call__\u001b[0;34m(self, *args, **kwds)\u001b[0m\n\u001b[1;32m    829\u001b[0m compiler \u001b[38;5;241m=\u001b[39m \u001b[38;5;124m\"\u001b[39m\u001b[38;5;124mxla\u001b[39m\u001b[38;5;124m\"\u001b[39m \u001b[38;5;28;01mif\u001b[39;00m \u001b[38;5;28mself\u001b[39m\u001b[38;5;241m.\u001b[39m_jit_compile \u001b[38;5;28;01melse\u001b[39;00m \u001b[38;5;124m\"\u001b[39m\u001b[38;5;124mnonXla\u001b[39m\u001b[38;5;124m\"\u001b[39m\n\u001b[1;32m    831\u001b[0m \u001b[38;5;28;01mwith\u001b[39;00m OptionalXlaContext(\u001b[38;5;28mself\u001b[39m\u001b[38;5;241m.\u001b[39m_jit_compile):\n\u001b[0;32m--> 832\u001b[0m   result \u001b[38;5;241m=\u001b[39m \u001b[38;5;28;43mself\u001b[39;49m\u001b[38;5;241;43m.\u001b[39;49m\u001b[43m_call\u001b[49m\u001b[43m(\u001b[49m\u001b[38;5;241;43m*\u001b[39;49m\u001b[43margs\u001b[49m\u001b[43m,\u001b[49m\u001b[43m \u001b[49m\u001b[38;5;241;43m*\u001b[39;49m\u001b[38;5;241;43m*\u001b[39;49m\u001b[43mkwds\u001b[49m\u001b[43m)\u001b[49m\n\u001b[1;32m    834\u001b[0m new_tracing_count \u001b[38;5;241m=\u001b[39m \u001b[38;5;28mself\u001b[39m\u001b[38;5;241m.\u001b[39mexperimental_get_tracing_count()\n\u001b[1;32m    835\u001b[0m without_tracing \u001b[38;5;241m=\u001b[39m (tracing_count \u001b[38;5;241m==\u001b[39m new_tracing_count)\n",
      "File \u001b[0;32m~/.conda/envs/research/lib/python3.11/site-packages/tensorflow/python/eager/polymorphic_function/polymorphic_function.py:888\u001b[0m, in \u001b[0;36mFunction._call\u001b[0;34m(self, *args, **kwds)\u001b[0m\n\u001b[1;32m    885\u001b[0m \u001b[38;5;28;01mtry\u001b[39;00m:\n\u001b[1;32m    886\u001b[0m   \u001b[38;5;66;03m# This is the first call of __call__, so we have to initialize.\u001b[39;00m\n\u001b[1;32m    887\u001b[0m   initializers \u001b[38;5;241m=\u001b[39m []\n\u001b[0;32m--> 888\u001b[0m   \u001b[38;5;28;43mself\u001b[39;49m\u001b[38;5;241;43m.\u001b[39;49m\u001b[43m_initialize\u001b[49m\u001b[43m(\u001b[49m\u001b[43margs\u001b[49m\u001b[43m,\u001b[49m\u001b[43m \u001b[49m\u001b[43mkwds\u001b[49m\u001b[43m,\u001b[49m\u001b[43m \u001b[49m\u001b[43madd_initializers_to\u001b[49m\u001b[38;5;241;43m=\u001b[39;49m\u001b[43minitializers\u001b[49m\u001b[43m)\u001b[49m\n\u001b[1;32m    889\u001b[0m \u001b[38;5;28;01mfinally\u001b[39;00m:\n\u001b[1;32m    890\u001b[0m   \u001b[38;5;66;03m# At this point we know that the initialization is complete (or less\u001b[39;00m\n\u001b[1;32m    891\u001b[0m   \u001b[38;5;66;03m# interestingly an exception was raised) so we no longer need a lock.\u001b[39;00m\n\u001b[1;32m    892\u001b[0m   \u001b[38;5;28mself\u001b[39m\u001b[38;5;241m.\u001b[39m_lock\u001b[38;5;241m.\u001b[39mrelease()\n",
      "File \u001b[0;32m~/.conda/envs/research/lib/python3.11/site-packages/tensorflow/python/eager/polymorphic_function/polymorphic_function.py:695\u001b[0m, in \u001b[0;36mFunction._initialize\u001b[0;34m(self, args, kwds, add_initializers_to)\u001b[0m\n\u001b[1;32m    690\u001b[0m \u001b[38;5;28mself\u001b[39m\u001b[38;5;241m.\u001b[39m_variable_creation_config \u001b[38;5;241m=\u001b[39m \u001b[38;5;28mself\u001b[39m\u001b[38;5;241m.\u001b[39m_generate_scoped_tracing_options(\n\u001b[1;32m    691\u001b[0m     variable_capturing_scope,\n\u001b[1;32m    692\u001b[0m     tracing_compilation\u001b[38;5;241m.\u001b[39mScopeType\u001b[38;5;241m.\u001b[39mVARIABLE_CREATION,\n\u001b[1;32m    693\u001b[0m )\n\u001b[1;32m    694\u001b[0m \u001b[38;5;66;03m# Force the definition of the function for these arguments\u001b[39;00m\n\u001b[0;32m--> 695\u001b[0m \u001b[38;5;28mself\u001b[39m\u001b[38;5;241m.\u001b[39m_concrete_variable_creation_fn \u001b[38;5;241m=\u001b[39m \u001b[43mtracing_compilation\u001b[49m\u001b[38;5;241;43m.\u001b[39;49m\u001b[43mtrace_function\u001b[49m\u001b[43m(\u001b[49m\n\u001b[1;32m    696\u001b[0m \u001b[43m    \u001b[49m\u001b[43margs\u001b[49m\u001b[43m,\u001b[49m\u001b[43m \u001b[49m\u001b[43mkwds\u001b[49m\u001b[43m,\u001b[49m\u001b[43m \u001b[49m\u001b[38;5;28;43mself\u001b[39;49m\u001b[38;5;241;43m.\u001b[39;49m\u001b[43m_variable_creation_config\u001b[49m\n\u001b[1;32m    697\u001b[0m \u001b[43m\u001b[49m\u001b[43m)\u001b[49m\n\u001b[1;32m    699\u001b[0m \u001b[38;5;28;01mdef\u001b[39;00m \u001b[38;5;21minvalid_creator_scope\u001b[39m(\u001b[38;5;241m*\u001b[39munused_args, \u001b[38;5;241m*\u001b[39m\u001b[38;5;241m*\u001b[39munused_kwds):\n\u001b[1;32m    700\u001b[0m \u001b[38;5;250m  \u001b[39m\u001b[38;5;124;03m\"\"\"Disables variable creation.\"\"\"\u001b[39;00m\n",
      "File \u001b[0;32m~/.conda/envs/research/lib/python3.11/site-packages/tensorflow/python/eager/polymorphic_function/tracing_compilation.py:178\u001b[0m, in \u001b[0;36mtrace_function\u001b[0;34m(args, kwargs, tracing_options)\u001b[0m\n\u001b[1;32m    175\u001b[0m     args \u001b[38;5;241m=\u001b[39m tracing_options\u001b[38;5;241m.\u001b[39minput_signature\n\u001b[1;32m    176\u001b[0m     kwargs \u001b[38;5;241m=\u001b[39m {}\n\u001b[0;32m--> 178\u001b[0m   concrete_function \u001b[38;5;241m=\u001b[39m \u001b[43m_maybe_define_function\u001b[49m\u001b[43m(\u001b[49m\n\u001b[1;32m    179\u001b[0m \u001b[43m      \u001b[49m\u001b[43margs\u001b[49m\u001b[43m,\u001b[49m\u001b[43m \u001b[49m\u001b[43mkwargs\u001b[49m\u001b[43m,\u001b[49m\u001b[43m \u001b[49m\u001b[43mtracing_options\u001b[49m\n\u001b[1;32m    180\u001b[0m \u001b[43m  \u001b[49m\u001b[43m)\u001b[49m\n\u001b[1;32m    182\u001b[0m \u001b[38;5;28;01mif\u001b[39;00m \u001b[38;5;129;01mnot\u001b[39;00m tracing_options\u001b[38;5;241m.\u001b[39mbind_graph_to_function:\n\u001b[1;32m    183\u001b[0m   concrete_function\u001b[38;5;241m.\u001b[39m_garbage_collector\u001b[38;5;241m.\u001b[39mrelease()  \u001b[38;5;66;03m# pylint: disable=protected-access\u001b[39;00m\n",
      "File \u001b[0;32m~/.conda/envs/research/lib/python3.11/site-packages/tensorflow/python/eager/polymorphic_function/tracing_compilation.py:283\u001b[0m, in \u001b[0;36m_maybe_define_function\u001b[0;34m(args, kwargs, tracing_options)\u001b[0m\n\u001b[1;32m    281\u001b[0m \u001b[38;5;28;01melse\u001b[39;00m:\n\u001b[1;32m    282\u001b[0m   target_func_type \u001b[38;5;241m=\u001b[39m lookup_func_type\n\u001b[0;32m--> 283\u001b[0m concrete_function \u001b[38;5;241m=\u001b[39m \u001b[43m_create_concrete_function\u001b[49m\u001b[43m(\u001b[49m\n\u001b[1;32m    284\u001b[0m \u001b[43m    \u001b[49m\u001b[43mtarget_func_type\u001b[49m\u001b[43m,\u001b[49m\u001b[43m \u001b[49m\u001b[43mlookup_func_context\u001b[49m\u001b[43m,\u001b[49m\u001b[43m \u001b[49m\u001b[43mfunc_graph\u001b[49m\u001b[43m,\u001b[49m\u001b[43m \u001b[49m\u001b[43mtracing_options\u001b[49m\n\u001b[1;32m    285\u001b[0m \u001b[43m\u001b[49m\u001b[43m)\u001b[49m\n\u001b[1;32m    287\u001b[0m \u001b[38;5;28;01mif\u001b[39;00m tracing_options\u001b[38;5;241m.\u001b[39mfunction_cache \u001b[38;5;129;01mis\u001b[39;00m \u001b[38;5;129;01mnot\u001b[39;00m \u001b[38;5;28;01mNone\u001b[39;00m:\n\u001b[1;32m    288\u001b[0m   tracing_options\u001b[38;5;241m.\u001b[39mfunction_cache\u001b[38;5;241m.\u001b[39madd(\n\u001b[1;32m    289\u001b[0m       concrete_function, current_func_context\n\u001b[1;32m    290\u001b[0m   )\n",
      "File \u001b[0;32m~/.conda/envs/research/lib/python3.11/site-packages/tensorflow/python/eager/polymorphic_function/tracing_compilation.py:310\u001b[0m, in \u001b[0;36m_create_concrete_function\u001b[0;34m(function_type, type_context, func_graph, tracing_options)\u001b[0m\n\u001b[1;32m    303\u001b[0m   placeholder_bound_args \u001b[38;5;241m=\u001b[39m function_type\u001b[38;5;241m.\u001b[39mplaceholder_arguments(\n\u001b[1;32m    304\u001b[0m       placeholder_context\n\u001b[1;32m    305\u001b[0m   )\n\u001b[1;32m    307\u001b[0m disable_acd \u001b[38;5;241m=\u001b[39m tracing_options\u001b[38;5;241m.\u001b[39mattributes \u001b[38;5;129;01mand\u001b[39;00m tracing_options\u001b[38;5;241m.\u001b[39mattributes\u001b[38;5;241m.\u001b[39mget(\n\u001b[1;32m    308\u001b[0m     attributes_lib\u001b[38;5;241m.\u001b[39mDISABLE_ACD, \u001b[38;5;28;01mFalse\u001b[39;00m\n\u001b[1;32m    309\u001b[0m )\n\u001b[0;32m--> 310\u001b[0m traced_func_graph \u001b[38;5;241m=\u001b[39m \u001b[43mfunc_graph_module\u001b[49m\u001b[38;5;241;43m.\u001b[39;49m\u001b[43mfunc_graph_from_py_func\u001b[49m\u001b[43m(\u001b[49m\n\u001b[1;32m    311\u001b[0m \u001b[43m    \u001b[49m\u001b[43mtracing_options\u001b[49m\u001b[38;5;241;43m.\u001b[39;49m\u001b[43mname\u001b[49m\u001b[43m,\u001b[49m\n\u001b[1;32m    312\u001b[0m \u001b[43m    \u001b[49m\u001b[43mtracing_options\u001b[49m\u001b[38;5;241;43m.\u001b[39;49m\u001b[43mpython_function\u001b[49m\u001b[43m,\u001b[49m\n\u001b[1;32m    313\u001b[0m \u001b[43m    \u001b[49m\u001b[43mplaceholder_bound_args\u001b[49m\u001b[38;5;241;43m.\u001b[39;49m\u001b[43margs\u001b[49m\u001b[43m,\u001b[49m\n\u001b[1;32m    314\u001b[0m \u001b[43m    \u001b[49m\u001b[43mplaceholder_bound_args\u001b[49m\u001b[38;5;241;43m.\u001b[39;49m\u001b[43mkwargs\u001b[49m\u001b[43m,\u001b[49m\n\u001b[1;32m    315\u001b[0m \u001b[43m    \u001b[49m\u001b[38;5;28;43;01mNone\u001b[39;49;00m\u001b[43m,\u001b[49m\n\u001b[1;32m    316\u001b[0m \u001b[43m    \u001b[49m\u001b[43mfunc_graph\u001b[49m\u001b[38;5;241;43m=\u001b[39;49m\u001b[43mfunc_graph\u001b[49m\u001b[43m,\u001b[49m\n\u001b[1;32m    317\u001b[0m \u001b[43m    \u001b[49m\u001b[43madd_control_dependencies\u001b[49m\u001b[38;5;241;43m=\u001b[39;49m\u001b[38;5;129;43;01mnot\u001b[39;49;00m\u001b[43m \u001b[49m\u001b[43mdisable_acd\u001b[49m\u001b[43m,\u001b[49m\n\u001b[1;32m    318\u001b[0m \u001b[43m    \u001b[49m\u001b[43marg_names\u001b[49m\u001b[38;5;241;43m=\u001b[39;49m\u001b[43mfunction_type_utils\u001b[49m\u001b[38;5;241;43m.\u001b[39;49m\u001b[43mto_arg_names\u001b[49m\u001b[43m(\u001b[49m\u001b[43mfunction_type\u001b[49m\u001b[43m)\u001b[49m\u001b[43m,\u001b[49m\n\u001b[1;32m    319\u001b[0m \u001b[43m    \u001b[49m\u001b[43mcreate_placeholders\u001b[49m\u001b[38;5;241;43m=\u001b[39;49m\u001b[38;5;28;43;01mFalse\u001b[39;49;00m\u001b[43m,\u001b[49m\n\u001b[1;32m    320\u001b[0m \u001b[43m\u001b[49m\u001b[43m)\u001b[49m\n\u001b[1;32m    322\u001b[0m transform\u001b[38;5;241m.\u001b[39mapply_func_graph_transforms(traced_func_graph)\n\u001b[1;32m    324\u001b[0m graph_capture_container \u001b[38;5;241m=\u001b[39m traced_func_graph\u001b[38;5;241m.\u001b[39mfunction_captures\n",
      "File \u001b[0;32m~/.conda/envs/research/lib/python3.11/site-packages/tensorflow/python/framework/func_graph.py:1059\u001b[0m, in \u001b[0;36mfunc_graph_from_py_func\u001b[0;34m(name, python_func, args, kwargs, signature, func_graph, add_control_dependencies, arg_names, op_return_value, collections, capture_by_value, create_placeholders)\u001b[0m\n\u001b[1;32m   1056\u001b[0m   \u001b[38;5;28;01mreturn\u001b[39;00m x\n\u001b[1;32m   1058\u001b[0m _, original_func \u001b[38;5;241m=\u001b[39m tf_decorator\u001b[38;5;241m.\u001b[39munwrap(python_func)\n\u001b[0;32m-> 1059\u001b[0m func_outputs \u001b[38;5;241m=\u001b[39m \u001b[43mpython_func\u001b[49m\u001b[43m(\u001b[49m\u001b[38;5;241;43m*\u001b[39;49m\u001b[43mfunc_args\u001b[49m\u001b[43m,\u001b[49m\u001b[43m \u001b[49m\u001b[38;5;241;43m*\u001b[39;49m\u001b[38;5;241;43m*\u001b[39;49m\u001b[43mfunc_kwargs\u001b[49m\u001b[43m)\u001b[49m\n\u001b[1;32m   1061\u001b[0m \u001b[38;5;66;03m# invariant: `func_outputs` contains only Tensors, CompositeTensors,\u001b[39;00m\n\u001b[1;32m   1062\u001b[0m \u001b[38;5;66;03m# TensorArrays and `None`s.\u001b[39;00m\n\u001b[1;32m   1063\u001b[0m func_outputs \u001b[38;5;241m=\u001b[39m variable_utils\u001b[38;5;241m.\u001b[39mconvert_variables_to_tensors(func_outputs)\n",
      "File \u001b[0;32m~/.conda/envs/research/lib/python3.11/site-packages/tensorflow/python/eager/polymorphic_function/polymorphic_function.py:598\u001b[0m, in \u001b[0;36mFunction._generate_scoped_tracing_options.<locals>.wrapped_fn\u001b[0;34m(*args, **kwds)\u001b[0m\n\u001b[1;32m    594\u001b[0m \u001b[38;5;28;01mwith\u001b[39;00m default_graph\u001b[38;5;241m.\u001b[39m_variable_creator_scope(scope, priority\u001b[38;5;241m=\u001b[39m\u001b[38;5;241m50\u001b[39m):  \u001b[38;5;66;03m# pylint: disable=protected-access\u001b[39;00m\n\u001b[1;32m    595\u001b[0m   \u001b[38;5;66;03m# __wrapped__ allows AutoGraph to swap in a converted function. We give\u001b[39;00m\n\u001b[1;32m    596\u001b[0m   \u001b[38;5;66;03m# the function a weak reference to itself to avoid a reference cycle.\u001b[39;00m\n\u001b[1;32m    597\u001b[0m   \u001b[38;5;28;01mwith\u001b[39;00m OptionalXlaContext(compile_with_xla):\n\u001b[0;32m--> 598\u001b[0m     out \u001b[38;5;241m=\u001b[39m \u001b[43mweak_wrapped_fn\u001b[49m\u001b[43m(\u001b[49m\u001b[43m)\u001b[49m\u001b[38;5;241;43m.\u001b[39;49m\u001b[43m__wrapped__\u001b[49m\u001b[43m(\u001b[49m\u001b[38;5;241;43m*\u001b[39;49m\u001b[43margs\u001b[49m\u001b[43m,\u001b[49m\u001b[43m \u001b[49m\u001b[38;5;241;43m*\u001b[39;49m\u001b[38;5;241;43m*\u001b[39;49m\u001b[43mkwds\u001b[49m\u001b[43m)\u001b[49m\n\u001b[1;32m    599\u001b[0m   \u001b[38;5;28;01mreturn\u001b[39;00m out\n",
      "File \u001b[0;32m~/.conda/envs/research/lib/python3.11/site-packages/tensorflow/python/eager/polymorphic_function/autograph_util.py:41\u001b[0m, in \u001b[0;36mpy_func_from_autograph.<locals>.autograph_handler\u001b[0;34m(*args, **kwargs)\u001b[0m\n\u001b[1;32m     39\u001b[0m \u001b[38;5;250m\u001b[39m\u001b[38;5;124;03m\"\"\"Calls a converted version of original_func.\"\"\"\u001b[39;00m\n\u001b[1;32m     40\u001b[0m \u001b[38;5;28;01mtry\u001b[39;00m:\n\u001b[0;32m---> 41\u001b[0m   \u001b[38;5;28;01mreturn\u001b[39;00m \u001b[43mapi\u001b[49m\u001b[38;5;241;43m.\u001b[39;49m\u001b[43mconverted_call\u001b[49m\u001b[43m(\u001b[49m\n\u001b[1;32m     42\u001b[0m \u001b[43m      \u001b[49m\u001b[43moriginal_func\u001b[49m\u001b[43m,\u001b[49m\n\u001b[1;32m     43\u001b[0m \u001b[43m      \u001b[49m\u001b[43margs\u001b[49m\u001b[43m,\u001b[49m\n\u001b[1;32m     44\u001b[0m \u001b[43m      \u001b[49m\u001b[43mkwargs\u001b[49m\u001b[43m,\u001b[49m\n\u001b[1;32m     45\u001b[0m \u001b[43m      \u001b[49m\u001b[43moptions\u001b[49m\u001b[38;5;241;43m=\u001b[39;49m\u001b[43mconverter\u001b[49m\u001b[38;5;241;43m.\u001b[39;49m\u001b[43mConversionOptions\u001b[49m\u001b[43m(\u001b[49m\n\u001b[1;32m     46\u001b[0m \u001b[43m          \u001b[49m\u001b[43mrecursive\u001b[49m\u001b[38;5;241;43m=\u001b[39;49m\u001b[38;5;28;43;01mTrue\u001b[39;49;00m\u001b[43m,\u001b[49m\n\u001b[1;32m     47\u001b[0m \u001b[43m          \u001b[49m\u001b[43moptional_features\u001b[49m\u001b[38;5;241;43m=\u001b[39;49m\u001b[43mautograph_options\u001b[49m\u001b[43m,\u001b[49m\n\u001b[1;32m     48\u001b[0m \u001b[43m          \u001b[49m\u001b[43muser_requested\u001b[49m\u001b[38;5;241;43m=\u001b[39;49m\u001b[38;5;28;43;01mTrue\u001b[39;49;00m\u001b[43m,\u001b[49m\n\u001b[1;32m     49\u001b[0m \u001b[43m      \u001b[49m\u001b[43m)\u001b[49m\u001b[43m)\u001b[49m\n\u001b[1;32m     50\u001b[0m \u001b[38;5;28;01mexcept\u001b[39;00m \u001b[38;5;167;01mException\u001b[39;00m \u001b[38;5;28;01mas\u001b[39;00m e:  \u001b[38;5;66;03m# pylint:disable=broad-except\u001b[39;00m\n\u001b[1;32m     51\u001b[0m   \u001b[38;5;28;01mif\u001b[39;00m \u001b[38;5;28mhasattr\u001b[39m(e, \u001b[38;5;124m\"\u001b[39m\u001b[38;5;124mag_error_metadata\u001b[39m\u001b[38;5;124m\"\u001b[39m):\n",
      "File \u001b[0;32m~/.conda/envs/research/lib/python3.11/site-packages/tensorflow/python/autograph/impl/api.py:439\u001b[0m, in \u001b[0;36mconverted_call\u001b[0;34m(f, args, kwargs, caller_fn_scope, options)\u001b[0m\n\u001b[1;32m    437\u001b[0m \u001b[38;5;28;01mtry\u001b[39;00m:\n\u001b[1;32m    438\u001b[0m   \u001b[38;5;28;01mif\u001b[39;00m kwargs \u001b[38;5;129;01mis\u001b[39;00m \u001b[38;5;129;01mnot\u001b[39;00m \u001b[38;5;28;01mNone\u001b[39;00m:\n\u001b[0;32m--> 439\u001b[0m     result \u001b[38;5;241m=\u001b[39m \u001b[43mconverted_f\u001b[49m\u001b[43m(\u001b[49m\u001b[38;5;241;43m*\u001b[39;49m\u001b[43meffective_args\u001b[49m\u001b[43m,\u001b[49m\u001b[43m \u001b[49m\u001b[38;5;241;43m*\u001b[39;49m\u001b[38;5;241;43m*\u001b[39;49m\u001b[43mkwargs\u001b[49m\u001b[43m)\u001b[49m\n\u001b[1;32m    440\u001b[0m   \u001b[38;5;28;01melse\u001b[39;00m:\n\u001b[1;32m    441\u001b[0m     result \u001b[38;5;241m=\u001b[39m converted_f(\u001b[38;5;241m*\u001b[39meffective_args)\n",
      "File \u001b[0;32m/tmp/__autograph_generated_file2u_m_ssw.py:15\u001b[0m, in \u001b[0;36mouter_factory.<locals>.inner_factory.<locals>.tf__train_function\u001b[0;34m(iterator)\u001b[0m\n\u001b[1;32m     13\u001b[0m \u001b[38;5;28;01mtry\u001b[39;00m:\n\u001b[1;32m     14\u001b[0m     do_return \u001b[38;5;241m=\u001b[39m \u001b[38;5;28;01mTrue\u001b[39;00m\n\u001b[0;32m---> 15\u001b[0m     retval_ \u001b[38;5;241m=\u001b[39m \u001b[43mag__\u001b[49m\u001b[38;5;241;43m.\u001b[39;49m\u001b[43mconverted_call\u001b[49m\u001b[43m(\u001b[49m\u001b[43mag__\u001b[49m\u001b[38;5;241;43m.\u001b[39;49m\u001b[43mld\u001b[49m\u001b[43m(\u001b[49m\u001b[43mstep_function\u001b[49m\u001b[43m)\u001b[49m\u001b[43m,\u001b[49m\u001b[43m \u001b[49m\u001b[43m(\u001b[49m\u001b[43mag__\u001b[49m\u001b[38;5;241;43m.\u001b[39;49m\u001b[43mld\u001b[49m\u001b[43m(\u001b[49m\u001b[38;5;28;43mself\u001b[39;49m\u001b[43m)\u001b[49m\u001b[43m,\u001b[49m\u001b[43m \u001b[49m\u001b[43mag__\u001b[49m\u001b[38;5;241;43m.\u001b[39;49m\u001b[43mld\u001b[49m\u001b[43m(\u001b[49m\u001b[43miterator\u001b[49m\u001b[43m)\u001b[49m\u001b[43m)\u001b[49m\u001b[43m,\u001b[49m\u001b[43m \u001b[49m\u001b[38;5;28;43;01mNone\u001b[39;49;00m\u001b[43m,\u001b[49m\u001b[43m \u001b[49m\u001b[43mfscope\u001b[49m\u001b[43m)\u001b[49m\n\u001b[1;32m     16\u001b[0m \u001b[38;5;28;01mexcept\u001b[39;00m:\n\u001b[1;32m     17\u001b[0m     do_return \u001b[38;5;241m=\u001b[39m \u001b[38;5;28;01mFalse\u001b[39;00m\n",
      "File \u001b[0;32m~/.conda/envs/research/lib/python3.11/site-packages/tensorflow/python/autograph/impl/api.py:377\u001b[0m, in \u001b[0;36mconverted_call\u001b[0;34m(f, args, kwargs, caller_fn_scope, options)\u001b[0m\n\u001b[1;32m    374\u001b[0m   \u001b[38;5;28;01mreturn\u001b[39;00m _call_unconverted(f, args, kwargs, options)\n\u001b[1;32m    376\u001b[0m \u001b[38;5;28;01mif\u001b[39;00m \u001b[38;5;129;01mnot\u001b[39;00m options\u001b[38;5;241m.\u001b[39muser_requested \u001b[38;5;129;01mand\u001b[39;00m conversion\u001b[38;5;241m.\u001b[39mis_allowlisted(f):\n\u001b[0;32m--> 377\u001b[0m   \u001b[38;5;28;01mreturn\u001b[39;00m \u001b[43m_call_unconverted\u001b[49m\u001b[43m(\u001b[49m\u001b[43mf\u001b[49m\u001b[43m,\u001b[49m\u001b[43m \u001b[49m\u001b[43margs\u001b[49m\u001b[43m,\u001b[49m\u001b[43m \u001b[49m\u001b[43mkwargs\u001b[49m\u001b[43m,\u001b[49m\u001b[43m \u001b[49m\u001b[43moptions\u001b[49m\u001b[43m)\u001b[49m\n\u001b[1;32m    379\u001b[0m \u001b[38;5;66;03m# internal_convert_user_code is for example turned off when issuing a dynamic\u001b[39;00m\n\u001b[1;32m    380\u001b[0m \u001b[38;5;66;03m# call conversion from generated code while in nonrecursive mode. In that\u001b[39;00m\n\u001b[1;32m    381\u001b[0m \u001b[38;5;66;03m# case we evidently don't want to recurse, but we still have to convert\u001b[39;00m\n\u001b[1;32m    382\u001b[0m \u001b[38;5;66;03m# things like builtins.\u001b[39;00m\n\u001b[1;32m    383\u001b[0m \u001b[38;5;28;01mif\u001b[39;00m \u001b[38;5;129;01mnot\u001b[39;00m options\u001b[38;5;241m.\u001b[39minternal_convert_user_code:\n",
      "File \u001b[0;32m~/.conda/envs/research/lib/python3.11/site-packages/tensorflow/python/autograph/impl/api.py:460\u001b[0m, in \u001b[0;36m_call_unconverted\u001b[0;34m(f, args, kwargs, options, update_cache)\u001b[0m\n\u001b[1;32m    458\u001b[0m \u001b[38;5;28;01mif\u001b[39;00m kwargs \u001b[38;5;129;01mis\u001b[39;00m \u001b[38;5;129;01mnot\u001b[39;00m \u001b[38;5;28;01mNone\u001b[39;00m:\n\u001b[1;32m    459\u001b[0m   \u001b[38;5;28;01mreturn\u001b[39;00m f(\u001b[38;5;241m*\u001b[39margs, \u001b[38;5;241m*\u001b[39m\u001b[38;5;241m*\u001b[39mkwargs)\n\u001b[0;32m--> 460\u001b[0m \u001b[38;5;28;01mreturn\u001b[39;00m \u001b[43mf\u001b[49m\u001b[43m(\u001b[49m\u001b[38;5;241;43m*\u001b[39;49m\u001b[43margs\u001b[49m\u001b[43m)\u001b[49m\n",
      "File \u001b[0;32m~/.conda/envs/research/lib/python3.11/site-packages/keras/src/engine/training.py:1384\u001b[0m, in \u001b[0;36mModel.make_train_function.<locals>.step_function\u001b[0;34m(model, iterator)\u001b[0m\n\u001b[1;32m   1380\u001b[0m     run_step \u001b[38;5;241m=\u001b[39m tf\u001b[38;5;241m.\u001b[39mfunction(\n\u001b[1;32m   1381\u001b[0m         run_step, jit_compile\u001b[38;5;241m=\u001b[39m\u001b[38;5;28;01mTrue\u001b[39;00m, reduce_retracing\u001b[38;5;241m=\u001b[39m\u001b[38;5;28;01mTrue\u001b[39;00m\n\u001b[1;32m   1382\u001b[0m     )\n\u001b[1;32m   1383\u001b[0m data \u001b[38;5;241m=\u001b[39m \u001b[38;5;28mnext\u001b[39m(iterator)\n\u001b[0;32m-> 1384\u001b[0m outputs \u001b[38;5;241m=\u001b[39m \u001b[43mmodel\u001b[49m\u001b[38;5;241;43m.\u001b[39;49m\u001b[43mdistribute_strategy\u001b[49m\u001b[38;5;241;43m.\u001b[39;49m\u001b[43mrun\u001b[49m\u001b[43m(\u001b[49m\u001b[43mrun_step\u001b[49m\u001b[43m,\u001b[49m\u001b[43m \u001b[49m\u001b[43margs\u001b[49m\u001b[38;5;241;43m=\u001b[39;49m\u001b[43m(\u001b[49m\u001b[43mdata\u001b[49m\u001b[43m,\u001b[49m\u001b[43m)\u001b[49m\u001b[43m)\u001b[49m\n\u001b[1;32m   1385\u001b[0m outputs \u001b[38;5;241m=\u001b[39m reduce_per_replica(\n\u001b[1;32m   1386\u001b[0m     outputs,\n\u001b[1;32m   1387\u001b[0m     \u001b[38;5;28mself\u001b[39m\u001b[38;5;241m.\u001b[39mdistribute_strategy,\n\u001b[1;32m   1388\u001b[0m     reduction\u001b[38;5;241m=\u001b[39m\u001b[38;5;28mself\u001b[39m\u001b[38;5;241m.\u001b[39mdistribute_reduction_method,\n\u001b[1;32m   1389\u001b[0m )\n\u001b[1;32m   1390\u001b[0m \u001b[38;5;28;01mreturn\u001b[39;00m outputs\n",
      "File \u001b[0;32m~/.conda/envs/research/lib/python3.11/site-packages/tensorflow/python/distribute/distribute_lib.py:1681\u001b[0m, in \u001b[0;36mStrategyBase.run\u001b[0;34m(***failed resolving arguments***)\u001b[0m\n\u001b[1;32m   1676\u001b[0m \u001b[38;5;28;01mwith\u001b[39;00m \u001b[38;5;28mself\u001b[39m\u001b[38;5;241m.\u001b[39mscope():\n\u001b[1;32m   1677\u001b[0m   \u001b[38;5;66;03m# tf.distribute supports Eager functions, so AutoGraph should not be\u001b[39;00m\n\u001b[1;32m   1678\u001b[0m   \u001b[38;5;66;03m# applied when the caller is also in Eager mode.\u001b[39;00m\n\u001b[1;32m   1679\u001b[0m   fn \u001b[38;5;241m=\u001b[39m autograph\u001b[38;5;241m.\u001b[39mtf_convert(\n\u001b[1;32m   1680\u001b[0m       fn, autograph_ctx\u001b[38;5;241m.\u001b[39mcontrol_status_ctx(), convert_by_default\u001b[38;5;241m=\u001b[39m\u001b[38;5;28;01mFalse\u001b[39;00m)\n\u001b[0;32m-> 1681\u001b[0m   \u001b[38;5;28;01mreturn\u001b[39;00m \u001b[38;5;28;43mself\u001b[39;49m\u001b[38;5;241;43m.\u001b[39;49m\u001b[43m_extended\u001b[49m\u001b[38;5;241;43m.\u001b[39;49m\u001b[43mcall_for_each_replica\u001b[49m\u001b[43m(\u001b[49m\u001b[43mfn\u001b[49m\u001b[43m,\u001b[49m\u001b[43m \u001b[49m\u001b[43margs\u001b[49m\u001b[38;5;241;43m=\u001b[39;49m\u001b[43margs\u001b[49m\u001b[43m,\u001b[49m\u001b[43m \u001b[49m\u001b[43mkwargs\u001b[49m\u001b[38;5;241;43m=\u001b[39;49m\u001b[43mkwargs\u001b[49m\u001b[43m)\u001b[49m\n",
      "File \u001b[0;32m~/.conda/envs/research/lib/python3.11/site-packages/tensorflow/python/distribute/distribute_lib.py:3271\u001b[0m, in \u001b[0;36mStrategyExtendedV1.call_for_each_replica\u001b[0;34m(self, fn, args, kwargs)\u001b[0m\n\u001b[1;32m   3269\u001b[0m   kwargs \u001b[38;5;241m=\u001b[39m {}\n\u001b[1;32m   3270\u001b[0m \u001b[38;5;28;01mwith\u001b[39;00m \u001b[38;5;28mself\u001b[39m\u001b[38;5;241m.\u001b[39m_container_strategy()\u001b[38;5;241m.\u001b[39mscope():\n\u001b[0;32m-> 3271\u001b[0m   \u001b[38;5;28;01mreturn\u001b[39;00m \u001b[38;5;28;43mself\u001b[39;49m\u001b[38;5;241;43m.\u001b[39;49m\u001b[43m_call_for_each_replica\u001b[49m\u001b[43m(\u001b[49m\u001b[43mfn\u001b[49m\u001b[43m,\u001b[49m\u001b[43m \u001b[49m\u001b[43margs\u001b[49m\u001b[43m,\u001b[49m\u001b[43m \u001b[49m\u001b[43mkwargs\u001b[49m\u001b[43m)\u001b[49m\n",
      "File \u001b[0;32m~/.conda/envs/research/lib/python3.11/site-packages/tensorflow/python/distribute/distribute_lib.py:4069\u001b[0m, in \u001b[0;36m_DefaultDistributionExtended._call_for_each_replica\u001b[0;34m(self, fn, args, kwargs)\u001b[0m\n\u001b[1;32m   4067\u001b[0m \u001b[38;5;28;01mdef\u001b[39;00m \u001b[38;5;21m_call_for_each_replica\u001b[39m(\u001b[38;5;28mself\u001b[39m, fn, args, kwargs):\n\u001b[1;32m   4068\u001b[0m   \u001b[38;5;28;01mwith\u001b[39;00m ReplicaContext(\u001b[38;5;28mself\u001b[39m\u001b[38;5;241m.\u001b[39m_container_strategy(), replica_id_in_sync_group\u001b[38;5;241m=\u001b[39m\u001b[38;5;241m0\u001b[39m):\n\u001b[0;32m-> 4069\u001b[0m     \u001b[38;5;28;01mreturn\u001b[39;00m \u001b[43mfn\u001b[49m\u001b[43m(\u001b[49m\u001b[38;5;241;43m*\u001b[39;49m\u001b[43margs\u001b[49m\u001b[43m,\u001b[49m\u001b[43m \u001b[49m\u001b[38;5;241;43m*\u001b[39;49m\u001b[38;5;241;43m*\u001b[39;49m\u001b[43mkwargs\u001b[49m\u001b[43m)\u001b[49m\n",
      "File \u001b[0;32m~/.conda/envs/research/lib/python3.11/site-packages/tensorflow/python/autograph/impl/api.py:690\u001b[0m, in \u001b[0;36mconvert.<locals>.decorator.<locals>.wrapper\u001b[0;34m(*args, **kwargs)\u001b[0m\n\u001b[1;32m    688\u001b[0m \u001b[38;5;28;01mtry\u001b[39;00m:\n\u001b[1;32m    689\u001b[0m   \u001b[38;5;28;01mwith\u001b[39;00m conversion_ctx:\n\u001b[0;32m--> 690\u001b[0m     \u001b[38;5;28;01mreturn\u001b[39;00m \u001b[43mconverted_call\u001b[49m\u001b[43m(\u001b[49m\u001b[43mf\u001b[49m\u001b[43m,\u001b[49m\u001b[43m \u001b[49m\u001b[43margs\u001b[49m\u001b[43m,\u001b[49m\u001b[43m \u001b[49m\u001b[43mkwargs\u001b[49m\u001b[43m,\u001b[49m\u001b[43m \u001b[49m\u001b[43moptions\u001b[49m\u001b[38;5;241;43m=\u001b[39;49m\u001b[43moptions\u001b[49m\u001b[43m)\u001b[49m\n\u001b[1;32m    691\u001b[0m \u001b[38;5;28;01mexcept\u001b[39;00m \u001b[38;5;167;01mException\u001b[39;00m \u001b[38;5;28;01mas\u001b[39;00m e:  \u001b[38;5;66;03m# pylint:disable=broad-except\u001b[39;00m\n\u001b[1;32m    692\u001b[0m   \u001b[38;5;28;01mif\u001b[39;00m \u001b[38;5;28mhasattr\u001b[39m(e, \u001b[38;5;124m'\u001b[39m\u001b[38;5;124mag_error_metadata\u001b[39m\u001b[38;5;124m'\u001b[39m):\n",
      "File \u001b[0;32m~/.conda/envs/research/lib/python3.11/site-packages/tensorflow/python/autograph/impl/api.py:377\u001b[0m, in \u001b[0;36mconverted_call\u001b[0;34m(f, args, kwargs, caller_fn_scope, options)\u001b[0m\n\u001b[1;32m    374\u001b[0m   \u001b[38;5;28;01mreturn\u001b[39;00m _call_unconverted(f, args, kwargs, options)\n\u001b[1;32m    376\u001b[0m \u001b[38;5;28;01mif\u001b[39;00m \u001b[38;5;129;01mnot\u001b[39;00m options\u001b[38;5;241m.\u001b[39muser_requested \u001b[38;5;129;01mand\u001b[39;00m conversion\u001b[38;5;241m.\u001b[39mis_allowlisted(f):\n\u001b[0;32m--> 377\u001b[0m   \u001b[38;5;28;01mreturn\u001b[39;00m \u001b[43m_call_unconverted\u001b[49m\u001b[43m(\u001b[49m\u001b[43mf\u001b[49m\u001b[43m,\u001b[49m\u001b[43m \u001b[49m\u001b[43margs\u001b[49m\u001b[43m,\u001b[49m\u001b[43m \u001b[49m\u001b[43mkwargs\u001b[49m\u001b[43m,\u001b[49m\u001b[43m \u001b[49m\u001b[43moptions\u001b[49m\u001b[43m)\u001b[49m\n\u001b[1;32m    379\u001b[0m \u001b[38;5;66;03m# internal_convert_user_code is for example turned off when issuing a dynamic\u001b[39;00m\n\u001b[1;32m    380\u001b[0m \u001b[38;5;66;03m# call conversion from generated code while in nonrecursive mode. In that\u001b[39;00m\n\u001b[1;32m    381\u001b[0m \u001b[38;5;66;03m# case we evidently don't want to recurse, but we still have to convert\u001b[39;00m\n\u001b[1;32m    382\u001b[0m \u001b[38;5;66;03m# things like builtins.\u001b[39;00m\n\u001b[1;32m    383\u001b[0m \u001b[38;5;28;01mif\u001b[39;00m \u001b[38;5;129;01mnot\u001b[39;00m options\u001b[38;5;241m.\u001b[39minternal_convert_user_code:\n",
      "File \u001b[0;32m~/.conda/envs/research/lib/python3.11/site-packages/tensorflow/python/autograph/impl/api.py:459\u001b[0m, in \u001b[0;36m_call_unconverted\u001b[0;34m(f, args, kwargs, options, update_cache)\u001b[0m\n\u001b[1;32m    456\u001b[0m   \u001b[38;5;28;01mreturn\u001b[39;00m f\u001b[38;5;241m.\u001b[39m\u001b[38;5;18m__self__\u001b[39m\u001b[38;5;241m.\u001b[39mcall(args, kwargs)\n\u001b[1;32m    458\u001b[0m \u001b[38;5;28;01mif\u001b[39;00m kwargs \u001b[38;5;129;01mis\u001b[39;00m \u001b[38;5;129;01mnot\u001b[39;00m \u001b[38;5;28;01mNone\u001b[39;00m:\n\u001b[0;32m--> 459\u001b[0m   \u001b[38;5;28;01mreturn\u001b[39;00m \u001b[43mf\u001b[49m\u001b[43m(\u001b[49m\u001b[38;5;241;43m*\u001b[39;49m\u001b[43margs\u001b[49m\u001b[43m,\u001b[49m\u001b[43m \u001b[49m\u001b[38;5;241;43m*\u001b[39;49m\u001b[38;5;241;43m*\u001b[39;49m\u001b[43mkwargs\u001b[49m\u001b[43m)\u001b[49m\n\u001b[1;32m    460\u001b[0m \u001b[38;5;28;01mreturn\u001b[39;00m f(\u001b[38;5;241m*\u001b[39margs)\n",
      "File \u001b[0;32m~/.conda/envs/research/lib/python3.11/site-packages/keras/src/engine/training.py:1373\u001b[0m, in \u001b[0;36mModel.make_train_function.<locals>.step_function.<locals>.run_step\u001b[0;34m(data)\u001b[0m\n\u001b[1;32m   1372\u001b[0m \u001b[38;5;28;01mdef\u001b[39;00m \u001b[38;5;21mrun_step\u001b[39m(data):\n\u001b[0;32m-> 1373\u001b[0m     outputs \u001b[38;5;241m=\u001b[39m \u001b[43mmodel\u001b[49m\u001b[38;5;241;43m.\u001b[39;49m\u001b[43mtrain_step\u001b[49m\u001b[43m(\u001b[49m\u001b[43mdata\u001b[49m\u001b[43m)\u001b[49m\n\u001b[1;32m   1374\u001b[0m     \u001b[38;5;66;03m# Ensure counter is updated only if `train_step` succeeds.\u001b[39;00m\n\u001b[1;32m   1375\u001b[0m     \u001b[38;5;28;01mwith\u001b[39;00m tf\u001b[38;5;241m.\u001b[39mcontrol_dependencies(_minimum_control_deps(outputs)):\n",
      "File \u001b[0;32m~/.conda/envs/research/lib/python3.11/site-packages/keras/src/engine/training.py:1150\u001b[0m, in \u001b[0;36mModel.train_step\u001b[0;34m(self, data)\u001b[0m\n\u001b[1;32m   1148\u001b[0m \u001b[38;5;66;03m# Run forward pass.\u001b[39;00m\n\u001b[1;32m   1149\u001b[0m \u001b[38;5;28;01mwith\u001b[39;00m tf\u001b[38;5;241m.\u001b[39mGradientTape() \u001b[38;5;28;01mas\u001b[39;00m tape:\n\u001b[0;32m-> 1150\u001b[0m     y_pred \u001b[38;5;241m=\u001b[39m \u001b[38;5;28;43mself\u001b[39;49m\u001b[43m(\u001b[49m\u001b[43mx\u001b[49m\u001b[43m,\u001b[49m\u001b[43m \u001b[49m\u001b[43mtraining\u001b[49m\u001b[38;5;241;43m=\u001b[39;49m\u001b[38;5;28;43;01mTrue\u001b[39;49;00m\u001b[43m)\u001b[49m\n\u001b[1;32m   1151\u001b[0m     loss \u001b[38;5;241m=\u001b[39m \u001b[38;5;28mself\u001b[39m\u001b[38;5;241m.\u001b[39mcompute_loss(x, y, y_pred, sample_weight)\n\u001b[1;32m   1152\u001b[0m \u001b[38;5;28mself\u001b[39m\u001b[38;5;241m.\u001b[39m_validate_target_and_loss(y, loss)\n",
      "File \u001b[0;32m~/.conda/envs/research/lib/python3.11/site-packages/keras/src/utils/traceback_utils.py:65\u001b[0m, in \u001b[0;36mfilter_traceback.<locals>.error_handler\u001b[0;34m(*args, **kwargs)\u001b[0m\n\u001b[1;32m     63\u001b[0m filtered_tb \u001b[38;5;241m=\u001b[39m \u001b[38;5;28;01mNone\u001b[39;00m\n\u001b[1;32m     64\u001b[0m \u001b[38;5;28;01mtry\u001b[39;00m:\n\u001b[0;32m---> 65\u001b[0m     \u001b[38;5;28;01mreturn\u001b[39;00m \u001b[43mfn\u001b[49m\u001b[43m(\u001b[49m\u001b[38;5;241;43m*\u001b[39;49m\u001b[43margs\u001b[49m\u001b[43m,\u001b[49m\u001b[43m \u001b[49m\u001b[38;5;241;43m*\u001b[39;49m\u001b[38;5;241;43m*\u001b[39;49m\u001b[43mkwargs\u001b[49m\u001b[43m)\u001b[49m\n\u001b[1;32m     66\u001b[0m \u001b[38;5;28;01mexcept\u001b[39;00m \u001b[38;5;167;01mException\u001b[39;00m \u001b[38;5;28;01mas\u001b[39;00m e:\n\u001b[1;32m     67\u001b[0m     filtered_tb \u001b[38;5;241m=\u001b[39m _process_traceback_frames(e\u001b[38;5;241m.\u001b[39m__traceback__)\n",
      "File \u001b[0;32m~/.conda/envs/research/lib/python3.11/site-packages/keras/src/engine/training.py:590\u001b[0m, in \u001b[0;36mModel.__call__\u001b[0;34m(self, *args, **kwargs)\u001b[0m\n\u001b[1;32m    586\u001b[0m         \u001b[38;5;28msuper\u001b[39m()\u001b[38;5;241m.\u001b[39m\u001b[38;5;21m__call__\u001b[39m(inputs, \u001b[38;5;241m*\u001b[39mcopied_args, \u001b[38;5;241m*\u001b[39m\u001b[38;5;241m*\u001b[39mcopied_kwargs)\n\u001b[1;32m    588\u001b[0m     layout_map_lib\u001b[38;5;241m.\u001b[39m_map_subclass_model_variable(\u001b[38;5;28mself\u001b[39m, \u001b[38;5;28mself\u001b[39m\u001b[38;5;241m.\u001b[39m_layout_map)\n\u001b[0;32m--> 590\u001b[0m \u001b[38;5;28;01mreturn\u001b[39;00m \u001b[38;5;28;43msuper\u001b[39;49m\u001b[43m(\u001b[49m\u001b[43m)\u001b[49m\u001b[38;5;241;43m.\u001b[39;49m\u001b[38;5;21;43m__call__\u001b[39;49m\u001b[43m(\u001b[49m\u001b[38;5;241;43m*\u001b[39;49m\u001b[43margs\u001b[49m\u001b[43m,\u001b[49m\u001b[43m \u001b[49m\u001b[38;5;241;43m*\u001b[39;49m\u001b[38;5;241;43m*\u001b[39;49m\u001b[43mkwargs\u001b[49m\u001b[43m)\u001b[49m\n",
      "File \u001b[0;32m~/.conda/envs/research/lib/python3.11/site-packages/keras/src/utils/traceback_utils.py:65\u001b[0m, in \u001b[0;36mfilter_traceback.<locals>.error_handler\u001b[0;34m(*args, **kwargs)\u001b[0m\n\u001b[1;32m     63\u001b[0m filtered_tb \u001b[38;5;241m=\u001b[39m \u001b[38;5;28;01mNone\u001b[39;00m\n\u001b[1;32m     64\u001b[0m \u001b[38;5;28;01mtry\u001b[39;00m:\n\u001b[0;32m---> 65\u001b[0m     \u001b[38;5;28;01mreturn\u001b[39;00m \u001b[43mfn\u001b[49m\u001b[43m(\u001b[49m\u001b[38;5;241;43m*\u001b[39;49m\u001b[43margs\u001b[49m\u001b[43m,\u001b[49m\u001b[43m \u001b[49m\u001b[38;5;241;43m*\u001b[39;49m\u001b[38;5;241;43m*\u001b[39;49m\u001b[43mkwargs\u001b[49m\u001b[43m)\u001b[49m\n\u001b[1;32m     66\u001b[0m \u001b[38;5;28;01mexcept\u001b[39;00m \u001b[38;5;167;01mException\u001b[39;00m \u001b[38;5;28;01mas\u001b[39;00m e:\n\u001b[1;32m     67\u001b[0m     filtered_tb \u001b[38;5;241m=\u001b[39m _process_traceback_frames(e\u001b[38;5;241m.\u001b[39m__traceback__)\n",
      "File \u001b[0;32m~/.conda/envs/research/lib/python3.11/site-packages/keras/src/engine/base_layer.py:1149\u001b[0m, in \u001b[0;36mLayer.__call__\u001b[0;34m(self, *args, **kwargs)\u001b[0m\n\u001b[1;32m   1144\u001b[0m     inputs \u001b[38;5;241m=\u001b[39m \u001b[38;5;28mself\u001b[39m\u001b[38;5;241m.\u001b[39m_maybe_cast_inputs(inputs, input_list)\n\u001b[1;32m   1146\u001b[0m \u001b[38;5;28;01mwith\u001b[39;00m autocast_variable\u001b[38;5;241m.\u001b[39menable_auto_cast_variables(\n\u001b[1;32m   1147\u001b[0m     \u001b[38;5;28mself\u001b[39m\u001b[38;5;241m.\u001b[39m_compute_dtype_object\n\u001b[1;32m   1148\u001b[0m ):\n\u001b[0;32m-> 1149\u001b[0m     outputs \u001b[38;5;241m=\u001b[39m \u001b[43mcall_fn\u001b[49m\u001b[43m(\u001b[49m\u001b[43minputs\u001b[49m\u001b[43m,\u001b[49m\u001b[43m \u001b[49m\u001b[38;5;241;43m*\u001b[39;49m\u001b[43margs\u001b[49m\u001b[43m,\u001b[49m\u001b[43m \u001b[49m\u001b[38;5;241;43m*\u001b[39;49m\u001b[38;5;241;43m*\u001b[39;49m\u001b[43mkwargs\u001b[49m\u001b[43m)\u001b[49m\n\u001b[1;32m   1151\u001b[0m \u001b[38;5;28;01mif\u001b[39;00m \u001b[38;5;28mself\u001b[39m\u001b[38;5;241m.\u001b[39m_activity_regularizer:\n\u001b[1;32m   1152\u001b[0m     \u001b[38;5;28mself\u001b[39m\u001b[38;5;241m.\u001b[39m_handle_activity_regularization(inputs, outputs)\n",
      "File \u001b[0;32m~/.conda/envs/research/lib/python3.11/site-packages/keras/src/utils/traceback_utils.py:96\u001b[0m, in \u001b[0;36minject_argument_info_in_traceback.<locals>.error_handler\u001b[0;34m(*args, **kwargs)\u001b[0m\n\u001b[1;32m     94\u001b[0m bound_signature \u001b[38;5;241m=\u001b[39m \u001b[38;5;28;01mNone\u001b[39;00m\n\u001b[1;32m     95\u001b[0m \u001b[38;5;28;01mtry\u001b[39;00m:\n\u001b[0;32m---> 96\u001b[0m     \u001b[38;5;28;01mreturn\u001b[39;00m \u001b[43mfn\u001b[49m\u001b[43m(\u001b[49m\u001b[38;5;241;43m*\u001b[39;49m\u001b[43margs\u001b[49m\u001b[43m,\u001b[49m\u001b[43m \u001b[49m\u001b[38;5;241;43m*\u001b[39;49m\u001b[38;5;241;43m*\u001b[39;49m\u001b[43mkwargs\u001b[49m\u001b[43m)\u001b[49m\n\u001b[1;32m     97\u001b[0m \u001b[38;5;28;01mexcept\u001b[39;00m \u001b[38;5;167;01mException\u001b[39;00m \u001b[38;5;28;01mas\u001b[39;00m e:\n\u001b[1;32m     98\u001b[0m     \u001b[38;5;28;01mif\u001b[39;00m \u001b[38;5;28mhasattr\u001b[39m(e, \u001b[38;5;124m\"\u001b[39m\u001b[38;5;124m_keras_call_info_injected\u001b[39m\u001b[38;5;124m\"\u001b[39m):\n\u001b[1;32m     99\u001b[0m         \u001b[38;5;66;03m# Only inject info for the innermost failing call\u001b[39;00m\n",
      "File \u001b[0;32m~/.conda/envs/research/lib/python3.11/site-packages/tensorflow/python/autograph/impl/api.py:690\u001b[0m, in \u001b[0;36mconvert.<locals>.decorator.<locals>.wrapper\u001b[0;34m(*args, **kwargs)\u001b[0m\n\u001b[1;32m    688\u001b[0m \u001b[38;5;28;01mtry\u001b[39;00m:\n\u001b[1;32m    689\u001b[0m   \u001b[38;5;28;01mwith\u001b[39;00m conversion_ctx:\n\u001b[0;32m--> 690\u001b[0m     \u001b[38;5;28;01mreturn\u001b[39;00m \u001b[43mconverted_call\u001b[49m\u001b[43m(\u001b[49m\u001b[43mf\u001b[49m\u001b[43m,\u001b[49m\u001b[43m \u001b[49m\u001b[43margs\u001b[49m\u001b[43m,\u001b[49m\u001b[43m \u001b[49m\u001b[43mkwargs\u001b[49m\u001b[43m,\u001b[49m\u001b[43m \u001b[49m\u001b[43moptions\u001b[49m\u001b[38;5;241;43m=\u001b[39;49m\u001b[43moptions\u001b[49m\u001b[43m)\u001b[49m\n\u001b[1;32m    691\u001b[0m \u001b[38;5;28;01mexcept\u001b[39;00m \u001b[38;5;167;01mException\u001b[39;00m \u001b[38;5;28;01mas\u001b[39;00m e:  \u001b[38;5;66;03m# pylint:disable=broad-except\u001b[39;00m\n\u001b[1;32m    692\u001b[0m   \u001b[38;5;28;01mif\u001b[39;00m \u001b[38;5;28mhasattr\u001b[39m(e, \u001b[38;5;124m'\u001b[39m\u001b[38;5;124mag_error_metadata\u001b[39m\u001b[38;5;124m'\u001b[39m):\n",
      "File \u001b[0;32m~/.conda/envs/research/lib/python3.11/site-packages/tensorflow/python/autograph/impl/api.py:331\u001b[0m, in \u001b[0;36mconverted_call\u001b[0;34m(f, args, kwargs, caller_fn_scope, options)\u001b[0m\n\u001b[1;32m    329\u001b[0m \u001b[38;5;28;01mif\u001b[39;00m conversion\u001b[38;5;241m.\u001b[39mis_in_allowlist_cache(f, options):\n\u001b[1;32m    330\u001b[0m   logging\u001b[38;5;241m.\u001b[39mlog(\u001b[38;5;241m2\u001b[39m, \u001b[38;5;124m'\u001b[39m\u001b[38;5;124mAllowlisted \u001b[39m\u001b[38;5;132;01m%s\u001b[39;00m\u001b[38;5;124m: from cache\u001b[39m\u001b[38;5;124m'\u001b[39m, f)\n\u001b[0;32m--> 331\u001b[0m   \u001b[38;5;28;01mreturn\u001b[39;00m \u001b[43m_call_unconverted\u001b[49m\u001b[43m(\u001b[49m\u001b[43mf\u001b[49m\u001b[43m,\u001b[49m\u001b[43m \u001b[49m\u001b[43margs\u001b[49m\u001b[43m,\u001b[49m\u001b[43m \u001b[49m\u001b[43mkwargs\u001b[49m\u001b[43m,\u001b[49m\u001b[43m \u001b[49m\u001b[43moptions\u001b[49m\u001b[43m,\u001b[49m\u001b[43m \u001b[49m\u001b[38;5;28;43;01mFalse\u001b[39;49;00m\u001b[43m)\u001b[49m\n\u001b[1;32m    333\u001b[0m \u001b[38;5;28;01mif\u001b[39;00m ag_ctx\u001b[38;5;241m.\u001b[39mcontrol_status_ctx()\u001b[38;5;241m.\u001b[39mstatus \u001b[38;5;241m==\u001b[39m ag_ctx\u001b[38;5;241m.\u001b[39mStatus\u001b[38;5;241m.\u001b[39mDISABLED:\n\u001b[1;32m    334\u001b[0m   logging\u001b[38;5;241m.\u001b[39mlog(\u001b[38;5;241m2\u001b[39m, \u001b[38;5;124m'\u001b[39m\u001b[38;5;124mAllowlisted: \u001b[39m\u001b[38;5;132;01m%s\u001b[39;00m\u001b[38;5;124m: AutoGraph is disabled in context\u001b[39m\u001b[38;5;124m'\u001b[39m, f)\n",
      "File \u001b[0;32m~/.conda/envs/research/lib/python3.11/site-packages/tensorflow/python/autograph/impl/api.py:459\u001b[0m, in \u001b[0;36m_call_unconverted\u001b[0;34m(f, args, kwargs, options, update_cache)\u001b[0m\n\u001b[1;32m    456\u001b[0m   \u001b[38;5;28;01mreturn\u001b[39;00m f\u001b[38;5;241m.\u001b[39m\u001b[38;5;18m__self__\u001b[39m\u001b[38;5;241m.\u001b[39mcall(args, kwargs)\n\u001b[1;32m    458\u001b[0m \u001b[38;5;28;01mif\u001b[39;00m kwargs \u001b[38;5;129;01mis\u001b[39;00m \u001b[38;5;129;01mnot\u001b[39;00m \u001b[38;5;28;01mNone\u001b[39;00m:\n\u001b[0;32m--> 459\u001b[0m   \u001b[38;5;28;01mreturn\u001b[39;00m \u001b[43mf\u001b[49m\u001b[43m(\u001b[49m\u001b[38;5;241;43m*\u001b[39;49m\u001b[43margs\u001b[49m\u001b[43m,\u001b[49m\u001b[43m \u001b[49m\u001b[38;5;241;43m*\u001b[39;49m\u001b[38;5;241;43m*\u001b[39;49m\u001b[43mkwargs\u001b[49m\u001b[43m)\u001b[49m\n\u001b[1;32m    460\u001b[0m \u001b[38;5;28;01mreturn\u001b[39;00m f(\u001b[38;5;241m*\u001b[39margs)\n",
      "File \u001b[0;32m~/.conda/envs/research/lib/python3.11/site-packages/keras/src/engine/functional.py:515\u001b[0m, in \u001b[0;36mFunctional.call\u001b[0;34m(self, inputs, training, mask)\u001b[0m\n\u001b[1;32m    496\u001b[0m \u001b[38;5;129m@doc_controls\u001b[39m\u001b[38;5;241m.\u001b[39mdo_not_doc_inheritable\n\u001b[1;32m    497\u001b[0m \u001b[38;5;28;01mdef\u001b[39;00m \u001b[38;5;21mcall\u001b[39m(\u001b[38;5;28mself\u001b[39m, inputs, training\u001b[38;5;241m=\u001b[39m\u001b[38;5;28;01mNone\u001b[39;00m, mask\u001b[38;5;241m=\u001b[39m\u001b[38;5;28;01mNone\u001b[39;00m):\n\u001b[1;32m    498\u001b[0m \u001b[38;5;250m    \u001b[39m\u001b[38;5;124;03m\"\"\"Calls the model on new inputs.\u001b[39;00m\n\u001b[1;32m    499\u001b[0m \n\u001b[1;32m    500\u001b[0m \u001b[38;5;124;03m    In this case `call` just reapplies\u001b[39;00m\n\u001b[0;32m   (...)\u001b[0m\n\u001b[1;32m    513\u001b[0m \u001b[38;5;124;03m        a list of tensors if there are more than one outputs.\u001b[39;00m\n\u001b[1;32m    514\u001b[0m \u001b[38;5;124;03m    \"\"\"\u001b[39;00m\n\u001b[0;32m--> 515\u001b[0m     \u001b[38;5;28;01mreturn\u001b[39;00m \u001b[38;5;28;43mself\u001b[39;49m\u001b[38;5;241;43m.\u001b[39;49m\u001b[43m_run_internal_graph\u001b[49m\u001b[43m(\u001b[49m\u001b[43minputs\u001b[49m\u001b[43m,\u001b[49m\u001b[43m \u001b[49m\u001b[43mtraining\u001b[49m\u001b[38;5;241;43m=\u001b[39;49m\u001b[43mtraining\u001b[49m\u001b[43m,\u001b[49m\u001b[43m \u001b[49m\u001b[43mmask\u001b[49m\u001b[38;5;241;43m=\u001b[39;49m\u001b[43mmask\u001b[49m\u001b[43m)\u001b[49m\n",
      "File \u001b[0;32m~/.conda/envs/research/lib/python3.11/site-packages/keras/src/engine/functional.py:672\u001b[0m, in \u001b[0;36mFunctional._run_internal_graph\u001b[0;34m(self, inputs, training, mask)\u001b[0m\n\u001b[1;32m    669\u001b[0m     \u001b[38;5;28;01mcontinue\u001b[39;00m  \u001b[38;5;66;03m# Node is not computable, try skipping.\u001b[39;00m\n\u001b[1;32m    671\u001b[0m args, kwargs \u001b[38;5;241m=\u001b[39m node\u001b[38;5;241m.\u001b[39mmap_arguments(tensor_dict)\n\u001b[0;32m--> 672\u001b[0m outputs \u001b[38;5;241m=\u001b[39m \u001b[43mnode\u001b[49m\u001b[38;5;241;43m.\u001b[39;49m\u001b[43mlayer\u001b[49m\u001b[43m(\u001b[49m\u001b[38;5;241;43m*\u001b[39;49m\u001b[43margs\u001b[49m\u001b[43m,\u001b[49m\u001b[43m \u001b[49m\u001b[38;5;241;43m*\u001b[39;49m\u001b[38;5;241;43m*\u001b[39;49m\u001b[43mkwargs\u001b[49m\u001b[43m)\u001b[49m\n\u001b[1;32m    674\u001b[0m \u001b[38;5;66;03m# Update tensor_dict.\u001b[39;00m\n\u001b[1;32m    675\u001b[0m \u001b[38;5;28;01mfor\u001b[39;00m x_id, y \u001b[38;5;129;01min\u001b[39;00m \u001b[38;5;28mzip\u001b[39m(\n\u001b[1;32m    676\u001b[0m     node\u001b[38;5;241m.\u001b[39mflat_output_ids, tf\u001b[38;5;241m.\u001b[39mnest\u001b[38;5;241m.\u001b[39mflatten(outputs)\n\u001b[1;32m    677\u001b[0m ):\n",
      "File \u001b[0;32m~/.conda/envs/research/lib/python3.11/site-packages/keras/src/utils/traceback_utils.py:65\u001b[0m, in \u001b[0;36mfilter_traceback.<locals>.error_handler\u001b[0;34m(*args, **kwargs)\u001b[0m\n\u001b[1;32m     63\u001b[0m filtered_tb \u001b[38;5;241m=\u001b[39m \u001b[38;5;28;01mNone\u001b[39;00m\n\u001b[1;32m     64\u001b[0m \u001b[38;5;28;01mtry\u001b[39;00m:\n\u001b[0;32m---> 65\u001b[0m     \u001b[38;5;28;01mreturn\u001b[39;00m \u001b[43mfn\u001b[49m\u001b[43m(\u001b[49m\u001b[38;5;241;43m*\u001b[39;49m\u001b[43margs\u001b[49m\u001b[43m,\u001b[49m\u001b[43m \u001b[49m\u001b[38;5;241;43m*\u001b[39;49m\u001b[38;5;241;43m*\u001b[39;49m\u001b[43mkwargs\u001b[49m\u001b[43m)\u001b[49m\n\u001b[1;32m     66\u001b[0m \u001b[38;5;28;01mexcept\u001b[39;00m \u001b[38;5;167;01mException\u001b[39;00m \u001b[38;5;28;01mas\u001b[39;00m e:\n\u001b[1;32m     67\u001b[0m     filtered_tb \u001b[38;5;241m=\u001b[39m _process_traceback_frames(e\u001b[38;5;241m.\u001b[39m__traceback__)\n",
      "File \u001b[0;32m~/.conda/envs/research/lib/python3.11/site-packages/keras/src/engine/base_layer.py:1127\u001b[0m, in \u001b[0;36mLayer.__call__\u001b[0;34m(self, *args, **kwargs)\u001b[0m\n\u001b[1;32m   1124\u001b[0m     name_scope \u001b[38;5;241m=\u001b[39m \u001b[38;5;28mself\u001b[39m\u001b[38;5;241m.\u001b[39m_get_unnested_name_scope()\n\u001b[1;32m   1125\u001b[0m     call_fn \u001b[38;5;241m=\u001b[39m \u001b[38;5;28mself\u001b[39m\u001b[38;5;241m.\u001b[39m_autographed_call()\n\u001b[0;32m-> 1127\u001b[0m call_fn \u001b[38;5;241m=\u001b[39m \u001b[43mtraceback_utils\u001b[49m\u001b[38;5;241;43m.\u001b[39;49m\u001b[43minject_argument_info_in_traceback\u001b[49m\u001b[43m(\u001b[49m\n\u001b[1;32m   1128\u001b[0m \u001b[43m    \u001b[49m\u001b[43mcall_fn\u001b[49m\u001b[43m,\u001b[49m\n\u001b[1;32m   1129\u001b[0m \u001b[43m    \u001b[49m\u001b[43mobject_name\u001b[49m\u001b[38;5;241;43m=\u001b[39;49m\u001b[43m(\u001b[49m\n\u001b[1;32m   1130\u001b[0m \u001b[43m        \u001b[49m\u001b[38;5;124;43mf\u001b[39;49m\u001b[38;5;124;43m\"\u001b[39;49m\u001b[38;5;124;43mlayer \u001b[39;49m\u001b[38;5;124;43m'\u001b[39;49m\u001b[38;5;132;43;01m{\u001b[39;49;00m\u001b[38;5;28;43mself\u001b[39;49m\u001b[38;5;241;43m.\u001b[39;49m\u001b[43mname\u001b[49m\u001b[38;5;132;43;01m}\u001b[39;49;00m\u001b[38;5;124;43m'\u001b[39;49m\u001b[38;5;124;43m (type \u001b[39;49m\u001b[38;5;132;43;01m{\u001b[39;49;00m\u001b[38;5;28;43mself\u001b[39;49m\u001b[38;5;241;43m.\u001b[39;49m\u001b[38;5;18;43m__class__\u001b[39;49m\u001b[38;5;241;43m.\u001b[39;49m\u001b[38;5;18;43m__name__\u001b[39;49m\u001b[38;5;132;43;01m}\u001b[39;49;00m\u001b[38;5;124;43m)\u001b[39;49m\u001b[38;5;124;43m\"\u001b[39;49m\n\u001b[1;32m   1131\u001b[0m \u001b[43m    \u001b[49m\u001b[43m)\u001b[49m\u001b[43m,\u001b[49m\n\u001b[1;32m   1132\u001b[0m \u001b[43m\u001b[49m\u001b[43m)\u001b[49m\n\u001b[1;32m   1133\u001b[0m \u001b[38;5;28;01mwith\u001b[39;00m contextlib\u001b[38;5;241m.\u001b[39mExitStack() \u001b[38;5;28;01mas\u001b[39;00m namescope_stack:\n\u001b[1;32m   1134\u001b[0m     \u001b[38;5;28;01mif\u001b[39;00m _is_name_scope_on_model_declaration_enabled:\n",
      "File \u001b[0;32m~/.conda/envs/research/lib/python3.11/site-packages/keras/src/utils/traceback_utils.py:160\u001b[0m, in \u001b[0;36minject_argument_info_in_traceback\u001b[0;34m(fn, object_name)\u001b[0m\n\u001b[1;32m    157\u001b[0m         \u001b[38;5;28;01mdel\u001b[39;00m signature\n\u001b[1;32m    158\u001b[0m         \u001b[38;5;28;01mdel\u001b[39;00m bound_signature\n\u001b[0;32m--> 160\u001b[0m \u001b[38;5;28;01mreturn\u001b[39;00m \u001b[43mtf\u001b[49m\u001b[38;5;241;43m.\u001b[39;49m\u001b[43m__internal__\u001b[49m\u001b[38;5;241;43m.\u001b[39;49m\u001b[43mdecorator\u001b[49m\u001b[38;5;241;43m.\u001b[39;49m\u001b[43mmake_decorator\u001b[49m\u001b[43m(\u001b[49m\u001b[43mfn\u001b[49m\u001b[43m,\u001b[49m\u001b[43m \u001b[49m\u001b[43merror_handler\u001b[49m\u001b[43m)\u001b[49m\n",
      "File \u001b[0;32m~/.conda/envs/research/lib/python3.11/site-packages/tensorflow/python/util/tf_decorator.py:168\u001b[0m, in \u001b[0;36mmake_decorator\u001b[0;34m(target, decorator_func, decorator_name, decorator_doc, decorator_argspec)\u001b[0m\n\u001b[1;32m    166\u001b[0m   \u001b[38;5;28;01mpass\u001b[39;00m\n\u001b[1;32m    167\u001b[0m \u001b[38;5;28;01melse\u001b[39;00m:\n\u001b[0;32m--> 168\u001b[0m   bound_instance \u001b[38;5;241m=\u001b[39m \u001b[43m_get_bound_instance\u001b[49m\u001b[43m(\u001b[49m\u001b[43mtarget\u001b[49m\u001b[43m)\u001b[49m\n\u001b[1;32m    169\u001b[0m   \u001b[38;5;66;03m# Present the decorated func as a method as well\u001b[39;00m\n\u001b[1;32m    170\u001b[0m   \u001b[38;5;28;01mif\u001b[39;00m bound_instance \u001b[38;5;129;01mand\u001b[39;00m \u001b[38;5;124m'\u001b[39m\u001b[38;5;124mself\u001b[39m\u001b[38;5;124m'\u001b[39m \u001b[38;5;129;01min\u001b[39;00m signature\u001b[38;5;241m.\u001b[39mparameters:\n",
      "File \u001b[0;32m~/.conda/envs/research/lib/python3.11/site-packages/tensorflow/python/util/tf_decorator.py:181\u001b[0m, in \u001b[0;36m_get_bound_instance\u001b[0;34m(target)\u001b[0m\n\u001b[1;32m    179\u001b[0m \u001b[38;5;28;01mdef\u001b[39;00m \u001b[38;5;21m_get_bound_instance\u001b[39m(target):\n\u001b[1;32m    180\u001b[0m \u001b[38;5;250m  \u001b[39m\u001b[38;5;124;03m\"\"\"Returns the instance any of the targets is attached to.\"\"\"\u001b[39;00m\n\u001b[0;32m--> 181\u001b[0m   decorators, target \u001b[38;5;241m=\u001b[39m \u001b[43munwrap\u001b[49m\u001b[43m(\u001b[49m\u001b[43mtarget\u001b[49m\u001b[43m)\u001b[49m\n\u001b[1;32m    182\u001b[0m   \u001b[38;5;28;01mfor\u001b[39;00m decorator \u001b[38;5;129;01min\u001b[39;00m decorators:\n\u001b[1;32m    183\u001b[0m     \u001b[38;5;28;01mif\u001b[39;00m inspect\u001b[38;5;241m.\u001b[39mismethod(decorator\u001b[38;5;241m.\u001b[39mdecorated_target):\n",
      "File \u001b[0;32m~/.conda/envs/research/lib/python3.11/site-packages/tensorflow/python/util/tf_decorator.py:291\u001b[0m, in \u001b[0;36munwrap\u001b[0;34m(maybe_tf_decorator)\u001b[0m\n\u001b[1;32m    289\u001b[0m \u001b[38;5;28;01mif\u001b[39;00m \u001b[38;5;28misinstance\u001b[39m(cur, TFDecorator):\n\u001b[1;32m    290\u001b[0m   decorators\u001b[38;5;241m.\u001b[39mappend(cur)\n\u001b[0;32m--> 291\u001b[0m \u001b[38;5;28;01melif\u001b[39;00m \u001b[43m_has_tf_decorator_attr\u001b[49m\u001b[43m(\u001b[49m\u001b[43mcur\u001b[49m\u001b[43m)\u001b[49m:\n\u001b[1;32m    292\u001b[0m   decorators\u001b[38;5;241m.\u001b[39mappend(\u001b[38;5;28mgetattr\u001b[39m(cur, \u001b[38;5;124m'\u001b[39m\u001b[38;5;124m_tf_decorator\u001b[39m\u001b[38;5;124m'\u001b[39m))\n\u001b[1;32m    293\u001b[0m \u001b[38;5;28;01melse\u001b[39;00m:\n",
      "File \u001b[0;32m~/.conda/envs/research/lib/python3.11/site-packages/tensorflow/python/util/tf_decorator.py:196\u001b[0m, in \u001b[0;36m_has_tf_decorator_attr\u001b[0;34m(obj)\u001b[0m\n\u001b[1;32m    187\u001b[0m \u001b[38;5;28;01mdef\u001b[39;00m \u001b[38;5;21m_has_tf_decorator_attr\u001b[39m(obj):\n\u001b[1;32m    188\u001b[0m \u001b[38;5;250m  \u001b[39m\u001b[38;5;124;03m\"\"\"Checks if object has _tf_decorator attribute.\u001b[39;00m\n\u001b[1;32m    189\u001b[0m \n\u001b[1;32m    190\u001b[0m \u001b[38;5;124;03m  This check would work for mocked object as well since it would\u001b[39;00m\n\u001b[0;32m   (...)\u001b[0m\n\u001b[1;32m    194\u001b[0m \u001b[38;5;124;03m    obj: Python object.\u001b[39;00m\n\u001b[1;32m    195\u001b[0m \u001b[38;5;124;03m  \"\"\"\u001b[39;00m\n\u001b[0;32m--> 196\u001b[0m   \u001b[38;5;28;01mreturn\u001b[39;00m (\u001b[38;5;28mhasattr\u001b[39m(obj, \u001b[38;5;124m'\u001b[39m\u001b[38;5;124m_tf_decorator\u001b[39m\u001b[38;5;124m'\u001b[39m) \u001b[38;5;129;01mand\u001b[39;00m\n\u001b[1;32m    197\u001b[0m           \u001b[38;5;28misinstance\u001b[39m(\u001b[38;5;28mgetattr\u001b[39m(obj, \u001b[38;5;124m'\u001b[39m\u001b[38;5;124m_tf_decorator\u001b[39m\u001b[38;5;124m'\u001b[39m), TFDecorator))\n",
      "\u001b[0;31mKeyboardInterrupt\u001b[0m: "
     ]
    }
   ],
   "source": [
    "qq = 'qq'\n",
    "noise = False\n",
    "\n",
    "weight_list1 = []\n",
    "weight_list2 = []\n",
    "weight_list3 = []\n",
    "\n",
    "max_sic1 = []\n",
    "max_sic2 = []\n",
    "\n",
    "epsilon = 1e-4\n",
    "\n",
    "# w1 = round(random.uniform(0.5, 6.0),3)\n",
    "# w2 = round(random.uniform(0.5, 6.0),3)\n",
    "# w1 = 5\n",
    "# w2 = 4\n",
    "# w1, w2 = 4.614, 1.166\n",
    "w1, w2 = 1.14297616481781, 1.6546475887298584\n",
    "es = tf.keras.callbacks.EarlyStopping(monitor='val_loss', patience=10)\n",
    "# w1 = 3.095\n",
    "# w2 = 4.646\n",
    "# w1 = 0.81\n",
    "# w2 = 4.223\n",
    "sigspace = np.flip(np.logspace(-3,-1,10))\n",
    "# sigspace = [0.233]\n",
    "for sigfrac in sigspace:\n",
    "    #sigfrac = 0.1\n",
    "    print(w1, w2, sigfrac)\n",
    "\n",
    "    for l in model_qq.layers:\n",
    "        l.trainable=False\n",
    "\n",
    "    inputs_hold = tf.keras.Input(shape=(1,))\n",
    "    simple_model = Dense(1,use_bias = False,activation='relu',kernel_initializer=tf.keras.initializers.Constant(w1))(inputs_hold)\n",
    "    model3 = Model(inputs = inputs_hold, outputs = simple_model)\n",
    "\n",
    "    inputs_hold2 = tf.keras.Input(shape=(1,))\n",
    "    simple_model2 = Dense(1,use_bias = False,activation='relu',kernel_initializer=tf.keras.initializers.Constant(w2))(inputs_hold2)\n",
    "    model32 = Model(inputs = inputs_hold2, outputs = simple_model2)\n",
    "\n",
    "    inputs_hold3 = tf.keras.Input(shape=(1,))\n",
    "    simple_model3 = tf.exp(Dense(1,use_bias = False,activation='linear',kernel_initializer=tf.keras.initializers.Constant(-1))(inputs_hold3))\n",
    "    model33 = Model(inputs = inputs_hold3, outputs = simple_model3)\n",
    "\n",
    "    inputs = tf.keras.Input(shape=(6,))\n",
    "    inputs2 = tf.keras.layers.concatenate([inputs,model3(tf.ones_like(inputs)[:,0]),model32(tf.ones_like(inputs)[:,0])])\n",
    "    hidden_layer_1 = model_qq(inputs2)\n",
    "    LLR = hidden_layer_1 / (1.-hidden_layer_1 + 0.0001)\n",
    "    #LLR_xs = 1.+sigfrac*LLR - sigfrac\n",
    "    LLR_xs = 1. + model33(tf.ones_like(inputs)[:,0])*LLR - model33(tf.ones_like(inputs)[:,0])\n",
    "    ws = LLR_xs / (1.+LLR_xs)\n",
    "    model_semiweak = Model(inputs = inputs, outputs = ws)\n",
    "    model_semiweak.compile(loss='binary_crossentropy', optimizer=tf.keras.optimizers.Adam(learning_rate = 0.01))\n",
    "\n",
    "    m1 = 3\n",
    "    m2 = 3\n",
    "\n",
    "    test_background = int(1/2 * len(x[0,0, qq, False]))\n",
    "    train_reference = int(1/4 *len(x[0,0, qq, False]))\n",
    "    train_data = int(1/4 * len(x[0,0, qq, False]))\n",
    "    test_signal = int(1/2*len(x[m1,m2, qq, False]))\n",
    "\n",
    "    #fixed signal portion\n",
    "    N = int(1/4 *len(x[0,0, qq, False]))\n",
    "    signal = x[m1,m2, qq, False][test_signal:test_signal+int(sigfrac*N)]\n",
    "    x_data_ = np.concatenate([x[0,0, qq, False][test_background:],signal])\n",
    "    y_data_ = np.concatenate([np.zeros(train_reference),np.ones(train_data),np.ones(len(signal))])\n",
    "\n",
    "    X_train_, X_val_, Y_train_, Y_val_ = train_test_split(x_data_, y_data_, test_size=0.5, random_state = 42)\n",
    "\n",
    "    myhistory_hack_ = model_semiweak.fit(X_train_[:,0:6], Y_train_, epochs=20,validation_data=(X_val_[:,0:6], Y_val_),batch_size=1024, verbose = 0)\n",
    "    print(m1,m2,model_semiweak.trainable_weights[0].numpy()[0][0],model_semiweak.trainable_weights[1].numpy()[0][0])\n",
    "    weight_list1+=[model_semiweak.trainable_weights[0].numpy()[0][0]]\n",
    "    weight_list2+=[model_semiweak.trainable_weights[1].numpy()[0][0]]\n",
    "    #weight_list3+=[model_semiweak.trainable_weights[2].numpy()[0][0]]"
   ]
  },
  {
   "cell_type": "code",
   "execution_count": 45,
   "id": "d88a934f-1b4d-4b2b-a47f-ffab4facaa22",
   "metadata": {
    "tags": []
   },
   "outputs": [],
   "source": [
    "# #from landscapes import eval_loss_landscape_6Features\n",
    "# sigspace = [np.logspace(-3, -1, 10)[-1]]\n",
    "# feature_dims = 6\n",
    "# params=2\n",
    "# m1,m2 = 1, 5.5\n",
    "# step = 0.25\n",
    "# eval_loss_landscape_6Features(sigspace, model_qq, feature_dims, params, m1, m2, step)"
   ]
  },
  {
   "cell_type": "code",
   "execution_count": 21,
   "id": "8b13e2f3-42ea-4398-afa0-311e6023f49d",
   "metadata": {
    "tags": []
   },
   "outputs": [
    {
     "data": {
      "image/png": "[encoded data removed]",
      "text/plain": [
       "<Figure size 640x480 with 1 Axes>"
      ]
     },
     "metadata": {},
     "output_type": "display_data"
    }
   ],
   "source": [
    "sigspace = np.logspace(-3, -1, 10)\n",
    "plt.plot(sigspace, sigspace, label = \"Theoretical\")\n",
    "plt.plot(sigspace, np.exp(weight_list3), label = \"Fitted\")\n",
    "plt.yscale(\"log\")\n",
    "plt.xscale(\"log\")\n",
    "plt.legend()\n",
    "plt.show()"
   ]
  },
  {
   "cell_type": "code",
   "execution_count": 16,
   "id": "eec4507b-c156-485c-b88e-b84c617b6615",
   "metadata": {
    "tags": []
   },
   "outputs": [],
   "source": [
    "# plt.plot(sig_list,np.array(weight_list1)*100, label = f\"w1 {w1}\")\n",
    "# plt.plot(sig_list,np.array(weight_list2)*100, label = f\"w2 {w2}\")\n",
    "# plt.xscale(\"log\")\n",
    "# plt.xlabel(\"S/B\")\n",
    "# plt.ylabel(\"Fitted masses [GeV]\")\n",
    "# plt.title(\"Trainable Weights vs S/B 6 Features 3 Parameters\")\n",
    "# plt.axhline(m2 * 100,ls=\":\",color='orange', label = m2)\n",
    "# plt.axhline(m1 * 100,ls=\":\",color='blue', label = m1)\n",
    "# plt.legend()\n",
    "# plt.ylim([0,700])"
   ]
  },
  {
   "cell_type": "code",
   "execution_count": 213,
   "id": "c74b49b7-2b84-47d5-aac5-657e6c1ccefe",
   "metadata": {
    "tags": []
   },
   "outputs": [
    {
     "data": {
      "text/plain": [
       "Text(0, 0.5, 'Max SIC')"
      ]
     },
     "execution_count": 213,
     "metadata": {},
     "output_type": "execute_result"
    },
    {
     "data": {
      "image/png": "[encoded data removed]",
      "text/plain": [
       "<Figure size 640x480 with 1 Axes>"
      ]
     },
     "metadata": {},
     "output_type": "display_data"
    }
   ],
   "source": [
    "plt.plot(sig_list,msic1,label=\"Weakly, Semisupervised\")\n",
    "plt.plot(sig_list,msic2,label=\"Weakly Supervised\")\n",
    "plt.title(f\"CWOLA vs Semi Weakly 6 Features m1: {m1} m2: {m2} | w1: {w1} w2: {w2}\")\n",
    "plt.legend()\n",
    "plt.xscale(\"log\")\n",
    "plt.xlabel(\"S/B\")\n",
    "plt.ylabel(\"Max SIC\")"
   ]
  },
  {
   "cell_type": "code",
   "execution_count": 455,
   "id": "258763df-3272-450f-bc1d-5b797e5953e0",
   "metadata": {
    "tags": []
   },
   "outputs": [
    {
     "data": {
      "text/plain": [
       "Text(0, 0.5, 'Max SIC')"
      ]
     },
     "execution_count": 455,
     "metadata": {},
     "output_type": "execute_result"
    },
    {
     "data": {
      "image/png": "[encoded data removed]",
      "text/plain": [
       "<Figure size 640x480 with 1 Axes>"
      ]
     },
     "metadata": {},
     "output_type": "display_data"
    }
   ],
   "source": [
    "plt.plot(sig_list,msic1,label=\"Weakly, Semisupervised\")\n",
    "plt.plot(sig_list,msic2,label=\"Weakly Supervised\")\n",
    "plt.title(f\"6 Features m1: {m1} m2: {m2} | w1: {w1} w2: {w2} 1 Noise Dim\")\n",
    "plt.legend()\n",
    "plt.xscale(\"log\")\n",
    "plt.xlabel(\"S/B\")\n",
    "plt.ylabel(\"Max SIC\")"
   ]
  },
  {
   "cell_type": "code",
   "execution_count": 39,
   "id": "9c4a5073-113b-4f23-8bd6-8d556bfc5554",
   "metadata": {
    "tags": []
   },
   "outputs": [
    {
     "data": {
      "text/plain": [
       "Text(0, 0.5, 'Max SIC')"
      ]
     },
     "execution_count": 39,
     "metadata": {},
     "output_type": "execute_result"
    },
    {
     "data": {
      "image/png": "[encoded data removed]",
      "text/plain": [
       "<Figure size 640x480 with 1 Axes>"
      ]
     },
     "metadata": {},
     "output_type": "display_data"
    }
   ],
   "source": [
    "plt.plot(sig_list,msic1,label=\"Weakly, Semisupervised\")\n",
    "plt.plot(sig_list,msic2,label=\"Weakly Supervised\")\n",
    "plt.title(f\"6 Features m1: {m1} m2: {m2} | w1: {w1} w2: {w2} 10 Noise Dims\")\n",
    "plt.legend()\n",
    "plt.xscale(\"log\")\n",
    "plt.xlabel(\"S/B\")\n",
    "plt.ylabel(\"Max SIC\")"
   ]
  },
  {
   "cell_type": "code",
   "execution_count": 32,
   "id": "c4ee62da-4746-4838-88ac-6812e91e10c5",
   "metadata": {
    "tags": []
   },
   "outputs": [],
   "source": [
    "#dedicated training on single mass pair\n",
    "def train_supervised(feature_dims, m1, m2):\n",
    "    tf.random.set_seed(42)\n",
    "    np.random.seed(42)\n",
    "    x_data_full = np.concatenate([x[0,0, qq, noise],x[m1,m2, qq, noise]])\n",
    "    y_data_full = np.concatenate([np.zeros(len(x[0,0, qq, noise])),np.ones(len(x[m1,m2, qq, noise]))])\n",
    "    X_train_full, X_val_full, Y_train_full, Y_val_full = train_test_split(x_data_full, y_data_full, test_size=0.5, random_state = 42, shuffle=False)\n",
    "\n",
    "    model_dedicated = Sequential()\n",
    "    model_dedicated.add(Dense(128, input_dim=feature_dims, activation='relu'))\n",
    "    model_dedicated.add(Dense(128, activation='relu'))\n",
    "    model_dedicated.add(Dense(128, activation='relu'))\n",
    "    model_dedicated.add(Dense(1, activation='sigmoid'))\n",
    "    model_dedicated.compile(loss=\"binary_crossentropy\", optimizer='adam', metrics=['accuracy'])\n",
    "\n",
    "    history_fullySupervised = model_dedicated.fit(X_train_full, Y_train_full, epochs=100,validation_data=(X_val_full, Y_val_full),batch_size=1024, verbose = 0)\n",
    "    preds = model_dedicated.predict(X_val_full,batch_size=1000)\n",
    "    fpr, tpr, _ = metrics.roc_curve(Y_val_full, preds)\n",
    "    maxsic_full = np.max(tpr/np.sqrt(fpr+epsilon))\n",
    "    return maxsic_full\n",
    "\n",
    "#CWOLA comparison\n",
    "def compileCWOLA(feature_dims, m1, m2):\n",
    "    model_cwola = Sequential()\n",
    "    model_cwola.add(Dense(128, input_dim=feature_dims, activation='relu'))\n",
    "    model_cwola.add(Dense(128, activation='relu'))\n",
    "    model_cwola.add(Dense(128, activation='relu'))\n",
    "    model_cwola.add(Dense(1, activation='sigmoid'))\n",
    "    model_cwola.compile(loss='binary_crossentropy', optimizer='adam', metrics=['accuracy'])\n",
    "    return model_cwola\n",
    "\n",
    "from tensorflow.keras.constraints import Constraint\n",
    "class WeightConstraint(Constraint):\n",
    "    def __init__(self, min_value=0.5, max_value=6):\n",
    "        self.min_value = min_value\n",
    "        self.max_value = max_value\n",
    "\n",
    "    def __call__(self, weights):\n",
    "        return tf.clip_by_value(weights, self.min_value, self.max_value)\n",
    "\n",
    "    def get_config(self):\n",
    "        return {'min_value': self.min_value, 'max_value': self.max_value}\n",
    "\n",
    "#SemiWeak Model\n",
    "def compileSemiWeakly(sigfrac, model, feature_dims, params, m1, m2, w1, w2):\n",
    "    \n",
    "    for l in model.layers:\n",
    "        l.trainable=False\n",
    "        \n",
    "    inputs_hold = tf.keras.Input(shape=(1,))\n",
    "    simple_model = Dense(1,use_bias = False,activation='relu',kernel_initializer=tf.keras.initializers.Constant(w1), kernel_constraint=WeightConstraint())(inputs_hold)\n",
    "    model3 = Model(inputs = inputs_hold, outputs = simple_model)\n",
    "\n",
    "    inputs_hold2 = tf.keras.Input(shape=(1,))\n",
    "    simple_model2 = Dense(1,use_bias = False,activation='relu',kernel_initializer=tf.keras.initializers.Constant(w2), kernel_constraint=WeightConstraint())(inputs_hold2)\n",
    "    model32 = Model(inputs = inputs_hold2, outputs = simple_model2)\n",
    "\n",
    "    inputs_hold3 = tf.keras.Input(shape=(1,))\n",
    "    simple_model3 = tf.exp(Dense(1,use_bias = False,activation='linear',kernel_initializer=tf.keras.initializers.Constant(-1))(inputs_hold3))\n",
    "    model33 = Model(inputs = inputs_hold3, outputs = simple_model3)\n",
    "\n",
    "    inputs = tf.keras.Input(shape=(feature_dims,))\n",
    "    inputs2 = tf.keras.layers.concatenate([inputs,model3(tf.ones_like(inputs)[:,0]),model32(tf.ones_like(inputs)[:,0])])\n",
    "    epsilon = 1e-4\n",
    "    #physics prior\n",
    "    hidden_layer_1 = model(inputs2)\n",
    "    LLR = hidden_layer_1 / (1.-hidden_layer_1 + epsilon)\n",
    "\n",
    "    if params == 2:\n",
    "        LLR_xs = 1.+sigfrac*LLR - sigfrac\n",
    "    elif params == 3:\n",
    "        LLR_xs = 1. + model33(tf.ones_like(inputs)[:,0])*LLR - model33(tf.ones_like(inputs)[:,0])\n",
    "    else:\n",
    "        print(\"Choose 2 or 3 parameters\")\n",
    "    ws = LLR_xs / (1.+LLR_xs)\n",
    "\n",
    "    SemiWeakModel = Model(inputs = inputs, outputs = ws)\n",
    "    SemiWeakModel.compile(loss='binary_crossentropy', optimizer=tf.keras.optimizers.Adam(learning_rate = 0.01))\n",
    "    return SemiWeakModel\n",
    "\n",
    "def compileSemiWeakly3Prong(model_qq, model_qqq, feature_dims, parameters, m1, m2, w1, w2):\n",
    "    #freeze both two pronged and three pronged prior models\n",
    "        for l in model_qq.layers:\n",
    "            l.trainable=False\n",
    "\n",
    "        for l in model_qqq.layers:\n",
    "            l.trainable=False\n",
    "\n",
    "        inputs_hold = tf.keras.Input(shape=(1,))\n",
    "        simple_model = Dense(1,use_bias = False,activation='relu',kernel_initializer=tf.keras.initializers.Constant(w1))(inputs_hold)\n",
    "        model3 = Model(inputs = inputs_hold, outputs = simple_model)\n",
    "\n",
    "        inputs_hold2 = tf.keras.Input(shape=(1,))\n",
    "        simple_model2 = Dense(1,use_bias = False,activation='relu',kernel_initializer=tf.keras.initializers.Constant(w2))(inputs_hold2)\n",
    "        model32 = Model(inputs = inputs_hold2, outputs = simple_model2)\n",
    "\n",
    "        inputs_hold3 = tf.keras.Input(shape=(1,))\n",
    "        simple_model3 = tf.exp(Dense(1,use_bias = False,activation='linear',kernel_initializer=tf.keras.initializers.Constant(-1))(inputs_hold3))\n",
    "        model33 = Model(inputs = inputs_hold3, outputs = simple_model3)\n",
    "\n",
    "        inputs_hold4 = tf.keras.Input(shape=(1,))\n",
    "        simple_model4 = Dense(1,use_bias = False,activation='sigmoid',kernel_initializer=tf.keras.initializers.Constant(1.))(inputs_hold4)\n",
    "        model34 = Model(inputs = inputs_hold4, outputs = simple_model4)\n",
    "\n",
    "        inputs = tf.keras.Input(shape=(feature_dims,))\n",
    "        inputs2 = tf.keras.layers.concatenate([inputs,model3(tf.ones_like(inputs)[:,0]),model32(tf.ones_like(inputs)[:,0])])\n",
    "        hidden_layer_1 = model_qq(inputs2)\n",
    "        hidden_layer_13 = model_qqq(inputs2)\n",
    "        LLR2 = hidden_layer_1 / (1.-hidden_layer_1+0.0001)\n",
    "        LLR3 = hidden_layer_13 / (1.-hidden_layer_13+0.0001)\n",
    "        if parameters == 2:\n",
    "            LLR_xs = 1.+ sigfrac*LLR3 - sigfrac\n",
    "        elif parameters == 4:\n",
    "            LLR_xs = 1 + model33(tf.ones_like(inputs)[:,0])*model34(tf.ones_like(inputs)[:,0]) * LLR3 + (1-model34(tf.ones_like(inputs)[:,0]))*LLR2*model33(tf.ones_like(inputs)[:,0]) - model33(tf.ones_like(inputs)[:,0])\n",
    "        else:\n",
    "            print(\"Choose 2 or 4 parameters\")\n",
    "        ws = LLR_xs / (1.+LLR_xs+0.0001)\n",
    "        semiweak3 = Model(inputs = inputs, outputs = ws)\n",
    "        semiweak3.compile(loss='binary_crossentropy', optimizer=tf.keras.optimizers.Adam(learning_rate = 0.01))\n",
    "        return semiweak3"
   ]
  },
  {
   "cell_type": "code",
   "execution_count": 71,
   "id": "6c7a23ad-1f03-42e4-9477-ceb5a7b690d2",
   "metadata": {
    "tags": []
   },
   "outputs": [],
   "source": [
    "#Loop over signal injection amounts M\n",
    "#For a given signal injection amount, inject events according to N ~ Poission(M)\n",
    "#For a given N injected events, initialize the network with w ~ Uniform.  Do this k times.\n",
    "\n",
    "noise = False\n",
    "epsilon = 1e-4\n",
    "#es = tf.keras.callbacks.EarlyStopping(monitor='val_loss', patience=10)\n",
    "\n",
    "def train_semiweak(feature_dims, m1, m2, parameters, injections, m_initializations):\n",
    "    maxsicandstd1 = {}\n",
    "    maxsicandstd2 = {}\n",
    "    msic1_runs = []\n",
    "    msic2_runs = []\n",
    "    std1_runs = []\n",
    "    std2_runs = []\n",
    "    score1_injections_raw_runs = []\n",
    "    score2_injections_raw_runs = []\n",
    "    weight_list1_runs = []\n",
    "    weight_list2_runs = []\n",
    "    weight_list3_runs = []\n",
    "    initial_weights_runs = []\n",
    "    \n",
    "    qq = \"qq\"\n",
    "    test_signal = int(1/2*len(x[m1,m2, qq, noise]))\n",
    "\n",
    "    sigspace = np.flip(np.logspace(-3,-1,10))\n",
    "    for sigfrac in sigspace:\n",
    "\n",
    "        initial_weights = []\n",
    "\n",
    "        msic1_median = []\n",
    "        msic2 = []\n",
    "        score1_injections = []\n",
    "        score2_injections = []\n",
    "        weight_list1_injections = []\n",
    "        weight_list2_injections = []\n",
    "        weight_list3_injections = []\n",
    "\n",
    "        print(f\"---------------{sigfrac}---------------\")\n",
    "\n",
    "        # N ~ Poission(M) injected events\n",
    "        for injection in range(injections):\n",
    "            print(f\"Injecting N = {injections - injection} more times, currently on: N = {injection}\")\n",
    "\n",
    "            #randomized signal\n",
    "            random_test_signal_length = random.randint(0, test_signal - 1)\n",
    "            N = int(1/4 * (len(x[0,0, qq, noise])))\n",
    "            signal = x[m1, m2, qq, noise][random_test_signal_length:random_test_signal_length + int(sigfrac*N)]\n",
    "\n",
    "            #fixed signal portion\n",
    "            # N = int(1/4 * (len(x[0,0, qq, noise])))\n",
    "            # signal = x[m1, m2, qq, noise][test_signal:test_signal + int(sigfrac*N)]\n",
    "\n",
    "            score1_kruns = []\n",
    "            weight_list1_kruns = []\n",
    "            weight_list2_kruns = []\n",
    "            weight_list3_kruns = []\n",
    "\n",
    "            print(f\"Ensembling {k_runs} for Signal Fraction : {sigfrac}\")\n",
    "            for k in range(k_runs):\n",
    "\n",
    "                w1 = round(random.uniform(0.5, 6),3)\n",
    "                w2 = round(random.uniform(0.5, 6),3)\n",
    "                initial_weights.append((w1, w2))\n",
    "\n",
    "                print(f\"Initialization: {w1} {w2}\")\n",
    "\n",
    "                for l in model_qq.layers:\n",
    "                    l.trainable=False\n",
    "                model_semiweak = compileSemiWeakly(sigfrac,model_qq, feature_dims, params, m1, m2, w1, w2)\n",
    "\n",
    "                test_background = int(1/2 * len(x[0,0, qq, noise]))\n",
    "                train_reference = int(1/4 *len(x[0,0, qq, noise]))\n",
    "                train_data = int(1/4 * len(x[0,0, qq, noise]))\n",
    "                test_signal = int(1/2*len(x[m1,m2, qq, noise]))\n",
    "\n",
    "                x_data_ = np.concatenate([x[0,0, qq, noise][test_background:],signal])\n",
    "                y_data_ = np.concatenate([np.zeros(train_reference),np.ones(train_data),np.ones(len(signal))])\n",
    "\n",
    "                X_train_, X_val_, Y_train_, Y_val_ = train_test_split(x_data_, y_data_, test_size=0.5, random_state = 42)\n",
    "\n",
    "                history_semiweak = model_semiweak.fit(X_train_[:,0:feature_dims], Y_train_, epochs=100,\n",
    "                                                       validation_data=(X_val_[:,0:feature_dims], Y_val_),batch_size=1024, verbose = 0)\n",
    "\n",
    "                print(f\"m1: {m1}\",f\"m2: {m2}\", f\"w1: {model_semiweak.trainable_weights[0].numpy()[0][0]}\", f\"w2: {model_semiweak.trainable_weights[1].numpy()[0][0]}\")\n",
    "\n",
    "                weight_list1_kruns+=[model_semiweak.trainable_weights[0].numpy()[0][0]]\n",
    "                weight_list2_kruns+=[model_semiweak.trainable_weights[1].numpy()[0][0]]\n",
    "                weight_list3_kruns+=[model_semiweak.trainable_weights[2].numpy()[0][0]]\n",
    "\n",
    "                scores = model_semiweak.predict(np.concatenate([x[0,0, qq, noise][0:test_background],x[m1,m2, qq, noise][0:test_signal]]),batch_size=1024)\n",
    "\n",
    "                #per-event probability\n",
    "                score1_kruns.append(scores)\n",
    "\n",
    "            #kruns finished\n",
    "            weight_list1_injections.append(weight_list1_kruns)\n",
    "            weight_list2_injections.append(weight_list2_kruns)\n",
    "            weight_list3_injections.append(weight_list3_kruns)\n",
    "            \n",
    "            #now average over the k classifiers runs\n",
    "            y = np.concatenate([np.zeros(test_background),np.ones(test_signal)])\n",
    "            fpr, tpr, _ = metrics.roc_curve(y, np.median(score1_kruns, axis = 0))\n",
    "            msic1_kmedian = np.max(tpr/np.sqrt(fpr+epsilon))\n",
    "            score1_injections.append(score1_kruns)\n",
    "            msic1_median.append(msic1_kmedian)\n",
    "            print(f\" --- msic1_median on injection {injection}: {msic1_kmedian} ---\")\n",
    "            \n",
    "            #weakly supervised only inject no k classifiers (out of mass initialization loop) no averaging to be done yet\n",
    "            model_CWOLA = compileCWOLA(feature_dims, m1, m2)\n",
    "            history_CWOLA = model_CWOLA.fit(X_train_[:,0:feature_dims], Y_train_, epochs=10,validation_data=(X_val_[:,0:feature_dims], Y_val_),batch_size=1024, verbose = 0)\n",
    "            \n",
    "            scores2 = model_CWOLA.predict(np.concatenate([x[0,0, qq, noise][0:test_background],x[m1,m2, qq, noise][0:test_signal]]),batch_size=1024)\n",
    "            score2_injections.append(scores2)\n",
    "            \n",
    "            y2 = np.concatenate([np.zeros(test_background),np.ones(test_signal)])\n",
    "            fpr2, tpr2, _ = metrics.roc_curve(y2, scores2)\n",
    "            msic2.append(np.max(tpr2/np.sqrt(fpr2+epsilon)))\n",
    "        \n",
    "        msic1_runs.append(np.median(msic1_median))\n",
    "        print(f\" --- msic1_runs for signal fraction {sigfrac}: {np.median(msic1_median)} ---\")\n",
    "        std1_runs.append(np.std(msic1_median))\n",
    "        print(f\" --- msic1_runs_std for signal fraction {sigfrac}: {np.std(msic1_median)} ---\")\n",
    "        \n",
    "        print(f\" --- msic2_runs for signal fraction {sigfrac}: {np.median(msic2)} ---\")\n",
    "        std2_runs.append(np.std(msic2))\n",
    "        print(f\" --- msic2_runs_std for signal fraction {sigfrac}: {np.std(msic2)} ---\")\n",
    "        msic2_runs.append(np.median(msic2))\n",
    "        \n",
    "        score1_injections_raw_runs.append(score1_injections)\n",
    "        score2_injections_raw_runs.append(score2_injections)\n",
    "        weight_list1_runs.append(weight_list1_injections)\n",
    "        weight_list2_runs.append(weight_list2_injections)\n",
    "        weight_list3_runs.append(weight_list3_injections)\n",
    "        \n",
    "        maxsicandstd1[sigfrac] = (np.median(msic1_median), np.std(msic1_median))\n",
    "        maxsicandstd2[sigfrac] = (np.median(msic2), np.std(msic2))\n",
    "        np.save(f\"data/maxsicandstd1_notebook{float(m1)}{float(m2)}.npy\", maxsicandstd1)\n",
    "        np.save(f\"data/maxsicandstd2_notebook{float(m1)}{float(m2)}.npy\", maxsicandstd2)\n",
    "\n",
    "    np.save(f\"data/msic1_median_notebook{float(m1)}{float(m2)}.npy\", maxsicandstd1)\n",
    "    np.save(f\"data/msic2_median_notebook{float(m1)}{float(m2)}.npy\", maxsicandstd2)\n",
    "    np.save(f\"data/std1_median_notebook{float(m1)}{float(m2)}.npy\", std1_runs)\n",
    "    np.save(f\"data/std2_median_notebook{float(m1)}{float(m2)}.npy\", std2_runs)\n",
    "    np.save(f\"data/weight_list1_runs_notebook{float(m1)}{float(m2)}.npy\", weight_list1_runs)\n",
    "    np.save(f\"data/weight_list2_runs_notebook{float(m1)}{float(m2)}.npy\", weight_list2_runs)\n",
    "    np.save(f\"data/weight_list3_runs_notebook{float(m1)}{float(m2)}.npy\", weight_list3_runs)\n",
    "    np.save(f\"data/initial_weights_runs_notebook{float(m1)}{float(m2)}.npy\", initial_weights_runs)"
   ]
  },
  {
   "cell_type": "code",
   "execution_count": 36,
   "id": "24ec4f10-f901-4533-9125-67d5d0629f79",
   "metadata": {
    "tags": []
   },
   "outputs": [],
   "source": [
    "#fully supervised dedicated training initiaized once\n",
    "msic_full = train_supervised(6, 5, 1)\n",
    "print(\"FS Max Sic: \",msic_full)\n",
    "#parametrized classifer\n",
    "scores_parameterized = model_qq.predict(x_data_qq[np.product(x_data_qq[:,6:8]==[m1,m2],axis=1)==1],batch_size=1000)\n",
    "fpr_param, tpr_param, _ = metrics.roc_curve(y_data_qq[np.product(x_data_qq[:,6:8]==[m1,m2],axis=1)==1], scores_parameterized)\n",
    "msic_param = np.max(tpr_param/np.sqrt(tpr_param+epsilon))\n",
    "print(\"Parametrized Max Sic: \", msic_param)"
   ]
  },
  {
   "cell_type": "code",
   "execution_count": 72,
   "id": "073309ff-4bb5-40cf-9883-45f43c4c2eb9",
   "metadata": {
    "collapsed": true,
    "jupyter": {
     "outputs_hidden": true
    },
    "tags": []
   },
   "outputs": [
    {
     "name": "stdout",
     "output_type": "stream",
     "text": [
      "---------------0.1---------------\n",
      "Injecting N = 10 more times, currently on: N = 0\n",
      "Ensembling 5 for Signal Fraction : 0.1\n",
      "Initialization: 1.95 0.637\n",
      "m1: 5 m2: 1 w1: 4.989372730255127 w2: 0.9948555827140808\n",
      "88/88 [==============================] - 1s 948us/step\n",
      "Initialization: 5.454 3.99\n",
      "m1: 5 m2: 1 w1: 4.975302219390869 w2: 5.016695499420166\n",
      "88/88 [==============================] - 1s 951us/step\n",
      "Initialization: 1.131 0.839\n",
      "m1: 5 m2: 1 w1: 1.1333363056182861 w2: 1.1380366086959839\n",
      "88/88 [==============================] - 0s 966us/step\n",
      "Initialization: 1.635 0.749\n",
      "m1: 5 m2: 1 w1: 4.952407360076904 w2: 0.9891814589500427\n",
      "88/88 [==============================] - 0s 1ms/step\n",
      "Initialization: 3.92 1.492\n",
      "m1: 5 m2: 1 w1: 4.985636234283447 w2: 1.0033355951309204\n",
      "88/88 [==============================] - 0s 1ms/step\n",
      " --- msic1_median on injection 0: 19.675431922663705 ---\n",
      "88/88 [==============================] - 0s 691us/step\n",
      "Injecting N = 9 more times, currently on: N = 1\n",
      "Ensembling 5 for Signal Fraction : 0.1\n",
      "Initialization: 5.605 3.799\n",
      "m1: 5 m2: 1 w1: 4.989842414855957 w2: 5.029307842254639\n",
      "88/88 [==============================] - 1s 978us/step\n",
      "Initialization: 1.669 1.255\n",
      "m1: 5 m2: 1 w1: 4.960902690887451 w2: 0.9961351156234741\n",
      "88/88 [==============================] - 0s 966us/step\n",
      "Initialization: 4.222 2.542\n",
      "m1: 5 m2: 1 w1: 4.985983371734619 w2: 1.0046383142471313\n",
      "88/88 [==============================] - 0s 984us/step\n",
      "Initialization: 2.327 2.953\n",
      "m1: 5 m2: 1 w1: 2.4937798976898193 w2: 3.22876238822937\n",
      "88/88 [==============================] - 0s 985us/step\n",
      "Initialization: 1.143 3.542\n",
      "m1: 5 m2: 1 w1: 0.9810821413993835 w2: 4.984705924987793\n",
      "88/88 [==============================] - 0s 1000us/step\n",
      " --- msic1_median on injection 1: 18.84146909798597 ---\n",
      "88/88 [==============================] - 0s 694us/step\n",
      "Injecting N = 8 more times, currently on: N = 2\n",
      "Ensembling 5 for Signal Fraction : 0.1\n",
      "Initialization: 3.128 3.275\n",
      "m1: 5 m2: 1 w1: 4.9001874923706055 w2: 2.4730002880096436\n",
      "88/88 [==============================] - 0s 1ms/step\n",
      "Initialization: 5.183 3.434\n",
      "m1: 5 m2: 1 w1: 4.974090576171875 w2: 5.0068254470825195\n",
      "88/88 [==============================] - 1s 984us/step\n",
      "Initialization: 2.508 5.881\n",
      "m1: 5 m2: 1 w1: 2.5101630687713623 w2: 4.916869163513184\n",
      "88/88 [==============================] - 1s 1ms/step\n",
      "Initialization: 3.162 5.412\n",
      "m1: 5 m2: 1 w1: 2.4885501861572266 w2: 4.916757106781006\n",
      "88/88 [==============================] - 1s 955us/step\n",
      "Initialization: 3.786 4.281\n",
      "m1: 5 m2: 1 w1: 4.989582538604736 w2: 5.016206741333008\n",
      "88/88 [==============================] - 0s 949us/step\n",
      " --- msic1_median on injection 2: 2.4583944931496275 ---\n",
      "88/88 [==============================] - 0s 670us/step\n",
      "Injecting N = 7 more times, currently on: N = 3\n",
      "Ensembling 5 for Signal Fraction : 0.1\n",
      "Initialization: 0.711 3.491\n",
      "m1: 5 m2: 1 w1: 0.9880632758140564 w2: 4.978652477264404\n",
      "88/88 [==============================] - 1s 984us/step\n",
      "Initialization: 2.961 2.147\n",
      "m1: 5 m2: 1 w1: 4.968831539154053 w2: 1.0063718557357788\n",
      "88/88 [==============================] - 0s 1ms/step\n",
      "Initialization: 5.14 5.352\n",
      "m1: 5 m2: 1 w1: 4.98006010055542 w2: 5.018051624298096\n",
      "88/88 [==============================] - 0s 972us/step\n",
      "Initialization: 3.331 4.121\n",
      "m1: 5 m2: 1 w1: 2.551576852798462 w2: 4.878686904907227\n",
      "88/88 [==============================] - 0s 1ms/step\n",
      "Initialization: 0.795 2.216\n",
      "m1: 5 m2: 1 w1: 0.9866804480552673 w2: 4.981339931488037\n",
      "88/88 [==============================] - 0s 993us/step\n",
      " --- msic1_median on injection 3: 18.87644799447853 ---\n",
      "88/88 [==============================] - 0s 694us/step\n",
      "Injecting N = 6 more times, currently on: N = 4\n",
      "Ensembling 5 for Signal Fraction : 0.1\n",
      "Initialization: 3.724 1.368\n",
      "m1: 5 m2: 1 w1: 4.941369533538818 w2: 0.9890596866607666\n",
      "88/88 [==============================] - 1s 1ms/step\n",
      "Initialization: 1.512 4.428\n",
      "m1: 5 m2: 1 w1: 0.9655388593673706 w2: 4.95817232131958\n",
      "88/88 [==============================] - 0s 1ms/step\n",
      "Initialization: 4.761 2.656\n",
      "m1: 5 m2: 1 w1: 4.960151672363281 w2: 0.9795436263084412\n",
      "88/88 [==============================] - 0s 976us/step\n",
      "Initialization: 3.927 3.321\n",
      "m1: 5 m2: 1 w1: 4.929961204528809 w2: 2.507948160171509\n",
      "88/88 [==============================] - 1s 996us/step\n",
      "Initialization: 2.383 2.293\n",
      "m1: 5 m2: 1 w1: 3.1838788986206055 w2: 2.547325849533081\n",
      "88/88 [==============================] - 0s 975us/step\n",
      " --- msic1_median on injection 4: 18.942904295505308 ---\n",
      "88/88 [==============================] - 0s 666us/step\n",
      "Injecting N = 5 more times, currently on: N = 5\n",
      "Ensembling 5 for Signal Fraction : 0.1\n",
      "Initialization: 2.554 3.063\n",
      "m1: 5 m2: 1 w1: 2.4947662353515625 w2: 3.2227604389190674\n",
      "88/88 [==============================] - 0s 950us/step\n",
      "Initialization: 2.169 2.801\n",
      "m1: 5 m2: 1 w1: 0.9810119867324829 w2: 4.972230434417725\n",
      "88/88 [==============================] - 0s 988us/step\n",
      "Initialization: 5.678 4.215\n",
      "m1: 5 m2: 1 w1: 4.969546794891357 w2: 5.004457473754883\n",
      "88/88 [==============================] - 0s 963us/step\n",
      "Initialization: 1.27 2.513\n",
      "m1: 5 m2: 1 w1: 0.979769766330719 w2: 4.978072166442871\n",
      "88/88 [==============================] - 0s 1ms/step\n",
      "Initialization: 4.863 3.977\n",
      "m1: 5 m2: 1 w1: 4.968929767608643 w2: 5.009369850158691\n",
      "88/88 [==============================] - 0s 968us/step\n",
      " --- msic1_median on injection 5: 7.732348182997195 ---\n",
      "88/88 [==============================] - 0s 669us/step\n",
      "Injecting N = 4 more times, currently on: N = 6\n",
      "Ensembling 5 for Signal Fraction : 0.1\n",
      "Initialization: 4.478 3.801\n",
      "m1: 5 m2: 1 w1: 4.975295066833496 w2: 5.0052595138549805\n",
      "88/88 [==============================] - 1s 1ms/step\n",
      "Initialization: 2.478 4.32\n",
      "m1: 5 m2: 1 w1: 2.4854116439819336 w2: 4.954648494720459\n",
      "88/88 [==============================] - 0s 959us/step\n",
      "Initialization: 4.829 5.81\n",
      "m1: 5 m2: 1 w1: 4.9888458251953125 w2: 5.0203938484191895\n",
      "88/88 [==============================] - 1s 994us/step\n",
      "Initialization: 2.4 4.345\n",
      "m1: 5 m2: 1 w1: 2.502333641052246 w2: 4.911520957946777\n",
      "88/88 [==============================] - 0s 1ms/step\n",
      "Initialization: 3.86 2.715\n",
      "m1: 5 m2: 1 w1: 4.903596878051758 w2: 2.4878530502319336\n",
      "88/88 [==============================] - 1s 969us/step\n",
      " --- msic1_median on injection 6: 2.299749238998328 ---\n",
      "88/88 [==============================] - 0s 703us/step\n",
      "Injecting N = 3 more times, currently on: N = 7\n",
      "Ensembling 5 for Signal Fraction : 0.1\n",
      "Initialization: 3.573 5.855\n",
      "m1: 5 m2: 1 w1: 4.971966743469238 w2: 5.011582374572754\n",
      "88/88 [==============================] - 1s 974us/step\n",
      "Initialization: 4.076 1.011\n",
      "m1: 5 m2: 1 w1: 4.952263355255127 w2: 1.018929362297058\n",
      "88/88 [==============================] - 1s 972us/step\n",
      "Initialization: 3.724 2.617\n",
      "m1: 5 m2: 1 w1: 4.975240230560303 w2: 1.0142407417297363\n",
      "88/88 [==============================] - 0s 971us/step\n",
      "Initialization: 2.107 2.668\n",
      "m1: 5 m2: 1 w1: 0.9913963079452515 w2: 5.001023769378662\n",
      "88/88 [==============================] - 0s 958us/step\n",
      "Initialization: 5.832 3.822\n",
      "m1: 5 m2: 1 w1: 4.971245765686035 w2: 5.0144453048706055\n",
      "88/88 [==============================] - 0s 966us/step\n",
      " --- msic1_median on injection 7: 19.019789229671158 ---\n",
      "88/88 [==============================] - 0s 723us/step\n",
      "Injecting N = 2 more times, currently on: N = 8\n",
      "Ensembling 5 for Signal Fraction : 0.1\n",
      "Initialization: 3.196 0.86\n",
      "m1: 5 m2: 1 w1: 5.005873203277588 w2: 0.9930514693260193\n",
      "88/88 [==============================] - 1s 1ms/step\n",
      "Initialization: 4.092 1.005\n",
      "m1: 5 m2: 1 w1: 4.9926371574401855 w2: 1.0286023616790771\n",
      "88/88 [==============================] - 0s 1ms/step\n",
      "Initialization: 1.307 2.611\n",
      "m1: 5 m2: 1 w1: 0.9851197004318237 w2: 5.001296520233154\n",
      "88/88 [==============================] - 1s 1ms/step\n",
      "Initialization: 0.825 3.834\n",
      "m1: 5 m2: 1 w1: 0.9991775155067444 w2: 5.008594512939453\n",
      "88/88 [==============================] - 1s 998us/step\n",
      "Initialization: 4.009 5.416\n",
      "m1: 5 m2: 1 w1: 5.000518321990967 w2: 5.033876419067383\n",
      "88/88 [==============================] - 1s 1ms/step\n",
      " --- msic1_median on injection 8: 19.552119524743695 ---\n",
      "88/88 [==============================] - 0s 697us/step\n",
      "Injecting N = 1 more times, currently on: N = 9\n",
      "Ensembling 5 for Signal Fraction : 0.1\n",
      "Initialization: 1.858 3.347\n",
      "m1: 5 m2: 1 w1: 0.9839180111885071 w2: 4.999624252319336\n",
      "88/88 [==============================] - 1s 986us/step\n",
      "Initialization: 1.817 3.961\n",
      "m1: 5 m2: 1 w1: 0.9717140197753906 w2: 4.986442565917969\n",
      "88/88 [==============================] - 1s 992us/step\n",
      "Initialization: 0.529 5.981\n",
      "m1: 5 m2: 1 w1: 0.9627578854560852 w2: 4.993927001953125\n",
      "88/88 [==============================] - 0s 971us/step\n",
      "Initialization: 2.566 4.529\n",
      "m1: 5 m2: 1 w1: 2.4906527996063232 w2: 4.917527675628662\n",
      "88/88 [==============================] - 0s 998us/step\n",
      "Initialization: 5.617 4.318\n",
      "m1: 5 m2: 1 w1: 4.974849700927734 w2: 5.016540050506592\n",
      "88/88 [==============================] - 1s 955us/step\n",
      " --- msic1_median on injection 9: 18.372950657155787 ---\n",
      "88/88 [==============================] - 0s 715us/step\n",
      " --- msic1_runs for signal fraction 0.1: 18.85895854623225 ---\n",
      " --- msic1_runs_std for signal fraction 0.1: 6.964669797387915 ---\n",
      " --- msic2_runs for signal fraction 0.1: 8.212826572284348 ---\n",
      " --- msic2_runs_std for signal fraction 0.1: 0.2766107026210474 ---\n",
      "---------------0.05994842503189409---------------\n",
      "Injecting N = 10 more times, currently on: N = 0\n",
      "Ensembling 5 for Signal Fraction : 0.05994842503189409\n",
      "Initialization: 4.556 5.882\n",
      "m1: 5 m2: 1 w1: 4.978540897369385 w2: 5.005117893218994\n",
      "88/88 [==============================] - 1s 984us/step\n",
      "Initialization: 1.196 2.993\n",
      "m1: 5 m2: 1 w1: 0.9810453653335571 w2: 4.979308605194092\n",
      "88/88 [==============================] - 1s 1ms/step\n",
      "Initialization: 2.037 5.836\n",
      "m1: 5 m2: 1 w1: 0.9684067368507385 w2: 4.980629920959473\n",
      "88/88 [==============================] - 1s 988us/step\n",
      "Initialization: 2.237 3.902\n",
      "m1: 5 m2: 1 w1: 0.9630177617073059 w2: 4.979958534240723\n",
      "88/88 [==============================] - 0s 992us/step\n",
      "Initialization: 1.931 0.525\n",
      "m1: 5 m2: 1 w1: 1.168671727180481 w2: 1.1549296379089355\n",
      "88/88 [==============================] - 1s 959us/step\n",
      " --- msic1_median on injection 0: 18.272219192377296 ---\n",
      "88/88 [==============================] - 0s 691us/step\n",
      "Injecting N = 9 more times, currently on: N = 1\n",
      "Ensembling 5 for Signal Fraction : 0.05994842503189409\n",
      "Initialization: 3.593 5.102\n",
      "m1: 5 m2: 1 w1: 5.0114569664001465 w2: 5.048710823059082\n",
      "88/88 [==============================] - 1s 970us/step\n",
      "Initialization: 3.799 5.873\n",
      "m1: 5 m2: 1 w1: 5.0168538093566895 w2: 5.045672416687012\n",
      "88/88 [==============================] - 0s 982us/step\n",
      "Initialization: 1.429 2.851\n",
      "m1: 5 m2: 1 w1: 0.9790433049201965 w2: 4.998501300811768\n",
      "88/88 [==============================] - 1s 999us/step\n",
      "Initialization: 1.109 2.309\n",
      "m1: 5 m2: 1 w1: 0.9889932870864868 w2: 4.980373859405518\n",
      "88/88 [==============================] - 0s 980us/step\n",
      "Initialization: 2.134 2.204\n",
      "m1: 5 m2: 1 w1: 0.9748114943504333 w2: 4.989798069000244\n",
      "88/88 [==============================] - 1s 997us/step\n",
      " --- msic1_median on injection 1: 19.086681806094386 ---\n",
      "88/88 [==============================] - 0s 701us/step\n",
      "Injecting N = 8 more times, currently on: N = 2\n",
      "Ensembling 5 for Signal Fraction : 0.05994842503189409\n",
      "Initialization: 5.452 3.24\n",
      "m1: 5 m2: 1 w1: 4.893927097320557 w2: 2.458216428756714\n",
      "88/88 [==============================] - 0s 994us/step\n",
      "Initialization: 3.08 1.764\n",
      "m1: 5 m2: 1 w1: 4.9716477394104 w2: 1.0074909925460815\n",
      "88/88 [==============================] - 0s 967us/step\n",
      "Initialization: 2.449 1.098\n",
      "m1: 5 m2: 1 w1: 4.9781880378723145 w2: 0.9912145137786865\n",
      "88/88 [==============================] - 1s 1ms/step\n",
      "Initialization: 2.461 2.113\n",
      "m1: 5 m2: 1 w1: 4.977202892303467 w2: 1.0130436420440674\n",
      "88/88 [==============================] - 0s 937us/step\n",
      "Initialization: 2.098 5.113\n",
      "m1: 5 m2: 1 w1: 0.978966236114502 w2: 4.981545925140381\n",
      "88/88 [==============================] - 0s 975us/step\n",
      " --- msic1_median on injection 2: 19.015464825985866 ---\n",
      "88/88 [==============================] - 0s 720us/step\n",
      "Injecting N = 7 more times, currently on: N = 3\n",
      "Ensembling 5 for Signal Fraction : 0.05994842503189409\n",
      "Initialization: 4.737 1.701\n",
      "m1: 5 m2: 1 w1: 5.007949352264404 w2: 1.0110220909118652\n",
      "88/88 [==============================] - 0s 983us/step\n",
      "Initialization: 3.38 4.527\n",
      "m1: 5 m2: 1 w1: 2.4641778469085693 w2: 4.894899368286133\n",
      "88/88 [==============================] - 0s 973us/step\n",
      "Initialization: 3.891 4.247\n"
     ]
    },
    {
     "ename": "KeyboardInterrupt",
     "evalue": "",
     "output_type": "error",
     "traceback": [
      "\u001b[0;31m---------------------------------------------------------------------------\u001b[0m",
      "\u001b[0;31mKeyboardInterrupt\u001b[0m                         Traceback (most recent call last)",
      "Cell \u001b[0;32mIn[72], line 14\u001b[0m\n\u001b[1;32m     11\u001b[0m parameters \u001b[38;5;241m=\u001b[39m params\n\u001b[1;32m     12\u001b[0m m_initializations \u001b[38;5;241m=\u001b[39m k_runs\n\u001b[0;32m---> 14\u001b[0m \u001b[43mtrain_semiweak\u001b[49m\u001b[43m(\u001b[49m\u001b[43mfeature_dims\u001b[49m\u001b[43m,\u001b[49m\u001b[43m \u001b[49m\u001b[43mm1\u001b[49m\u001b[43m,\u001b[49m\u001b[43m \u001b[49m\u001b[43mm2\u001b[49m\u001b[43m,\u001b[49m\u001b[43m \u001b[49m\u001b[43mparameters\u001b[49m\u001b[43m,\u001b[49m\u001b[43m \u001b[49m\u001b[43minjections\u001b[49m\u001b[43m,\u001b[49m\u001b[43m \u001b[49m\u001b[43mm_initializations\u001b[49m\u001b[43m)\u001b[49m\n",
      "Cell \u001b[0;32mIn[71], line 82\u001b[0m, in \u001b[0;36mtrain_semiweak\u001b[0;34m(feature_dims, m1, m2, parameters, injections, m_initializations)\u001b[0m\n\u001b[1;32m     78\u001b[0m y_data_ \u001b[38;5;241m=\u001b[39m np\u001b[38;5;241m.\u001b[39mconcatenate([np\u001b[38;5;241m.\u001b[39mzeros(train_reference),np\u001b[38;5;241m.\u001b[39mones(train_data),np\u001b[38;5;241m.\u001b[39mones(\u001b[38;5;28mlen\u001b[39m(signal))])\n\u001b[1;32m     80\u001b[0m X_train_, X_val_, Y_train_, Y_val_ \u001b[38;5;241m=\u001b[39m train_test_split(x_data_, y_data_, test_size\u001b[38;5;241m=\u001b[39m\u001b[38;5;241m0.5\u001b[39m, random_state \u001b[38;5;241m=\u001b[39m \u001b[38;5;241m42\u001b[39m)\n\u001b[0;32m---> 82\u001b[0m history_semiweak \u001b[38;5;241m=\u001b[39m \u001b[43mmodel_semiweak\u001b[49m\u001b[38;5;241;43m.\u001b[39;49m\u001b[43mfit\u001b[49m\u001b[43m(\u001b[49m\u001b[43mX_train_\u001b[49m\u001b[43m[\u001b[49m\u001b[43m:\u001b[49m\u001b[43m,\u001b[49m\u001b[38;5;241;43m0\u001b[39;49m\u001b[43m:\u001b[49m\u001b[43mfeature_dims\u001b[49m\u001b[43m]\u001b[49m\u001b[43m,\u001b[49m\u001b[43m \u001b[49m\u001b[43mY_train_\u001b[49m\u001b[43m,\u001b[49m\u001b[43m \u001b[49m\u001b[43mepochs\u001b[49m\u001b[38;5;241;43m=\u001b[39;49m\u001b[38;5;241;43m100\u001b[39;49m\u001b[43m,\u001b[49m\n\u001b[1;32m     83\u001b[0m \u001b[43m                                       \u001b[49m\u001b[43mvalidation_data\u001b[49m\u001b[38;5;241;43m=\u001b[39;49m\u001b[43m(\u001b[49m\u001b[43mX_val_\u001b[49m\u001b[43m[\u001b[49m\u001b[43m:\u001b[49m\u001b[43m,\u001b[49m\u001b[38;5;241;43m0\u001b[39;49m\u001b[43m:\u001b[49m\u001b[43mfeature_dims\u001b[49m\u001b[43m]\u001b[49m\u001b[43m,\u001b[49m\u001b[43m \u001b[49m\u001b[43mY_val_\u001b[49m\u001b[43m)\u001b[49m\u001b[43m,\u001b[49m\u001b[43mbatch_size\u001b[49m\u001b[38;5;241;43m=\u001b[39;49m\u001b[38;5;241;43m1024\u001b[39;49m\u001b[43m,\u001b[49m\u001b[43m \u001b[49m\u001b[43mverbose\u001b[49m\u001b[43m \u001b[49m\u001b[38;5;241;43m=\u001b[39;49m\u001b[43m \u001b[49m\u001b[38;5;241;43m0\u001b[39;49m\u001b[43m)\u001b[49m\n\u001b[1;32m     85\u001b[0m \u001b[38;5;28mprint\u001b[39m(\u001b[38;5;124mf\u001b[39m\u001b[38;5;124m\"\u001b[39m\u001b[38;5;124mm1: \u001b[39m\u001b[38;5;132;01m{\u001b[39;00mm1\u001b[38;5;132;01m}\u001b[39;00m\u001b[38;5;124m\"\u001b[39m,\u001b[38;5;124mf\u001b[39m\u001b[38;5;124m\"\u001b[39m\u001b[38;5;124mm2: \u001b[39m\u001b[38;5;132;01m{\u001b[39;00mm2\u001b[38;5;132;01m}\u001b[39;00m\u001b[38;5;124m\"\u001b[39m, \u001b[38;5;124mf\u001b[39m\u001b[38;5;124m\"\u001b[39m\u001b[38;5;124mw1: \u001b[39m\u001b[38;5;132;01m{\u001b[39;00mmodel_semiweak\u001b[38;5;241m.\u001b[39mtrainable_weights[\u001b[38;5;241m0\u001b[39m]\u001b[38;5;241m.\u001b[39mnumpy()[\u001b[38;5;241m0\u001b[39m][\u001b[38;5;241m0\u001b[39m]\u001b[38;5;132;01m}\u001b[39;00m\u001b[38;5;124m\"\u001b[39m, \u001b[38;5;124mf\u001b[39m\u001b[38;5;124m\"\u001b[39m\u001b[38;5;124mw2: \u001b[39m\u001b[38;5;132;01m{\u001b[39;00mmodel_semiweak\u001b[38;5;241m.\u001b[39mtrainable_weights[\u001b[38;5;241m1\u001b[39m]\u001b[38;5;241m.\u001b[39mnumpy()[\u001b[38;5;241m0\u001b[39m][\u001b[38;5;241m0\u001b[39m]\u001b[38;5;132;01m}\u001b[39;00m\u001b[38;5;124m\"\u001b[39m)\n\u001b[1;32m     87\u001b[0m weight_list1_kruns\u001b[38;5;241m+\u001b[39m\u001b[38;5;241m=\u001b[39m[model_semiweak\u001b[38;5;241m.\u001b[39mtrainable_weights[\u001b[38;5;241m0\u001b[39m]\u001b[38;5;241m.\u001b[39mnumpy()[\u001b[38;5;241m0\u001b[39m][\u001b[38;5;241m0\u001b[39m]]\n",
      "File \u001b[0;32m~/.conda/envs/research/lib/python3.11/site-packages/keras/src/utils/traceback_utils.py:65\u001b[0m, in \u001b[0;36mfilter_traceback.<locals>.error_handler\u001b[0;34m(*args, **kwargs)\u001b[0m\n\u001b[1;32m     63\u001b[0m filtered_tb \u001b[38;5;241m=\u001b[39m \u001b[38;5;28;01mNone\u001b[39;00m\n\u001b[1;32m     64\u001b[0m \u001b[38;5;28;01mtry\u001b[39;00m:\n\u001b[0;32m---> 65\u001b[0m     \u001b[38;5;28;01mreturn\u001b[39;00m \u001b[43mfn\u001b[49m\u001b[43m(\u001b[49m\u001b[38;5;241;43m*\u001b[39;49m\u001b[43margs\u001b[49m\u001b[43m,\u001b[49m\u001b[43m \u001b[49m\u001b[38;5;241;43m*\u001b[39;49m\u001b[38;5;241;43m*\u001b[39;49m\u001b[43mkwargs\u001b[49m\u001b[43m)\u001b[49m\n\u001b[1;32m     66\u001b[0m \u001b[38;5;28;01mexcept\u001b[39;00m \u001b[38;5;167;01mException\u001b[39;00m \u001b[38;5;28;01mas\u001b[39;00m e:\n\u001b[1;32m     67\u001b[0m     filtered_tb \u001b[38;5;241m=\u001b[39m _process_traceback_frames(e\u001b[38;5;241m.\u001b[39m__traceback__)\n",
      "File \u001b[0;32m~/.conda/envs/research/lib/python3.11/site-packages/keras/src/engine/training.py:1807\u001b[0m, in \u001b[0;36mModel.fit\u001b[0;34m(self, x, y, batch_size, epochs, verbose, callbacks, validation_split, validation_data, shuffle, class_weight, sample_weight, initial_epoch, steps_per_epoch, validation_steps, validation_batch_size, validation_freq, max_queue_size, workers, use_multiprocessing)\u001b[0m\n\u001b[1;32m   1799\u001b[0m \u001b[38;5;28;01mwith\u001b[39;00m tf\u001b[38;5;241m.\u001b[39mprofiler\u001b[38;5;241m.\u001b[39mexperimental\u001b[38;5;241m.\u001b[39mTrace(\n\u001b[1;32m   1800\u001b[0m     \u001b[38;5;124m\"\u001b[39m\u001b[38;5;124mtrain\u001b[39m\u001b[38;5;124m\"\u001b[39m,\n\u001b[1;32m   1801\u001b[0m     epoch_num\u001b[38;5;241m=\u001b[39mepoch,\n\u001b[0;32m   (...)\u001b[0m\n\u001b[1;32m   1804\u001b[0m     _r\u001b[38;5;241m=\u001b[39m\u001b[38;5;241m1\u001b[39m,\n\u001b[1;32m   1805\u001b[0m ):\n\u001b[1;32m   1806\u001b[0m     callbacks\u001b[38;5;241m.\u001b[39mon_train_batch_begin(step)\n\u001b[0;32m-> 1807\u001b[0m     tmp_logs \u001b[38;5;241m=\u001b[39m \u001b[38;5;28;43mself\u001b[39;49m\u001b[38;5;241;43m.\u001b[39;49m\u001b[43mtrain_function\u001b[49m\u001b[43m(\u001b[49m\u001b[43miterator\u001b[49m\u001b[43m)\u001b[49m\n\u001b[1;32m   1808\u001b[0m     \u001b[38;5;28;01mif\u001b[39;00m data_handler\u001b[38;5;241m.\u001b[39mshould_sync:\n\u001b[1;32m   1809\u001b[0m         context\u001b[38;5;241m.\u001b[39masync_wait()\n",
      "File \u001b[0;32m~/.conda/envs/research/lib/python3.11/site-packages/tensorflow/python/util/traceback_utils.py:150\u001b[0m, in \u001b[0;36mfilter_traceback.<locals>.error_handler\u001b[0;34m(*args, **kwargs)\u001b[0m\n\u001b[1;32m    148\u001b[0m filtered_tb \u001b[38;5;241m=\u001b[39m \u001b[38;5;28;01mNone\u001b[39;00m\n\u001b[1;32m    149\u001b[0m \u001b[38;5;28;01mtry\u001b[39;00m:\n\u001b[0;32m--> 150\u001b[0m   \u001b[38;5;28;01mreturn\u001b[39;00m \u001b[43mfn\u001b[49m\u001b[43m(\u001b[49m\u001b[38;5;241;43m*\u001b[39;49m\u001b[43margs\u001b[49m\u001b[43m,\u001b[49m\u001b[43m \u001b[49m\u001b[38;5;241;43m*\u001b[39;49m\u001b[38;5;241;43m*\u001b[39;49m\u001b[43mkwargs\u001b[49m\u001b[43m)\u001b[49m\n\u001b[1;32m    151\u001b[0m \u001b[38;5;28;01mexcept\u001b[39;00m \u001b[38;5;167;01mException\u001b[39;00m \u001b[38;5;28;01mas\u001b[39;00m e:\n\u001b[1;32m    152\u001b[0m   filtered_tb \u001b[38;5;241m=\u001b[39m _process_traceback_frames(e\u001b[38;5;241m.\u001b[39m__traceback__)\n",
      "File \u001b[0;32m~/.conda/envs/research/lib/python3.11/site-packages/tensorflow/python/eager/polymorphic_function/polymorphic_function.py:832\u001b[0m, in \u001b[0;36mFunction.__call__\u001b[0;34m(self, *args, **kwds)\u001b[0m\n\u001b[1;32m    829\u001b[0m compiler \u001b[38;5;241m=\u001b[39m \u001b[38;5;124m\"\u001b[39m\u001b[38;5;124mxla\u001b[39m\u001b[38;5;124m\"\u001b[39m \u001b[38;5;28;01mif\u001b[39;00m \u001b[38;5;28mself\u001b[39m\u001b[38;5;241m.\u001b[39m_jit_compile \u001b[38;5;28;01melse\u001b[39;00m \u001b[38;5;124m\"\u001b[39m\u001b[38;5;124mnonXla\u001b[39m\u001b[38;5;124m\"\u001b[39m\n\u001b[1;32m    831\u001b[0m \u001b[38;5;28;01mwith\u001b[39;00m OptionalXlaContext(\u001b[38;5;28mself\u001b[39m\u001b[38;5;241m.\u001b[39m_jit_compile):\n\u001b[0;32m--> 832\u001b[0m   result \u001b[38;5;241m=\u001b[39m \u001b[38;5;28;43mself\u001b[39;49m\u001b[38;5;241;43m.\u001b[39;49m\u001b[43m_call\u001b[49m\u001b[43m(\u001b[49m\u001b[38;5;241;43m*\u001b[39;49m\u001b[43margs\u001b[49m\u001b[43m,\u001b[49m\u001b[43m \u001b[49m\u001b[38;5;241;43m*\u001b[39;49m\u001b[38;5;241;43m*\u001b[39;49m\u001b[43mkwds\u001b[49m\u001b[43m)\u001b[49m\n\u001b[1;32m    834\u001b[0m new_tracing_count \u001b[38;5;241m=\u001b[39m \u001b[38;5;28mself\u001b[39m\u001b[38;5;241m.\u001b[39mexperimental_get_tracing_count()\n\u001b[1;32m    835\u001b[0m without_tracing \u001b[38;5;241m=\u001b[39m (tracing_count \u001b[38;5;241m==\u001b[39m new_tracing_count)\n",
      "File \u001b[0;32m~/.conda/envs/research/lib/python3.11/site-packages/tensorflow/python/eager/polymorphic_function/polymorphic_function.py:868\u001b[0m, in \u001b[0;36mFunction._call\u001b[0;34m(self, *args, **kwds)\u001b[0m\n\u001b[1;32m    865\u001b[0m   \u001b[38;5;28mself\u001b[39m\u001b[38;5;241m.\u001b[39m_lock\u001b[38;5;241m.\u001b[39mrelease()\n\u001b[1;32m    866\u001b[0m   \u001b[38;5;66;03m# In this case we have created variables on the first call, so we run the\u001b[39;00m\n\u001b[1;32m    867\u001b[0m   \u001b[38;5;66;03m# defunned version which is guaranteed to never create variables.\u001b[39;00m\n\u001b[0;32m--> 868\u001b[0m   \u001b[38;5;28;01mreturn\u001b[39;00m \u001b[43mtracing_compilation\u001b[49m\u001b[38;5;241;43m.\u001b[39;49m\u001b[43mcall_function\u001b[49m\u001b[43m(\u001b[49m\n\u001b[1;32m    869\u001b[0m \u001b[43m      \u001b[49m\u001b[43margs\u001b[49m\u001b[43m,\u001b[49m\u001b[43m \u001b[49m\u001b[43mkwds\u001b[49m\u001b[43m,\u001b[49m\u001b[43m \u001b[49m\u001b[38;5;28;43mself\u001b[39;49m\u001b[38;5;241;43m.\u001b[39;49m\u001b[43m_no_variable_creation_config\u001b[49m\n\u001b[1;32m    870\u001b[0m \u001b[43m  \u001b[49m\u001b[43m)\u001b[49m\n\u001b[1;32m    871\u001b[0m \u001b[38;5;28;01melif\u001b[39;00m \u001b[38;5;28mself\u001b[39m\u001b[38;5;241m.\u001b[39m_variable_creation_config \u001b[38;5;129;01mis\u001b[39;00m \u001b[38;5;129;01mnot\u001b[39;00m \u001b[38;5;28;01mNone\u001b[39;00m:\n\u001b[1;32m    872\u001b[0m   \u001b[38;5;66;03m# Release the lock early so that multiple threads can perform the call\u001b[39;00m\n\u001b[1;32m    873\u001b[0m   \u001b[38;5;66;03m# in parallel.\u001b[39;00m\n\u001b[1;32m    874\u001b[0m   \u001b[38;5;28mself\u001b[39m\u001b[38;5;241m.\u001b[39m_lock\u001b[38;5;241m.\u001b[39mrelease()\n",
      "File \u001b[0;32m~/.conda/envs/research/lib/python3.11/site-packages/tensorflow/python/eager/polymorphic_function/tracing_compilation.py:139\u001b[0m, in \u001b[0;36mcall_function\u001b[0;34m(args, kwargs, tracing_options)\u001b[0m\n\u001b[1;32m    137\u001b[0m bound_args \u001b[38;5;241m=\u001b[39m function\u001b[38;5;241m.\u001b[39mfunction_type\u001b[38;5;241m.\u001b[39mbind(\u001b[38;5;241m*\u001b[39margs, \u001b[38;5;241m*\u001b[39m\u001b[38;5;241m*\u001b[39mkwargs)\n\u001b[1;32m    138\u001b[0m flat_inputs \u001b[38;5;241m=\u001b[39m function\u001b[38;5;241m.\u001b[39mfunction_type\u001b[38;5;241m.\u001b[39munpack_inputs(bound_args)\n\u001b[0;32m--> 139\u001b[0m \u001b[38;5;28;01mreturn\u001b[39;00m \u001b[43mfunction\u001b[49m\u001b[38;5;241;43m.\u001b[39;49m\u001b[43m_call_flat\u001b[49m\u001b[43m(\u001b[49m\u001b[43m  \u001b[49m\u001b[38;5;66;43;03m# pylint: disable=protected-access\u001b[39;49;00m\n\u001b[1;32m    140\u001b[0m \u001b[43m    \u001b[49m\u001b[43mflat_inputs\u001b[49m\u001b[43m,\u001b[49m\u001b[43m \u001b[49m\u001b[43mcaptured_inputs\u001b[49m\u001b[38;5;241;43m=\u001b[39;49m\u001b[43mfunction\u001b[49m\u001b[38;5;241;43m.\u001b[39;49m\u001b[43mcaptured_inputs\u001b[49m\n\u001b[1;32m    141\u001b[0m \u001b[43m\u001b[49m\u001b[43m)\u001b[49m\n",
      "File \u001b[0;32m~/.conda/envs/research/lib/python3.11/site-packages/tensorflow/python/eager/polymorphic_function/concrete_function.py:1323\u001b[0m, in \u001b[0;36mConcreteFunction._call_flat\u001b[0;34m(self, tensor_inputs, captured_inputs)\u001b[0m\n\u001b[1;32m   1319\u001b[0m possible_gradient_type \u001b[38;5;241m=\u001b[39m gradients_util\u001b[38;5;241m.\u001b[39mPossibleTapeGradientTypes(args)\n\u001b[1;32m   1320\u001b[0m \u001b[38;5;28;01mif\u001b[39;00m (possible_gradient_type \u001b[38;5;241m==\u001b[39m gradients_util\u001b[38;5;241m.\u001b[39mPOSSIBLE_GRADIENT_TYPES_NONE\n\u001b[1;32m   1321\u001b[0m     \u001b[38;5;129;01mand\u001b[39;00m executing_eagerly):\n\u001b[1;32m   1322\u001b[0m   \u001b[38;5;66;03m# No tape is watching; skip to running the function.\u001b[39;00m\n\u001b[0;32m-> 1323\u001b[0m   \u001b[38;5;28;01mreturn\u001b[39;00m \u001b[38;5;28;43mself\u001b[39;49m\u001b[38;5;241;43m.\u001b[39;49m\u001b[43m_inference_function\u001b[49m\u001b[38;5;241;43m.\u001b[39;49m\u001b[43mcall_preflattened\u001b[49m\u001b[43m(\u001b[49m\u001b[43margs\u001b[49m\u001b[43m)\u001b[49m\n\u001b[1;32m   1324\u001b[0m forward_backward \u001b[38;5;241m=\u001b[39m \u001b[38;5;28mself\u001b[39m\u001b[38;5;241m.\u001b[39m_select_forward_and_backward_functions(\n\u001b[1;32m   1325\u001b[0m     args,\n\u001b[1;32m   1326\u001b[0m     possible_gradient_type,\n\u001b[1;32m   1327\u001b[0m     executing_eagerly)\n\u001b[1;32m   1328\u001b[0m forward_function, args_with_tangents \u001b[38;5;241m=\u001b[39m forward_backward\u001b[38;5;241m.\u001b[39mforward()\n",
      "File \u001b[0;32m~/.conda/envs/research/lib/python3.11/site-packages/tensorflow/python/eager/polymorphic_function/atomic_function.py:216\u001b[0m, in \u001b[0;36mAtomicFunction.call_preflattened\u001b[0;34m(self, args)\u001b[0m\n\u001b[1;32m    214\u001b[0m \u001b[38;5;28;01mdef\u001b[39;00m \u001b[38;5;21mcall_preflattened\u001b[39m(\u001b[38;5;28mself\u001b[39m, args: Sequence[core\u001b[38;5;241m.\u001b[39mTensor]) \u001b[38;5;241m-\u001b[39m\u001b[38;5;241m>\u001b[39m Any:\n\u001b[1;32m    215\u001b[0m \u001b[38;5;250m  \u001b[39m\u001b[38;5;124;03m\"\"\"Calls with flattened tensor inputs and returns the structured output.\"\"\"\u001b[39;00m\n\u001b[0;32m--> 216\u001b[0m   flat_outputs \u001b[38;5;241m=\u001b[39m \u001b[38;5;28;43mself\u001b[39;49m\u001b[38;5;241;43m.\u001b[39;49m\u001b[43mcall_flat\u001b[49m\u001b[43m(\u001b[49m\u001b[38;5;241;43m*\u001b[39;49m\u001b[43margs\u001b[49m\u001b[43m)\u001b[49m\n\u001b[1;32m    217\u001b[0m   \u001b[38;5;28;01mreturn\u001b[39;00m \u001b[38;5;28mself\u001b[39m\u001b[38;5;241m.\u001b[39mfunction_type\u001b[38;5;241m.\u001b[39mpack_output(flat_outputs)\n",
      "File \u001b[0;32m~/.conda/envs/research/lib/python3.11/site-packages/tensorflow/python/eager/polymorphic_function/atomic_function.py:251\u001b[0m, in \u001b[0;36mAtomicFunction.call_flat\u001b[0;34m(self, *args)\u001b[0m\n\u001b[1;32m    249\u001b[0m \u001b[38;5;28;01mwith\u001b[39;00m record\u001b[38;5;241m.\u001b[39mstop_recording():\n\u001b[1;32m    250\u001b[0m   \u001b[38;5;28;01mif\u001b[39;00m \u001b[38;5;28mself\u001b[39m\u001b[38;5;241m.\u001b[39m_bound_context\u001b[38;5;241m.\u001b[39mexecuting_eagerly():\n\u001b[0;32m--> 251\u001b[0m     outputs \u001b[38;5;241m=\u001b[39m \u001b[38;5;28;43mself\u001b[39;49m\u001b[38;5;241;43m.\u001b[39;49m\u001b[43m_bound_context\u001b[49m\u001b[38;5;241;43m.\u001b[39;49m\u001b[43mcall_function\u001b[49m\u001b[43m(\u001b[49m\n\u001b[1;32m    252\u001b[0m \u001b[43m        \u001b[49m\u001b[38;5;28;43mself\u001b[39;49m\u001b[38;5;241;43m.\u001b[39;49m\u001b[43mname\u001b[49m\u001b[43m,\u001b[49m\n\u001b[1;32m    253\u001b[0m \u001b[43m        \u001b[49m\u001b[38;5;28;43mlist\u001b[39;49m\u001b[43m(\u001b[49m\u001b[43margs\u001b[49m\u001b[43m)\u001b[49m\u001b[43m,\u001b[49m\n\u001b[1;32m    254\u001b[0m \u001b[43m        \u001b[49m\u001b[38;5;28;43mlen\u001b[39;49m\u001b[43m(\u001b[49m\u001b[38;5;28;43mself\u001b[39;49m\u001b[38;5;241;43m.\u001b[39;49m\u001b[43mfunction_type\u001b[49m\u001b[38;5;241;43m.\u001b[39;49m\u001b[43mflat_outputs\u001b[49m\u001b[43m)\u001b[49m\u001b[43m,\u001b[49m\n\u001b[1;32m    255\u001b[0m \u001b[43m    \u001b[49m\u001b[43m)\u001b[49m\n\u001b[1;32m    256\u001b[0m   \u001b[38;5;28;01melse\u001b[39;00m:\n\u001b[1;32m    257\u001b[0m     outputs \u001b[38;5;241m=\u001b[39m make_call_op_in_graph(\n\u001b[1;32m    258\u001b[0m         \u001b[38;5;28mself\u001b[39m,\n\u001b[1;32m    259\u001b[0m         \u001b[38;5;28mlist\u001b[39m(args),\n\u001b[1;32m    260\u001b[0m         \u001b[38;5;28mself\u001b[39m\u001b[38;5;241m.\u001b[39m_bound_context\u001b[38;5;241m.\u001b[39mfunction_call_options\u001b[38;5;241m.\u001b[39mas_attrs(),\n\u001b[1;32m    261\u001b[0m     )\n",
      "File \u001b[0;32m~/.conda/envs/research/lib/python3.11/site-packages/tensorflow/python/eager/context.py:1486\u001b[0m, in \u001b[0;36mContext.call_function\u001b[0;34m(self, name, tensor_inputs, num_outputs)\u001b[0m\n\u001b[1;32m   1484\u001b[0m cancellation_context \u001b[38;5;241m=\u001b[39m cancellation\u001b[38;5;241m.\u001b[39mcontext()\n\u001b[1;32m   1485\u001b[0m \u001b[38;5;28;01mif\u001b[39;00m cancellation_context \u001b[38;5;129;01mis\u001b[39;00m \u001b[38;5;28;01mNone\u001b[39;00m:\n\u001b[0;32m-> 1486\u001b[0m   outputs \u001b[38;5;241m=\u001b[39m \u001b[43mexecute\u001b[49m\u001b[38;5;241;43m.\u001b[39;49m\u001b[43mexecute\u001b[49m\u001b[43m(\u001b[49m\n\u001b[1;32m   1487\u001b[0m \u001b[43m      \u001b[49m\u001b[43mname\u001b[49m\u001b[38;5;241;43m.\u001b[39;49m\u001b[43mdecode\u001b[49m\u001b[43m(\u001b[49m\u001b[38;5;124;43m\"\u001b[39;49m\u001b[38;5;124;43mutf-8\u001b[39;49m\u001b[38;5;124;43m\"\u001b[39;49m\u001b[43m)\u001b[49m\u001b[43m,\u001b[49m\n\u001b[1;32m   1488\u001b[0m \u001b[43m      \u001b[49m\u001b[43mnum_outputs\u001b[49m\u001b[38;5;241;43m=\u001b[39;49m\u001b[43mnum_outputs\u001b[49m\u001b[43m,\u001b[49m\n\u001b[1;32m   1489\u001b[0m \u001b[43m      \u001b[49m\u001b[43minputs\u001b[49m\u001b[38;5;241;43m=\u001b[39;49m\u001b[43mtensor_inputs\u001b[49m\u001b[43m,\u001b[49m\n\u001b[1;32m   1490\u001b[0m \u001b[43m      \u001b[49m\u001b[43mattrs\u001b[49m\u001b[38;5;241;43m=\u001b[39;49m\u001b[43mattrs\u001b[49m\u001b[43m,\u001b[49m\n\u001b[1;32m   1491\u001b[0m \u001b[43m      \u001b[49m\u001b[43mctx\u001b[49m\u001b[38;5;241;43m=\u001b[39;49m\u001b[38;5;28;43mself\u001b[39;49m\u001b[43m,\u001b[49m\n\u001b[1;32m   1492\u001b[0m \u001b[43m  \u001b[49m\u001b[43m)\u001b[49m\n\u001b[1;32m   1493\u001b[0m \u001b[38;5;28;01melse\u001b[39;00m:\n\u001b[1;32m   1494\u001b[0m   outputs \u001b[38;5;241m=\u001b[39m execute\u001b[38;5;241m.\u001b[39mexecute_with_cancellation(\n\u001b[1;32m   1495\u001b[0m       name\u001b[38;5;241m.\u001b[39mdecode(\u001b[38;5;124m\"\u001b[39m\u001b[38;5;124mutf-8\u001b[39m\u001b[38;5;124m\"\u001b[39m),\n\u001b[1;32m   1496\u001b[0m       num_outputs\u001b[38;5;241m=\u001b[39mnum_outputs,\n\u001b[0;32m   (...)\u001b[0m\n\u001b[1;32m   1500\u001b[0m       cancellation_manager\u001b[38;5;241m=\u001b[39mcancellation_context,\n\u001b[1;32m   1501\u001b[0m   )\n",
      "File \u001b[0;32m~/.conda/envs/research/lib/python3.11/site-packages/tensorflow/python/eager/execute.py:53\u001b[0m, in \u001b[0;36mquick_execute\u001b[0;34m(op_name, num_outputs, inputs, attrs, ctx, name)\u001b[0m\n\u001b[1;32m     51\u001b[0m \u001b[38;5;28;01mtry\u001b[39;00m:\n\u001b[1;32m     52\u001b[0m   ctx\u001b[38;5;241m.\u001b[39mensure_initialized()\n\u001b[0;32m---> 53\u001b[0m   tensors \u001b[38;5;241m=\u001b[39m \u001b[43mpywrap_tfe\u001b[49m\u001b[38;5;241;43m.\u001b[39;49m\u001b[43mTFE_Py_Execute\u001b[49m\u001b[43m(\u001b[49m\u001b[43mctx\u001b[49m\u001b[38;5;241;43m.\u001b[39;49m\u001b[43m_handle\u001b[49m\u001b[43m,\u001b[49m\u001b[43m \u001b[49m\u001b[43mdevice_name\u001b[49m\u001b[43m,\u001b[49m\u001b[43m \u001b[49m\u001b[43mop_name\u001b[49m\u001b[43m,\u001b[49m\n\u001b[1;32m     54\u001b[0m \u001b[43m                                      \u001b[49m\u001b[43minputs\u001b[49m\u001b[43m,\u001b[49m\u001b[43m \u001b[49m\u001b[43mattrs\u001b[49m\u001b[43m,\u001b[49m\u001b[43m \u001b[49m\u001b[43mnum_outputs\u001b[49m\u001b[43m)\u001b[49m\n\u001b[1;32m     55\u001b[0m \u001b[38;5;28;01mexcept\u001b[39;00m core\u001b[38;5;241m.\u001b[39m_NotOkStatusException \u001b[38;5;28;01mas\u001b[39;00m e:\n\u001b[1;32m     56\u001b[0m   \u001b[38;5;28;01mif\u001b[39;00m name \u001b[38;5;129;01mis\u001b[39;00m \u001b[38;5;129;01mnot\u001b[39;00m \u001b[38;5;28;01mNone\u001b[39;00m:\n",
      "\u001b[0;31mKeyboardInterrupt\u001b[0m: "
     ]
    }
   ],
   "source": [
    "#mass initializations\n",
    "k_runs = 5\n",
    "feature_dims = 6\n",
    "params = 3\n",
    "#number of randomized signal injection\n",
    "injections = 10\n",
    "\n",
    "m1 = 5\n",
    "m2 = 1\n",
    "\n",
    "parameters = params\n",
    "m_initializations = k_runs\n",
    "\n",
    "train_semiweak(feature_dims, m1, m2, parameters, injections, m_initializations)"
   ]
  },
  {
   "cell_type": "code",
   "execution_count": 36,
   "id": "fa9ce191-ddda-4b9e-b583-b77046a3a3fe",
   "metadata": {},
   "outputs": [],
   "source": [
    "import time\n",
    "def eval_loss_landscape(feature_dims, parameters, m1, m2, step, decay):\n",
    "    qq = decay\n",
    "    noise = False\n",
    "    start_time = time.time()\n",
    "    #check if loss dictionary exists, if it does load it, if not create empty one\n",
    "    dir_path = os.getcwd()\n",
    "    file_name = f\"data/landscapes/z_{feature_dims}_{parameters}_{m1}{m2}_{step}_{decay}.npy\"\n",
    "    file_path = os.path.join(dir_path, file_name)\n",
    "    \n",
    "    if os.path.exists(file_path):\n",
    "        z = np.load(file_name, allow_pickle = True).item()\n",
    "    else:\n",
    "        print(\"Dictionary doesn't exist, creating one...\")\n",
    "        z = {}\n",
    "        \n",
    "    losses_list = []\n",
    "    epsilon = 1e-4\n",
    "    sigspace = [0.1]\n",
    "    \n",
    "    start = 0.5\n",
    "    end = 6\n",
    "    step = step\n",
    "\n",
    "    weight_list = np.arange(start, end + step, step)\n",
    "    \n",
    "    for sigfrac in sigspace:\n",
    "        print(\"Signal Fraction: \", sigfrac)\n",
    "        count = 0\n",
    "        for w1 in weight_list:\n",
    "            for w2 in weight_list:\n",
    "                if count % 100 == 0:\n",
    "                    print(f\"reached {w1} {w2}\")\n",
    "                count+=1\n",
    "                #print(w1, w2)\n",
    "\n",
    "                if decay == \"qq\":\n",
    "                    for l in model_qq.layers:\n",
    "                        l.trainable=False\n",
    "                    model_semiweak = compileSemiWeakly(sigfrac, model_qq, feature_dims, parameters, m1, m2, w1, w2)\n",
    "                    \n",
    "                if decay == \"qqq\":\n",
    "                    for l in model_qqq.layers:\n",
    "                        l.trainable=False\n",
    "                    model_semiweak = compileSemiWeakly3Prong(model_qq, model_qqq, feature_dims, parameters, m1, m2, w1, w2)\n",
    "\n",
    "                m1 = m1\n",
    "                m2 = m2\n",
    "                \n",
    "                #if computed this mass pair, break\n",
    "                key = (sigfrac,m1,m2, decay)\n",
    "                if key in z:\n",
    "                    break\n",
    "\n",
    "                test_background = int(1/2 *len(x[0,0, qq, noise]))\n",
    "                train_background = int(1/4 * len(x[0,0,qq, noise]))\n",
    "                train_data = int(1/4 * len(x[0,0,qq, noise]))\n",
    "                train_reference = int(1/4 * len(x[0,0,qq, noise]))\n",
    "                #signal\n",
    "                test_signal_length = int(1/2*len(x[m1,m2,qq, noise]))\n",
    "\n",
    "                #randomize signal events\n",
    "                random_test_signal_length = random.randint(0, test_signal_length - 1)\n",
    "                N = int(1/4 * (len(x[0,0,qq, noise])))\n",
    "                signal = x[m1, m2,qq, noise][random_test_signal_length:random_test_signal_length + int(sigfrac*N)]\n",
    "\n",
    "                x_data_ = np.concatenate([x[0,0,qq, noise][test_background:],signal])\n",
    "                y_data_ = np.concatenate([np.zeros(train_reference),np.ones(train_data),np.ones(len(signal))])\n",
    "\n",
    "                X_train_, X_val_, Y_train_, Y_val_ = train_test_split(x_data_, y_data_, test_size=0.5, random_state = 42)\n",
    "                \n",
    "                with tf.device('/GPU:0'):\n",
    "                    loss = model_semiweak.evaluate(X_val_, Y_val_, verbose = 0)\n",
    "                losses_list.append(loss)\n",
    "                \n",
    "        end_time = time.time()\n",
    "        elapsed_time = round(end_time - start_time, 3)\n",
    "        print(f\"Time taken: {elapsed_time} seconds\")\n",
    "        if key in z:\n",
    "            print(f\"Loss Landscape for m1 = {m1} and m2 = {m2} already exists for {sigfrac} signal fraction and decay {decay}\")\n",
    "        else:\n",
    "            z[sigfrac, m1, m2, decay] = losses_list\n",
    "            losses_list = []\n",
    "            np.save(file_name, z)\n",
    "    end_time_total = time.time()\n",
    "\n",
    "    elapsed_time_total = round(end_time_total - start_time, 3)\n",
    "    print(f\"Total elapsed time: {elapsed_time_total} seconds\")"
   ]
  },
  {
   "cell_type": "code",
   "execution_count": null,
   "id": "1f795415-7d52-407d-ae64-ed8a759815a5",
   "metadata": {
    "tags": []
   },
   "outputs": [
    {
     "name": "stdout",
     "output_type": "stream",
     "text": [
      "Signal Fraction:  0.1\n",
      "reached 0.5 0.5\n",
      "reached 1.5 2.5\n",
      "reached 2.5 4.5\n"
     ]
    }
   ],
   "source": [
    "eval_loss_landscape(6, 4, 5, 1, 0.25, \"qqq\")"
   ]
  },
  {
   "cell_type": "code",
   "execution_count": 39,
   "id": "363a07f2-6984-4b6c-80a4-b448d7071594",
   "metadata": {
    "tags": []
   },
   "outputs": [
    {
     "name": "stdout",
     "output_type": "stream",
     "text": [
      "Dictionary doesn't exist, creating one...\n",
      "Signal Fraction:  0.1\n",
      "reached 0.5 0.5\n",
      "reached 1.5 2.5\n",
      "reached 2.5 4.5\n",
      "reached 3.75 0.75\n",
      "reached 4.75 2.75\n",
      "reached 5.75 4.75\n",
      "Time taken: 1806.609 seconds\n",
      "Total elapsed time: 1806.61 seconds\n"
     ]
    }
   ],
   "source": [
    "model_qq = tf.keras.models.load_model(\"/pscratch/sd/g/gupsingh/model_fixed\")\n",
    "feature_dims = 6\n",
    "parameters = 3\n",
    "m1 = 3\n",
    "m2 = 4.5\n",
    "step = 0.25\n",
    "eval_loss_landscape_6Features(model_qq, feature_dims, parameters, m1, m2, step)"
   ]
  },
  {
   "cell_type": "code",
   "execution_count": 40,
   "id": "b098cdbb-da6a-42db-9591-3b26cba782fb",
   "metadata": {},
   "outputs": [],
   "source": [
    "def eval_AUC_landscape_6Features(model, feature_dims, parameters, m1, m2, step, decay):\n",
    "    qq = decay\n",
    "    noise = False\n",
    "    \n",
    "    start_time = time.time()\n",
    "\n",
    "    #check if AUC dictionary exists, if it does load it, if not create empty one\n",
    "    dir_path = os.getcwd()\n",
    "    file_name = f\"data/landscapes/a_{feature_dims}_{parameters}_{m1}{m2}_{step}_{decay}.npy\"\n",
    "    file_path = os.path.join(dir_path, file_name)\n",
    "    \n",
    "    if os.path.exists(file_path):\n",
    "        a = np.load(file_name, allow_pickle = True).item()\n",
    "    else:\n",
    "        print(\"Dictionary doesn't exist, creating one...\")\n",
    "        a = {}\n",
    "    \n",
    "    AUC_list = []\n",
    "\n",
    "    epsilon = 1e-4\n",
    "    sigspace = [0.1]\n",
    "\n",
    "    start = 0.5\n",
    "    end = 6\n",
    "    step = step\n",
    "\n",
    "    weight_list = np.arange(start, end + step, step)\n",
    "    \n",
    "    for sigfrac in sigspace:\n",
    "        print(\"Signal Fraction: \", sigfrac)\n",
    "        count = 0\n",
    "        for w1 in weight_list:\n",
    "            for w2 in weight_list:\n",
    "                if count % 100 == 0:\n",
    "                    print(f\"reached {w1} {w2}\")\n",
    "                count+=1\n",
    "                #print(w1, w2)\n",
    "\n",
    "                if decay == \"qq\":\n",
    "                    for l in model.layers:\n",
    "                        l.trainable=False\n",
    "                    model_semiweak = compileSemiWeakly(model, feature_dims, parameters, m1, m2, w1, w2)\n",
    "                    \n",
    "                if decay == \"qqq\":\n",
    "                    for l in model_qqq.layers:\n",
    "                        l.trainable=False\n",
    "                    model_semiweak = compileSemiWeakly3Prong(model_qq, model_qqq, feature_dims, parameters, m1, m2, w1, w2)\n",
    "\n",
    "                m1 = m1\n",
    "                m2 = m2\n",
    "                \n",
    "                #if computed this mass pair, break\n",
    "                \n",
    "                key = (sigfrac,m1,m2, decay)\n",
    "                if key in a:\n",
    "                    break\n",
    "\n",
    "                test_background = int(1/2 *len(x[0,0, qq, noise]))\n",
    "                train_background = int(1/4 * len(x[0,0,qq, noise]))\n",
    "                train_data = int(1/4 * len(x[0,0,qq, noise]))\n",
    "                train_reference = int(1/4 * len(x[0,0,qq, noise]))\n",
    "                #signal\n",
    "                test_signal_length = int(1/2*len(x[m1,m2,qq, noise]))\n",
    "\n",
    "                #randomize signal events\n",
    "                random_test_signal_length = random.randint(0, test_signal_length - 1)\n",
    "                N = int(1/4 * (len(x[0,0,qq, noise])))\n",
    "                signal = x[m1, m2,qq, noise][random_test_signal_length:random_test_signal_length + int(sigfrac*N)]\n",
    "\n",
    "                x_data_ = np.concatenate([x[0,0,qq, noise][test_background:],signal])\n",
    "                y_data_ = np.concatenate([np.zeros(train_reference),np.ones(train_data),np.ones(len(signal))])\n",
    "\n",
    "                X_train_, X_val_, Y_train_, Y_val_ = train_test_split(x_data_, y_data_, test_size=0.5, random_state = 42)\n",
    "                \n",
    "                with tf.device('/GPU:0'):\n",
    "                    y_val_pred = model_semiweak.predict(X_val_)\n",
    "                    auc = roc_auc_score(Y_val_, y_val_pred)\n",
    "                AUC_list.append(auc)\n",
    "                \n",
    "        end_time = time.time()\n",
    "        elapsed_time = round(end_time - start_time, 3)\n",
    "        print(f\"Time taken: {elapsed_time} seconds\")\n",
    "        if key in a:\n",
    "            print(f\"AUC Landscape for m1 = {m1} and m2 = {m2} already exists for {sigfrac} signal fraction and decay {decay}\")\n",
    "        else:\n",
    "            a[sigfrac, m1, m2, decay] = AUC_list\n",
    "            AUC_list = []\n",
    "            np.save(file_name, a)\n",
    "    end_time_total = time.time()\n",
    "\n",
    "    elapsed_time_total = round(end_time_total - start_time, 3)\n",
    "    print(f\"Total elapsed time: {elapsed_time_total} seconds\")"
   ]
  },
  {
   "cell_type": "code",
   "execution_count": 35,
   "id": "fe705449-4c4e-4102-a87b-89c37f122faf",
   "metadata": {
    "tags": []
   },
   "outputs": [
    {
     "name": "stdout",
     "output_type": "stream",
     "text": [
      "Dictionary doesn't exist, creating one...\n",
      "Signal Fraction:  0.1\n",
      "reached 0.5 0.5\n",
      "996/996 [==============================] - 2s 1ms/step\n",
      "996/996 [==============================] - 2s 2ms/step\n",
      "996/996 [==============================] - 2s 2ms/step\n",
      "996/996 [==============================] - 2s 2ms/step\n",
      "996/996 [==============================] - 2s 2ms/step\n",
      "996/996 [==============================] - 2s 2ms/step\n",
      "996/996 [==============================] - 2s 2ms/step\n",
      "996/996 [==============================] - 2s 2ms/step\n",
      "996/996 [==============================] - 3s 3ms/step\n",
      "996/996 [==============================] - 3s 2ms/step\n",
      "996/996 [==============================] - 2s 2ms/step\n",
      "996/996 [==============================] - 2s 2ms/step\n",
      "996/996 [==============================] - 3s 2ms/step\n",
      "996/996 [==============================] - 3s 3ms/step\n",
      "996/996 [==============================] - 3s 3ms/step\n",
      "996/996 [==============================] - 3s 2ms/step\n",
      "996/996 [==============================] - 3s 2ms/step\n",
      "996/996 [==============================] - 3s 2ms/step\n",
      "996/996 [==============================] - 2s 2ms/step\n",
      "996/996 [==============================] - 3s 2ms/step\n",
      "996/996 [==============================] - 3s 3ms/step\n",
      "996/996 [==============================] - 3s 2ms/step\n",
      "996/996 [==============================] - 3s 2ms/step\n",
      "996/996 [==============================] - 3s 2ms/step\n",
      "996/996 [==============================] - 3s 2ms/step\n",
      "996/996 [==============================] - 3s 2ms/step\n",
      "996/996 [==============================] - 3s 2ms/step\n",
      "996/996 [==============================] - 3s 3ms/step\n",
      "996/996 [==============================] - 3s 2ms/step\n",
      "996/996 [==============================] - 3s 2ms/step\n",
      "996/996 [==============================] - 2s 2ms/step\n",
      "996/996 [==============================] - 3s 2ms/step\n",
      "996/996 [==============================] - 3s 2ms/step\n",
      "996/996 [==============================] - 3s 3ms/step\n",
      "996/996 [==============================] - 3s 3ms/step\n",
      "996/996 [==============================] - 3s 2ms/step\n",
      "996/996 [==============================] - 3s 3ms/step\n",
      "996/996 [==============================] - 3s 2ms/step\n",
      "996/996 [==============================] - 3s 3ms/step\n",
      "996/996 [==============================] - 3s 2ms/step\n",
      "996/996 [==============================] - 3s 2ms/step\n",
      "996/996 [==============================] - 2s 2ms/step\n",
      "996/996 [==============================] - 2s 2ms/step\n",
      "996/996 [==============================] - 2s 2ms/step\n",
      "996/996 [==============================] - 2s 2ms/step\n",
      "996/996 [==============================] - 3s 3ms/step\n",
      "996/996 [==============================] - 3s 2ms/step\n",
      "996/996 [==============================] - 3s 2ms/step\n",
      "996/996 [==============================] - 2s 2ms/step\n",
      "996/996 [==============================] - 3s 2ms/step\n",
      "996/996 [==============================] - 3s 2ms/step\n",
      "996/996 [==============================] - 2s 2ms/step\n",
      "996/996 [==============================] - 2s 2ms/step\n",
      "996/996 [==============================] - 2s 2ms/step\n",
      "996/996 [==============================] - 3s 2ms/step\n",
      "996/996 [==============================] - 2s 2ms/step\n",
      "996/996 [==============================] - 2s 2ms/step\n",
      "996/996 [==============================] - 2s 2ms/step\n",
      "996/996 [==============================] - 2s 2ms/step\n",
      "996/996 [==============================] - 3s 2ms/step\n",
      "996/996 [==============================] - 3s 2ms/step\n",
      "996/996 [==============================] - 3s 2ms/step\n",
      "996/996 [==============================] - 2s 2ms/step\n",
      "996/996 [==============================] - 3s 2ms/step\n",
      "996/996 [==============================] - 3s 2ms/step\n",
      "996/996 [==============================] - 2s 2ms/step\n",
      "996/996 [==============================] - 3s 2ms/step\n",
      "996/996 [==============================] - 2s 2ms/step\n",
      "996/996 [==============================] - 3s 2ms/step\n",
      "996/996 [==============================] - 2s 2ms/step\n",
      "996/996 [==============================] - 2s 2ms/step\n",
      "996/996 [==============================] - 2s 2ms/step\n",
      "996/996 [==============================] - 3s 3ms/step\n",
      "996/996 [==============================] - 3s 2ms/step\n",
      "996/996 [==============================] - 3s 2ms/step\n",
      "996/996 [==============================] - 3s 3ms/step\n",
      "996/996 [==============================] - 3s 3ms/step\n",
      "996/996 [==============================] - 3s 3ms/step\n",
      "996/996 [==============================] - 3s 2ms/step\n",
      "996/996 [==============================] - 3s 3ms/step\n",
      "996/996 [==============================] - 2s 2ms/step\n",
      "996/996 [==============================] - 3s 2ms/step\n",
      "996/996 [==============================] - 3s 2ms/step\n",
      "996/996 [==============================] - 3s 2ms/step\n",
      "996/996 [==============================] - 3s 2ms/step\n",
      "996/996 [==============================] - 3s 2ms/step\n",
      "996/996 [==============================] - 3s 2ms/step\n",
      "996/996 [==============================] - 2s 2ms/step\n",
      "996/996 [==============================] - 2s 2ms/step\n",
      "996/996 [==============================] - 2s 2ms/step\n",
      "996/996 [==============================] - 2s 2ms/step\n",
      "996/996 [==============================] - 2s 2ms/step\n",
      "996/996 [==============================] - 2s 2ms/step\n",
      "996/996 [==============================] - 2s 2ms/step\n",
      "996/996 [==============================] - 2s 2ms/step\n",
      "996/996 [==============================] - 2s 2ms/step\n",
      "996/996 [==============================] - 3s 2ms/step\n",
      "996/996 [==============================] - 3s 2ms/step\n",
      "996/996 [==============================] - 3s 2ms/step\n",
      "996/996 [==============================] - 2s 2ms/step\n",
      "reached 1.5 2.5\n",
      "996/996 [==============================] - 2s 2ms/step\n",
      "996/996 [==============================] - 2s 2ms/step\n",
      "996/996 [==============================] - 2s 2ms/step\n",
      "996/996 [==============================] - 2s 2ms/step\n",
      "996/996 [==============================] - 2s 2ms/step\n",
      "996/996 [==============================] - 2s 2ms/step\n",
      "996/996 [==============================] - 2s 2ms/step\n",
      "996/996 [==============================] - 3s 2ms/step\n",
      "996/996 [==============================] - 3s 2ms/step\n",
      "996/996 [==============================] - 3s 2ms/step\n",
      "996/996 [==============================] - 2s 2ms/step\n",
      "996/996 [==============================] - 2s 2ms/step\n",
      "996/996 [==============================] - 2s 2ms/step\n",
      "996/996 [==============================] - 2s 2ms/step\n",
      "996/996 [==============================] - 2s 2ms/step\n",
      "996/996 [==============================] - 2s 2ms/step\n",
      "996/996 [==============================] - 2s 2ms/step\n",
      "996/996 [==============================] - 2s 2ms/step\n",
      "996/996 [==============================] - 2s 2ms/step\n",
      "996/996 [==============================] - 2s 2ms/step\n",
      "996/996 [==============================] - 2s 2ms/step\n",
      "996/996 [==============================] - 2s 2ms/step\n",
      "996/996 [==============================] - 2s 2ms/step\n",
      "996/996 [==============================] - 2s 2ms/step\n",
      "996/996 [==============================] - 2s 2ms/step\n",
      "996/996 [==============================] - 2s 2ms/step\n",
      "996/996 [==============================] - 2s 2ms/step\n",
      "996/996 [==============================] - 2s 2ms/step\n",
      "996/996 [==============================] - 2s 2ms/step\n",
      "996/996 [==============================] - 2s 2ms/step\n",
      "996/996 [==============================] - 2s 2ms/step\n",
      "996/996 [==============================] - 2s 2ms/step\n",
      "996/996 [==============================] - 2s 2ms/step\n",
      "996/996 [==============================] - 2s 2ms/step\n",
      "996/996 [==============================] - 2s 2ms/step\n",
      "996/996 [==============================] - 3s 2ms/step\n",
      "996/996 [==============================] - 2s 2ms/step\n",
      "996/996 [==============================] - 3s 2ms/step\n",
      "996/996 [==============================] - 2s 2ms/step\n",
      "996/996 [==============================] - 2s 2ms/step\n",
      "996/996 [==============================] - 2s 2ms/step\n",
      "996/996 [==============================] - 2s 2ms/step\n",
      "996/996 [==============================] - 2s 2ms/step\n",
      "996/996 [==============================] - 2s 2ms/step\n",
      "996/996 [==============================] - 2s 2ms/step\n",
      "996/996 [==============================] - 2s 2ms/step\n",
      "996/996 [==============================] - 2s 2ms/step\n",
      "996/996 [==============================] - 2s 2ms/step\n",
      "996/996 [==============================] - 2s 2ms/step\n",
      "996/996 [==============================] - 2s 2ms/step\n",
      "996/996 [==============================] - 2s 2ms/step\n",
      "996/996 [==============================] - 2s 2ms/step\n",
      "996/996 [==============================] - 2s 2ms/step\n",
      "996/996 [==============================] - 2s 2ms/step\n",
      "996/996 [==============================] - 2s 2ms/step\n",
      "996/996 [==============================] - 2s 2ms/step\n",
      "996/996 [==============================] - 2s 2ms/step\n",
      "996/996 [==============================] - 2s 2ms/step\n",
      "996/996 [==============================] - 2s 2ms/step\n",
      "996/996 [==============================] - 2s 2ms/step\n",
      "996/996 [==============================] - 2s 2ms/step\n",
      "996/996 [==============================] - 2s 2ms/step\n",
      "996/996 [==============================] - 2s 2ms/step\n",
      "996/996 [==============================] - 2s 2ms/step\n",
      "996/996 [==============================] - 2s 2ms/step\n",
      "996/996 [==============================] - 2s 2ms/step\n",
      "996/996 [==============================] - 2s 2ms/step\n",
      "996/996 [==============================] - 2s 2ms/step\n",
      "996/996 [==============================] - 2s 2ms/step\n",
      "996/996 [==============================] - 2s 2ms/step\n",
      "996/996 [==============================] - 2s 2ms/step\n",
      "996/996 [==============================] - 2s 2ms/step\n",
      "996/996 [==============================] - 2s 2ms/step\n",
      "996/996 [==============================] - 2s 2ms/step\n",
      "996/996 [==============================] - 2s 2ms/step\n",
      "996/996 [==============================] - 3s 2ms/step\n",
      "996/996 [==============================] - 3s 2ms/step\n",
      "996/996 [==============================] - 3s 2ms/step\n",
      "996/996 [==============================] - 3s 2ms/step\n",
      "996/996 [==============================] - 2s 2ms/step\n",
      "996/996 [==============================] - 2s 2ms/step\n",
      "996/996 [==============================] - 2s 2ms/step\n",
      "996/996 [==============================] - 3s 3ms/step\n",
      "996/996 [==============================] - 2s 2ms/step\n",
      "996/996 [==============================] - 2s 2ms/step\n",
      "996/996 [==============================] - 2s 2ms/step\n",
      "996/996 [==============================] - 2s 2ms/step\n",
      "996/996 [==============================] - 3s 2ms/step\n",
      "996/996 [==============================] - 3s 2ms/step\n",
      "996/996 [==============================] - 2s 2ms/step\n",
      "996/996 [==============================] - 3s 2ms/step\n",
      "996/996 [==============================] - 2s 2ms/step\n",
      "996/996 [==============================] - 2s 2ms/step\n",
      "996/996 [==============================] - 2s 2ms/step\n",
      "996/996 [==============================] - 2s 2ms/step\n",
      "996/996 [==============================] - 3s 2ms/step\n",
      "996/996 [==============================] - 3s 2ms/step\n",
      "996/996 [==============================] - 3s 2ms/step\n",
      "996/996 [==============================] - 2s 2ms/step\n",
      "996/996 [==============================] - 2s 2ms/step\n",
      "reached 2.5 4.5\n",
      "996/996 [==============================] - 2s 2ms/step\n",
      "996/996 [==============================] - 2s 2ms/step\n",
      "996/996 [==============================] - 2s 2ms/step\n",
      "996/996 [==============================] - 2s 2ms/step\n",
      "996/996 [==============================] - 3s 2ms/step\n",
      "996/996 [==============================] - 2s 2ms/step\n",
      "996/996 [==============================] - 3s 2ms/step\n",
      "996/996 [==============================] - 2s 2ms/step\n",
      "996/996 [==============================] - 2s 2ms/step\n",
      "996/996 [==============================] - 2s 2ms/step\n",
      "996/996 [==============================] - 2s 2ms/step\n",
      "996/996 [==============================] - 2s 2ms/step\n",
      "996/996 [==============================] - 2s 2ms/step\n",
      "996/996 [==============================] - 2s 2ms/step\n",
      "996/996 [==============================] - 2s 2ms/step\n",
      "996/996 [==============================] - 2s 2ms/step\n",
      "996/996 [==============================] - 2s 2ms/step\n",
      "996/996 [==============================] - 2s 2ms/step\n",
      "996/996 [==============================] - 2s 2ms/step\n",
      "996/996 [==============================] - 2s 2ms/step\n",
      "996/996 [==============================] - 3s 3ms/step\n",
      "996/996 [==============================] - 2s 2ms/step\n",
      "996/996 [==============================] - 2s 2ms/step\n",
      "996/996 [==============================] - 2s 2ms/step\n",
      "996/996 [==============================] - 2s 1ms/step\n",
      "996/996 [==============================] - 2s 2ms/step\n",
      "996/996 [==============================] - 2s 2ms/step\n",
      "996/996 [==============================] - 2s 2ms/step\n",
      "996/996 [==============================] - 2s 2ms/step\n",
      "996/996 [==============================] - 2s 2ms/step\n",
      "996/996 [==============================] - 2s 2ms/step\n",
      "996/996 [==============================] - 2s 2ms/step\n",
      "996/996 [==============================] - 2s 2ms/step\n",
      "996/996 [==============================] - 2s 2ms/step\n",
      "996/996 [==============================] - 2s 2ms/step\n",
      "996/996 [==============================] - 2s 2ms/step\n",
      "996/996 [==============================] - 2s 2ms/step\n",
      "996/996 [==============================] - 2s 2ms/step\n",
      "996/996 [==============================] - 3s 3ms/step\n",
      "996/996 [==============================] - 2s 2ms/step\n",
      "996/996 [==============================] - 2s 2ms/step\n",
      "996/996 [==============================] - 2s 2ms/step\n",
      "996/996 [==============================] - 2s 2ms/step\n",
      "996/996 [==============================] - 2s 2ms/step\n",
      "996/996 [==============================] - 2s 2ms/step\n",
      "996/996 [==============================] - 2s 2ms/step\n",
      "996/996 [==============================] - 2s 2ms/step\n",
      "996/996 [==============================] - 2s 2ms/step\n",
      "996/996 [==============================] - 2s 2ms/step\n",
      "996/996 [==============================] - 2s 2ms/step\n",
      "996/996 [==============================] - 2s 2ms/step\n",
      "996/996 [==============================] - 2s 2ms/step\n",
      "996/996 [==============================] - 3s 2ms/step\n",
      "996/996 [==============================] - 2s 2ms/step\n",
      "996/996 [==============================] - 3s 2ms/step\n",
      "996/996 [==============================] - 2s 2ms/step\n",
      "996/996 [==============================] - 3s 2ms/step\n",
      "996/996 [==============================] - 3s 2ms/step\n",
      "996/996 [==============================] - 3s 2ms/step\n",
      "996/996 [==============================] - 3s 2ms/step\n",
      "996/996 [==============================] - 3s 3ms/step\n",
      "996/996 [==============================] - 3s 2ms/step\n",
      "996/996 [==============================] - 3s 3ms/step\n",
      "996/996 [==============================] - 3s 3ms/step\n",
      "996/996 [==============================] - 3s 3ms/step\n",
      "996/996 [==============================] - 3s 2ms/step\n",
      "996/996 [==============================] - 3s 3ms/step\n",
      "996/996 [==============================] - 3s 3ms/step\n",
      "996/996 [==============================] - 3s 3ms/step\n",
      "996/996 [==============================] - 3s 3ms/step\n",
      "996/996 [==============================] - 3s 3ms/step\n",
      "996/996 [==============================] - 3s 3ms/step\n",
      "996/996 [==============================] - 3s 3ms/step\n",
      "996/996 [==============================] - 2s 2ms/step\n",
      "996/996 [==============================] - 3s 3ms/step\n",
      "996/996 [==============================] - 3s 3ms/step\n",
      "996/996 [==============================] - 3s 3ms/step\n",
      "996/996 [==============================] - 3s 2ms/step\n",
      "996/996 [==============================] - 3s 3ms/step\n",
      "996/996 [==============================] - 3s 3ms/step\n",
      "996/996 [==============================] - 3s 3ms/step\n",
      "996/996 [==============================] - 3s 3ms/step\n",
      "996/996 [==============================] - 3s 3ms/step\n",
      "996/996 [==============================] - 3s 3ms/step\n",
      "996/996 [==============================] - 3s 3ms/step\n",
      "996/996 [==============================] - 3s 3ms/step\n",
      "996/996 [==============================] - 3s 3ms/step\n",
      "996/996 [==============================] - 3s 2ms/step\n",
      "996/996 [==============================] - 3s 3ms/step\n",
      "996/996 [==============================] - 3s 3ms/step\n",
      "996/996 [==============================] - 3s 3ms/step\n",
      "996/996 [==============================] - 3s 3ms/step\n",
      "996/996 [==============================] - 3s 3ms/step\n",
      "996/996 [==============================] - 3s 3ms/step\n",
      "996/996 [==============================] - 3s 3ms/step\n",
      "996/996 [==============================] - 2s 2ms/step\n",
      "996/996 [==============================] - 3s 2ms/step\n",
      "996/996 [==============================] - 3s 3ms/step\n",
      "996/996 [==============================] - 3s 3ms/step\n",
      "996/996 [==============================] - 3s 3ms/step\n",
      "reached 3.75 0.75\n",
      "996/996 [==============================] - 3s 2ms/step\n",
      "996/996 [==============================] - 3s 2ms/step\n",
      "996/996 [==============================] - 3s 3ms/step\n",
      "996/996 [==============================] - 3s 3ms/step\n",
      "996/996 [==============================] - 3s 3ms/step\n",
      "996/996 [==============================] - 3s 3ms/step\n",
      "996/996 [==============================] - 3s 2ms/step\n",
      "996/996 [==============================] - 2s 2ms/step\n",
      "996/996 [==============================] - 3s 3ms/step\n",
      "996/996 [==============================] - 3s 3ms/step\n",
      "996/996 [==============================] - 3s 3ms/step\n",
      "996/996 [==============================] - 3s 3ms/step\n",
      "996/996 [==============================] - 3s 3ms/step\n",
      "996/996 [==============================] - 3s 2ms/step\n",
      "996/996 [==============================] - 2s 2ms/step\n",
      "996/996 [==============================] - 3s 3ms/step\n",
      "996/996 [==============================] - 3s 3ms/step\n",
      "996/996 [==============================] - 3s 3ms/step\n",
      "996/996 [==============================] - 3s 2ms/step\n",
      "996/996 [==============================] - 2s 2ms/step\n",
      "996/996 [==============================] - 2s 2ms/step\n",
      "996/996 [==============================] - 3s 3ms/step\n",
      "996/996 [==============================] - 3s 2ms/step\n",
      "996/996 [==============================] - 3s 3ms/step\n",
      "996/996 [==============================] - 3s 3ms/step\n",
      "996/996 [==============================] - 3s 2ms/step\n",
      "996/996 [==============================] - 2s 2ms/step\n",
      "996/996 [==============================] - 3s 2ms/step\n",
      "996/996 [==============================] - 3s 2ms/step\n",
      "996/996 [==============================] - 3s 2ms/step\n",
      "996/996 [==============================] - 3s 3ms/step\n",
      "996/996 [==============================] - 3s 3ms/step\n",
      "996/996 [==============================] - 3s 3ms/step\n",
      "996/996 [==============================] - 3s 2ms/step\n",
      "996/996 [==============================] - 2s 2ms/step\n",
      "996/996 [==============================] - 3s 2ms/step\n",
      "996/996 [==============================] - 2s 2ms/step\n",
      "996/996 [==============================] - 3s 2ms/step\n",
      "996/996 [==============================] - 3s 3ms/step\n",
      "996/996 [==============================] - 3s 3ms/step\n",
      "996/996 [==============================] - 3s 3ms/step\n",
      "996/996 [==============================] - 3s 3ms/step\n",
      "996/996 [==============================] - 3s 3ms/step\n",
      "996/996 [==============================] - 3s 3ms/step\n",
      "996/996 [==============================] - 3s 3ms/step\n",
      "996/996 [==============================] - 3s 3ms/step\n",
      "996/996 [==============================] - 3s 3ms/step\n",
      "996/996 [==============================] - 3s 3ms/step\n",
      "996/996 [==============================] - 3s 2ms/step\n",
      "996/996 [==============================] - 3s 3ms/step\n",
      "996/996 [==============================] - 3s 3ms/step\n",
      "996/996 [==============================] - 3s 3ms/step\n",
      "996/996 [==============================] - 3s 3ms/step\n",
      "996/996 [==============================] - 2s 2ms/step\n",
      "996/996 [==============================] - 3s 3ms/step\n",
      "996/996 [==============================] - 3s 3ms/step\n",
      "996/996 [==============================] - 3s 3ms/step\n",
      "996/996 [==============================] - 3s 3ms/step\n",
      "996/996 [==============================] - 3s 3ms/step\n",
      "996/996 [==============================] - 4s 3ms/step\n",
      "996/996 [==============================] - 4s 3ms/step\n",
      "996/996 [==============================] - 3s 3ms/step\n",
      "996/996 [==============================] - 3s 3ms/step\n",
      "996/996 [==============================] - 3s 3ms/step\n",
      "996/996 [==============================] - 3s 3ms/step\n",
      "996/996 [==============================] - 3s 3ms/step\n",
      "996/996 [==============================] - 6s 3ms/step\n",
      "996/996 [==============================] - 3s 3ms/step\n",
      "996/996 [==============================] - 3s 3ms/step\n",
      "996/996 [==============================] - 3s 3ms/step\n",
      "996/996 [==============================] - 3s 3ms/step\n",
      "996/996 [==============================] - 3s 3ms/step\n",
      "996/996 [==============================] - 3s 2ms/step\n",
      "996/996 [==============================] - 3s 3ms/step\n",
      "996/996 [==============================] - 3s 3ms/step\n",
      "996/996 [==============================] - 3s 3ms/step\n",
      "996/996 [==============================] - 3s 3ms/step\n",
      "996/996 [==============================] - 3s 3ms/step\n",
      "996/996 [==============================] - 3s 3ms/step\n",
      "996/996 [==============================] - 4s 3ms/step\n",
      "996/996 [==============================] - 4s 3ms/step\n",
      "996/996 [==============================] - 3s 2ms/step\n",
      "996/996 [==============================] - 3s 2ms/step\n",
      "996/996 [==============================] - 3s 3ms/step\n",
      "996/996 [==============================] - 3s 3ms/step\n",
      "996/996 [==============================] - 3s 3ms/step\n",
      "996/996 [==============================] - 3s 3ms/step\n",
      "996/996 [==============================] - 3s 3ms/step\n",
      "996/996 [==============================] - 3s 3ms/step\n",
      "996/996 [==============================] - 3s 3ms/step\n",
      "996/996 [==============================] - 3s 3ms/step\n",
      "996/996 [==============================] - 3s 2ms/step\n",
      "996/996 [==============================] - 3s 3ms/step\n",
      "996/996 [==============================] - 3s 3ms/step\n",
      "996/996 [==============================] - 3s 3ms/step\n",
      "996/996 [==============================] - 3s 2ms/step\n",
      "996/996 [==============================] - 2s 2ms/step\n",
      "996/996 [==============================] - 2s 2ms/step\n",
      "996/996 [==============================] - 3s 3ms/step\n",
      "996/996 [==============================] - 3s 2ms/step\n",
      "reached 4.75 2.75\n",
      "996/996 [==============================] - 3s 3ms/step\n",
      "996/996 [==============================] - 3s 2ms/step\n",
      "996/996 [==============================] - 2s 2ms/step\n",
      "996/996 [==============================] - 3s 2ms/step\n",
      "996/996 [==============================] - 3s 2ms/step\n",
      "996/996 [==============================] - 3s 2ms/step\n",
      "996/996 [==============================] - 3s 2ms/step\n",
      "996/996 [==============================] - 3s 2ms/step\n",
      "996/996 [==============================] - 2s 2ms/step\n",
      "996/996 [==============================] - 2s 2ms/step\n",
      "996/996 [==============================] - 2s 2ms/step\n",
      "996/996 [==============================] - 2s 2ms/step\n",
      "996/996 [==============================] - 2s 2ms/step\n",
      "996/996 [==============================] - 2s 2ms/step\n",
      "996/996 [==============================] - 2s 2ms/step\n",
      "996/996 [==============================] - 2s 2ms/step\n",
      "996/996 [==============================] - 2s 2ms/step\n",
      "996/996 [==============================] - 2s 2ms/step\n",
      "996/996 [==============================] - 2s 2ms/step\n",
      "996/996 [==============================] - 2s 2ms/step\n",
      "996/996 [==============================] - 2s 2ms/step\n",
      "996/996 [==============================] - 2s 2ms/step\n",
      "996/996 [==============================] - 2s 2ms/step\n",
      "996/996 [==============================] - 2s 2ms/step\n",
      "996/996 [==============================] - 2s 2ms/step\n",
      "996/996 [==============================] - 2s 2ms/step\n",
      "996/996 [==============================] - 2s 2ms/step\n",
      "996/996 [==============================] - 2s 2ms/step\n",
      "996/996 [==============================] - 2s 2ms/step\n",
      "996/996 [==============================] - 3s 2ms/step\n",
      "996/996 [==============================] - 2s 2ms/step\n",
      "996/996 [==============================] - 3s 2ms/step\n",
      "996/996 [==============================] - 3s 2ms/step\n",
      "996/996 [==============================] - 2s 2ms/step\n",
      "996/996 [==============================] - 2s 2ms/step\n",
      "996/996 [==============================] - 3s 2ms/step\n",
      "996/996 [==============================] - 3s 2ms/step\n",
      "996/996 [==============================] - 3s 3ms/step\n",
      "996/996 [==============================] - 2s 2ms/step\n",
      "996/996 [==============================] - 2s 2ms/step\n",
      "996/996 [==============================] - 2s 2ms/step\n",
      "996/996 [==============================] - 2s 2ms/step\n",
      "996/996 [==============================] - 2s 2ms/step\n",
      "996/996 [==============================] - 2s 2ms/step\n",
      "996/996 [==============================] - 2s 2ms/step\n",
      "996/996 [==============================] - 2s 2ms/step\n",
      "996/996 [==============================] - 2s 2ms/step\n",
      "996/996 [==============================] - 2s 2ms/step\n",
      "996/996 [==============================] - 2s 2ms/step\n",
      "996/996 [==============================] - 2s 2ms/step\n",
      "996/996 [==============================] - 2s 2ms/step\n",
      "996/996 [==============================] - 2s 2ms/step\n",
      "996/996 [==============================] - 2s 2ms/step\n",
      "996/996 [==============================] - 2s 2ms/step\n",
      "996/996 [==============================] - 2s 2ms/step\n",
      "996/996 [==============================] - 3s 2ms/step\n",
      "996/996 [==============================] - 2s 2ms/step\n",
      "996/996 [==============================] - 2s 2ms/step\n",
      "996/996 [==============================] - 2s 2ms/step\n",
      "996/996 [==============================] - 2s 2ms/step\n",
      "996/996 [==============================] - 2s 2ms/step\n",
      "996/996 [==============================] - 2s 2ms/step\n",
      "996/996 [==============================] - 2s 2ms/step\n",
      "996/996 [==============================] - 2s 2ms/step\n",
      "996/996 [==============================] - 2s 2ms/step\n",
      "996/996 [==============================] - 2s 1ms/step\n",
      "996/996 [==============================] - 2s 2ms/step\n",
      "996/996 [==============================] - 2s 2ms/step\n",
      "996/996 [==============================] - 2s 2ms/step\n",
      "996/996 [==============================] - 2s 2ms/step\n",
      "996/996 [==============================] - 2s 2ms/step\n",
      "996/996 [==============================] - 2s 2ms/step\n",
      "996/996 [==============================] - 2s 2ms/step\n",
      "996/996 [==============================] - 2s 2ms/step\n",
      "996/996 [==============================] - 2s 2ms/step\n",
      "996/996 [==============================] - 2s 2ms/step\n",
      "996/996 [==============================] - 2s 2ms/step\n",
      "996/996 [==============================] - 2s 2ms/step\n",
      "996/996 [==============================] - 2s 2ms/step\n",
      "996/996 [==============================] - 2s 2ms/step\n",
      "996/996 [==============================] - 3s 2ms/step\n",
      "996/996 [==============================] - 2s 2ms/step\n",
      "996/996 [==============================] - 2s 2ms/step\n",
      "996/996 [==============================] - 3s 2ms/step\n",
      "996/996 [==============================] - 2s 2ms/step\n",
      "996/996 [==============================] - 3s 2ms/step\n",
      "996/996 [==============================] - 2s 2ms/step\n",
      "996/996 [==============================] - 2s 2ms/step\n",
      "996/996 [==============================] - 2s 2ms/step\n",
      "996/996 [==============================] - 2s 2ms/step\n",
      "996/996 [==============================] - 2s 2ms/step\n",
      "996/996 [==============================] - 3s 2ms/step\n",
      "996/996 [==============================] - 2s 2ms/step\n",
      "996/996 [==============================] - 2s 2ms/step\n",
      "996/996 [==============================] - 2s 2ms/step\n",
      "996/996 [==============================] - 2s 2ms/step\n",
      "996/996 [==============================] - 3s 2ms/step\n",
      "996/996 [==============================] - 3s 2ms/step\n",
      "996/996 [==============================] - 2s 2ms/step\n",
      "996/996 [==============================] - 3s 2ms/step\n",
      "reached 5.75 4.75\n",
      "996/996 [==============================] - 2s 2ms/step\n",
      "996/996 [==============================] - 2s 2ms/step\n",
      "996/996 [==============================] - 3s 3ms/step\n",
      "996/996 [==============================] - 3s 2ms/step\n",
      "996/996 [==============================] - 3s 3ms/step\n",
      "996/996 [==============================] - 3s 2ms/step\n",
      "996/996 [==============================] - 3s 3ms/step\n",
      "996/996 [==============================] - 3s 3ms/step\n",
      "996/996 [==============================] - 3s 3ms/step\n",
      "996/996 [==============================] - 3s 3ms/step\n",
      "996/996 [==============================] - 3s 3ms/step\n",
      "996/996 [==============================] - 3s 3ms/step\n",
      "996/996 [==============================] - 3s 3ms/step\n",
      "996/996 [==============================] - 3s 2ms/step\n",
      "996/996 [==============================] - 3s 3ms/step\n",
      "996/996 [==============================] - 3s 2ms/step\n",
      "996/996 [==============================] - 3s 3ms/step\n",
      "996/996 [==============================] - 3s 3ms/step\n",
      "996/996 [==============================] - 3s 3ms/step\n",
      "996/996 [==============================] - 2s 2ms/step\n",
      "996/996 [==============================] - 2s 2ms/step\n",
      "996/996 [==============================] - 3s 3ms/step\n",
      "996/996 [==============================] - 3s 2ms/step\n",
      "996/996 [==============================] - 3s 2ms/step\n",
      "996/996 [==============================] - 7s 3ms/step\n",
      "996/996 [==============================] - 3s 3ms/step\n",
      "996/996 [==============================] - 3s 3ms/step\n",
      "996/996 [==============================] - 3s 3ms/step\n",
      "996/996 [==============================] - 3s 3ms/step\n",
      "Time taken: 1822.279 seconds\n"
     ]
    }
   ],
   "source": [
    "from sklearn.metrics import roc_auc_score\n",
    "model_qq = tf.keras.models.load_model(\"/pscratch/sd/g/gupsingh/model_fixed\")\n",
    "m1 = 3\n",
    "m2 = 3\n",
    "parameters = 3\n",
    "feature_dims = 6\n",
    "eval_AUC_landscape_6Features(model_qq, feature_dims, parameters, m1, m2, 0.25)"
   ]
  },
  {
   "cell_type": "code",
   "execution_count": 10,
   "id": "99d09263-275f-4a23-aecd-f37a37111f6e",
   "metadata": {
    "tags": []
   },
   "outputs": [],
   "source": [
    "model_qq = tf.keras.models.load_model(\"/pscratch/sd/g/gupsingh/model_fixed\")\n",
    "model_qqq = tf.keras.models.load_model(\"/pscratch/sd/g/gupsingh/breathless-flower-61qqq\")"
   ]
  },
  {
   "cell_type": "code",
   "execution_count": 15,
   "id": "01a735d5-ddbc-47fe-b53a-90433f3427d5",
   "metadata": {
    "tags": []
   },
   "outputs": [
    {
     "name": "stdout",
     "output_type": "stream",
     "text": [
      "0.1 1.798 2.821\n",
      "3 3 2.9805934 3.0174441\n",
      "0.05994842503189409 1.798 2.821\n",
      "3 3 3.0087352 2.9952185\n",
      "0.03593813663804626 1.798 2.821\n",
      "3 3 2.986582 2.9958792\n",
      "0.021544346900318832 1.798 2.821\n",
      "3 3 1.7068412 3.0918903\n",
      "0.01291549665014884 1.798 2.821\n",
      "3 3 1.6848397 3.076302\n",
      "0.007742636826811269 1.798 2.821\n",
      "3 3 1.6876144 3.2699106\n",
      "0.004641588833612777 1.798 2.821\n",
      "3 3 1.6208816 3.3991497\n",
      "0.0027825594022071257 1.798 2.821\n",
      "3 3 1.6188866 3.477563\n",
      "0.0016681005372000592 1.798 2.821\n",
      "3 3 1.5844711 3.4696057\n",
      "0.001 1.798 2.821\n",
      "3 3 1.6227583 3.471704\n"
     ]
    }
   ],
   "source": [
    "decay = \"qqq\"\n",
    "noise = False\n",
    "sigmoid = lambda x: 1. / (1. + np.exp(-x))\n",
    "    \n",
    "msic1 = []\n",
    "weight_list1 = []\n",
    "weight_list2 = []\n",
    "weight_list3 = []\n",
    "weight_list4 = []\n",
    "\n",
    "sigspace = np.logspace(-3, -1, 10)\n",
    "\n",
    "w1 = round(random.uniform(0.5, 6.0),3)\n",
    "w2 = round(random.uniform(0.5, 6.0),3)\n",
    "\n",
    "for sigfrac in np.flip(sigspace):\n",
    "    print(sigfrac, w1, w2)\n",
    "\n",
    "    #freeze both two pronged and three pronged prior models\n",
    "    for l in model_qq.layers:\n",
    "        l.trainable=False\n",
    "\n",
    "    for l in model_qqq.layers:\n",
    "        l.trainable=False\n",
    "\n",
    "    inputs_hold = tf.keras.Input(shape=(1,))\n",
    "    simple_model = Dense(1,use_bias = False,activation='relu',kernel_initializer=tf.keras.initializers.Constant(w1))(inputs_hold)\n",
    "    model3 = Model(inputs = inputs_hold, outputs = simple_model)\n",
    "\n",
    "    inputs_hold2 = tf.keras.Input(shape=(1,))\n",
    "    simple_model2 = Dense(1,use_bias = False,activation='relu',kernel_initializer=tf.keras.initializers.Constant(w2))(inputs_hold2)\n",
    "    model32 = Model(inputs = inputs_hold2, outputs = simple_model2)\n",
    "\n",
    "    inputs_hold3 = tf.keras.Input(shape=(1,))\n",
    "    simple_model3 = tf.exp(Dense(1,use_bias = False,activation='linear',kernel_initializer=tf.keras.initializers.Constant(-1))(inputs_hold3))\n",
    "    model33 = Model(inputs = inputs_hold3, outputs = simple_model3)\n",
    "\n",
    "    inputs_hold4 = tf.keras.Input(shape=(1,))\n",
    "    simple_model4 = Dense(1,use_bias = False,activation='sigmoid',kernel_initializer=tf.keras.initializers.Constant(1.))(inputs_hold4)\n",
    "    model34 = Model(inputs = inputs_hold4, outputs = simple_model4)\n",
    "\n",
    "    inputs = tf.keras.Input(shape=(6,))\n",
    "    inputs2 = tf.keras.layers.concatenate([inputs,model3(tf.ones_like(inputs)[:,0]),model32(tf.ones_like(inputs)[:,0])])\n",
    "    hidden_layer_1 = model_qq(inputs2)\n",
    "    hidden_layer_13 = model_qqq(inputs2)\n",
    "    LLR2 = hidden_layer_1 / (1.-hidden_layer_1+0.0001)\n",
    "    LLR3 = hidden_layer_13 / (1.-hidden_layer_13+0.0001)\n",
    "    #LLR_xs = 1.+ sigfrac*LLR3 - sigfrac\n",
    "    LLR_xs_fixed = 1 + model33(tf.ones_like(inputs)[:,0])*model34(tf.ones_like(inputs)[:,0]) * LLR3 + (1-model34(tf.ones_like(inputs)[:,0]))*LLR2*model33(tf.ones_like(inputs)[:,0]) - model33(tf.ones_like(inputs)[:,0])\n",
    "    ws = LLR_xs_fixed / (1.+LLR_xs_fixed+0.0001)\n",
    "    SemiWeak3Prong = Model(inputs = inputs, outputs = ws)\n",
    "    SemiWeak3Prong.compile(loss='binary_crossentropy', optimizer=tf.keras.optimizers.Adam(learning_rate = 0.01))\n",
    "\n",
    "    m1 = 3\n",
    "    m2 = 3\n",
    "\n",
    "    test_background = int(1/2 * len(x[0,0, decay, noise]))\n",
    "    train_reference = int(1/4 *len(x[0,0, decay, noise]))\n",
    "    train_data = int(1/4 * len(x[0,0, decay, noise]))\n",
    "    test_signal = int(1/2*len(x[m1,m2, decay, noise]))\n",
    "\n",
    "    #randomize signal events\n",
    "    random_test_signal_length = random.randint(0, test_signal - 1)\n",
    "    N = int(1/4 * (len(x[0,0, decay, noise])))\n",
    "    signal = x[m1, m2, decay, noise][random_test_signal_length:random_test_signal_length + int(sigfrac*N)]\n",
    "\n",
    "    #mix both samples\n",
    "    # signal_mixed = np.concatenate([x[m1, m2, decay][int(test_signal/2):int(test_signal/2) + int(sigfrac*(N/2))], x[m1, m2, qq][int(test_signal/2):int(test_signal/2) + int(sigfrac*(N/2))]])\n",
    "    # background_mixed = np.concatenate([x[0,0,decay][:int(test_background/2)], x[0,0,qq][:int(test_background/2)]])\n",
    "\n",
    "    x_data_ = np.concatenate([x[0,0,decay, noise][test_background:],signal])\n",
    "    y_data_ = np.concatenate([np.zeros(train_reference),np.ones(train_data),np.ones(len(signal))])\n",
    "\n",
    "    # x_data_mixed = np.concatenate([background_mixed,signal_mixed])\n",
    "    # y_data_mixed = np.concatenate([np.zeros(train_reference),np.ones(train_data),np.ones(len(signal_mixed))])\n",
    "\n",
    "    X_train_, X_val_, Y_train_, Y_val_ = train_test_split(x_data_, y_data_, test_size=0.5, random_state = 42)\n",
    "\n",
    "    myhistory_hack_ = SemiWeak3Prong.fit(X_train_[:,0:6], Y_train_, epochs=100,validation_data=(X_val_[:,0:6], Y_val_),batch_size=1024, verbose = 0)\n",
    "    print(m1,m2,SemiWeak3Prong.trainable_weights[0].numpy()[0][0],SemiWeak3Prong.trainable_weights[1].numpy()[0][0])\n",
    "\n",
    "    weight_list1+=[SemiWeak3Prong.trainable_weights[0].numpy()[0][0]]\n",
    "    weight_list2+=[SemiWeak3Prong.trainable_weights[1].numpy()[0][0]]\n",
    "    weight_list3+=[SemiWeak3Prong.trainable_weights[2].numpy()[0][0]]\n",
    "    weight_list4+=[sigmoid(SemiWeak3Prong.trainable_weights[3].numpy()[0][0])]"
   ]
  },
  {
   "cell_type": "code",
   "execution_count": null,
   "id": "2f145c18-7a50-46c1-8085-da0119495edc",
   "metadata": {},
   "outputs": [],
   "source": [
    "#fully supervised\n",
    "scores_full = model_dedicated.predict(np.concatenate([x[0,0, qq, noise][0:test_background],x[m1,m2, qq, noise][0:test_signal]]),batch_size=1024)\n",
    "y_full = np.concatenate([np.zeros(test_background),np.ones(test_signal)])\n",
    "fpr_full, tpr_full, _ = metrics.roc_curve(y_full, scores_full)"
   ]
  },
  {
   "cell_type": "code",
   "execution_count": 17,
   "id": "470d2930-bf9b-4ed5-b58d-0d51bb50d2e9",
   "metadata": {
    "tags": []
   },
   "outputs": [
    {
     "data": {
      "text/plain": [
       "array([[-1.11881922, -1.66852576,  1.57244427,  1.20983769, -0.13939007,\n",
       "         0.85941707],\n",
       "       [-1.12420602, -1.26681214,  0.82536103,  0.1229807 ,  0.30860917,\n",
       "         0.13311748],\n",
       "       [-1.14769921, -0.50415523,  1.43958292,  0.62034086,  0.19901901,\n",
       "        -1.04425623],\n",
       "       ...,\n",
       "       [-0.96736856, -1.48238533,  1.25622683, -0.47599974, -0.32423304,\n",
       "         0.86060971],\n",
       "       [-1.3598598 , -1.72354998,  1.79953958,  1.20194427,  0.44119858,\n",
       "         0.28992835],\n",
       "       [-1.42887276, -1.6890858 ,  0.89151195,  0.58091326,  1.22563292,\n",
       "         0.4144562 ]])"
      ]
     },
     "execution_count": 17,
     "metadata": {},
     "output_type": "execute_result"
    }
   ],
   "source": [
    "x[0,0,qqq, noise][int(test_background/2):]"
   ]
  },
  {
   "cell_type": "code",
   "execution_count": 142,
   "id": "077f5998-eb64-4af8-9097-d94687dced0d",
   "metadata": {
    "tags": []
   },
   "outputs": [
    {
     "data": {
      "image/png": "[encoded data removed]",
      "text/plain": [
       "<Figure size 640x480 with 1 Axes>"
      ]
     },
     "metadata": {},
     "output_type": "display_data"
    }
   ],
   "source": [
    "plt.plot(sigspace,weight_list3,label=r\"$\\mu$\")\n",
    "plt.plot(sigspace,weight_list4,label=r\"$\\alpha$\")\n",
    "plt.plot(sigspace,sigspace,ls=\":\",color=\"black\")\n",
    "plt.plot(sigspace, [weight_list4[19]]*20, ls = \":\", color = \"black\")\n",
    "plt.title(\"50% Data Portioning\")\n",
    "plt.xscale(\"log\")\n",
    "plt.yscale(\"log\")\n",
    "plt.legend()\n",
    "plt.show()"
   ]
  },
  {
   "cell_type": "code",
   "execution_count": 20,
   "id": "bd93a607-d39e-4f43-a1aa-13c503fd25ad",
   "metadata": {
    "tags": []
   },
   "outputs": [],
   "source": [
    "plt.plot(sigspace,np.array(sigspace)*100, label = f\"w1 {w1}\")\n",
    "plt.plot(sigspace,np.array(sigspace)*100, label = f\"w2 {w2}\")\n",
    "plt.xscale(\"log\")\n",
    "plt.xlabel(\"S/B\")\n",
    "plt.ylabel(\"Fitted masses [GeV]\")\n",
    "plt.title(\"Trainable Weights vs Signal Fractions BCE\")\n",
    "plt.axhline(m2 * 100,ls=\":\",color='orange', label = m2)\n",
    "plt.axhline(m1 * 100,ls=\":\",color='blue', label = m1)\n",
    "plt.legend()\n",
    "plt.ylim([0,700])"
   ]
  },
  {
   "cell_type": "code",
   "execution_count": null,
   "id": "bb495cf8-fb39-4497-8b68-72ddc9f6f8ac",
   "metadata": {},
   "outputs": [],
   "source": []
  }
 ],
 "metadata": {
  "kernelspec": {
   "display_name": "gupEnviornment",
   "language": "python",
   "name": "research"
  },
  "language_info": {
   "codemirror_mode": {
    "name": "ipython",
    "version": 3
   },
   "file_extension": ".py",
   "mimetype": "text/x-python",
   "name": "python",
   "nbconvert_exporter": "python",
   "pygments_lexer": "ipython3",
   "version": "3.11.7"
  }
 },
 "nbformat": 4,
 "nbformat_minor": 5
}
