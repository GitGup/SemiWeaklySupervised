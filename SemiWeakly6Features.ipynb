{
 "cells": [
  {
   "cell_type": "code",
   "execution_count": 1,
   "id": "ffffb324-ca98-4d22-96d1-a1485b89d69e",
   "metadata": {
    "tags": []
   },
   "outputs": [
    {
     "name": "stderr",
     "output_type": "stream",
     "text": [
      "2024-04-04 01:20:04.804713: E external/local_xla/xla/stream_executor/cuda/cuda_dnn.cc:9261] Unable to register cuDNN factory: Attempting to register factory for plugin cuDNN when one has already been registered\n",
      "2024-04-04 01:20:04.804739: E external/local_xla/xla/stream_executor/cuda/cuda_fft.cc:607] Unable to register cuFFT factory: Attempting to register factory for plugin cuFFT when one has already been registered\n",
      "2024-04-04 01:20:04.806104: E external/local_xla/xla/stream_executor/cuda/cuda_blas.cc:1515] Unable to register cuBLAS factory: Attempting to register factory for plugin cuBLAS when one has already been registered\n",
      "2024-04-04 01:20:04.811921: I tensorflow/core/platform/cpu_feature_guard.cc:182] This TensorFlow binary is optimized to use available CPU instructions in performance-critical operations.\n",
      "To enable the following instructions: SSE4.1 SSE4.2 AVX AVX2 FMA, in other operations, rebuild TensorFlow with the appropriate compiler flags.\n"
     ]
    }
   ],
   "source": [
    "import numpy as np\n",
    "import matplotlib.pyplot as plt\n",
    "import pandas as pd\n",
    "import tensorflow as tf\n",
    "import random\n",
    "import os\n",
    "\n",
    "#tensorflow keras imports\n",
    "from sklearn.model_selection import train_test_split\n",
    "from sklearn import metrics\n",
    "\n",
    "from tensorflow.keras.layers import Input, Dense, BatchNormalization\n",
    "from tensorflow.keras.models import Model, Sequential\n",
    "from tensorflow.keras.models import model_from_json\n",
    "from tensorflow.keras.callbacks import EarlyStopping"
   ]
  },
  {
   "cell_type": "code",
   "execution_count": 14,
   "id": "c86e145d-b2fa-4e32-91e4-8b7a368aacab",
   "metadata": {
    "tags": []
   },
   "outputs": [
    {
     "name": "stdout",
     "output_type": "stream",
     "text": [
      "[PhysicalDevice(name='/physical_device:GPU:0', device_type='GPU'), PhysicalDevice(name='/physical_device:GPU:1', device_type='GPU'), PhysicalDevice(name='/physical_device:GPU:2', device_type='GPU'), PhysicalDevice(name='/physical_device:GPU:3', device_type='GPU')]\n",
      "Num GPUs Available:  4\n"
     ]
    }
   ],
   "source": [
    "print(tf.config.list_physical_devices('GPU'))\n",
    "# Check if tensorflow is using GPU\n",
    "print(\"Num GPUs Available: \", len(tf.config.list_physical_devices('GPU')))\n",
    "physical_devices = tf.config.list_physical_devices('GPU')\n",
    "#tf.config.experimental.set_visible_devices(physical_devices[0], 'GPU')"
   ]
  },
  {
   "cell_type": "code",
   "execution_count": 4,
   "id": "d40e20ee-a221-40ed-b2f5-56cfde7e4283",
   "metadata": {
    "tags": []
   },
   "outputs": [],
   "source": [
    "from utils import *\n",
    "import pickle\n",
    "\n",
    "mass_range = [0,0.5,1,1.5,2,2.5,3,3.5,4,4.5,5,5.5,6]\n",
    "if (False):\n",
    "    lmass_vec = {}\n",
    "    x = {}\n",
    "    mjjs = {}\n",
    "\n",
    "    mu_m = 0.\n",
    "    mu_t = 0.\n",
    "    mu_t2 = 0.\n",
    "    sd_m = 0.\n",
    "    sd_t = 0.\n",
    "    sd_t2 = 0.\n",
    "    \n",
    "    mj1_list = []\n",
    "    mj2_list = []\n",
    "\n",
    "    for m1 in mass_range:\n",
    "        for m2 in mass_range:\n",
    "            for qq in ['qq','qqq']:\n",
    "\n",
    "                print(\"on ...\",m1,m2,qq)\n",
    "\n",
    "                ltau1_m_m = []\n",
    "                ltau2_m_m = []\n",
    "                ltau3_m_m = []\n",
    "                stau1_m_m = []\n",
    "                stau2_m_m = []\n",
    "                stau3_m_m = []\n",
    "                if (m1>0 and m2>0):\n",
    "                    myfile = open(\"/global/cfs/projectdirs/m3246/AnomalyDetection/ILC/Delphes-3.5.0/LHCO_RnD_qq_fixed/LHCO_RnD_qq_\"+str(int(m1*100))+\"_\"+str(int(100*m2))+\".txt\")\n",
    "                    if (qq=='qqq'):\n",
    "                        myfile = open(\"/global/cfs/projectdirs/m3246/AnomalyDetection/ILC/Delphes-3.5.0/LHCO_RnD_qqq_fixed/LHCO_RnD_qqq2_\"+str(int(m1*100))+\"_\"+str(int(100*m2))+\".txt\")\n",
    "                    jets_m_m = []\n",
    "                    for line in myfile:\n",
    "                        jets_m_m+=[line.split(\"J\")[1].split(\"P\")[0].split()]\n",
    "                        pass\n",
    "                    ljet_m_m = [jets_m_m[2*n] for n in range(int(len(jets_m_m)/2))]\n",
    "                    sjet_m_m = [jets_m_m[2*n+1] for n in range(int(len(jets_m_m)/2))]\n",
    "\n",
    "                    lmass_m_m = np.array([float(ljet_m_m[i][3]) for i in range(len(ljet_m_m))])/1000.\n",
    "                    smass_m_m = np.array([float(sjet_m_m[i][3]) for i in range(len(sjet_m_m))])/1000.\n",
    "                    \n",
    "                    #check ordering of the leading and subleading jets\n",
    "                    #if leading jet mm > subleading, continue\n",
    "                    #if leading jet mm < subleading, swap\n",
    "                    for i in range(int(len(lmass_m_m))):\n",
    "                        if lmass_m_m[i] > smass_m_m[i]:\n",
    "                            continue\n",
    "                        elif lmass_m_m[i] < smass_m_m[i]:\n",
    "                            lmass_m_m[i], smass_m_m[i] = smass_m_m[i], lmass_m_m[i]\n",
    "\n",
    "                    ltau1_m_m = np.array([float(ljet_m_m[i][5]) for i in range(len(ljet_m_m))])\n",
    "                    ltau2_m_m = np.array([float(ljet_m_m[i][6]) for i in range(len(ljet_m_m))])\n",
    "                    ltau3_m_m = np.array([float(ljet_m_m[i][7]) for i in range(len(ljet_m_m))])\n",
    "\n",
    "                    stau1_m_m = np.array([float(sjet_m_m[i][5]) for i in range(len(ljet_m_m))])\n",
    "                    stau2_m_m = np.array([float(sjet_m_m[i][6]) for i in range(len(ljet_m_m))])\n",
    "                    stau3_m_m = np.array([float(sjet_m_m[i][7]) for i in range(len(ljet_m_m))])\n",
    "\n",
    "                    mjj = computemjj_txt(jets_m_m)/1000.\n",
    "                    mjjs[m1,m2] = mjj\n",
    "                    passcut = (mjj > 3.3) * (mjj < 3.7)\n",
    "                    lmass_m_m = lmass_m_m[passcut]\n",
    "                    smass_m_m = smass_m_m[passcut]\n",
    "                    ltau1_m_m = ltau1_m_m[passcut]\n",
    "                    ltau2_m_m = ltau2_m_m[passcut]\n",
    "                    ltau3_m_m = ltau3_m_m[passcut]\n",
    "                    stau1_m_m = stau1_m_m[passcut]\n",
    "                    stau2_m_m = stau2_m_m[passcut]\n",
    "                    stau3_m_m = stau3_m_m[passcut]\n",
    "                    pass\n",
    "                elif m1==0 and m2==0:\n",
    "                    df_QCD = pd.read_hdf(\"/global/cfs/projectdirs/m3246/AnomalyDetection/LHCO/events_anomalydetection_DelphesPythia8_v2_qcd_features.h5\")\n",
    "                    df_extra_QCD = pd.read_hdf(\"/global/cfs/projectdirs/m3246/AnomalyDetection/LHCO/events_anomalydetection_qcd_extra_inneronly_features.h5\")\n",
    "                    df_QCD = pd.concat([df_QCD, df_extra_QCD], axis=0)\n",
    "                    \n",
    "                    lmass_m_m = np.array(df_QCD[[\"mj1\"]]).flatten()/1000.\n",
    "                    smass_m_m = np.array(df_QCD[[\"mj2\"]]).flatten()/1000.\n",
    "                    \n",
    "                    #check jet ordering\n",
    "                    for i in range(int(len(lmass_m_m))):\n",
    "                        if lmass_m_m[i] > smass_m_m[i]:\n",
    "                            continue\n",
    "                        elif lmass_m_m[i] < smass_m_m[i]:\n",
    "                            lmass_m_m[i], smass_m_m[i] = smass_m_m[i], lmass_m_m[i]\n",
    "                        \n",
    "                    ltau1_m_m = np.array(df_QCD[[\"tau1j1\"]]).flatten()\n",
    "                    ltau2_m_m = np.array(df_QCD[[\"tau2j1\"]]).flatten()\n",
    "                    ltau3_m_m = np.array(df_QCD[[\"tau3j1\"]]).flatten()\n",
    "                    stau1_m_m = np.array(df_QCD[[\"tau1j2\"]]).flatten()\n",
    "                    stau2_m_m = np.array(df_QCD[[\"tau2j2\"]]).flatten()\n",
    "                    stau3_m_m = np.array(df_QCD[[\"tau3j2\"]]).flatten()\n",
    "                    mjj = computemjj_pd(df_QCD)/1000.\n",
    "                    mjjs[m1,m2] = mjj\n",
    "                    passcut = (mjj > 3.3) * (mjj < 3.7)\n",
    "                    lmass_m_m = lmass_m_m[passcut]\n",
    "                    smass_m_m = smass_m_m[passcut]\n",
    "                    ltau1_m_m = ltau1_m_m[passcut]\n",
    "                    ltau2_m_m = ltau2_m_m[passcut]\n",
    "                    ltau3_m_m = ltau3_m_m[passcut]\n",
    "                    stau1_m_m = stau1_m_m[passcut]\n",
    "                    stau2_m_m = stau2_m_m[passcut]\n",
    "                    stau3_m_m = stau3_m_m[passcut]\n",
    "\n",
    "                    mu_m = np.mean(lmass_m_m)\n",
    "                    mu_t = np.mean(ltau2_m_m/(ltau1_m_m+0.0001))\n",
    "                    mu_t2 = np.mean(ltau3_m_m/(ltau2_m_m+0.0001))\n",
    "                    sd_m = np.std(lmass_m_m)\n",
    "                    sd_t = np.std(ltau2_m_m/(ltau1_m_m+0.0001))\n",
    "                    sd_t2 = np.std(ltau3_m_m/(ltau2_m_m+0.0001))\n",
    "                    pass\n",
    "                else:\n",
    "                    continue\n",
    "\n",
    "                ms = np.stack([lmass_m_m,smass_m_m],axis=1)\n",
    "                ts = np.stack([ltau2_m_m/(ltau1_m_m+0.0001),stau2_m_m/(stau1_m_m+0.001)],axis=1)\n",
    "                ts2 = np.stack([ltau3_m_m/(ltau2_m_m+0.0001),stau3_m_m/(stau2_m_m+0.001)],axis=1)\n",
    "                order1 = [np.argmax(ms[i]) for i in range(len(ms))]\n",
    "                order2 = [np.argmin(ms[i]) for i in range(len(ms))]\n",
    "                mJ1 = np.array([ms[i][order1[i]] for i in range(len(ms))])\n",
    "                mJ2 = np.array([ms[i][order2[i]] for i in range(len(ms))])\n",
    "                \n",
    "                mj1_list.append(mJ1)\n",
    "                mj2_list.append(mJ2)\n",
    "                x[m1,m2,qq] = np.stack([(mJ2 - mu_m)/sd_m,\n",
    "                                        ((mJ1 - mJ2) - mu_m)/sd_m,\n",
    "                                        (np.array([ts[i][order2[i]] for i in range(len(ts))]) - mu_t)/sd_t,\n",
    "                                        (np.array([ts[i][order1[i]] for i in range(len(ts))]) - mu_t)/sd_t,\n",
    "                                        (np.array([ts2[i][order2[i]] for i in range(len(ts2))]) - mu_t2)/sd_t2,\n",
    "                                        (np.array([ts2[i][order1[i]] for i in range(len(ts2))]) - mu_t2)/sd_t2],axis=1)\n",
    "                lmass_vec[m1,m2]=lmass_m_m\n",
    "                pass\n",
    "            pass\n",
    "        pass\n",
    "    \n",
    "    #mj2, deltamjj, tau21j2, tau21j1, tau32j2, tau32j1\n",
    "    x_array = []\n",
    "    for m1 in mass_range:\n",
    "        for m2 in mass_range:\n",
    "            for qq in ['qq','qqq']:\n",
    "                if (m1==0 and m2>0 or m2==0 and m1>0):\n",
    "                    continue\n",
    "                x_array+=[x[m1,m2,qq]]\n",
    "    # with open(\"/pscratch/sd/g/gupsingh/x_array_fixed.pkl\", \"wb\") as f:\n",
    "    #     pickle.dump(x_array, f)"
   ]
  },
  {
   "cell_type": "code",
   "execution_count": 77,
   "id": "cb30d414-f979-4c98-848a-2f2b03872093",
   "metadata": {
    "tags": []
   },
   "outputs": [],
   "source": [
    "# with open(\"/pscratch/sd/g/gupsingh/x_array_fixed_EXTRAQCD.pkl\", \"wb\") as f:\n",
    "#         pickle.dump(x_array, f)"
   ]
  },
  {
   "cell_type": "code",
   "execution_count": 16,
   "id": "fb3d21c1-0277-406b-a510-170ed04aa6e4",
   "metadata": {
    "tags": []
   },
   "outputs": [],
   "source": [
    "qq = \"qq\"\n",
    "qqq = \"qqq\"\n",
    "mass_range = [0,0.5,1,1.5,2,2.5,3,3.5,4,4.5,5,5.5,6]\n",
    "def load_data(filename, noise_dims):\n",
    "    x = {}\n",
    "    x_array_read = np.load(filename,allow_pickle=True)\n",
    "    mycounter = -1\n",
    "    for m1 in mass_range:\n",
    "        for m2 in mass_range:\n",
    "            for q in ['qq','qqq']:\n",
    "                if (m1==0 and m2>0 or m2==0 and m1>0):\n",
    "                    continue\n",
    "                mycounter+=1\n",
    "                x[m1,m2,q, False] = x_array_read[mycounter]\n",
    "\n",
    "                if noise_dims and qq == \"qq\":\n",
    "                    for i in range(noise_dims):\n",
    "                        noise_feature = np.random.normal(0, 1, len(x[m1,m2,qq, False])).reshape(-1, 1)\n",
    "                        if i == 0:\n",
    "                            x[m1, m2, qq, True] = np.hstack((x[m1,m2, qq, False], noise_feature))\n",
    "                        if i > 0:\n",
    "                            x[m1, m2, qq, True] = np.hstack((x[m1,m2, qq, True], noise_feature))\n",
    "    \n",
    "    return x\n",
    "x = load_data(\"/pscratch/sd/g/gupsingh/x_array_fixed_EXTRAQCD.pkl\", noise_dims = 0)\n",
    "#x = load_data(\"/pscratch/sd/g/gupsingh/x_array_fixed.pkl\", noise_dims = 0)"
   ]
  },
  {
   "cell_type": "code",
   "execution_count": 11,
   "id": "4109845e-98d3-48d0-af83-304e29f6f377",
   "metadata": {
    "tags": []
   },
   "outputs": [
    {
     "data": {
      "text/plain": [
       "(734210, 21)"
      ]
     },
     "execution_count": 11,
     "metadata": {},
     "output_type": "execute_result"
    }
   ],
   "source": [
    "np.shape(x[0,0, qq, True])"
   ]
  },
  {
   "cell_type": "code",
   "execution_count": 34,
   "id": "6791914c-c31f-4116-89c4-da5465f231e9",
   "metadata": {
    "tags": []
   },
   "outputs": [
    {
     "data": {
      "text/plain": [
       "Text(0.5, 0, 'tau32j1')"
      ]
     },
     "execution_count": 34,
     "metadata": {},
     "output_type": "execute_result"
    },
    {
     "data": {
      "image/png": "[encoded data removed]",
      "text/plain": [
       "<Figure size 640x480 with 1 Axes>"
      ]
     },
     "metadata": {},
     "output_type": "display_data"
    }
   ],
   "source": [
    "import seaborn as sns\n",
    "sns.set(style=\"white\")\n",
    "plt.figure()\n",
    "plt.title(\"2 and 3 Pronged Distributions | 500 100 GeV\")\n",
    "plt.hist(x[5,1, qq, False][:,5], bins = 50, alpha = 1, density = True, label = \"signal qq\", histtype=\"step\");\n",
    "plt.hist(x[5,1, qqq, False][:,5], bins = 50, alpha = 1, density = True, label = \"signal qqq\", histtype=\"step\");\n",
    "plt.hist(x[0,0, qqq, False][:,5], bins = 50, alpha = 1, density = True, label = \"background qq/qqq\", histtype=\"step\");\n",
    "plt.legend(loc=\"upper right\",frameon=False)\n",
    "plt.gca().spines['left'].set_linewidth(0.5)\n",
    "plt.gca().spines['bottom'].set_linewidth(0.5)\n",
    "plt.gca().spines['top'].set_linewidth(0.5)\n",
    "plt.gca().spines['right'].set_linewidth(0.5)\n",
    "plt.tick_params(axis='both', which='both', direction='in', top=True, right=True)\n",
    "plt.tick_params(axis='both', which='both', direction='in', bottom=True, left=True)\n",
    "plt.ylabel(\"Normalized Count\")\n",
    "plt.xlabel(\"tau32j1\")"
   ]
  },
  {
   "cell_type": "code",
   "execution_count": 35,
   "id": "db2cc792-2762-42a7-bca5-48218f3957bc",
   "metadata": {
    "tags": []
   },
   "outputs": [
    {
     "data": {
      "text/plain": [
       "Text(0.5, 0, 'tau32j1')"
      ]
     },
     "execution_count": 35,
     "metadata": {},
     "output_type": "execute_result"
    },
    {
     "data": {
      "image/png": "[encoded data removed]",
      "text/plain": [
       "<Figure size 640x480 with 1 Axes>"
      ]
     },
     "metadata": {},
     "output_type": "display_data"
    }
   ],
   "source": [
    "plt.figure()\n",
    "plt.title(\"2 and 3 Pronged Distributions | 300 300 GeV\")\n",
    "plt.hist(x[3,3, qq, False][:,5], bins = 50, alpha = 1, density = True, label = \"signal qq\", histtype=\"step\");\n",
    "plt.hist(x[3,3, qqq, False][:,5], bins = 50, alpha = 1, density = True, label = \"signal qqq\", histtype=\"step\");\n",
    "plt.hist(x[0,0, qqq, False][:,5], bins = 50, alpha = 1, density = True, label = \"background qq/qqq\", histtype=\"step\");\n",
    "plt.legend(loc=\"upper right\",frameon=False)\n",
    "plt.gca().spines['left'].set_linewidth(0.5)\n",
    "plt.gca().spines['bottom'].set_linewidth(0.5)\n",
    "plt.gca().spines['top'].set_linewidth(0.5)\n",
    "plt.gca().spines['right'].set_linewidth(0.5)\n",
    "plt.tick_params(axis='both', which='both', direction='in', top=True, right=True)\n",
    "plt.tick_params(axis='both', which='both', direction='in', bottom=True, left=True)\n",
    "plt.ylabel(\"Normalized Count\")\n",
    "plt.xlabel(\"tau32j1\")"
   ]
  },
  {
   "cell_type": "code",
   "execution_count": 3,
   "id": "34020fcb-67cb-4898-b1b1-3baf41e83e00",
   "metadata": {
    "tags": []
   },
   "outputs": [
    {
     "data": {
      "text/plain": [
       "(734210, 56)"
      ]
     },
     "execution_count": 3,
     "metadata": {},
     "output_type": "execute_result"
    }
   ],
   "source": [
    "np.shape(x[0,0, qq, True])"
   ]
  },
  {
   "cell_type": "code",
   "execution_count": 22,
   "id": "7e092035-c977-46f5-a214-d3b0cd5ccd77",
   "metadata": {
    "tags": []
   },
   "outputs": [
    {
     "data": {
      "text/plain": [
       "(734210, 6)"
      ]
     },
     "execution_count": 22,
     "metadata": {},
     "output_type": "execute_result"
    }
   ],
   "source": [
    "np.shape(x[0,0, qq, False])"
   ]
  },
  {
   "cell_type": "code",
   "execution_count": 3,
   "id": "7833b6c3-ef98-41f1-8b77-d236321dc8d3",
   "metadata": {
    "tags": []
   },
   "outputs": [
    {
     "data": {
      "text/plain": [
       "(734210, 6)"
      ]
     },
     "execution_count": 3,
     "metadata": {},
     "output_type": "execute_result"
    }
   ],
   "source": [
    "np.shape(x[0,0, qqq, False])"
   ]
  },
  {
   "cell_type": "code",
   "execution_count": 4,
   "id": "4a1744d4-d3f9-464a-af14-4df9f8b125ca",
   "metadata": {
    "collapsed": true,
    "jupyter": {
     "outputs_hidden": true
    },
    "tags": []
   },
   "outputs": [
    {
     "name": "stdout",
     "output_type": "stream",
     "text": [
      "0.5 0.5\n",
      "0.5 1\n",
      "0.5 1.5\n",
      "0.5 2\n",
      "0.5 2.5\n",
      "0.5 3\n",
      "0.5 3.5\n",
      "0.5 4\n",
      "0.5 4.5\n",
      "0.5 5\n",
      "0.5 5.5\n",
      "0.5 6\n",
      "1 0.5\n",
      "1 1\n",
      "1 1.5\n",
      "1 2\n",
      "1 2.5\n",
      "1 3\n",
      "1 3.5\n",
      "1 4\n",
      "1 4.5\n",
      "1 5\n",
      "1 5.5\n",
      "1 6\n",
      "1.5 0.5\n",
      "1.5 1\n",
      "1.5 1.5\n",
      "1.5 2\n",
      "1.5 2.5\n",
      "1.5 3\n",
      "1.5 3.5\n",
      "1.5 4\n",
      "1.5 4.5\n",
      "1.5 5\n",
      "1.5 5.5\n",
      "1.5 6\n",
      "2 0.5\n",
      "2 1\n",
      "2 1.5\n",
      "2 2\n",
      "2 2.5\n",
      "2 3\n",
      "2 3.5\n",
      "2 4\n",
      "2 4.5\n",
      "2 5\n",
      "2 5.5\n",
      "2 6\n",
      "2.5 0.5\n",
      "2.5 1\n",
      "2.5 1.5\n",
      "2.5 2\n",
      "2.5 2.5\n",
      "2.5 3\n",
      "2.5 3.5\n",
      "2.5 4\n",
      "2.5 4.5\n",
      "2.5 5\n",
      "2.5 5.5\n",
      "2.5 6\n",
      "3 0.5\n",
      "3 1\n",
      "3 1.5\n",
      "3 2\n",
      "3 2.5\n",
      "3 3\n",
      "3 3.5\n",
      "3 4\n",
      "3 4.5\n",
      "3 5\n",
      "3 5.5\n",
      "3 6\n",
      "3.5 0.5\n",
      "3.5 1\n",
      "3.5 1.5\n",
      "3.5 2\n",
      "3.5 2.5\n",
      "3.5 3\n",
      "3.5 3.5\n",
      "3.5 4\n",
      "3.5 4.5\n",
      "3.5 5\n",
      "3.5 5.5\n",
      "3.5 6\n",
      "4 0.5\n",
      "4 1\n",
      "4 1.5\n",
      "4 2\n",
      "4 2.5\n",
      "4 3\n",
      "4 3.5\n",
      "4 4\n",
      "4 4.5\n",
      "4 5\n",
      "4 5.5\n",
      "4 6\n",
      "4.5 0.5\n",
      "4.5 1\n",
      "4.5 1.5\n",
      "4.5 2\n",
      "4.5 2.5\n",
      "4.5 3\n",
      "4.5 3.5\n",
      "4.5 4\n",
      "4.5 4.5\n",
      "4.5 5\n",
      "4.5 5.5\n",
      "4.5 6\n",
      "5 0.5\n",
      "5 1\n",
      "5 1.5\n",
      "5 2\n",
      "5 2.5\n",
      "5 3\n",
      "5 3.5\n",
      "5 4\n",
      "5 4.5\n",
      "5 5\n",
      "5 5.5\n",
      "5 6\n",
      "5.5 0.5\n",
      "5.5 1\n",
      "5.5 1.5\n",
      "5.5 2\n",
      "5.5 2.5\n",
      "5.5 3\n",
      "5.5 3.5\n",
      "5.5 4\n",
      "5.5 4.5\n",
      "5.5 5\n",
      "5.5 5.5\n",
      "5.5 6\n",
      "6 0.5\n",
      "6 1\n",
      "6 1.5\n",
      "6 2\n",
      "6 2.5\n",
      "6 3\n",
      "6 3.5\n",
      "6 4\n",
      "6 4.5\n",
      "6 5\n",
      "6 5.5\n",
      "6 6\n"
     ]
    }
   ],
   "source": [
    "x_data_qq = []\n",
    "y_data_qq = []\n",
    "qq = \"qq\"\n",
    "mass_range = [0,0.5,1,1.5,2,2.5,3,3.5,4,4.5,5,5.5,6]\n",
    "noise = True\n",
    "for m1 in mass_range[1:]:\n",
    "    for m2 in mass_range[1:]:\n",
    "        for qq in ['qq']:\n",
    "            print(m1,m2)\n",
    "            x_aug_0 = np.append(np.append(x[0,0,qq, noise],m1*np.reshape(np.ones(len(x[0,0,qq, noise])),[len(x[0,0,qq, noise]),1]),1),m2*np.reshape(np.ones(len(x[0,0,qq, noise])),[len(x[0,0,qq, noise]),1]),1)\n",
    "            x_aug_m = np.append(np.append(x[m1,m2,qq, noise],m1*np.reshape(np.ones(len(x[m1,m2,qq, noise])),[len(x[m1,m2,qq, noise]),1]),1),m2*np.reshape(np.ones(len(x[m1,m2,qq, noise])),[len(x[m1,m2,qq, noise]),1]),1)\n",
    "            if (m1==0.5 and m2==0.5):\n",
    "                x_data_qq = np.concatenate([x_aug_0,x_aug_m])\n",
    "                y_data_qq = np.concatenate([np.zeros(len(x_aug_0)),np.ones(len(x_aug_m))])\n",
    "            else:\n",
    "                x_data_qq = np.concatenate([x_data_qq,x_aug_0,x_aug_m])\n",
    "                y_data_qq = np.concatenate([y_data_qq,np.zeros(len(x_aug_0)),np.ones(len(x_aug_m))])"
   ]
  },
  {
   "cell_type": "code",
   "execution_count": 4,
   "id": "eff648aa-09f3-4275-a9f6-78acfdeb948d",
   "metadata": {
    "tags": []
   },
   "outputs": [
    {
     "data": {
      "text/plain": [
       "(115500407, 28)"
      ]
     },
     "execution_count": 4,
     "metadata": {},
     "output_type": "execute_result"
    }
   ],
   "source": [
    "np.shape(x_data_qq)"
   ]
  },
  {
   "cell_type": "code",
   "execution_count": 6,
   "id": "498c3cdd-d24b-4362-8c06-3d52fd96f728",
   "metadata": {
    "tags": []
   },
   "outputs": [],
   "source": [
    "# np.save(\"/pscratch/sd/g/gupsingh/x_parametrized_data_qq_extra_noise20\", x_data_qq)\n",
    "# np.save(\"/pscratch/sd/g/gupsingh/y_parametrized_data_qq_extra_noise20\", y_data_qq)"
   ]
  },
  {
   "cell_type": "code",
   "execution_count": 11,
   "id": "b6767038-2377-47a2-ad0c-f8f7a9b098cb",
   "metadata": {
    "collapsed": true,
    "jupyter": {
     "outputs_hidden": true
    },
    "tags": []
   },
   "outputs": [
    {
     "name": "stdout",
     "output_type": "stream",
     "text": [
      "0.5 0.5\n",
      "0.5 1\n",
      "0.5 1.5\n",
      "0.5 2\n",
      "0.5 2.5\n",
      "0.5 3\n",
      "0.5 3.5\n",
      "0.5 4\n",
      "0.5 4.5\n",
      "0.5 5\n",
      "0.5 5.5\n",
      "0.5 6\n",
      "1 0.5\n",
      "1 1\n",
      "1 1.5\n",
      "1 2\n",
      "1 2.5\n",
      "1 3\n",
      "1 3.5\n",
      "1 4\n",
      "1 4.5\n",
      "1 5\n",
      "1 5.5\n",
      "1 6\n",
      "1.5 0.5\n",
      "1.5 1\n",
      "1.5 1.5\n",
      "1.5 2\n",
      "1.5 2.5\n",
      "1.5 3\n",
      "1.5 3.5\n",
      "1.5 4\n",
      "1.5 4.5\n",
      "1.5 5\n",
      "1.5 5.5\n",
      "1.5 6\n",
      "2 0.5\n",
      "2 1\n",
      "2 1.5\n",
      "2 2\n",
      "2 2.5\n",
      "2 3\n",
      "2 3.5\n",
      "2 4\n",
      "2 4.5\n",
      "2 5\n",
      "2 5.5\n",
      "2 6\n",
      "2.5 0.5\n",
      "2.5 1\n",
      "2.5 1.5\n",
      "2.5 2\n",
      "2.5 2.5\n",
      "2.5 3\n",
      "2.5 3.5\n",
      "2.5 4\n",
      "2.5 4.5\n",
      "2.5 5\n",
      "2.5 5.5\n",
      "2.5 6\n",
      "3 0.5\n",
      "3 1\n",
      "3 1.5\n",
      "3 2\n",
      "3 2.5\n",
      "3 3\n",
      "3 3.5\n",
      "3 4\n",
      "3 4.5\n",
      "3 5\n",
      "3 5.5\n",
      "3 6\n",
      "3.5 0.5\n",
      "3.5 1\n",
      "3.5 1.5\n",
      "3.5 2\n",
      "3.5 2.5\n",
      "3.5 3\n",
      "3.5 3.5\n",
      "3.5 4\n",
      "3.5 4.5\n",
      "3.5 5\n",
      "3.5 5.5\n",
      "3.5 6\n",
      "4 0.5\n",
      "4 1\n",
      "4 1.5\n",
      "4 2\n",
      "4 2.5\n",
      "4 3\n",
      "4 3.5\n",
      "4 4\n",
      "4 4.5\n",
      "4 5\n",
      "4 5.5\n",
      "4 6\n",
      "4.5 0.5\n",
      "4.5 1\n",
      "4.5 1.5\n",
      "4.5 2\n",
      "4.5 2.5\n",
      "4.5 3\n",
      "4.5 3.5\n",
      "4.5 4\n",
      "4.5 4.5\n",
      "4.5 5\n",
      "4.5 5.5\n",
      "4.5 6\n",
      "5 0.5\n",
      "5 1\n",
      "5 1.5\n",
      "5 2\n",
      "5 2.5\n",
      "5 3\n",
      "5 3.5\n",
      "5 4\n",
      "5 4.5\n",
      "5 5\n",
      "5 5.5\n",
      "5 6\n",
      "5.5 0.5\n",
      "5.5 1\n",
      "5.5 1.5\n",
      "5.5 2\n",
      "5.5 2.5\n",
      "5.5 3\n",
      "5.5 3.5\n",
      "5.5 4\n",
      "5.5 4.5\n",
      "5.5 5\n",
      "5.5 5.5\n",
      "5.5 6\n",
      "6 0.5\n",
      "6 1\n",
      "6 1.5\n",
      "6 2\n",
      "6 2.5\n",
      "6 3\n",
      "6 3.5\n",
      "6 4\n",
      "6 4.5\n",
      "6 5\n",
      "6 5.5\n",
      "6 6\n"
     ]
    }
   ],
   "source": [
    "x_data_qqq = []\n",
    "y_data_qqq = []\n",
    "mass_range = [0,0.5,1,1.5,2,2.5,3,3.5,4,4.5,5,5.5,6]\n",
    "noise = False\n",
    "for m1 in mass_range[1:]:\n",
    "    for m2 in mass_range[1:]:\n",
    "        for qq in ['qqq']:\n",
    "            qq = \"qqq\"\n",
    "            print(m1,m2)\n",
    "            x_aug_0 = np.append(np.append(x[0,0,qq, noise],m1*np.reshape(np.ones(len(x[0,0,qq, noise])),[len(x[0,0,qq, noise]),1]),1),m2*np.reshape(np.ones(len(x[0,0,qq, noise])),[len(x[0,0,qq, noise]),1]),1)\n",
    "            x_aug_m = np.append(np.append(x[m1,m2,qq, noise],m1*np.reshape(np.ones(len(x[m1,m2,qq, noise])),[len(x[m1,m2,qq, noise]),1]),1),m2*np.reshape(np.ones(len(x[m1,m2,qq, noise])),[len(x[m1,m2,qq, noise]),1]),1)\n",
    "            if (m1==0.5 and m2==0.5):\n",
    "                x_data_qqq = np.concatenate([x_aug_0,x_aug_m])\n",
    "                y_data_qqq = np.concatenate([np.zeros(len(x_aug_0)),np.ones(len(x_aug_m))])\n",
    "            else:\n",
    "                x_data_qqq = np.concatenate([x_data_qqq,x_aug_0,x_aug_m])\n",
    "                y_data_qqq = np.concatenate([y_data_qqq,np.zeros(len(x_aug_0)),np.ones(len(x_aug_m))])"
   ]
  },
  {
   "cell_type": "code",
   "execution_count": 9,
   "id": "ce117b67-e856-4863-aab4-29028b02b021",
   "metadata": {
    "tags": []
   },
   "outputs": [],
   "source": [
    "# np.save(\"/pscratch/sd/g/gupsingh/x_parametrized_data_qqq_fixed\", x_data_qqq)\n",
    "# np.save(\"/pscratch/sd/g/gupsingh/y_parametrized_data_qqq_fixed\", y_data_qqq)"
   ]
  },
  {
   "cell_type": "code",
   "execution_count": 29,
   "id": "4f92dce1-60f8-46be-8b38-4f24e621285b",
   "metadata": {
    "tags": []
   },
   "outputs": [],
   "source": [
    "x_data_qq = np.load(\"/pscratch/sd/g/gupsingh/x_parametrized_data_qq_extra.npy\")\n",
    "y_data_qq = np.load(\"/pscratch/sd/g/gupsingh/y_parametrized_data_qq_extra.npy\")"
   ]
  },
  {
   "cell_type": "code",
   "execution_count": 32,
   "id": "af3dddba-99a9-4ec2-a720-6b9602c0f38c",
   "metadata": {
    "tags": []
   },
   "outputs": [],
   "source": [
    "x_data_qq = np.load(\"/pscratch/sd/g/gupsingh/x_parametrized_data_qq_extra_noise20.npy\")\n",
    "y_data_qq = np.load(\"/pscratch/sd/g/gupsingh/y_parametrized_data_qq_extra_noise20.npy\")"
   ]
  },
  {
   "cell_type": "code",
   "execution_count": 38,
   "id": "62227f1c-4765-4cbc-8f3e-e72c76227778",
   "metadata": {
    "tags": []
   },
   "outputs": [
    {
     "data": {
      "text/plain": [
       "array([[0.5, 0.5],\n",
       "       [0.5, 0.5],\n",
       "       [0.5, 0.5],\n",
       "       ...,\n",
       "       [6. , 6. ],\n",
       "       [6. , 6. ],\n",
       "       [6. , 6. ]])"
      ]
     },
     "execution_count": 38,
     "metadata": {},
     "output_type": "execute_result"
    }
   ],
   "source": [
    "x_data_qq[:,np.shape(x_data_qq)[1]-2:np.shape(x_data_qq)[1]]"
   ]
  },
  {
   "cell_type": "code",
   "execution_count": 46,
   "id": "a7608b66-c9fb-4648-b8f0-9e2f8bc25b2c",
   "metadata": {
    "tags": []
   },
   "outputs": [
    {
     "data": {
      "text/plain": [
       "(115500407, 8)"
      ]
     },
     "execution_count": 46,
     "metadata": {},
     "output_type": "execute_result"
    }
   ],
   "source": [
    "noise_dims_add = 15\n",
    "noise_dims_remove = [i for i in range(np.shape(x_data_qq)[1] - (3 + noise_dims_add), 5, -1)]\n",
    "x_data_qq = np.delete(x_data_qq, noise_dims_remove, axis = 1)\n",
    "np.shape(x_data_qq)"
   ]
  },
  {
   "cell_type": "code",
   "execution_count": 45,
   "id": "bb2fb947-34e1-4734-b4ad-ae5c639bfac3",
   "metadata": {
    "tags": []
   },
   "outputs": [
    {
     "data": {
      "text/plain": [
       "array([[0.5, 0.5],\n",
       "       [0.5, 0.5],\n",
       "       [0.5, 0.5],\n",
       "       ...,\n",
       "       [6. , 6. ],\n",
       "       [6. , 6. ],\n",
       "       [6. , 6. ]])"
      ]
     },
     "execution_count": 45,
     "metadata": {},
     "output_type": "execute_result"
    }
   ],
   "source": [
    "x_data_qq[:,np.shape(x_data_qq)[1]-2:np.shape(x_data_qq)[1]]"
   ]
  },
  {
   "cell_type": "code",
   "execution_count": 21,
   "id": "dba07f7e-0dd6-4c21-916c-a2b736ebeb6c",
   "metadata": {
    "tags": []
   },
   "outputs": [],
   "source": [
    "x_data_qqq = np.load(\"/pscratch/sd/g/gupsingh/x_parametrized_data_qqq_extra.npy\")\n",
    "y_data_qqq = np.load(\"/pscratch/sd/g/gupsingh/y_parametrized_data_qqq_extra.npy\")"
   ]
  },
  {
   "cell_type": "code",
   "execution_count": 22,
   "id": "152a6620-8abb-4494-a27c-08a1782c50c9",
   "metadata": {
    "tags": []
   },
   "outputs": [],
   "source": [
    "X_train_qq, X_val_qq, Y_train_qq, Y_val_qq = train_test_split(x_data_qq_reduced, y_data_qq, test_size=0.5, random_state = 42)"
   ]
  },
  {
   "cell_type": "code",
   "execution_count": 4,
   "id": "a556f55d-a155-455c-ba9e-1ead6ed9871f",
   "metadata": {
    "tags": []
   },
   "outputs": [],
   "source": [
    "X_train_qqq, X_val_qqq, Y_train_qqq, Y_val_qqq = train_test_split(x_data_qqq, y_data_qqq, test_size=0.5, random_state = 42)"
   ]
  },
  {
   "cell_type": "code",
   "execution_count": 34,
   "id": "ca337ddd-54a3-488f-b512-21f44aeda744",
   "metadata": {
    "tags": []
   },
   "outputs": [
    {
     "name": "stdout",
     "output_type": "stream",
     "text": [
      "793/793 [==============================] - 1s 789us/step\n",
      "AUC: 0.9822237803725569\n"
     ]
    },
    {
     "data": {
      "image/png": "[encoded data removed]",
      "text/plain": [
       "<Figure size 640x480 with 1 Axes>"
      ]
     },
     "metadata": {},
     "output_type": "display_data"
    }
   ],
   "source": [
    "preds_qq = model_qq.predict(x_data_qq[np.prod(x_data_qq[:,6:8]==[5,1],axis=1)==1],batch_size=1000)\n",
    "fpr_qq, tpr_qq, _ = metrics.roc_curve(y_data_qq[np.prod(x_data_qq[:,6:8]==[5,1],axis=1)==1], preds_qq)\n",
    "plt.plot(fpr_qq, tpr_qq)\n",
    "auc = calculate_auc(fpr_qq, tpr_qq)\n",
    "print(\"AUC:\", auc)"
   ]
  },
  {
   "cell_type": "code",
   "execution_count": 33,
   "id": "a0098d29-cba1-48a7-88ca-6301df8daaf7",
   "metadata": {
    "tags": []
   },
   "outputs": [
    {
     "name": "stdout",
     "output_type": "stream",
     "text": [
      "794/794 [==============================] - 1s 811us/step\n",
      "AUC: 0.9719700087459158\n"
     ]
    },
    {
     "data": {
      "image/png": "[encoded data removed]",
      "text/plain": [
       "<Figure size 640x480 with 1 Axes>"
      ]
     },
     "metadata": {},
     "output_type": "display_data"
    }
   ],
   "source": [
    "def calculate_auc(fpr, tpr):\n",
    "    sorted_indices = np.argsort(fpr)\n",
    "    fpr_sorted = fpr[sorted_indices]\n",
    "    tpr_sorted = tpr[sorted_indices]\n",
    "    \n",
    "    auc = np.trapz(tpr_sorted, fpr_sorted)\n",
    "    return auc\n",
    "\n",
    "preds_qqq = model_qq.predict(x_data_qqq[np.prod(x_data_qqq[:,6:8]==[5,1],axis=1)==1],batch_size=1000)\n",
    "fpr_qqq, tpr_qqq, _ = metrics.roc_curve(y_data_qqq[np.prod(x_data_qqq[:,6:8]==[5,1],axis=1)==1], preds_qqq)\n",
    "plt.plot(fpr_qqq, tpr_qqq)\n",
    "auc = calculate_auc(fpr_qqq, tpr_qqq)\n",
    "print(\"AUC:\", auc)"
   ]
  },
  {
   "cell_type": "code",
   "execution_count": 5,
   "id": "d38d75be-73cd-4d00-ab34-929140d42f29",
   "metadata": {
    "tags": []
   },
   "outputs": [
    {
     "data": {
      "text/plain": [
       "(57750203, 23)"
      ]
     },
     "execution_count": 5,
     "metadata": {},
     "output_type": "execute_result"
    }
   ],
   "source": [
    "np.shape(X_train_qq)"
   ]
  },
  {
   "cell_type": "code",
   "execution_count": 11,
   "id": "3017eca6-f629-4a86-a0a5-f040ea845681",
   "metadata": {
    "tags": []
   },
   "outputs": [],
   "source": [
    "# x_data_qqq = np.load(\"x_data_qqq.npy\")\n",
    "# y_data_qqq = np.load(\"y_data_qqq.npy\")"
   ]
  },
  {
   "cell_type": "code",
   "execution_count": 31,
   "id": "7d414d68-a7a6-4dd4-b83c-1c15885b1431",
   "metadata": {
    "tags": []
   },
   "outputs": [
    {
     "data": {
      "text/plain": [
       "True"
      ]
     },
     "execution_count": 31,
     "metadata": {},
     "output_type": "execute_result"
    }
   ],
   "source": [
    "np.array_equal(x_data_qq[:, :6], x_data_qq_reduced[:, :6])"
   ]
  },
  {
   "cell_type": "code",
   "execution_count": 16,
   "id": "caaf14a4-0cd1-4109-a03c-7517e76bca8e",
   "metadata": {
    "collapsed": true,
    "jupyter": {
     "outputs_hidden": true
    },
    "tags": []
   },
   "outputs": [
    {
     "name": "stderr",
     "output_type": "stream",
     "text": [
      "Failed to detect the name of this notebook, you can set it manually with the WANDB_NOTEBOOK_NAME environment variable to enable code saving.\n",
      "\u001b[34m\u001b[1mwandb\u001b[0m: Currently logged in as: \u001b[33mgup-singh\u001b[0m. Use \u001b[1m`wandb login --relogin`\u001b[0m to force relogin\n"
     ]
    },
    {
     "data": {
      "text/html": [
       "wandb version 0.16.5 is available!  To upgrade, please run:\n",
       " $ pip install wandb --upgrade"
      ],
      "text/plain": [
       "<IPython.core.display.HTML object>"
      ]
     },
     "metadata": {},
     "output_type": "display_data"
    },
    {
     "data": {
      "text/html": [
       "Tracking run with wandb version 0.16.3"
      ],
      "text/plain": [
       "<IPython.core.display.HTML object>"
      ]
     },
     "metadata": {},
     "output_type": "display_data"
    },
    {
     "data": {
      "text/html": [
       "Run data is saved locally in <code>/pscratch/sd/g/gupsingh/wandb/run-20240401_155134-vcxlbd1c</code>"
      ],
      "text/plain": [
       "<IPython.core.display.HTML object>"
      ]
     },
     "metadata": {},
     "output_type": "display_data"
    },
    {
     "data": {
      "text/html": [
       "Syncing run <strong><a href='https://wandb.ai/gup-singh/SemiWeakly/runs/vcxlbd1c' target=\"_blank\">easy-monkey-107</a></strong> to <a href='https://wandb.ai/gup-singh/SemiWeakly' target=\"_blank\">Weights & Biases</a> (<a href='https://wandb.me/run' target=\"_blank\">docs</a>)<br/>"
      ],
      "text/plain": [
       "<IPython.core.display.HTML object>"
      ]
     },
     "metadata": {},
     "output_type": "display_data"
    },
    {
     "data": {
      "text/html": [
       " View project at <a href='https://wandb.ai/gup-singh/SemiWeakly' target=\"_blank\">https://wandb.ai/gup-singh/SemiWeakly</a>"
      ],
      "text/plain": [
       "<IPython.core.display.HTML object>"
      ]
     },
     "metadata": {},
     "output_type": "display_data"
    },
    {
     "data": {
      "text/html": [
       " View run at <a href='https://wandb.ai/gup-singh/SemiWeakly/runs/vcxlbd1c' target=\"_blank\">https://wandb.ai/gup-singh/SemiWeakly/runs/vcxlbd1c</a>"
      ],
      "text/plain": [
       "<IPython.core.display.HTML object>"
      ]
     },
     "metadata": {},
     "output_type": "display_data"
    },
    {
     "name": "stderr",
     "output_type": "stream",
     "text": [
      "2024-04-01 15:51:36.415172: I tensorflow/core/common_runtime/gpu/gpu_device.cc:1929] Created device /job:localhost/replica:0/task:0/device:GPU:0 with 38384 MB memory:  -> device: 0, name: NVIDIA A100-SXM4-40GB, pci bus id: 0000:03:00.0, compute capability: 8.0\n",
      "2024-04-01 15:51:36.416931: I tensorflow/core/common_runtime/gpu/gpu_device.cc:1929] Created device /job:localhost/replica:0/task:0/device:GPU:1 with 38384 MB memory:  -> device: 1, name: NVIDIA A100-SXM4-40GB, pci bus id: 0000:41:00.0, compute capability: 8.0\n",
      "2024-04-01 15:51:36.418584: I tensorflow/core/common_runtime/gpu/gpu_device.cc:1929] Created device /job:localhost/replica:0/task:0/device:GPU:2 with 38384 MB memory:  -> device: 2, name: NVIDIA A100-SXM4-40GB, pci bus id: 0000:82:00.0, compute capability: 8.0\n",
      "2024-04-01 15:51:36.420118: I tensorflow/core/common_runtime/gpu/gpu_device.cc:1929] Created device /job:localhost/replica:0/task:0/device:GPU:3 with 38384 MB memory:  -> device: 3, name: NVIDIA A100-SXM4-40GB, pci bus id: 0000:c1:00.0, compute capability: 8.0\n",
      "\u001b[34m\u001b[1mwandb\u001b[0m: \u001b[33mWARNING\u001b[0m The save_model argument by default saves the model in the HDF5 format that cannot save custom objects like subclassed models and custom layers. This behavior will be deprecated in a future release in favor of the SavedModel format. Meanwhile, the HDF5 model is saved as W&B files and the SavedModel as W&B Artifacts.\n"
     ]
    },
    {
     "name": "stdout",
     "output_type": "stream",
     "text": [
      "Epoch 1/5000\n"
     ]
    },
    {
     "name": "stderr",
     "output_type": "stream",
     "text": [
      "2024-04-01 15:51:43.900819: I external/local_xla/xla/service/service.cc:168] XLA service 0x7f8d14737080 initialized for platform CUDA (this does not guarantee that XLA will be used). Devices:\n",
      "2024-04-01 15:51:43.900836: I external/local_xla/xla/service/service.cc:176]   StreamExecutor device (0): NVIDIA A100-SXM4-40GB, Compute Capability 8.0\n",
      "2024-04-01 15:51:43.900840: I external/local_xla/xla/service/service.cc:176]   StreamExecutor device (1): NVIDIA A100-SXM4-40GB, Compute Capability 8.0\n",
      "2024-04-01 15:51:43.900843: I external/local_xla/xla/service/service.cc:176]   StreamExecutor device (2): NVIDIA A100-SXM4-40GB, Compute Capability 8.0\n",
      "2024-04-01 15:51:43.900846: I external/local_xla/xla/service/service.cc:176]   StreamExecutor device (3): NVIDIA A100-SXM4-40GB, Compute Capability 8.0\n",
      "2024-04-01 15:51:43.916181: I tensorflow/compiler/mlir/tensorflow/utils/dump_mlir_util.cc:269] disabling MLIR crash reproducer, set env var `MLIR_CRASH_REPRODUCER_DIRECTORY` to enable.\n",
      "2024-04-01 15:51:43.980992: I external/local_xla/xla/stream_executor/cuda/cuda_dnn.cc:454] Loaded cuDNN version 8800\n",
      "WARNING: All log messages before absl::InitializeLog() is called are written to STDERR\n",
      "I0000 00:00:1712011904.071805  954846 device_compiler.h:186] Compiled cluster using XLA!  This line is logged at most once for the lifetime of the process.\n"
     ]
    },
    {
     "name": "stdout",
     "output_type": "stream",
     "text": [
      "56389/56397 [============================>.] - ETA: 0s - loss: 0.0724 - accuracy: 0.9741"
     ]
    },
    {
     "name": "stderr",
     "output_type": "stream",
     "text": [
      "/global/homes/g/gupsingh/.conda/envs/research/lib/python3.11/site-packages/keras/src/engine/training.py:3103: UserWarning: You are saving your model as an HDF5 file via `model.save()`. This file format is considered legacy. We recommend using instead the native Keras format, e.g. `model.save('my_model.keras')`.\n",
      "  saving_api.save_model(\n"
     ]
    },
    {
     "name": "stdout",
     "output_type": "stream",
     "text": [
      "INFO:tensorflow:Assets written to: /pscratch/sd/g/gupsingh/wandb/run-20240401_155134-vcxlbd1c/files/model-best/assets\n"
     ]
    },
    {
     "name": "stderr",
     "output_type": "stream",
     "text": [
      "INFO:tensorflow:Assets written to: /pscratch/sd/g/gupsingh/wandb/run-20240401_155134-vcxlbd1c/files/model-best/assets\n",
      "\u001b[34m\u001b[1mwandb\u001b[0m: Adding directory to artifact (/pscratch/sd/g/gupsingh/wandb/run-20240401_155134-vcxlbd1c/files/model-best)... Done. 0.0s\n"
     ]
    },
    {
     "name": "stdout",
     "output_type": "stream",
     "text": [
      "56397/56397 [==============================] - 159s 3ms/step - loss: 0.0724 - accuracy: 0.9741 - val_loss: 0.0701 - val_accuracy: 0.9748\n",
      "Epoch 2/5000\n",
      "56392/56397 [============================>.] - ETA: 0s - loss: 0.0694 - accuracy: 0.9751"
     ]
    },
    {
     "name": "stderr",
     "output_type": "stream",
     "text": [
      "/global/homes/g/gupsingh/.conda/envs/research/lib/python3.11/site-packages/keras/src/engine/training.py:3103: UserWarning: You are saving your model as an HDF5 file via `model.save()`. This file format is considered legacy. We recommend using instead the native Keras format, e.g. `model.save('my_model.keras')`.\n",
      "  saving_api.save_model(\n"
     ]
    },
    {
     "name": "stdout",
     "output_type": "stream",
     "text": [
      "INFO:tensorflow:Assets written to: /pscratch/sd/g/gupsingh/wandb/run-20240401_155134-vcxlbd1c/files/model-best/assets\n"
     ]
    },
    {
     "name": "stderr",
     "output_type": "stream",
     "text": [
      "INFO:tensorflow:Assets written to: /pscratch/sd/g/gupsingh/wandb/run-20240401_155134-vcxlbd1c/files/model-best/assets\n",
      "\u001b[34m\u001b[1mwandb\u001b[0m: Adding directory to artifact (/pscratch/sd/g/gupsingh/wandb/run-20240401_155134-vcxlbd1c/files/model-best)... Done. 0.0s\n"
     ]
    },
    {
     "name": "stdout",
     "output_type": "stream",
     "text": [
      "56397/56397 [==============================] - 148s 3ms/step - loss: 0.0694 - accuracy: 0.9751 - val_loss: 0.0688 - val_accuracy: 0.9753\n",
      "Epoch 3/5000\n",
      "56397/56397 [==============================] - 149s 3ms/step - loss: 0.0688 - accuracy: 0.9753 - val_loss: 0.0688 - val_accuracy: 0.9752\n",
      "Epoch 4/5000\n",
      "56374/56397 [============================>.] - ETA: 0s - loss: 0.0685 - accuracy: 0.9753"
     ]
    },
    {
     "name": "stderr",
     "output_type": "stream",
     "text": [
      "/global/homes/g/gupsingh/.conda/envs/research/lib/python3.11/site-packages/keras/src/engine/training.py:3103: UserWarning: You are saving your model as an HDF5 file via `model.save()`. This file format is considered legacy. We recommend using instead the native Keras format, e.g. `model.save('my_model.keras')`.\n",
      "  saving_api.save_model(\n"
     ]
    },
    {
     "name": "stdout",
     "output_type": "stream",
     "text": [
      "INFO:tensorflow:Assets written to: /pscratch/sd/g/gupsingh/wandb/run-20240401_155134-vcxlbd1c/files/model-best/assets\n"
     ]
    },
    {
     "name": "stderr",
     "output_type": "stream",
     "text": [
      "INFO:tensorflow:Assets written to: /pscratch/sd/g/gupsingh/wandb/run-20240401_155134-vcxlbd1c/files/model-best/assets\n",
      "\u001b[34m\u001b[1mwandb\u001b[0m: Adding directory to artifact (/pscratch/sd/g/gupsingh/wandb/run-20240401_155134-vcxlbd1c/files/model-best)... Done. 0.0s\n"
     ]
    },
    {
     "name": "stdout",
     "output_type": "stream",
     "text": [
      "56397/56397 [==============================] - 147s 3ms/step - loss: 0.0685 - accuracy: 0.9753 - val_loss: 0.0684 - val_accuracy: 0.9754\n",
      "Epoch 5/5000\n",
      "56390/56397 [============================>.] - ETA: 0s - loss: 0.0684 - accuracy: 0.9754"
     ]
    },
    {
     "name": "stderr",
     "output_type": "stream",
     "text": [
      "/global/homes/g/gupsingh/.conda/envs/research/lib/python3.11/site-packages/keras/src/engine/training.py:3103: UserWarning: You are saving your model as an HDF5 file via `model.save()`. This file format is considered legacy. We recommend using instead the native Keras format, e.g. `model.save('my_model.keras')`.\n",
      "  saving_api.save_model(\n"
     ]
    },
    {
     "name": "stdout",
     "output_type": "stream",
     "text": [
      "INFO:tensorflow:Assets written to: /pscratch/sd/g/gupsingh/wandb/run-20240401_155134-vcxlbd1c/files/model-best/assets\n"
     ]
    },
    {
     "name": "stderr",
     "output_type": "stream",
     "text": [
      "INFO:tensorflow:Assets written to: /pscratch/sd/g/gupsingh/wandb/run-20240401_155134-vcxlbd1c/files/model-best/assets\n",
      "\u001b[34m\u001b[1mwandb\u001b[0m: Adding directory to artifact (/pscratch/sd/g/gupsingh/wandb/run-20240401_155134-vcxlbd1c/files/model-best)... Done. 0.0s\n"
     ]
    },
    {
     "name": "stdout",
     "output_type": "stream",
     "text": [
      "56397/56397 [==============================] - 147s 3ms/step - loss: 0.0684 - accuracy: 0.9754 - val_loss: 0.0682 - val_accuracy: 0.9755\n",
      "Epoch 6/5000\n",
      "56397/56397 [==============================] - 144s 3ms/step - loss: 0.0682 - accuracy: 0.9755 - val_loss: 0.0685 - val_accuracy: 0.9754\n",
      "Epoch 7/5000\n",
      "56397/56397 [==============================] - 145s 3ms/step - loss: 0.0681 - accuracy: 0.9755 - val_loss: 0.0682 - val_accuracy: 0.9754\n",
      "Epoch 8/5000\n",
      "56371/56397 [============================>.] - ETA: 0s - loss: 0.0680 - accuracy: 0.9755"
     ]
    },
    {
     "name": "stderr",
     "output_type": "stream",
     "text": [
      "/global/homes/g/gupsingh/.conda/envs/research/lib/python3.11/site-packages/keras/src/engine/training.py:3103: UserWarning: You are saving your model as an HDF5 file via `model.save()`. This file format is considered legacy. We recommend using instead the native Keras format, e.g. `model.save('my_model.keras')`.\n",
      "  saving_api.save_model(\n"
     ]
    },
    {
     "name": "stdout",
     "output_type": "stream",
     "text": [
      "INFO:tensorflow:Assets written to: /pscratch/sd/g/gupsingh/wandb/run-20240401_155134-vcxlbd1c/files/model-best/assets\n"
     ]
    },
    {
     "name": "stderr",
     "output_type": "stream",
     "text": [
      "INFO:tensorflow:Assets written to: /pscratch/sd/g/gupsingh/wandb/run-20240401_155134-vcxlbd1c/files/model-best/assets\n",
      "\u001b[34m\u001b[1mwandb\u001b[0m: Adding directory to artifact (/pscratch/sd/g/gupsingh/wandb/run-20240401_155134-vcxlbd1c/files/model-best)... Done. 0.0s\n"
     ]
    },
    {
     "name": "stdout",
     "output_type": "stream",
     "text": [
      "56397/56397 [==============================] - 145s 3ms/step - loss: 0.0680 - accuracy: 0.9755 - val_loss: 0.0680 - val_accuracy: 0.9755\n",
      "Epoch 9/5000\n",
      "56390/56397 [============================>.] - ETA: 0s - loss: 0.0679 - accuracy: 0.9756"
     ]
    },
    {
     "name": "stderr",
     "output_type": "stream",
     "text": [
      "/global/homes/g/gupsingh/.conda/envs/research/lib/python3.11/site-packages/keras/src/engine/training.py:3103: UserWarning: You are saving your model as an HDF5 file via `model.save()`. This file format is considered legacy. We recommend using instead the native Keras format, e.g. `model.save('my_model.keras')`.\n",
      "  saving_api.save_model(\n"
     ]
    },
    {
     "name": "stdout",
     "output_type": "stream",
     "text": [
      "INFO:tensorflow:Assets written to: /pscratch/sd/g/gupsingh/wandb/run-20240401_155134-vcxlbd1c/files/model-best/assets\n"
     ]
    },
    {
     "name": "stderr",
     "output_type": "stream",
     "text": [
      "INFO:tensorflow:Assets written to: /pscratch/sd/g/gupsingh/wandb/run-20240401_155134-vcxlbd1c/files/model-best/assets\n",
      "\u001b[34m\u001b[1mwandb\u001b[0m: Adding directory to artifact (/pscratch/sd/g/gupsingh/wandb/run-20240401_155134-vcxlbd1c/files/model-best)... Done. 0.0s\n"
     ]
    },
    {
     "name": "stdout",
     "output_type": "stream",
     "text": [
      "56397/56397 [==============================] - 145s 3ms/step - loss: 0.0679 - accuracy: 0.9756 - val_loss: 0.0680 - val_accuracy: 0.9756\n",
      "Epoch 10/5000\n",
      "56387/56397 [============================>.] - ETA: 0s - loss: 0.0679 - accuracy: 0.9756"
     ]
    },
    {
     "name": "stderr",
     "output_type": "stream",
     "text": [
      "/global/homes/g/gupsingh/.conda/envs/research/lib/python3.11/site-packages/keras/src/engine/training.py:3103: UserWarning: You are saving your model as an HDF5 file via `model.save()`. This file format is considered legacy. We recommend using instead the native Keras format, e.g. `model.save('my_model.keras')`.\n",
      "  saving_api.save_model(\n"
     ]
    },
    {
     "name": "stdout",
     "output_type": "stream",
     "text": [
      "INFO:tensorflow:Assets written to: /pscratch/sd/g/gupsingh/wandb/run-20240401_155134-vcxlbd1c/files/model-best/assets\n"
     ]
    },
    {
     "name": "stderr",
     "output_type": "stream",
     "text": [
      "INFO:tensorflow:Assets written to: /pscratch/sd/g/gupsingh/wandb/run-20240401_155134-vcxlbd1c/files/model-best/assets\n",
      "\u001b[34m\u001b[1mwandb\u001b[0m: Adding directory to artifact (/pscratch/sd/g/gupsingh/wandb/run-20240401_155134-vcxlbd1c/files/model-best)... Done. 0.0s\n"
     ]
    },
    {
     "name": "stdout",
     "output_type": "stream",
     "text": [
      "56397/56397 [==============================] - 147s 3ms/step - loss: 0.0679 - accuracy: 0.9756 - val_loss: 0.0677 - val_accuracy: 0.9757\n",
      "Epoch 11/5000\n",
      "56397/56397 [==============================] - 143s 3ms/step - loss: 0.0678 - accuracy: 0.9756 - val_loss: 0.0680 - val_accuracy: 0.9756\n",
      "Epoch 12/5000\n",
      "56397/56397 [==============================] - 147s 3ms/step - loss: 0.0677 - accuracy: 0.9757 - val_loss: 0.0677 - val_accuracy: 0.9757\n",
      "Epoch 13/5000\n",
      "56383/56397 [============================>.] - ETA: 0s - loss: 0.0677 - accuracy: 0.9757"
     ]
    },
    {
     "name": "stderr",
     "output_type": "stream",
     "text": [
      "/global/homes/g/gupsingh/.conda/envs/research/lib/python3.11/site-packages/keras/src/engine/training.py:3103: UserWarning: You are saving your model as an HDF5 file via `model.save()`. This file format is considered legacy. We recommend using instead the native Keras format, e.g. `model.save('my_model.keras')`.\n",
      "  saving_api.save_model(\n"
     ]
    },
    {
     "name": "stdout",
     "output_type": "stream",
     "text": [
      "INFO:tensorflow:Assets written to: /pscratch/sd/g/gupsingh/wandb/run-20240401_155134-vcxlbd1c/files/model-best/assets\n"
     ]
    },
    {
     "name": "stderr",
     "output_type": "stream",
     "text": [
      "INFO:tensorflow:Assets written to: /pscratch/sd/g/gupsingh/wandb/run-20240401_155134-vcxlbd1c/files/model-best/assets\n",
      "\u001b[34m\u001b[1mwandb\u001b[0m: Adding directory to artifact (/pscratch/sd/g/gupsingh/wandb/run-20240401_155134-vcxlbd1c/files/model-best)... Done. 0.0s\n"
     ]
    },
    {
     "name": "stdout",
     "output_type": "stream",
     "text": [
      "56397/56397 [==============================] - 145s 3ms/step - loss: 0.0677 - accuracy: 0.9757 - val_loss: 0.0676 - val_accuracy: 0.9757\n",
      "Epoch 14/5000\n",
      "56397/56397 [==============================] - 142s 3ms/step - loss: 0.0676 - accuracy: 0.9757 - val_loss: 0.0678 - val_accuracy: 0.9757\n",
      "Epoch 15/5000\n",
      "56397/56397 [==============================] - 147s 3ms/step - loss: 0.0676 - accuracy: 0.9757 - val_loss: 0.0683 - val_accuracy: 0.9755\n",
      "Epoch 16/5000\n",
      "56380/56397 [============================>.] - ETA: 0s - loss: 0.0675 - accuracy: 0.9757"
     ]
    },
    {
     "name": "stderr",
     "output_type": "stream",
     "text": [
      "/global/homes/g/gupsingh/.conda/envs/research/lib/python3.11/site-packages/keras/src/engine/training.py:3103: UserWarning: You are saving your model as an HDF5 file via `model.save()`. This file format is considered legacy. We recommend using instead the native Keras format, e.g. `model.save('my_model.keras')`.\n",
      "  saving_api.save_model(\n"
     ]
    },
    {
     "name": "stdout",
     "output_type": "stream",
     "text": [
      "INFO:tensorflow:Assets written to: /pscratch/sd/g/gupsingh/wandb/run-20240401_155134-vcxlbd1c/files/model-best/assets\n"
     ]
    },
    {
     "name": "stderr",
     "output_type": "stream",
     "text": [
      "INFO:tensorflow:Assets written to: /pscratch/sd/g/gupsingh/wandb/run-20240401_155134-vcxlbd1c/files/model-best/assets\n",
      "\u001b[34m\u001b[1mwandb\u001b[0m: Adding directory to artifact (/pscratch/sd/g/gupsingh/wandb/run-20240401_155134-vcxlbd1c/files/model-best)... Done. 0.0s\n"
     ]
    },
    {
     "name": "stdout",
     "output_type": "stream",
     "text": [
      "56397/56397 [==============================] - 145s 3ms/step - loss: 0.0675 - accuracy: 0.9757 - val_loss: 0.0675 - val_accuracy: 0.9758\n",
      "Epoch 17/5000\n",
      "56397/56397 [==============================] - 144s 3ms/step - loss: 0.0675 - accuracy: 0.9758 - val_loss: 0.0676 - val_accuracy: 0.9757\n",
      "Epoch 18/5000\n",
      "56397/56397 [==============================] - 147s 3ms/step - loss: 0.0675 - accuracy: 0.9758 - val_loss: 0.0676 - val_accuracy: 0.9758\n",
      "Epoch 19/5000\n",
      "56371/56397 [============================>.] - ETA: 0s - loss: 0.0675 - accuracy: 0.9758"
     ]
    },
    {
     "name": "stderr",
     "output_type": "stream",
     "text": [
      "/global/homes/g/gupsingh/.conda/envs/research/lib/python3.11/site-packages/keras/src/engine/training.py:3103: UserWarning: You are saving your model as an HDF5 file via `model.save()`. This file format is considered legacy. We recommend using instead the native Keras format, e.g. `model.save('my_model.keras')`.\n",
      "  saving_api.save_model(\n"
     ]
    },
    {
     "name": "stdout",
     "output_type": "stream",
     "text": [
      "INFO:tensorflow:Assets written to: /pscratch/sd/g/gupsingh/wandb/run-20240401_155134-vcxlbd1c/files/model-best/assets\n"
     ]
    },
    {
     "name": "stderr",
     "output_type": "stream",
     "text": [
      "INFO:tensorflow:Assets written to: /pscratch/sd/g/gupsingh/wandb/run-20240401_155134-vcxlbd1c/files/model-best/assets\n",
      "\u001b[34m\u001b[1mwandb\u001b[0m: Adding directory to artifact (/pscratch/sd/g/gupsingh/wandb/run-20240401_155134-vcxlbd1c/files/model-best)... Done. 0.1s\n"
     ]
    },
    {
     "name": "stdout",
     "output_type": "stream",
     "text": [
      "56397/56397 [==============================] - 145s 3ms/step - loss: 0.0675 - accuracy: 0.9758 - val_loss: 0.0674 - val_accuracy: 0.9758\n",
      "Epoch 20/5000\n",
      "56397/56397 [==============================] - 146s 3ms/step - loss: 0.0674 - accuracy: 0.9758 - val_loss: 0.0681 - val_accuracy: 0.9755\n",
      "Epoch 21/5000\n",
      "56397/56397 [==============================] - 147s 3ms/step - loss: 0.0674 - accuracy: 0.9758 - val_loss: 0.0678 - val_accuracy: 0.9757\n",
      "Epoch 22/5000\n",
      "56391/56397 [============================>.] - ETA: 0s - loss: 0.0674 - accuracy: 0.9758"
     ]
    },
    {
     "name": "stderr",
     "output_type": "stream",
     "text": [
      "/global/homes/g/gupsingh/.conda/envs/research/lib/python3.11/site-packages/keras/src/engine/training.py:3103: UserWarning: You are saving your model as an HDF5 file via `model.save()`. This file format is considered legacy. We recommend using instead the native Keras format, e.g. `model.save('my_model.keras')`.\n",
      "  saving_api.save_model(\n"
     ]
    },
    {
     "name": "stdout",
     "output_type": "stream",
     "text": [
      "INFO:tensorflow:Assets written to: /pscratch/sd/g/gupsingh/wandb/run-20240401_155134-vcxlbd1c/files/model-best/assets\n"
     ]
    },
    {
     "name": "stderr",
     "output_type": "stream",
     "text": [
      "INFO:tensorflow:Assets written to: /pscratch/sd/g/gupsingh/wandb/run-20240401_155134-vcxlbd1c/files/model-best/assets\n",
      "\u001b[34m\u001b[1mwandb\u001b[0m: Adding directory to artifact (/pscratch/sd/g/gupsingh/wandb/run-20240401_155134-vcxlbd1c/files/model-best)... Done. 0.0s\n"
     ]
    },
    {
     "name": "stdout",
     "output_type": "stream",
     "text": [
      "56397/56397 [==============================] - 144s 3ms/step - loss: 0.0674 - accuracy: 0.9758 - val_loss: 0.0673 - val_accuracy: 0.9759\n",
      "Epoch 23/5000\n",
      "56397/56397 [==============================] - 144s 3ms/step - loss: 0.0673 - accuracy: 0.9758 - val_loss: 0.0674 - val_accuracy: 0.9758\n",
      "Epoch 24/5000\n",
      "56397/56397 [==============================] - 141s 3ms/step - loss: 0.0673 - accuracy: 0.9758 - val_loss: 0.0674 - val_accuracy: 0.9759\n",
      "Epoch 25/5000\n",
      "56384/56397 [============================>.] - ETA: 0s - loss: 0.0673 - accuracy: 0.9758"
     ]
    },
    {
     "name": "stderr",
     "output_type": "stream",
     "text": [
      "/global/homes/g/gupsingh/.conda/envs/research/lib/python3.11/site-packages/keras/src/engine/training.py:3103: UserWarning: You are saving your model as an HDF5 file via `model.save()`. This file format is considered legacy. We recommend using instead the native Keras format, e.g. `model.save('my_model.keras')`.\n",
      "  saving_api.save_model(\n"
     ]
    },
    {
     "name": "stdout",
     "output_type": "stream",
     "text": [
      "INFO:tensorflow:Assets written to: /pscratch/sd/g/gupsingh/wandb/run-20240401_155134-vcxlbd1c/files/model-best/assets\n"
     ]
    },
    {
     "name": "stderr",
     "output_type": "stream",
     "text": [
      "INFO:tensorflow:Assets written to: /pscratch/sd/g/gupsingh/wandb/run-20240401_155134-vcxlbd1c/files/model-best/assets\n",
      "\u001b[34m\u001b[1mwandb\u001b[0m: Adding directory to artifact (/pscratch/sd/g/gupsingh/wandb/run-20240401_155134-vcxlbd1c/files/model-best)... Done. 0.0s\n"
     ]
    },
    {
     "name": "stdout",
     "output_type": "stream",
     "text": [
      "56397/56397 [==============================] - 143s 3ms/step - loss: 0.0673 - accuracy: 0.9758 - val_loss: 0.0672 - val_accuracy: 0.9759\n",
      "Epoch 26/5000\n",
      "56397/56397 [==============================] - 144s 3ms/step - loss: 0.0672 - accuracy: 0.9759 - val_loss: 0.0679 - val_accuracy: 0.9756\n",
      "Epoch 27/5000\n",
      "56397/56397 [==============================] - 146s 3ms/step - loss: 0.0672 - accuracy: 0.9759 - val_loss: 0.0676 - val_accuracy: 0.9757\n",
      "Epoch 28/5000\n",
      "56397/56397 [==============================] - 142s 3ms/step - loss: 0.0672 - accuracy: 0.9759 - val_loss: 0.0674 - val_accuracy: 0.9759\n",
      "Epoch 29/5000\n",
      "56397/56397 [==============================] - 144s 3ms/step - loss: 0.0672 - accuracy: 0.9759 - val_loss: 0.0676 - val_accuracy: 0.9758\n",
      "Epoch 30/5000\n",
      "56397/56397 [==============================] - 142s 3ms/step - loss: 0.0671 - accuracy: 0.9759 - val_loss: 0.0675 - val_accuracy: 0.9759\n",
      "Epoch 31/5000\n",
      "56397/56397 [==============================] - 145s 3ms/step - loss: 0.0671 - accuracy: 0.9759 - val_loss: 0.0673 - val_accuracy: 0.9759\n",
      "Epoch 32/5000\n",
      "56397/56397 [==============================] - 143s 3ms/step - loss: 0.0671 - accuracy: 0.9759 - val_loss: 0.0681 - val_accuracy: 0.9757\n",
      "Epoch 33/5000\n",
      "56397/56397 [==============================] - 143s 3ms/step - loss: 0.0671 - accuracy: 0.9759 - val_loss: 0.0673 - val_accuracy: 0.9759\n",
      "Epoch 34/5000\n",
      "56374/56397 [============================>.] - ETA: 0s - loss: 0.0671 - accuracy: 0.9759"
     ]
    },
    {
     "name": "stderr",
     "output_type": "stream",
     "text": [
      "/global/homes/g/gupsingh/.conda/envs/research/lib/python3.11/site-packages/keras/src/engine/training.py:3103: UserWarning: You are saving your model as an HDF5 file via `model.save()`. This file format is considered legacy. We recommend using instead the native Keras format, e.g. `model.save('my_model.keras')`.\n",
      "  saving_api.save_model(\n"
     ]
    },
    {
     "name": "stdout",
     "output_type": "stream",
     "text": [
      "INFO:tensorflow:Assets written to: /pscratch/sd/g/gupsingh/wandb/run-20240401_155134-vcxlbd1c/files/model-best/assets\n"
     ]
    },
    {
     "name": "stderr",
     "output_type": "stream",
     "text": [
      "INFO:tensorflow:Assets written to: /pscratch/sd/g/gupsingh/wandb/run-20240401_155134-vcxlbd1c/files/model-best/assets\n",
      "\u001b[34m\u001b[1mwandb\u001b[0m: Adding directory to artifact (/pscratch/sd/g/gupsingh/wandb/run-20240401_155134-vcxlbd1c/files/model-best)... Done. 0.0s\n"
     ]
    },
    {
     "name": "stdout",
     "output_type": "stream",
     "text": [
      "56397/56397 [==============================] - 142s 3ms/step - loss: 0.0671 - accuracy: 0.9759 - val_loss: 0.0671 - val_accuracy: 0.9760\n",
      "Epoch 35/5000\n",
      "56397/56397 [==============================] - 140s 2ms/step - loss: 0.0670 - accuracy: 0.9759 - val_loss: 0.0673 - val_accuracy: 0.9759\n",
      "Epoch 36/5000\n",
      "56397/56397 [==============================] - 140s 2ms/step - loss: 0.0670 - accuracy: 0.9760 - val_loss: 0.0676 - val_accuracy: 0.9758\n",
      "Epoch 37/5000\n",
      "56397/56397 [==============================] - 144s 3ms/step - loss: 0.0670 - accuracy: 0.9759 - val_loss: 0.0673 - val_accuracy: 0.9760\n",
      "Epoch 38/5000\n",
      "56397/56397 [==============================] - 143s 3ms/step - loss: 0.0670 - accuracy: 0.9760 - val_loss: 0.0672 - val_accuracy: 0.9760\n",
      "Epoch 39/5000\n",
      "56397/56397 [==============================] - 145s 3ms/step - loss: 0.0670 - accuracy: 0.9759 - val_loss: 0.0675 - val_accuracy: 0.9759\n",
      "Epoch 40/5000\n",
      "56397/56397 [==============================] - 145s 3ms/step - loss: 0.0670 - accuracy: 0.9760 - val_loss: 0.0672 - val_accuracy: 0.9760\n",
      "Epoch 41/5000\n",
      "56397/56397 [==============================] - 143s 3ms/step - loss: 0.0670 - accuracy: 0.9760 - val_loss: 0.0674 - val_accuracy: 0.9760\n",
      "Epoch 42/5000\n",
      "56397/56397 [==============================] - 143s 3ms/step - loss: 0.0669 - accuracy: 0.9760 - val_loss: 0.0677 - val_accuracy: 0.9757\n",
      "Epoch 43/5000\n",
      "56397/56397 [==============================] - 142s 3ms/step - loss: 0.0669 - accuracy: 0.9760 - val_loss: 0.0673 - val_accuracy: 0.9760\n",
      "Epoch 44/5000\n",
      "56397/56397 [==============================] - 141s 3ms/step - loss: 0.0669 - accuracy: 0.9760 - val_loss: 0.0675 - val_accuracy: 0.9758\n"
     ]
    },
    {
     "name": "stderr",
     "output_type": "stream",
     "text": [
      "wandb: WARNING Source type is set to 'repo' but some required information is missing from the environment. A job will not be created from this run. See https://docs.wandb.ai/guides/launch/create-job\n"
     ]
    },
    {
     "data": {
      "text/html": [
       "W&B sync reduced upload amount by 1.3%             "
      ],
      "text/plain": [
       "<IPython.core.display.HTML object>"
      ]
     },
     "metadata": {},
     "output_type": "display_data"
    },
    {
     "data": {
      "text/html": [
       "<style>\n",
       "    table.wandb td:nth-child(1) { padding: 0 10px; text-align: left ; width: auto;} td:nth-child(2) {text-align: left ; width: 100%}\n",
       "    .wandb-row { display: flex; flex-direction: row; flex-wrap: wrap; justify-content: flex-start; width: 100% }\n",
       "    .wandb-col { display: flex; flex-direction: column; flex-basis: 100%; flex: 1; padding: 10px; }\n",
       "    </style>\n",
       "<div class=\"wandb-row\"><div class=\"wandb-col\"><h3>Run history:</h3><br/><table class=\"wandb\"><tr><td>accuracy</td><td>▁▅▅▆▆▆▆▆▆▇▇▇▇▇▇▇▇▇▇▇▇▇▇▇████████████████</td></tr><tr><td>epoch</td><td>▁▁▁▁▂▂▂▂▂▂▃▃▃▃▃▄▄▄▄▄▅▅▅▅▅▅▆▆▆▆▆▇▇▇▇▇▇███</td></tr><tr><td>loss</td><td>█▄▃▃▃▃▃▂▂▂▂▂▂▂▂▂▂▂▂▂▂▁▁▁▁▁▁▁▁▁▁▁▁▁▁▁▁▁▁▁</td></tr><tr><td>val_accuracy</td><td>▁▄▃▄▅▅▅▅▅▆▆▆▆▅▇▆▇▇▅▆▇▇█▆▆▇▇▇█▆██▇██▇██▆▇</td></tr><tr><td>val_loss</td><td>█▅▅▄▃▄▄▃▃▂▂▂▃▄▂▂▂▂▃▃▂▂▁▃▂▂▂▂▁▃▁▁▂▁▁▂▁▂▂▂</td></tr></table><br/></div><div class=\"wandb-col\"><h3>Run summary:</h3><br/><table class=\"wandb\"><tr><td>accuracy</td><td>0.97599</td></tr><tr><td>best_epoch</td><td>33</td></tr><tr><td>best_val_loss</td><td>0.06714</td></tr><tr><td>epoch</td><td>43</td></tr><tr><td>loss</td><td>0.06691</td></tr><tr><td>val_accuracy</td><td>0.97584</td></tr><tr><td>val_loss</td><td>0.06752</td></tr></table><br/></div></div>"
      ],
      "text/plain": [
       "<IPython.core.display.HTML object>"
      ]
     },
     "metadata": {},
     "output_type": "display_data"
    },
    {
     "data": {
      "text/html": [
       " View run <strong style=\"color:#cdcd00\">easy-monkey-107</strong> at: <a href='https://wandb.ai/gup-singh/SemiWeakly/runs/vcxlbd1c' target=\"_blank\">https://wandb.ai/gup-singh/SemiWeakly/runs/vcxlbd1c</a><br/>Synced 5 W&B file(s), 1 media file(s), 65 artifact file(s) and 1 other file(s)"
      ],
      "text/plain": [
       "<IPython.core.display.HTML object>"
      ]
     },
     "metadata": {},
     "output_type": "display_data"
    },
    {
     "data": {
      "text/html": [
       "Find logs at: <code>/pscratch/sd/g/gupsingh/wandb/run-20240401_155134-vcxlbd1c/logs</code>"
      ],
      "text/plain": [
       "<IPython.core.display.HTML object>"
      ]
     },
     "metadata": {},
     "output_type": "display_data"
    },
    {
     "name": "stdout",
     "output_type": "stream",
     "text": [
      "INFO:tensorflow:Assets written to: /pscratch/sd/g/gupsingh/easy-monkey-107qq_reduced/assets\n"
     ]
    },
    {
     "name": "stderr",
     "output_type": "stream",
     "text": [
      "INFO:tensorflow:Assets written to: /pscratch/sd/g/gupsingh/easy-monkey-107qq_reduced/assets\n"
     ]
    }
   ],
   "source": [
    "import wandb\n",
    "from tensorflow.keras.models import Sequential\n",
    "from tensorflow.keras.layers import Dense, BatchNormalization\n",
    "from wandb.keras import WandbCallback\n",
    "\n",
    "pscratch_dir = \"/pscratch/sd/g/gupsingh/\"\n",
    "os.environ[\"WANDB_DIR\"] = pscratch_dir\n",
    "\n",
    "config = {\n",
    "    \"layer_1_neurons\": 256,\n",
    "    \"layer_2_neurons\": 128,\n",
    "    \"layer_3_neurons\": 64,\n",
    "    \"output_neurons\": 1,\n",
    "    \"activation\": \"relu\",\n",
    "    \"output_activation\": \"sigmoid\",\n",
    "    \"optimizer\": \"adam\",\n",
    "    \"learning_rate\": 0.001,\n",
    "    \"loss\": \"binary_crossentropy\",\n",
    "    \"epochs\": 5000,\n",
    "    \"batch_size\": 1024\n",
    "}\n",
    "\n",
    "wandb.init(project=\"SemiWeakly\", \n",
    "           group=\"Parametrized\", \n",
    "           entity='gup-singh',\n",
    "           mode = 'online',\n",
    "           config=config)\n",
    "\n",
    "config = wandb.config\n",
    "run_name = wandb.run.name\n",
    "\n",
    "es = tf.keras.callbacks.EarlyStopping(monitor='val_loss', patience=10)\n",
    "\n",
    "def train_parametrized(X_train, Y_train, X_val, Y_val, config, return_history=False):\n",
    "    model_parametrized = Sequential()\n",
    "    model_parametrized.add(Dense(config[\"layer_1_neurons\"], input_dim=np.shape(X_train)[1], activation=config[\"activation\"]))\n",
    "    #model_parametrized.add(BatchNormalization())\n",
    "    model_parametrized.add(Dense(config[\"layer_2_neurons\"], activation=config[\"activation\"]))\n",
    "    #model_parametrized.add(BatchNormalization())\n",
    "    model_parametrized.add(Dense(config[\"layer_3_neurons\"], activation=config[\"activation\"]))\n",
    "    #model_parametrized.add(BatchNormalization())\n",
    "    model_parametrized.add(Dense(config.output_neurons, activation=config[\"output_activation\"]))\n",
    "    model_parametrized.compile(loss=config[\"loss\"], optimizer=tf.keras.optimizers.Adam(learning_rate=config[\"learning_rate\"]), metrics=['accuracy'])\n",
    "\n",
    "    with tf.device('/GPU:0'):\n",
    "        history_parametrized = model_parametrized.fit(X_train, Y_train, epochs=config.epochs, validation_data=(X_val, Y_val), batch_size=config.batch_size, callbacks=[es, WandbCallback()])\n",
    "    \n",
    "    if return_history:\n",
    "        return model_parametrized, history_parametrized\n",
    "    else:\n",
    "        return model_parametrized\n",
    "\n",
    "model_parametrized, history_parametrized = train_parametrized(X_train_qq, Y_train_qq, X_val_qq, Y_val_qq, config, return_history=True)\n",
    "\n",
    "wandb.finish()\n",
    "\n",
    "model_parametrized.save(pscratch_dir + run_name + \"qq_reduced\")\n",
    "#model_parametrized.save(pscratch_dir+\"normal\")"
   ]
  },
  {
   "cell_type": "code",
   "execution_count": 19,
   "id": "93cc65bf-55f2-4c03-b79e-5306e8c7c1e8",
   "metadata": {},
   "outputs": [],
   "source": [
    "# num_epochs = len(history_parametrized.history[\"loss\"])\n",
    "# send_slack_message(f\"Notebook Parametrized Training Finished - Epochs: {num_epochs}\")"
   ]
  },
  {
   "cell_type": "code",
   "execution_count": 5,
   "id": "1cc1d496-8476-4e96-a552-30d59b680973",
   "metadata": {},
   "outputs": [],
   "source": [
    "#Diagonistic Plot\n",
    "plt.figure()\n",
    "plt.plot(history_parametrized.history['loss'], label='Training Loss')\n",
    "plt.plot(history_parametrized.history['val_loss'], label='Validation Loss')\n",
    "plt.xlabel('Epoch')\n",
    "plt.ylabel('Loss')\n",
    "plt.title('Training and Validation Loss')\n",
    "img_path = \"plots/parametrized_trainingloss.png\"\n",
    "plt.savefig(img_path)\n",
    "plt.legend()\n",
    "plt.show()\n",
    "\n",
    "from utils import send_slack_plot\n",
    "send_slack_plot(img_path)"
   ]
  },
  {
   "cell_type": "code",
   "execution_count": 29,
   "id": "01bdec79-df48-47bd-8e4f-da67fd7ddade",
   "metadata": {
    "tags": []
   },
   "outputs": [
    {
     "name": "stderr",
     "output_type": "stream",
     "text": [
      "wandb: WARNING Source type is set to 'repo' but some required information is missing from the environment. A job will not be created from this run. See https://docs.wandb.ai/guides/launch/create-job\n"
     ]
    },
    {
     "data": {
      "text/html": [
       "<style>\n",
       "    table.wandb td:nth-child(1) { padding: 0 10px; text-align: left ; width: auto;} td:nth-child(2) {text-align: left ; width: 100%}\n",
       "    .wandb-row { display: flex; flex-direction: row; flex-wrap: wrap; justify-content: flex-start; width: 100% }\n",
       "    .wandb-col { display: flex; flex-direction: column; flex-basis: 100%; flex: 1; padding: 10px; }\n",
       "    </style>\n",
       "<div class=\"wandb-row\"><div class=\"wandb-col\"><h3>Run history:</h3><br/><table class=\"wandb\"><tr><td>accuracy</td><td>▁▅▆▆▆▇▇▇▇▇▇▇▇▇██████████████████████████</td></tr><tr><td>epoch</td><td>▁▁▁▂▂▂▂▂▂▃▃▃▃▃▃▄▄▄▄▄▅▅▅▅▅▅▆▆▆▆▆▆▇▇▇▇▇▇██</td></tr><tr><td>loss</td><td>█▄▃▃▃▂▂▂▂▂▂▂▂▂▂▁▁▁▁▁▁▁▁▁▁▁▁▁▁▁▁▁▁▁▁▁▁▁▁▁</td></tr><tr><td>val_accuracy</td><td>▁▃▄▅▅▆▆▆▆▇▇▇▇▇▇▇▇▇▇▇████████████████████</td></tr><tr><td>val_loss</td><td>█▆▅▄▄▃▃▃▃▂▂▂▂▂▂▂▂▂▂▂▁▁▁▁▁▁▁▁▁▁▁▁▁▁▁▁▁▁▁▁</td></tr></table><br/></div><div class=\"wandb-col\"><h3>Run summary:</h3><br/><table class=\"wandb\"><tr><td>accuracy</td><td>0.94709</td></tr><tr><td>best_epoch</td><td>41</td></tr><tr><td>best_val_loss</td><td>0.13607</td></tr><tr><td>epoch</td><td>41</td></tr><tr><td>loss</td><td>0.1365</td></tr><tr><td>val_accuracy</td><td>0.94731</td></tr><tr><td>val_loss</td><td>0.13607</td></tr></table><br/></div></div>"
      ],
      "text/plain": [
       "<IPython.core.display.HTML object>"
      ]
     },
     "metadata": {},
     "output_type": "display_data"
    },
    {
     "data": {
      "text/html": [
       " View run <strong style=\"color:#cdcd00\">vital-dream-35</strong> at: <a href='https://wandb.ai/gup-singh/SemiWeakly/runs/ka9ia66s' target=\"_blank\">https://wandb.ai/gup-singh/SemiWeakly/runs/ka9ia66s</a><br/>Synced 5 W&B file(s), 1 media file(s), 210 artifact file(s) and 1 other file(s)"
      ],
      "text/plain": [
       "<IPython.core.display.HTML object>"
      ]
     },
     "metadata": {},
     "output_type": "display_data"
    },
    {
     "data": {
      "text/html": [
       "Find logs at: <code>/pscratch/sd/g/gupsingh/wandb/run-20240202_112845-ka9ia66s/logs</code>"
      ],
      "text/plain": [
       "<IPython.core.display.HTML object>"
      ]
     },
     "metadata": {},
     "output_type": "display_data"
    }
   ],
   "source": [
    "wandb.finish()"
   ]
  },
  {
   "cell_type": "code",
   "execution_count": 15,
   "id": "d557c9c9-944f-44bc-ada2-325d4a2cc217",
   "metadata": {
    "tags": []
   },
   "outputs": [
    {
     "name": "stdout",
     "output_type": "stream",
     "text": [
      "INFO:tensorflow:Assets written to: /pscratch/sd/g/gupsingh/model_fixed/assets\n"
     ]
    },
    {
     "name": "stderr",
     "output_type": "stream",
     "text": [
      "INFO:tensorflow:Assets written to: /pscratch/sd/g/gupsingh/model_fixed/assets\n"
     ]
    }
   ],
   "source": [
    "#model_qq.save(pscratch_dir + \"model_fixed\")"
   ]
  },
  {
   "cell_type": "code",
   "execution_count": 14,
   "id": "1df5c5b7-5c5a-4695-b155-718b5210b544",
   "metadata": {
    "tags": []
   },
   "outputs": [
    {
     "data": {
      "text/plain": [
       "(115500407, 23)"
      ]
     },
     "execution_count": 14,
     "metadata": {},
     "output_type": "execute_result"
    }
   ],
   "source": [
    "np.shape(x_data_qq)"
   ]
  },
  {
   "cell_type": "code",
   "execution_count": 28,
   "id": "f2c83097-9f2e-4c7e-85cb-8f1c0bace1cd",
   "metadata": {
    "tags": []
   },
   "outputs": [
    {
     "data": {
      "text/plain": [
       "array([[ 0.6646064 , -0.87479623],\n",
       "       [-0.6396616 ,  0.54412504],\n",
       "       [-1.44657168, -0.80127857],\n",
       "       ...,\n",
       "       [-0.93011144,  0.03709636],\n",
       "       [-0.67248421,  0.98803685],\n",
       "       [ 0.82653453, -0.74711601]])"
      ]
     },
     "execution_count": 28,
     "metadata": {},
     "output_type": "execute_result"
    }
   ],
   "source": [
    "x_data_qq[:,21:23]"
   ]
  },
  {
   "cell_type": "code",
   "execution_count": 68,
   "id": "d739cc62-e0e1-4370-9a21-14e0b64140d2",
   "metadata": {
    "scrolled": true,
    "tags": []
   },
   "outputs": [
    {
     "name": "stdout",
     "output_type": "stream",
     "text": [
      "Epoch 1/1000\n",
      "396/396 [==============================] - 2s 3ms/step - loss: 0.1408 - accuracy: 0.9482 - val_loss: 0.1043 - val_accuracy: 0.9612\n",
      "Epoch 2/1000\n",
      "396/396 [==============================] - 1s 3ms/step - loss: 0.0926 - accuracy: 0.9658 - val_loss: 0.0875 - val_accuracy: 0.9676\n",
      "Epoch 3/1000\n",
      "396/396 [==============================] - 1s 3ms/step - loss: 0.0831 - accuracy: 0.9691 - val_loss: 0.0831 - val_accuracy: 0.9690\n",
      "Epoch 4/1000\n",
      "396/396 [==============================] - 1s 3ms/step - loss: 0.0796 - accuracy: 0.9703 - val_loss: 0.0821 - val_accuracy: 0.9693\n",
      "Epoch 5/1000\n",
      "396/396 [==============================] - 1s 3ms/step - loss: 0.0779 - accuracy: 0.9709 - val_loss: 0.0798 - val_accuracy: 0.9701\n",
      "Epoch 6/1000\n",
      "396/396 [==============================] - 1s 3ms/step - loss: 0.0764 - accuracy: 0.9715 - val_loss: 0.0787 - val_accuracy: 0.9706\n",
      "Epoch 7/1000\n",
      "396/396 [==============================] - 1s 3ms/step - loss: 0.0760 - accuracy: 0.9716 - val_loss: 0.0808 - val_accuracy: 0.9699\n",
      "Epoch 8/1000\n",
      "396/396 [==============================] - 1s 3ms/step - loss: 0.0750 - accuracy: 0.9718 - val_loss: 0.0807 - val_accuracy: 0.9698\n",
      "Epoch 9/1000\n",
      "396/396 [==============================] - 1s 3ms/step - loss: 0.0747 - accuracy: 0.9718 - val_loss: 0.0797 - val_accuracy: 0.9699\n",
      "Epoch 10/1000\n",
      "396/396 [==============================] - 1s 3ms/step - loss: 0.0737 - accuracy: 0.9722 - val_loss: 0.0824 - val_accuracy: 0.9691\n",
      "Epoch 11/1000\n",
      "396/396 [==============================] - 1s 3ms/step - loss: 0.0730 - accuracy: 0.9723 - val_loss: 0.0818 - val_accuracy: 0.9694\n",
      "Epoch 12/1000\n",
      "396/396 [==============================] - 1s 3ms/step - loss: 0.0723 - accuracy: 0.9727 - val_loss: 0.0792 - val_accuracy: 0.9704\n",
      "Epoch 13/1000\n",
      "396/396 [==============================] - 1s 3ms/step - loss: 0.0714 - accuracy: 0.9731 - val_loss: 0.0805 - val_accuracy: 0.9698\n",
      "Epoch 14/1000\n",
      "396/396 [==============================] - 1s 3ms/step - loss: 0.0707 - accuracy: 0.9733 - val_loss: 0.0806 - val_accuracy: 0.9699\n",
      "Epoch 15/1000\n",
      "396/396 [==============================] - 1s 3ms/step - loss: 0.0701 - accuracy: 0.9734 - val_loss: 0.0817 - val_accuracy: 0.9695\n",
      "Epoch 16/1000\n",
      "396/396 [==============================] - 1s 3ms/step - loss: 0.0693 - accuracy: 0.9737 - val_loss: 0.0814 - val_accuracy: 0.9699\n",
      "Epoch 17/1000\n",
      "396/396 [==============================] - 1s 3ms/step - loss: 0.0684 - accuracy: 0.9741 - val_loss: 0.0821 - val_accuracy: 0.9697\n",
      "Epoch 18/1000\n",
      "396/396 [==============================] - 1s 3ms/step - loss: 0.0675 - accuracy: 0.9744 - val_loss: 0.0836 - val_accuracy: 0.9689\n",
      "Epoch 19/1000\n",
      "396/396 [==============================] - 1s 3ms/step - loss: 0.0666 - accuracy: 0.9746 - val_loss: 0.0844 - val_accuracy: 0.9689\n",
      "Epoch 20/1000\n",
      "396/396 [==============================] - 1s 3ms/step - loss: 0.0660 - accuracy: 0.9751 - val_loss: 0.0853 - val_accuracy: 0.9688\n",
      "Epoch 21/1000\n",
      "396/396 [==============================] - 1s 3ms/step - loss: 0.0646 - accuracy: 0.9754 - val_loss: 0.0845 - val_accuracy: 0.9686\n",
      "Epoch 22/1000\n",
      "396/396 [==============================] - 1s 3ms/step - loss: 0.0640 - accuracy: 0.9756 - val_loss: 0.0870 - val_accuracy: 0.9684\n",
      "Epoch 23/1000\n",
      "396/396 [==============================] - 1s 3ms/step - loss: 0.0632 - accuracy: 0.9756 - val_loss: 0.0865 - val_accuracy: 0.9684\n",
      "Epoch 24/1000\n",
      "396/396 [==============================] - 1s 3ms/step - loss: 0.0618 - accuracy: 0.9762 - val_loss: 0.0880 - val_accuracy: 0.9679\n",
      "Epoch 25/1000\n",
      "396/396 [==============================] - 1s 3ms/step - loss: 0.0611 - accuracy: 0.9762 - val_loss: 0.0892 - val_accuracy: 0.9675\n",
      "Epoch 26/1000\n",
      "396/396 [==============================] - 1s 3ms/step - loss: 0.0602 - accuracy: 0.9767 - val_loss: 0.0887 - val_accuracy: 0.9678\n",
      "406/406 [==============================] - 0s 677us/step\n",
      "Epoch 1/1000\n",
      "395/395 [==============================] - 2s 3ms/step - loss: 0.1017 - accuracy: 0.9618 - val_loss: 0.0614 - val_accuracy: 0.9787\n",
      "Epoch 2/1000\n",
      "395/395 [==============================] - 1s 3ms/step - loss: 0.0589 - accuracy: 0.9796 - val_loss: 0.0587 - val_accuracy: 0.9792\n",
      "Epoch 3/1000\n",
      "395/395 [==============================] - 1s 3ms/step - loss: 0.0557 - accuracy: 0.9802 - val_loss: 0.0586 - val_accuracy: 0.9793\n",
      "Epoch 4/1000\n",
      "395/395 [==============================] - 1s 3ms/step - loss: 0.0537 - accuracy: 0.9809 - val_loss: 0.0554 - val_accuracy: 0.9801\n",
      "Epoch 5/1000\n",
      "395/395 [==============================] - 1s 3ms/step - loss: 0.0523 - accuracy: 0.9813 - val_loss: 0.0545 - val_accuracy: 0.9805\n",
      "Epoch 6/1000\n",
      "395/395 [==============================] - 1s 3ms/step - loss: 0.0512 - accuracy: 0.9816 - val_loss: 0.0541 - val_accuracy: 0.9805\n",
      "Epoch 7/1000\n",
      "395/395 [==============================] - 1s 3ms/step - loss: 0.0508 - accuracy: 0.9816 - val_loss: 0.0548 - val_accuracy: 0.9803\n",
      "Epoch 8/1000\n",
      "395/395 [==============================] - 1s 3ms/step - loss: 0.0500 - accuracy: 0.9818 - val_loss: 0.0542 - val_accuracy: 0.9805\n",
      "Epoch 9/1000\n",
      "395/395 [==============================] - 1s 3ms/step - loss: 0.0494 - accuracy: 0.9822 - val_loss: 0.0538 - val_accuracy: 0.9808\n",
      "Epoch 10/1000\n",
      "395/395 [==============================] - 1s 3ms/step - loss: 0.0486 - accuracy: 0.9823 - val_loss: 0.0545 - val_accuracy: 0.9804\n",
      "Epoch 11/1000\n",
      "395/395 [==============================] - 1s 3ms/step - loss: 0.0482 - accuracy: 0.9826 - val_loss: 0.0544 - val_accuracy: 0.9805\n",
      "Epoch 12/1000\n",
      "395/395 [==============================] - 1s 3ms/step - loss: 0.0476 - accuracy: 0.9828 - val_loss: 0.0545 - val_accuracy: 0.9806\n",
      "Epoch 13/1000\n",
      "395/395 [==============================] - 1s 3ms/step - loss: 0.0469 - accuracy: 0.9829 - val_loss: 0.0548 - val_accuracy: 0.9804\n",
      "Epoch 14/1000\n",
      "395/395 [==============================] - 1s 3ms/step - loss: 0.0462 - accuracy: 0.9831 - val_loss: 0.0559 - val_accuracy: 0.9801\n",
      "Epoch 15/1000\n",
      "395/395 [==============================] - 1s 3ms/step - loss: 0.0454 - accuracy: 0.9834 - val_loss: 0.0555 - val_accuracy: 0.9801\n",
      "Epoch 16/1000\n",
      "395/395 [==============================] - 1s 3ms/step - loss: 0.0447 - accuracy: 0.9838 - val_loss: 0.0561 - val_accuracy: 0.9799\n",
      "Epoch 17/1000\n",
      "395/395 [==============================] - 1s 3ms/step - loss: 0.0440 - accuracy: 0.9839 - val_loss: 0.0565 - val_accuracy: 0.9797\n",
      "Epoch 18/1000\n",
      "395/395 [==============================] - 1s 3ms/step - loss: 0.0433 - accuracy: 0.9841 - val_loss: 0.0575 - val_accuracy: 0.9798\n",
      "Epoch 19/1000\n",
      "395/395 [==============================] - 1s 3ms/step - loss: 0.0422 - accuracy: 0.9847 - val_loss: 0.0579 - val_accuracy: 0.9794\n",
      "Epoch 20/1000\n",
      "395/395 [==============================] - 1s 3ms/step - loss: 0.0416 - accuracy: 0.9847 - val_loss: 0.0585 - val_accuracy: 0.9797\n",
      "Epoch 21/1000\n",
      "395/395 [==============================] - 1s 3ms/step - loss: 0.0404 - accuracy: 0.9852 - val_loss: 0.0599 - val_accuracy: 0.9787\n",
      "Epoch 22/1000\n",
      "395/395 [==============================] - 1s 3ms/step - loss: 0.0397 - accuracy: 0.9853 - val_loss: 0.0607 - val_accuracy: 0.9794\n",
      "Epoch 23/1000\n",
      "395/395 [==============================] - 1s 3ms/step - loss: 0.0387 - accuracy: 0.9857 - val_loss: 0.0624 - val_accuracy: 0.9787\n",
      "Epoch 24/1000\n",
      "395/395 [==============================] - 1s 3ms/step - loss: 0.0378 - accuracy: 0.9862 - val_loss: 0.0628 - val_accuracy: 0.9790\n",
      "Epoch 25/1000\n",
      "395/395 [==============================] - 1s 3ms/step - loss: 0.0368 - accuracy: 0.9865 - val_loss: 0.0633 - val_accuracy: 0.9783\n",
      "Epoch 26/1000\n",
      "395/395 [==============================] - 1s 3ms/step - loss: 0.0360 - accuracy: 0.9869 - val_loss: 0.0652 - val_accuracy: 0.9784\n",
      "Epoch 27/1000\n",
      "395/395 [==============================] - 1s 3ms/step - loss: 0.0351 - accuracy: 0.9871 - val_loss: 0.0668 - val_accuracy: 0.9783\n",
      "Epoch 28/1000\n",
      "395/395 [==============================] - 1s 3ms/step - loss: 0.0342 - accuracy: 0.9874 - val_loss: 0.0703 - val_accuracy: 0.9777\n",
      "Epoch 29/1000\n",
      "395/395 [==============================] - 1s 3ms/step - loss: 0.0330 - accuracy: 0.9878 - val_loss: 0.0693 - val_accuracy: 0.9781\n",
      "405/405 [==============================] - 0s 678us/step\n",
      "Epoch 1/1000\n",
      "394/394 [==============================] - 2s 3ms/step - loss: 0.1099 - accuracy: 0.9588 - val_loss: 0.0805 - val_accuracy: 0.9716\n",
      "Epoch 2/1000\n",
      "394/394 [==============================] - 1s 3ms/step - loss: 0.0758 - accuracy: 0.9733 - val_loss: 0.0763 - val_accuracy: 0.9731\n",
      "Epoch 3/1000\n",
      "394/394 [==============================] - 1s 3ms/step - loss: 0.0719 - accuracy: 0.9749 - val_loss: 0.0751 - val_accuracy: 0.9734\n",
      "Epoch 4/1000\n",
      "394/394 [==============================] - 1s 3ms/step - loss: 0.0698 - accuracy: 0.9755 - val_loss: 0.0722 - val_accuracy: 0.9747\n",
      "Epoch 5/1000\n",
      "394/394 [==============================] - 1s 3ms/step - loss: 0.0683 - accuracy: 0.9759 - val_loss: 0.0715 - val_accuracy: 0.9750\n",
      "Epoch 6/1000\n",
      "394/394 [==============================] - 1s 3ms/step - loss: 0.0675 - accuracy: 0.9762 - val_loss: 0.0730 - val_accuracy: 0.9744\n",
      "Epoch 7/1000\n",
      "394/394 [==============================] - 1s 3ms/step - loss: 0.0665 - accuracy: 0.9765 - val_loss: 0.0702 - val_accuracy: 0.9752\n",
      "Epoch 8/1000\n",
      "394/394 [==============================] - 1s 3ms/step - loss: 0.0657 - accuracy: 0.9767 - val_loss: 0.0698 - val_accuracy: 0.9754\n",
      "Epoch 9/1000\n",
      "394/394 [==============================] - 1s 3ms/step - loss: 0.0652 - accuracy: 0.9770 - val_loss: 0.0725 - val_accuracy: 0.9743\n",
      "Epoch 10/1000\n",
      "394/394 [==============================] - 1s 3ms/step - loss: 0.0642 - accuracy: 0.9771 - val_loss: 0.0705 - val_accuracy: 0.9752\n",
      "Epoch 11/1000\n",
      "394/394 [==============================] - 1s 3ms/step - loss: 0.0637 - accuracy: 0.9774 - val_loss: 0.0709 - val_accuracy: 0.9749\n",
      "Epoch 12/1000\n",
      "394/394 [==============================] - 1s 3ms/step - loss: 0.0629 - accuracy: 0.9775 - val_loss: 0.0712 - val_accuracy: 0.9750\n",
      "Epoch 13/1000\n",
      "394/394 [==============================] - 1s 3ms/step - loss: 0.0621 - accuracy: 0.9778 - val_loss: 0.0709 - val_accuracy: 0.9749\n",
      "Epoch 14/1000\n",
      "394/394 [==============================] - 1s 3ms/step - loss: 0.0613 - accuracy: 0.9780 - val_loss: 0.0715 - val_accuracy: 0.9747\n",
      "Epoch 15/1000\n",
      "394/394 [==============================] - 1s 3ms/step - loss: 0.0603 - accuracy: 0.9786 - val_loss: 0.0714 - val_accuracy: 0.9748\n",
      "Epoch 16/1000\n",
      "394/394 [==============================] - 1s 3ms/step - loss: 0.0595 - accuracy: 0.9787 - val_loss: 0.0757 - val_accuracy: 0.9731\n",
      "Epoch 17/1000\n",
      "394/394 [==============================] - 1s 3ms/step - loss: 0.0586 - accuracy: 0.9789 - val_loss: 0.0739 - val_accuracy: 0.9740\n",
      "Epoch 18/1000\n",
      "394/394 [==============================] - 1s 3ms/step - loss: 0.0578 - accuracy: 0.9791 - val_loss: 0.0728 - val_accuracy: 0.9746\n",
      "Epoch 19/1000\n",
      "394/394 [==============================] - 1s 3ms/step - loss: 0.0568 - accuracy: 0.9796 - val_loss: 0.0734 - val_accuracy: 0.9742\n",
      "Epoch 20/1000\n",
      "394/394 [==============================] - 1s 3ms/step - loss: 0.0560 - accuracy: 0.9798 - val_loss: 0.0748 - val_accuracy: 0.9745\n",
      "Epoch 21/1000\n",
      "394/394 [==============================] - 1s 3ms/step - loss: 0.0549 - accuracy: 0.9803 - val_loss: 0.0749 - val_accuracy: 0.9742\n",
      "Epoch 22/1000\n",
      "394/394 [==============================] - 1s 3ms/step - loss: 0.0540 - accuracy: 0.9807 - val_loss: 0.0758 - val_accuracy: 0.9738\n",
      "Epoch 23/1000\n",
      "394/394 [==============================] - 1s 3ms/step - loss: 0.0530 - accuracy: 0.9809 - val_loss: 0.0772 - val_accuracy: 0.9730\n",
      "Epoch 24/1000\n",
      "394/394 [==============================] - 1s 3ms/step - loss: 0.0521 - accuracy: 0.9810 - val_loss: 0.0773 - val_accuracy: 0.9734\n",
      "Epoch 25/1000\n",
      "394/394 [==============================] - 1s 3ms/step - loss: 0.0509 - accuracy: 0.9816 - val_loss: 0.0784 - val_accuracy: 0.9733\n",
      "Epoch 26/1000\n",
      "394/394 [==============================] - 1s 3ms/step - loss: 0.0498 - accuracy: 0.9818 - val_loss: 0.0807 - val_accuracy: 0.9732\n",
      "Epoch 27/1000\n",
      "394/394 [==============================] - 1s 3ms/step - loss: 0.0489 - accuracy: 0.9823 - val_loss: 0.0807 - val_accuracy: 0.9729\n",
      "Epoch 28/1000\n",
      "394/394 [==============================] - 1s 3ms/step - loss: 0.0479 - accuracy: 0.9828 - val_loss: 0.0846 - val_accuracy: 0.9723\n",
      "404/404 [==============================] - 0s 679us/step\n",
      "Epoch 1/1000\n",
      "387/387 [==============================] - 2s 3ms/step - loss: 0.1326 - accuracy: 0.9537 - val_loss: 0.1046 - val_accuracy: 0.9645\n",
      "Epoch 2/1000\n",
      "387/387 [==============================] - 1s 3ms/step - loss: 0.0991 - accuracy: 0.9666 - val_loss: 0.0964 - val_accuracy: 0.9673\n",
      "Epoch 3/1000\n",
      "387/387 [==============================] - 1s 3ms/step - loss: 0.0909 - accuracy: 0.9693 - val_loss: 0.0884 - val_accuracy: 0.9701\n",
      "Epoch 4/1000\n",
      "387/387 [==============================] - 1s 3ms/step - loss: 0.0835 - accuracy: 0.9718 - val_loss: 0.0817 - val_accuracy: 0.9725\n",
      "Epoch 5/1000\n",
      "387/387 [==============================] - 1s 3ms/step - loss: 0.0787 - accuracy: 0.9734 - val_loss: 0.0796 - val_accuracy: 0.9731\n",
      "Epoch 6/1000\n",
      "387/387 [==============================] - 1s 3ms/step - loss: 0.0765 - accuracy: 0.9740 - val_loss: 0.0811 - val_accuracy: 0.9725\n",
      "Epoch 7/1000\n",
      "387/387 [==============================] - 1s 3ms/step - loss: 0.0751 - accuracy: 0.9744 - val_loss: 0.0789 - val_accuracy: 0.9734\n",
      "Epoch 8/1000\n",
      "387/387 [==============================] - 1s 3ms/step - loss: 0.0742 - accuracy: 0.9750 - val_loss: 0.0790 - val_accuracy: 0.9732\n",
      "Epoch 9/1000\n",
      "387/387 [==============================] - 1s 3ms/step - loss: 0.0732 - accuracy: 0.9749 - val_loss: 0.0795 - val_accuracy: 0.9731\n",
      "Epoch 10/1000\n",
      "387/387 [==============================] - 1s 3ms/step - loss: 0.0725 - accuracy: 0.9754 - val_loss: 0.0797 - val_accuracy: 0.9729\n",
      "Epoch 11/1000\n",
      "387/387 [==============================] - 1s 3ms/step - loss: 0.0717 - accuracy: 0.9755 - val_loss: 0.0793 - val_accuracy: 0.9734\n",
      "Epoch 12/1000\n",
      "387/387 [==============================] - 1s 3ms/step - loss: 0.0711 - accuracy: 0.9757 - val_loss: 0.0793 - val_accuracy: 0.9730\n",
      "Epoch 13/1000\n",
      "387/387 [==============================] - 1s 3ms/step - loss: 0.0704 - accuracy: 0.9757 - val_loss: 0.0789 - val_accuracy: 0.9733\n",
      "Epoch 14/1000\n",
      "387/387 [==============================] - 1s 3ms/step - loss: 0.0695 - accuracy: 0.9762 - val_loss: 0.0803 - val_accuracy: 0.9727\n",
      "Epoch 15/1000\n",
      "387/387 [==============================] - 1s 3ms/step - loss: 0.0685 - accuracy: 0.9766 - val_loss: 0.0829 - val_accuracy: 0.9721\n",
      "Epoch 16/1000\n",
      "387/387 [==============================] - 1s 3ms/step - loss: 0.0680 - accuracy: 0.9766 - val_loss: 0.0807 - val_accuracy: 0.9729\n",
      "Epoch 17/1000\n",
      "387/387 [==============================] - 1s 3ms/step - loss: 0.0669 - accuracy: 0.9771 - val_loss: 0.0808 - val_accuracy: 0.9729\n",
      "Epoch 18/1000\n",
      "387/387 [==============================] - 1s 3ms/step - loss: 0.0658 - accuracy: 0.9772 - val_loss: 0.0822 - val_accuracy: 0.9724\n",
      "Epoch 19/1000\n",
      "387/387 [==============================] - 1s 3ms/step - loss: 0.0651 - accuracy: 0.9776 - val_loss: 0.0826 - val_accuracy: 0.9727\n",
      "Epoch 20/1000\n",
      "387/387 [==============================] - 1s 3ms/step - loss: 0.0644 - accuracy: 0.9779 - val_loss: 0.0835 - val_accuracy: 0.9722\n",
      "Epoch 21/1000\n",
      "387/387 [==============================] - 1s 3ms/step - loss: 0.0635 - accuracy: 0.9782 - val_loss: 0.0840 - val_accuracy: 0.9724\n",
      "Epoch 22/1000\n",
      "387/387 [==============================] - 1s 3ms/step - loss: 0.0624 - accuracy: 0.9785 - val_loss: 0.0844 - val_accuracy: 0.9723\n",
      "Epoch 23/1000\n",
      "387/387 [==============================] - 1s 3ms/step - loss: 0.0614 - accuracy: 0.9790 - val_loss: 0.0856 - val_accuracy: 0.9717\n",
      "Epoch 24/1000\n",
      "387/387 [==============================] - 1s 3ms/step - loss: 0.0603 - accuracy: 0.9791 - val_loss: 0.0867 - val_accuracy: 0.9713\n",
      "Epoch 25/1000\n",
      "387/387 [==============================] - 1s 3ms/step - loss: 0.0595 - accuracy: 0.9794 - val_loss: 0.0879 - val_accuracy: 0.9719\n",
      "Epoch 26/1000\n",
      "387/387 [==============================] - 1s 3ms/step - loss: 0.0583 - accuracy: 0.9798 - val_loss: 0.0899 - val_accuracy: 0.9712\n",
      "Epoch 27/1000\n",
      "387/387 [==============================] - 1s 3ms/step - loss: 0.0574 - accuracy: 0.9801 - val_loss: 0.0901 - val_accuracy: 0.9712\n",
      "397/397 [==============================] - 0s 711us/step\n"
     ]
    }
   ],
   "source": [
    "noise_dims = 15\n",
    "x = load_data(\"/pscratch/sd/g/gupsingh/x_array_fixed_EXTRAQCD.pkl\", noise_dims = noise_dims)\n",
    "\n",
    "preds_mm_list = []\n",
    "tuple_rates_dedicated_benchmark_extra = {}\n",
    "es = tf.keras.callbacks.EarlyStopping(monitor='val_loss', patience=10)\n",
    "qq = \"qq\"\n",
    "noise = True\n",
    "feature_dims = 6 + noise_dims\n",
    "for m1 in mass_range[1:]:\n",
    "    for m2 in mass_range[1:]:\n",
    "        if (m1 == 5 and m2 == 1) or (m1 == 3 and m2 == 3) or (m1 == 1 and m2 == 1) or (m1 == 3 and m2 == 4.5):\n",
    "            x_data_mm = np.concatenate([x[0,0, qq, noise],x[m1,m2, qq, noise]])\n",
    "            y_data_mm = np.concatenate([np.zeros(len(x[0,0, qq, noise])),np.ones(len(x[m1,m2, qq, noise]))])\n",
    "            X_train_mm, X_val_mm, Y_train_mm, Y_val_mm = train_test_split(x_data_mm, y_data_mm, test_size=0.5)\n",
    "\n",
    "            model = Sequential()\n",
    "            model.add(Dense(256, input_dim=feature_dims, activation='relu'))\n",
    "            model.add(Dense(128, activation='relu'))\n",
    "            model.add(Dense(64, activation='relu'))\n",
    "            model.add(Dense(1, activation='sigmoid'))\n",
    "            model.compile(loss='binary_crossentropy', optimizer='adam', metrics=['accuracy'])\n",
    "\n",
    "            myhistory = model.fit(X_train_mm, Y_train_mm, epochs=1000, validation_data=(X_val_mm, Y_val_mm),batch_size=1024, callbacks = [es])\n",
    "\n",
    "            preds_mm = model.predict(X_val_mm,batch_size=1000)\n",
    "            fpr_mm, tpr_mm, _ = metrics.roc_curve(Y_val_mm, preds_mm)\n",
    "\n",
    "            preds_mm_list.append(preds_mm)\n",
    "            tuple_rates_dedicated_benchmark_extra[tuple((m1, m2))] = [fpr_mm, tpr_mm]\n",
    "            \n",
    "np.save(f\"tuple_rates_dedicated_benchmark_extra{qq}{noise_dims}.npy\", tuple_rates_dedicated_benchmark_extra)"
   ]
  },
  {
   "cell_type": "code",
   "execution_count": 86,
   "id": "e38e5bc7-9895-4995-a889-5f7e9e3ebbfc",
   "metadata": {
    "tags": []
   },
   "outputs": [
    {
     "data": {
      "text/plain": [
       "(array([2.000e+00, 0.000e+00, 1.000e+00, 0.000e+00, 3.000e+00, 7.000e+00,\n",
       "        1.200e+01, 1.400e+01, 2.400e+01, 4.900e+01, 8.900e+01, 1.230e+02,\n",
       "        1.800e+02, 2.500e+02, 3.720e+02, 5.670e+02, 7.420e+02, 1.025e+03,\n",
       "        1.307e+03, 1.614e+03, 2.030e+03, 2.404e+03, 2.789e+03, 3.116e+03,\n",
       "        3.489e+03, 3.482e+03, 3.640e+03, 3.639e+03, 3.395e+03, 3.387e+03,\n",
       "        2.921e+03, 2.761e+03, 2.158e+03, 1.946e+03, 1.479e+03, 1.139e+03,\n",
       "        9.360e+02, 5.960e+02, 5.080e+02, 3.330e+02, 2.220e+02, 1.320e+02,\n",
       "        8.900e+01, 5.700e+01, 4.000e+01, 1.800e+01, 1.100e+01, 6.000e+00,\n",
       "        4.000e+00, 3.000e+00]),\n",
       " array([-4.64508535, -4.47137868, -4.29767201, -4.12396534, -3.95025867,\n",
       "        -3.776552  , -3.60284533, -3.42913867, -3.255432  , -3.08172533,\n",
       "        -2.90801866, -2.73431199, -2.56060532, -2.38689865, -2.21319198,\n",
       "        -2.03948531, -1.86577864, -1.69207198, -1.51836531, -1.34465864,\n",
       "        -1.17095197, -0.9972453 , -0.82353863, -0.64983196, -0.47612529,\n",
       "        -0.30241862, -0.12871195,  0.04499471,  0.21870138,  0.39240805,\n",
       "         0.56611472,  0.73982139,  0.91352806,  1.08723473,  1.2609414 ,\n",
       "         1.43464807,  1.60835474,  1.7820614 ,  1.95576807,  2.12947474,\n",
       "         2.30318141,  2.47688808,  2.65059475,  2.82430142,  2.99800809,\n",
       "         3.17171476,  3.34542143,  3.51912809,  3.69283476,  3.86654143,\n",
       "         4.0402481 ]),\n",
       " <BarContainer object of 50 artists>)"
      ]
     },
     "execution_count": 86,
     "metadata": {},
     "output_type": "execute_result"
    },
    {
     "data": {
      "image/png": "[encoded data removed]",
      "text/plain": [
       "<Figure size 640x480 with 1 Axes>"
      ]
     },
     "metadata": {},
     "output_type": "display_data"
    }
   ],
   "source": [
    "plt.hist(x[m1,m2, qq, noise][:,20], bins = 50)"
   ]
  },
  {
   "cell_type": "code",
   "execution_count": 23,
   "id": "7f59fe69-4c79-4ce9-98b1-e9bbc75f2205",
   "metadata": {
    "tags": []
   },
   "outputs": [
    {
     "name": "stdout",
     "output_type": "stream",
     "text": [
      "Epoch 1/1000\n",
      "74/74 [==============================] - 2s 5ms/step - loss: 0.6251 - accuracy: 0.6541 - val_loss: 0.5984 - val_accuracy: 0.6793\n",
      "Epoch 2/1000\n",
      "74/74 [==============================] - 0s 3ms/step - loss: 0.6051 - accuracy: 0.6766 - val_loss: 0.5949 - val_accuracy: 0.6811\n",
      "Epoch 3/1000\n",
      "74/74 [==============================] - 0s 3ms/step - loss: 0.6013 - accuracy: 0.6806 - val_loss: 0.5943 - val_accuracy: 0.6821\n",
      "Epoch 4/1000\n",
      "74/74 [==============================] - 0s 3ms/step - loss: 0.5990 - accuracy: 0.6812 - val_loss: 0.5929 - val_accuracy: 0.6826\n",
      "Epoch 5/1000\n",
      "74/74 [==============================] - 0s 3ms/step - loss: 0.5978 - accuracy: 0.6817 - val_loss: 0.5935 - val_accuracy: 0.6838\n",
      "Epoch 6/1000\n",
      "74/74 [==============================] - 0s 3ms/step - loss: 0.5970 - accuracy: 0.6818 - val_loss: 0.5939 - val_accuracy: 0.6846\n",
      "Epoch 7/1000\n",
      "74/74 [==============================] - 0s 3ms/step - loss: 0.5961 - accuracy: 0.6820 - val_loss: 0.5929 - val_accuracy: 0.6855\n",
      "Epoch 8/1000\n",
      "74/74 [==============================] - 0s 3ms/step - loss: 0.5957 - accuracy: 0.6847 - val_loss: 0.5912 - val_accuracy: 0.6860\n",
      "Epoch 9/1000\n",
      "74/74 [==============================] - 0s 3ms/step - loss: 0.5950 - accuracy: 0.6854 - val_loss: 0.5925 - val_accuracy: 0.6859\n",
      "Epoch 10/1000\n",
      "74/74 [==============================] - 0s 3ms/step - loss: 0.5944 - accuracy: 0.6849 - val_loss: 0.5922 - val_accuracy: 0.6857\n",
      "Epoch 11/1000\n",
      "74/74 [==============================] - 0s 3ms/step - loss: 0.5944 - accuracy: 0.6846 - val_loss: 0.5907 - val_accuracy: 0.6863\n",
      "Epoch 12/1000\n",
      "74/74 [==============================] - 0s 3ms/step - loss: 0.5943 - accuracy: 0.6848 - val_loss: 0.5916 - val_accuracy: 0.6866\n",
      "Epoch 13/1000\n",
      "74/74 [==============================] - 0s 3ms/step - loss: 0.5936 - accuracy: 0.6847 - val_loss: 0.5924 - val_accuracy: 0.6860\n",
      "Epoch 14/1000\n",
      "74/74 [==============================] - 0s 3ms/step - loss: 0.5928 - accuracy: 0.6862 - val_loss: 0.5913 - val_accuracy: 0.6860\n",
      "Epoch 15/1000\n",
      "74/74 [==============================] - 0s 3ms/step - loss: 0.5920 - accuracy: 0.6869 - val_loss: 0.5919 - val_accuracy: 0.6866\n",
      "Epoch 16/1000\n",
      "74/74 [==============================] - 0s 3ms/step - loss: 0.5923 - accuracy: 0.6861 - val_loss: 0.5924 - val_accuracy: 0.6865\n",
      "Epoch 17/1000\n",
      "74/74 [==============================] - 0s 3ms/step - loss: 0.5922 - accuracy: 0.6864 - val_loss: 0.5911 - val_accuracy: 0.6869\n",
      "Epoch 18/1000\n",
      "74/74 [==============================] - 0s 3ms/step - loss: 0.5921 - accuracy: 0.6864 - val_loss: 0.5909 - val_accuracy: 0.6867\n",
      "Epoch 19/1000\n",
      "74/74 [==============================] - 0s 3ms/step - loss: 0.5918 - accuracy: 0.6876 - val_loss: 0.5923 - val_accuracy: 0.6873\n",
      "Epoch 20/1000\n",
      "74/74 [==============================] - 0s 3ms/step - loss: 0.5914 - accuracy: 0.6854 - val_loss: 0.5898 - val_accuracy: 0.6871\n",
      "Epoch 21/1000\n",
      "74/74 [==============================] - 0s 3ms/step - loss: 0.5918 - accuracy: 0.6852 - val_loss: 0.5895 - val_accuracy: 0.6869\n",
      "Epoch 22/1000\n",
      "74/74 [==============================] - 0s 3ms/step - loss: 0.5917 - accuracy: 0.6871 - val_loss: 0.5909 - val_accuracy: 0.6868\n",
      "Epoch 23/1000\n",
      "74/74 [==============================] - 0s 3ms/step - loss: 0.5912 - accuracy: 0.6873 - val_loss: 0.5921 - val_accuracy: 0.6875\n",
      "Epoch 24/1000\n",
      "74/74 [==============================] - 0s 3ms/step - loss: 0.5912 - accuracy: 0.6876 - val_loss: 0.5896 - val_accuracy: 0.6865\n",
      "Epoch 25/1000\n",
      "74/74 [==============================] - 0s 3ms/step - loss: 0.5909 - accuracy: 0.6879 - val_loss: 0.5904 - val_accuracy: 0.6875\n",
      "Epoch 26/1000\n",
      "74/74 [==============================] - 0s 3ms/step - loss: 0.5908 - accuracy: 0.6876 - val_loss: 0.5899 - val_accuracy: 0.6878\n",
      "Epoch 27/1000\n",
      "74/74 [==============================] - 0s 3ms/step - loss: 0.5912 - accuracy: 0.6871 - val_loss: 0.5914 - val_accuracy: 0.6864\n",
      "Epoch 28/1000\n",
      "74/74 [==============================] - 0s 3ms/step - loss: 0.5906 - accuracy: 0.6871 - val_loss: 0.5901 - val_accuracy: 0.6869\n",
      "Epoch 29/1000\n",
      "74/74 [==============================] - 0s 3ms/step - loss: 0.5909 - accuracy: 0.6873 - val_loss: 0.5914 - val_accuracy: 0.6876\n",
      "Epoch 30/1000\n",
      "74/74 [==============================] - 0s 3ms/step - loss: 0.5909 - accuracy: 0.6871 - val_loss: 0.5925 - val_accuracy: 0.6874\n",
      "Epoch 31/1000\n",
      "74/74 [==============================] - 0s 3ms/step - loss: 0.5901 - accuracy: 0.6883 - val_loss: 0.5919 - val_accuracy: 0.6869\n",
      "76/76 [==============================] - 0s 703us/step\n",
      "Epoch 1/1000\n",
      "58/58 [==============================] - 1s 5ms/step - loss: 0.6502 - accuracy: 0.6188 - val_loss: 0.6156 - val_accuracy: 0.6620\n",
      "Epoch 2/1000\n",
      "58/58 [==============================] - 0s 4ms/step - loss: 0.6281 - accuracy: 0.6519 - val_loss: 0.6132 - val_accuracy: 0.6674\n",
      "Epoch 3/1000\n",
      "58/58 [==============================] - 0s 4ms/step - loss: 0.6226 - accuracy: 0.6566 - val_loss: 0.6101 - val_accuracy: 0.6682\n",
      "Epoch 4/1000\n",
      "58/58 [==============================] - 0s 4ms/step - loss: 0.6194 - accuracy: 0.6601 - val_loss: 0.6087 - val_accuracy: 0.6705\n",
      "Epoch 5/1000\n",
      "58/58 [==============================] - 0s 4ms/step - loss: 0.6191 - accuracy: 0.6613 - val_loss: 0.6102 - val_accuracy: 0.6702\n",
      "Epoch 6/1000\n",
      "58/58 [==============================] - 0s 4ms/step - loss: 0.6176 - accuracy: 0.6619 - val_loss: 0.6087 - val_accuracy: 0.6708\n",
      "Epoch 7/1000\n",
      "58/58 [==============================] - 0s 3ms/step - loss: 0.6168 - accuracy: 0.6625 - val_loss: 0.6092 - val_accuracy: 0.6732\n",
      "Epoch 8/1000\n",
      "58/58 [==============================] - 0s 3ms/step - loss: 0.6161 - accuracy: 0.6640 - val_loss: 0.6086 - val_accuracy: 0.6722\n",
      "Epoch 9/1000\n",
      "58/58 [==============================] - 0s 3ms/step - loss: 0.6155 - accuracy: 0.6639 - val_loss: 0.6087 - val_accuracy: 0.6724\n",
      "Epoch 10/1000\n",
      "58/58 [==============================] - 0s 3ms/step - loss: 0.6154 - accuracy: 0.6650 - val_loss: 0.6085 - val_accuracy: 0.6727\n",
      "Epoch 11/1000\n",
      "58/58 [==============================] - 0s 3ms/step - loss: 0.6144 - accuracy: 0.6653 - val_loss: 0.6078 - val_accuracy: 0.6732\n",
      "Epoch 12/1000\n",
      "58/58 [==============================] - 0s 4ms/step - loss: 0.6139 - accuracy: 0.6640 - val_loss: 0.6063 - val_accuracy: 0.6733\n",
      "Epoch 13/1000\n",
      "58/58 [==============================] - 0s 3ms/step - loss: 0.6144 - accuracy: 0.6651 - val_loss: 0.6069 - val_accuracy: 0.6732\n",
      "Epoch 14/1000\n",
      "58/58 [==============================] - 0s 4ms/step - loss: 0.6130 - accuracy: 0.6667 - val_loss: 0.6059 - val_accuracy: 0.6734\n",
      "Epoch 15/1000\n",
      "58/58 [==============================] - 0s 3ms/step - loss: 0.6123 - accuracy: 0.6673 - val_loss: 0.6057 - val_accuracy: 0.6737\n",
      "Epoch 16/1000\n",
      "58/58 [==============================] - 0s 3ms/step - loss: 0.6133 - accuracy: 0.6668 - val_loss: 0.6055 - val_accuracy: 0.6741\n",
      "Epoch 17/1000\n",
      "58/58 [==============================] - 0s 3ms/step - loss: 0.6132 - accuracy: 0.6663 - val_loss: 0.6061 - val_accuracy: 0.6725\n",
      "Epoch 18/1000\n",
      "58/58 [==============================] - 0s 3ms/step - loss: 0.6113 - accuracy: 0.6681 - val_loss: 0.6066 - val_accuracy: 0.6727\n",
      "Epoch 19/1000\n",
      "58/58 [==============================] - 0s 3ms/step - loss: 0.6109 - accuracy: 0.6674 - val_loss: 0.6059 - val_accuracy: 0.6738\n",
      "Epoch 20/1000\n",
      "58/58 [==============================] - 0s 3ms/step - loss: 0.6114 - accuracy: 0.6673 - val_loss: 0.6054 - val_accuracy: 0.6737\n",
      "Epoch 21/1000\n",
      "58/58 [==============================] - 0s 3ms/step - loss: 0.6107 - accuracy: 0.6681 - val_loss: 0.6049 - val_accuracy: 0.6734\n",
      "Epoch 22/1000\n",
      "58/58 [==============================] - 0s 3ms/step - loss: 0.6118 - accuracy: 0.6670 - val_loss: 0.6054 - val_accuracy: 0.6741\n",
      "Epoch 23/1000\n",
      "58/58 [==============================] - 0s 3ms/step - loss: 0.6107 - accuracy: 0.6686 - val_loss: 0.6068 - val_accuracy: 0.6746\n",
      "Epoch 24/1000\n",
      "58/58 [==============================] - 0s 3ms/step - loss: 0.6105 - accuracy: 0.6677 - val_loss: 0.6079 - val_accuracy: 0.6727\n",
      "Epoch 25/1000\n",
      "58/58 [==============================] - 0s 3ms/step - loss: 0.6108 - accuracy: 0.6685 - val_loss: 0.6049 - val_accuracy: 0.6733\n",
      "Epoch 26/1000\n",
      "58/58 [==============================] - 0s 3ms/step - loss: 0.6104 - accuracy: 0.6704 - val_loss: 0.6052 - val_accuracy: 0.6747\n",
      "Epoch 27/1000\n",
      "58/58 [==============================] - 0s 3ms/step - loss: 0.6110 - accuracy: 0.6678 - val_loss: 0.6058 - val_accuracy: 0.6750\n",
      "Epoch 28/1000\n",
      "58/58 [==============================] - 0s 3ms/step - loss: 0.6104 - accuracy: 0.6684 - val_loss: 0.6070 - val_accuracy: 0.6748\n",
      "Epoch 29/1000\n",
      "58/58 [==============================] - 0s 4ms/step - loss: 0.6104 - accuracy: 0.6682 - val_loss: 0.6053 - val_accuracy: 0.6744\n",
      "Epoch 30/1000\n",
      "58/58 [==============================] - 0s 3ms/step - loss: 0.6098 - accuracy: 0.6690 - val_loss: 0.6051 - val_accuracy: 0.6749\n",
      "Epoch 31/1000\n",
      "58/58 [==============================] - 0s 4ms/step - loss: 0.6100 - accuracy: 0.6686 - val_loss: 0.6050 - val_accuracy: 0.6742\n",
      "Epoch 32/1000\n",
      "58/58 [==============================] - 0s 3ms/step - loss: 0.6098 - accuracy: 0.6690 - val_loss: 0.6057 - val_accuracy: 0.6740\n",
      "Epoch 33/1000\n",
      "58/58 [==============================] - 0s 3ms/step - loss: 0.6092 - accuracy: 0.6703 - val_loss: 0.6053 - val_accuracy: 0.6730\n",
      "Epoch 34/1000\n",
      "58/58 [==============================] - 0s 3ms/step - loss: 0.6099 - accuracy: 0.6689 - val_loss: 0.6056 - val_accuracy: 0.6745\n",
      "Epoch 35/1000\n",
      "58/58 [==============================] - 0s 3ms/step - loss: 0.6095 - accuracy: 0.6688 - val_loss: 0.6041 - val_accuracy: 0.6741\n",
      "Epoch 36/1000\n",
      "58/58 [==============================] - 0s 3ms/step - loss: 0.6097 - accuracy: 0.6710 - val_loss: 0.6047 - val_accuracy: 0.6734\n",
      "Epoch 37/1000\n",
      "58/58 [==============================] - 0s 3ms/step - loss: 0.6095 - accuracy: 0.6700 - val_loss: 0.6053 - val_accuracy: 0.6750\n",
      "Epoch 38/1000\n",
      "58/58 [==============================] - 0s 3ms/step - loss: 0.6091 - accuracy: 0.6697 - val_loss: 0.6053 - val_accuracy: 0.6747\n",
      "Epoch 39/1000\n",
      "58/58 [==============================] - 0s 3ms/step - loss: 0.6091 - accuracy: 0.6713 - val_loss: 0.6052 - val_accuracy: 0.6746\n",
      "Epoch 40/1000\n",
      "58/58 [==============================] - 0s 3ms/step - loss: 0.6092 - accuracy: 0.6699 - val_loss: 0.6051 - val_accuracy: 0.6758\n",
      "Epoch 41/1000\n",
      "58/58 [==============================] - 0s 3ms/step - loss: 0.6091 - accuracy: 0.6696 - val_loss: 0.6069 - val_accuracy: 0.6750\n",
      "Epoch 42/1000\n",
      "58/58 [==============================] - 0s 3ms/step - loss: 0.6096 - accuracy: 0.6696 - val_loss: 0.6054 - val_accuracy: 0.6738\n",
      "Epoch 43/1000\n",
      "58/58 [==============================] - 0s 3ms/step - loss: 0.6088 - accuracy: 0.6714 - val_loss: 0.6050 - val_accuracy: 0.6742\n",
      "Epoch 44/1000\n",
      "58/58 [==============================] - 0s 3ms/step - loss: 0.6081 - accuracy: 0.6708 - val_loss: 0.6042 - val_accuracy: 0.6740\n",
      "Epoch 45/1000\n",
      "58/58 [==============================] - 0s 3ms/step - loss: 0.6087 - accuracy: 0.6702 - val_loss: 0.6065 - val_accuracy: 0.6752\n",
      "59/59 [==============================] - 0s 707us/step\n"
     ]
    }
   ],
   "source": [
    "#try FS with 2+3 prong information\n",
    "from keras.layers import Dropout\n",
    "noise = False\n",
    "es = tf.keras.callbacks.EarlyStopping(monitor='val_loss', patience=10)\n",
    "qq = \"qq\"\n",
    "qqq = \"qqq\"\n",
    "feature_dims = 6\n",
    "tuple_rates_23 = {}\n",
    "for m1 in mass_range[1:]:\n",
    "    for m2 in mass_range[1:]:\n",
    "        if (m1 == 5 and m2 == 1) or (m1 == 3 and m2 == 3):\n",
    "            x_data_23 = np.concatenate([x[m1,m2, qq, noise], x[m1,m2, qqq, noise]])\n",
    "            y_data_23 = np.concatenate([np.zeros(len(x[m1,m2, qq, noise])), np.ones(len(x[m1,m2, qqq, noise]))])\n",
    "            X_train_23, X_val_23, Y_train_23, Y_val_23 = train_test_split(x_data_23, y_data_23, test_size=0.5)\n",
    "\n",
    "            model23 = Sequential()\n",
    "            model23.add(Dense(256, input_dim=feature_dims, activation='relu'))\n",
    "            model23.add(Dropout(0.5))\n",
    "            model23.add(Dense(128, activation='relu'))\n",
    "            model23.add(Dropout(0.5))\n",
    "            model23.add(Dense(64, activation='relu'))\n",
    "            model23.add(Dense(1, activation='sigmoid'))\n",
    "            model23.compile(loss='binary_crossentropy', optimizer='adam', metrics=['accuracy'])\n",
    "\n",
    "            myhistory23 = model23.fit(X_train_23, Y_train_23, epochs=1000, validation_data=(X_val_23, Y_val_23),batch_size=1024, callbacks = [es])\n",
    "            preds_23 = model23.predict(X_val_23,batch_size=1000)\n",
    "            fpr_23, tpr_23, _ = metrics.roc_curve(Y_val_23, preds_23)\n",
    "            tuple_rates_23[tuple((m1, m2))] = [fpr_23, tpr_23]"
   ]
  },
  {
   "cell_type": "code",
   "execution_count": 24,
   "id": "7aa80244-9d15-4d8b-890d-b717ab4e6394",
   "metadata": {
    "tags": []
   },
   "outputs": [
    {
     "data": {
      "text/plain": [
       "[<matplotlib.lines.Line2D at 0x7f0428138dd0>]"
      ]
     },
     "execution_count": 24,
     "metadata": {},
     "output_type": "execute_result"
    },
    {
     "data": {
      "image/png": "[encoded data removed]",
      "text/plain": [
       "<Figure size 640x480 with 1 Axes>"
      ]
     },
     "metadata": {},
     "output_type": "display_data"
    }
   ],
   "source": [
    "epochs = [x for x in range(len(myhistory23.history[\"loss\"]))]\n",
    "plt.plot(epochs, myhistory23.history[\"loss\"])\n",
    "plt.plot(epochs, myhistory23.history[\"val_loss\"])"
   ]
  },
  {
   "cell_type": "code",
   "execution_count": 25,
   "id": "bc47efb8-7ca5-44fc-b2f1-ddf3de1de734",
   "metadata": {
    "tags": []
   },
   "outputs": [
    {
     "name": "stdout",
     "output_type": "stream",
     "text": [
      "794/794 [==============================] - 1s 649us/step\n",
      "AUC: 0.4199947628608556\n"
     ]
    },
    {
     "data": {
      "image/png": "[encoded data removed]",
      "text/plain": [
       "<Figure size 640x480 with 1 Axes>"
      ]
     },
     "metadata": {},
     "output_type": "display_data"
    }
   ],
   "source": [
    "def calculate_auc(fpr, tpr):\n",
    "    sorted_indices = np.argsort(fpr)\n",
    "    fpr_sorted = fpr[sorted_indices]\n",
    "    tpr_sorted = tpr[sorted_indices]\n",
    "    \n",
    "    auc = np.trapz(tpr_sorted, fpr_sorted)\n",
    "    return auc\n",
    "\n",
    "preds_qqq = model23.predict(x_data_qqq[np.prod(x_data_qqq[:,6:8]==[5,1],axis=1)==1][:, :6],batch_size=1000)\n",
    "fpr_qqq, tpr_qqq, _ = metrics.roc_curve(y_data_qqq[np.prod(x_data_qqq[:,6:8]==[5,1],axis=1)==1], preds_qqq)\n",
    "plt.plot(fpr_qqq, tpr_qqq)\n",
    "auc = calculate_auc(fpr_qqq, tpr_qqq)\n",
    "print(\"AUC:\", auc)"
   ]
  },
  {
   "cell_type": "code",
   "execution_count": null,
   "id": "38dd123f-0aad-4ed2-a570-3c5a727ba54b",
   "metadata": {},
   "outputs": [],
   "source": [
    "preds_qqq = model23.predict(x[5,1,qq, noise],batch_size=1000)\n",
    "fpr_qqq, tpr_qqq, _ = metrics.roc_curve(y_data_qqq[np.prod(x_data_qqq[:,6:8]==[5,1],axis=1)==1], preds_qqq)\n",
    "plt.plot(fpr_qqq, tpr_qqq)\n",
    "auc = calculate_auc(fpr_qqq, tpr_qqq)\n",
    "print(\"AUC:\", auc)"
   ]
  },
  {
   "cell_type": "code",
   "execution_count": 53,
   "id": "a49a4222-3610-408f-9065-1e28d47edc2a",
   "metadata": {
    "tags": []
   },
   "outputs": [
    {
     "data": {
      "text/plain": [
       "(793548, 6)"
      ]
     },
     "execution_count": 53,
     "metadata": {},
     "output_type": "execute_result"
    }
   ],
   "source": [
    "np.shape(x_data_qqq[np.prod(x_data_qqq[:,6:8]==[5,1],axis=1)==1][:, :6])"
   ]
  },
  {
   "cell_type": "code",
   "execution_count": 33,
   "id": "b27efb83-15f8-4ff2-92ac-f92a931dc860",
   "metadata": {
    "tags": []
   },
   "outputs": [
    {
     "name": "stderr",
     "output_type": "stream",
     "text": [
      "/tmp/ipykernel_2137181/124085034.py:2: RuntimeWarning: divide by zero encountered in divide\n",
      "  plt.plot(tuple_rates_23[(m1,m2)][1], 1./(tuple_rates_23[(m1,m2)][0]), label = f\"{m1*100}, {m2*100} GEV\")\n"
     ]
    },
    {
     "data": {
      "image/png": "[encoded data removed]",
      "text/plain": [
       "<Figure size 640x480 with 1 Axes>"
      ]
     },
     "metadata": {},
     "output_type": "display_data"
    }
   ],
   "source": [
    "m1, m2 = 5, 1\n",
    "plt.plot(tuple_rates_23[(m1,m2)][1], 1./(tuple_rates_23[(m1,m2)][0]), label = f\"{m1*100}, {m2*100} GEV\")\n",
    "plt.yscale(\"log\")\n",
    "plt.legend(frameon=False)\n",
    "plt.xlabel(\"True Positive Rate\")\n",
    "plt.ylabel(\"Background Rejection $\\\\frac{1}{FPR}$\")\n",
    "plt.title(f\"$({m1*100}, {m2*100})$ GeV Dedicated vs Parametrized\")\n",
    "#sns.set(style=\"white\")\n",
    "plt.gca().spines['top'].set_linewidth(0.5)\n",
    "plt.gca().spines['right'].set_linewidth(0.5)\n",
    "plt.gca().spines['bottom'].set_linewidth(0.5)\n",
    "plt.gca().spines['left'].set_linewidth(0.5)\n",
    "plt.show()"
   ]
  },
  {
   "cell_type": "code",
   "execution_count": 115,
   "id": "8fa5b009-687c-4c80-a092-a866e0f6da66",
   "metadata": {
    "tags": []
   },
   "outputs": [
    {
     "name": "stdout",
     "output_type": "stream",
     "text": [
      "811/811 [==============================] - 1s 695us/step\n"
     ]
    },
    {
     "name": "stderr",
     "output_type": "stream",
     "text": [
      "/tmp/ipykernel_167917/1144691472.py:17: RuntimeWarning: divide by zero encountered in divide\n",
      "  plt.plot(tpr_all, 1/(fpr_all), label = f\"{m1_try*100} {m2_try*100}\", linewidth = 1)\n"
     ]
    },
    {
     "name": "stdout",
     "output_type": "stream",
     "text": [
      "811/811 [==============================] - 1s 708us/step\n"
     ]
    },
    {
     "name": "stderr",
     "output_type": "stream",
     "text": [
      "/tmp/ipykernel_167917/1144691472.py:17: RuntimeWarning: divide by zero encountered in divide\n",
      "  plt.plot(tpr_all, 1/(fpr_all), label = f\"{m1_try*100} {m2_try*100}\", linewidth = 1)\n"
     ]
    },
    {
     "name": "stdout",
     "output_type": "stream",
     "text": [
      "811/811 [==============================] - 1s 686us/step\n"
     ]
    },
    {
     "name": "stderr",
     "output_type": "stream",
     "text": [
      "/tmp/ipykernel_167917/1144691472.py:17: RuntimeWarning: divide by zero encountered in divide\n",
      "  plt.plot(tpr_all, 1/(fpr_all), label = f\"{m1_try*100} {m2_try*100}\", linewidth = 1)\n"
     ]
    },
    {
     "name": "stdout",
     "output_type": "stream",
     "text": [
      "811/811 [==============================] - 1s 703us/step\n"
     ]
    },
    {
     "name": "stderr",
     "output_type": "stream",
     "text": [
      "/tmp/ipykernel_167917/1144691472.py:17: RuntimeWarning: divide by zero encountered in divide\n",
      "  plt.plot(tpr_all, 1/(fpr_all), label = f\"{m1_try*100} {m2_try*100}\", linewidth = 1)\n"
     ]
    },
    {
     "name": "stdout",
     "output_type": "stream",
     "text": [
      "811/811 [==============================] - 1s 652us/step\n"
     ]
    },
    {
     "name": "stderr",
     "output_type": "stream",
     "text": [
      "/tmp/ipykernel_167917/1144691472.py:17: RuntimeWarning: divide by zero encountered in divide\n",
      "  plt.plot(tpr_all, 1/(fpr_all), label = f\"{m1_try*100} {m2_try*100}\", linewidth = 1)\n",
      "/global/homes/g/gupsingh/.conda/envs/research/lib/python3.11/site-packages/slack_sdk/web/internal_utils.py:417: UserWarning: client.files_upload() may cause some issues like timeouts for relatively large files. Our latest recommendation is to use client.files_upload_v2(), which is mostly compatible and much stabler, instead.\n",
      "  warnings.warn(message)\n"
     ]
    },
    {
     "ename": "FileNotFoundError",
     "evalue": "[Errno 2] No such file or directory: b'plots/validationplot1.01.0.png'",
     "output_type": "error",
     "traceback": [
      "\u001b[0;31m---------------------------------------------------------------------------\u001b[0m",
      "\u001b[0;31mFileNotFoundError\u001b[0m                         Traceback (most recent call last)",
      "Cell \u001b[0;32mIn[115], line 32\u001b[0m\n\u001b[1;32m     29\u001b[0m     \u001b[38;5;66;03m#plt.savefig(img_path, dpi=450, bbox_inches='tight')\u001b[39;00m\n\u001b[1;32m     30\u001b[0m     send_slack_plot(img_path)\n\u001b[0;32m---> 32\u001b[0m \u001b[43mvalidation_plot\u001b[49m\u001b[43m(\u001b[49m\u001b[43mm1\u001b[49m\u001b[43m,\u001b[49m\u001b[43mm2\u001b[49m\u001b[43m)\u001b[49m\n",
      "Cell \u001b[0;32mIn[115], line 30\u001b[0m, in \u001b[0;36mvalidation_plot\u001b[0;34m(m1, m2)\u001b[0m\n\u001b[1;32m     28\u001b[0m img_path \u001b[38;5;241m=\u001b[39m \u001b[38;5;124mf\u001b[39m\u001b[38;5;124m\"\u001b[39m\u001b[38;5;124mplots/validationplot\u001b[39m\u001b[38;5;132;01m{\u001b[39;00m\u001b[38;5;28mfloat\u001b[39m(m1)\u001b[38;5;132;01m}\u001b[39;00m\u001b[38;5;132;01m{\u001b[39;00m\u001b[38;5;28mfloat\u001b[39m(m2)\u001b[38;5;132;01m}\u001b[39;00m\u001b[38;5;124m.png\u001b[39m\u001b[38;5;124m\"\u001b[39m\n\u001b[1;32m     29\u001b[0m \u001b[38;5;66;03m#plt.savefig(img_path, dpi=450, bbox_inches='tight')\u001b[39;00m\n\u001b[0;32m---> 30\u001b[0m \u001b[43msend_slack_plot\u001b[49m\u001b[43m(\u001b[49m\u001b[43mimg_path\u001b[49m\u001b[43m)\u001b[49m\n",
      "File \u001b[0;32m/global/u2/g/gupsingh/SULI/utils.py:127\u001b[0m, in \u001b[0;36msend_slack_plot\u001b[0;34m(image_path, message)\u001b[0m\n\u001b[1;32m    125\u001b[0m client \u001b[38;5;241m=\u001b[39m WebClient(token\u001b[38;5;241m=\u001b[39mSLACK_API_TOKEN)\n\u001b[1;32m    126\u001b[0m \u001b[38;5;28;01mtry\u001b[39;00m:\n\u001b[0;32m--> 127\u001b[0m     response \u001b[38;5;241m=\u001b[39m \u001b[43mclient\u001b[49m\u001b[38;5;241;43m.\u001b[39;49m\u001b[43mfiles_upload\u001b[49m\u001b[43m(\u001b[49m\n\u001b[1;32m    128\u001b[0m \u001b[43m        \u001b[49m\u001b[43mchannels\u001b[49m\u001b[38;5;241;43m=\u001b[39;49m\u001b[43mSLACK_CHANNEL_ID\u001b[49m\u001b[43m,\u001b[49m\n\u001b[1;32m    129\u001b[0m \u001b[43m        \u001b[49m\u001b[43mfile\u001b[49m\u001b[38;5;241;43m=\u001b[39;49m\u001b[43mimage_path\u001b[49m\u001b[43m,\u001b[49m\n\u001b[1;32m    130\u001b[0m \u001b[43m        \u001b[49m\u001b[43minitial_comment\u001b[49m\u001b[38;5;241;43m=\u001b[39;49m\u001b[43mmessage\u001b[49m\n\u001b[1;32m    131\u001b[0m \u001b[43m    \u001b[49m\u001b[43m)\u001b[49m\n\u001b[1;32m    132\u001b[0m     \u001b[38;5;28mprint\u001b[39m(\u001b[38;5;124m\"\u001b[39m\u001b[38;5;124mPlot sent successfully:\u001b[39m\u001b[38;5;124m\"\u001b[39m, response[\u001b[38;5;124m\"\u001b[39m\u001b[38;5;124mts\u001b[39m\u001b[38;5;124m\"\u001b[39m])\n\u001b[1;32m    133\u001b[0m \u001b[38;5;28;01mexcept\u001b[39;00m SlackApiError \u001b[38;5;28;01mas\u001b[39;00m e:\n",
      "File \u001b[0;32m~/.conda/envs/research/lib/python3.11/site-packages/slack_sdk/web/client.py:3490\u001b[0m, in \u001b[0;36mWebClient.files_upload\u001b[0;34m(self, file, content, filename, filetype, initial_comment, thread_ts, title, channels, **kwargs)\u001b[0m\n\u001b[1;32m   3488\u001b[0m         \u001b[38;5;28;01mif\u001b[39;00m kwargs\u001b[38;5;241m.\u001b[39mget(\u001b[38;5;124m\"\u001b[39m\u001b[38;5;124mfilename\u001b[39m\u001b[38;5;124m\"\u001b[39m) \u001b[38;5;129;01mis\u001b[39;00m \u001b[38;5;28;01mNone\u001b[39;00m:\n\u001b[1;32m   3489\u001b[0m             kwargs[\u001b[38;5;124m\"\u001b[39m\u001b[38;5;124mfilename\u001b[39m\u001b[38;5;124m\"\u001b[39m] \u001b[38;5;241m=\u001b[39m file\u001b[38;5;241m.\u001b[39msplit(os\u001b[38;5;241m.\u001b[39mpath\u001b[38;5;241m.\u001b[39msep)[\u001b[38;5;241m-\u001b[39m\u001b[38;5;241m1\u001b[39m]\n\u001b[0;32m-> 3490\u001b[0m     \u001b[38;5;28;01mreturn\u001b[39;00m \u001b[38;5;28;43mself\u001b[39;49m\u001b[38;5;241;43m.\u001b[39;49m\u001b[43mapi_call\u001b[49m\u001b[43m(\u001b[49m\u001b[38;5;124;43m\"\u001b[39;49m\u001b[38;5;124;43mfiles.upload\u001b[39;49m\u001b[38;5;124;43m\"\u001b[39;49m\u001b[43m,\u001b[49m\u001b[43m \u001b[49m\u001b[43mfiles\u001b[49m\u001b[38;5;241;43m=\u001b[39;49m\u001b[43m{\u001b[49m\u001b[38;5;124;43m\"\u001b[39;49m\u001b[38;5;124;43mfile\u001b[39;49m\u001b[38;5;124;43m\"\u001b[39;49m\u001b[43m:\u001b[49m\u001b[43m \u001b[49m\u001b[43mfile\u001b[49m\u001b[43m}\u001b[49m\u001b[43m,\u001b[49m\u001b[43m \u001b[49m\u001b[43mdata\u001b[49m\u001b[38;5;241;43m=\u001b[39;49m\u001b[43mkwargs\u001b[49m\u001b[43m)\u001b[49m\n\u001b[1;32m   3491\u001b[0m \u001b[38;5;28;01melse\u001b[39;00m:\n\u001b[1;32m   3492\u001b[0m     kwargs[\u001b[38;5;124m\"\u001b[39m\u001b[38;5;124mcontent\u001b[39m\u001b[38;5;124m\"\u001b[39m] \u001b[38;5;241m=\u001b[39m content\n",
      "File \u001b[0;32m~/.conda/envs/research/lib/python3.11/site-packages/slack_sdk/web/base_client.py:155\u001b[0m, in \u001b[0;36mBaseClient.api_call\u001b[0;34m(self, api_method, http_verb, files, data, params, json, headers, auth)\u001b[0m\n\u001b[1;32m    140\u001b[0m req_args \u001b[38;5;241m=\u001b[39m _build_req_args(\n\u001b[1;32m    141\u001b[0m     token\u001b[38;5;241m=\u001b[39m\u001b[38;5;28mself\u001b[39m\u001b[38;5;241m.\u001b[39mtoken,\n\u001b[1;32m    142\u001b[0m     http_verb\u001b[38;5;241m=\u001b[39mhttp_verb,\n\u001b[0;32m   (...)\u001b[0m\n\u001b[1;32m    151\u001b[0m     proxy\u001b[38;5;241m=\u001b[39m\u001b[38;5;28mself\u001b[39m\u001b[38;5;241m.\u001b[39mproxy,\n\u001b[1;32m    152\u001b[0m )\n\u001b[1;32m    154\u001b[0m show_deprecation_warning_if_any(api_method)\n\u001b[0;32m--> 155\u001b[0m \u001b[38;5;28;01mreturn\u001b[39;00m \u001b[38;5;28;43mself\u001b[39;49m\u001b[38;5;241;43m.\u001b[39;49m\u001b[43m_sync_send\u001b[49m\u001b[43m(\u001b[49m\u001b[43mapi_url\u001b[49m\u001b[38;5;241;43m=\u001b[39;49m\u001b[43mapi_url\u001b[49m\u001b[43m,\u001b[49m\u001b[43m \u001b[49m\u001b[43mreq_args\u001b[49m\u001b[38;5;241;43m=\u001b[39;49m\u001b[43mreq_args\u001b[49m\u001b[43m)\u001b[49m\n",
      "File \u001b[0;32m~/.conda/envs/research/lib/python3.11/site-packages/slack_sdk/web/base_client.py:186\u001b[0m, in \u001b[0;36mBaseClient._sync_send\u001b[0;34m(self, api_url, req_args)\u001b[0m\n\u001b[1;32m    183\u001b[0m \u001b[38;5;28;01mif\u001b[39;00m data:\n\u001b[1;32m    184\u001b[0m     body_params\u001b[38;5;241m.\u001b[39mupdate(data)\n\u001b[0;32m--> 186\u001b[0m \u001b[38;5;28;01mreturn\u001b[39;00m \u001b[38;5;28;43mself\u001b[39;49m\u001b[38;5;241;43m.\u001b[39;49m\u001b[43m_urllib_api_call\u001b[49m\u001b[43m(\u001b[49m\n\u001b[1;32m    187\u001b[0m \u001b[43m    \u001b[49m\u001b[43mtoken\u001b[49m\u001b[38;5;241;43m=\u001b[39;49m\u001b[43mtoken\u001b[49m\u001b[43m,\u001b[49m\n\u001b[1;32m    188\u001b[0m \u001b[43m    \u001b[49m\u001b[43murl\u001b[49m\u001b[38;5;241;43m=\u001b[39;49m\u001b[43mapi_url\u001b[49m\u001b[43m,\u001b[49m\n\u001b[1;32m    189\u001b[0m \u001b[43m    \u001b[49m\u001b[43mquery_params\u001b[49m\u001b[38;5;241;43m=\u001b[39;49m\u001b[43m{\u001b[49m\u001b[43m}\u001b[49m\u001b[43m,\u001b[49m\n\u001b[1;32m    190\u001b[0m \u001b[43m    \u001b[49m\u001b[43mbody_params\u001b[49m\u001b[38;5;241;43m=\u001b[39;49m\u001b[43mbody_params\u001b[49m\u001b[43m,\u001b[49m\n\u001b[1;32m    191\u001b[0m \u001b[43m    \u001b[49m\u001b[43mfiles\u001b[49m\u001b[38;5;241;43m=\u001b[39;49m\u001b[43mfiles\u001b[49m\u001b[43m,\u001b[49m\n\u001b[1;32m    192\u001b[0m \u001b[43m    \u001b[49m\u001b[43mjson_body\u001b[49m\u001b[38;5;241;43m=\u001b[39;49m\u001b[43m_json\u001b[49m\u001b[43m,\u001b[49m\n\u001b[1;32m    193\u001b[0m \u001b[43m    \u001b[49m\u001b[43madditional_headers\u001b[49m\u001b[38;5;241;43m=\u001b[39;49m\u001b[43mheaders\u001b[49m\u001b[43m,\u001b[49m\n\u001b[1;32m    194\u001b[0m \u001b[43m\u001b[49m\u001b[43m)\u001b[49m\n",
      "File \u001b[0;32m~/.conda/envs/research/lib/python3.11/site-packages/slack_sdk/web/base_client.py:268\u001b[0m, in \u001b[0;36mBaseClient._urllib_api_call\u001b[0;34m(self, token, url, query_params, json_body, body_params, files, additional_headers)\u001b[0m\n\u001b[1;32m    266\u001b[0m \u001b[38;5;28;01mfor\u001b[39;00m k, v \u001b[38;5;129;01min\u001b[39;00m files\u001b[38;5;241m.\u001b[39mitems():\n\u001b[1;32m    267\u001b[0m     \u001b[38;5;28;01mif\u001b[39;00m \u001b[38;5;28misinstance\u001b[39m(v, \u001b[38;5;28mstr\u001b[39m):\n\u001b[0;32m--> 268\u001b[0m         f: BinaryIO \u001b[38;5;241m=\u001b[39m \u001b[38;5;28;43mopen\u001b[39;49m\u001b[43m(\u001b[49m\u001b[43mv\u001b[49m\u001b[38;5;241;43m.\u001b[39;49m\u001b[43mencode\u001b[49m\u001b[43m(\u001b[49m\u001b[38;5;124;43m\"\u001b[39;49m\u001b[38;5;124;43mutf-8\u001b[39;49m\u001b[38;5;124;43m\"\u001b[39;49m\u001b[43m,\u001b[49m\u001b[43m \u001b[49m\u001b[38;5;124;43m\"\u001b[39;49m\u001b[38;5;124;43mignore\u001b[39;49m\u001b[38;5;124;43m\"\u001b[39;49m\u001b[43m)\u001b[49m\u001b[43m,\u001b[49m\u001b[43m \u001b[49m\u001b[38;5;124;43m\"\u001b[39;49m\u001b[38;5;124;43mrb\u001b[39;49m\u001b[38;5;124;43m\"\u001b[39;49m\u001b[43m)\u001b[49m\n\u001b[1;32m    269\u001b[0m         files_to_close\u001b[38;5;241m.\u001b[39mappend(f)\n\u001b[1;32m    270\u001b[0m         request_data\u001b[38;5;241m.\u001b[39mupdate({k: f})\n",
      "\u001b[0;31mFileNotFoundError\u001b[0m: [Errno 2] No such file or directory: b'plots/validationplot1.01.0.png'"
     ]
    },
    {
     "data": {
      "image/png": "[encoded data removed]",
      "text/plain": [
       "<Figure size 640x480 with 1 Axes>"
      ]
     },
     "metadata": {},
     "output_type": "display_data"
    }
   ],
   "source": [
    "import seaborn as sns\n",
    "from utils import send_slack_plot \n",
    "#epsilon = 1e-4\n",
    "m1 = 1\n",
    "m2 = 1\n",
    "\n",
    "#takes parametrized data corresponding to m1,m2 and replaces it with wrong masses\n",
    "#then evaluates the data on trained parametrized model\n",
    "def validation_plot(m1, m2):\n",
    "    m1_masses_to_try = [1, 3, 3, 4, 6]\n",
    "    m2_masses_to_try = [2, 3, 4, 5, 6]\n",
    "    for m1_try, m2_try in zip(m1_masses_to_try, m2_masses_to_try):\n",
    "        parametrized_data = x_data_qq[np.prod(x_data_qq[:,16:18]==[m1,m2],axis=1)==1]\n",
    "        parametrized_data[:,16:18]= np.c_[np.ones(len(parametrized_data)) * m1_try, np.ones(len(parametrized_data)) * m2_try]\n",
    "        preds_parametrized = model_qq.predict(parametrized_data,batch_size=1000)\n",
    "        fpr_all, tpr_all, _ = metrics.roc_curve(y_data_qq[np.prod(x_data_qq[:,16:18]==[m1,m2],axis=1)==1], preds_parametrized)\n",
    "        plt.plot(tpr_all, 1/(fpr_all), label = f\"{m1_try*100} {m2_try*100}\", linewidth = 1)\n",
    "        plt.legend()\n",
    "        plt.title(f\"Parametrized Classifier Validation $m_{1}: {m1*100}  m_{2}: {m2*100} GeV$\")\n",
    "        plt.xlabel(\"True Positive Rate\")\n",
    "        plt.ylabel(\"Background Rejection $\\\\frac{1}{FPR}$\")\n",
    "        sns.set(style=\"white\")\n",
    "        plt.gca().spines['top'].set_linewidth(0.5)\n",
    "        plt.gca().spines['right'].set_linewidth(0.5)\n",
    "        plt.gca().spines['bottom'].set_linewidth(0.5)\n",
    "        plt.gca().spines['left'].set_linewidth(0.5)\n",
    "        plt.yscale(\"log\")\n",
    "    img_path = f\"plots/validationplot{float(m1)}{float(m2)}.png\"\n",
    "    #plt.savefig(img_path, dpi=450, bbox_inches='tight')\n",
    "    send_slack_plot(img_path)\n",
    "    \n",
    "validation_plot(m1,m2)"
   ]
  },
  {
   "cell_type": "code",
   "execution_count": 67,
   "id": "1a57b429-c578-4b7d-8bbe-19aa563bf19e",
   "metadata": {
    "tags": []
   },
   "outputs": [
    {
     "data": {
      "text/plain": [
       "(115500407, 23)"
      ]
     },
     "execution_count": 67,
     "metadata": {},
     "output_type": "execute_result"
    }
   ],
   "source": [
    "np.shape(x_data_qq)"
   ]
  },
  {
   "cell_type": "code",
   "execution_count": 52,
   "id": "8a57ad06-e3c1-4f21-b892-93e5e314584b",
   "metadata": {
    "tags": []
   },
   "outputs": [
    {
     "data": {
      "text/plain": [
       "array([[0.5, 0.5],\n",
       "       [0.5, 0.5],\n",
       "       [0.5, 0.5],\n",
       "       ...,\n",
       "       [6. , 6. ],\n",
       "       [6. , 6. ],\n",
       "       [6. , 6. ]])"
      ]
     },
     "execution_count": 52,
     "metadata": {},
     "output_type": "execute_result"
    }
   ],
   "source": [
    "x_data_qq[:,21:23]"
   ]
  },
  {
   "cell_type": "code",
   "execution_count": 53,
   "id": "bd43309e-5ab6-421a-83e4-64a996aa3aec",
   "metadata": {
    "tags": []
   },
   "outputs": [
    {
     "name": "stdout",
     "output_type": "stream",
     "text": [
      "811/811 [==============================] - 1s 727us/step\n",
      "809/809 [==============================] - 1s 722us/step\n",
      "807/807 [==============================] - 1s 724us/step\n",
      "793/793 [==============================] - 1s 726us/step\n"
     ]
    }
   ],
   "source": [
    "#model_name = \"decent-sun-87qq\"\n",
    "#model_name = \"breathless-flower-61qqq\"\n",
    "noise = True\n",
    "model_name = \"easy-monkey-107qq_reduced\"\n",
    "model_qq = tf.keras.models.load_model(f\"/pscratch/sd/g/gupsingh/{model_name}\")\n",
    "def eval_parametrized(model_parametrized):\n",
    "    preds_parametrized_list = []\n",
    "    tuples_rates_parametrized = {}\n",
    "    for m1 in mass_range[1:]:\n",
    "        for m2 in mass_range[1:]:\n",
    "            if (m1 == 3 and m2 == 3) or (m1 == 5 and m2 == 1) or (m1 == 1 and m2 == 1) or (m1 == 3 and m2 == 4.5):\n",
    "                preds_parametrized = model_parametrized.predict(x_data_qq[np.prod(x_data_qq[:,21:23]==[m1,m2],axis=1)==1],batch_size=1000)\n",
    "                fpr_parametrized, tpr_parametrized, _ = metrics.roc_curve(y_data_qq[np.prod(x_data_qq[:,21:23]==[m1,m2],axis=1)==1], preds_parametrized)\n",
    "\n",
    "                preds_parametrized_list.append(preds_parametrized)\n",
    "                tuples_rates_parametrized[tuple((m1, m2))] = [fpr_parametrized, tpr_parametrized]\n",
    "    np.save(f\"tuples_rates_parametrized_{model_name}{noise}.npy\", tuples_rates_parametrized)\n",
    "\n",
    "eval_parametrized(model_qq)"
   ]
  },
  {
   "cell_type": "code",
   "execution_count": 66,
   "id": "410424f0-c4ae-40e9-8b4f-30e9780d24e8",
   "metadata": {},
   "outputs": [
    {
     "name": "stderr",
     "output_type": "stream",
     "text": [
      "/tmp/ipykernel_1678313/2925288655.py:20: RuntimeWarning: divide by zero encountered in divide\n",
      "  plt.plot(tuple_rates_dedicated[(m1,m2)][1], 1./(tuple_rates_dedicated[(m1,m2)][0]), label = f\"{m1*100}, {m2*100} GEV\")\n",
      "/tmp/ipykernel_1678313/2925288655.py:21: RuntimeWarning: divide by zero encountered in divide\n",
      "  plt.plot(tuple_rates_parametrized[(m1, m2)][1], 1./(tuple_rates_parametrized[(m1, m2)][0]),label= f\"Parameterized {m1*100} {m2*100} GEV\", linestyle='dashed')\n"
     ]
    },
    {
     "data": {
      "image/png": "[encoded data removed]",
      "text/plain": [
       "<Figure size 640x480 with 1 Axes>"
      ]
     },
     "metadata": {},
     "output_type": "display_data"
    },
    {
     "data": {
      "image/png": "[encoded data removed]",
      "text/plain": [
       "<Figure size 640x480 with 1 Axes>"
      ]
     },
     "metadata": {},
     "output_type": "display_data"
    },
    {
     "data": {
      "image/png": "[encoded data removed]",
      "text/plain": [
       "<Figure size 640x480 with 1 Axes>"
      ]
     },
     "metadata": {},
     "output_type": "display_data"
    },
    {
     "data": {
      "image/png": "[encoded data removed]",
      "text/plain": [
       "<Figure size 640x480 with 1 Axes>"
      ]
     },
     "metadata": {},
     "output_type": "display_data"
    }
   ],
   "source": [
    "import seaborn as sns\n",
    "# model_name = \"decent-sun-87qq\"\n",
    "model_name = \"easy-monkey-107qq_reduced\"\n",
    "def plot_comparison(m1, m2):\n",
    "    fpr_cut = 1e-3\n",
    "    tuple_rates_parametrized = np.load(f\"tuple_rates_dedicated_benchmark_extraqqTrue.npy\", allow_pickle = True).item()\n",
    "    tuple_rates_dedicated = np.load(f\"tuples_rates_parametrized_{model_name}True.npy\", allow_pickle = True).item()\n",
    "    # tuple_rates_parametrized = np.load(f\"tuples_rates_parametrized_{model_name}Trueqq.npy\", allow_pickle = True).item()\n",
    "    # tuple_rates_dedicated = np.load(\"tuple_rates_dedicated_benchmark_extraqqTrue.npy\", allow_pickle = True).item()\n",
    "    \n",
    "    fpr = tuple_rates_parametrized[(m1,m2)][0]\n",
    "    tpr = tuple_rates_parametrized[(m1,m2)][1]\n",
    "    \n",
    "    index = np.argmin(np.abs(np.array(fpr) - fpr_cut))\n",
    "\n",
    "    fpr_cut = fpr[index]\n",
    "    tpr_cut = tpr[index]\n",
    "\n",
    "    plt.figure()\n",
    "    plt.plot(tuple_rates_dedicated[(m1,m2)][1], 1./(tuple_rates_dedicated[(m1,m2)][0]), label = f\"{m1*100}, {m2*100} GEV\")\n",
    "    plt.plot(tuple_rates_parametrized[(m1, m2)][1], 1./(tuple_rates_parametrized[(m1, m2)][0]),label= f\"Parameterized {m1*100} {m2*100} GEV\", linestyle='dashed')\n",
    "    #draw line at fpr cut\n",
    "    plt.plot(tuple_rates_parametrized[(m1, m2)][1], [1e3] * len(tuple_rates_parametrized[(m1, m2)][1]), linestyle = \"--\", color = \"black\", linewidth = 0.5)\n",
    "    plt.yscale(\"log\")\n",
    "    plt.legend(frameon=False)\n",
    "    plt.xlabel(\"True Positive Rate\")\n",
    "    plt.ylabel(\"Background Rejection $\\\\frac{1}{FPR}$\")\n",
    "    plt.title(f\"$({m1*100}, {m2*100})$ GeV Dedicated vs Parametrized\")\n",
    "    sns.set(style=\"white\")\n",
    "    plt.gca().spines['top'].set_linewidth(0.5)\n",
    "    plt.gca().spines['right'].set_linewidth(0.5)\n",
    "    plt.gca().spines['bottom'].set_linewidth(0.5)\n",
    "    plt.gca().spines['left'].set_linewidth(0.5)\n",
    "    plt.show()\n",
    "\n",
    "plot_comparison(1, 1)\n",
    "plot_comparison(3, 3)\n",
    "plot_comparison(5, 1)\n",
    "plot_comparison(3, 4.5)"
   ]
  },
  {
   "cell_type": "code",
   "execution_count": 13,
   "id": "f07f034e-8e00-4307-949a-1d4433aedc96",
   "metadata": {
    "tags": []
   },
   "outputs": [
    {
     "name": "stderr",
     "output_type": "stream",
     "text": [
      "2024-04-03 14:26:04.984876: I tensorflow/core/common_runtime/gpu/gpu_device.cc:1929] Created device /job:localhost/replica:0/task:0/device:GPU:0 with 38384 MB memory:  -> device: 0, name: NVIDIA A100-SXM4-40GB, pci bus id: 0000:03:00.0, compute capability: 8.0\n",
      "2024-04-03 14:26:04.986563: I tensorflow/core/common_runtime/gpu/gpu_device.cc:1929] Created device /job:localhost/replica:0/task:0/device:GPU:1 with 38384 MB memory:  -> device: 1, name: NVIDIA A100-SXM4-40GB, pci bus id: 0000:41:00.0, compute capability: 8.0\n",
      "2024-04-03 14:26:04.988131: I tensorflow/core/common_runtime/gpu/gpu_device.cc:1929] Created device /job:localhost/replica:0/task:0/device:GPU:2 with 38384 MB memory:  -> device: 2, name: NVIDIA A100-SXM4-40GB, pci bus id: 0000:82:00.0, compute capability: 8.0\n",
      "2024-04-03 14:26:04.989667: I tensorflow/core/common_runtime/gpu/gpu_device.cc:1929] Created device /job:localhost/replica:0/task:0/device:GPU:3 with 38384 MB memory:  -> device: 3, name: NVIDIA A100-SXM4-40GB, pci bus id: 0000:c1:00.0, compute capability: 8.0\n"
     ]
    }
   ],
   "source": [
    "#model_qq = tf.keras.models.load_model(\"/pscratch/sd/g/gupsingh/deep-forest-83qq\")\n",
    "model_qq = tf.keras.models.load_model(\"/pscratch/sd/g/gupsingh/decent-sun-87qq\")"
   ]
  },
  {
   "cell_type": "code",
   "execution_count": null,
   "id": "f42e8932-8b92-49f4-8084-a6af418ad9d7",
   "metadata": {
    "scrolled": true,
    "tags": []
   },
   "outputs": [
    {
     "name": "stdout",
     "output_type": "stream",
     "text": [
      "0.872 4.437 0.00031622776601683794\n",
      "-8128.0\n",
      "Number of 2 Pronged Evengs: 58.04423890792264\n",
      "5 1 0.872 4.437\n",
      "(1, 4)\n",
      "387/387 [==============================] - 0s 816us/step\n",
      "387/387 [==============================] - 0s 676us/step\n",
      "0.872 4.437 0.0005551935914386209\n",
      "-8128.0\n",
      "Number of 2 Pronged Evengs: 101.90689409574175\n",
      "5 1 0.872 4.437\n",
      "(1, 4)\n",
      "387/387 [==============================] - 0s 806us/step\n",
      "387/387 [==============================] - 0s 653us/step\n",
      "0.872 4.437 0.0009747402255566064\n",
      "-8128.0\n",
      "Number of 2 Pronged Evengs: 178.9155178813662\n",
      "5 1 0.872 4.437\n",
      "(1, 4)\n",
      "387/387 [==============================] - 0s 867us/step\n",
      "387/387 [==============================] - 0s 659us/step\n",
      "0.872 4.437 0.001711328304161781\n",
      "-8128.0\n",
      "Number of 2 Pronged Evengs: 314.11773288550324\n",
      "5 1 0.872 4.437\n",
      "(1, 4)\n",
      "387/387 [==============================] - 0s 829us/step\n",
      "387/387 [==============================] - 0s 651us/step\n",
      "0.872 4.437 0.0030045385302046933\n",
      "-8128.0\n",
      "Number of 2 Pronged Evengs: 551.4890562961318\n",
      "5 1 0.872 4.437\n",
      "(1, 4)\n",
      "387/387 [==============================] - 0s 832us/step\n",
      "387/387 [==============================] - 0s 678us/step\n",
      "0.872 4.437 0.00527499706370262\n",
      "-8128.0\n",
      "Number of 2 Pronged Evengs: 968.2362610367433\n",
      "5 1 0.872 4.437\n",
      "(1, 4)\n",
      "387/387 [==============================] - 0s 838us/step\n",
      "387/387 [==============================] - 0s 664us/step\n",
      "0.872 4.437 0.009261187281287938\n",
      "-8128.0\n",
      "Number of 2 Pronged Evengs: 1699.9094478549637\n",
      "5 1 0.872 4.437\n",
      "(1, 4)\n",
      "387/387 [==============================] - 0s 829us/step\n",
      "387/387 [==============================] - 0s 655us/step\n",
      "0.872 4.437 0.01625964693881482\n",
      "-8128.0\n",
      "Number of 2 Pronged Evengs: 2984.490714913338\n",
      "5 1 0.872 4.437\n",
      "(1, 4)\n",
      "387/387 [==============================] - 0s 844us/step\n",
      "387/387 [==============================] - 0s 647us/step\n",
      "0.872 4.437 0.02854667663497933\n",
      "-8128.0\n",
      "Number of 2 Pronged Evengs: 5239.799589703726\n",
      "5 1 0.872 4.437\n",
      "(1, 4)\n",
      "387/387 [==============================] - 0s 808us/step\n"
     ]
    }
   ],
   "source": [
    "qq = 'qq'\n",
    "noise = False\n",
    "feature_dims = 6\n",
    "# initial_learning_rate = 0.07\n",
    "# final_learning_rate = 0.07\n",
    "# decay_steps = 10\n",
    "\n",
    "# lr_schedule = tf.keras.optimizers.schedules.ExponentialDecay(\n",
    "#     initial_learning_rate,\n",
    "#     decay_steps,\n",
    "#     decay_rate=tf.math.exp(tf.math.log(final_learning_rate / initial_learning_rate) / decay_steps),\n",
    "#     staircase=False\n",
    "# )\n",
    "\n",
    "weight_list1 = []\n",
    "weight_list2 = []\n",
    "weight_list3 = []\n",
    "\n",
    "max_sic1 = []\n",
    "max_sic2 = []\n",
    "\n",
    "epsilon = 1e-4\n",
    "tuple_rates_semiweak = {}\n",
    "scoreLossdict = {}\n",
    "\n",
    "#w1, w2 = np.round(np.random.uniform(0.5, 6.0, size=2),3)\n",
    "w1, w2 = 0.872, 4.437\n",
    "es = tf.keras.callbacks.EarlyStopping(monitor='val_loss', patience=10)\n",
    "sigspace = np.logspace(-3.5, -1.3, 10)\n",
    "test = []\n",
    "for sigfrac in sigspace:\n",
    "\n",
    "    #sigfrac = 0.1\n",
    "    print(w1, w2, sigfrac)\n",
    "\n",
    "    for l in model_qq.layers:\n",
    "        l.trainable=False\n",
    "\n",
    "    inputs_hold = tf.keras.Input(shape=(1,))\n",
    "    simple_model = Dense(1,use_bias = False,activation='relu',kernel_initializer=tf.keras.initializers.Constant(w1), kernel_regularizer=MinMaxRegularizer())(inputs_hold)\n",
    "    model3 = Model(inputs = inputs_hold, outputs = simple_model)\n",
    "\n",
    "    inputs_hold2 = tf.keras.Input(shape=(1,))\n",
    "    simple_model2 = Dense(1,use_bias = False,activation='relu',kernel_initializer=tf.keras.initializers.Constant(w2),kernel_regularizer=MinMaxRegularizer())(inputs_hold2)\n",
    "    model32 = Model(inputs = inputs_hold2, outputs = simple_model2)\n",
    "\n",
    "    inputs_hold3 = tf.keras.Input(shape=(1,))\n",
    "    simple_model3 = tf.exp(Dense(1,use_bias = False,activation='linear',kernel_initializer=tf.keras.initializers.Constant(-8128))(inputs_hold3))\n",
    "    model33 = Model(inputs = inputs_hold3, outputs = simple_model3)\n",
    "\n",
    "    inputs = tf.keras.Input(shape=(feature_dims,))\n",
    "    inputs2 = tf.keras.layers.concatenate([inputs,model3(tf.ones_like(inputs)[:,0]),model32(tf.ones_like(inputs)[:,0])])\n",
    "    hidden_layer_1 = model_qq(inputs2)\n",
    "    LLR = hidden_layer_1 / (1.-hidden_layer_1 + 0.0001)\n",
    "    #LLR_xs = 1.+sigfrac*LLR - sigfrac\n",
    "    LLR_xs = 1. + model33(tf.ones_like(inputs)[:,0])*LLR - model33(tf.ones_like(inputs)[:,0])\n",
    "    ws = LLR_xs / (1.+LLR_xs)\n",
    "    model_semiweak = Model(inputs = inputs, outputs = ws)\n",
    "    model_semiweak.compile(loss='BCE', optimizer=tf.keras.optimizers.Adam(learning_rate = 0.01))\n",
    "    \n",
    "    print(model_semiweak.trainable_weights[2].numpy()[0][0])\n",
    "\n",
    "    m1 = 5\n",
    "    m2 = 1\n",
    "\n",
    "    test_background = int(1/2 * len(x[0,0, qq, noise]) + 1)\n",
    "    train_reference = int(1/4 *len(x[0,0, qq, noise]))\n",
    "    train_data = int(1/4 * len(x[0,0, qq, noise]))\n",
    "    test_signal = int(1/2*len(x[m1,m2, qq, noise]))\n",
    "\n",
    "    #fixed signal portion\n",
    "    N = int(1/4 *len(x[0,0, qq, noise]))\n",
    "    print(f\"Number of 2 Pronged Evengs: {sigfrac * N}\")\n",
    "    signal = x[m1,m2, qq, noise][test_signal:test_signal+int(sigfrac*N)]\n",
    "    x_data_ = np.concatenate([x[0,0, qq, noise][test_background:],signal])\n",
    "    y_data_ = np.concatenate([np.zeros(train_reference),np.ones(train_data),np.ones(len(signal))])\n",
    "\n",
    "    X_train_, X_val_, Y_train_, Y_val_ = train_test_split(x_data_, y_data_, test_size=0.5, random_state = 42)\n",
    "\n",
    "    myhistory = model_semiweak.fit(X_train_[:,0:feature_dims], Y_train_,\n",
    "                                         epochs=1000,validation_data=(X_val_[:,0:feature_dims], Y_val_),\n",
    "                                         batch_size=1024, callbacks = [es], verbose = 0)\n",
    "    \n",
    "    w1 = model_semiweak.trainable_weights[0].numpy()[0][0]\n",
    "    w2 = model_semiweak.trainable_weights[1].numpy()[0][0]\n",
    "    w3 = model_semiweak.trainable_weights[2].numpy()[0][0]\n",
    "\n",
    "    print(m1,m2,w1,w2)\n",
    "    \n",
    "    weight_list1+=[w1]\n",
    "    weight_list2+=[w2]\n",
    "    weight_list3+=[w3]\n",
    "\n",
    "    print((int(np.round(w1)), int(np.round(w2))))\n",
    "    if (int(np.round(w1)), int(np.round(w2))) == (m1, m2):\n",
    "        #if the masses don't swap\n",
    "        scores = model_semiweak.predict(np.concatenate([x[0,0, qq, noise][0:test_background],x[m1,m2, qq, noise][0:test_signal]]),batch_size=1024)\n",
    "    elif (int(np.round(w1)), int(np.round(w2))) == (m2, m1):\n",
    "        #if they do swap\n",
    "        print(\"Swapped\")\n",
    "        scores = model_semiweak.predict(np.concatenate([x[0,0, qq, noise][0:test_background],x[m2,m1, qq, noise][0:test_signal]]),batch_size=1024)\n",
    "    else:\n",
    "        #if it doesn't get the masses at all (low s/b)\n",
    "        scores = model_semiweak.predict(np.concatenate([x[0,0, qq, noise][0:test_background],x[m1,m2, qq, noise][0:test_signal]]),batch_size=1024)\n",
    "    \n",
    "    y = np.concatenate([np.zeros(test_background),np.ones(test_signal)])\n",
    "    fpr, tpr, _ = metrics.roc_curve(y, scores)\n",
    "    max_sic1.append(np.max(tpr/np.sqrt(fpr + epsilon)))\n",
    "    \n",
    "    model_CWOLA = compileCWOLA(feature_dims, m1, m2)\n",
    "    history_CWOLA = model_CWOLA.fit(X_train_[:,0:feature_dims], Y_train_, epochs=1000,validation_data=(X_val_[:,0:feature_dims], Y_val_),batch_size=1024, verbose = 0, callbacks = [es])\n",
    "\n",
    "    scores2 = model_CWOLA.predict(np.concatenate([x[0,0, qq, noise][0:test_background],x[m1,m2, qq, noise][0:test_signal]]),batch_size=1024)\n",
    "    y2 = np.concatenate([np.zeros(test_background),np.ones(test_signal)])\n",
    "    fpr2, tpr2, _ = metrics.roc_curve(y2, scores2)\n",
    "    max_sic2.append(np.max(tpr2/np.sqrt(fpr2+epsilon)))\n",
    "\n",
    "#     scoreLossdict[(sigfrac)] = ((min(myhistory.history[\"loss\"])), scores)\n",
    "    \n",
    "#     top_items = sorted(scoreLossdict.values())[:3]\n",
    "#     lowest_loss_scores = [x[1] for x in top_items]\n",
    "#     fpr, tpr, _ = metrics.roc_curve(y, np.median(lowest_loss_scores, axis = 0))\n",
    "#     tuple_rates_semiweak[(sigfrac)] = (fpr, tpr)\n",
    "#     test.append(np.max(tpr/np.sqrt(fpr + epsilon)))\n",
    "#     print(test)"
   ]
  },
  {
   "cell_type": "code",
   "execution_count": 52,
   "id": "42359f7e-120c-4bca-929e-9d6afb641db4",
   "metadata": {
    "tags": []
   },
   "outputs": [
    {
     "data": {
      "image/png": "[encoded data removed]",
      "text/plain": [
       "<Figure size 640x480 with 1 Axes>"
      ]
     },
     "metadata": {},
     "output_type": "display_data"
    }
   ],
   "source": [
    "plt.plot(sigspace, max_sic1)\n",
    "plt.plot(sigspace, max_sic2)\n",
    "plt.xscale(\"log\")\n",
    "plt.yscale(\"log\")"
   ]
  },
  {
   "cell_type": "code",
   "execution_count": 45,
   "id": "78218c29-d460-40be-9a1a-503055c73f98",
   "metadata": {
    "tags": []
   },
   "outputs": [
    {
     "data": {
      "image/png": "[encoded data removed]",
      "text/plain": [
       "<Figure size 640x480 with 1 Axes>"
      ]
     },
     "metadata": {},
     "output_type": "display_data"
    }
   ],
   "source": [
    "plt.plot(sigspace, max_sic1)\n",
    "plt.plot(sigspace, max_sic2)\n",
    "plt.xscale(\"log\")\n",
    "plt.yscale(\"log\")"
   ]
  },
  {
   "cell_type": "code",
   "execution_count": 54,
   "id": "90a07d9b-e9b6-47cd-9c24-0cf75cc25bd9",
   "metadata": {
    "tags": []
   },
   "outputs": [
    {
     "name": "stderr",
     "output_type": "stream",
     "text": [
      "No artists with labels found to put in legend.  Note that artists whose label start with an underscore are ignored when legend() is called with no argument.\n"
     ]
    },
    {
     "data": {
      "image/png": "[encoded data removed]",
      "text/plain": [
       "<Figure size 640x480 with 1 Axes>"
      ]
     },
     "metadata": {},
     "output_type": "display_data"
    }
   ],
   "source": [
    "plt.plot(sigspace, np.exp(weight_list3))\n",
    "plt.legend()\n",
    "plt.plot(sigspace, sigspace, \"--\", color = \"black\")\n",
    "plt.xscale(\"log\")\n",
    "plt.yscale(\"log\")"
   ]
  },
  {
   "cell_type": "code",
   "execution_count": 19,
   "id": "025e86a5-8155-4c43-bfe2-52ade8bcc70c",
   "metadata": {
    "tags": []
   },
   "outputs": [
    {
     "ename": "NameError",
     "evalue": "name 'model_qqq' is not defined",
     "output_type": "error",
     "traceback": [
      "\u001b[0;31m---------------------------------------------------------------------------\u001b[0m",
      "\u001b[0;31mNameError\u001b[0m                                 Traceback (most recent call last)",
      "Cell \u001b[0;32mIn[19], line 37\u001b[0m\n\u001b[1;32m     34\u001b[0m \u001b[38;5;28;01mfor\u001b[39;00m l \u001b[38;5;129;01min\u001b[39;00m model_qq\u001b[38;5;241m.\u001b[39mlayers:\n\u001b[1;32m     35\u001b[0m     l\u001b[38;5;241m.\u001b[39mtrainable\u001b[38;5;241m=\u001b[39m\u001b[38;5;28;01mFalse\u001b[39;00m\n\u001b[0;32m---> 37\u001b[0m \u001b[38;5;28;01mfor\u001b[39;00m l \u001b[38;5;129;01min\u001b[39;00m \u001b[43mmodel_qqq\u001b[49m\u001b[38;5;241m.\u001b[39mlayers:\n\u001b[1;32m     38\u001b[0m     l\u001b[38;5;241m.\u001b[39mtrainable\u001b[38;5;241m=\u001b[39m\u001b[38;5;28;01mFalse\u001b[39;00m\n\u001b[1;32m     40\u001b[0m \u001b[38;5;28mprint\u001b[39m(sigfrac, w1, w2)\n",
      "\u001b[0;31mNameError\u001b[0m: name 'model_qqq' is not defined"
     ]
    }
   ],
   "source": [
    "decay = \"qqq\"\n",
    "qq = \"qq\"\n",
    "\n",
    "sigmoid = lambda x: 1. / (1. + np.exp(-x))\n",
    "\n",
    "msic1_runs = []\n",
    "msic2_runs = []\n",
    "msic3_runs = []\n",
    "weight_list3_runs = []\n",
    "weight_list4_runs = []\n",
    "initial_weights_list_runs = []\n",
    "\n",
    "num_runs = 1\n",
    "\n",
    "for _ in range(num_runs):\n",
    "    \n",
    "    msic1 = []\n",
    "    msic2 = []\n",
    "    msic3 = []\n",
    "    weight_list1 = []\n",
    "    weight_list2 = []\n",
    "    weight_list3 = []\n",
    "    weight_list4 = []\n",
    "\n",
    "    sigspace = np.logspace(-3, -1, 10)\n",
    "\n",
    "    w1 = round(random.uniform(0.5, 6.0),3)\n",
    "    w2 = round(random.uniform(0.5, 6.0),3)\n",
    "    initial_weights_list_runs.append((w1, w2))\n",
    "\n",
    "    for sigfrac in sigspace:\n",
    "\n",
    "        #freeze both two pronged and three pronged prior models\n",
    "        for l in model_qq.layers:\n",
    "            l.trainable=False\n",
    "\n",
    "        for l in model_qqq.layers:\n",
    "            l.trainable=False\n",
    "\n",
    "        print(sigfrac, w1, w2)\n",
    "\n",
    "        inputs_hold = tf.keras.Input(shape=(1,))\n",
    "        simple_model = Dense(1,use_bias = False,activation='relu',kernel_initializer=tf.keras.initializers.Constant(w1))(inputs_hold)\n",
    "        model3 = Model(inputs = inputs_hold, outputs = simple_model)\n",
    "\n",
    "        inputs_hold2 = tf.keras.Input(shape=(1,))\n",
    "        simple_model2 = Dense(1,use_bias = False,activation='relu',kernel_initializer=tf.keras.initializers.Constant(w2))(inputs_hold2)\n",
    "        model32 = Model(inputs = inputs_hold2, outputs = simple_model2)\n",
    "\n",
    "        inputs_hold3 = tf.keras.Input(shape=(1,))\n",
    "        simple_model3 = tf.exp(Dense(1,use_bias = False,activation='linear',kernel_initializer=tf.keras.initializers.Constant(-1))(inputs_hold3))\n",
    "        model33 = Model(inputs = inputs_hold3, outputs = simple_model3)\n",
    "\n",
    "        inputs_hold4 = tf.keras.Input(shape=(1,))\n",
    "        simple_model4 = Dense(1,use_bias = False,activation='sigmoid',kernel_initializer=tf.keras.initializers.Constant(1.))(inputs_hold4)\n",
    "        model34 = Model(inputs = inputs_hold4, outputs = simple_model4)\n",
    "\n",
    "        inputs = tf.keras.Input(shape=(6,))\n",
    "        inputs2 = tf.keras.layers.concatenate([inputs,model3(tf.ones_like(inputs)[:,0]),model32(tf.ones_like(inputs)[:,0])])\n",
    "        hidden_layer_1 = model_qq(inputs2)\n",
    "        hidden_layer_13 = model_qqq(inputs2)\n",
    "        LLR2 = hidden_layer_1 / (1.-hidden_layer_1+0.0001)\n",
    "        LLR3 = hidden_layer_13 / (1.-hidden_layer_13+0.0001)\n",
    "        #LLR_xs = 1.+ sigfrac*LLR3 - sigfrac\n",
    "        LLR_xs_fixed = 1 + model33(tf.ones_like(inputs)[:,0])*model34(tf.ones_like(inputs)[:,0]) * LLR3 + (1-model34(tf.ones_like(inputs)[:,0]))*LLR2*model33(tf.ones_like(inputs)[:,0])\n",
    "        ws = LLR_xs_fixed / (1.+LLR_xs_fixed+0.0001)\n",
    "        model_all2 = Model(inputs = inputs, outputs = ws)\n",
    "        model_all2.compile(loss='binary_crossentropy', optimizer=tf.keras.optimizers.Adam(learning_rate = 0.01))\n",
    "\n",
    "        m1 = 1\n",
    "        m2 = 5.5\n",
    "\n",
    "        test_background = int(1/2 * len(x[0,0, decay, noise]))\n",
    "        train_reference = int(1/4 *len(x[0,0, decay, noise]))\n",
    "        train_data = int(1/4 * len(x[0,0, decay, noise]))\n",
    "        test_signal = int(1/2*len(x[m1,m2, decay, noise]))\n",
    "\n",
    "        #randomize signal events\n",
    "        # random_test_signal_length = random.randint(0, test_signal - 1)\n",
    "        N = int(1/4 * (len(x[0,0, decay, noise])))\n",
    "        # signal = x[m1, m2, decay][random_test_signal_length:random_test_signal_length + int(sigfrac*N)]\n",
    "\n",
    "        #mix both samples\n",
    "        signal_mixed = np.concatenate([x[m1, m2, decay, noise][int(test_signal/2):int(test_signal/2) + int(sigfrac*(N/2))], x[m1, m2, qq, noise][int(test_signal/2):int(test_signal/2) + int(sigfrac*(N/2))]])\n",
    "        background_mixed = np.concatenate([x[0,0,decay, noise][:int(test_background/2)], x[0,0,qq, noise][:int(test_background/2)]])\n",
    "        \n",
    "        # x_data_ = np.concatenate([x[0,0,decay][test_background:],signal])\n",
    "        # y_data_ = np.concatenate([np.zeros(train_reference),np.ones(train_data),np.ones(len(signal))])\n",
    "        \n",
    "        x_data_mixed = np.concatenate([background_mixed,signal_mixed])\n",
    "        y_data_mixed = np.concatenate([np.zeros(train_reference),np.ones(train_data),np.ones(len(signal_mixed))])\n",
    "        \n",
    "        #noise?\n",
    "        # samples = np.shape(x_data_mixed)[0]\n",
    "        # random_samples = np.random.normal(0, 1, samples)\n",
    "\n",
    "        X_train_, X_val_, Y_train_, Y_val_ = train_test_split(x_data_mixed, y_data_mixed, test_size=0.5, random_state = 42)\n",
    "\n",
    "        myhistory_hack_ = model_all2.fit(X_train_[:,0:6], Y_train_, epochs=20,validation_data=(X_val_[:,0:6], Y_val_),batch_size=1024, verbose = 0)\n",
    "        print(m1,m2,model_all2.trainable_weights[0].numpy()[0][0],model_all2.trainable_weights[1].numpy()[0][0])\n",
    "\n",
    "        weight_list1+=[model_all2.trainable_weights[0].numpy()[0][0]]\n",
    "        weight_list2+=[model_all2.trainable_weights[1].numpy()[0][0]]\n",
    "        weight_list3+=[np.exp(model_all2.trainable_weights[2].numpy()[0][0])]\n",
    "        weight_list4+=[sigmoid(model_all2.trainable_weights[3].numpy()[0][0])]"
   ]
  },
  {
   "cell_type": "code",
   "execution_count": 15,
   "id": "8b13e2f3-42ea-4398-afa0-311e6023f49d",
   "metadata": {
    "tags": []
   },
   "outputs": [
    {
     "data": {
      "image/png": "[encoded data removed]",
      "text/plain": [
       "<Figure size 640x480 with 1 Axes>"
      ]
     },
     "metadata": {},
     "output_type": "display_data"
    }
   ],
   "source": [
    "sigspace = np.logspace(-3, -1, 10)\n",
    "plt.plot(sigspace, sigspace, label = \"Theoretical\")\n",
    "plt.plot(sigspace, np.exp(weight_list3), label = \"Fitted\")\n",
    "plt.yscale(\"log\")\n",
    "plt.xscale(\"log\")\n",
    "plt.legend()\n",
    "plt.show()"
   ]
  },
  {
   "cell_type": "code",
   "execution_count": 20,
   "id": "eec4507b-c156-485c-b88e-b84c617b6615",
   "metadata": {
    "tags": []
   },
   "outputs": [
    {
     "data": {
      "text/plain": [
       "(0.0, 700.0)"
      ]
     },
     "execution_count": 20,
     "metadata": {},
     "output_type": "execute_result"
    },
    {
     "data": {
      "image/png": "[encoded data removed]",
      "text/plain": [
       "<Figure size 640x480 with 1 Axes>"
      ]
     },
     "metadata": {},
     "output_type": "display_data"
    }
   ],
   "source": [
    "plt.plot(sigspace,np.array(weight_list1)*100, label = f\"w1 {w1}\")\n",
    "plt.plot(sigspace,np.array(weight_list2)*100, label = f\"w2 {w2}\")\n",
    "plt.xscale(\"log\")\n",
    "plt.xlabel(\"S/B\")\n",
    "plt.ylabel(\"Fitted masses [GeV]\")\n",
    "plt.title(\"Trainable Weights vs S/B 6 Features 3 Parameters\")\n",
    "plt.axhline(m2 * 100,ls=\":\",color='orange', label = m2)\n",
    "plt.axhline(m1 * 100,ls=\":\",color='blue', label = m1)\n",
    "plt.legend()\n",
    "plt.ylim([0,700])"
   ]
  },
  {
   "cell_type": "code",
   "execution_count": 6,
   "id": "c4ee62da-4746-4838-88ac-6812e91e10c5",
   "metadata": {
    "tags": []
   },
   "outputs": [],
   "source": [
    "#dedicated training on single mass pair\n",
    "es = tf.keras.callbacks.EarlyStopping(monitor='val_loss', patience=10)\n",
    "\n",
    "def train_supervised(feature_dims, m1, m2, fpr_cut = 1e-3):\n",
    "    epsilon = 1e-4\n",
    "    x_data_full = np.concatenate([x[0,0, qq, noise],x[m1,m2, qq, noise]])\n",
    "    y_data_full = np.concatenate([np.zeros(len(x[0,0, qq, noise])),np.ones(len(x[m1,m2, qq, noise]))])\n",
    "    X_train_full, X_val_full, Y_train_full, Y_val_full = train_test_split(x_data_full, y_data_full, test_size=0.5, random_state = 42)\n",
    "\n",
    "    model_dedicated = Sequential()\n",
    "    model_dedicated.add(Dense(256, input_dim=feature_dims, activation='relu'))\n",
    "    model_dedicated.add(Dense(128, activation='relu'))\n",
    "    model_dedicated.add(Dense(64, activation='relu'))\n",
    "    model_dedicated.add(Dense(1, activation='sigmoid'))\n",
    "    model_dedicated.compile(loss=\"binary_crossentropy\", optimizer='adam', metrics=['accuracy'])\n",
    "\n",
    "    history_fullySupervised = model_dedicated.fit(X_train_full, Y_train_full, epochs=1000,validation_data=(X_val_full, Y_val_full),batch_size=1024, verbose = 0, callbacks = [es])\n",
    "    preds = model_dedicated.predict(X_val_full,batch_size=1024)\n",
    "    fpr, tpr, _ = metrics.roc_curve(Y_val_full, preds)\n",
    "    adjusted_fpr = np.maximum(fpr, fpr_cut)\n",
    "    maxsic = np.max(tpr / np.sqrt(adjusted_fpr + epsilon))\n",
    "    return maxsic\n",
    "\n",
    "#CWOLA comparison\n",
    "def compileCWOLA(feature_dims, m1, m2):\n",
    "    model_cwola = Sequential()\n",
    "    model_cwola.add(Dense(256, input_dim=feature_dims, activation='relu'))\n",
    "    model_cwola.add(Dense(128, activation='relu'))\n",
    "    model_cwola.add(Dense(64, activation='relu'))\n",
    "    model_cwola.add(Dense(1, activation='sigmoid'))\n",
    "    model_cwola.compile(loss='binary_crossentropy', optimizer=tf.keras.optimizers.Adam(learning_rate = 0.001))\n",
    "    return model_cwola\n",
    "\n",
    "class MinMaxRegularizer(tf.keras.regularizers.Regularizer):\n",
    "    def __init__(self):\n",
    "        self.min_val = 0.5\n",
    "        self.max_val = 6\n",
    "        self.l = 1\n",
    "\n",
    "    def __call__(self, x):\n",
    "        x_under = tf.cast(tf.less(x, self.min_val), dtype=tf.float32)\n",
    "        x_over  = tf.cast(tf.greater(x, self.max_val), dtype=tf.float32)\n",
    "        under_penalty = (tf.exp(self.min_val - x) - 1)\n",
    "        over_penalty = (tf.exp(x - self.max_val) - 1)\n",
    "        penalty = self.l * tf.math.reduce_sum(((x_under * under_penalty) + (x_over * over_penalty)))\n",
    "        return penalty\n",
    "\n",
    "    def get_config(self):\n",
    "        return {'l': float(self.l),\n",
    "              'min_val': float(self.min_val),\n",
    "              'max_val': float(self.max_val)}\n",
    "\n",
    "from tensorflow.keras.constraints import Constraint\n",
    "class WeightConstraint(Constraint):\n",
    "    def __init__(self, min_value=0.5, max_value=6):\n",
    "        self.min_value = min_value\n",
    "        self.max_value = max_value\n",
    "\n",
    "    def __call__(self, weights):\n",
    "        return tf.clip_by_value(weights, self.min_value, self.max_value)\n",
    "\n",
    "    def get_config(self):\n",
    "        return {'min_value': self.min_value, 'max_value': self.max_value}\n",
    "\n",
    "# initial_learning_rate = 0.05\n",
    "# final_learning_rate = 0.01\n",
    "# decay_epochs = 50\n",
    "\n",
    "# lr_schedule = tf.keras.optimizers.schedules.ExponentialDecay(\n",
    "#     initial_learning_rate=initial_learning_rate,\n",
    "#     decay_rate=(final_learning_rate / initial_learning_rate) ** (1.0 / decay_epochs),\n",
    "#     decay_steps=1,\n",
    "#     staircase=True)\n",
    "\n",
    "#SemiWeak Model\n",
    "def compileSemiWeakly(sigfrac, model, feature_dims, params, m1, m2, w1, w2):\n",
    "    \n",
    "    for l in model.layers:\n",
    "        l.trainable=False\n",
    "        \n",
    "    inputs_hold = tf.keras.Input(shape=(1,))\n",
    "    simple_model = Dense(1,use_bias = False,activation='relu',kernel_initializer=tf.keras.initializers.Constant(w1), kernel_regularizer=MinMaxRegularizer())(inputs_hold)\n",
    "    model3 = Model(inputs = inputs_hold, outputs = simple_model)\n",
    "\n",
    "    inputs_hold2 = tf.keras.Input(shape=(1,))\n",
    "    simple_model2 = Dense(1,use_bias = False,activation='relu',kernel_initializer=tf.keras.initializers.Constant(w2), kernel_regularizer=MinMaxRegularizer())(inputs_hold2)\n",
    "    model32 = Model(inputs = inputs_hold2, outputs = simple_model2)\n",
    "\n",
    "    inputs_hold3 = tf.keras.Input(shape=(1,))\n",
    "    simple_model3 = tf.exp(Dense(1,use_bias = False,activation='linear',kernel_initializer=tf.keras.initializers.Constant(-4))(inputs_hold3))\n",
    "    model33 = Model(inputs = inputs_hold3, outputs = simple_model3)\n",
    "\n",
    "    inputs = tf.keras.Input(shape=(feature_dims,))\n",
    "    inputs2 = tf.keras.layers.concatenate([inputs,model3(tf.ones_like(inputs)[:,0]),model32(tf.ones_like(inputs)[:,0])])\n",
    "    epsilon = 1e-4\n",
    "    \n",
    "    #physics prior\n",
    "    hidden_layer_1 = model(inputs2)\n",
    "    LLR = hidden_layer_1 / (1.-hidden_layer_1 + epsilon)\n",
    "\n",
    "    if params == 2:\n",
    "        LLR_xs = 1.+sigfrac*LLR - sigfrac\n",
    "    elif params == 3:\n",
    "        LLR_xs = 1. + model33(tf.ones_like(inputs)[:,0])*LLR - model33(tf.ones_like(inputs)[:,0])\n",
    "    else:\n",
    "        print(\"Choose 2 or 3 parameters\")\n",
    "    ws = LLR_xs / (1.+LLR_xs)\n",
    "\n",
    "    SemiWeakModel = Model(inputs = inputs, outputs = ws)\n",
    "    SemiWeakModel.compile(loss='binary_crossentropy', optimizer=tf.keras.optimizers.Adam(learning_rate = 0.05, clipvalue=0.0001, clipnorm=0.0001))\n",
    "    return SemiWeakModel\n",
    "\n",
    "def compileSemiWeakly3Prong(sigfrac, model_qq, model_qqq, feature_dims, parameters, m1, m2, w1, w2):\n",
    "    #freeze both two pronged and three pronged prior models\n",
    "    for l in model_qq.layers:\n",
    "        l.trainable=False\n",
    "\n",
    "    for l in model_qqq.layers:\n",
    "        l.trainable=False\n",
    "\n",
    "    inputs_hold = tf.keras.Input(shape=(1,))\n",
    "    simple_model = Dense(1,use_bias = False,activation='relu',kernel_initializer=tf.keras.initializers.Constant(w1), kernel_constraint=WeightConstraint())(inputs_hold)\n",
    "    model3 = Model(inputs = inputs_hold, outputs = simple_model)\n",
    "\n",
    "    inputs_hold2 = tf.keras.Input(shape=(1,))\n",
    "    simple_model2 = Dense(1,use_bias = False,activation='relu',kernel_initializer=tf.keras.initializers.Constant(w2), kernel_constraint=WeightConstraint())(inputs_hold2)\n",
    "    model32 = Model(inputs = inputs_hold2, outputs = simple_model2)\n",
    "\n",
    "    inputs_hold3 = tf.keras.Input(shape=(1,))\n",
    "    simple_model3 = tf.exp(Dense(1,use_bias = False,activation='linear',kernel_initializer=tf.keras.initializers.Constant(-4))(inputs_hold3))\n",
    "    model33 = Model(inputs = inputs_hold3, outputs = simple_model3)\n",
    "\n",
    "    inputs_hold4 = tf.keras.Input(shape=(1,))\n",
    "    simple_model4 = Dense(1,use_bias = False,activation='sigmoid',kernel_initializer=tf.keras.initializers.Constant(-1))(inputs_hold4)\n",
    "    model34 = Model(inputs = inputs_hold4, outputs = simple_model4)\n",
    "\n",
    "    inputs = tf.keras.Input(shape=(6,))\n",
    "    inputs2 = tf.keras.layers.concatenate([inputs,model3(tf.ones_like(inputs)[:,0]),model32(tf.ones_like(inputs)[:,0])])\n",
    "    hidden_layer_1 = model_qq(inputs2)\n",
    "    hidden_layer_13 = model_qqq(inputs2)\n",
    "    LLR2 = hidden_layer_1 / (1.-hidden_layer_1+0.0001)\n",
    "    LLR3 = hidden_layer_13 / (1.-hidden_layer_13+0.0001)\n",
    "    \n",
    "    if parameters == 2:\n",
    "        LLR_xs = 1.+ sigfrac*LLR3 - sigfrac\n",
    "    if parameters == 4:\n",
    "        #LLR_xs_fixed = 1 + model33(tf.ones_like(inputs)[:,0])*model34(tf.ones_like(inputs)[:,0]) * LLR3 + (1-model34(tf.ones_like(inputs)[:,0]))*LLR2*model33(tf.ones_like(inputs)[:,0])\n",
    "        LLR_xs_fixed = 1 + model33(tf.ones_like(inputs)[:,0])*model34(tf.ones_like(inputs)[:,0]) * LLR3 + (1-model34(tf.ones_like(inputs)[:,0]))*LLR2*model33(tf.ones_like(inputs)[:,0]) - model33(tf.ones_like(inputs)[:,0])\n",
    "    ws = LLR_xs_fixed / (1.+LLR_xs_fixed+0.0001)\n",
    "    SemiWeak3Prong = Model(inputs = inputs, outputs = ws)\n",
    "    SemiWeak3Prong.compile(loss='binary_crossentropy', optimizer=tf.keras.optimizers.Adam(learning_rate = 0.05, clipvalue=0.0001, clipnorm=0.0001))\n",
    "    return SemiWeak3Prong"
   ]
  },
  {
   "cell_type": "code",
   "execution_count": 34,
   "id": "99d09263-275f-4a23-aecd-f37a37111f6e",
   "metadata": {
    "tags": []
   },
   "outputs": [],
   "source": [
    "model_qq = tf.keras.models.load_model(\"/pscratch/sd/g/gupsingh/deep-forest-83qq\")\n",
    "model_qqq = tf.keras.models.load_model(\"/pscratch/sd/g/gupsingh/breathless-flower-61qqq\")\n",
    "\n",
    "model_qqq._name = \"model_qqq\"\n",
    "for l in model_qqq.layers:\n",
    "    l._name = f\"{l.name}_model_qqq\""
   ]
  },
  {
   "cell_type": "code",
   "execution_count": 46,
   "id": "01a735d5-ddbc-47fe-b53a-90433f3427d5",
   "metadata": {
    "tags": []
   },
   "outputs": [
    {
     "name": "stdout",
     "output_type": "stream",
     "text": [
      "0.001 2.577 2.284\n",
      "Number of 3 Pronged Evengs: 91.776\n",
      "Number of 2 Pronged Evengs: 91.776\n",
      "3 3 3.2716954 1.2663624\n",
      "Alpha:  1.0039839216483812\n",
      "0.0016681005372000592 2.577 2.284\n",
      "Number of 3 Pronged Evengs: 153.09159490207264\n",
      "Number of 2 Pronged Evengs: 153.09159490207264\n",
      "3 3 2.8061416 2.6279228\n",
      "Alpha:  1.00076357027677\n",
      "0.0027825594022071257 2.577 2.284\n",
      "Number of 3 Pronged Evengs: 255.37217169696117\n",
      "Number of 2 Pronged Evengs: 255.37217169696117\n",
      "3 3 3.0667148 2.95991\n",
      "Alpha:  1.0004534794841298\n",
      "0.004641588833612777 2.577 2.284\n",
      "Number of 3 Pronged Evengs: 425.98645679364625\n",
      "Number of 2 Pronged Evengs: 425.98645679364625\n",
      "3 3 2.8937972 3.0329034\n",
      "Alpha:  1.0005109239192256\n",
      "0.007742636826811269 2.577 2.284\n",
      "Number of 3 Pronged Evengs: 710.5882374174311\n",
      "Number of 2 Pronged Evengs: 710.5882374174311\n",
      "3 3 3.0478215 2.8432403\n",
      "Alpha:  1.0018831113416269\n",
      "0.01291549665014884 2.577 2.284\n",
      "Number of 3 Pronged Evengs: 1185.3326205640599\n",
      "Number of 2 Pronged Evengs: 1185.3326205640599\n",
      "3 3 2.9586217 3.1335857\n",
      "Alpha:  1.0011285470824098\n",
      "0.021544346900318832 2.577 2.284\n",
      "Number of 3 Pronged Evengs: 1977.253981123661\n",
      "Number of 2 Pronged Evengs: 1977.253981123661\n"
     ]
    },
    {
     "ename": "KeyboardInterrupt",
     "evalue": "",
     "output_type": "error",
     "traceback": [
      "\u001b[0;31m---------------------------------------------------------------------------\u001b[0m",
      "\u001b[0;31mKeyboardInterrupt\u001b[0m                         Traceback (most recent call last)",
      "Cell \u001b[0;32mIn[46], line 55\u001b[0m\n\u001b[1;32m     51\u001b[0m y_data_mixed \u001b[38;5;241m=\u001b[39m np\u001b[38;5;241m.\u001b[39mconcatenate([np\u001b[38;5;241m.\u001b[39mzeros(train_reference),np\u001b[38;5;241m.\u001b[39mones(train_data),np\u001b[38;5;241m.\u001b[39mones(\u001b[38;5;28mlen\u001b[39m(signal_mixed))])\n\u001b[1;32m     53\u001b[0m X_train_, X_val_, Y_train_, Y_val_ \u001b[38;5;241m=\u001b[39m train_test_split(x_data_mixed, y_data_mixed, test_size\u001b[38;5;241m=\u001b[39m\u001b[38;5;241m0.5\u001b[39m, random_state \u001b[38;5;241m=\u001b[39m \u001b[38;5;241m42\u001b[39m)\n\u001b[0;32m---> 55\u001b[0m history3prong \u001b[38;5;241m=\u001b[39m \u001b[43msemiweak_3prong\u001b[49m\u001b[38;5;241;43m.\u001b[39;49m\u001b[43mfit\u001b[49m\u001b[43m(\u001b[49m\u001b[43mX_train_\u001b[49m\u001b[43m[\u001b[49m\u001b[43m:\u001b[49m\u001b[43m,\u001b[49m\u001b[38;5;241;43m0\u001b[39;49m\u001b[43m:\u001b[49m\u001b[38;5;241;43m6\u001b[39;49m\u001b[43m]\u001b[49m\u001b[43m,\u001b[49m\u001b[43m \u001b[49m\u001b[43mY_train_\u001b[49m\u001b[43m,\u001b[49m\u001b[43m \u001b[49m\u001b[43mepochs\u001b[49m\u001b[38;5;241;43m=\u001b[39;49m\u001b[38;5;241;43m20\u001b[39;49m\u001b[43m,\u001b[49m\u001b[43mvalidation_data\u001b[49m\u001b[38;5;241;43m=\u001b[39;49m\u001b[43m(\u001b[49m\u001b[43mX_val_\u001b[49m\u001b[43m[\u001b[49m\u001b[43m:\u001b[49m\u001b[43m,\u001b[49m\u001b[38;5;241;43m0\u001b[39;49m\u001b[43m:\u001b[49m\u001b[38;5;241;43m6\u001b[39;49m\u001b[43m]\u001b[49m\u001b[43m,\u001b[49m\u001b[43m \u001b[49m\u001b[43mY_val_\u001b[49m\u001b[43m)\u001b[49m\u001b[43m,\u001b[49m\u001b[43mbatch_size\u001b[49m\u001b[38;5;241;43m=\u001b[39;49m\u001b[38;5;241;43m1024\u001b[39;49m\u001b[43m,\u001b[49m\u001b[43m \u001b[49m\u001b[43mverbose\u001b[49m\u001b[43m \u001b[49m\u001b[38;5;241;43m=\u001b[39;49m\u001b[43m \u001b[49m\u001b[38;5;241;43m0\u001b[39;49m\u001b[43m)\u001b[49m\n\u001b[1;32m     56\u001b[0m \u001b[38;5;28mprint\u001b[39m(m1,m2,semiweak_3prong\u001b[38;5;241m.\u001b[39mtrainable_weights[\u001b[38;5;241m0\u001b[39m]\u001b[38;5;241m.\u001b[39mnumpy()[\u001b[38;5;241m0\u001b[39m][\u001b[38;5;241m0\u001b[39m],semiweak_3prong\u001b[38;5;241m.\u001b[39mtrainable_weights[\u001b[38;5;241m1\u001b[39m]\u001b[38;5;241m.\u001b[39mnumpy()[\u001b[38;5;241m0\u001b[39m][\u001b[38;5;241m0\u001b[39m])\n\u001b[1;32m     58\u001b[0m weight_list1\u001b[38;5;241m+\u001b[39m\u001b[38;5;241m=\u001b[39m[semiweak_3prong\u001b[38;5;241m.\u001b[39mtrainable_weights[\u001b[38;5;241m0\u001b[39m]\u001b[38;5;241m.\u001b[39mnumpy()[\u001b[38;5;241m0\u001b[39m][\u001b[38;5;241m0\u001b[39m]]\n",
      "File \u001b[0;32m~/.conda/envs/research/lib/python3.11/site-packages/keras/src/utils/traceback_utils.py:65\u001b[0m, in \u001b[0;36mfilter_traceback.<locals>.error_handler\u001b[0;34m(*args, **kwargs)\u001b[0m\n\u001b[1;32m     63\u001b[0m filtered_tb \u001b[38;5;241m=\u001b[39m \u001b[38;5;28;01mNone\u001b[39;00m\n\u001b[1;32m     64\u001b[0m \u001b[38;5;28;01mtry\u001b[39;00m:\n\u001b[0;32m---> 65\u001b[0m     \u001b[38;5;28;01mreturn\u001b[39;00m \u001b[43mfn\u001b[49m\u001b[43m(\u001b[49m\u001b[38;5;241;43m*\u001b[39;49m\u001b[43margs\u001b[49m\u001b[43m,\u001b[49m\u001b[43m \u001b[49m\u001b[38;5;241;43m*\u001b[39;49m\u001b[38;5;241;43m*\u001b[39;49m\u001b[43mkwargs\u001b[49m\u001b[43m)\u001b[49m\n\u001b[1;32m     66\u001b[0m \u001b[38;5;28;01mexcept\u001b[39;00m \u001b[38;5;167;01mException\u001b[39;00m \u001b[38;5;28;01mas\u001b[39;00m e:\n\u001b[1;32m     67\u001b[0m     filtered_tb \u001b[38;5;241m=\u001b[39m _process_traceback_frames(e\u001b[38;5;241m.\u001b[39m__traceback__)\n",
      "File \u001b[0;32m~/.conda/envs/research/lib/python3.11/site-packages/keras/src/engine/training.py:1798\u001b[0m, in \u001b[0;36mModel.fit\u001b[0;34m(self, x, y, batch_size, epochs, verbose, callbacks, validation_split, validation_data, shuffle, class_weight, sample_weight, initial_epoch, steps_per_epoch, validation_steps, validation_batch_size, validation_freq, max_queue_size, workers, use_multiprocessing)\u001b[0m\n\u001b[1;32m   1796\u001b[0m callbacks\u001b[38;5;241m.\u001b[39mon_epoch_begin(epoch)\n\u001b[1;32m   1797\u001b[0m \u001b[38;5;28;01mwith\u001b[39;00m data_handler\u001b[38;5;241m.\u001b[39mcatch_stop_iteration():\n\u001b[0;32m-> 1798\u001b[0m \u001b[43m    \u001b[49m\u001b[38;5;28;43;01mfor\u001b[39;49;00m\u001b[43m \u001b[49m\u001b[43mstep\u001b[49m\u001b[43m \u001b[49m\u001b[38;5;129;43;01min\u001b[39;49;00m\u001b[43m \u001b[49m\u001b[43mdata_handler\u001b[49m\u001b[38;5;241;43m.\u001b[39;49m\u001b[43msteps\u001b[49m\u001b[43m(\u001b[49m\u001b[43m)\u001b[49m\u001b[43m:\u001b[49m\n\u001b[1;32m   1799\u001b[0m \u001b[43m        \u001b[49m\u001b[38;5;28;43;01mwith\u001b[39;49;00m\u001b[43m \u001b[49m\u001b[43mtf\u001b[49m\u001b[38;5;241;43m.\u001b[39;49m\u001b[43mprofiler\u001b[49m\u001b[38;5;241;43m.\u001b[39;49m\u001b[43mexperimental\u001b[49m\u001b[38;5;241;43m.\u001b[39;49m\u001b[43mTrace\u001b[49m\u001b[43m(\u001b[49m\n\u001b[1;32m   1800\u001b[0m \u001b[43m            \u001b[49m\u001b[38;5;124;43m\"\u001b[39;49m\u001b[38;5;124;43mtrain\u001b[39;49m\u001b[38;5;124;43m\"\u001b[39;49m\u001b[43m,\u001b[49m\n\u001b[1;32m   1801\u001b[0m \u001b[43m            \u001b[49m\u001b[43mepoch_num\u001b[49m\u001b[38;5;241;43m=\u001b[39;49m\u001b[43mepoch\u001b[49m\u001b[43m,\u001b[49m\n\u001b[0;32m   (...)\u001b[0m\n\u001b[1;32m   1804\u001b[0m \u001b[43m            \u001b[49m\u001b[43m_r\u001b[49m\u001b[38;5;241;43m=\u001b[39;49m\u001b[38;5;241;43m1\u001b[39;49m\u001b[43m,\u001b[49m\n\u001b[1;32m   1805\u001b[0m \u001b[43m        \u001b[49m\u001b[43m)\u001b[49m\u001b[43m:\u001b[49m\n\u001b[1;32m   1806\u001b[0m \u001b[43m            \u001b[49m\u001b[43mcallbacks\u001b[49m\u001b[38;5;241;43m.\u001b[39;49m\u001b[43mon_train_batch_begin\u001b[49m\u001b[43m(\u001b[49m\u001b[43mstep\u001b[49m\u001b[43m)\u001b[49m\n",
      "File \u001b[0;32m~/.conda/envs/research/lib/python3.11/site-packages/keras/src/engine/data_adapter.py:1411\u001b[0m, in \u001b[0;36mDataHandler.steps\u001b[0;34m(self)\u001b[0m\n\u001b[1;32m   1409\u001b[0m \u001b[38;5;28;01mif\u001b[39;00m \u001b[38;5;28mself\u001b[39m\u001b[38;5;241m.\u001b[39m_insufficient_data:  \u001b[38;5;66;03m# Set by `catch_stop_iteration`.\u001b[39;00m\n\u001b[1;32m   1410\u001b[0m     \u001b[38;5;28;01mbreak\u001b[39;00m\n\u001b[0;32m-> 1411\u001b[0m original_spe \u001b[38;5;241m=\u001b[39m \u001b[38;5;28;43mself\u001b[39;49m\u001b[38;5;241;43m.\u001b[39;49m\u001b[43m_steps_per_execution\u001b[49m\u001b[38;5;241;43m.\u001b[39;49m\u001b[43mnumpy\u001b[49m\u001b[43m(\u001b[49m\u001b[43m)\u001b[49m\u001b[38;5;241;43m.\u001b[39;49m\u001b[43mitem\u001b[49m\u001b[43m(\u001b[49m\u001b[43m)\u001b[49m\n\u001b[1;32m   1412\u001b[0m can_run_full_execution \u001b[38;5;241m=\u001b[39m (\n\u001b[1;32m   1413\u001b[0m     original_spe \u001b[38;5;241m==\u001b[39m \u001b[38;5;241m1\u001b[39m\n\u001b[1;32m   1414\u001b[0m     \u001b[38;5;129;01mor\u001b[39;00m \u001b[38;5;28mself\u001b[39m\u001b[38;5;241m.\u001b[39m_inferred_steps \u001b[38;5;129;01mis\u001b[39;00m \u001b[38;5;28;01mNone\u001b[39;00m\n\u001b[1;32m   1415\u001b[0m     \u001b[38;5;129;01mor\u001b[39;00m \u001b[38;5;28mself\u001b[39m\u001b[38;5;241m.\u001b[39m_inferred_steps \u001b[38;5;241m-\u001b[39m \u001b[38;5;28mself\u001b[39m\u001b[38;5;241m.\u001b[39m_current_step \u001b[38;5;241m>\u001b[39m\u001b[38;5;241m=\u001b[39m original_spe\n\u001b[1;32m   1416\u001b[0m )\n\u001b[1;32m   1418\u001b[0m \u001b[38;5;28;01mif\u001b[39;00m can_run_full_execution:\n",
      "\u001b[0;31mKeyboardInterrupt\u001b[0m: "
     ]
    }
   ],
   "source": [
    "qq = \"qq\"\n",
    "qqq = \"qqq\"\n",
    "decay = \"qqq\"\n",
    "noise = False\n",
    "sigmoid = lambda x: 1. / (1. + np.exp(-x))\n",
    "feature_dims = 6\n",
    "parameters = 4\n",
    "    \n",
    "msic1 = []\n",
    "weight_list1 = []\n",
    "weight_list2 = []\n",
    "weight_list3 = []\n",
    "weight_list4 = []\n",
    "\n",
    "epsilon = 1e-4\n",
    "\n",
    "sigspace = np.logspace(-3, -1, 10)\n",
    "alpha = 0.5\n",
    "test = []\n",
    "tuple_rates_semiweak3 = {}\n",
    "scoreLossdict = {}\n",
    "\n",
    "w1 = round(random.uniform(0.5, 6.0),3)\n",
    "w2 = round(random.uniform(0.5, 6.0),3)\n",
    "w1,w2 = 2.577, 2.284\n",
    "\n",
    "for sigfrac in sigspace:\n",
    "    print(sigfrac, w1, w2)\n",
    "    \n",
    "    m1 = 3\n",
    "    m2 = 3\n",
    "    \n",
    "    semiweak_3prong = compileSemiWeakly3Prong(sigfrac, model_qq, model_qqq, feature_dims, parameters, m1, m2, w1, w2)\n",
    "    test_background = int(1/2 * len(x[0,0, decay, noise]) + 1)\n",
    "    train_reference = int(1/4 *len(x[0,0, decay, noise]))\n",
    "    train_data = int(1/4 * len(x[0,0, decay, noise]))\n",
    "    test_signal = int(1/2*len(x[m1,m2, decay, noise]))\n",
    "\n",
    "    #randomize signal events\n",
    "    # random_test_signal_length = random.randint(0, test_signal - 1)\n",
    "    N = int(1/4 * (len(x[0,0, decay, noise])))\n",
    "    print(f\"Number of 3 Pronged Evengs: {sigfrac * N *alpha}\")\n",
    "    print(f\"Number of 2 Pronged Evengs: {sigfrac * N *(1-alpha)}\")\n",
    "    \n",
    "    #mix both samples\n",
    "    signal_mixed = np.concatenate([x[m1, m2, decay, noise][int(test_signal):int(test_signal) + int(sigfrac * N * alpha)], x[m1, m2, qq, noise][int(test_signal):int(test_signal) + int(sigfrac * N * (1-alpha))]])\n",
    "    x_data_mixed = np.concatenate([x[0,0,decay, noise][test_background:],signal_mixed])\n",
    "    y_data_mixed = np.concatenate([np.zeros(train_reference),np.ones(train_data),np.ones(len(signal_mixed))])\n",
    "\n",
    "    X_train_, X_val_, Y_train_, Y_val_ = train_test_split(x_data_mixed, y_data_mixed, test_size=0.5, random_state = 42)\n",
    "\n",
    "    history3prong = semiweak_3prong.fit(X_train_[:,0:6], Y_train_, epochs=20,validation_data=(X_val_[:,0:6], Y_val_),batch_size=1024, verbose = 0)\n",
    "    print(m1,m2,semiweak_3prong.trainable_weights[0].numpy()[0][0],semiweak_3prong.trainable_weights[1].numpy()[0][0])\n",
    "\n",
    "    weight_list1+=[semiweak_3prong.trainable_weights[0].numpy()[0][0]]\n",
    "    weight_list2+=[semiweak_3prong.trainable_weights[1].numpy()[0][0]]\n",
    "    weight_list3+=[np.exp(semiweak_3prong.trainable_weights[2].numpy()[0][0])]\n",
    "    weight_list4+=[sigmoid(semiweak_3prong.trainable_weights[3].numpy()[0][0])]\n",
    "    print(\"Alpha: \", sigmoid(semiweak_3prong.trainable_weights[3].numpy()[0][0]))"
   ]
  },
  {
   "cell_type": "code",
   "execution_count": 36,
   "id": "bd93a607-d39e-4f43-a1aa-13c503fd25ad",
   "metadata": {
    "tags": []
   },
   "outputs": [
    {
     "data": {
      "text/plain": [
       "(0.0, 700.0)"
      ]
     },
     "execution_count": 36,
     "metadata": {},
     "output_type": "execute_result"
    },
    {
     "data": {
      "image/png": "[encoded data removed]",
      "text/plain": [
       "<Figure size 640x480 with 1 Axes>"
      ]
     },
     "metadata": {},
     "output_type": "display_data"
    }
   ],
   "source": [
    "plt.plot(sigspace,np.array(weight_list1)*100, label = f\"w1 {w1}\")\n",
    "plt.plot(sigspace,np.array(weight_list2)*100, label = f\"w2 {w2}\")\n",
    "plt.xscale(\"log\")\n",
    "plt.xlabel(\"S/B\")\n",
    "plt.ylabel(\"Fitted masses [GeV]\")\n",
    "plt.title(\"3 Prong Trainable Weights\")\n",
    "plt.axhline(m2 * 100,ls=\":\",color='orange', label = m2)\n",
    "plt.axhline(m1 * 100,ls=\":\",color='blue', label = m1)\n",
    "plt.legend()\n",
    "plt.ylim([0,700])"
   ]
  },
  {
   "cell_type": "code",
   "execution_count": 21,
   "id": "d991de9c-7371-4e57-92cc-5fa9c5cf0eea",
   "metadata": {
    "tags": []
   },
   "outputs": [
    {
     "name": "stdout",
     "output_type": "stream",
     "text": [
      "0.001 4.309 2.601\n",
      "5 1 4.481281 3.0272634\n",
      "0.0016681005372000592 4.309 2.601\n",
      "5 1 3.8599396 2.323116\n",
      "0.0027825594022071257 4.309 2.601\n",
      "5 1 4.2938533 3.004403\n",
      "0.004641588833612777 4.309 2.601\n",
      "5 1 4.247781 2.84452\n",
      "0.007742636826811269 4.309 2.601\n",
      "5 1 4.5453434 2.901943\n",
      "0.01291549665014884 4.309 2.601\n",
      "5 1 4.149795 2.8199232\n",
      "0.021544346900318832 4.309 2.601\n",
      "5 1 4.518403 2.7993476\n",
      "0.03593813663804626 4.309 2.601\n",
      "5 1 4.999776 2.5269625\n",
      "0.05994842503189409 4.309 2.601\n",
      "5 1 4.9156704 0.94713557\n",
      "0.1 4.309 2.601\n",
      "5 1 4.9616027 1.0014924\n"
     ]
    }
   ],
   "source": [
    "decay = \"qqq\"\n",
    "qq = \"qq\"\n",
    "noise = False\n",
    "sigmoid = lambda x: 1. / (1. + np.exp(-x))\n",
    "\n",
    "msic1_runs = []\n",
    "msic2_runs = []\n",
    "msic3_runs = []\n",
    "weight_list3_runs = []\n",
    "weight_list4_runs = []\n",
    "initial_weights_list_runs = []\n",
    "\n",
    "num_runs = 1\n",
    "\n",
    "for _ in range(num_runs):\n",
    "    \n",
    "    msic1 = []\n",
    "    msic2 = []\n",
    "    msic3 = []\n",
    "    weight_list1 = []\n",
    "    weight_list2 = []\n",
    "    weight_list3 = []\n",
    "    weight_list4 = []\n",
    "\n",
    "    sigspace = np.logspace(-3, -1, 10)\n",
    "\n",
    "    w1 = round(random.uniform(0.5, 6.0),3)\n",
    "    w2 = round(random.uniform(0.5, 6.0),3)\n",
    "    initial_weights_list_runs.append((w1, w2))\n",
    "\n",
    "    #print(w1, w2)\n",
    "    for sigfrac in sigspace:\n",
    "\n",
    "        #freeze both two pronged and three pronged prior models\n",
    "        for l in model_qq.layers:\n",
    "            l.trainable=False\n",
    "\n",
    "        for l in model_qqq.layers:\n",
    "            l.trainable=False\n",
    "\n",
    "        #sigfrac = 0.1\n",
    "        print(sigfrac, w1, w2)\n",
    "\n",
    "        #w1, w2 = 3.241, 3.649 \n",
    "\n",
    "        inputs_hold = tf.keras.Input(shape=(1,))\n",
    "        simple_model = Dense(1,use_bias = False,activation='relu',kernel_initializer=tf.keras.initializers.Constant(w1))(inputs_hold)\n",
    "        model3 = Model(inputs = inputs_hold, outputs = simple_model)\n",
    "\n",
    "        inputs_hold2 = tf.keras.Input(shape=(1,))\n",
    "        simple_model2 = Dense(1,use_bias = False,activation='relu',kernel_initializer=tf.keras.initializers.Constant(w2))(inputs_hold2)\n",
    "        model32 = Model(inputs = inputs_hold2, outputs = simple_model2)\n",
    "\n",
    "        inputs_hold3 = tf.keras.Input(shape=(1,))\n",
    "        simple_model3 = tf.exp(Dense(1,use_bias = False,activation='linear',kernel_initializer=tf.keras.initializers.Constant(-4))(inputs_hold3))\n",
    "        model33 = Model(inputs = inputs_hold3, outputs = simple_model3)\n",
    "\n",
    "        inputs_hold4 = tf.keras.Input(shape=(1,))\n",
    "        simple_model4 = Dense(1,use_bias = False,activation='sigmoid',kernel_initializer=tf.keras.initializers.Constant(1.))(inputs_hold4)\n",
    "        model34 = Model(inputs = inputs_hold4, outputs = simple_model4)\n",
    "\n",
    "        inputs = tf.keras.Input(shape=(6,))\n",
    "        inputs2 = tf.keras.layers.concatenate([inputs,model3(tf.ones_like(inputs)[:,0]),model32(tf.ones_like(inputs)[:,0])])\n",
    "        hidden_layer_1 = model_qq(inputs2)\n",
    "        hidden_layer_13 = model_qqq(inputs2)\n",
    "        LLR2 = hidden_layer_1 / (1.-hidden_layer_1+0.0001)\n",
    "        LLR3 = hidden_layer_13 / (1.-hidden_layer_13+0.0001)\n",
    "        #LLR_xs = 1.+ sigfrac*LLR3 - sigfrac\n",
    "        LLR_xs_fixed = 1 + model33(tf.ones_like(inputs)[:,0])*model34(tf.ones_like(inputs)[:,0]) * LLR3 + (1-model34(tf.ones_like(inputs)[:,0]))*LLR2*model33(tf.ones_like(inputs)[:,0])\n",
    "        #LLR_xs_fixed = 1 + model33(tf.ones_like(inputs)[:,0])*model34(tf.ones_like(inputs)[:,0]) * LLR3 + (1-model34(tf.ones_like(inputs)[:,0]))*LLR2*model33(tf.ones_like(inputs)[:,0]) - model33(tf.ones_like(inputs)[:,0])\n",
    "        ws = LLR_xs_fixed / (1.+LLR_xs_fixed+0.0001)\n",
    "        model_all2 = Model(inputs = inputs, outputs = ws)\n",
    "        model_all2.compile(loss='binary_crossentropy', optimizer=tf.keras.optimizers.Adam(learning_rate = 0.03))\n",
    "\n",
    "        m1 = 5\n",
    "        m2 = 1\n",
    "\n",
    "        test_background = int(1/2 * len(x[0,0, decay, noise]))\n",
    "        train_reference = int(1/4 *len(x[0,0, decay, noise]))\n",
    "        train_data = int(1/4 * len(x[0,0, decay, noise]))\n",
    "        test_signal = int(1/2*len(x[m1,m2, decay, noise]))\n",
    "\n",
    "        #randomize signal events\n",
    "        # random_test_signal_length = random.randint(0, test_signal - 1)\n",
    "        N = int(1/4 * (len(x[0,0, decay, noise])))\n",
    "        # signal = x[m1, m2, decay][random_test_signal_length:random_test_signal_length + int(sigfrac*N)]\n",
    "\n",
    "        #mix both samples\n",
    "        signal_mixed = np.concatenate([x[m1, m2, decay, noise][int(test_signal/2):int(test_signal/2) + int(sigfrac*(N/2))], x[m1, m2, qq, noise][int(test_signal/2):int(test_signal/2) + int(sigfrac*(N/2))]])\n",
    "        background_mixed = np.concatenate([x[0,0,decay, noise][:int(test_background/2)], x[0,0,qq, noise][:int(test_background/2)]])\n",
    "        \n",
    "        # x_data_ = np.concatenate([x[0,0,decay][test_background:],signal])\n",
    "        # y_data_ = np.concatenate([np.zeros(train_reference),np.ones(train_data),np.ones(len(signal))])\n",
    "        \n",
    "        x_data_mixed = np.concatenate([background_mixed,signal_mixed])\n",
    "        y_data_mixed = np.concatenate([np.zeros(train_reference),np.ones(train_data),np.ones(len(signal_mixed))])\n",
    "        \n",
    "        #noise?\n",
    "        # samples = np.shape(x_data_mixed)[0]\n",
    "        # random_samples = np.random.normal(0, 1, samples)\n",
    "\n",
    "        X_train_, X_val_, Y_train_, Y_val_ = train_test_split(x_data_mixed, y_data_mixed, test_size=0.5, random_state = 42)\n",
    "\n",
    "        myhistory_hack_ = model_all2.fit(X_train_[:,0:6], Y_train_, epochs=20,validation_data=(X_val_[:,0:6], Y_val_),batch_size=1024, verbose = 0)\n",
    "        print(m1,m2,model_all2.trainable_weights[0].numpy()[0][0],model_all2.trainable_weights[1].numpy()[0][0])\n",
    "\n",
    "        weight_list1+=[model_all2.trainable_weights[0].numpy()[0][0]]\n",
    "        weight_list2+=[model_all2.trainable_weights[1].numpy()[0][0]]\n",
    "        weight_list3+=[np.exp(model_all2.trainable_weights[2].numpy()[0][0])]\n",
    "        weight_list4+=[sigmoid(model_all2.trainable_weights[3].numpy()[0][0])]\n"
   ]
  },
  {
   "cell_type": "code",
   "execution_count": 22,
   "id": "7d5c3b6e-06d5-4c08-b7fb-14db3ec2bd7f",
   "metadata": {
    "tags": []
   },
   "outputs": [
    {
     "data": {
      "image/png": "[encoded data removed]",
      "text/plain": [
       "<Figure size 640x480 with 1 Axes>"
      ]
     },
     "metadata": {},
     "output_type": "display_data"
    }
   ],
   "source": [
    "plt.plot(sigspace, weight_list3,label=r\"$\\mu$\")\n",
    "plt.plot(sigspace, np.array(weight_list4),label=r\"$\\alpha$\")\n",
    "plt.plot(sigspace, sigspace,ls=\":\",color=\"black\")\n",
    "plt.plot(sigspace, [1] * 10, ls = \":\", color = \"black\")\n",
    "plt.title(\"3 Prong Ratios\")\n",
    "plt.xscale(\"log\")\n",
    "plt.yscale(\"log\")\n",
    "plt.legend()\n",
    "plt.show()"
   ]
  },
  {
   "cell_type": "code",
   "execution_count": 12,
   "id": "bb495cf8-fb39-4497-8b68-72ddc9f6f8ac",
   "metadata": {
    "tags": []
   },
   "outputs": [],
   "source": [
    "#Loop over signal injection amounts M\n",
    "#For a given signal injection amount, inject events according to N ~ Poission(M)\n",
    "#For a given N injected events, initialize the network with w ~ Uniform.  Do this k times.\n",
    "from utils import get_stuck_weights\n",
    "\n",
    "noise = True\n",
    "epsilon = 1e-4\n",
    "es = tf.keras.callbacks.EarlyStopping(monitor='val_loss', patience=10)\n",
    "#model_name = \"decent-sun-87qq\"\n",
    "model_name = \"easy-monkey-107qq_reduced\"\n",
    "model_qq = tf.keras.models.load_model(f\"/pscratch/sd/g/gupsingh/{model_name}\")\n",
    "\n",
    "# model_qq = tf.keras.models.load_model(\"/pscratch/sd/g/gupsingh/deep-forest-83qq\")\n",
    "# model_qqq = tf.keras.models.load_model(\"/pscratch/sd/g/gupsingh/breathless-flower-61qqq\")\n",
    "\n",
    "# model_qqq._name = \"model_qqq\"\n",
    "# for l in model_qqq.layers:\n",
    "#     l._name = f\"{l.name}_model_qqq\"\n",
    "def train_semiweak(feature_dims, m1, m2, parameters, injections, m_initializations, decay = \"qq\"):\n",
    "    maxsicandstd1 = {}\n",
    "    maxsicandstd2 = {}\n",
    "    msic1_runs = []\n",
    "    msic2_runs = []\n",
    "    std1_runs = []\n",
    "    std2_runs = []\n",
    "    score1_injections_raw_runs = []\n",
    "    score2_injections_raw_runs = []\n",
    "    weight_list1_runs = []\n",
    "    weight_list2_runs = []\n",
    "    weight_list3_runs = []\n",
    "    weight_list4_runs = []\n",
    "    initial_weights_runs = []\n",
    "    tuple_rates_semiweak = {}\n",
    "    tuple_rates_weak = {}\n",
    "\n",
    "    qq = \"qq\"\n",
    "    qqq = \"qqq\"\n",
    "    alpha = 0.5\n",
    "    test_signal = int(1/2*len(x[m1,m2, qq, noise]))\n",
    "\n",
    "    sigspace = np.logspace(-3.5, -1.3, 10)\n",
    "    for sigfrac in sigspace:\n",
    "        print(f\"At {sigfrac} for decay {decay}\")\n",
    "\n",
    "        initial_weights = []\n",
    "\n",
    "        msic1_median = []\n",
    "        msic2 = []\n",
    "        score1_injections = []\n",
    "        score2_injections = []\n",
    "        weight_list1_injections = []\n",
    "        weight_list2_injections = []\n",
    "        weight_list3_injections = []\n",
    "        weight_list4_injections = []\n",
    "\n",
    "        print(f\"---------------{sigfrac}---------------\")\n",
    "\n",
    "        # N ~ Poission(M) injected events\n",
    "        for injection in range(injections):\n",
    "            print(f\"Injecting N = {injections - injection} more times, currently on: N = {injection}\")\n",
    "\n",
    "            #randomized signal\n",
    "            random_test_signal_length = random.randint(0, test_signal - 1)\n",
    "            N = int(1/4 * (len(x[0,0, qq, noise])))\n",
    "            signal = x[m1, m2, qq, noise][random_test_signal_length:random_test_signal_length + int(sigfrac*N)]\n",
    "\n",
    "            score1_kruns = []\n",
    "            weight_list1_kruns = []\n",
    "            weight_list2_kruns = []\n",
    "            weight_list3_kruns = []\n",
    "            weight_list4_kruns = []\n",
    "            scoreLossdict = {}\n",
    "\n",
    "            print(f\"Ensembling {m_initializations} for Signal Fraction : {sigfrac}\")\n",
    "            for k in range(m_initializations):\n",
    "\n",
    "                w1 = round(random.uniform(0.5, 6),3)\n",
    "                w2 = round(random.uniform(0.5, 6),3)\n",
    "                initial_weights.append((w1, w2))\n",
    "\n",
    "                print(f\"Initialization: {w1} {w2}\")\n",
    "                \n",
    "                test_background = int(1/2 * len(x[0,0, qq, noise])+1)\n",
    "                train_reference = int(1/4 *len(x[0,0, qq, noise]))\n",
    "                train_data = int(1/4 * len(x[0,0, qq, noise]))\n",
    "                test_signal = int(1/2*len(x[m1,m2, qq, noise]))\n",
    "\n",
    "                if decay == \"qq\":\n",
    "                    model_semiweak = compileSemiWeakly(sigfrac, model_qq, feature_dims, parameters, m1, m2, w1, w2)\n",
    "                    \n",
    "                    x_data_ = np.concatenate([x[0,0, qq, noise][test_background:],signal])\n",
    "                    y_data_ = np.concatenate([np.zeros(train_reference),np.ones(train_data),np.ones(len(signal))])\n",
    "                    X_train_, X_val_, Y_train_, Y_val_ = train_test_split(x_data_, y_data_, test_size=0.5, random_state = 42)\n",
    "\n",
    "                if decay == \"qqq\":\n",
    "                    model_semiweak = compileSemiWeakly3Prong(sigfrac, model_qq, model_qqq, feature_dims, parameters, m1, m2, w1, w2)\n",
    "                    \n",
    "                    print(f\"Number of 3 Pronged Evengs: {sigfrac * N *alpha}\")\n",
    "                    print(f\"Number of 2 Pronged Evengs: {sigfrac * N *(1-alpha)}\")\n",
    "\n",
    "                    #mix both samples\n",
    "                    signal_mixed = np.concatenate([x[m1, m2, decay, noise][int(random_test_signal_length):int(random_test_signal_length) + int(sigfrac * N * alpha)], x[m1, m2, qq, noise][int(random_test_signal_length):int(random_test_signal_length) + int(sigfrac * N * (1-alpha))]])\n",
    "\n",
    "                    x_data_mixed = np.concatenate([x[0,0, qq, noise][test_background:],signal_mixed])\n",
    "                    y_data_mixed = np.concatenate([np.zeros(train_reference),np.ones(train_data),np.ones(len(signal_mixed))])\n",
    "\n",
    "                    X_train_, X_val_, Y_train_, Y_val_ = train_test_split(x_data_mixed, y_data_mixed, test_size=0.5, random_state = 42)\n",
    "\n",
    "                history_semiweak = model_semiweak.fit(X_train_[:,0:feature_dims], Y_train_, epochs=1000,\n",
    "                                                          validation_data=(X_val_[:,0:feature_dims], Y_val_),batch_size=1024, verbose = 0, callbacks = [es])\n",
    "\n",
    "                print(f\"m1: {m1}\",f\"m2: {m2}\", f\"w1: {model_semiweak.trainable_weights[0].numpy()[0][0]}\", f\"w2: {model_semiweak.trainable_weights[1].numpy()[0][0]}\")\n",
    "\n",
    "                weight_list1_kruns+=[model_semiweak.trainable_weights[0].numpy()[0][0]]\n",
    "                weight_list2_kruns+=[model_semiweak.trainable_weights[1].numpy()[0][0]]\n",
    "                weight_list3_kruns+=[model_semiweak.trainable_weights[2].numpy()[0][0]]\n",
    "\n",
    "                if decay == \"qqq\":\n",
    "                    weight_list4_kruns+=[model_semiweak.trainable_weights[3].numpy()[0][0]]\n",
    "                \n",
    "                #for testing purposes swap\n",
    "                if (int(np.round(w1)), int(np.round(w2))) == (m1, m2):\n",
    "                    #if the masses don't swap\n",
    "                    scores = model_semiweak.predict(np.concatenate([x[0,0, qq, noise][0:test_background],x[m1,m2, qq, noise][0:test_signal]]),batch_size=1024)\n",
    "                elif (int(np.round(w1)), int(np.round(w2))) == (m2, m1):\n",
    "                    #if they do swap\n",
    "                    print(\"Swapped\")\n",
    "                    scores = model_semiweak.predict(np.concatenate([x[0,0, qq, noise][0:test_background],x[m2,m1, qq, noise][0:test_signal]]),batch_size=1024)\n",
    "                else:\n",
    "                    #if it doesn't get the masses at all (low s/b)\n",
    "                    scores = model_semiweak.predict(np.concatenate([x[0,0, qq, noise][0:test_background],x[m1,m2, qq, noise][0:test_signal]]),batch_size=1024)\n",
    "                score1_kruns.append(scores)\n",
    "                scoreLossdict[(min(history_semiweak.history[\"loss\"]))] = scores\n",
    "                #scoreLossdict[(sigfrac, injections, k)] = ((min(history_semiweak.history[\"loss\"])), scores)\n",
    "            \n",
    "            #kruns finished\n",
    "            weight_list1_injections.append(weight_list1_kruns)\n",
    "            weight_list2_injections.append(weight_list2_kruns)\n",
    "            weight_list3_injections.append(weight_list3_kruns)\n",
    "            if decay == \"qqq\":\n",
    "                weight_list4_injections.append(weight_list4_kruns)\n",
    "\n",
    "            #now average over the k classifiers runs\n",
    "            y = np.concatenate([np.zeros(test_background),np.ones(test_signal)])\n",
    "\n",
    "            #get the lowest scores from dictionary of losses and scores\n",
    "            top_items = sorted(scoreLossdict.items())[:3]\n",
    "            lowest_losses = [x[0] for x in top_items]\n",
    "            top_scores = [scoreLossdict[loss] for loss in lowest_losses]\n",
    "            fpr, tpr, _ = metrics.roc_curve(y, np.median(top_scores, axis = 0))\n",
    "            tuple_rates_semiweak[(sigfrac, injection)] = (fpr, tpr)\n",
    "\n",
    "            epsilon = 1e-4\n",
    "\n",
    "            msic1_kmedian = np.max(tpr/np.sqrt(fpr+epsilon))\n",
    "            score1_injections.append(score1_kruns)\n",
    "            msic1_median.append(msic1_kmedian)\n",
    "            print(f\" --- msic1_median on injection {injection}: {msic1_kmedian} ---\")\n",
    "\n",
    "            #weakly supervised only inject no k classifiers (out of mass initialization loop) no averaging to be done yet\n",
    "            model_CWOLA = compileCWOLA(feature_dims, m1, m2)\n",
    "            history_CWOLA = model_CWOLA.fit(X_train_[:,0:feature_dims], Y_train_, epochs=1000,validation_data=(X_val_[:,0:feature_dims], Y_val_),batch_size=1024, verbose = 0, callbacks = [es])\n",
    "\n",
    "            scores2 = model_CWOLA.predict(np.concatenate([x[0,0, qq, noise][0:test_background],x[m1,m2, qq, noise][0:test_signal]]),batch_size=1024)\n",
    "            score2_injections.append(scores2)\n",
    "\n",
    "            y2 = np.concatenate([np.zeros(test_background),np.ones(test_signal)])\n",
    "            fpr2, tpr2, _ = metrics.roc_curve(y2, scores2)\n",
    "            msic2.append(np.max(tpr2/np.sqrt(fpr2+epsilon)))\n",
    "            tuple_rates_weak[(sigfrac, injection)] = (fpr2, tpr2)\n",
    "\n",
    "        msic1_runs.append(np.median(msic1_median))\n",
    "        print(f\" --- msic1_runs for signal fraction {sigfrac}: {np.median(msic1_median)} ---\")\n",
    "        std1_runs.append(np.std(msic1_median))\n",
    "        print(f\" --- msic1_runs_std for signal fraction {sigfrac}: {np.std(msic1_median)} ---\")\n",
    "\n",
    "        print(f\" --- msic2_runs for signal fraction {sigfrac}: {np.median(msic2)} ---\")\n",
    "        std2_runs.append(np.std(msic2))\n",
    "        print(f\" --- msic2_runs_std for signal fraction {sigfrac}: {np.std(msic2)} ---\")\n",
    "        msic2_runs.append(np.median(msic2))\n",
    "\n",
    "        score1_injections_raw_runs.append(score1_injections)\n",
    "        score2_injections_raw_runs.append(score2_injections)\n",
    "        weight_list1_runs.append(weight_list1_injections)\n",
    "        weight_list2_runs.append(weight_list2_injections)\n",
    "        weight_list3_runs.append(weight_list3_injections)\n",
    "        if decay == \"qqq\":\n",
    "            weight_list4_runs.append(weight_list4_injections)\n",
    "\n",
    "        # maxsicandstd1[sigfrac] = (np.median(msic1_median), np.std(msic1_median))\n",
    "        # maxsicandstd2[sigfrac] = (np.median(msic2), np.std(msic2))\n",
    "        \n",
    "        if len(x[0,0, qq, noise]) > 121352:\n",
    "            extra = True\n",
    "            \n",
    "        extra_str = \"_extra\" if extra else \"\"\n",
    "        # np.save(f\"data/maxsicandstd1_notebook{float(m1)}{float(m2)}_{decay}{extra}.npy\", maxsicandstd1)\n",
    "        # np.save(f\"data/maxsicandstd2_notebook{float(m1)}{float(m2)}_{decay}{extra}.npy\", maxsicandstd2)\n",
    "\n",
    "    stuck_weights = get_stuck_weights(sigspace, injections, m_initializations, m1, m2, weight_list1_runs, weight_list2_runs, decay)\n",
    "    np.save(f\"data/stuck_weights_{float(m1)}{float(m2)}_{decay}{extra_str}{model_name}23.npy\", stuck_weights)\n",
    "    np.save(f\"data/tuplerates_{float(m1)}{float(m2)}_{decay}{extra_str}{model_name}23.npy\", tuple_rates_semiweak)\n",
    "    np.save(f\"data/tuplerates2_{float(m1)}{float(m2)}_{decay}{extra_str}{model_name}23.npy\", tuple_rates_weak)\n",
    "    np.save(f\"data//scoreLossdict{float(m1)}{float(m2)}_{decay}{extra_str}{model_name}23.npy\", scoreLossdict)\n",
    "\n",
    "    # np.save(f\"data/msic1_median_notebook{float(m1)}{float(m2)}_{decay}{extra}.npy\", maxsicandstd1)\n",
    "    # np.save(f\"data/msic2_median_notebook{float(m1)}{float(m2)}_{decay}{extra}.npy\", maxsicandstd2)\n",
    "    # np.save(f\"data/std1_median_notebook{float(m1)}{float(m2)}_{decay}{extra}.npy\", std1_runs)\n",
    "    # np.save(f\"data/std2_median_notebook{float(m1)}{float(m2)}_{decay}{extra}.npy\", std2_runs)\n",
    "    np.save(f\"data/weight_list1_runs_{float(m1)}{float(m2)}_{decay}{extra_str}{model_name}23.npy\", weight_list1_runs)\n",
    "    np.save(f\"data/weight_list2_runs_{float(m1)}{float(m2)}_{decay}{extra_str}{model_name}23.npy\", weight_list2_runs)\n",
    "    np.save(f\"data/weight_list3_runs_{float(m1)}{float(m2)}_{decay}{extra_str}{model_name}23.npy\", weight_list3_runs)\n",
    "\n",
    "    np.save(f\"data/score1_injections_raw_runs_{float(m1)}{float(m2)}_{decay}{extra_str}{model_name}23.npy\", score1_injections_raw_runs)\n",
    "    np.save(f\"data/score2_injections_raw_runs_{float(m1)}{float(m2)}_{decay}{extra_str}{model_name}23.npy\", score2_injections_raw_runs)\n",
    "    if decay == \"qqq\":\n",
    "        np.save(f\"data/weight_list4_runs_{float(m1)}{float(m2)}_{decay}{extra_str}{model_name}23.npy\", weight_list4_runs)\n",
    "    np.save(f\"data/initial_weights_runs_{float(m1)}{float(m2)}_{decay}{extra_str}{model_name}23.npy\", initial_weights_runs)"
   ]
  },
  {
   "cell_type": "code",
   "execution_count": 19,
   "id": "bdbcd650-9dd5-4284-8382-554a993e9fde",
   "metadata": {
    "tags": []
   },
   "outputs": [],
   "source": [
    "def get_stuck_weights(sigspace, injections, m_initializations, m1, m2, weight_list1, weight_list2, decay):\n",
    "    # weight_list1 = np.load(f\"data/weight_list1_runs_notebook{float(m1)}{float(m2)}_{decay}.npy\", allow_pickle = True)\n",
    "    # weight_list2 = np.load(f\"data/weight_list2_runs_notebook{float(m1)}{float(m2)}_{decay}.npy\", allow_pickle = True)\n",
    "    \n",
    "    missed = {}\n",
    "\n",
    "    found_one = 0\n",
    "    found_both = 0\n",
    "    found_none = 0\n",
    "\n",
    "    for sigfrac in range(len(sigspace)):\n",
    "\n",
    "        for injection in range(injections):\n",
    "\n",
    "            m1_diff = abs(np.array(np.ones(len(weight_list1[sigfrac][injection]))*m1) - np.array(weight_list1[sigfrac][injection]))\n",
    "            m2_diff = abs(np.array(np.ones(len(weight_list2[sigfrac][injection]))*m2) - np.array(weight_list2[sigfrac][injection]))\n",
    "\n",
    "            count = 0\n",
    "            for diff1, diff2 in zip(m1_diff, m2_diff):\n",
    "                case1 = diff1 > 0.2 and diff2 > 0.2\n",
    "                case2 = diff1 < 0.2 and diff2 < 0.2\n",
    "                case3 = diff1 > 0.2 and diff2 < 0.2 or diff1 < 0.2 and diff2 > 0.2\n",
    "\n",
    "                if case1:\n",
    "                    found_none+=1\n",
    "                    missed[(sigspace[sigfrac], injection)] = (weight_list1[sigfrac][injection][count], weight_list2[sigfrac][injection][count])\n",
    "                    print(np.array(weight_list1[sigfrac][injection][count]), np.array(weight_list2[sigfrac][injection][count]))\n",
    "                elif case2:\n",
    "                    found_both+=1\n",
    "                elif case3:\n",
    "                    found_one+=1\n",
    "                    missed[(sigspace[sigfrac], injection)] = (weight_list1[sigfrac][injection][count], weight_list2[sigfrac][injection][count])\n",
    "                    print(np.array(weight_list1[sigfrac][injection][count]), np.array(weight_list2[sigfrac][injection][count]))\n",
    "                count+=1\n",
    "                \n",
    "    print(f\"Found Both: {found_both}\")\n",
    "    print(f\"Found None: {found_none}\")\n",
    "    print(f\"Found One: {found_one}\")\n",
    "            \n",
    "    return missed"
   ]
  },
  {
   "cell_type": "code",
   "execution_count": 8,
   "id": "a9ea0252-c481-4600-921c-4f2c1858f73b",
   "metadata": {},
   "outputs": [],
   "source": [
    "model_qq = tf.keras.models.load_model(\"/pscratch/sd/g/gupsingh/decent-sun-87qq\")\n",
    "#model_qqq = tf.keras.models.load_model(\"/pscratch/sd/g/gupsingh/pumpkin-strudel-100qqq\")\n",
    "#model_qqq._name = \"model_qqq\""
   ]
  },
  {
   "cell_type": "code",
   "execution_count": 30,
   "id": "12b4a37d-4465-4e38-be45-b733d33a0f4c",
   "metadata": {
    "tags": []
   },
   "outputs": [],
   "source": [
    "import time\n",
    "\n",
    "def eval_loss_landscape(feature_dims, parameters, m1, m2, step, decay):\n",
    "    qq = decay\n",
    "    noise = True\n",
    "    alpha = 0.5\n",
    "    model_name = \"deft-snow-103qqTrue20\"\n",
    "\n",
    "    # for l in model_qqq.layers:\n",
    "    #     l._name = f\"{l.name}_model_qqq\"\n",
    "    start_time = time.time()\n",
    "    #check if loss dictionary exists, if it does load it, if not create empty one\n",
    "    dir_path = os.getcwd()\n",
    "    \n",
    "    #if using extra QCD background\n",
    "    if len(x[0,0,qq, noise]) > 121352:\n",
    "        extra = True\n",
    "        \n",
    "    extra_str = \"_extra\" if extra else \"\"\n",
    "    file_name = f\"data/landscapes/z_{feature_dims}_{parameters}_{m1}{m2}_{step}_{decay}{extra_str}_{model_name}_{noise}.npy\"\n",
    "    file_path = os.path.join(dir_path, file_name)\n",
    "    \n",
    "    if os.path.exists(file_path):\n",
    "        z = np.load(file_name, allow_pickle = True).item()\n",
    "    else:\n",
    "        print(\"Dictionary doesn't exist, creating one...\")\n",
    "        z = {}\n",
    "    \n",
    "    losses_list = []\n",
    "    epsilon = 1e-4\n",
    "    sigspace = np.logspace(-3.5, -1.3, 10)\n",
    "    \n",
    "    start = 0.5\n",
    "    end = 6\n",
    "    step = step\n",
    "\n",
    "    weight_list = np.arange(start, end + step, step)\n",
    "    \n",
    "    for sigfrac in sigspace:\n",
    "        print(\"Signal Fraction: \", sigfrac)\n",
    "        count = 0\n",
    "        for w1 in weight_list:\n",
    "            for w2 in weight_list:\n",
    "                if count % 100 == 0:\n",
    "                    print(f\"reached {w1} {w2}\")\n",
    "                count+=1\n",
    "                #print(w1, w2)\n",
    "                \n",
    "                m1 = m1\n",
    "                m2 = m2\n",
    "                \n",
    "                #if computed this mass pair, break\n",
    "                key = (sigfrac, m1, m2, decay)\n",
    "                if key in z:\n",
    "                    break\n",
    "                \n",
    "                test_background = int(1/2 *len(x[0,0, qq, noise])+1)\n",
    "                train_background = int(1/4 * len(x[0,0,qq, noise]))\n",
    "                train_data = int(1/4 * len(x[0,0,qq, noise]))\n",
    "                train_reference = int(1/4 * len(x[0,0,qq, noise]))\n",
    "                #signal\n",
    "                test_signal_length = int(1/2*len(x[m1,m2,qq, noise]))\n",
    "\n",
    "                if decay == \"qq\":\n",
    "                    model_qq = tf.keras.models.load_model(f\"/pscratch/sd/g/gupsingh/{model_name}\")\n",
    "                    model_semiweak = compileSemiWeakly(sigfrac, model_qq, feature_dims, parameters, m1, m2, w1, w2)\n",
    "                    \n",
    "                    #randomize signal events\n",
    "                    random_test_signal_length = random.randint(0, test_signal_length - 1)\n",
    "                    N = int(1/4 * (len(x[0,0,qq, noise])))\n",
    "                    signal = x[m1, m2,qq, noise][random_test_signal_length:random_test_signal_length + int(sigfrac*N)]\n",
    "                    \n",
    "                    x_data_ = np.concatenate([x[0,0,qq, noise][test_background:],signal])\n",
    "                    y_data_ = np.concatenate([np.zeros(train_reference),np.ones(train_data),np.ones(len(signal))])\n",
    "                    \n",
    "                    X_train_, X_val_, Y_train_, Y_val_ = train_test_split(x_data_, y_data_, test_size=0.5, random_state = 42)\n",
    "\n",
    "\n",
    "                if decay == \"qqq\":\n",
    "                    model_semiweak = compileSemiWeakly3Prong(model_qq, model_qqq, feature_dims, parameters, m1, m2, w1, w2)\n",
    "                    \n",
    "                    print(f\"Number of 3 Pronged Evengs: {sigfrac * N *alpha}\")\n",
    "                    print(f\"Number of 2 Pronged Evengs: {sigfrac * N *(1-alpha)}\")\n",
    "\n",
    "                    #mix both samples\n",
    "                    signal_mixed = np.concatenate([x[m1, m2, decay, noise][int(random_test_signal_length):int(random_test_signal_length) + int(sigfrac * N * alpha)], x[m1, m2, qq, noise][int(random_test_signal_length):int(random_test_signal_length) + int(sigfrac * N * (1-alpha))]])\n",
    "\n",
    "                    x_data_mixed = np.concatenate([x[0,0, qq, noise][test_background:],signal_mixed])\n",
    "                    y_data_mixed = np.concatenate([np.zeros(train_reference),np.ones(train_data),np.ones(len(signal_mixed))])\n",
    "\n",
    "                    X_train_, X_val_, Y_train_, Y_val_ = train_test_split(x_data_mixed, y_data_mixed, test_size=0.5, random_state = 42)\n",
    "\n",
    "                with tf.device('/GPU:0'):\n",
    "                    loss = model_semiweak.evaluate(X_val_, Y_val_, verbose = 0)\n",
    "                losses_list.append(loss)\n",
    "                \n",
    "        end_time = time.time()\n",
    "        elapsed_time = round(end_time - start_time, 3)\n",
    "        print(f\"Time taken: {elapsed_time} seconds\")\n",
    "        if key in z:\n",
    "            print(f\"Loss Landscape for m1 = {m1} and m2 = {m2} already exists for {sigfrac} signal fraction and decay {decay}\")\n",
    "        else:\n",
    "            z[sigfrac, m1, m2, decay] = losses_list\n",
    "            losses_list = []\n",
    "            np.save(file_name, z)\n",
    "    end_time_total = time.time()\n",
    "\n",
    "    elapsed_time_total = round(end_time_total - start_time, 3)\n",
    "    print(f\"Total elapsed time: {elapsed_time_total} seconds\")"
   ]
  },
  {
   "cell_type": "code",
   "execution_count": null,
   "id": "204aba21-1774-41d8-b049-ac0fe98e1cf1",
   "metadata": {
    "tags": []
   },
   "outputs": [
    {
     "name": "stdout",
     "output_type": "stream",
     "text": [
      "Dictionary doesn't exist, creating one...\n",
      "Signal Fraction:  0.00031622776601683794\n",
      "reached 0.5 0.5\n",
      "reached 1.5 2.5\n",
      "reached 2.5 4.5\n",
      "reached 3.75 0.75\n",
      "reached 4.75 2.75\n",
      "reached 5.75 4.75\n",
      "Time taken: 3188.168 seconds\n",
      "Signal Fraction:  0.0005551935914386209\n",
      "reached 0.5 0.5\n",
      "reached 1.5 2.5\n",
      "reached 2.5 4.5\n",
      "reached 3.75 0.75\n",
      "reached 4.75 2.75\n",
      "reached 5.75 4.75\n",
      "Time taken: 6429.011 seconds\n",
      "Signal Fraction:  0.0009747402255566064\n",
      "reached 0.5 0.5\n",
      "reached 1.5 2.5\n",
      "reached 2.5 4.5\n",
      "reached 3.75 0.75\n"
     ]
    }
   ],
   "source": [
    "#from landscapes import eval_loss_landscape\n",
    "eval_loss_landscape(23, 3, 5, 1, 0.25, \"qq\")"
   ]
  },
  {
   "cell_type": "code",
   "execution_count": null,
   "id": "08a9159c-e955-43ee-8037-bca2af82971f",
   "metadata": {
    "scrolled": true,
    "tags": []
   },
   "outputs": [
    {
     "name": "stdout",
     "output_type": "stream",
     "text": [
      "At 0.00031622776601683794 for decay qq\n",
      "---------------0.00031622776601683794---------------\n",
      "Injecting N = 10 more times, currently on: N = 0\n",
      "Ensembling 5 for Signal Fraction : 0.00031622776601683794\n",
      "Initialization: 5.107 1.094\n"
     ]
    },
    {
     "name": "stderr",
     "output_type": "stream",
     "text": [
      "2024-04-03 17:43:03.059257: I external/local_xla/xla/service/service.cc:168] XLA service 0x7fc1f0d22350 initialized for platform CUDA (this does not guarantee that XLA will be used). Devices:\n",
      "2024-04-03 17:43:03.059273: I external/local_xla/xla/service/service.cc:176]   StreamExecutor device (0): NVIDIA A100-SXM4-40GB, Compute Capability 8.0\n",
      "2024-04-03 17:43:03.059277: I external/local_xla/xla/service/service.cc:176]   StreamExecutor device (1): NVIDIA A100-SXM4-40GB, Compute Capability 8.0\n",
      "2024-04-03 17:43:03.059281: I external/local_xla/xla/service/service.cc:176]   StreamExecutor device (2): NVIDIA A100-SXM4-40GB, Compute Capability 8.0\n",
      "2024-04-03 17:43:03.059283: I external/local_xla/xla/service/service.cc:176]   StreamExecutor device (3): NVIDIA A100-SXM4-40GB, Compute Capability 8.0\n",
      "2024-04-03 17:43:03.066177: I tensorflow/compiler/mlir/tensorflow/utils/dump_mlir_util.cc:269] disabling MLIR crash reproducer, set env var `MLIR_CRASH_REPRODUCER_DIRECTORY` to enable.\n",
      "2024-04-03 17:43:03.115435: I external/local_xla/xla/stream_executor/cuda/cuda_dnn.cc:454] Loaded cuDNN version 8800\n",
      "WARNING: All log messages before absl::InitializeLog() is called are written to STDERR\n",
      "I0000 00:00:1712191383.200269 1679235 device_compiler.h:186] Compiled cluster using XLA!  This line is logged at most once for the lifetime of the process.\n"
     ]
    },
    {
     "name": "stdout",
     "output_type": "stream",
     "text": [
      "m1: 3 m2: 3 w1: 4.254751682281494 w2: 0.9278690218925476\n",
      "395/395 [==============================] - 0s 840us/step\n",
      "Initialization: 0.717 2.73\n",
      "m1: 3 m2: 3 w1: 0.6104693412780762 w2: 0.580784261226654\n",
      "395/395 [==============================] - 0s 841us/step\n",
      "Initialization: 2.16 5.352\n",
      "m1: 3 m2: 3 w1: 0.8664553165435791 w2: 4.508456707000732\n",
      "395/395 [==============================] - 0s 856us/step\n",
      "Initialization: 5.122 0.986\n",
      "m1: 3 m2: 3 w1: 4.344664573669434 w2: 0.9837345480918884\n",
      "395/395 [==============================] - 0s 880us/step\n",
      "Initialization: 0.727 5.372\n",
      "m1: 3 m2: 3 w1: 0.8149259090423584 w2: 4.462723731994629\n",
      "395/395 [==============================] - 0s 833us/step\n",
      " --- msic1_median on injection 0: 1.5232233105510322 ---\n",
      "395/395 [==============================] - 0s 696us/step\n",
      "Injecting N = 9 more times, currently on: N = 1\n",
      "Ensembling 5 for Signal Fraction : 0.00031622776601683794\n",
      "Initialization: 3.403 5.495\n",
      "m1: 3 m2: 3 w1: 2.670538902282715 w2: 4.4095683097839355\n",
      "395/395 [==============================] - 0s 902us/step\n",
      "Initialization: 4.188 5.199\n",
      "m1: 3 m2: 3 w1: 3.8342044353485107 w2: 4.797454357147217\n",
      "395/395 [==============================] - 0s 852us/step\n",
      "Initialization: 3.693 3.374\n",
      "m1: 3 m2: 3 w1: 2.113861083984375 w2: 1.9016588926315308\n",
      "395/395 [==============================] - 0s 833us/step\n",
      "Initialization: 0.934 2.262\n",
      "m1: 3 m2: 3 w1: 0.5851143598556519 w2: 3.208662986755371\n",
      "395/395 [==============================] - 1s 837us/step\n",
      "Initialization: 4.033 3.081\n",
      "m1: 3 m2: 3 w1: 4.277522563934326 w2: 2.757246971130371\n",
      "395/395 [==============================] - 0s 843us/step\n",
      " --- msic1_median on injection 1: 5.429871721760393 ---\n",
      "395/395 [==============================] - 0s 686us/step\n",
      "Injecting N = 8 more times, currently on: N = 2\n",
      "Ensembling 5 for Signal Fraction : 0.00031622776601683794\n",
      "Initialization: 5.684 4.864\n",
      "m1: 3 m2: 3 w1: 4.774023056030273 w2: 3.395341396331787\n",
      "395/395 [==============================] - 0s 866us/step\n",
      "Initialization: 1.054 1.09\n",
      "m1: 3 m2: 3 w1: 0.6427104473114014 w2: 0.5036011934280396\n",
      "395/395 [==============================] - 0s 837us/step\n",
      "Initialization: 3.227 3.036\n",
      "m1: 3 m2: 3 w1: 0.6094542145729065 w2: 0.5629518032073975\n",
      "395/395 [==============================] - 0s 840us/step\n",
      "Initialization: 0.795 3.424\n",
      "m1: 3 m2: 3 w1: 0.6621057391166687 w2: 0.6397887468338013\n",
      "395/395 [==============================] - 0s 833us/step\n",
      "Initialization: 4.006 3.639\n",
      "m1: 3 m2: 3 w1: 0.6683709621429443 w2: 0.6129405498504639\n",
      "395/395 [==============================] - 0s 832us/step\n",
      " --- msic1_median on injection 2: 0.9999500037496877 ---\n",
      "395/395 [==============================] - 0s 692us/step\n",
      "Injecting N = 7 more times, currently on: N = 3\n",
      "Ensembling 5 for Signal Fraction : 0.00031622776601683794\n",
      "Initialization: 4.361 4.751\n",
      "m1: 3 m2: 3 w1: 3.979395866394043 w2: 4.10455846786499\n",
      "395/395 [==============================] - 0s 836us/step\n",
      "Initialization: 1.071 3.245\n",
      "m1: 3 m2: 3 w1: 0.7941733002662659 w2: 3.5726821422576904\n",
      "395/395 [==============================] - 0s 890us/step\n",
      "Initialization: 5.887 2.471\n",
      "m1: 3 m2: 3 w1: 4.242156505584717 w2: 2.6721832752227783\n",
      "395/395 [==============================] - 0s 852us/step\n",
      "Initialization: 1.858 1.378\n",
      "m1: 3 m2: 3 w1: 0.6391794085502625 w2: 0.6205055713653564\n",
      "395/395 [==============================] - 0s 842us/step\n",
      "Initialization: 3.202 2.273\n",
      "m1: 3 m2: 3 w1: 2.5632402896881104 w2: 2.588768243789673\n",
      "395/395 [==============================] - 0s 890us/step\n",
      " --- msic1_median on injection 3: 3.998045657660142 ---\n",
      "395/395 [==============================] - 0s 704us/step\n",
      "Injecting N = 6 more times, currently on: N = 4\n",
      "Ensembling 5 for Signal Fraction : 0.00031622776601683794\n",
      "Initialization: 2.335 5.406\n",
      "m1: 3 m2: 3 w1: 0.7034422755241394 w2: 4.568480014801025\n",
      "395/395 [==============================] - 0s 848us/step\n",
      "Initialization: 3.111 0.892\n",
      "m1: 3 m2: 3 w1: 0.6571526527404785 w2: 0.784468948841095\n",
      "395/395 [==============================] - 0s 871us/step\n",
      "Initialization: 2.211 0.833\n",
      "m1: 3 m2: 3 w1: 0.5753224492073059 w2: 0.6963257193565369\n",
      "395/395 [==============================] - 0s 883us/step\n",
      "Initialization: 4.18 1.123\n",
      "m1: 3 m2: 3 w1: 3.2982988357543945 w2: 0.944568932056427\n",
      "395/395 [==============================] - 0s 834us/step\n",
      "Initialization: 1.893 4.39\n",
      "m1: 3 m2: 3 w1: 3.932295083999634 w2: 4.6583051681518555\n",
      "395/395 [==============================] - 0s 894us/step\n",
      " --- msic1_median on injection 4: 2.135076066123715 ---\n",
      "395/395 [==============================] - 0s 700us/step\n",
      "Injecting N = 5 more times, currently on: N = 5\n",
      "Ensembling 5 for Signal Fraction : 0.00031622776601683794\n",
      "Initialization: 2.675 3.515\n",
      "m1: 3 m2: 3 w1: 2.860489845275879 w2: 4.438530445098877\n",
      "395/395 [==============================] - 0s 894us/step\n",
      "Initialization: 5.862 2.022\n",
      "m1: 3 m2: 3 w1: 5.958731651306152 w2: 0.538300096988678\n",
      "395/395 [==============================] - 0s 836us/step\n",
      "Initialization: 3.452 2.662\n",
      "m1: 3 m2: 3 w1: 0.5664873719215393 w2: 0.5188708305358887\n",
      "395/395 [==============================] - 0s 819us/step\n",
      "Initialization: 2.392 5.341\n",
      "m1: 3 m2: 3 w1: 0.8181712627410889 w2: 4.367283344268799\n",
      "395/395 [==============================] - 0s 871us/step\n",
      "Initialization: 1.372 1.861\n",
      "m1: 3 m2: 3 w1: 1.0453883409500122 w2: 1.7549915313720703\n",
      "395/395 [==============================] - 0s 852us/step\n",
      " --- msic1_median on injection 5: 2.59447651883406 ---\n",
      "395/395 [==============================] - 0s 698us/step\n",
      "Injecting N = 4 more times, currently on: N = 6\n",
      "Ensembling 5 for Signal Fraction : 0.00031622776601683794\n",
      "Initialization: 4.465 1.063\n",
      "m1: 3 m2: 3 w1: 3.7126779556274414 w2: 1.0787415504455566\n",
      "395/395 [==============================] - 0s 880us/step\n",
      "Initialization: 1.516 0.541\n",
      "m1: 3 m2: 3 w1: 0.5425092577934265 w2: 0.5151572227478027\n",
      "395/395 [==============================] - 0s 888us/step\n",
      "Initialization: 3.093 2.316\n",
      "m1: 3 m2: 3 w1: 0.6094087362289429 w2: 0.6098211407661438\n",
      "395/395 [==============================] - 0s 855us/step\n",
      "Initialization: 4.305 3.927\n",
      "m1: 3 m2: 3 w1: 3.8091113567352295 w2: 5.380660533905029\n",
      "395/395 [==============================] - 0s 865us/step\n",
      "Initialization: 3.46 0.609\n",
      "m1: 3 m2: 3 w1: 3.5398848056793213 w2: 0.946545422077179\n",
      "395/395 [==============================] - 0s 864us/step\n",
      " --- msic1_median on injection 6: 2.2959035367980434 ---\n",
      "395/395 [==============================] - 0s 680us/step\n",
      "Injecting N = 3 more times, currently on: N = 7\n",
      "Ensembling 5 for Signal Fraction : 0.00031622776601683794\n",
      "Initialization: 0.516 3.807\n",
      "m1: 3 m2: 3 w1: 0.9726772904396057 w2: 4.225763320922852\n",
      "395/395 [==============================] - 0s 885us/step\n",
      "Initialization: 5.917 2.394\n",
      "m1: 3 m2: 3 w1: 5.794349670410156 w2: 1.1930177211761475\n",
      "395/395 [==============================] - 0s 842us/step\n",
      "Initialization: 5.21 1.271\n",
      "m1: 3 m2: 3 w1: 5.917551517486572 w2: 0.5028963088989258\n",
      "395/395 [==============================] - 0s 837us/step\n",
      "Initialization: 1.392 3.67\n",
      "m1: 3 m2: 3 w1: 0.9924052357673645 w2: 4.138438701629639\n",
      "395/395 [==============================] - 0s 835us/step\n",
      "Initialization: 4.899 2.81\n",
      "m1: 3 m2: 3 w1: 2.013475179672241 w2: 1.9439893960952759\n",
      "395/395 [==============================] - 0s 832us/step\n",
      " --- msic1_median on injection 7: 2.4996331226424555 ---\n",
      "395/395 [==============================] - 0s 688us/step\n",
      "Injecting N = 2 more times, currently on: N = 8\n",
      "Ensembling 5 for Signal Fraction : 0.00031622776601683794\n",
      "Initialization: 0.962 2.634\n",
      "m1: 3 m2: 3 w1: 0.7364815473556519 w2: 4.497819900512695\n",
      "395/395 [==============================] - 0s 852us/step\n",
      "Initialization: 2.512 2.798\n",
      "m1: 3 m2: 3 w1: 0.6002746224403381 w2: 0.647806704044342\n",
      "395/395 [==============================] - 0s 860us/step\n",
      "Initialization: 4.004 1.246\n",
      "m1: 3 m2: 3 w1: 3.5389764308929443 w2: 1.0172975063323975\n",
      "395/395 [==============================] - 0s 864us/step\n",
      "Initialization: 5.469 3.634\n",
      "m1: 3 m2: 3 w1: 4.96311092376709 w2: 5.00127649307251\n",
      "395/395 [==============================] - 0s 862us/step\n",
      "Initialization: 5.036 5.279\n",
      "m1: 3 m2: 3 w1: 4.700650215148926 w2: 3.738511800765991\n",
      "395/395 [==============================] - 0s 851us/step\n",
      " --- msic1_median on injection 8: 2.160239502309599 ---\n",
      "395/395 [==============================] - 0s 702us/step\n",
      "Injecting N = 1 more times, currently on: N = 9\n",
      "Ensembling 5 for Signal Fraction : 0.00031622776601683794\n",
      "Initialization: 1.25 3.802\n",
      "m1: 3 m2: 3 w1: 0.8125649690628052 w2: 4.329878330230713\n",
      "395/395 [==============================] - 0s 890us/step\n",
      "Initialization: 1.937 2.777\n",
      "m1: 3 m2: 3 w1: 0.616001307964325 w2: 0.7410312294960022\n",
      "395/395 [==============================] - 0s 834us/step\n",
      "Initialization: 1.116 3.424\n",
      "m1: 3 m2: 3 w1: 0.96854567527771 w2: 3.7123422622680664\n",
      "395/395 [==============================] - 0s 827us/step\n",
      "Initialization: 3.763 2.014\n",
      "m1: 3 m2: 3 w1: 0.8601667284965515 w2: 0.862368643283844\n",
      "395/395 [==============================] - 0s 869us/step\n",
      "Initialization: 2.452 3.966\n",
      "m1: 3 m2: 3 w1: 0.857846200466156 w2: 4.797351360321045\n",
      "395/395 [==============================] - 0s 867us/step\n",
      " --- msic1_median on injection 9: 1.732553858694972 ---\n",
      "395/395 [==============================] - 0s 703us/step\n",
      " --- msic1_runs for signal fraction 0.00031622776601683794: 2.228071519553821 ---\n",
      " --- msic1_runs_std for signal fraction 0.00031622776601683794: 1.2209455036066315 ---\n",
      " --- msic2_runs for signal fraction 0.00031622776601683794: 0.9999604087050039 ---\n",
      " --- msic2_runs_std for signal fraction 0.00031622776601683794: 1.619651264794847e-05 ---\n",
      "At 0.0005551935914386209 for decay qq\n",
      "---------------0.0005551935914386209---------------\n",
      "Injecting N = 10 more times, currently on: N = 0\n",
      "Ensembling 5 for Signal Fraction : 0.0005551935914386209\n",
      "Initialization: 0.607 5.722\n",
      "m1: 3 m2: 3 w1: 0.9718544483184814 w2: 5.541789531707764\n",
      "395/395 [==============================] - 0s 852us/step\n",
      "Initialization: 4.649 4.57\n",
      "m1: 3 m2: 3 w1: 0.8145008683204651 w2: 5.167875289916992\n",
      "395/395 [==============================] - 0s 838us/step\n",
      "Initialization: 3.148 5.468\n",
      "m1: 3 m2: 3 w1: 5.558989524841309 w2: 5.542387962341309\n",
      "395/395 [==============================] - 0s 828us/step\n",
      "Initialization: 0.899 2.775\n",
      "m1: 3 m2: 3 w1: 1.0727434158325195 w2: 3.0218639373779297\n",
      "395/395 [==============================] - 0s 846us/step\n",
      "Initialization: 5.126 4.145\n",
      "m1: 3 m2: 3 w1: 3.9772932529449463 w2: 4.120527744293213\n",
      "395/395 [==============================] - 0s 890us/step\n",
      " --- msic1_median on injection 0: 2.084369921391315 ---\n",
      "395/395 [==============================] - 0s 696us/step\n",
      "Injecting N = 9 more times, currently on: N = 1\n",
      "Ensembling 5 for Signal Fraction : 0.0005551935914386209\n",
      "Initialization: 4.212 3.809\n",
      "m1: 3 m2: 3 w1: 2.6855921745300293 w2: 4.147793769836426\n",
      "395/395 [==============================] - 0s 862us/step\n",
      "Initialization: 5.528 1.339\n",
      "m1: 3 m2: 3 w1: 5.738356590270996 w2: 1.6282929182052612\n",
      "395/395 [==============================] - 0s 842us/step\n",
      "Initialization: 2.603 4.707\n",
      "m1: 3 m2: 3 w1: 1.9812343120574951 w2: 1.9178169965744019\n",
      "395/395 [==============================] - 0s 836us/step\n",
      "Initialization: 0.635 5.547\n",
      "m1: 3 m2: 3 w1: 0.9849668145179749 w2: 5.2807416915893555\n",
      "395/395 [==============================] - 0s 835us/step\n",
      "Initialization: 1.33 2.203\n",
      "m1: 3 m2: 3 w1: 2.1469638347625732 w2: 2.917407989501953\n",
      "395/395 [==============================] - 0s 838us/step\n",
      " --- msic1_median on injection 1: 5.717372554568899 ---\n",
      "395/395 [==============================] - 0s 703us/step\n",
      "Injecting N = 8 more times, currently on: N = 2\n",
      "Ensembling 5 for Signal Fraction : 0.0005551935914386209\n",
      "Initialization: 5.074 3.138\n",
      "m1: 3 m2: 3 w1: 3.041205644607544 w2: 4.615803241729736\n",
      "395/395 [==============================] - 0s 858us/step\n",
      "Initialization: 5.724 5.548\n",
      "m1: 3 m2: 3 w1: 5.716028213500977 w2: 5.63339900970459\n",
      "395/395 [==============================] - 0s 889us/step\n",
      "Initialization: 3.524 3.64\n",
      "m1: 3 m2: 3 w1: 3.1527843475341797 w2: 2.746081590652466\n",
      "395/395 [==============================] - 0s 822us/step\n",
      "Initialization: 5.47 1.695\n",
      "m1: 3 m2: 3 w1: 3.21758770942688 w2: 1.2827502489089966\n",
      "395/395 [==============================] - 0s 831us/step\n",
      "Initialization: 3.297 2.097\n",
      "m1: 3 m2: 3 w1: 1.5151528120040894 w2: 3.2863481044769287\n",
      "395/395 [==============================] - 0s 840us/step\n",
      " --- msic1_median on injection 2: 10.957960686764524 ---\n",
      "395/395 [==============================] - 0s 697us/step\n",
      "Injecting N = 7 more times, currently on: N = 3\n",
      "Ensembling 5 for Signal Fraction : 0.0005551935914386209\n",
      "Initialization: 5.841 2.737\n",
      "m1: 3 m2: 3 w1: 5.834397792816162 w2: 1.6345326900482178\n",
      "395/395 [==============================] - 0s 884us/step\n",
      "Initialization: 2.353 3.739\n",
      "m1: 3 m2: 3 w1: 4.320136547088623 w2: 2.761204957962036\n",
      "395/395 [==============================] - 0s 858us/step\n",
      "Initialization: 5.99 5.439\n",
      "m1: 3 m2: 3 w1: 5.421243667602539 w2: 5.124929904937744\n",
      "395/395 [==============================] - 0s 882us/step\n",
      "Initialization: 4.424 3.518\n",
      "m1: 3 m2: 3 w1: 4.069364547729492 w2: 4.166884422302246\n",
      "395/395 [==============================] - 0s 858us/step\n",
      "Initialization: 2.129 2.147\n",
      "m1: 3 m2: 3 w1: 0.8905773162841797 w2: 0.739500880241394\n",
      "395/395 [==============================] - 0s 841us/step\n",
      " --- msic1_median on injection 3: 1.6553791744910837 ---\n",
      "395/395 [==============================] - 0s 716us/step\n",
      "Injecting N = 6 more times, currently on: N = 4\n",
      "Ensembling 5 for Signal Fraction : 0.0005551935914386209\n",
      "Initialization: 1.442 5.138\n",
      "m1: 3 m2: 3 w1: 0.9394159317016602 w2: 5.217242240905762\n",
      "395/395 [==============================] - 0s 845us/step\n",
      "Initialization: 4.809 4.499\n",
      "m1: 3 m2: 3 w1: 4.268261909484863 w2: 4.200523853302002\n",
      "395/395 [==============================] - 0s 885us/step\n",
      "Initialization: 1.815 3.718\n",
      "m1: 3 m2: 3 w1: 1.6656248569488525 w2: 3.1392364501953125\n",
      "395/395 [==============================] - 0s 873us/step\n",
      "Initialization: 1.763 1.11\n",
      "m1: 3 m2: 3 w1: 1.885628581047058 w2: 1.311383605003357\n",
      "395/395 [==============================] - 0s 849us/step\n",
      "Initialization: 3.274 1.196\n",
      "m1: 3 m2: 3 w1: 3.8237855434417725 w2: 3.3633010387420654\n",
      "395/395 [==============================] - 0s 844us/step\n",
      " --- msic1_median on injection 4: 3.254113447626263 ---\n",
      "395/395 [==============================] - 0s 719us/step\n",
      "Injecting N = 5 more times, currently on: N = 5\n",
      "Ensembling 5 for Signal Fraction : 0.0005551935914386209\n",
      "Initialization: 1.031 1.989\n",
      "m1: 3 m2: 3 w1: 0.4904012382030487 w2: 0.4938396215438843\n",
      "395/395 [==============================] - 0s 892us/step\n",
      "Initialization: 3.01 3.937\n",
      "m1: 3 m2: 3 w1: 1.9940885305404663 w2: 1.5649231672286987\n",
      "395/395 [==============================] - 0s 860us/step\n",
      "Initialization: 4.308 3.632\n",
      "m1: 3 m2: 3 w1: 4.037656784057617 w2: 4.046359539031982\n",
      "395/395 [==============================] - 0s 890us/step\n",
      "Initialization: 2.991 2.456\n",
      "m1: 3 m2: 3 w1: 1.8084392547607422 w2: 2.920671224594116\n",
      "395/395 [==============================] - 0s 839us/step\n",
      "Initialization: 4.238 0.907\n",
      "m1: 3 m2: 3 w1: 2.6229395866394043 w2: 3.0011696815490723\n",
      "395/395 [==============================] - 0s 887us/step\n",
      " --- msic1_median on injection 5: 8.206651094359781 ---\n",
      "395/395 [==============================] - 0s 723us/step\n",
      "Injecting N = 4 more times, currently on: N = 6\n",
      "Ensembling 5 for Signal Fraction : 0.0005551935914386209\n",
      "Initialization: 1.834 2.439\n",
      "m1: 3 m2: 3 w1: 0.6280209422111511 w2: 0.7689735889434814\n",
      "395/395 [==============================] - 0s 864us/step\n",
      "Initialization: 3.803 2.359\n",
      "m1: 3 m2: 3 w1: 4.164119243621826 w2: 1.1060954332351685\n",
      "395/395 [==============================] - 0s 854us/step\n",
      "Initialization: 4.449 2.087\n",
      "m1: 3 m2: 3 w1: 2.8984692096710205 w2: 0.568206787109375\n",
      "395/395 [==============================] - 0s 830us/step\n",
      "Initialization: 3.57 4.559\n",
      "m1: 3 m2: 3 w1: 1.0077253580093384 w2: 0.9100971817970276\n",
      "395/395 [==============================] - 0s 860us/step\n",
      "Initialization: 2.908 3.559\n",
      "m1: 3 m2: 3 w1: 3.4093523025512695 w2: 2.6349430084228516\n",
      "395/395 [==============================] - 0s 830us/step\n",
      " --- msic1_median on injection 6: 4.379587035842458 ---\n",
      "395/395 [==============================] - 0s 696us/step\n",
      "Injecting N = 3 more times, currently on: N = 7\n",
      "Ensembling 5 for Signal Fraction : 0.0005551935914386209\n",
      "Initialization: 1.632 4.489\n",
      "m1: 3 m2: 3 w1: 2.246638059616089 w2: 1.866338849067688\n",
      "395/395 [==============================] - 0s 863us/step\n",
      "Initialization: 5.158 2.466\n",
      "m1: 3 m2: 3 w1: 5.6862382888793945 w2: 1.8686410188674927\n",
      "395/395 [==============================] - 0s 867us/step\n",
      "Initialization: 0.884 3.954\n",
      "m1: 3 m2: 3 w1: 0.894081175327301 w2: 5.313386917114258\n",
      "395/395 [==============================] - 0s 858us/step\n",
      "Initialization: 5.088 4.608\n",
      "m1: 3 m2: 3 w1: 5.2884392738342285 w2: 2.423168420791626\n",
      "395/395 [==============================] - 0s 897us/step\n",
      "Initialization: 1.775 2.408\n",
      "m1: 3 m2: 3 w1: 1.7514129877090454 w2: 1.749210000038147\n",
      "395/395 [==============================] - 0s 842us/step\n",
      " --- msic1_median on injection 7: 2.0030443052443063 ---\n",
      "395/395 [==============================] - 0s 700us/step\n",
      "Injecting N = 2 more times, currently on: N = 8\n",
      "Ensembling 5 for Signal Fraction : 0.0005551935914386209\n",
      "Initialization: 5.514 5.112\n",
      "m1: 3 m2: 3 w1: 4.835495948791504 w2: 3.0576508045196533\n",
      "395/395 [==============================] - 0s 886us/step\n",
      "Initialization: 1.99 5.322\n",
      "m1: 3 m2: 3 w1: 0.7706302404403687 w2: 5.08801794052124\n",
      "395/395 [==============================] - 0s 839us/step\n",
      "Initialization: 5.359 1.93\n",
      "m1: 3 m2: 3 w1: 4.474643230438232 w2: 2.6731600761413574\n",
      "395/395 [==============================] - 0s 923us/step\n",
      "Initialization: 2.155 3.935\n",
      "m1: 3 m2: 3 w1: 2.8760907649993896 w2: 4.494119644165039\n",
      "395/395 [==============================] - 0s 856us/step\n",
      "Initialization: 2.519 0.845\n",
      "m1: 3 m2: 3 w1: 3.0522892475128174 w2: 0.8952082991600037\n",
      "395/395 [==============================] - 0s 870us/step\n",
      " --- msic1_median on injection 8: 5.698375569809285 ---\n",
      "395/395 [==============================] - 0s 707us/step\n",
      "Injecting N = 1 more times, currently on: N = 9\n",
      "Ensembling 5 for Signal Fraction : 0.0005551935914386209\n",
      "Initialization: 1.112 5.612\n",
      "m1: 3 m2: 3 w1: 1.0602635145187378 w2: 5.288249969482422\n",
      "395/395 [==============================] - 0s 837us/step\n",
      "Initialization: 5.71 5.529\n",
      "m1: 3 m2: 3 w1: 5.41142463684082 w2: 5.939052104949951\n",
      "395/395 [==============================] - 0s 832us/step\n",
      "Initialization: 4.947 4.121\n",
      "m1: 3 m2: 3 w1: 4.500811576843262 w2: 4.126160621643066\n",
      "395/395 [==============================] - 0s 851us/step\n",
      "Initialization: 3.378 4.666\n",
      "m1: 3 m2: 3 w1: 2.6154608726501465 w2: 5.811814785003662\n",
      "395/395 [==============================] - 0s 890us/step\n",
      "Initialization: 5.198 0.786\n",
      "m1: 3 m2: 3 w1: 5.130978584289551 w2: 1.258236050605774\n",
      "395/395 [==============================] - 0s 875us/step\n",
      " --- msic1_median on injection 9: 1.6985589094297748 ---\n",
      "395/395 [==============================] - 0s 682us/step\n",
      " --- msic1_runs for signal fraction 0.0005551935914386209: 3.81685024173436 ---\n",
      " --- msic1_runs_std for signal fraction 0.0005551935914386209: 2.9647325470572707 ---\n",
      " --- msic2_runs for signal fraction 0.0005551935914386209: 0.9999568128228153 ---\n",
      " --- msic2_runs_std for signal fraction 0.0005551935914386209: 3.168674593379077e-05 ---\n",
      "At 0.0009747402255566064 for decay qq\n",
      "---------------0.0009747402255566064---------------\n",
      "Injecting N = 10 more times, currently on: N = 0\n",
      "Ensembling 5 for Signal Fraction : 0.0009747402255566064\n",
      "Initialization: 1.612 1.769\n",
      "m1: 3 m2: 3 w1: 0.5944197177886963 w2: 3.138397693634033\n",
      "395/395 [==============================] - 0s 838us/step\n",
      "Initialization: 2.908 3.801\n",
      "m1: 3 m2: 3 w1: 3.008951187133789 w2: 3.108424186706543\n",
      "395/395 [==============================] - 0s 831us/step\n",
      "Initialization: 5.335 2.264\n",
      "m1: 3 m2: 3 w1: 0.9595451354980469 w2: 1.5572813749313354\n",
      "395/395 [==============================] - 0s 846us/step\n",
      "Initialization: 5.0 5.647\n",
      "m1: 3 m2: 3 w1: 4.710186004638672 w2: 3.618436098098755\n",
      "395/395 [==============================] - 0s 837us/step\n",
      "Initialization: 5.854 3.569\n",
      "m1: 3 m2: 3 w1: 5.070413589477539 w2: 4.820467948913574\n",
      "395/395 [==============================] - 0s 835us/step\n",
      " --- msic1_median on injection 0: 6.311931595163301 ---\n",
      "395/395 [==============================] - 0s 677us/step\n",
      "Injecting N = 9 more times, currently on: N = 1\n",
      "Ensembling 5 for Signal Fraction : 0.0009747402255566064\n",
      "Initialization: 3.205 2.964\n",
      "m1: 3 m2: 3 w1: 3.0768275260925293 w2: 3.0619444847106934\n",
      "395/395 [==============================] - 0s 846us/step\n",
      "Initialization: 2.925 5.639\n",
      "m1: 3 m2: 3 w1: 2.6749210357666016 w2: 2.7014479637145996\n",
      "395/395 [==============================] - 0s 827us/step\n",
      "Initialization: 2.154 1.115\n",
      "m1: 3 m2: 3 w1: 0.6674827337265015 w2: 3.0115017890930176\n",
      "395/395 [==============================] - 0s 882us/step\n",
      "Initialization: 2.839 3.115\n",
      "m1: 3 m2: 3 w1: 0.7700951099395752 w2: 3.1676390171051025\n",
      "395/395 [==============================] - 0s 830us/step\n",
      "Initialization: 0.863 2.648\n",
      "m1: 3 m2: 3 w1: 0.7891449928283691 w2: 3.588089942932129\n",
      "395/395 [==============================] - 0s 887us/step\n",
      " --- msic1_median on injection 1: 4.144262234259863 ---\n",
      "395/395 [==============================] - 0s 691us/step\n",
      "Injecting N = 8 more times, currently on: N = 2\n",
      "Ensembling 5 for Signal Fraction : 0.0009747402255566064\n",
      "Initialization: 4.207 2.92\n",
      "m1: 3 m2: 3 w1: 3.982936143875122 w2: 3.9427995681762695\n",
      "395/395 [==============================] - 0s 862us/step\n",
      "Initialization: 4.685 4.064\n",
      "m1: 3 m2: 3 w1: 2.7452306747436523 w2: 2.677570343017578\n",
      "395/395 [==============================] - 0s 904us/step\n",
      "Initialization: 5.056 4.222\n",
      "m1: 3 m2: 3 w1: 5.014325141906738 w2: 5.918646335601807\n",
      "395/395 [==============================] - 0s 823us/step\n",
      "Initialization: 4.868 4.481\n",
      "m1: 3 m2: 3 w1: 4.768924236297607 w2: 3.733827829360962\n",
      "395/395 [==============================] - 0s 852us/step\n",
      "Initialization: 3.334 5.603\n",
      "m1: 3 m2: 3 w1: 0.5289725065231323 w2: 2.891526937484741\n",
      "395/395 [==============================] - 0s 877us/step\n",
      " --- msic1_median on injection 2: 2.938874049399148 ---\n",
      "395/395 [==============================] - 0s 700us/step\n",
      "Injecting N = 7 more times, currently on: N = 3\n",
      "Ensembling 5 for Signal Fraction : 0.0009747402255566064\n",
      "Initialization: 5.427 3.654\n",
      "m1: 3 m2: 3 w1: 2.8495054244995117 w2: 2.9354636669158936\n",
      "395/395 [==============================] - 0s 874us/step\n",
      "Initialization: 2.801 1.729\n",
      "m1: 3 m2: 3 w1: 0.5548060536384583 w2: 1.1041449308395386\n",
      "395/395 [==============================] - 0s 900us/step\n",
      "Initialization: 2.904 3.121\n",
      "m1: 3 m2: 3 w1: 4.760801315307617 w2: 3.2056334018707275\n",
      "395/395 [==============================] - 0s 864us/step\n",
      "Initialization: 1.024 2.154\n",
      "m1: 3 m2: 3 w1: 0.6141021847724915 w2: 0.6044730544090271\n",
      "395/395 [==============================] - 0s 899us/step\n",
      "Initialization: 5.655 3.254\n",
      "m1: 3 m2: 3 w1: 3.1328682899475098 w2: 3.034261703491211\n",
      "395/395 [==============================] - 0s 849us/step\n",
      " --- msic1_median on injection 3: 14.822011733113953 ---\n",
      "395/395 [==============================] - 0s 699us/step\n",
      "Injecting N = 6 more times, currently on: N = 4\n",
      "Ensembling 5 for Signal Fraction : 0.0009747402255566064\n",
      "Initialization: 3.354 1.688\n",
      "m1: 3 m2: 3 w1: 5.6195783615112305 w2: 1.5720165967941284\n",
      "395/395 [==============================] - 0s 844us/step\n",
      "Initialization: 2.596 4.023\n",
      "m1: 3 m2: 3 w1: 1.9053443670272827 w2: 1.9100615978240967\n",
      "395/395 [==============================] - 0s 826us/step\n",
      "Initialization: 5.1 5.349\n",
      "m1: 3 m2: 3 w1: 5.147210597991943 w2: 4.917372226715088\n",
      "395/395 [==============================] - 0s 857us/step\n",
      "Initialization: 3.9 2.196\n",
      "m1: 3 m2: 3 w1: 2.077155113220215 w2: 2.087827444076538\n",
      "395/395 [==============================] - 0s 901us/step\n",
      "Initialization: 5.834 3.791\n",
      "m1: 3 m2: 3 w1: 2.885352849960327 w2: 2.779106855392456\n",
      "395/395 [==============================] - 0s 834us/step\n",
      " --- msic1_median on injection 4: 5.920111233065592 ---\n",
      "395/395 [==============================] - 0s 707us/step\n",
      "Injecting N = 5 more times, currently on: N = 5\n",
      "Ensembling 5 for Signal Fraction : 0.0009747402255566064\n",
      "Initialization: 2.465 2.24\n",
      "m1: 3 m2: 3 w1: 2.6535568237304688 w2: 0.4931890368461609\n",
      "395/395 [==============================] - 0s 850us/step\n",
      "Initialization: 1.592 3.467\n",
      "m1: 3 m2: 3 w1: 0.49735721945762634 w2: 0.6640141606330872\n",
      "395/395 [==============================] - 0s 830us/step\n",
      "Initialization: 5.876 2.864\n",
      "m1: 3 m2: 3 w1: 5.726329803466797 w2: 0.8319740891456604\n",
      "395/395 [==============================] - 0s 902us/step\n",
      "Initialization: 2.237 2.679\n",
      "m1: 3 m2: 3 w1: 0.7657294869422913 w2: 3.3457226753234863\n",
      "395/395 [==============================] - 0s 834us/step\n",
      "Initialization: 4.048 3.292\n",
      "m1: 3 m2: 3 w1: 4.053259372711182 w2: 3.9527320861816406\n",
      "395/395 [==============================] - 0s 866us/step\n",
      " --- msic1_median on injection 5: 3.1151552821131165 ---\n",
      "395/395 [==============================] - 0s 697us/step\n",
      "Injecting N = 4 more times, currently on: N = 6\n",
      "Ensembling 5 for Signal Fraction : 0.0009747402255566064\n",
      "Initialization: 4.29 0.906\n",
      "m1: 3 m2: 3 w1: 3.1568808555603027 w2: 1.1333364248275757\n",
      "395/395 [==============================] - 0s 867us/step\n",
      "Initialization: 3.069 5.125\n",
      "m1: 3 m2: 3 w1: 4.034304618835449 w2: 3.9840729236602783\n",
      "395/395 [==============================] - 0s 840us/step\n",
      "Initialization: 1.49 4.09\n",
      "m1: 3 m2: 3 w1: 0.8980623483657837 w2: 5.348384380340576\n",
      "395/395 [==============================] - 0s 837us/step\n",
      "Initialization: 0.817 4.356\n",
      "m1: 3 m2: 3 w1: 0.7488735914230347 w2: 4.997200965881348\n",
      "395/395 [==============================] - 0s 882us/step\n",
      "Initialization: 4.077 4.037\n",
      "m1: 3 m2: 3 w1: 4.834466457366943 w2: 3.7813477516174316\n",
      "395/395 [==============================] - 0s 892us/step\n",
      " --- msic1_median on injection 6: 1.5421274714989235 ---\n",
      "395/395 [==============================] - 0s 725us/step\n",
      "Injecting N = 3 more times, currently on: N = 7\n",
      "Ensembling 5 for Signal Fraction : 0.0009747402255566064\n",
      "Initialization: 5.858 1.015\n",
      "m1: 3 m2: 3 w1: 5.242223262786865 w2: 1.1107734441757202\n",
      "395/395 [==============================] - 0s 893us/step\n",
      "Initialization: 1.164 4.159\n",
      "m1: 3 m2: 3 w1: 0.8363392949104309 w2: 0.8536655306816101\n",
      "395/395 [==============================] - 0s 844us/step\n",
      "Initialization: 5.372 5.08\n",
      "m1: 3 m2: 3 w1: 5.865628719329834 w2: 5.32963752746582\n",
      "395/395 [==============================] - 0s 863us/step\n",
      "Initialization: 4.805 2.44\n",
      "m1: 3 m2: 3 w1: 3.39721941947937 w2: 2.250852108001709\n",
      "395/395 [==============================] - 0s 889us/step\n",
      "Initialization: 2.827 3.239\n",
      "m1: 3 m2: 3 w1: 2.402470827102661 w2: 2.932466745376587\n",
      "395/395 [==============================] - 0s 882us/step\n",
      " --- msic1_median on injection 7: 1.278431623712803 ---\n",
      "395/395 [==============================] - 0s 720us/step\n",
      "Injecting N = 2 more times, currently on: N = 8\n",
      "Ensembling 5 for Signal Fraction : 0.0009747402255566064\n",
      "Initialization: 1.138 0.877\n",
      "m1: 3 m2: 3 w1: 2.148770570755005 w2: 2.2461965084075928\n",
      "395/395 [==============================] - 0s 865us/step\n",
      "Initialization: 2.267 3.123\n",
      "m1: 3 m2: 3 w1: 3.0772387981414795 w2: 3.1753830909729004\n",
      "395/395 [==============================] - 0s 866us/step\n",
      "Initialization: 5.701 1.22\n",
      "m1: 3 m2: 3 w1: 5.64495849609375 w2: 1.015466332435608\n",
      "395/395 [==============================] - 0s 839us/step\n",
      "Initialization: 4.403 5.868\n",
      "m1: 3 m2: 3 w1: 5.277650833129883 w2: 5.287705898284912\n",
      "395/395 [==============================] - 0s 845us/step\n",
      "Initialization: 5.028 4.356\n",
      "m1: 3 m2: 3 w1: 2.781723737716675 w2: 2.846111536026001\n",
      "395/395 [==============================] - 0s 851us/step\n",
      " --- msic1_median on injection 8: 6.573336938742885 ---\n",
      "395/395 [==============================] - 0s 716us/step\n",
      "Injecting N = 1 more times, currently on: N = 9\n",
      "Ensembling 5 for Signal Fraction : 0.0009747402255566064\n",
      "Initialization: 5.713 1.018\n",
      "m1: 3 m2: 3 w1: 5.581080436706543 w2: 0.7280428409576416\n",
      "395/395 [==============================] - 0s 846us/step\n",
      "Initialization: 2.267 2.378\n",
      "m1: 3 m2: 3 w1: 0.9874083399772644 w2: 0.9239362478256226\n",
      "395/395 [==============================] - 0s 871us/step\n",
      "Initialization: 0.523 4.96\n",
      "m1: 3 m2: 3 w1: 0.7799447178840637 w2: 5.026110649108887\n",
      "395/395 [==============================] - 0s 837us/step\n",
      "Initialization: 5.739 3.306\n"
     ]
    }
   ],
   "source": [
    "feature_dims = 21\n",
    "m1 = 3\n",
    "m2 = 3\n",
    "parameters = 3\n",
    "injections = 10\n",
    "m_initializations = 5\n",
    "decay = \"qq\"\n",
    "train_semiweak(feature_dims, m1, m2, parameters, injections, m_initializations, decay = decay)"
   ]
  },
  {
   "cell_type": "code",
   "execution_count": null,
   "id": "9c1cb6f6-4477-426e-9924-00680f81ac78",
   "metadata": {},
   "outputs": [],
   "source": []
  }
 ],
 "metadata": {
  "kernelspec": {
   "display_name": "gupEnviornment",
   "language": "python",
   "name": "research"
  },
  "language_info": {
   "codemirror_mode": {
    "name": "ipython",
    "version": 3
   },
   "file_extension": ".py",
   "mimetype": "text/x-python",
   "name": "python",
   "nbconvert_exporter": "python",
   "pygments_lexer": "ipython3",
   "version": "3.11.7"
  }
 },
 "nbformat": 4,
 "nbformat_minor": 5
}
