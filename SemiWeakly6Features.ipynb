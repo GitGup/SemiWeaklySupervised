{
 "cells": [
  {
   "cell_type": "code",
   "execution_count": 1,
   "id": "ffffb324-ca98-4d22-96d1-a1485b89d69e",
   "metadata": {
    "tags": []
   },
   "outputs": [],
   "source": [
    "import numpy as np\n",
    "import matplotlib.pyplot as plt\n",
    "import pandas as pd\n",
    "import tensorflow as tf\n",
    "import random\n",
    "import os\n",
    "\n",
    "#tensorflow keras imports\n",
    "from sklearn.model_selection import train_test_split\n",
    "from sklearn import metrics\n",
    "\n",
    "from tensorflow.keras.layers import Input, Dense, BatchNormalization\n",
    "from tensorflow.keras.models import Model, Sequential\n",
    "from tensorflow.keras.models import model_from_json\n",
    "from tensorflow.keras.callbacks import EarlyStopping"
   ]
  },
  {
   "cell_type": "code",
   "execution_count": 2,
   "id": "c86e145d-b2fa-4e32-91e4-8b7a368aacab",
   "metadata": {
    "tags": []
   },
   "outputs": [
    {
     "name": "stdout",
     "output_type": "stream",
     "text": [
      "[PhysicalDevice(name='/physical_device:GPU:0', device_type='GPU')]\n",
      "Num GPUs Available:  1\n"
     ]
    }
   ],
   "source": [
    "print(tf.config.list_physical_devices('GPU'))\n",
    "# Check if tensorflow is using GPU\n",
    "print(\"Num GPUs Available: \", len(tf.config.list_physical_devices('GPU')))"
   ]
  },
  {
   "cell_type": "code",
   "execution_count": 38,
   "id": "e0ac30dd-0f3f-4dff-a4b2-38129508630b",
   "metadata": {
    "tags": []
   },
   "outputs": [],
   "source": [
    "def computemjj_pd(event):\n",
    "    px1 = event[[\"pxj1\"]].to_numpy()\n",
    "    py1 = event[[\"pyj1\"]].to_numpy()\n",
    "    pz1 = event[[\"pzj1\"]].to_numpy()\n",
    "    pE1 = np.sqrt(px1**2+py1**2+pz1**2+event[[\"mj1\"]].to_numpy()**2)\n",
    "    \n",
    "    px2 = event[[\"pxj2\"]].to_numpy()\n",
    "    py2 = event[[\"pyj2\"]].to_numpy()\n",
    "    pz2 = event[[\"pzj2\"]].to_numpy()\n",
    "    pE2 = np.sqrt(px2**2+py2**2+pz2**2+event[[\"mj2\"]].to_numpy()**2)\n",
    "    \n",
    "    m2 = (pE1+pE2)**2-(px1+px2)**2-(py1+py2)**2-(pz1+pz2)**2\n",
    "    return np.array(np.sqrt(m2)).flatten()"
   ]
  },
  {
   "cell_type": "code",
   "execution_count": 40,
   "id": "5ebabd60-9af8-424e-99c0-abb88c79b9b6",
   "metadata": {
    "tags": []
   },
   "outputs": [],
   "source": [
    "def computemjj_txt(event):\n",
    "    pT1 = np.array([float(event[2*i][0]) for i in range(int(len(event)/2))])\n",
    "    eta1 = np.array([float(event[2*i][1]) for i in range(int(len(event)/2))])\n",
    "    phi1 = np.array([float(event[2*i][2]) for i in range(int(len(event)/2))])\n",
    "    m1 = np.array([float(event[2*i][3]) for i in range(int(len(event)/2))])\n",
    "    px1 = pT1*np.cos(phi1)\n",
    "    py1 = pT1*np.sin(phi1)\n",
    "    pz1 = pT1*np.sinh(eta1)\n",
    "    pE1 = np.sqrt(px1**2+py1**2+pz1**2+m1**2)\n",
    "    \n",
    "    pT2 = np.array([float(event[2*i+1][0]) for i in range(int(len(event)/2))])\n",
    "    eta2 = np.array([float(event[2*i+1][1]) for i in range(int(len(event)/2))])\n",
    "    phi2 = np.array([float(event[2*i+1][2]) for i in range(int(len(event)/2))])\n",
    "    m2 = np.array([float(event[2*i+1][3]) for i in range(int(len(event)/2))])\n",
    "    px2 = pT2*np.cos(phi2)\n",
    "    py2 = pT2*np.sin(phi2)\n",
    "    pz2 = pT2*np.sinh(eta2)\n",
    "    pE2 = np.sqrt(px2**2+py2**2+pz2**2+m2**2)\n",
    "    \n",
    "    m2 = (pE1+pE2)**2-(px1+px2)**2-(py1+py2)**2-(pz1+pz2)**2\n",
    "    return np.array(np.sqrt(m2)).flatten()"
   ]
  },
  {
   "cell_type": "code",
   "execution_count": 41,
   "id": "d40e20ee-a221-40ed-b2f5-56cfde7e4283",
   "metadata": {
    "collapsed": true,
    "jupyter": {
     "outputs_hidden": true
    },
    "tags": []
   },
   "outputs": [
    {
     "name": "stdout",
     "output_type": "stream",
     "text": [
      "on ... 0 0 qq\n",
      "on ... 0 0 qqq\n",
      "on ... 0 0.5 qq\n",
      "on ... 0 0.5 qqq\n",
      "on ... 0 1 qq\n",
      "on ... 0 1 qqq\n",
      "on ... 0 1.5 qq\n",
      "on ... 0 1.5 qqq\n",
      "on ... 0 2 qq\n",
      "on ... 0 2 qqq\n",
      "on ... 0 2.5 qq\n",
      "on ... 0 2.5 qqq\n",
      "on ... 0 3 qq\n",
      "on ... 0 3 qqq\n",
      "on ... 0 3.5 qq\n",
      "on ... 0 3.5 qqq\n",
      "on ... 0 4 qq\n",
      "on ... 0 4 qqq\n",
      "on ... 0 4.5 qq\n",
      "on ... 0 4.5 qqq\n",
      "on ... 0 5 qq\n",
      "on ... 0 5 qqq\n",
      "on ... 0 5.5 qq\n",
      "on ... 0 5.5 qqq\n",
      "on ... 0 6 qq\n",
      "on ... 0 6 qqq\n",
      "on ... 0.5 0 qq\n",
      "on ... 0.5 0 qqq\n",
      "on ... 0.5 0.5 qq\n",
      "on ... 0.5 0.5 qqq\n",
      "on ... 0.5 1 qq\n",
      "on ... 0.5 1 qqq\n",
      "on ... 0.5 1.5 qq\n",
      "on ... 0.5 1.5 qqq\n",
      "on ... 0.5 2 qq\n",
      "on ... 0.5 2 qqq\n",
      "on ... 0.5 2.5 qq\n",
      "on ... 0.5 2.5 qqq\n",
      "on ... 0.5 3 qq\n",
      "on ... 0.5 3 qqq\n",
      "on ... 0.5 3.5 qq\n",
      "on ... 0.5 3.5 qqq\n",
      "on ... 0.5 4 qq\n",
      "on ... 0.5 4 qqq\n",
      "on ... 0.5 4.5 qq\n",
      "on ... 0.5 4.5 qqq\n",
      "on ... 0.5 5 qq\n",
      "on ... 0.5 5 qqq\n",
      "on ... 0.5 5.5 qq\n",
      "on ... 0.5 5.5 qqq\n",
      "on ... 0.5 6 qq\n",
      "on ... 0.5 6 qqq\n",
      "on ... 1 0 qq\n",
      "on ... 1 0 qqq\n",
      "on ... 1 0.5 qq\n",
      "on ... 1 0.5 qqq\n",
      "on ... 1 1 qq\n",
      "on ... 1 1 qqq\n",
      "on ... 1 1.5 qq\n",
      "on ... 1 1.5 qqq\n",
      "on ... 1 2 qq\n",
      "on ... 1 2 qqq\n",
      "on ... 1 2.5 qq\n",
      "on ... 1 2.5 qqq\n",
      "on ... 1 3 qq\n",
      "on ... 1 3 qqq\n",
      "on ... 1 3.5 qq\n",
      "on ... 1 3.5 qqq\n",
      "on ... 1 4 qq\n",
      "on ... 1 4 qqq\n",
      "on ... 1 4.5 qq\n",
      "on ... 1 4.5 qqq\n",
      "on ... 1 5 qq\n",
      "on ... 1 5 qqq\n",
      "on ... 1 5.5 qq\n",
      "on ... 1 5.5 qqq\n",
      "on ... 1 6 qq\n",
      "on ... 1 6 qqq\n",
      "on ... 1.5 0 qq\n",
      "on ... 1.5 0 qqq\n",
      "on ... 1.5 0.5 qq\n",
      "on ... 1.5 0.5 qqq\n",
      "on ... 1.5 1 qq\n",
      "on ... 1.5 1 qqq\n",
      "on ... 1.5 1.5 qq\n",
      "on ... 1.5 1.5 qqq\n",
      "on ... 1.5 2 qq\n",
      "on ... 1.5 2 qqq\n",
      "on ... 1.5 2.5 qq\n",
      "on ... 1.5 2.5 qqq\n",
      "on ... 1.5 3 qq\n",
      "on ... 1.5 3 qqq\n",
      "on ... 1.5 3.5 qq\n",
      "on ... 1.5 3.5 qqq\n",
      "on ... 1.5 4 qq\n",
      "on ... 1.5 4 qqq\n",
      "on ... 1.5 4.5 qq\n",
      "on ... 1.5 4.5 qqq\n",
      "on ... 1.5 5 qq\n",
      "on ... 1.5 5 qqq\n",
      "on ... 1.5 5.5 qq\n",
      "on ... 1.5 5.5 qqq\n",
      "on ... 1.5 6 qq\n",
      "on ... 1.5 6 qqq\n",
      "on ... 2 0 qq\n",
      "on ... 2 0 qqq\n",
      "on ... 2 0.5 qq\n",
      "on ... 2 0.5 qqq\n",
      "on ... 2 1 qq\n",
      "on ... 2 1 qqq\n",
      "on ... 2 1.5 qq\n",
      "on ... 2 1.5 qqq\n",
      "on ... 2 2 qq\n",
      "on ... 2 2 qqq\n",
      "on ... 2 2.5 qq\n",
      "on ... 2 2.5 qqq\n",
      "on ... 2 3 qq\n",
      "on ... 2 3 qqq\n",
      "on ... 2 3.5 qq\n",
      "on ... 2 3.5 qqq\n",
      "on ... 2 4 qq\n",
      "on ... 2 4 qqq\n",
      "on ... 2 4.5 qq\n",
      "on ... 2 4.5 qqq\n",
      "on ... 2 5 qq\n",
      "on ... 2 5 qqq\n",
      "on ... 2 5.5 qq\n",
      "on ... 2 5.5 qqq\n",
      "on ... 2 6 qq\n",
      "on ... 2 6 qqq\n",
      "on ... 2.5 0 qq\n",
      "on ... 2.5 0 qqq\n",
      "on ... 2.5 0.5 qq\n",
      "on ... 2.5 0.5 qqq\n",
      "on ... 2.5 1 qq\n",
      "on ... 2.5 1 qqq\n",
      "on ... 2.5 1.5 qq\n",
      "on ... 2.5 1.5 qqq\n",
      "on ... 2.5 2 qq\n",
      "on ... 2.5 2 qqq\n",
      "on ... 2.5 2.5 qq\n",
      "on ... 2.5 2.5 qqq\n",
      "on ... 2.5 3 qq\n",
      "on ... 2.5 3 qqq\n",
      "on ... 2.5 3.5 qq\n",
      "on ... 2.5 3.5 qqq\n",
      "on ... 2.5 4 qq\n",
      "on ... 2.5 4 qqq\n",
      "on ... 2.5 4.5 qq\n",
      "on ... 2.5 4.5 qqq\n",
      "on ... 2.5 5 qq\n",
      "on ... 2.5 5 qqq\n",
      "on ... 2.5 5.5 qq\n",
      "on ... 2.5 5.5 qqq\n",
      "on ... 2.5 6 qq\n",
      "on ... 2.5 6 qqq\n",
      "on ... 3 0 qq\n",
      "on ... 3 0 qqq\n",
      "on ... 3 0.5 qq\n",
      "on ... 3 0.5 qqq\n",
      "on ... 3 1 qq\n",
      "on ... 3 1 qqq\n",
      "on ... 3 1.5 qq\n",
      "on ... 3 1.5 qqq\n",
      "on ... 3 2 qq\n",
      "on ... 3 2 qqq\n",
      "on ... 3 2.5 qq\n",
      "on ... 3 2.5 qqq\n",
      "on ... 3 3 qq\n",
      "on ... 3 3 qqq\n",
      "on ... 3 3.5 qq\n",
      "on ... 3 3.5 qqq\n",
      "on ... 3 4 qq\n",
      "on ... 3 4 qqq\n",
      "on ... 3 4.5 qq\n",
      "on ... 3 4.5 qqq\n",
      "on ... 3 5 qq\n",
      "on ... 3 5 qqq\n",
      "on ... 3 5.5 qq\n",
      "on ... 3 5.5 qqq\n",
      "on ... 3 6 qq\n",
      "on ... 3 6 qqq\n",
      "on ... 3.5 0 qq\n",
      "on ... 3.5 0 qqq\n",
      "on ... 3.5 0.5 qq\n",
      "on ... 3.5 0.5 qqq\n",
      "on ... 3.5 1 qq\n",
      "on ... 3.5 1 qqq\n",
      "on ... 3.5 1.5 qq\n",
      "on ... 3.5 1.5 qqq\n",
      "on ... 3.5 2 qq\n",
      "on ... 3.5 2 qqq\n",
      "on ... 3.5 2.5 qq\n",
      "on ... 3.5 2.5 qqq\n",
      "on ... 3.5 3 qq\n",
      "on ... 3.5 3 qqq\n",
      "on ... 3.5 3.5 qq\n",
      "on ... 3.5 3.5 qqq\n",
      "on ... 3.5 4 qq\n",
      "on ... 3.5 4 qqq\n",
      "on ... 3.5 4.5 qq\n",
      "on ... 3.5 4.5 qqq\n",
      "on ... 3.5 5 qq\n",
      "on ... 3.5 5 qqq\n",
      "on ... 3.5 5.5 qq\n",
      "on ... 3.5 5.5 qqq\n",
      "on ... 3.5 6 qq\n",
      "on ... 3.5 6 qqq\n",
      "on ... 4 0 qq\n",
      "on ... 4 0 qqq\n",
      "on ... 4 0.5 qq\n",
      "on ... 4 0.5 qqq\n",
      "on ... 4 1 qq\n",
      "on ... 4 1 qqq\n",
      "on ... 4 1.5 qq\n",
      "on ... 4 1.5 qqq\n",
      "on ... 4 2 qq\n",
      "on ... 4 2 qqq\n",
      "on ... 4 2.5 qq\n",
      "on ... 4 2.5 qqq\n",
      "on ... 4 3 qq\n",
      "on ... 4 3 qqq\n",
      "on ... 4 3.5 qq\n",
      "on ... 4 3.5 qqq\n",
      "on ... 4 4 qq\n",
      "on ... 4 4 qqq\n",
      "on ... 4 4.5 qq\n",
      "on ... 4 4.5 qqq\n",
      "on ... 4 5 qq\n",
      "on ... 4 5 qqq\n",
      "on ... 4 5.5 qq\n",
      "on ... 4 5.5 qqq\n",
      "on ... 4 6 qq\n",
      "on ... 4 6 qqq\n",
      "on ... 4.5 0 qq\n",
      "on ... 4.5 0 qqq\n",
      "on ... 4.5 0.5 qq\n",
      "on ... 4.5 0.5 qqq\n",
      "on ... 4.5 1 qq\n",
      "on ... 4.5 1 qqq\n",
      "on ... 4.5 1.5 qq\n",
      "on ... 4.5 1.5 qqq\n",
      "on ... 4.5 2 qq\n",
      "on ... 4.5 2 qqq\n",
      "on ... 4.5 2.5 qq\n",
      "on ... 4.5 2.5 qqq\n",
      "on ... 4.5 3 qq\n",
      "on ... 4.5 3 qqq\n",
      "on ... 4.5 3.5 qq\n",
      "on ... 4.5 3.5 qqq\n",
      "on ... 4.5 4 qq\n",
      "on ... 4.5 4 qqq\n",
      "on ... 4.5 4.5 qq\n",
      "on ... 4.5 4.5 qqq\n",
      "on ... 4.5 5 qq\n",
      "on ... 4.5 5 qqq\n",
      "on ... 4.5 5.5 qq\n",
      "on ... 4.5 5.5 qqq\n",
      "on ... 4.5 6 qq\n",
      "on ... 4.5 6 qqq\n",
      "on ... 5 0 qq\n",
      "on ... 5 0 qqq\n",
      "on ... 5 0.5 qq\n",
      "on ... 5 0.5 qqq\n",
      "on ... 5 1 qq\n",
      "on ... 5 1 qqq\n",
      "on ... 5 1.5 qq\n",
      "on ... 5 1.5 qqq\n",
      "on ... 5 2 qq\n",
      "on ... 5 2 qqq\n",
      "on ... 5 2.5 qq\n",
      "on ... 5 2.5 qqq\n",
      "on ... 5 3 qq\n",
      "on ... 5 3 qqq\n",
      "on ... 5 3.5 qq\n",
      "on ... 5 3.5 qqq\n",
      "on ... 5 4 qq\n",
      "on ... 5 4 qqq\n",
      "on ... 5 4.5 qq\n",
      "on ... 5 4.5 qqq\n",
      "on ... 5 5 qq\n",
      "on ... 5 5 qqq\n",
      "on ... 5 5.5 qq\n",
      "on ... 5 5.5 qqq\n",
      "on ... 5 6 qq\n",
      "on ... 5 6 qqq\n",
      "on ... 5.5 0 qq\n",
      "on ... 5.5 0 qqq\n",
      "on ... 5.5 0.5 qq\n",
      "on ... 5.5 0.5 qqq\n",
      "on ... 5.5 1 qq\n",
      "on ... 5.5 1 qqq\n",
      "on ... 5.5 1.5 qq\n",
      "on ... 5.5 1.5 qqq\n",
      "on ... 5.5 2 qq\n",
      "on ... 5.5 2 qqq\n",
      "on ... 5.5 2.5 qq\n",
      "on ... 5.5 2.5 qqq\n",
      "on ... 5.5 3 qq\n",
      "on ... 5.5 3 qqq\n",
      "on ... 5.5 3.5 qq\n",
      "on ... 5.5 3.5 qqq\n",
      "on ... 5.5 4 qq\n",
      "on ... 5.5 4 qqq\n",
      "on ... 5.5 4.5 qq\n",
      "on ... 5.5 4.5 qqq\n",
      "on ... 5.5 5 qq\n",
      "on ... 5.5 5 qqq\n",
      "on ... 5.5 5.5 qq\n",
      "on ... 5.5 5.5 qqq\n",
      "on ... 5.5 6 qq\n",
      "on ... 5.5 6 qqq\n",
      "on ... 6 0 qq\n",
      "on ... 6 0 qqq\n",
      "on ... 6 0.5 qq\n",
      "on ... 6 0.5 qqq\n",
      "on ... 6 1 qq\n",
      "on ... 6 1 qqq\n",
      "on ... 6 1.5 qq\n",
      "on ... 6 1.5 qqq\n",
      "on ... 6 2 qq\n",
      "on ... 6 2 qqq\n",
      "on ... 6 2.5 qq\n",
      "on ... 6 2.5 qqq\n",
      "on ... 6 3 qq\n",
      "on ... 6 3 qqq\n",
      "on ... 6 3.5 qq\n",
      "on ... 6 3.5 qqq\n",
      "on ... 6 4 qq\n",
      "on ... 6 4 qqq\n",
      "on ... 6 4.5 qq\n",
      "on ... 6 4.5 qqq\n",
      "on ... 6 5 qq\n",
      "on ... 6 5 qqq\n",
      "on ... 6 5.5 qq\n",
      "on ... 6 5.5 qqq\n",
      "on ... 6 6 qq\n",
      "on ... 6 6 qqq\n"
     ]
    }
   ],
   "source": [
    "if (True):\n",
    "    lmass_vec = {}\n",
    "    x = {}\n",
    "    mjjs = {}\n",
    "\n",
    "    mu_m = 0.\n",
    "    mu_t = 0.\n",
    "    mu_t2 = 0.\n",
    "    sd_m = 0.\n",
    "    sd_t = 0.\n",
    "    sd_t2 = 0.\n",
    "    \n",
    "    mj1_list = []\n",
    "    mj2_list = []\n",
    "\n",
    "    for m1 in [0,0.5,1,1.5,2,2.5,3,3.5,4,4.5,5,5.5,6]:\n",
    "        for m2 in [0,0.5,1,1.5,2,2.5,3,3.5,4,4.5,5,5.5,6]:\n",
    "            for qq in ['qq','qqq']:\n",
    "\n",
    "                print(\"on ...\",m1,m2,qq)\n",
    "\n",
    "                ltau1_m_m = []\n",
    "                ltau2_m_m = []\n",
    "                ltau3_m_m = []\n",
    "                stau1_m_m = []\n",
    "                stau2_m_m = []\n",
    "                stau3_m_m = []\n",
    "                if (m1>0 and m2>0):\n",
    "                    myfile = open(\"/global/cfs/projectdirs/m3246/AnomalyDetection/ILC/Delphes-3.5.0/LHCO_RnD_qq/LHCO_RnD_qq_\"+str(int(m1*100))+\"_\"+str(int(100*m2))+\".txt\")\n",
    "                    if (qq=='qqq'):\n",
    "                        myfile = open(\"/global/cfs/projectdirs/m3246/AnomalyDetection/ILC/Delphes-3.5.0/LHCO_RnD_qqq/LHCO_RnD_qqq2_\"+str(int(m1*100))+\"_\"+str(int(100*m2))+\".txt\")\n",
    "                    jets_m_m = []\n",
    "                    for line in myfile:\n",
    "                        jets_m_m+=[line.split(\"J\")[1].split(\"P\")[0].split()]\n",
    "                        pass\n",
    "                    ljet_m_m = [jets_m_m[2*n] for n in range(int(len(jets_m_m)/2))]\n",
    "                    sjet_m_m = [jets_m_m[2*n+1] for n in range(int(len(jets_m_m)/2))]\n",
    "\n",
    "                    lmass_m_m = np.array([float(ljet_m_m[i][3]) for i in range(len(ljet_m_m))])/1000.\n",
    "                    smass_m_m = np.array([float(sjet_m_m[i][3]) for i in range(len(sjet_m_m))])/1000.\n",
    "                    \n",
    "                    #check ordering of the leading and subleading jets\n",
    "                    #if leading jet mm > subleading, continue\n",
    "                    #if leading jet mm < subleading, swap\n",
    "                    for i in range(int(len(lmass_m_m))):\n",
    "                        if lmass_m_m[i] > smass_m_m[i]:\n",
    "                            continue\n",
    "                        elif lmass_m_m[i] < smass_m_m[i]:\n",
    "                            lmass_m_m[i], smass_m_m[i] = smass_m_m[i], lmass_m_m[i]\n",
    "\n",
    "                    ltau1_m_m = np.array([float(ljet_m_m[i][5]) for i in range(len(ljet_m_m))])\n",
    "                    ltau2_m_m = np.array([float(ljet_m_m[i][6]) for i in range(len(ljet_m_m))])\n",
    "                    ltau3_m_m = np.array([float(ljet_m_m[i][7]) for i in range(len(ljet_m_m))])\n",
    "\n",
    "                    stau1_m_m = np.array([float(sjet_m_m[i][5]) for i in range(len(ljet_m_m))])\n",
    "                    stau2_m_m = np.array([float(sjet_m_m[i][6]) for i in range(len(ljet_m_m))])\n",
    "                    stau3_m_m = np.array([float(sjet_m_m[i][7]) for i in range(len(ljet_m_m))])\n",
    "\n",
    "                    mjj = computemjj_txt(jets_m_m)/1000.\n",
    "                    mjjs[m1,m2] = mjj\n",
    "                    passcut = (mjj > 3.3) * (mjj < 3.7)\n",
    "                    lmass_m_m = lmass_m_m[passcut]\n",
    "                    smass_m_m = smass_m_m[passcut]\n",
    "                    ltau1_m_m = ltau1_m_m[passcut]\n",
    "                    ltau2_m_m = ltau2_m_m[passcut]\n",
    "                    ltau3_m_m = ltau3_m_m[passcut]\n",
    "                    stau1_m_m = stau1_m_m[passcut]\n",
    "                    stau2_m_m = stau2_m_m[passcut]\n",
    "                    stau3_m_m = stau3_m_m[passcut]\n",
    "                    pass\n",
    "                elif m1==0 and m2==0:\n",
    "                    df_QCD = pd.read_hdf(\"/global/cfs/projectdirs/m3246/AnomalyDetection/LHCO/events_anomalydetection_DelphesPythia8_v2_qcd_features.h5\")\n",
    "                    lmass_m_m = np.array(df_QCD[[\"mj1\"]]).flatten()/1000.\n",
    "                    smass_m_m = np.array(df_QCD[[\"mj2\"]]).flatten()/1000.\n",
    "                    \n",
    "                    #check jet ordering\n",
    "                    for i in range(int(len(lmass_m_m))):\n",
    "                        if lmass_m_m[i] > smass_m_m[i]:\n",
    "                            continue\n",
    "                        elif lmass_m_m[i] < smass_m_m[i]:\n",
    "                            lmass_m_m[i], smass_m_m[i] = smass_m_m[i], lmass_m_m[i]\n",
    "                        \n",
    "                    ltau1_m_m = np.array(df_QCD[[\"tau1j1\"]]).flatten()\n",
    "                    ltau2_m_m = np.array(df_QCD[[\"tau2j1\"]]).flatten()\n",
    "                    ltau3_m_m = np.array(df_QCD[[\"tau3j1\"]]).flatten()\n",
    "                    stau1_m_m = np.array(df_QCD[[\"tau1j2\"]]).flatten()\n",
    "                    stau2_m_m = np.array(df_QCD[[\"tau2j2\"]]).flatten()\n",
    "                    stau3_m_m = np.array(df_QCD[[\"tau3j2\"]]).flatten()\n",
    "                    mjj = computemjj_pd(df_QCD)/1000.\n",
    "                    mjjs[m1,m2] = mjj\n",
    "                    passcut = (mjj > 3.3) * (mjj < 3.7)\n",
    "                    lmass_m_m = lmass_m_m[passcut]\n",
    "                    smass_m_m = smass_m_m[passcut]\n",
    "                    ltau1_m_m = ltau1_m_m[passcut]\n",
    "                    ltau2_m_m = ltau2_m_m[passcut]\n",
    "                    ltau3_m_m = ltau3_m_m[passcut]\n",
    "                    stau1_m_m = stau1_m_m[passcut]\n",
    "                    stau2_m_m = stau2_m_m[passcut]\n",
    "                    stau3_m_m = stau3_m_m[passcut]\n",
    "\n",
    "                    mu_m = np.mean(lmass_m_m)\n",
    "                    mu_t = np.mean(ltau2_m_m/(ltau1_m_m+0.0001))\n",
    "                    mu_t2 = np.mean(ltau3_m_m/(ltau2_m_m+0.0001))\n",
    "                    sd_m = np.std(lmass_m_m)\n",
    "                    sd_t = np.std(ltau2_m_m/(ltau1_m_m+0.0001))\n",
    "                    sd_t2 = np.std(ltau3_m_m/(ltau2_m_m+0.0001))\n",
    "                    pass\n",
    "                else:\n",
    "                    continue\n",
    "\n",
    "                ms = np.stack([lmass_m_m,smass_m_m],axis=1)\n",
    "                ts = np.stack([ltau2_m_m/(ltau1_m_m+0.0001),stau2_m_m/(stau1_m_m+0.001)],axis=1)\n",
    "                ts2 = np.stack([ltau3_m_m/(ltau2_m_m+0.0001),stau3_m_m/(stau2_m_m+0.001)],axis=1)\n",
    "                order1 = [np.argmax(ms[i]) for i in range(len(ms))]\n",
    "                order2 = [np.argmin(ms[i]) for i in range(len(ms))]\n",
    "                mJ1 = np.array([ms[i][order1[i]] for i in range(len(ms))])\n",
    "                mJ2 = np.array([ms[i][order2[i]] for i in range(len(ms))])\n",
    "                \n",
    "                mj1_list.append(mJ1)\n",
    "                mj2_list.append(mJ2)\n",
    "                x[m1,m2,qq] = np.stack([(mJ2 - mu_m)/sd_m,\n",
    "                                        ((mJ1 - mJ2) - mu_m)/sd_m,\n",
    "                                        ([ts[i][order2[i]] for i in range(len(ts))] - mu_t)/sd_t,\n",
    "                                        ([ts[i][order1[i]] for i in range(len(ts))] - mu_t)/sd_t,\n",
    "                                        ([ts2[i][order2[i]] for i in range(len(ts2))] - mu_t2)/sd_t2,\n",
    "                                        ([ts2[i][order1[i]] for i in range(len(ts2))] - mu_t2)/sd_t2],axis=1)\n",
    "                lmass_vec[m1,m2]=lmass_m_m\n",
    "                pass\n",
    "            pass\n",
    "        pass\n",
    "    \n",
    "    x_array = []\n",
    "    for m1 in [0,0.5,1,1.5,2,2.5,3,3.5,4,4.5,5,5.5,6]:\n",
    "        for m2 in [0,0.5,1,1.5,2,2.5,3,3.5,4,4.5,5,5.5,6]:\n",
    "            for qq in ['qq','qqq']:\n",
    "                if (m1==0 and m2>0 or m2==0 and m1>0):\n",
    "                    continue\n",
    "                x_array+=[x[m1,m2,qq]]"
   ]
  },
  {
   "cell_type": "code",
   "execution_count": 49,
   "id": "424495c4-adab-4bf6-bc5e-3ae7e5542682",
   "metadata": {
    "tags": []
   },
   "outputs": [
    {
     "name": "stderr",
     "output_type": "stream",
     "text": [
      "/global/common/software/nersc/pm-2022q4/sw/tensorflow/2.9.0/lib/python3.9/site-packages/numpy/lib/npyio.py:521: VisibleDeprecationWarning: Creating an ndarray from ragged nested sequences (which is a list-or-tuple of lists-or-tuples-or ndarrays with different lengths or shapes) is deprecated. If you meant to do this, you must specify 'dtype=object' when creating the ndarray.\n",
      "  arr = np.asanyarray(arr)\n"
     ]
    }
   ],
   "source": [
    "np.save(\"x_array_qqq\",x_array)"
   ]
  },
  {
   "cell_type": "code",
   "execution_count": 4,
   "id": "6da88ab8-b8e3-465d-a2d7-39251fd65d8b",
   "metadata": {
    "tags": []
   },
   "outputs": [],
   "source": [
    "# count = 0\n",
    "# for i in range(len(mj1_list)):\n",
    "#     if mj1_list[3][i] > mj2_list[4][i]:\n",
    "#         #print(\"greater\")\n",
    "#         count+=1\n",
    "# print(f\"{count} instances of mj1 > mj2\")"
   ]
  },
  {
   "cell_type": "code",
   "execution_count": 51,
   "id": "fb3d21c1-0277-406b-a510-170ed04aa6e4",
   "metadata": {
    "tags": []
   },
   "outputs": [],
   "source": [
    "x = {}\n",
    "            \n",
    "x_array_read = np.load(\"x_array_qqq.npy\",allow_pickle=True)\n",
    "mycounter = -1\n",
    "for m1 in [0,0.5,1,1.5,2,2.5,3,3.5,4,4.5,5,5.5,6]:\n",
    "    for m2 in [0,0.5,1,1.5,2,2.5,3,3.5,4,4.5,5,5.5,6]:\n",
    "        for qqq in ['qq','qqq']:\n",
    "            if (m1==0 and m2>0 or m2==0 and m1>0):\n",
    "                continue\n",
    "            mycounter+=1\n",
    "            x[m1,m2,qqq] = x_array_read[mycounter]"
   ]
  },
  {
   "cell_type": "code",
   "execution_count": 57,
   "id": "b78fada9-8c1a-4e05-8834-f9008c065606",
   "metadata": {
    "tags": []
   },
   "outputs": [],
   "source": [
    "qq = \"qq\"\n",
    "qqq = \"qqq\""
   ]
  },
  {
   "cell_type": "code",
   "execution_count": 58,
   "id": "7e092035-c977-46f5-a214-d3b0cd5ccd77",
   "metadata": {
    "tags": []
   },
   "outputs": [
    {
     "data": {
      "text/plain": [
       "(121352, 6)"
      ]
     },
     "execution_count": 58,
     "metadata": {},
     "output_type": "execute_result"
    }
   ],
   "source": [
    "np.shape(x[0,0, qq])"
   ]
  },
  {
   "cell_type": "code",
   "execution_count": 61,
   "id": "7833b6c3-ef98-41f1-8b77-d236321dc8d3",
   "metadata": {
    "tags": []
   },
   "outputs": [
    {
     "data": {
      "text/plain": [
       "(121352, 6)"
      ]
     },
     "execution_count": 61,
     "metadata": {},
     "output_type": "execute_result"
    }
   ],
   "source": [
    "np.shape(x[0,0, qqq])"
   ]
  },
  {
   "cell_type": "code",
   "execution_count": 5,
   "id": "dba07f7e-0dd6-4c21-916c-a2b736ebeb6c",
   "metadata": {
    "tags": []
   },
   "outputs": [],
   "source": [
    "x_vals_qq = np.load(\"x_vals_qq.npy\")\n",
    "y_vals_qq = np.load(\"y_vals_qq.npy\")"
   ]
  },
  {
   "cell_type": "code",
   "execution_count": 4,
   "id": "87f761c7-c2a0-43fd-988c-6f3c3394d692",
   "metadata": {
    "tags": []
   },
   "outputs": [],
   "source": [
    "x_vals_qqq = []\n",
    "y_vals_qqq = []\n",
    "for m1 in [0.5,1,1.5,2,2.5,3,3.5,4,4.5,5,5.5,6]:\n",
    "    for m2 in [0.5,1,1.5,2,2.5,3,3.5,4,4.5,5,5.5,6]:\n",
    "        for qq in ['qqq']:\n",
    "            print(m1,m2)\n",
    "            x_aug_0 = np.append(np.append(x[0,0,qq],m1*np.reshape(np.ones(len(x[0,0,qq])),[len(x[0,0,qq]),1]),1),m2*np.reshape(np.ones(len(x[0,0,qq])),[len(x[0,0,qq]),1]),1)\n",
    "            x_aug_m = np.append(np.append(x[m1,m2,qq],m1*np.reshape(np.ones(len(x[m1,m2,qq])),[len(x[m1,m2,qq]),1]),1),m2*np.reshape(np.ones(len(x[m1,m2,qq])),[len(x[m1,m2,qq]),1]),1)\n",
    "            if (m1==0.5 and m2==0.5):\n",
    "                x_vals_qqq = np.concatenate([x_aug_0,x_aug_m])\n",
    "                y_vals_qqq = np.concatenate([np.zeros(len(x_aug_0)),np.ones(len(x_aug_m))])\n",
    "            else:\n",
    "                x_vals_qqq = np.concatenate([x_vals_qqq,x_aug_0,x_aug_m])\n",
    "                y_vals_qqq= np.concatenate([y_vals_qqq,np.zeros(len(x_aug_0)),np.ones(len(x_aug_m))])\n",
    "\n",
    "# np.save(\"x_data_qqq\",x_vals_qqq)\n",
    "# np.save(\"y_data_qqq\",y_vals_qqq)"
   ]
  },
  {
   "cell_type": "code",
   "execution_count": 63,
   "id": "e512bd5d-6161-48a4-8574-846707d4a1ac",
   "metadata": {
    "tags": []
   },
   "outputs": [
    {
     "data": {
      "text/plain": [
       "array([[-1.51676489, -0.61369051, -1.38973318,  0.29771386,  0.66949434,\n",
       "         1.32714999],\n",
       "       [-1.36743797, -1.69854625,  0.49229683,  1.25083942, -0.00677284,\n",
       "         0.39275729],\n",
       "       [-0.91169568, -1.71429933,  1.16178254,  0.35002242,  1.10346995,\n",
       "         0.62902032],\n",
       "       ...,\n",
       "       [-0.96736856, -1.48238533,  1.25622683, -0.47599974, -0.32423304,\n",
       "         0.86060971],\n",
       "       [-1.3598598 , -1.72354998,  1.79953958,  1.20194427,  0.44119858,\n",
       "         0.28992835],\n",
       "       [-1.42887276, -1.6890858 ,  0.89151195,  0.58091326,  1.22563292,\n",
       "         0.4144562 ]])"
      ]
     },
     "execution_count": 63,
     "metadata": {},
     "output_type": "execute_result"
    }
   ],
   "source": [
    "x[0,0, qq]"
   ]
  },
  {
   "cell_type": "code",
   "execution_count": 10,
   "id": "aff0e9dd-f1a3-4ea5-a83a-6bfd1f2c30f7",
   "metadata": {
    "tags": []
   },
   "outputs": [
    {
     "data": {
      "text/plain": [
       "(27249420,)"
      ]
     },
     "execution_count": 10,
     "metadata": {},
     "output_type": "execute_result"
    }
   ],
   "source": [
    "np.shape(y_vals_qq)"
   ]
  },
  {
   "cell_type": "code",
   "execution_count": 89,
   "id": "15516f49-3e3f-47e2-b7ef-0fee80adbdcc",
   "metadata": {
    "tags": []
   },
   "outputs": [
    {
     "data": {
      "text/plain": [
       "array([[-1.08511704, -0.13951411,  0.29623825, ...,  0.66468713,\n",
       "         0.5       ,  0.5       ],\n",
       "       [-0.99621376, -0.3906208 ,  1.87209617, ..., -0.0247789 ,\n",
       "         0.5       ,  0.5       ],\n",
       "       [-1.10503705,  1.30397829,  1.37879233, ..., -1.97102352,\n",
       "         0.5       ,  0.5       ],\n",
       "       ...,\n",
       "       [ 2.2109325 , -1.29862218, -0.64678843, ..., -1.03922943,\n",
       "         6.        ,  6.        ],\n",
       "       [-0.07629947,  1.26618006, -1.30987491, ..., -2.06515878,\n",
       "         6.        ,  6.        ],\n",
       "       [ 2.29900064, -1.22764083, -1.36945619, ..., -3.42621644,\n",
       "         6.        ,  6.        ]])"
      ]
     },
     "execution_count": 89,
     "metadata": {},
     "output_type": "execute_result"
    }
   ],
   "source": [
    "x_vals_qqq = np.load(\"/global/cfs/projectdirs/m3246/AnomalyDetection/LHCO/x_vals_qqq.npy\")\n",
    "y_vals_qqq = np.load(\"/global/cfs/projectdirs/m3246/AnomalyDetection/LHCO/y_vals_qqq.npy\")\n",
    "x_vals_qqq"
   ]
  },
  {
   "cell_type": "code",
   "execution_count": 14,
   "id": "3017eca6-f629-4a86-a0a5-f040ea845681",
   "metadata": {
    "tags": []
   },
   "outputs": [],
   "source": [
    "x_data_qqq = np.load(\"x_data_qqq.npy\")\n",
    "y_data_qqq = np.load(\"y_data_qqq.npy\")"
   ]
  },
  {
   "cell_type": "code",
   "execution_count": 88,
   "id": "2adda6e6-d721-43c7-9f3a-f13e920c4fa5",
   "metadata": {
    "tags": []
   },
   "outputs": [
    {
     "data": {
      "text/plain": [
       "array([[-1.51676489, -0.61369051, -1.38973318, ...,  1.32714999,\n",
       "         0.5       ,  0.5       ],\n",
       "       [-1.36743797, -1.69854625,  0.49229683, ...,  0.39275729,\n",
       "         0.5       ,  0.5       ],\n",
       "       [-0.91169568, -1.71429933,  1.16178254, ...,  0.62902032,\n",
       "         0.5       ,  0.5       ],\n",
       "       ...,\n",
       "       [ 1.63104462, -1.72066763, -0.6480904 , ..., -1.03439472,\n",
       "         6.        ,  6.        ],\n",
       "       [-0.55331895,  0.72878247, -1.31312993, ..., -2.06030751,\n",
       "         6.        ,  6.        ],\n",
       "       [ 1.71515189, -1.65287867, -1.37288671, ..., -3.42134321,\n",
       "         6.        ,  6.        ]])"
      ]
     },
     "execution_count": 88,
     "metadata": {},
     "output_type": "execute_result"
    }
   ],
   "source": [
    "x_data_qqq"
   ]
  },
  {
   "cell_type": "code",
   "execution_count": 10,
   "id": "7387201a-fca1-445a-ae08-c7c0fc17557b",
   "metadata": {
    "tags": []
   },
   "outputs": [],
   "source": [
    "X_train_qq, X_val_qq, Y_train_qq, Y_val_qq = train_test_split(x_data_qqq, y_data_qqq, test_size=0.5)"
   ]
  },
  {
   "cell_type": "code",
   "execution_count": 84,
   "id": "d6ff9dc3-e510-4b29-972c-ce7e630a8757",
   "metadata": {
    "collapsed": true,
    "jupyter": {
     "outputs_hidden": true
    },
    "tags": []
   },
   "outputs": [
    {
     "name": "stdout",
     "output_type": "stream",
     "text": [
      "Epoch 1/5000\n",
      "2662/2662 [==============================] - 27s 10ms/step - loss: 0.2587 - accuracy: 0.8976 - val_loss: 0.2046 - val_accuracy: 0.9232\n",
      "Epoch 2/5000\n",
      "2662/2662 [==============================] - 27s 10ms/step - loss: 0.1937 - accuracy: 0.9267 - val_loss: 0.1833 - val_accuracy: 0.9298\n",
      "Epoch 3/5000\n",
      "2662/2662 [==============================] - 26s 10ms/step - loss: 0.1778 - accuracy: 0.9316 - val_loss: 0.1716 - val_accuracy: 0.9336\n",
      "Epoch 4/5000\n",
      "2662/2662 [==============================] - 27s 10ms/step - loss: 0.1687 - accuracy: 0.9346 - val_loss: 0.1650 - val_accuracy: 0.9359\n",
      "Epoch 5/5000\n",
      "2662/2662 [==============================] - 26s 10ms/step - loss: 0.1632 - accuracy: 0.9367 - val_loss: 0.1604 - val_accuracy: 0.9377\n",
      "Epoch 6/5000\n",
      "2662/2662 [==============================] - 26s 10ms/step - loss: 0.1593 - accuracy: 0.9383 - val_loss: 0.1571 - val_accuracy: 0.9391\n",
      "Epoch 7/5000\n",
      "2662/2662 [==============================] - 26s 10ms/step - loss: 0.1563 - accuracy: 0.9395 - val_loss: 0.1545 - val_accuracy: 0.9402\n",
      "Epoch 8/5000\n",
      "2662/2662 [==============================] - 27s 10ms/step - loss: 0.1539 - accuracy: 0.9405 - val_loss: 0.1523 - val_accuracy: 0.9410\n",
      "Epoch 9/5000\n",
      "2662/2662 [==============================] - 25s 10ms/step - loss: 0.1519 - accuracy: 0.9413 - val_loss: 0.1506 - val_accuracy: 0.9417\n",
      "Epoch 10/5000\n",
      "2662/2662 [==============================] - 26s 10ms/step - loss: 0.1503 - accuracy: 0.9419 - val_loss: 0.1490 - val_accuracy: 0.9424\n",
      "Epoch 11/5000\n",
      "2662/2662 [==============================] - 26s 10ms/step - loss: 0.1489 - accuracy: 0.9424 - val_loss: 0.1477 - val_accuracy: 0.9429\n",
      "Epoch 12/5000\n",
      "2662/2662 [==============================] - 26s 10ms/step - loss: 0.1477 - accuracy: 0.9429 - val_loss: 0.1465 - val_accuracy: 0.9434\n",
      "Epoch 13/5000\n",
      "2662/2662 [==============================] - 25s 9ms/step - loss: 0.1466 - accuracy: 0.9433 - val_loss: 0.1456 - val_accuracy: 0.9437\n",
      "Epoch 14/5000\n",
      "2662/2662 [==============================] - 25s 9ms/step - loss: 0.1456 - accuracy: 0.9437 - val_loss: 0.1446 - val_accuracy: 0.9440\n",
      "Epoch 15/5000\n",
      "2662/2662 [==============================] - 25s 9ms/step - loss: 0.1448 - accuracy: 0.9440 - val_loss: 0.1438 - val_accuracy: 0.9443\n",
      "Epoch 16/5000\n",
      "2662/2662 [==============================] - 25s 9ms/step - loss: 0.1440 - accuracy: 0.9443 - val_loss: 0.1431 - val_accuracy: 0.9446\n",
      "Epoch 17/5000\n",
      "2662/2662 [==============================] - 26s 10ms/step - loss: 0.1433 - accuracy: 0.9446 - val_loss: 0.1425 - val_accuracy: 0.9449\n",
      "Epoch 18/5000\n",
      "2662/2662 [==============================] - 26s 10ms/step - loss: 0.1427 - accuracy: 0.9448 - val_loss: 0.1419 - val_accuracy: 0.9450\n",
      "Epoch 19/5000\n",
      "2662/2662 [==============================] - 27s 10ms/step - loss: 0.1422 - accuracy: 0.9450 - val_loss: 0.1414 - val_accuracy: 0.9453\n",
      "Epoch 20/5000\n",
      "2662/2662 [==============================] - 27s 10ms/step - loss: 0.1417 - accuracy: 0.9452 - val_loss: 0.1409 - val_accuracy: 0.9455\n",
      "Epoch 21/5000\n",
      "2662/2662 [==============================] - 26s 10ms/step - loss: 0.1413 - accuracy: 0.9453 - val_loss: 0.1405 - val_accuracy: 0.9456\n",
      "Epoch 22/5000\n",
      "2662/2662 [==============================] - 27s 10ms/step - loss: 0.1408 - accuracy: 0.9455 - val_loss: 0.1401 - val_accuracy: 0.9457\n",
      "Epoch 23/5000\n",
      "2662/2662 [==============================] - 25s 9ms/step - loss: 0.1405 - accuracy: 0.9456 - val_loss: 0.1397 - val_accuracy: 0.9459\n",
      "Epoch 24/5000\n",
      "2662/2662 [==============================] - 26s 10ms/step - loss: 0.1401 - accuracy: 0.9458 - val_loss: 0.1394 - val_accuracy: 0.9460\n",
      "Epoch 25/5000\n",
      "2662/2662 [==============================] - 27s 10ms/step - loss: 0.1398 - accuracy: 0.9459 - val_loss: 0.1390 - val_accuracy: 0.9461\n",
      "Epoch 26/5000\n",
      "2662/2662 [==============================] - 27s 10ms/step - loss: 0.1395 - accuracy: 0.9460 - val_loss: 0.1388 - val_accuracy: 0.9462\n",
      "Epoch 27/5000\n",
      "2662/2662 [==============================] - 27s 10ms/step - loss: 0.1392 - accuracy: 0.9461 - val_loss: 0.1385 - val_accuracy: 0.9463\n",
      "Epoch 28/5000\n",
      "2662/2662 [==============================] - 27s 10ms/step - loss: 0.1389 - accuracy: 0.9462 - val_loss: 0.1383 - val_accuracy: 0.9464\n",
      "Epoch 29/5000\n",
      "2662/2662 [==============================] - 26s 10ms/step - loss: 0.1387 - accuracy: 0.9463 - val_loss: 0.1380 - val_accuracy: 0.9465\n",
      "Epoch 30/5000\n",
      "2662/2662 [==============================] - 26s 10ms/step - loss: 0.1385 - accuracy: 0.9464 - val_loss: 0.1378 - val_accuracy: 0.9466\n",
      "Epoch 31/5000\n",
      "2662/2662 [==============================] - 26s 10ms/step - loss: 0.1382 - accuracy: 0.9464 - val_loss: 0.1377 - val_accuracy: 0.9466\n",
      "Epoch 32/5000\n",
      "2662/2662 [==============================] - 27s 10ms/step - loss: 0.1380 - accuracy: 0.9465 - val_loss: 0.1374 - val_accuracy: 0.9468\n",
      "Epoch 33/5000\n",
      " 130/2662 [>.............................] - ETA: 17s - loss: 0.1380 - accuracy: 0.9467"
     ]
    },
    {
     "ename": "KeyboardInterrupt",
     "evalue": "",
     "output_type": "error",
     "traceback": [
      "\u001b[0;31m---------------------------------------------------------------------------\u001b[0m",
      "\u001b[0;31mKeyboardInterrupt\u001b[0m                         Traceback (most recent call last)",
      "Cell \u001b[0;32mIn[84], line 14\u001b[0m\n\u001b[1;32m     11\u001b[0m opt \u001b[38;5;241m=\u001b[39m tf\u001b[38;5;241m.\u001b[39mkeras\u001b[38;5;241m.\u001b[39moptimizers\u001b[38;5;241m.\u001b[39mAdam(learning_rate\u001b[38;5;241m=\u001b[39m\u001b[38;5;241m0.00001\u001b[39m)\n\u001b[1;32m     12\u001b[0m model_qq\u001b[38;5;241m.\u001b[39mcompile(loss\u001b[38;5;241m=\u001b[39m\u001b[38;5;124m'\u001b[39m\u001b[38;5;124mbinary_crossentropy\u001b[39m\u001b[38;5;124m'\u001b[39m, optimizer\u001b[38;5;241m=\u001b[39mopt, metrics\u001b[38;5;241m=\u001b[39m[\u001b[38;5;124m'\u001b[39m\u001b[38;5;124maccuracy\u001b[39m\u001b[38;5;124m'\u001b[39m])\n\u001b[0;32m---> 14\u001b[0m myhistory_qq \u001b[38;5;241m=\u001b[39m \u001b[43mmodel_qq\u001b[49m\u001b[38;5;241;43m.\u001b[39;49m\u001b[43mfit\u001b[49m\u001b[43m(\u001b[49m\u001b[43mX_train_qq\u001b[49m\u001b[43m,\u001b[49m\u001b[43m \u001b[49m\u001b[43mY_train_qq\u001b[49m\u001b[43m,\u001b[49m\u001b[43m \u001b[49m\u001b[43mepochs\u001b[49m\u001b[38;5;241;43m=\u001b[39;49m\u001b[38;5;241;43m5000\u001b[39;49m\u001b[43m,\u001b[49m\u001b[43mvalidation_data\u001b[49m\u001b[38;5;241;43m=\u001b[39;49m\u001b[43m(\u001b[49m\u001b[43mX_val_qq\u001b[49m\u001b[43m,\u001b[49m\u001b[43m \u001b[49m\u001b[43mY_val_qq\u001b[49m\u001b[43m)\u001b[49m\u001b[43m,\u001b[49m\u001b[43mbatch_size\u001b[49m\u001b[38;5;241;43m=\u001b[39;49m\u001b[38;5;241;43m5\u001b[39;49m\u001b[38;5;241;43m*\u001b[39;49m\u001b[38;5;241;43m1024\u001b[39;49m\u001b[43m,\u001b[49m\u001b[43mcallbacks\u001b[49m\u001b[38;5;241;43m=\u001b[39;49m\u001b[43m[\u001b[49m\u001b[43mes\u001b[49m\u001b[43m]\u001b[49m\u001b[43m)\u001b[49m\n\u001b[1;32m     16\u001b[0m plt\u001b[38;5;241m.\u001b[39mplot(myhistory_qq\u001b[38;5;241m.\u001b[39mhistory[\u001b[38;5;124m'\u001b[39m\u001b[38;5;124mval_loss\u001b[39m\u001b[38;5;124m'\u001b[39m][\u001b[38;5;241m1\u001b[39m:])\n\u001b[1;32m     17\u001b[0m plt\u001b[38;5;241m.\u001b[39mplot(myhistory_qq\u001b[38;5;241m.\u001b[39mhistory[\u001b[38;5;124m'\u001b[39m\u001b[38;5;124mloss\u001b[39m\u001b[38;5;124m'\u001b[39m][\u001b[38;5;241m1\u001b[39m:])\n",
      "File \u001b[0;32m/global/common/software/nersc/pm-2022q4/sw/tensorflow/2.9.0/lib/python3.9/site-packages/keras/utils/traceback_utils.py:64\u001b[0m, in \u001b[0;36mfilter_traceback.<locals>.error_handler\u001b[0;34m(*args, **kwargs)\u001b[0m\n\u001b[1;32m     62\u001b[0m filtered_tb \u001b[38;5;241m=\u001b[39m \u001b[38;5;28;01mNone\u001b[39;00m\n\u001b[1;32m     63\u001b[0m \u001b[38;5;28;01mtry\u001b[39;00m:\n\u001b[0;32m---> 64\u001b[0m   \u001b[38;5;28;01mreturn\u001b[39;00m \u001b[43mfn\u001b[49m\u001b[43m(\u001b[49m\u001b[38;5;241;43m*\u001b[39;49m\u001b[43margs\u001b[49m\u001b[43m,\u001b[49m\u001b[43m \u001b[49m\u001b[38;5;241;43m*\u001b[39;49m\u001b[38;5;241;43m*\u001b[39;49m\u001b[43mkwargs\u001b[49m\u001b[43m)\u001b[49m\n\u001b[1;32m     65\u001b[0m \u001b[38;5;28;01mexcept\u001b[39;00m \u001b[38;5;167;01mException\u001b[39;00m \u001b[38;5;28;01mas\u001b[39;00m e:  \u001b[38;5;66;03m# pylint: disable=broad-except\u001b[39;00m\n\u001b[1;32m     66\u001b[0m   filtered_tb \u001b[38;5;241m=\u001b[39m _process_traceback_frames(e\u001b[38;5;241m.\u001b[39m__traceback__)\n",
      "File \u001b[0;32m/global/common/software/nersc/pm-2022q4/sw/tensorflow/2.9.0/lib/python3.9/site-packages/keras/engine/training.py:1414\u001b[0m, in \u001b[0;36mModel.fit\u001b[0;34m(self, x, y, batch_size, epochs, verbose, callbacks, validation_split, validation_data, shuffle, class_weight, sample_weight, initial_epoch, steps_per_epoch, validation_steps, validation_batch_size, validation_freq, max_queue_size, workers, use_multiprocessing)\u001b[0m\n\u001b[1;32m   1412\u001b[0m logs \u001b[38;5;241m=\u001b[39m tmp_logs  \u001b[38;5;66;03m# No error, now safe to assign to logs.\u001b[39;00m\n\u001b[1;32m   1413\u001b[0m end_step \u001b[38;5;241m=\u001b[39m step \u001b[38;5;241m+\u001b[39m data_handler\u001b[38;5;241m.\u001b[39mstep_increment\n\u001b[0;32m-> 1414\u001b[0m \u001b[43mcallbacks\u001b[49m\u001b[38;5;241;43m.\u001b[39;49m\u001b[43mon_train_batch_end\u001b[49m\u001b[43m(\u001b[49m\u001b[43mend_step\u001b[49m\u001b[43m,\u001b[49m\u001b[43m \u001b[49m\u001b[43mlogs\u001b[49m\u001b[43m)\u001b[49m\n\u001b[1;32m   1415\u001b[0m \u001b[38;5;28;01mif\u001b[39;00m \u001b[38;5;28mself\u001b[39m\u001b[38;5;241m.\u001b[39mstop_training:\n\u001b[1;32m   1416\u001b[0m   \u001b[38;5;28;01mbreak\u001b[39;00m\n",
      "File \u001b[0;32m/global/common/software/nersc/pm-2022q4/sw/tensorflow/2.9.0/lib/python3.9/site-packages/keras/callbacks.py:438\u001b[0m, in \u001b[0;36mCallbackList.on_train_batch_end\u001b[0;34m(self, batch, logs)\u001b[0m\n\u001b[1;32m    431\u001b[0m \u001b[38;5;124;03m\"\"\"Calls the `on_train_batch_end` methods of its callbacks.\u001b[39;00m\n\u001b[1;32m    432\u001b[0m \n\u001b[1;32m    433\u001b[0m \u001b[38;5;124;03mArgs:\u001b[39;00m\n\u001b[1;32m    434\u001b[0m \u001b[38;5;124;03m    batch: Integer, index of batch within the current epoch.\u001b[39;00m\n\u001b[1;32m    435\u001b[0m \u001b[38;5;124;03m    logs: Dict. Aggregated metric results up until this batch.\u001b[39;00m\n\u001b[1;32m    436\u001b[0m \u001b[38;5;124;03m\"\"\"\u001b[39;00m\n\u001b[1;32m    437\u001b[0m \u001b[38;5;28;01mif\u001b[39;00m \u001b[38;5;28mself\u001b[39m\u001b[38;5;241m.\u001b[39m_should_call_train_batch_hooks:\n\u001b[0;32m--> 438\u001b[0m   \u001b[38;5;28;43mself\u001b[39;49m\u001b[38;5;241;43m.\u001b[39;49m\u001b[43m_call_batch_hook\u001b[49m\u001b[43m(\u001b[49m\u001b[43mModeKeys\u001b[49m\u001b[38;5;241;43m.\u001b[39;49m\u001b[43mTRAIN\u001b[49m\u001b[43m,\u001b[49m\u001b[43m \u001b[49m\u001b[38;5;124;43m'\u001b[39;49m\u001b[38;5;124;43mend\u001b[39;49m\u001b[38;5;124;43m'\u001b[39;49m\u001b[43m,\u001b[49m\u001b[43m \u001b[49m\u001b[43mbatch\u001b[49m\u001b[43m,\u001b[49m\u001b[43m \u001b[49m\u001b[43mlogs\u001b[49m\u001b[38;5;241;43m=\u001b[39;49m\u001b[43mlogs\u001b[49m\u001b[43m)\u001b[49m\n",
      "File \u001b[0;32m/global/common/software/nersc/pm-2022q4/sw/tensorflow/2.9.0/lib/python3.9/site-packages/keras/callbacks.py:297\u001b[0m, in \u001b[0;36mCallbackList._call_batch_hook\u001b[0;34m(self, mode, hook, batch, logs)\u001b[0m\n\u001b[1;32m    295\u001b[0m   \u001b[38;5;28mself\u001b[39m\u001b[38;5;241m.\u001b[39m_call_batch_begin_hook(mode, batch, logs)\n\u001b[1;32m    296\u001b[0m \u001b[38;5;28;01melif\u001b[39;00m hook \u001b[38;5;241m==\u001b[39m \u001b[38;5;124m'\u001b[39m\u001b[38;5;124mend\u001b[39m\u001b[38;5;124m'\u001b[39m:\n\u001b[0;32m--> 297\u001b[0m   \u001b[38;5;28;43mself\u001b[39;49m\u001b[38;5;241;43m.\u001b[39;49m\u001b[43m_call_batch_end_hook\u001b[49m\u001b[43m(\u001b[49m\u001b[43mmode\u001b[49m\u001b[43m,\u001b[49m\u001b[43m \u001b[49m\u001b[43mbatch\u001b[49m\u001b[43m,\u001b[49m\u001b[43m \u001b[49m\u001b[43mlogs\u001b[49m\u001b[43m)\u001b[49m\n\u001b[1;32m    298\u001b[0m \u001b[38;5;28;01melse\u001b[39;00m:\n\u001b[1;32m    299\u001b[0m   \u001b[38;5;28;01mraise\u001b[39;00m \u001b[38;5;167;01mValueError\u001b[39;00m(\n\u001b[1;32m    300\u001b[0m       \u001b[38;5;124mf\u001b[39m\u001b[38;5;124m'\u001b[39m\u001b[38;5;124mUnrecognized hook: \u001b[39m\u001b[38;5;132;01m{\u001b[39;00mhook\u001b[38;5;132;01m}\u001b[39;00m\u001b[38;5;124m. Expected values are [\u001b[39m\u001b[38;5;124m\"\u001b[39m\u001b[38;5;124mbegin\u001b[39m\u001b[38;5;124m\"\u001b[39m\u001b[38;5;124m, \u001b[39m\u001b[38;5;124m\"\u001b[39m\u001b[38;5;124mend\u001b[39m\u001b[38;5;124m\"\u001b[39m\u001b[38;5;124m]\u001b[39m\u001b[38;5;124m'\u001b[39m)\n",
      "File \u001b[0;32m/global/common/software/nersc/pm-2022q4/sw/tensorflow/2.9.0/lib/python3.9/site-packages/keras/callbacks.py:318\u001b[0m, in \u001b[0;36mCallbackList._call_batch_end_hook\u001b[0;34m(self, mode, batch, logs)\u001b[0m\n\u001b[1;32m    315\u001b[0m   batch_time \u001b[38;5;241m=\u001b[39m time\u001b[38;5;241m.\u001b[39mtime() \u001b[38;5;241m-\u001b[39m \u001b[38;5;28mself\u001b[39m\u001b[38;5;241m.\u001b[39m_batch_start_time\n\u001b[1;32m    316\u001b[0m   \u001b[38;5;28mself\u001b[39m\u001b[38;5;241m.\u001b[39m_batch_times\u001b[38;5;241m.\u001b[39mappend(batch_time)\n\u001b[0;32m--> 318\u001b[0m \u001b[38;5;28;43mself\u001b[39;49m\u001b[38;5;241;43m.\u001b[39;49m\u001b[43m_call_batch_hook_helper\u001b[49m\u001b[43m(\u001b[49m\u001b[43mhook_name\u001b[49m\u001b[43m,\u001b[49m\u001b[43m \u001b[49m\u001b[43mbatch\u001b[49m\u001b[43m,\u001b[49m\u001b[43m \u001b[49m\u001b[43mlogs\u001b[49m\u001b[43m)\u001b[49m\n\u001b[1;32m    320\u001b[0m \u001b[38;5;28;01mif\u001b[39;00m \u001b[38;5;28mlen\u001b[39m(\u001b[38;5;28mself\u001b[39m\u001b[38;5;241m.\u001b[39m_batch_times) \u001b[38;5;241m>\u001b[39m\u001b[38;5;241m=\u001b[39m \u001b[38;5;28mself\u001b[39m\u001b[38;5;241m.\u001b[39m_num_batches_for_timing_check:\n\u001b[1;32m    321\u001b[0m   end_hook_name \u001b[38;5;241m=\u001b[39m hook_name\n",
      "File \u001b[0;32m/global/common/software/nersc/pm-2022q4/sw/tensorflow/2.9.0/lib/python3.9/site-packages/keras/callbacks.py:356\u001b[0m, in \u001b[0;36mCallbackList._call_batch_hook_helper\u001b[0;34m(self, hook_name, batch, logs)\u001b[0m\n\u001b[1;32m    354\u001b[0m \u001b[38;5;28;01mfor\u001b[39;00m callback \u001b[38;5;129;01min\u001b[39;00m \u001b[38;5;28mself\u001b[39m\u001b[38;5;241m.\u001b[39mcallbacks:\n\u001b[1;32m    355\u001b[0m   hook \u001b[38;5;241m=\u001b[39m \u001b[38;5;28mgetattr\u001b[39m(callback, hook_name)\n\u001b[0;32m--> 356\u001b[0m   \u001b[43mhook\u001b[49m\u001b[43m(\u001b[49m\u001b[43mbatch\u001b[49m\u001b[43m,\u001b[49m\u001b[43m \u001b[49m\u001b[43mlogs\u001b[49m\u001b[43m)\u001b[49m\n\u001b[1;32m    358\u001b[0m \u001b[38;5;28;01mif\u001b[39;00m \u001b[38;5;28mself\u001b[39m\u001b[38;5;241m.\u001b[39m_check_timing:\n\u001b[1;32m    359\u001b[0m   \u001b[38;5;28;01mif\u001b[39;00m hook_name \u001b[38;5;129;01mnot\u001b[39;00m \u001b[38;5;129;01min\u001b[39;00m \u001b[38;5;28mself\u001b[39m\u001b[38;5;241m.\u001b[39m_hook_times:\n",
      "File \u001b[0;32m/global/common/software/nersc/pm-2022q4/sw/tensorflow/2.9.0/lib/python3.9/site-packages/keras/callbacks.py:1034\u001b[0m, in \u001b[0;36mProgbarLogger.on_train_batch_end\u001b[0;34m(self, batch, logs)\u001b[0m\n\u001b[1;32m   1033\u001b[0m \u001b[38;5;28;01mdef\u001b[39;00m \u001b[38;5;21mon_train_batch_end\u001b[39m(\u001b[38;5;28mself\u001b[39m, batch, logs\u001b[38;5;241m=\u001b[39m\u001b[38;5;28;01mNone\u001b[39;00m):\n\u001b[0;32m-> 1034\u001b[0m   \u001b[38;5;28;43mself\u001b[39;49m\u001b[38;5;241;43m.\u001b[39;49m\u001b[43m_batch_update_progbar\u001b[49m\u001b[43m(\u001b[49m\u001b[43mbatch\u001b[49m\u001b[43m,\u001b[49m\u001b[43m \u001b[49m\u001b[43mlogs\u001b[49m\u001b[43m)\u001b[49m\n",
      "File \u001b[0;32m/global/common/software/nersc/pm-2022q4/sw/tensorflow/2.9.0/lib/python3.9/site-packages/keras/callbacks.py:1106\u001b[0m, in \u001b[0;36mProgbarLogger._batch_update_progbar\u001b[0;34m(self, batch, logs)\u001b[0m\n\u001b[1;32m   1102\u001b[0m   \u001b[38;5;28mself\u001b[39m\u001b[38;5;241m.\u001b[39mseen \u001b[38;5;241m+\u001b[39m\u001b[38;5;241m=\u001b[39m add_seen\n\u001b[1;32m   1104\u001b[0m \u001b[38;5;28;01mif\u001b[39;00m \u001b[38;5;28mself\u001b[39m\u001b[38;5;241m.\u001b[39mverbose \u001b[38;5;241m==\u001b[39m \u001b[38;5;241m1\u001b[39m:\n\u001b[1;32m   1105\u001b[0m   \u001b[38;5;66;03m# Only block async when verbose = 1.\u001b[39;00m\n\u001b[0;32m-> 1106\u001b[0m   logs \u001b[38;5;241m=\u001b[39m \u001b[43mtf_utils\u001b[49m\u001b[38;5;241;43m.\u001b[39;49m\u001b[43msync_to_numpy_or_python_type\u001b[49m\u001b[43m(\u001b[49m\u001b[43mlogs\u001b[49m\u001b[43m)\u001b[49m\n\u001b[1;32m   1107\u001b[0m   \u001b[38;5;28mself\u001b[39m\u001b[38;5;241m.\u001b[39mprogbar\u001b[38;5;241m.\u001b[39mupdate(\u001b[38;5;28mself\u001b[39m\u001b[38;5;241m.\u001b[39mseen, \u001b[38;5;28mlist\u001b[39m(logs\u001b[38;5;241m.\u001b[39mitems()), finalize\u001b[38;5;241m=\u001b[39m\u001b[38;5;28;01mFalse\u001b[39;00m)\n",
      "File \u001b[0;32m/global/common/software/nersc/pm-2022q4/sw/tensorflow/2.9.0/lib/python3.9/site-packages/keras/utils/tf_utils.py:607\u001b[0m, in \u001b[0;36msync_to_numpy_or_python_type\u001b[0;34m(tensors)\u001b[0m\n\u001b[1;32m    604\u001b[0m     \u001b[38;5;28;01mreturn\u001b[39;00m t\n\u001b[1;32m    605\u001b[0m   \u001b[38;5;28;01mreturn\u001b[39;00m t\u001b[38;5;241m.\u001b[39mitem() \u001b[38;5;28;01mif\u001b[39;00m np\u001b[38;5;241m.\u001b[39mndim(t) \u001b[38;5;241m==\u001b[39m \u001b[38;5;241m0\u001b[39m \u001b[38;5;28;01melse\u001b[39;00m t\n\u001b[0;32m--> 607\u001b[0m \u001b[38;5;28;01mreturn\u001b[39;00m \u001b[43mtf\u001b[49m\u001b[38;5;241;43m.\u001b[39;49m\u001b[43mnest\u001b[49m\u001b[38;5;241;43m.\u001b[39;49m\u001b[43mmap_structure\u001b[49m\u001b[43m(\u001b[49m\u001b[43m_to_single_numpy_or_python_type\u001b[49m\u001b[43m,\u001b[49m\u001b[43m \u001b[49m\u001b[43mtensors\u001b[49m\u001b[43m)\u001b[49m\n",
      "File \u001b[0;32m/global/common/software/nersc/pm-2022q4/sw/tensorflow/2.9.0/lib/python3.9/site-packages/tensorflow/python/util/nest.py:916\u001b[0m, in \u001b[0;36mmap_structure\u001b[0;34m(func, *structure, **kwargs)\u001b[0m\n\u001b[1;32m    912\u001b[0m flat_structure \u001b[38;5;241m=\u001b[39m (flatten(s, expand_composites) \u001b[38;5;28;01mfor\u001b[39;00m s \u001b[38;5;129;01min\u001b[39;00m structure)\n\u001b[1;32m    913\u001b[0m entries \u001b[38;5;241m=\u001b[39m \u001b[38;5;28mzip\u001b[39m(\u001b[38;5;241m*\u001b[39mflat_structure)\n\u001b[1;32m    915\u001b[0m \u001b[38;5;28;01mreturn\u001b[39;00m pack_sequence_as(\n\u001b[0;32m--> 916\u001b[0m     structure[\u001b[38;5;241m0\u001b[39m], [func(\u001b[38;5;241m*\u001b[39mx) \u001b[38;5;28;01mfor\u001b[39;00m x \u001b[38;5;129;01min\u001b[39;00m entries],\n\u001b[1;32m    917\u001b[0m     expand_composites\u001b[38;5;241m=\u001b[39mexpand_composites)\n",
      "File \u001b[0;32m/global/common/software/nersc/pm-2022q4/sw/tensorflow/2.9.0/lib/python3.9/site-packages/tensorflow/python/util/nest.py:916\u001b[0m, in \u001b[0;36m<listcomp>\u001b[0;34m(.0)\u001b[0m\n\u001b[1;32m    912\u001b[0m flat_structure \u001b[38;5;241m=\u001b[39m (flatten(s, expand_composites) \u001b[38;5;28;01mfor\u001b[39;00m s \u001b[38;5;129;01min\u001b[39;00m structure)\n\u001b[1;32m    913\u001b[0m entries \u001b[38;5;241m=\u001b[39m \u001b[38;5;28mzip\u001b[39m(\u001b[38;5;241m*\u001b[39mflat_structure)\n\u001b[1;32m    915\u001b[0m \u001b[38;5;28;01mreturn\u001b[39;00m pack_sequence_as(\n\u001b[0;32m--> 916\u001b[0m     structure[\u001b[38;5;241m0\u001b[39m], [\u001b[43mfunc\u001b[49m\u001b[43m(\u001b[49m\u001b[38;5;241;43m*\u001b[39;49m\u001b[43mx\u001b[49m\u001b[43m)\u001b[49m \u001b[38;5;28;01mfor\u001b[39;00m x \u001b[38;5;129;01min\u001b[39;00m entries],\n\u001b[1;32m    917\u001b[0m     expand_composites\u001b[38;5;241m=\u001b[39mexpand_composites)\n",
      "File \u001b[0;32m/global/common/software/nersc/pm-2022q4/sw/tensorflow/2.9.0/lib/python3.9/site-packages/keras/utils/tf_utils.py:601\u001b[0m, in \u001b[0;36msync_to_numpy_or_python_type.<locals>._to_single_numpy_or_python_type\u001b[0;34m(t)\u001b[0m\n\u001b[1;32m    598\u001b[0m \u001b[38;5;28;01mdef\u001b[39;00m \u001b[38;5;21m_to_single_numpy_or_python_type\u001b[39m(t):\n\u001b[1;32m    599\u001b[0m   \u001b[38;5;66;03m# Don't turn ragged or sparse tensors to NumPy.\u001b[39;00m\n\u001b[1;32m    600\u001b[0m   \u001b[38;5;28;01mif\u001b[39;00m \u001b[38;5;28misinstance\u001b[39m(t, tf\u001b[38;5;241m.\u001b[39mTensor):\n\u001b[0;32m--> 601\u001b[0m     t \u001b[38;5;241m=\u001b[39m \u001b[43mt\u001b[49m\u001b[38;5;241;43m.\u001b[39;49m\u001b[43mnumpy\u001b[49m\u001b[43m(\u001b[49m\u001b[43m)\u001b[49m\n\u001b[1;32m    602\u001b[0m   \u001b[38;5;66;03m# Strings, ragged and sparse tensors don't have .item(). Return them as-is.\u001b[39;00m\n\u001b[1;32m    603\u001b[0m   \u001b[38;5;28;01mif\u001b[39;00m \u001b[38;5;129;01mnot\u001b[39;00m \u001b[38;5;28misinstance\u001b[39m(t, (np\u001b[38;5;241m.\u001b[39mndarray, np\u001b[38;5;241m.\u001b[39mgeneric)):\n",
      "File \u001b[0;32m/global/common/software/nersc/pm-2022q4/sw/tensorflow/2.9.0/lib/python3.9/site-packages/tensorflow/python/framework/ops.py:1159\u001b[0m, in \u001b[0;36m_EagerTensorBase.numpy\u001b[0;34m(self)\u001b[0m\n\u001b[1;32m   1136\u001b[0m \u001b[38;5;124;03m\"\"\"Copy of the contents of this Tensor into a NumPy array or scalar.\u001b[39;00m\n\u001b[1;32m   1137\u001b[0m \n\u001b[1;32m   1138\u001b[0m \u001b[38;5;124;03mUnlike NumPy arrays, Tensors are immutable, so this method has to copy\u001b[39;00m\n\u001b[0;32m   (...)\u001b[0m\n\u001b[1;32m   1156\u001b[0m \u001b[38;5;124;03m    NumPy dtype.\u001b[39;00m\n\u001b[1;32m   1157\u001b[0m \u001b[38;5;124;03m\"\"\"\u001b[39;00m\n\u001b[1;32m   1158\u001b[0m \u001b[38;5;66;03m# TODO(slebedev): Consider avoiding a copy for non-CPU or remote tensors.\u001b[39;00m\n\u001b[0;32m-> 1159\u001b[0m maybe_arr \u001b[38;5;241m=\u001b[39m \u001b[38;5;28;43mself\u001b[39;49m\u001b[38;5;241;43m.\u001b[39;49m\u001b[43m_numpy\u001b[49m\u001b[43m(\u001b[49m\u001b[43m)\u001b[49m  \u001b[38;5;66;03m# pylint: disable=protected-access\u001b[39;00m\n\u001b[1;32m   1160\u001b[0m \u001b[38;5;28;01mreturn\u001b[39;00m maybe_arr\u001b[38;5;241m.\u001b[39mcopy() \u001b[38;5;28;01mif\u001b[39;00m \u001b[38;5;28misinstance\u001b[39m(maybe_arr, np\u001b[38;5;241m.\u001b[39mndarray) \u001b[38;5;28;01melse\u001b[39;00m maybe_arr\n",
      "File \u001b[0;32m/global/common/software/nersc/pm-2022q4/sw/tensorflow/2.9.0/lib/python3.9/site-packages/tensorflow/python/framework/ops.py:1125\u001b[0m, in \u001b[0;36m_EagerTensorBase._numpy\u001b[0;34m(self)\u001b[0m\n\u001b[1;32m   1123\u001b[0m \u001b[38;5;28;01mdef\u001b[39;00m \u001b[38;5;21m_numpy\u001b[39m(\u001b[38;5;28mself\u001b[39m):\n\u001b[1;32m   1124\u001b[0m   \u001b[38;5;28;01mtry\u001b[39;00m:\n\u001b[0;32m-> 1125\u001b[0m     \u001b[38;5;28;01mreturn\u001b[39;00m \u001b[38;5;28;43mself\u001b[39;49m\u001b[38;5;241;43m.\u001b[39;49m\u001b[43m_numpy_internal\u001b[49m\u001b[43m(\u001b[49m\u001b[43m)\u001b[49m\n\u001b[1;32m   1126\u001b[0m   \u001b[38;5;28;01mexcept\u001b[39;00m core\u001b[38;5;241m.\u001b[39m_NotOkStatusException \u001b[38;5;28;01mas\u001b[39;00m e:  \u001b[38;5;66;03m# pylint: disable=protected-access\u001b[39;00m\n\u001b[1;32m   1127\u001b[0m     \u001b[38;5;28;01mraise\u001b[39;00m core\u001b[38;5;241m.\u001b[39m_status_to_exception(e) \u001b[38;5;28;01mfrom\u001b[39;00m \u001b[38;5;28mNone\u001b[39m\n",
      "\u001b[0;31mKeyboardInterrupt\u001b[0m: "
     ]
    }
   ],
   "source": [
    "es = tf.keras.callbacks.EarlyStopping(monitor='val_loss', patience=5)\n",
    "\n",
    "model_qq = Sequential()\n",
    "model_qq.add(Dense(256, input_dim=8, activation='swish'))\n",
    "model_qq.add(BatchNormalization())\n",
    "model_qq.add(Dense(256, activation='swish'))\n",
    "model_qq.add(BatchNormalization())\n",
    "model_qq.add(Dense(256, activation='swish'))\n",
    "model_qq.add(BatchNormalization())\n",
    "model_qq.add(Dense(1, activation='sigmoid'))\n",
    "opt = tf.keras.optimizers.Adam(learning_rate=0.00001)\n",
    "model_qq.compile(loss='binary_crossentropy', optimizer=opt, metrics=['accuracy'])\n",
    "\n",
    "myhistory_qq = model_qq.fit(X_train_qq, Y_train_qq, epochs=5000,validation_data=(X_val_qq, Y_val_qq),batch_size=5*1024,callbacks=[es])\n",
    "\n",
    "plt.plot(myhistory_qq.history['val_loss'][1:])\n",
    "plt.plot(myhistory_qq.history['loss'][1:])"
   ]
  },
  {
   "cell_type": "code",
   "execution_count": 85,
   "id": "283e7f81-772b-4ad6-a46f-7448a6713f3c",
   "metadata": {
    "tags": []
   },
   "outputs": [
    {
     "name": "stdout",
     "output_type": "stream",
     "text": [
      "INFO:tensorflow:Assets written to: model_qq_v2/assets\n"
     ]
    }
   ],
   "source": [
    "#model_qq.save('model_qq_v2')"
   ]
  },
  {
   "cell_type": "code",
   "execution_count": 7,
   "id": "0f7b0b5d-6303-4de9-bd4e-bf5ce4070257",
   "metadata": {
    "tags": []
   },
   "outputs": [
    {
     "name": "stderr",
     "output_type": "stream",
     "text": [
      "2024-01-01 21:23:05.487174: I tensorflow/core/platform/cpu_feature_guard.cc:193] This TensorFlow binary is optimized with oneAPI Deep Neural Network Library (oneDNN) to use the following CPU instructions in performance-critical operations:  AVX2 FMA\n",
      "To enable them in other operations, rebuild TensorFlow with the appropriate compiler flags.\n",
      "2024-01-01 21:23:06.755457: I tensorflow/core/common_runtime/gpu/gpu_device.cc:1532] Created device /job:localhost/replica:0/task:0/device:GPU:0 with 33909 MB memory:  -> device: 0, name: NVIDIA A100-PCIE-40GB, pci bus id: 0000:c3:00.0, compute capability: 8.0\n"
     ]
    }
   ],
   "source": [
    "model_qq = tf.keras.models.load_model(\"model_qq_v2\")"
   ]
  },
  {
   "cell_type": "code",
   "execution_count": 41,
   "id": "96b6ed12-c552-4c88-8651-d55b9a96e2ab",
   "metadata": {
    "tags": []
   },
   "outputs": [
    {
     "name": "stdout",
     "output_type": "stream",
     "text": [
      "0.07\n",
      "3.5 5.5 3.4668512 5.506187\n"
     ]
    }
   ],
   "source": [
    "from sklearn.metrics import roc_auc_score\n",
    "from sklearn import metrics\n",
    "import matplotlib.pyplot as plt\n",
    "\n",
    "qq = 'qq'\n",
    "\n",
    "xx = []\n",
    "yy = []\n",
    "zz = []\n",
    "ww = []\n",
    "\n",
    "msic1 = []\n",
    "msic2 = []\n",
    "\n",
    "#for sigfrac in np.logspace(-3,-1,20):\n",
    "print(sigfrac)\n",
    "sigfrac = 0.07\n",
    "\n",
    "w1 = 3\n",
    "w2 = 3.5\n",
    "# if (sigfrac > 0.5):\n",
    "#     continue\n",
    "\n",
    "for l in model_qq.layers:\n",
    "    l.trainable=False\n",
    "\n",
    "inputs_hold = tf.keras.Input(shape=(1,))\n",
    "simple_model = Dense(1,use_bias = False,activation='relu',kernel_initializer=tf.keras.initializers.Constant(w1))(inputs_hold)\n",
    "model3 = Model(inputs = inputs_hold, outputs = simple_model)\n",
    "\n",
    "inputs_hold2 = tf.keras.Input(shape=(1,))\n",
    "simple_model2 = Dense(1,use_bias = False,activation='relu',kernel_initializer=tf.keras.initializers.Constant(w2))(inputs_hold2)\n",
    "model32 = Model(inputs = inputs_hold2, outputs = simple_model2)\n",
    "\n",
    "inputs_hold3 = tf.keras.Input(shape=(1,))\n",
    "simple_model3 = tf.exp(Dense(1,use_bias = False,activation='linear',kernel_initializer=tf.keras.initializers.Constant(-1))(inputs_hold3))\n",
    "model33 = Model(inputs = inputs_hold3, outputs = simple_model3)\n",
    "\n",
    "inputs = tf.keras.Input(shape=(6,))\n",
    "inputs2 = tf.keras.layers.concatenate([inputs,model3(tf.ones_like(inputs)[:,0]),model32(tf.ones_like(inputs)[:,0])])\n",
    "hidden_layer_1 = model_qq(inputs2)\n",
    "LLR = hidden_layer_1 / (1.-hidden_layer_1)\n",
    "LLR_xs = 1.+sigfrac*LLR - sigfrac\n",
    "#LLR_xs = 1 + model33(tf.ones_like(inputs)[:,0])*LLR\n",
    "ws = LLR_xs / (1.+LLR_xs+0.0001)\n",
    "model_all2 = Model(inputs = inputs, outputs = ws)\n",
    "model_all2.compile(loss='binary_crossentropy', optimizer=tf.keras.optimizers.Adam(learning_rate = 0.01))\n",
    "\n",
    "m1 = 3.5\n",
    "m2 = 5.5\n",
    "\n",
    "test_background = int(1/2 *len(x[0,0, qq]))\n",
    "train_background = int(1/4 * len(x[0,0,qq]))\n",
    "train_data = int(1/4 * len(x[0,0,qq]))\n",
    "train_reference = int(1/4 * len(x[0,0,qq]))\n",
    "#signal\n",
    "test_signal_length = int(1/2*len(x[m1,m2,qq]))\n",
    "sig_frac = sigfrac\n",
    "\n",
    "N = int(1/4 * len(x[0,0,qq]))\n",
    "signal = x[m1,m2,qq][test_signal_length:test_signal_length+int(sig_frac*N)]\n",
    "\n",
    "x_vals_ = np.concatenate([x[0,0,qq][test_background:],signal])\n",
    "y_vals_ = np.concatenate([np.zeros(train_reference),np.ones(train_data),np.ones(len(signal))])\n",
    "\n",
    "#print(N,len(x[0,0,qq])-N,len(x[m1,m2,qq][0:int(sig_frac*N)]),len(x[m1,m2,qq][0:int(sig_frac*N)])/N)\n",
    "\n",
    "X_train_, X_val_, Y_train_, Y_val_ = train_test_split(x_vals_, y_vals_, test_size=0.5, random_state = 42)\n",
    "\n",
    "with tf.device('/GPU:0'):\n",
    "    myhistory_hack_ = model_all2.fit(X_train_[:,0:6], Y_train_, epochs=20,validation_data=(X_val_[:,0:6], Y_val_),batch_size=1024, verbose = 0)\n",
    "print(m1,m2,model_all2.trainable_weights[0].numpy()[0][0],model_all2.trainable_weights[1].numpy()[0][0])\n",
    "xx+=[sigfrac]\n",
    "yy+=[model_all2.trainable_weights[0].numpy()[0][0]]\n",
    "zz+=[model_all2.trainable_weights[1].numpy()[0][0]]\n",
    "#ww+=[np.exp(model_all2.trainable_weights[2].numpy()[0][0])]\n",
    "    # scores = model_all2.predict(np.concatenate([x[0,0,qq][0:test_background],x[m1,m2,qq][0:test_signal_length]]),batch_size=1024)\n",
    "    # y = np.concatenate([np.zeros(test_background),np.ones(test_signal_length)])\n",
    "    # fpr, tpr, _ = metrics.roc_curve(y, scores)    \n",
    "\n",
    "#     model_cwola = Sequential()\n",
    "#     model_cwola.add(Dense(128, input_dim=6, activation='relu'))\n",
    "#     model_cwola.add(Dense(128, activation='relu'))\n",
    "#     model_cwola.add(Dense(128, activation='relu'))\n",
    "#     model_cwola.add(Dense(1, activation='sigmoid'))\n",
    "#     model_cwola.compile(loss='binary_crossentropy', optimizer='adam', metrics=['accuracy'])\n",
    "#     myhistory_cwola = model_cwola.fit(X_train_[:,0:6], Y_train_, epochs=10,validation_data=(X_val_[:,0:6], Y_val_),batch_size=1024)\n",
    "\n",
    "#     scores2 = model_cwola.predict(np.concatenate([x[0,0,qq][0:test_background],x[m1,m2,qq][0:test_signal_length]]),batch_size=1024)\n",
    "#     y2 = np.concatenate([np.zeros(test_background),np.ones(test_signal_length)])\n",
    "#     fpr2, tpr2, _ = metrics.roc_curve(y2, scores2)\n",
    "#     plt.plot(tpr,tpr/np.sqrt(fpr+0.0001))\n",
    "#     plt.plot(tpr2,tpr2/np.sqrt(fpr2+0.0001))\n",
    "\n",
    "#     msic1+=[np.max(tpr/np.sqrt(fpr+0.0001))]\n",
    "#     msic2+=[np.max(tpr2/np.sqrt(fpr2+0.0001))]"
   ]
  },
  {
   "cell_type": "code",
   "execution_count": 42,
   "id": "5dacd1f8-a269-4ce3-bec2-f015c1dd3fc9",
   "metadata": {
    "tags": []
   },
   "outputs": [],
   "source": [
    "plt.plot(xx,ww,label=\"Weakly\")\n",
    "plt.plot(xx,xx,ls=\":\",color=\"black\")\n",
    "\n",
    "plt.title(\"Fitted S/B\")\n",
    "plt.legend()\n",
    "plt.yscale(\"log\")\n",
    "plt.xscale(\"log\")\n",
    "plt.xlabel(\"sigfrac\")\n",
    "plt.ylabel(\"Fitted S/B\")"
   ]
  },
  {
   "cell_type": "code",
   "execution_count": 32,
   "id": "17cf842b-1c8b-4d3c-9027-f91755aeeb0f",
   "metadata": {},
   "outputs": [
    {
     "data": {
      "text/plain": [
       "(0.0, 700.0)"
      ]
     },
     "execution_count": 32,
     "metadata": {},
     "output_type": "execute_result"
    },
    {
     "data": {
      "image/png": "[encoded data removed]",
      "text/plain": [
       "<Figure size 640x480 with 1 Axes>"
      ]
     },
     "metadata": {},
     "output_type": "display_data"
    }
   ],
   "source": [
    "plt.plot(xx,np.array(yy)*100, label = f\"w1 {w1}\")\n",
    "plt.plot(xx,np.array(zz)*100, label = f\"w2 {w2}\")\n",
    "plt.xscale(\"log\")\n",
    "plt.xlabel(\"S/B\")\n",
    "plt.ylabel(\"Fitted masses [GeV]\")\n",
    "plt.title(\"Trainable Weights vs S/B 6 Features 3 Parameters\")\n",
    "plt.axhline(m2 * 100,ls=\":\",color='orange', label = m2)\n",
    "plt.axhline(m1 * 100,ls=\":\",color='blue', label = m1)\n",
    "plt.legend()\n",
    "plt.ylim([0,700])"
   ]
  },
  {
   "cell_type": "code",
   "execution_count": 88,
   "id": "ca2eeeff-b697-4481-add3-1ceb1f737e8a",
   "metadata": {
    "tags": []
   },
   "outputs": [
    {
     "data": {
      "text/plain": [
       "Text(0, 0.5, 'Max SIC')"
      ]
     },
     "execution_count": 88,
     "metadata": {},
     "output_type": "execute_result"
    },
    {
     "data": {
      "image/png": "[encoded data removed]",
      "text/plain": [
       "<Figure size 640x480 with 1 Axes>"
      ]
     },
     "metadata": {},
     "output_type": "display_data"
    }
   ],
   "source": [
    "plt.plot(xx,msic1,label=\"Weakly, Semisupervised\")\n",
    "plt.plot(xx,msic2,label=\"Weakly Supervised\")\n",
    "plt.title(f\"CWOLA vs Semi Weakly 6 Features m1: {m1} m2: {m2} | w1: {w1} w2: {w2}\")\n",
    "plt.legend()\n",
    "plt.xscale(\"log\")\n",
    "plt.xlabel(\"S/B\")\n",
    "plt.ylabel(\"Max SIC\")"
   ]
  },
  {
   "cell_type": "code",
   "execution_count": 8,
   "id": "aa6c0c4c-b08e-406a-bca8-f1c0e2d04cf7",
   "metadata": {
    "collapsed": true,
    "jupyter": {
     "outputs_hidden": true
    },
    "tags": []
   },
   "outputs": [
    {
     "name": "stdout",
     "output_type": "stream",
     "text": [
      "2 5 0.001\n",
      "3.5 5.5 2.4711888 4.6343465\n",
      "92/92 [==============================] - 0s 1ms/step\n",
      "92/92 [==============================] - 0s 713us/step\n",
      "73/73 [==============================] - 0s 1ms/step\n",
      "2 5 0.0012742749857031334\n",
      "3.5 5.5 2.4193661 4.740995\n",
      "92/92 [==============================] - 0s 1ms/step\n",
      "92/92 [==============================] - 0s 710us/step\n",
      "61/61 [==============================] - 0s 1ms/step\n",
      "2 5 0.001623776739188721\n",
      "3.5 5.5 2.448431 4.69523\n",
      "92/92 [==============================] - 0s 1ms/step\n",
      "92/92 [==============================] - 0s 672us/step\n",
      "85/85 [==============================] - 0s 1ms/step\n",
      "2 5 0.00206913808111479\n",
      "3.5 5.5 2.4019735 4.721953\n",
      "92/92 [==============================] - 0s 993us/step\n",
      "92/92 [==============================] - 0s 707us/step\n",
      "67/67 [==============================] - 0s 967us/step\n",
      "2 5 0.0026366508987303583\n",
      "3.5 5.5 2.4579456 4.697253\n",
      "92/92 [==============================] - 0s 1ms/step\n",
      "92/92 [==============================] - 0s 702us/step\n",
      "87/87 [==============================] - 0s 1ms/step\n",
      "2 5 0.003359818286283781\n",
      "3.5 5.5 2.4496508 4.676805\n",
      "92/92 [==============================] - 0s 1ms/step\n",
      "92/92 [==============================] - 0s 699us/step\n",
      "79/79 [==============================] - 0s 977us/step\n",
      "2 5 0.004281332398719396\n",
      "3.5 5.5 2.4529061 4.8072276\n",
      "92/92 [==============================] - 0s 1ms/step\n",
      "92/92 [==============================] - 0s 697us/step\n",
      "75/75 [==============================] - 0s 1ms/step\n",
      "2 5 0.00545559478116852\n",
      "3.5 5.5 2.4640336 4.8094687\n",
      "92/92 [==============================] - 0s 1ms/step\n",
      "92/92 [==============================] - 0s 705us/step\n",
      "81/81 [==============================] - 0s 1ms/step\n",
      "2 5 0.0069519279617756054\n",
      "3.5 5.5 3.3565915 5.635984\n",
      "92/92 [==============================] - 0s 983us/step\n",
      "92/92 [==============================] - 0s 704us/step\n",
      "65/65 [==============================] - 0s 952us/step\n",
      "2 5 0.008858667904100823\n",
      "3.5 5.5 3.4468362 5.6705465\n",
      "92/92 [==============================] - 0s 974us/step\n",
      "92/92 [==============================] - 0s 658us/step\n",
      "82/82 [==============================] - 0s 1ms/step\n",
      "2 5 0.011288378916846888\n",
      "3.5 5.5 3.388469 5.662361\n",
      "92/92 [==============================] - 0s 1ms/step\n",
      "92/92 [==============================] - 0s 693us/step\n",
      "64/64 [==============================] - 0s 1ms/step\n",
      "2 5 0.01438449888287663\n",
      "3.5 5.5 3.423142 5.5587792\n",
      "92/92 [==============================] - 0s 1ms/step\n",
      "92/92 [==============================] - 0s 680us/step\n",
      "80/80 [==============================] - 0s 988us/step\n",
      "2 5 0.018329807108324356\n",
      "3.5 5.5 3.4039783 5.5771604\n",
      "92/92 [==============================] - 0s 987us/step\n",
      "92/92 [==============================] - 0s 656us/step\n",
      "80/80 [==============================] - 0s 990us/step\n",
      "2 5 0.023357214690901212\n",
      "3.5 5.5 3.467079 5.5690446\n",
      "92/92 [==============================] - 0s 1ms/step\n",
      "92/92 [==============================] - 0s 720us/step\n",
      "78/78 [==============================] - 0s 1ms/step\n",
      "2 5 0.029763514416313176\n",
      "3.5 5.5 3.442341 5.5637574\n",
      "92/92 [==============================] - 0s 1ms/step\n",
      "92/92 [==============================] - 0s 680us/step\n",
      "69/69 [==============================] - 0s 935us/step\n",
      "2 5 0.0379269019073225\n",
      "3.5 5.5 3.4528356 5.5742073\n",
      "92/92 [==============================] - 0s 999us/step\n",
      "92/92 [==============================] - 0s 686us/step\n",
      "67/67 [==============================] - 0s 975us/step\n",
      "2 5 0.04832930238571752\n",
      "3.5 5.5 3.4426413 5.5513997\n",
      "92/92 [==============================] - 0s 982us/step\n",
      "92/92 [==============================] - 0s 671us/step\n",
      "86/86 [==============================] - 0s 933us/step\n",
      "2 5 0.06158482110660261\n",
      "3.5 5.5 3.4608421 5.502282\n",
      "92/92 [==============================] - 0s 1ms/step\n",
      "92/92 [==============================] - 0s 646us/step\n",
      "78/78 [==============================] - 0s 1ms/step\n",
      "2 5 0.07847599703514611\n",
      "3.5 5.5 3.4304948 5.5039015\n",
      "92/92 [==============================] - 0s 1ms/step\n",
      "92/92 [==============================] - 0s 706us/step\n",
      "69/69 [==============================] - 0s 1ms/step\n",
      "2 5 0.1\n",
      "3.5 5.5 3.428632 5.505922\n",
      "92/92 [==============================] - 0s 1ms/step\n",
      "92/92 [==============================] - 0s 666us/step\n",
      "91/91 [==============================] - 0s 993us/step\n",
      "2 5 0.001\n",
      "3.5 5.5 2.460219 4.6404\n",
      "92/92 [==============================] - 0s 1ms/step\n",
      "92/92 [==============================] - 0s 699us/step\n",
      "80/80 [==============================] - 0s 994us/step\n",
      "2 5 0.0012742749857031334\n",
      "3.5 5.5 2.4150426 4.736271\n",
      "92/92 [==============================] - 0s 1ms/step\n",
      "92/92 [==============================] - 0s 695us/step\n",
      "64/64 [==============================] - 0s 935us/step\n",
      "2 5 0.001623776739188721\n",
      "3.5 5.5 2.4552164 4.729836\n",
      "92/92 [==============================] - 0s 1ms/step\n",
      "92/92 [==============================] - 0s 702us/step\n",
      "65/65 [==============================] - 0s 1ms/step\n",
      "2 5 0.00206913808111479\n",
      "3.5 5.5 2.420349 4.7434587\n",
      "92/92 [==============================] - 0s 1ms/step\n",
      "92/92 [==============================] - 0s 692us/step\n",
      "85/85 [==============================] - 0s 989us/step\n",
      "2 5 0.0026366508987303583\n",
      "3.5 5.5 2.4236624 4.670446\n",
      "92/92 [==============================] - 0s 1ms/step\n",
      "92/92 [==============================] - 0s 694us/step\n",
      "65/65 [==============================] - 0s 980us/step\n",
      "2 5 0.003359818286283781\n",
      "3.5 5.5 2.459208 4.691237\n",
      "92/92 [==============================] - 0s 974us/step\n",
      "92/92 [==============================] - 0s 662us/step\n",
      "86/86 [==============================] - 0s 949us/step\n",
      "2 5 0.004281332398719396\n",
      "3.5 5.5 2.446828 4.837181\n",
      "92/92 [==============================] - 0s 995us/step\n",
      "92/92 [==============================] - 0s 726us/step\n",
      "80/80 [==============================] - 0s 954us/step\n",
      "2 5 0.00545559478116852\n",
      "3.5 5.5 2.4933245 4.862323\n",
      "92/92 [==============================] - 0s 1ms/step\n",
      "92/92 [==============================] - 0s 682us/step\n",
      "87/87 [==============================] - 0s 973us/step\n",
      "2 5 0.0069519279617756054\n",
      "3.5 5.5 2.5172756 4.9011946\n",
      "92/92 [==============================] - 0s 1ms/step\n",
      "92/92 [==============================] - 0s 709us/step\n",
      "73/73 [==============================] - 0s 996us/step\n",
      "2 5 0.008858667904100823\n",
      "3.5 5.5 3.4445806 5.6343327\n",
      "92/92 [==============================] - 0s 1ms/step\n",
      "92/92 [==============================] - 0s 734us/step\n",
      "66/66 [==============================] - 0s 1ms/step\n",
      "2 5 0.011288378916846888\n",
      "3.5 5.5 3.4270415 5.5837607\n",
      "92/92 [==============================] - 0s 1ms/step\n",
      "92/92 [==============================] - 0s 707us/step\n",
      "87/87 [==============================] - 0s 995us/step\n",
      "2 5 0.01438449888287663\n",
      "3.5 5.5 3.4391193 5.5533886\n",
      "92/92 [==============================] - 0s 1ms/step\n",
      "92/92 [==============================] - 0s 705us/step\n",
      "88/88 [==============================] - 0s 1ms/step\n",
      "2 5 0.018329807108324356\n",
      "3.5 5.5 3.4261131 5.582448\n",
      "92/92 [==============================] - 0s 1ms/step\n",
      "92/92 [==============================] - 0s 711us/step\n",
      "81/81 [==============================] - 0s 1ms/step\n",
      "2 5 0.023357214690901212\n",
      "3.5 5.5 3.439604 5.5431647\n",
      "92/92 [==============================] - 0s 1ms/step\n",
      "92/92 [==============================] - 0s 698us/step\n",
      "88/88 [==============================] - 0s 1ms/step\n",
      "2 5 0.029763514416313176\n",
      "3.5 5.5 3.434778 5.592059\n",
      "92/92 [==============================] - 0s 1ms/step\n",
      "92/92 [==============================] - 0s 699us/step\n",
      "85/85 [==============================] - 0s 978us/step\n",
      "2 5 0.0379269019073225\n",
      "3.5 5.5 3.4210238 5.465989\n",
      "92/92 [==============================] - 0s 1ms/step\n",
      "92/92 [==============================] - 0s 708us/step\n",
      "83/83 [==============================] - 0s 987us/step\n",
      "2 5 0.04832930238571752\n",
      "3.5 5.5 3.427086 5.5150223\n",
      "92/92 [==============================] - 0s 982us/step\n",
      "92/92 [==============================] - 0s 697us/step\n",
      "71/71 [==============================] - 0s 976us/step\n",
      "2 5 0.06158482110660261\n",
      "3.5 5.5 3.4565675 5.5134525\n",
      "92/92 [==============================] - 0s 998us/step\n",
      "92/92 [==============================] - 0s 692us/step\n",
      "76/76 [==============================] - 0s 976us/step\n",
      "2 5 0.07847599703514611\n",
      "3.5 5.5 3.4324875 5.496094\n",
      "92/92 [==============================] - 0s 1ms/step\n",
      "92/92 [==============================] - 0s 686us/step\n",
      "75/75 [==============================] - 0s 1ms/step\n",
      "2 5 0.1\n",
      "3.5 5.5 3.4456165 5.5235195\n",
      "92/92 [==============================] - 0s 1ms/step\n",
      "92/92 [==============================] - 0s 701us/step\n",
      "74/74 [==============================] - 0s 1ms/step\n",
      "2 5 0.001\n",
      "3.5 5.5 2.4427204 4.619271\n",
      "92/92 [==============================] - 0s 1ms/step\n",
      "92/92 [==============================] - 0s 692us/step\n",
      "63/63 [==============================] - 0s 1ms/step\n",
      "2 5 0.0012742749857031334\n",
      "3.5 5.5 2.415968 4.7368016\n",
      "92/92 [==============================] - 0s 1ms/step\n",
      "92/92 [==============================] - 0s 697us/step\n",
      "64/64 [==============================] - 0s 1ms/step\n",
      "2 5 0.001623776739188721\n",
      "3.5 5.5 2.4385486 4.7006164\n",
      "92/92 [==============================] - 0s 1ms/step\n",
      "92/92 [==============================] - 0s 710us/step\n",
      "91/91 [==============================] - 0s 1ms/step\n",
      "2 5 0.00206913808111479\n",
      "3.5 5.5 2.4236794 4.772747\n",
      "92/92 [==============================] - 0s 1ms/step\n",
      "92/92 [==============================] - 0s 690us/step\n",
      "61/61 [==============================] - 0s 988us/step\n",
      "2 5 0.0026366508987303583\n",
      "3.5 5.5 2.4456081 4.643115\n",
      "92/92 [==============================] - 0s 1ms/step\n",
      "92/92 [==============================] - 0s 651us/step\n",
      "70/70 [==============================] - 0s 993us/step\n",
      "2 5 0.003359818286283781\n",
      "3.5 5.5 2.474601 4.7029543\n",
      "92/92 [==============================] - 0s 1ms/step\n",
      "92/92 [==============================] - 0s 643us/step\n",
      "90/90 [==============================] - 0s 928us/step\n",
      "2 5 0.004281332398719396\n",
      "3.5 5.5 2.4178565 4.7391024\n",
      "92/92 [==============================] - 0s 1ms/step\n",
      "92/92 [==============================] - 0s 659us/step\n",
      "64/64 [==============================] - 0s 978us/step\n",
      "2 5 0.00545559478116852\n",
      "3.5 5.5 2.4539847 4.796412\n",
      "92/92 [==============================] - 0s 1ms/step\n",
      "92/92 [==============================] - 0s 685us/step\n",
      "76/76 [==============================] - 0s 918us/step\n",
      "2 5 0.0069519279617756054\n",
      "3.5 5.5 3.373873 5.6471143\n",
      "92/92 [==============================] - 1s 1ms/step\n",
      "92/92 [==============================] - 0s 743us/step\n",
      "82/82 [==============================] - 0s 968us/step\n",
      "2 5 0.008858667904100823\n",
      "3.5 5.5 3.4443574 5.628188\n",
      "92/92 [==============================] - 0s 1ms/step\n",
      "92/92 [==============================] - 0s 689us/step\n",
      "68/68 [==============================] - 0s 939us/step\n",
      "2 5 0.011288378916846888\n",
      "3.5 5.5 3.4133427 5.6199155\n",
      "92/92 [==============================] - 0s 1ms/step\n",
      "92/92 [==============================] - 0s 644us/step\n",
      "74/74 [==============================] - 0s 914us/step\n",
      "2 5 0.01438449888287663\n",
      "3.5 5.5 3.4669113 5.5593705\n",
      "92/92 [==============================] - 0s 974us/step\n",
      "92/92 [==============================] - 0s 730us/step\n",
      "69/69 [==============================] - 0s 1ms/step\n",
      "2 5 0.018329807108324356\n",
      "3.5 5.5 3.4439287 5.576042\n",
      "92/92 [==============================] - 0s 1ms/step\n",
      "92/92 [==============================] - 0s 712us/step\n",
      "66/66 [==============================] - 0s 969us/step\n",
      "2 5 0.023357214690901212\n",
      "3.5 5.5 3.4469721 5.586909\n",
      "92/92 [==============================] - 0s 1ms/step\n",
      "92/92 [==============================] - 0s 680us/step\n",
      "81/81 [==============================] - 0s 1ms/step\n",
      "2 5 0.029763514416313176\n",
      "3.5 5.5 3.439433 5.521676\n",
      "92/92 [==============================] - 0s 1ms/step\n",
      "92/92 [==============================] - 0s 700us/step\n",
      "84/84 [==============================] - 0s 1ms/step\n",
      "2 5 0.0379269019073225\n",
      "3.5 5.5 3.4237242 5.4936724\n",
      "92/92 [==============================] - 0s 1ms/step\n",
      "92/92 [==============================] - 0s 732us/step\n",
      "86/86 [==============================] - 0s 984us/step\n",
      "2 5 0.04832930238571752\n",
      "3.5 5.5 3.450856 5.554316\n",
      "92/92 [==============================] - 0s 1ms/step\n",
      "92/92 [==============================] - 0s 684us/step\n",
      "74/74 [==============================] - 0s 944us/step\n",
      "2 5 0.06158482110660261\n",
      "3.5 5.5 3.4281552 5.4875016\n",
      "92/92 [==============================] - 0s 963us/step\n",
      "92/92 [==============================] - 0s 676us/step\n",
      "60/60 [==============================] - 0s 1ms/step\n",
      "2 5 0.07847599703514611\n",
      "3.5 5.5 3.4436176 5.490509\n",
      "92/92 [==============================] - 0s 980us/step\n",
      "92/92 [==============================] - 0s 722us/step\n",
      "92/92 [==============================] - 0s 982us/step\n",
      "2 5 0.1\n",
      "3.5 5.5 3.4381793 5.52811\n",
      "92/92 [==============================] - 0s 1ms/step\n",
      "92/92 [==============================] - 0s 706us/step\n",
      "72/72 [==============================] - 0s 955us/step\n",
      "2 5 0.001\n",
      "3.5 5.5 2.44764 4.6298995\n",
      "92/92 [==============================] - 0s 1ms/step\n",
      "92/92 [==============================] - 0s 697us/step\n",
      "66/66 [==============================] - 0s 970us/step\n",
      "2 5 0.0012742749857031334\n",
      "3.5 5.5 2.4171805 4.7089868\n",
      "92/92 [==============================] - 0s 1ms/step\n",
      "92/92 [==============================] - 0s 671us/step\n",
      "68/68 [==============================] - 0s 949us/step\n",
      "2 5 0.001623776739188721\n",
      "3.5 5.5 2.458588 4.689037\n",
      "92/92 [==============================] - 0s 1ms/step\n",
      "92/92 [==============================] - 0s 698us/step\n",
      "79/79 [==============================] - 0s 939us/step\n",
      "2 5 0.00206913808111479\n",
      "3.5 5.5 2.409763 4.737264\n",
      "92/92 [==============================] - 0s 982us/step\n",
      "92/92 [==============================] - 0s 685us/step\n",
      "88/88 [==============================] - 0s 943us/step\n",
      "2 5 0.0026366508987303583\n",
      "3.5 5.5 2.4423969 4.6978006\n",
      "92/92 [==============================] - 0s 1ms/step\n",
      "92/92 [==============================] - 0s 716us/step\n",
      "74/74 [==============================] - 0s 1ms/step\n",
      "2 5 0.003359818286283781\n",
      "3.5 5.5 2.4721968 4.699226\n",
      "92/92 [==============================] - 0s 1ms/step\n",
      "92/92 [==============================] - 0s 705us/step\n",
      "69/69 [==============================] - 0s 1ms/step\n",
      "2 5 0.004281332398719396\n",
      "3.5 5.5 2.4534461 4.822221\n",
      "92/92 [==============================] - 0s 1ms/step\n",
      "92/92 [==============================] - 0s 735us/step\n",
      "84/84 [==============================] - 0s 1ms/step\n",
      "2 5 0.00545559478116852\n",
      "3.5 5.5 2.4430022 4.7355585\n",
      "92/92 [==============================] - 0s 1ms/step\n",
      "92/92 [==============================] - 0s 727us/step\n",
      "81/81 [==============================] - 0s 1ms/step\n",
      "2 5 0.0069519279617756054\n",
      "3.5 5.5 3.4397693 5.64831\n",
      "92/92 [==============================] - 0s 1ms/step\n",
      "92/92 [==============================] - 0s 705us/step\n",
      "77/77 [==============================] - 0s 967us/step\n",
      "2 5 0.008858667904100823\n",
      "3.5 5.5 3.3955333 5.6295285\n",
      "92/92 [==============================] - 0s 997us/step\n",
      "92/92 [==============================] - 0s 695us/step\n",
      "80/80 [==============================] - 0s 941us/step\n",
      "2 5 0.011288378916846888\n",
      "3.5 5.5 3.3939855 5.620839\n",
      "92/92 [==============================] - 0s 1ms/step\n",
      "92/92 [==============================] - 0s 693us/step\n",
      "82/82 [==============================] - 0s 971us/step\n",
      "2 5 0.01438449888287663\n",
      "3.5 5.5 3.4651701 5.5789375\n",
      "92/92 [==============================] - 0s 1ms/step\n",
      "92/92 [==============================] - 0s 716us/step\n",
      "85/85 [==============================] - 0s 1ms/step\n",
      "2 5 0.018329807108324356\n",
      "3.5 5.5 3.4435902 5.5825562\n",
      "92/92 [==============================] - 0s 1ms/step\n",
      "92/92 [==============================] - 0s 652us/step\n",
      "92/92 [==============================] - 0s 921us/step\n",
      "2 5 0.023357214690901212\n",
      "3.5 5.5 3.4696634 5.515108\n",
      "92/92 [==============================] - 0s 988us/step\n",
      "92/92 [==============================] - 0s 663us/step\n",
      "68/68 [==============================] - 0s 961us/step\n",
      "2 5 0.029763514416313176\n",
      "3.5 5.5 3.4401925 5.544902\n",
      "92/92 [==============================] - 0s 1ms/step\n",
      "92/92 [==============================] - 0s 658us/step\n",
      "72/72 [==============================] - 0s 1ms/step\n",
      "2 5 0.0379269019073225\n",
      "3.5 5.5 3.4135063 5.510745\n",
      "92/92 [==============================] - 0s 1ms/step\n",
      "92/92 [==============================] - 0s 689us/step\n",
      "87/87 [==============================] - 0s 932us/step\n",
      "2 5 0.04832930238571752\n",
      "3.5 5.5 3.4495168 5.5529747\n",
      "92/92 [==============================] - 0s 1ms/step\n",
      "92/92 [==============================] - 0s 698us/step\n",
      "67/67 [==============================] - 0s 963us/step\n",
      "2 5 0.06158482110660261\n",
      "3.5 5.5 3.4346657 5.513343\n",
      "92/92 [==============================] - 0s 954us/step\n",
      "92/92 [==============================] - 0s 708us/step\n",
      "70/70 [==============================] - 0s 883us/step\n",
      "2 5 0.07847599703514611\n",
      "3.5 5.5 3.4389877 5.526088\n",
      "92/92 [==============================] - 0s 1ms/step\n",
      "92/92 [==============================] - 0s 709us/step\n",
      "78/78 [==============================] - 0s 1ms/step\n",
      "2 5 0.1\n",
      "3.5 5.5 3.4387064 5.5114\n",
      "92/92 [==============================] - 0s 1ms/step\n",
      "92/92 [==============================] - 0s 674us/step\n",
      "68/68 [==============================] - 0s 1ms/step\n",
      "2 5 0.001\n",
      "3.5 5.5 2.4589593 4.647213\n",
      "92/92 [==============================] - 0s 1ms/step\n",
      "92/92 [==============================] - 0s 667us/step\n",
      "77/77 [==============================] - 0s 911us/step\n",
      "2 5 0.0012742749857031334\n",
      "3.5 5.5 2.4214153 4.7260065\n",
      "92/92 [==============================] - 0s 1ms/step\n",
      "92/92 [==============================] - 0s 694us/step\n",
      "80/80 [==============================] - 0s 921us/step\n",
      "2 5 0.001623776739188721\n",
      "3.5 5.5 2.4302392 4.665236\n",
      "92/92 [==============================] - 0s 974us/step\n",
      "92/92 [==============================] - 0s 665us/step\n",
      "81/81 [==============================] - 0s 972us/step\n",
      "2 5 0.00206913808111479\n",
      "3.5 5.5 2.4065614 4.7095003\n",
      "92/92 [==============================] - 0s 1ms/step\n",
      "92/92 [==============================] - 0s 683us/step\n",
      "81/81 [==============================] - 0s 903us/step\n",
      "2 5 0.0026366508987303583\n",
      "3.5 5.5 2.4533987 4.6808906\n",
      "92/92 [==============================] - 0s 1ms/step\n",
      "92/92 [==============================] - 0s 697us/step\n",
      "70/70 [==============================] - 0s 1ms/step\n",
      "2 5 0.003359818286283781\n",
      "3.5 5.5 2.4610088 4.718913\n",
      "92/92 [==============================] - 0s 1ms/step\n",
      "92/92 [==============================] - 0s 703us/step\n",
      "69/69 [==============================] - 0s 929us/step\n",
      "2 5 0.004281332398719396\n",
      "3.5 5.5 2.4869137 4.872268\n",
      "92/92 [==============================] - 0s 999us/step\n",
      "92/92 [==============================] - 0s 667us/step\n",
      "73/73 [==============================] - 0s 894us/step\n",
      "2 5 0.00545559478116852\n",
      "3.5 5.5 2.4293358 4.7370415\n",
      "92/92 [==============================] - 0s 976us/step\n",
      "92/92 [==============================] - 0s 658us/step\n",
      "62/62 [==============================] - 0s 930us/step\n",
      "2 5 0.0069519279617756054\n",
      "3.5 5.5 3.4557018 5.58765\n",
      "92/92 [==============================] - 0s 967us/step\n",
      "92/92 [==============================] - 0s 647us/step\n",
      "92/92 [==============================] - 0s 999us/step\n",
      "2 5 0.008858667904100823\n",
      "3.5 5.5 3.4656508 5.636082\n",
      "92/92 [==============================] - 0s 1ms/step\n",
      "92/92 [==============================] - 0s 711us/step\n",
      "91/91 [==============================] - 0s 911us/step\n",
      "2 5 0.011288378916846888\n",
      "3.5 5.5 3.4196942 5.64839\n",
      "92/92 [==============================] - 0s 969us/step\n",
      "92/92 [==============================] - 0s 674us/step\n",
      "64/64 [==============================] - 0s 927us/step\n",
      "2 5 0.01438449888287663\n",
      "3.5 5.5 3.468392 5.5685725\n",
      "92/92 [==============================] - 0s 1ms/step\n",
      "92/92 [==============================] - 0s 707us/step\n",
      "69/69 [==============================] - 0s 1ms/step\n",
      "2 5 0.018329807108324356\n",
      "3.5 5.5 3.4635417 5.5584087\n",
      "92/92 [==============================] - 0s 1ms/step\n",
      "92/92 [==============================] - 0s 696us/step\n",
      "92/92 [==============================] - 0s 999us/step\n",
      "2 5 0.023357214690901212\n",
      "3.5 5.5 3.4561174 5.5282383\n",
      "92/92 [==============================] - 0s 1ms/step\n",
      "92/92 [==============================] - 0s 763us/step\n",
      "86/86 [==============================] - 0s 925us/step\n",
      "2 5 0.029763514416313176\n",
      "3.5 5.5 3.4358535 5.5743456\n",
      "92/92 [==============================] - 0s 969us/step\n",
      "92/92 [==============================] - 0s 666us/step\n",
      "90/90 [==============================] - 0s 934us/step\n",
      "2 5 0.0379269019073225\n",
      "3.5 5.5 3.4313982 5.524793\n",
      "92/92 [==============================] - 0s 953us/step\n",
      "92/92 [==============================] - 0s 674us/step\n",
      "87/87 [==============================] - 0s 883us/step\n",
      "2 5 0.04832930238571752\n",
      "3.5 5.5 3.4228857 5.5759172\n",
      "92/92 [==============================] - 0s 930us/step\n",
      "92/92 [==============================] - 0s 645us/step\n",
      "67/67 [==============================] - 0s 887us/step\n",
      "2 5 0.06158482110660261\n",
      "3.5 5.5 3.4301393 5.530713\n",
      "92/92 [==============================] - 0s 911us/step\n",
      "92/92 [==============================] - 0s 631us/step\n",
      "90/90 [==============================] - 0s 870us/step\n",
      "2 5 0.07847599703514611\n",
      "3.5 5.5 3.4323075 5.4788294\n",
      "92/92 [==============================] - 0s 931us/step\n",
      "92/92 [==============================] - 0s 670us/step\n",
      "82/82 [==============================] - 0s 923us/step\n",
      "2 5 0.1\n",
      "3.5 5.5 3.4335475 5.5113087\n",
      "92/92 [==============================] - 0s 969us/step\n",
      "92/92 [==============================] - 0s 682us/step\n",
      "63/63 [==============================] - 0s 916us/step\n"
     ]
    }
   ],
   "source": [
    "#fixed signal mass pair, different initializations of weights\n",
    "from models import createSimpleModel\n",
    "qq = \"qq\"\n",
    "\n",
    "msic1_runs = []\n",
    "msic2_runs = []\n",
    "msic3_runs = []\n",
    "weight_list3_runs = []\n",
    "initial_weights_list_runs = []\n",
    "\n",
    "num_runs = 5\n",
    "\n",
    "for _ in range(num_runs):\n",
    "    \n",
    "    sig_list = []\n",
    "    weight_list1 = []\n",
    "    weight_list2 = []\n",
    "    weight_list3 = []\n",
    "    \n",
    "    msic1 = []\n",
    "    msic2 = []\n",
    "    msic3 = []\n",
    "\n",
    "    epsilon = 1e-6\n",
    "\n",
    "    # w1 = round(random.uniform(0.5, 6.0),3)\n",
    "    # w2 = round(random.uniform(0.5, 6.0),3)\n",
    "\n",
    "    w1 = 2\n",
    "    w2 = 5\n",
    "    \n",
    "    initial_weights_list_runs.append((w1, w2))\n",
    "\n",
    "    for sigfrac in np.logspace(-3,-1,20):\n",
    "        print(w1, w2, sigfrac)\n",
    "        #sigfrac = 0.05\n",
    "        if (sigfrac > 0.5):\n",
    "            continue\n",
    "\n",
    "        for l in model_qq.layers:\n",
    "            l.trainable=False\n",
    "\n",
    "        inputs_hold = tf.keras.Input(shape=(1,))\n",
    "        simple_model = Dense(1,use_bias = False,activation='relu',kernel_initializer=tf.keras.initializers.Constant(w1))(inputs_hold)\n",
    "        model3 = Model(inputs = inputs_hold, outputs = simple_model)\n",
    "\n",
    "        inputs_hold2 = tf.keras.Input(shape=(1,))\n",
    "        simple_model2 = Dense(1,use_bias = False,activation='relu',kernel_initializer=tf.keras.initializers.Constant(w2))(inputs_hold2)\n",
    "        model32 = Model(inputs = inputs_hold2, outputs = simple_model2)\n",
    "\n",
    "        inputs_hold3 = tf.keras.Input(shape=(1,))\n",
    "        simple_model3 = tf.exp(Dense(1,use_bias = False,activation='linear',kernel_initializer=tf.keras.initializers.Constant(-1))(inputs_hold3))\n",
    "        model33 = Model(inputs = inputs_hold3, outputs = simple_model3)\n",
    "\n",
    "        inputs = tf.keras.Input(shape=(6,))\n",
    "        inputs2 = tf.keras.layers.concatenate([inputs,model3(tf.ones_like(inputs)[:,0]),model32(tf.ones_like(inputs)[:,0])])\n",
    "        \n",
    "        #physics prior\n",
    "        hidden_layer_1 = model_qq(inputs2)\n",
    "        LLR = hidden_layer_1 / (1.-hidden_layer_1 + epsilon)\n",
    "        \n",
    "        #LLR_xs = 1.+sigfrac*LLR - sigfrac\n",
    "        LLR_xs = 1.+ model33(tf.ones_like(inputs)[:,0])*LLR\n",
    "        ws = LLR_xs / (1.+LLR_xs)\n",
    "        \n",
    "        model_all2 = Model(inputs = inputs, outputs = ws)\n",
    "        model_all2.compile(loss='binary_crossentropy', optimizer=tf.keras.optimizers.Adam(learning_rate = 0.01))\n",
    "\n",
    "        m1 = 3.5\n",
    "        m2 = 5.5\n",
    "\n",
    "        test_background = int(1/2 * len(x[0,0, qq]))\n",
    "        train_reference = int(1/4 *len(x[0,0, qq]))\n",
    "        train_data = int(1/4 * len(x[0,0, qq]))\n",
    "        test_signal = int(1/2*len(x[m1,m2, qq]))\n",
    "        sig_frac = sigfrac\n",
    "        \n",
    "        #randomize signal events\n",
    "        random_test_signal_length = random.randint(0, test_signal - 1)\n",
    "        N = int(1/4 * (len(x[0,0, qq])))\n",
    "        signal = x[m1, m2, qq][random_test_signal_length:random_test_signal_length + int(sigfrac*N)]\n",
    "\n",
    "        #N = train_reference\n",
    "        x_data_ = np.concatenate([x[0,0, qq][test_background:],signal])\n",
    "        y_data_ = np.concatenate([np.zeros(train_reference),np.ones(train_data),np.ones(len(signal))])\n",
    "\n",
    "        X_train_, X_val_, Y_train_, Y_val_ = train_test_split(x_data_, y_data_, test_size=0.5, random_state = 42)\n",
    "\n",
    "        myhistory_hack_ = model_all2.fit(X_train_[:,0:6], Y_train_, epochs=100,validation_data=(X_val_[:,0:6], Y_val_),batch_size=1024, verbose = 0)\n",
    "        print(m1,m2,model_all2.trainable_weights[0].numpy()[0][0],model_all2.trainable_weights[1].numpy()[0][0])\n",
    "        sig_list+=[sigfrac]\n",
    "        weight_list1+=[model_all2.trainable_weights[0].numpy()[0][0]]\n",
    "        weight_list2+=[model_all2.trainable_weights[1].numpy()[0][0]]\n",
    "        weight_list3+=[np.exp(model_all2.trainable_weights[2].numpy()[0][0])]\n",
    "        scores = model_all2.predict(np.concatenate([x[0,0, qq][0:test_background],x[m1,m2, qq][0:test_signal]]),batch_size=1024)\n",
    "        y = np.concatenate([np.zeros(test_background),np.ones(test_signal)])\n",
    "        fpr, tpr, _ = metrics.roc_curve(y, scores)\n",
    "        \n",
    "        #weakly supervised\n",
    "        model_cwola = Sequential()\n",
    "        model_cwola.add(Dense(128, input_dim=6, activation='relu'))\n",
    "        model_cwola.add(Dense(128, activation='relu'))\n",
    "        model_cwola.add(Dense(128, activation='relu'))\n",
    "        model_cwola.add(Dense(1, activation='sigmoid'))\n",
    "        model_cwola.compile(loss='binary_crossentropy', optimizer='adam', metrics=['accuracy'])\n",
    "        myhistory_cwola = model_cwola.fit(X_train_[:,0:6], Y_train_, epochs=10,validation_data=(X_val_[:,0:6], Y_val_),batch_size=1024, verbose = 0)\n",
    "\n",
    "        scores2 = model_cwola.predict(np.concatenate([x[0,0, qq][0:test_background],x[m1,m2, qq][0:test_signal]]),batch_size=1024)\n",
    "        y2 = np.concatenate([np.zeros(test_background),np.ones(test_signal)])\n",
    "        fpr2, tpr2, _ = metrics.roc_curve(y2, scores2)\n",
    "        \n",
    "        #fully supervised\n",
    "        model3_full = createSimpleModel(w1)\n",
    "        model32_full = createSimpleModel(w2)\n",
    "\n",
    "        inputs = tf.keras.Input(shape=(6,))\n",
    "        inputs2_full = tf.keras.layers.concatenate([inputs,model3_full(tf.ones_like(inputs)[:,0]),model32_full(tf.ones_like(inputs)[:,0])])\n",
    "        hidden_layer_1_full = model_qq(inputs2_full)\n",
    "        model_all2_full = Model(inputs = inputs, outputs = hidden_layer_1_full)\n",
    "        model_all2_full.compile(loss=tf.keras.losses.BinaryCrossentropy(), optimizer=tf.keras.optimizers.Adam(learning_rate = 0.01))\n",
    "\n",
    "        x_data_full = np.concatenate([x[0,0, qq],x[m1,m2, qq]])\n",
    "        y_data_full = np.concatenate([np.zeros(len(x[0,0, qq])),np.ones(len(x[m1,m2, qq]))])\n",
    "        X_train_full, X_val_full, Y_train_full, Y_val_full = train_test_split(x_data_full, y_data_full, test_size=0.5)\n",
    "        myhistory_hack_ = model_all2_full.fit(X_train_full[:,0:6], Y_train_full, epochs=20,validation_data=(X_val_full[:,0:6], Y_val_full),batch_size=1024, verbose = 0)\n",
    "\n",
    "        scores_full = model_all2_full.predict(np.concatenate([x[0,0, qq][0:test_background],x[m1,m2, qq][0:random_test_signal_length]]),batch_size=1024)\n",
    "        y_full = np.concatenate([np.zeros(test_background),np.ones(random_test_signal_length)])\n",
    "        fpr_full, tpr_full, _ = metrics.roc_curve(y_full, scores_full)\n",
    "\n",
    "        msic1.append([np.max(tpr/np.sqrt(fpr+0.0001))])\n",
    "        msic2.append([np.max(tpr2/np.sqrt(fpr2+0.0001))])\n",
    "        msic3.append([np.max(tpr_full/np.sqrt(fpr_full+0.0001))])\n",
    "\n",
    "    msic1_runs.append(msic1)\n",
    "    msic2_runs.append(msic2)\n",
    "    msic3_runs.append(msic3)\n",
    "    weight_list3_runs.append(weight_list3)"
   ]
  },
  {
   "cell_type": "code",
   "execution_count": 7,
   "id": "ebfa9c5a-53bf-4e2c-9daf-c8bfca4ab68b",
   "metadata": {
    "tags": []
   },
   "outputs": [
    {
     "data": {
      "text/plain": [
       "60676"
      ]
     },
     "execution_count": 7,
     "metadata": {},
     "output_type": "execute_result"
    }
   ],
   "source": [
    "len(x[0,0, qq][0:test_background])"
   ]
  },
  {
   "cell_type": "code",
   "execution_count": 23,
   "id": "f1efa8c5-c0e5-4d57-a0b7-4ec34650a49f",
   "metadata": {
    "tags": []
   },
   "outputs": [
    {
     "data": {
      "text/plain": [
       "17549"
      ]
     },
     "execution_count": 23,
     "metadata": {},
     "output_type": "execute_result"
    }
   ],
   "source": [
    "len(x[m1,m2, qq][0:random_test_signal_length])"
   ]
  },
  {
   "cell_type": "code",
   "execution_count": 14,
   "id": "025f111f-5728-4224-a444-7dd223bd8d39",
   "metadata": {
    "tags": []
   },
   "outputs": [],
   "source": [
    "max_sics = {}\n",
    "max_sics[(\"SWS\", 6, 3, m1, m2, w1, w2)] = msic1_runs\n",
    "max_sics[(\"WS\", 6, 3, m1, m2, w1, w2)] = msic2_runs\n",
    "max_sics[(\"FS\", 6, 3, m1, m2, w1, w2)] = msic3_runs\n",
    "\n",
    "import pickle\n",
    "with open('max_sics_3.55.5_6Feature3param.pkl', 'wb') as f:\n",
    "    pickle.dump(max_sics, f)"
   ]
  },
  {
   "cell_type": "code",
   "execution_count": 10,
   "id": "40ee4804-12d9-47c0-9f1b-c1cbf2c93398",
   "metadata": {
    "tags": []
   },
   "outputs": [
    {
     "data": {
      "text/plain": [
       "Text(0, 0.5, 'Avg Max SIC')"
      ]
     },
     "execution_count": 10,
     "metadata": {},
     "output_type": "execute_result"
    },
    {
     "data": {
      "image/png": "[encoded data removed]",
      "text/plain": [
       "<Figure size 640x480 with 1 Axes>"
      ]
     },
     "metadata": {},
     "output_type": "display_data"
    }
   ],
   "source": [
    "avgmsic1 = np.median(msic1_runs, axis = 0)\n",
    "avgmsic2 = np.median(msic2_runs, axis = 0)\n",
    "avgmsic3 = np.median(msic3_runs, axis = 0)\n",
    "\n",
    "# avgsic1 = np.mean(sic1_list_runs, axis = 0)\n",
    "# avgsic2 = np.mean(sic2_list_runs, axis = 0)\n",
    "\n",
    "plt.plot(sig_list,avgmsic1,label=\"Weakly, Semisupervised\")\n",
    "plt.plot(sig_list,avgmsic2,label=\"Weakly Supervised\")\n",
    "plt.plot(sig_list,avgmsic3,label=\"Weakly Supervised\")\n",
    "plt.title(f\"CWOLA vs Semi Weakly ({num_runs} Runs)\")\n",
    "plt.legend()\n",
    "plt.xscale(\"log\")\n",
    "plt.xlabel(\"Signal region S/B\")\n",
    "plt.ylabel(\"Avg Max SIC\")"
   ]
  },
  {
   "cell_type": "code",
   "execution_count": 16,
   "id": "ea511d1a-9d09-4ac0-bc4f-971e2cd14d69",
   "metadata": {
    "tags": []
   },
   "outputs": [],
   "source": [
    "np.save(\"6paramweights3.55.5Perturb.npy\", weight_list3_runs)"
   ]
  },
  {
   "cell_type": "code",
   "execution_count": 12,
   "id": "431ddd29-6a33-4b9b-94af-9a0f320d8924",
   "metadata": {
    "tags": []
   },
   "outputs": [
    {
     "data": {
      "text/plain": [
       "Text(0, 0.5, 'Avg Max SIC')"
      ]
     },
     "execution_count": 12,
     "metadata": {},
     "output_type": "execute_result"
    },
    {
     "data": {
      "image/png": "[encoded data removed]",
      "text/plain": [
       "<Figure size 640x480 with 1 Axes>"
      ]
     },
     "metadata": {},
     "output_type": "display_data"
    }
   ],
   "source": [
    "avgww = np.median(weight_list3_runs, axis = 0)\n",
    "\n",
    "# avgsic1 = np.mean(sic1_list_runs, axis = 0)\n",
    "# avgsic2 = np.mean(sic2_list_runs, axis = 0)\n",
    "\n",
    "plt.plot(sig_list,avgww,label=\"Weakly, Semisupervised\")\n",
    "plt.plot(sig_list,sig_list,ls=\":\",color=\"black\")\n",
    "\n",
    "plt.title(f\"CWOLA vs Semi Weakly ({num_runs} Runs)\")\n",
    "plt.legend()\n",
    "plt.yscale(\"log\")\n",
    "plt.xscale(\"log\")\n",
    "plt.xlabel(\"Signal region S/B\")\n",
    "plt.ylabel(\"Avg Max SIC\")"
   ]
  },
  {
   "cell_type": "code",
   "execution_count": 45,
   "id": "e613b6bb-60e1-414b-94ef-818915f93c7f",
   "metadata": {
    "tags": []
   },
   "outputs": [
    {
     "data": {
      "image/png": "[encoded data removed]",
      "text/plain": [
       "<Figure size 640x480 with 1 Axes>"
      ]
     },
     "metadata": {},
     "output_type": "display_data"
    }
   ],
   "source": [
    "signal_fraction_values = np.logspace(-3, -1, 20)\n",
    "\n",
    "fittedw = avgww\n",
    "fittedwstd = np.std(ww_runs, axis = 0)\n",
    "\n",
    "plt.plot(signal_fraction_values, fittedw, marker = \"x\", label='Semi Weakly', color='blue')\n",
    "plt.plot(xx, xx, marker = \"\", label='S/B', color='black')\n",
    "\n",
    "plt.fill_between(signal_fraction_values, fittedw - fittedwstd, fittedw + fittedwstd, color='blue', alpha=0.3, hatch = \"//\")\n",
    "\n",
    "plt.xlabel('S/B')\n",
    "\n",
    "plt.ylabel(r'Fitted S/B$')\n",
    "plt.title(f'6 Features 3 Parameters Fittedm1: {m1} m2: {m2} | w1: {w1} w2: {w2}')\n",
    "plt.yscale(\"log\")\n",
    "plt.xscale(\"log\")\n",
    "plt.legend()\n",
    "plt.show()"
   ]
  },
  {
   "cell_type": "code",
   "execution_count": 7,
   "id": "fa9ce191-ddda-4b9e-b583-b77046a3a3fe",
   "metadata": {},
   "outputs": [
    {
     "name": "stdout",
     "output_type": "stream",
     "text": [
      "Total elapsed time: 0.0 seconds\n"
     ]
    }
   ],
   "source": [
    "import time\n",
    "\n",
    "#3pronged decay\n",
    "qq = \"qq\"\n",
    "start_time = time.time()\n",
    "\n",
    "def create_loss_landscape_6Features(model, m1, m2):\n",
    "    \n",
    "    Nfeatures = 6\n",
    "    #check if loss dictionary exists, if it does load it, if not create empty one\n",
    "    dir_path = os.getcwd()\n",
    "    file_name = f\"z_allm1m2_{Nfeatures}morefps33.5.npy\"\n",
    "    file_path = os.path.join(dir_path, file_name)\n",
    "    \n",
    "    if os.path.exists(file_path):\n",
    "        z = np.load(file_name, allow_pickle = True).item()\n",
    "    else:\n",
    "        print(\"Dictionary doesn't exist, creating one...\")\n",
    "        z = {}\n",
    "    #varying sigfrac, fixed mass pair\n",
    "    \n",
    "    losses_list = []\n",
    "\n",
    "    epsilon = 1e-4\n",
    "    sig_space = np.logspace(-3, -1, 40)\n",
    "    \n",
    "    #if we want a specific sigfrac\n",
    "    #sig_space = [0.1]\n",
    "    \n",
    "    start = 0.5\n",
    "    end = 6\n",
    "    step = 0.125\n",
    "\n",
    "    weight_list = np.arange(start, end + step, step)\n",
    "    \n",
    "    for sig in sig_space:\n",
    "        print(\"Signal Fraction: \", sig)\n",
    "        count = 0\n",
    "        for w1 in weight_list:\n",
    "            for w2 in weight_list:\n",
    "                if count % 1000 == 0:\n",
    "                    print(f\"reached {w1} {w2}\")\n",
    "                count+=1\n",
    "                #print(w1, w2)\n",
    "                sigfrac = sig\n",
    "\n",
    "                for l in model.layers:\n",
    "                    l.trainable=False\n",
    "\n",
    "                inputs_hold = tf.keras.Input(shape=(1,))\n",
    "                simple_model = Dense(1,use_bias = False,activation='relu',kernel_initializer=tf.keras.initializers.Constant(w1))(inputs_hold)\n",
    "                model3 = Model(inputs = inputs_hold, outputs = simple_model)\n",
    "\n",
    "                inputs_hold2 = tf.keras.Input(shape=(1,))\n",
    "                simple_model2 = Dense(1,use_bias = False,activation='relu',kernel_initializer=tf.keras.initializers.Constant(w2))(inputs_hold2)\n",
    "                model32 = Model(inputs = inputs_hold2, outputs = simple_model2)\n",
    "\n",
    "                inputs_hold3 = tf.keras.Input(shape=(1,))\n",
    "                simple_model3 = tf.exp(Dense(1,use_bias = False,activation='linear',kernel_initializer=tf.keras.initializers.Constant(-1))(inputs_hold3))\n",
    "                model33 = Model(inputs = inputs_hold3, outputs = simple_model3)\n",
    "\n",
    "                inputs = tf.keras.Input(shape=(Nfeatures,))\n",
    "                inputs2 = tf.keras.layers.concatenate([inputs,model3(tf.ones_like(inputs)[:,0]),model32(tf.ones_like(inputs)[:,0])])\n",
    "                hidden_layer_1 = model(inputs2)\n",
    "                LLR = hidden_layer_1 / (1.-hidden_layer_1 + epsilon)\n",
    "                LLR_xs = 1.+sigfrac*LLR - sigfrac\n",
    "                #LLR_xs = 1.+model33(tf.ones_like(inputs)[:,0])*LLR\n",
    "                ws = LLR_xs / (1.+LLR_xs+0.0001)\n",
    "                model_all2 = Model(inputs = inputs, outputs = ws)\n",
    "                model_all2.compile(loss='binary_crossentropy', optimizer=tf.keras.optimizers.Adam(learning_rate = 0.01))\n",
    "\n",
    "                m1 = m1\n",
    "                m2 = m2\n",
    "                \n",
    "                #if computed this mass pair, break\n",
    "                \n",
    "                key = (sigfrac,m1,m2)\n",
    "                if key in z:\n",
    "                    break\n",
    "\n",
    "                test_background = int(1/2 *len(x[0,0, qq]))\n",
    "                train_background = int(1/4 * len(x[0,0,qq]))\n",
    "                train_data = int(1/4 * len(x[0,0,qq]))\n",
    "                train_reference = int(1/4 * len(x[0,0,qq]))\n",
    "                #signal\n",
    "                test_signal_length = int(1/2*len(x[m1,m2,qq]))\n",
    "                sig_frac = sigfrac\n",
    "\n",
    "                #randomize signal events\n",
    "                #random_test_signal_length = random.randint(0, test_signal_length - 1)\n",
    "                N = int(1/4 * (len(x[0,0,qq])))\n",
    "                signal = x[m1, m2,qq][test_signal_length:test_signal_length + int(sigfrac*N)]\n",
    "\n",
    "                x_data_ = np.concatenate([x[0,0,qq][test_background:],signal])\n",
    "                y_data_ = np.concatenate([np.zeros(train_reference),np.ones(train_data),np.ones(len(signal))])\n",
    "\n",
    "                X_train_, X_val_, Y_train_, Y_val_ = train_test_split(x_data_, y_data_, test_size=0.5, random_state = 42)\n",
    "                \n",
    "                with tf.device('/GPU:0'):\n",
    "                    loss = model_all2.evaluate(X_val_, Y_val_, verbose = 0)\n",
    "                losses_list.append(loss)\n",
    "                \n",
    "        end_time = time.time()\n",
    "        elapsed_time = round(end_time - start_time, 3)\n",
    "        print(f\"Time taken: {elapsed_time} seconds\")\n",
    "        if key in z:\n",
    "            print(\"Landscape for m1 = {} \".format(m1) + \"and \" + \"m2 = {} \".format(m2) +\" already exists for \" + \"{}\".format(sigfrac) + \" signal fraction\")\n",
    "        else:\n",
    "            z[sigfrac, m1, m2] = losses_list\n",
    "            losses_list = []\n",
    "            np.save(file_name, z)\n",
    "end_time_total = time.time()\n",
    "\n",
    "elapsed_time_total = round(end_time_total - start_time, 3)\n",
    "print(f\"Total elapsed time: {elapsed_time_total} seconds\")"
   ]
  },
  {
   "cell_type": "code",
   "execution_count": null,
   "id": "c96e285a-ae4f-4c18-a143-9d1196e07e65",
   "metadata": {
    "collapsed": true,
    "jupyter": {
     "outputs_hidden": true
    },
    "tags": []
   },
   "outputs": [
    {
     "name": "stdout",
     "output_type": "stream",
     "text": [
      "Signal Fraction:  0.001\n",
      "reached 0.5 0.5\n",
      "Time taken: 1695.834 seconds\n",
      "Signal Fraction:  0.0011253355826007646\n",
      "reached 0.5 0.5\n",
      "Time taken: 3328.398 seconds\n",
      "Signal Fraction:  0.0012663801734674035\n",
      "reached 0.5 0.5\n",
      "Time taken: 4967.724 seconds\n",
      "Signal Fraction:  0.0014251026703029977\n",
      "reached 0.5 0.5\n",
      "Time taken: 6623.419 seconds\n",
      "Signal Fraction:  0.001603718743751331\n",
      "reached 0.5 0.5\n",
      "Time taken: 8263.684 seconds\n",
      "Signal Fraction:  0.0018047217668271701\n",
      "reached 0.5 0.5\n",
      "Time taken: 9899.988 seconds\n",
      "Signal Fraction:  0.002030917620904735\n",
      "reached 0.5 0.5\n",
      "Time taken: 11693.188 seconds\n",
      "Signal Fraction:  0.0022854638641349907\n",
      "reached 0.5 0.5\n",
      "Time taken: 23606.089 seconds\n",
      "Signal Fraction:  0.0052233450742668434\n",
      "reached 0.5 0.5\n",
      "Time taken: 25199.263 seconds\n",
      "Signal Fraction:  0.0058780160722749115\n",
      "reached 0.5 0.5\n",
      "Time taken: 26474.212 seconds\n",
      "Signal Fraction:  0.006614740641230145\n",
      "reached 0.5 0.5\n",
      "Time taken: 27753.02 seconds\n",
      "Signal Fraction:  0.0074438030132516885\n",
      "reached 0.5 0.5\n",
      "Time taken: 28966.104 seconds\n",
      "Signal Fraction:  0.008376776400682916\n",
      "reached 0.5 0.5\n",
      "Time taken: 30326.709 seconds\n",
      "Signal Fraction:  0.009426684551178854\n",
      "reached 0.5 0.5\n",
      "Time taken: 31611.191 seconds\n",
      "Signal Fraction:  0.010608183551394482\n",
      "reached 0.5 0.5\n",
      "Time taken: 32962.749 seconds\n",
      "Signal Fraction:  0.011937766417144363\n",
      "reached 0.5 0.5\n",
      "Time taken: 34244.195 seconds\n",
      "Signal Fraction:  0.013433993325989001\n",
      "reached 0.5 0.5\n",
      "Time taken: 35530.493 seconds\n",
      "Signal Fraction:  0.015117750706156624\n",
      "reached 0.5 0.5\n",
      "Time taken: 36876.182 seconds\n",
      "Signal Fraction:  0.017012542798525893\n",
      "reached 0.5 0.5\n",
      "Time taken: 38159.291 seconds\n",
      "Signal Fraction:  0.019144819761699575\n",
      "reached 0.5 0.5\n",
      "Time taken: 39458.979 seconds\n",
      "Signal Fraction:  0.021544346900318832\n",
      "reached 0.5 0.5\n",
      "Time taken: 40774.746 seconds\n",
      "Signal Fraction:  0.024244620170823284\n",
      "reached 0.5 0.5\n",
      "Time taken: 42040.754 seconds\n",
      "Signal Fraction:  0.02728333376486768\n",
      "reached 0.5 0.5\n",
      "Time taken: 43029.314 seconds\n",
      "Signal Fraction:  0.0307029062975785\n",
      "reached 0.5 0.5\n",
      "Time taken: 44383.597 seconds\n",
      "Signal Fraction:  0.03455107294592218\n",
      "reached 0.5 0.5\n",
      "Time taken: 45661.722 seconds\n",
      "Signal Fraction:  0.03888155180308087\n",
      "reached 0.5 0.5\n"
     ]
    }
   ],
   "source": [
    "create_loss_landscape_6Features(model_qqq, 3.5, 5.5)"
   ]
  },
  {
   "cell_type": "code",
   "execution_count": 8,
   "id": "aa4d88b8-5a26-4059-92ad-35ef4e056258",
   "metadata": {
    "tags": []
   },
   "outputs": [
    {
     "name": "stdout",
     "output_type": "stream",
     "text": [
      "Dictionary doesn't exist, creating one...\n",
      "Signal Fraction:  0.001\n",
      "reached 0.5 0.5\n"
     ]
    },
    {
     "name": "stderr",
     "output_type": "stream",
     "text": [
      "2023-12-31 09:00:26.993066: I tensorflow/stream_executor/cuda/cuda_blas.cc:1786] TensorFloat-32 will be used for the matrix multiplication. This will only be logged once.\n"
     ]
    },
    {
     "ename": "KeyboardInterrupt",
     "evalue": "",
     "output_type": "error",
     "traceback": [
      "\u001b[0;31m---------------------------------------------------------------------------\u001b[0m",
      "\u001b[0;31mKeyboardInterrupt\u001b[0m                         Traceback (most recent call last)",
      "Cell \u001b[0;32mIn[8], line 1\u001b[0m\n\u001b[0;32m----> 1\u001b[0m \u001b[43mcreate_loss_landscape_6Features\u001b[49m\u001b[43m(\u001b[49m\u001b[43mmodel_qq\u001b[49m\u001b[43m,\u001b[49m\u001b[43m \u001b[49m\u001b[38;5;241;43m3.5\u001b[39;49m\u001b[43m,\u001b[49m\u001b[43m \u001b[49m\u001b[38;5;241;43m5.5\u001b[39;49m\u001b[43m)\u001b[49m\n",
      "Cell \u001b[0;32mIn[7], line 100\u001b[0m, in \u001b[0;36mcreate_loss_landscape_6Features\u001b[0;34m(model, m1, m2)\u001b[0m\n\u001b[1;32m     97\u001b[0m         X_train_, X_val_, Y_train_, Y_val_ \u001b[38;5;241m=\u001b[39m train_test_split(x_data_, y_data_, test_size\u001b[38;5;241m=\u001b[39m\u001b[38;5;241m0.5\u001b[39m, random_state \u001b[38;5;241m=\u001b[39m \u001b[38;5;241m42\u001b[39m)\n\u001b[1;32m     99\u001b[0m         \u001b[38;5;28;01mwith\u001b[39;00m tf\u001b[38;5;241m.\u001b[39mdevice(\u001b[38;5;124m'\u001b[39m\u001b[38;5;124m/GPU:0\u001b[39m\u001b[38;5;124m'\u001b[39m):\n\u001b[0;32m--> 100\u001b[0m             loss \u001b[38;5;241m=\u001b[39m \u001b[43mmodel_all2\u001b[49m\u001b[38;5;241;43m.\u001b[39;49m\u001b[43mevaluate\u001b[49m\u001b[43m(\u001b[49m\u001b[43mX_val_\u001b[49m\u001b[43m,\u001b[49m\u001b[43m \u001b[49m\u001b[43mY_val_\u001b[49m\u001b[43m,\u001b[49m\u001b[43m \u001b[49m\u001b[43mverbose\u001b[49m\u001b[43m \u001b[49m\u001b[38;5;241;43m=\u001b[39;49m\u001b[43m \u001b[49m\u001b[38;5;241;43m0\u001b[39;49m\u001b[43m)\u001b[49m\n\u001b[1;32m    101\u001b[0m         losses_list\u001b[38;5;241m.\u001b[39mappend(loss)\n\u001b[1;32m    103\u001b[0m end_time \u001b[38;5;241m=\u001b[39m time\u001b[38;5;241m.\u001b[39mtime()\n",
      "File \u001b[0;32m/global/common/software/nersc/pm-2022q4/sw/tensorflow/2.9.0/lib/python3.9/site-packages/keras/utils/traceback_utils.py:64\u001b[0m, in \u001b[0;36mfilter_traceback.<locals>.error_handler\u001b[0;34m(*args, **kwargs)\u001b[0m\n\u001b[1;32m     62\u001b[0m filtered_tb \u001b[38;5;241m=\u001b[39m \u001b[38;5;28;01mNone\u001b[39;00m\n\u001b[1;32m     63\u001b[0m \u001b[38;5;28;01mtry\u001b[39;00m:\n\u001b[0;32m---> 64\u001b[0m   \u001b[38;5;28;01mreturn\u001b[39;00m \u001b[43mfn\u001b[49m\u001b[43m(\u001b[49m\u001b[38;5;241;43m*\u001b[39;49m\u001b[43margs\u001b[49m\u001b[43m,\u001b[49m\u001b[43m \u001b[49m\u001b[38;5;241;43m*\u001b[39;49m\u001b[38;5;241;43m*\u001b[39;49m\u001b[43mkwargs\u001b[49m\u001b[43m)\u001b[49m\n\u001b[1;32m     65\u001b[0m \u001b[38;5;28;01mexcept\u001b[39;00m \u001b[38;5;167;01mException\u001b[39;00m \u001b[38;5;28;01mas\u001b[39;00m e:  \u001b[38;5;66;03m# pylint: disable=broad-except\u001b[39;00m\n\u001b[1;32m     66\u001b[0m   filtered_tb \u001b[38;5;241m=\u001b[39m _process_traceback_frames(e\u001b[38;5;241m.\u001b[39m__traceback__)\n",
      "File \u001b[0;32m/global/common/software/nersc/pm-2022q4/sw/tensorflow/2.9.0/lib/python3.9/site-packages/keras/engine/training.py:1756\u001b[0m, in \u001b[0;36mModel.evaluate\u001b[0;34m(self, x, y, batch_size, verbose, sample_weight, steps, callbacks, max_queue_size, workers, use_multiprocessing, return_dict, **kwargs)\u001b[0m\n\u001b[1;32m   1754\u001b[0m \u001b[38;5;28;01mwith\u001b[39;00m tf\u001b[38;5;241m.\u001b[39mprofiler\u001b[38;5;241m.\u001b[39mexperimental\u001b[38;5;241m.\u001b[39mTrace(\u001b[38;5;124m'\u001b[39m\u001b[38;5;124mtest\u001b[39m\u001b[38;5;124m'\u001b[39m, step_num\u001b[38;5;241m=\u001b[39mstep, _r\u001b[38;5;241m=\u001b[39m\u001b[38;5;241m1\u001b[39m):\n\u001b[1;32m   1755\u001b[0m   callbacks\u001b[38;5;241m.\u001b[39mon_test_batch_begin(step)\n\u001b[0;32m-> 1756\u001b[0m   tmp_logs \u001b[38;5;241m=\u001b[39m \u001b[38;5;28;43mself\u001b[39;49m\u001b[38;5;241;43m.\u001b[39;49m\u001b[43mtest_function\u001b[49m\u001b[43m(\u001b[49m\u001b[43miterator\u001b[49m\u001b[43m)\u001b[49m\n\u001b[1;32m   1757\u001b[0m   \u001b[38;5;28;01mif\u001b[39;00m data_handler\u001b[38;5;241m.\u001b[39mshould_sync:\n\u001b[1;32m   1758\u001b[0m     context\u001b[38;5;241m.\u001b[39masync_wait()\n",
      "File \u001b[0;32m/global/common/software/nersc/pm-2022q4/sw/tensorflow/2.9.0/lib/python3.9/site-packages/tensorflow/python/util/traceback_utils.py:150\u001b[0m, in \u001b[0;36mfilter_traceback.<locals>.error_handler\u001b[0;34m(*args, **kwargs)\u001b[0m\n\u001b[1;32m    148\u001b[0m filtered_tb \u001b[38;5;241m=\u001b[39m \u001b[38;5;28;01mNone\u001b[39;00m\n\u001b[1;32m    149\u001b[0m \u001b[38;5;28;01mtry\u001b[39;00m:\n\u001b[0;32m--> 150\u001b[0m   \u001b[38;5;28;01mreturn\u001b[39;00m \u001b[43mfn\u001b[49m\u001b[43m(\u001b[49m\u001b[38;5;241;43m*\u001b[39;49m\u001b[43margs\u001b[49m\u001b[43m,\u001b[49m\u001b[43m \u001b[49m\u001b[38;5;241;43m*\u001b[39;49m\u001b[38;5;241;43m*\u001b[39;49m\u001b[43mkwargs\u001b[49m\u001b[43m)\u001b[49m\n\u001b[1;32m    151\u001b[0m \u001b[38;5;28;01mexcept\u001b[39;00m \u001b[38;5;167;01mException\u001b[39;00m \u001b[38;5;28;01mas\u001b[39;00m e:\n\u001b[1;32m    152\u001b[0m   filtered_tb \u001b[38;5;241m=\u001b[39m _process_traceback_frames(e\u001b[38;5;241m.\u001b[39m__traceback__)\n",
      "File \u001b[0;32m/global/common/software/nersc/pm-2022q4/sw/tensorflow/2.9.0/lib/python3.9/site-packages/tensorflow/python/eager/def_function.py:915\u001b[0m, in \u001b[0;36mFunction.__call__\u001b[0;34m(self, *args, **kwds)\u001b[0m\n\u001b[1;32m    912\u001b[0m compiler \u001b[38;5;241m=\u001b[39m \u001b[38;5;124m\"\u001b[39m\u001b[38;5;124mxla\u001b[39m\u001b[38;5;124m\"\u001b[39m \u001b[38;5;28;01mif\u001b[39;00m \u001b[38;5;28mself\u001b[39m\u001b[38;5;241m.\u001b[39m_jit_compile \u001b[38;5;28;01melse\u001b[39;00m \u001b[38;5;124m\"\u001b[39m\u001b[38;5;124mnonXla\u001b[39m\u001b[38;5;124m\"\u001b[39m\n\u001b[1;32m    914\u001b[0m \u001b[38;5;28;01mwith\u001b[39;00m OptionalXlaContext(\u001b[38;5;28mself\u001b[39m\u001b[38;5;241m.\u001b[39m_jit_compile):\n\u001b[0;32m--> 915\u001b[0m   result \u001b[38;5;241m=\u001b[39m \u001b[38;5;28;43mself\u001b[39;49m\u001b[38;5;241;43m.\u001b[39;49m\u001b[43m_call\u001b[49m\u001b[43m(\u001b[49m\u001b[38;5;241;43m*\u001b[39;49m\u001b[43margs\u001b[49m\u001b[43m,\u001b[49m\u001b[43m \u001b[49m\u001b[38;5;241;43m*\u001b[39;49m\u001b[38;5;241;43m*\u001b[39;49m\u001b[43mkwds\u001b[49m\u001b[43m)\u001b[49m\n\u001b[1;32m    917\u001b[0m new_tracing_count \u001b[38;5;241m=\u001b[39m \u001b[38;5;28mself\u001b[39m\u001b[38;5;241m.\u001b[39mexperimental_get_tracing_count()\n\u001b[1;32m    918\u001b[0m without_tracing \u001b[38;5;241m=\u001b[39m (tracing_count \u001b[38;5;241m==\u001b[39m new_tracing_count)\n",
      "File \u001b[0;32m/global/common/software/nersc/pm-2022q4/sw/tensorflow/2.9.0/lib/python3.9/site-packages/tensorflow/python/eager/def_function.py:954\u001b[0m, in \u001b[0;36mFunction._call\u001b[0;34m(self, *args, **kwds)\u001b[0m\n\u001b[1;32m    951\u001b[0m \u001b[38;5;28mself\u001b[39m\u001b[38;5;241m.\u001b[39m_lock\u001b[38;5;241m.\u001b[39mrelease()\n\u001b[1;32m    952\u001b[0m \u001b[38;5;66;03m# In this case we have not created variables on the first call. So we can\u001b[39;00m\n\u001b[1;32m    953\u001b[0m \u001b[38;5;66;03m# run the first trace but we should fail if variables are created.\u001b[39;00m\n\u001b[0;32m--> 954\u001b[0m results \u001b[38;5;241m=\u001b[39m \u001b[38;5;28;43mself\u001b[39;49m\u001b[38;5;241;43m.\u001b[39;49m\u001b[43m_stateful_fn\u001b[49m\u001b[43m(\u001b[49m\u001b[38;5;241;43m*\u001b[39;49m\u001b[43margs\u001b[49m\u001b[43m,\u001b[49m\u001b[43m \u001b[49m\u001b[38;5;241;43m*\u001b[39;49m\u001b[38;5;241;43m*\u001b[39;49m\u001b[43mkwds\u001b[49m\u001b[43m)\u001b[49m\n\u001b[1;32m    955\u001b[0m \u001b[38;5;28;01mif\u001b[39;00m \u001b[38;5;28mself\u001b[39m\u001b[38;5;241m.\u001b[39m_created_variables \u001b[38;5;129;01mand\u001b[39;00m \u001b[38;5;129;01mnot\u001b[39;00m ALLOW_DYNAMIC_VARIABLE_CREATION:\n\u001b[1;32m    956\u001b[0m   \u001b[38;5;28;01mraise\u001b[39;00m \u001b[38;5;167;01mValueError\u001b[39;00m(\u001b[38;5;124m\"\u001b[39m\u001b[38;5;124mCreating variables on a non-first call to a function\u001b[39m\u001b[38;5;124m\"\u001b[39m\n\u001b[1;32m    957\u001b[0m                    \u001b[38;5;124m\"\u001b[39m\u001b[38;5;124m decorated with tf.function.\u001b[39m\u001b[38;5;124m\"\u001b[39m)\n",
      "File \u001b[0;32m/global/common/software/nersc/pm-2022q4/sw/tensorflow/2.9.0/lib/python3.9/site-packages/tensorflow/python/eager/function.py:2452\u001b[0m, in \u001b[0;36mFunction.__call__\u001b[0;34m(self, *args, **kwargs)\u001b[0m\n\u001b[1;32m   2449\u001b[0m \u001b[38;5;124;03m\"\"\"Calls a graph function specialized to the inputs.\"\"\"\u001b[39;00m\n\u001b[1;32m   2450\u001b[0m \u001b[38;5;28;01mwith\u001b[39;00m \u001b[38;5;28mself\u001b[39m\u001b[38;5;241m.\u001b[39m_lock:\n\u001b[1;32m   2451\u001b[0m   (graph_function,\n\u001b[0;32m-> 2452\u001b[0m    filtered_flat_args) \u001b[38;5;241m=\u001b[39m \u001b[38;5;28;43mself\u001b[39;49m\u001b[38;5;241;43m.\u001b[39;49m\u001b[43m_maybe_define_function\u001b[49m\u001b[43m(\u001b[49m\u001b[43margs\u001b[49m\u001b[43m,\u001b[49m\u001b[43m \u001b[49m\u001b[43mkwargs\u001b[49m\u001b[43m)\u001b[49m\n\u001b[1;32m   2453\u001b[0m \u001b[38;5;28;01mreturn\u001b[39;00m graph_function\u001b[38;5;241m.\u001b[39m_call_flat(\n\u001b[1;32m   2454\u001b[0m     filtered_flat_args, captured_inputs\u001b[38;5;241m=\u001b[39mgraph_function\u001b[38;5;241m.\u001b[39mcaptured_inputs)\n",
      "File \u001b[0;32m/global/common/software/nersc/pm-2022q4/sw/tensorflow/2.9.0/lib/python3.9/site-packages/tensorflow/python/eager/function.py:2683\u001b[0m, in \u001b[0;36mFunction._maybe_define_function\u001b[0;34m(self, args, kwargs)\u001b[0m\n\u001b[1;32m   2679\u001b[0m   cache_key, cache_key_deletion_observer \u001b[38;5;241m=\u001b[39m function_context\u001b[38;5;241m.\u001b[39mmake_cache_key(\n\u001b[1;32m   2680\u001b[0m       \u001b[38;5;28mself\u001b[39m\u001b[38;5;241m.\u001b[39mflat_input_signature)\n\u001b[1;32m   2682\u001b[0m \u001b[38;5;28;01mtry\u001b[39;00m:\n\u001b[0;32m-> 2683\u001b[0m   \u001b[38;5;28;43mhash\u001b[39;49m\u001b[43m(\u001b[49m\u001b[43mcache_key\u001b[49m\u001b[43m)\u001b[49m\n\u001b[1;32m   2684\u001b[0m \u001b[38;5;28;01mexcept\u001b[39;00m \u001b[38;5;167;01mTypeError\u001b[39;00m \u001b[38;5;28;01mas\u001b[39;00m e:\n\u001b[1;32m   2685\u001b[0m   \u001b[38;5;28;01mraise\u001b[39;00m \u001b[38;5;167;01mTypeError\u001b[39;00m(\n\u001b[1;32m   2686\u001b[0m       \u001b[38;5;124m\"\u001b[39m\u001b[38;5;124mArguments supplied to `defun`-generated functions must be \u001b[39m\u001b[38;5;124m\"\u001b[39m\n\u001b[1;32m   2687\u001b[0m       \u001b[38;5;124mf\u001b[39m\u001b[38;5;124m\"\u001b[39m\u001b[38;5;124mhashable.  Original error: \u001b[39m\u001b[38;5;132;01m{\u001b[39;00me\u001b[38;5;132;01m}\u001b[39;00m\u001b[38;5;124m.\u001b[39m\u001b[38;5;124m\"\u001b[39m)\n",
      "File \u001b[0;32m/global/common/software/nersc/pm-2022q4/sw/tensorflow/2.9.0/lib/python3.9/site-packages/tensorflow/core/function/polymorphism/function_cache.py:76\u001b[0m, in \u001b[0;36mFunctionCacheKey.__hash__\u001b[0;34m(self)\u001b[0m\n\u001b[1;32m     75\u001b[0m \u001b[38;5;28;01mdef\u001b[39;00m \u001b[38;5;21m__hash__\u001b[39m(\u001b[38;5;28mself\u001b[39m) \u001b[38;5;241m-\u001b[39m\u001b[38;5;241m>\u001b[39m \u001b[38;5;28mint\u001b[39m:\n\u001b[0;32m---> 76\u001b[0m   \u001b[38;5;28;01mreturn\u001b[39;00m \u001b[38;5;28;43mhash\u001b[39;49m\u001b[43m(\u001b[49m\u001b[43m(\u001b[49m\u001b[38;5;28;43mself\u001b[39;49m\u001b[38;5;241;43m.\u001b[39;49m\u001b[43mcall_context\u001b[49m\u001b[43m,\u001b[49m\u001b[43m \u001b[49m\u001b[38;5;28;43mself\u001b[39;49m\u001b[38;5;241;43m.\u001b[39;49m\u001b[43mfunction_signature\u001b[49m\u001b[43m)\u001b[49m\u001b[43m)\u001b[49m\n",
      "File \u001b[0;32m/global/common/software/nersc/pm-2022q4/sw/tensorflow/2.9.0/lib/python3.9/site-packages/tensorflow/core/function/trace_type/default_types.py:136\u001b[0m, in \u001b[0;36mOrderedCollection.__hash__\u001b[0;34m(self)\u001b[0m\n\u001b[1;32m    135\u001b[0m \u001b[38;5;28;01mdef\u001b[39;00m \u001b[38;5;21m__hash__\u001b[39m(\u001b[38;5;28mself\u001b[39m) \u001b[38;5;241m-\u001b[39m\u001b[38;5;241m>\u001b[39m \u001b[38;5;28mint\u001b[39m:\n\u001b[0;32m--> 136\u001b[0m   \u001b[38;5;28;01mreturn\u001b[39;00m \u001b[38;5;28;43mhash\u001b[39;49m\u001b[43m(\u001b[49m\u001b[43m(\u001b[49m\u001b[38;5;28;43mself\u001b[39;49m\u001b[38;5;241;43m.\u001b[39;49m\u001b[43mcollection_type\u001b[49m\u001b[43m,\u001b[49m\u001b[43m \u001b[49m\u001b[38;5;28;43mself\u001b[39;49m\u001b[38;5;241;43m.\u001b[39;49m\u001b[43mcomponents\u001b[49m\u001b[43m)\u001b[49m\u001b[43m)\u001b[49m\n",
      "File \u001b[0;32m/global/common/software/nersc/pm-2022q4/sw/tensorflow/2.9.0/lib/python3.9/site-packages/tensorflow/core/function/trace_type/default_types.py:136\u001b[0m, in \u001b[0;36mOrderedCollection.__hash__\u001b[0;34m(self)\u001b[0m\n\u001b[1;32m    135\u001b[0m \u001b[38;5;28;01mdef\u001b[39;00m \u001b[38;5;21m__hash__\u001b[39m(\u001b[38;5;28mself\u001b[39m) \u001b[38;5;241m-\u001b[39m\u001b[38;5;241m>\u001b[39m \u001b[38;5;28mint\u001b[39m:\n\u001b[0;32m--> 136\u001b[0m   \u001b[38;5;28;01mreturn\u001b[39;00m \u001b[38;5;28;43mhash\u001b[39;49m\u001b[43m(\u001b[49m\u001b[43m(\u001b[49m\u001b[38;5;28;43mself\u001b[39;49m\u001b[38;5;241;43m.\u001b[39;49m\u001b[43mcollection_type\u001b[49m\u001b[43m,\u001b[49m\u001b[43m \u001b[49m\u001b[38;5;28;43mself\u001b[39;49m\u001b[38;5;241;43m.\u001b[39;49m\u001b[43mcomponents\u001b[49m\u001b[43m)\u001b[49m\u001b[43m)\u001b[49m\n",
      "File \u001b[0;32m/global/common/software/nersc/pm-2022q4/sw/tensorflow/2.9.0/lib/python3.9/site-packages/tensorflow/core/function/trace_type/default_types.py:335\u001b[0m, in \u001b[0;36mReference.__hash__\u001b[0;34m(self)\u001b[0m\n\u001b[1;32m    334\u001b[0m \u001b[38;5;28;01mdef\u001b[39;00m \u001b[38;5;21m__hash__\u001b[39m(\u001b[38;5;28mself\u001b[39m) \u001b[38;5;241m-\u001b[39m\u001b[38;5;241m>\u001b[39m \u001b[38;5;28mint\u001b[39m:\n\u001b[0;32m--> 335\u001b[0m   \u001b[38;5;28;01mreturn\u001b[39;00m \u001b[38;5;28;43mhash\u001b[39;49m\u001b[43m(\u001b[49m\u001b[43m(\u001b[49m\u001b[38;5;28;43mself\u001b[39;49m\u001b[38;5;241;43m.\u001b[39;49m\u001b[43midentifier\u001b[49m\u001b[43m,\u001b[49m\u001b[43m \u001b[49m\u001b[38;5;28;43mself\u001b[39;49m\u001b[38;5;241;43m.\u001b[39;49m\u001b[43mbase\u001b[49m\u001b[43m)\u001b[49m\u001b[43m)\u001b[49m\n",
      "File \u001b[0;32m/global/common/software/nersc/pm-2022q4/sw/tensorflow/2.9.0/lib/python3.9/site-packages/tensorflow/python/framework/type_spec.py:447\u001b[0m, in \u001b[0;36mTypeSpec.__hash__\u001b[0;34m(self)\u001b[0m\n\u001b[1;32m    446\u001b[0m \u001b[38;5;28;01mdef\u001b[39;00m \u001b[38;5;21m__hash__\u001b[39m(\u001b[38;5;28mself\u001b[39m) \u001b[38;5;241m-\u001b[39m\u001b[38;5;241m>\u001b[39m \u001b[38;5;28mint\u001b[39m:\n\u001b[0;32m--> 447\u001b[0m   \u001b[38;5;28;01mreturn\u001b[39;00m \u001b[38;5;28;43mhash\u001b[39;49m\u001b[43m(\u001b[49m\u001b[38;5;28;43mself\u001b[39;49m\u001b[38;5;241;43m.\u001b[39;49m\u001b[43m__get_cmp_key\u001b[49m\u001b[43m(\u001b[49m\u001b[43m)\u001b[49m\u001b[43m)\u001b[49m\n",
      "File \u001b[0;32m/global/common/software/nersc/pm-2022q4/sw/tensorflow/2.9.0/lib/python3.9/site-packages/tensorflow/python/framework/tensor_spec.py:76\u001b[0m, in \u001b[0;36mDenseSpec.__hash__\u001b[0;34m(self)\u001b[0m\n\u001b[1;32m     75\u001b[0m \u001b[38;5;28;01mdef\u001b[39;00m \u001b[38;5;21m__hash__\u001b[39m(\u001b[38;5;28mself\u001b[39m):\n\u001b[0;32m---> 76\u001b[0m   \u001b[38;5;28;01mreturn\u001b[39;00m \u001b[38;5;28;43mhash\u001b[39;49m\u001b[43m(\u001b[49m\u001b[43m(\u001b[49m\u001b[38;5;28;43mself\u001b[39;49m\u001b[38;5;241;43m.\u001b[39;49m\u001b[43m_shape\u001b[49m\u001b[43m,\u001b[49m\u001b[43m \u001b[49m\u001b[38;5;28;43mself\u001b[39;49m\u001b[38;5;241;43m.\u001b[39;49m\u001b[43mdtype\u001b[49m\u001b[43m)\u001b[49m\u001b[43m)\u001b[49m\n",
      "\u001b[0;31mKeyboardInterrupt\u001b[0m: "
     ]
    }
   ],
   "source": [
    "create_loss_landscape_6Features(model_qq, 3.5, 5.5)"
   ]
  },
  {
   "cell_type": "code",
   "execution_count": null,
   "id": "59c66522-c256-4cb6-8b73-836d4ac84456",
   "metadata": {
    "tags": []
   },
   "outputs": [
    {
     "name": "stdout",
     "output_type": "stream",
     "text": [
      "Signal Fraction:  0.001\n",
      "Time taken: 29769.496 seconds\n",
      "Signal Fraction:  0.0012742749857031334\n",
      "Time taken: 30525.919 seconds\n",
      "Signal Fraction:  0.001623776739188721\n",
      "Time taken: 31285.205 seconds\n",
      "Signal Fraction:  0.00206913808111479\n",
      "Time taken: 32070.743 seconds\n",
      "Signal Fraction:  0.0026366508987303583\n",
      "Time taken: 32950.64 seconds\n",
      "Signal Fraction:  0.003359818286283781\n",
      "Time taken: 33757.107 seconds\n",
      "Signal Fraction:  0.004281332398719396\n",
      "Time taken: 34478.88 seconds\n",
      "Signal Fraction:  0.00545559478116852\n",
      "Time taken: 35191.248 seconds\n",
      "Signal Fraction:  0.0069519279617756054\n",
      "Time taken: 35904.252 seconds\n",
      "Signal Fraction:  0.008858667904100823\n",
      "Time taken: 36614.143 seconds\n",
      "Signal Fraction:  0.011288378916846888\n",
      "Time taken: 37497.193 seconds\n",
      "Signal Fraction:  0.01438449888287663\n"
     ]
    }
   ],
   "source": [
    "create_loss_landscape_6Features(model_qq, 2, 5)"
   ]
  },
  {
   "cell_type": "code",
   "execution_count": 23,
   "id": "187ab6ad-ddcc-47e6-abab-654ef6dfdd32",
   "metadata": {
    "tags": []
   },
   "outputs": [
    {
     "data": {
      "text/plain": [
       "dict_keys([(0.0379269019073225, 3, 4.5), (0.001, 3, 4.5), (0.0012742749857031334, 3, 4.5), (0.001623776739188721, 3, 4.5), (0.00206913808111479, 3, 4.5), (0.0026366508987303583, 3, 4.5), (0.003359818286283781, 3, 4.5), (0.004281332398719396, 3, 4.5), (0.00545559478116852, 3, 4.5), (0.0069519279617756054, 3, 4.5), (0.008858667904100823, 3, 4.5), (0.011288378916846888, 3, 4.5), (0.01438449888287663, 3, 4.5), (0.018329807108324356, 3, 4.5), (0.023357214690901212, 3, 4.5), (0.029763514416313176, 3, 4.5), (0.04832930238571752, 3, 4.5), (0.06158482110660261, 3, 4.5), (0.07847599703514611, 3, 4.5), (0.1, 3, 4.5)])"
      ]
     },
     "execution_count": 23,
     "metadata": {},
     "output_type": "execute_result"
    }
   ],
   "source": [
    "z_allm1m2_HD = np.load(\"z_allm1m2_6FeaturesHD.npy\", allow_pickle = True).item()\n",
    "z_allm1m2_HD.keys()"
   ]
  },
  {
   "cell_type": "code",
   "execution_count": 31,
   "id": "870f5207-209d-4d2d-a601-c98495afb56d",
   "metadata": {
    "tags": []
   },
   "outputs": [],
   "source": [
    "from IPython.display import display, clear_output\n",
    "from PIL import Image, ImageSequence\n",
    "def create_gif_nofit(m1, m2, z):\n",
    "    \n",
    "    output_directory = '2dhist_images'\n",
    "    os.makedirs(output_directory, exist_ok=True)\n",
    "    \n",
    "    sig_space = np.logspace(-3, -1 , 20)\n",
    "    \n",
    "    frames = []\n",
    "    for sb in sig_space:\n",
    "    \n",
    "        loss_landscape_nofit(sb, m1, m2, z)\n",
    "\n",
    "        image_path = os.path.join(output_directory, f'hist_{sb}.png')\n",
    "        plt.savefig(image_path)\n",
    "        plt.close()\n",
    "        clear_output(wait=True)\n",
    "\n",
    "        # Append the image to the frames list\n",
    "        frames.append(Image.open(image_path))\n",
    "\n",
    "    # Create the final GIF that combines all frames\n",
    "    output_gif_filename = f'sigspace{m1}{m2}fixed.gif'\n",
    "    frames[0].save(output_gif_filename, save_all=True, append_images=frames[1:], duration=400, loop=0)"
   ]
  },
  {
   "cell_type": "code",
   "execution_count": 16,
   "id": "d87872b3-79cc-4137-bb41-1ea97af8025b",
   "metadata": {
    "tags": []
   },
   "outputs": [],
   "source": [
    "X_train_qqq, X_val_qqq, Y_train_qqq, Y_val_qqq = train_test_split(x_data_qqq, y_data_qqq, test_size=0.5)"
   ]
  },
  {
   "cell_type": "code",
   "execution_count": 20,
   "id": "15f914a2-778a-4619-a7d8-2554fe7e553b",
   "metadata": {
    "tags": []
   },
   "outputs": [],
   "source": [
    "es = tf.keras.callbacks.EarlyStopping(monitor='val_loss', patience=5)"
   ]
  },
  {
   "cell_type": "code",
   "execution_count": 7,
   "id": "99d09263-275f-4a23-aecd-f37a37111f6e",
   "metadata": {
    "tags": []
   },
   "outputs": [
    {
     "name": "stderr",
     "output_type": "stream",
     "text": [
      "2024-01-09 21:32:41.982684: I tensorflow/core/platform/cpu_feature_guard.cc:193] This TensorFlow binary is optimized with oneAPI Deep Neural Network Library (oneDNN) to use the following CPU instructions in performance-critical operations:  AVX2 FMA\n",
      "To enable them in other operations, rebuild TensorFlow with the appropriate compiler flags.\n",
      "2024-01-09 21:32:43.758591: I tensorflow/core/common_runtime/gpu/gpu_device.cc:1532] Created device /job:localhost/replica:0/task:0/device:GPU:0 with 13379 MB memory:  -> device: 0, name: NVIDIA A100-PCIE-40GB, pci bus id: 0000:c3:00.0, compute capability: 8.0\n"
     ]
    }
   ],
   "source": [
    "model_qq = tf.keras.models.load_model(\"model_qq_v2\")\n",
    "model_qqq = tf.keras.models.load_model(\"model_qqq\")"
   ]
  },
  {
   "cell_type": "code",
   "execution_count": 146,
   "id": "33c85164-70eb-46b7-8c2e-0b8c6fbe4b37",
   "metadata": {
    "tags": []
   },
   "outputs": [],
   "source": [
    "#sigmoid = lambda x: 1. / (1. + np.exp(-x))"
   ]
  },
  {
   "cell_type": "code",
   "execution_count": 20,
   "id": "01a735d5-ddbc-47fe-b53a-90433f3427d5",
   "metadata": {
    "tags": []
   },
   "outputs": [
    {
     "name": "stdout",
     "output_type": "stream",
     "text": [
      "0.001 1.677 0.711\n"
     ]
    },
    {
     "ename": "ValueError",
     "evalue": "Found input variables with inconsistent numbers of samples: [182058, 60706]",
     "output_type": "error",
     "traceback": [
      "\u001b[0;31m---------------------------------------------------------------------------\u001b[0m",
      "\u001b[0;31mValueError\u001b[0m                                Traceback (most recent call last)",
      "Cell \u001b[0;32mIn[20], line 102\u001b[0m\n\u001b[1;32m     99\u001b[0m x_data_mixed \u001b[38;5;241m=\u001b[39m np\u001b[38;5;241m.\u001b[39mconcatenate([background_mixed,signal_mixed])\n\u001b[1;32m    100\u001b[0m y_data_mixed \u001b[38;5;241m=\u001b[39m np\u001b[38;5;241m.\u001b[39mconcatenate([np\u001b[38;5;241m.\u001b[39mzeros(train_reference),np\u001b[38;5;241m.\u001b[39mones(train_data),np\u001b[38;5;241m.\u001b[39mones(\u001b[38;5;28mlen\u001b[39m(signal_mixed))])\n\u001b[0;32m--> 102\u001b[0m X_train_, X_val_, Y_train_, Y_val_ \u001b[38;5;241m=\u001b[39m \u001b[43mtrain_test_split\u001b[49m\u001b[43m(\u001b[49m\u001b[43mx_data_mixed\u001b[49m\u001b[43m,\u001b[49m\u001b[43m \u001b[49m\u001b[43my_data_mixed\u001b[49m\u001b[43m,\u001b[49m\u001b[43m \u001b[49m\u001b[43mtest_size\u001b[49m\u001b[38;5;241;43m=\u001b[39;49m\u001b[38;5;241;43m0.5\u001b[39;49m\u001b[43m,\u001b[49m\u001b[43m \u001b[49m\u001b[43mrandom_state\u001b[49m\u001b[43m \u001b[49m\u001b[38;5;241;43m=\u001b[39;49m\u001b[43m \u001b[49m\u001b[38;5;241;43m42\u001b[39;49m\u001b[43m)\u001b[49m\n\u001b[1;32m    104\u001b[0m myhistory_hack_ \u001b[38;5;241m=\u001b[39m model_all2\u001b[38;5;241m.\u001b[39mfit(X_train_[:,\u001b[38;5;241m0\u001b[39m:\u001b[38;5;241m6\u001b[39m], Y_train_, epochs\u001b[38;5;241m=\u001b[39m\u001b[38;5;241m20\u001b[39m,validation_data\u001b[38;5;241m=\u001b[39m(X_val_[:,\u001b[38;5;241m0\u001b[39m:\u001b[38;5;241m6\u001b[39m], Y_val_),batch_size\u001b[38;5;241m=\u001b[39m\u001b[38;5;241m1024\u001b[39m, verbose \u001b[38;5;241m=\u001b[39m \u001b[38;5;241m0\u001b[39m)\n\u001b[1;32m    105\u001b[0m \u001b[38;5;28mprint\u001b[39m(m1,m2,model_all2\u001b[38;5;241m.\u001b[39mtrainable_weights[\u001b[38;5;241m0\u001b[39m]\u001b[38;5;241m.\u001b[39mnumpy()[\u001b[38;5;241m0\u001b[39m][\u001b[38;5;241m0\u001b[39m],model_all2\u001b[38;5;241m.\u001b[39mtrainable_weights[\u001b[38;5;241m1\u001b[39m]\u001b[38;5;241m.\u001b[39mnumpy()[\u001b[38;5;241m0\u001b[39m][\u001b[38;5;241m0\u001b[39m])\n",
      "File \u001b[0;32m/global/common/software/nersc/pm-2022q4/sw/tensorflow/2.9.0/lib/python3.9/site-packages/sklearn/model_selection/_split.py:2559\u001b[0m, in \u001b[0;36mtrain_test_split\u001b[0;34m(test_size, train_size, random_state, shuffle, stratify, *arrays)\u001b[0m\n\u001b[1;32m   2556\u001b[0m \u001b[38;5;28;01mif\u001b[39;00m n_arrays \u001b[38;5;241m==\u001b[39m \u001b[38;5;241m0\u001b[39m:\n\u001b[1;32m   2557\u001b[0m     \u001b[38;5;28;01mraise\u001b[39;00m \u001b[38;5;167;01mValueError\u001b[39;00m(\u001b[38;5;124m\"\u001b[39m\u001b[38;5;124mAt least one array required as input\u001b[39m\u001b[38;5;124m\"\u001b[39m)\n\u001b[0;32m-> 2559\u001b[0m arrays \u001b[38;5;241m=\u001b[39m \u001b[43mindexable\u001b[49m\u001b[43m(\u001b[49m\u001b[38;5;241;43m*\u001b[39;49m\u001b[43marrays\u001b[49m\u001b[43m)\u001b[49m\n\u001b[1;32m   2561\u001b[0m n_samples \u001b[38;5;241m=\u001b[39m _num_samples(arrays[\u001b[38;5;241m0\u001b[39m])\n\u001b[1;32m   2562\u001b[0m n_train, n_test \u001b[38;5;241m=\u001b[39m _validate_shuffle_split(\n\u001b[1;32m   2563\u001b[0m     n_samples, test_size, train_size, default_test_size\u001b[38;5;241m=\u001b[39m\u001b[38;5;241m0.25\u001b[39m\n\u001b[1;32m   2564\u001b[0m )\n",
      "File \u001b[0;32m/global/common/software/nersc/pm-2022q4/sw/tensorflow/2.9.0/lib/python3.9/site-packages/sklearn/utils/validation.py:443\u001b[0m, in \u001b[0;36mindexable\u001b[0;34m(*iterables)\u001b[0m\n\u001b[1;32m    424\u001b[0m \u001b[38;5;124;03m\"\"\"Make arrays indexable for cross-validation.\u001b[39;00m\n\u001b[1;32m    425\u001b[0m \n\u001b[1;32m    426\u001b[0m \u001b[38;5;124;03mChecks consistent length, passes through None, and ensures that everything\u001b[39;00m\n\u001b[0;32m   (...)\u001b[0m\n\u001b[1;32m    439\u001b[0m \u001b[38;5;124;03m    sparse matrix, or dataframe) or `None`.\u001b[39;00m\n\u001b[1;32m    440\u001b[0m \u001b[38;5;124;03m\"\"\"\u001b[39;00m\n\u001b[1;32m    442\u001b[0m result \u001b[38;5;241m=\u001b[39m [_make_indexable(X) \u001b[38;5;28;01mfor\u001b[39;00m X \u001b[38;5;129;01min\u001b[39;00m iterables]\n\u001b[0;32m--> 443\u001b[0m \u001b[43mcheck_consistent_length\u001b[49m\u001b[43m(\u001b[49m\u001b[38;5;241;43m*\u001b[39;49m\u001b[43mresult\u001b[49m\u001b[43m)\u001b[49m\n\u001b[1;32m    444\u001b[0m \u001b[38;5;28;01mreturn\u001b[39;00m result\n",
      "File \u001b[0;32m/global/common/software/nersc/pm-2022q4/sw/tensorflow/2.9.0/lib/python3.9/site-packages/sklearn/utils/validation.py:397\u001b[0m, in \u001b[0;36mcheck_consistent_length\u001b[0;34m(*arrays)\u001b[0m\n\u001b[1;32m    395\u001b[0m uniques \u001b[38;5;241m=\u001b[39m np\u001b[38;5;241m.\u001b[39munique(lengths)\n\u001b[1;32m    396\u001b[0m \u001b[38;5;28;01mif\u001b[39;00m \u001b[38;5;28mlen\u001b[39m(uniques) \u001b[38;5;241m>\u001b[39m \u001b[38;5;241m1\u001b[39m:\n\u001b[0;32m--> 397\u001b[0m     \u001b[38;5;28;01mraise\u001b[39;00m \u001b[38;5;167;01mValueError\u001b[39;00m(\n\u001b[1;32m    398\u001b[0m         \u001b[38;5;124m\"\u001b[39m\u001b[38;5;124mFound input variables with inconsistent numbers of samples: \u001b[39m\u001b[38;5;132;01m%r\u001b[39;00m\u001b[38;5;124m\"\u001b[39m\n\u001b[1;32m    399\u001b[0m         \u001b[38;5;241m%\u001b[39m [\u001b[38;5;28mint\u001b[39m(l) \u001b[38;5;28;01mfor\u001b[39;00m l \u001b[38;5;129;01min\u001b[39;00m lengths]\n\u001b[1;32m    400\u001b[0m     )\n",
      "\u001b[0;31mValueError\u001b[0m: Found input variables with inconsistent numbers of samples: [182058, 60706]"
     ]
    }
   ],
   "source": [
    "from models import createSimpleModel\n",
    "decay = 'qqq'\n",
    "\n",
    "msic1_runs = []\n",
    "msic2_runs = []\n",
    "msic3_runs = []\n",
    "weight_list3_runs = []\n",
    "weight_list4_runs = []\n",
    "initial_weights_list_runs = []\n",
    "\n",
    "num_runs = 1\n",
    "\n",
    "for _ in range(num_runs):\n",
    "\n",
    "    sig_list = []\n",
    "    \n",
    "    msic1 = []\n",
    "    msic2 = []\n",
    "    msic3 = []\n",
    "    weight_list1 = []\n",
    "    weight_list2 = []\n",
    "    weight_list3 = []\n",
    "    weight_list4 = []\n",
    "\n",
    "    sigspace = np.logspace(-3, -1, 20)\n",
    "\n",
    "    w1 = round(random.uniform(0.5, 6.0),3)\n",
    "    w2 = round(random.uniform(0.5, 6.0),3)\n",
    "    initial_weights_list_runs.append((w1, w2))\n",
    "\n",
    "    #print(w1, w2)\n",
    "    for sigfrac in sigspace:\n",
    "\n",
    "        #freeze both two pronged and three pronged prior models\n",
    "        for l in model_qq.layers:\n",
    "            l.trainable=False\n",
    "\n",
    "        for l in model_qqq.layers:\n",
    "            l.trainable=False\n",
    "\n",
    "        #sigfrac = 0.1\n",
    "        print(sigfrac, w1, w2)\n",
    "\n",
    "        #w1, w2 = 3.241, 3.649 \n",
    "\n",
    "        inputs_hold = tf.keras.Input(shape=(1,))\n",
    "        simple_model = Dense(1,use_bias = False,activation='relu',kernel_initializer=tf.keras.initializers.Constant(w1))(inputs_hold)\n",
    "        model3 = Model(inputs = inputs_hold, outputs = simple_model)\n",
    "\n",
    "        inputs_hold2 = tf.keras.Input(shape=(1,))\n",
    "        simple_model2 = Dense(1,use_bias = False,activation='relu',kernel_initializer=tf.keras.initializers.Constant(w2))(inputs_hold2)\n",
    "        model32 = Model(inputs = inputs_hold2, outputs = simple_model2)\n",
    "\n",
    "        inputs_hold3 = tf.keras.Input(shape=(1,))\n",
    "        simple_model3 = tf.exp(Dense(1,use_bias = False,activation='linear',kernel_initializer=tf.keras.initializers.Constant(-1))(inputs_hold3))\n",
    "        model33 = Model(inputs = inputs_hold3, outputs = simple_model3)\n",
    "\n",
    "        inputs_hold4 = tf.keras.Input(shape=(1,))\n",
    "        simple_model4 = Dense(1,use_bias = False,activation='linear',kernel_initializer=tf.keras.initializers.Constant(1.))(inputs_hold4)\n",
    "        model34 = Model(inputs = inputs_hold4, outputs = simple_model4)\n",
    "\n",
    "        inputs = tf.keras.Input(shape=(6,))\n",
    "        inputs2 = tf.keras.layers.concatenate([inputs,model3(tf.ones_like(inputs)[:,0]),model32(tf.ones_like(inputs)[:,0])])\n",
    "        hidden_layer_1 = model_qq(inputs2)\n",
    "        hidden_layer_13 = model_qqq(inputs2)\n",
    "        LLR2 = hidden_layer_1 / (1.-hidden_layer_1+0.0001)\n",
    "        LLR3 = hidden_layer_13 / (1.-hidden_layer_13+0.0001)\n",
    "        #LLR_xs = 1.+ sigfrac*LLR3 - sigfrac\n",
    "        LLR_xs_fixed = 1 + model33(tf.ones_like(inputs)[:,0])*model34(tf.ones_like(inputs)[:,0]) * LLR3 + (1-model34(tf.ones_like(inputs)[:,0]))*LLR2*model33(tf.ones_like(inputs)[:,0])\n",
    "        ws = LLR_xs_fixed / (1.+LLR_xs_fixed+0.0001)\n",
    "        model_all2 = Model(inputs = inputs, outputs = ws)\n",
    "        model_all2.compile(loss='binary_crossentropy', optimizer=tf.keras.optimizers.Adam(learning_rate = 0.01))\n",
    "\n",
    "        m1 = 3\n",
    "        m2 = 3\n",
    "\n",
    "        test_background = int(1/2 * len(x[0,0, decay]))\n",
    "        train_reference = int(1/4 *len(x[0,0, decay]))\n",
    "        train_data = int(1/4 * len(x[0,0, decay]))\n",
    "        test_signal = int(1/2*len(x[m1,m2, decay]))\n",
    "        sig_frac = sigfrac\n",
    "\n",
    "        #randomize signal events\n",
    "        # random_test_signal_length = random.randint(0, test_signal - 1)\n",
    "        N = int(1/4 * (len(x[0,0, decay])))\n",
    "        # signal = x[m1, m2, decay][random_test_signal_length:random_test_signal_length + int(sigfrac*N)]\n",
    "\n",
    "        #mix both samples\n",
    "        \n",
    "        signal_mixed = np.concatenate([x[m1, m2, decay][int(test_signal/2):int(test_signal/2) + int(sigfrac*(N/2))], x[m1, m2, qq][int(test_signal/2):int(test_signal/2) + int(sigfrac*(N/2))]])\n",
    "        \n",
    "        background_mixed = np.concatenate([x[0,0,decay][int(test_background/2):], x[0,0,qq][int(test_background/2):]])\n",
    "        x_data_mixed = np.concatenate([x[0,0,decay][int(test_background/2):],signal_mixed])\n",
    "        y_data_mixed = np.concatenate([np.zeros(train_reference),np.ones(train_data),np.ones(len(signal_mixed))])\n",
    "        \n",
    "        # x_data_ = np.concatenate([x[0,0,decay][test_background:],signal])\n",
    "        # y_data_ = np.concatenate([np.zeros(train_reference),np.ones(train_data),np.ones(len(signal))])\n",
    "        \n",
    "        x_data_mixed = np.concatenate([background_mixed,signal_mixed])\n",
    "        y_data_mixed = np.concatenate([np.zeros(train_reference),np.ones(train_data),np.ones(len(signal_mixed))])\n",
    "\n",
    "        X_train_, X_val_, Y_train_, Y_val_ = train_test_split(x_data_mixed, y_data_mixed, test_size=0.5, random_state = 42)\n",
    "\n",
    "        myhistory_hack_ = model_all2.fit(X_train_[:,0:6], Y_train_, epochs=20,validation_data=(X_val_[:,0:6], Y_val_),batch_size=1024, verbose = 0)\n",
    "        print(m1,m2,model_all2.trainable_weights[0].numpy()[0][0],model_all2.trainable_weights[1].numpy()[0][0])\n",
    "\n",
    "        sig_list+=[sigfrac]\n",
    "        weight_list1+=[model_all2.trainable_weights[0].numpy()[0][0]]\n",
    "        weight_list2+=[model_all2.trainable_weights[1].numpy()[0][0]]\n",
    "        weight_list3+=[np.exp(model_all2.trainable_weights[2].numpy()[0][0])]\n",
    "        weight_list4+=[sigmoid(model_all2.trainable_weights[3].numpy()[0][0])]\n",
    "\n",
    "        #scores = model_all2.predict(np.concatenate([x[0,0, decay][0:test_background],x[m1,m2, decay][0:test_signal]]),batch_size=1024, verbose = 0)\n",
    "        scores_mixed = model_all2.predict([background_mixed,signal_mixed],batch_size=1024, verbose = 0)\n",
    "        y = np.concatenate([np.zeros(test_background),np.ones(test_signal)])\n",
    "        fpr, tpr, _ = metrics.roc_curve(y, scores)\n",
    "        \n",
    "        #weakly supervised\n",
    "        model_cwola = Sequential()\n",
    "        model_cwola.add(Dense(128, input_dim=6, activation='relu'))\n",
    "        model_cwola.add(Dense(128, activation='relu'))\n",
    "        model_cwola.add(Dense(128, activation='relu'))\n",
    "        model_cwola.add(Dense(1, activation='sigmoid'))\n",
    "        model_cwola.compile(loss='binary_crossentropy', optimizer='adam', metrics=['accuracy'])\n",
    "        myhistory_cwola = model_cwola.fit(X_train_[:,0:6], Y_train_, epochs=10,validation_data=(X_val_[:,0:6], Y_val_),batch_size=1024, verbose = 0)\n",
    "\n",
    "        #scores2 = model_cwola.predict(np.concatenate([x[0,0, decay][0:test_background],x[m1,m2, decay][0:test_signal]]),batch_size=1024)\n",
    "        scores2_mixed = model_cwola.predict([background_mixed,signal_mixed],batch_size=1024)\n",
    "        y2 = np.concatenate([np.zeros(test_background),np.ones(test_signal)])\n",
    "        fpr2, tpr2, _ = metrics.roc_curve(y2, scores2)\n",
    "        \n",
    "#         #fully supervised\n",
    "#         model3_full = createSimpleModel(w1)\n",
    "#         model32_full = createSimpleModel(w2)\n",
    "\n",
    "#         inputs = tf.keras.Input(shape=(6,))\n",
    "#         inputs2_full = tf.keras.layers.concatenate([inputs,model3_full(tf.ones_like(inputs)[:,0]),model32_full(tf.ones_like(inputs)[:,0])])\n",
    "#         hidden_layer_1_full = model_qqq(inputs2_full)\n",
    "#         model_all2_full = Model(inputs = inputs, outputs = hidden_layer_1_full)\n",
    "#         model_all2_full.compile(loss=tf.keras.losses.BinaryCrossentropy(), optimizer=tf.keras.optimizers.Adam(learning_rate = 0.01))\n",
    "\n",
    "#         x_data_full = np.concatenate([x[0,0, decay],x[m1,m2, decay]])\n",
    "#         y_data_full = np.concatenate([np.zeros(len(x[0,0, decay])),np.ones(len(x[m1,m2, decay]))])\n",
    "#         X_train_full, X_val_full, Y_train_full, Y_val_full = train_test_split(x_data_full, y_data_full, test_size=0.5)\n",
    "#         myhistory_hack_ = model_all2_full.fit(X_train_full[:,0:6], Y_train_full, epochs=20,validation_data=(X_val_full[:,0:6], Y_val_full),batch_size=1024, verbose = 0)\n",
    "\n",
    "#         scores_full = model_all2_full.predict(np.concatenate([x[0,0, decay][0:test_background],x[m1,m2, decay][0:random_test_signal_length]]),batch_size=1024)\n",
    "#         y_full = np.concatenate([np.zeros(test_background),np.ones(random_test_signal_length)])\n",
    "#         fpr_full, tpr_full, _ = metrics.roc_curve(y_full, scores_full)\n",
    "        \n",
    "#         msic1.append([np.max(tpr/np.sqrt(fpr+0.0001))])\n",
    "#         msic2.append([np.max(tpr2/np.sqrt(fpr2+0.0001))])\n",
    "#         msic3.append([np.max(tpr_full/np.sqrt(fpr_full+0.0001))])\n",
    "        \n",
    "    msic1_runs.append(msic1)\n",
    "    msic2_runs.append(msic2)\n",
    "    #msic3_runs.append(msic3)\n",
    "    weight_list3_runs.append(weight_list3)\n",
    "    weight_list4_runs.append(weight_list4)"
   ]
  },
  {
   "cell_type": "code",
   "execution_count": 30,
   "id": "470d2930-bf9b-4ed5-b58d-0d51bb50d2e9",
   "metadata": {
    "tags": []
   },
   "outputs": [
    {
     "data": {
      "text/plain": [
       "array([[-1.11881922, -1.66852576,  1.57244427,  1.20983769, -0.13939007,\n",
       "         0.85941707],\n",
       "       [-1.12420602, -1.26681214,  0.82536103,  0.1229807 ,  0.30860917,\n",
       "         0.13311748],\n",
       "       [-1.14769921, -0.50415523,  1.43958292,  0.62034086,  0.19901901,\n",
       "        -1.04425623],\n",
       "       ...,\n",
       "       [-0.96736856, -1.48238533,  1.25622683, -0.47599974, -0.32423304,\n",
       "         0.86060971],\n",
       "       [-1.3598598 , -1.72354998,  1.79953958,  1.20194427,  0.44119858,\n",
       "         0.28992835],\n",
       "       [-1.42887276, -1.6890858 ,  0.89151195,  0.58091326,  1.22563292,\n",
       "         0.4144562 ]])"
      ]
     },
     "execution_count": 30,
     "metadata": {},
     "output_type": "execute_result"
    }
   ],
   "source": [
    "x[0,0,qqq][int(test_background/2):]"
   ]
  },
  {
   "cell_type": "code",
   "execution_count": 36,
   "id": "e933c983-9cc6-4265-b777-2d455a3896e6",
   "metadata": {
    "tags": []
   },
   "outputs": [
    {
     "data": {
      "text/plain": [
       "array([[ True,  True,  True,  True,  True,  True],\n",
       "       [ True,  True,  True,  True,  True,  True],\n",
       "       [ True,  True,  True,  True,  True,  True],\n",
       "       ...,\n",
       "       [ True,  True,  True,  True,  True,  True],\n",
       "       [ True,  True,  True,  True,  True,  True],\n",
       "       [ True,  True,  True,  True,  True,  True]])"
      ]
     },
     "execution_count": 36,
     "metadata": {},
     "output_type": "execute_result"
    }
   ],
   "source": [
    "x[0,0,qq][int(test_background/2):] == x[0,0,qqq][int(test_background/2):]"
   ]
  },
  {
   "cell_type": "code",
   "execution_count": 35,
   "id": "82eda49e-0d9b-47cb-bd9e-75b5cf79f6c1",
   "metadata": {
    "tags": []
   },
   "outputs": [
    {
     "data": {
      "text/plain": [
       "True"
      ]
     },
     "execution_count": 35,
     "metadata": {},
     "output_type": "execute_result"
    }
   ],
   "source": [
    "np.array_equal(x[0,0,qq][int(test_background/2):], x[0,0,qqq][int(test_background/2):])"
   ]
  },
  {
   "cell_type": "code",
   "execution_count": 26,
   "id": "b2aa8766-086b-45c6-b795-f9aed2db9ba7",
   "metadata": {
    "tags": []
   },
   "outputs": [
    {
     "data": {
      "text/plain": [
       "True"
      ]
     },
     "execution_count": 26,
     "metadata": {},
     "output_type": "execute_result"
    }
   ],
   "source": [
    "int(test_background/2) + int(test_background/2) == test_background"
   ]
  },
  {
   "cell_type": "code",
   "execution_count": 196,
   "id": "bcc050ee-0b94-4484-b64c-e7da93548938",
   "metadata": {
    "tags": []
   },
   "outputs": [],
   "source": [
    "np.save(\"3ProngWeight_List3_Runs33_randomized\", weight_list3_runs)\n",
    "np.save(\"3ProngWeight_List4_Runs33_randomized\", weight_list4_runs)"
   ]
  },
  {
   "cell_type": "code",
   "execution_count": 202,
   "id": "fde99a3c-1839-4bdd-8a5a-1f0c83b9ffb4",
   "metadata": {
    "tags": []
   },
   "outputs": [
    {
     "data": {
      "text/plain": [
       "Text(0, 0.5, 'Avg Max SIC')"
      ]
     },
     "execution_count": 202,
     "metadata": {},
     "output_type": "execute_result"
    },
    {
     "data": {
      "image/png": "[encoded data removed]",
      "text/plain": [
       "<Figure size 640x480 with 1 Axes>"
      ]
     },
     "metadata": {},
     "output_type": "display_data"
    }
   ],
   "source": [
    "avgmsic1 = np.median(msic1_runs, axis = 0)\n",
    "avgmsic2 = np.median(msic2_runs, axis = 0)\n",
    "avgmsic3 = np.median(msic3_runs, axis = 0)\n",
    "\n",
    "plt.plot(sig_list,avgmsic1,label=\"Weakly, Semisupervised\")\n",
    "plt.plot(sig_list,avgmsic2,label=\"Weakly Supervised\")\n",
    "plt.plot(sig_list,avgmsic3,label=\"Fully Supervised\")\n",
    "plt.title(f\"CWOLA vs Semi Weakly 3 Pronged ({num_runs} Runs)\")\n",
    "plt.legend()\n",
    "plt.xscale(\"log\")\n",
    "plt.xlabel(\"Signal region S/B\")\n",
    "plt.ylabel(\"Avg Max SIC\")"
   ]
  },
  {
   "cell_type": "code",
   "execution_count": 203,
   "id": "9f3cba07-9ab6-41c5-a89c-b81976e2dbb0",
   "metadata": {
    "tags": []
   },
   "outputs": [
    {
     "data": {
      "text/plain": [
       "[(4.313, 3.092),\n",
       " (5.252, 4.997),\n",
       " (3.625, 4.633),\n",
       " (3.211, 4.583),\n",
       " (5.117, 3.891)]"
      ]
     },
     "execution_count": 203,
     "metadata": {},
     "output_type": "execute_result"
    }
   ],
   "source": [
    "initial_weights_list_runs"
   ]
  },
  {
   "cell_type": "code",
   "execution_count": 204,
   "id": "7cb9f7ab-142c-4f52-a8da-c2ba46efa8a6",
   "metadata": {
    "tags": []
   },
   "outputs": [
    {
     "data": {
      "text/plain": [
       "Text(0, 0.5, 'Avg Max SIC')"
      ]
     },
     "execution_count": 204,
     "metadata": {},
     "output_type": "execute_result"
    },
    {
     "data": {
      "image/png": "[encoded data removed]",
      "text/plain": [
       "<Figure size 640x480 with 1 Axes>"
      ]
     },
     "metadata": {},
     "output_type": "display_data"
    }
   ],
   "source": [
    "avgww = np.median(weight_list3_runs, axis = 0)\n",
    "avgww2 = np.median(weight_list4_runs, axis = 0)\n",
    "\n",
    "plt.plot(sig_list,avgww,label=\"Weakly, Semisupervised\")\n",
    "plt.plot(sig_list,avgww2,label=\"Weakly, Semisupervised\")\n",
    "plt.plot(sig_list,sig_list,ls=\":\",color=\"black\")\n",
    "\n",
    "plt.title(f\"CWOLA vs Semi Weakly ({num_runs} Runs)\")\n",
    "plt.legend()\n",
    "plt.yscale(\"log\")\n",
    "plt.xscale(\"log\")\n",
    "plt.xlabel(\"Signal region S/B\")\n",
    "plt.ylabel(\"Avg Max SIC\")"
   ]
  },
  {
   "cell_type": "code",
   "execution_count": 192,
   "id": "a8b57070-c053-4411-a488-7286d28c3c11",
   "metadata": {
    "tags": []
   },
   "outputs": [
    {
     "data": {
      "text/plain": [
       "[0.3580439905489725,\n",
       " 0.3708165373603295,\n",
       " 0.3229102871037178,\n",
       " 0.3868532552624001,\n",
       " 0.4364333183634583,\n",
       " 0.43101082026954307,\n",
       " 0.45685184254305783,\n",
       " 0.3558770416000206,\n",
       " 0.47506422076539373,\n",
       " 0.5202149607084159,\n",
       " 0.5747815536175861,\n",
       " 0.7229698375670105,\n",
       " 0.8012442168643642,\n",
       " 0.8872089055124501,\n",
       " 0.8920006102020146,\n",
       " 0.9398836409677831,\n",
       " 0.9589296968853865,\n",
       " 0.9681166461671722,\n",
       " 0.9677826187596884,\n",
       " 0.9615228257684197]"
      ]
     },
     "execution_count": 192,
     "metadata": {},
     "output_type": "execute_result"
    }
   ],
   "source": [
    "weight_list4"
   ]
  },
  {
   "cell_type": "code",
   "execution_count": 205,
   "id": "bd93a607-d39e-4f43-a1aa-13c503fd25ad",
   "metadata": {
    "tags": []
   },
   "outputs": [
    {
     "data": {
      "text/plain": [
       "(0.0, 700.0)"
      ]
     },
     "execution_count": 205,
     "metadata": {},
     "output_type": "execute_result"
    },
    {
     "data": {
      "image/png": "[encoded data removed]",
      "text/plain": [
       "<Figure size 640x480 with 1 Axes>"
      ]
     },
     "metadata": {},
     "output_type": "display_data"
    }
   ],
   "source": [
    "plt.plot(sig_list,np.array(weight_list1)*100, label = f\"w1 {w1}\")\n",
    "plt.plot(sig_list,np.array(weight_list2)*100, label = f\"w2 {w2}\")\n",
    "plt.xscale(\"log\")\n",
    "plt.xlabel(\"S/B\")\n",
    "plt.ylabel(\"Fitted masses [GeV]\")\n",
    "plt.title(\"Trainable Weights vs Signal Fractions BCE\")\n",
    "plt.axhline(m2 * 100,ls=\":\",color='orange', label = m2)\n",
    "plt.axhline(m1 * 100,ls=\":\",color='blue', label = m1)\n",
    "plt.legend()\n",
    "plt.ylim([0,700])"
   ]
  },
  {
   "cell_type": "code",
   "execution_count": 199,
   "id": "701c8793-14a0-4d71-b2e1-22debfa20f2b",
   "metadata": {
    "tags": []
   },
   "outputs": [],
   "source": [
    "max_sics = {}\n",
    "max_sics[(\"SWS\", 6, 4, m1, m2)] = msic1_runs\n",
    "max_sics[(\"WS\", 6, 4, m1, m2)] = msic2_runs\n",
    "max_sics[(\"FS\", 6, 4, m1, m2)] = msic3_runs\n",
    "\n",
    "import pickle\n",
    "with open('max_sics_3prong33randomized.pkl', 'wb') as f:\n",
    "    pickle.dump(max_sics, f)"
   ]
  },
  {
   "cell_type": "code",
   "execution_count": 21,
   "id": "c563449d-4b9b-497f-88e4-3a35c06c7ca8",
   "metadata": {
    "tags": []
   },
   "outputs": [
    {
     "name": "stdout",
     "output_type": "stream",
     "text": [
      "Epoch 1/500\n",
      "2692/2692 [==============================] - 11s 4ms/step - loss: 0.1674 - accuracy: 0.9340 - val_loss: 0.1564 - val_accuracy: 0.9386\n",
      "Epoch 2/500\n",
      "2692/2692 [==============================] - 9s 4ms/step - loss: 0.1542 - accuracy: 0.9391 - val_loss: 0.1539 - val_accuracy: 0.9393\n",
      "Epoch 3/500\n",
      "2692/2692 [==============================] - 9s 3ms/step - loss: 0.1530 - accuracy: 0.9396 - val_loss: 0.1529 - val_accuracy: 0.9396\n",
      "Epoch 4/500\n",
      "2692/2692 [==============================] - 10s 4ms/step - loss: 0.1523 - accuracy: 0.9398 - val_loss: 0.1525 - val_accuracy: 0.9399\n",
      "Epoch 5/500\n",
      "2692/2692 [==============================] - 10s 4ms/step - loss: 0.1518 - accuracy: 0.9400 - val_loss: 0.1517 - val_accuracy: 0.9400\n",
      "Epoch 6/500\n",
      "2692/2692 [==============================] - 10s 4ms/step - loss: 0.1514 - accuracy: 0.9402 - val_loss: 0.1511 - val_accuracy: 0.9404\n",
      "Epoch 7/500\n",
      "2692/2692 [==============================] - 9s 4ms/step - loss: 0.1511 - accuracy: 0.9403 - val_loss: 0.1517 - val_accuracy: 0.9400\n",
      "Epoch 8/500\n",
      "2692/2692 [==============================] - 10s 4ms/step - loss: 0.1508 - accuracy: 0.9404 - val_loss: 0.1518 - val_accuracy: 0.9402\n",
      "Epoch 9/500\n",
      "2692/2692 [==============================] - 10s 4ms/step - loss: 0.1505 - accuracy: 0.9405 - val_loss: 0.1501 - val_accuracy: 0.9407\n",
      "Epoch 10/500\n",
      "2692/2692 [==============================] - 10s 4ms/step - loss: 0.1502 - accuracy: 0.9406 - val_loss: 0.1504 - val_accuracy: 0.9406\n",
      "Epoch 11/500\n",
      "2692/2692 [==============================] - 10s 4ms/step - loss: 0.1500 - accuracy: 0.9407 - val_loss: 0.1503 - val_accuracy: 0.9406\n",
      "Epoch 12/500\n",
      "2692/2692 [==============================] - 9s 4ms/step - loss: 0.1497 - accuracy: 0.9408 - val_loss: 0.1503 - val_accuracy: 0.9406\n",
      "Epoch 13/500\n",
      "2692/2692 [==============================] - 9s 4ms/step - loss: 0.1495 - accuracy: 0.9409 - val_loss: 0.1502 - val_accuracy: 0.9407\n",
      "Epoch 14/500\n",
      "2692/2692 [==============================] - 9s 3ms/step - loss: 0.1492 - accuracy: 0.9410 - val_loss: 0.1498 - val_accuracy: 0.9409\n",
      "Epoch 15/500\n",
      "2692/2692 [==============================] - 10s 4ms/step - loss: 0.1490 - accuracy: 0.9411 - val_loss: 0.1497 - val_accuracy: 0.9409\n",
      "Epoch 16/500\n",
      "2692/2692 [==============================] - 10s 4ms/step - loss: 0.1487 - accuracy: 0.9412 - val_loss: 0.1495 - val_accuracy: 0.9409\n",
      "Epoch 17/500\n",
      "2692/2692 [==============================] - 10s 4ms/step - loss: 0.1484 - accuracy: 0.9413 - val_loss: 0.1489 - val_accuracy: 0.9412\n",
      "Epoch 18/500\n",
      "2692/2692 [==============================] - 10s 4ms/step - loss: 0.1481 - accuracy: 0.9414 - val_loss: 0.1485 - val_accuracy: 0.9414\n",
      "Epoch 19/500\n",
      "2692/2692 [==============================] - 10s 4ms/step - loss: 0.1478 - accuracy: 0.9415 - val_loss: 0.1481 - val_accuracy: 0.9415\n",
      "Epoch 20/500\n",
      "2692/2692 [==============================] - 9s 3ms/step - loss: 0.1476 - accuracy: 0.9417 - val_loss: 0.1481 - val_accuracy: 0.9415\n",
      "Epoch 21/500\n",
      "2692/2692 [==============================] - 10s 4ms/step - loss: 0.1473 - accuracy: 0.9418 - val_loss: 0.1478 - val_accuracy: 0.9416\n",
      "Epoch 22/500\n",
      "2692/2692 [==============================] - 10s 4ms/step - loss: 0.1470 - accuracy: 0.9419 - val_loss: 0.1475 - val_accuracy: 0.9418\n",
      "Epoch 23/500\n",
      "2692/2692 [==============================] - 10s 4ms/step - loss: 0.1466 - accuracy: 0.9420 - val_loss: 0.1473 - val_accuracy: 0.9418\n",
      "Epoch 24/500\n",
      "2692/2692 [==============================] - 10s 4ms/step - loss: 0.1463 - accuracy: 0.9421 - val_loss: 0.1468 - val_accuracy: 0.9420\n",
      "Epoch 25/500\n",
      "2692/2692 [==============================] - 10s 4ms/step - loss: 0.1460 - accuracy: 0.9422 - val_loss: 0.1466 - val_accuracy: 0.9421\n",
      "Epoch 26/500\n",
      "2692/2692 [==============================] - 10s 4ms/step - loss: 0.1457 - accuracy: 0.9424 - val_loss: 0.1468 - val_accuracy: 0.9420\n",
      "Epoch 27/500\n",
      "2692/2692 [==============================] - 10s 4ms/step - loss: 0.1453 - accuracy: 0.9425 - val_loss: 0.1460 - val_accuracy: 0.9423\n",
      "Epoch 28/500\n",
      "2692/2692 [==============================] - 10s 4ms/step - loss: 0.1449 - accuracy: 0.9427 - val_loss: 0.1465 - val_accuracy: 0.9421\n",
      "Epoch 29/500\n",
      "2692/2692 [==============================] - 10s 4ms/step - loss: 0.1445 - accuracy: 0.9428 - val_loss: 0.1454 - val_accuracy: 0.9426\n",
      "Epoch 30/500\n",
      " 637/2692 [======>.......................] - ETA: 5s - loss: 0.1438 - accuracy: 0.9432"
     ]
    },
    {
     "ename": "KeyboardInterrupt",
     "evalue": "",
     "output_type": "error",
     "traceback": [
      "\u001b[0;31m---------------------------------------------------------------------------\u001b[0m",
      "\u001b[0;31mKeyboardInterrupt\u001b[0m                         Traceback (most recent call last)",
      "Cell \u001b[0;32mIn[21], line 13\u001b[0m\n\u001b[1;32m     10\u001b[0m model_qqq\u001b[38;5;241m.\u001b[39madd(Dense(\u001b[38;5;241m1\u001b[39m, activation\u001b[38;5;241m=\u001b[39m\u001b[38;5;124m'\u001b[39m\u001b[38;5;124msigmoid\u001b[39m\u001b[38;5;124m'\u001b[39m))\n\u001b[1;32m     11\u001b[0m model_qqq\u001b[38;5;241m.\u001b[39mcompile(loss\u001b[38;5;241m=\u001b[39m\u001b[38;5;124m'\u001b[39m\u001b[38;5;124mbinary_crossentropy\u001b[39m\u001b[38;5;124m'\u001b[39m, optimizer\u001b[38;5;241m=\u001b[39m\u001b[38;5;124m'\u001b[39m\u001b[38;5;124madam\u001b[39m\u001b[38;5;124m'\u001b[39m, metrics\u001b[38;5;241m=\u001b[39m[\u001b[38;5;124m'\u001b[39m\u001b[38;5;124maccuracy\u001b[39m\u001b[38;5;124m'\u001b[39m])\n\u001b[0;32m---> 13\u001b[0m myhistory_qqq \u001b[38;5;241m=\u001b[39m \u001b[43mmodel_qqq\u001b[49m\u001b[38;5;241;43m.\u001b[39;49m\u001b[43mfit\u001b[49m\u001b[43m(\u001b[49m\u001b[43mX_train_qqq\u001b[49m\u001b[43m,\u001b[49m\u001b[43m \u001b[49m\u001b[43mY_train_qqq\u001b[49m\u001b[43m,\u001b[49m\u001b[43m \u001b[49m\u001b[43mepochs\u001b[49m\u001b[38;5;241;43m=\u001b[39;49m\u001b[38;5;241;43m500\u001b[39;49m\u001b[43m,\u001b[49m\u001b[43mvalidation_data\u001b[49m\u001b[38;5;241;43m=\u001b[39;49m\u001b[43m(\u001b[49m\u001b[43mX_val_qqq\u001b[49m\u001b[43m,\u001b[49m\u001b[43m \u001b[49m\u001b[43mY_val_qqq\u001b[49m\u001b[43m)\u001b[49m\u001b[43m,\u001b[49m\u001b[43mbatch_size\u001b[49m\u001b[38;5;241;43m=\u001b[39;49m\u001b[38;5;241;43m5\u001b[39;49m\u001b[38;5;241;43m*\u001b[39;49m\u001b[38;5;241;43m1024\u001b[39;49m\u001b[43m,\u001b[49m\u001b[43mcallbacks\u001b[49m\u001b[38;5;241;43m=\u001b[39;49m\u001b[43m[\u001b[49m\u001b[43mes\u001b[49m\u001b[43m]\u001b[49m\u001b[43m)\u001b[49m\n\u001b[1;32m     15\u001b[0m plt\u001b[38;5;241m.\u001b[39mplot(myhistory_qqq\u001b[38;5;241m.\u001b[39mhistory[\u001b[38;5;124m'\u001b[39m\u001b[38;5;124mval_loss\u001b[39m\u001b[38;5;124m'\u001b[39m][\u001b[38;5;241m1\u001b[39m:])\n\u001b[1;32m     16\u001b[0m plt\u001b[38;5;241m.\u001b[39mplot(myhistory_qqq\u001b[38;5;241m.\u001b[39mhistory[\u001b[38;5;124m'\u001b[39m\u001b[38;5;124mloss\u001b[39m\u001b[38;5;124m'\u001b[39m][\u001b[38;5;241m1\u001b[39m:])\n",
      "File \u001b[0;32m/global/common/software/nersc/pm-2022q4/sw/tensorflow/2.9.0/lib/python3.9/site-packages/keras/utils/traceback_utils.py:64\u001b[0m, in \u001b[0;36mfilter_traceback.<locals>.error_handler\u001b[0;34m(*args, **kwargs)\u001b[0m\n\u001b[1;32m     62\u001b[0m filtered_tb \u001b[38;5;241m=\u001b[39m \u001b[38;5;28;01mNone\u001b[39;00m\n\u001b[1;32m     63\u001b[0m \u001b[38;5;28;01mtry\u001b[39;00m:\n\u001b[0;32m---> 64\u001b[0m   \u001b[38;5;28;01mreturn\u001b[39;00m \u001b[43mfn\u001b[49m\u001b[43m(\u001b[49m\u001b[38;5;241;43m*\u001b[39;49m\u001b[43margs\u001b[49m\u001b[43m,\u001b[49m\u001b[43m \u001b[49m\u001b[38;5;241;43m*\u001b[39;49m\u001b[38;5;241;43m*\u001b[39;49m\u001b[43mkwargs\u001b[49m\u001b[43m)\u001b[49m\n\u001b[1;32m     65\u001b[0m \u001b[38;5;28;01mexcept\u001b[39;00m \u001b[38;5;167;01mException\u001b[39;00m \u001b[38;5;28;01mas\u001b[39;00m e:  \u001b[38;5;66;03m# pylint: disable=broad-except\u001b[39;00m\n\u001b[1;32m     66\u001b[0m   filtered_tb \u001b[38;5;241m=\u001b[39m _process_traceback_frames(e\u001b[38;5;241m.\u001b[39m__traceback__)\n",
      "File \u001b[0;32m/global/common/software/nersc/pm-2022q4/sw/tensorflow/2.9.0/lib/python3.9/site-packages/keras/engine/training.py:1401\u001b[0m, in \u001b[0;36mModel.fit\u001b[0;34m(self, x, y, batch_size, epochs, verbose, callbacks, validation_split, validation_data, shuffle, class_weight, sample_weight, initial_epoch, steps_per_epoch, validation_steps, validation_batch_size, validation_freq, max_queue_size, workers, use_multiprocessing)\u001b[0m\n\u001b[1;32m   1399\u001b[0m \u001b[38;5;28;01mwith\u001b[39;00m data_handler\u001b[38;5;241m.\u001b[39mcatch_stop_iteration():\n\u001b[1;32m   1400\u001b[0m   data_handler\u001b[38;5;241m.\u001b[39m_initial_step \u001b[38;5;241m=\u001b[39m \u001b[38;5;28mself\u001b[39m\u001b[38;5;241m.\u001b[39m_maybe_load_initial_step_from_ckpt()  \u001b[38;5;66;03m# pylint: disable=protected-access\u001b[39;00m\n\u001b[0;32m-> 1401\u001b[0m   \u001b[38;5;28;01mfor\u001b[39;00m step \u001b[38;5;129;01min\u001b[39;00m data_handler\u001b[38;5;241m.\u001b[39msteps():\n\u001b[1;32m   1402\u001b[0m     \u001b[38;5;28;01mwith\u001b[39;00m tf\u001b[38;5;241m.\u001b[39mprofiler\u001b[38;5;241m.\u001b[39mexperimental\u001b[38;5;241m.\u001b[39mTrace(\n\u001b[1;32m   1403\u001b[0m         \u001b[38;5;124m'\u001b[39m\u001b[38;5;124mtrain\u001b[39m\u001b[38;5;124m'\u001b[39m,\n\u001b[1;32m   1404\u001b[0m         epoch_num\u001b[38;5;241m=\u001b[39mepoch,\n\u001b[1;32m   1405\u001b[0m         step_num\u001b[38;5;241m=\u001b[39mstep,\n\u001b[1;32m   1406\u001b[0m         batch_size\u001b[38;5;241m=\u001b[39mbatch_size,\n\u001b[1;32m   1407\u001b[0m         _r\u001b[38;5;241m=\u001b[39m\u001b[38;5;241m1\u001b[39m):\n\u001b[1;32m   1408\u001b[0m       callbacks\u001b[38;5;241m.\u001b[39mon_train_batch_begin(step)\n",
      "File \u001b[0;32m/global/common/software/nersc/pm-2022q4/sw/tensorflow/2.9.0/lib/python3.9/site-packages/keras/engine/data_adapter.py:1248\u001b[0m, in \u001b[0;36mDataHandler.steps\u001b[0;34m(self)\u001b[0m\n\u001b[1;32m   1246\u001b[0m \u001b[38;5;28;01mif\u001b[39;00m \u001b[38;5;28mself\u001b[39m\u001b[38;5;241m.\u001b[39m_insufficient_data:  \u001b[38;5;66;03m# Set by `catch_stop_iteration`.\u001b[39;00m\n\u001b[1;32m   1247\u001b[0m   \u001b[38;5;28;01mbreak\u001b[39;00m\n\u001b[0;32m-> 1248\u001b[0m original_spe \u001b[38;5;241m=\u001b[39m \u001b[38;5;28;43mself\u001b[39;49m\u001b[38;5;241;43m.\u001b[39;49m\u001b[43m_steps_per_execution\u001b[49m\u001b[38;5;241;43m.\u001b[39;49m\u001b[43mnumpy\u001b[49m\u001b[43m(\u001b[49m\u001b[43m)\u001b[49m\u001b[38;5;241m.\u001b[39mitem()\n\u001b[1;32m   1249\u001b[0m can_run_full_execution \u001b[38;5;241m=\u001b[39m (\n\u001b[1;32m   1250\u001b[0m     original_spe \u001b[38;5;241m==\u001b[39m \u001b[38;5;241m1\u001b[39m \u001b[38;5;129;01mor\u001b[39;00m\n\u001b[1;32m   1251\u001b[0m     \u001b[38;5;28mself\u001b[39m\u001b[38;5;241m.\u001b[39m_inferred_steps \u001b[38;5;129;01mis\u001b[39;00m \u001b[38;5;28;01mNone\u001b[39;00m \u001b[38;5;129;01mor\u001b[39;00m\n\u001b[1;32m   1252\u001b[0m     \u001b[38;5;28mself\u001b[39m\u001b[38;5;241m.\u001b[39m_inferred_steps \u001b[38;5;241m-\u001b[39m \u001b[38;5;28mself\u001b[39m\u001b[38;5;241m.\u001b[39m_current_step \u001b[38;5;241m>\u001b[39m\u001b[38;5;241m=\u001b[39m\n\u001b[1;32m   1253\u001b[0m     original_spe)\n\u001b[1;32m   1255\u001b[0m \u001b[38;5;28;01mif\u001b[39;00m can_run_full_execution:\n",
      "File \u001b[0;32m/global/common/software/nersc/pm-2022q4/sw/tensorflow/2.9.0/lib/python3.9/site-packages/tensorflow/python/ops/resource_variable_ops.py:637\u001b[0m, in \u001b[0;36mBaseResourceVariable.numpy\u001b[0;34m(self)\u001b[0m\n\u001b[1;32m    635\u001b[0m \u001b[38;5;28;01mdef\u001b[39;00m \u001b[38;5;21mnumpy\u001b[39m(\u001b[38;5;28mself\u001b[39m):\n\u001b[1;32m    636\u001b[0m   \u001b[38;5;28;01mif\u001b[39;00m context\u001b[38;5;241m.\u001b[39mexecuting_eagerly():\n\u001b[0;32m--> 637\u001b[0m     \u001b[38;5;28;01mreturn\u001b[39;00m \u001b[38;5;28;43mself\u001b[39;49m\u001b[38;5;241;43m.\u001b[39;49m\u001b[43mread_value\u001b[49m\u001b[43m(\u001b[49m\u001b[43m)\u001b[49m\u001b[38;5;241;43m.\u001b[39;49m\u001b[43mnumpy\u001b[49m\u001b[43m(\u001b[49m\u001b[43m)\u001b[49m\n\u001b[1;32m    638\u001b[0m   \u001b[38;5;28;01mraise\u001b[39;00m \u001b[38;5;167;01mNotImplementedError\u001b[39;00m(\n\u001b[1;32m    639\u001b[0m       \u001b[38;5;124m\"\u001b[39m\u001b[38;5;124mnumpy() is only available when eager execution is enabled.\u001b[39m\u001b[38;5;124m\"\u001b[39m)\n",
      "File \u001b[0;32m/global/common/software/nersc/pm-2022q4/sw/tensorflow/2.9.0/lib/python3.9/site-packages/tensorflow/python/framework/ops.py:1159\u001b[0m, in \u001b[0;36m_EagerTensorBase.numpy\u001b[0;34m(self)\u001b[0m\n\u001b[1;32m   1136\u001b[0m \u001b[38;5;124;03m\"\"\"Copy of the contents of this Tensor into a NumPy array or scalar.\u001b[39;00m\n\u001b[1;32m   1137\u001b[0m \n\u001b[1;32m   1138\u001b[0m \u001b[38;5;124;03mUnlike NumPy arrays, Tensors are immutable, so this method has to copy\u001b[39;00m\n\u001b[0;32m   (...)\u001b[0m\n\u001b[1;32m   1156\u001b[0m \u001b[38;5;124;03m    NumPy dtype.\u001b[39;00m\n\u001b[1;32m   1157\u001b[0m \u001b[38;5;124;03m\"\"\"\u001b[39;00m\n\u001b[1;32m   1158\u001b[0m \u001b[38;5;66;03m# TODO(slebedev): Consider avoiding a copy for non-CPU or remote tensors.\u001b[39;00m\n\u001b[0;32m-> 1159\u001b[0m maybe_arr \u001b[38;5;241m=\u001b[39m \u001b[38;5;28;43mself\u001b[39;49m\u001b[38;5;241;43m.\u001b[39;49m\u001b[43m_numpy\u001b[49m\u001b[43m(\u001b[49m\u001b[43m)\u001b[49m  \u001b[38;5;66;03m# pylint: disable=protected-access\u001b[39;00m\n\u001b[1;32m   1160\u001b[0m \u001b[38;5;28;01mreturn\u001b[39;00m maybe_arr\u001b[38;5;241m.\u001b[39mcopy() \u001b[38;5;28;01mif\u001b[39;00m \u001b[38;5;28misinstance\u001b[39m(maybe_arr, np\u001b[38;5;241m.\u001b[39mndarray) \u001b[38;5;28;01melse\u001b[39;00m maybe_arr\n",
      "File \u001b[0;32m/global/common/software/nersc/pm-2022q4/sw/tensorflow/2.9.0/lib/python3.9/site-packages/tensorflow/python/framework/ops.py:1125\u001b[0m, in \u001b[0;36m_EagerTensorBase._numpy\u001b[0;34m(self)\u001b[0m\n\u001b[1;32m   1123\u001b[0m \u001b[38;5;28;01mdef\u001b[39;00m \u001b[38;5;21m_numpy\u001b[39m(\u001b[38;5;28mself\u001b[39m):\n\u001b[1;32m   1124\u001b[0m   \u001b[38;5;28;01mtry\u001b[39;00m:\n\u001b[0;32m-> 1125\u001b[0m     \u001b[38;5;28;01mreturn\u001b[39;00m \u001b[38;5;28;43mself\u001b[39;49m\u001b[38;5;241;43m.\u001b[39;49m\u001b[43m_numpy_internal\u001b[49m\u001b[43m(\u001b[49m\u001b[43m)\u001b[49m\n\u001b[1;32m   1126\u001b[0m   \u001b[38;5;28;01mexcept\u001b[39;00m core\u001b[38;5;241m.\u001b[39m_NotOkStatusException \u001b[38;5;28;01mas\u001b[39;00m e:  \u001b[38;5;66;03m# pylint: disable=protected-access\u001b[39;00m\n\u001b[1;32m   1127\u001b[0m     \u001b[38;5;28;01mraise\u001b[39;00m core\u001b[38;5;241m.\u001b[39m_status_to_exception(e) \u001b[38;5;28;01mfrom\u001b[39;00m \u001b[38;5;28mNone\u001b[39m\n",
      "\u001b[0;31mKeyboardInterrupt\u001b[0m: "
     ]
    }
   ],
   "source": [
    "if (True):\n",
    "    \n",
    "    model_qqq = Sequential()\n",
    "    model_qqq.add(Dense(256, input_dim=8, activation='swish'))\n",
    "    model_qqq.add(BatchNormalization())\n",
    "    model_qqq.add(Dense(256, activation='swish'))\n",
    "    model_qqq.add(BatchNormalization())\n",
    "    model_qqq.add(Dense(256, activation='swish'))\n",
    "    model_qqq.add(BatchNormalization())\n",
    "    model_qqq.add(Dense(1, activation='sigmoid'))\n",
    "    model_qqq.compile(loss='binary_crossentropy', optimizer='adam', metrics=['accuracy'])\n",
    "    \n",
    "    myhistory_qqq = model_qqq.fit(X_train_qqq, Y_train_qqq, epochs=500,validation_data=(X_val_qqq, Y_val_qqq),batch_size=5*1024,callbacks=[es])\n",
    "    \n",
    "    plt.plot(myhistory_qqq.history['val_loss'][1:])\n",
    "    plt.plot(myhistory_qqq.history['loss'][1:])\n",
    "    \n",
    "    model_qqq.save('model_qqq')"
   ]
  },
  {
   "cell_type": "code",
   "execution_count": 23,
   "id": "fc5189d3-e92d-4367-b8a1-98fdec46a7dc",
   "metadata": {
    "tags": []
   },
   "outputs": [
    {
     "name": "stdout",
     "output_type": "stream",
     "text": [
      "Epoch 1/5000\n",
      "2692/2692 [==============================] - 13s 4ms/step - loss: 0.2904 - accuracy: 0.8848 - val_loss: 0.2361 - val_accuracy: 0.9107\n",
      "Epoch 2/5000\n",
      "2692/2692 [==============================] - 10s 4ms/step - loss: 0.2222 - accuracy: 0.9152 - val_loss: 0.2095 - val_accuracy: 0.9189\n",
      "Epoch 3/5000\n",
      "2692/2692 [==============================] - 10s 4ms/step - loss: 0.2026 - accuracy: 0.9209 - val_loss: 0.1963 - val_accuracy: 0.9230\n",
      "Epoch 4/5000\n",
      "2692/2692 [==============================] - 10s 4ms/step - loss: 0.1926 - accuracy: 0.9242 - val_loss: 0.1890 - val_accuracy: 0.9256\n",
      "Epoch 5/5000\n",
      "2692/2692 [==============================] - 10s 4ms/step - loss: 0.1866 - accuracy: 0.9265 - val_loss: 0.1841 - val_accuracy: 0.9274\n",
      "Epoch 6/5000\n",
      "2692/2692 [==============================] - 10s 4ms/step - loss: 0.1824 - accuracy: 0.9281 - val_loss: 0.1803 - val_accuracy: 0.9291\n",
      "Epoch 7/5000\n",
      "2692/2692 [==============================] - 10s 4ms/step - loss: 0.1792 - accuracy: 0.9294 - val_loss: 0.1775 - val_accuracy: 0.9301\n",
      "Epoch 8/5000\n",
      "2692/2692 [==============================] - 9s 4ms/step - loss: 0.1765 - accuracy: 0.9305 - val_loss: 0.1751 - val_accuracy: 0.9310\n",
      "Epoch 9/5000\n",
      "2692/2692 [==============================] - 10s 4ms/step - loss: 0.1743 - accuracy: 0.9313 - val_loss: 0.1731 - val_accuracy: 0.9319\n",
      "Epoch 10/5000\n",
      "2692/2692 [==============================] - 10s 4ms/step - loss: 0.1724 - accuracy: 0.9321 - val_loss: 0.1713 - val_accuracy: 0.9326\n",
      "Epoch 11/5000\n",
      "2692/2692 [==============================] - 10s 4ms/step - loss: 0.1708 - accuracy: 0.9327 - val_loss: 0.1697 - val_accuracy: 0.9331\n",
      "Epoch 12/5000\n",
      "2692/2692 [==============================] - 9s 3ms/step - loss: 0.1693 - accuracy: 0.9333 - val_loss: 0.1683 - val_accuracy: 0.9337\n",
      "Epoch 13/5000\n",
      "2692/2692 [==============================] - 9s 3ms/step - loss: 0.1680 - accuracy: 0.9338 - val_loss: 0.1672 - val_accuracy: 0.9342\n",
      "Epoch 14/5000\n",
      "2692/2692 [==============================] - 10s 4ms/step - loss: 0.1669 - accuracy: 0.9342 - val_loss: 0.1661 - val_accuracy: 0.9346\n",
      "Epoch 15/5000\n",
      "2692/2692 [==============================] - 10s 4ms/step - loss: 0.1659 - accuracy: 0.9346 - val_loss: 0.1652 - val_accuracy: 0.9350\n",
      "Epoch 16/5000\n",
      "2692/2692 [==============================] - 10s 4ms/step - loss: 0.1650 - accuracy: 0.9350 - val_loss: 0.1643 - val_accuracy: 0.9354\n",
      "Epoch 17/5000\n",
      "2692/2692 [==============================] - 10s 4ms/step - loss: 0.1642 - accuracy: 0.9353 - val_loss: 0.1636 - val_accuracy: 0.9356\n",
      "Epoch 18/5000\n",
      "2692/2692 [==============================] - 9s 4ms/step - loss: 0.1635 - accuracy: 0.9356 - val_loss: 0.1628 - val_accuracy: 0.9359\n",
      "Epoch 19/5000\n",
      "2692/2692 [==============================] - 9s 4ms/step - loss: 0.1628 - accuracy: 0.9359 - val_loss: 0.1622 - val_accuracy: 0.9362\n",
      "Epoch 20/5000\n",
      "2692/2692 [==============================] - 10s 4ms/step - loss: 0.1622 - accuracy: 0.9361 - val_loss: 0.1616 - val_accuracy: 0.9364\n",
      "Epoch 21/5000\n",
      "2692/2692 [==============================] - 10s 4ms/step - loss: 0.1617 - accuracy: 0.9363 - val_loss: 0.1611 - val_accuracy: 0.9366\n",
      "Epoch 22/5000\n",
      "2692/2692 [==============================] - 9s 4ms/step - loss: 0.1612 - accuracy: 0.9365 - val_loss: 0.1606 - val_accuracy: 0.9368\n",
      "Epoch 23/5000\n",
      "2692/2692 [==============================] - 10s 4ms/step - loss: 0.1607 - accuracy: 0.9367 - val_loss: 0.1602 - val_accuracy: 0.9370\n",
      "Epoch 24/5000\n",
      "2692/2692 [==============================] - 9s 3ms/step - loss: 0.1603 - accuracy: 0.9369 - val_loss: 0.1598 - val_accuracy: 0.9371\n",
      "Epoch 25/5000\n",
      "2692/2692 [==============================] - 10s 4ms/step - loss: 0.1599 - accuracy: 0.9370 - val_loss: 0.1593 - val_accuracy: 0.9373\n",
      "Epoch 26/5000\n",
      "2692/2692 [==============================] - 9s 3ms/step - loss: 0.1595 - accuracy: 0.9372 - val_loss: 0.1590 - val_accuracy: 0.9375\n",
      "Epoch 27/5000\n",
      "2692/2692 [==============================] - 10s 4ms/step - loss: 0.1592 - accuracy: 0.9373 - val_loss: 0.1587 - val_accuracy: 0.9375\n",
      "Epoch 28/5000\n",
      "2692/2692 [==============================] - 9s 4ms/step - loss: 0.1589 - accuracy: 0.9374 - val_loss: 0.1584 - val_accuracy: 0.9376\n",
      "Epoch 29/5000\n",
      "2692/2692 [==============================] - 9s 3ms/step - loss: 0.1585 - accuracy: 0.9375 - val_loss: 0.1580 - val_accuracy: 0.9378\n",
      "Epoch 30/5000\n",
      "2692/2692 [==============================] - 10s 4ms/step - loss: 0.1583 - accuracy: 0.9377 - val_loss: 0.1577 - val_accuracy: 0.9379\n",
      "Epoch 31/5000\n",
      "2692/2692 [==============================] - 9s 3ms/step - loss: 0.1580 - accuracy: 0.9378 - val_loss: 0.1576 - val_accuracy: 0.9380\n",
      "Epoch 32/5000\n",
      "2692/2692 [==============================] - 9s 3ms/step - loss: 0.1577 - accuracy: 0.9379 - val_loss: 0.1573 - val_accuracy: 0.9381\n",
      "Epoch 33/5000\n",
      "2692/2692 [==============================] - 9s 4ms/step - loss: 0.1575 - accuracy: 0.9380 - val_loss: 0.1570 - val_accuracy: 0.9382\n",
      "Epoch 34/5000\n",
      "2692/2692 [==============================] - 9s 4ms/step - loss: 0.1573 - accuracy: 0.9380 - val_loss: 0.1568 - val_accuracy: 0.9383\n",
      "Epoch 35/5000\n",
      "2692/2692 [==============================] - 10s 4ms/step - loss: 0.1570 - accuracy: 0.9381 - val_loss: 0.1567 - val_accuracy: 0.9383\n",
      "Epoch 36/5000\n",
      "2692/2692 [==============================] - 10s 4ms/step - loss: 0.1568 - accuracy: 0.9382 - val_loss: 0.1563 - val_accuracy: 0.9384\n",
      "Epoch 37/5000\n",
      "2692/2692 [==============================] - 10s 4ms/step - loss: 0.1566 - accuracy: 0.9383 - val_loss: 0.1562 - val_accuracy: 0.9385\n",
      "Epoch 38/5000\n",
      "2692/2692 [==============================] - 9s 3ms/step - loss: 0.1565 - accuracy: 0.9384 - val_loss: 0.1560 - val_accuracy: 0.9386\n",
      "Epoch 39/5000\n",
      "2692/2692 [==============================] - 9s 4ms/step - loss: 0.1563 - accuracy: 0.9384 - val_loss: 0.1558 - val_accuracy: 0.9387\n",
      "Epoch 40/5000\n",
      "2692/2692 [==============================] - 10s 4ms/step - loss: 0.1561 - accuracy: 0.9385 - val_loss: 0.1557 - val_accuracy: 0.9387\n",
      "Epoch 41/5000\n",
      "2692/2692 [==============================] - 9s 4ms/step - loss: 0.1560 - accuracy: 0.9385 - val_loss: 0.1554 - val_accuracy: 0.9388\n",
      "Epoch 42/5000\n",
      "2692/2692 [==============================] - 10s 4ms/step - loss: 0.1558 - accuracy: 0.9386 - val_loss: 0.1554 - val_accuracy: 0.9388\n",
      "Epoch 43/5000\n",
      "2692/2692 [==============================] - 10s 4ms/step - loss: 0.1557 - accuracy: 0.9386 - val_loss: 0.1552 - val_accuracy: 0.9389\n",
      "Epoch 44/5000\n",
      "2692/2692 [==============================] - 10s 4ms/step - loss: 0.1555 - accuracy: 0.9387 - val_loss: 0.1551 - val_accuracy: 0.9389\n",
      "Epoch 45/5000\n",
      "2692/2692 [==============================] - 9s 3ms/step - loss: 0.1554 - accuracy: 0.9388 - val_loss: 0.1551 - val_accuracy: 0.9389\n",
      "Epoch 46/5000\n",
      "2503/2692 [==========================>...] - ETA: 0s - loss: 0.1553 - accuracy: 0.9388"
     ]
    },
    {
     "ename": "KeyboardInterrupt",
     "evalue": "",
     "output_type": "error",
     "traceback": [
      "\u001b[0;31m---------------------------------------------------------------------------\u001b[0m",
      "\u001b[0;31mKeyboardInterrupt\u001b[0m                         Traceback (most recent call last)",
      "Cell \u001b[0;32mIn[23], line 14\u001b[0m\n\u001b[1;32m     11\u001b[0m opt \u001b[38;5;241m=\u001b[39m tf\u001b[38;5;241m.\u001b[39mkeras\u001b[38;5;241m.\u001b[39moptimizers\u001b[38;5;241m.\u001b[39mAdam(learning_rate\u001b[38;5;241m=\u001b[39m\u001b[38;5;241m0.00001\u001b[39m)\n\u001b[1;32m     12\u001b[0m model_qqq\u001b[38;5;241m.\u001b[39mcompile(loss\u001b[38;5;241m=\u001b[39m\u001b[38;5;124m'\u001b[39m\u001b[38;5;124mbinary_crossentropy\u001b[39m\u001b[38;5;124m'\u001b[39m, optimizer\u001b[38;5;241m=\u001b[39mopt, metrics\u001b[38;5;241m=\u001b[39m[\u001b[38;5;124m'\u001b[39m\u001b[38;5;124maccuracy\u001b[39m\u001b[38;5;124m'\u001b[39m])\n\u001b[0;32m---> 14\u001b[0m myhistory_qqq \u001b[38;5;241m=\u001b[39m \u001b[43mmodel_qqq\u001b[49m\u001b[38;5;241;43m.\u001b[39;49m\u001b[43mfit\u001b[49m\u001b[43m(\u001b[49m\u001b[43mX_train_qqq\u001b[49m\u001b[43m,\u001b[49m\u001b[43m \u001b[49m\u001b[43mY_train_qqq\u001b[49m\u001b[43m,\u001b[49m\u001b[43m \u001b[49m\u001b[43mepochs\u001b[49m\u001b[38;5;241;43m=\u001b[39;49m\u001b[38;5;241;43m5000\u001b[39;49m\u001b[43m,\u001b[49m\u001b[43mvalidation_data\u001b[49m\u001b[38;5;241;43m=\u001b[39;49m\u001b[43m(\u001b[49m\u001b[43mX_val_qqq\u001b[49m\u001b[43m,\u001b[49m\u001b[43m \u001b[49m\u001b[43mY_val_qqq\u001b[49m\u001b[43m)\u001b[49m\u001b[43m,\u001b[49m\u001b[43mbatch_size\u001b[49m\u001b[38;5;241;43m=\u001b[39;49m\u001b[38;5;241;43m5\u001b[39;49m\u001b[38;5;241;43m*\u001b[39;49m\u001b[38;5;241;43m1024\u001b[39;49m\u001b[43m,\u001b[49m\u001b[43mcallbacks\u001b[49m\u001b[38;5;241;43m=\u001b[39;49m\u001b[43m[\u001b[49m\u001b[43mes\u001b[49m\u001b[43m]\u001b[49m\u001b[43m)\u001b[49m\n",
      "File \u001b[0;32m/global/common/software/nersc/pm-2022q4/sw/tensorflow/2.9.0/lib/python3.9/site-packages/keras/utils/traceback_utils.py:64\u001b[0m, in \u001b[0;36mfilter_traceback.<locals>.error_handler\u001b[0;34m(*args, **kwargs)\u001b[0m\n\u001b[1;32m     62\u001b[0m filtered_tb \u001b[38;5;241m=\u001b[39m \u001b[38;5;28;01mNone\u001b[39;00m\n\u001b[1;32m     63\u001b[0m \u001b[38;5;28;01mtry\u001b[39;00m:\n\u001b[0;32m---> 64\u001b[0m   \u001b[38;5;28;01mreturn\u001b[39;00m \u001b[43mfn\u001b[49m\u001b[43m(\u001b[49m\u001b[38;5;241;43m*\u001b[39;49m\u001b[43margs\u001b[49m\u001b[43m,\u001b[49m\u001b[43m \u001b[49m\u001b[38;5;241;43m*\u001b[39;49m\u001b[38;5;241;43m*\u001b[39;49m\u001b[43mkwargs\u001b[49m\u001b[43m)\u001b[49m\n\u001b[1;32m     65\u001b[0m \u001b[38;5;28;01mexcept\u001b[39;00m \u001b[38;5;167;01mException\u001b[39;00m \u001b[38;5;28;01mas\u001b[39;00m e:  \u001b[38;5;66;03m# pylint: disable=broad-except\u001b[39;00m\n\u001b[1;32m     66\u001b[0m   filtered_tb \u001b[38;5;241m=\u001b[39m _process_traceback_frames(e\u001b[38;5;241m.\u001b[39m__traceback__)\n",
      "File \u001b[0;32m/global/common/software/nersc/pm-2022q4/sw/tensorflow/2.9.0/lib/python3.9/site-packages/keras/engine/training.py:1408\u001b[0m, in \u001b[0;36mModel.fit\u001b[0;34m(self, x, y, batch_size, epochs, verbose, callbacks, validation_split, validation_data, shuffle, class_weight, sample_weight, initial_epoch, steps_per_epoch, validation_steps, validation_batch_size, validation_freq, max_queue_size, workers, use_multiprocessing)\u001b[0m\n\u001b[1;32m   1401\u001b[0m \u001b[38;5;28;01mfor\u001b[39;00m step \u001b[38;5;129;01min\u001b[39;00m data_handler\u001b[38;5;241m.\u001b[39msteps():\n\u001b[1;32m   1402\u001b[0m   \u001b[38;5;28;01mwith\u001b[39;00m tf\u001b[38;5;241m.\u001b[39mprofiler\u001b[38;5;241m.\u001b[39mexperimental\u001b[38;5;241m.\u001b[39mTrace(\n\u001b[1;32m   1403\u001b[0m       \u001b[38;5;124m'\u001b[39m\u001b[38;5;124mtrain\u001b[39m\u001b[38;5;124m'\u001b[39m,\n\u001b[1;32m   1404\u001b[0m       epoch_num\u001b[38;5;241m=\u001b[39mepoch,\n\u001b[1;32m   1405\u001b[0m       step_num\u001b[38;5;241m=\u001b[39mstep,\n\u001b[1;32m   1406\u001b[0m       batch_size\u001b[38;5;241m=\u001b[39mbatch_size,\n\u001b[1;32m   1407\u001b[0m       _r\u001b[38;5;241m=\u001b[39m\u001b[38;5;241m1\u001b[39m):\n\u001b[0;32m-> 1408\u001b[0m     \u001b[43mcallbacks\u001b[49m\u001b[38;5;241;43m.\u001b[39;49m\u001b[43mon_train_batch_begin\u001b[49m\u001b[43m(\u001b[49m\u001b[43mstep\u001b[49m\u001b[43m)\u001b[49m\n\u001b[1;32m   1409\u001b[0m     tmp_logs \u001b[38;5;241m=\u001b[39m \u001b[38;5;28mself\u001b[39m\u001b[38;5;241m.\u001b[39mtrain_function(iterator)\n\u001b[1;32m   1410\u001b[0m     \u001b[38;5;28;01mif\u001b[39;00m data_handler\u001b[38;5;241m.\u001b[39mshould_sync:\n",
      "File \u001b[0;32m/global/common/software/nersc/pm-2022q4/sw/tensorflow/2.9.0/lib/python3.9/site-packages/keras/callbacks.py:428\u001b[0m, in \u001b[0;36mCallbackList.on_train_batch_begin\u001b[0;34m(self, batch, logs)\u001b[0m\n\u001b[1;32m    419\u001b[0m \u001b[38;5;124;03m\"\"\"Calls the `on_train_batch_begin` methods of its callbacks.\u001b[39;00m\n\u001b[1;32m    420\u001b[0m \n\u001b[1;32m    421\u001b[0m \u001b[38;5;124;03mArgs:\u001b[39;00m\n\u001b[0;32m   (...)\u001b[0m\n\u001b[1;32m    425\u001b[0m \u001b[38;5;124;03m      `{'loss': 0.2, 'accuracy': 0.7}`.\u001b[39;00m\n\u001b[1;32m    426\u001b[0m \u001b[38;5;124;03m\"\"\"\u001b[39;00m\n\u001b[1;32m    427\u001b[0m \u001b[38;5;28;01mif\u001b[39;00m \u001b[38;5;28mself\u001b[39m\u001b[38;5;241m.\u001b[39m_should_call_train_batch_hooks:\n\u001b[0;32m--> 428\u001b[0m   \u001b[38;5;28;43mself\u001b[39;49m\u001b[38;5;241;43m.\u001b[39;49m\u001b[43m_call_batch_hook\u001b[49m\u001b[43m(\u001b[49m\u001b[43mModeKeys\u001b[49m\u001b[38;5;241;43m.\u001b[39;49m\u001b[43mTRAIN\u001b[49m\u001b[43m,\u001b[49m\u001b[43m \u001b[49m\u001b[38;5;124;43m'\u001b[39;49m\u001b[38;5;124;43mbegin\u001b[39;49m\u001b[38;5;124;43m'\u001b[39;49m\u001b[43m,\u001b[49m\u001b[43m \u001b[49m\u001b[43mbatch\u001b[49m\u001b[43m,\u001b[49m\u001b[43m \u001b[49m\u001b[43mlogs\u001b[49m\u001b[38;5;241;43m=\u001b[39;49m\u001b[43mlogs\u001b[49m\u001b[43m)\u001b[49m\n",
      "File \u001b[0;32m/global/common/software/nersc/pm-2022q4/sw/tensorflow/2.9.0/lib/python3.9/site-packages/keras/callbacks.py:295\u001b[0m, in \u001b[0;36mCallbackList._call_batch_hook\u001b[0;34m(self, mode, hook, batch, logs)\u001b[0m\n\u001b[1;32m    292\u001b[0m   \u001b[38;5;28;01mreturn\u001b[39;00m\n\u001b[1;32m    294\u001b[0m \u001b[38;5;28;01mif\u001b[39;00m hook \u001b[38;5;241m==\u001b[39m \u001b[38;5;124m'\u001b[39m\u001b[38;5;124mbegin\u001b[39m\u001b[38;5;124m'\u001b[39m:\n\u001b[0;32m--> 295\u001b[0m   \u001b[38;5;28;43mself\u001b[39;49m\u001b[38;5;241;43m.\u001b[39;49m\u001b[43m_call_batch_begin_hook\u001b[49m\u001b[43m(\u001b[49m\u001b[43mmode\u001b[49m\u001b[43m,\u001b[49m\u001b[43m \u001b[49m\u001b[43mbatch\u001b[49m\u001b[43m,\u001b[49m\u001b[43m \u001b[49m\u001b[43mlogs\u001b[49m\u001b[43m)\u001b[49m\n\u001b[1;32m    296\u001b[0m \u001b[38;5;28;01melif\u001b[39;00m hook \u001b[38;5;241m==\u001b[39m \u001b[38;5;124m'\u001b[39m\u001b[38;5;124mend\u001b[39m\u001b[38;5;124m'\u001b[39m:\n\u001b[1;32m    297\u001b[0m   \u001b[38;5;28mself\u001b[39m\u001b[38;5;241m.\u001b[39m_call_batch_end_hook(mode, batch, logs)\n",
      "File \u001b[0;32m/global/common/software/nersc/pm-2022q4/sw/tensorflow/2.9.0/lib/python3.9/site-packages/keras/callbacks.py:305\u001b[0m, in \u001b[0;36mCallbackList._call_batch_begin_hook\u001b[0;34m(self, mode, batch, logs)\u001b[0m\n\u001b[1;32m    303\u001b[0m \u001b[38;5;124;03m\"\"\"Helper function for `on_*_batch_begin` methods.\"\"\"\u001b[39;00m\n\u001b[1;32m    304\u001b[0m hook_name \u001b[38;5;241m=\u001b[39m \u001b[38;5;124m'\u001b[39m\u001b[38;5;124mon_\u001b[39m\u001b[38;5;132;01m{mode}\u001b[39;00m\u001b[38;5;124m_batch_begin\u001b[39m\u001b[38;5;124m'\u001b[39m\u001b[38;5;241m.\u001b[39mformat(mode\u001b[38;5;241m=\u001b[39mmode)\n\u001b[0;32m--> 305\u001b[0m \u001b[38;5;28;43mself\u001b[39;49m\u001b[38;5;241;43m.\u001b[39;49m\u001b[43m_call_batch_hook_helper\u001b[49m\u001b[43m(\u001b[49m\u001b[43mhook_name\u001b[49m\u001b[43m,\u001b[49m\u001b[43m \u001b[49m\u001b[43mbatch\u001b[49m\u001b[43m,\u001b[49m\u001b[43m \u001b[49m\u001b[43mlogs\u001b[49m\u001b[43m)\u001b[49m\n\u001b[1;32m    307\u001b[0m \u001b[38;5;28;01mif\u001b[39;00m \u001b[38;5;28mself\u001b[39m\u001b[38;5;241m.\u001b[39m_check_timing:\n\u001b[1;32m    308\u001b[0m   \u001b[38;5;28mself\u001b[39m\u001b[38;5;241m.\u001b[39m_batch_start_time \u001b[38;5;241m=\u001b[39m time\u001b[38;5;241m.\u001b[39mtime()\n",
      "File \u001b[0;32m/global/common/software/nersc/pm-2022q4/sw/tensorflow/2.9.0/lib/python3.9/site-packages/keras/callbacks.py:350\u001b[0m, in \u001b[0;36mCallbackList._call_batch_hook_helper\u001b[0;34m(self, hook_name, batch, logs)\u001b[0m\n\u001b[1;32m    348\u001b[0m \u001b[38;5;28;01mdef\u001b[39;00m \u001b[38;5;21m_call_batch_hook_helper\u001b[39m(\u001b[38;5;28mself\u001b[39m, hook_name, batch, logs):\n\u001b[1;32m    349\u001b[0m   \u001b[38;5;124;03m\"\"\"Helper function for `on_*_batch_*` methods.\"\"\"\u001b[39;00m\n\u001b[0;32m--> 350\u001b[0m   \u001b[38;5;28;01mif\u001b[39;00m \u001b[38;5;28;43mself\u001b[39;49m\u001b[38;5;241;43m.\u001b[39;49m\u001b[43m_check_timing\u001b[49m:\n\u001b[1;32m    351\u001b[0m     start_time \u001b[38;5;241m=\u001b[39m time\u001b[38;5;241m.\u001b[39mtime()\n\u001b[1;32m    353\u001b[0m   logs \u001b[38;5;241m=\u001b[39m \u001b[38;5;28mself\u001b[39m\u001b[38;5;241m.\u001b[39m_process_logs(logs, is_batch_hook\u001b[38;5;241m=\u001b[39m\u001b[38;5;28;01mTrue\u001b[39;00m)\n",
      "\u001b[0;31mKeyboardInterrupt\u001b[0m: "
     ]
    }
   ],
   "source": [
    "es = tf.keras.callbacks.EarlyStopping(monitor='val_loss', patience=5)\n",
    "\n",
    "model_qqq = Sequential()\n",
    "model_qqq.add(Dense(256, input_dim=8, activation='swish'))\n",
    "model_qqq.add(BatchNormalization())\n",
    "model_qqq.add(Dense(256, activation='swish'))\n",
    "model_qqq.add(BatchNormalization())\n",
    "model_qqq.add(Dense(256, activation='swish'))\n",
    "model_qqq.add(BatchNormalization())\n",
    "model_qqq.add(Dense(1, activation='sigmoid'))\n",
    "opt = tf.keras.optimizers.Adam(learning_rate=0.00001)\n",
    "model_qqq.compile(loss='binary_crossentropy', optimizer=opt, metrics=['accuracy'])\n",
    "\n",
    "myhistory_qqq = model_qqq.fit(X_train_qqq, Y_train_qqq, epochs=5000,validation_data=(X_val_qqq, Y_val_qqq),batch_size=5*1024,callbacks=[es])"
   ]
  },
  {
   "cell_type": "code",
   "execution_count": 56,
   "id": "32c267b5-81fd-4130-947d-37ae03185d6f",
   "metadata": {
    "tags": []
   },
   "outputs": [
    {
     "name": "stdout",
     "output_type": "stream",
     "text": [
      "INFO:tensorflow:Assets written to: model_qqq/assets\n"
     ]
    }
   ],
   "source": [
    "#model_qqq.save('model_qqq')"
   ]
  },
  {
   "cell_type": "code",
   "execution_count": null,
   "id": "bb495cf8-fb39-4497-8b68-72ddc9f6f8ac",
   "metadata": {},
   "outputs": [],
   "source": []
  }
 ],
 "metadata": {
  "kernelspec": {
   "display_name": "tensorflow-2.9.0",
   "language": "python",
   "name": "tensorflow-2.9.0"
  },
  "language_info": {
   "codemirror_mode": {
    "name": "ipython",
    "version": 3
   },
   "file_extension": ".py",
   "mimetype": "text/x-python",
   "name": "python",
   "nbconvert_exporter": "python",
   "pygments_lexer": "ipython3",
   "version": "3.9.15"
  }
 },
 "nbformat": 4,
 "nbformat_minor": 5
}
