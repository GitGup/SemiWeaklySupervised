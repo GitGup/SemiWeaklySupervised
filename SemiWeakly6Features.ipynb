{
 "cells": [
  {
   "cell_type": "code",
   "execution_count": 1,
   "id": "ffffb324-ca98-4d22-96d1-a1485b89d69e",
   "metadata": {
    "tags": []
   },
   "outputs": [
    {
     "name": "stderr",
     "output_type": "stream",
     "text": [
      "2024-03-04 14:06:21.927772: E external/local_xla/xla/stream_executor/cuda/cuda_dnn.cc:9261] Unable to register cuDNN factory: Attempting to register factory for plugin cuDNN when one has already been registered\n",
      "2024-03-04 14:06:21.928126: E external/local_xla/xla/stream_executor/cuda/cuda_fft.cc:607] Unable to register cuFFT factory: Attempting to register factory for plugin cuFFT when one has already been registered\n",
      "2024-03-04 14:06:21.965693: E external/local_xla/xla/stream_executor/cuda/cuda_blas.cc:1515] Unable to register cuBLAS factory: Attempting to register factory for plugin cuBLAS when one has already been registered\n",
      "2024-03-04 14:06:22.026575: I tensorflow/core/platform/cpu_feature_guard.cc:182] This TensorFlow binary is optimized to use available CPU instructions in performance-critical operations.\n",
      "To enable the following instructions: SSE4.1 SSE4.2 AVX AVX2 FMA, in other operations, rebuild TensorFlow with the appropriate compiler flags.\n"
     ]
    }
   ],
   "source": [
    "import numpy as np\n",
    "import matplotlib.pyplot as plt\n",
    "import pandas as pd\n",
    "import tensorflow as tf\n",
    "import random\n",
    "import os\n",
    "\n",
    "#tensorflow keras imports\n",
    "from sklearn.model_selection import train_test_split\n",
    "from sklearn import metrics\n",
    "\n",
    "from tensorflow.keras.layers import Input, Dense, BatchNormalization\n",
    "from tensorflow.keras.models import Model, Sequential\n",
    "from tensorflow.keras.models import model_from_json\n",
    "from tensorflow.keras.callbacks import EarlyStopping"
   ]
  },
  {
   "cell_type": "code",
   "execution_count": 4,
   "id": "c86e145d-b2fa-4e32-91e4-8b7a368aacab",
   "metadata": {
    "tags": []
   },
   "outputs": [
    {
     "name": "stdout",
     "output_type": "stream",
     "text": [
      "[PhysicalDevice(name='/physical_device:GPU:0', device_type='GPU')]\n",
      "Num GPUs Available:  1\n"
     ]
    }
   ],
   "source": [
    "print(tf.config.list_physical_devices('GPU'))\n",
    "# Check if tensorflow is using GPU\n",
    "print(\"Num GPUs Available: \", len(tf.config.list_physical_devices('GPU')))"
   ]
  },
  {
   "cell_type": "code",
   "execution_count": 75,
   "id": "d40e20ee-a221-40ed-b2f5-56cfde7e4283",
   "metadata": {
    "collapsed": true,
    "jupyter": {
     "outputs_hidden": true
    },
    "tags": []
   },
   "outputs": [
    {
     "name": "stdout",
     "output_type": "stream",
     "text": [
      "on ... 0 0 qq\n",
      "on ... 0 0 qqq\n",
      "on ... 0 0.5 qq\n",
      "on ... 0 0.5 qqq\n",
      "on ... 0 1 qq\n",
      "on ... 0 1 qqq\n",
      "on ... 0 1.5 qq\n",
      "on ... 0 1.5 qqq\n",
      "on ... 0 2 qq\n",
      "on ... 0 2 qqq\n",
      "on ... 0 2.5 qq\n",
      "on ... 0 2.5 qqq\n",
      "on ... 0 3 qq\n",
      "on ... 0 3 qqq\n",
      "on ... 0 3.5 qq\n",
      "on ... 0 3.5 qqq\n",
      "on ... 0 4 qq\n",
      "on ... 0 4 qqq\n",
      "on ... 0 4.5 qq\n",
      "on ... 0 4.5 qqq\n",
      "on ... 0 5 qq\n",
      "on ... 0 5 qqq\n",
      "on ... 0 5.5 qq\n",
      "on ... 0 5.5 qqq\n",
      "on ... 0 6 qq\n",
      "on ... 0 6 qqq\n",
      "on ... 0.5 0 qq\n",
      "on ... 0.5 0 qqq\n",
      "on ... 0.5 0.5 qq\n",
      "on ... 0.5 0.5 qqq\n",
      "on ... 0.5 1 qq\n",
      "on ... 0.5 1 qqq\n",
      "on ... 0.5 1.5 qq\n",
      "on ... 0.5 1.5 qqq\n",
      "on ... 0.5 2 qq\n",
      "on ... 0.5 2 qqq\n",
      "on ... 0.5 2.5 qq\n",
      "on ... 0.5 2.5 qqq\n",
      "on ... 0.5 3 qq\n",
      "on ... 0.5 3 qqq\n",
      "on ... 0.5 3.5 qq\n",
      "on ... 0.5 3.5 qqq\n",
      "on ... 0.5 4 qq\n",
      "on ... 0.5 4 qqq\n",
      "on ... 0.5 4.5 qq\n",
      "on ... 0.5 4.5 qqq\n",
      "on ... 0.5 5 qq\n",
      "on ... 0.5 5 qqq\n",
      "on ... 0.5 5.5 qq\n",
      "on ... 0.5 5.5 qqq\n",
      "on ... 0.5 6 qq\n",
      "on ... 0.5 6 qqq\n",
      "on ... 1 0 qq\n",
      "on ... 1 0 qqq\n",
      "on ... 1 0.5 qq\n",
      "on ... 1 0.5 qqq\n",
      "on ... 1 1 qq\n",
      "on ... 1 1 qqq\n",
      "on ... 1 1.5 qq\n",
      "on ... 1 1.5 qqq\n",
      "on ... 1 2 qq\n",
      "on ... 1 2 qqq\n",
      "on ... 1 2.5 qq\n",
      "on ... 1 2.5 qqq\n",
      "on ... 1 3 qq\n",
      "on ... 1 3 qqq\n",
      "on ... 1 3.5 qq\n",
      "on ... 1 3.5 qqq\n",
      "on ... 1 4 qq\n",
      "on ... 1 4 qqq\n",
      "on ... 1 4.5 qq\n",
      "on ... 1 4.5 qqq\n",
      "on ... 1 5 qq\n",
      "on ... 1 5 qqq\n",
      "on ... 1 5.5 qq\n",
      "on ... 1 5.5 qqq\n",
      "on ... 1 6 qq\n",
      "on ... 1 6 qqq\n",
      "on ... 1.5 0 qq\n",
      "on ... 1.5 0 qqq\n",
      "on ... 1.5 0.5 qq\n",
      "on ... 1.5 0.5 qqq\n",
      "on ... 1.5 1 qq\n",
      "on ... 1.5 1 qqq\n",
      "on ... 1.5 1.5 qq\n",
      "on ... 1.5 1.5 qqq\n",
      "on ... 1.5 2 qq\n",
      "on ... 1.5 2 qqq\n",
      "on ... 1.5 2.5 qq\n",
      "on ... 1.5 2.5 qqq\n",
      "on ... 1.5 3 qq\n",
      "on ... 1.5 3 qqq\n",
      "on ... 1.5 3.5 qq\n",
      "on ... 1.5 3.5 qqq\n",
      "on ... 1.5 4 qq\n",
      "on ... 1.5 4 qqq\n",
      "on ... 1.5 4.5 qq\n",
      "on ... 1.5 4.5 qqq\n",
      "on ... 1.5 5 qq\n",
      "on ... 1.5 5 qqq\n",
      "on ... 1.5 5.5 qq\n",
      "on ... 1.5 5.5 qqq\n",
      "on ... 1.5 6 qq\n",
      "on ... 1.5 6 qqq\n",
      "on ... 2 0 qq\n",
      "on ... 2 0 qqq\n",
      "on ... 2 0.5 qq\n",
      "on ... 2 0.5 qqq\n",
      "on ... 2 1 qq\n",
      "on ... 2 1 qqq\n",
      "on ... 2 1.5 qq\n",
      "on ... 2 1.5 qqq\n",
      "on ... 2 2 qq\n",
      "on ... 2 2 qqq\n",
      "on ... 2 2.5 qq\n",
      "on ... 2 2.5 qqq\n",
      "on ... 2 3 qq\n",
      "on ... 2 3 qqq\n",
      "on ... 2 3.5 qq\n",
      "on ... 2 3.5 qqq\n",
      "on ... 2 4 qq\n",
      "on ... 2 4 qqq\n",
      "on ... 2 4.5 qq\n",
      "on ... 2 4.5 qqq\n",
      "on ... 2 5 qq\n",
      "on ... 2 5 qqq\n",
      "on ... 2 5.5 qq\n",
      "on ... 2 5.5 qqq\n",
      "on ... 2 6 qq\n",
      "on ... 2 6 qqq\n",
      "on ... 2.5 0 qq\n",
      "on ... 2.5 0 qqq\n",
      "on ... 2.5 0.5 qq\n",
      "on ... 2.5 0.5 qqq\n",
      "on ... 2.5 1 qq\n",
      "on ... 2.5 1 qqq\n",
      "on ... 2.5 1.5 qq\n",
      "on ... 2.5 1.5 qqq\n",
      "on ... 2.5 2 qq\n",
      "on ... 2.5 2 qqq\n",
      "on ... 2.5 2.5 qq\n",
      "on ... 2.5 2.5 qqq\n",
      "on ... 2.5 3 qq\n",
      "on ... 2.5 3 qqq\n",
      "on ... 2.5 3.5 qq\n",
      "on ... 2.5 3.5 qqq\n",
      "on ... 2.5 4 qq\n",
      "on ... 2.5 4 qqq\n",
      "on ... 2.5 4.5 qq\n",
      "on ... 2.5 4.5 qqq\n",
      "on ... 2.5 5 qq\n",
      "on ... 2.5 5 qqq\n",
      "on ... 2.5 5.5 qq\n",
      "on ... 2.5 5.5 qqq\n",
      "on ... 2.5 6 qq\n",
      "on ... 2.5 6 qqq\n",
      "on ... 3 0 qq\n",
      "on ... 3 0 qqq\n",
      "on ... 3 0.5 qq\n",
      "on ... 3 0.5 qqq\n",
      "on ... 3 1 qq\n",
      "on ... 3 1 qqq\n",
      "on ... 3 1.5 qq\n",
      "on ... 3 1.5 qqq\n",
      "on ... 3 2 qq\n",
      "on ... 3 2 qqq\n",
      "on ... 3 2.5 qq\n",
      "on ... 3 2.5 qqq\n",
      "on ... 3 3 qq\n",
      "on ... 3 3 qqq\n",
      "on ... 3 3.5 qq\n",
      "on ... 3 3.5 qqq\n",
      "on ... 3 4 qq\n",
      "on ... 3 4 qqq\n",
      "on ... 3 4.5 qq\n",
      "on ... 3 4.5 qqq\n",
      "on ... 3 5 qq\n",
      "on ... 3 5 qqq\n",
      "on ... 3 5.5 qq\n",
      "on ... 3 5.5 qqq\n",
      "on ... 3 6 qq\n",
      "on ... 3 6 qqq\n",
      "on ... 3.5 0 qq\n",
      "on ... 3.5 0 qqq\n",
      "on ... 3.5 0.5 qq\n",
      "on ... 3.5 0.5 qqq\n",
      "on ... 3.5 1 qq\n",
      "on ... 3.5 1 qqq\n",
      "on ... 3.5 1.5 qq\n",
      "on ... 3.5 1.5 qqq\n",
      "on ... 3.5 2 qq\n",
      "on ... 3.5 2 qqq\n",
      "on ... 3.5 2.5 qq\n",
      "on ... 3.5 2.5 qqq\n",
      "on ... 3.5 3 qq\n",
      "on ... 3.5 3 qqq\n",
      "on ... 3.5 3.5 qq\n",
      "on ... 3.5 3.5 qqq\n",
      "on ... 3.5 4 qq\n",
      "on ... 3.5 4 qqq\n",
      "on ... 3.5 4.5 qq\n",
      "on ... 3.5 4.5 qqq\n",
      "on ... 3.5 5 qq\n",
      "on ... 3.5 5 qqq\n",
      "on ... 3.5 5.5 qq\n",
      "on ... 3.5 5.5 qqq\n",
      "on ... 3.5 6 qq\n",
      "on ... 3.5 6 qqq\n",
      "on ... 4 0 qq\n",
      "on ... 4 0 qqq\n",
      "on ... 4 0.5 qq\n",
      "on ... 4 0.5 qqq\n",
      "on ... 4 1 qq\n",
      "on ... 4 1 qqq\n",
      "on ... 4 1.5 qq\n",
      "on ... 4 1.5 qqq\n",
      "on ... 4 2 qq\n",
      "on ... 4 2 qqq\n",
      "on ... 4 2.5 qq\n",
      "on ... 4 2.5 qqq\n",
      "on ... 4 3 qq\n",
      "on ... 4 3 qqq\n",
      "on ... 4 3.5 qq\n",
      "on ... 4 3.5 qqq\n",
      "on ... 4 4 qq\n",
      "on ... 4 4 qqq\n",
      "on ... 4 4.5 qq\n",
      "on ... 4 4.5 qqq\n",
      "on ... 4 5 qq\n",
      "on ... 4 5 qqq\n",
      "on ... 4 5.5 qq\n",
      "on ... 4 5.5 qqq\n",
      "on ... 4 6 qq\n",
      "on ... 4 6 qqq\n",
      "on ... 4.5 0 qq\n",
      "on ... 4.5 0 qqq\n",
      "on ... 4.5 0.5 qq\n",
      "on ... 4.5 0.5 qqq\n",
      "on ... 4.5 1 qq\n",
      "on ... 4.5 1 qqq\n",
      "on ... 4.5 1.5 qq\n",
      "on ... 4.5 1.5 qqq\n",
      "on ... 4.5 2 qq\n",
      "on ... 4.5 2 qqq\n",
      "on ... 4.5 2.5 qq\n",
      "on ... 4.5 2.5 qqq\n",
      "on ... 4.5 3 qq\n",
      "on ... 4.5 3 qqq\n",
      "on ... 4.5 3.5 qq\n",
      "on ... 4.5 3.5 qqq\n",
      "on ... 4.5 4 qq\n",
      "on ... 4.5 4 qqq\n",
      "on ... 4.5 4.5 qq\n",
      "on ... 4.5 4.5 qqq\n",
      "on ... 4.5 5 qq\n",
      "on ... 4.5 5 qqq\n",
      "on ... 4.5 5.5 qq\n",
      "on ... 4.5 5.5 qqq\n",
      "on ... 4.5 6 qq\n",
      "on ... 4.5 6 qqq\n",
      "on ... 5 0 qq\n",
      "on ... 5 0 qqq\n",
      "on ... 5 0.5 qq\n",
      "on ... 5 0.5 qqq\n",
      "on ... 5 1 qq\n",
      "on ... 5 1 qqq\n",
      "on ... 5 1.5 qq\n",
      "on ... 5 1.5 qqq\n",
      "on ... 5 2 qq\n",
      "on ... 5 2 qqq\n",
      "on ... 5 2.5 qq\n",
      "on ... 5 2.5 qqq\n",
      "on ... 5 3 qq\n",
      "on ... 5 3 qqq\n",
      "on ... 5 3.5 qq\n",
      "on ... 5 3.5 qqq\n",
      "on ... 5 4 qq\n",
      "on ... 5 4 qqq\n",
      "on ... 5 4.5 qq\n",
      "on ... 5 4.5 qqq\n",
      "on ... 5 5 qq\n",
      "on ... 5 5 qqq\n",
      "on ... 5 5.5 qq\n",
      "on ... 5 5.5 qqq\n",
      "on ... 5 6 qq\n",
      "on ... 5 6 qqq\n",
      "on ... 5.5 0 qq\n",
      "on ... 5.5 0 qqq\n",
      "on ... 5.5 0.5 qq\n",
      "on ... 5.5 0.5 qqq\n",
      "on ... 5.5 1 qq\n",
      "on ... 5.5 1 qqq\n",
      "on ... 5.5 1.5 qq\n",
      "on ... 5.5 1.5 qqq\n",
      "on ... 5.5 2 qq\n",
      "on ... 5.5 2 qqq\n",
      "on ... 5.5 2.5 qq\n",
      "on ... 5.5 2.5 qqq\n",
      "on ... 5.5 3 qq\n",
      "on ... 5.5 3 qqq\n",
      "on ... 5.5 3.5 qq\n",
      "on ... 5.5 3.5 qqq\n",
      "on ... 5.5 4 qq\n",
      "on ... 5.5 4 qqq\n",
      "on ... 5.5 4.5 qq\n",
      "on ... 5.5 4.5 qqq\n",
      "on ... 5.5 5 qq\n",
      "on ... 5.5 5 qqq\n",
      "on ... 5.5 5.5 qq\n",
      "on ... 5.5 5.5 qqq\n",
      "on ... 5.5 6 qq\n",
      "on ... 5.5 6 qqq\n",
      "on ... 6 0 qq\n",
      "on ... 6 0 qqq\n",
      "on ... 6 0.5 qq\n",
      "on ... 6 0.5 qqq\n",
      "on ... 6 1 qq\n",
      "on ... 6 1 qqq\n",
      "on ... 6 1.5 qq\n",
      "on ... 6 1.5 qqq\n",
      "on ... 6 2 qq\n",
      "on ... 6 2 qqq\n",
      "on ... 6 2.5 qq\n",
      "on ... 6 2.5 qqq\n",
      "on ... 6 3 qq\n",
      "on ... 6 3 qqq\n",
      "on ... 6 3.5 qq\n",
      "on ... 6 3.5 qqq\n",
      "on ... 6 4 qq\n",
      "on ... 6 4 qqq\n",
      "on ... 6 4.5 qq\n",
      "on ... 6 4.5 qqq\n",
      "on ... 6 5 qq\n",
      "on ... 6 5 qqq\n",
      "on ... 6 5.5 qq\n",
      "on ... 6 5.5 qqq\n",
      "on ... 6 6 qq\n",
      "on ... 6 6 qqq\n"
     ]
    }
   ],
   "source": [
    "from utils import *\n",
    "import pickle\n",
    "\n",
    "mass_range = [0,0.5,1,1.5,2,2.5,3,3.5,4,4.5,5,5.5,6]\n",
    "if (False):\n",
    "    lmass_vec = {}\n",
    "    x = {}\n",
    "    mjjs = {}\n",
    "\n",
    "    mu_m = 0.\n",
    "    mu_t = 0.\n",
    "    mu_t2 = 0.\n",
    "    sd_m = 0.\n",
    "    sd_t = 0.\n",
    "    sd_t2 = 0.\n",
    "    \n",
    "    mj1_list = []\n",
    "    mj2_list = []\n",
    "\n",
    "    for m1 in mass_range:\n",
    "        for m2 in mass_range:\n",
    "            for qq in ['qq','qqq']:\n",
    "\n",
    "                print(\"on ...\",m1,m2,qq)\n",
    "\n",
    "                ltau1_m_m = []\n",
    "                ltau2_m_m = []\n",
    "                ltau3_m_m = []\n",
    "                stau1_m_m = []\n",
    "                stau2_m_m = []\n",
    "                stau3_m_m = []\n",
    "                if (m1>0 and m2>0):\n",
    "                    myfile = open(\"/global/cfs/projectdirs/m3246/AnomalyDetection/ILC/Delphes-3.5.0/LHCO_RnD_qq_fixed/LHCO_RnD_qq_\"+str(int(m1*100))+\"_\"+str(int(100*m2))+\".txt\")\n",
    "                    if (qq=='qqq'):\n",
    "                        myfile = open(\"/global/cfs/projectdirs/m3246/AnomalyDetection/ILC/Delphes-3.5.0/LHCO_RnD_qqq_fixed/LHCO_RnD_qqq2_\"+str(int(m1*100))+\"_\"+str(int(100*m2))+\".txt\")\n",
    "                    jets_m_m = []\n",
    "                    for line in myfile:\n",
    "                        jets_m_m+=[line.split(\"J\")[1].split(\"P\")[0].split()]\n",
    "                        pass\n",
    "                    ljet_m_m = [jets_m_m[2*n] for n in range(int(len(jets_m_m)/2))]\n",
    "                    sjet_m_m = [jets_m_m[2*n+1] for n in range(int(len(jets_m_m)/2))]\n",
    "\n",
    "                    lmass_m_m = np.array([float(ljet_m_m[i][3]) for i in range(len(ljet_m_m))])/1000.\n",
    "                    smass_m_m = np.array([float(sjet_m_m[i][3]) for i in range(len(sjet_m_m))])/1000.\n",
    "                    \n",
    "                    #check ordering of the leading and subleading jets\n",
    "                    #if leading jet mm > subleading, continue\n",
    "                    #if leading jet mm < subleading, swap\n",
    "                    for i in range(int(len(lmass_m_m))):\n",
    "                        if lmass_m_m[i] > smass_m_m[i]:\n",
    "                            continue\n",
    "                        elif lmass_m_m[i] < smass_m_m[i]:\n",
    "                            lmass_m_m[i], smass_m_m[i] = smass_m_m[i], lmass_m_m[i]\n",
    "\n",
    "                    ltau1_m_m = np.array([float(ljet_m_m[i][5]) for i in range(len(ljet_m_m))])\n",
    "                    ltau2_m_m = np.array([float(ljet_m_m[i][6]) for i in range(len(ljet_m_m))])\n",
    "                    ltau3_m_m = np.array([float(ljet_m_m[i][7]) for i in range(len(ljet_m_m))])\n",
    "\n",
    "                    stau1_m_m = np.array([float(sjet_m_m[i][5]) for i in range(len(ljet_m_m))])\n",
    "                    stau2_m_m = np.array([float(sjet_m_m[i][6]) for i in range(len(ljet_m_m))])\n",
    "                    stau3_m_m = np.array([float(sjet_m_m[i][7]) for i in range(len(ljet_m_m))])\n",
    "\n",
    "                    mjj = computemjj_txt(jets_m_m)/1000.\n",
    "                    mjjs[m1,m2] = mjj\n",
    "                    passcut = (mjj > 3.3) * (mjj < 3.7)\n",
    "                    lmass_m_m = lmass_m_m[passcut]\n",
    "                    smass_m_m = smass_m_m[passcut]\n",
    "                    ltau1_m_m = ltau1_m_m[passcut]\n",
    "                    ltau2_m_m = ltau2_m_m[passcut]\n",
    "                    ltau3_m_m = ltau3_m_m[passcut]\n",
    "                    stau1_m_m = stau1_m_m[passcut]\n",
    "                    stau2_m_m = stau2_m_m[passcut]\n",
    "                    stau3_m_m = stau3_m_m[passcut]\n",
    "                    pass\n",
    "                elif m1==0 and m2==0:\n",
    "                    df_QCD = pd.read_hdf(\"/global/cfs/projectdirs/m3246/AnomalyDetection/LHCO/events_anomalydetection_DelphesPythia8_v2_qcd_features.h5\")\n",
    "                    df_extra_QCD = pd.read_hdf(\"/global/cfs/projectdirs/m3246/AnomalyDetection/LHCO/events_anomalydetection_qcd_extra_inneronly_features.h5\")\n",
    "                    df_QCD = pd.concat([df_QCD, df_extra_QCD], axis=0)\n",
    "                    \n",
    "                    lmass_m_m = np.array(df_QCD[[\"mj1\"]]).flatten()/1000.\n",
    "                    smass_m_m = np.array(df_QCD[[\"mj2\"]]).flatten()/1000.\n",
    "                    \n",
    "                    #check jet ordering\n",
    "                    for i in range(int(len(lmass_m_m))):\n",
    "                        if lmass_m_m[i] > smass_m_m[i]:\n",
    "                            continue\n",
    "                        elif lmass_m_m[i] < smass_m_m[i]:\n",
    "                            lmass_m_m[i], smass_m_m[i] = smass_m_m[i], lmass_m_m[i]\n",
    "                        \n",
    "                    ltau1_m_m = np.array(df_QCD[[\"tau1j1\"]]).flatten()\n",
    "                    ltau2_m_m = np.array(df_QCD[[\"tau2j1\"]]).flatten()\n",
    "                    ltau3_m_m = np.array(df_QCD[[\"tau3j1\"]]).flatten()\n",
    "                    stau1_m_m = np.array(df_QCD[[\"tau1j2\"]]).flatten()\n",
    "                    stau2_m_m = np.array(df_QCD[[\"tau2j2\"]]).flatten()\n",
    "                    stau3_m_m = np.array(df_QCD[[\"tau3j2\"]]).flatten()\n",
    "                    mjj = computemjj_pd(df_QCD)/1000.\n",
    "                    mjjs[m1,m2] = mjj\n",
    "                    passcut = (mjj > 3.3) * (mjj < 3.7)\n",
    "                    lmass_m_m = lmass_m_m[passcut]\n",
    "                    smass_m_m = smass_m_m[passcut]\n",
    "                    ltau1_m_m = ltau1_m_m[passcut]\n",
    "                    ltau2_m_m = ltau2_m_m[passcut]\n",
    "                    ltau3_m_m = ltau3_m_m[passcut]\n",
    "                    stau1_m_m = stau1_m_m[passcut]\n",
    "                    stau2_m_m = stau2_m_m[passcut]\n",
    "                    stau3_m_m = stau3_m_m[passcut]\n",
    "\n",
    "                    mu_m = np.mean(lmass_m_m)\n",
    "                    mu_t = np.mean(ltau2_m_m/(ltau1_m_m+0.0001))\n",
    "                    mu_t2 = np.mean(ltau3_m_m/(ltau2_m_m+0.0001))\n",
    "                    sd_m = np.std(lmass_m_m)\n",
    "                    sd_t = np.std(ltau2_m_m/(ltau1_m_m+0.0001))\n",
    "                    sd_t2 = np.std(ltau3_m_m/(ltau2_m_m+0.0001))\n",
    "                    pass\n",
    "                else:\n",
    "                    continue\n",
    "\n",
    "                ms = np.stack([lmass_m_m,smass_m_m],axis=1)\n",
    "                ts = np.stack([ltau2_m_m/(ltau1_m_m+0.0001),stau2_m_m/(stau1_m_m+0.001)],axis=1)\n",
    "                ts2 = np.stack([ltau3_m_m/(ltau2_m_m+0.0001),stau3_m_m/(stau2_m_m+0.001)],axis=1)\n",
    "                order1 = [np.argmax(ms[i]) for i in range(len(ms))]\n",
    "                order2 = [np.argmin(ms[i]) for i in range(len(ms))]\n",
    "                mJ1 = np.array([ms[i][order1[i]] for i in range(len(ms))])\n",
    "                mJ2 = np.array([ms[i][order2[i]] for i in range(len(ms))])\n",
    "                \n",
    "                mj1_list.append(mJ1)\n",
    "                mj2_list.append(mJ2)\n",
    "                x[m1,m2,qq] = np.stack([(mJ2 - mu_m)/sd_m,\n",
    "                                        ((mJ1 - mJ2) - mu_m)/sd_m,\n",
    "                                        (np.array([ts[i][order2[i]] for i in range(len(ts))]) - mu_t)/sd_t,\n",
    "                                        (np.array([ts[i][order1[i]] for i in range(len(ts))]) - mu_t)/sd_t,\n",
    "                                        (np.array([ts2[i][order2[i]] for i in range(len(ts2))]) - mu_t2)/sd_t2,\n",
    "                                        (np.array([ts2[i][order1[i]] for i in range(len(ts2))]) - mu_t2)/sd_t2],axis=1)\n",
    "                lmass_vec[m1,m2]=lmass_m_m\n",
    "                pass\n",
    "            pass\n",
    "        pass\n",
    "    \n",
    "    x_array = []\n",
    "    for m1 in mass_range:\n",
    "        for m2 in mass_range:\n",
    "            for qq in ['qq','qqq']:\n",
    "                if (m1==0 and m2>0 or m2==0 and m1>0):\n",
    "                    continue\n",
    "                x_array+=[x[m1,m2,qq]]\n",
    "    # with open(\"/pscratch/sd/g/gupsingh/x_array_fixed.pkl\", \"wb\") as f:\n",
    "    #     pickle.dump(x_array, f)"
   ]
  },
  {
   "cell_type": "code",
   "execution_count": 77,
   "id": "cb30d414-f979-4c98-848a-2f2b03872093",
   "metadata": {
    "tags": []
   },
   "outputs": [],
   "source": [
    "# with open(\"/pscratch/sd/g/gupsingh/x_array_fixed_EXTRAQCD.pkl\", \"wb\") as f:\n",
    "#         pickle.dump(x_array, f)"
   ]
  },
  {
   "cell_type": "code",
   "execution_count": 2,
   "id": "fb3d21c1-0277-406b-a510-170ed04aa6e4",
   "metadata": {
    "tags": []
   },
   "outputs": [],
   "source": [
    "qq = \"qq\"\n",
    "qqq = \"qqq\"\n",
    "mass_range = [0,0.5,1,1.5,2,2.5,3,3.5,4,4.5,5,5.5,6]\n",
    "def load_data(filename, noise_dims):\n",
    "\n",
    "    x = {}\n",
    "    x_array_read = np.load(filename,allow_pickle=True)\n",
    "    mycounter = -1\n",
    "    for m1 in mass_range:\n",
    "        for m2 in mass_range:\n",
    "            for q in ['qq','qqq']:\n",
    "                if (m1==0 and m2>0 or m2==0 and m1>0):\n",
    "                    continue\n",
    "                mycounter+=1\n",
    "                x[m1,m2,q, False] = x_array_read[mycounter]\n",
    "\n",
    "                if noise_dims and qq == \"qq\":\n",
    "                    for i in range(noise_dims):\n",
    "                        noise_feature = np.random.normal(0, 1, len(x[m1,m2,qq, False])).reshape(-1, 1)\n",
    "                        if i == 0:\n",
    "                            x[m1, m2, qq, True] = np.hstack((x[m1,m2, qq, False], noise_feature))\n",
    "                        if i > 0:\n",
    "                            x[m1, m2, qq, True] = np.hstack((x[m1,m2, qq, True], noise_feature))\n",
    "    \n",
    "    return x\n",
    "            \n",
    "x = load_data(\"/pscratch/sd/g/gupsingh/x_array_fixed_EXTRAQCD.pkl\", noise_dims = 0)"
   ]
  },
  {
   "cell_type": "code",
   "execution_count": 79,
   "id": "a346b980-4e1c-495b-a8e3-63b924526b4c",
   "metadata": {
    "tags": []
   },
   "outputs": [
    {
     "data": {
      "text/plain": [
       "'qq'"
      ]
     },
     "execution_count": 79,
     "metadata": {},
     "output_type": "execute_result"
    }
   ],
   "source": [
    "qq"
   ]
  },
  {
   "cell_type": "code",
   "execution_count": 7,
   "id": "00f43733-3ab9-459d-ac40-40015a5f7494",
   "metadata": {
    "tags": []
   },
   "outputs": [],
   "source": [
    "qqq = \"qqq\""
   ]
  },
  {
   "cell_type": "code",
   "execution_count": 4,
   "id": "4ff5d9dd-a622-4056-84f9-b9ab002eaa10",
   "metadata": {
    "tags": []
   },
   "outputs": [
    {
     "data": {
      "text/plain": [
       "array([[-1.14665672, -1.47740833, -0.062499  , -1.25234628,  0.34424119,\n",
       "        -0.18234057],\n",
       "       [-1.1485848 , -1.69665221, -0.68285589,  0.03427782, -1.05777344,\n",
       "         0.43482892],\n",
       "       [-1.13256251, -1.54994277, -1.34348194, -0.39738137, -0.94866465,\n",
       "        -1.59384151],\n",
       "       ...,\n",
       "       [-1.17564907, -1.62919958, -0.78901765, -1.31348882, -1.72732896,\n",
       "        -0.81924402],\n",
       "       [-1.19031832, -1.70990866, -0.45414287,  0.11278897, -0.79888456,\n",
       "         0.44758715],\n",
       "       [-1.23108103, -1.64640917, -1.9916619 , -1.64001503, -0.33094625,\n",
       "         0.36949878]])"
      ]
     },
     "execution_count": 4,
     "metadata": {},
     "output_type": "execute_result"
    }
   ],
   "source": [
    "x[1, 1, qq, False]"
   ]
  },
  {
   "cell_type": "code",
   "execution_count": 28,
   "id": "34020fcb-67cb-4898-b1b1-3baf41e83e00",
   "metadata": {
    "tags": []
   },
   "outputs": [
    {
     "data": {
      "text/plain": [
       "(121352, 16)"
      ]
     },
     "execution_count": 28,
     "metadata": {},
     "output_type": "execute_result"
    }
   ],
   "source": [
    "np.shape(x[0,0, qq, True])"
   ]
  },
  {
   "cell_type": "code",
   "execution_count": 5,
   "id": "7e092035-c977-46f5-a214-d3b0cd5ccd77",
   "metadata": {
    "tags": []
   },
   "outputs": [
    {
     "data": {
      "text/plain": [
       "(734210, 6)"
      ]
     },
     "execution_count": 5,
     "metadata": {},
     "output_type": "execute_result"
    }
   ],
   "source": [
    "np.shape(x[0,0, qq, False])"
   ]
  },
  {
   "cell_type": "code",
   "execution_count": 44,
   "id": "7833b6c3-ef98-41f1-8b77-d236321dc8d3",
   "metadata": {
    "tags": []
   },
   "outputs": [
    {
     "data": {
      "text/plain": [
       "(121352, 6)"
      ]
     },
     "execution_count": 44,
     "metadata": {},
     "output_type": "execute_result"
    }
   ],
   "source": [
    "np.shape(x[0,0, qqq, False])"
   ]
  },
  {
   "cell_type": "code",
   "execution_count": 82,
   "id": "4a1744d4-d3f9-464a-af14-4df9f8b125ca",
   "metadata": {
    "collapsed": true,
    "jupyter": {
     "outputs_hidden": true
    },
    "tags": []
   },
   "outputs": [
    {
     "name": "stdout",
     "output_type": "stream",
     "text": [
      "0.5 0.5\n",
      "0.5 1\n",
      "0.5 1.5\n",
      "0.5 2\n",
      "0.5 2.5\n",
      "0.5 3\n",
      "0.5 3.5\n",
      "0.5 4\n",
      "0.5 4.5\n",
      "0.5 5\n",
      "0.5 5.5\n",
      "0.5 6\n",
      "1 0.5\n",
      "1 1\n",
      "1 1.5\n",
      "1 2\n",
      "1 2.5\n",
      "1 3\n",
      "1 3.5\n",
      "1 4\n",
      "1 4.5\n",
      "1 5\n",
      "1 5.5\n",
      "1 6\n",
      "1.5 0.5\n",
      "1.5 1\n",
      "1.5 1.5\n",
      "1.5 2\n",
      "1.5 2.5\n",
      "1.5 3\n",
      "1.5 3.5\n",
      "1.5 4\n",
      "1.5 4.5\n",
      "1.5 5\n",
      "1.5 5.5\n",
      "1.5 6\n",
      "2 0.5\n",
      "2 1\n",
      "2 1.5\n",
      "2 2\n",
      "2 2.5\n",
      "2 3\n",
      "2 3.5\n",
      "2 4\n",
      "2 4.5\n",
      "2 5\n",
      "2 5.5\n",
      "2 6\n",
      "2.5 0.5\n",
      "2.5 1\n",
      "2.5 1.5\n",
      "2.5 2\n",
      "2.5 2.5\n",
      "2.5 3\n",
      "2.5 3.5\n",
      "2.5 4\n",
      "2.5 4.5\n",
      "2.5 5\n",
      "2.5 5.5\n",
      "2.5 6\n",
      "3 0.5\n",
      "3 1\n",
      "3 1.5\n",
      "3 2\n",
      "3 2.5\n",
      "3 3\n",
      "3 3.5\n",
      "3 4\n",
      "3 4.5\n",
      "3 5\n",
      "3 5.5\n",
      "3 6\n",
      "3.5 0.5\n",
      "3.5 1\n",
      "3.5 1.5\n",
      "3.5 2\n",
      "3.5 2.5\n",
      "3.5 3\n",
      "3.5 3.5\n",
      "3.5 4\n",
      "3.5 4.5\n",
      "3.5 5\n",
      "3.5 5.5\n",
      "3.5 6\n",
      "4 0.5\n",
      "4 1\n",
      "4 1.5\n",
      "4 2\n",
      "4 2.5\n",
      "4 3\n",
      "4 3.5\n",
      "4 4\n",
      "4 4.5\n",
      "4 5\n",
      "4 5.5\n",
      "4 6\n",
      "4.5 0.5\n",
      "4.5 1\n",
      "4.5 1.5\n",
      "4.5 2\n",
      "4.5 2.5\n",
      "4.5 3\n",
      "4.5 3.5\n",
      "4.5 4\n",
      "4.5 4.5\n",
      "4.5 5\n",
      "4.5 5.5\n",
      "4.5 6\n",
      "5 0.5\n",
      "5 1\n",
      "5 1.5\n",
      "5 2\n",
      "5 2.5\n",
      "5 3\n",
      "5 3.5\n",
      "5 4\n",
      "5 4.5\n",
      "5 5\n",
      "5 5.5\n",
      "5 6\n",
      "5.5 0.5\n",
      "5.5 1\n",
      "5.5 1.5\n",
      "5.5 2\n",
      "5.5 2.5\n",
      "5.5 3\n",
      "5.5 3.5\n",
      "5.5 4\n",
      "5.5 4.5\n",
      "5.5 5\n",
      "5.5 5.5\n",
      "5.5 6\n",
      "6 0.5\n",
      "6 1\n",
      "6 1.5\n",
      "6 2\n",
      "6 2.5\n",
      "6 3\n",
      "6 3.5\n",
      "6 4\n",
      "6 4.5\n",
      "6 5\n",
      "6 5.5\n",
      "6 6\n"
     ]
    }
   ],
   "source": [
    "x_data_qq = []\n",
    "y_data_qq = []\n",
    "qq = \"qq\"\n",
    "mass_range = [0,0.5,1,1.5,2,2.5,3,3.5,4,4.5,5,5.5,6]\n",
    "noise = False\n",
    "for m1 in mass_range[1:]:\n",
    "    for m2 in mass_range[1:]:\n",
    "        for qq in ['qq']:\n",
    "            print(m1,m2)\n",
    "            x_aug_0 = np.append(np.append(x[0,0,qq, noise],m1*np.reshape(np.ones(len(x[0,0,qq, noise])),[len(x[0,0,qq, noise]),1]),1),m2*np.reshape(np.ones(len(x[0,0,qq, noise])),[len(x[0,0,qq, noise]),1]),1)\n",
    "            x_aug_m = np.append(np.append(x[m1,m2,qq, noise],m1*np.reshape(np.ones(len(x[m1,m2,qq, noise])),[len(x[m1,m2,qq, noise]),1]),1),m2*np.reshape(np.ones(len(x[m1,m2,qq, noise])),[len(x[m1,m2,qq, noise]),1]),1)\n",
    "            if (m1==0.5 and m2==0.5):\n",
    "                x_data_qq = np.concatenate([x_aug_0,x_aug_m])\n",
    "                y_data_qq = np.concatenate([np.zeros(len(x_aug_0)),np.ones(len(x_aug_m))])\n",
    "            else:\n",
    "                x_data_qq = np.concatenate([x_data_qq,x_aug_0,x_aug_m])\n",
    "                y_data_qq = np.concatenate([y_data_qq,np.zeros(len(x_aug_0)),np.ones(len(x_aug_m))])"
   ]
  },
  {
   "cell_type": "code",
   "execution_count": 11,
   "id": "b6767038-2377-47a2-ad0c-f8f7a9b098cb",
   "metadata": {
    "collapsed": true,
    "jupyter": {
     "outputs_hidden": true
    },
    "tags": []
   },
   "outputs": [
    {
     "name": "stdout",
     "output_type": "stream",
     "text": [
      "0.5 0.5\n",
      "0.5 1\n",
      "0.5 1.5\n",
      "0.5 2\n",
      "0.5 2.5\n",
      "0.5 3\n",
      "0.5 3.5\n",
      "0.5 4\n",
      "0.5 4.5\n",
      "0.5 5\n",
      "0.5 5.5\n",
      "0.5 6\n",
      "1 0.5\n",
      "1 1\n",
      "1 1.5\n",
      "1 2\n",
      "1 2.5\n",
      "1 3\n",
      "1 3.5\n",
      "1 4\n",
      "1 4.5\n",
      "1 5\n",
      "1 5.5\n",
      "1 6\n",
      "1.5 0.5\n",
      "1.5 1\n",
      "1.5 1.5\n",
      "1.5 2\n",
      "1.5 2.5\n",
      "1.5 3\n",
      "1.5 3.5\n",
      "1.5 4\n",
      "1.5 4.5\n",
      "1.5 5\n",
      "1.5 5.5\n",
      "1.5 6\n",
      "2 0.5\n",
      "2 1\n",
      "2 1.5\n",
      "2 2\n",
      "2 2.5\n",
      "2 3\n",
      "2 3.5\n",
      "2 4\n",
      "2 4.5\n",
      "2 5\n",
      "2 5.5\n",
      "2 6\n",
      "2.5 0.5\n",
      "2.5 1\n",
      "2.5 1.5\n",
      "2.5 2\n",
      "2.5 2.5\n",
      "2.5 3\n",
      "2.5 3.5\n",
      "2.5 4\n",
      "2.5 4.5\n",
      "2.5 5\n",
      "2.5 5.5\n",
      "2.5 6\n",
      "3 0.5\n",
      "3 1\n",
      "3 1.5\n",
      "3 2\n",
      "3 2.5\n",
      "3 3\n",
      "3 3.5\n",
      "3 4\n",
      "3 4.5\n",
      "3 5\n",
      "3 5.5\n",
      "3 6\n",
      "3.5 0.5\n",
      "3.5 1\n",
      "3.5 1.5\n",
      "3.5 2\n",
      "3.5 2.5\n",
      "3.5 3\n",
      "3.5 3.5\n",
      "3.5 4\n",
      "3.5 4.5\n",
      "3.5 5\n",
      "3.5 5.5\n",
      "3.5 6\n",
      "4 0.5\n",
      "4 1\n",
      "4 1.5\n",
      "4 2\n",
      "4 2.5\n",
      "4 3\n",
      "4 3.5\n",
      "4 4\n",
      "4 4.5\n",
      "4 5\n",
      "4 5.5\n",
      "4 6\n",
      "4.5 0.5\n",
      "4.5 1\n",
      "4.5 1.5\n",
      "4.5 2\n",
      "4.5 2.5\n",
      "4.5 3\n",
      "4.5 3.5\n",
      "4.5 4\n",
      "4.5 4.5\n",
      "4.5 5\n",
      "4.5 5.5\n",
      "4.5 6\n",
      "5 0.5\n",
      "5 1\n",
      "5 1.5\n",
      "5 2\n",
      "5 2.5\n",
      "5 3\n",
      "5 3.5\n",
      "5 4\n",
      "5 4.5\n",
      "5 5\n",
      "5 5.5\n",
      "5 6\n",
      "5.5 0.5\n",
      "5.5 1\n",
      "5.5 1.5\n",
      "5.5 2\n",
      "5.5 2.5\n",
      "5.5 3\n",
      "5.5 3.5\n",
      "5.5 4\n",
      "5.5 4.5\n",
      "5.5 5\n",
      "5.5 5.5\n",
      "5.5 6\n",
      "6 0.5\n",
      "6 1\n",
      "6 1.5\n",
      "6 2\n",
      "6 2.5\n",
      "6 3\n",
      "6 3.5\n",
      "6 4\n",
      "6 4.5\n",
      "6 5\n",
      "6 5.5\n",
      "6 6\n"
     ]
    }
   ],
   "source": [
    "x_data_qqq = []\n",
    "y_data_qqq = []\n",
    "mass_range = [0,0.5,1,1.5,2,2.5,3,3.5,4,4.5,5,5.5,6]\n",
    "noise = False\n",
    "for m1 in mass_range[1:]:\n",
    "    for m2 in mass_range[1:]:\n",
    "        for qq in ['qqq']:\n",
    "            qq = \"qqq\"\n",
    "            print(m1,m2)\n",
    "            x_aug_0 = np.append(np.append(x[0,0,qq, noise],m1*np.reshape(np.ones(len(x[0,0,qq, noise])),[len(x[0,0,qq, noise]),1]),1),m2*np.reshape(np.ones(len(x[0,0,qq, noise])),[len(x[0,0,qq, noise]),1]),1)\n",
    "            x_aug_m = np.append(np.append(x[m1,m2,qq, noise],m1*np.reshape(np.ones(len(x[m1,m2,qq, noise])),[len(x[m1,m2,qq, noise]),1]),1),m2*np.reshape(np.ones(len(x[m1,m2,qq, noise])),[len(x[m1,m2,qq, noise]),1]),1)\n",
    "            if (m1==0.5 and m2==0.5):\n",
    "                x_data_qqq = np.concatenate([x_aug_0,x_aug_m])\n",
    "                y_data_qqq = np.concatenate([np.zeros(len(x_aug_0)),np.ones(len(x_aug_m))])\n",
    "            else:\n",
    "                x_data_qqq = np.concatenate([x_data_qqq,x_aug_0,x_aug_m])\n",
    "                y_data_qqq = np.concatenate([y_data_qqq,np.zeros(len(x_aug_0)),np.ones(len(x_aug_m))])"
   ]
  },
  {
   "cell_type": "code",
   "execution_count": 83,
   "id": "498c3cdd-d24b-4362-8c06-3d52fd96f728",
   "metadata": {
    "tags": []
   },
   "outputs": [],
   "source": [
    "# np.save(\"/pscratch/sd/g/gupsingh/x_parametrized_data_qq_extra\", x_data_qq)\n",
    "# np.save(\"/pscratch/sd/g/gupsingh/y_parametrized_data_qq_extra\", y_data_qq)"
   ]
  },
  {
   "cell_type": "code",
   "execution_count": 9,
   "id": "ce117b67-e856-4863-aab4-29028b02b021",
   "metadata": {
    "tags": []
   },
   "outputs": [],
   "source": [
    "# np.save(\"/pscratch/sd/g/gupsingh/x_parametrized_data_qqq_fixed\", x_data_qqq)\n",
    "# np.save(\"/pscratch/sd/g/gupsingh/y_parametrized_data_qqq_fixed\", y_data_qqq)"
   ]
  },
  {
   "cell_type": "code",
   "execution_count": 6,
   "id": "4f92dce1-60f8-46be-8b38-4f24e621285b",
   "metadata": {
    "tags": []
   },
   "outputs": [],
   "source": [
    "x_data_qq = np.load(\"/pscratch/sd/g/gupsingh/x_parametrized_data_qq_extra.npy\")\n",
    "y_data_qq = np.load(\"/pscratch/sd/g/gupsingh/y_parametrized_data_qq_extra.npy\")"
   ]
  },
  {
   "cell_type": "code",
   "execution_count": 54,
   "id": "dba07f7e-0dd6-4c21-916c-a2b736ebeb6c",
   "metadata": {
    "tags": []
   },
   "outputs": [],
   "source": [
    "# x_data_qq = np.load(\"x_parametrized_data_qq_fixed.npy\")\n",
    "# y_data_qq = np.load(\"y_parametrized_data_qq_fixed.npy\")"
   ]
  },
  {
   "cell_type": "code",
   "execution_count": 7,
   "id": "152a6620-8abb-4494-a27c-08a1782c50c9",
   "metadata": {
    "tags": []
   },
   "outputs": [],
   "source": [
    "X_train_qq, X_val_qq, Y_train_qq, Y_val_qq = train_test_split(x_data_qq, y_data_qq, test_size=0.5, random_state = 42)"
   ]
  },
  {
   "cell_type": "code",
   "execution_count": 85,
   "id": "f620f46c-8a23-4fb5-aeac-7b112796fa50",
   "metadata": {
    "tags": []
   },
   "outputs": [
    {
     "data": {
      "text/plain": [
       "57750203"
      ]
     },
     "execution_count": 85,
     "metadata": {},
     "output_type": "execute_result"
    }
   ],
   "source": [
    "len(Y_train_qq)"
   ]
  },
  {
   "cell_type": "code",
   "execution_count": 12,
   "id": "a556f55d-a155-455c-ba9e-1ead6ed9871f",
   "metadata": {
    "tags": []
   },
   "outputs": [],
   "source": [
    "X_train_qqq, X_val_qqq, Y_train_qqq, Y_val_qqq = train_test_split(x_data_qqq, y_data_qqq, test_size=0.5, random_state = 42)"
   ]
  },
  {
   "cell_type": "code",
   "execution_count": 19,
   "id": "d38d75be-73cd-4d00-ab34-929140d42f29",
   "metadata": {
    "tags": []
   },
   "outputs": [
    {
     "data": {
      "text/plain": [
       "array([[-1.01357652, -1.73295289,  1.20862549, ...,  1.01502877,\n",
       "         2.        ,  1.5       ],\n",
       "       [-0.82867141,  1.29552367, -0.08583506, ..., -2.22494426,\n",
       "         3.5       ,  3.5       ],\n",
       "       [-1.13499651,  1.07107216, -0.36806473, ...,  0.89796848,\n",
       "         1.        ,  6.        ],\n",
       "       ...,\n",
       "       [-1.45647626, -1.72667151,  1.86582934, ...,  1.60819248,\n",
       "         5.5       ,  0.5       ],\n",
       "       [-1.22105544,  1.56863124,  1.07320472, ...,  1.3650016 ,\n",
       "         3.5       ,  5.5       ],\n",
       "       [ 0.94213325, -1.13824551, -1.30352825, ..., -2.13668104,\n",
       "         5.        ,  6.        ]])"
      ]
     },
     "execution_count": 19,
     "metadata": {},
     "output_type": "execute_result"
    }
   ],
   "source": [
    "X_train_qqq"
   ]
  },
  {
   "cell_type": "code",
   "execution_count": 11,
   "id": "3017eca6-f629-4a86-a0a5-f040ea845681",
   "metadata": {
    "tags": []
   },
   "outputs": [],
   "source": [
    "# x_data_qqq = np.load(\"x_data_qqq.npy\")\n",
    "# y_data_qqq = np.load(\"y_data_qqq.npy\")"
   ]
  },
  {
   "cell_type": "code",
   "execution_count": 383,
   "id": "7d414d68-a7a6-4dd4-b83c-1c15885b1431",
   "metadata": {
    "tags": []
   },
   "outputs": [
    {
     "data": {
      "text/plain": [
       "(27249420, 8)"
      ]
     },
     "execution_count": 383,
     "metadata": {},
     "output_type": "execute_result"
    }
   ],
   "source": [
    "np.shape(x_data_qq)"
   ]
  },
  {
   "cell_type": "code",
   "execution_count": 9,
   "id": "caaf14a4-0cd1-4109-a03c-7517e76bca8e",
   "metadata": {
    "tags": []
   },
   "outputs": [
    {
     "data": {
      "text/html": [
       "Tracking run with wandb version 0.16.3"
      ],
      "text/plain": [
       "<IPython.core.display.HTML object>"
      ]
     },
     "metadata": {},
     "output_type": "display_data"
    },
    {
     "data": {
      "text/html": [
       "Run data is saved locally in <code>/pscratch/sd/g/gupsingh/wandb/run-20240229_203935-cdftttvg</code>"
      ],
      "text/plain": [
       "<IPython.core.display.HTML object>"
      ]
     },
     "metadata": {},
     "output_type": "display_data"
    },
    {
     "data": {
      "text/html": [
       "Syncing run <strong><a href='https://wandb.ai/gup-singh/SemiWeakly/runs/cdftttvg' target=\"_blank\">helpful-puddle-79</a></strong> to <a href='https://wandb.ai/gup-singh/SemiWeakly' target=\"_blank\">Weights & Biases</a> (<a href='https://wandb.me/run' target=\"_blank\">docs</a>)<br/>"
      ],
      "text/plain": [
       "<IPython.core.display.HTML object>"
      ]
     },
     "metadata": {},
     "output_type": "display_data"
    },
    {
     "data": {
      "text/html": [
       " View project at <a href='https://wandb.ai/gup-singh/SemiWeakly' target=\"_blank\">https://wandb.ai/gup-singh/SemiWeakly</a>"
      ],
      "text/plain": [
       "<IPython.core.display.HTML object>"
      ]
     },
     "metadata": {},
     "output_type": "display_data"
    },
    {
     "data": {
      "text/html": [
       " View run at <a href='https://wandb.ai/gup-singh/SemiWeakly/runs/cdftttvg' target=\"_blank\">https://wandb.ai/gup-singh/SemiWeakly/runs/cdftttvg</a>"
      ],
      "text/plain": [
       "<IPython.core.display.HTML object>"
      ]
     },
     "metadata": {},
     "output_type": "display_data"
    },
    {
     "name": "stdout",
     "output_type": "stream",
     "text": [
      "Epoch 1/2\n",
      "56380/56397 [============================>.] - ETA: 0s - loss: 0.0720 - accuracy: 0.9743"
     ]
    },
    {
     "name": "stderr",
     "output_type": "stream",
     "text": [
      "/global/homes/g/gupsingh/.conda/envs/research/lib/python3.11/site-packages/keras/src/engine/training.py:3103: UserWarning: You are saving your model as an HDF5 file via `model.save()`. This file format is considered legacy. We recommend using instead the native Keras format, e.g. `model.save('my_model.keras')`.\n",
      "  saving_api.save_model(\n"
     ]
    },
    {
     "name": "stdout",
     "output_type": "stream",
     "text": [
      "INFO:tensorflow:Assets written to: /pscratch/sd/g/gupsingh/wandb/run-20240229_203935-cdftttvg/files/model-best/assets\n"
     ]
    },
    {
     "name": "stderr",
     "output_type": "stream",
     "text": [
      "INFO:tensorflow:Assets written to: /pscratch/sd/g/gupsingh/wandb/run-20240229_203935-cdftttvg/files/model-best/assets\n",
      "\u001b[34m\u001b[1mwandb\u001b[0m: Adding directory to artifact (/pscratch/sd/g/gupsingh/wandb/run-20240229_203935-cdftttvg/files/model-best)... Done. 0.0s\n"
     ]
    },
    {
     "name": "stdout",
     "output_type": "stream",
     "text": [
      "56397/56397 [==============================] - 216s 4ms/step - loss: 0.0720 - accuracy: 0.9743 - val_loss: 0.0689 - val_accuracy: 0.9753\n",
      "Epoch 2/2\n",
      "56387/56397 [============================>.] - ETA: 0s - loss: 0.0693 - accuracy: 0.9751"
     ]
    },
    {
     "name": "stderr",
     "output_type": "stream",
     "text": [
      "/global/homes/g/gupsingh/.conda/envs/research/lib/python3.11/site-packages/keras/src/engine/training.py:3103: UserWarning: You are saving your model as an HDF5 file via `model.save()`. This file format is considered legacy. We recommend using instead the native Keras format, e.g. `model.save('my_model.keras')`.\n",
      "  saving_api.save_model(\n"
     ]
    },
    {
     "name": "stdout",
     "output_type": "stream",
     "text": [
      "INFO:tensorflow:Assets written to: /pscratch/sd/g/gupsingh/wandb/run-20240229_203935-cdftttvg/files/model-best/assets\n"
     ]
    },
    {
     "name": "stderr",
     "output_type": "stream",
     "text": [
      "INFO:tensorflow:Assets written to: /pscratch/sd/g/gupsingh/wandb/run-20240229_203935-cdftttvg/files/model-best/assets\n",
      "\u001b[34m\u001b[1mwandb\u001b[0m: Adding directory to artifact (/pscratch/sd/g/gupsingh/wandb/run-20240229_203935-cdftttvg/files/model-best)... Done. 0.0s\n"
     ]
    },
    {
     "name": "stdout",
     "output_type": "stream",
     "text": [
      "56397/56397 [==============================] - 209s 4ms/step - loss: 0.0693 - accuracy: 0.9751 - val_loss: 0.0683 - val_accuracy: 0.9755\n"
     ]
    },
    {
     "name": "stderr",
     "output_type": "stream",
     "text": [
      "wandb: WARNING Source type is set to 'repo' but some required information is missing from the environment. A job will not be created from this run. See https://docs.wandb.ai/guides/launch/create-job\n"
     ]
    },
    {
     "data": {
      "text/html": [
       "<style>\n",
       "    table.wandb td:nth-child(1) { padding: 0 10px; text-align: left ; width: auto;} td:nth-child(2) {text-align: left ; width: 100%}\n",
       "    .wandb-row { display: flex; flex-direction: row; flex-wrap: wrap; justify-content: flex-start; width: 100% }\n",
       "    .wandb-col { display: flex; flex-direction: column; flex-basis: 100%; flex: 1; padding: 10px; }\n",
       "    </style>\n",
       "<div class=\"wandb-row\"><div class=\"wandb-col\"><h3>Run history:</h3><br/><table class=\"wandb\"><tr><td>accuracy</td><td>▁█</td></tr><tr><td>epoch</td><td>▁█</td></tr><tr><td>loss</td><td>█▁</td></tr><tr><td>val_accuracy</td><td>▁█</td></tr><tr><td>val_loss</td><td>█▁</td></tr></table><br/></div><div class=\"wandb-col\"><h3>Run summary:</h3><br/><table class=\"wandb\"><tr><td>accuracy</td><td>0.97507</td></tr><tr><td>best_epoch</td><td>1</td></tr><tr><td>best_val_loss</td><td>0.06828</td></tr><tr><td>epoch</td><td>1</td></tr><tr><td>loss</td><td>0.06932</td></tr><tr><td>val_accuracy</td><td>0.97547</td></tr><tr><td>val_loss</td><td>0.06828</td></tr></table><br/></div></div>"
      ],
      "text/plain": [
       "<IPython.core.display.HTML object>"
      ]
     },
     "metadata": {},
     "output_type": "display_data"
    },
    {
     "data": {
      "text/html": [
       " View run <strong style=\"color:#cdcd00\">helpful-puddle-79</strong> at: <a href='https://wandb.ai/gup-singh/SemiWeakly/runs/cdftttvg' target=\"_blank\">https://wandb.ai/gup-singh/SemiWeakly/runs/cdftttvg</a><br/>Synced 5 W&B file(s), 1 media file(s), 10 artifact file(s) and 1 other file(s)"
      ],
      "text/plain": [
       "<IPython.core.display.HTML object>"
      ]
     },
     "metadata": {},
     "output_type": "display_data"
    },
    {
     "data": {
      "text/html": [
       "Find logs at: <code>/pscratch/sd/g/gupsingh/wandb/run-20240229_203935-cdftttvg/logs</code>"
      ],
      "text/plain": [
       "<IPython.core.display.HTML object>"
      ]
     },
     "metadata": {},
     "output_type": "display_data"
    }
   ],
   "source": [
    "import wandb\n",
    "from tensorflow.keras.models import Sequential\n",
    "from tensorflow.keras.layers import Dense, BatchNormalization\n",
    "from wandb.keras import WandbCallback\n",
    "\n",
    "pscratch_dir = \"/pscratch/sd/g/gupsingh/\"\n",
    "os.environ[\"WANDB_DIR\"] = pscratch_dir\n",
    "\n",
    "config = {\n",
    "    \"layer_1_neurons\": 256,\n",
    "    \"layer_2_neurons\": 128,\n",
    "    \"layer_3_neurons\": 64,\n",
    "    \"output_neurons\": 1,\n",
    "    \"activation\": \"relu\",\n",
    "    \"output_activation\": \"sigmoid\",\n",
    "    \"optimizer\": \"adam\",\n",
    "    \"learning_rate\": 0.001,\n",
    "    \"loss\": \"binary_crossentropy\",\n",
    "    \"epochs\": 5000,\n",
    "    \"batch_size\": 1024\n",
    "}\n",
    "\n",
    "wandb.init(project=\"SemiWeakly\", \n",
    "           group=\"Parametrized\", \n",
    "           entity='gup-singh',\n",
    "           mode = 'online',\n",
    "           config=config)\n",
    "\n",
    "config = wandb.config\n",
    "run_name = wandb.run.name\n",
    "\n",
    "es = tf.keras.callbacks.EarlyStopping(monitor='val_loss', patience=5)\n",
    "\n",
    "def train_parametrized(X_train, Y_train, X_val, Y_val, config, return_history=False):\n",
    "    model_parametrized = Sequential()\n",
    "    model_parametrized.add(Dense(config[\"layer_1_neurons\"], input_dim=np.shape(X_train)[1], activation=config[\"activation\"]))\n",
    "    model_parametrized.add(BatchNormalization())\n",
    "    model_parametrized.add(Dense(config[\"layer_2_neurons\"], activation=config[\"activation\"]))\n",
    "    model_parametrized.add(BatchNormalization())\n",
    "    model_parametrized.add(Dense(config[\"layer_3_neurons\"], activation=config[\"activation\"]))\n",
    "    model_parametrized.add(BatchNormalization())\n",
    "    model_parametrized.add(Dense(config.output_neurons, activation=config[\"output_activation\"]))\n",
    "    model_parametrized.compile(loss=config[\"loss\"], optimizer=tf.keras.optimizers.Adam(learning_rate=config[\"learning_rate\"]), metrics=['accuracy'])\n",
    "\n",
    "    with tf.device('/GPU:0'):\n",
    "        history_parametrized = model_parametrized.fit(X_train, Y_train, epochs=config.epochs, validation_data=(X_val, Y_val), batch_size=config.batch_size, callbacks=[es, WandbCallback()])\n",
    "        \n",
    "    if return_history:\n",
    "        return model_parametrized, history_parametrized\n",
    "    else:\n",
    "        return model_parametrized\n",
    "\n",
    "model_parametrized, history_parametrized = train_parametrized(X_train_qq, Y_train_qq, X_val_qq, Y_val_qq, config, return_history=True)\n",
    "\n",
    "wandb.finish()\n",
    "\n",
    "#model_parametrized.save(pscratch_dir + run_name + qq + \"notebook\")\n",
    "#model_parametrized.save(pscratch_dir+\"normal\")"
   ]
  },
  {
   "cell_type": "code",
   "execution_count": 19,
   "id": "93cc65bf-55f2-4c03-b79e-5306e8c7c1e8",
   "metadata": {},
   "outputs": [],
   "source": [
    "# num_epochs = len(history_parametrized.history[\"loss\"])\n",
    "# send_slack_message(f\"Notebook Parametrized Training Finished - Epochs: {num_epochs}\")"
   ]
  },
  {
   "cell_type": "code",
   "execution_count": 5,
   "id": "1cc1d496-8476-4e96-a552-30d59b680973",
   "metadata": {},
   "outputs": [],
   "source": [
    "#Diagonistic Plot\n",
    "plt.figure()\n",
    "plt.plot(history_parametrized.history['loss'], label='Training Loss')\n",
    "plt.plot(history_parametrized.history['val_loss'], label='Validation Loss')\n",
    "plt.xlabel('Epoch')\n",
    "plt.ylabel('Loss')\n",
    "plt.title('Training and Validation Loss')\n",
    "img_path = \"plots/parametrized_trainingloss.png\"\n",
    "plt.savefig(img_path)\n",
    "plt.legend()\n",
    "plt.show()\n",
    "\n",
    "from utils import send_slack_plot\n",
    "send_slack_plot(img_path)"
   ]
  },
  {
   "cell_type": "code",
   "execution_count": 57,
   "id": "a2c5b246-03e0-4cd8-a498-49cf32b8d037",
   "metadata": {
    "collapsed": true,
    "jupyter": {
     "outputs_hidden": true
    },
    "tags": []
   },
   "outputs": [
    {
     "name": "stdout",
     "output_type": "stream",
     "text": [
      "Epoch 1/1000\n",
      "2662/2662 [==============================] - 9s 3ms/step - loss: 0.1617 - accuracy: 0.9368 - val_loss: 0.1434 - val_accuracy: 0.9443\n",
      "Epoch 2/1000\n",
      "2662/2662 [==============================] - 7s 3ms/step - loss: 0.1387 - accuracy: 0.9463 - val_loss: 0.1382 - val_accuracy: 0.9466\n",
      "Epoch 3/1000\n",
      "2662/2662 [==============================] - 7s 3ms/step - loss: 0.1362 - accuracy: 0.9472 - val_loss: 0.1359 - val_accuracy: 0.9473\n",
      "Epoch 4/1000\n",
      "2662/2662 [==============================] - 7s 3ms/step - loss: 0.1351 - accuracy: 0.9475 - val_loss: 0.1344 - val_accuracy: 0.9479\n",
      "Epoch 5/1000\n",
      "2662/2662 [==============================] - 7s 3ms/step - loss: 0.1344 - accuracy: 0.9478 - val_loss: 0.1357 - val_accuracy: 0.9473\n",
      "Epoch 6/1000\n",
      "2662/2662 [==============================] - 7s 3ms/step - loss: 0.1339 - accuracy: 0.9480 - val_loss: 0.1364 - val_accuracy: 0.9468\n",
      "Epoch 7/1000\n",
      "2662/2662 [==============================] - 7s 3ms/step - loss: 0.1335 - accuracy: 0.9481 - val_loss: 0.1341 - val_accuracy: 0.9479\n",
      "Epoch 8/1000\n",
      "2662/2662 [==============================] - 7s 3ms/step - loss: 0.1332 - accuracy: 0.9482 - val_loss: 0.1333 - val_accuracy: 0.9483\n",
      "Epoch 9/1000\n",
      "2662/2662 [==============================] - 7s 3ms/step - loss: 0.1331 - accuracy: 0.9483 - val_loss: 0.1343 - val_accuracy: 0.9478\n",
      "Epoch 10/1000\n",
      "2662/2662 [==============================] - 7s 3ms/step - loss: 0.1328 - accuracy: 0.9484 - val_loss: 0.1341 - val_accuracy: 0.9479\n",
      "Epoch 11/1000\n",
      "2662/2662 [==============================] - 7s 3ms/step - loss: 0.1327 - accuracy: 0.9484 - val_loss: 0.1328 - val_accuracy: 0.9484\n",
      "Epoch 12/1000\n",
      "2662/2662 [==============================] - 7s 3ms/step - loss: 0.1325 - accuracy: 0.9485 - val_loss: 0.1330 - val_accuracy: 0.9483\n",
      "Epoch 13/1000\n",
      "2662/2662 [==============================] - 7s 3ms/step - loss: 0.1323 - accuracy: 0.9486 - val_loss: 0.1325 - val_accuracy: 0.9485\n",
      "Epoch 14/1000\n",
      "2662/2662 [==============================] - 7s 3ms/step - loss: 0.1322 - accuracy: 0.9486 - val_loss: 0.1320 - val_accuracy: 0.9487\n",
      "Epoch 15/1000\n",
      "2662/2662 [==============================] - 7s 3ms/step - loss: 0.1320 - accuracy: 0.9487 - val_loss: 0.1324 - val_accuracy: 0.9486\n",
      "Epoch 16/1000\n",
      "2662/2662 [==============================] - 7s 3ms/step - loss: 0.1319 - accuracy: 0.9488 - val_loss: 0.1318 - val_accuracy: 0.9488\n",
      "Epoch 17/1000\n",
      "2662/2662 [==============================] - 7s 3ms/step - loss: 0.1318 - accuracy: 0.9488 - val_loss: 0.1329 - val_accuracy: 0.9484\n",
      "Epoch 18/1000\n",
      "2662/2662 [==============================] - 7s 3ms/step - loss: 0.1316 - accuracy: 0.9489 - val_loss: 0.1320 - val_accuracy: 0.9487\n",
      "Epoch 19/1000\n",
      "2662/2662 [==============================] - 7s 3ms/step - loss: 0.1315 - accuracy: 0.9489 - val_loss: 0.1335 - val_accuracy: 0.9481\n",
      "Epoch 20/1000\n",
      "2662/2662 [==============================] - 7s 3ms/step - loss: 0.1313 - accuracy: 0.9489 - val_loss: 0.1320 - val_accuracy: 0.9486\n",
      "Epoch 21/1000\n",
      "2662/2662 [==============================] - 7s 3ms/step - loss: 0.1312 - accuracy: 0.9490 - val_loss: 0.1321 - val_accuracy: 0.9486\n"
     ]
    }
   ],
   "source": [
    "es = tf.keras.callbacks.EarlyStopping(monitor='val_loss', patience=5)\n",
    "model_normal = Sequential()\n",
    "model_normal.add(Dense(128, input_dim=8, activation='relu'))\n",
    "model_normal.add(Dense(128, activation='relu'))\n",
    "model_normal.add(Dense(128, activation='relu'))\n",
    "model_normal.add(Dense(1, activation='sigmoid'))\n",
    "model_normal.compile(loss='binary_crossentropy', optimizer='adam', metrics=['accuracy'])\n",
    "history_normal = model_normal.fit(X_train_qq, Y_train_qq, epochs = 1000, validation_data=(X_val_qq, Y_val_qq), batch_size=5*1024, callbacks = [es])"
   ]
  },
  {
   "cell_type": "code",
   "execution_count": 29,
   "id": "01bdec79-df48-47bd-8e4f-da67fd7ddade",
   "metadata": {
    "tags": []
   },
   "outputs": [
    {
     "name": "stderr",
     "output_type": "stream",
     "text": [
      "wandb: WARNING Source type is set to 'repo' but some required information is missing from the environment. A job will not be created from this run. See https://docs.wandb.ai/guides/launch/create-job\n"
     ]
    },
    {
     "data": {
      "text/html": [
       "<style>\n",
       "    table.wandb td:nth-child(1) { padding: 0 10px; text-align: left ; width: auto;} td:nth-child(2) {text-align: left ; width: 100%}\n",
       "    .wandb-row { display: flex; flex-direction: row; flex-wrap: wrap; justify-content: flex-start; width: 100% }\n",
       "    .wandb-col { display: flex; flex-direction: column; flex-basis: 100%; flex: 1; padding: 10px; }\n",
       "    </style>\n",
       "<div class=\"wandb-row\"><div class=\"wandb-col\"><h3>Run history:</h3><br/><table class=\"wandb\"><tr><td>accuracy</td><td>▁▅▆▆▆▇▇▇▇▇▇▇▇▇██████████████████████████</td></tr><tr><td>epoch</td><td>▁▁▁▂▂▂▂▂▂▃▃▃▃▃▃▄▄▄▄▄▅▅▅▅▅▅▆▆▆▆▆▆▇▇▇▇▇▇██</td></tr><tr><td>loss</td><td>█▄▃▃▃▂▂▂▂▂▂▂▂▂▂▁▁▁▁▁▁▁▁▁▁▁▁▁▁▁▁▁▁▁▁▁▁▁▁▁</td></tr><tr><td>val_accuracy</td><td>▁▃▄▅▅▆▆▆▆▇▇▇▇▇▇▇▇▇▇▇████████████████████</td></tr><tr><td>val_loss</td><td>█▆▅▄▄▃▃▃▃▂▂▂▂▂▂▂▂▂▂▂▁▁▁▁▁▁▁▁▁▁▁▁▁▁▁▁▁▁▁▁</td></tr></table><br/></div><div class=\"wandb-col\"><h3>Run summary:</h3><br/><table class=\"wandb\"><tr><td>accuracy</td><td>0.94709</td></tr><tr><td>best_epoch</td><td>41</td></tr><tr><td>best_val_loss</td><td>0.13607</td></tr><tr><td>epoch</td><td>41</td></tr><tr><td>loss</td><td>0.1365</td></tr><tr><td>val_accuracy</td><td>0.94731</td></tr><tr><td>val_loss</td><td>0.13607</td></tr></table><br/></div></div>"
      ],
      "text/plain": [
       "<IPython.core.display.HTML object>"
      ]
     },
     "metadata": {},
     "output_type": "display_data"
    },
    {
     "data": {
      "text/html": [
       " View run <strong style=\"color:#cdcd00\">vital-dream-35</strong> at: <a href='https://wandb.ai/gup-singh/SemiWeakly/runs/ka9ia66s' target=\"_blank\">https://wandb.ai/gup-singh/SemiWeakly/runs/ka9ia66s</a><br/>Synced 5 W&B file(s), 1 media file(s), 210 artifact file(s) and 1 other file(s)"
      ],
      "text/plain": [
       "<IPython.core.display.HTML object>"
      ]
     },
     "metadata": {},
     "output_type": "display_data"
    },
    {
     "data": {
      "text/html": [
       "Find logs at: <code>/pscratch/sd/g/gupsingh/wandb/run-20240202_112845-ka9ia66s/logs</code>"
      ],
      "text/plain": [
       "<IPython.core.display.HTML object>"
      ]
     },
     "metadata": {},
     "output_type": "display_data"
    }
   ],
   "source": [
    "wandb.finish()"
   ]
  },
  {
   "cell_type": "code",
   "execution_count": 15,
   "id": "d557c9c9-944f-44bc-ada2-325d4a2cc217",
   "metadata": {
    "tags": []
   },
   "outputs": [
    {
     "name": "stdout",
     "output_type": "stream",
     "text": [
      "INFO:tensorflow:Assets written to: /pscratch/sd/g/gupsingh/model_fixed/assets\n"
     ]
    },
    {
     "name": "stderr",
     "output_type": "stream",
     "text": [
      "INFO:tensorflow:Assets written to: /pscratch/sd/g/gupsingh/model_fixed/assets\n"
     ]
    }
   ],
   "source": [
    "#model_qq.save(pscratch_dir + \"model_fixed\")"
   ]
  },
  {
   "cell_type": "code",
   "execution_count": 3,
   "id": "0f7b0b5d-6303-4de9-bd4e-bf5ce4070257",
   "metadata": {
    "tags": []
   },
   "outputs": [
    {
     "name": "stderr",
     "output_type": "stream",
     "text": [
      "2024-03-04 14:06:34.533188: I tensorflow/core/common_runtime/gpu/gpu_device.cc:1929] Created device /job:localhost/replica:0/task:0/device:GPU:0 with 1939 MB memory:  -> device: 0, name: NVIDIA A100-PCIE-40GB, pci bus id: 0000:c3:00.0, compute capability: 8.0\n"
     ]
    }
   ],
   "source": [
    "#model_qq = tf.keras.models.load_model(\"model_qq_v2\")\n",
    "#model_qq = tf.keras.models.load_model(\"model_qq_opt2\")\n",
    "model_qq = tf.keras.models.load_model(\"/pscratch/sd/g/gupsingh/swift-night-80\")\n",
    "#model_qq = tf.keras.models.load_model(\"model_qq_noisy10\")"
   ]
  },
  {
   "cell_type": "code",
   "execution_count": 28,
   "id": "0447ba8f-357f-4ab2-b368-074aa26e7a6d",
   "metadata": {
    "tags": []
   },
   "outputs": [
    {
     "name": "stdout",
     "output_type": "stream",
     "text": [
      "902347/902347 [==============================] - 699s 774us/step\n"
     ]
    }
   ],
   "source": [
    "scores = model_qq.predict(X_val_qq[0:len(X_val_qq)//2])"
   ]
  },
  {
   "cell_type": "code",
   "execution_count": 40,
   "id": "b2293dee-c329-404d-8409-a7aa8a2fd2b8",
   "metadata": {
    "tags": []
   },
   "outputs": [],
   "source": [
    "fpr_qq, tpr_qq, _ = metrics.roc_curve(Y_val_qq[0:len(Y_val_qq)//2], scores)"
   ]
  },
  {
   "cell_type": "code",
   "execution_count": 43,
   "id": "17bdde03-63cd-459c-9736-9fb8297678b5",
   "metadata": {
    "tags": []
   },
   "outputs": [
    {
     "data": {
      "text/plain": [
       "[<matplotlib.lines.Line2D at 0x7ef176b18a50>]"
      ]
     },
     "execution_count": 43,
     "metadata": {},
     "output_type": "execute_result"
    },
    {
     "data": {
      "image/png": "[encoded data removed]",
      "text/plain": [
       "<Figure size 640x480 with 1 Axes>"
      ]
     },
     "metadata": {},
     "output_type": "display_data"
    }
   ],
   "source": [
    "plt.plot(tpr_qq, 1-fpr_qq)"
   ]
  },
  {
   "cell_type": "code",
   "execution_count": 8,
   "id": "d739cc62-e0e1-4370-9a21-14e0b64140d2",
   "metadata": {
    "collapsed": true,
    "jupyter": {
     "outputs_hidden": true
    },
    "tags": []
   },
   "outputs": [
    {
     "name": "stdout",
     "output_type": "stream",
     "text": [
      "Epoch 1/1000\n"
     ]
    },
    {
     "name": "stderr",
     "output_type": "stream",
     "text": [
      "2024-02-29 11:32:40.575454: I external/local_xla/xla/service/service.cc:168] XLA service 0x7f8bcc35bc30 initialized for platform CUDA (this does not guarantee that XLA will be used). Devices:\n",
      "2024-02-29 11:32:40.575471: I external/local_xla/xla/service/service.cc:176]   StreamExecutor device (0): NVIDIA A100-SXM4-80GB, Compute Capability 8.0\n",
      "2024-02-29 11:32:40.585210: I tensorflow/compiler/mlir/tensorflow/utils/dump_mlir_util.cc:269] disabling MLIR crash reproducer, set env var `MLIR_CRASH_REPRODUCER_DIRECTORY` to enable.\n",
      "2024-02-29 11:32:40.623052: I external/local_xla/xla/stream_executor/cuda/cuda_dnn.cc:454] Loaded cuDNN version 8800\n",
      "WARNING: All log messages before absl::InitializeLog() is called are written to STDERR\n",
      "I0000 00:00:1709235160.709965 1142586 device_compiler.h:186] Compiled cluster using XLA!  This line is logged at most once for the lifetime of the process.\n"
     ]
    },
    {
     "name": "stdout",
     "output_type": "stream",
     "text": [
      "396/396 [==============================] - 3s 3ms/step - loss: 0.1156 - accuracy: 0.9578 - val_loss: 0.0867 - val_accuracy: 0.9682\n",
      "Epoch 2/1000\n",
      "396/396 [==============================] - 1s 3ms/step - loss: 0.0812 - accuracy: 0.9696 - val_loss: 0.0779 - val_accuracy: 0.9708\n",
      "Epoch 3/1000\n",
      "396/396 [==============================] - 1s 3ms/step - loss: 0.0771 - accuracy: 0.9708 - val_loss: 0.0816 - val_accuracy: 0.9691\n",
      "Epoch 4/1000\n",
      "396/396 [==============================] - 1s 3ms/step - loss: 0.0764 - accuracy: 0.9711 - val_loss: 0.0766 - val_accuracy: 0.9715\n",
      "Epoch 5/1000\n",
      "396/396 [==============================] - 1s 3ms/step - loss: 0.0760 - accuracy: 0.9714 - val_loss: 0.0763 - val_accuracy: 0.9714\n",
      "Epoch 6/1000\n",
      "396/396 [==============================] - 1s 3ms/step - loss: 0.0753 - accuracy: 0.9716 - val_loss: 0.0754 - val_accuracy: 0.9720\n",
      "Epoch 7/1000\n",
      "396/396 [==============================] - 1s 3ms/step - loss: 0.0751 - accuracy: 0.9717 - val_loss: 0.0755 - val_accuracy: 0.9720\n",
      "Epoch 8/1000\n",
      "396/396 [==============================] - 1s 3ms/step - loss: 0.0754 - accuracy: 0.9715 - val_loss: 0.0764 - val_accuracy: 0.9714\n",
      "Epoch 9/1000\n",
      "396/396 [==============================] - 1s 3ms/step - loss: 0.0750 - accuracy: 0.9716 - val_loss: 0.0748 - val_accuracy: 0.9721\n",
      "Epoch 10/1000\n",
      "396/396 [==============================] - 1s 3ms/step - loss: 0.0749 - accuracy: 0.9718 - val_loss: 0.0757 - val_accuracy: 0.9715\n",
      "Epoch 11/1000\n",
      "396/396 [==============================] - 1s 3ms/step - loss: 0.0745 - accuracy: 0.9718 - val_loss: 0.0762 - val_accuracy: 0.9716\n",
      "Epoch 12/1000\n",
      "396/396 [==============================] - 1s 3ms/step - loss: 0.0746 - accuracy: 0.9717 - val_loss: 0.0764 - val_accuracy: 0.9716\n",
      "Epoch 13/1000\n",
      "396/396 [==============================] - 1s 3ms/step - loss: 0.0745 - accuracy: 0.9719 - val_loss: 0.0754 - val_accuracy: 0.9719\n",
      "Epoch 14/1000\n",
      "396/396 [==============================] - 1s 3ms/step - loss: 0.0743 - accuracy: 0.9720 - val_loss: 0.0761 - val_accuracy: 0.9714\n",
      "406/406 [==============================] - 0s 656us/step\n",
      "Epoch 1/1000\n",
      "395/395 [==============================] - 2s 3ms/step - loss: 0.0725 - accuracy: 0.9740 - val_loss: 0.0576 - val_accuracy: 0.9800\n",
      "Epoch 2/1000\n",
      "395/395 [==============================] - 1s 3ms/step - loss: 0.0541 - accuracy: 0.9809 - val_loss: 0.0541 - val_accuracy: 0.9808\n",
      "Epoch 3/1000\n",
      "395/395 [==============================] - 1s 3ms/step - loss: 0.0526 - accuracy: 0.9813 - val_loss: 0.0532 - val_accuracy: 0.9809\n",
      "Epoch 4/1000\n",
      "395/395 [==============================] - 1s 2ms/step - loss: 0.0513 - accuracy: 0.9814 - val_loss: 0.0530 - val_accuracy: 0.9809\n",
      "Epoch 5/1000\n",
      "395/395 [==============================] - 1s 3ms/step - loss: 0.0505 - accuracy: 0.9817 - val_loss: 0.0519 - val_accuracy: 0.9813\n",
      "Epoch 6/1000\n",
      "395/395 [==============================] - 1s 2ms/step - loss: 0.0504 - accuracy: 0.9817 - val_loss: 0.0517 - val_accuracy: 0.9815\n",
      "Epoch 7/1000\n",
      "395/395 [==============================] - 1s 3ms/step - loss: 0.0500 - accuracy: 0.9819 - val_loss: 0.0523 - val_accuracy: 0.9810\n",
      "Epoch 8/1000\n",
      "395/395 [==============================] - 1s 3ms/step - loss: 0.0497 - accuracy: 0.9818 - val_loss: 0.0525 - val_accuracy: 0.9809\n",
      "Epoch 9/1000\n",
      "395/395 [==============================] - 1s 3ms/step - loss: 0.0496 - accuracy: 0.9820 - val_loss: 0.0514 - val_accuracy: 0.9814\n",
      "Epoch 10/1000\n",
      "395/395 [==============================] - 1s 3ms/step - loss: 0.0494 - accuracy: 0.9819 - val_loss: 0.0516 - val_accuracy: 0.9812\n",
      "Epoch 11/1000\n",
      "395/395 [==============================] - 1s 3ms/step - loss: 0.0492 - accuracy: 0.9821 - val_loss: 0.0522 - val_accuracy: 0.9812\n",
      "Epoch 12/1000\n",
      "395/395 [==============================] - 1s 3ms/step - loss: 0.0494 - accuracy: 0.9821 - val_loss: 0.0517 - val_accuracy: 0.9814\n",
      "Epoch 13/1000\n",
      "395/395 [==============================] - 1s 3ms/step - loss: 0.0491 - accuracy: 0.9820 - val_loss: 0.0518 - val_accuracy: 0.9812\n",
      "Epoch 14/1000\n",
      "395/395 [==============================] - 1s 3ms/step - loss: 0.0489 - accuracy: 0.9821 - val_loss: 0.0510 - val_accuracy: 0.9816\n",
      "Epoch 15/1000\n",
      "395/395 [==============================] - 1s 3ms/step - loss: 0.0490 - accuracy: 0.9821 - val_loss: 0.0513 - val_accuracy: 0.9814\n",
      "Epoch 16/1000\n",
      "395/395 [==============================] - 1s 3ms/step - loss: 0.0487 - accuracy: 0.9822 - val_loss: 0.0509 - val_accuracy: 0.9814\n",
      "Epoch 17/1000\n",
      "395/395 [==============================] - 1s 2ms/step - loss: 0.0487 - accuracy: 0.9821 - val_loss: 0.0511 - val_accuracy: 0.9814\n",
      "Epoch 18/1000\n",
      "395/395 [==============================] - 1s 3ms/step - loss: 0.0486 - accuracy: 0.9823 - val_loss: 0.0511 - val_accuracy: 0.9815\n",
      "Epoch 19/1000\n",
      "395/395 [==============================] - 1s 2ms/step - loss: 0.0487 - accuracy: 0.9821 - val_loss: 0.0508 - val_accuracy: 0.9816\n",
      "Epoch 20/1000\n",
      "395/395 [==============================] - 1s 2ms/step - loss: 0.0485 - accuracy: 0.9823 - val_loss: 0.0532 - val_accuracy: 0.9809\n",
      "Epoch 21/1000\n",
      "395/395 [==============================] - 1s 2ms/step - loss: 0.0483 - accuracy: 0.9823 - val_loss: 0.0511 - val_accuracy: 0.9814\n",
      "Epoch 22/1000\n",
      "395/395 [==============================] - 1s 2ms/step - loss: 0.0483 - accuracy: 0.9823 - val_loss: 0.0514 - val_accuracy: 0.9814\n",
      "Epoch 23/1000\n",
      "395/395 [==============================] - 1s 3ms/step - loss: 0.0481 - accuracy: 0.9824 - val_loss: 0.0511 - val_accuracy: 0.9815\n",
      "Epoch 24/1000\n",
      "395/395 [==============================] - 1s 3ms/step - loss: 0.0480 - accuracy: 0.9824 - val_loss: 0.0509 - val_accuracy: 0.9815\n",
      "405/405 [==============================] - 0s 699us/step\n",
      "Epoch 1/1000\n",
      "387/387 [==============================] - 2s 3ms/step - loss: 0.1126 - accuracy: 0.9613 - val_loss: 0.0910 - val_accuracy: 0.9693\n",
      "Epoch 2/1000\n",
      "387/387 [==============================] - 1s 2ms/step - loss: 0.0854 - accuracy: 0.9713 - val_loss: 0.0779 - val_accuracy: 0.9736\n",
      "Epoch 3/1000\n",
      "387/387 [==============================] - 1s 2ms/step - loss: 0.0784 - accuracy: 0.9735 - val_loss: 0.0773 - val_accuracy: 0.9737\n",
      "Epoch 4/1000\n",
      "387/387 [==============================] - 1s 3ms/step - loss: 0.0767 - accuracy: 0.9740 - val_loss: 0.0756 - val_accuracy: 0.9745\n",
      "Epoch 5/1000\n",
      "387/387 [==============================] - 1s 3ms/step - loss: 0.0763 - accuracy: 0.9741 - val_loss: 0.0743 - val_accuracy: 0.9748\n",
      "Epoch 6/1000\n",
      "387/387 [==============================] - 1s 3ms/step - loss: 0.0754 - accuracy: 0.9743 - val_loss: 0.0742 - val_accuracy: 0.9749\n",
      "Epoch 7/1000\n",
      "387/387 [==============================] - 1s 3ms/step - loss: 0.0754 - accuracy: 0.9744 - val_loss: 0.0742 - val_accuracy: 0.9748\n",
      "Epoch 8/1000\n",
      "387/387 [==============================] - 1s 3ms/step - loss: 0.0751 - accuracy: 0.9745 - val_loss: 0.0759 - val_accuracy: 0.9744\n",
      "Epoch 9/1000\n",
      "387/387 [==============================] - 1s 3ms/step - loss: 0.0749 - accuracy: 0.9746 - val_loss: 0.0742 - val_accuracy: 0.9749\n",
      "Epoch 10/1000\n",
      "387/387 [==============================] - 1s 3ms/step - loss: 0.0746 - accuracy: 0.9744 - val_loss: 0.0731 - val_accuracy: 0.9753\n",
      "Epoch 11/1000\n",
      "387/387 [==============================] - 1s 3ms/step - loss: 0.0746 - accuracy: 0.9746 - val_loss: 0.0751 - val_accuracy: 0.9745\n",
      "Epoch 12/1000\n",
      "387/387 [==============================] - 1s 3ms/step - loss: 0.0743 - accuracy: 0.9747 - val_loss: 0.0734 - val_accuracy: 0.9750\n",
      "Epoch 13/1000\n",
      "387/387 [==============================] - 1s 3ms/step - loss: 0.0742 - accuracy: 0.9748 - val_loss: 0.0751 - val_accuracy: 0.9748\n",
      "Epoch 14/1000\n",
      "387/387 [==============================] - 1s 3ms/step - loss: 0.0741 - accuracy: 0.9747 - val_loss: 0.0748 - val_accuracy: 0.9750\n",
      "Epoch 15/1000\n",
      "387/387 [==============================] - 1s 3ms/step - loss: 0.0742 - accuracy: 0.9746 - val_loss: 0.0742 - val_accuracy: 0.9747\n",
      "397/397 [==============================] - 0s 768us/step\n"
     ]
    }
   ],
   "source": [
    "preds_mm_list = []\n",
    "tuple_rates_dedicated_benchmark_extra = {}\n",
    "\n",
    "es = tf.keras.callbacks.EarlyStopping(monitor='val_loss', patience=5)\n",
    "\n",
    "for m1 in mass_range[1:]:\n",
    "    for m2 in mass_range[1:]:\n",
    "        if (m1 == 5 and m2 == 1) or (m1 == 3 and m2 == 3) or (m1 == 1 and m2 == 1):\n",
    "            x_data_mm = np.concatenate([x[0,0, qq, False],x[m1,m2, qq, False]])\n",
    "            y_data_mm = np.concatenate([np.zeros(len(x[0,0, qq, False])),np.ones(len(x[m1,m2, qq, False]))])\n",
    "            X_train_mm, X_val_mm, Y_train_mm, Y_val_mm = train_test_split(x_data_mm, y_data_mm, test_size=0.5)\n",
    "\n",
    "            model = Sequential()\n",
    "            model.add(Dense(512, input_dim=6, activation='relu'))\n",
    "            model.add(Dense(256, activation='relu'))\n",
    "            model.add(Dense(128, activation='relu'))\n",
    "            model.add(Dense(1, activation='sigmoid'))\n",
    "            model.compile(loss='binary_crossentropy', optimizer='adam', metrics=['accuracy'])\n",
    "\n",
    "            myhistory = model.fit(X_train_mm, Y_train_mm, epochs=1000, validation_data=(X_val_mm, Y_val_mm),batch_size=1024, callbacks = [es])\n",
    "\n",
    "            preds_mm = model.predict(X_val_mm,batch_size=1000)\n",
    "            fpr_mm, tpr_mm, _ = metrics.roc_curve(Y_val_mm, preds_mm)\n",
    "\n",
    "            preds_mm_list.append(preds_mm)\n",
    "            tuple_rates_dedicated_benchmark_extra[tuple((m1, m2))] = [fpr_mm, tpr_mm]"
   ]
  },
  {
   "cell_type": "code",
   "execution_count": 41,
   "id": "8fa5b009-687c-4c80-a092-a866e0f6da66",
   "metadata": {},
   "outputs": [
    {
     "name": "stderr",
     "output_type": "stream",
     "text": [
      "/tmp/ipykernel_484454/1937793855.py:32: DeprecationWarning: `product` is deprecated as of NumPy 1.25.0, and will be removed in NumPy 2.0. Please use `prod` instead.\n",
      "  validation_plot(m1,m2)\n"
     ]
    },
    {
     "name": "stdout",
     "output_type": "stream",
     "text": [
      "809/809 [==============================] - 2s 2ms/step\n"
     ]
    },
    {
     "name": "stderr",
     "output_type": "stream",
     "text": [
      "/tmp/ipykernel_484454/1937793855.py:17: RuntimeWarning: divide by zero encountered in divide\n",
      "  plt.plot(tpr_all, 1/(fpr_all), label = f\"{m1_try*100} {m2_try*100}\", linewidth = 1)\n",
      "/tmp/ipykernel_484454/1937793855.py:32: DeprecationWarning: `product` is deprecated as of NumPy 1.25.0, and will be removed in NumPy 2.0. Please use `prod` instead.\n",
      "  validation_plot(m1,m2)\n"
     ]
    },
    {
     "name": "stdout",
     "output_type": "stream",
     "text": [
      "809/809 [==============================] - 2s 2ms/step\n"
     ]
    },
    {
     "name": "stderr",
     "output_type": "stream",
     "text": [
      "/tmp/ipykernel_484454/1937793855.py:17: RuntimeWarning: divide by zero encountered in divide\n",
      "  plt.plot(tpr_all, 1/(fpr_all), label = f\"{m1_try*100} {m2_try*100}\", linewidth = 1)\n",
      "/tmp/ipykernel_484454/1937793855.py:32: DeprecationWarning: `product` is deprecated as of NumPy 1.25.0, and will be removed in NumPy 2.0. Please use `prod` instead.\n",
      "  validation_plot(m1,m2)\n"
     ]
    },
    {
     "name": "stdout",
     "output_type": "stream",
     "text": [
      "809/809 [==============================] - 2s 2ms/step\n"
     ]
    },
    {
     "name": "stderr",
     "output_type": "stream",
     "text": [
      "/tmp/ipykernel_484454/1937793855.py:17: RuntimeWarning: divide by zero encountered in divide\n",
      "  plt.plot(tpr_all, 1/(fpr_all), label = f\"{m1_try*100} {m2_try*100}\", linewidth = 1)\n",
      "/tmp/ipykernel_484454/1937793855.py:32: DeprecationWarning: `product` is deprecated as of NumPy 1.25.0, and will be removed in NumPy 2.0. Please use `prod` instead.\n",
      "  validation_plot(m1,m2)\n"
     ]
    },
    {
     "name": "stdout",
     "output_type": "stream",
     "text": [
      "809/809 [==============================] - 2s 2ms/step\n"
     ]
    },
    {
     "name": "stderr",
     "output_type": "stream",
     "text": [
      "/tmp/ipykernel_484454/1937793855.py:17: RuntimeWarning: divide by zero encountered in divide\n",
      "  plt.plot(tpr_all, 1/(fpr_all), label = f\"{m1_try*100} {m2_try*100}\", linewidth = 1)\n",
      "/tmp/ipykernel_484454/1937793855.py:32: DeprecationWarning: `product` is deprecated as of NumPy 1.25.0, and will be removed in NumPy 2.0. Please use `prod` instead.\n",
      "  validation_plot(m1,m2)\n"
     ]
    },
    {
     "name": "stdout",
     "output_type": "stream",
     "text": [
      "809/809 [==============================] - 2s 2ms/step\n"
     ]
    },
    {
     "name": "stderr",
     "output_type": "stream",
     "text": [
      "/tmp/ipykernel_484454/1937793855.py:17: RuntimeWarning: divide by zero encountered in divide\n",
      "  plt.plot(tpr_all, 1/(fpr_all), label = f\"{m1_try*100} {m2_try*100}\", linewidth = 1)\n",
      "/global/homes/g/gupsingh/.conda/envs/research/lib/python3.11/site-packages/slack_sdk/web/internal_utils.py:417: UserWarning: client.files_upload() may cause some issues like timeouts for relatively large files. Our latest recommendation is to use client.files_upload_v2(), which is mostly compatible and much stabler, instead.\n",
      "  warnings.warn(message)\n"
     ]
    },
    {
     "name": "stdout",
     "output_type": "stream",
     "text": [
      "Plot sent successfully: None\n"
     ]
    },
    {
     "data": {
      "image/png": "[encoded data removed]",
      "text/plain": [
       "<Figure size 640x480 with 1 Axes>"
      ]
     },
     "metadata": {},
     "output_type": "display_data"
    }
   ],
   "source": [
    "import seaborn as sns\n",
    "from utils import send_slack_plot \n",
    "#epsilon = 1e-4\n",
    "m1 = 1\n",
    "m2 = 1\n",
    "\n",
    "#takes parametrized data corresponding to m1,m2 and replaces it with wrong masses\n",
    "#then evaluates the data on trained parametrized model\n",
    "def validation_plot(m1, m2):\n",
    "    m1_masses_to_try = [1, 3, 3, 4, 6]\n",
    "    m2_masses_to_try = [2, 3, 4, 5, 6]\n",
    "    for m1_try, m2_try in zip(m1_masses_to_try, m2_masses_to_try):\n",
    "        parametrized_data = x_data_qq[np.product(x_data_qq[:,6:8]==[m1,m2],axis=1)==1]\n",
    "        parametrized_data[:,6:8]= np.c_[np.ones(len(parametrized_data)) * m1_try, np.ones(len(parametrized_data)) * m2_try]\n",
    "        preds_parametrized = model_qq.predict(parametrized_data,batch_size=1000)\n",
    "        fpr_all, tpr_all, _ = metrics.roc_curve(y_data_qq[np.product(x_data_qq[:,6:8]==[m1,m2],axis=1)==1], preds_parametrized)\n",
    "        plt.plot(tpr_all, 1/(fpr_all), label = f\"{m1_try*100} {m2_try*100}\", linewidth = 1)\n",
    "        plt.legend()\n",
    "        plt.title(f\"Parametrized Classifier Validation $m_{1}: {m1*100}  m_{2}: {m2*100} GeV$\")\n",
    "        plt.xlabel(\"True Positive Rate\")\n",
    "        plt.ylabel(\"Background Rejection $\\\\frac{1}{FPR}$\")\n",
    "        sns.set(style=\"white\")\n",
    "        plt.gca().spines['top'].set_linewidth(0.5)\n",
    "        plt.gca().spines['right'].set_linewidth(0.5)\n",
    "        plt.gca().spines['bottom'].set_linewidth(0.5)\n",
    "        plt.gca().spines['left'].set_linewidth(0.5)\n",
    "        plt.yscale(\"log\")\n",
    "    img_path = f\"plots/validationplot{float(m1)}{float(m2)}.png\"\n",
    "    #plt.savefig(img_path, dpi=450, bbox_inches='tight')\n",
    "    send_slack_plot(img_path)\n",
    "    \n",
    "validation_plot(m1,m2)"
   ]
  },
  {
   "cell_type": "code",
   "execution_count": 49,
   "id": "bd43309e-5ab6-421a-83e4-64a996aa3aec",
   "metadata": {
    "collapsed": true,
    "jupyter": {
     "outputs_hidden": true
    },
    "tags": []
   },
   "outputs": [
    {
     "name": "stderr",
     "output_type": "stream",
     "text": [
      "/tmp/ipykernel_484454/817014300.py:14: DeprecationWarning: `product` is deprecated as of NumPy 1.25.0, and will be removed in NumPy 2.0. Please use `prod` instead.\n",
      "  eval_parametrized(model_qq)\n"
     ]
    },
    {
     "name": "stdout",
     "output_type": "stream",
     "text": [
      "810/810 [==============================] - 2s 2ms/step\n"
     ]
    },
    {
     "name": "stderr",
     "output_type": "stream",
     "text": [
      "/tmp/ipykernel_484454/817014300.py:14: DeprecationWarning: `product` is deprecated as of NumPy 1.25.0, and will be removed in NumPy 2.0. Please use `prod` instead.\n",
      "  eval_parametrized(model_qq)\n"
     ]
    },
    {
     "name": "stdout",
     "output_type": "stream",
     "text": [
      "811/811 [==============================] - 2s 2ms/step\n"
     ]
    },
    {
     "name": "stderr",
     "output_type": "stream",
     "text": [
      "/tmp/ipykernel_484454/817014300.py:14: DeprecationWarning: `product` is deprecated as of NumPy 1.25.0, and will be removed in NumPy 2.0. Please use `prod` instead.\n",
      "  eval_parametrized(model_qq)\n"
     ]
    },
    {
     "name": "stdout",
     "output_type": "stream",
     "text": [
      "811/811 [==============================] - 2s 3ms/step\n"
     ]
    },
    {
     "name": "stderr",
     "output_type": "stream",
     "text": [
      "/tmp/ipykernel_484454/817014300.py:14: DeprecationWarning: `product` is deprecated as of NumPy 1.25.0, and will be removed in NumPy 2.0. Please use `prod` instead.\n",
      "  eval_parametrized(model_qq)\n"
     ]
    },
    {
     "name": "stdout",
     "output_type": "stream",
     "text": [
      "811/811 [==============================] - 2s 2ms/step\n"
     ]
    },
    {
     "name": "stderr",
     "output_type": "stream",
     "text": [
      "/tmp/ipykernel_484454/817014300.py:14: DeprecationWarning: `product` is deprecated as of NumPy 1.25.0, and will be removed in NumPy 2.0. Please use `prod` instead.\n",
      "  eval_parametrized(model_qq)\n"
     ]
    },
    {
     "name": "stdout",
     "output_type": "stream",
     "text": [
      "811/811 [==============================] - 2s 2ms/step\n"
     ]
    },
    {
     "name": "stderr",
     "output_type": "stream",
     "text": [
      "/tmp/ipykernel_484454/817014300.py:14: DeprecationWarning: `product` is deprecated as of NumPy 1.25.0, and will be removed in NumPy 2.0. Please use `prod` instead.\n",
      "  eval_parametrized(model_qq)\n"
     ]
    },
    {
     "name": "stdout",
     "output_type": "stream",
     "text": [
      "810/810 [==============================] - 2s 2ms/step\n"
     ]
    },
    {
     "name": "stderr",
     "output_type": "stream",
     "text": [
      "/tmp/ipykernel_484454/817014300.py:14: DeprecationWarning: `product` is deprecated as of NumPy 1.25.0, and will be removed in NumPy 2.0. Please use `prod` instead.\n",
      "  eval_parametrized(model_qq)\n"
     ]
    },
    {
     "name": "stdout",
     "output_type": "stream",
     "text": [
      "809/809 [==============================] - 2s 2ms/step\n"
     ]
    },
    {
     "name": "stderr",
     "output_type": "stream",
     "text": [
      "/tmp/ipykernel_484454/817014300.py:14: DeprecationWarning: `product` is deprecated as of NumPy 1.25.0, and will be removed in NumPy 2.0. Please use `prod` instead.\n",
      "  eval_parametrized(model_qq)\n"
     ]
    },
    {
     "name": "stdout",
     "output_type": "stream",
     "text": [
      "808/808 [==============================] - 2s 2ms/step\n"
     ]
    },
    {
     "name": "stderr",
     "output_type": "stream",
     "text": [
      "/tmp/ipykernel_484454/817014300.py:14: DeprecationWarning: `product` is deprecated as of NumPy 1.25.0, and will be removed in NumPy 2.0. Please use `prod` instead.\n",
      "  eval_parametrized(model_qq)\n"
     ]
    },
    {
     "name": "stdout",
     "output_type": "stream",
     "text": [
      "807/807 [==============================] - 2s 2ms/step\n"
     ]
    },
    {
     "name": "stderr",
     "output_type": "stream",
     "text": [
      "/tmp/ipykernel_484454/817014300.py:14: DeprecationWarning: `product` is deprecated as of NumPy 1.25.0, and will be removed in NumPy 2.0. Please use `prod` instead.\n",
      "  eval_parametrized(model_qq)\n"
     ]
    },
    {
     "name": "stdout",
     "output_type": "stream",
     "text": [
      "806/806 [==============================] - 2s 2ms/step\n"
     ]
    },
    {
     "name": "stderr",
     "output_type": "stream",
     "text": [
      "/tmp/ipykernel_484454/817014300.py:14: DeprecationWarning: `product` is deprecated as of NumPy 1.25.0, and will be removed in NumPy 2.0. Please use `prod` instead.\n",
      "  eval_parametrized(model_qq)\n"
     ]
    },
    {
     "name": "stdout",
     "output_type": "stream",
     "text": [
      "803/803 [==============================] - 2s 2ms/step\n"
     ]
    },
    {
     "name": "stderr",
     "output_type": "stream",
     "text": [
      "/tmp/ipykernel_484454/817014300.py:14: DeprecationWarning: `product` is deprecated as of NumPy 1.25.0, and will be removed in NumPy 2.0. Please use `prod` instead.\n",
      "  eval_parametrized(model_qq)\n"
     ]
    },
    {
     "name": "stdout",
     "output_type": "stream",
     "text": [
      "799/799 [==============================] - 2s 2ms/step\n"
     ]
    },
    {
     "name": "stderr",
     "output_type": "stream",
     "text": [
      "/tmp/ipykernel_484454/817014300.py:14: DeprecationWarning: `product` is deprecated as of NumPy 1.25.0, and will be removed in NumPy 2.0. Please use `prod` instead.\n",
      "  eval_parametrized(model_qq)\n"
     ]
    },
    {
     "name": "stdout",
     "output_type": "stream",
     "text": [
      "809/809 [==============================] - 2s 2ms/step\n"
     ]
    },
    {
     "name": "stderr",
     "output_type": "stream",
     "text": [
      "/tmp/ipykernel_484454/817014300.py:14: DeprecationWarning: `product` is deprecated as of NumPy 1.25.0, and will be removed in NumPy 2.0. Please use `prod` instead.\n",
      "  eval_parametrized(model_qq)\n"
     ]
    },
    {
     "name": "stdout",
     "output_type": "stream",
     "text": [
      "811/811 [==============================] - 2s 3ms/step\n"
     ]
    },
    {
     "name": "stderr",
     "output_type": "stream",
     "text": [
      "/tmp/ipykernel_484454/817014300.py:14: DeprecationWarning: `product` is deprecated as of NumPy 1.25.0, and will be removed in NumPy 2.0. Please use `prod` instead.\n",
      "  eval_parametrized(model_qq)\n"
     ]
    },
    {
     "name": "stdout",
     "output_type": "stream",
     "text": [
      "811/811 [==============================] - 2s 3ms/step\n"
     ]
    },
    {
     "name": "stderr",
     "output_type": "stream",
     "text": [
      "/tmp/ipykernel_484454/817014300.py:14: DeprecationWarning: `product` is deprecated as of NumPy 1.25.0, and will be removed in NumPy 2.0. Please use `prod` instead.\n",
      "  eval_parametrized(model_qq)\n"
     ]
    },
    {
     "name": "stdout",
     "output_type": "stream",
     "text": [
      "811/811 [==============================] - 2s 2ms/step\n"
     ]
    },
    {
     "name": "stderr",
     "output_type": "stream",
     "text": [
      "/tmp/ipykernel_484454/817014300.py:14: DeprecationWarning: `product` is deprecated as of NumPy 1.25.0, and will be removed in NumPy 2.0. Please use `prod` instead.\n",
      "  eval_parametrized(model_qq)\n"
     ]
    },
    {
     "name": "stdout",
     "output_type": "stream",
     "text": [
      "811/811 [==============================] - 2s 2ms/step\n"
     ]
    },
    {
     "name": "stderr",
     "output_type": "stream",
     "text": [
      "/tmp/ipykernel_484454/817014300.py:14: DeprecationWarning: `product` is deprecated as of NumPy 1.25.0, and will be removed in NumPy 2.0. Please use `prod` instead.\n",
      "  eval_parametrized(model_qq)\n"
     ]
    },
    {
     "name": "stdout",
     "output_type": "stream",
     "text": [
      "810/810 [==============================] - 2s 2ms/step\n"
     ]
    },
    {
     "name": "stderr",
     "output_type": "stream",
     "text": [
      "/tmp/ipykernel_484454/817014300.py:14: DeprecationWarning: `product` is deprecated as of NumPy 1.25.0, and will be removed in NumPy 2.0. Please use `prod` instead.\n",
      "  eval_parametrized(model_qq)\n"
     ]
    },
    {
     "name": "stdout",
     "output_type": "stream",
     "text": [
      "810/810 [==============================] - 2s 2ms/step\n"
     ]
    },
    {
     "name": "stderr",
     "output_type": "stream",
     "text": [
      "/tmp/ipykernel_484454/817014300.py:14: DeprecationWarning: `product` is deprecated as of NumPy 1.25.0, and will be removed in NumPy 2.0. Please use `prod` instead.\n",
      "  eval_parametrized(model_qq)\n"
     ]
    },
    {
     "name": "stdout",
     "output_type": "stream",
     "text": [
      "809/809 [==============================] - 2s 2ms/step\n"
     ]
    },
    {
     "name": "stderr",
     "output_type": "stream",
     "text": [
      "/tmp/ipykernel_484454/817014300.py:14: DeprecationWarning: `product` is deprecated as of NumPy 1.25.0, and will be removed in NumPy 2.0. Please use `prod` instead.\n",
      "  eval_parametrized(model_qq)\n"
     ]
    },
    {
     "name": "stdout",
     "output_type": "stream",
     "text": [
      "808/808 [==============================] - 2s 3ms/step\n"
     ]
    },
    {
     "name": "stderr",
     "output_type": "stream",
     "text": [
      "/tmp/ipykernel_484454/817014300.py:14: DeprecationWarning: `product` is deprecated as of NumPy 1.25.0, and will be removed in NumPy 2.0. Please use `prod` instead.\n",
      "  eval_parametrized(model_qq)\n"
     ]
    },
    {
     "name": "stdout",
     "output_type": "stream",
     "text": [
      "806/806 [==============================] - 2s 2ms/step\n"
     ]
    },
    {
     "name": "stderr",
     "output_type": "stream",
     "text": [
      "/tmp/ipykernel_484454/817014300.py:14: DeprecationWarning: `product` is deprecated as of NumPy 1.25.0, and will be removed in NumPy 2.0. Please use `prod` instead.\n",
      "  eval_parametrized(model_qq)\n"
     ]
    },
    {
     "name": "stdout",
     "output_type": "stream",
     "text": [
      "803/803 [==============================] - 2s 2ms/step\n"
     ]
    },
    {
     "name": "stderr",
     "output_type": "stream",
     "text": [
      "/tmp/ipykernel_484454/817014300.py:14: DeprecationWarning: `product` is deprecated as of NumPy 1.25.0, and will be removed in NumPy 2.0. Please use `prod` instead.\n",
      "  eval_parametrized(model_qq)\n"
     ]
    },
    {
     "name": "stdout",
     "output_type": "stream",
     "text": [
      "799/799 [==============================] - 2s 2ms/step\n"
     ]
    },
    {
     "name": "stderr",
     "output_type": "stream",
     "text": [
      "/tmp/ipykernel_484454/817014300.py:14: DeprecationWarning: `product` is deprecated as of NumPy 1.25.0, and will be removed in NumPy 2.0. Please use `prod` instead.\n",
      "  eval_parametrized(model_qq)\n"
     ]
    },
    {
     "name": "stdout",
     "output_type": "stream",
     "text": [
      "805/805 [==============================] - 2s 2ms/step\n"
     ]
    },
    {
     "name": "stderr",
     "output_type": "stream",
     "text": [
      "/tmp/ipykernel_484454/817014300.py:14: DeprecationWarning: `product` is deprecated as of NumPy 1.25.0, and will be removed in NumPy 2.0. Please use `prod` instead.\n",
      "  eval_parametrized(model_qq)\n"
     ]
    },
    {
     "name": "stdout",
     "output_type": "stream",
     "text": [
      "810/810 [==============================] - 2s 2ms/step\n"
     ]
    },
    {
     "name": "stderr",
     "output_type": "stream",
     "text": [
      "/tmp/ipykernel_484454/817014300.py:14: DeprecationWarning: `product` is deprecated as of NumPy 1.25.0, and will be removed in NumPy 2.0. Please use `prod` instead.\n",
      "  eval_parametrized(model_qq)\n"
     ]
    },
    {
     "name": "stdout",
     "output_type": "stream",
     "text": [
      "811/811 [==============================] - 2s 2ms/step\n"
     ]
    },
    {
     "name": "stderr",
     "output_type": "stream",
     "text": [
      "/tmp/ipykernel_484454/817014300.py:14: DeprecationWarning: `product` is deprecated as of NumPy 1.25.0, and will be removed in NumPy 2.0. Please use `prod` instead.\n",
      "  eval_parametrized(model_qq)\n"
     ]
    },
    {
     "name": "stdout",
     "output_type": "stream",
     "text": [
      "811/811 [==============================] - 2s 3ms/step\n"
     ]
    },
    {
     "name": "stderr",
     "output_type": "stream",
     "text": [
      "/tmp/ipykernel_484454/817014300.py:14: DeprecationWarning: `product` is deprecated as of NumPy 1.25.0, and will be removed in NumPy 2.0. Please use `prod` instead.\n",
      "  eval_parametrized(model_qq)\n"
     ]
    },
    {
     "name": "stdout",
     "output_type": "stream",
     "text": [
      "811/811 [==============================] - 2s 2ms/step\n"
     ]
    },
    {
     "name": "stderr",
     "output_type": "stream",
     "text": [
      "/tmp/ipykernel_484454/817014300.py:14: DeprecationWarning: `product` is deprecated as of NumPy 1.25.0, and will be removed in NumPy 2.0. Please use `prod` instead.\n",
      "  eval_parametrized(model_qq)\n"
     ]
    },
    {
     "name": "stdout",
     "output_type": "stream",
     "text": [
      "811/811 [==============================] - 2s 2ms/step\n"
     ]
    },
    {
     "name": "stderr",
     "output_type": "stream",
     "text": [
      "/tmp/ipykernel_484454/817014300.py:14: DeprecationWarning: `product` is deprecated as of NumPy 1.25.0, and will be removed in NumPy 2.0. Please use `prod` instead.\n",
      "  eval_parametrized(model_qq)\n"
     ]
    },
    {
     "name": "stdout",
     "output_type": "stream",
     "text": [
      "810/810 [==============================] - 2s 2ms/step\n"
     ]
    },
    {
     "name": "stderr",
     "output_type": "stream",
     "text": [
      "/tmp/ipykernel_484454/817014300.py:14: DeprecationWarning: `product` is deprecated as of NumPy 1.25.0, and will be removed in NumPy 2.0. Please use `prod` instead.\n",
      "  eval_parametrized(model_qq)\n"
     ]
    },
    {
     "name": "stdout",
     "output_type": "stream",
     "text": [
      "809/809 [==============================] - 2s 2ms/step\n"
     ]
    },
    {
     "name": "stderr",
     "output_type": "stream",
     "text": [
      "/tmp/ipykernel_484454/817014300.py:14: DeprecationWarning: `product` is deprecated as of NumPy 1.25.0, and will be removed in NumPy 2.0. Please use `prod` instead.\n",
      "  eval_parametrized(model_qq)\n"
     ]
    },
    {
     "name": "stdout",
     "output_type": "stream",
     "text": [
      "808/808 [==============================] - 2s 2ms/step\n"
     ]
    },
    {
     "name": "stderr",
     "output_type": "stream",
     "text": [
      "/tmp/ipykernel_484454/817014300.py:14: DeprecationWarning: `product` is deprecated as of NumPy 1.25.0, and will be removed in NumPy 2.0. Please use `prod` instead.\n",
      "  eval_parametrized(model_qq)\n"
     ]
    },
    {
     "name": "stdout",
     "output_type": "stream",
     "text": [
      "806/806 [==============================] - 2s 2ms/step\n"
     ]
    },
    {
     "name": "stderr",
     "output_type": "stream",
     "text": [
      "/tmp/ipykernel_484454/817014300.py:14: DeprecationWarning: `product` is deprecated as of NumPy 1.25.0, and will be removed in NumPy 2.0. Please use `prod` instead.\n",
      "  eval_parametrized(model_qq)\n"
     ]
    },
    {
     "name": "stdout",
     "output_type": "stream",
     "text": [
      "803/803 [==============================] - 2s 2ms/step\n"
     ]
    },
    {
     "name": "stderr",
     "output_type": "stream",
     "text": [
      "/tmp/ipykernel_484454/817014300.py:14: DeprecationWarning: `product` is deprecated as of NumPy 1.25.0, and will be removed in NumPy 2.0. Please use `prod` instead.\n",
      "  eval_parametrized(model_qq)\n"
     ]
    },
    {
     "name": "stdout",
     "output_type": "stream",
     "text": [
      "799/799 [==============================] - 2s 2ms/step\n"
     ]
    },
    {
     "name": "stderr",
     "output_type": "stream",
     "text": [
      "/tmp/ipykernel_484454/817014300.py:14: DeprecationWarning: `product` is deprecated as of NumPy 1.25.0, and will be removed in NumPy 2.0. Please use `prod` instead.\n",
      "  eval_parametrized(model_qq)\n"
     ]
    },
    {
     "name": "stdout",
     "output_type": "stream",
     "text": [
      "800/800 [==============================] - 2s 2ms/step\n"
     ]
    },
    {
     "name": "stderr",
     "output_type": "stream",
     "text": [
      "/tmp/ipykernel_484454/817014300.py:14: DeprecationWarning: `product` is deprecated as of NumPy 1.25.0, and will be removed in NumPy 2.0. Please use `prod` instead.\n",
      "  eval_parametrized(model_qq)\n"
     ]
    },
    {
     "name": "stdout",
     "output_type": "stream",
     "text": [
      "809/809 [==============================] - 2s 2ms/step\n"
     ]
    },
    {
     "name": "stderr",
     "output_type": "stream",
     "text": [
      "/tmp/ipykernel_484454/817014300.py:14: DeprecationWarning: `product` is deprecated as of NumPy 1.25.0, and will be removed in NumPy 2.0. Please use `prod` instead.\n",
      "  eval_parametrized(model_qq)\n"
     ]
    },
    {
     "name": "stdout",
     "output_type": "stream",
     "text": [
      "810/810 [==============================] - 2s 2ms/step\n"
     ]
    },
    {
     "name": "stderr",
     "output_type": "stream",
     "text": [
      "/tmp/ipykernel_484454/817014300.py:14: DeprecationWarning: `product` is deprecated as of NumPy 1.25.0, and will be removed in NumPy 2.0. Please use `prod` instead.\n",
      "  eval_parametrized(model_qq)\n"
     ]
    },
    {
     "name": "stdout",
     "output_type": "stream",
     "text": [
      "811/811 [==============================] - 2s 2ms/step\n"
     ]
    },
    {
     "name": "stderr",
     "output_type": "stream",
     "text": [
      "/tmp/ipykernel_484454/817014300.py:14: DeprecationWarning: `product` is deprecated as of NumPy 1.25.0, and will be removed in NumPy 2.0. Please use `prod` instead.\n",
      "  eval_parametrized(model_qq)\n"
     ]
    },
    {
     "name": "stdout",
     "output_type": "stream",
     "text": [
      "811/811 [==============================] - 2s 2ms/step\n"
     ]
    },
    {
     "name": "stderr",
     "output_type": "stream",
     "text": [
      "/tmp/ipykernel_484454/817014300.py:14: DeprecationWarning: `product` is deprecated as of NumPy 1.25.0, and will be removed in NumPy 2.0. Please use `prod` instead.\n",
      "  eval_parametrized(model_qq)\n"
     ]
    },
    {
     "name": "stdout",
     "output_type": "stream",
     "text": [
      "810/810 [==============================] - 2s 2ms/step\n"
     ]
    },
    {
     "name": "stderr",
     "output_type": "stream",
     "text": [
      "/tmp/ipykernel_484454/817014300.py:14: DeprecationWarning: `product` is deprecated as of NumPy 1.25.0, and will be removed in NumPy 2.0. Please use `prod` instead.\n",
      "  eval_parametrized(model_qq)\n"
     ]
    },
    {
     "name": "stdout",
     "output_type": "stream",
     "text": [
      "810/810 [==============================] - 2s 2ms/step\n"
     ]
    },
    {
     "name": "stderr",
     "output_type": "stream",
     "text": [
      "/tmp/ipykernel_484454/817014300.py:14: DeprecationWarning: `product` is deprecated as of NumPy 1.25.0, and will be removed in NumPy 2.0. Please use `prod` instead.\n",
      "  eval_parametrized(model_qq)\n"
     ]
    },
    {
     "name": "stdout",
     "output_type": "stream",
     "text": [
      "809/809 [==============================] - 2s 3ms/step\n"
     ]
    },
    {
     "name": "stderr",
     "output_type": "stream",
     "text": [
      "/tmp/ipykernel_484454/817014300.py:14: DeprecationWarning: `product` is deprecated as of NumPy 1.25.0, and will be removed in NumPy 2.0. Please use `prod` instead.\n",
      "  eval_parametrized(model_qq)\n"
     ]
    },
    {
     "name": "stdout",
     "output_type": "stream",
     "text": [
      "808/808 [==============================] - 2s 2ms/step\n"
     ]
    },
    {
     "name": "stderr",
     "output_type": "stream",
     "text": [
      "/tmp/ipykernel_484454/817014300.py:14: DeprecationWarning: `product` is deprecated as of NumPy 1.25.0, and will be removed in NumPy 2.0. Please use `prod` instead.\n",
      "  eval_parametrized(model_qq)\n"
     ]
    },
    {
     "name": "stdout",
     "output_type": "stream",
     "text": [
      "806/806 [==============================] - 2s 2ms/step\n"
     ]
    },
    {
     "name": "stderr",
     "output_type": "stream",
     "text": [
      "/tmp/ipykernel_484454/817014300.py:14: DeprecationWarning: `product` is deprecated as of NumPy 1.25.0, and will be removed in NumPy 2.0. Please use `prod` instead.\n",
      "  eval_parametrized(model_qq)\n"
     ]
    },
    {
     "name": "stdout",
     "output_type": "stream",
     "text": [
      "803/803 [==============================] - 2s 3ms/step\n"
     ]
    },
    {
     "name": "stderr",
     "output_type": "stream",
     "text": [
      "/tmp/ipykernel_484454/817014300.py:14: DeprecationWarning: `product` is deprecated as of NumPy 1.25.0, and will be removed in NumPy 2.0. Please use `prod` instead.\n",
      "  eval_parametrized(model_qq)\n"
     ]
    },
    {
     "name": "stdout",
     "output_type": "stream",
     "text": [
      "799/799 [==============================] - 2s 2ms/step\n"
     ]
    },
    {
     "name": "stderr",
     "output_type": "stream",
     "text": [
      "/tmp/ipykernel_484454/817014300.py:14: DeprecationWarning: `product` is deprecated as of NumPy 1.25.0, and will be removed in NumPy 2.0. Please use `prod` instead.\n",
      "  eval_parametrized(model_qq)\n"
     ]
    },
    {
     "name": "stdout",
     "output_type": "stream",
     "text": [
      "795/795 [==============================] - 2s 2ms/step\n"
     ]
    },
    {
     "name": "stderr",
     "output_type": "stream",
     "text": [
      "/tmp/ipykernel_484454/817014300.py:14: DeprecationWarning: `product` is deprecated as of NumPy 1.25.0, and will be removed in NumPy 2.0. Please use `prod` instead.\n",
      "  eval_parametrized(model_qq)\n"
     ]
    },
    {
     "name": "stdout",
     "output_type": "stream",
     "text": [
      "807/807 [==============================] - 2s 2ms/step\n"
     ]
    },
    {
     "name": "stderr",
     "output_type": "stream",
     "text": [
      "/tmp/ipykernel_484454/817014300.py:14: DeprecationWarning: `product` is deprecated as of NumPy 1.25.0, and will be removed in NumPy 2.0. Please use `prod` instead.\n",
      "  eval_parametrized(model_qq)\n"
     ]
    },
    {
     "name": "stdout",
     "output_type": "stream",
     "text": [
      "809/809 [==============================] - 2s 2ms/step\n"
     ]
    },
    {
     "name": "stderr",
     "output_type": "stream",
     "text": [
      "/tmp/ipykernel_484454/817014300.py:14: DeprecationWarning: `product` is deprecated as of NumPy 1.25.0, and will be removed in NumPy 2.0. Please use `prod` instead.\n",
      "  eval_parametrized(model_qq)\n"
     ]
    },
    {
     "name": "stdout",
     "output_type": "stream",
     "text": [
      "810/810 [==============================] - 2s 2ms/step\n"
     ]
    },
    {
     "name": "stderr",
     "output_type": "stream",
     "text": [
      "/tmp/ipykernel_484454/817014300.py:14: DeprecationWarning: `product` is deprecated as of NumPy 1.25.0, and will be removed in NumPy 2.0. Please use `prod` instead.\n",
      "  eval_parametrized(model_qq)\n"
     ]
    },
    {
     "name": "stdout",
     "output_type": "stream",
     "text": [
      "810/810 [==============================] - 2s 2ms/step\n"
     ]
    },
    {
     "name": "stderr",
     "output_type": "stream",
     "text": [
      "/tmp/ipykernel_484454/817014300.py:14: DeprecationWarning: `product` is deprecated as of NumPy 1.25.0, and will be removed in NumPy 2.0. Please use `prod` instead.\n",
      "  eval_parametrized(model_qq)\n"
     ]
    },
    {
     "name": "stdout",
     "output_type": "stream",
     "text": [
      "810/810 [==============================] - 2s 2ms/step\n"
     ]
    },
    {
     "name": "stderr",
     "output_type": "stream",
     "text": [
      "/tmp/ipykernel_484454/817014300.py:14: DeprecationWarning: `product` is deprecated as of NumPy 1.25.0, and will be removed in NumPy 2.0. Please use `prod` instead.\n",
      "  eval_parametrized(model_qq)\n"
     ]
    },
    {
     "name": "stdout",
     "output_type": "stream",
     "text": [
      "809/809 [==============================] - 2s 2ms/step\n"
     ]
    },
    {
     "name": "stderr",
     "output_type": "stream",
     "text": [
      "/tmp/ipykernel_484454/817014300.py:14: DeprecationWarning: `product` is deprecated as of NumPy 1.25.0, and will be removed in NumPy 2.0. Please use `prod` instead.\n",
      "  eval_parametrized(model_qq)\n"
     ]
    },
    {
     "name": "stdout",
     "output_type": "stream",
     "text": [
      "808/808 [==============================] - 2s 3ms/step\n"
     ]
    },
    {
     "name": "stderr",
     "output_type": "stream",
     "text": [
      "/tmp/ipykernel_484454/817014300.py:14: DeprecationWarning: `product` is deprecated as of NumPy 1.25.0, and will be removed in NumPy 2.0. Please use `prod` instead.\n",
      "  eval_parametrized(model_qq)\n"
     ]
    },
    {
     "name": "stdout",
     "output_type": "stream",
     "text": [
      "807/807 [==============================] - 2s 2ms/step\n"
     ]
    },
    {
     "name": "stderr",
     "output_type": "stream",
     "text": [
      "/tmp/ipykernel_484454/817014300.py:14: DeprecationWarning: `product` is deprecated as of NumPy 1.25.0, and will be removed in NumPy 2.0. Please use `prod` instead.\n",
      "  eval_parametrized(model_qq)\n"
     ]
    },
    {
     "name": "stdout",
     "output_type": "stream",
     "text": [
      "806/806 [==============================] - 2s 3ms/step\n"
     ]
    },
    {
     "name": "stderr",
     "output_type": "stream",
     "text": [
      "/tmp/ipykernel_484454/817014300.py:14: DeprecationWarning: `product` is deprecated as of NumPy 1.25.0, and will be removed in NumPy 2.0. Please use `prod` instead.\n",
      "  eval_parametrized(model_qq)\n"
     ]
    },
    {
     "name": "stdout",
     "output_type": "stream",
     "text": [
      "803/803 [==============================] - 2s 2ms/step\n"
     ]
    },
    {
     "name": "stderr",
     "output_type": "stream",
     "text": [
      "/tmp/ipykernel_484454/817014300.py:14: DeprecationWarning: `product` is deprecated as of NumPy 1.25.0, and will be removed in NumPy 2.0. Please use `prod` instead.\n",
      "  eval_parametrized(model_qq)\n"
     ]
    },
    {
     "name": "stdout",
     "output_type": "stream",
     "text": [
      "799/799 [==============================] - 2s 2ms/step\n"
     ]
    },
    {
     "name": "stderr",
     "output_type": "stream",
     "text": [
      "/tmp/ipykernel_484454/817014300.py:14: DeprecationWarning: `product` is deprecated as of NumPy 1.25.0, and will be removed in NumPy 2.0. Please use `prod` instead.\n",
      "  eval_parametrized(model_qq)\n"
     ]
    },
    {
     "name": "stdout",
     "output_type": "stream",
     "text": [
      "790/790 [==============================] - 1s 2ms/step\n"
     ]
    },
    {
     "name": "stderr",
     "output_type": "stream",
     "text": [
      "/tmp/ipykernel_484454/817014300.py:14: DeprecationWarning: `product` is deprecated as of NumPy 1.25.0, and will be removed in NumPy 2.0. Please use `prod` instead.\n",
      "  eval_parametrized(model_qq)\n"
     ]
    },
    {
     "name": "stdout",
     "output_type": "stream",
     "text": [
      "805/805 [==============================] - 2s 3ms/step\n"
     ]
    },
    {
     "name": "stderr",
     "output_type": "stream",
     "text": [
      "/tmp/ipykernel_484454/817014300.py:14: DeprecationWarning: `product` is deprecated as of NumPy 1.25.0, and will be removed in NumPy 2.0. Please use `prod` instead.\n",
      "  eval_parametrized(model_qq)\n"
     ]
    },
    {
     "name": "stdout",
     "output_type": "stream",
     "text": [
      "808/808 [==============================] - 2s 2ms/step\n"
     ]
    },
    {
     "name": "stderr",
     "output_type": "stream",
     "text": [
      "/tmp/ipykernel_484454/817014300.py:14: DeprecationWarning: `product` is deprecated as of NumPy 1.25.0, and will be removed in NumPy 2.0. Please use `prod` instead.\n",
      "  eval_parametrized(model_qq)\n"
     ]
    },
    {
     "name": "stdout",
     "output_type": "stream",
     "text": [
      "809/809 [==============================] - 2s 3ms/step\n"
     ]
    },
    {
     "name": "stderr",
     "output_type": "stream",
     "text": [
      "/tmp/ipykernel_484454/817014300.py:14: DeprecationWarning: `product` is deprecated as of NumPy 1.25.0, and will be removed in NumPy 2.0. Please use `prod` instead.\n",
      "  eval_parametrized(model_qq)\n"
     ]
    },
    {
     "name": "stdout",
     "output_type": "stream",
     "text": [
      "809/809 [==============================] - 2s 2ms/step\n"
     ]
    },
    {
     "name": "stderr",
     "output_type": "stream",
     "text": [
      "/tmp/ipykernel_484454/817014300.py:14: DeprecationWarning: `product` is deprecated as of NumPy 1.25.0, and will be removed in NumPy 2.0. Please use `prod` instead.\n",
      "  eval_parametrized(model_qq)\n"
     ]
    },
    {
     "name": "stdout",
     "output_type": "stream",
     "text": [
      "809/809 [==============================] - 2s 3ms/step\n"
     ]
    },
    {
     "name": "stderr",
     "output_type": "stream",
     "text": [
      "/tmp/ipykernel_484454/817014300.py:14: DeprecationWarning: `product` is deprecated as of NumPy 1.25.0, and will be removed in NumPy 2.0. Please use `prod` instead.\n",
      "  eval_parametrized(model_qq)\n"
     ]
    },
    {
     "name": "stdout",
     "output_type": "stream",
     "text": [
      "809/809 [==============================] - 2s 3ms/step\n"
     ]
    },
    {
     "name": "stderr",
     "output_type": "stream",
     "text": [
      "/tmp/ipykernel_484454/817014300.py:14: DeprecationWarning: `product` is deprecated as of NumPy 1.25.0, and will be removed in NumPy 2.0. Please use `prod` instead.\n",
      "  eval_parametrized(model_qq)\n"
     ]
    },
    {
     "name": "stdout",
     "output_type": "stream",
     "text": [
      "808/808 [==============================] - 2s 2ms/step\n"
     ]
    },
    {
     "name": "stderr",
     "output_type": "stream",
     "text": [
      "/tmp/ipykernel_484454/817014300.py:14: DeprecationWarning: `product` is deprecated as of NumPy 1.25.0, and will be removed in NumPy 2.0. Please use `prod` instead.\n",
      "  eval_parametrized(model_qq)\n"
     ]
    },
    {
     "name": "stdout",
     "output_type": "stream",
     "text": [
      "807/807 [==============================] - 2s 2ms/step\n"
     ]
    },
    {
     "name": "stderr",
     "output_type": "stream",
     "text": [
      "/tmp/ipykernel_484454/817014300.py:14: DeprecationWarning: `product` is deprecated as of NumPy 1.25.0, and will be removed in NumPy 2.0. Please use `prod` instead.\n",
      "  eval_parametrized(model_qq)\n"
     ]
    },
    {
     "name": "stdout",
     "output_type": "stream",
     "text": [
      "805/805 [==============================] - 2s 2ms/step\n"
     ]
    },
    {
     "name": "stderr",
     "output_type": "stream",
     "text": [
      "/tmp/ipykernel_484454/817014300.py:14: DeprecationWarning: `product` is deprecated as of NumPy 1.25.0, and will be removed in NumPy 2.0. Please use `prod` instead.\n",
      "  eval_parametrized(model_qq)\n"
     ]
    },
    {
     "name": "stdout",
     "output_type": "stream",
     "text": [
      "803/803 [==============================] - 2s 3ms/step\n"
     ]
    },
    {
     "name": "stderr",
     "output_type": "stream",
     "text": [
      "/tmp/ipykernel_484454/817014300.py:14: DeprecationWarning: `product` is deprecated as of NumPy 1.25.0, and will be removed in NumPy 2.0. Please use `prod` instead.\n",
      "  eval_parametrized(model_qq)\n"
     ]
    },
    {
     "name": "stdout",
     "output_type": "stream",
     "text": [
      "798/798 [==============================] - 2s 2ms/step\n"
     ]
    },
    {
     "name": "stderr",
     "output_type": "stream",
     "text": [
      "/tmp/ipykernel_484454/817014300.py:14: DeprecationWarning: `product` is deprecated as of NumPy 1.25.0, and will be removed in NumPy 2.0. Please use `prod` instead.\n",
      "  eval_parametrized(model_qq)\n"
     ]
    },
    {
     "name": "stdout",
     "output_type": "stream",
     "text": [
      "784/784 [==============================] - 2s 2ms/step\n"
     ]
    },
    {
     "name": "stderr",
     "output_type": "stream",
     "text": [
      "/tmp/ipykernel_484454/817014300.py:14: DeprecationWarning: `product` is deprecated as of NumPy 1.25.0, and will be removed in NumPy 2.0. Please use `prod` instead.\n",
      "  eval_parametrized(model_qq)\n"
     ]
    },
    {
     "name": "stdout",
     "output_type": "stream",
     "text": [
      "803/803 [==============================] - 2s 2ms/step\n"
     ]
    },
    {
     "name": "stderr",
     "output_type": "stream",
     "text": [
      "/tmp/ipykernel_484454/817014300.py:14: DeprecationWarning: `product` is deprecated as of NumPy 1.25.0, and will be removed in NumPy 2.0. Please use `prod` instead.\n",
      "  eval_parametrized(model_qq)\n"
     ]
    },
    {
     "name": "stdout",
     "output_type": "stream",
     "text": [
      "807/807 [==============================] - 2s 2ms/step\n"
     ]
    },
    {
     "name": "stderr",
     "output_type": "stream",
     "text": [
      "/tmp/ipykernel_484454/817014300.py:14: DeprecationWarning: `product` is deprecated as of NumPy 1.25.0, and will be removed in NumPy 2.0. Please use `prod` instead.\n",
      "  eval_parametrized(model_qq)\n"
     ]
    },
    {
     "name": "stdout",
     "output_type": "stream",
     "text": [
      "808/808 [==============================] - 2s 2ms/step\n"
     ]
    },
    {
     "name": "stderr",
     "output_type": "stream",
     "text": [
      "/tmp/ipykernel_484454/817014300.py:14: DeprecationWarning: `product` is deprecated as of NumPy 1.25.0, and will be removed in NumPy 2.0. Please use `prod` instead.\n",
      "  eval_parametrized(model_qq)\n"
     ]
    },
    {
     "name": "stdout",
     "output_type": "stream",
     "text": [
      "809/809 [==============================] - 2s 2ms/step\n"
     ]
    },
    {
     "name": "stderr",
     "output_type": "stream",
     "text": [
      "/tmp/ipykernel_484454/817014300.py:14: DeprecationWarning: `product` is deprecated as of NumPy 1.25.0, and will be removed in NumPy 2.0. Please use `prod` instead.\n",
      "  eval_parametrized(model_qq)\n"
     ]
    },
    {
     "name": "stdout",
     "output_type": "stream",
     "text": [
      "808/808 [==============================] - 2s 2ms/step\n"
     ]
    },
    {
     "name": "stderr",
     "output_type": "stream",
     "text": [
      "/tmp/ipykernel_484454/817014300.py:14: DeprecationWarning: `product` is deprecated as of NumPy 1.25.0, and will be removed in NumPy 2.0. Please use `prod` instead.\n",
      "  eval_parametrized(model_qq)\n"
     ]
    },
    {
     "name": "stdout",
     "output_type": "stream",
     "text": [
      "808/808 [==============================] - 2s 2ms/step\n"
     ]
    },
    {
     "name": "stderr",
     "output_type": "stream",
     "text": [
      "/tmp/ipykernel_484454/817014300.py:14: DeprecationWarning: `product` is deprecated as of NumPy 1.25.0, and will be removed in NumPy 2.0. Please use `prod` instead.\n",
      "  eval_parametrized(model_qq)\n"
     ]
    },
    {
     "name": "stdout",
     "output_type": "stream",
     "text": [
      "807/807 [==============================] - 2s 2ms/step\n"
     ]
    },
    {
     "name": "stderr",
     "output_type": "stream",
     "text": [
      "/tmp/ipykernel_484454/817014300.py:14: DeprecationWarning: `product` is deprecated as of NumPy 1.25.0, and will be removed in NumPy 2.0. Please use `prod` instead.\n",
      "  eval_parametrized(model_qq)\n"
     ]
    },
    {
     "name": "stdout",
     "output_type": "stream",
     "text": [
      "806/806 [==============================] - 2s 2ms/step\n"
     ]
    },
    {
     "name": "stderr",
     "output_type": "stream",
     "text": [
      "/tmp/ipykernel_484454/817014300.py:14: DeprecationWarning: `product` is deprecated as of NumPy 1.25.0, and will be removed in NumPy 2.0. Please use `prod` instead.\n",
      "  eval_parametrized(model_qq)\n"
     ]
    },
    {
     "name": "stdout",
     "output_type": "stream",
     "text": [
      "804/804 [==============================] - 2s 3ms/step\n"
     ]
    },
    {
     "name": "stderr",
     "output_type": "stream",
     "text": [
      "/tmp/ipykernel_484454/817014300.py:14: DeprecationWarning: `product` is deprecated as of NumPy 1.25.0, and will be removed in NumPy 2.0. Please use `prod` instead.\n",
      "  eval_parametrized(model_qq)\n"
     ]
    },
    {
     "name": "stdout",
     "output_type": "stream",
     "text": [
      "802/802 [==============================] - 2s 2ms/step\n"
     ]
    },
    {
     "name": "stderr",
     "output_type": "stream",
     "text": [
      "/tmp/ipykernel_484454/817014300.py:14: DeprecationWarning: `product` is deprecated as of NumPy 1.25.0, and will be removed in NumPy 2.0. Please use `prod` instead.\n",
      "  eval_parametrized(model_qq)\n"
     ]
    },
    {
     "name": "stdout",
     "output_type": "stream",
     "text": [
      "798/798 [==============================] - 2s 2ms/step\n"
     ]
    },
    {
     "name": "stderr",
     "output_type": "stream",
     "text": [
      "/tmp/ipykernel_484454/817014300.py:14: DeprecationWarning: `product` is deprecated as of NumPy 1.25.0, and will be removed in NumPy 2.0. Please use `prod` instead.\n",
      "  eval_parametrized(model_qq)\n"
     ]
    },
    {
     "name": "stdout",
     "output_type": "stream",
     "text": [
      "779/779 [==============================] - 2s 3ms/step\n"
     ]
    },
    {
     "name": "stderr",
     "output_type": "stream",
     "text": [
      "/tmp/ipykernel_484454/817014300.py:14: DeprecationWarning: `product` is deprecated as of NumPy 1.25.0, and will be removed in NumPy 2.0. Please use `prod` instead.\n",
      "  eval_parametrized(model_qq)\n"
     ]
    },
    {
     "name": "stdout",
     "output_type": "stream",
     "text": [
      "800/800 [==============================] - 2s 2ms/step\n"
     ]
    },
    {
     "name": "stderr",
     "output_type": "stream",
     "text": [
      "/tmp/ipykernel_484454/817014300.py:14: DeprecationWarning: `product` is deprecated as of NumPy 1.25.0, and will be removed in NumPy 2.0. Please use `prod` instead.\n",
      "  eval_parametrized(model_qq)\n"
     ]
    },
    {
     "name": "stdout",
     "output_type": "stream",
     "text": [
      "805/805 [==============================] - 2s 3ms/step\n"
     ]
    },
    {
     "name": "stderr",
     "output_type": "stream",
     "text": [
      "/tmp/ipykernel_484454/817014300.py:14: DeprecationWarning: `product` is deprecated as of NumPy 1.25.0, and will be removed in NumPy 2.0. Please use `prod` instead.\n",
      "  eval_parametrized(model_qq)\n"
     ]
    },
    {
     "name": "stdout",
     "output_type": "stream",
     "text": [
      "807/807 [==============================] - 2s 2ms/step\n"
     ]
    },
    {
     "name": "stderr",
     "output_type": "stream",
     "text": [
      "/tmp/ipykernel_484454/817014300.py:14: DeprecationWarning: `product` is deprecated as of NumPy 1.25.0, and will be removed in NumPy 2.0. Please use `prod` instead.\n",
      "  eval_parametrized(model_qq)\n"
     ]
    },
    {
     "name": "stdout",
     "output_type": "stream",
     "text": [
      "807/807 [==============================] - 2s 3ms/step\n"
     ]
    },
    {
     "name": "stderr",
     "output_type": "stream",
     "text": [
      "/tmp/ipykernel_484454/817014300.py:14: DeprecationWarning: `product` is deprecated as of NumPy 1.25.0, and will be removed in NumPy 2.0. Please use `prod` instead.\n",
      "  eval_parametrized(model_qq)\n"
     ]
    },
    {
     "name": "stdout",
     "output_type": "stream",
     "text": [
      "807/807 [==============================] - 2s 2ms/step\n"
     ]
    },
    {
     "name": "stderr",
     "output_type": "stream",
     "text": [
      "/tmp/ipykernel_484454/817014300.py:14: DeprecationWarning: `product` is deprecated as of NumPy 1.25.0, and will be removed in NumPy 2.0. Please use `prod` instead.\n",
      "  eval_parametrized(model_qq)\n"
     ]
    },
    {
     "name": "stdout",
     "output_type": "stream",
     "text": [
      "807/807 [==============================] - 2s 3ms/step\n"
     ]
    },
    {
     "name": "stderr",
     "output_type": "stream",
     "text": [
      "/tmp/ipykernel_484454/817014300.py:14: DeprecationWarning: `product` is deprecated as of NumPy 1.25.0, and will be removed in NumPy 2.0. Please use `prod` instead.\n",
      "  eval_parametrized(model_qq)\n"
     ]
    },
    {
     "name": "stdout",
     "output_type": "stream",
     "text": [
      "806/806 [==============================] - 2s 3ms/step\n"
     ]
    },
    {
     "name": "stderr",
     "output_type": "stream",
     "text": [
      "/tmp/ipykernel_484454/817014300.py:14: DeprecationWarning: `product` is deprecated as of NumPy 1.25.0, and will be removed in NumPy 2.0. Please use `prod` instead.\n",
      "  eval_parametrized(model_qq)\n"
     ]
    },
    {
     "name": "stdout",
     "output_type": "stream",
     "text": [
      "805/805 [==============================] - 2s 2ms/step\n"
     ]
    },
    {
     "name": "stderr",
     "output_type": "stream",
     "text": [
      "/tmp/ipykernel_484454/817014300.py:14: DeprecationWarning: `product` is deprecated as of NumPy 1.25.0, and will be removed in NumPy 2.0. Please use `prod` instead.\n",
      "  eval_parametrized(model_qq)\n"
     ]
    },
    {
     "name": "stdout",
     "output_type": "stream",
     "text": [
      "804/804 [==============================] - 2s 2ms/step\n"
     ]
    },
    {
     "name": "stderr",
     "output_type": "stream",
     "text": [
      "/tmp/ipykernel_484454/817014300.py:14: DeprecationWarning: `product` is deprecated as of NumPy 1.25.0, and will be removed in NumPy 2.0. Please use `prod` instead.\n",
      "  eval_parametrized(model_qq)\n"
     ]
    },
    {
     "name": "stdout",
     "output_type": "stream",
     "text": [
      "801/801 [==============================] - 2s 2ms/step\n"
     ]
    },
    {
     "name": "stderr",
     "output_type": "stream",
     "text": [
      "/tmp/ipykernel_484454/817014300.py:14: DeprecationWarning: `product` is deprecated as of NumPy 1.25.0, and will be removed in NumPy 2.0. Please use `prod` instead.\n",
      "  eval_parametrized(model_qq)\n"
     ]
    },
    {
     "name": "stdout",
     "output_type": "stream",
     "text": [
      "797/797 [==============================] - 2s 2ms/step\n"
     ]
    },
    {
     "name": "stderr",
     "output_type": "stream",
     "text": [
      "/tmp/ipykernel_484454/817014300.py:14: DeprecationWarning: `product` is deprecated as of NumPy 1.25.0, and will be removed in NumPy 2.0. Please use `prod` instead.\n",
      "  eval_parametrized(model_qq)\n"
     ]
    },
    {
     "name": "stdout",
     "output_type": "stream",
     "text": [
      "773/773 [==============================] - 2s 2ms/step\n"
     ]
    },
    {
     "name": "stderr",
     "output_type": "stream",
     "text": [
      "/tmp/ipykernel_484454/817014300.py:14: DeprecationWarning: `product` is deprecated as of NumPy 1.25.0, and will be removed in NumPy 2.0. Please use `prod` instead.\n",
      "  eval_parametrized(model_qq)\n"
     ]
    },
    {
     "name": "stdout",
     "output_type": "stream",
     "text": [
      "797/797 [==============================] - 2s 2ms/step\n"
     ]
    },
    {
     "name": "stderr",
     "output_type": "stream",
     "text": [
      "/tmp/ipykernel_484454/817014300.py:14: DeprecationWarning: `product` is deprecated as of NumPy 1.25.0, and will be removed in NumPy 2.0. Please use `prod` instead.\n",
      "  eval_parametrized(model_qq)\n"
     ]
    },
    {
     "name": "stdout",
     "output_type": "stream",
     "text": [
      "803/803 [==============================] - 2s 2ms/step\n"
     ]
    },
    {
     "name": "stderr",
     "output_type": "stream",
     "text": [
      "/tmp/ipykernel_484454/817014300.py:14: DeprecationWarning: `product` is deprecated as of NumPy 1.25.0, and will be removed in NumPy 2.0. Please use `prod` instead.\n",
      "  eval_parametrized(model_qq)\n"
     ]
    },
    {
     "name": "stdout",
     "output_type": "stream",
     "text": [
      "805/805 [==============================] - 2s 2ms/step\n"
     ]
    },
    {
     "name": "stderr",
     "output_type": "stream",
     "text": [
      "/tmp/ipykernel_484454/817014300.py:14: DeprecationWarning: `product` is deprecated as of NumPy 1.25.0, and will be removed in NumPy 2.0. Please use `prod` instead.\n",
      "  eval_parametrized(model_qq)\n"
     ]
    },
    {
     "name": "stdout",
     "output_type": "stream",
     "text": [
      "806/806 [==============================] - 2s 2ms/step\n"
     ]
    },
    {
     "name": "stderr",
     "output_type": "stream",
     "text": [
      "/tmp/ipykernel_484454/817014300.py:14: DeprecationWarning: `product` is deprecated as of NumPy 1.25.0, and will be removed in NumPy 2.0. Please use `prod` instead.\n",
      "  eval_parametrized(model_qq)\n"
     ]
    },
    {
     "name": "stdout",
     "output_type": "stream",
     "text": [
      "806/806 [==============================] - 2s 2ms/step\n"
     ]
    },
    {
     "name": "stderr",
     "output_type": "stream",
     "text": [
      "/tmp/ipykernel_484454/817014300.py:14: DeprecationWarning: `product` is deprecated as of NumPy 1.25.0, and will be removed in NumPy 2.0. Please use `prod` instead.\n",
      "  eval_parametrized(model_qq)\n"
     ]
    },
    {
     "name": "stdout",
     "output_type": "stream",
     "text": [
      "806/806 [==============================] - 2s 2ms/step\n"
     ]
    },
    {
     "name": "stderr",
     "output_type": "stream",
     "text": [
      "/tmp/ipykernel_484454/817014300.py:14: DeprecationWarning: `product` is deprecated as of NumPy 1.25.0, and will be removed in NumPy 2.0. Please use `prod` instead.\n",
      "  eval_parametrized(model_qq)\n"
     ]
    },
    {
     "name": "stdout",
     "output_type": "stream",
     "text": [
      "805/805 [==============================] - 2s 2ms/step\n"
     ]
    },
    {
     "name": "stderr",
     "output_type": "stream",
     "text": [
      "/tmp/ipykernel_484454/817014300.py:14: DeprecationWarning: `product` is deprecated as of NumPy 1.25.0, and will be removed in NumPy 2.0. Please use `prod` instead.\n",
      "  eval_parametrized(model_qq)\n"
     ]
    },
    {
     "name": "stdout",
     "output_type": "stream",
     "text": [
      "804/804 [==============================] - 2s 3ms/step\n"
     ]
    },
    {
     "name": "stderr",
     "output_type": "stream",
     "text": [
      "/tmp/ipykernel_484454/817014300.py:14: DeprecationWarning: `product` is deprecated as of NumPy 1.25.0, and will be removed in NumPy 2.0. Please use `prod` instead.\n",
      "  eval_parametrized(model_qq)\n"
     ]
    },
    {
     "name": "stdout",
     "output_type": "stream",
     "text": [
      "802/802 [==============================] - 2s 3ms/step\n"
     ]
    },
    {
     "name": "stderr",
     "output_type": "stream",
     "text": [
      "/tmp/ipykernel_484454/817014300.py:14: DeprecationWarning: `product` is deprecated as of NumPy 1.25.0, and will be removed in NumPy 2.0. Please use `prod` instead.\n",
      "  eval_parametrized(model_qq)\n"
     ]
    },
    {
     "name": "stdout",
     "output_type": "stream",
     "text": [
      "800/800 [==============================] - 2s 3ms/step\n"
     ]
    },
    {
     "name": "stderr",
     "output_type": "stream",
     "text": [
      "/tmp/ipykernel_484454/817014300.py:14: DeprecationWarning: `product` is deprecated as of NumPy 1.25.0, and will be removed in NumPy 2.0. Please use `prod` instead.\n",
      "  eval_parametrized(model_qq)\n"
     ]
    },
    {
     "name": "stdout",
     "output_type": "stream",
     "text": [
      "796/796 [==============================] - 2s 2ms/step\n"
     ]
    },
    {
     "name": "stderr",
     "output_type": "stream",
     "text": [
      "/tmp/ipykernel_484454/817014300.py:14: DeprecationWarning: `product` is deprecated as of NumPy 1.25.0, and will be removed in NumPy 2.0. Please use `prod` instead.\n",
      "  eval_parametrized(model_qq)\n"
     ]
    },
    {
     "name": "stdout",
     "output_type": "stream",
     "text": [
      "768/768 [==============================] - 2s 2ms/step\n"
     ]
    },
    {
     "name": "stderr",
     "output_type": "stream",
     "text": [
      "/tmp/ipykernel_484454/817014300.py:14: DeprecationWarning: `product` is deprecated as of NumPy 1.25.0, and will be removed in NumPy 2.0. Please use `prod` instead.\n",
      "  eval_parametrized(model_qq)\n"
     ]
    },
    {
     "name": "stdout",
     "output_type": "stream",
     "text": [
      "793/793 [==============================] - 2s 3ms/step\n"
     ]
    },
    {
     "name": "stderr",
     "output_type": "stream",
     "text": [
      "/tmp/ipykernel_484454/817014300.py:14: DeprecationWarning: `product` is deprecated as of NumPy 1.25.0, and will be removed in NumPy 2.0. Please use `prod` instead.\n",
      "  eval_parametrized(model_qq)\n"
     ]
    },
    {
     "name": "stdout",
     "output_type": "stream",
     "text": [
      "800/800 [==============================] - 2s 2ms/step\n"
     ]
    },
    {
     "name": "stderr",
     "output_type": "stream",
     "text": [
      "/tmp/ipykernel_484454/817014300.py:14: DeprecationWarning: `product` is deprecated as of NumPy 1.25.0, and will be removed in NumPy 2.0. Please use `prod` instead.\n",
      "  eval_parametrized(model_qq)\n"
     ]
    },
    {
     "name": "stdout",
     "output_type": "stream",
     "text": [
      "803/803 [==============================] - 2s 2ms/step\n"
     ]
    },
    {
     "name": "stderr",
     "output_type": "stream",
     "text": [
      "/tmp/ipykernel_484454/817014300.py:14: DeprecationWarning: `product` is deprecated as of NumPy 1.25.0, and will be removed in NumPy 2.0. Please use `prod` instead.\n",
      "  eval_parametrized(model_qq)\n"
     ]
    },
    {
     "name": "stdout",
     "output_type": "stream",
     "text": [
      "804/804 [==============================] - 2s 3ms/step\n"
     ]
    },
    {
     "name": "stderr",
     "output_type": "stream",
     "text": [
      "/tmp/ipykernel_484454/817014300.py:14: DeprecationWarning: `product` is deprecated as of NumPy 1.25.0, and will be removed in NumPy 2.0. Please use `prod` instead.\n",
      "  eval_parametrized(model_qq)\n"
     ]
    },
    {
     "name": "stdout",
     "output_type": "stream",
     "text": [
      "804/804 [==============================] - 2s 2ms/step\n"
     ]
    },
    {
     "name": "stderr",
     "output_type": "stream",
     "text": [
      "/tmp/ipykernel_484454/817014300.py:14: DeprecationWarning: `product` is deprecated as of NumPy 1.25.0, and will be removed in NumPy 2.0. Please use `prod` instead.\n",
      "  eval_parametrized(model_qq)\n"
     ]
    },
    {
     "name": "stdout",
     "output_type": "stream",
     "text": [
      "804/804 [==============================] - 2s 2ms/step\n"
     ]
    },
    {
     "name": "stderr",
     "output_type": "stream",
     "text": [
      "/tmp/ipykernel_484454/817014300.py:14: DeprecationWarning: `product` is deprecated as of NumPy 1.25.0, and will be removed in NumPy 2.0. Please use `prod` instead.\n",
      "  eval_parametrized(model_qq)\n"
     ]
    },
    {
     "name": "stdout",
     "output_type": "stream",
     "text": [
      "803/803 [==============================] - 2s 2ms/step\n"
     ]
    },
    {
     "name": "stderr",
     "output_type": "stream",
     "text": [
      "/tmp/ipykernel_484454/817014300.py:14: DeprecationWarning: `product` is deprecated as of NumPy 1.25.0, and will be removed in NumPy 2.0. Please use `prod` instead.\n",
      "  eval_parametrized(model_qq)\n"
     ]
    },
    {
     "name": "stdout",
     "output_type": "stream",
     "text": [
      "803/803 [==============================] - 2s 2ms/step\n"
     ]
    },
    {
     "name": "stderr",
     "output_type": "stream",
     "text": [
      "/tmp/ipykernel_484454/817014300.py:14: DeprecationWarning: `product` is deprecated as of NumPy 1.25.0, and will be removed in NumPy 2.0. Please use `prod` instead.\n",
      "  eval_parametrized(model_qq)\n"
     ]
    },
    {
     "name": "stdout",
     "output_type": "stream",
     "text": [
      "800/800 [==============================] - 2s 2ms/step\n"
     ]
    },
    {
     "name": "stderr",
     "output_type": "stream",
     "text": [
      "/tmp/ipykernel_484454/817014300.py:14: DeprecationWarning: `product` is deprecated as of NumPy 1.25.0, and will be removed in NumPy 2.0. Please use `prod` instead.\n",
      "  eval_parametrized(model_qq)\n"
     ]
    },
    {
     "name": "stdout",
     "output_type": "stream",
     "text": [
      "798/798 [==============================] - 2s 2ms/step\n"
     ]
    },
    {
     "name": "stderr",
     "output_type": "stream",
     "text": [
      "/tmp/ipykernel_484454/817014300.py:14: DeprecationWarning: `product` is deprecated as of NumPy 1.25.0, and will be removed in NumPy 2.0. Please use `prod` instead.\n",
      "  eval_parametrized(model_qq)\n"
     ]
    },
    {
     "name": "stdout",
     "output_type": "stream",
     "text": [
      "794/794 [==============================] - 2s 2ms/step\n"
     ]
    },
    {
     "name": "stderr",
     "output_type": "stream",
     "text": [
      "/tmp/ipykernel_484454/817014300.py:14: DeprecationWarning: `product` is deprecated as of NumPy 1.25.0, and will be removed in NumPy 2.0. Please use `prod` instead.\n",
      "  eval_parametrized(model_qq)\n"
     ]
    },
    {
     "name": "stdout",
     "output_type": "stream",
     "text": [
      "763/763 [==============================] - 2s 2ms/step\n"
     ]
    },
    {
     "name": "stderr",
     "output_type": "stream",
     "text": [
      "/tmp/ipykernel_484454/817014300.py:14: DeprecationWarning: `product` is deprecated as of NumPy 1.25.0, and will be removed in NumPy 2.0. Please use `prod` instead.\n",
      "  eval_parametrized(model_qq)\n"
     ]
    },
    {
     "name": "stdout",
     "output_type": "stream",
     "text": [
      "788/788 [==============================] - 2s 2ms/step\n"
     ]
    },
    {
     "name": "stderr",
     "output_type": "stream",
     "text": [
      "/tmp/ipykernel_484454/817014300.py:14: DeprecationWarning: `product` is deprecated as of NumPy 1.25.0, and will be removed in NumPy 2.0. Please use `prod` instead.\n",
      "  eval_parametrized(model_qq)\n"
     ]
    },
    {
     "name": "stdout",
     "output_type": "stream",
     "text": [
      "797/797 [==============================] - 2s 2ms/step\n"
     ]
    },
    {
     "name": "stderr",
     "output_type": "stream",
     "text": [
      "/tmp/ipykernel_484454/817014300.py:14: DeprecationWarning: `product` is deprecated as of NumPy 1.25.0, and will be removed in NumPy 2.0. Please use `prod` instead.\n",
      "  eval_parametrized(model_qq)\n"
     ]
    },
    {
     "name": "stdout",
     "output_type": "stream",
     "text": [
      "800/800 [==============================] - 2s 2ms/step\n"
     ]
    },
    {
     "name": "stderr",
     "output_type": "stream",
     "text": [
      "/tmp/ipykernel_484454/817014300.py:14: DeprecationWarning: `product` is deprecated as of NumPy 1.25.0, and will be removed in NumPy 2.0. Please use `prod` instead.\n",
      "  eval_parametrized(model_qq)\n"
     ]
    },
    {
     "name": "stdout",
     "output_type": "stream",
     "text": [
      "801/801 [==============================] - 2s 2ms/step\n"
     ]
    },
    {
     "name": "stderr",
     "output_type": "stream",
     "text": [
      "/tmp/ipykernel_484454/817014300.py:14: DeprecationWarning: `product` is deprecated as of NumPy 1.25.0, and will be removed in NumPy 2.0. Please use `prod` instead.\n",
      "  eval_parametrized(model_qq)\n"
     ]
    },
    {
     "name": "stdout",
     "output_type": "stream",
     "text": [
      "801/801 [==============================] - 2s 2ms/step\n"
     ]
    },
    {
     "name": "stderr",
     "output_type": "stream",
     "text": [
      "/tmp/ipykernel_484454/817014300.py:14: DeprecationWarning: `product` is deprecated as of NumPy 1.25.0, and will be removed in NumPy 2.0. Please use `prod` instead.\n",
      "  eval_parametrized(model_qq)\n"
     ]
    },
    {
     "name": "stdout",
     "output_type": "stream",
     "text": [
      "801/801 [==============================] - 2s 2ms/step\n"
     ]
    },
    {
     "name": "stderr",
     "output_type": "stream",
     "text": [
      "/tmp/ipykernel_484454/817014300.py:14: DeprecationWarning: `product` is deprecated as of NumPy 1.25.0, and will be removed in NumPy 2.0. Please use `prod` instead.\n",
      "  eval_parametrized(model_qq)\n"
     ]
    },
    {
     "name": "stdout",
     "output_type": "stream",
     "text": [
      "800/800 [==============================] - 2s 2ms/step\n"
     ]
    },
    {
     "name": "stderr",
     "output_type": "stream",
     "text": [
      "/tmp/ipykernel_484454/817014300.py:14: DeprecationWarning: `product` is deprecated as of NumPy 1.25.0, and will be removed in NumPy 2.0. Please use `prod` instead.\n",
      "  eval_parametrized(model_qq)\n"
     ]
    },
    {
     "name": "stdout",
     "output_type": "stream",
     "text": [
      "800/800 [==============================] - 2s 2ms/step\n"
     ]
    },
    {
     "name": "stderr",
     "output_type": "stream",
     "text": [
      "/tmp/ipykernel_484454/817014300.py:14: DeprecationWarning: `product` is deprecated as of NumPy 1.25.0, and will be removed in NumPy 2.0. Please use `prod` instead.\n",
      "  eval_parametrized(model_qq)\n"
     ]
    },
    {
     "name": "stdout",
     "output_type": "stream",
     "text": [
      "798/798 [==============================] - 2s 3ms/step\n"
     ]
    },
    {
     "name": "stderr",
     "output_type": "stream",
     "text": [
      "/tmp/ipykernel_484454/817014300.py:14: DeprecationWarning: `product` is deprecated as of NumPy 1.25.0, and will be removed in NumPy 2.0. Please use `prod` instead.\n",
      "  eval_parametrized(model_qq)\n"
     ]
    },
    {
     "name": "stdout",
     "output_type": "stream",
     "text": [
      "795/795 [==============================] - 2s 2ms/step\n"
     ]
    },
    {
     "name": "stderr",
     "output_type": "stream",
     "text": [
      "/tmp/ipykernel_484454/817014300.py:14: DeprecationWarning: `product` is deprecated as of NumPy 1.25.0, and will be removed in NumPy 2.0. Please use `prod` instead.\n",
      "  eval_parametrized(model_qq)\n"
     ]
    },
    {
     "name": "stdout",
     "output_type": "stream",
     "text": [
      "791/791 [==============================] - 2s 2ms/step\n"
     ]
    },
    {
     "name": "stderr",
     "output_type": "stream",
     "text": [
      "/tmp/ipykernel_484454/817014300.py:14: DeprecationWarning: `product` is deprecated as of NumPy 1.25.0, and will be removed in NumPy 2.0. Please use `prod` instead.\n",
      "  eval_parametrized(model_qq)\n"
     ]
    },
    {
     "name": "stdout",
     "output_type": "stream",
     "text": [
      "758/758 [==============================] - 2s 2ms/step\n"
     ]
    },
    {
     "name": "stderr",
     "output_type": "stream",
     "text": [
      "/tmp/ipykernel_484454/817014300.py:14: DeprecationWarning: `product` is deprecated as of NumPy 1.25.0, and will be removed in NumPy 2.0. Please use `prod` instead.\n",
      "  eval_parametrized(model_qq)\n"
     ]
    },
    {
     "name": "stdout",
     "output_type": "stream",
     "text": [
      "783/783 [==============================] - 2s 2ms/step\n"
     ]
    },
    {
     "name": "stderr",
     "output_type": "stream",
     "text": [
      "/tmp/ipykernel_484454/817014300.py:14: DeprecationWarning: `product` is deprecated as of NumPy 1.25.0, and will be removed in NumPy 2.0. Please use `prod` instead.\n",
      "  eval_parametrized(model_qq)\n"
     ]
    },
    {
     "name": "stdout",
     "output_type": "stream",
     "text": [
      "791/791 [==============================] - 2s 2ms/step\n"
     ]
    },
    {
     "name": "stderr",
     "output_type": "stream",
     "text": [
      "/tmp/ipykernel_484454/817014300.py:14: DeprecationWarning: `product` is deprecated as of NumPy 1.25.0, and will be removed in NumPy 2.0. Please use `prod` instead.\n",
      "  eval_parametrized(model_qq)\n"
     ]
    },
    {
     "name": "stdout",
     "output_type": "stream",
     "text": [
      "795/795 [==============================] - 2s 2ms/step\n"
     ]
    },
    {
     "name": "stderr",
     "output_type": "stream",
     "text": [
      "/tmp/ipykernel_484454/817014300.py:14: DeprecationWarning: `product` is deprecated as of NumPy 1.25.0, and will be removed in NumPy 2.0. Please use `prod` instead.\n",
      "  eval_parametrized(model_qq)\n"
     ]
    },
    {
     "name": "stdout",
     "output_type": "stream",
     "text": [
      "797/797 [==============================] - 2s 2ms/step\n"
     ]
    },
    {
     "name": "stderr",
     "output_type": "stream",
     "text": [
      "/tmp/ipykernel_484454/817014300.py:14: DeprecationWarning: `product` is deprecated as of NumPy 1.25.0, and will be removed in NumPy 2.0. Please use `prod` instead.\n",
      "  eval_parametrized(model_qq)\n"
     ]
    },
    {
     "name": "stdout",
     "output_type": "stream",
     "text": [
      "797/797 [==============================] - 2s 2ms/step\n"
     ]
    },
    {
     "name": "stderr",
     "output_type": "stream",
     "text": [
      "/tmp/ipykernel_484454/817014300.py:14: DeprecationWarning: `product` is deprecated as of NumPy 1.25.0, and will be removed in NumPy 2.0. Please use `prod` instead.\n",
      "  eval_parametrized(model_qq)\n"
     ]
    },
    {
     "name": "stdout",
     "output_type": "stream",
     "text": [
      "797/797 [==============================] - 2s 2ms/step\n"
     ]
    },
    {
     "name": "stderr",
     "output_type": "stream",
     "text": [
      "/tmp/ipykernel_484454/817014300.py:14: DeprecationWarning: `product` is deprecated as of NumPy 1.25.0, and will be removed in NumPy 2.0. Please use `prod` instead.\n",
      "  eval_parametrized(model_qq)\n"
     ]
    },
    {
     "name": "stdout",
     "output_type": "stream",
     "text": [
      "796/796 [==============================] - 2s 2ms/step\n"
     ]
    },
    {
     "name": "stderr",
     "output_type": "stream",
     "text": [
      "/tmp/ipykernel_484454/817014300.py:14: DeprecationWarning: `product` is deprecated as of NumPy 1.25.0, and will be removed in NumPy 2.0. Please use `prod` instead.\n",
      "  eval_parametrized(model_qq)\n"
     ]
    },
    {
     "name": "stdout",
     "output_type": "stream",
     "text": [
      "796/796 [==============================] - 2s 2ms/step\n"
     ]
    },
    {
     "name": "stderr",
     "output_type": "stream",
     "text": [
      "/tmp/ipykernel_484454/817014300.py:14: DeprecationWarning: `product` is deprecated as of NumPy 1.25.0, and will be removed in NumPy 2.0. Please use `prod` instead.\n",
      "  eval_parametrized(model_qq)\n"
     ]
    },
    {
     "name": "stdout",
     "output_type": "stream",
     "text": [
      "794/794 [==============================] - 2s 2ms/step\n"
     ]
    },
    {
     "name": "stderr",
     "output_type": "stream",
     "text": [
      "/tmp/ipykernel_484454/817014300.py:14: DeprecationWarning: `product` is deprecated as of NumPy 1.25.0, and will be removed in NumPy 2.0. Please use `prod` instead.\n",
      "  eval_parametrized(model_qq)\n"
     ]
    },
    {
     "name": "stdout",
     "output_type": "stream",
     "text": [
      "791/791 [==============================] - 2s 2ms/step\n"
     ]
    },
    {
     "name": "stderr",
     "output_type": "stream",
     "text": [
      "/tmp/ipykernel_484454/817014300.py:14: DeprecationWarning: `product` is deprecated as of NumPy 1.25.0, and will be removed in NumPy 2.0. Please use `prod` instead.\n",
      "  eval_parametrized(model_qq)\n"
     ]
    },
    {
     "name": "stdout",
     "output_type": "stream",
     "text": [
      "788/788 [==============================] - 2s 3ms/step\n"
     ]
    },
    {
     "data": {
      "text/plain": [
       "{(0.5,\n",
       "  0.5): [array([0.        , 0.        , 0.        , ..., 0.99766416, 0.99766688,\n",
       "         1.        ]), array([0.00000000e+00, 1.32826820e-05, 5.04741917e-04, ...,\n",
       "         1.00000000e+00, 1.00000000e+00, 1.00000000e+00])],\n",
       " (0.5,\n",
       "  1): [array([0.        , 0.        , 0.        , ..., 0.99589082, 0.99589355,\n",
       "         1.        ]), array([0.00000000e+00, 1.31015237e-05, 1.42806608e-03, ...,\n",
       "         1.00000000e+00, 1.00000000e+00, 1.00000000e+00])],\n",
       " (0.5,\n",
       "  1.5): [array([0.        , 0.        , 0.        , ..., 0.9955081 , 0.99551082,\n",
       "         1.        ]), array([0.00000000e+00, 1.30749719e-05, 7.06048482e-04, ...,\n",
       "         1.00000000e+00, 1.00000000e+00, 1.00000000e+00])],\n",
       " (0.5,\n",
       "  2): [array([0.        , 0.        , 0.        , ..., 0.99787118, 0.99787391,\n",
       "         1.        ]), array([0.00000000e+00, 1.31475151e-05, 1.31475151e-04, ...,\n",
       "         1.00000000e+00, 1.00000000e+00, 1.00000000e+00])],\n",
       " (0.5,\n",
       "  2.5): [array([0.        , 0.        , 0.        , ..., 0.996881  , 0.99688373,\n",
       "         1.        ]), array([0.00000000e+00, 1.31844371e-05, 3.42795364e-04, ...,\n",
       "         1.00000000e+00, 1.00000000e+00, 1.00000000e+00])],\n",
       " (0.5,\n",
       "  3): [array([0.        , 0.        , 0.        , ..., 0.99789434, 0.99789706,\n",
       "         1.        ]), array([0.00000000e+00, 1.32350411e-05, 4.49991397e-04, ...,\n",
       "         1.00000000e+00, 1.00000000e+00, 1.00000000e+00])],\n",
       " (0.5,\n",
       "  3.5): [array([0.        , 0.        , 0.        , ..., 0.99846093, 0.99846365,\n",
       "         1.        ]), array([0.0000000e+00, 1.3389211e-05, 8.3013108e-04, ..., 1.0000000e+00,\n",
       "         1.0000000e+00, 1.0000000e+00])],\n",
       " (0.5,\n",
       "  4): [array([0.        , 0.        , 0.        , ..., 0.99695319, 0.99695591,\n",
       "         1.        ]), array([0.00000000e+00, 1.35858490e-05, 1.61671603e-03, ...,\n",
       "         1.00000000e+00, 1.00000000e+00, 1.00000000e+00])],\n",
       " (0.5,\n",
       "  4.5): [array([0.        , 0.        , 0.        , ..., 0.99704308, 0.9970458 ,\n",
       "         1.        ]), array([0.00000000e+00, 1.37498625e-05, 3.29996700e-04, ...,\n",
       "         1.00000000e+00, 1.00000000e+00, 1.00000000e+00])],\n",
       " (0.5,\n",
       "  5): [array([0.        , 0.        , 0.        , ..., 0.99736451, 0.99736724,\n",
       "         1.        ]), array([0.00000000e+00, 1.41133300e-05, 5.08079881e-04, ...,\n",
       "         1.00000000e+00, 1.00000000e+00, 1.00000000e+00])],\n",
       " (0.5,\n",
       "  5.5): [array([0.        , 0.        , 0.        , ..., 0.99560344, 0.99560616,\n",
       "         1.        ]), array([0.00000000e+00, 1.46260842e-05, 1.75513010e-04, ...,\n",
       "         1.00000000e+00, 1.00000000e+00, 1.00000000e+00])],\n",
       " (0.5,\n",
       "  6): [array([0.        , 0.        , 0.        , ..., 0.99895534, 0.99895806,\n",
       "         1.        ]), array([0.00000000e+00, 1.55940555e-05, 2.16757372e-03, ...,\n",
       "         1.00000000e+00, 1.00000000e+00, 1.00000000e+00])],\n",
       " (1,\n",
       "  0.5): [array([0.        , 0.        , 0.        , ..., 0.9973114 , 0.99731412,\n",
       "         1.        ]), array([0.00000000e+00, 1.35327153e-05, 4.46579606e-04, ...,\n",
       "         1.00000000e+00, 1.00000000e+00, 1.00000000e+00])],\n",
       " (1,\n",
       "  1): [array([0.        , 0.        , 0.        , ..., 0.99614143, 0.99614415,\n",
       "         1.        ]), array([0.00000000e+00, 1.30936326e-05, 9.16554280e-05, ...,\n",
       "         1.00000000e+00, 1.00000000e+00, 1.00000000e+00])],\n",
       " (1,\n",
       "  1.5): [array([0.        , 0.        , 0.        , ..., 0.99608695, 0.99608967,\n",
       "         1.        ]), array([0.00000000e+00, 1.30476762e-05, 9.13337335e-05, ...,\n",
       "         1.00000000e+00, 1.00000000e+00, 1.00000000e+00])],\n",
       " (1,\n",
       "  2): [array([0.        , 0.        , 0.        , ..., 0.99877419, 0.99877692,\n",
       "         1.        ]), array([0.00000000e+00, 1.30724081e-05, 5.09823915e-04, ...,\n",
       "         1.00000000e+00, 1.00000000e+00, 1.00000000e+00])],\n",
       " (1,\n",
       "  2.5): [array([0.        , 0.        , 0.        , ..., 0.99634165, 0.99634437,\n",
       "         1.        ]), array([0.00000000e+00, 1.31097681e-05, 3.14634434e-04, ...,\n",
       "         1.00000000e+00, 1.00000000e+00, 1.00000000e+00])],\n",
       " (1,\n",
       "  3): [array([0.        , 0.        , 0.        , ..., 0.99690416, 0.99690688,\n",
       "         1.        ]), array([0.00000000e+00, 1.31966164e-05, 1.71556013e-04, ...,\n",
       "         1.00000000e+00, 1.00000000e+00, 1.00000000e+00])],\n",
       " (1,\n",
       "  3.5): [array([0.        , 0.        , 0.        , ..., 0.99682516, 0.99682788,\n",
       "         1.        ]), array([0.00000000e+00, 1.33097307e-05, 2.39575153e-04, ...,\n",
       "         1.00000000e+00, 1.00000000e+00, 1.00000000e+00])],\n",
       " (1,\n",
       "  4): [array([0.        , 0.        , 0.        , ..., 0.99818581, 0.99818853,\n",
       "         1.        ]), array([0.00000000e+00, 1.34660185e-05, 3.36650463e-04, ...,\n",
       "         1.00000000e+00, 1.00000000e+00, 1.00000000e+00])],\n",
       " (1,\n",
       "  4.5): [array([0.        , 0.        , 0.        , ..., 0.99823892, 0.99824165,\n",
       "         1.        ]), array([0.00000000e+00, 1.36692319e-05, 2.59715407e-04, ...,\n",
       "         1.00000000e+00, 1.00000000e+00, 1.00000000e+00])],\n",
       " (1,\n",
       "  5): [array([0.        , 0.        , 0.        , ..., 0.99662358, 0.99662631,\n",
       "         1.        ]), array([0.00000000e+00, 1.39873834e-05, 2.37785517e-04, ...,\n",
       "         1.00000000e+00, 1.00000000e+00, 1.00000000e+00])],\n",
       " (1,\n",
       "  5.5): [array([0.        , 0.        , 0.        , ..., 0.99756473, 0.99756745,\n",
       "         1.        ]), array([0.00000000e+00, 1.45859770e-05, 2.33375633e-04, ...,\n",
       "         1.00000000e+00, 1.00000000e+00, 1.00000000e+00])],\n",
       " (1,\n",
       "  6): [array([0.        , 0.        , 0.        , ..., 0.99764236, 0.99764509,\n",
       "         1.        ]), array([0.00000000e+00, 1.54930669e-05, 4.33805872e-04, ...,\n",
       "         1.00000000e+00, 1.00000000e+00, 1.00000000e+00])],\n",
       " (1.5,\n",
       "  0.5): [array([0.        , 0.        , 0.        , ..., 0.99665355, 0.99665627,\n",
       "         1.        ]), array([0.00000000e+00, 1.41892275e-05, 1.09257052e-03, ...,\n",
       "         1.00000000e+00, 1.00000000e+00, 1.00000000e+00])],\n",
       " (1.5,\n",
       "  1): [array([0.        , 0.        , 0.        , ..., 0.99860939, 0.99861211,\n",
       "         1.        ]), array([0.00000000e+00, 1.32671744e-05, 3.44946533e-04, ...,\n",
       "         1.00000000e+00, 1.00000000e+00, 1.00000000e+00])],\n",
       " (1.5,\n",
       "  1.5): [array([0.        , 0.        , 0.        , ..., 0.99713297, 0.9971357 ,\n",
       "         1.        ]), array([0.00000000e+00, 1.31242207e-05, 2.49360194e-04, ...,\n",
       "         1.00000000e+00, 1.00000000e+00, 1.00000000e+00])],\n",
       " (1.5,\n",
       "  2): [array([0.        , 0.        , 0.        , ..., 0.99846093, 0.99846365,\n",
       "         1.        ]), array([0.00000000e+00, 1.30854085e-05, 3.53306028e-04, ...,\n",
       "         1.00000000e+00, 1.00000000e+00, 1.00000000e+00])],\n",
       " (1.5,\n",
       "  2.5): [array([0.        , 0.        , 0.        , ..., 0.99778129, 0.99778401,\n",
       "         1.        ]), array([0.00000000e+00, 1.31137222e-05, 1.57364666e-04, ...,\n",
       "         1.00000000e+00, 1.00000000e+00, 1.00000000e+00])],\n",
       " (1.5,\n",
       "  3): [array([0.        , 0.        , 0.        , ..., 0.99911742, 0.99912014,\n",
       "         1.        ]), array([0.00000000e+00, 1.31660369e-05, 1.44826406e-04, ...,\n",
       "         1.00000000e+00, 1.00000000e+00, 1.00000000e+00])],\n",
       " (1.5,\n",
       "  3.5): [array([0.        , 0.        , 0.        , ..., 0.99590308, 0.9959058 ,\n",
       "         1.        ]), array([0.00000000e+00, 1.33214329e-05, 2.26464359e-04, ...,\n",
       "         1.00000000e+00, 1.00000000e+00, 1.00000000e+00])],\n",
       " (1.5,\n",
       "  4): [array([0.        , 0.        , 0.        , ..., 0.99755792, 0.99756064,\n",
       "         1.        ]), array([0.00000000e+00, 1.34700090e-05, 4.04100271e-05, ...,\n",
       "         1.00000000e+00, 1.00000000e+00, 1.00000000e+00])],\n",
       " (1.5,\n",
       "  4.5): [array([0.        , 0.        , 0.        , ..., 0.99851269, 0.99851541,\n",
       "         1.        ]), array([0.00000000e+00, 1.37176093e-05, 2.46916967e-04, ...,\n",
       "         1.00000000e+00, 1.00000000e+00, 1.00000000e+00])],\n",
       " (1.5,\n",
       "  5): [array([0.        , 0.        , 0.        , ..., 0.99750072, 0.99750344,\n",
       "         1.        ]), array([0.00000000e+00, 1.40291807e-05, 8.41750842e-05, ...,\n",
       "         1.00000000e+00, 1.00000000e+00, 1.00000000e+00])],\n",
       " (1.5,\n",
       "  5.5): [array([0.        , 0.        , 0.        , ..., 0.99678294, 0.99678566,\n",
       "         1.        ]), array([0.00000000e+00, 1.45433392e-05, 1.30890052e-04, ...,\n",
       "         1.00000000e+00, 1.00000000e+00, 1.00000000e+00])],\n",
       " (1.5,\n",
       "  6): [array([0.        , 0.        , 0.        , ..., 0.99749935, 0.99750208,\n",
       "         1.        ]), array([0.00000000e+00, 1.54542785e-05, 1.69997064e-04, ...,\n",
       "         1.00000000e+00, 1.00000000e+00, 1.00000000e+00])],\n",
       " (2,\n",
       "  0.5): [array([0.        , 0.        , 0.        , ..., 0.99600659, 0.99600932,\n",
       "         1.        ]), array([0.00000000e+00, 1.52091255e-05, 3.04182510e-05, ...,\n",
       "         1.00000000e+00, 1.00000000e+00, 1.00000000e+00])],\n",
       " (2,\n",
       "  1): [array([0.        , 0.        , 0.        , ..., 0.99975075, 0.99975348,\n",
       "         1.        ]), array([0.00000000e+00, 1.34687391e-05, 2.69374781e-05, ...,\n",
       "         1.00000000e+00, 1.00000000e+00, 1.00000000e+00])],\n",
       " (2,\n",
       "  1.5): [array([0.        , 0.        , 0.        , ..., 0.99628853, 0.99629125,\n",
       "         1.        ]), array([0.00000000e+00, 1.32329394e-05, 2.51425849e-04, ...,\n",
       "         1.00000000e+00, 1.00000000e+00, 1.00000000e+00])],\n",
       " (2,\n",
       "  2): [array([0.        , 0.        , 0.        , ..., 0.99866659, 0.99866932,\n",
       "         1.        ]), array([0.00000000e+00, 1.31701985e-05, 9.21913893e-05, ...,\n",
       "         1.00000000e+00, 1.00000000e+00, 1.00000000e+00])],\n",
       " (2,\n",
       "  2.5): [array([0.        , 0.        , 0.        , ..., 0.99809183, 0.99809455,\n",
       "         1.        ]), array([0.00000000e+00, 1.31842633e-05, 1.71395422e-04, ...,\n",
       "         1.00000000e+00, 1.00000000e+00, 1.00000000e+00])],\n",
       " (2,\n",
       "  3): [array([0.        , 0.        , 0.        , ..., 0.99801147, 0.99801419,\n",
       "         1.        ]), array([0.00000000e+00, 1.32397723e-05, 2.38315901e-04, ...,\n",
       "         1.00000000e+00, 1.00000000e+00, 1.00000000e+00])],\n",
       " (2,\n",
       "  3.5): [array([0.        , 0.        , 0.        , ..., 0.99866115, 0.99866387,\n",
       "         1.        ]), array([0.00000000e+00, 1.33409822e-05, 4.00229465e-05, ...,\n",
       "         1.00000000e+00, 1.00000000e+00, 1.00000000e+00])],\n",
       " (2,\n",
       "  4): [array([0.        , 0.        , 0.        , ..., 0.99797878, 0.9979815 ,\n",
       "         1.        ]), array([0.00000000e+00, 1.35345469e-05, 1.35345469e-04, ...,\n",
       "         1.00000000e+00, 1.00000000e+00, 1.00000000e+00])],\n",
       " (2,\n",
       "  4.5): [array([0.        , 0.        , 0.        , ..., 0.99856581, 0.99856853,\n",
       "         1.        ]), array([0.00000000e+00, 1.37319254e-05, 4.11957761e-05, ...,\n",
       "         1.00000000e+00, 1.00000000e+00, 1.00000000e+00])],\n",
       " (2,\n",
       "  5): [array([0.        , 0.        , 0.        , ..., 0.99559935, 0.99560208,\n",
       "         1.        ]), array([0.00000000e+00, 1.40388314e-05, 5.61553256e-05, ...,\n",
       "         1.00000000e+00, 1.00000000e+00, 1.00000000e+00])],\n",
       " (2,\n",
       "  5.5): [array([0.        , 0.        , 0.        , ..., 0.99559663, 0.99559935,\n",
       "         1.        ]), array([0.00000000e+00, 1.45983270e-05, 5.83933081e-05, ...,\n",
       "         1.00000000e+00, 1.00000000e+00, 1.00000000e+00])],\n",
       " (2,\n",
       "  6): [array([0.        , 0.        , 0.        , ..., 0.99885728, 0.99886   ,\n",
       "         1.        ]), array([0.00000000e+00, 1.54786781e-05, 6.34625803e-04, ...,\n",
       "         1.00000000e+00, 1.00000000e+00, 1.00000000e+00])],\n",
       " (2.5,\n",
       "  0.5): [array([0.        , 0.        , 0.        , ..., 0.99517168, 0.99517441,\n",
       "         1.        ]), array([0.00000000e+00, 1.64544048e-05, 2.53397835e-03, ...,\n",
       "         1.00000000e+00, 1.00000000e+00, 1.00000000e+00])],\n",
       " (2.5,\n",
       "  1): [array([0.        , 0.        , 0.        , ..., 0.99836423, 0.99836695,\n",
       "         1.        ]), array([0.00000000e+00, 1.37931034e-05, 4.00000000e-04, ...,\n",
       "         1.00000000e+00, 1.00000000e+00, 1.00000000e+00])],\n",
       " (2.5,\n",
       "  1.5): [array([0.        , 0.        , 0.        , ..., 0.99716294, 0.99716566,\n",
       "         1.        ]), array([0.00000000e+00, 1.34276852e-05, 8.05661112e-05, ...,\n",
       "         1.00000000e+00, 1.00000000e+00, 1.00000000e+00])],\n",
       " (2.5,\n",
       "  2): [array([0.        , 0.        , 0.        , ..., 0.99703082, 0.99703355,\n",
       "         1.        ]), array([0.00000000e+00, 1.32527566e-05, 1.98791349e-04, ...,\n",
       "         1.00000000e+00, 1.00000000e+00, 1.00000000e+00])],\n",
       " (2.5,\n",
       "  2.5): [array([0.        , 0.        , 0.        , ..., 0.99676523, 0.99676795,\n",
       "         1.        ]), array([0.00000000e+00, 1.32492448e-05, 1.58990938e-04, ...,\n",
       "         1.00000000e+00, 1.00000000e+00, 1.00000000e+00])],\n",
       " (2.5,\n",
       "  3): [array([0.        , 0.        , 0.        , ..., 0.99611147, 0.99611419,\n",
       "         1.        ]), array([0.00000000e+00, 1.33354670e-05, 2.00032005e-04, ...,\n",
       "         1.00000000e+00, 1.00000000e+00, 1.00000000e+00])],\n",
       " (2.5,\n",
       "  3.5): [array([0.        , 0.        , 0.        , ..., 0.99819262, 0.99819534,\n",
       "         1.        ]), array([0.00000000e+00, 1.34350817e-05, 1.07480653e-04, ...,\n",
       "         1.00000000e+00, 1.00000000e+00, 1.00000000e+00])],\n",
       " (2.5,\n",
       "  4): [array([0.        , 0.        , 0.        , ..., 0.9987415 , 0.99874423,\n",
       "         1.        ]), array([0.00000000e+00, 1.35934208e-05, 6.79671039e-05, ...,\n",
       "         1.00000000e+00, 1.00000000e+00, 1.00000000e+00])],\n",
       " (2.5,\n",
       "  4.5): [array([0.        , 0.        , 0.        , ..., 0.99759061, 0.99759333,\n",
       "         1.        ]), array([0.00000000e+00, 1.37974806e-05, 5.51899223e-05, ...,\n",
       "         1.00000000e+00, 1.00000000e+00, 1.00000000e+00])],\n",
       " (2.5,\n",
       "  5): [array([0.        , 0.        , 0.        , ..., 0.99771319, 0.99771591,\n",
       "         1.        ]), array([0.00000000e+00, 1.41185108e-05, 5.64740431e-05, ...,\n",
       "         1.00000000e+00, 1.00000000e+00, 1.00000000e+00])],\n",
       " (2.5,\n",
       "  5.5): [array([0.        , 0.        , 0.        , ..., 0.99470315, 0.99470587,\n",
       "         1.        ]), array([0.00000000e+00, 1.46280097e-05, 7.31400486e-05, ...,\n",
       "         1.00000000e+00, 1.00000000e+00, 1.00000000e+00])],\n",
       " (2.5,\n",
       "  6): [array([0.        , 0.        , 0.        , ..., 0.99542229, 0.99542501,\n",
       "         1.        ]), array([0.00000000e+00, 1.55574224e-05, 3.42263294e-04, ...,\n",
       "         1.00000000e+00, 1.00000000e+00, 1.00000000e+00])],\n",
       " (3,\n",
       "  0.5): [array([0.        , 0.        , 0.        , ..., 0.99769276, 0.99769548,\n",
       "         1.        ]), array([0.00000000e+00, 1.80534744e-05, 1.66091964e-03, ...,\n",
       "         1.00000000e+00, 1.00000000e+00, 1.00000000e+00])],\n",
       " (3,\n",
       "  1): [array([0.        , 0.        , 0.        , ..., 0.99759742, 0.99760014,\n",
       "         1.        ]), array([0.00000000e+00, 1.42567934e-05, 5.27501354e-04, ...,\n",
       "         1.00000000e+00, 1.00000000e+00, 1.00000000e+00])],\n",
       " (3,\n",
       "  1.5): [array([0.        , 0.        , 0.        , ..., 0.99741899, 0.99742172,\n",
       "         1.        ]), array([0.00000000e+00, 1.36004461e-05, 2.17607138e-04, ...,\n",
       "         1.00000000e+00, 1.00000000e+00, 1.00000000e+00])],\n",
       " (3,\n",
       "  2): [array([0.        , 0.        , 0.        , ..., 0.99769957, 0.99770229,\n",
       "         1.        ]), array([0.00000000e+00, 1.34587691e-05, 2.82634150e-04, ...,\n",
       "         1.00000000e+00, 1.00000000e+00, 1.00000000e+00])],\n",
       " (3,\n",
       "  2.5): [array([0.        , 0.        , 0.        , ..., 0.99817491, 0.99817763,\n",
       "         1.        ]), array([0.00000000e+00, 1.33791793e-05, 2.14066869e-04, ...,\n",
       "         1.00000000e+00, 1.00000000e+00, 1.00000000e+00])],\n",
       " (3,\n",
       "  3): [array([0.        , 0.        , 0.        , ..., 0.99694365, 0.99694638,\n",
       "         1.        ]), array([0.00000000e+00, 1.34278655e-05, 2.28273714e-04, ...,\n",
       "         1.00000000e+00, 1.00000000e+00, 1.00000000e+00])],\n",
       " (3,\n",
       "  3.5): [array([0.        , 0.        , 0.        , ..., 0.99805097, 0.99805369,\n",
       "         1.        ]), array([0.00000000e+00, 1.35272235e-05, 6.08725059e-04, ...,\n",
       "         1.00000000e+00, 1.00000000e+00, 1.00000000e+00])],\n",
       " (3,\n",
       "  4): [array([0.        , 0.        , 0.        , ..., 0.99503957, 0.99504229,\n",
       "         1.        ]), array([0.00000000e+00, 1.36080342e-05, 8.16482051e-05, ...,\n",
       "         1.00000000e+00, 1.00000000e+00, 1.00000000e+00])],\n",
       " (3,\n",
       "  4.5): [array([0.        , 0.        , 0.        , ..., 0.9960638 , 0.99606652,\n",
       "         1.        ]), array([0.00000000e+00, 1.38454296e-05, 6.09198903e-04, ...,\n",
       "         1.00000000e+00, 1.00000000e+00, 1.00000000e+00])],\n",
       " (3,\n",
       "  5): [array([0.        , 0.        , 0.        , ..., 0.99857398, 0.9985767 ,\n",
       "         1.        ]), array([0.00000000e+00, 1.42221211e-05, 6.11551207e-04, ...,\n",
       "         1.00000000e+00, 1.00000000e+00, 1.00000000e+00])],\n",
       " (3,\n",
       "  5.5): [array([0.        , 0.        , 0.        , ..., 0.99771455, 0.99771727,\n",
       "         1.        ]), array([0.00000000e+00, 1.47086943e-05, 6.91308633e-04, ...,\n",
       "         1.00000000e+00, 1.00000000e+00, 1.00000000e+00])],\n",
       " (3,\n",
       "  6): [array([0.        , 0.        , 0.        , ..., 0.99528881, 0.99529154,\n",
       "         1.        ]), array([0.00000000e+00, 1.57212929e-05, 3.93032323e-04, ...,\n",
       "         1.00000000e+00, 1.00000000e+00, 1.00000000e+00])],\n",
       " (3.5,\n",
       "  0.5): [array([0.        , 0.        , 0.        , ..., 0.99783577, 0.99783849,\n",
       "         1.        ]), array([0.00000000e+00, 2.01649493e-05, 1.33088665e-03, ...,\n",
       "         1.00000000e+00, 1.00000000e+00, 1.00000000e+00])],\n",
       " (3.5,\n",
       "  1): [array([0.        , 0.        , 0.        , ..., 0.99863799, 0.99864072,\n",
       "         1.        ]), array([0.00000000e+00, 1.47399142e-05, 1.12023348e-03, ...,\n",
       "         1.00000000e+00, 1.00000000e+00, 1.00000000e+00])],\n",
       " (3.5,\n",
       "  1.5): [array([0.        , 0.        , 0.        , ..., 0.99772545, 0.99772817,\n",
       "         1.        ]), array([0.00000000e+00, 1.39089796e-05, 6.95448982e-05, ...,\n",
       "         1.00000000e+00, 1.00000000e+00, 1.00000000e+00])],\n",
       " (3.5,\n",
       "  2): [array([0.        , 0.        , 0.        , ..., 0.9988886 , 0.99889133,\n",
       "         1.        ]), array([0.00000000e+00, 1.36548598e-05, 4.09645793e-05, ...,\n",
       "         1.00000000e+00, 1.00000000e+00, 1.00000000e+00])],\n",
       " (3.5,\n",
       "  2.5): [array([0.        , 0.        , 0.        , ..., 0.99802917, 0.9980319 ,\n",
       "         1.        ]), array([0.0000000e+00, 1.3523199e-05, 1.4875519e-04, ..., 1.0000000e+00,\n",
       "         1.0000000e+00, 1.0000000e+00])],\n",
       " (3.5,\n",
       "  3): [array([0.        , 0.        , 0.        , ..., 0.99734545, 0.99734817,\n",
       "         1.        ]), array([0.00000000e+00, 1.35769951e-05, 5.15925815e-04, ...,\n",
       "         1.00000000e+00, 1.00000000e+00, 1.00000000e+00])],\n",
       " (3.5,\n",
       "  3.5): [array([0.        , 0.        , 0.        , ..., 0.99595211, 0.99595484,\n",
       "         1.        ]), array([0.00000000e+00, 1.36447986e-05, 1.77382382e-04, ...,\n",
       "         1.00000000e+00, 1.00000000e+00, 1.00000000e+00])],\n",
       " (3.5,\n",
       "  4): [array([0.        , 0.        , 0.        , ..., 0.99787799, 0.99788072,\n",
       "         1.        ]), array([0.00000000e+00, 1.37517533e-05, 5.91325394e-04, ...,\n",
       "         1.00000000e+00, 1.00000000e+00, 1.00000000e+00])],\n",
       " (3.5,\n",
       "  4.5): [array([0.        , 0.        , 0.        , ..., 0.99871426, 0.99871699,\n",
       "         1.        ]), array([0.00000000e+00, 1.39627752e-05, 4.04920482e-04, ...,\n",
       "         1.00000000e+00, 1.00000000e+00, 1.00000000e+00])],\n",
       " (3.5,\n",
       "  5): [array([0.        , 0.        , 0.        , ..., 0.99817491, 0.99817763,\n",
       "         1.        ]), array([0.00000000e+00, 1.43500847e-05, 2.29601355e-04, ...,\n",
       "         1.00000000e+00, 1.00000000e+00, 1.00000000e+00])],\n",
       " (3.5,\n",
       "  5.5): [array([0.        , 0.        , 0.        , ..., 0.99533104, 0.99533376,\n",
       "         1.        ]), array([0.00000000e+00, 1.49333970e-05, 5.97335882e-05, ...,\n",
       "         1.00000000e+00, 1.00000000e+00, 1.00000000e+00])],\n",
       " (3.5,\n",
       "  6): [array([0.        , 0.        , 0.        , ..., 0.9972896 , 0.99729233,\n",
       "         1.        ]), array([0.00000000e+00, 1.58488652e-05, 1.74337517e-04, ...,\n",
       "         1.00000000e+00, 1.00000000e+00, 1.00000000e+00])],\n",
       " (4,\n",
       "  0.5): [array([0.        , 0.        , 0.        , ..., 0.99786846, 0.99787118,\n",
       "         1.        ]), array([0.00000000e+00, 2.27190113e-05, 3.61232279e-03, ...,\n",
       "         1.00000000e+00, 1.00000000e+00, 1.00000000e+00])],\n",
       " (4,\n",
       "  1): [array([0.        , 0.        , 0.        , ..., 0.99802509, 0.99802781,\n",
       "         1.        ]), array([0.00000000e+00, 1.53796466e-05, 2.15315052e-04, ...,\n",
       "         1.00000000e+00, 1.00000000e+00, 1.00000000e+00])],\n",
       " (4,\n",
       "  1.5): [array([0.        , 0.        , 0.        , ..., 0.99777312, 0.99777584,\n",
       "         1.        ]), array([0.00000000e+00, 1.42628937e-05, 4.13623916e-04, ...,\n",
       "         1.00000000e+00, 1.00000000e+00, 1.00000000e+00])],\n",
       " (4,\n",
       "  2): [array([0.        , 0.        , 0.        , ..., 0.99956688, 0.99956961,\n",
       "         1.        ]), array([0.00000000e+00, 1.38829115e-05, 1.52712027e-04, ...,\n",
       "         1.00000000e+00, 1.00000000e+00, 1.00000000e+00])],\n",
       " (4,\n",
       "  2.5): [array([0.        , 0.        , 0.        , ..., 0.99818989, 0.99819262,\n",
       "         1.        ]), array([0.00000000e+00, 1.37689840e-05, 9.63828879e-05, ...,\n",
       "         1.00000000e+00, 1.00000000e+00, 1.00000000e+00])],\n",
       " (4,\n",
       "  3): [array([0.        , 0.        , 0.        , ..., 0.99889269, 0.99889541,\n",
       "         1.        ]), array([0.00000000e+00, 1.38031941e-05, 4.00292628e-04, ...,\n",
       "         1.00000000e+00, 1.00000000e+00, 1.00000000e+00])],\n",
       " (4,\n",
       "  3.5): [array([0.        , 0.        , 0.        , ..., 0.9979529 , 0.99795563,\n",
       "         1.        ]), array([0.00000000e+00, 1.37970998e-05, 6.20869493e-04, ...,\n",
       "         1.00000000e+00, 1.00000000e+00, 1.00000000e+00])],\n",
       " (4,\n",
       "  4): [array([0.        , 0.        , 0.        , ..., 0.99806459, 0.99806731,\n",
       "         1.        ]), array([0.00000000e+00, 1.39850360e-05, 5.73386476e-04, ...,\n",
       "         1.00000000e+00, 1.00000000e+00, 1.00000000e+00])],\n",
       " (4,\n",
       "  4.5): [array([0.        , 0.        , 0.        , ..., 0.99587312, 0.99587584,\n",
       "         1.        ]), array([0.00000000e+00, 1.41789669e-05, 4.25369008e-05, ...,\n",
       "         1.00000000e+00, 1.00000000e+00, 1.00000000e+00])],\n",
       " (4,\n",
       "  5): [array([0.        , 0.        , 0.        , ..., 0.99634982, 0.99635254,\n",
       "         1.        ]), array([0.00000000e+00, 1.45139988e-05, 4.06391965e-04, ...,\n",
       "         1.00000000e+00, 1.00000000e+00, 1.00000000e+00])],\n",
       " (4,\n",
       "  5.5): [array([0.        , 0.        , 0.        , ..., 0.99669849, 0.99670122,\n",
       "         1.        ]), array([0.00000000e+00, 1.50638708e-05, 2.41021933e-04, ...,\n",
       "         1.00000000e+00, 1.00000000e+00, 1.00000000e+00])],\n",
       " (4,\n",
       "  6): [array([0.        , 0.        , 0.        , ..., 0.99850315, 0.99850588,\n",
       "         1.        ]), array([0.00000000e+00, 1.60325782e-05, 1.13831305e-03, ...,\n",
       "         1.00000000e+00, 1.00000000e+00, 1.00000000e+00])],\n",
       " (4.5,\n",
       "  0.5): [array([0.        , 0.        , 0.        , ..., 0.99681699, 0.99681971,\n",
       "         1.        ]), array([0.00000000e+00, 2.58758992e-05, 7.76276976e-04, ...,\n",
       "         1.00000000e+00, 1.00000000e+00, 1.00000000e+00])],\n",
       " (4.5,\n",
       "  1): [array([0.        , 0.        , 0.        , ..., 0.99904796, 0.99905068,\n",
       "         1.        ]), array([0.00000000e+00, 1.61647511e-05, 2.26306516e-04, ...,\n",
       "         1.00000000e+00, 1.00000000e+00, 1.00000000e+00])],\n",
       " (4.5,\n",
       "  1.5): [array([0.        , 0.        , 0.        , ..., 0.99781806, 0.99782079,\n",
       "         1.        ]), array([0.00000000e+00, 1.46804075e-05, 2.78927743e-04, ...,\n",
       "         1.00000000e+00, 1.00000000e+00, 1.00000000e+00])],\n",
       " (4.5,\n",
       "  2): [array([0.        , 0.        , 0.        , ..., 0.99795426, 0.99795699,\n",
       "         1.        ]), array([0.00000000e+00, 1.41765548e-05, 4.25296644e-04, ...,\n",
       "         1.00000000e+00, 1.00000000e+00, 1.00000000e+00])],\n",
       " (4.5,\n",
       "  2.5): [array([0.        , 0.        , 0.        , ..., 0.99822394, 0.99822667,\n",
       "         1.        ]), array([0.00000000e+00, 1.40623242e-05, 5.34368320e-04, ...,\n",
       "         1.00000000e+00, 1.00000000e+00, 1.00000000e+00])],\n",
       " (4.5,\n",
       "  3): [array([0.        , 0.        , 0.        , ..., 0.99771727, 0.99772   ,\n",
       "         1.        ]), array([0.00000000e+00, 1.40197398e-05, 2.52355316e-04, ...,\n",
       "         1.00000000e+00, 1.00000000e+00, 1.00000000e+00])],\n",
       " (4.5,\n",
       "  3.5): [array([0.        , 0.        , 0.        , ..., 0.99735089, 0.99735362,\n",
       "         1.        ]), array([0.00000000e+00, 1.41019856e-05, 9.87138989e-05, ...,\n",
       "         1.00000000e+00, 1.00000000e+00, 1.00000000e+00])],\n",
       " (4.5,\n",
       "  4): [array([0.        , 0.        , 0.        , ..., 0.99526838, 0.99527111,\n",
       "         1.        ]), array([0.00000000e+00, 1.41751481e-05, 7.93808295e-04, ...,\n",
       "         1.00000000e+00, 1.00000000e+00, 1.00000000e+00])],\n",
       " (4.5,\n",
       "  4.5): [array([0.        , 0.        , 0.        , ..., 0.99830975, 0.99831247,\n",
       "         1.        ]), array([0.00000000e+00, 1.44381398e-05, 4.33144194e-05, ...,\n",
       "         1.00000000e+00, 1.00000000e+00, 1.00000000e+00])],\n",
       " (4.5,\n",
       "  5): [array([0.        , 0.        , 0.        , ..., 0.99893219, 0.99893491,\n",
       "         1.        ]), array([0.00000000e+00, 1.47918053e-05, 7.39590267e-05, ...,\n",
       "         1.00000000e+00, 1.00000000e+00, 1.00000000e+00])],\n",
       " (4.5,\n",
       "  5.5): [array([0.        , 0.        , 0.        , ..., 0.99947971, 0.99948244,\n",
       "         1.        ]), array([0.00000000e+00, 1.53038581e-05, 1.98950155e-04, ...,\n",
       "         1.00000000e+00, 1.00000000e+00, 1.00000000e+00])],\n",
       " (4.5,\n",
       "  6): [array([0.        , 0.        , 0.        , ..., 0.99738494, 0.99738767,\n",
       "         1.        ]), array([0.00000000e+00, 1.63743839e-05, 5.73103437e-04, ...,\n",
       "         1.00000000e+00, 1.00000000e+00, 1.00000000e+00])],\n",
       " (5,\n",
       "  0.5): [array([0.        , 0.        , 0.        , ..., 0.99631985, 0.99632258,\n",
       "         1.        ]), array([0.00000000e+00, 3.01622730e-05, 8.14381372e-04, ...,\n",
       "         1.00000000e+00, 1.00000000e+00, 1.00000000e+00])],\n",
       " (5,\n",
       "  1): [array([0.        , 0.        , 0.        , ..., 0.99849226, 0.99849498,\n",
       "         1.        ]), array([0.00000000e+00, 1.71892189e-05, 2.57838284e-04, ...,\n",
       "         1.00000000e+00, 1.00000000e+00, 1.00000000e+00])],\n",
       " (5,\n",
       "  1.5): [array([0.        , 0.        , 0.        , ..., 0.99862301, 0.99862573,\n",
       "         1.        ]), array([0.00000000e+00, 1.53539076e-05, 4.91325042e-04, ...,\n",
       "         1.00000000e+00, 1.00000000e+00, 1.00000000e+00])],\n",
       " (5,\n",
       "  2): [array([0.        , 0.        , 0.        , ..., 0.99704717, 0.99704989,\n",
       "         1.        ]), array([0.00000000e+00, 1.47383935e-05, 1.76860722e-04, ...,\n",
       "         1.00000000e+00, 1.00000000e+00, 1.00000000e+00])],\n",
       " (5,\n",
       "  2.5): [array([0.        , 0.        , 0.        , ..., 0.99801283, 0.99801555,\n",
       "         1.        ]), array([0.00000000e+00, 1.45194779e-05, 8.71168673e-05, ...,\n",
       "         1.00000000e+00, 1.00000000e+00, 1.00000000e+00])],\n",
       " (5,\n",
       "  3): [array([0.        , 0.        , 0.        , ..., 0.99898258, 0.9989853 ,\n",
       "         1.        ]), array([0.00000000e+00, 1.44466917e-05, 3.32273909e-04, ...,\n",
       "         1.00000000e+00, 1.00000000e+00, 1.00000000e+00])],\n",
       " (5,\n",
       "  3.5): [array([0.        , 0.        , 0.        , ..., 0.99693957, 0.99694229,\n",
       "         1.        ]), array([0.00000000e+00, 1.44879243e-05, 1.01415470e-04, ...,\n",
       "         1.00000000e+00, 1.00000000e+00, 1.00000000e+00])],\n",
       " (5,\n",
       "  4): [array([0.        , 0.        , 0.        , ..., 0.99839555, 0.99839828,\n",
       "         1.        ]), array([0.00000000e+00, 1.45819359e-05, 1.15197294e-03, ...,\n",
       "         1.00000000e+00, 1.00000000e+00, 1.00000000e+00])],\n",
       " (5,\n",
       "  4.5): [array([0.        , 0.        , 0.        , ..., 0.99819806, 0.99820079,\n",
       "         1.        ]), array([0.00000000e+00, 1.47340504e-05, 3.68351260e-04, ...,\n",
       "         1.00000000e+00, 1.00000000e+00, 1.00000000e+00])],\n",
       " (5,\n",
       "  5): [array([0.        , 0.        , 0.        , ..., 0.99818581, 0.99818853,\n",
       "         1.        ]), array([0.00000000e+00, 1.52082003e-05, 2.12914804e-04, ...,\n",
       "         1.00000000e+00, 1.00000000e+00, 1.00000000e+00])],\n",
       " (5,\n",
       "  5.5): [array([0.        , 0.        , 0.        , ..., 0.99842416, 0.99842688,\n",
       "         1.        ]), array([0.00000000e+00, 1.58355635e-05, 2.21697889e-04, ...,\n",
       "         1.00000000e+00, 1.00000000e+00, 1.00000000e+00])],\n",
       " (5,\n",
       "  6): [array([0.        , 0.        , 0.        , ..., 0.99868566, 0.99868839,\n",
       "         1.        ]), array([0.00000000e+00, 1.68580050e-05, 3.70876111e-04, ...,\n",
       "         1.00000000e+00, 1.00000000e+00, 1.00000000e+00])],\n",
       " (5.5,\n",
       "  0.5): [array([0.        , 0.        , 0.        , ..., 0.99833835, 0.99834107,\n",
       "         1.        ]), array([0.00000000e+00, 3.57525921e-05, 1.40150161e-02, ...,\n",
       "         1.00000000e+00, 1.00000000e+00, 1.00000000e+00])],\n",
       " (5.5,\n",
       "  1): [array([0.        , 0.        , 0.        , ..., 0.99761104, 0.99761376,\n",
       "         1.        ]), array([0.00000000e+00, 1.86146944e-05, 3.35064500e-04, ...,\n",
       "         1.00000000e+00, 1.00000000e+00, 1.00000000e+00])],\n",
       " (5.5,\n",
       "  1.5): [array([0.        , 0.        , 0.        , ..., 0.99883276, 0.99883548,\n",
       "         1.        ]), array([0.00000000e+00, 1.61681487e-05, 1.94017785e-04, ...,\n",
       "         1.00000000e+00, 1.00000000e+00, 1.00000000e+00])],\n",
       " (5.5,\n",
       "  2): [array([0.        , 0.        , 0.        , ..., 0.99899348, 0.9989962 ,\n",
       "         1.        ]), array([0.00000000e+00, 1.53817757e-05, 1.53817757e-04, ...,\n",
       "         1.00000000e+00, 1.00000000e+00, 1.00000000e+00])],\n",
       " (5.5,\n",
       "  2.5): [array([0.        , 0.        , 0.        , ..., 0.99759197, 0.99759469,\n",
       "         1.        ]), array([0.00000000e+00, 1.51558782e-05, 1.21247026e-04, ...,\n",
       "         1.00000000e+00, 1.00000000e+00, 1.00000000e+00])],\n",
       " (5.5,\n",
       "  3): [array([0.        , 0.        , 0.        , ..., 0.99589899, 0.99590172,\n",
       "         1.        ]), array([0.00000000e+00, 1.50378201e-05, 3.45869863e-04, ...,\n",
       "         1.00000000e+00, 1.00000000e+00, 1.00000000e+00])],\n",
       " (5.5,\n",
       "  3.5): [array([0.        , 0.        , 0.        , ..., 0.99844459, 0.99844731,\n",
       "         1.        ]), array([0.00000000e+00, 1.50192998e-05, 6.90887791e-04, ...,\n",
       "         1.00000000e+00, 1.00000000e+00, 1.00000000e+00])],\n",
       " (5.5,\n",
       "  4): [array([0.        , 0.        , 0.        , ..., 0.99760968, 0.9976124 ,\n",
       "         1.        ]), array([0.00000000e+00, 1.51998784e-05, 8.20793434e-04, ...,\n",
       "         1.00000000e+00, 1.00000000e+00, 1.00000000e+00])],\n",
       " (5.5,\n",
       "  4.5): [array([0.        , 0.        , 0.        , ..., 0.9958595 , 0.99586222,\n",
       "         1.        ]), array([0.00000000e+00, 1.54202005e-05, 2.00462606e-04, ...,\n",
       "         1.00000000e+00, 1.00000000e+00, 1.00000000e+00])],\n",
       " (5.5,\n",
       "  5): [array([0.        , 0.        , 0.        , ..., 0.99626265, 0.99626537,\n",
       "         1.        ]), array([0.00000000e+00, 1.58318029e-05, 7.91590146e-04, ...,\n",
       "         1.00000000e+00, 1.00000000e+00, 1.00000000e+00])],\n",
       " (5.5,\n",
       "  5.5): [array([0.        , 0.        , 0.        , ..., 0.99730459, 0.99730731,\n",
       "         1.        ]), array([0.00000000e+00, 1.64714796e-05, 3.95315511e-04, ...,\n",
       "         1.00000000e+00, 1.00000000e+00, 1.00000000e+00])],\n",
       " (5.5,\n",
       "  6): [array([0.        , 0.        , 0.        , ..., 0.99680064, 0.99680337,\n",
       "         1.        ]), array([0.00000000e+00, 1.76158684e-05, 2.81853894e-04, ...,\n",
       "         1.00000000e+00, 1.00000000e+00, 1.00000000e+00])],\n",
       " (6,\n",
       "  0.5): [array([0.        , 0.        , 0.        , ..., 0.99643835, 0.99644107,\n",
       "         1.        ]), array([0.00000000e+00, 4.32788020e-05, 7.09772354e-03, ...,\n",
       "         1.00000000e+00, 1.00000000e+00, 1.00000000e+00])],\n",
       " (6,\n",
       "  1): [array([0.        , 0.        , 0.        , ..., 0.99776903, 0.99777175,\n",
       "         1.        ]), array([0.00000000e+00, 2.05968981e-05, 7.00294536e-04, ...,\n",
       "         1.00000000e+00, 1.00000000e+00, 1.00000000e+00])],\n",
       " (6,\n",
       "  1.5): [array([0.        , 0.        , 0.        , ..., 0.99920867, 0.9992114 ,\n",
       "         1.        ]), array([0.00000000e+00, 1.76087339e-05, 2.11304807e-04, ...,\n",
       "         1.00000000e+00, 1.00000000e+00, 1.00000000e+00])],\n",
       " (6,\n",
       "  2): [array([0.        , 0.        , 0.        , ..., 0.99691641, 0.99691914,\n",
       "         1.        ]), array([0.00000000e+00, 1.66306336e-05, 1.16414435e-04, ...,\n",
       "         1.00000000e+00, 1.00000000e+00, 1.00000000e+00])],\n",
       " (6,\n",
       "  2.5): [array([0.        , 0.        , 0.        , ..., 0.99863391, 0.99863663,\n",
       "         1.        ]), array([0.00000000e+00, 1.61796589e-05, 4.53030450e-04, ...,\n",
       "         1.00000000e+00, 1.00000000e+00, 1.00000000e+00])],\n",
       " (6,\n",
       "  3): [array([0.        , 0.        , 0.        , ..., 0.99859032, 0.99859305,\n",
       "         1.        ]), array([0.00000000e+00, 1.61191528e-05, 1.01550662e-03, ...,\n",
       "         1.00000000e+00, 1.00000000e+00, 1.00000000e+00])],\n",
       " (6,\n",
       "  3.5): [array([0.        , 0.        , 0.        , ..., 0.99903297, 0.9990357 ,\n",
       "         1.        ]), array([0.00000000e+00, 1.61004669e-05, 1.15923362e-03, ...,\n",
       "         1.00000000e+00, 1.00000000e+00, 1.00000000e+00])],\n",
       " (6,\n",
       "  4): [array([0.        , 0.        , 0.        , ..., 0.99585677, 0.9958595 ,\n",
       "         1.        ]), array([0.00000000e+00, 1.62221790e-05, 2.43332684e-04, ...,\n",
       "         1.00000000e+00, 1.00000000e+00, 1.00000000e+00])],\n",
       " (6,\n",
       "  4.5): [array([0.        , 0.        , 0.        , ..., 0.99887226, 0.99887498,\n",
       "         1.        ]), array([0.00000000e+00, 1.64144316e-05, 6.07333968e-04, ...,\n",
       "         1.00000000e+00, 1.00000000e+00, 1.00000000e+00])],\n",
       " (6,\n",
       "  5): [array([0.        , 0.        , 0.        , ..., 0.99606516, 0.99606788,\n",
       "         1.        ]), array([0.00000000e+00, 1.69193286e-05, 4.90660531e-04, ...,\n",
       "         1.00000000e+00, 1.00000000e+00, 1.00000000e+00])],\n",
       " (6,\n",
       "  5.5): [array([0.        , 0.        , 0.        , ..., 0.99888043, 0.99888315,\n",
       "         1.        ]), array([0.00000000e+00, 1.76099743e-05, 1.17986828e-03, ...,\n",
       "         1.00000000e+00, 1.00000000e+00, 1.00000000e+00])],\n",
       " (6,\n",
       "  6): [array([0.        , 0.        , 0.        , ..., 0.99450294, 0.99450566,\n",
       "         1.        ]), array([0.00000000e+00, 1.88284913e-05, 4.14226808e-04, ...,\n",
       "         1.00000000e+00, 1.00000000e+00, 1.00000000e+00])]}"
      ]
     },
     "execution_count": 49,
     "metadata": {},
     "output_type": "execute_result"
    }
   ],
   "source": [
    "def eval_parametrized(model_parametrized):\n",
    "    preds_parametrized_list = []\n",
    "    tuples_rates_parametrized = {}\n",
    "    for m1 in mass_range[1:]:\n",
    "        for m2 in mass_range[1:]:\n",
    "            preds_parametrized = model_parametrized.predict(x_data_qq[np.product(x_data_qq[:,6:8]==[m1,m2],axis=1)==1],batch_size=1000)\n",
    "            fpr_parametrized, tpr_parametrized, _ = metrics.roc_curve(y_data_qq[np.product(x_data_qq[:,6:8]==[m1,m2],axis=1)==1], preds_parametrized)\n",
    "\n",
    "            preds_parametrized_list.append(preds_parametrized)\n",
    "            tuples_rates_parametrized[tuple((m1, m2))] = [fpr_parametrized, tpr_parametrized]\n",
    "    np.save(\"tuples_rates_parametrized.npy\", tuples_rates_parametrized)\n",
    "    return tuples_rates_parametrized\n",
    "\n",
    "eval_parametrized(model_qq)"
   ]
  },
  {
   "cell_type": "code",
   "execution_count": 13,
   "id": "410424f0-c4ae-40e9-8b4f-30e9780d24e8",
   "metadata": {},
   "outputs": [
    {
     "name": "stderr",
     "output_type": "stream",
     "text": [
      "/tmp/ipykernel_1142252/2801033195.py:7: RuntimeWarning: divide by zero encountered in divide\n",
      "  plt.plot(tuple_rates_dedicated[(m1,m2)][1], 1./(tuple_rates_dedicated[(m1,m2)][0]), label = f\"{m1*100}, {m2*100} GEV\")\n",
      "/tmp/ipykernel_1142252/2801033195.py:8: RuntimeWarning: divide by zero encountered in divide\n",
      "  plt.plot(tuple_rates_parametrized[(m1, m2)][1], 1./(tuple_rates_parametrized[(m1, m2)][0]),label= f\"Parameterized {m1*100} {m2*100} GEV\", linestyle='dashed')\n"
     ]
    },
    {
     "data": {
      "image/png": "[encoded data removed]",
      "text/plain": [
       "<Figure size 640x480 with 1 Axes>"
      ]
     },
     "metadata": {},
     "output_type": "display_data"
    },
    {
     "data": {
      "image/png": "[encoded data removed]",
      "text/plain": [
       "<Figure size 640x480 with 1 Axes>"
      ]
     },
     "metadata": {},
     "output_type": "display_data"
    },
    {
     "data": {
      "image/png": "[encoded data removed]",
      "text/plain": [
       "<Figure size 640x480 with 1 Axes>"
      ]
     },
     "metadata": {},
     "output_type": "display_data"
    }
   ],
   "source": [
    "import seaborn as sns\n",
    "def plot_comparison(m1, m2):\n",
    "    tuple_rates_parametrized = np.load(\"tuples_rates_parametrized.npy\", allow_pickle = True).item()\n",
    "    tuple_rates_dedicated = tuple_rates_dedicated_benchmark_extra\n",
    "    #tuple_rates_dedicated = np.load(\"tuple_rates_dedicated_fixed.npy\", allow_pickle = True).item()\n",
    "    plt.figure()\n",
    "    plt.plot(tuple_rates_dedicated[(m1,m2)][1], 1./(tuple_rates_dedicated[(m1,m2)][0]), label = f\"{m1*100}, {m2*100} GEV\")\n",
    "    plt.plot(tuple_rates_parametrized[(m1, m2)][1], 1./(tuple_rates_parametrized[(m1, m2)][0]),label= f\"Parameterized {m1*100} {m2*100} GEV\", linestyle='dashed')\n",
    "    plt.yscale(\"log\")\n",
    "    plt.legend(frameon=False)\n",
    "    plt.xlabel(\"True Positive Rate\")\n",
    "    plt.ylabel(\"Background Rejection $\\\\frac{1}{FPR}$\")\n",
    "    plt.title(f\"$({m1*100}, {m2*100})$ GeV Dedicated vs Parametrized\")\n",
    "    sns.set(style=\"white\")\n",
    "    plt.gca().spines['top'].set_linewidth(0.5)\n",
    "    plt.gca().spines['right'].set_linewidth(0.5)\n",
    "    plt.gca().spines['bottom'].set_linewidth(0.5)\n",
    "    plt.gca().spines['left'].set_linewidth(0.5)\n",
    "    plt.show()\n",
    "\n",
    "plot_comparison(1, 1)\n",
    "plot_comparison(3, 3)\n",
    "plot_comparison(5, 1)"
   ]
  },
  {
   "cell_type": "code",
   "execution_count": 24,
   "id": "f07f034e-8e00-4307-949a-1d4433aedc96",
   "metadata": {
    "tags": []
   },
   "outputs": [],
   "source": [
    "model_qq = tf.keras.models.load_model(\"/pscratch/sd/g/gupsingh/swift-night-80\")"
   ]
  },
  {
   "cell_type": "code",
   "execution_count": 26,
   "id": "f42e8932-8b92-49f4-8084-a6af418ad9d7",
   "metadata": {
    "scrolled": true,
    "tags": []
   },
   "outputs": [
    {
     "name": "stdout",
     "output_type": "stream",
     "text": [
      "1.749 4.018 0.001\n",
      "Epoch 1/50\n",
      "180/180 [==============================] - 4s 18ms/step - loss: 0.6931 - val_loss: 0.6931\n",
      "Epoch 2/50\n",
      "180/180 [==============================] - 3s 17ms/step - loss: 0.6931 - val_loss: 0.6931\n",
      "Epoch 3/50\n",
      "180/180 [==============================] - 3s 17ms/step - loss: 0.6931 - val_loss: 0.6931\n",
      "Epoch 4/50\n",
      "180/180 [==============================] - 3s 17ms/step - loss: 0.6931 - val_loss: 0.6931\n",
      "Epoch 5/50\n",
      "180/180 [==============================] - 3s 18ms/step - loss: 0.6931 - val_loss: 0.6931\n",
      "Epoch 6/50\n",
      "180/180 [==============================] - 1s 6ms/step - loss: 0.6931 - val_loss: 0.6931\n",
      "Epoch 7/50\n",
      "180/180 [==============================] - 1s 3ms/step - loss: 0.6931 - val_loss: 0.6931\n",
      "Epoch 8/50\n",
      "180/180 [==============================] - 1s 8ms/step - loss: 0.6931 - val_loss: 0.6931\n",
      "Epoch 9/50\n",
      "180/180 [==============================] - 3s 19ms/step - loss: 0.6931 - val_loss: 0.6931\n",
      "Epoch 10/50\n",
      "180/180 [==============================] - 3s 18ms/step - loss: 0.6931 - val_loss: 0.6931\n",
      "Epoch 11/50\n",
      "180/180 [==============================] - 3s 18ms/step - loss: 0.6931 - val_loss: 0.6931\n",
      "3 3 1.6138247 3.7379096\n",
      "395/395 [==============================] - 2s 5ms/step\n",
      "1.749 4.018 0.0016681005372000592\n",
      "Epoch 1/50\n",
      "180/180 [==============================] - 4s 19ms/step - loss: 0.6931 - val_loss: 0.6931\n",
      "Epoch 2/50\n",
      "180/180 [==============================] - 3s 18ms/step - loss: 0.6931 - val_loss: 0.6931\n",
      "Epoch 3/50\n",
      "180/180 [==============================] - 3s 19ms/step - loss: 0.6931 - val_loss: 0.6931\n",
      "Epoch 4/50\n",
      "180/180 [==============================] - 3s 18ms/step - loss: 0.6931 - val_loss: 0.6931\n",
      "Epoch 5/50\n",
      "180/180 [==============================] - 3s 18ms/step - loss: 0.6931 - val_loss: 0.6931\n",
      "Epoch 6/50\n",
      "180/180 [==============================] - 3s 18ms/step - loss: 0.6931 - val_loss: 0.6931\n",
      "Epoch 7/50\n",
      "180/180 [==============================] - 3s 18ms/step - loss: 0.6931 - val_loss: 0.6931\n",
      "Epoch 8/50\n",
      "180/180 [==============================] - 3s 18ms/step - loss: 0.6931 - val_loss: 0.6931\n",
      "Epoch 9/50\n",
      "180/180 [==============================] - 3s 19ms/step - loss: 0.6931 - val_loss: 0.6931\n",
      "Epoch 10/50\n",
      "180/180 [==============================] - 3s 18ms/step - loss: 0.6931 - val_loss: 0.6931\n",
      "Epoch 11/50\n",
      "180/180 [==============================] - 3s 18ms/step - loss: 0.6931 - val_loss: 0.6931\n",
      "Epoch 12/50\n",
      "180/180 [==============================] - 3s 18ms/step - loss: 0.6931 - val_loss: 0.6931\n",
      "Epoch 13/50\n",
      "180/180 [==============================] - 3s 18ms/step - loss: 0.6931 - val_loss: 0.6931\n",
      "Epoch 14/50\n",
      "180/180 [==============================] - 3s 18ms/step - loss: 0.6931 - val_loss: 0.6931\n",
      "Epoch 15/50\n",
      "180/180 [==============================] - 3s 18ms/step - loss: 0.6931 - val_loss: 0.6931\n",
      "Epoch 16/50\n",
      "180/180 [==============================] - 3s 18ms/step - loss: 0.6931 - val_loss: 0.6931\n",
      "Epoch 17/50\n",
      "180/180 [==============================] - 3s 18ms/step - loss: 0.6931 - val_loss: 0.6931\n",
      "Epoch 18/50\n",
      "180/180 [==============================] - 3s 18ms/step - loss: 0.6931 - val_loss: 0.6931\n",
      "Epoch 19/50\n",
      "180/180 [==============================] - 3s 18ms/step - loss: 0.6931 - val_loss: 0.6931\n",
      "Epoch 20/50\n",
      "180/180 [==============================] - 3s 18ms/step - loss: 0.6931 - val_loss: 0.6931\n",
      "Epoch 21/50\n",
      "180/180 [==============================] - 3s 18ms/step - loss: 0.6931 - val_loss: 0.6931\n",
      "3 3 1.5908906 3.7520998\n",
      "395/395 [==============================] - 2s 5ms/step\n",
      "1.749 4.018 0.0027825594022071257\n",
      "Epoch 1/50\n",
      "180/180 [==============================] - 4s 19ms/step - loss: 0.6931 - val_loss: 0.6931\n",
      "Epoch 2/50\n",
      "180/180 [==============================] - 3s 18ms/step - loss: 0.6931 - val_loss: 0.6931\n",
      "Epoch 3/50\n",
      "176/180 [============================>.] - ETA: 0s - loss: 0.6931"
     ]
    },
    {
     "ename": "KeyboardInterrupt",
     "evalue": "",
     "output_type": "error",
     "traceback": [
      "\u001b[0;31m---------------------------------------------------------------------------\u001b[0m",
      "\u001b[0;31mKeyboardInterrupt\u001b[0m                         Traceback (most recent call last)",
      "Cell \u001b[0;32mIn[26], line 65\u001b[0m\n\u001b[1;32m     61\u001b[0m y_data_ \u001b[38;5;241m=\u001b[39m np\u001b[38;5;241m.\u001b[39mconcatenate([np\u001b[38;5;241m.\u001b[39mzeros(train_reference),np\u001b[38;5;241m.\u001b[39mones(train_data),np\u001b[38;5;241m.\u001b[39mones(\u001b[38;5;28mlen\u001b[39m(signal))])\n\u001b[1;32m     63\u001b[0m X_train_, X_val_, Y_train_, Y_val_ \u001b[38;5;241m=\u001b[39m train_test_split(x_data_, y_data_, test_size\u001b[38;5;241m=\u001b[39m\u001b[38;5;241m0.5\u001b[39m, random_state \u001b[38;5;241m=\u001b[39m \u001b[38;5;241m42\u001b[39m)\n\u001b[0;32m---> 65\u001b[0m myhistory \u001b[38;5;241m=\u001b[39m \u001b[43mmodel_semiweak\u001b[49m\u001b[38;5;241;43m.\u001b[39;49m\u001b[43mfit\u001b[49m\u001b[43m(\u001b[49m\u001b[43mX_train_\u001b[49m\u001b[43m[\u001b[49m\u001b[43m:\u001b[49m\u001b[43m,\u001b[49m\u001b[38;5;241;43m0\u001b[39;49m\u001b[43m:\u001b[49m\u001b[38;5;241;43m6\u001b[39;49m\u001b[43m]\u001b[49m\u001b[43m,\u001b[49m\u001b[43m \u001b[49m\u001b[43mY_train_\u001b[49m\u001b[43m,\u001b[49m\n\u001b[1;32m     66\u001b[0m \u001b[43m                                     \u001b[49m\u001b[43mepochs\u001b[49m\u001b[38;5;241;43m=\u001b[39;49m\u001b[38;5;241;43m50\u001b[39;49m\u001b[43m,\u001b[49m\u001b[43mvalidation_data\u001b[49m\u001b[38;5;241;43m=\u001b[39;49m\u001b[43m(\u001b[49m\u001b[43mX_val_\u001b[49m\u001b[43m[\u001b[49m\u001b[43m:\u001b[49m\u001b[43m,\u001b[49m\u001b[38;5;241;43m0\u001b[39;49m\u001b[43m:\u001b[49m\u001b[38;5;241;43m6\u001b[39;49m\u001b[43m]\u001b[49m\u001b[43m,\u001b[49m\u001b[43m \u001b[49m\u001b[43mY_val_\u001b[49m\u001b[43m)\u001b[49m\u001b[43m,\u001b[49m\n\u001b[1;32m     67\u001b[0m \u001b[43m                                     \u001b[49m\u001b[43mbatch_size\u001b[49m\u001b[38;5;241;43m=\u001b[39;49m\u001b[38;5;241;43m1024\u001b[39;49m\u001b[43m,\u001b[49m\u001b[43m \u001b[49m\u001b[43mcallbacks\u001b[49m\u001b[43m \u001b[49m\u001b[38;5;241;43m=\u001b[39;49m\u001b[43m \u001b[49m\u001b[43m[\u001b[49m\u001b[43mes\u001b[49m\u001b[43m]\u001b[49m\u001b[43m)\u001b[49m\n\u001b[1;32m     70\u001b[0m \u001b[38;5;28mprint\u001b[39m(m1,m2,model_semiweak\u001b[38;5;241m.\u001b[39mtrainable_weights[\u001b[38;5;241m0\u001b[39m]\u001b[38;5;241m.\u001b[39mnumpy()[\u001b[38;5;241m0\u001b[39m][\u001b[38;5;241m0\u001b[39m],model_semiweak\u001b[38;5;241m.\u001b[39mtrainable_weights[\u001b[38;5;241m1\u001b[39m]\u001b[38;5;241m.\u001b[39mnumpy()[\u001b[38;5;241m0\u001b[39m][\u001b[38;5;241m0\u001b[39m])\n\u001b[1;32m     71\u001b[0m weight_list1\u001b[38;5;241m+\u001b[39m\u001b[38;5;241m=\u001b[39m[model_semiweak\u001b[38;5;241m.\u001b[39mtrainable_weights[\u001b[38;5;241m0\u001b[39m]\u001b[38;5;241m.\u001b[39mnumpy()[\u001b[38;5;241m0\u001b[39m][\u001b[38;5;241m0\u001b[39m]]\n",
      "File \u001b[0;32m~/.conda/envs/research/lib/python3.11/site-packages/keras/src/utils/traceback_utils.py:65\u001b[0m, in \u001b[0;36mfilter_traceback.<locals>.error_handler\u001b[0;34m(*args, **kwargs)\u001b[0m\n\u001b[1;32m     63\u001b[0m filtered_tb \u001b[38;5;241m=\u001b[39m \u001b[38;5;28;01mNone\u001b[39;00m\n\u001b[1;32m     64\u001b[0m \u001b[38;5;28;01mtry\u001b[39;00m:\n\u001b[0;32m---> 65\u001b[0m     \u001b[38;5;28;01mreturn\u001b[39;00m \u001b[43mfn\u001b[49m\u001b[43m(\u001b[49m\u001b[38;5;241;43m*\u001b[39;49m\u001b[43margs\u001b[49m\u001b[43m,\u001b[49m\u001b[43m \u001b[49m\u001b[38;5;241;43m*\u001b[39;49m\u001b[38;5;241;43m*\u001b[39;49m\u001b[43mkwargs\u001b[49m\u001b[43m)\u001b[49m\n\u001b[1;32m     66\u001b[0m \u001b[38;5;28;01mexcept\u001b[39;00m \u001b[38;5;167;01mException\u001b[39;00m \u001b[38;5;28;01mas\u001b[39;00m e:\n\u001b[1;32m     67\u001b[0m     filtered_tb \u001b[38;5;241m=\u001b[39m _process_traceback_frames(e\u001b[38;5;241m.\u001b[39m__traceback__)\n",
      "File \u001b[0;32m~/.conda/envs/research/lib/python3.11/site-packages/keras/src/engine/training.py:1807\u001b[0m, in \u001b[0;36mModel.fit\u001b[0;34m(self, x, y, batch_size, epochs, verbose, callbacks, validation_split, validation_data, shuffle, class_weight, sample_weight, initial_epoch, steps_per_epoch, validation_steps, validation_batch_size, validation_freq, max_queue_size, workers, use_multiprocessing)\u001b[0m\n\u001b[1;32m   1799\u001b[0m \u001b[38;5;28;01mwith\u001b[39;00m tf\u001b[38;5;241m.\u001b[39mprofiler\u001b[38;5;241m.\u001b[39mexperimental\u001b[38;5;241m.\u001b[39mTrace(\n\u001b[1;32m   1800\u001b[0m     \u001b[38;5;124m\"\u001b[39m\u001b[38;5;124mtrain\u001b[39m\u001b[38;5;124m\"\u001b[39m,\n\u001b[1;32m   1801\u001b[0m     epoch_num\u001b[38;5;241m=\u001b[39mepoch,\n\u001b[0;32m   (...)\u001b[0m\n\u001b[1;32m   1804\u001b[0m     _r\u001b[38;5;241m=\u001b[39m\u001b[38;5;241m1\u001b[39m,\n\u001b[1;32m   1805\u001b[0m ):\n\u001b[1;32m   1806\u001b[0m     callbacks\u001b[38;5;241m.\u001b[39mon_train_batch_begin(step)\n\u001b[0;32m-> 1807\u001b[0m     tmp_logs \u001b[38;5;241m=\u001b[39m \u001b[38;5;28;43mself\u001b[39;49m\u001b[38;5;241;43m.\u001b[39;49m\u001b[43mtrain_function\u001b[49m\u001b[43m(\u001b[49m\u001b[43miterator\u001b[49m\u001b[43m)\u001b[49m\n\u001b[1;32m   1808\u001b[0m     \u001b[38;5;28;01mif\u001b[39;00m data_handler\u001b[38;5;241m.\u001b[39mshould_sync:\n\u001b[1;32m   1809\u001b[0m         context\u001b[38;5;241m.\u001b[39masync_wait()\n",
      "File \u001b[0;32m~/.conda/envs/research/lib/python3.11/site-packages/tensorflow/python/util/traceback_utils.py:150\u001b[0m, in \u001b[0;36mfilter_traceback.<locals>.error_handler\u001b[0;34m(*args, **kwargs)\u001b[0m\n\u001b[1;32m    148\u001b[0m filtered_tb \u001b[38;5;241m=\u001b[39m \u001b[38;5;28;01mNone\u001b[39;00m\n\u001b[1;32m    149\u001b[0m \u001b[38;5;28;01mtry\u001b[39;00m:\n\u001b[0;32m--> 150\u001b[0m   \u001b[38;5;28;01mreturn\u001b[39;00m \u001b[43mfn\u001b[49m\u001b[43m(\u001b[49m\u001b[38;5;241;43m*\u001b[39;49m\u001b[43margs\u001b[49m\u001b[43m,\u001b[49m\u001b[43m \u001b[49m\u001b[38;5;241;43m*\u001b[39;49m\u001b[38;5;241;43m*\u001b[39;49m\u001b[43mkwargs\u001b[49m\u001b[43m)\u001b[49m\n\u001b[1;32m    151\u001b[0m \u001b[38;5;28;01mexcept\u001b[39;00m \u001b[38;5;167;01mException\u001b[39;00m \u001b[38;5;28;01mas\u001b[39;00m e:\n\u001b[1;32m    152\u001b[0m   filtered_tb \u001b[38;5;241m=\u001b[39m _process_traceback_frames(e\u001b[38;5;241m.\u001b[39m__traceback__)\n",
      "File \u001b[0;32m~/.conda/envs/research/lib/python3.11/site-packages/tensorflow/python/eager/polymorphic_function/polymorphic_function.py:832\u001b[0m, in \u001b[0;36mFunction.__call__\u001b[0;34m(self, *args, **kwds)\u001b[0m\n\u001b[1;32m    829\u001b[0m compiler \u001b[38;5;241m=\u001b[39m \u001b[38;5;124m\"\u001b[39m\u001b[38;5;124mxla\u001b[39m\u001b[38;5;124m\"\u001b[39m \u001b[38;5;28;01mif\u001b[39;00m \u001b[38;5;28mself\u001b[39m\u001b[38;5;241m.\u001b[39m_jit_compile \u001b[38;5;28;01melse\u001b[39;00m \u001b[38;5;124m\"\u001b[39m\u001b[38;5;124mnonXla\u001b[39m\u001b[38;5;124m\"\u001b[39m\n\u001b[1;32m    831\u001b[0m \u001b[38;5;28;01mwith\u001b[39;00m OptionalXlaContext(\u001b[38;5;28mself\u001b[39m\u001b[38;5;241m.\u001b[39m_jit_compile):\n\u001b[0;32m--> 832\u001b[0m   result \u001b[38;5;241m=\u001b[39m \u001b[38;5;28;43mself\u001b[39;49m\u001b[38;5;241;43m.\u001b[39;49m\u001b[43m_call\u001b[49m\u001b[43m(\u001b[49m\u001b[38;5;241;43m*\u001b[39;49m\u001b[43margs\u001b[49m\u001b[43m,\u001b[49m\u001b[43m \u001b[49m\u001b[38;5;241;43m*\u001b[39;49m\u001b[38;5;241;43m*\u001b[39;49m\u001b[43mkwds\u001b[49m\u001b[43m)\u001b[49m\n\u001b[1;32m    834\u001b[0m new_tracing_count \u001b[38;5;241m=\u001b[39m \u001b[38;5;28mself\u001b[39m\u001b[38;5;241m.\u001b[39mexperimental_get_tracing_count()\n\u001b[1;32m    835\u001b[0m without_tracing \u001b[38;5;241m=\u001b[39m (tracing_count \u001b[38;5;241m==\u001b[39m new_tracing_count)\n",
      "File \u001b[0;32m~/.conda/envs/research/lib/python3.11/site-packages/tensorflow/python/eager/polymorphic_function/polymorphic_function.py:868\u001b[0m, in \u001b[0;36mFunction._call\u001b[0;34m(self, *args, **kwds)\u001b[0m\n\u001b[1;32m    865\u001b[0m   \u001b[38;5;28mself\u001b[39m\u001b[38;5;241m.\u001b[39m_lock\u001b[38;5;241m.\u001b[39mrelease()\n\u001b[1;32m    866\u001b[0m   \u001b[38;5;66;03m# In this case we have created variables on the first call, so we run the\u001b[39;00m\n\u001b[1;32m    867\u001b[0m   \u001b[38;5;66;03m# defunned version which is guaranteed to never create variables.\u001b[39;00m\n\u001b[0;32m--> 868\u001b[0m   \u001b[38;5;28;01mreturn\u001b[39;00m \u001b[43mtracing_compilation\u001b[49m\u001b[38;5;241;43m.\u001b[39;49m\u001b[43mcall_function\u001b[49m\u001b[43m(\u001b[49m\n\u001b[1;32m    869\u001b[0m \u001b[43m      \u001b[49m\u001b[43margs\u001b[49m\u001b[43m,\u001b[49m\u001b[43m \u001b[49m\u001b[43mkwds\u001b[49m\u001b[43m,\u001b[49m\u001b[43m \u001b[49m\u001b[38;5;28;43mself\u001b[39;49m\u001b[38;5;241;43m.\u001b[39;49m\u001b[43m_no_variable_creation_config\u001b[49m\n\u001b[1;32m    870\u001b[0m \u001b[43m  \u001b[49m\u001b[43m)\u001b[49m\n\u001b[1;32m    871\u001b[0m \u001b[38;5;28;01melif\u001b[39;00m \u001b[38;5;28mself\u001b[39m\u001b[38;5;241m.\u001b[39m_variable_creation_config \u001b[38;5;129;01mis\u001b[39;00m \u001b[38;5;129;01mnot\u001b[39;00m \u001b[38;5;28;01mNone\u001b[39;00m:\n\u001b[1;32m    872\u001b[0m   \u001b[38;5;66;03m# Release the lock early so that multiple threads can perform the call\u001b[39;00m\n\u001b[1;32m    873\u001b[0m   \u001b[38;5;66;03m# in parallel.\u001b[39;00m\n\u001b[1;32m    874\u001b[0m   \u001b[38;5;28mself\u001b[39m\u001b[38;5;241m.\u001b[39m_lock\u001b[38;5;241m.\u001b[39mrelease()\n",
      "File \u001b[0;32m~/.conda/envs/research/lib/python3.11/site-packages/tensorflow/python/eager/polymorphic_function/tracing_compilation.py:139\u001b[0m, in \u001b[0;36mcall_function\u001b[0;34m(args, kwargs, tracing_options)\u001b[0m\n\u001b[1;32m    137\u001b[0m bound_args \u001b[38;5;241m=\u001b[39m function\u001b[38;5;241m.\u001b[39mfunction_type\u001b[38;5;241m.\u001b[39mbind(\u001b[38;5;241m*\u001b[39margs, \u001b[38;5;241m*\u001b[39m\u001b[38;5;241m*\u001b[39mkwargs)\n\u001b[1;32m    138\u001b[0m flat_inputs \u001b[38;5;241m=\u001b[39m function\u001b[38;5;241m.\u001b[39mfunction_type\u001b[38;5;241m.\u001b[39munpack_inputs(bound_args)\n\u001b[0;32m--> 139\u001b[0m \u001b[38;5;28;01mreturn\u001b[39;00m \u001b[43mfunction\u001b[49m\u001b[38;5;241;43m.\u001b[39;49m\u001b[43m_call_flat\u001b[49m\u001b[43m(\u001b[49m\u001b[43m  \u001b[49m\u001b[38;5;66;43;03m# pylint: disable=protected-access\u001b[39;49;00m\n\u001b[1;32m    140\u001b[0m \u001b[43m    \u001b[49m\u001b[43mflat_inputs\u001b[49m\u001b[43m,\u001b[49m\u001b[43m \u001b[49m\u001b[43mcaptured_inputs\u001b[49m\u001b[38;5;241;43m=\u001b[39;49m\u001b[43mfunction\u001b[49m\u001b[38;5;241;43m.\u001b[39;49m\u001b[43mcaptured_inputs\u001b[49m\n\u001b[1;32m    141\u001b[0m \u001b[43m\u001b[49m\u001b[43m)\u001b[49m\n",
      "File \u001b[0;32m~/.conda/envs/research/lib/python3.11/site-packages/tensorflow/python/eager/polymorphic_function/concrete_function.py:1323\u001b[0m, in \u001b[0;36mConcreteFunction._call_flat\u001b[0;34m(self, tensor_inputs, captured_inputs)\u001b[0m\n\u001b[1;32m   1319\u001b[0m possible_gradient_type \u001b[38;5;241m=\u001b[39m gradients_util\u001b[38;5;241m.\u001b[39mPossibleTapeGradientTypes(args)\n\u001b[1;32m   1320\u001b[0m \u001b[38;5;28;01mif\u001b[39;00m (possible_gradient_type \u001b[38;5;241m==\u001b[39m gradients_util\u001b[38;5;241m.\u001b[39mPOSSIBLE_GRADIENT_TYPES_NONE\n\u001b[1;32m   1321\u001b[0m     \u001b[38;5;129;01mand\u001b[39;00m executing_eagerly):\n\u001b[1;32m   1322\u001b[0m   \u001b[38;5;66;03m# No tape is watching; skip to running the function.\u001b[39;00m\n\u001b[0;32m-> 1323\u001b[0m   \u001b[38;5;28;01mreturn\u001b[39;00m \u001b[38;5;28;43mself\u001b[39;49m\u001b[38;5;241;43m.\u001b[39;49m\u001b[43m_inference_function\u001b[49m\u001b[38;5;241;43m.\u001b[39;49m\u001b[43mcall_preflattened\u001b[49m\u001b[43m(\u001b[49m\u001b[43margs\u001b[49m\u001b[43m)\u001b[49m\n\u001b[1;32m   1324\u001b[0m forward_backward \u001b[38;5;241m=\u001b[39m \u001b[38;5;28mself\u001b[39m\u001b[38;5;241m.\u001b[39m_select_forward_and_backward_functions(\n\u001b[1;32m   1325\u001b[0m     args,\n\u001b[1;32m   1326\u001b[0m     possible_gradient_type,\n\u001b[1;32m   1327\u001b[0m     executing_eagerly)\n\u001b[1;32m   1328\u001b[0m forward_function, args_with_tangents \u001b[38;5;241m=\u001b[39m forward_backward\u001b[38;5;241m.\u001b[39mforward()\n",
      "File \u001b[0;32m~/.conda/envs/research/lib/python3.11/site-packages/tensorflow/python/eager/polymorphic_function/atomic_function.py:216\u001b[0m, in \u001b[0;36mAtomicFunction.call_preflattened\u001b[0;34m(self, args)\u001b[0m\n\u001b[1;32m    214\u001b[0m \u001b[38;5;28;01mdef\u001b[39;00m \u001b[38;5;21mcall_preflattened\u001b[39m(\u001b[38;5;28mself\u001b[39m, args: Sequence[core\u001b[38;5;241m.\u001b[39mTensor]) \u001b[38;5;241m-\u001b[39m\u001b[38;5;241m>\u001b[39m Any:\n\u001b[1;32m    215\u001b[0m \u001b[38;5;250m  \u001b[39m\u001b[38;5;124;03m\"\"\"Calls with flattened tensor inputs and returns the structured output.\"\"\"\u001b[39;00m\n\u001b[0;32m--> 216\u001b[0m   flat_outputs \u001b[38;5;241m=\u001b[39m \u001b[38;5;28;43mself\u001b[39;49m\u001b[38;5;241;43m.\u001b[39;49m\u001b[43mcall_flat\u001b[49m\u001b[43m(\u001b[49m\u001b[38;5;241;43m*\u001b[39;49m\u001b[43margs\u001b[49m\u001b[43m)\u001b[49m\n\u001b[1;32m    217\u001b[0m   \u001b[38;5;28;01mreturn\u001b[39;00m \u001b[38;5;28mself\u001b[39m\u001b[38;5;241m.\u001b[39mfunction_type\u001b[38;5;241m.\u001b[39mpack_output(flat_outputs)\n",
      "File \u001b[0;32m~/.conda/envs/research/lib/python3.11/site-packages/tensorflow/python/eager/polymorphic_function/atomic_function.py:251\u001b[0m, in \u001b[0;36mAtomicFunction.call_flat\u001b[0;34m(self, *args)\u001b[0m\n\u001b[1;32m    249\u001b[0m \u001b[38;5;28;01mwith\u001b[39;00m record\u001b[38;5;241m.\u001b[39mstop_recording():\n\u001b[1;32m    250\u001b[0m   \u001b[38;5;28;01mif\u001b[39;00m \u001b[38;5;28mself\u001b[39m\u001b[38;5;241m.\u001b[39m_bound_context\u001b[38;5;241m.\u001b[39mexecuting_eagerly():\n\u001b[0;32m--> 251\u001b[0m     outputs \u001b[38;5;241m=\u001b[39m \u001b[38;5;28;43mself\u001b[39;49m\u001b[38;5;241;43m.\u001b[39;49m\u001b[43m_bound_context\u001b[49m\u001b[38;5;241;43m.\u001b[39;49m\u001b[43mcall_function\u001b[49m\u001b[43m(\u001b[49m\n\u001b[1;32m    252\u001b[0m \u001b[43m        \u001b[49m\u001b[38;5;28;43mself\u001b[39;49m\u001b[38;5;241;43m.\u001b[39;49m\u001b[43mname\u001b[49m\u001b[43m,\u001b[49m\n\u001b[1;32m    253\u001b[0m \u001b[43m        \u001b[49m\u001b[38;5;28;43mlist\u001b[39;49m\u001b[43m(\u001b[49m\u001b[43margs\u001b[49m\u001b[43m)\u001b[49m\u001b[43m,\u001b[49m\n\u001b[1;32m    254\u001b[0m \u001b[43m        \u001b[49m\u001b[38;5;28;43mlen\u001b[39;49m\u001b[43m(\u001b[49m\u001b[38;5;28;43mself\u001b[39;49m\u001b[38;5;241;43m.\u001b[39;49m\u001b[43mfunction_type\u001b[49m\u001b[38;5;241;43m.\u001b[39;49m\u001b[43mflat_outputs\u001b[49m\u001b[43m)\u001b[49m\u001b[43m,\u001b[49m\n\u001b[1;32m    255\u001b[0m \u001b[43m    \u001b[49m\u001b[43m)\u001b[49m\n\u001b[1;32m    256\u001b[0m   \u001b[38;5;28;01melse\u001b[39;00m:\n\u001b[1;32m    257\u001b[0m     outputs \u001b[38;5;241m=\u001b[39m make_call_op_in_graph(\n\u001b[1;32m    258\u001b[0m         \u001b[38;5;28mself\u001b[39m,\n\u001b[1;32m    259\u001b[0m         \u001b[38;5;28mlist\u001b[39m(args),\n\u001b[1;32m    260\u001b[0m         \u001b[38;5;28mself\u001b[39m\u001b[38;5;241m.\u001b[39m_bound_context\u001b[38;5;241m.\u001b[39mfunction_call_options\u001b[38;5;241m.\u001b[39mas_attrs(),\n\u001b[1;32m    261\u001b[0m     )\n",
      "File \u001b[0;32m~/.conda/envs/research/lib/python3.11/site-packages/tensorflow/python/eager/context.py:1486\u001b[0m, in \u001b[0;36mContext.call_function\u001b[0;34m(self, name, tensor_inputs, num_outputs)\u001b[0m\n\u001b[1;32m   1484\u001b[0m cancellation_context \u001b[38;5;241m=\u001b[39m cancellation\u001b[38;5;241m.\u001b[39mcontext()\n\u001b[1;32m   1485\u001b[0m \u001b[38;5;28;01mif\u001b[39;00m cancellation_context \u001b[38;5;129;01mis\u001b[39;00m \u001b[38;5;28;01mNone\u001b[39;00m:\n\u001b[0;32m-> 1486\u001b[0m   outputs \u001b[38;5;241m=\u001b[39m \u001b[43mexecute\u001b[49m\u001b[38;5;241;43m.\u001b[39;49m\u001b[43mexecute\u001b[49m\u001b[43m(\u001b[49m\n\u001b[1;32m   1487\u001b[0m \u001b[43m      \u001b[49m\u001b[43mname\u001b[49m\u001b[38;5;241;43m.\u001b[39;49m\u001b[43mdecode\u001b[49m\u001b[43m(\u001b[49m\u001b[38;5;124;43m\"\u001b[39;49m\u001b[38;5;124;43mutf-8\u001b[39;49m\u001b[38;5;124;43m\"\u001b[39;49m\u001b[43m)\u001b[49m\u001b[43m,\u001b[49m\n\u001b[1;32m   1488\u001b[0m \u001b[43m      \u001b[49m\u001b[43mnum_outputs\u001b[49m\u001b[38;5;241;43m=\u001b[39;49m\u001b[43mnum_outputs\u001b[49m\u001b[43m,\u001b[49m\n\u001b[1;32m   1489\u001b[0m \u001b[43m      \u001b[49m\u001b[43minputs\u001b[49m\u001b[38;5;241;43m=\u001b[39;49m\u001b[43mtensor_inputs\u001b[49m\u001b[43m,\u001b[49m\n\u001b[1;32m   1490\u001b[0m \u001b[43m      \u001b[49m\u001b[43mattrs\u001b[49m\u001b[38;5;241;43m=\u001b[39;49m\u001b[43mattrs\u001b[49m\u001b[43m,\u001b[49m\n\u001b[1;32m   1491\u001b[0m \u001b[43m      \u001b[49m\u001b[43mctx\u001b[49m\u001b[38;5;241;43m=\u001b[39;49m\u001b[38;5;28;43mself\u001b[39;49m\u001b[43m,\u001b[49m\n\u001b[1;32m   1492\u001b[0m \u001b[43m  \u001b[49m\u001b[43m)\u001b[49m\n\u001b[1;32m   1493\u001b[0m \u001b[38;5;28;01melse\u001b[39;00m:\n\u001b[1;32m   1494\u001b[0m   outputs \u001b[38;5;241m=\u001b[39m execute\u001b[38;5;241m.\u001b[39mexecute_with_cancellation(\n\u001b[1;32m   1495\u001b[0m       name\u001b[38;5;241m.\u001b[39mdecode(\u001b[38;5;124m\"\u001b[39m\u001b[38;5;124mutf-8\u001b[39m\u001b[38;5;124m\"\u001b[39m),\n\u001b[1;32m   1496\u001b[0m       num_outputs\u001b[38;5;241m=\u001b[39mnum_outputs,\n\u001b[0;32m   (...)\u001b[0m\n\u001b[1;32m   1500\u001b[0m       cancellation_manager\u001b[38;5;241m=\u001b[39mcancellation_context,\n\u001b[1;32m   1501\u001b[0m   )\n",
      "File \u001b[0;32m~/.conda/envs/research/lib/python3.11/site-packages/tensorflow/python/eager/execute.py:53\u001b[0m, in \u001b[0;36mquick_execute\u001b[0;34m(op_name, num_outputs, inputs, attrs, ctx, name)\u001b[0m\n\u001b[1;32m     51\u001b[0m \u001b[38;5;28;01mtry\u001b[39;00m:\n\u001b[1;32m     52\u001b[0m   ctx\u001b[38;5;241m.\u001b[39mensure_initialized()\n\u001b[0;32m---> 53\u001b[0m   tensors \u001b[38;5;241m=\u001b[39m \u001b[43mpywrap_tfe\u001b[49m\u001b[38;5;241;43m.\u001b[39;49m\u001b[43mTFE_Py_Execute\u001b[49m\u001b[43m(\u001b[49m\u001b[43mctx\u001b[49m\u001b[38;5;241;43m.\u001b[39;49m\u001b[43m_handle\u001b[49m\u001b[43m,\u001b[49m\u001b[43m \u001b[49m\u001b[43mdevice_name\u001b[49m\u001b[43m,\u001b[49m\u001b[43m \u001b[49m\u001b[43mop_name\u001b[49m\u001b[43m,\u001b[49m\n\u001b[1;32m     54\u001b[0m \u001b[43m                                      \u001b[49m\u001b[43minputs\u001b[49m\u001b[43m,\u001b[49m\u001b[43m \u001b[49m\u001b[43mattrs\u001b[49m\u001b[43m,\u001b[49m\u001b[43m \u001b[49m\u001b[43mnum_outputs\u001b[49m\u001b[43m)\u001b[49m\n\u001b[1;32m     55\u001b[0m \u001b[38;5;28;01mexcept\u001b[39;00m core\u001b[38;5;241m.\u001b[39m_NotOkStatusException \u001b[38;5;28;01mas\u001b[39;00m e:\n\u001b[1;32m     56\u001b[0m   \u001b[38;5;28;01mif\u001b[39;00m name \u001b[38;5;129;01mis\u001b[39;00m \u001b[38;5;129;01mnot\u001b[39;00m \u001b[38;5;28;01mNone\u001b[39;00m:\n",
      "\u001b[0;31mKeyboardInterrupt\u001b[0m: "
     ]
    }
   ],
   "source": [
    "qq = 'qq'\n",
    "noise = False\n",
    "\n",
    "weight_list1 = []\n",
    "weight_list2 = []\n",
    "weight_list3 = []\n",
    "\n",
    "max_sic1 = []\n",
    "max_sic2 = []\n",
    "\n",
    "epsilon = 1e-4\n",
    "fpr_cut = 1e-4\n",
    "scoreLossdict = {}\n",
    "\n",
    "#w1, w2 = np.round(np.random.uniform(0.5, 6.0, size=2),3)\n",
    "w1, w2 = 1.749, 4.018\n",
    "es = tf.keras.callbacks.EarlyStopping(monitor='val_loss', patience=10)\n",
    "sigspace = np.logspace(-3,-1,10)\n",
    "for sigfrac in sigspace:\n",
    "\n",
    "#sigfrac = 0.1\n",
    "    print(w1, w2, sigfrac)\n",
    "\n",
    "    for l in model_qq.layers:\n",
    "        l.trainable=False\n",
    "\n",
    "    inputs_hold = tf.keras.Input(shape=(1,))\n",
    "    simple_model = Dense(1,use_bias = False,activation='relu',kernel_initializer=tf.keras.initializers.Constant(w1))(inputs_hold)\n",
    "    model3 = Model(inputs = inputs_hold, outputs = simple_model)\n",
    "\n",
    "    inputs_hold2 = tf.keras.Input(shape=(1,))\n",
    "    simple_model2 = Dense(1,use_bias = False,activation='relu',kernel_initializer=tf.keras.initializers.Constant(w2))(inputs_hold2)\n",
    "    model32 = Model(inputs = inputs_hold2, outputs = simple_model2)\n",
    "\n",
    "    inputs_hold3 = tf.keras.Input(shape=(1,))\n",
    "    simple_model3 = tf.exp(Dense(1,use_bias = False,activation='linear',kernel_initializer=tf.keras.initializers.Constant(-8))(inputs_hold3))\n",
    "    model33 = Model(inputs = inputs_hold3, outputs = simple_model3)\n",
    "\n",
    "    inputs = tf.keras.Input(shape=(6,))\n",
    "    inputs2 = tf.keras.layers.concatenate([inputs,model3(tf.ones_like(inputs)[:,0]),model32(tf.ones_like(inputs)[:,0])])\n",
    "    hidden_layer_1 = model_qq(inputs2)\n",
    "    LLR = hidden_layer_1 / (1.-hidden_layer_1 + 0.0001)\n",
    "    #LLR_xs = 1.+sigfrac*LLR - sigfrac\n",
    "    LLR_xs = 1. + model33(tf.ones_like(inputs)[:,0])*LLR - model33(tf.ones_like(inputs)[:,0])\n",
    "    ws = LLR_xs / (1.+LLR_xs)\n",
    "    model_semiweak = Model(inputs = inputs, outputs = ws)\n",
    "    model_semiweak.compile(loss='BCE', optimizer=tf.keras.optimizers.Adam(learning_rate = 0.01))\n",
    "\n",
    "    m1 = 3\n",
    "    m2 = 3\n",
    "\n",
    "    test_background = int(1/2 * len(x[0,0, qq, False]) + 1)\n",
    "    train_reference = int(1/4 *len(x[0,0, qq, False]))\n",
    "    train_data = int(1/4 * len(x[0,0, qq, False]))\n",
    "    test_signal = int(1/2*len(x[m1,m2, qq, False]))\n",
    "\n",
    "    #fixed signal portion\n",
    "    N = int(1/4 *len(x[0,0, qq, False]))\n",
    "    signal = x[m1,m2, qq, False][test_signal:test_signal+int(sigfrac*N)]\n",
    "    x_data_ = np.concatenate([x[0,0, qq, False][test_background:],signal])\n",
    "    y_data_ = np.concatenate([np.zeros(train_reference),np.ones(train_data),np.ones(len(signal))])\n",
    "\n",
    "    X_train_, X_val_, Y_train_, Y_val_ = train_test_split(x_data_, y_data_, test_size=0.5, random_state = 42)\n",
    "\n",
    "    myhistory = model_semiweak.fit(X_train_[:,0:6], Y_train_,\n",
    "                                         epochs=50,validation_data=(X_val_[:,0:6], Y_val_),\n",
    "                                         batch_size=1024, callbacks = [es])\n",
    "\n",
    "\n",
    "    print(m1,m2,model_semiweak.trainable_weights[0].numpy()[0][0],model_semiweak.trainable_weights[1].numpy()[0][0])\n",
    "    weight_list1+=[model_semiweak.trainable_weights[0].numpy()[0][0]]\n",
    "    weight_list2+=[model_semiweak.trainable_weights[1].numpy()[0][0]]\n",
    "    weight_list3+=[model_semiweak.trainable_weights[2].numpy()[0][0]]\n",
    "\n",
    "    scores = model_semiweak.predict(np.concatenate([x[0,0, qq, noise][0:test_background],x[m1,m2, qq, noise][0:test_signal]]),batch_size=1024)\n",
    "    y = np.concatenate([np.zeros(test_background),np.ones(test_signal)])\n",
    "    fpr, tpr, _ = metrics.roc_curve(y, scores)\n",
    "    adjusted_fpr = np.maximum(fpr, fpr_cut)\n",
    "    max_sic1.append(np.max(tpr/np.sqrt(adjusted_fpr + epsilon)))\n",
    "\n",
    "    scoreLossdict[(min(myhistory.history[\"loss\"]))] = scores"
   ]
  },
  {
   "cell_type": "code",
   "execution_count": 12,
   "id": "3e971edc-746c-4ce0-8e77-66b9844bc7de",
   "metadata": {
    "tags": []
   },
   "outputs": [
    {
     "data": {
      "text/plain": [
       "array([2.6835937e-03, 1.5584016e-02, 2.0649234e-02, 1.4900629e-03,\n",
       "       6.7246973e-04, 7.8540051e-04, 6.1544670e-05, 7.1512647e-02,\n",
       "       8.7617159e-02, 1.0151941e-01], dtype=float32)"
      ]
     },
     "execution_count": 12,
     "metadata": {},
     "output_type": "execute_result"
    }
   ],
   "source": [
    "np.exp(weight_list3)"
   ]
  },
  {
   "cell_type": "code",
   "execution_count": null,
   "id": "01d2c9c4-e51e-40d3-86ed-6fadda6f3489",
   "metadata": {},
   "outputs": [],
   "source": [
    "top_items = sorted(scoreLossdict.items())[:3]\n",
    "lowest_losses = [x[0] for x in top_items]\n",
    "top_scores = [scoreLossdict[loss] for loss in lowest_losses]\n",
    "fpr, tpr, _ = metrics.roc_curve(y, np.median(top_scores, axis = 0))\n",
    "tuple_rates_semiweak[(sigfrac, injection)] = (fpr, tpr)"
   ]
  },
  {
   "cell_type": "code",
   "execution_count": 44,
   "id": "d72b120c-d1f4-4152-b4b9-e6a95db8dcad",
   "metadata": {
    "tags": []
   },
   "outputs": [
    {
     "name": "stdout",
     "output_type": "stream",
     "text": [
      "98/98 [==============================] - 0s 646us/step\n",
      "[0.         0.         0.         ... 0.9579875  0.95802057 1.        ]\n"
     ]
    },
    {
     "data": {
      "text/plain": [
       "[<matplotlib.lines.Line2D at 0x7f3f35917e10>]"
      ]
     },
     "execution_count": 44,
     "metadata": {},
     "output_type": "execute_result"
    },
    {
     "data": {
      "image/png": "[encoded data removed]",
      "text/plain": [
       "<Figure size 640x480 with 1 Axes>"
      ]
     },
     "metadata": {},
     "output_type": "display_data"
    }
   ],
   "source": [
    "plt.plot(sigspace, max_sic1)\n",
    "plt.plot(sigspace, [train_supervised(6, 3, 3, 0.0001)]*len(sigspace))"
   ]
  },
  {
   "cell_type": "code",
   "execution_count": 19,
   "id": "8b13e2f3-42ea-4398-afa0-311e6023f49d",
   "metadata": {
    "tags": []
   },
   "outputs": [
    {
     "data": {
      "image/png": "[encoded data removed]",
      "text/plain": [
       "<Figure size 640x480 with 1 Axes>"
      ]
     },
     "metadata": {},
     "output_type": "display_data"
    }
   ],
   "source": [
    "sigspace = np.logspace(-3, -1, 10)\n",
    "plt.plot(sigspace, sigspace, label = \"Theoretical\")\n",
    "plt.plot(sigspace, np.exp(weight_list3), label = \"Fitted\")\n",
    "plt.yscale(\"log\")\n",
    "plt.xscale(\"log\")\n",
    "plt.legend()\n",
    "plt.show()"
   ]
  },
  {
   "cell_type": "code",
   "execution_count": 20,
   "id": "eec4507b-c156-485c-b88e-b84c617b6615",
   "metadata": {
    "tags": []
   },
   "outputs": [
    {
     "data": {
      "text/plain": [
       "(0.0, 700.0)"
      ]
     },
     "execution_count": 20,
     "metadata": {},
     "output_type": "execute_result"
    },
    {
     "data": {
      "image/png": "[encoded data removed]",
      "text/plain": [
       "<Figure size 640x480 with 1 Axes>"
      ]
     },
     "metadata": {},
     "output_type": "display_data"
    }
   ],
   "source": [
    "plt.plot(sigspace,np.array(weight_list1)*100, label = f\"w1 {w1}\")\n",
    "plt.plot(sigspace,np.array(weight_list2)*100, label = f\"w2 {w2}\")\n",
    "plt.xscale(\"log\")\n",
    "plt.xlabel(\"S/B\")\n",
    "plt.ylabel(\"Fitted masses [GeV]\")\n",
    "plt.title(\"Trainable Weights vs S/B 6 Features 3 Parameters\")\n",
    "plt.axhline(m2 * 100,ls=\":\",color='orange', label = m2)\n",
    "plt.axhline(m1 * 100,ls=\":\",color='blue', label = m1)\n",
    "plt.legend()\n",
    "plt.ylim([0,700])"
   ]
  },
  {
   "cell_type": "code",
   "execution_count": 27,
   "id": "c4ee62da-4746-4838-88ac-6812e91e10c5",
   "metadata": {
    "tags": []
   },
   "outputs": [],
   "source": [
    "#dedicated training on single mass pair\n",
    "es = tf.keras.callbacks.EarlyStopping(monitor='val_loss', patience=10)\n",
    "def train_supervised(feature_dims, m1, m2, fpr_cut = 1e-4):\n",
    "    epsilon = 1e-4\n",
    "    x_data_full = np.concatenate([x[0,0, qq, noise],x[m1,m2, qq, noise]])\n",
    "    y_data_full = np.concatenate([np.zeros(len(x[0,0, qq, noise])),np.ones(len(x[m1,m2, qq, noise]))])\n",
    "    X_train_full, X_val_full, Y_train_full, Y_val_full = train_test_split(x_data_full, y_data_full, test_size=0.5, random_state = 42)\n",
    "\n",
    "    model_dedicated = Sequential()\n",
    "    model_dedicated.add(Dense(128, input_dim=feature_dims, activation='relu'))\n",
    "    model_dedicated.add(Dense(128, activation='relu'))\n",
    "    model_dedicated.add(Dense(128, activation='relu'))\n",
    "    model_dedicated.add(Dense(1, activation='sigmoid'))\n",
    "    model_dedicated.compile(loss=\"binary_crossentropy\", optimizer='adam', metrics=['accuracy'])\n",
    "\n",
    "    history_fullySupervised = model_dedicated.fit(X_train_full, Y_train_full, epochs=200,validation_data=(X_val_full, Y_val_full),batch_size=1024, verbose = 0, callbacks = [es])\n",
    "    preds = model_dedicated.predict(X_val_full,batch_size=1000)\n",
    "    fpr, tpr, _ = metrics.roc_curve(Y_val_full, preds)\n",
    "    adjusted_fpr = np.maximum(fpr, fpr_cut)\n",
    "    maxsic = np.max(tpr / np.sqrt(adjusted_fpr + epsilon))\n",
    "    return maxsic\n",
    "\n",
    "#CWOLA comparison\n",
    "def compileCWOLA(feature_dims, m1, m2):\n",
    "    model_cwola = Sequential()\n",
    "    model_cwola.add(Dense(128, input_dim=feature_dims, activation='relu'))\n",
    "    model_cwola.add(Dense(128, activation='relu'))\n",
    "    model_cwola.add(Dense(128, activation='relu'))\n",
    "    model_cwola.add(Dense(1, activation='sigmoid'))\n",
    "    model_cwola.compile(loss='binary_crossentropy', optimizer='adam', metrics=['accuracy'])\n",
    "    return model_cwola\n",
    "\n",
    "from tensorflow.keras.constraints import Constraint\n",
    "class WeightConstraint(Constraint):\n",
    "    def __init__(self, min_value=0.5, max_value=6):\n",
    "        self.min_value = min_value\n",
    "        self.max_value = max_value\n",
    "\n",
    "    def __call__(self, weights):\n",
    "        return tf.clip_by_value(weights, self.min_value, self.max_value)\n",
    "\n",
    "    def get_config(self):\n",
    "        return {'min_value': self.min_value, 'max_value': self.max_value}\n",
    "    \n",
    "# initial_learning_rate = 0.05\n",
    "# final_learning_rate = 0.01\n",
    "# decay_epochs = 50\n",
    "\n",
    "# lr_schedule = tf.keras.optimizers.schedules.ExponentialDecay(\n",
    "#     initial_learning_rate=initial_learning_rate,\n",
    "#     decay_rate=(final_learning_rate / initial_learning_rate) ** (1.0 / decay_epochs),\n",
    "#     decay_steps=1,\n",
    "#     staircase=True)\n",
    "\n",
    "#SemiWeak Model\n",
    "def compileSemiWeakly(sigfrac, model, feature_dims, params, m1, m2, w1, w2):\n",
    "    \n",
    "    for l in model.layers:\n",
    "        l.trainable=False\n",
    "        \n",
    "    inputs_hold = tf.keras.Input(shape=(1,))\n",
    "    simple_model = Dense(1,use_bias = False,activation='relu',kernel_initializer=tf.keras.initializers.Constant(w1), kernel_constraint=WeightConstraint())(inputs_hold)\n",
    "    model3 = Model(inputs = inputs_hold, outputs = simple_model)\n",
    "\n",
    "    inputs_hold2 = tf.keras.Input(shape=(1,))\n",
    "    simple_model2 = Dense(1,use_bias = False,activation='relu',kernel_initializer=tf.keras.initializers.Constant(w2), kernel_constraint=WeightConstraint())(inputs_hold2)\n",
    "    model32 = Model(inputs = inputs_hold2, outputs = simple_model2)\n",
    "\n",
    "    inputs_hold3 = tf.keras.Input(shape=(1,))\n",
    "    simple_model3 = tf.exp(Dense(1,use_bias = False,activation='linear',kernel_initializer=tf.keras.initializers.Constant(-6))(inputs_hold3))\n",
    "    model33 = Model(inputs = inputs_hold3, outputs = simple_model3)\n",
    "\n",
    "    inputs = tf.keras.Input(shape=(feature_dims,))\n",
    "    inputs2 = tf.keras.layers.concatenate([inputs,model3(tf.ones_like(inputs)[:,0]),model32(tf.ones_like(inputs)[:,0])])\n",
    "    epsilon = 1e-4\n",
    "    #physics prior\n",
    "    hidden_layer_1 = model(inputs2)\n",
    "    LLR = hidden_layer_1 / (1.-hidden_layer_1 + epsilon)\n",
    "\n",
    "    if params == 2:\n",
    "        LLR_xs = 1.+sigfrac*LLR - sigfrac\n",
    "    elif params == 3:\n",
    "        LLR_xs = 1. + model33(tf.ones_like(inputs)[:,0])*LLR - model33(tf.ones_like(inputs)[:,0])\n",
    "    else:\n",
    "        print(\"Choose 2 or 3 parameters\")\n",
    "    ws = LLR_xs / (1.+LLR_xs)\n",
    "\n",
    "    SemiWeakModel = Model(inputs = inputs, outputs = ws)\n",
    "    SemiWeakModel.compile(loss='binary_crossentropy', optimizer=tf.keras.optimizers.Adam(learning_rate = 0.01))\n",
    "    return SemiWeakModel\n",
    "\n",
    "def compileSemiWeakly3Prong(sigfrac, model_qq, model_qqq, feature_dims, parameters, m1, m2, w1, w2):\n",
    "    #freeze both two pronged and three pronged prior models\n",
    "    for l in model_qq.layers:\n",
    "        l.trainable=False\n",
    "\n",
    "    for l in model_qqq.layers:\n",
    "        l.trainable=False\n",
    "\n",
    "    inputs_hold = tf.keras.Input(shape=(1,))\n",
    "    simple_model = Dense(1,use_bias = False,activation='relu',kernel_initializer=tf.keras.initializers.Constant(w1), kernel_constraint=WeightConstraint())(inputs_hold)\n",
    "    model3 = Model(inputs = inputs_hold, outputs = simple_model)\n",
    "\n",
    "    inputs_hold2 = tf.keras.Input(shape=(1,))\n",
    "    simple_model2 = Dense(1,use_bias = False,activation='relu',kernel_initializer=tf.keras.initializers.Constant(w2), kernel_constraint=WeightConstraint())(inputs_hold2)\n",
    "    model32 = Model(inputs = inputs_hold2, outputs = simple_model2)\n",
    "\n",
    "    inputs_hold3 = tf.keras.Input(shape=(1,))\n",
    "    simple_model3 = tf.exp(Dense(1,use_bias = False,activation='linear',kernel_initializer=tf.keras.initializers.Constant(-4))(inputs_hold3))\n",
    "    model33 = Model(inputs = inputs_hold3, outputs = simple_model3)\n",
    "\n",
    "    inputs_hold4 = tf.keras.Input(shape=(1,))\n",
    "    simple_model4 = Dense(1,use_bias = False,activation='sigmoid',kernel_initializer=tf.keras.initializers.Constant(1.))(inputs_hold4)\n",
    "    model34 = Model(inputs = inputs_hold4, outputs = simple_model4)\n",
    "\n",
    "    inputs = tf.keras.Input(shape=(6,))\n",
    "    inputs2 = tf.keras.layers.concatenate([inputs,model3(tf.ones_like(inputs)[:,0]),model32(tf.ones_like(inputs)[:,0])])\n",
    "    hidden_layer_1 = model_qq(inputs2)\n",
    "    hidden_layer_13 = model_qqq(inputs2)\n",
    "    LLR2 = hidden_layer_1 / (1.-hidden_layer_1+0.0001)\n",
    "    LLR3 = hidden_layer_13 / (1.-hidden_layer_13+0.0001)\n",
    "    \n",
    "    if parameters == 2:\n",
    "        LLR_xs = 1.+ sigfrac*LLR3 - sigfrac\n",
    "    if parameters == 4:\n",
    "        LLR_xs_fixed = 1 + model33(tf.ones_like(inputs)[:,0])*model34(tf.ones_like(inputs)[:,0]) * LLR3 + (1-model34(tf.ones_like(inputs)[:,0]))*LLR2*model33(tf.ones_like(inputs)[:,0]) - model33(tf.ones_like(inputs)[:,0])\n",
    "    ws = LLR_xs_fixed / (1.+LLR_xs_fixed+0.0001)\n",
    "    SemiWeak3Prong = Model(inputs = inputs, outputs = ws)\n",
    "    SemiWeak3Prong.compile(loss='binary_crossentropy', optimizer=tf.keras.optimizers.Adam(learning_rate = 0.02))\n",
    "    return SemiWeak3Prong"
   ]
  },
  {
   "cell_type": "code",
   "execution_count": 11,
   "id": "6c7a23ad-1f03-42e4-9477-ceb5a7b690d2",
   "metadata": {
    "tags": []
   },
   "outputs": [],
   "source": [
    "#Loop over signal injection amounts M\n",
    "#For a given signal injection amount, inject events according to N ~ Poission(M)\n",
    "#For a given N injected events, initialize the network with w ~ Uniform.  Do this k times.\n",
    "\n",
    "noise = False\n",
    "epsilon = 1e-4\n",
    "es = tf.keras.callbacks.EarlyStopping(monitor='val_loss', patience=10)\n",
    "\n",
    "def train_semiweak(feature_dims, m1, m2, parameters, injections, m_initializations):\n",
    "    maxsicandstd1 = {}\n",
    "    maxsicandstd2 = {}\n",
    "    msic1_runs = []\n",
    "    msic2_runs = []\n",
    "    std1_runs = []\n",
    "    std2_runs = []\n",
    "    score1_injections_raw_runs = []\n",
    "    score2_injections_raw_runs = []\n",
    "    weight_list1_runs = []\n",
    "    weight_list2_runs = []\n",
    "    weight_list3_runs = []\n",
    "    initial_weights_runs = []\n",
    "    \n",
    "    qq = \"qq\"\n",
    "    test_signal = int(1/2*len(x[m1,m2, qq, noise]))\n",
    "\n",
    "    sigspace = np.flip(np.logspace(-3,-1,10))\n",
    "    for sigfrac in sigspace:\n",
    "\n",
    "        initial_weights = []\n",
    "\n",
    "        msic1_median = []\n",
    "        msic2 = []\n",
    "        score1_injections = []\n",
    "        score2_injections = []\n",
    "        weight_list1_injections = []\n",
    "        weight_list2_injections = []\n",
    "        weight_list3_injections = []\n",
    "\n",
    "        print(f\"---------------{sigfrac}---------------\")\n",
    "\n",
    "        # N ~ Poission(M) injected events\n",
    "        for injection in range(injections):\n",
    "            print(f\"Injecting N = {injections - injection} more times, currently on: N = {injection}\")\n",
    "\n",
    "            #randomized signal\n",
    "            random_test_signal_length = random.randint(0, test_signal - 1)\n",
    "            N = int(1/4 * (len(x[0,0, qq, noise])))\n",
    "            signal = x[m1, m2, qq, noise][random_test_signal_length:random_test_signal_length + int(sigfrac*N)]\n",
    "\n",
    "            #fixed signal portion\n",
    "            # N = int(1/4 * (len(x[0,0, qq, noise])))\n",
    "            # signal = x[m1, m2, qq, noise][test_signal:test_signal + int(sigfrac*N)]\n",
    "\n",
    "            score1_kruns = []\n",
    "            weight_list1_kruns = []\n",
    "            weight_list2_kruns = []\n",
    "            weight_list3_kruns = []\n",
    "\n",
    "            print(f\"Ensembling {k_runs} for Signal Fraction : {sigfrac}\")\n",
    "            for k in range(k_runs):\n",
    "\n",
    "                w1 = round(random.uniform(0.5, 6),3)\n",
    "                w2 = round(random.uniform(0.5, 6),3)\n",
    "                initial_weights.append((w1, w2))\n",
    "\n",
    "                print(f\"Initialization: {w1} {w2}\")\n",
    "\n",
    "                for l in model_qq.layers:\n",
    "                    l.trainable=False\n",
    "                model_semiweak = compileSemiWeakly(sigfrac,model_qq, feature_dims, params, m1, m2, w1, w2)\n",
    "\n",
    "                test_background = int(1/2 * len(x[0,0, qq, noise]))\n",
    "                train_reference = int(1/4 *len(x[0,0, qq, noise]))\n",
    "                train_data = int(1/4 * len(x[0,0, qq, noise]))\n",
    "                test_signal = int(1/2*len(x[m1,m2, qq, noise]))\n",
    "\n",
    "                x_data_ = np.concatenate([x[0,0, qq, noise][test_background:],signal])\n",
    "                y_data_ = np.concatenate([np.zeros(train_reference),np.ones(train_data),np.ones(len(signal))])\n",
    "\n",
    "                X_train_, X_val_, Y_train_, Y_val_ = train_test_split(x_data_, y_data_, test_size=0.5, random_state = 42)\n",
    "\n",
    "                history_semiweak = model_semiweak.fit(X_train_[:,0:feature_dims], Y_train_, epochs=50,\n",
    "                                                       validation_data=(X_val_[:,0:feature_dims], Y_val_),batch_size=1024, verbose = 0, callbacks = [es])\n",
    "\n",
    "                print(f\"m1: {m1}\",f\"m2: {m2}\", f\"w1: {model_semiweak.trainable_weights[0].numpy()[0][0]}\", f\"w2: {model_semiweak.trainable_weights[1].numpy()[0][0]}\")\n",
    "\n",
    "                weight_list1_kruns+=[model_semiweak.trainable_weights[0].numpy()[0][0]]\n",
    "                weight_list2_kruns+=[model_semiweak.trainable_weights[1].numpy()[0][0]]\n",
    "                weight_list3_kruns+=[model_semiweak.trainable_weights[2].numpy()[0][0]]\n",
    "\n",
    "                scores = model_semiweak.predict(np.concatenate([x[0,0, qq, noise][0:test_background],x[m1,m2, qq, noise][0:test_signal]]),batch_size=1024)\n",
    "                #per-event probability\n",
    "                score1_kruns.append(scores)\n",
    "\n",
    "            #kruns finished\n",
    "            weight_list1_injections.append(weight_list1_kruns)\n",
    "            weight_list2_injections.append(weight_list2_kruns)\n",
    "            weight_list3_injections.append(weight_list3_kruns)\n",
    "            \n",
    "            #now average over the k classifiers runs\n",
    "            y = np.concatenate([np.zeros(test_background),np.ones(test_signal)])\n",
    "            fpr, tpr, _ = metrics.roc_curve(y, np.median(score1_kruns, axis = 0))\n",
    "            msic1_kmedian = np.max(tpr/np.sqrt(fpr+epsilon))\n",
    "            score1_injections.append(score1_kruns)\n",
    "            msic1_median.append(msic1_kmedian)\n",
    "            print(f\" --- msic1_median on injection {injection}: {msic1_kmedian} ---\")\n",
    "            \n",
    "            #weakly supervised only inject no k classifiers (out of mass initialization loop) no averaging to be done yet\n",
    "            model_CWOLA = compileCWOLA(feature_dims, m1, m2)\n",
    "            history_CWOLA = model_CWOLA.fit(X_train_[:,0:feature_dims], Y_train_, epochs=10,validation_data=(X_val_[:,0:feature_dims], Y_val_),batch_size=1024, verbose = 0)\n",
    "            \n",
    "            scores2 = model_CWOLA.predict(np.concatenate([x[0,0, qq, noise][0:test_background],x[m1,m2, qq, noise][0:test_signal]]),batch_size=1024)\n",
    "            score2_injections.append(scores2)\n",
    "            \n",
    "            y2 = np.concatenate([np.zeros(test_background),np.ones(test_signal)])\n",
    "            fpr2, tpr2, _ = metrics.roc_curve(y2, scores2)\n",
    "            msic2.append(np.max(tpr2/np.sqrt(fpr2+epsilon)))\n",
    "        \n",
    "        msic1_runs.append(np.median(msic1_median))\n",
    "        print(f\" --- msic1_runs for signal fraction {sigfrac}: {np.median(msic1_median)} ---\")\n",
    "        std1_runs.append(np.std(msic1_median))\n",
    "        print(f\" --- msic1_runs_std for signal fraction {sigfrac}: {np.std(msic1_median)} ---\")\n",
    "        \n",
    "        print(f\" --- msic2_runs for signal fraction {sigfrac}: {np.median(msic2)} ---\")\n",
    "        std2_runs.append(np.std(msic2))\n",
    "        print(f\" --- msic2_runs_std for signal fraction {sigfrac}: {np.std(msic2)} ---\")\n",
    "        msic2_runs.append(np.median(msic2))\n",
    "        \n",
    "        score1_injections_raw_runs.append(score1_injections)\n",
    "        score2_injections_raw_runs.append(score2_injections)\n",
    "        weight_list1_runs.append(weight_list1_injections)\n",
    "        weight_list2_runs.append(weight_list2_injections)\n",
    "        weight_list3_runs.append(weight_list3_injections)\n",
    "        \n",
    "        maxsicandstd1[sigfrac] = (np.median(msic1_median), np.std(msic1_median))\n",
    "        maxsicandstd2[sigfrac] = (np.median(msic2), np.std(msic2))\n",
    "        np.save(f\"data/maxsicandstd1_notebook{float(m1)}{float(m2)}.npy\", maxsicandstd1)\n",
    "        np.save(f\"data/maxsicandstd2_notebook{float(m1)}{float(m2)}.npy\", maxsicandstd2)\n",
    "\n",
    "    np.save(f\"data/msic1_median_notebook{float(m1)}{float(m2)}.npy\", maxsicandstd1)\n",
    "    np.save(f\"data/msic2_median_notebook{float(m1)}{float(m2)}.npy\", maxsicandstd2)\n",
    "    np.save(f\"data/std1_median_notebook{float(m1)}{float(m2)}.npy\", std1_runs)\n",
    "    np.save(f\"data/std2_median_notebook{float(m1)}{float(m2)}.npy\", std2_runs)\n",
    "    np.save(f\"data/weight_list1_runs_notebook{float(m1)}{float(m2)}.npy\", weight_list1_runs)\n",
    "    np.save(f\"data/weight_list2_runs_notebook{float(m1)}{float(m2)}.npy\", weight_list2_runs)\n",
    "    np.save(f\"data/weight_list3_runs_notebook{float(m1)}{float(m2)}.npy\", weight_list3_runs)\n",
    "    np.save(f\"data/initial_weights_runs_notebook{float(m1)}{float(m2)}.npy\", initial_weights_runs)"
   ]
  },
  {
   "cell_type": "code",
   "execution_count": 142,
   "id": "24ec4f10-f901-4533-9125-67d5d0629f79",
   "metadata": {
    "tags": []
   },
   "outputs": [
    {
     "name": "stdout",
     "output_type": "stream",
     "text": [
      "98/98 [==============================] - 0s 679us/step\n",
      "[0.         0.         0.         ... 0.95782216 0.95785523 1.        ]\n",
      "FS Max Sic:  21.23316693094483\n",
      "196/196 [==============================] - 0s 803us/step\n",
      "Parametrized Max Sic:  20.78862258303044\n"
     ]
    }
   ],
   "source": [
    "#fully supervised dedicated training initiaized once\n",
    "epsilon = 1e-4\n",
    "noise = False\n",
    "m1, m2 = 3,3\n",
    "msic_full = train_supervised(6, m1, m2, fpr_cut = 0.001)\n",
    "print(\"FS Max Sic: \",msic_full)\n",
    "#parametrized classifer\n",
    "scores_parameterized = model_qq.predict(x_data_qq[np.product(x_data_qq[:,6:8]==[m1,m2],axis=1)==1],batch_size=1000)\n",
    "fpr_param, tpr_param, _ = metrics.roc_curve(y_data_qq[np.product(x_data_qq[:,6:8]==[m1,m2],axis=1)==1], scores_parameterized)\n",
    "adjusted_fpr = np.maximum(fpr_param, cutoff_fpr)\n",
    "msic_param = np.max(tpr_param/np.sqrt(adjusted_fpr+epsilon))\n",
    "print(\"Parametrized Max Sic: \", msic_param)"
   ]
  },
  {
   "cell_type": "code",
   "execution_count": 6,
   "id": "073309ff-4bb5-40cf-9883-45f43c4c2eb9",
   "metadata": {
    "tags": []
   },
   "outputs": [
    {
     "name": "stdout",
     "output_type": "stream",
     "text": [
      "---------------0.1---------------\n",
      "Injecting N = 10 more times, currently on: N = 0\n",
      "Ensembling 5 for Signal Fraction : 0.1\n",
      "Initialization: 5.872 5.562\n"
     ]
    },
    {
     "name": "stderr",
     "output_type": "stream",
     "text": [
      "\n",
      "KeyboardInterrupt\n",
      "\n"
     ]
    }
   ],
   "source": [
    "#mass initializations\n",
    "k_runs = 5\n",
    "feature_dims = 6\n",
    "params = 3\n",
    "#number of randomized signal injection\n",
    "injections = 10\n",
    "\n",
    "m1 = 3\n",
    "m2 = 3\n",
    "\n",
    "parameters = params\n",
    "m_initializations = k_runs\n",
    "\n",
    "train_semiweak(feature_dims, m1, m2, parameters, injections, m_initializations)"
   ]
  },
  {
   "cell_type": "code",
   "execution_count": 16,
   "id": "fa9ce191-ddda-4b9e-b583-b77046a3a3fe",
   "metadata": {},
   "outputs": [],
   "source": [
    "import time\n",
    "def eval_loss_landscape(feature_dims, parameters, m1, m2, step, decay):\n",
    "    qq = decay\n",
    "    noise = False\n",
    "    start_time = time.time()\n",
    "\n",
    "    m1, m2 = 5, 1\n",
    "    step = 0.25\n",
    "    decay = \"qq\"\n",
    "    #check if loss dictionary exists, if it does load it, if not create empty one\n",
    "    dir_path = os.getcwd()\n",
    "    file_name = f\"data/landscapes/z_{feature_dims}_{parameters}_{m1}{m2}_{step}_{decay}_exp8.npy\"\n",
    "    file_path = os.path.join(dir_path, file_name)\n",
    "\n",
    "    if os.path.exists(file_path):\n",
    "        z = np.load(file_name, allow_pickle = True).item()\n",
    "    else:\n",
    "        print(\"Dictionary doesn't exist, creating one...\")\n",
    "        z = {}\n",
    "\n",
    "    losses_list = []\n",
    "    epsilon = 1e-4\n",
    "    sigspace = [1e-6]\n",
    "\n",
    "    start = 0.5\n",
    "    end = 6\n",
    "    step = step\n",
    "\n",
    "    weight_list = np.arange(start, end + step, step)\n",
    "\n",
    "    for sigfrac in sigspace:\n",
    "        print(\"Signal Fraction: \", sigfrac)\n",
    "        count = 0\n",
    "        for w1 in weight_list:\n",
    "            for w2 in weight_list:\n",
    "                if count % 100 == 0:\n",
    "                    print(f\"reached {w1} {w2}\")\n",
    "                count+=1\n",
    "                #print(w1, w2)\n",
    "\n",
    "                if decay == \"qq\":\n",
    "                    for l in model_qq.layers:\n",
    "                        l.trainable=False\n",
    "                    model_semiweak = compileSemiWeakly(sigfrac, model_qq, feature_dims, parameters, m1, m2, w1, w2)\n",
    "\n",
    "                if decay == \"qqq\":\n",
    "                    for l in model_qqq.layers:\n",
    "                        l.trainable=False\n",
    "                    model_semiweak = compileSemiWeakly3Prong(model_qq, model_qqq, feature_dims, parameters, m1, m2, w1, w2)\n",
    "\n",
    "                m1 = m1\n",
    "                m2 = m2\n",
    "\n",
    "                #if computed this mass pair, break\n",
    "                key = (sigfrac,m1,m2, decay)\n",
    "                if key in z:\n",
    "                    break\n",
    "\n",
    "                test_background = int(1/2 *len(x[0,0, qq, noise]))\n",
    "                train_background = int(1/4 * len(x[0,0,qq, noise]))\n",
    "                train_data = int(1/4 * len(x[0,0,qq, noise]))\n",
    "                train_reference = int(1/4 * len(x[0,0,qq, noise]))\n",
    "                #signal\n",
    "                test_signal_length = int(1/2*len(x[m1,m2,qq, noise]))\n",
    "\n",
    "                #randomize signal events\n",
    "                random_test_signal_length = random.randint(0, test_signal_length - 1)\n",
    "                N = int(1/4 * (len(x[0,0,qq, noise])))\n",
    "                signal = x[m1, m2,qq, noise][random_test_signal_length:random_test_signal_length + int(sigfrac*N)]\n",
    "\n",
    "                from pdb import set_trace\n",
    "                #set_trace()\n",
    "                print(len(signal))\n",
    "                x_data_ = np.concatenate([x[0,0,qq, noise][test_background:],signal])\n",
    "                y_data_ = np.concatenate([np.zeros(train_reference),np.ones(train_data),np.ones(len(signal))])\n",
    "\n",
    "                X_train_, X_val_, Y_train_, Y_val_ = train_test_split(x_data_, y_data_, test_size=0.5, random_state = 42)\n",
    "\n",
    "                with tf.device('/GPU:0'):\n",
    "                    loss = model_semiweak.evaluate(X_val_, Y_val_, verbose = 0)\n",
    "                losses_list.append(loss)\n",
    "\n",
    "        end_time = time.time()\n",
    "        elapsed_time = round(end_time - start_time, 3)\n",
    "        print(f\"Time taken: {elapsed_time} seconds\")\n",
    "        if key in z:\n",
    "            print(f\"Loss Landscape for m1 = {m1} and m2 = {m2} already exists for {sigfrac} signal fraction and decay {decay}\")\n",
    "        else:\n",
    "            z[sigfrac, m1, m2, decay] = losses_list\n",
    "            losses_list = []\n",
    "            np.save(file_name, z)\n",
    "    end_time_total = time.time()\n",
    "\n",
    "    elapsed_time_total = round(end_time_total - start_time, 3)\n",
    "    print(f\"Total elapsed time: {elapsed_time_total} seconds\")"
   ]
  },
  {
   "cell_type": "code",
   "execution_count": 17,
   "id": "1f795415-7d52-407d-ae64-ed8a759815a5",
   "metadata": {
    "tags": []
   },
   "outputs": [
    {
     "name": "stdout",
     "output_type": "stream",
     "text": [
      "Dictionary doesn't exist, creating one...\n",
      "Signal Fraction:  1e-06\n",
      "reached 0.5 0.5\n",
      "0\n"
     ]
    },
    {
     "name": "stderr",
     "output_type": "stream",
     "text": [
      "\n",
      "KeyboardInterrupt\n",
      "\n"
     ]
    }
   ],
   "source": [
    "eval_loss_landscape(6, 3, 5, 1, 0.25, \"qqq\")"
   ]
  },
  {
   "cell_type": "code",
   "execution_count": 39,
   "id": "363a07f2-6984-4b6c-80a4-b448d7071594",
   "metadata": {
    "tags": []
   },
   "outputs": [
    {
     "name": "stdout",
     "output_type": "stream",
     "text": [
      "Dictionary doesn't exist, creating one...\n",
      "Signal Fraction:  0.1\n",
      "reached 0.5 0.5\n",
      "reached 1.5 2.5\n",
      "reached 2.5 4.5\n",
      "reached 3.75 0.75\n",
      "reached 4.75 2.75\n",
      "reached 5.75 4.75\n",
      "Time taken: 1806.609 seconds\n",
      "Total elapsed time: 1806.61 seconds\n"
     ]
    }
   ],
   "source": [
    "model_qq = tf.keras.models.load_model(\"/pscratch/sd/g/gupsingh/eager-rain-75\")\n",
    "feature_dims = 6\n",
    "parameters = 3\n",
    "m1 = 3\n",
    "m2 = 4.5\n",
    "step = 0.25\n",
    "eval_loss_landscape_6Features(model_qq, feature_dims, parameters, m1, m2, step)"
   ]
  },
  {
   "cell_type": "code",
   "execution_count": 40,
   "id": "b098cdbb-da6a-42db-9591-3b26cba782fb",
   "metadata": {},
   "outputs": [],
   "source": [
    "def eval_AUC_landscape(feature_dims, parameters, m1, m2, step, decay):\n",
    "    qq = decay\n",
    "    noise = False\n",
    "    \n",
    "    start_time = time.time()\n",
    "\n",
    "    #check if AUC dictionary exists, if it does load it, if not create empty one\n",
    "    dir_path = os.getcwd()\n",
    "    file_name = f\"data/landscapes/a_{feature_dims}_{parameters}_{m1}{m2}_{step}_{decay}.npy\"\n",
    "    file_path = os.path.join(dir_path, file_name)\n",
    "    \n",
    "    if os.path.exists(file_path):\n",
    "        a = np.load(file_name, allow_pickle = True).item()\n",
    "    else:\n",
    "        print(\"Dictionary doesn't exist, creating one...\")\n",
    "        a = {}\n",
    "    \n",
    "    AUC_list = []\n",
    "\n",
    "    epsilon = 1e-4\n",
    "    sigspace = [0.1]\n",
    "\n",
    "    start = 0.5\n",
    "    end = 6\n",
    "    step = step\n",
    "\n",
    "    weight_list = np.arange(start, end + step, step)\n",
    "    \n",
    "    for sigfrac in sigspace:\n",
    "        print(\"Signal Fraction: \", sigfrac)\n",
    "        count = 0\n",
    "        for w1 in weight_list:\n",
    "            for w2 in weight_list:\n",
    "                if count % 100 == 0:\n",
    "                    print(f\"reached {w1} {w2}\")\n",
    "                count+=1\n",
    "                #print(w1, w2)\n",
    "\n",
    "                if decay == \"qq\":\n",
    "                    for l in model.layers:\n",
    "                        l.trainable=False\n",
    "                    model_semiweak = compileSemiWeakly(model, feature_dims, parameters, m1, m2, w1, w2)\n",
    "                    \n",
    "                if decay == \"qqq\":\n",
    "                    for l in model_qqq.layers:\n",
    "                        l.trainable=False\n",
    "                    model_semiweak = compileSemiWeakly3Prong(model_qq, model_qqq, feature_dims, parameters, m1, m2, w1, w2)\n",
    "\n",
    "                m1 = m1\n",
    "                m2 = m2\n",
    "                \n",
    "                #if computed this mass pair, break\n",
    "                \n",
    "                key = (sigfrac,m1,m2, decay)\n",
    "                if key in a:\n",
    "                    break\n",
    "\n",
    "                test_background = int(1/2 *len(x[0,0, qq, noise]))\n",
    "                train_background = int(1/4 * len(x[0,0,qq, noise]))\n",
    "                train_data = int(1/4 * len(x[0,0,qq, noise]))\n",
    "                train_reference = int(1/4 * len(x[0,0,qq, noise]))\n",
    "                #signal\n",
    "                test_signal_length = int(1/2*len(x[m1,m2,qq, noise]))\n",
    "\n",
    "                #randomize signal events\n",
    "                random_test_signal_length = random.randint(0, test_signal_length - 1)\n",
    "                N = int(1/4 * (len(x[0,0,qq, noise])))\n",
    "                signal = x[m1, m2,qq, noise][random_test_signal_length:random_test_signal_length + int(sigfrac*N)]\n",
    "\n",
    "                x_data_ = np.concatenate([x[0,0,qq, noise][test_background:],signal])\n",
    "                y_data_ = np.concatenate([np.zeros(train_reference),np.ones(train_data),np.ones(len(signal))])\n",
    "\n",
    "                X_train_, X_val_, Y_train_, Y_val_ = train_test_split(x_data_, y_data_, test_size=0.5, random_state = 42)\n",
    "                \n",
    "                with tf.device('/GPU:0'):\n",
    "                    y_val_pred = model_semiweak.predict(X_val_)\n",
    "                    auc = roc_auc_score(Y_val_, y_val_pred)\n",
    "                AUC_list.append(auc)\n",
    "                \n",
    "        end_time = time.time()\n",
    "        elapsed_time = round(end_time - start_time, 3)\n",
    "        print(f\"Time taken: {elapsed_time} seconds\")\n",
    "        if key in a:\n",
    "            print(f\"AUC Landscape for m1 = {m1} and m2 = {m2} already exists for {sigfrac} signal fraction and decay {decay}\")\n",
    "        else:\n",
    "            a[sigfrac, m1, m2, decay] = AUC_list\n",
    "            AUC_list = []\n",
    "            np.save(file_name, a)\n",
    "    end_time_total = time.time()\n",
    "\n",
    "    elapsed_time_total = round(end_time_total - start_time, 3)\n",
    "    print(f\"Total elapsed time: {elapsed_time_total} seconds\")"
   ]
  },
  {
   "cell_type": "code",
   "execution_count": 35,
   "id": "fe705449-4c4e-4102-a87b-89c37f122faf",
   "metadata": {
    "collapsed": true,
    "jupyter": {
     "outputs_hidden": true
    },
    "tags": []
   },
   "outputs": [
    {
     "name": "stdout",
     "output_type": "stream",
     "text": [
      "Dictionary doesn't exist, creating one...\n",
      "Signal Fraction:  0.1\n",
      "reached 0.5 0.5\n",
      "996/996 [==============================] - 2s 1ms/step\n",
      "996/996 [==============================] - 2s 2ms/step\n",
      "996/996 [==============================] - 2s 2ms/step\n",
      "996/996 [==============================] - 2s 2ms/step\n",
      "996/996 [==============================] - 2s 2ms/step\n",
      "996/996 [==============================] - 2s 2ms/step\n",
      "996/996 [==============================] - 2s 2ms/step\n",
      "996/996 [==============================] - 2s 2ms/step\n",
      "996/996 [==============================] - 3s 3ms/step\n",
      "996/996 [==============================] - 3s 2ms/step\n",
      "996/996 [==============================] - 2s 2ms/step\n",
      "996/996 [==============================] - 2s 2ms/step\n",
      "996/996 [==============================] - 3s 2ms/step\n",
      "996/996 [==============================] - 3s 3ms/step\n",
      "996/996 [==============================] - 3s 3ms/step\n",
      "996/996 [==============================] - 3s 2ms/step\n",
      "996/996 [==============================] - 3s 2ms/step\n",
      "996/996 [==============================] - 3s 2ms/step\n",
      "996/996 [==============================] - 2s 2ms/step\n",
      "996/996 [==============================] - 3s 2ms/step\n",
      "996/996 [==============================] - 3s 3ms/step\n",
      "996/996 [==============================] - 3s 2ms/step\n",
      "996/996 [==============================] - 3s 2ms/step\n",
      "996/996 [==============================] - 3s 2ms/step\n",
      "996/996 [==============================] - 3s 2ms/step\n",
      "996/996 [==============================] - 3s 2ms/step\n",
      "996/996 [==============================] - 3s 2ms/step\n",
      "996/996 [==============================] - 3s 3ms/step\n",
      "996/996 [==============================] - 3s 2ms/step\n",
      "996/996 [==============================] - 3s 2ms/step\n",
      "996/996 [==============================] - 2s 2ms/step\n",
      "996/996 [==============================] - 3s 2ms/step\n",
      "996/996 [==============================] - 3s 2ms/step\n",
      "996/996 [==============================] - 3s 3ms/step\n",
      "996/996 [==============================] - 3s 3ms/step\n",
      "996/996 [==============================] - 3s 2ms/step\n",
      "996/996 [==============================] - 3s 3ms/step\n",
      "996/996 [==============================] - 3s 2ms/step\n",
      "996/996 [==============================] - 3s 3ms/step\n",
      "996/996 [==============================] - 3s 2ms/step\n",
      "996/996 [==============================] - 3s 2ms/step\n",
      "996/996 [==============================] - 2s 2ms/step\n",
      "996/996 [==============================] - 2s 2ms/step\n",
      "996/996 [==============================] - 2s 2ms/step\n",
      "996/996 [==============================] - 2s 2ms/step\n",
      "996/996 [==============================] - 3s 3ms/step\n",
      "996/996 [==============================] - 3s 2ms/step\n",
      "996/996 [==============================] - 3s 2ms/step\n",
      "996/996 [==============================] - 2s 2ms/step\n",
      "996/996 [==============================] - 3s 2ms/step\n",
      "996/996 [==============================] - 3s 2ms/step\n",
      "996/996 [==============================] - 2s 2ms/step\n",
      "996/996 [==============================] - 2s 2ms/step\n",
      "996/996 [==============================] - 2s 2ms/step\n",
      "996/996 [==============================] - 3s 2ms/step\n",
      "996/996 [==============================] - 2s 2ms/step\n",
      "996/996 [==============================] - 2s 2ms/step\n",
      "996/996 [==============================] - 2s 2ms/step\n",
      "996/996 [==============================] - 2s 2ms/step\n",
      "996/996 [==============================] - 3s 2ms/step\n",
      "996/996 [==============================] - 3s 2ms/step\n",
      "996/996 [==============================] - 3s 2ms/step\n",
      "996/996 [==============================] - 2s 2ms/step\n",
      "996/996 [==============================] - 3s 2ms/step\n",
      "996/996 [==============================] - 3s 2ms/step\n",
      "996/996 [==============================] - 2s 2ms/step\n",
      "996/996 [==============================] - 3s 2ms/step\n",
      "996/996 [==============================] - 2s 2ms/step\n",
      "996/996 [==============================] - 3s 2ms/step\n",
      "996/996 [==============================] - 2s 2ms/step\n",
      "996/996 [==============================] - 2s 2ms/step\n",
      "996/996 [==============================] - 2s 2ms/step\n",
      "996/996 [==============================] - 3s 3ms/step\n",
      "996/996 [==============================] - 3s 2ms/step\n",
      "996/996 [==============================] - 3s 2ms/step\n",
      "996/996 [==============================] - 3s 3ms/step\n",
      "996/996 [==============================] - 3s 3ms/step\n",
      "996/996 [==============================] - 3s 3ms/step\n",
      "996/996 [==============================] - 3s 2ms/step\n",
      "996/996 [==============================] - 3s 3ms/step\n",
      "996/996 [==============================] - 2s 2ms/step\n",
      "996/996 [==============================] - 3s 2ms/step\n",
      "996/996 [==============================] - 3s 2ms/step\n",
      "996/996 [==============================] - 3s 2ms/step\n",
      "996/996 [==============================] - 3s 2ms/step\n",
      "996/996 [==============================] - 3s 2ms/step\n",
      "996/996 [==============================] - 3s 2ms/step\n",
      "996/996 [==============================] - 2s 2ms/step\n",
      "996/996 [==============================] - 2s 2ms/step\n",
      "996/996 [==============================] - 2s 2ms/step\n",
      "996/996 [==============================] - 2s 2ms/step\n",
      "996/996 [==============================] - 2s 2ms/step\n",
      "996/996 [==============================] - 2s 2ms/step\n",
      "996/996 [==============================] - 2s 2ms/step\n",
      "996/996 [==============================] - 2s 2ms/step\n",
      "996/996 [==============================] - 2s 2ms/step\n",
      "996/996 [==============================] - 3s 2ms/step\n",
      "996/996 [==============================] - 3s 2ms/step\n",
      "996/996 [==============================] - 3s 2ms/step\n",
      "996/996 [==============================] - 2s 2ms/step\n",
      "reached 1.5 2.5\n",
      "996/996 [==============================] - 2s 2ms/step\n",
      "996/996 [==============================] - 2s 2ms/step\n",
      "996/996 [==============================] - 2s 2ms/step\n",
      "996/996 [==============================] - 2s 2ms/step\n",
      "996/996 [==============================] - 2s 2ms/step\n",
      "996/996 [==============================] - 2s 2ms/step\n",
      "996/996 [==============================] - 2s 2ms/step\n",
      "996/996 [==============================] - 3s 2ms/step\n",
      "996/996 [==============================] - 3s 2ms/step\n",
      "996/996 [==============================] - 3s 2ms/step\n",
      "996/996 [==============================] - 2s 2ms/step\n",
      "996/996 [==============================] - 2s 2ms/step\n",
      "996/996 [==============================] - 2s 2ms/step\n",
      "996/996 [==============================] - 2s 2ms/step\n",
      "996/996 [==============================] - 2s 2ms/step\n",
      "996/996 [==============================] - 2s 2ms/step\n",
      "996/996 [==============================] - 2s 2ms/step\n",
      "996/996 [==============================] - 2s 2ms/step\n",
      "996/996 [==============================] - 2s 2ms/step\n",
      "996/996 [==============================] - 2s 2ms/step\n",
      "996/996 [==============================] - 2s 2ms/step\n",
      "996/996 [==============================] - 2s 2ms/step\n",
      "996/996 [==============================] - 2s 2ms/step\n",
      "996/996 [==============================] - 2s 2ms/step\n",
      "996/996 [==============================] - 2s 2ms/step\n",
      "996/996 [==============================] - 2s 2ms/step\n",
      "996/996 [==============================] - 2s 2ms/step\n",
      "996/996 [==============================] - 2s 2ms/step\n",
      "996/996 [==============================] - 2s 2ms/step\n",
      "996/996 [==============================] - 2s 2ms/step\n",
      "996/996 [==============================] - 2s 2ms/step\n",
      "996/996 [==============================] - 2s 2ms/step\n",
      "996/996 [==============================] - 2s 2ms/step\n",
      "996/996 [==============================] - 2s 2ms/step\n",
      "996/996 [==============================] - 2s 2ms/step\n",
      "996/996 [==============================] - 3s 2ms/step\n",
      "996/996 [==============================] - 2s 2ms/step\n",
      "996/996 [==============================] - 3s 2ms/step\n",
      "996/996 [==============================] - 2s 2ms/step\n",
      "996/996 [==============================] - 2s 2ms/step\n",
      "996/996 [==============================] - 2s 2ms/step\n",
      "996/996 [==============================] - 2s 2ms/step\n",
      "996/996 [==============================] - 2s 2ms/step\n",
      "996/996 [==============================] - 2s 2ms/step\n",
      "996/996 [==============================] - 2s 2ms/step\n",
      "996/996 [==============================] - 2s 2ms/step\n",
      "996/996 [==============================] - 2s 2ms/step\n",
      "996/996 [==============================] - 2s 2ms/step\n",
      "996/996 [==============================] - 2s 2ms/step\n",
      "996/996 [==============================] - 2s 2ms/step\n",
      "996/996 [==============================] - 2s 2ms/step\n",
      "996/996 [==============================] - 2s 2ms/step\n",
      "996/996 [==============================] - 2s 2ms/step\n",
      "996/996 [==============================] - 2s 2ms/step\n",
      "996/996 [==============================] - 2s 2ms/step\n",
      "996/996 [==============================] - 2s 2ms/step\n",
      "996/996 [==============================] - 2s 2ms/step\n",
      "996/996 [==============================] - 2s 2ms/step\n",
      "996/996 [==============================] - 2s 2ms/step\n",
      "996/996 [==============================] - 2s 2ms/step\n",
      "996/996 [==============================] - 2s 2ms/step\n",
      "996/996 [==============================] - 2s 2ms/step\n",
      "996/996 [==============================] - 2s 2ms/step\n",
      "996/996 [==============================] - 2s 2ms/step\n",
      "996/996 [==============================] - 2s 2ms/step\n",
      "996/996 [==============================] - 2s 2ms/step\n",
      "996/996 [==============================] - 2s 2ms/step\n",
      "996/996 [==============================] - 2s 2ms/step\n",
      "996/996 [==============================] - 2s 2ms/step\n",
      "996/996 [==============================] - 2s 2ms/step\n",
      "996/996 [==============================] - 2s 2ms/step\n",
      "996/996 [==============================] - 2s 2ms/step\n",
      "996/996 [==============================] - 2s 2ms/step\n",
      "996/996 [==============================] - 2s 2ms/step\n",
      "996/996 [==============================] - 2s 2ms/step\n",
      "996/996 [==============================] - 3s 2ms/step\n",
      "996/996 [==============================] - 3s 2ms/step\n",
      "996/996 [==============================] - 3s 2ms/step\n",
      "996/996 [==============================] - 3s 2ms/step\n",
      "996/996 [==============================] - 2s 2ms/step\n",
      "996/996 [==============================] - 2s 2ms/step\n",
      "996/996 [==============================] - 2s 2ms/step\n",
      "996/996 [==============================] - 3s 3ms/step\n",
      "996/996 [==============================] - 2s 2ms/step\n",
      "996/996 [==============================] - 2s 2ms/step\n",
      "996/996 [==============================] - 2s 2ms/step\n",
      "996/996 [==============================] - 2s 2ms/step\n",
      "996/996 [==============================] - 3s 2ms/step\n",
      "996/996 [==============================] - 3s 2ms/step\n",
      "996/996 [==============================] - 2s 2ms/step\n",
      "996/996 [==============================] - 3s 2ms/step\n",
      "996/996 [==============================] - 2s 2ms/step\n",
      "996/996 [==============================] - 2s 2ms/step\n",
      "996/996 [==============================] - 2s 2ms/step\n",
      "996/996 [==============================] - 2s 2ms/step\n",
      "996/996 [==============================] - 3s 2ms/step\n",
      "996/996 [==============================] - 3s 2ms/step\n",
      "996/996 [==============================] - 3s 2ms/step\n",
      "996/996 [==============================] - 2s 2ms/step\n",
      "996/996 [==============================] - 2s 2ms/step\n",
      "reached 2.5 4.5\n",
      "996/996 [==============================] - 2s 2ms/step\n",
      "996/996 [==============================] - 2s 2ms/step\n",
      "996/996 [==============================] - 2s 2ms/step\n",
      "996/996 [==============================] - 2s 2ms/step\n",
      "996/996 [==============================] - 3s 2ms/step\n",
      "996/996 [==============================] - 2s 2ms/step\n",
      "996/996 [==============================] - 3s 2ms/step\n",
      "996/996 [==============================] - 2s 2ms/step\n",
      "996/996 [==============================] - 2s 2ms/step\n",
      "996/996 [==============================] - 2s 2ms/step\n",
      "996/996 [==============================] - 2s 2ms/step\n",
      "996/996 [==============================] - 2s 2ms/step\n",
      "996/996 [==============================] - 2s 2ms/step\n",
      "996/996 [==============================] - 2s 2ms/step\n",
      "996/996 [==============================] - 2s 2ms/step\n",
      "996/996 [==============================] - 2s 2ms/step\n",
      "996/996 [==============================] - 2s 2ms/step\n",
      "996/996 [==============================] - 2s 2ms/step\n",
      "996/996 [==============================] - 2s 2ms/step\n",
      "996/996 [==============================] - 2s 2ms/step\n",
      "996/996 [==============================] - 3s 3ms/step\n",
      "996/996 [==============================] - 2s 2ms/step\n",
      "996/996 [==============================] - 2s 2ms/step\n",
      "996/996 [==============================] - 2s 2ms/step\n",
      "996/996 [==============================] - 2s 1ms/step\n",
      "996/996 [==============================] - 2s 2ms/step\n",
      "996/996 [==============================] - 2s 2ms/step\n",
      "996/996 [==============================] - 2s 2ms/step\n",
      "996/996 [==============================] - 2s 2ms/step\n",
      "996/996 [==============================] - 2s 2ms/step\n",
      "996/996 [==============================] - 2s 2ms/step\n",
      "996/996 [==============================] - 2s 2ms/step\n",
      "996/996 [==============================] - 2s 2ms/step\n",
      "996/996 [==============================] - 2s 2ms/step\n",
      "996/996 [==============================] - 2s 2ms/step\n",
      "996/996 [==============================] - 2s 2ms/step\n",
      "996/996 [==============================] - 2s 2ms/step\n",
      "996/996 [==============================] - 2s 2ms/step\n",
      "996/996 [==============================] - 3s 3ms/step\n",
      "996/996 [==============================] - 2s 2ms/step\n",
      "996/996 [==============================] - 2s 2ms/step\n",
      "996/996 [==============================] - 2s 2ms/step\n",
      "996/996 [==============================] - 2s 2ms/step\n",
      "996/996 [==============================] - 2s 2ms/step\n",
      "996/996 [==============================] - 2s 2ms/step\n",
      "996/996 [==============================] - 2s 2ms/step\n",
      "996/996 [==============================] - 2s 2ms/step\n",
      "996/996 [==============================] - 2s 2ms/step\n",
      "996/996 [==============================] - 2s 2ms/step\n",
      "996/996 [==============================] - 2s 2ms/step\n",
      "996/996 [==============================] - 2s 2ms/step\n",
      "996/996 [==============================] - 2s 2ms/step\n",
      "996/996 [==============================] - 3s 2ms/step\n",
      "996/996 [==============================] - 2s 2ms/step\n",
      "996/996 [==============================] - 3s 2ms/step\n",
      "996/996 [==============================] - 2s 2ms/step\n",
      "996/996 [==============================] - 3s 2ms/step\n",
      "996/996 [==============================] - 3s 2ms/step\n",
      "996/996 [==============================] - 3s 2ms/step\n",
      "996/996 [==============================] - 3s 2ms/step\n",
      "996/996 [==============================] - 3s 3ms/step\n",
      "996/996 [==============================] - 3s 2ms/step\n",
      "996/996 [==============================] - 3s 3ms/step\n",
      "996/996 [==============================] - 3s 3ms/step\n",
      "996/996 [==============================] - 3s 3ms/step\n",
      "996/996 [==============================] - 3s 2ms/step\n",
      "996/996 [==============================] - 3s 3ms/step\n",
      "996/996 [==============================] - 3s 3ms/step\n",
      "996/996 [==============================] - 3s 3ms/step\n",
      "996/996 [==============================] - 3s 3ms/step\n",
      "996/996 [==============================] - 3s 3ms/step\n",
      "996/996 [==============================] - 3s 3ms/step\n",
      "996/996 [==============================] - 3s 3ms/step\n",
      "996/996 [==============================] - 2s 2ms/step\n",
      "996/996 [==============================] - 3s 3ms/step\n",
      "996/996 [==============================] - 3s 3ms/step\n",
      "996/996 [==============================] - 3s 3ms/step\n",
      "996/996 [==============================] - 3s 2ms/step\n",
      "996/996 [==============================] - 3s 3ms/step\n",
      "996/996 [==============================] - 3s 3ms/step\n",
      "996/996 [==============================] - 3s 3ms/step\n",
      "996/996 [==============================] - 3s 3ms/step\n",
      "996/996 [==============================] - 3s 3ms/step\n",
      "996/996 [==============================] - 3s 3ms/step\n",
      "996/996 [==============================] - 3s 3ms/step\n",
      "996/996 [==============================] - 3s 3ms/step\n",
      "996/996 [==============================] - 3s 3ms/step\n",
      "996/996 [==============================] - 3s 2ms/step\n",
      "996/996 [==============================] - 3s 3ms/step\n",
      "996/996 [==============================] - 3s 3ms/step\n",
      "996/996 [==============================] - 3s 3ms/step\n",
      "996/996 [==============================] - 3s 3ms/step\n",
      "996/996 [==============================] - 3s 3ms/step\n",
      "996/996 [==============================] - 3s 3ms/step\n",
      "996/996 [==============================] - 3s 3ms/step\n",
      "996/996 [==============================] - 2s 2ms/step\n",
      "996/996 [==============================] - 3s 2ms/step\n",
      "996/996 [==============================] - 3s 3ms/step\n",
      "996/996 [==============================] - 3s 3ms/step\n",
      "996/996 [==============================] - 3s 3ms/step\n",
      "reached 3.75 0.75\n",
      "996/996 [==============================] - 3s 2ms/step\n",
      "996/996 [==============================] - 3s 2ms/step\n",
      "996/996 [==============================] - 3s 3ms/step\n",
      "996/996 [==============================] - 3s 3ms/step\n",
      "996/996 [==============================] - 3s 3ms/step\n",
      "996/996 [==============================] - 3s 3ms/step\n",
      "996/996 [==============================] - 3s 2ms/step\n",
      "996/996 [==============================] - 2s 2ms/step\n",
      "996/996 [==============================] - 3s 3ms/step\n",
      "996/996 [==============================] - 3s 3ms/step\n",
      "996/996 [==============================] - 3s 3ms/step\n",
      "996/996 [==============================] - 3s 3ms/step\n",
      "996/996 [==============================] - 3s 3ms/step\n",
      "996/996 [==============================] - 3s 2ms/step\n",
      "996/996 [==============================] - 2s 2ms/step\n",
      "996/996 [==============================] - 3s 3ms/step\n",
      "996/996 [==============================] - 3s 3ms/step\n",
      "996/996 [==============================] - 3s 3ms/step\n",
      "996/996 [==============================] - 3s 2ms/step\n",
      "996/996 [==============================] - 2s 2ms/step\n",
      "996/996 [==============================] - 2s 2ms/step\n",
      "996/996 [==============================] - 3s 3ms/step\n",
      "996/996 [==============================] - 3s 2ms/step\n",
      "996/996 [==============================] - 3s 3ms/step\n",
      "996/996 [==============================] - 3s 3ms/step\n",
      "996/996 [==============================] - 3s 2ms/step\n",
      "996/996 [==============================] - 2s 2ms/step\n",
      "996/996 [==============================] - 3s 2ms/step\n",
      "996/996 [==============================] - 3s 2ms/step\n",
      "996/996 [==============================] - 3s 2ms/step\n",
      "996/996 [==============================] - 3s 3ms/step\n",
      "996/996 [==============================] - 3s 3ms/step\n",
      "996/996 [==============================] - 3s 3ms/step\n",
      "996/996 [==============================] - 3s 2ms/step\n",
      "996/996 [==============================] - 2s 2ms/step\n",
      "996/996 [==============================] - 3s 2ms/step\n",
      "996/996 [==============================] - 2s 2ms/step\n",
      "996/996 [==============================] - 3s 2ms/step\n",
      "996/996 [==============================] - 3s 3ms/step\n",
      "996/996 [==============================] - 3s 3ms/step\n",
      "996/996 [==============================] - 3s 3ms/step\n",
      "996/996 [==============================] - 3s 3ms/step\n",
      "996/996 [==============================] - 3s 3ms/step\n",
      "996/996 [==============================] - 3s 3ms/step\n",
      "996/996 [==============================] - 3s 3ms/step\n",
      "996/996 [==============================] - 3s 3ms/step\n",
      "996/996 [==============================] - 3s 3ms/step\n",
      "996/996 [==============================] - 3s 3ms/step\n",
      "996/996 [==============================] - 3s 2ms/step\n",
      "996/996 [==============================] - 3s 3ms/step\n",
      "996/996 [==============================] - 3s 3ms/step\n",
      "996/996 [==============================] - 3s 3ms/step\n",
      "996/996 [==============================] - 3s 3ms/step\n",
      "996/996 [==============================] - 2s 2ms/step\n",
      "996/996 [==============================] - 3s 3ms/step\n",
      "996/996 [==============================] - 3s 3ms/step\n",
      "996/996 [==============================] - 3s 3ms/step\n",
      "996/996 [==============================] - 3s 3ms/step\n",
      "996/996 [==============================] - 3s 3ms/step\n",
      "996/996 [==============================] - 4s 3ms/step\n",
      "996/996 [==============================] - 4s 3ms/step\n",
      "996/996 [==============================] - 3s 3ms/step\n",
      "996/996 [==============================] - 3s 3ms/step\n",
      "996/996 [==============================] - 3s 3ms/step\n",
      "996/996 [==============================] - 3s 3ms/step\n",
      "996/996 [==============================] - 3s 3ms/step\n",
      "996/996 [==============================] - 6s 3ms/step\n",
      "996/996 [==============================] - 3s 3ms/step\n",
      "996/996 [==============================] - 3s 3ms/step\n",
      "996/996 [==============================] - 3s 3ms/step\n",
      "996/996 [==============================] - 3s 3ms/step\n",
      "996/996 [==============================] - 3s 3ms/step\n",
      "996/996 [==============================] - 3s 2ms/step\n",
      "996/996 [==============================] - 3s 3ms/step\n",
      "996/996 [==============================] - 3s 3ms/step\n",
      "996/996 [==============================] - 3s 3ms/step\n",
      "996/996 [==============================] - 3s 3ms/step\n",
      "996/996 [==============================] - 3s 3ms/step\n",
      "996/996 [==============================] - 3s 3ms/step\n",
      "996/996 [==============================] - 4s 3ms/step\n",
      "996/996 [==============================] - 4s 3ms/step\n",
      "996/996 [==============================] - 3s 2ms/step\n",
      "996/996 [==============================] - 3s 2ms/step\n",
      "996/996 [==============================] - 3s 3ms/step\n",
      "996/996 [==============================] - 3s 3ms/step\n",
      "996/996 [==============================] - 3s 3ms/step\n",
      "996/996 [==============================] - 3s 3ms/step\n",
      "996/996 [==============================] - 3s 3ms/step\n",
      "996/996 [==============================] - 3s 3ms/step\n",
      "996/996 [==============================] - 3s 3ms/step\n",
      "996/996 [==============================] - 3s 3ms/step\n",
      "996/996 [==============================] - 3s 2ms/step\n",
      "996/996 [==============================] - 3s 3ms/step\n",
      "996/996 [==============================] - 3s 3ms/step\n",
      "996/996 [==============================] - 3s 3ms/step\n",
      "996/996 [==============================] - 3s 2ms/step\n",
      "996/996 [==============================] - 2s 2ms/step\n",
      "996/996 [==============================] - 2s 2ms/step\n",
      "996/996 [==============================] - 3s 3ms/step\n",
      "996/996 [==============================] - 3s 2ms/step\n",
      "reached 4.75 2.75\n",
      "996/996 [==============================] - 3s 3ms/step\n",
      "996/996 [==============================] - 3s 2ms/step\n",
      "996/996 [==============================] - 2s 2ms/step\n",
      "996/996 [==============================] - 3s 2ms/step\n",
      "996/996 [==============================] - 3s 2ms/step\n",
      "996/996 [==============================] - 3s 2ms/step\n",
      "996/996 [==============================] - 3s 2ms/step\n",
      "996/996 [==============================] - 3s 2ms/step\n",
      "996/996 [==============================] - 2s 2ms/step\n",
      "996/996 [==============================] - 2s 2ms/step\n",
      "996/996 [==============================] - 2s 2ms/step\n",
      "996/996 [==============================] - 2s 2ms/step\n",
      "996/996 [==============================] - 2s 2ms/step\n",
      "996/996 [==============================] - 2s 2ms/step\n",
      "996/996 [==============================] - 2s 2ms/step\n",
      "996/996 [==============================] - 2s 2ms/step\n",
      "996/996 [==============================] - 2s 2ms/step\n",
      "996/996 [==============================] - 2s 2ms/step\n",
      "996/996 [==============================] - 2s 2ms/step\n",
      "996/996 [==============================] - 2s 2ms/step\n",
      "996/996 [==============================] - 2s 2ms/step\n",
      "996/996 [==============================] - 2s 2ms/step\n",
      "996/996 [==============================] - 2s 2ms/step\n",
      "996/996 [==============================] - 2s 2ms/step\n",
      "996/996 [==============================] - 2s 2ms/step\n",
      "996/996 [==============================] - 2s 2ms/step\n",
      "996/996 [==============================] - 2s 2ms/step\n",
      "996/996 [==============================] - 2s 2ms/step\n",
      "996/996 [==============================] - 2s 2ms/step\n",
      "996/996 [==============================] - 3s 2ms/step\n",
      "996/996 [==============================] - 2s 2ms/step\n",
      "996/996 [==============================] - 3s 2ms/step\n",
      "996/996 [==============================] - 3s 2ms/step\n",
      "996/996 [==============================] - 2s 2ms/step\n",
      "996/996 [==============================] - 2s 2ms/step\n",
      "996/996 [==============================] - 3s 2ms/step\n",
      "996/996 [==============================] - 3s 2ms/step\n",
      "996/996 [==============================] - 3s 3ms/step\n",
      "996/996 [==============================] - 2s 2ms/step\n",
      "996/996 [==============================] - 2s 2ms/step\n",
      "996/996 [==============================] - 2s 2ms/step\n",
      "996/996 [==============================] - 2s 2ms/step\n",
      "996/996 [==============================] - 2s 2ms/step\n",
      "996/996 [==============================] - 2s 2ms/step\n",
      "996/996 [==============================] - 2s 2ms/step\n",
      "996/996 [==============================] - 2s 2ms/step\n",
      "996/996 [==============================] - 2s 2ms/step\n",
      "996/996 [==============================] - 2s 2ms/step\n",
      "996/996 [==============================] - 2s 2ms/step\n",
      "996/996 [==============================] - 2s 2ms/step\n",
      "996/996 [==============================] - 2s 2ms/step\n",
      "996/996 [==============================] - 2s 2ms/step\n",
      "996/996 [==============================] - 2s 2ms/step\n",
      "996/996 [==============================] - 2s 2ms/step\n",
      "996/996 [==============================] - 2s 2ms/step\n",
      "996/996 [==============================] - 3s 2ms/step\n",
      "996/996 [==============================] - 2s 2ms/step\n",
      "996/996 [==============================] - 2s 2ms/step\n",
      "996/996 [==============================] - 2s 2ms/step\n",
      "996/996 [==============================] - 2s 2ms/step\n",
      "996/996 [==============================] - 2s 2ms/step\n",
      "996/996 [==============================] - 2s 2ms/step\n",
      "996/996 [==============================] - 2s 2ms/step\n",
      "996/996 [==============================] - 2s 2ms/step\n",
      "996/996 [==============================] - 2s 2ms/step\n",
      "996/996 [==============================] - 2s 1ms/step\n",
      "996/996 [==============================] - 2s 2ms/step\n",
      "996/996 [==============================] - 2s 2ms/step\n",
      "996/996 [==============================] - 2s 2ms/step\n",
      "996/996 [==============================] - 2s 2ms/step\n",
      "996/996 [==============================] - 2s 2ms/step\n",
      "996/996 [==============================] - 2s 2ms/step\n",
      "996/996 [==============================] - 2s 2ms/step\n",
      "996/996 [==============================] - 2s 2ms/step\n",
      "996/996 [==============================] - 2s 2ms/step\n",
      "996/996 [==============================] - 2s 2ms/step\n",
      "996/996 [==============================] - 2s 2ms/step\n",
      "996/996 [==============================] - 2s 2ms/step\n",
      "996/996 [==============================] - 2s 2ms/step\n",
      "996/996 [==============================] - 2s 2ms/step\n",
      "996/996 [==============================] - 3s 2ms/step\n",
      "996/996 [==============================] - 2s 2ms/step\n",
      "996/996 [==============================] - 2s 2ms/step\n",
      "996/996 [==============================] - 3s 2ms/step\n",
      "996/996 [==============================] - 2s 2ms/step\n",
      "996/996 [==============================] - 3s 2ms/step\n",
      "996/996 [==============================] - 2s 2ms/step\n",
      "996/996 [==============================] - 2s 2ms/step\n",
      "996/996 [==============================] - 2s 2ms/step\n",
      "996/996 [==============================] - 2s 2ms/step\n",
      "996/996 [==============================] - 2s 2ms/step\n",
      "996/996 [==============================] - 3s 2ms/step\n",
      "996/996 [==============================] - 2s 2ms/step\n",
      "996/996 [==============================] - 2s 2ms/step\n",
      "996/996 [==============================] - 2s 2ms/step\n",
      "996/996 [==============================] - 2s 2ms/step\n",
      "996/996 [==============================] - 3s 2ms/step\n",
      "996/996 [==============================] - 3s 2ms/step\n",
      "996/996 [==============================] - 2s 2ms/step\n",
      "996/996 [==============================] - 3s 2ms/step\n",
      "reached 5.75 4.75\n",
      "996/996 [==============================] - 2s 2ms/step\n",
      "996/996 [==============================] - 2s 2ms/step\n",
      "996/996 [==============================] - 3s 3ms/step\n",
      "996/996 [==============================] - 3s 2ms/step\n",
      "996/996 [==============================] - 3s 3ms/step\n",
      "996/996 [==============================] - 3s 2ms/step\n",
      "996/996 [==============================] - 3s 3ms/step\n",
      "996/996 [==============================] - 3s 3ms/step\n",
      "996/996 [==============================] - 3s 3ms/step\n",
      "996/996 [==============================] - 3s 3ms/step\n",
      "996/996 [==============================] - 3s 3ms/step\n",
      "996/996 [==============================] - 3s 3ms/step\n",
      "996/996 [==============================] - 3s 3ms/step\n",
      "996/996 [==============================] - 3s 2ms/step\n",
      "996/996 [==============================] - 3s 3ms/step\n",
      "996/996 [==============================] - 3s 2ms/step\n",
      "996/996 [==============================] - 3s 3ms/step\n",
      "996/996 [==============================] - 3s 3ms/step\n",
      "996/996 [==============================] - 3s 3ms/step\n",
      "996/996 [==============================] - 2s 2ms/step\n",
      "996/996 [==============================] - 2s 2ms/step\n",
      "996/996 [==============================] - 3s 3ms/step\n",
      "996/996 [==============================] - 3s 2ms/step\n",
      "996/996 [==============================] - 3s 2ms/step\n",
      "996/996 [==============================] - 7s 3ms/step\n",
      "996/996 [==============================] - 3s 3ms/step\n",
      "996/996 [==============================] - 3s 3ms/step\n",
      "996/996 [==============================] - 3s 3ms/step\n",
      "996/996 [==============================] - 3s 3ms/step\n",
      "Time taken: 1822.279 seconds\n"
     ]
    }
   ],
   "source": [
    "from sklearn.metrics import roc_auc_score\n",
    "model_qq = tf.keras.models.load_model(\"/pscratch/sd/g/gupsingh/eager-rain-75\")\n",
    "m1 = 3\n",
    "m2 = 3\n",
    "parameters = 3\n",
    "feature_dims = 6\n",
    "eval_AUC_landscape_6Features(model_qq, feature_dims, parameters, m1, m2, 0.25)"
   ]
  },
  {
   "cell_type": "code",
   "execution_count": 22,
   "id": "99d09263-275f-4a23-aecd-f37a37111f6e",
   "metadata": {
    "tags": []
   },
   "outputs": [],
   "source": [
    "model_qq = tf.keras.models.load_model(\"/pscratch/sd/g/gupsingh/eager-rain-75\")\n",
    "model_qqq = tf.keras.models.load_model(\"/pscratch/sd/g/gupsingh/tough-sun-76\")"
   ]
  },
  {
   "cell_type": "code",
   "execution_count": 26,
   "id": "01a735d5-ddbc-47fe-b53a-90433f3427d5",
   "metadata": {
    "tags": []
   },
   "outputs": [
    {
     "name": "stdout",
     "output_type": "stream",
     "text": [
      "0.1 1.798 2.821\n"
     ]
    },
    {
     "ename": "ValueError",
     "evalue": "The name \"sequential\" is used 2 times in the model. All layer names should be unique.",
     "output_type": "error",
     "traceback": [
      "\u001b[0;31m---------------------------------------------------------------------------\u001b[0m",
      "\u001b[0;31mValueError\u001b[0m                                Traceback (most recent call last)",
      "Cell \u001b[0;32mIn[26], line 25\u001b[0m\n\u001b[1;32m     22\u001b[0m m1 \u001b[38;5;241m=\u001b[39m \u001b[38;5;241m3\u001b[39m\n\u001b[1;32m     23\u001b[0m m2 \u001b[38;5;241m=\u001b[39m \u001b[38;5;241m3\u001b[39m\n\u001b[0;32m---> 25\u001b[0m semiweak_3prong \u001b[38;5;241m=\u001b[39m \u001b[43mcompileSemiWeakly3Prong\u001b[49m\u001b[43m(\u001b[49m\u001b[43msigfrac\u001b[49m\u001b[43m,\u001b[49m\u001b[43m \u001b[49m\u001b[43mmodel_qq\u001b[49m\u001b[43m,\u001b[49m\u001b[43m \u001b[49m\u001b[43mmodel_qqq\u001b[49m\u001b[43m,\u001b[49m\u001b[43m \u001b[49m\u001b[43mfeature_dims\u001b[49m\u001b[43m,\u001b[49m\u001b[43m \u001b[49m\u001b[43mparameters\u001b[49m\u001b[43m,\u001b[49m\u001b[43m \u001b[49m\u001b[43mm1\u001b[49m\u001b[43m,\u001b[49m\u001b[43m \u001b[49m\u001b[43mm2\u001b[49m\u001b[43m,\u001b[49m\u001b[43m \u001b[49m\u001b[43mw1\u001b[49m\u001b[43m,\u001b[49m\u001b[43m \u001b[49m\u001b[43mw2\u001b[49m\u001b[43m)\u001b[49m\n\u001b[1;32m     27\u001b[0m test_background \u001b[38;5;241m=\u001b[39m \u001b[38;5;28mint\u001b[39m(\u001b[38;5;241m1\u001b[39m\u001b[38;5;241m/\u001b[39m\u001b[38;5;241m2\u001b[39m \u001b[38;5;241m*\u001b[39m \u001b[38;5;28mlen\u001b[39m(x[\u001b[38;5;241m0\u001b[39m,\u001b[38;5;241m0\u001b[39m, decay, noise])\u001b[38;5;241m+\u001b[39m\u001b[38;5;241m1\u001b[39m)\n\u001b[1;32m     28\u001b[0m train_reference \u001b[38;5;241m=\u001b[39m \u001b[38;5;28mint\u001b[39m(\u001b[38;5;241m1\u001b[39m\u001b[38;5;241m/\u001b[39m\u001b[38;5;241m4\u001b[39m \u001b[38;5;241m*\u001b[39m\u001b[38;5;28mlen\u001b[39m(x[\u001b[38;5;241m0\u001b[39m,\u001b[38;5;241m0\u001b[39m, decay, noise]))\n",
      "Cell \u001b[0;32mIn[17], line 128\u001b[0m, in \u001b[0;36mcompileSemiWeakly3Prong\u001b[0;34m(sigfrac, model_qq, model_qqq, feature_dims, parameters, m1, m2, w1, w2)\u001b[0m\n\u001b[1;32m    126\u001b[0m     LLR_xs_fixed \u001b[38;5;241m=\u001b[39m \u001b[38;5;241m1\u001b[39m \u001b[38;5;241m+\u001b[39m model33(tf\u001b[38;5;241m.\u001b[39mones_like(inputs)[:,\u001b[38;5;241m0\u001b[39m])\u001b[38;5;241m*\u001b[39mmodel34(tf\u001b[38;5;241m.\u001b[39mones_like(inputs)[:,\u001b[38;5;241m0\u001b[39m]) \u001b[38;5;241m*\u001b[39m LLR3 \u001b[38;5;241m+\u001b[39m (\u001b[38;5;241m1\u001b[39m\u001b[38;5;241m-\u001b[39mmodel34(tf\u001b[38;5;241m.\u001b[39mones_like(inputs)[:,\u001b[38;5;241m0\u001b[39m]))\u001b[38;5;241m*\u001b[39mLLR2\u001b[38;5;241m*\u001b[39mmodel33(tf\u001b[38;5;241m.\u001b[39mones_like(inputs)[:,\u001b[38;5;241m0\u001b[39m]) \u001b[38;5;241m-\u001b[39m model33(tf\u001b[38;5;241m.\u001b[39mones_like(inputs)[:,\u001b[38;5;241m0\u001b[39m])\n\u001b[1;32m    127\u001b[0m ws \u001b[38;5;241m=\u001b[39m LLR_xs_fixed \u001b[38;5;241m/\u001b[39m (\u001b[38;5;241m1.\u001b[39m\u001b[38;5;241m+\u001b[39mLLR_xs_fixed\u001b[38;5;241m+\u001b[39m\u001b[38;5;241m0.0001\u001b[39m)\n\u001b[0;32m--> 128\u001b[0m SemiWeak3Prong \u001b[38;5;241m=\u001b[39m \u001b[43mModel\u001b[49m\u001b[43m(\u001b[49m\u001b[43minputs\u001b[49m\u001b[43m \u001b[49m\u001b[38;5;241;43m=\u001b[39;49m\u001b[43m \u001b[49m\u001b[43minputs\u001b[49m\u001b[43m,\u001b[49m\u001b[43m \u001b[49m\u001b[43moutputs\u001b[49m\u001b[43m \u001b[49m\u001b[38;5;241;43m=\u001b[39;49m\u001b[43m \u001b[49m\u001b[43mws\u001b[49m\u001b[43m)\u001b[49m\n\u001b[1;32m    129\u001b[0m SemiWeak3Prong\u001b[38;5;241m.\u001b[39mcompile(loss\u001b[38;5;241m=\u001b[39m\u001b[38;5;124m'\u001b[39m\u001b[38;5;124mbinary_crossentropy\u001b[39m\u001b[38;5;124m'\u001b[39m, optimizer\u001b[38;5;241m=\u001b[39mtf\u001b[38;5;241m.\u001b[39mkeras\u001b[38;5;241m.\u001b[39moptimizers\u001b[38;5;241m.\u001b[39mAdam(learning_rate \u001b[38;5;241m=\u001b[39m \u001b[38;5;241m0.02\u001b[39m))\n\u001b[1;32m    130\u001b[0m \u001b[38;5;28;01mreturn\u001b[39;00m SemiWeak3Prong\n",
      "File \u001b[0;32m~/.conda/envs/research/lib/python3.11/site-packages/tensorflow/python/trackable/base.py:204\u001b[0m, in \u001b[0;36mno_automatic_dependency_tracking.<locals>._method_wrapper\u001b[0;34m(self, *args, **kwargs)\u001b[0m\n\u001b[1;32m    202\u001b[0m \u001b[38;5;28mself\u001b[39m\u001b[38;5;241m.\u001b[39m_self_setattr_tracking \u001b[38;5;241m=\u001b[39m \u001b[38;5;28;01mFalse\u001b[39;00m  \u001b[38;5;66;03m# pylint: disable=protected-access\u001b[39;00m\n\u001b[1;32m    203\u001b[0m \u001b[38;5;28;01mtry\u001b[39;00m:\n\u001b[0;32m--> 204\u001b[0m   result \u001b[38;5;241m=\u001b[39m \u001b[43mmethod\u001b[49m\u001b[43m(\u001b[49m\u001b[38;5;28;43mself\u001b[39;49m\u001b[43m,\u001b[49m\u001b[43m \u001b[49m\u001b[38;5;241;43m*\u001b[39;49m\u001b[43margs\u001b[49m\u001b[43m,\u001b[49m\u001b[43m \u001b[49m\u001b[38;5;241;43m*\u001b[39;49m\u001b[38;5;241;43m*\u001b[39;49m\u001b[43mkwargs\u001b[49m\u001b[43m)\u001b[49m\n\u001b[1;32m    205\u001b[0m \u001b[38;5;28;01mfinally\u001b[39;00m:\n\u001b[1;32m    206\u001b[0m   \u001b[38;5;28mself\u001b[39m\u001b[38;5;241m.\u001b[39m_self_setattr_tracking \u001b[38;5;241m=\u001b[39m previous_value  \u001b[38;5;66;03m# pylint: disable=protected-access\u001b[39;00m\n",
      "File \u001b[0;32m~/.conda/envs/research/lib/python3.11/site-packages/keras/src/engine/functional.py:166\u001b[0m, in \u001b[0;36mFunctional.__init__\u001b[0;34m(self, inputs, outputs, name, trainable, **kwargs)\u001b[0m\n\u001b[1;32m    157\u001b[0m     \u001b[38;5;28;01mif\u001b[39;00m \u001b[38;5;129;01mnot\u001b[39;00m \u001b[38;5;28mall\u001b[39m(\n\u001b[1;32m    158\u001b[0m         [\n\u001b[1;32m    159\u001b[0m             functional_utils\u001b[38;5;241m.\u001b[39mis_input_keras_tensor(t)\n\u001b[1;32m    160\u001b[0m             \u001b[38;5;28;01mfor\u001b[39;00m t \u001b[38;5;129;01min\u001b[39;00m tf\u001b[38;5;241m.\u001b[39mnest\u001b[38;5;241m.\u001b[39mflatten(inputs)\n\u001b[1;32m    161\u001b[0m         ]\n\u001b[1;32m    162\u001b[0m     ):\n\u001b[1;32m    163\u001b[0m         inputs, outputs \u001b[38;5;241m=\u001b[39m functional_utils\u001b[38;5;241m.\u001b[39mclone_graph_nodes(\n\u001b[1;32m    164\u001b[0m             inputs, outputs\n\u001b[1;32m    165\u001b[0m         )\n\u001b[0;32m--> 166\u001b[0m \u001b[38;5;28;43mself\u001b[39;49m\u001b[38;5;241;43m.\u001b[39;49m\u001b[43m_init_graph_network\u001b[49m\u001b[43m(\u001b[49m\u001b[43minputs\u001b[49m\u001b[43m,\u001b[49m\u001b[43m \u001b[49m\u001b[43moutputs\u001b[49m\u001b[43m)\u001b[49m\n",
      "File \u001b[0;32m~/.conda/envs/research/lib/python3.11/site-packages/tensorflow/python/trackable/base.py:204\u001b[0m, in \u001b[0;36mno_automatic_dependency_tracking.<locals>._method_wrapper\u001b[0;34m(self, *args, **kwargs)\u001b[0m\n\u001b[1;32m    202\u001b[0m \u001b[38;5;28mself\u001b[39m\u001b[38;5;241m.\u001b[39m_self_setattr_tracking \u001b[38;5;241m=\u001b[39m \u001b[38;5;28;01mFalse\u001b[39;00m  \u001b[38;5;66;03m# pylint: disable=protected-access\u001b[39;00m\n\u001b[1;32m    203\u001b[0m \u001b[38;5;28;01mtry\u001b[39;00m:\n\u001b[0;32m--> 204\u001b[0m   result \u001b[38;5;241m=\u001b[39m \u001b[43mmethod\u001b[49m\u001b[43m(\u001b[49m\u001b[38;5;28;43mself\u001b[39;49m\u001b[43m,\u001b[49m\u001b[43m \u001b[49m\u001b[38;5;241;43m*\u001b[39;49m\u001b[43margs\u001b[49m\u001b[43m,\u001b[49m\u001b[43m \u001b[49m\u001b[38;5;241;43m*\u001b[39;49m\u001b[38;5;241;43m*\u001b[39;49m\u001b[43mkwargs\u001b[49m\u001b[43m)\u001b[49m\n\u001b[1;32m    205\u001b[0m \u001b[38;5;28;01mfinally\u001b[39;00m:\n\u001b[1;32m    206\u001b[0m   \u001b[38;5;28mself\u001b[39m\u001b[38;5;241m.\u001b[39m_self_setattr_tracking \u001b[38;5;241m=\u001b[39m previous_value  \u001b[38;5;66;03m# pylint: disable=protected-access\u001b[39;00m\n",
      "File \u001b[0;32m~/.conda/envs/research/lib/python3.11/site-packages/keras/src/engine/functional.py:265\u001b[0m, in \u001b[0;36mFunctional._init_graph_network\u001b[0;34m(self, inputs, outputs)\u001b[0m\n\u001b[1;32m    262\u001b[0m     \u001b[38;5;28mself\u001b[39m\u001b[38;5;241m.\u001b[39m_input_coordinates\u001b[38;5;241m.\u001b[39mappend((layer, node_index, tensor_index))\n\u001b[1;32m    264\u001b[0m \u001b[38;5;66;03m# Keep track of the network's nodes and layers.\u001b[39;00m\n\u001b[0;32m--> 265\u001b[0m nodes, nodes_by_depth, layers, _ \u001b[38;5;241m=\u001b[39m \u001b[43m_map_graph_network\u001b[49m\u001b[43m(\u001b[49m\n\u001b[1;32m    266\u001b[0m \u001b[43m    \u001b[49m\u001b[38;5;28;43mself\u001b[39;49m\u001b[38;5;241;43m.\u001b[39;49m\u001b[43minputs\u001b[49m\u001b[43m,\u001b[49m\u001b[43m \u001b[49m\u001b[38;5;28;43mself\u001b[39;49m\u001b[38;5;241;43m.\u001b[39;49m\u001b[43moutputs\u001b[49m\n\u001b[1;32m    267\u001b[0m \u001b[43m\u001b[49m\u001b[43m)\u001b[49m\n\u001b[1;32m    268\u001b[0m \u001b[38;5;28mself\u001b[39m\u001b[38;5;241m.\u001b[39m_network_nodes \u001b[38;5;241m=\u001b[39m nodes\n\u001b[1;32m    269\u001b[0m \u001b[38;5;28mself\u001b[39m\u001b[38;5;241m.\u001b[39m_nodes_by_depth \u001b[38;5;241m=\u001b[39m nodes_by_depth\n",
      "File \u001b[0;32m~/.conda/envs/research/lib/python3.11/site-packages/keras/src/engine/functional.py:1160\u001b[0m, in \u001b[0;36m_map_graph_network\u001b[0;34m(inputs, outputs)\u001b[0m\n\u001b[1;32m   1158\u001b[0m \u001b[38;5;28;01mfor\u001b[39;00m name \u001b[38;5;129;01min\u001b[39;00m all_names:\n\u001b[1;32m   1159\u001b[0m     \u001b[38;5;28;01mif\u001b[39;00m all_names\u001b[38;5;241m.\u001b[39mcount(name) \u001b[38;5;241m!=\u001b[39m \u001b[38;5;241m1\u001b[39m:\n\u001b[0;32m-> 1160\u001b[0m         \u001b[38;5;28;01mraise\u001b[39;00m \u001b[38;5;167;01mValueError\u001b[39;00m(\n\u001b[1;32m   1161\u001b[0m             \u001b[38;5;124mf\u001b[39m\u001b[38;5;124m'\u001b[39m\u001b[38;5;124mThe name \u001b[39m\u001b[38;5;124m\"\u001b[39m\u001b[38;5;132;01m{\u001b[39;00mname\u001b[38;5;132;01m}\u001b[39;00m\u001b[38;5;124m\"\u001b[39m\u001b[38;5;124m is used \u001b[39m\u001b[38;5;132;01m{\u001b[39;00mall_names\u001b[38;5;241m.\u001b[39mcount(name)\u001b[38;5;132;01m}\u001b[39;00m\u001b[38;5;124m \u001b[39m\u001b[38;5;124m'\u001b[39m\n\u001b[1;32m   1162\u001b[0m             \u001b[38;5;124m\"\u001b[39m\u001b[38;5;124mtimes in the model. All layer names should be unique.\u001b[39m\u001b[38;5;124m\"\u001b[39m\n\u001b[1;32m   1163\u001b[0m         )\n\u001b[1;32m   1164\u001b[0m \u001b[38;5;28;01mreturn\u001b[39;00m network_nodes, nodes_by_depth, layers, layers_by_depth\n",
      "\u001b[0;31mValueError\u001b[0m: The name \"sequential\" is used 2 times in the model. All layer names should be unique."
     ]
    }
   ],
   "source": [
    "decay = \"qqq\"\n",
    "noise = False\n",
    "sigmoid = lambda x: 1. / (1. + np.exp(-x))\n",
    "    \n",
    "msic1 = []\n",
    "weight_list1 = []\n",
    "weight_list2 = []\n",
    "weight_list3 = []\n",
    "weight_list4 = []\n",
    "\n",
    "sigspace = np.flip(np.logspace(-3, -1, 10))\n",
    "\n",
    "loss_values = {}\n",
    "\n",
    "# w1 = round(random.uniform(0.5, 6.0),3)\n",
    "# w2 = round(random.uniform(0.5, 6.0),3)\n",
    "w1, w2 = 1.798, 2.821\n",
    "\n",
    "for sigfrac in sigspace:\n",
    "    print(sigfrac, w1, w2)\n",
    "    \n",
    "    m1 = 3\n",
    "    m2 = 3\n",
    "\n",
    "    semiweak_3prong = compileSemiWeakly3Prong(sigfrac, model_qq, model_qqq, feature_dims, parameters, m1, m2, w1, w2)\n",
    "    \n",
    "    test_background = int(1/2 * len(x[0,0, decay, noise])+1)\n",
    "    train_reference = int(1/4 *len(x[0,0, decay, noise]))\n",
    "    train_data = int(1/4 * len(x[0,0, decay, noise]))\n",
    "    test_signal = int(1/2*len(x[m1,m2, decay, noise])+1)\n",
    "\n",
    "    #randomize signal events\n",
    "    random_test_signal_length = random.randint(0, test_signal - 1)\n",
    "    N = int(1/4 * (len(x[0,0, decay, noise])))\n",
    "    signal = x[m1, m2, decay, noise][random_test_signal_length:random_test_signal_length + int(sigfrac*N)]\n",
    "\n",
    "    #mix both samples\n",
    "    # signal_mixed = np.concatenate([x[m1, m2, decay][int(test_signal/2):int(test_signal/2) + int(sigfrac*(N/2))], x[m1, m2, qq][int(test_signal/2):int(test_signal/2) + int(sigfrac*(N/2))]])\n",
    "    # background_mixed = np.concatenate([x[0,0,decay][:int(test_background/2)], x[0,0,qq][:int(test_background/2)]])\n",
    "\n",
    "    x_data_ = np.concatenate([x[0,0,decay, noise][test_background:],signal])\n",
    "    y_data_ = np.concatenate([np.zeros(train_reference),np.ones(train_data),np.ones(len(signal))])\n",
    "\n",
    "    # x_data_mixed = np.concatenate([background_mixed,signal_mixed])\n",
    "    # y_data_mixed = np.concatenate([np.zeros(train_reference),np.ones(train_data),np.ones(len(signal_mixed))])\n",
    "\n",
    "    X_train_, X_val_, Y_train_, Y_val_ = train_test_split(x_data_, y_data_, test_size=0.5, random_state = 42)\n",
    "\n",
    "    history_semiweak3Prong = semiweak_3prong.fit(X_train_[:,0:6], Y_train_, epochs=20,validation_data=(X_val_[:,0:6], Y_val_),batch_size=1024, verbose = 0)\n",
    "    scores = SemiWeak3Prong.predict(np.concatenate([x[0,0, qq, noise][0:test_background],x[m1,m2, qq, noise][0:test_signal]]),batch_size=1024)\n",
    "    loss_values[(min(history_semiweak3Prong.history[\"loss\"]))] = scores\n",
    "    print(m1,m2,SemiWeak3Prong.trainable_weights[0].numpy()[0][0],SemiWeak3Prong.trainable_weights[1].numpy()[0][0])\n",
    "\n",
    "    weight_list1+=[SemiWeak3Prong.trainable_weights[0].numpy()[0][0]]\n",
    "    weight_list2+=[SemiWeak3Prong.trainable_weights[1].numpy()[0][0]]\n",
    "    weight_list3+=[SemiWeak3Prong.trainable_weights[2].numpy()[0][0]]\n",
    "    weight_list4+=[SemiWeak3Prong.trainable_weights[3].numpy()[0][0]]"
   ]
  },
  {
   "cell_type": "code",
   "execution_count": 126,
   "id": "caef2cca-1de5-4f76-89ed-2e997eb4aa2a",
   "metadata": {
    "tags": []
   },
   "outputs": [
    {
     "data": {
      "text/plain": [
       "array([[0.47990686],\n",
       "       [0.479903  ],\n",
       "       [0.47990263],\n",
       "       ...,\n",
       "       [0.52980095],\n",
       "       [0.66890746],\n",
       "       [0.96637607]], dtype=float32)"
      ]
     },
     "execution_count": 126,
     "metadata": {},
     "output_type": "execute_result"
    }
   ],
   "source": [
    "top_three = sorted(loss_values.items())[:3]\n",
    "lowest_losses = [x[0] for x in top_three]\n",
    "top_three_values = [loss_values[loss] for loss in lowest_losses]\n",
    "score_median = np.median(top_three_values, axis = 0)\n",
    "score_median"
   ]
  },
  {
   "cell_type": "code",
   "execution_count": 57,
   "id": "a22c29e9-fcad-446f-a9d4-bd9cddc7cd84",
   "metadata": {
    "tags": []
   },
   "outputs": [
    {
     "data": {
      "image/png": "[encoded data removed]",
      "text/plain": [
       "<Figure size 640x480 with 1 Axes>"
      ]
     },
     "metadata": {},
     "output_type": "display_data"
    }
   ],
   "source": [
    "plt.plot(sigspace,np.exp(weight_list3),label=r\"$\\mu$\")\n",
    "plt.plot(sigspace,sigmoid(np.array(weight_list4)),label=r\"$\\alpha$\")\n",
    "plt.plot(sigspace,sigspace,ls=\":\",color=\"black\")\n",
    "plt.plot(sigspace, [sigmoid(weight_list4[-1])] * 10, ls = \":\", color = \"black\")\n",
    "plt.title(\"3 Prong Ratios\")\n",
    "plt.xscale(\"log\")\n",
    "plt.yscale(\"log\")\n",
    "plt.legend()\n",
    "plt.show()"
   ]
  },
  {
   "cell_type": "code",
   "execution_count": null,
   "id": "2f145c18-7a50-46c1-8085-da0119495edc",
   "metadata": {},
   "outputs": [],
   "source": [
    "#fully supervised\n",
    "scores_full = model_dedicated.predict(np.concatenate([x[0,0, qq, noise][0:test_background],x[m1,m2, qq, noise][0:test_signal]]),batch_size=1024)\n",
    "y_full = np.concatenate([np.zeros(test_background),np.ones(test_signal)])\n",
    "fpr_full, tpr_full, _ = metrics.roc_curve(y_full, scores_full)"
   ]
  },
  {
   "cell_type": "code",
   "execution_count": 53,
   "id": "470d2930-bf9b-4ed5-b58d-0d51bb50d2e9",
   "metadata": {
    "tags": []
   },
   "outputs": [
    {
     "data": {
      "text/plain": [
       "array([[-1.11881922, -1.66852576,  1.57244427,  1.20983769, -0.13939007,\n",
       "         0.85941707],\n",
       "       [-1.12420602, -1.26681214,  0.82536103,  0.1229807 ,  0.30860917,\n",
       "         0.13311748],\n",
       "       [-1.14769921, -0.50415523,  1.43958292,  0.62034086,  0.19901901,\n",
       "        -1.04425623],\n",
       "       ...,\n",
       "       [-0.96736856, -1.48238533,  1.25622683, -0.47599974, -0.32423304,\n",
       "         0.86060971],\n",
       "       [-1.3598598 , -1.72354998,  1.79953958,  1.20194427,  0.44119858,\n",
       "         0.28992835],\n",
       "       [-1.42887276, -1.6890858 ,  0.89151195,  0.58091326,  1.22563292,\n",
       "         0.4144562 ]])"
      ]
     },
     "execution_count": 53,
     "metadata": {},
     "output_type": "execute_result"
    }
   ],
   "source": [
    "x[0,0,qqq, noise][int(test_background/2):]"
   ]
  },
  {
   "cell_type": "code",
   "execution_count": 58,
   "id": "bd93a607-d39e-4f43-a1aa-13c503fd25ad",
   "metadata": {
    "tags": []
   },
   "outputs": [
    {
     "data": {
      "text/plain": [
       "(0.0, 700.0)"
      ]
     },
     "execution_count": 58,
     "metadata": {},
     "output_type": "execute_result"
    },
    {
     "data": {
      "image/png": "[encoded data removed]",
      "text/plain": [
       "<Figure size 640x480 with 1 Axes>"
      ]
     },
     "metadata": {},
     "output_type": "display_data"
    }
   ],
   "source": [
    "plt.plot(sigspace,np.array(weight_list1)*100, label = f\"w1 {w1}\")\n",
    "plt.plot(sigspace,np.array(weight_list2)*100, label = f\"w2 {w2}\")\n",
    "plt.xscale(\"log\")\n",
    "plt.xlabel(\"S/B\")\n",
    "plt.ylabel(\"Fitted masses [GeV]\")\n",
    "plt.title(\"3 Prong Trainable Weights\")\n",
    "plt.axhline(m2 * 100,ls=\":\",color='orange', label = m2)\n",
    "plt.axhline(m1 * 100,ls=\":\",color='blue', label = m1)\n",
    "plt.legend()\n",
    "plt.ylim([0,700])"
   ]
  },
  {
   "cell_type": "code",
   "execution_count": 4,
   "id": "bb495cf8-fb39-4497-8b68-72ddc9f6f8ac",
   "metadata": {
    "tags": []
   },
   "outputs": [],
   "source": [
    "#Loop over signal injection amounts M\n",
    "#For a given signal injection amount, inject events according to N ~ Poission(M)\n",
    "#For a given N injected events, initialize the network with w ~ Uniform.  Do this k times.\n",
    "from utils import get_stuck_weights\n",
    "\n",
    "noise = False\n",
    "epsilon = 1e-4\n",
    "es = tf.keras.callbacks.EarlyStopping(monitor='val_loss', patience=10)\n",
    "\n",
    "def train_semiweak(feature_dims, m1, m2, parameters, injections, m_initializations, decay = \"qq\"):\n",
    "    maxsicandstd1 = {}\n",
    "    maxsicandstd2 = {}\n",
    "    msic1_runs = []\n",
    "    msic2_runs = []\n",
    "    std1_runs = []\n",
    "    std2_runs = []\n",
    "    score1_injections_raw_runs = []\n",
    "    score2_injections_raw_runs = []\n",
    "    weight_list1_runs = []\n",
    "    weight_list2_runs = []\n",
    "    weight_list3_runs = []\n",
    "    weight_list4_runs = []\n",
    "    initial_weights_runs = []\n",
    "    tuple_rates_semiweak = {}\n",
    "    tuple_rates_weak = {}\n",
    "\n",
    "    qq = decay\n",
    "    test_signal = int(1/2*len(x[m1,m2, qq, noise]))\n",
    "\n",
    "    sigspace = np.logspace(-3, -1, 10)\n",
    "    for sigfrac in sigspace:\n",
    "        print(f\"At {sigfrac} for decay {decay}\")\n",
    "\n",
    "        initial_weights = []\n",
    "\n",
    "        msic1_median = []\n",
    "        msic2 = []\n",
    "        score1_injections = []\n",
    "        score2_injections = []\n",
    "        weight_list1_injections = []\n",
    "        weight_list2_injections = []\n",
    "        weight_list3_injections = []\n",
    "        weight_list4_injections = []\n",
    "\n",
    "        print(f\"---------------{sigfrac}---------------\")\n",
    "\n",
    "        # N ~ Poission(M) injected events\n",
    "        for injection in range(injections):\n",
    "            print(f\"Injecting N = {injections - injection} more times, currently on: N = {injection}\")\n",
    "\n",
    "            #randomized signal\n",
    "            random_test_signal_length = random.randint(0, test_signal - 1)\n",
    "            N = int(1/4 * (len(x[0,0, qq, noise])))\n",
    "            signal = x[m1, m2, qq, noise][random_test_signal_length:random_test_signal_length + int(sigfrac*N)]\n",
    "\n",
    "            score1_kruns = []\n",
    "            weight_list1_kruns = []\n",
    "            weight_list2_kruns = []\n",
    "            weight_list3_kruns = []\n",
    "            weight_list4_kruns = []\n",
    "            scoreLossdict = {}\n",
    "\n",
    "            print(f\"Ensembling {m_initializations} for Signal Fraction : {sigfrac}\")\n",
    "            for k in range(m_initializations):\n",
    "\n",
    "                w1 = round(random.uniform(0.5, 6),3)\n",
    "                w2 = round(random.uniform(0.5, 6),3)\n",
    "                initial_weights.append((w1, w2))\n",
    "\n",
    "                print(f\"Initialization: {w1} {w2}\")\n",
    "\n",
    "                if decay == \"qq\":\n",
    "                    model_semiweak = compileSemiWeakly(sigfrac, model_qq, feature_dims, parameters, m1, m2, w1, w2)\n",
    "\n",
    "                if decay == \"qqq\":\n",
    "                    model_semiweak = compileSemiWeakly3Prong(sigfrac, model_qq, model_qqq, feature_dims, parameters, m1, m2, w1, w2)\n",
    "\n",
    "                test_background = int(1/2 * len(x[0,0, qq, noise])+1)\n",
    "                train_reference = int(1/4 *len(x[0,0, qq, noise]))\n",
    "                train_data = int(1/4 * len(x[0,0, qq, noise]))\n",
    "                test_signal = int(1/2*len(x[m1,m2, qq, noise]))\n",
    "\n",
    "                x_data_ = np.concatenate([x[0,0, qq, noise][test_background:],signal])\n",
    "                y_data_ = np.concatenate([np.zeros(train_reference),np.ones(train_data),np.ones(len(signal))])\n",
    "  \n",
    "                X_train_, X_val_, Y_train_, Y_val_ = train_test_split(x_data_, y_data_, test_size=0.5, random_state = 42)\n",
    "\n",
    "                history_semiweak = model_semiweak.fit(X_train_[:,0:feature_dims], Y_train_, epochs=50,\n",
    "                                                       validation_data=(X_val_[:,0:feature_dims], Y_val_),batch_size=1024, verbose = 0)\n",
    "\n",
    "                print(f\"m1: {m1}\",f\"m2: {m2}\", f\"w1: {model_semiweak.trainable_weights[0].numpy()[0][0]}\", f\"w2: {model_semiweak.trainable_weights[1].numpy()[0][0]}\")\n",
    "\n",
    "                weight_list1_kruns+=[model_semiweak.trainable_weights[0].numpy()[0][0]]\n",
    "                weight_list2_kruns+=[model_semiweak.trainable_weights[1].numpy()[0][0]]\n",
    "                weight_list3_kruns+=[model_semiweak.trainable_weights[2].numpy()[0][0]]\n",
    "\n",
    "                if decay == \"qqq\":\n",
    "                    weight_list4_kruns+=[model_semiweak.trainable_weights[3].numpy()[0][0]]\n",
    "\n",
    "                scores = model_semiweak.predict(np.concatenate([x[0,0, qq, noise][0:test_background],x[m1,m2, qq, noise][0:test_signal]]),batch_size=1024)\n",
    "                #per-event probability\n",
    "                score1_kruns.append(scores)\n",
    "                scoreLossdict[(min(history_semiweak.history[\"loss\"]))] = scores\n",
    "\n",
    "            #kruns finished\n",
    "            weight_list1_injections.append(weight_list1_kruns)\n",
    "            weight_list2_injections.append(weight_list2_kruns)\n",
    "            weight_list3_injections.append(weight_list3_kruns)\n",
    "            if decay == \"qqq\":\n",
    "                weight_list4_injections.append(weight_list4_kruns)\n",
    "\n",
    "            #now average over the k classifiers runs\n",
    "            y = np.concatenate([np.zeros(test_background),np.ones(test_signal)])\n",
    "\n",
    "            #get the lowest scores from dictionary of losses and scores\n",
    "            top_items = sorted(scoreLossdict.items())[:3]\n",
    "            lowest_losses = [x[0] for x in top_items]\n",
    "            top_scores = [scoreLossdict[loss] for loss in lowest_losses]\n",
    "            fpr, tpr, _ = metrics.roc_curve(y, np.median(top_scores, axis = 0))\n",
    "            tuple_rates_semiweak[(sigfrac, injection)] = (fpr, tpr)\n",
    "\n",
    "            epsilon = 1e-4\n",
    "            msic1_kmedian = np.max(tpr/np.sqrt(fpr+epsilon))\n",
    "            score1_injections.append(score1_kruns)\n",
    "            msic1_median.append(msic1_kmedian)\n",
    "            print(f\" --- msic1_median on injection {injection}: {msic1_kmedian} ---\")\n",
    "\n",
    "            #weakly supervised only inject no k classifiers (out of mass initialization loop) no averaging to be done yet\n",
    "            model_CWOLA = compileCWOLA(feature_dims, m1, m2)\n",
    "            history_CWOLA = model_CWOLA.fit(X_train_[:,0:feature_dims], Y_train_, epochs=1000,validation_data=(X_val_[:,0:feature_dims], Y_val_),batch_size=1024, verbose = 0, callbacks = [es])\n",
    "\n",
    "            scores2 = model_CWOLA.predict(np.concatenate([x[0,0, qq, noise][0:test_background],x[m1,m2, qq, noise][0:test_signal]]),batch_size=1024)\n",
    "            score2_injections.append(scores2)\n",
    "\n",
    "            y2 = np.concatenate([np.zeros(test_background),np.ones(test_signal)])\n",
    "            fpr2, tpr2, _ = metrics.roc_curve(y2, scores2)\n",
    "            msic2.append(np.max(tpr2/np.sqrt(fpr2+epsilon)))\n",
    "            tuple_rates_weak[(sigfrac, injection)] = (fpr2, tpr2)\n",
    "\n",
    "        msic1_runs.append(np.median(msic1_median))\n",
    "        print(f\" --- msic1_runs for signal fraction {sigfrac}: {np.median(msic1_median)} ---\")\n",
    "        std1_runs.append(np.std(msic1_median))\n",
    "        print(f\" --- msic1_runs_std for signal fraction {sigfrac}: {np.std(msic1_median)} ---\")\n",
    "\n",
    "        print(f\" --- msic2_runs for signal fraction {sigfrac}: {np.median(msic2)} ---\")\n",
    "        std2_runs.append(np.std(msic2))\n",
    "        print(f\" --- msic2_runs_std for signal fraction {sigfrac}: {np.std(msic2)} ---\")\n",
    "        msic2_runs.append(np.median(msic2))\n",
    "\n",
    "        score1_injections_raw_runs.append(score1_injections)\n",
    "        score2_injections_raw_runs.append(score2_injections)\n",
    "        weight_list1_runs.append(weight_list1_injections)\n",
    "        weight_list2_runs.append(weight_list2_injections)\n",
    "        weight_list3_runs.append(weight_list3_injections)\n",
    "        if decay == \"qqq\":\n",
    "            weight_list4_runs.append(weight_list4_injections)\n",
    "\n",
    "        maxsicandstd1[sigfrac] = (np.median(msic1_median), np.std(msic1_median))\n",
    "        maxsicandstd2[sigfrac] = (np.median(msic2), np.std(msic2))\n",
    "        \n",
    "        if len(x[0,0, qq, noise]) > 121352:\n",
    "            extra = True\n",
    "            \n",
    "        extra_str = \"_extra\" if extra else \"\"\n",
    "        # np.save(f\"data/maxsicandstd1_notebook{float(m1)}{float(m2)}_{decay}{extra}.npy\", maxsicandstd1)\n",
    "        # np.save(f\"data/maxsicandstd2_notebook{float(m1)}{float(m2)}_{decay}{extra}.npy\", maxsicandstd2)\n",
    "\n",
    "    stuck_weights = get_stuck_weights(sigspace, injections, m_initializations, m1, m2, weight_list1_runs, weight_list2_runs, decay)\n",
    "    np.save(f\"data/stuck_weights_notebook{float(m1)}{float(m2)}_{decay}{extra_str}exp4_{model_name}.npy\", stuck_weights)\n",
    "    np.save(f\"data/tuplerates_notebook{float(m1)}{float(m2)}_{decay}{extra_str}exp4{model_name}.npy\", tuple_rates_semiweak)\n",
    "    np.save(f\"data/tuplerates2_notebook{float(m1)}{float(m2)}_{decay}{extra_str}exp4{model_name}.npy\", tuple_rates_weak)\n",
    "\n",
    "    # np.save(f\"data/msic1_median_notebook{float(m1)}{float(m2)}_{decay}{extra}.npy\", maxsicandstd1)\n",
    "    # np.save(f\"data/msic2_median_notebook{float(m1)}{float(m2)}_{decay}{extra}.npy\", maxsicandstd2)\n",
    "    # np.save(f\"data/std1_median_notebook{float(m1)}{float(m2)}_{decay}{extra}.npy\", std1_runs)\n",
    "    # np.save(f\"data/std2_median_notebook{float(m1)}{float(m2)}_{decay}{extra}.npy\", std2_runs)\n",
    "    np.save(f\"data/weight_list1_runs_notebook{float(m1)}{float(m2)}_{decay}{extra_str}exp4{model_name}.npy\", weight_list1_runs)\n",
    "    np.save(f\"data/weight_list2_runs_notebook{float(m1)}{float(m2)}_{decay}{extra_str}exp4{model_name}.npy\", weight_list2_runs)\n",
    "    np.save(f\"data/weight_list3_runs_notebook{float(m1)}{float(m2)}_{decay}{extra_str}exp4{model_name}.npy\", weight_list3_runs)\n",
    "\n",
    "    np.save(f\"data/score1_injections_raw_runs_notebook{float(m1)}{float(m2)}_{decay}{extra_str}exp4{model_name}.npy\", score1_injections_raw_runs)\n",
    "    np.save(f\"data/score2_injections_raw_runs_notebook{float(m1)}{float(m2)}_{decay}{extra_str}exp4{model_name}.npy\", score2_injections_raw_runs)\n",
    "    if decay == \"qqq\":\n",
    "        np.save(f\"data/weight_list4_runs_notebook{float(m1)}{float(m2)}_{decay}{extra_str}exp4{model_name}.npy\", weight_list4_runs)\n",
    "    np.save(f\"data/initial_weights_runs_notebook{float(m1)}{float(m2)}_{decay}{extra_str}exp4{model_name}.npy\", initial_weights_runs)"
   ]
  },
  {
   "cell_type": "code",
   "execution_count": 11,
   "id": "bf12ea9c-405b-4628-aa3a-b7a4830a591f",
   "metadata": {
    "tags": []
   },
   "outputs": [],
   "source": [
    "model_name = \"dashing-bee-82\"\n",
    "model_qq = tf.keras.models.load_model(f\"/pscratch/sd/g/gupsingh/{model_name}\")"
   ]
  },
  {
   "cell_type": "code",
   "execution_count": 34,
   "id": "416b684d-d975-4990-81e2-6d545623ac85",
   "metadata": {},
   "outputs": [
    {
     "name": "stderr",
     "output_type": "stream",
     "text": [
      "\n",
      "KeyboardInterrupt\n",
      "\n"
     ]
    }
   ],
   "source": [
    "epsilon = 1e-4\n",
    "m1, m2 = 5, 1\n",
    "fpr_cut = 1e-4\n",
    "msic_full = train_supervised(6, m1, m2, fpr_cut = fpr_cut)\n",
    "print(\"FS Max Sic: \",msic_full)\n",
    "#parametrized classifer\n",
    "scores_parameterized = model_qq.predict(x_data_qq[np.product(x_data_qq[:,6:8]==[m1,m2],axis=1)==1],batch_size=1000)\n",
    "fpr_param, tpr_param, _ = metrics.roc_curve(y_data_qq[np.product(x_data_qq[:,6:8]==[m1,m2],axis=1)==1], scores_parameterized)\n",
    "adjusted_fpr = np.maximum(fpr_param, fpr_cut)\n",
    "msic_param = np.max(tpr_param/np.sqrt(adjusted_fpr+epsilon))\n",
    "print(\"Parametrized Max Sic: \", msic_param)"
   ]
  },
  {
   "cell_type": "code",
   "execution_count": 19,
   "id": "bdbcd650-9dd5-4284-8382-554a993e9fde",
   "metadata": {
    "tags": []
   },
   "outputs": [],
   "source": [
    "def get_stuck_weights(sigspace, injections, m_initializations, m1, m2, weight_list1, weight_list2, decay):\n",
    "    # weight_list1 = np.load(f\"data/weight_list1_runs_notebook{float(m1)}{float(m2)}_{decay}.npy\", allow_pickle = True)\n",
    "    # weight_list2 = np.load(f\"data/weight_list2_runs_notebook{float(m1)}{float(m2)}_{decay}.npy\", allow_pickle = True)\n",
    "    \n",
    "    missed = {}\n",
    "\n",
    "    found_one = 0\n",
    "    found_both = 0\n",
    "    found_none = 0\n",
    "\n",
    "    for sigfrac in range(len(sigspace)):\n",
    "\n",
    "        for injection in range(injections):\n",
    "\n",
    "            m1_diff = abs(np.array(np.ones(len(weight_list1[sigfrac][injection]))*m1) - np.array(weight_list1[sigfrac][injection]))\n",
    "            m2_diff = abs(np.array(np.ones(len(weight_list2[sigfrac][injection]))*m2) - np.array(weight_list2[sigfrac][injection]))\n",
    "\n",
    "            count = 0\n",
    "            for diff1, diff2 in zip(m1_diff, m2_diff):\n",
    "                case1 = diff1 > 0.2 and diff2 > 0.2\n",
    "                case2 = diff1 < 0.2 and diff2 < 0.2\n",
    "                case3 = diff1 > 0.2 and diff2 < 0.2 or diff1 < 0.2 and diff2 > 0.2\n",
    "\n",
    "                if case1:\n",
    "                    found_none+=1\n",
    "                    missed[(sigspace[sigfrac], injection)] = (weight_list1[sigfrac][injection][count], weight_list2[sigfrac][injection][count])\n",
    "                    print(np.array(weight_list1[sigfrac][injection][count]), np.array(weight_list2[sigfrac][injection][count]))\n",
    "                elif case2:\n",
    "                    found_both+=1\n",
    "                elif case3:\n",
    "                    found_one+=1\n",
    "                    missed[(sigspace[sigfrac], injection)] = (weight_list1[sigfrac][injection][count], weight_list2[sigfrac][injection][count])\n",
    "                    print(np.array(weight_list1[sigfrac][injection][count]), np.array(weight_list2[sigfrac][injection][count]))\n",
    "                count+=1\n",
    "                \n",
    "    print(f\"Found Both: {found_both}\")\n",
    "    print(f\"Found None: {found_none}\")\n",
    "    print(f\"Found One: {found_one}\")\n",
    "            \n",
    "    return missed"
   ]
  },
  {
   "cell_type": "code",
   "execution_count": 31,
   "id": "12b4a37d-4465-4e38-be45-b733d33a0f4c",
   "metadata": {
    "tags": []
   },
   "outputs": [],
   "source": [
    "import time\n",
    "def eval_loss_landscape(feature_dims, parameters, m1, m2, step, decay):\n",
    "    qq = decay\n",
    "    noise = False\n",
    "    model_name = \"swift-night-80\"\n",
    "    start_time = time.time()\n",
    "    #check if loss dictionary exists, if it does load it, if not create empty one\n",
    "    dir_path = os.getcwd()\n",
    "    file_name = f\"data/landscapes/z_{feature_dims}_{parameters}_{m1}{m2}_{step}_{decay}_{model_name}exp8.npy\"\n",
    "    file_path = os.path.join(dir_path, file_name)\n",
    "    \n",
    "    if os.path.exists(file_path):\n",
    "        z = np.load(file_name, allow_pickle = True).item()\n",
    "    else:\n",
    "        print(\"Dictionary doesn't exist, creating one...\")\n",
    "        z = {}\n",
    "        \n",
    "    losses_list = []\n",
    "    epsilon = 1e-4\n",
    "    sigspace = [1e-8]\n",
    "    \n",
    "    start = 0.5\n",
    "    end = 6\n",
    "    step = step\n",
    "\n",
    "    weight_list = np.arange(start, end + step, step)\n",
    "    \n",
    "    for sigfrac in sigspace:\n",
    "        print(\"Signal Fraction: \", sigfrac)\n",
    "        count = 0\n",
    "        for w1 in weight_list:\n",
    "            for w2 in weight_list:\n",
    "                if count % 100 == 0:\n",
    "                    print(f\"reached {w1} {w2}\")\n",
    "                count+=1\n",
    "                #print(w1, w2)\n",
    "\n",
    "                if decay == \"qq\":\n",
    "                    for l in model_qq.layers:\n",
    "                        l.trainable=False\n",
    "                    model_semiweak = compileSemiWeakly(sigfrac, model_qq, feature_dims, parameters, m1, m2, w1, w2)\n",
    "                    \n",
    "                if decay == \"qqq\":\n",
    "                    for l in model_qqq.layers:\n",
    "                        l.trainable=False\n",
    "                    model_semiweak = compileSemiWeakly3Prong(model_qq, model_qqq, feature_dims, parameters, m1, m2, w1, w2)\n",
    "\n",
    "                m1 = m1\n",
    "                m2 = m2\n",
    "                \n",
    "                #if computed this mass pair, break\n",
    "                key = (sigfrac,m1,m2, decay)\n",
    "                if key in z:\n",
    "                    break\n",
    "\n",
    "                test_background = int(1/2 *len(x[0,0, qq, noise])+1)\n",
    "                train_background = int(1/4 * len(x[0,0,qq, noise]))\n",
    "                train_data = int(1/4 * len(x[0,0,qq, noise]))\n",
    "                train_reference = int(1/4 * len(x[0,0,qq, noise]))\n",
    "                #signal\n",
    "                test_signal_length = int(1/2*len(x[m1,m2,qq, noise]))\n",
    "\n",
    "                #randomize signal events\n",
    "                random_test_signal_length = random.randint(0, test_signal_length - 1)\n",
    "                N = int(1/4 * (len(x[0,0,qq, noise])))\n",
    "                signal = x[m1, m2,qq, noise][random_test_signal_length:random_test_signal_length + int(sigfrac*N)]\n",
    "\n",
    "                x_data_ = np.concatenate([x[0,0,qq, noise][test_background:],signal])\n",
    "                y_data_ = np.concatenate([np.zeros(train_reference),np.ones(train_data),np.ones(len(signal))])\n",
    "\n",
    "                X_train_, X_val_, Y_train_, Y_val_ = train_test_split(x_data_, y_data_, test_size=0.5, random_state = 42)\n",
    "                \n",
    "                with tf.device('/GPU:0'):\n",
    "                    loss = model_semiweak.evaluate(X_val_, Y_val_, verbose = 0)\n",
    "                losses_list.append(loss)\n",
    "                \n",
    "        end_time = time.time()\n",
    "        elapsed_time = round(end_time - start_time, 3)\n",
    "        print(f\"Time taken: {elapsed_time} seconds\")\n",
    "        if key in z:\n",
    "            print(f\"Loss Landscape for m1 = {m1} and m2 = {m2} already exists for {sigfrac} signal fraction and decay {decay}\")\n",
    "        else:\n",
    "            z[sigfrac, m1, m2, decay] = losses_list\n",
    "            losses_list = []\n",
    "            np.save(file_name, z)\n",
    "    end_time_total = time.time()\n",
    "\n",
    "    elapsed_time_total = round(end_time_total - start_time, 3)\n",
    "    print(f\"Total elapsed time: {elapsed_time_total} seconds\")"
   ]
  },
  {
   "cell_type": "code",
   "execution_count": 32,
   "id": "204aba21-1774-41d8-b049-ac0fe98e1cf1",
   "metadata": {
    "tags": []
   },
   "outputs": [
    {
     "name": "stdout",
     "output_type": "stream",
     "text": [
      "Dictionary doesn't exist, creating one...\n",
      "Signal Fraction:  1e-08\n",
      "reached 0.5 0.5\n"
     ]
    },
    {
     "ename": "KeyboardInterrupt",
     "evalue": "",
     "output_type": "error",
     "traceback": [
      "\u001b[0;31m---------------------------------------------------------------------------\u001b[0m",
      "\u001b[0;31mKeyboardInterrupt\u001b[0m                         Traceback (most recent call last)",
      "Cell \u001b[0;32mIn[32], line 2\u001b[0m\n\u001b[1;32m      1\u001b[0m \u001b[38;5;66;03m#from landscapes import eval_loss_landscape\u001b[39;00m\n\u001b[0;32m----> 2\u001b[0m \u001b[43meval_loss_landscape\u001b[49m\u001b[43m(\u001b[49m\u001b[38;5;241;43m6\u001b[39;49m\u001b[43m,\u001b[49m\u001b[43m \u001b[49m\u001b[38;5;241;43m3\u001b[39;49m\u001b[43m,\u001b[49m\u001b[43m \u001b[49m\u001b[38;5;241;43m5\u001b[39;49m\u001b[43m,\u001b[49m\u001b[43m \u001b[49m\u001b[38;5;241;43m1\u001b[39;49m\u001b[43m,\u001b[49m\u001b[43m \u001b[49m\u001b[38;5;241;43m0.25\u001b[39;49m\u001b[43m,\u001b[49m\u001b[43m \u001b[49m\u001b[38;5;124;43m\"\u001b[39;49m\u001b[38;5;124;43mqq\u001b[39;49m\u001b[38;5;124;43m\"\u001b[39;49m\u001b[43m)\u001b[49m\n",
      "Cell \u001b[0;32mIn[31], line 74\u001b[0m, in \u001b[0;36meval_loss_landscape\u001b[0;34m(feature_dims, parameters, m1, m2, step, decay)\u001b[0m\n\u001b[1;32m     71\u001b[0m         X_train_, X_val_, Y_train_, Y_val_ \u001b[38;5;241m=\u001b[39m train_test_split(x_data_, y_data_, test_size\u001b[38;5;241m=\u001b[39m\u001b[38;5;241m0.5\u001b[39m, random_state \u001b[38;5;241m=\u001b[39m \u001b[38;5;241m42\u001b[39m)\n\u001b[1;32m     73\u001b[0m         \u001b[38;5;28;01mwith\u001b[39;00m tf\u001b[38;5;241m.\u001b[39mdevice(\u001b[38;5;124m'\u001b[39m\u001b[38;5;124m/GPU:0\u001b[39m\u001b[38;5;124m'\u001b[39m):\n\u001b[0;32m---> 74\u001b[0m             loss \u001b[38;5;241m=\u001b[39m \u001b[43mmodel_semiweak\u001b[49m\u001b[38;5;241;43m.\u001b[39;49m\u001b[43mevaluate\u001b[49m\u001b[43m(\u001b[49m\u001b[43mX_val_\u001b[49m\u001b[43m,\u001b[49m\u001b[43m \u001b[49m\u001b[43mY_val_\u001b[49m\u001b[43m,\u001b[49m\u001b[43m \u001b[49m\u001b[43mverbose\u001b[49m\u001b[43m \u001b[49m\u001b[38;5;241;43m=\u001b[39;49m\u001b[43m \u001b[49m\u001b[38;5;241;43m0\u001b[39;49m\u001b[43m)\u001b[49m\n\u001b[1;32m     75\u001b[0m         losses_list\u001b[38;5;241m.\u001b[39mappend(loss)\n\u001b[1;32m     77\u001b[0m end_time \u001b[38;5;241m=\u001b[39m time\u001b[38;5;241m.\u001b[39mtime()\n",
      "File \u001b[0;32m~/.conda/envs/research/lib/python3.11/site-packages/keras/src/utils/traceback_utils.py:65\u001b[0m, in \u001b[0;36mfilter_traceback.<locals>.error_handler\u001b[0;34m(*args, **kwargs)\u001b[0m\n\u001b[1;32m     63\u001b[0m filtered_tb \u001b[38;5;241m=\u001b[39m \u001b[38;5;28;01mNone\u001b[39;00m\n\u001b[1;32m     64\u001b[0m \u001b[38;5;28;01mtry\u001b[39;00m:\n\u001b[0;32m---> 65\u001b[0m     \u001b[38;5;28;01mreturn\u001b[39;00m \u001b[43mfn\u001b[49m\u001b[43m(\u001b[49m\u001b[38;5;241;43m*\u001b[39;49m\u001b[43margs\u001b[49m\u001b[43m,\u001b[49m\u001b[43m \u001b[49m\u001b[38;5;241;43m*\u001b[39;49m\u001b[38;5;241;43m*\u001b[39;49m\u001b[43mkwargs\u001b[49m\u001b[43m)\u001b[49m\n\u001b[1;32m     66\u001b[0m \u001b[38;5;28;01mexcept\u001b[39;00m \u001b[38;5;167;01mException\u001b[39;00m \u001b[38;5;28;01mas\u001b[39;00m e:\n\u001b[1;32m     67\u001b[0m     filtered_tb \u001b[38;5;241m=\u001b[39m _process_traceback_frames(e\u001b[38;5;241m.\u001b[39m__traceback__)\n",
      "File \u001b[0;32m~/.conda/envs/research/lib/python3.11/site-packages/keras/src/engine/training.py:2296\u001b[0m, in \u001b[0;36mModel.evaluate\u001b[0;34m(self, x, y, batch_size, verbose, sample_weight, steps, callbacks, max_queue_size, workers, use_multiprocessing, return_dict, **kwargs)\u001b[0m\n\u001b[1;32m   2292\u001b[0m             \u001b[38;5;28;01mwith\u001b[39;00m tf\u001b[38;5;241m.\u001b[39mprofiler\u001b[38;5;241m.\u001b[39mexperimental\u001b[38;5;241m.\u001b[39mTrace(\n\u001b[1;32m   2293\u001b[0m                 \u001b[38;5;124m\"\u001b[39m\u001b[38;5;124mtest\u001b[39m\u001b[38;5;124m\"\u001b[39m, step_num\u001b[38;5;241m=\u001b[39mstep, _r\u001b[38;5;241m=\u001b[39m\u001b[38;5;241m1\u001b[39m\n\u001b[1;32m   2294\u001b[0m             ):\n\u001b[1;32m   2295\u001b[0m                 callbacks\u001b[38;5;241m.\u001b[39mon_test_batch_begin(step)\n\u001b[0;32m-> 2296\u001b[0m                 logs \u001b[38;5;241m=\u001b[39m \u001b[43mtest_function_runner\u001b[49m\u001b[38;5;241;43m.\u001b[39;49m\u001b[43mrun_step\u001b[49m\u001b[43m(\u001b[49m\n\u001b[1;32m   2297\u001b[0m \u001b[43m                    \u001b[49m\u001b[43mdataset_or_iterator\u001b[49m\u001b[43m,\u001b[49m\n\u001b[1;32m   2298\u001b[0m \u001b[43m                    \u001b[49m\u001b[43mdata_handler\u001b[49m\u001b[43m,\u001b[49m\n\u001b[1;32m   2299\u001b[0m \u001b[43m                    \u001b[49m\u001b[43mstep\u001b[49m\u001b[43m,\u001b[49m\n\u001b[1;32m   2300\u001b[0m \u001b[43m                    \u001b[49m\u001b[38;5;28;43mself\u001b[39;49m\u001b[38;5;241;43m.\u001b[39;49m\u001b[43m_pss_evaluation_shards\u001b[49m\u001b[43m,\u001b[49m\n\u001b[1;32m   2301\u001b[0m \u001b[43m                \u001b[49m\u001b[43m)\u001b[49m\n\u001b[1;32m   2303\u001b[0m logs \u001b[38;5;241m=\u001b[39m tf_utils\u001b[38;5;241m.\u001b[39msync_to_numpy_or_python_type(logs)\n\u001b[1;32m   2304\u001b[0m \u001b[38;5;66;03m# Override with model metrics instead of last step logs\u001b[39;00m\n",
      "File \u001b[0;32m~/.conda/envs/research/lib/python3.11/site-packages/keras/src/engine/training.py:4108\u001b[0m, in \u001b[0;36m_TestFunction.run_step\u001b[0;34m(self, dataset_or_iterator, data_handler, step, unused_shards)\u001b[0m\n\u001b[1;32m   4107\u001b[0m \u001b[38;5;28;01mdef\u001b[39;00m \u001b[38;5;21mrun_step\u001b[39m(\u001b[38;5;28mself\u001b[39m, dataset_or_iterator, data_handler, step, unused_shards):\n\u001b[0;32m-> 4108\u001b[0m     tmp_logs \u001b[38;5;241m=\u001b[39m \u001b[38;5;28;43mself\u001b[39;49m\u001b[38;5;241;43m.\u001b[39;49m\u001b[43m_function\u001b[49m\u001b[43m(\u001b[49m\u001b[43mdataset_or_iterator\u001b[49m\u001b[43m)\u001b[49m\n\u001b[1;32m   4109\u001b[0m     \u001b[38;5;28;01mif\u001b[39;00m data_handler\u001b[38;5;241m.\u001b[39mshould_sync:\n\u001b[1;32m   4110\u001b[0m         context\u001b[38;5;241m.\u001b[39masync_wait()\n",
      "File \u001b[0;32m~/.conda/envs/research/lib/python3.11/site-packages/tensorflow/python/util/traceback_utils.py:150\u001b[0m, in \u001b[0;36mfilter_traceback.<locals>.error_handler\u001b[0;34m(*args, **kwargs)\u001b[0m\n\u001b[1;32m    148\u001b[0m filtered_tb \u001b[38;5;241m=\u001b[39m \u001b[38;5;28;01mNone\u001b[39;00m\n\u001b[1;32m    149\u001b[0m \u001b[38;5;28;01mtry\u001b[39;00m:\n\u001b[0;32m--> 150\u001b[0m   \u001b[38;5;28;01mreturn\u001b[39;00m \u001b[43mfn\u001b[49m\u001b[43m(\u001b[49m\u001b[38;5;241;43m*\u001b[39;49m\u001b[43margs\u001b[49m\u001b[43m,\u001b[49m\u001b[43m \u001b[49m\u001b[38;5;241;43m*\u001b[39;49m\u001b[38;5;241;43m*\u001b[39;49m\u001b[43mkwargs\u001b[49m\u001b[43m)\u001b[49m\n\u001b[1;32m    151\u001b[0m \u001b[38;5;28;01mexcept\u001b[39;00m \u001b[38;5;167;01mException\u001b[39;00m \u001b[38;5;28;01mas\u001b[39;00m e:\n\u001b[1;32m    152\u001b[0m   filtered_tb \u001b[38;5;241m=\u001b[39m _process_traceback_frames(e\u001b[38;5;241m.\u001b[39m__traceback__)\n",
      "File \u001b[0;32m~/.conda/envs/research/lib/python3.11/site-packages/tensorflow/python/eager/polymorphic_function/polymorphic_function.py:832\u001b[0m, in \u001b[0;36mFunction.__call__\u001b[0;34m(self, *args, **kwds)\u001b[0m\n\u001b[1;32m    829\u001b[0m compiler \u001b[38;5;241m=\u001b[39m \u001b[38;5;124m\"\u001b[39m\u001b[38;5;124mxla\u001b[39m\u001b[38;5;124m\"\u001b[39m \u001b[38;5;28;01mif\u001b[39;00m \u001b[38;5;28mself\u001b[39m\u001b[38;5;241m.\u001b[39m_jit_compile \u001b[38;5;28;01melse\u001b[39;00m \u001b[38;5;124m\"\u001b[39m\u001b[38;5;124mnonXla\u001b[39m\u001b[38;5;124m\"\u001b[39m\n\u001b[1;32m    831\u001b[0m \u001b[38;5;28;01mwith\u001b[39;00m OptionalXlaContext(\u001b[38;5;28mself\u001b[39m\u001b[38;5;241m.\u001b[39m_jit_compile):\n\u001b[0;32m--> 832\u001b[0m   result \u001b[38;5;241m=\u001b[39m \u001b[38;5;28;43mself\u001b[39;49m\u001b[38;5;241;43m.\u001b[39;49m\u001b[43m_call\u001b[49m\u001b[43m(\u001b[49m\u001b[38;5;241;43m*\u001b[39;49m\u001b[43margs\u001b[49m\u001b[43m,\u001b[49m\u001b[43m \u001b[49m\u001b[38;5;241;43m*\u001b[39;49m\u001b[38;5;241;43m*\u001b[39;49m\u001b[43mkwds\u001b[49m\u001b[43m)\u001b[49m\n\u001b[1;32m    834\u001b[0m new_tracing_count \u001b[38;5;241m=\u001b[39m \u001b[38;5;28mself\u001b[39m\u001b[38;5;241m.\u001b[39mexperimental_get_tracing_count()\n\u001b[1;32m    835\u001b[0m without_tracing \u001b[38;5;241m=\u001b[39m (tracing_count \u001b[38;5;241m==\u001b[39m new_tracing_count)\n",
      "File \u001b[0;32m~/.conda/envs/research/lib/python3.11/site-packages/tensorflow/python/eager/polymorphic_function/polymorphic_function.py:877\u001b[0m, in \u001b[0;36mFunction._call\u001b[0;34m(self, *args, **kwds)\u001b[0m\n\u001b[1;32m    874\u001b[0m \u001b[38;5;28mself\u001b[39m\u001b[38;5;241m.\u001b[39m_lock\u001b[38;5;241m.\u001b[39mrelease()\n\u001b[1;32m    875\u001b[0m \u001b[38;5;66;03m# In this case we have not created variables on the first call. So we can\u001b[39;00m\n\u001b[1;32m    876\u001b[0m \u001b[38;5;66;03m# run the first trace but we should fail if variables are created.\u001b[39;00m\n\u001b[0;32m--> 877\u001b[0m results \u001b[38;5;241m=\u001b[39m \u001b[43mtracing_compilation\u001b[49m\u001b[38;5;241;43m.\u001b[39;49m\u001b[43mcall_function\u001b[49m\u001b[43m(\u001b[49m\n\u001b[1;32m    878\u001b[0m \u001b[43m    \u001b[49m\u001b[43margs\u001b[49m\u001b[43m,\u001b[49m\u001b[43m \u001b[49m\u001b[43mkwds\u001b[49m\u001b[43m,\u001b[49m\u001b[43m \u001b[49m\u001b[38;5;28;43mself\u001b[39;49m\u001b[38;5;241;43m.\u001b[39;49m\u001b[43m_variable_creation_config\u001b[49m\n\u001b[1;32m    879\u001b[0m \u001b[43m\u001b[49m\u001b[43m)\u001b[49m\n\u001b[1;32m    880\u001b[0m \u001b[38;5;28;01mif\u001b[39;00m \u001b[38;5;28mself\u001b[39m\u001b[38;5;241m.\u001b[39m_created_variables:\n\u001b[1;32m    881\u001b[0m   \u001b[38;5;28;01mraise\u001b[39;00m \u001b[38;5;167;01mValueError\u001b[39;00m(\u001b[38;5;124m\"\u001b[39m\u001b[38;5;124mCreating variables on a non-first call to a function\u001b[39m\u001b[38;5;124m\"\u001b[39m\n\u001b[1;32m    882\u001b[0m                    \u001b[38;5;124m\"\u001b[39m\u001b[38;5;124m decorated with tf.function.\u001b[39m\u001b[38;5;124m\"\u001b[39m)\n",
      "File \u001b[0;32m~/.conda/envs/research/lib/python3.11/site-packages/tensorflow/python/eager/polymorphic_function/tracing_compilation.py:139\u001b[0m, in \u001b[0;36mcall_function\u001b[0;34m(args, kwargs, tracing_options)\u001b[0m\n\u001b[1;32m    137\u001b[0m bound_args \u001b[38;5;241m=\u001b[39m function\u001b[38;5;241m.\u001b[39mfunction_type\u001b[38;5;241m.\u001b[39mbind(\u001b[38;5;241m*\u001b[39margs, \u001b[38;5;241m*\u001b[39m\u001b[38;5;241m*\u001b[39mkwargs)\n\u001b[1;32m    138\u001b[0m flat_inputs \u001b[38;5;241m=\u001b[39m function\u001b[38;5;241m.\u001b[39mfunction_type\u001b[38;5;241m.\u001b[39munpack_inputs(bound_args)\n\u001b[0;32m--> 139\u001b[0m \u001b[38;5;28;01mreturn\u001b[39;00m \u001b[43mfunction\u001b[49m\u001b[38;5;241;43m.\u001b[39;49m\u001b[43m_call_flat\u001b[49m\u001b[43m(\u001b[49m\u001b[43m  \u001b[49m\u001b[38;5;66;43;03m# pylint: disable=protected-access\u001b[39;49;00m\n\u001b[1;32m    140\u001b[0m \u001b[43m    \u001b[49m\u001b[43mflat_inputs\u001b[49m\u001b[43m,\u001b[49m\u001b[43m \u001b[49m\u001b[43mcaptured_inputs\u001b[49m\u001b[38;5;241;43m=\u001b[39;49m\u001b[43mfunction\u001b[49m\u001b[38;5;241;43m.\u001b[39;49m\u001b[43mcaptured_inputs\u001b[49m\n\u001b[1;32m    141\u001b[0m \u001b[43m\u001b[49m\u001b[43m)\u001b[49m\n",
      "File \u001b[0;32m~/.conda/envs/research/lib/python3.11/site-packages/tensorflow/python/eager/polymorphic_function/concrete_function.py:1323\u001b[0m, in \u001b[0;36mConcreteFunction._call_flat\u001b[0;34m(self, tensor_inputs, captured_inputs)\u001b[0m\n\u001b[1;32m   1319\u001b[0m possible_gradient_type \u001b[38;5;241m=\u001b[39m gradients_util\u001b[38;5;241m.\u001b[39mPossibleTapeGradientTypes(args)\n\u001b[1;32m   1320\u001b[0m \u001b[38;5;28;01mif\u001b[39;00m (possible_gradient_type \u001b[38;5;241m==\u001b[39m gradients_util\u001b[38;5;241m.\u001b[39mPOSSIBLE_GRADIENT_TYPES_NONE\n\u001b[1;32m   1321\u001b[0m     \u001b[38;5;129;01mand\u001b[39;00m executing_eagerly):\n\u001b[1;32m   1322\u001b[0m   \u001b[38;5;66;03m# No tape is watching; skip to running the function.\u001b[39;00m\n\u001b[0;32m-> 1323\u001b[0m   \u001b[38;5;28;01mreturn\u001b[39;00m \u001b[38;5;28;43mself\u001b[39;49m\u001b[38;5;241;43m.\u001b[39;49m\u001b[43m_inference_function\u001b[49m\u001b[38;5;241;43m.\u001b[39;49m\u001b[43mcall_preflattened\u001b[49m\u001b[43m(\u001b[49m\u001b[43margs\u001b[49m\u001b[43m)\u001b[49m\n\u001b[1;32m   1324\u001b[0m forward_backward \u001b[38;5;241m=\u001b[39m \u001b[38;5;28mself\u001b[39m\u001b[38;5;241m.\u001b[39m_select_forward_and_backward_functions(\n\u001b[1;32m   1325\u001b[0m     args,\n\u001b[1;32m   1326\u001b[0m     possible_gradient_type,\n\u001b[1;32m   1327\u001b[0m     executing_eagerly)\n\u001b[1;32m   1328\u001b[0m forward_function, args_with_tangents \u001b[38;5;241m=\u001b[39m forward_backward\u001b[38;5;241m.\u001b[39mforward()\n",
      "File \u001b[0;32m~/.conda/envs/research/lib/python3.11/site-packages/tensorflow/python/eager/polymorphic_function/atomic_function.py:216\u001b[0m, in \u001b[0;36mAtomicFunction.call_preflattened\u001b[0;34m(self, args)\u001b[0m\n\u001b[1;32m    214\u001b[0m \u001b[38;5;28;01mdef\u001b[39;00m \u001b[38;5;21mcall_preflattened\u001b[39m(\u001b[38;5;28mself\u001b[39m, args: Sequence[core\u001b[38;5;241m.\u001b[39mTensor]) \u001b[38;5;241m-\u001b[39m\u001b[38;5;241m>\u001b[39m Any:\n\u001b[1;32m    215\u001b[0m \u001b[38;5;250m  \u001b[39m\u001b[38;5;124;03m\"\"\"Calls with flattened tensor inputs and returns the structured output.\"\"\"\u001b[39;00m\n\u001b[0;32m--> 216\u001b[0m   flat_outputs \u001b[38;5;241m=\u001b[39m \u001b[38;5;28;43mself\u001b[39;49m\u001b[38;5;241;43m.\u001b[39;49m\u001b[43mcall_flat\u001b[49m\u001b[43m(\u001b[49m\u001b[38;5;241;43m*\u001b[39;49m\u001b[43margs\u001b[49m\u001b[43m)\u001b[49m\n\u001b[1;32m    217\u001b[0m   \u001b[38;5;28;01mreturn\u001b[39;00m \u001b[38;5;28mself\u001b[39m\u001b[38;5;241m.\u001b[39mfunction_type\u001b[38;5;241m.\u001b[39mpack_output(flat_outputs)\n",
      "File \u001b[0;32m~/.conda/envs/research/lib/python3.11/site-packages/tensorflow/python/eager/polymorphic_function/atomic_function.py:251\u001b[0m, in \u001b[0;36mAtomicFunction.call_flat\u001b[0;34m(self, *args)\u001b[0m\n\u001b[1;32m    249\u001b[0m \u001b[38;5;28;01mwith\u001b[39;00m record\u001b[38;5;241m.\u001b[39mstop_recording():\n\u001b[1;32m    250\u001b[0m   \u001b[38;5;28;01mif\u001b[39;00m \u001b[38;5;28mself\u001b[39m\u001b[38;5;241m.\u001b[39m_bound_context\u001b[38;5;241m.\u001b[39mexecuting_eagerly():\n\u001b[0;32m--> 251\u001b[0m     outputs \u001b[38;5;241m=\u001b[39m \u001b[38;5;28;43mself\u001b[39;49m\u001b[38;5;241;43m.\u001b[39;49m\u001b[43m_bound_context\u001b[49m\u001b[38;5;241;43m.\u001b[39;49m\u001b[43mcall_function\u001b[49m\u001b[43m(\u001b[49m\n\u001b[1;32m    252\u001b[0m \u001b[43m        \u001b[49m\u001b[38;5;28;43mself\u001b[39;49m\u001b[38;5;241;43m.\u001b[39;49m\u001b[43mname\u001b[49m\u001b[43m,\u001b[49m\n\u001b[1;32m    253\u001b[0m \u001b[43m        \u001b[49m\u001b[38;5;28;43mlist\u001b[39;49m\u001b[43m(\u001b[49m\u001b[43margs\u001b[49m\u001b[43m)\u001b[49m\u001b[43m,\u001b[49m\n\u001b[1;32m    254\u001b[0m \u001b[43m        \u001b[49m\u001b[38;5;28;43mlen\u001b[39;49m\u001b[43m(\u001b[49m\u001b[38;5;28;43mself\u001b[39;49m\u001b[38;5;241;43m.\u001b[39;49m\u001b[43mfunction_type\u001b[49m\u001b[38;5;241;43m.\u001b[39;49m\u001b[43mflat_outputs\u001b[49m\u001b[43m)\u001b[49m\u001b[43m,\u001b[49m\n\u001b[1;32m    255\u001b[0m \u001b[43m    \u001b[49m\u001b[43m)\u001b[49m\n\u001b[1;32m    256\u001b[0m   \u001b[38;5;28;01melse\u001b[39;00m:\n\u001b[1;32m    257\u001b[0m     outputs \u001b[38;5;241m=\u001b[39m make_call_op_in_graph(\n\u001b[1;32m    258\u001b[0m         \u001b[38;5;28mself\u001b[39m,\n\u001b[1;32m    259\u001b[0m         \u001b[38;5;28mlist\u001b[39m(args),\n\u001b[1;32m    260\u001b[0m         \u001b[38;5;28mself\u001b[39m\u001b[38;5;241m.\u001b[39m_bound_context\u001b[38;5;241m.\u001b[39mfunction_call_options\u001b[38;5;241m.\u001b[39mas_attrs(),\n\u001b[1;32m    261\u001b[0m     )\n",
      "File \u001b[0;32m~/.conda/envs/research/lib/python3.11/site-packages/tensorflow/python/eager/context.py:1486\u001b[0m, in \u001b[0;36mContext.call_function\u001b[0;34m(self, name, tensor_inputs, num_outputs)\u001b[0m\n\u001b[1;32m   1484\u001b[0m cancellation_context \u001b[38;5;241m=\u001b[39m cancellation\u001b[38;5;241m.\u001b[39mcontext()\n\u001b[1;32m   1485\u001b[0m \u001b[38;5;28;01mif\u001b[39;00m cancellation_context \u001b[38;5;129;01mis\u001b[39;00m \u001b[38;5;28;01mNone\u001b[39;00m:\n\u001b[0;32m-> 1486\u001b[0m   outputs \u001b[38;5;241m=\u001b[39m \u001b[43mexecute\u001b[49m\u001b[38;5;241;43m.\u001b[39;49m\u001b[43mexecute\u001b[49m\u001b[43m(\u001b[49m\n\u001b[1;32m   1487\u001b[0m \u001b[43m      \u001b[49m\u001b[43mname\u001b[49m\u001b[38;5;241;43m.\u001b[39;49m\u001b[43mdecode\u001b[49m\u001b[43m(\u001b[49m\u001b[38;5;124;43m\"\u001b[39;49m\u001b[38;5;124;43mutf-8\u001b[39;49m\u001b[38;5;124;43m\"\u001b[39;49m\u001b[43m)\u001b[49m\u001b[43m,\u001b[49m\n\u001b[1;32m   1488\u001b[0m \u001b[43m      \u001b[49m\u001b[43mnum_outputs\u001b[49m\u001b[38;5;241;43m=\u001b[39;49m\u001b[43mnum_outputs\u001b[49m\u001b[43m,\u001b[49m\n\u001b[1;32m   1489\u001b[0m \u001b[43m      \u001b[49m\u001b[43minputs\u001b[49m\u001b[38;5;241;43m=\u001b[39;49m\u001b[43mtensor_inputs\u001b[49m\u001b[43m,\u001b[49m\n\u001b[1;32m   1490\u001b[0m \u001b[43m      \u001b[49m\u001b[43mattrs\u001b[49m\u001b[38;5;241;43m=\u001b[39;49m\u001b[43mattrs\u001b[49m\u001b[43m,\u001b[49m\n\u001b[1;32m   1491\u001b[0m \u001b[43m      \u001b[49m\u001b[43mctx\u001b[49m\u001b[38;5;241;43m=\u001b[39;49m\u001b[38;5;28;43mself\u001b[39;49m\u001b[43m,\u001b[49m\n\u001b[1;32m   1492\u001b[0m \u001b[43m  \u001b[49m\u001b[43m)\u001b[49m\n\u001b[1;32m   1493\u001b[0m \u001b[38;5;28;01melse\u001b[39;00m:\n\u001b[1;32m   1494\u001b[0m   outputs \u001b[38;5;241m=\u001b[39m execute\u001b[38;5;241m.\u001b[39mexecute_with_cancellation(\n\u001b[1;32m   1495\u001b[0m       name\u001b[38;5;241m.\u001b[39mdecode(\u001b[38;5;124m\"\u001b[39m\u001b[38;5;124mutf-8\u001b[39m\u001b[38;5;124m\"\u001b[39m),\n\u001b[1;32m   1496\u001b[0m       num_outputs\u001b[38;5;241m=\u001b[39mnum_outputs,\n\u001b[0;32m   (...)\u001b[0m\n\u001b[1;32m   1500\u001b[0m       cancellation_manager\u001b[38;5;241m=\u001b[39mcancellation_context,\n\u001b[1;32m   1501\u001b[0m   )\n",
      "File \u001b[0;32m~/.conda/envs/research/lib/python3.11/site-packages/tensorflow/python/eager/execute.py:53\u001b[0m, in \u001b[0;36mquick_execute\u001b[0;34m(op_name, num_outputs, inputs, attrs, ctx, name)\u001b[0m\n\u001b[1;32m     51\u001b[0m \u001b[38;5;28;01mtry\u001b[39;00m:\n\u001b[1;32m     52\u001b[0m   ctx\u001b[38;5;241m.\u001b[39mensure_initialized()\n\u001b[0;32m---> 53\u001b[0m   tensors \u001b[38;5;241m=\u001b[39m \u001b[43mpywrap_tfe\u001b[49m\u001b[38;5;241;43m.\u001b[39;49m\u001b[43mTFE_Py_Execute\u001b[49m\u001b[43m(\u001b[49m\u001b[43mctx\u001b[49m\u001b[38;5;241;43m.\u001b[39;49m\u001b[43m_handle\u001b[49m\u001b[43m,\u001b[49m\u001b[43m \u001b[49m\u001b[43mdevice_name\u001b[49m\u001b[43m,\u001b[49m\u001b[43m \u001b[49m\u001b[43mop_name\u001b[49m\u001b[43m,\u001b[49m\n\u001b[1;32m     54\u001b[0m \u001b[43m                                      \u001b[49m\u001b[43minputs\u001b[49m\u001b[43m,\u001b[49m\u001b[43m \u001b[49m\u001b[43mattrs\u001b[49m\u001b[43m,\u001b[49m\u001b[43m \u001b[49m\u001b[43mnum_outputs\u001b[49m\u001b[43m)\u001b[49m\n\u001b[1;32m     55\u001b[0m \u001b[38;5;28;01mexcept\u001b[39;00m core\u001b[38;5;241m.\u001b[39m_NotOkStatusException \u001b[38;5;28;01mas\u001b[39;00m e:\n\u001b[1;32m     56\u001b[0m   \u001b[38;5;28;01mif\u001b[39;00m name \u001b[38;5;129;01mis\u001b[39;00m \u001b[38;5;129;01mnot\u001b[39;00m \u001b[38;5;28;01mNone\u001b[39;00m:\n",
      "\u001b[0;31mKeyboardInterrupt\u001b[0m: "
     ]
    }
   ],
   "source": [
    "#from landscapes import eval_loss_landscape\n",
    "eval_loss_landscape(6, 3, 5, 1, 0.25, \"qq\")"
   ]
  },
  {
   "cell_type": "code",
   "execution_count": 13,
   "id": "08a9159c-e955-43ee-8037-bca2af82971f",
   "metadata": {
    "scrolled": true,
    "tags": []
   },
   "outputs": [
    {
     "name": "stdout",
     "output_type": "stream",
     "text": [
      "At 0.001 for decay qq\n",
      "---------------0.001---------------\n",
      "Injecting N = 10 more times, currently on: N = 0\n",
      "Ensembling 5 for Signal Fraction : 0.001\n",
      "Initialization: 1.749 4.018\n"
     ]
    },
    {
     "name": "stderr",
     "output_type": "stream",
     "text": [
      "2024-03-04 14:16:52.466183: I external/local_xla/xla/service/service.cc:168] XLA service 0x7f0acd169bd0 initialized for platform CUDA (this does not guarantee that XLA will be used). Devices:\n",
      "2024-03-04 14:16:52.466208: I external/local_xla/xla/service/service.cc:176]   StreamExecutor device (0): NVIDIA A100-PCIE-40GB, Compute Capability 8.0\n",
      "2024-03-04 14:16:52.502458: I tensorflow/compiler/mlir/tensorflow/utils/dump_mlir_util.cc:269] disabling MLIR crash reproducer, set env var `MLIR_CRASH_REPRODUCER_DIRECTORY` to enable.\n",
      "2024-03-04 14:16:52.608483: I external/local_xla/xla/stream_executor/cuda/cuda_dnn.cc:454] Loaded cuDNN version 8800\n",
      "WARNING: All log messages before absl::InitializeLog() is called are written to STDERR\n",
      "I0000 00:00:1709590612.738564 1341281 device_compiler.h:186] Compiled cluster using XLA!  This line is logged at most once for the lifetime of the process.\n"
     ]
    },
    {
     "name": "stdout",
     "output_type": "stream",
     "text": [
      "m1: 5 m2: 1 w1: 1.052756667137146 w2: 5.133028984069824\n",
      "387/387 [==============================] - 2s 5ms/step\n",
      "Initialization: 5.323 0.904\n",
      "m1: 5 m2: 1 w1: 5.156112194061279 w2: 1.0416946411132812\n",
      "387/387 [==============================] - 2s 5ms/step\n",
      "Initialization: 1.395 5.316\n"
     ]
    },
    {
     "name": "stderr",
     "output_type": "stream",
     "text": [
      "Exception ignored in: <function WeakKeyDictionary.__init__.<locals>.remove at 0x7f149e3ef740>\n",
      "Traceback (most recent call last):\n",
      "  File \"/global/homes/g/gupsingh/.conda/envs/research/lib/python3.11/weakref.py\", line 369, in remove\n",
      "    def remove(k, selfref=ref(self)):\n",
      "\n",
      "KeyboardInterrupt: \n"
     ]
    },
    {
     "ename": "KeyboardInterrupt",
     "evalue": "",
     "output_type": "error",
     "traceback": [
      "\u001b[0;31m---------------------------------------------------------------------------\u001b[0m",
      "\u001b[0;31mKeyboardInterrupt\u001b[0m                         Traceback (most recent call last)",
      "Cell \u001b[0;32mIn[13], line 8\u001b[0m\n\u001b[1;32m      6\u001b[0m m_initializations \u001b[38;5;241m=\u001b[39m \u001b[38;5;241m5\u001b[39m\n\u001b[1;32m      7\u001b[0m decay \u001b[38;5;241m=\u001b[39m \u001b[38;5;124m\"\u001b[39m\u001b[38;5;124mqq\u001b[39m\u001b[38;5;124m\"\u001b[39m\n\u001b[0;32m----> 8\u001b[0m \u001b[43mtrain_semiweak\u001b[49m\u001b[43m(\u001b[49m\u001b[43mfeature_dims\u001b[49m\u001b[43m,\u001b[49m\u001b[43m \u001b[49m\u001b[43mm1\u001b[49m\u001b[43m,\u001b[49m\u001b[43m \u001b[49m\u001b[43mm2\u001b[49m\u001b[43m,\u001b[49m\u001b[43m \u001b[49m\u001b[43mparameters\u001b[49m\u001b[43m,\u001b[49m\u001b[43m \u001b[49m\u001b[43minjections\u001b[49m\u001b[43m,\u001b[49m\u001b[43m \u001b[49m\u001b[43mm_initializations\u001b[49m\u001b[43m,\u001b[49m\u001b[43m \u001b[49m\u001b[43mdecay\u001b[49m\u001b[43m \u001b[49m\u001b[38;5;241;43m=\u001b[39;49m\u001b[43m \u001b[49m\u001b[43mdecay\u001b[49m\u001b[43m)\u001b[49m\n",
      "Cell \u001b[0;32mIn[4], line 88\u001b[0m, in \u001b[0;36mtrain_semiweak\u001b[0;34m(feature_dims, m1, m2, parameters, injections, m_initializations, decay)\u001b[0m\n\u001b[1;32m     84\u001b[0m y_data_ \u001b[38;5;241m=\u001b[39m np\u001b[38;5;241m.\u001b[39mconcatenate([np\u001b[38;5;241m.\u001b[39mzeros(train_reference),np\u001b[38;5;241m.\u001b[39mones(train_data),np\u001b[38;5;241m.\u001b[39mones(\u001b[38;5;28mlen\u001b[39m(signal))])\n\u001b[1;32m     86\u001b[0m X_train_, X_val_, Y_train_, Y_val_ \u001b[38;5;241m=\u001b[39m train_test_split(x_data_, y_data_, test_size\u001b[38;5;241m=\u001b[39m\u001b[38;5;241m0.5\u001b[39m, random_state \u001b[38;5;241m=\u001b[39m \u001b[38;5;241m42\u001b[39m)\n\u001b[0;32m---> 88\u001b[0m history_semiweak \u001b[38;5;241m=\u001b[39m \u001b[43mmodel_semiweak\u001b[49m\u001b[38;5;241;43m.\u001b[39;49m\u001b[43mfit\u001b[49m\u001b[43m(\u001b[49m\u001b[43mX_train_\u001b[49m\u001b[43m[\u001b[49m\u001b[43m:\u001b[49m\u001b[43m,\u001b[49m\u001b[38;5;241;43m0\u001b[39;49m\u001b[43m:\u001b[49m\u001b[43mfeature_dims\u001b[49m\u001b[43m]\u001b[49m\u001b[43m,\u001b[49m\u001b[43m \u001b[49m\u001b[43mY_train_\u001b[49m\u001b[43m,\u001b[49m\u001b[43m \u001b[49m\u001b[43mepochs\u001b[49m\u001b[38;5;241;43m=\u001b[39;49m\u001b[38;5;241;43m50\u001b[39;49m\u001b[43m,\u001b[49m\n\u001b[1;32m     89\u001b[0m \u001b[43m                                       \u001b[49m\u001b[43mvalidation_data\u001b[49m\u001b[38;5;241;43m=\u001b[39;49m\u001b[43m(\u001b[49m\u001b[43mX_val_\u001b[49m\u001b[43m[\u001b[49m\u001b[43m:\u001b[49m\u001b[43m,\u001b[49m\u001b[38;5;241;43m0\u001b[39;49m\u001b[43m:\u001b[49m\u001b[43mfeature_dims\u001b[49m\u001b[43m]\u001b[49m\u001b[43m,\u001b[49m\u001b[43m \u001b[49m\u001b[43mY_val_\u001b[49m\u001b[43m)\u001b[49m\u001b[43m,\u001b[49m\u001b[43mbatch_size\u001b[49m\u001b[38;5;241;43m=\u001b[39;49m\u001b[38;5;241;43m1024\u001b[39;49m\u001b[43m,\u001b[49m\u001b[43m \u001b[49m\u001b[43mverbose\u001b[49m\u001b[43m \u001b[49m\u001b[38;5;241;43m=\u001b[39;49m\u001b[43m \u001b[49m\u001b[38;5;241;43m0\u001b[39;49m\u001b[43m)\u001b[49m\n\u001b[1;32m     91\u001b[0m \u001b[38;5;28mprint\u001b[39m(\u001b[38;5;124mf\u001b[39m\u001b[38;5;124m\"\u001b[39m\u001b[38;5;124mm1: \u001b[39m\u001b[38;5;132;01m{\u001b[39;00mm1\u001b[38;5;132;01m}\u001b[39;00m\u001b[38;5;124m\"\u001b[39m,\u001b[38;5;124mf\u001b[39m\u001b[38;5;124m\"\u001b[39m\u001b[38;5;124mm2: \u001b[39m\u001b[38;5;132;01m{\u001b[39;00mm2\u001b[38;5;132;01m}\u001b[39;00m\u001b[38;5;124m\"\u001b[39m, \u001b[38;5;124mf\u001b[39m\u001b[38;5;124m\"\u001b[39m\u001b[38;5;124mw1: \u001b[39m\u001b[38;5;132;01m{\u001b[39;00mmodel_semiweak\u001b[38;5;241m.\u001b[39mtrainable_weights[\u001b[38;5;241m0\u001b[39m]\u001b[38;5;241m.\u001b[39mnumpy()[\u001b[38;5;241m0\u001b[39m][\u001b[38;5;241m0\u001b[39m]\u001b[38;5;132;01m}\u001b[39;00m\u001b[38;5;124m\"\u001b[39m, \u001b[38;5;124mf\u001b[39m\u001b[38;5;124m\"\u001b[39m\u001b[38;5;124mw2: \u001b[39m\u001b[38;5;132;01m{\u001b[39;00mmodel_semiweak\u001b[38;5;241m.\u001b[39mtrainable_weights[\u001b[38;5;241m1\u001b[39m]\u001b[38;5;241m.\u001b[39mnumpy()[\u001b[38;5;241m0\u001b[39m][\u001b[38;5;241m0\u001b[39m]\u001b[38;5;132;01m}\u001b[39;00m\u001b[38;5;124m\"\u001b[39m)\n\u001b[1;32m     93\u001b[0m weight_list1_kruns\u001b[38;5;241m+\u001b[39m\u001b[38;5;241m=\u001b[39m[model_semiweak\u001b[38;5;241m.\u001b[39mtrainable_weights[\u001b[38;5;241m0\u001b[39m]\u001b[38;5;241m.\u001b[39mnumpy()[\u001b[38;5;241m0\u001b[39m][\u001b[38;5;241m0\u001b[39m]]\n",
      "File \u001b[0;32m~/.conda/envs/research/lib/python3.11/site-packages/keras/src/utils/traceback_utils.py:65\u001b[0m, in \u001b[0;36mfilter_traceback.<locals>.error_handler\u001b[0;34m(*args, **kwargs)\u001b[0m\n\u001b[1;32m     63\u001b[0m filtered_tb \u001b[38;5;241m=\u001b[39m \u001b[38;5;28;01mNone\u001b[39;00m\n\u001b[1;32m     64\u001b[0m \u001b[38;5;28;01mtry\u001b[39;00m:\n\u001b[0;32m---> 65\u001b[0m     \u001b[38;5;28;01mreturn\u001b[39;00m \u001b[43mfn\u001b[49m\u001b[43m(\u001b[49m\u001b[38;5;241;43m*\u001b[39;49m\u001b[43margs\u001b[49m\u001b[43m,\u001b[49m\u001b[43m \u001b[49m\u001b[38;5;241;43m*\u001b[39;49m\u001b[38;5;241;43m*\u001b[39;49m\u001b[43mkwargs\u001b[49m\u001b[43m)\u001b[49m\n\u001b[1;32m     66\u001b[0m \u001b[38;5;28;01mexcept\u001b[39;00m \u001b[38;5;167;01mException\u001b[39;00m \u001b[38;5;28;01mas\u001b[39;00m e:\n\u001b[1;32m     67\u001b[0m     filtered_tb \u001b[38;5;241m=\u001b[39m _process_traceback_frames(e\u001b[38;5;241m.\u001b[39m__traceback__)\n",
      "File \u001b[0;32m~/.conda/envs/research/lib/python3.11/site-packages/keras/src/engine/training.py:1856\u001b[0m, in \u001b[0;36mModel.fit\u001b[0;34m(self, x, y, batch_size, epochs, verbose, callbacks, validation_split, validation_data, shuffle, class_weight, sample_weight, initial_epoch, steps_per_epoch, validation_steps, validation_batch_size, validation_freq, max_queue_size, workers, use_multiprocessing)\u001b[0m\n\u001b[1;32m   1840\u001b[0m \u001b[38;5;28;01mif\u001b[39;00m \u001b[38;5;28mgetattr\u001b[39m(\u001b[38;5;28mself\u001b[39m, \u001b[38;5;124m\"\u001b[39m\u001b[38;5;124m_eval_data_handler\u001b[39m\u001b[38;5;124m\"\u001b[39m, \u001b[38;5;28;01mNone\u001b[39;00m) \u001b[38;5;129;01mis\u001b[39;00m \u001b[38;5;28;01mNone\u001b[39;00m:\n\u001b[1;32m   1841\u001b[0m     \u001b[38;5;28mself\u001b[39m\u001b[38;5;241m.\u001b[39m_eval_data_handler \u001b[38;5;241m=\u001b[39m data_adapter\u001b[38;5;241m.\u001b[39mget_data_handler(\n\u001b[1;32m   1842\u001b[0m         x\u001b[38;5;241m=\u001b[39mval_x,\n\u001b[1;32m   1843\u001b[0m         y\u001b[38;5;241m=\u001b[39mval_y,\n\u001b[0;32m   (...)\u001b[0m\n\u001b[1;32m   1854\u001b[0m         pss_evaluation_shards\u001b[38;5;241m=\u001b[39m\u001b[38;5;28mself\u001b[39m\u001b[38;5;241m.\u001b[39m_pss_evaluation_shards,\n\u001b[1;32m   1855\u001b[0m     )\n\u001b[0;32m-> 1856\u001b[0m val_logs \u001b[38;5;241m=\u001b[39m \u001b[38;5;28;43mself\u001b[39;49m\u001b[38;5;241;43m.\u001b[39;49m\u001b[43mevaluate\u001b[49m\u001b[43m(\u001b[49m\n\u001b[1;32m   1857\u001b[0m \u001b[43m    \u001b[49m\u001b[43mx\u001b[49m\u001b[38;5;241;43m=\u001b[39;49m\u001b[43mval_x\u001b[49m\u001b[43m,\u001b[49m\n\u001b[1;32m   1858\u001b[0m \u001b[43m    \u001b[49m\u001b[43my\u001b[49m\u001b[38;5;241;43m=\u001b[39;49m\u001b[43mval_y\u001b[49m\u001b[43m,\u001b[49m\n\u001b[1;32m   1859\u001b[0m \u001b[43m    \u001b[49m\u001b[43msample_weight\u001b[49m\u001b[38;5;241;43m=\u001b[39;49m\u001b[43mval_sample_weight\u001b[49m\u001b[43m,\u001b[49m\n\u001b[1;32m   1860\u001b[0m \u001b[43m    \u001b[49m\u001b[43mbatch_size\u001b[49m\u001b[38;5;241;43m=\u001b[39;49m\u001b[43mvalidation_batch_size\u001b[49m\u001b[43m \u001b[49m\u001b[38;5;129;43;01mor\u001b[39;49;00m\u001b[43m \u001b[49m\u001b[43mbatch_size\u001b[49m\u001b[43m,\u001b[49m\n\u001b[1;32m   1861\u001b[0m \u001b[43m    \u001b[49m\u001b[43msteps\u001b[49m\u001b[38;5;241;43m=\u001b[39;49m\u001b[43mvalidation_steps\u001b[49m\u001b[43m,\u001b[49m\n\u001b[1;32m   1862\u001b[0m \u001b[43m    \u001b[49m\u001b[43mcallbacks\u001b[49m\u001b[38;5;241;43m=\u001b[39;49m\u001b[43mcallbacks\u001b[49m\u001b[43m,\u001b[49m\n\u001b[1;32m   1863\u001b[0m \u001b[43m    \u001b[49m\u001b[43mmax_queue_size\u001b[49m\u001b[38;5;241;43m=\u001b[39;49m\u001b[43mmax_queue_size\u001b[49m\u001b[43m,\u001b[49m\n\u001b[1;32m   1864\u001b[0m \u001b[43m    \u001b[49m\u001b[43mworkers\u001b[49m\u001b[38;5;241;43m=\u001b[39;49m\u001b[43mworkers\u001b[49m\u001b[43m,\u001b[49m\n\u001b[1;32m   1865\u001b[0m \u001b[43m    \u001b[49m\u001b[43muse_multiprocessing\u001b[49m\u001b[38;5;241;43m=\u001b[39;49m\u001b[43muse_multiprocessing\u001b[49m\u001b[43m,\u001b[49m\n\u001b[1;32m   1866\u001b[0m \u001b[43m    \u001b[49m\u001b[43mreturn_dict\u001b[49m\u001b[38;5;241;43m=\u001b[39;49m\u001b[38;5;28;43;01mTrue\u001b[39;49;00m\u001b[43m,\u001b[49m\n\u001b[1;32m   1867\u001b[0m \u001b[43m    \u001b[49m\u001b[43m_use_cached_eval_dataset\u001b[49m\u001b[38;5;241;43m=\u001b[39;49m\u001b[38;5;28;43;01mTrue\u001b[39;49;00m\u001b[43m,\u001b[49m\n\u001b[1;32m   1868\u001b[0m \u001b[43m\u001b[49m\u001b[43m)\u001b[49m\n\u001b[1;32m   1869\u001b[0m val_logs \u001b[38;5;241m=\u001b[39m {\n\u001b[1;32m   1870\u001b[0m     \u001b[38;5;124m\"\u001b[39m\u001b[38;5;124mval_\u001b[39m\u001b[38;5;124m\"\u001b[39m \u001b[38;5;241m+\u001b[39m name: val \u001b[38;5;28;01mfor\u001b[39;00m name, val \u001b[38;5;129;01min\u001b[39;00m val_logs\u001b[38;5;241m.\u001b[39mitems()\n\u001b[1;32m   1871\u001b[0m }\n\u001b[1;32m   1872\u001b[0m epoch_logs\u001b[38;5;241m.\u001b[39mupdate(val_logs)\n",
      "File \u001b[0;32m~/.conda/envs/research/lib/python3.11/site-packages/keras/src/utils/traceback_utils.py:65\u001b[0m, in \u001b[0;36mfilter_traceback.<locals>.error_handler\u001b[0;34m(*args, **kwargs)\u001b[0m\n\u001b[1;32m     63\u001b[0m filtered_tb \u001b[38;5;241m=\u001b[39m \u001b[38;5;28;01mNone\u001b[39;00m\n\u001b[1;32m     64\u001b[0m \u001b[38;5;28;01mtry\u001b[39;00m:\n\u001b[0;32m---> 65\u001b[0m     \u001b[38;5;28;01mreturn\u001b[39;00m \u001b[43mfn\u001b[49m\u001b[43m(\u001b[49m\u001b[38;5;241;43m*\u001b[39;49m\u001b[43margs\u001b[49m\u001b[43m,\u001b[49m\u001b[43m \u001b[49m\u001b[38;5;241;43m*\u001b[39;49m\u001b[38;5;241;43m*\u001b[39;49m\u001b[43mkwargs\u001b[49m\u001b[43m)\u001b[49m\n\u001b[1;32m     66\u001b[0m \u001b[38;5;28;01mexcept\u001b[39;00m \u001b[38;5;167;01mException\u001b[39;00m \u001b[38;5;28;01mas\u001b[39;00m e:\n\u001b[1;32m     67\u001b[0m     filtered_tb \u001b[38;5;241m=\u001b[39m _process_traceback_frames(e\u001b[38;5;241m.\u001b[39m__traceback__)\n",
      "File \u001b[0;32m~/.conda/envs/research/lib/python3.11/site-packages/keras/src/engine/training.py:2296\u001b[0m, in \u001b[0;36mModel.evaluate\u001b[0;34m(self, x, y, batch_size, verbose, sample_weight, steps, callbacks, max_queue_size, workers, use_multiprocessing, return_dict, **kwargs)\u001b[0m\n\u001b[1;32m   2292\u001b[0m             \u001b[38;5;28;01mwith\u001b[39;00m tf\u001b[38;5;241m.\u001b[39mprofiler\u001b[38;5;241m.\u001b[39mexperimental\u001b[38;5;241m.\u001b[39mTrace(\n\u001b[1;32m   2293\u001b[0m                 \u001b[38;5;124m\"\u001b[39m\u001b[38;5;124mtest\u001b[39m\u001b[38;5;124m\"\u001b[39m, step_num\u001b[38;5;241m=\u001b[39mstep, _r\u001b[38;5;241m=\u001b[39m\u001b[38;5;241m1\u001b[39m\n\u001b[1;32m   2294\u001b[0m             ):\n\u001b[1;32m   2295\u001b[0m                 callbacks\u001b[38;5;241m.\u001b[39mon_test_batch_begin(step)\n\u001b[0;32m-> 2296\u001b[0m                 logs \u001b[38;5;241m=\u001b[39m \u001b[43mtest_function_runner\u001b[49m\u001b[38;5;241;43m.\u001b[39;49m\u001b[43mrun_step\u001b[49m\u001b[43m(\u001b[49m\n\u001b[1;32m   2297\u001b[0m \u001b[43m                    \u001b[49m\u001b[43mdataset_or_iterator\u001b[49m\u001b[43m,\u001b[49m\n\u001b[1;32m   2298\u001b[0m \u001b[43m                    \u001b[49m\u001b[43mdata_handler\u001b[49m\u001b[43m,\u001b[49m\n\u001b[1;32m   2299\u001b[0m \u001b[43m                    \u001b[49m\u001b[43mstep\u001b[49m\u001b[43m,\u001b[49m\n\u001b[1;32m   2300\u001b[0m \u001b[43m                    \u001b[49m\u001b[38;5;28;43mself\u001b[39;49m\u001b[38;5;241;43m.\u001b[39;49m\u001b[43m_pss_evaluation_shards\u001b[49m\u001b[43m,\u001b[49m\n\u001b[1;32m   2301\u001b[0m \u001b[43m                \u001b[49m\u001b[43m)\u001b[49m\n\u001b[1;32m   2303\u001b[0m logs \u001b[38;5;241m=\u001b[39m tf_utils\u001b[38;5;241m.\u001b[39msync_to_numpy_or_python_type(logs)\n\u001b[1;32m   2304\u001b[0m \u001b[38;5;66;03m# Override with model metrics instead of last step logs\u001b[39;00m\n",
      "File \u001b[0;32m~/.conda/envs/research/lib/python3.11/site-packages/keras/src/engine/training.py:4108\u001b[0m, in \u001b[0;36m_TestFunction.run_step\u001b[0;34m(self, dataset_or_iterator, data_handler, step, unused_shards)\u001b[0m\n\u001b[1;32m   4107\u001b[0m \u001b[38;5;28;01mdef\u001b[39;00m \u001b[38;5;21mrun_step\u001b[39m(\u001b[38;5;28mself\u001b[39m, dataset_or_iterator, data_handler, step, unused_shards):\n\u001b[0;32m-> 4108\u001b[0m     tmp_logs \u001b[38;5;241m=\u001b[39m \u001b[38;5;28;43mself\u001b[39;49m\u001b[38;5;241;43m.\u001b[39;49m\u001b[43m_function\u001b[49m\u001b[43m(\u001b[49m\u001b[43mdataset_or_iterator\u001b[49m\u001b[43m)\u001b[49m\n\u001b[1;32m   4109\u001b[0m     \u001b[38;5;28;01mif\u001b[39;00m data_handler\u001b[38;5;241m.\u001b[39mshould_sync:\n\u001b[1;32m   4110\u001b[0m         context\u001b[38;5;241m.\u001b[39masync_wait()\n",
      "File \u001b[0;32m~/.conda/envs/research/lib/python3.11/site-packages/tensorflow/python/util/traceback_utils.py:150\u001b[0m, in \u001b[0;36mfilter_traceback.<locals>.error_handler\u001b[0;34m(*args, **kwargs)\u001b[0m\n\u001b[1;32m    148\u001b[0m filtered_tb \u001b[38;5;241m=\u001b[39m \u001b[38;5;28;01mNone\u001b[39;00m\n\u001b[1;32m    149\u001b[0m \u001b[38;5;28;01mtry\u001b[39;00m:\n\u001b[0;32m--> 150\u001b[0m   \u001b[38;5;28;01mreturn\u001b[39;00m \u001b[43mfn\u001b[49m\u001b[43m(\u001b[49m\u001b[38;5;241;43m*\u001b[39;49m\u001b[43margs\u001b[49m\u001b[43m,\u001b[49m\u001b[43m \u001b[49m\u001b[38;5;241;43m*\u001b[39;49m\u001b[38;5;241;43m*\u001b[39;49m\u001b[43mkwargs\u001b[49m\u001b[43m)\u001b[49m\n\u001b[1;32m    151\u001b[0m \u001b[38;5;28;01mexcept\u001b[39;00m \u001b[38;5;167;01mException\u001b[39;00m \u001b[38;5;28;01mas\u001b[39;00m e:\n\u001b[1;32m    152\u001b[0m   filtered_tb \u001b[38;5;241m=\u001b[39m _process_traceback_frames(e\u001b[38;5;241m.\u001b[39m__traceback__)\n",
      "File \u001b[0;32m~/.conda/envs/research/lib/python3.11/site-packages/tensorflow/python/eager/polymorphic_function/polymorphic_function.py:832\u001b[0m, in \u001b[0;36mFunction.__call__\u001b[0;34m(self, *args, **kwds)\u001b[0m\n\u001b[1;32m    829\u001b[0m compiler \u001b[38;5;241m=\u001b[39m \u001b[38;5;124m\"\u001b[39m\u001b[38;5;124mxla\u001b[39m\u001b[38;5;124m\"\u001b[39m \u001b[38;5;28;01mif\u001b[39;00m \u001b[38;5;28mself\u001b[39m\u001b[38;5;241m.\u001b[39m_jit_compile \u001b[38;5;28;01melse\u001b[39;00m \u001b[38;5;124m\"\u001b[39m\u001b[38;5;124mnonXla\u001b[39m\u001b[38;5;124m\"\u001b[39m\n\u001b[1;32m    831\u001b[0m \u001b[38;5;28;01mwith\u001b[39;00m OptionalXlaContext(\u001b[38;5;28mself\u001b[39m\u001b[38;5;241m.\u001b[39m_jit_compile):\n\u001b[0;32m--> 832\u001b[0m   result \u001b[38;5;241m=\u001b[39m \u001b[38;5;28;43mself\u001b[39;49m\u001b[38;5;241;43m.\u001b[39;49m\u001b[43m_call\u001b[49m\u001b[43m(\u001b[49m\u001b[38;5;241;43m*\u001b[39;49m\u001b[43margs\u001b[49m\u001b[43m,\u001b[49m\u001b[43m \u001b[49m\u001b[38;5;241;43m*\u001b[39;49m\u001b[38;5;241;43m*\u001b[39;49m\u001b[43mkwds\u001b[49m\u001b[43m)\u001b[49m\n\u001b[1;32m    834\u001b[0m new_tracing_count \u001b[38;5;241m=\u001b[39m \u001b[38;5;28mself\u001b[39m\u001b[38;5;241m.\u001b[39mexperimental_get_tracing_count()\n\u001b[1;32m    835\u001b[0m without_tracing \u001b[38;5;241m=\u001b[39m (tracing_count \u001b[38;5;241m==\u001b[39m new_tracing_count)\n",
      "File \u001b[0;32m~/.conda/envs/research/lib/python3.11/site-packages/tensorflow/python/eager/polymorphic_function/polymorphic_function.py:877\u001b[0m, in \u001b[0;36mFunction._call\u001b[0;34m(self, *args, **kwds)\u001b[0m\n\u001b[1;32m    874\u001b[0m \u001b[38;5;28mself\u001b[39m\u001b[38;5;241m.\u001b[39m_lock\u001b[38;5;241m.\u001b[39mrelease()\n\u001b[1;32m    875\u001b[0m \u001b[38;5;66;03m# In this case we have not created variables on the first call. So we can\u001b[39;00m\n\u001b[1;32m    876\u001b[0m \u001b[38;5;66;03m# run the first trace but we should fail if variables are created.\u001b[39;00m\n\u001b[0;32m--> 877\u001b[0m results \u001b[38;5;241m=\u001b[39m \u001b[43mtracing_compilation\u001b[49m\u001b[38;5;241;43m.\u001b[39;49m\u001b[43mcall_function\u001b[49m\u001b[43m(\u001b[49m\n\u001b[1;32m    878\u001b[0m \u001b[43m    \u001b[49m\u001b[43margs\u001b[49m\u001b[43m,\u001b[49m\u001b[43m \u001b[49m\u001b[43mkwds\u001b[49m\u001b[43m,\u001b[49m\u001b[43m \u001b[49m\u001b[38;5;28;43mself\u001b[39;49m\u001b[38;5;241;43m.\u001b[39;49m\u001b[43m_variable_creation_config\u001b[49m\n\u001b[1;32m    879\u001b[0m \u001b[43m\u001b[49m\u001b[43m)\u001b[49m\n\u001b[1;32m    880\u001b[0m \u001b[38;5;28;01mif\u001b[39;00m \u001b[38;5;28mself\u001b[39m\u001b[38;5;241m.\u001b[39m_created_variables:\n\u001b[1;32m    881\u001b[0m   \u001b[38;5;28;01mraise\u001b[39;00m \u001b[38;5;167;01mValueError\u001b[39;00m(\u001b[38;5;124m\"\u001b[39m\u001b[38;5;124mCreating variables on a non-first call to a function\u001b[39m\u001b[38;5;124m\"\u001b[39m\n\u001b[1;32m    882\u001b[0m                    \u001b[38;5;124m\"\u001b[39m\u001b[38;5;124m decorated with tf.function.\u001b[39m\u001b[38;5;124m\"\u001b[39m)\n",
      "File \u001b[0;32m~/.conda/envs/research/lib/python3.11/site-packages/tensorflow/python/eager/polymorphic_function/tracing_compilation.py:139\u001b[0m, in \u001b[0;36mcall_function\u001b[0;34m(args, kwargs, tracing_options)\u001b[0m\n\u001b[1;32m    137\u001b[0m bound_args \u001b[38;5;241m=\u001b[39m function\u001b[38;5;241m.\u001b[39mfunction_type\u001b[38;5;241m.\u001b[39mbind(\u001b[38;5;241m*\u001b[39margs, \u001b[38;5;241m*\u001b[39m\u001b[38;5;241m*\u001b[39mkwargs)\n\u001b[1;32m    138\u001b[0m flat_inputs \u001b[38;5;241m=\u001b[39m function\u001b[38;5;241m.\u001b[39mfunction_type\u001b[38;5;241m.\u001b[39munpack_inputs(bound_args)\n\u001b[0;32m--> 139\u001b[0m \u001b[38;5;28;01mreturn\u001b[39;00m \u001b[43mfunction\u001b[49m\u001b[38;5;241;43m.\u001b[39;49m\u001b[43m_call_flat\u001b[49m\u001b[43m(\u001b[49m\u001b[43m  \u001b[49m\u001b[38;5;66;43;03m# pylint: disable=protected-access\u001b[39;49;00m\n\u001b[1;32m    140\u001b[0m \u001b[43m    \u001b[49m\u001b[43mflat_inputs\u001b[49m\u001b[43m,\u001b[49m\u001b[43m \u001b[49m\u001b[43mcaptured_inputs\u001b[49m\u001b[38;5;241;43m=\u001b[39;49m\u001b[43mfunction\u001b[49m\u001b[38;5;241;43m.\u001b[39;49m\u001b[43mcaptured_inputs\u001b[49m\n\u001b[1;32m    141\u001b[0m \u001b[43m\u001b[49m\u001b[43m)\u001b[49m\n",
      "File \u001b[0;32m~/.conda/envs/research/lib/python3.11/site-packages/tensorflow/python/eager/polymorphic_function/concrete_function.py:1323\u001b[0m, in \u001b[0;36mConcreteFunction._call_flat\u001b[0;34m(self, tensor_inputs, captured_inputs)\u001b[0m\n\u001b[1;32m   1319\u001b[0m possible_gradient_type \u001b[38;5;241m=\u001b[39m gradients_util\u001b[38;5;241m.\u001b[39mPossibleTapeGradientTypes(args)\n\u001b[1;32m   1320\u001b[0m \u001b[38;5;28;01mif\u001b[39;00m (possible_gradient_type \u001b[38;5;241m==\u001b[39m gradients_util\u001b[38;5;241m.\u001b[39mPOSSIBLE_GRADIENT_TYPES_NONE\n\u001b[1;32m   1321\u001b[0m     \u001b[38;5;129;01mand\u001b[39;00m executing_eagerly):\n\u001b[1;32m   1322\u001b[0m   \u001b[38;5;66;03m# No tape is watching; skip to running the function.\u001b[39;00m\n\u001b[0;32m-> 1323\u001b[0m   \u001b[38;5;28;01mreturn\u001b[39;00m \u001b[38;5;28;43mself\u001b[39;49m\u001b[38;5;241;43m.\u001b[39;49m\u001b[43m_inference_function\u001b[49m\u001b[38;5;241;43m.\u001b[39;49m\u001b[43mcall_preflattened\u001b[49m\u001b[43m(\u001b[49m\u001b[43margs\u001b[49m\u001b[43m)\u001b[49m\n\u001b[1;32m   1324\u001b[0m forward_backward \u001b[38;5;241m=\u001b[39m \u001b[38;5;28mself\u001b[39m\u001b[38;5;241m.\u001b[39m_select_forward_and_backward_functions(\n\u001b[1;32m   1325\u001b[0m     args,\n\u001b[1;32m   1326\u001b[0m     possible_gradient_type,\n\u001b[1;32m   1327\u001b[0m     executing_eagerly)\n\u001b[1;32m   1328\u001b[0m forward_function, args_with_tangents \u001b[38;5;241m=\u001b[39m forward_backward\u001b[38;5;241m.\u001b[39mforward()\n",
      "File \u001b[0;32m~/.conda/envs/research/lib/python3.11/site-packages/tensorflow/python/eager/polymorphic_function/atomic_function.py:216\u001b[0m, in \u001b[0;36mAtomicFunction.call_preflattened\u001b[0;34m(self, args)\u001b[0m\n\u001b[1;32m    214\u001b[0m \u001b[38;5;28;01mdef\u001b[39;00m \u001b[38;5;21mcall_preflattened\u001b[39m(\u001b[38;5;28mself\u001b[39m, args: Sequence[core\u001b[38;5;241m.\u001b[39mTensor]) \u001b[38;5;241m-\u001b[39m\u001b[38;5;241m>\u001b[39m Any:\n\u001b[1;32m    215\u001b[0m \u001b[38;5;250m  \u001b[39m\u001b[38;5;124;03m\"\"\"Calls with flattened tensor inputs and returns the structured output.\"\"\"\u001b[39;00m\n\u001b[0;32m--> 216\u001b[0m   flat_outputs \u001b[38;5;241m=\u001b[39m \u001b[38;5;28;43mself\u001b[39;49m\u001b[38;5;241;43m.\u001b[39;49m\u001b[43mcall_flat\u001b[49m\u001b[43m(\u001b[49m\u001b[38;5;241;43m*\u001b[39;49m\u001b[43margs\u001b[49m\u001b[43m)\u001b[49m\n\u001b[1;32m    217\u001b[0m   \u001b[38;5;28;01mreturn\u001b[39;00m \u001b[38;5;28mself\u001b[39m\u001b[38;5;241m.\u001b[39mfunction_type\u001b[38;5;241m.\u001b[39mpack_output(flat_outputs)\n",
      "File \u001b[0;32m~/.conda/envs/research/lib/python3.11/site-packages/tensorflow/python/eager/polymorphic_function/atomic_function.py:251\u001b[0m, in \u001b[0;36mAtomicFunction.call_flat\u001b[0;34m(self, *args)\u001b[0m\n\u001b[1;32m    249\u001b[0m \u001b[38;5;28;01mwith\u001b[39;00m record\u001b[38;5;241m.\u001b[39mstop_recording():\n\u001b[1;32m    250\u001b[0m   \u001b[38;5;28;01mif\u001b[39;00m \u001b[38;5;28mself\u001b[39m\u001b[38;5;241m.\u001b[39m_bound_context\u001b[38;5;241m.\u001b[39mexecuting_eagerly():\n\u001b[0;32m--> 251\u001b[0m     outputs \u001b[38;5;241m=\u001b[39m \u001b[38;5;28;43mself\u001b[39;49m\u001b[38;5;241;43m.\u001b[39;49m\u001b[43m_bound_context\u001b[49m\u001b[38;5;241;43m.\u001b[39;49m\u001b[43mcall_function\u001b[49m\u001b[43m(\u001b[49m\n\u001b[1;32m    252\u001b[0m \u001b[43m        \u001b[49m\u001b[38;5;28;43mself\u001b[39;49m\u001b[38;5;241;43m.\u001b[39;49m\u001b[43mname\u001b[49m\u001b[43m,\u001b[49m\n\u001b[1;32m    253\u001b[0m \u001b[43m        \u001b[49m\u001b[38;5;28;43mlist\u001b[39;49m\u001b[43m(\u001b[49m\u001b[43margs\u001b[49m\u001b[43m)\u001b[49m\u001b[43m,\u001b[49m\n\u001b[1;32m    254\u001b[0m \u001b[43m        \u001b[49m\u001b[38;5;28;43mlen\u001b[39;49m\u001b[43m(\u001b[49m\u001b[38;5;28;43mself\u001b[39;49m\u001b[38;5;241;43m.\u001b[39;49m\u001b[43mfunction_type\u001b[49m\u001b[38;5;241;43m.\u001b[39;49m\u001b[43mflat_outputs\u001b[49m\u001b[43m)\u001b[49m\u001b[43m,\u001b[49m\n\u001b[1;32m    255\u001b[0m \u001b[43m    \u001b[49m\u001b[43m)\u001b[49m\n\u001b[1;32m    256\u001b[0m   \u001b[38;5;28;01melse\u001b[39;00m:\n\u001b[1;32m    257\u001b[0m     outputs \u001b[38;5;241m=\u001b[39m make_call_op_in_graph(\n\u001b[1;32m    258\u001b[0m         \u001b[38;5;28mself\u001b[39m,\n\u001b[1;32m    259\u001b[0m         \u001b[38;5;28mlist\u001b[39m(args),\n\u001b[1;32m    260\u001b[0m         \u001b[38;5;28mself\u001b[39m\u001b[38;5;241m.\u001b[39m_bound_context\u001b[38;5;241m.\u001b[39mfunction_call_options\u001b[38;5;241m.\u001b[39mas_attrs(),\n\u001b[1;32m    261\u001b[0m     )\n",
      "File \u001b[0;32m~/.conda/envs/research/lib/python3.11/site-packages/tensorflow/python/eager/context.py:1486\u001b[0m, in \u001b[0;36mContext.call_function\u001b[0;34m(self, name, tensor_inputs, num_outputs)\u001b[0m\n\u001b[1;32m   1484\u001b[0m cancellation_context \u001b[38;5;241m=\u001b[39m cancellation\u001b[38;5;241m.\u001b[39mcontext()\n\u001b[1;32m   1485\u001b[0m \u001b[38;5;28;01mif\u001b[39;00m cancellation_context \u001b[38;5;129;01mis\u001b[39;00m \u001b[38;5;28;01mNone\u001b[39;00m:\n\u001b[0;32m-> 1486\u001b[0m   outputs \u001b[38;5;241m=\u001b[39m \u001b[43mexecute\u001b[49m\u001b[38;5;241;43m.\u001b[39;49m\u001b[43mexecute\u001b[49m\u001b[43m(\u001b[49m\n\u001b[1;32m   1487\u001b[0m \u001b[43m      \u001b[49m\u001b[43mname\u001b[49m\u001b[38;5;241;43m.\u001b[39;49m\u001b[43mdecode\u001b[49m\u001b[43m(\u001b[49m\u001b[38;5;124;43m\"\u001b[39;49m\u001b[38;5;124;43mutf-8\u001b[39;49m\u001b[38;5;124;43m\"\u001b[39;49m\u001b[43m)\u001b[49m\u001b[43m,\u001b[49m\n\u001b[1;32m   1488\u001b[0m \u001b[43m      \u001b[49m\u001b[43mnum_outputs\u001b[49m\u001b[38;5;241;43m=\u001b[39;49m\u001b[43mnum_outputs\u001b[49m\u001b[43m,\u001b[49m\n\u001b[1;32m   1489\u001b[0m \u001b[43m      \u001b[49m\u001b[43minputs\u001b[49m\u001b[38;5;241;43m=\u001b[39;49m\u001b[43mtensor_inputs\u001b[49m\u001b[43m,\u001b[49m\n\u001b[1;32m   1490\u001b[0m \u001b[43m      \u001b[49m\u001b[43mattrs\u001b[49m\u001b[38;5;241;43m=\u001b[39;49m\u001b[43mattrs\u001b[49m\u001b[43m,\u001b[49m\n\u001b[1;32m   1491\u001b[0m \u001b[43m      \u001b[49m\u001b[43mctx\u001b[49m\u001b[38;5;241;43m=\u001b[39;49m\u001b[38;5;28;43mself\u001b[39;49m\u001b[43m,\u001b[49m\n\u001b[1;32m   1492\u001b[0m \u001b[43m  \u001b[49m\u001b[43m)\u001b[49m\n\u001b[1;32m   1493\u001b[0m \u001b[38;5;28;01melse\u001b[39;00m:\n\u001b[1;32m   1494\u001b[0m   outputs \u001b[38;5;241m=\u001b[39m execute\u001b[38;5;241m.\u001b[39mexecute_with_cancellation(\n\u001b[1;32m   1495\u001b[0m       name\u001b[38;5;241m.\u001b[39mdecode(\u001b[38;5;124m\"\u001b[39m\u001b[38;5;124mutf-8\u001b[39m\u001b[38;5;124m\"\u001b[39m),\n\u001b[1;32m   1496\u001b[0m       num_outputs\u001b[38;5;241m=\u001b[39mnum_outputs,\n\u001b[0;32m   (...)\u001b[0m\n\u001b[1;32m   1500\u001b[0m       cancellation_manager\u001b[38;5;241m=\u001b[39mcancellation_context,\n\u001b[1;32m   1501\u001b[0m   )\n",
      "File \u001b[0;32m~/.conda/envs/research/lib/python3.11/site-packages/tensorflow/python/eager/execute.py:53\u001b[0m, in \u001b[0;36mquick_execute\u001b[0;34m(op_name, num_outputs, inputs, attrs, ctx, name)\u001b[0m\n\u001b[1;32m     51\u001b[0m \u001b[38;5;28;01mtry\u001b[39;00m:\n\u001b[1;32m     52\u001b[0m   ctx\u001b[38;5;241m.\u001b[39mensure_initialized()\n\u001b[0;32m---> 53\u001b[0m   tensors \u001b[38;5;241m=\u001b[39m \u001b[43mpywrap_tfe\u001b[49m\u001b[38;5;241;43m.\u001b[39;49m\u001b[43mTFE_Py_Execute\u001b[49m\u001b[43m(\u001b[49m\u001b[43mctx\u001b[49m\u001b[38;5;241;43m.\u001b[39;49m\u001b[43m_handle\u001b[49m\u001b[43m,\u001b[49m\u001b[43m \u001b[49m\u001b[43mdevice_name\u001b[49m\u001b[43m,\u001b[49m\u001b[43m \u001b[49m\u001b[43mop_name\u001b[49m\u001b[43m,\u001b[49m\n\u001b[1;32m     54\u001b[0m \u001b[43m                                      \u001b[49m\u001b[43minputs\u001b[49m\u001b[43m,\u001b[49m\u001b[43m \u001b[49m\u001b[43mattrs\u001b[49m\u001b[43m,\u001b[49m\u001b[43m \u001b[49m\u001b[43mnum_outputs\u001b[49m\u001b[43m)\u001b[49m\n\u001b[1;32m     55\u001b[0m \u001b[38;5;28;01mexcept\u001b[39;00m core\u001b[38;5;241m.\u001b[39m_NotOkStatusException \u001b[38;5;28;01mas\u001b[39;00m e:\n\u001b[1;32m     56\u001b[0m   \u001b[38;5;28;01mif\u001b[39;00m name \u001b[38;5;129;01mis\u001b[39;00m \u001b[38;5;129;01mnot\u001b[39;00m \u001b[38;5;28;01mNone\u001b[39;00m:\n",
      "\u001b[0;31mKeyboardInterrupt\u001b[0m: "
     ]
    }
   ],
   "source": [
    "feature_dims = 6\n",
    "m1 = 5\n",
    "m2 = 1\n",
    "parameters = 3\n",
    "injections = 10\n",
    "m_initializations = 5\n",
    "decay = \"qq\"\n",
    "train_semiweak(feature_dims, m1, m2, parameters, injections, m_initializations, decay = decay)"
   ]
  },
  {
   "cell_type": "code",
   "execution_count": null,
   "id": "e665f8e6-89c6-42b1-ba01-426806167a8f",
   "metadata": {},
   "outputs": [],
   "source": []
  }
 ],
 "metadata": {
  "kernelspec": {
   "display_name": "gupEnviornment",
   "language": "python",
   "name": "research"
  },
  "language_info": {
   "codemirror_mode": {
    "name": "ipython",
    "version": 3
   },
   "file_extension": ".py",
   "mimetype": "text/x-python",
   "name": "python",
   "nbconvert_exporter": "python",
   "pygments_lexer": "ipython3",
   "version": "3.11.7"
  }
 },
 "nbformat": 4,
 "nbformat_minor": 5
}
