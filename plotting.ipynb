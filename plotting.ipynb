{
 "cells": [
  {
   "cell_type": "code",
   "execution_count": 2,
   "id": "cfbd7d22-ec31-4bff-a1cd-a9a437b025aa",
   "metadata": {
    "tags": []
   },
   "outputs": [],
   "source": [
    "import numpy as np\n",
    "import matplotlib.pyplot as plt\n",
    "\n",
    "from IPython.display import display, clear_output\n",
    "from PIL import Image, ImageSequence\n",
    "import os\n",
    "\n",
    "import seaborn as sea\n",
    "from scipy.interpolate import griddata\n",
    "from scipy.interpolate import RectBivariateSpline\n",
    "from mpl_toolkits.mplot3d import Axes3D\n",
    "\n",
    "sea.set(style=\"white\")"
   ]
  },
  {
   "cell_type": "code",
   "execution_count": 6,
   "id": "9ab96459-7140-4125-9d6c-bc558fd38a86",
   "metadata": {
    "tags": []
   },
   "outputs": [],
   "source": [
    "import pickle\n",
    "with open('max_sics25loopstructure5.pkl', 'rb') as f:\n",
    "    loaded_max_sics = pickle.load(f)\n",
    "\n",
    "m1, m2 = 2, 5\n",
    "msic1_runs = loaded_max_sics[(\"SWS\", 6, 3, m1, m2)]\n",
    "msic2_runs = loaded_max_sics[(\"WS\", 6,3, m1, m2)]\n",
    "msic3_runs = loaded_max_sics[(\"FS\", 6, 3, m1, m2)]\n",
    "msic4_runs = loaded_max_sics[(\"FP\", 6, 3, m1, m2)]\n",
    "\n",
    "avgmsic1 = np.median(msic1_runs, axis = 1)\n",
    "avgmsic2 = np.median(msic2_runs, axis = 1)\n",
    "avgmsic3 = np.median(msic3_runs, axis = 1)\n",
    "avgmsic4 = np.median(msic4_runs, axis = 1)\n",
    "\n",
    "sig_space = np.logspace(-3, -1, 20)\n",
    "\n",
    "msicstds1 = np.std(msic1_runs, axis = 1)\n",
    "msicstds2 = np.std(msic2_runs, axis = 1)\n",
    "msicstds3 = np.std(msic3_runs, axis = 1)\n",
    "msicstds4 = np.std(msic4_runs, axis = 1)\n",
    "\n",
    "#sea.reset_orig()\n",
    "plt.figure()\n",
    "sea.set(style=\"white\")\n",
    "plt.plot(sig_space, avgmsic1, marker = \"x\", label='Semi Weakly', color='orange')\n",
    "plt.plot(sig_space, avgmsic2, marker = \"x\", label='Weakly', color='blue')\n",
    "plt.plot(sig_space, avgmsic3, marker = \"x\", label='Fully Supervised', color='green', alpha = 0.3)\n",
    "#plt.plot(sig_space, avgmsic4, marker = \"x\", label='Parametrized', color='red', alpha = 0.3)\n",
    "\n",
    "#plt.fill_between(sig_space, avgmsic1 - msicstds1, avgmsic1 + msicstds1, color='orange', alpha=0.3, hatch = \"//\")\n",
    "#plt.fill_between(sig_space, avgmsic2 - msicstds2, avgmsic2 + msicstds2, color='blue', alpha=0.3, hatch = \"//\")\n",
    "plt.fill_between(sig_space, avgmsic3 - msicstds3, avgmsic3 + msicstds3, color='green', alpha=0.3, hatch = \"//\")\n",
    "#plt.fill_between(sig_space, avgmsic4 - msicstds4, avgmsic4 + msicstds4, color='green', alpha=0.3, hatch = \"//\")\n",
    "\n",
    "sea.set(style=\"white\")\n",
    "plt.xlabel(r'$\\frac{S}{B}$')\n",
    "plt.ylabel('Maximum Significance Improvement')\n",
    "plt.title(f'6 Feature m1: {m1} m2: {m2} | Randomized Weight Initialization Bug (5 Runs)')\n",
    "plt.xscale(\"log\")\n",
    "plt.legend(loc=\"lower right\",frameon=False)\n",
    "plt.gca().spines['left'].set_linewidth(0.5)\n",
    "plt.gca().spines['bottom'].set_linewidth(0.5)\n",
    "plt.gca().spines['top'].set_linewidth(0.5)\n",
    "plt.gca().spines['right'].set_linewidth(0.5)\n",
    "plt.tick_params(axis='both', which='both', direction='in', top=True, right=True)\n",
    "plt.tick_params(axis='both', which='both', direction='in', bottom=True, left=True)\n",
    "#plt.savefig('maxsicplot2.png', dpi=450, bbox_inches='tight')\n",
    "plt.show()"
   ]
  },
  {
   "cell_type": "code",
   "execution_count": null,
   "id": "cb0b27be-aed2-4772-bab9-8a8b6a84f530",
   "metadata": {},
   "outputs": [],
   "source": [
    "ww_runs = np.load(\"6paramweights3.55.5Perturb.npy\")\n",
    "signal_fraction_values = np.logspace(-3, -1, 20)\n",
    "avgww = np.median(ww_runs, axis = 0)\n",
    "\n",
    "fittedw = avgww\n",
    "fittedwstd = np.std(ww_runs, axis = 0)\n",
    "\n",
    "plt.plot(signal_fraction_values, fittedw, marker = \"x\", label='Semi Weakly', color='orange')\n",
    "plt.plot(sig_list, sig_list, marker = \"\", label='S/B', color='black')\n",
    "\n",
    "plt.fill_between(signal_fraction_values, fittedw - fittedwstd, fittedw + fittedwstd, color='orange', alpha=0.3, hatch = \"//\")\n",
    "\n",
    "plt.xlabel(r'$\\frac{S}{B}$')\n",
    "\n",
    "plt.ylabel(r'Fitted $\\frac{S}{B}$')\n",
    "plt.title(f'6 Features 3 Parameters Fitted m1: {3.5} m2: {5.5} | w1: {2} w2: {5}')\n",
    "plt.yscale(\"log\")\n",
    "plt.xscale(\"log\")\n",
    "plt.gca().spines['left'].set_linewidth(0.5)\n",
    "plt.gca().spines['bottom'].set_linewidth(0.5)\n",
    "plt.gca().spines['top'].set_linewidth(0.5)\n",
    "plt.gca().spines['right'].set_linewidth(0.5)\n",
    "plt.tick_params(axis='both', which='both', direction='in', top=True, right=True)\n",
    "plt.tick_params(axis='both', which='both', direction='in', bottom=True, left=True)\n",
    "plt.legend(loc=\"lower right\",frameon=False)\n",
    "plt.savefig('plot.png', dpi=450, bbox_inches='tight')\n",
    "plt.show()"
   ]
  },
  {
   "cell_type": "code",
   "execution_count": null,
   "id": "4e6525db-56c8-4422-825d-b4d9acd5c3c3",
   "metadata": {},
   "outputs": [],
   "source": [
    "stds = (np.quantile(msic1_runs, 0.16), (np.quantile(msic1_runs, 0.84)))\n",
    "stds"
   ]
  }
 ],
 "metadata": {
  "kernelspec": {
   "display_name": "NERSC Python",
   "language": "python",
   "name": "python3"
  },
  "language_info": {
   "codemirror_mode": {
    "name": "ipython",
    "version": 3
   },
   "file_extension": ".py",
   "mimetype": "text/x-python",
   "name": "python",
   "nbconvert_exporter": "python",
   "pygments_lexer": "ipython3",
   "version": "3.11.7"
  }
 },
 "nbformat": 4,
 "nbformat_minor": 5
}
